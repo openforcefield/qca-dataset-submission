{
 "cells": [
  {
   "cell_type": "markdown",
   "id": "e231b674",
   "metadata": {},
   "source": [
    "# Basic Handling of QCFractal Dataset Views for Force Field Fitting\n",
    "\n",
    "In this notebook we show examples of how the views can be interacted with. Using the provided docker image, feel free to browse the data.\n",
    "\n",
    "## Import packages"
   ]
  },
  {
   "cell_type": "code",
   "execution_count": null,
   "id": "abb55e70",
   "metadata": {},
   "outputs": [],
   "source": [
    "from pprint import pprint\n",
    "\n",
    "import numpy as np\n",
    "from qcportal import load_dataset_view\n",
    "from qcportal.serialization import encode_to_json\n",
    "from openff.units import unit\n",
    "from openff.toolkit import Molecule\n",
    "from forcebalance.molecule import Molecule as FBMolecule"
   ]
  },
  {
   "cell_type": "code",
   "execution_count": null,
   "id": "8a43ad83",
   "metadata": {},
   "outputs": [],
   "source": [
    "filename_opt_dsv = \"views/OpenFF-Industry-Benchmark-Season-1-v1.2_optimization_view.sqlite\""
   ]
  },
  {
   "cell_type": "markdown",
   "id": "bef9ecba",
   "metadata": {},
   "source": [
    "## Optimization Dataset"
   ]
  },
  {
   "cell_type": "code",
   "execution_count": null,
   "id": "40efd1fc",
   "metadata": {},
   "outputs": [],
   "source": [
    "dsv_opt = load_dataset_view(filename_opt_dsv)\n",
    "\n",
    "all_entries = list(dsv_opt.iterate_entries())\n",
    "name_to_entry = {\n",
    "    entry.name: entry\n",
    "    for entry in all_entries\n",
    "}"
   ]
  },
  {
   "cell_type": "code",
   "execution_count": null,
   "id": "0665f006",
   "metadata": {},
   "outputs": [],
   "source": [
    "for name, spec_name, record in dsv_opt.iterate_records():\n",
    "    try:\n",
    "        mapped_smiles = name_to_entry[name].attributes[\"canonical_isomeric_explicit_hydrogen_mapped_smiles\"]\n",
    "    except KeyError:\n",
    "        try:\n",
    "            mapped_smiles = name_to_entry[name].initial_molecule.extras[\"canonical_isomeric_explicit_hydrogen_mapped_smiles\"]\n",
    "        except KeyError:\n",
    "            raise KeyError(\"canonical_isomeric_explicit_hydrogen_mapped_smiles\")\n",
    "    geometry_au = record.final_molecule.geometry\n",
    "\n",
    "    molecule = Molecule.from_mapped_smiles(mapped_smiles, allow_undefined_stereo=True)\n",
    "    molecule.add_conformer(\n",
    "        np.array(geometry_au) * unit.bohr\n",
    "    )\n",
    "    # Files used in ForceBalance -- name uniquely for different targets\n",
    "    molecule.to_file(\"outputs/mol.pdb\", \"PDB\")\n",
    "    molecule.to_file(\"outputs/mol.xyz\", \"XYZ\")\n",
    "    molecule.to_file(\"outputs/mol.sdf\", \"SDF\")\n",
    "\n",
    "    # Alternatively, using QCElemental\n",
    "    xyz_str = record.final_molecule.to_string(\"xyz\")\n",
    "    open(\"outputs/qce_mol.xyz\", \"w\").write(xyz_str)\n",
    "\n",
    "    # Alternatively, using ForceBalance\n",
    "    fb_molecule = FBMolecule()\n",
    "    fb_molecule.Data = {\n",
    "        \"resname\": [\"UNK\"] * molecule.n_atoms,\n",
    "        \"resid\": [0] * molecule.n_atoms,\n",
    "        \"elem\": [atom.symbol for atom in molecule.atoms],\n",
    "        \"bonds\": [\n",
    "            (bond.atom1_index, bond.atom2_index) for bond in molecule.bonds\n",
    "        ],\n",
    "        \"name\": f\"{record.id}\",\n",
    "        \"xyzs\": [molecule.conformers[0].m_as(unit.angstrom)],\n",
    "    }\n",
    "    fb_molecule.write(\"outputs/mol.pdb\")"
   ]
  },
  {
   "cell_type": "markdown",
   "id": "c9aeed22",
   "metadata": {},
   "source": [
    "## Pulling Energies / Geometries from Dataset View"
   ]
  },
  {
   "cell_type": "code",
   "execution_count": null,
   "id": "dcc7154a",
   "metadata": {},
   "outputs": [],
   "source": [
    "entry_name, spec_name, record = next(dsv_opt.iterate_records())\n",
    "\n",
    "print(f\"The final energy of this record is: {record.energies[-1]}\")\n",
    "print(f\"The final geometry of this record is:\\n{record.final_molecule.geometry}\")"
   ]
  },
  {
   "cell_type": "code",
   "execution_count": null,
   "id": "c0777a4c",
   "metadata": {},
   "outputs": [],
   "source": [
    "# Create dictionary of output\n",
    "rec_dict = encode_to_json(record)\n",
    "pprint(rec_dict)"
   ]
  }
 ],
 "metadata": {
  "kernelspec": {
   "display_name": "qca",
   "language": "python",
   "name": "python3"
  },
  "language_info": {
   "codemirror_mode": {
    "name": "ipython",
    "version": 3
   },
   "file_extension": ".py",
   "mimetype": "text/x-python",
   "name": "python",
   "nbconvert_exporter": "python",
   "pygments_lexer": "ipython3",
   "version": "3.11.12"
  }
 },
 "nbformat": 4,
 "nbformat_minor": 5
}
