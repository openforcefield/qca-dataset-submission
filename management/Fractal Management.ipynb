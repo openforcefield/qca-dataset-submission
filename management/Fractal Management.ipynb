{
 "cells": [
  {
   "cell_type": "code",
   "execution_count": 1,
   "metadata": {},
   "outputs": [],
   "source": [
    "import qcportal as ptl\n",
    "import pandas as pd\n",
    "import datetime\n",
    "import time"
   ]
  },
  {
   "cell_type": "code",
   "execution_count": 1,
   "metadata": {},
   "outputs": [],
   "source": [
    "# connect without auth\n",
    "# read only\n",
    "client = ptl.FractalClient()"
   ]
  },
  {
   "cell_type": "code",
   "execution_count": 2,
   "metadata": {},
   "outputs": [],
   "source": [
    "# connect with authentication, therefore write access\n",
    "# don't use unless you plan to submit things\n",
    "client = ptl.FractalClient.from_file()"
   ]
  },
  {
   "cell_type": "code",
   "execution_count": 3,
   "metadata": {},
   "outputs": [
    {
     "data": {
      "text/html": [
       "\n",
       "<h3>FractalClient</h3>\n",
       "<ul>\n",
       "  <li><b>Server:   &nbsp; </b>The MolSSI QCArchive Server</li>\n",
       "  <li><b>Address:  &nbsp; </b>https://api.qcarchive.molssi.org:443/</li>\n",
       "  <li><b>Username: &nbsp; </b>ddotson</li>\n",
       "</ul>\n"
      ],
      "text/plain": [
       "FractalClient(server_name='The MolSSI QCArchive Server', address='https://api.qcarchive.molssi.org:443/', username='ddotson')"
      ]
     },
     "execution_count": 3,
     "metadata": {},
     "output_type": "execute_result"
    }
   ],
   "source": [
    "client"
   ]
  },
  {
   "cell_type": "markdown",
   "metadata": {},
   "source": [
    "## Dataset Tracking"
   ]
  },
  {
   "cell_type": "markdown",
   "metadata": {},
   "source": [
    "### OpenFF Fragmenter Validation 1.0"
   ]
  },
  {
   "cell_type": "code",
   "execution_count": 4,
   "metadata": {},
   "outputs": [],
   "source": [
    "ds = client.get_collection(\"TorsionDriveDataset\", \"OpenFF Fragmenter Validation 1.0\")"
   ]
  },
  {
   "cell_type": "code",
   "execution_count": 5,
   "metadata": {},
   "outputs": [
    {
     "data": {
      "text/html": [
       "<div>\n",
       "<style scoped>\n",
       "    .dataframe tbody tr th:only-of-type {\n",
       "        vertical-align: middle;\n",
       "    }\n",
       "\n",
       "    .dataframe tbody tr th {\n",
       "        vertical-align: top;\n",
       "    }\n",
       "\n",
       "    .dataframe thead th {\n",
       "        text-align: right;\n",
       "    }\n",
       "</style>\n",
       "<table border=\"1\" class=\"dataframe\">\n",
       "  <thead>\n",
       "    <tr style=\"text-align: right;\">\n",
       "      <th></th>\n",
       "      <th>Description</th>\n",
       "    </tr>\n",
       "    <tr>\n",
       "      <th>Name</th>\n",
       "      <th></th>\n",
       "    </tr>\n",
       "  </thead>\n",
       "  <tbody>\n",
       "    <tr>\n",
       "      <th>default</th>\n",
       "      <td>Standard OpenFF torsiondrive specification.</td>\n",
       "    </tr>\n",
       "    <tr>\n",
       "      <th>B3LYP-d3bj/aug-cc-pvdz</th>\n",
       "      <td>OpenFF model B3LYP-d3bj/aug-cc-pvdz TorsionDri...</td>\n",
       "    </tr>\n",
       "    <tr>\n",
       "      <th>B3LYP-d3bj/aug-cc-pvtz</th>\n",
       "      <td>OpenFF model B3LYP-d3bj/aug-cc-pvtz TorsionDri...</td>\n",
       "    </tr>\n",
       "    <tr>\n",
       "      <th>B3LYP-d3bj/def2-tzvppd</th>\n",
       "      <td>OpenFF model B3LYP-d3bj/def2-tzvppd TorsionDri...</td>\n",
       "    </tr>\n",
       "    <tr>\n",
       "      <th>BLYP-d3bj/dzvp</th>\n",
       "      <td>OpenFF model BLYP-d3bj/dzvp TorsionDrive explo...</td>\n",
       "    </tr>\n",
       "    <tr>\n",
       "      <th>BLYP-d3bj/aug-cc-pvdz</th>\n",
       "      <td>OpenFF model BLYP-d3bj/aug-cc-pvdz TorsionDriv...</td>\n",
       "    </tr>\n",
       "    <tr>\n",
       "      <th>BLYP-d3bj/aug-cc-pvtz</th>\n",
       "      <td>OpenFF model BLYP-d3bj/aug-cc-pvtz TorsionDriv...</td>\n",
       "    </tr>\n",
       "    <tr>\n",
       "      <th>BLYP-d3bj/def2-tzvppd</th>\n",
       "      <td>OpenFF model BLYP-d3bj/def2-tzvppd TorsionDriv...</td>\n",
       "    </tr>\n",
       "    <tr>\n",
       "      <th>LRC-WPBEH/dzvp</th>\n",
       "      <td>OpenFF model LRC-WPBEH/dzvp TorsionDrive explo...</td>\n",
       "    </tr>\n",
       "    <tr>\n",
       "      <th>LRC-WPBEH/aug-cc-pvdz</th>\n",
       "      <td>OpenFF model LRC-WPBEH/aug-cc-pvdz TorsionDriv...</td>\n",
       "    </tr>\n",
       "    <tr>\n",
       "      <th>LRC-WPBEH/aug-cc-pvtz</th>\n",
       "      <td>OpenFF model LRC-WPBEH/aug-cc-pvtz TorsionDriv...</td>\n",
       "    </tr>\n",
       "    <tr>\n",
       "      <th>LRC-WPBEH/def2-tzvppd</th>\n",
       "      <td>OpenFF model LRC-WPBEH/def2-tzvppd TorsionDriv...</td>\n",
       "    </tr>\n",
       "    <tr>\n",
       "      <th>MN15-d3bJ/dzvp</th>\n",
       "      <td>OpenFF model MN15-d3bJ/dzvp TorsionDrive explo...</td>\n",
       "    </tr>\n",
       "    <tr>\n",
       "      <th>MN15-d3bJ/aug-cc-pvdz</th>\n",
       "      <td>OpenFF model MN15-d3bJ/aug-cc-pvdz TorsionDriv...</td>\n",
       "    </tr>\n",
       "    <tr>\n",
       "      <th>MN15-d3bJ/aug-cc-pvtz</th>\n",
       "      <td>OpenFF model MN15-d3bJ/aug-cc-pvtz TorsionDriv...</td>\n",
       "    </tr>\n",
       "    <tr>\n",
       "      <th>MN15-d3bJ/def2-tzvppd</th>\n",
       "      <td>OpenFF model MN15-d3bJ/def2-tzvppd TorsionDriv...</td>\n",
       "    </tr>\n",
       "    <tr>\n",
       "      <th>TPSSH-d3bJ/dzvp</th>\n",
       "      <td>OpenFF model TPSSH-d3bJ/dzvp TorsionDrive expl...</td>\n",
       "    </tr>\n",
       "    <tr>\n",
       "      <th>TPSSH-d3bJ/aug-cc-pvdz</th>\n",
       "      <td>OpenFF model TPSSH-d3bJ/aug-cc-pvdz TorsionDri...</td>\n",
       "    </tr>\n",
       "    <tr>\n",
       "      <th>TPSSH-d3bJ/aug-cc-pvtz</th>\n",
       "      <td>OpenFF model TPSSH-d3bJ/aug-cc-pvtz TorsionDri...</td>\n",
       "    </tr>\n",
       "    <tr>\n",
       "      <th>TPSSH-d3bJ/def2-tzvppd</th>\n",
       "      <td>OpenFF model TPSSH-d3bJ/def2-tzvppd TorsionDri...</td>\n",
       "    </tr>\n",
       "  </tbody>\n",
       "</table>\n",
       "</div>"
      ],
      "text/plain": [
       "                                                              Description\n",
       "Name                                                                     \n",
       "default                       Standard OpenFF torsiondrive specification.\n",
       "B3LYP-d3bj/aug-cc-pvdz  OpenFF model B3LYP-d3bj/aug-cc-pvdz TorsionDri...\n",
       "B3LYP-d3bj/aug-cc-pvtz  OpenFF model B3LYP-d3bj/aug-cc-pvtz TorsionDri...\n",
       "B3LYP-d3bj/def2-tzvppd  OpenFF model B3LYP-d3bj/def2-tzvppd TorsionDri...\n",
       "BLYP-d3bj/dzvp          OpenFF model BLYP-d3bj/dzvp TorsionDrive explo...\n",
       "BLYP-d3bj/aug-cc-pvdz   OpenFF model BLYP-d3bj/aug-cc-pvdz TorsionDriv...\n",
       "BLYP-d3bj/aug-cc-pvtz   OpenFF model BLYP-d3bj/aug-cc-pvtz TorsionDriv...\n",
       "BLYP-d3bj/def2-tzvppd   OpenFF model BLYP-d3bj/def2-tzvppd TorsionDriv...\n",
       "LRC-WPBEH/dzvp          OpenFF model LRC-WPBEH/dzvp TorsionDrive explo...\n",
       "LRC-WPBEH/aug-cc-pvdz   OpenFF model LRC-WPBEH/aug-cc-pvdz TorsionDriv...\n",
       "LRC-WPBEH/aug-cc-pvtz   OpenFF model LRC-WPBEH/aug-cc-pvtz TorsionDriv...\n",
       "LRC-WPBEH/def2-tzvppd   OpenFF model LRC-WPBEH/def2-tzvppd TorsionDriv...\n",
       "MN15-d3bJ/dzvp          OpenFF model MN15-d3bJ/dzvp TorsionDrive explo...\n",
       "MN15-d3bJ/aug-cc-pvdz   OpenFF model MN15-d3bJ/aug-cc-pvdz TorsionDriv...\n",
       "MN15-d3bJ/aug-cc-pvtz   OpenFF model MN15-d3bJ/aug-cc-pvtz TorsionDriv...\n",
       "MN15-d3bJ/def2-tzvppd   OpenFF model MN15-d3bJ/def2-tzvppd TorsionDriv...\n",
       "TPSSH-d3bJ/dzvp         OpenFF model TPSSH-d3bJ/dzvp TorsionDrive expl...\n",
       "TPSSH-d3bJ/aug-cc-pvdz  OpenFF model TPSSH-d3bJ/aug-cc-pvdz TorsionDri...\n",
       "TPSSH-d3bJ/aug-cc-pvtz  OpenFF model TPSSH-d3bJ/aug-cc-pvtz TorsionDri...\n",
       "TPSSH-d3bJ/def2-tzvppd  OpenFF model TPSSH-d3bJ/def2-tzvppd TorsionDri..."
      ]
     },
     "execution_count": 5,
     "metadata": {},
     "output_type": "execute_result"
    }
   ],
   "source": [
    "ds.list_specifications()"
   ]
  },
  {
   "cell_type": "markdown",
   "metadata": {},
   "source": [
    "'default' always means 'b3lyp-d3bj' for us."
   ]
  },
  {
   "cell_type": "code",
   "execution_count": 45,
   "metadata": {},
   "outputs": [
    {
     "data": {
      "text/html": [
       "<div>\n",
       "<style scoped>\n",
       "    .dataframe tbody tr th:only-of-type {\n",
       "        vertical-align: middle;\n",
       "    }\n",
       "\n",
       "    .dataframe tbody tr th {\n",
       "        vertical-align: top;\n",
       "    }\n",
       "\n",
       "    .dataframe thead th {\n",
       "        text-align: right;\n",
       "    }\n",
       "</style>\n",
       "<table border=\"1\" class=\"dataframe\">\n",
       "  <thead>\n",
       "    <tr style=\"text-align: right;\">\n",
       "      <th></th>\n",
       "      <th>B3LYP-d3bj/aug-cc-pvtz</th>\n",
       "    </tr>\n",
       "  </thead>\n",
       "  <tbody>\n",
       "    <tr>\n",
       "      <th>ERROR</th>\n",
       "      <td>18</td>\n",
       "    </tr>\n",
       "    <tr>\n",
       "      <th>COMPLETE</th>\n",
       "      <td>3</td>\n",
       "    </tr>\n",
       "    <tr>\n",
       "      <th>RUNNING</th>\n",
       "      <td>1</td>\n",
       "    </tr>\n",
       "  </tbody>\n",
       "</table>\n",
       "</div>"
      ],
      "text/plain": [
       "          B3LYP-d3bj/aug-cc-pvtz\n",
       "ERROR                         18\n",
       "COMPLETE                       3\n",
       "RUNNING                        1"
      ]
     },
     "execution_count": 45,
     "metadata": {},
     "output_type": "execute_result"
    }
   ],
   "source": [
    "ds.status('B3LYP-d3bj/aug-cc-pvtz')"
   ]
  },
  {
   "cell_type": "code",
   "execution_count": 7,
   "metadata": {},
   "outputs": [
    {
     "data": {
      "text/html": [
       "<div>\n",
       "<style scoped>\n",
       "    .dataframe tbody tr th:only-of-type {\n",
       "        vertical-align: middle;\n",
       "    }\n",
       "\n",
       "    .dataframe tbody tr th {\n",
       "        vertical-align: top;\n",
       "    }\n",
       "\n",
       "    .dataframe thead th {\n",
       "        text-align: right;\n",
       "    }\n",
       "</style>\n",
       "<table border=\"1\" class=\"dataframe\">\n",
       "  <thead>\n",
       "    <tr style=\"text-align: right;\">\n",
       "      <th></th>\n",
       "      <th>default</th>\n",
       "    </tr>\n",
       "  </thead>\n",
       "  <tbody>\n",
       "    <tr>\n",
       "      <th>COMPLETE</th>\n",
       "      <td>16</td>\n",
       "    </tr>\n",
       "    <tr>\n",
       "      <th>ERROR</th>\n",
       "      <td>3</td>\n",
       "    </tr>\n",
       "    <tr>\n",
       "      <th>RUNNING</th>\n",
       "      <td>3</td>\n",
       "    </tr>\n",
       "  </tbody>\n",
       "</table>\n",
       "</div>"
      ],
      "text/plain": [
       "          default\n",
       "COMPLETE       16\n",
       "ERROR           3\n",
       "RUNNING         3"
      ]
     },
     "execution_count": 7,
     "metadata": {},
     "output_type": "execute_result"
    }
   ],
   "source": [
    "ds.status(\"default\")"
   ]
  },
  {
   "cell_type": "code",
   "execution_count": 60,
   "metadata": {},
   "outputs": [],
   "source": [
    "dataset_torsiondrives = {key: value.object_map for key, value in ds.data.records.items()}#list(ds.data.records.values())[0].object_map"
   ]
  },
  {
   "cell_type": "code",
   "execution_count": 70,
   "metadata": {},
   "outputs": [],
   "source": [
    "ids = set()\n",
    "for val in dataset_torsiondrives.values():\n",
    "    ids.update(set(val.values()))"
   ]
  },
  {
   "cell_type": "code",
   "execution_count": 72,
   "metadata": {},
   "outputs": [
    {
     "data": {
      "text/plain": [
       "440"
      ]
     },
     "execution_count": 72,
     "metadata": {},
     "output_type": "execute_result"
    }
   ],
   "source": [
    "len(ids)"
   ]
  },
  {
   "cell_type": "code",
   "execution_count": 73,
   "metadata": {},
   "outputs": [],
   "source": [
    "res = client.query_procedures(ids)"
   ]
  },
  {
   "cell_type": "code",
   "execution_count": 78,
   "metadata": {
    "scrolled": true
   },
   "outputs": [
    {
     "data": {
      "text/plain": [
       "{'id': '19712153',\n",
       " 'hash_index': '6f2f9b115349695840b5c3b05c289a61e1d823df',\n",
       " 'procedure': 'torsiondrive',\n",
       " 'program': 'torsiondrive',\n",
       " 'version': 1,\n",
       " 'protocols': None,\n",
       " 'extras': {},\n",
       " 'stdout': None,\n",
       " 'stderr': None,\n",
       " 'error': None,\n",
       " 'task_id': None,\n",
       " 'manager_name': None,\n",
       " 'status': <RecordStatusEnum.complete: 'COMPLETE'>,\n",
       " 'modified_on': datetime.datetime(2020, 5, 1, 19, 25, 49, 169132),\n",
       " 'created_on': datetime.datetime(2020, 5, 1, 19, 25, 49, 169134),\n",
       " 'provenance': {'creator': 'torsiondrive',\n",
       "  'version': 'v0.9.8.1',\n",
       "  'routine': 'torsiondrive.td_api'},\n",
       " 'initial_molecule': ['13285308'],\n",
       " 'keywords': {'dihedrals': [(5, 8, 17, 19)],\n",
       "  'grid_spacing': [15],\n",
       "  'dihedral_ranges': None,\n",
       "  'energy_decrease_thresh': None,\n",
       "  'energy_upper_limit': 0.1},\n",
       " 'optimization_spec': {'program': 'geometric',\n",
       "  'keywords': {'coordsys': 'tric',\n",
       "   'enforce': 0.1,\n",
       "   'reset': True,\n",
       "   'qccnv': True,\n",
       "   'epsilon': 0}},\n",
       " 'qc_spec': {'driver': <DriverEnum.gradient: 'gradient'>,\n",
       "  'method': 'b3lyp-d3bj',\n",
       "  'basis': 'dzvp',\n",
       "  'keywords': '2',\n",
       "  'program': 'psi4'},\n",
       " 'final_energy_dict': {'[180]': -1708.5337796830363,\n",
       "  '[-165]': -1708.5341745073765,\n",
       "  '[165]': -1708.5333097702385,\n",
       "  '[-150]': -1708.5338072525299,\n",
       "  '[150]': -1708.532292745528,\n",
       "  '[-135]': -1708.5326652085946,\n",
       "  '[135]': -1708.5306534157294,\n",
       "  '[-120]': -1708.5312917738338,\n",
       "  '[120]': -1708.529035137677,\n",
       "  '[-105]': -1708.530642027425,\n",
       "  '[105]': -1708.5284028841452,\n",
       "  '[-90]': -1708.5309500412611,\n",
       "  '[90]': -1708.528739552605,\n",
       "  '[-75]': -1708.5310976204316,\n",
       "  '[75]': -1708.5289585117157,\n",
       "  '[-60]': -1708.5308286230033,\n",
       "  '[60]': -1708.5288698466732,\n",
       "  '[-45]': -1708.5302027166224,\n",
       "  '[45]': -1708.528579831715,\n",
       "  '[-30]': -1708.5293763709224,\n",
       "  '[30]': -1708.5281991670136,\n",
       "  '[-15]': -1708.528552775783,\n",
       "  '[15]': -1708.5278542180301,\n",
       "  '[0]': -1708.527912874863},\n",
       " 'optimization_history': {'[180]': ['19811042', '19860156', '19860157'],\n",
       "  '[-165]': ['19811404', '19959752'],\n",
       "  '[165]': ['19811405', '19959755'],\n",
       "  '[-150]': ['19860154', '19960695'],\n",
       "  '[150]': ['19860155', '19960698'],\n",
       "  '[-135]': ['19959753', '19963348'],\n",
       "  '[135]': ['19959754', '19963351'],\n",
       "  '[-120]': ['19960696', '20036054'],\n",
       "  '[120]': ['19960697', '20036079'],\n",
       "  '[-105]': ['19963349', '20037258'],\n",
       "  '[105]': ['19963350', '20037261'],\n",
       "  '[-90]': ['20036055', '20167419'],\n",
       "  '[90]': ['20036056', '20167422'],\n",
       "  '[-75]': ['20037259', '20169314'],\n",
       "  '[75]': ['20037260', '20169317'],\n",
       "  '[-60]': ['20167420', '20172321'],\n",
       "  '[60]': ['20167421', '20172324'],\n",
       "  '[-45]': ['20169315', '20174157'],\n",
       "  '[45]': ['20169316', '20174189'],\n",
       "  '[-30]': ['20172322', '20183103'],\n",
       "  '[30]': ['20172323', '20183106'],\n",
       "  '[-15]': ['20174158', '20183662'],\n",
       "  '[15]': ['20174159', '20183663'],\n",
       "  '[0]': ['20183104', '20183105']},\n",
       " 'minimum_positions': {'[180]': 1,\n",
       "  '[-165]': 0,\n",
       "  '[165]': 1,\n",
       "  '[-150]': 0,\n",
       "  '[150]': 1,\n",
       "  '[-135]': 1,\n",
       "  '[135]': 0,\n",
       "  '[-120]': 0,\n",
       "  '[120]': 0,\n",
       "  '[-105]': 0,\n",
       "  '[105]': 1,\n",
       "  '[-90]': 0,\n",
       "  '[90]': 0,\n",
       "  '[-75]': 0,\n",
       "  '[75]': 1,\n",
       "  '[-60]': 0,\n",
       "  '[60]': 0,\n",
       "  '[-45]': 0,\n",
       "  '[45]': 0,\n",
       "  '[-30]': 1,\n",
       "  '[30]': 0,\n",
       "  '[-15]': 0,\n",
       "  '[15]': 0,\n",
       "  '[0]': 1}}"
      ]
     },
     "execution_count": 78,
     "metadata": {},
     "output_type": "execute_result"
    }
   ],
   "source": [
    "res[0].dict()"
   ]
  },
  {
   "cell_type": "code",
   "execution_count": 81,
   "metadata": {},
   "outputs": [],
   "source": [
    "angle_optimizations = set()\n",
    "for tdr in res:\n",
    "    if tdr.status == 'COMPLETE':\n",
    "        continue\n",
    "    \n",
    "    for val in tdr.optimization_history.values():\n",
    "        angle_optimizations.update(set(val))"
   ]
  },
  {
   "cell_type": "code",
   "execution_count": 136,
   "metadata": {},
   "outputs": [
    {
     "data": {
      "text/plain": [
       "{'id': '20551205',\n",
       " 'hash_index': 'e8749dd2ab56c182ddc792f6131677f816159c14',\n",
       " 'procedure': 'torsiondrive',\n",
       " 'program': 'torsiondrive',\n",
       " 'version': 1,\n",
       " 'protocols': None,\n",
       " 'extras': {},\n",
       " 'stdout': None,\n",
       " 'stderr': None,\n",
       " 'error': None,\n",
       " 'task_id': None,\n",
       " 'manager_name': None,\n",
       " 'status': <RecordStatusEnum.error: 'ERROR'>,\n",
       " 'modified_on': datetime.datetime(2020, 5, 15, 18, 5, 13, 473407),\n",
       " 'created_on': datetime.datetime(2020, 5, 15, 18, 5, 13, 473409),\n",
       " 'provenance': {'creator': 'torsiondrive',\n",
       "  'version': 'v0.9.8.1',\n",
       "  'routine': 'torsiondrive.td_api'},\n",
       " 'initial_molecule': ['13285326'],\n",
       " 'keywords': {'dihedrals': [(9, 13, 8, 17)],\n",
       "  'grid_spacing': [15],\n",
       "  'dihedral_ranges': None,\n",
       "  'energy_decrease_thresh': None,\n",
       "  'energy_upper_limit': 0.1},\n",
       " 'optimization_spec': {'program': 'geometric',\n",
       "  'keywords': {'coordsys': 'tric',\n",
       "   'enforce': 0.1,\n",
       "   'reset': True,\n",
       "   'qccnv': True,\n",
       "   'epsilon': 0}},\n",
       " 'qc_spec': {'driver': <DriverEnum.gradient: 'gradient'>,\n",
       "  'method': 'tpssh-d3bj',\n",
       "  'basis': 'def2-tzvppd',\n",
       "  'keywords': '2',\n",
       "  'program': 'psi4'},\n",
       " 'final_energy_dict': {'[180]': -1197.0994675882719,\n",
       "  '[-165]': -1197.0994109713672,\n",
       "  '[165]': -1197.099388935332,\n",
       "  '[-150]': -1197.0992227724166,\n",
       "  '[150]': -1197.0991517212206,\n",
       "  '[-135]': -1197.098894063178,\n",
       "  '[135]': -1197.098772653328,\n",
       "  '[-120]': -1197.0984737211354,\n",
       "  '[120]': -1197.0983714969843,\n",
       "  '[-105]': -1197.0981524597635,\n",
       "  '[105]': -1197.099003416573,\n",
       "  '[-90]': -1197.0991842863368,\n",
       "  '[90]': -1197.1010475512198,\n",
       "  '[-75]': -1197.101441398446,\n",
       "  '[75]': -1197.1037669134842,\n",
       "  '[-60]': -1197.1046039864016,\n",
       "  '[60]': -1197.1068759425734,\n",
       "  '[-45]': -1197.1081527201093,\n",
       "  '[45]': -1197.1099306066417,\n",
       "  '[-30]': -1197.1113324980113,\n",
       "  '[30]': -1197.112419427337},\n",
       " 'optimization_history': {'[180]': ['20644264', '20683558', '20683559'],\n",
       "  '[-165]': ['20665203', '20725977', '20763008'],\n",
       "  '[165]': ['20665204', '20725980'],\n",
       "  '[-150]': ['20683556', '20746821'],\n",
       "  '[150]': ['20683557', '20746824'],\n",
       "  '[-135]': ['20725978', '20763009', '20763010'],\n",
       "  '[135]': ['20725979', '20763013'],\n",
       "  '[-120]': ['20746822', '20788626'],\n",
       "  '[120]': ['20746823', '20788629', '20811801'],\n",
       "  '[-105]': ['20763011', '20806252'],\n",
       "  '[105]': ['20763012', '20806255'],\n",
       "  '[-90]': ['20788627', '20811796'],\n",
       "  '[90]': ['20788628', '20811799', '20811800'],\n",
       "  '[-75]': ['20806253', '20817118'],\n",
       "  '[75]': ['20806254', '20817121'],\n",
       "  '[-60]': ['20811797', '20822034'],\n",
       "  '[60]': ['20811798', '20822037'],\n",
       "  '[-45]': ['20817119', '20828143'],\n",
       "  '[45]': ['20817120', '20828146'],\n",
       "  '[-30]': ['20822035'],\n",
       "  '[30]': ['20822036'],\n",
       "  '[-15]': ['20828144'],\n",
       "  '[15]': ['20828145']},\n",
       " 'minimum_positions': {'[180]': 0,\n",
       "  '[-165]': 1,\n",
       "  '[165]': 0,\n",
       "  '[-150]': 1,\n",
       "  '[150]': 0,\n",
       "  '[-135]': 0,\n",
       "  '[135]': 0,\n",
       "  '[-120]': 1,\n",
       "  '[120]': 0,\n",
       "  '[-105]': 1,\n",
       "  '[105]': 1,\n",
       "  '[-90]': 1,\n",
       "  '[90]': 2,\n",
       "  '[-75]': 1,\n",
       "  '[75]': 0,\n",
       "  '[-60]': 1,\n",
       "  '[60]': 1,\n",
       "  '[-45]': 0,\n",
       "  '[45]': 0,\n",
       "  '[-30]': 0,\n",
       "  '[30]': 0}}"
      ]
     },
     "execution_count": 136,
     "metadata": {},
     "output_type": "execute_result"
    }
   ],
   "source": [
    "tdr.dict()"
   ]
  },
  {
   "cell_type": "code",
   "execution_count": 85,
   "metadata": {},
   "outputs": [],
   "source": [
    "angle_optimizations = list(angle_optimizations)"
   ]
  },
  {
   "cell_type": "code",
   "execution_count": 87,
   "metadata": {},
   "outputs": [
    {
     "data": {
      "text/plain": [
       "621"
      ]
     },
     "execution_count": 87,
     "metadata": {},
     "output_type": "execute_result"
    }
   ],
   "source": [
    "len(angle_optimizations[7000:8000])"
   ]
  },
  {
   "cell_type": "code",
   "execution_count": 88,
   "metadata": {},
   "outputs": [
    {
     "data": {
      "text/plain": [
       "7621"
      ]
     },
     "execution_count": 88,
     "metadata": {},
     "output_type": "execute_result"
    }
   ],
   "source": [
    "res_angle_optimizations = []\n",
    "for i in range(0,8000,1000):\n",
    "    ids_i = angle_optimizations[i:i+1000]\n",
    "    res_i = client.query_procedures(ids_i)\n",
    "    res_angle_optimizations.extend(res_i)\n",
    "    \n",
    "len(res_angle_optimizations)"
   ]
  },
  {
   "cell_type": "code",
   "execution_count": 90,
   "metadata": {},
   "outputs": [],
   "source": [
    "opt_rec = res_angle_optimizations[0]"
   ]
  },
  {
   "cell_type": "code",
   "execution_count": 96,
   "metadata": {},
   "outputs": [],
   "source": [
    "opt_rec = res_angle_optimizations[7]"
   ]
  },
  {
   "cell_type": "code",
   "execution_count": 107,
   "metadata": {},
   "outputs": [
    {
     "name": "stdout",
     "output_type": "stream",
     "text": [
      "geomeTRIC run_json error:\n",
      "Traceback (most recent call last):\n",
      "  File \"/opt/conda/envs/qcfractal/lib/python3.6/site-packages/geometric/run_json.py\", line 225, in geometric_run_json\n",
      "    geometric.optimize.Optimize(coords, M, IC, engine, None, params)\n",
      "  File \"/opt/conda/envs/qcfractal/lib/python3.6/site-packages/geometric/optimize.py\", line 1331, in Optimize\n",
      "    return optimizer.optimizeGeometry()\n",
      "  File \"/opt/conda/envs/qcfractal/lib/python3.6/site-packages/geometric/optimize.py\", line 1293, in optimizeGeometry\n",
      "    self.calcEnergyForce()\n",
      "  File \"/opt/conda/envs/qcfractal/lib/python3.6/site-packages/geometric/optimize.py\", line 1002, in calcEnergyForce\n",
      "    spcalc = self.engine.calc(self.X, self.dirname)\n",
      "  File \"/opt/conda/envs/qcfractal/lib/python3.6/site-packages/geometric/engine.py\", line 873, in calc\n",
      "    return self.calc_new(coords, dirname)\n",
      "  File \"/opt/conda/envs/qcfractal/lib/python3.6/site-packages/geometric/engine.py\", line 865, in calc_new\n",
      "    raise QCEngineAPIEngineError(\"QCEngineAPI computation did not execute correctly. Message: \" + ret[\"error\"][\"error_message\"])\n",
      "geometric.errors.QCEngineAPIEngineError: QCEngineAPI computation did not execute correctly. Message: QCEngine Unknown Error: \n",
      "\n"
     ]
    }
   ],
   "source": [
    "print(opt_rec.get_error().error_message)"
   ]
  },
  {
   "cell_type": "code",
   "execution_count": 122,
   "metadata": {},
   "outputs": [
    {
     "data": {
      "text/plain": [
       "[]"
      ]
     },
     "execution_count": 122,
     "metadata": {},
     "output_type": "execute_result"
    }
   ],
   "source": [
    "client.query_results('20152193')"
   ]
  },
  {
   "cell_type": "code",
   "execution_count": null,
   "metadata": {},
   "outputs": [],
   "source": [
    "client.query_tasks(program='psi4', )"
   ]
  },
  {
   "cell_type": "code",
   "execution_count": 121,
   "metadata": {},
   "outputs": [
    {
     "data": {
      "text/plain": [
       "{'id': '20152193',\n",
       " 'hash_index': '05528ad428fbdabf22071fbe140657ef97c9c3fe',\n",
       " 'procedure': 'optimization',\n",
       " 'program': 'geometric',\n",
       " 'version': 1,\n",
       " 'protocols': {},\n",
       " 'extras': {},\n",
       " 'stdout': None,\n",
       " 'stderr': None,\n",
       " 'error': '23402848',\n",
       " 'task_id': None,\n",
       " 'manager_name': 'PacificResearchPlatform3-openff-qca3-768458b8cf-gtj4t-c4e106ed-b8ef-4e02-af4f-afdf4925c8c3',\n",
       " 'status': <RecordStatusEnum.error: 'ERROR'>,\n",
       " 'modified_on': datetime.datetime(2020, 5, 11, 20, 45, 19, 873046),\n",
       " 'created_on': datetime.datetime(2020, 5, 10, 22, 24, 7, 311897),\n",
       " 'provenance': None,\n",
       " 'schema_version': 1,\n",
       " 'initial_molecule': '13285325',\n",
       " 'qc_spec': {'driver': <DriverEnum.gradient: 'gradient'>,\n",
       "  'method': 'b3lyp-d3bj',\n",
       "  'basis': 'aug-cc-pvtz',\n",
       "  'keywords': '2',\n",
       "  'program': 'psi4'},\n",
       " 'keywords': {'coordsys': 'tric',\n",
       "  'enforce': 0.1,\n",
       "  'reset': True,\n",
       "  'qccnv': True,\n",
       "  'epsilon': 0,\n",
       "  'constraints': {'set': [{'type': 'dihedral',\n",
       "     'indices': [9, 13, 8, 20],\n",
       "     'value': 180}]},\n",
       "  'program': 'psi4'},\n",
       " 'energies': None,\n",
       " 'final_molecule': None,\n",
       " 'trajectory': None}"
      ]
     },
     "execution_count": 121,
     "metadata": {},
     "output_type": "execute_result"
    }
   ],
   "source": [
    "opt_rec.dict()"
   ]
  },
  {
   "cell_type": "code",
   "execution_count": 103,
   "metadata": {},
   "outputs": [
    {
     "data": {
      "text/plain": [
       "294"
      ]
     },
     "execution_count": 103,
     "metadata": {},
     "output_type": "execute_result"
    }
   ],
   "source": [
    "len([i for i in res_angle_optimizations if i.status == 'ERROR'])"
   ]
  },
  {
   "cell_type": "code",
   "execution_count": 109,
   "metadata": {},
   "outputs": [],
   "source": [
    "error_messages = [i.get_error().error_message for i in res_angle_optimizations if i.status == 'ERROR']"
   ]
  },
  {
   "cell_type": "code",
   "execution_count": 114,
   "metadata": {},
   "outputs": [],
   "source": [
    "review = (i for i in error_messages)"
   ]
  },
  {
   "cell_type": "code",
   "execution_count": 273,
   "metadata": {},
   "outputs": [
    {
     "name": "stdout",
     "output_type": "stream",
     "text": [
      "geomeTRIC run_json error:\n",
      "Traceback (most recent call last):\n",
      "  File \"/data/homezvol0/tgokey/.local/miniconda3/envs/qcf/lib/python3.7/site-packages/geometric/run_json.py\", line 225, in geometric_run_json\n",
      "    geometric.optimize.Optimize(coords, M, IC, engine, None, params)\n",
      "  File \"/data/homezvol0/tgokey/.local/miniconda3/envs/qcf/lib/python3.7/site-packages/geometric/optimize.py\", line 1331, in Optimize\n",
      "    return optimizer.optimizeGeometry()\n",
      "  File \"/data/homezvol0/tgokey/.local/miniconda3/envs/qcf/lib/python3.7/site-packages/geometric/optimize.py\", line 1293, in optimizeGeometry\n",
      "    self.calcEnergyForce()\n",
      "  File \"/data/homezvol0/tgokey/.local/miniconda3/envs/qcf/lib/python3.7/site-packages/geometric/optimize.py\", line 1002, in calcEnergyForce\n",
      "    spcalc = self.engine.calc(self.X, self.dirname)\n",
      "  File \"/data/homezvol0/tgokey/.local/miniconda3/envs/qcf/lib/python3.7/site-packages/geometric/engine.py\", line 873, in calc\n",
      "    return self.calc_new(coords, dirname)\n",
      "  File \"/data/homezvol0/tgokey/.local/miniconda3/envs/qcf/lib/python3.7/site-packages/geometric/engine.py\", line 865, in calc_new\n",
      "    raise QCEngineAPIEngineError(\"QCEngineAPI computation did not execute correctly. Message: \" + ret[\"error\"][\"error_message\"])\n",
      "geometric.errors.QCEngineAPIEngineError: QCEngineAPI computation did not execute correctly. Message: QCEngine Unknown Error: Traceback (most recent call last):\n",
      "  File \"/data/homezvol0/tgokey/.local/miniconda3/envs/qcf/lib//python3.7/site-packages/psi4/driver/json_wrapper.py\", line 217, in run_json\n",
      "    json_data = run_json_qcschema(copy.deepcopy(json_data), clean)\n",
      "  File \"/data/homezvol0/tgokey/.local/miniconda3/envs/qcf/lib//python3.7/site-packages/psi4/driver/json_wrapper.py\", line 312, in run_json_qcschema\n",
      "    val, wfn = methods_dict_[json_data[\"driver\"]](method, **kwargs)\n",
      "  File \"/data/homezvol0/tgokey/.local/miniconda3/envs/qcf/lib//python3.7/site-packages/psi4/driver/driver.py\", line 691, in gradient\n",
      "    wfn = procedures['gradient'][lowername](lowername, molecule=molecule, **kwargs)\n",
      "  File \"/data/homezvol0/tgokey/.local/miniconda3/envs/qcf/lib//python3.7/site-packages/psi4/driver/procrouting/proc.py\", line 2064, in run_scf_gradient\n",
      "    ref_wfn = run_scf(name, **kwargs)\n",
      "  File \"/data/homezvol0/tgokey/.local/miniconda3/envs/qcf/lib//python3.7/site-packages/psi4/driver/procrouting/proc.py\", line 2002, in run_scf\n",
      "    scf_wfn = scf_helper(name, post_scf=False, **kwargs)\n",
      "  File \"/data/homezvol0/tgokey/.local/miniconda3/envs/qcf/lib//python3.7/site-packages/psi4/driver/procrouting/proc.py\", line 1276, in scf_helper\n",
      "    base_wfn = core.Wavefunction.build(scf_molecule, core.get_global_option('BASIS'))\n",
      "  File \"/data/homezvol0/tgokey/.local/miniconda3/envs/qcf/lib//python3.7/site-packages/psi4/driver/p4util/python_helpers.py\", line 115, in _core_wavefunction_build\n",
      "    basis = core.BasisSet.build(mol, \"ORBITAL\", basis)\n",
      "  File \"/data/homezvol0/tgokey/.local/miniconda3/envs/qcf/lib//python3.7/site-packages/psi4/driver/p4util/python_helpers.py\", line 80, in _pybuild_basis\n",
      "    mol.to_dict(), key, resolved_target, fitrole, other, return_dict=True, return_atomlist=return_atomlist)\n",
      "  File \"/data/homezvol0/tgokey/.local/miniconda3/envs/qcf/lib//python3.7/site-packages/psi4/driver/qcdb/libmintsbasisset.py\", line 679, in pyconstruct\n",
      "    verbose=verbose)\n",
      "  File \"/data/homezvol0/tgokey/.local/miniconda3/envs/qcf/lib//python3.7/site-packages/psi4/driver/qcdb/libmintsbasisset.py\", line 897, in construct\n",
      "    (at + 1, key, text2))\n",
      "psi4.driver.qcdb.exceptions.BasisSetNotFound: BasisSet::construct: Unable to find a basis set for atom 14 for key BASIS among:\n",
      "  Shell Entries: ['I']\n",
      "  Basis Sets: [('AUG-CC-PVTZ', 'AUG-CC-PVTZ', None)]\n",
      "  File Path: /dev/shm/tmpm6r7mvix_psi_scratch/tmp_cf7l3jh, /dev/shm/tmpm6r7mvix_psi_scratch/tmp_cf7l3jh, /data/homezvol0/tgokey/.local/miniconda3/envs/qcf/share/psi4/basis\n",
      "  Input Blocks: \n",
      "\n",
      "\n",
      "\n"
     ]
    }
   ],
   "source": [
    "print(next(review))"
   ]
  },
  {
   "cell_type": "code",
   "execution_count": 97,
   "metadata": {},
   "outputs": [
    {
     "data": {
      "text/plain": [
       "{'id': '20152193',\n",
       " 'hash_index': '05528ad428fbdabf22071fbe140657ef97c9c3fe',\n",
       " 'procedure': 'optimization',\n",
       " 'program': 'geometric',\n",
       " 'version': 1,\n",
       " 'protocols': {},\n",
       " 'extras': {},\n",
       " 'stdout': None,\n",
       " 'stderr': None,\n",
       " 'error': '23402848',\n",
       " 'task_id': None,\n",
       " 'manager_name': 'PacificResearchPlatform3-openff-qca3-768458b8cf-gtj4t-c4e106ed-b8ef-4e02-af4f-afdf4925c8c3',\n",
       " 'status': <RecordStatusEnum.error: 'ERROR'>,\n",
       " 'modified_on': datetime.datetime(2020, 5, 11, 20, 45, 19, 873046),\n",
       " 'created_on': datetime.datetime(2020, 5, 10, 22, 24, 7, 311897),\n",
       " 'provenance': None,\n",
       " 'schema_version': 1,\n",
       " 'initial_molecule': '13285325',\n",
       " 'qc_spec': {'driver': <DriverEnum.gradient: 'gradient'>,\n",
       "  'method': 'b3lyp-d3bj',\n",
       "  'basis': 'aug-cc-pvtz',\n",
       "  'keywords': '2',\n",
       "  'program': 'psi4'},\n",
       " 'keywords': {'coordsys': 'tric',\n",
       "  'enforce': 0.1,\n",
       "  'reset': True,\n",
       "  'qccnv': True,\n",
       "  'epsilon': 0,\n",
       "  'constraints': {'set': [{'type': 'dihedral',\n",
       "     'indices': [9, 13, 8, 20],\n",
       "     'value': 180}]},\n",
       "  'program': 'psi4'},\n",
       " 'energies': None,\n",
       " 'final_molecule': None,\n",
       " 'trajectory': None}"
      ]
     },
     "execution_count": 97,
     "metadata": {},
     "output_type": "execute_result"
    }
   ],
   "source": [
    "opt_rec.dict()"
   ]
  },
  {
   "cell_type": "code",
   "execution_count": 25,
   "metadata": {},
   "outputs": [
    {
     "data": {
      "text/html": [
       "<div>\n",
       "<style scoped>\n",
       "    .dataframe tbody tr th:only-of-type {\n",
       "        vertical-align: middle;\n",
       "    }\n",
       "\n",
       "    .dataframe tbody tr th {\n",
       "        vertical-align: top;\n",
       "    }\n",
       "\n",
       "    .dataframe thead th {\n",
       "        text-align: right;\n",
       "    }\n",
       "</style>\n",
       "<table border=\"1\" class=\"dataframe\">\n",
       "  <thead>\n",
       "    <tr style=\"text-align: right;\">\n",
       "      <th></th>\n",
       "      <th>default</th>\n",
       "    </tr>\n",
       "  </thead>\n",
       "  <tbody>\n",
       "    <tr>\n",
       "      <th>Cc1c[c:2]([c:1]2ccccc2c1OP(=O)([O-])[O-])[O:3][P:4](=O)([O-])[O-]</th>\n",
       "      <td>TorsionDriveRecord(id='19712153', status='COMP...</td>\n",
       "    </tr>\n",
       "    <tr>\n",
       "      <th>c1cc[c:1]2c(c1)ccc[c:2]2[O:3][P:4](=O)([O-])[O-]</th>\n",
       "      <td>TorsionDriveRecord(id='20548975', status='RUNN...</td>\n",
       "    </tr>\n",
       "    <tr>\n",
       "      <th>c1ccc(cc1)C[CH2:1][NH:2]/[C:3](=[NH+:4]/C(=[NH2+])N)/N</th>\n",
       "      <td>TorsionDriveRecord(id='19712155', status='COMP...</td>\n",
       "    </tr>\n",
       "    <tr>\n",
       "      <th>C[CH2:1][NH:2]/[C:3](=[NH+:4]/C=[NH2+])/N</th>\n",
       "      <td>TorsionDriveRecord(id='20548976', status='COMP...</td>\n",
       "    </tr>\n",
       "    <tr>\n",
       "      <th>C[CH2:1][NH:2]/[C:3](=[NH+:4]/C)/N</th>\n",
       "      <td>TorsionDriveRecord(id='20548977', status='COMP...</td>\n",
       "    </tr>\n",
       "    <tr>\n",
       "      <th>Cc1c([nH]cn1)CSC[CH2:1][NH:2]/[C:3](=N\\C#N)/[NH:4]C</th>\n",
       "      <td>TorsionDriveRecord(id='19712158', status='RUNN...</td>\n",
       "    </tr>\n",
       "    <tr>\n",
       "      <th>C[CH2:1][NH:2]/[C:3](=[N:4]\\C#N)/NC</th>\n",
       "      <td>TorsionDriveRecord(id='20548978', status='COMP...</td>\n",
       "    </tr>\n",
       "    <tr>\n",
       "      <th>C[CH2:1][NH:2]/[C:3](=[N:4]\\C)/NC</th>\n",
       "      <td>TorsionDriveRecord(id='20548979', status='COMP...</td>\n",
       "    </tr>\n",
       "    <tr>\n",
       "      <th>c1cc(oc1)[CH2:1][NH:2][c:3]2cc(c(c[c:4]2C(=O)[O-])S(=O)(=O)N)Cl</th>\n",
       "      <td>TorsionDriveRecord(id='19712161', status='RUNN...</td>\n",
       "    </tr>\n",
       "    <tr>\n",
       "      <th>c1cc(oc1)[CH2:4][NH:3][c:2]2cc(c(c[c:1]2C(=O)[O-])S(=O)(=O)N)Cl</th>\n",
       "      <td>TorsionDriveRecord(id='19712162', status='COMP...</td>\n",
       "    </tr>\n",
       "    <tr>\n",
       "      <th>c1cc[c:2]([c:1](c1)C(=O)[O-])[NH:3][CH2:4]c2ccco2</th>\n",
       "      <td>TorsionDriveRecord(id='20548992', status='RUNN...</td>\n",
       "    </tr>\n",
       "    <tr>\n",
       "      <th>c1cc(oc1)CNc2c[c:1]([c:2](cc2C(=O)[O-])[S:3](=[O:4])(=O)N)Cl</th>\n",
       "      <td>TorsionDriveRecord(id='19712164', status='COMP...</td>\n",
       "    </tr>\n",
       "    <tr>\n",
       "      <th>c1c[c:1]([c:2](cc1C(=O)[O-])[S:3](=[O:4])(=O)N)Cl</th>\n",
       "      <td>TorsionDriveRecord(id='20548993', status='COMP...</td>\n",
       "    </tr>\n",
       "    <tr>\n",
       "      <th>c1cc[c:1]([c:2](c1)[S:3](=[O:4])(=O)N)Cl</th>\n",
       "      <td>TorsionDriveRecord(id='20548994', status='ERROR')</td>\n",
       "    </tr>\n",
       "    <tr>\n",
       "      <th>CC[NH+](CC)C[CH2:4][O:3][C:2](=[O:1])c1ccc(cc1Cl)N</th>\n",
       "      <td>TorsionDriveRecord(id='19712167', status='COMP...</td>\n",
       "    </tr>\n",
       "    <tr>\n",
       "      <th>c1ccc(c(c1)[C:3](=[O:4])[O:2][CH2:1]C[NH3+])Cl</th>\n",
       "      <td>TorsionDriveRecord(id='20548995', status='RUNN...</td>\n",
       "    </tr>\n",
       "    <tr>\n",
       "      <th>C[CH2:1][O:2][C:3](=[O:4])c1ccccc1Cl</th>\n",
       "      <td>TorsionDriveRecord(id='20548996', status='RUNN...</td>\n",
       "    </tr>\n",
       "    <tr>\n",
       "      <th>c1c(cc([c:2]([c:1]1I)[O:3][c:4]2cc(c(c(c2)I)[O-])I)I)C[C@H](C(=O)[O-])[NH3+]</th>\n",
       "      <td>TorsionDriveRecord(id='19712170', status='RUNN...</td>\n",
       "    </tr>\n",
       "    <tr>\n",
       "      <th>Cc1c[c:1]([c:2](c(c1)I)[O:3][c:4]2cc(c(c(c2)I)[O-])I)I</th>\n",
       "      <td>TorsionDriveRecord(id='20548997', status='ERROR')</td>\n",
       "    </tr>\n",
       "    <tr>\n",
       "      <th>c1cc[c:1](cc1)[O:2][c:3]2c(ccc[c:4]2I)I</th>\n",
       "      <td>TorsionDriveRecord(id='20548998', status='ERROR')</td>\n",
       "    </tr>\n",
       "    <tr>\n",
       "      <th>CC(=O)Oc1ccccc1[C:1](=O)[NH:2][c:3]2ncc([s:4]2)[N+](=O)[O-]</th>\n",
       "      <td>TorsionDriveRecord(id='19712173', status='RUNN...</td>\n",
       "    </tr>\n",
       "    <tr>\n",
       "      <th>CC(=O)Oc1ccccc1[C:1](=O)[NH:2][c:3]2ncc[s:4]2</th>\n",
       "      <td>TorsionDriveRecord(id='20548999', status='COMP...</td>\n",
       "    </tr>\n",
       "  </tbody>\n",
       "</table>\n",
       "</div>"
      ],
      "text/plain": [
       "                                                                                              default\n",
       "Cc1c[c:2]([c:1]2ccccc2c1OP(=O)([O-])[O-])[O:3][...  TorsionDriveRecord(id='19712153', status='COMP...\n",
       "c1cc[c:1]2c(c1)ccc[c:2]2[O:3][P:4](=O)([O-])[O-]    TorsionDriveRecord(id='20548975', status='RUNN...\n",
       "c1ccc(cc1)C[CH2:1][NH:2]/[C:3](=[NH+:4]/C(=[NH2...  TorsionDriveRecord(id='19712155', status='COMP...\n",
       "C[CH2:1][NH:2]/[C:3](=[NH+:4]/C=[NH2+])/N           TorsionDriveRecord(id='20548976', status='COMP...\n",
       "C[CH2:1][NH:2]/[C:3](=[NH+:4]/C)/N                  TorsionDriveRecord(id='20548977', status='COMP...\n",
       "Cc1c([nH]cn1)CSC[CH2:1][NH:2]/[C:3](=N\\C#N)/[NH...  TorsionDriveRecord(id='19712158', status='RUNN...\n",
       "C[CH2:1][NH:2]/[C:3](=[N:4]\\C#N)/NC                 TorsionDriveRecord(id='20548978', status='COMP...\n",
       "C[CH2:1][NH:2]/[C:3](=[N:4]\\C)/NC                   TorsionDriveRecord(id='20548979', status='COMP...\n",
       "c1cc(oc1)[CH2:1][NH:2][c:3]2cc(c(c[c:4]2C(=O)[O...  TorsionDriveRecord(id='19712161', status='RUNN...\n",
       "c1cc(oc1)[CH2:4][NH:3][c:2]2cc(c(c[c:1]2C(=O)[O...  TorsionDriveRecord(id='19712162', status='COMP...\n",
       "c1cc[c:2]([c:1](c1)C(=O)[O-])[NH:3][CH2:4]c2ccco2   TorsionDriveRecord(id='20548992', status='RUNN...\n",
       "c1cc(oc1)CNc2c[c:1]([c:2](cc2C(=O)[O-])[S:3](=[...  TorsionDriveRecord(id='19712164', status='COMP...\n",
       "c1c[c:1]([c:2](cc1C(=O)[O-])[S:3](=[O:4])(=O)N)Cl   TorsionDriveRecord(id='20548993', status='COMP...\n",
       "c1cc[c:1]([c:2](c1)[S:3](=[O:4])(=O)N)Cl            TorsionDriveRecord(id='20548994', status='ERROR')\n",
       "CC[NH+](CC)C[CH2:4][O:3][C:2](=[O:1])c1ccc(cc1Cl)N  TorsionDriveRecord(id='19712167', status='COMP...\n",
       "c1ccc(c(c1)[C:3](=[O:4])[O:2][CH2:1]C[NH3+])Cl      TorsionDriveRecord(id='20548995', status='RUNN...\n",
       "C[CH2:1][O:2][C:3](=[O:4])c1ccccc1Cl                TorsionDriveRecord(id='20548996', status='RUNN...\n",
       "c1c(cc([c:2]([c:1]1I)[O:3][c:4]2cc(c(c(c2)I)[O-...  TorsionDriveRecord(id='19712170', status='RUNN...\n",
       "Cc1c[c:1]([c:2](c(c1)I)[O:3][c:4]2cc(c(c(c2)I)[...  TorsionDriveRecord(id='20548997', status='ERROR')\n",
       "c1cc[c:1](cc1)[O:2][c:3]2c(ccc[c:4]2I)I             TorsionDriveRecord(id='20548998', status='ERROR')\n",
       "CC(=O)Oc1ccccc1[C:1](=O)[NH:2][c:3]2ncc([s:4]2)...  TorsionDriveRecord(id='19712173', status='RUNN...\n",
       "CC(=O)Oc1ccccc1[C:1](=O)[NH:2][c:3]2ncc[s:4]2       TorsionDriveRecord(id='20548999', status='COMP..."
      ]
     },
     "execution_count": 25,
     "metadata": {},
     "output_type": "execute_result"
    }
   ],
   "source": [
    "ds.df"
   ]
  },
  {
   "cell_type": "code",
   "execution_count": 38,
   "metadata": {},
   "outputs": [],
   "source": [
    "erred = client.query_procedures('20548994')[0]"
   ]
  },
  {
   "cell_type": "code",
   "execution_count": 41,
   "metadata": {},
   "outputs": [
    {
     "data": {
      "text/plain": [
       "{'id': '20548994',\n",
       " 'hash_index': 'b84cdd6e0d9d10f46169aebdc95dc63047f60939',\n",
       " 'procedure': 'torsiondrive',\n",
       " 'program': 'torsiondrive',\n",
       " 'version': 1,\n",
       " 'protocols': None,\n",
       " 'extras': {},\n",
       " 'stdout': None,\n",
       " 'stderr': None,\n",
       " 'error': None,\n",
       " 'task_id': None,\n",
       " 'manager_name': None,\n",
       " 'status': <RecordStatusEnum.error: 'ERROR'>,\n",
       " 'modified_on': datetime.datetime(2020, 5, 15, 17, 44, 23, 194510),\n",
       " 'created_on': datetime.datetime(2020, 5, 15, 17, 44, 23, 194512),\n",
       " 'provenance': {'creator': 'torsiondrive',\n",
       "  'version': 'v0.9.8.1',\n",
       "  'routine': 'torsiondrive.td_api'},\n",
       " 'initial_molecule': ['13285318'],\n",
       " 'keywords': {'dihedrals': [(5, 4, 9, 7)],\n",
       "  'grid_spacing': [15],\n",
       "  'dihedral_ranges': None,\n",
       "  'energy_decrease_thresh': None,\n",
       "  'energy_upper_limit': 0.1},\n",
       " 'optimization_spec': {'program': 'geometric',\n",
       "  'keywords': {'coordsys': 'tric',\n",
       "   'enforce': 0.1,\n",
       "   'reset': True,\n",
       "   'qccnv': True,\n",
       "   'epsilon': 0}},\n",
       " 'qc_spec': {'driver': <DriverEnum.gradient: 'gradient'>,\n",
       "  'method': 'b3lyp-d3bj',\n",
       "  'basis': 'dzvp',\n",
       "  'keywords': '2',\n",
       "  'program': 'psi4'},\n",
       " 'final_energy_dict': {'[-150]': -1295.7911966027973,\n",
       "  '[-165]': -1295.79404870522,\n",
       "  '[-135]': -1295.7893978909037,\n",
       "  '[-120]': -1295.789055537071,\n",
       "  '[180]': -1295.7961540455442,\n",
       "  '[-105]': -1295.7897294744762,\n",
       "  '[165]': -1295.7959520698716},\n",
       " 'optimization_history': {'[-150]': ['20549256',\n",
       "   '20563392',\n",
       "   '20563393',\n",
       "   '20576181'],\n",
       "  '[-165]': ['20557841', '20573730'],\n",
       "  '[-135]': ['20557842', '20573731'],\n",
       "  '[-120]': ['20563394', '20576223'],\n",
       "  '[180]': ['20563395', '20576226', '20576227'],\n",
       "  '[-105]': ['20573740'],\n",
       "  '[165]': ['20573741'],\n",
       "  '[-90]': ['20576224'],\n",
       "  '[150]': ['20576225']},\n",
       " 'minimum_positions': {'[-150]': 1,\n",
       "  '[-165]': 1,\n",
       "  '[-135]': 0,\n",
       "  '[-120]': 0,\n",
       "  '[180]': 0,\n",
       "  '[-105]': 0,\n",
       "  '[165]': 0}}"
      ]
     },
     "execution_count": 41,
     "metadata": {},
     "output_type": "execute_result"
    }
   ],
   "source": [
    "erred.dict()"
   ]
  },
  {
   "cell_type": "code",
   "execution_count": 33,
   "metadata": {},
   "outputs": [
    {
     "data": {
      "text/plain": [
       "TorsionDriveRecord(id='19712155', status='COMPLETE')"
      ]
     },
     "execution_count": 33,
     "metadata": {},
     "output_type": "execute_result"
    }
   ],
   "source": [
    "ds.df.default.iloc[]"
   ]
  },
  {
   "cell_type": "code",
   "execution_count": 26,
   "metadata": {},
   "outputs": [
    {
     "data": {
      "text/plain": [
       "22"
      ]
     },
     "execution_count": 26,
     "metadata": {},
     "output_type": "execute_result"
    }
   ],
   "source": [
    "len(ds.df)"
   ]
  },
  {
   "cell_type": "code",
   "execution_count": 22,
   "metadata": {},
   "outputs": [
    {
     "ename": "AttributeError",
     "evalue": "'TorsionDriveDataset' object has no attribute 'get_records'",
     "output_type": "error",
     "traceback": [
      "\u001b[0;31m-----------------------------------------\u001b[0m",
      "\u001b[0;31mAttributeError\u001b[0mTraceback (most recent call last)",
      "\u001b[0;32m<ipython-input-22-a9d966039a90>\u001b[0m in \u001b[0;36m<module>\u001b[0;34m\u001b[0m\n\u001b[0;32m----> 1\u001b[0;31m \u001b[0mds\u001b[0m\u001b[0;34m.\u001b[0m\u001b[0mget_records\u001b[0m\u001b[0;34m(\u001b[0m\u001b[0;34m\"b3lyp-d3bj\"\u001b[0m\u001b[0;34m)\u001b[0m\u001b[0;34m\u001b[0m\u001b[0;34m\u001b[0m\u001b[0m\n\u001b[0m",
      "\u001b[0;31mAttributeError\u001b[0m: 'TorsionDriveDataset' object has no attribute 'get_records'"
     ]
    }
   ],
   "source": [
    "ds.get_records(\"b3lyp-d3bj\")"
   ]
  },
  {
   "cell_type": "code",
   "execution_count": 143,
   "metadata": {},
   "outputs": [
    {
     "ename": "AttributeError",
     "evalue": "'dict' object has no attribute '__dict__'",
     "output_type": "error",
     "traceback": [
      "\u001b[0;31m---------\u001b[0m",
      "\u001b[0;31mAttributeError\u001b[0mTraceback (most recent call last)",
      "\u001b[0;32m<ipython-input-143-a92154c56d32>\u001b[0m in \u001b[0;36m<module>\u001b[0;34m\u001b[0m\n\u001b[0;32m----> 1\u001b[0;31m \u001b[0mclient\u001b[0m\u001b[0;34m.\u001b[0m\u001b[0mquery_results\u001b[0m\u001b[0;34m(\u001b[0m\u001b[0mtask_id\u001b[0m\u001b[0;34m=\u001b[0m\u001b[0;34m'10482724'\u001b[0m\u001b[0;34m)\u001b[0m\u001b[0;34m\u001b[0m\u001b[0;34m\u001b[0m\u001b[0m\n\u001b[0m",
      "\u001b[0;32m~/.conda/envs/qcportal/lib/python3.8/site-packages/qcportal/client.py\u001b[0m in \u001b[0;36mquery_results\u001b[0;34m(self, id, task_id, program, molecule, driver, method, basis, keywords, status, limit, skip, include, full_return)\u001b[0m\n\u001b[1;32m    720\u001b[0m         \u001b[0;32mif\u001b[0m \u001b[0;32mnot\u001b[0m \u001b[0minclude\u001b[0m\u001b[0;34m:\u001b[0m\u001b[0;34m\u001b[0m\u001b[0;34m\u001b[0m\u001b[0m\n\u001b[1;32m    721\u001b[0m             \u001b[0;32mfor\u001b[0m \u001b[0mresult\u001b[0m \u001b[0;32min\u001b[0m \u001b[0mresponse\u001b[0m\u001b[0;34m.\u001b[0m\u001b[0mdata\u001b[0m\u001b[0;34m:\u001b[0m\u001b[0;34m\u001b[0m\u001b[0;34m\u001b[0m\u001b[0m\n\u001b[0;32m--> 722\u001b[0;31m                 \u001b[0mresult\u001b[0m\u001b[0;34m.\u001b[0m\u001b[0m__dict__\u001b[0m\u001b[0;34m[\u001b[0m\u001b[0;34m\"client\"\u001b[0m\u001b[0;34m]\u001b[0m \u001b[0;34m=\u001b[0m \u001b[0mself\u001b[0m\u001b[0;34m\u001b[0m\u001b[0;34m\u001b[0m\u001b[0m\n\u001b[0m\u001b[1;32m    723\u001b[0m \u001b[0;34m\u001b[0m\u001b[0m\n\u001b[1;32m    724\u001b[0m         \u001b[0;32mif\u001b[0m \u001b[0mfull_return\u001b[0m\u001b[0;34m:\u001b[0m\u001b[0;34m\u001b[0m\u001b[0;34m\u001b[0m\u001b[0m\n",
      "\u001b[0;31mAttributeError\u001b[0m: 'dict' object has no attribute '__dict__'"
     ]
    }
   ],
   "source": [
    "client.query_results(task_id='10482724')"
   ]
  },
  {
   "cell_type": "code",
   "execution_count": 145,
   "metadata": {},
   "outputs": [],
   "source": [
    "failed_task = client.query_tasks('10482724')[0]"
   ]
  },
  {
   "cell_type": "code",
   "execution_count": 148,
   "metadata": {},
   "outputs": [
    {
     "data": {
      "text/plain": [
       "{'id': '10482724',\n",
       " 'spec': {'function': 'qcengine.compute_procedure',\n",
       "  'args': [{'id': None,\n",
       "    'hash_index': '01ff1e7a13b2dd05275b6bf6bee4da02b2fb93bb',\n",
       "    'schema_name': 'qcschema_optimization_input',\n",
       "    'schema_version': 1,\n",
       "    'keywords': {'coordsys': 'tric',\n",
       "     'enforce': 0.1,\n",
       "     'reset': True,\n",
       "     'qccnv': True,\n",
       "     'epsilon': 0,\n",
       "     'constraints': {'set': [{'type': 'dihedral',\n",
       "        'indices': [8, 15, 4, 12],\n",
       "        'value': 0}]},\n",
       "     'program': 'psi4'},\n",
       "    'extras': {},\n",
       "    'protocols': {},\n",
       "    'input_specification': {'schema_name': 'qcschema_input',\n",
       "     'schema_version': 1,\n",
       "     'driver': 'gradient',\n",
       "     'model': {'method': 'blyp-d3bj', 'basis': 'aug-cc-pvdz'},\n",
       "     'keywords': {'maxiter': 200,\n",
       "      'scf_properties': ['dipole',\n",
       "       'quadrupole',\n",
       "       'wiberg_lowdin_indices',\n",
       "       'mayer_indices']},\n",
       "     'extras': {'_qcfractal_tags': {'program': 'psi4', 'keywords': '2'}}},\n",
       "    'initial_molecule': {'schema_name': 'qcschema_molecule',\n",
       "     'schema_version': 2,\n",
       "     'validated': True,\n",
       "     'symbols': array(['C', 'C', 'C', 'C', 'C', 'N', 'N', 'N', 'N', 'H', 'H', 'H', 'H',\n",
       "            'H', 'H', 'H', 'H', 'H', 'H'], dtype='<U1'),\n",
       "     'geometry': array([[ 0.39659982,  3.87867208,  8.58672296],\n",
       "            [ 1.20616593,  2.29136738,  4.66638274],\n",
       "            [ 0.21467427,  6.52761325, -0.66823483],\n",
       "            [ 3.55546414, -1.73341386,  4.35199051],\n",
       "            [-0.95468651,  4.37168696,  0.89715551],\n",
       "            [-0.51699191,  5.42282527,  9.93214482],\n",
       "            [ 1.47887618,  2.10593645,  7.16496338],\n",
       "            [ 2.14199963,  0.36247196,  3.19837211],\n",
       "            [ 0.04459701,  4.29579719,  3.49291757],\n",
       "            [-0.14715917,  8.37706764,  0.23073427],\n",
       "            [ 2.28126822,  6.28456731, -0.83889389],\n",
       "            [-0.61639162,  6.56290469, -2.58460925],\n",
       "            [ 5.29396855, -1.07779471,  5.30763119],\n",
       "            [ 4.0429472 , -3.08385097,  2.84414191],\n",
       "            [ 2.35687645, -2.68020105,  5.76630246],\n",
       "            [-0.58522935,  2.53413273, -0.01177326],\n",
       "            [-3.03428158,  4.58638026,  0.98704713],\n",
       "            [ 2.56343144,  0.78918096,  1.37487642],\n",
       "            [-0.64850669,  5.60908943,  4.72766146]]),\n",
       "     'name': 'C5H10N4',\n",
       "     'identifiers': {'molecule_hash': '653f7cb2a65c40a262e69b9b505f1798a3ab486f',\n",
       "      'molecular_formula': 'C5H10N4'},\n",
       "     'molecular_charge': 0.0,\n",
       "     'molecular_multiplicity': 1,\n",
       "     'connectivity': [[0, 5, 3.0],\n",
       "      [0, 6, 1.0],\n",
       "      [1, 6, 2.0],\n",
       "      [1, 7, 1.0],\n",
       "      [1, 8, 1.0],\n",
       "      [2, 4, 1.0],\n",
       "      [2, 9, 1.0],\n",
       "      [2, 10, 1.0],\n",
       "      [2, 11, 1.0],\n",
       "      [3, 7, 1.0],\n",
       "      [3, 12, 1.0],\n",
       "      [3, 13, 1.0],\n",
       "      [3, 14, 1.0],\n",
       "      [4, 8, 1.0],\n",
       "      [4, 15, 1.0],\n",
       "      [4, 16, 1.0],\n",
       "      [7, 17, 1.0],\n",
       "      [8, 18, 1.0]],\n",
       "     'fix_com': True,\n",
       "     'fix_orientation': True,\n",
       "     'provenance': {'creator': 'QCElemental',\n",
       "      'version': 'v0.14.0',\n",
       "      'routine': 'qcelemental.molparse.from_schema'},\n",
       "     'id': '13738703'},\n",
       "    'provenance': {'creator': 'QCElemental',\n",
       "     'version': 'v0.14.0',\n",
       "     'routine': 'qcelemental.models.procedures'}},\n",
       "   'geometric'],\n",
       "  'kwargs': {}},\n",
       " 'parser': 'optimization',\n",
       " 'status': <TaskStatusEnum.error: 'ERROR'>,\n",
       " 'program': 'psi4',\n",
       " 'procedure': 'geometric',\n",
       " 'manager': 'OpenFF_Mobley_HPC3-login-i16-e28d6156-ff42-407b-9f43-608463c208bc',\n",
       " 'priority': <PriorityEnum.LOW: 0>,\n",
       " 'tag': 'openff',\n",
       " 'base_result': '20213737',\n",
       " 'error': None,\n",
       " 'modified_on': datetime.datetime(2020, 5, 14, 18, 36, 23, 520791),\n",
       " 'created_on': datetime.datetime(2020, 5, 12, 22, 10, 13, 308680)}"
      ]
     },
     "execution_count": 148,
     "metadata": {},
     "output_type": "execute_result"
    }
   ],
   "source": [
    "failed_task.dict()"
   ]
  },
  {
   "cell_type": "code",
   "execution_count": 149,
   "metadata": {},
   "outputs": [
    {
     "data": {
      "text/plain": [
       "[]"
      ]
     },
     "execution_count": 149,
     "metadata": {},
     "output_type": "execute_result"
    }
   ],
   "source": [
    "client.query_results('20213737')"
   ]
  },
  {
   "cell_type": "code",
   "execution_count": 155,
   "metadata": {},
   "outputs": [
    {
     "name": "stdout",
     "output_type": "stream",
     "text": [
      "geomeTRIC run_json error:\n",
      "Traceback (most recent call last):\n",
      "  File \"/data/homezvol0/tgokey/.local/miniconda3/envs/qcf/lib/python3.7/site-packages/geometric/run_json.py\", line 225, in geometric_run_json\n",
      "    geometric.optimize.Optimize(coords, M, IC, engine, None, params)\n",
      "  File \"/data/homezvol0/tgokey/.local/miniconda3/envs/qcf/lib/python3.7/site-packages/geometric/optimize.py\", line 1331, in Optimize\n",
      "    return optimizer.optimizeGeometry()\n",
      "  File \"/data/homezvol0/tgokey/.local/miniconda3/envs/qcf/lib/python3.7/site-packages/geometric/optimize.py\", line 1301, in optimizeGeometry\n",
      "    raise GeomOptNotConvergedError(\"Optimizer.optimizeGeometry() failed to converge.\")\n",
      "geometric.errors.GeomOptNotConvergedError: Optimizer.optimizeGeometry() failed to converge.\n",
      "\n"
     ]
    }
   ],
   "source": [
    "print(client.query_procedures('20213737')[0].get_error().error_message)"
   ]
  },
  {
   "cell_type": "markdown",
   "metadata": {},
   "source": [
    "#### Restarting failed tasks"
   ]
  },
  {
   "cell_type": "code",
   "execution_count": 159,
   "metadata": {},
   "outputs": [],
   "source": [
    "ds = client.get_collection(\"TorsionDriveDataset\", \"OpenFF Fragmenter Validation 1.0\")"
   ]
  },
  {
   "cell_type": "code",
   "execution_count": 181,
   "metadata": {},
   "outputs": [],
   "source": [
    "resubmit = []\n",
    "for i in ds.df.default.values:\n",
    "    if i.status == 'ERROR':\n",
    "        resubmit.append(i.id)"
   ]
  },
  {
   "cell_type": "code",
   "execution_count": 194,
   "metadata": {},
   "outputs": [
    {
     "name": "stdout",
     "output_type": "stream",
     "text": [
      "default\n",
      "B3LYP-d3bj/aug-cc-pvdz\n",
      "B3LYP-d3bj/aug-cc-pvtz\n",
      "B3LYP-d3bj/def2-tzvppd\n",
      "BLYP-d3bj/dzvp\n",
      "BLYP-d3bj/aug-cc-pvdz\n",
      "BLYP-d3bj/aug-cc-pvtz\n",
      "BLYP-d3bj/def2-tzvppd\n",
      "LRC-WPBEH/dzvp\n",
      "LRC-WPBEH/aug-cc-pvdz\n",
      "LRC-WPBEH/aug-cc-pvtz\n",
      "LRC-WPBEH/def2-tzvppd\n",
      "MN15-d3bJ/dzvp\n",
      "MN15-d3bJ/aug-cc-pvdz\n",
      "MN15-d3bJ/aug-cc-pvtz\n",
      "MN15-d3bJ/def2-tzvppd\n",
      "TPSSH-d3bJ/dzvp\n",
      "TPSSH-d3bJ/aug-cc-pvdz\n",
      "TPSSH-d3bJ/aug-cc-pvtz\n",
      "TPSSH-d3bJ/def2-tzvppd\n"
     ]
    }
   ],
   "source": [
    "resubmit = []\n",
    "\n",
    "for spec in ds.list_specifications().index.tolist():\n",
    "    print(spec)\n",
    "    ds.status(spec)\n",
    "    ds.status(spec)\n",
    "    for i in ds.df[spec].values:\n",
    "        if i.status == 'ERROR':\n",
    "            resubmit.append(i.id)"
   ]
  },
  {
   "cell_type": "code",
   "execution_count": 202,
   "metadata": {},
   "outputs": [
    {
     "data": {
      "text/plain": [
       "['20548994',\n",
       " '20548997',\n",
       " '20548998',\n",
       " '19950384',\n",
       " '20550574',\n",
       " '19950392',\n",
       " '20550577',\n",
       " '19950408',\n",
       " '20550598',\n",
       " '19950411']"
      ]
     },
     "execution_count": 202,
     "metadata": {},
     "output_type": "execute_result"
    }
   ],
   "source": [
    "resubmit[:10]"
   ]
  },
  {
   "cell_type": "code",
   "execution_count": 236,
   "metadata": {},
   "outputs": [
    {
     "data": {
      "text/plain": [
       "237"
      ]
     },
     "execution_count": 236,
     "metadata": {},
     "output_type": "execute_result"
    }
   ],
   "source": [
    "len(resubmit)"
   ]
  },
  {
   "cell_type": "code",
   "execution_count": 204,
   "metadata": {},
   "outputs": [],
   "source": [
    "for r in resubmit:\n",
    "    client.modify_services(operation='restart', procedure_id=r)"
   ]
  },
  {
   "cell_type": "code",
   "execution_count": 232,
   "metadata": {},
   "outputs": [],
   "source": [
    "ds_new = client.get_collection(\"TorsionDriveDataset\", \"OpenFF Fragmenter Validation 1.0\")"
   ]
  },
  {
   "cell_type": "code",
   "execution_count": 233,
   "metadata": {},
   "outputs": [
    {
     "name": "stdout",
     "output_type": "stream",
     "text": [
      "default\n",
      "B3LYP-d3bj/aug-cc-pvdz\n",
      "B3LYP-d3bj/aug-cc-pvtz\n",
      "B3LYP-d3bj/def2-tzvppd\n",
      "BLYP-d3bj/dzvp\n",
      "BLYP-d3bj/aug-cc-pvdz\n",
      "BLYP-d3bj/aug-cc-pvtz\n",
      "BLYP-d3bj/def2-tzvppd\n",
      "LRC-WPBEH/dzvp\n",
      "LRC-WPBEH/aug-cc-pvdz\n",
      "LRC-WPBEH/aug-cc-pvtz\n",
      "LRC-WPBEH/def2-tzvppd\n",
      "MN15-d3bJ/dzvp\n",
      "MN15-d3bJ/aug-cc-pvdz\n",
      "MN15-d3bJ/aug-cc-pvtz\n",
      "MN15-d3bJ/def2-tzvppd\n",
      "TPSSH-d3bJ/dzvp\n",
      "TPSSH-d3bJ/aug-cc-pvdz\n",
      "TPSSH-d3bJ/aug-cc-pvtz\n",
      "TPSSH-d3bJ/def2-tzvppd\n"
     ]
    }
   ],
   "source": [
    "sanity_check = []\n",
    "\n",
    "for spec in ds_new.list_specifications().index.tolist():\n",
    "    print(spec)\n",
    "    try:\n",
    "        ds_new.status(spec)\n",
    "    except:\n",
    "        pass\n",
    "    ds_new.status(spec)\n",
    "    for i in ds_new.df[spec].values:\n",
    "        if i.status == 'ERROR':\n",
    "            sanity_check.append(i.id)"
   ]
  },
  {
   "cell_type": "code",
   "execution_count": 238,
   "metadata": {},
   "outputs": [
    {
     "data": {
      "text/plain": [
       "236"
      ]
     },
     "execution_count": 238,
     "metadata": {},
     "output_type": "execute_result"
    }
   ],
   "source": [
    "len(sanity_check)"
   ]
  },
  {
   "cell_type": "code",
   "execution_count": 239,
   "metadata": {},
   "outputs": [
    {
     "data": {
      "text/plain": [
       "['20548997',\n",
       " '20548998',\n",
       " '19950384',\n",
       " '20550574',\n",
       " '19950392',\n",
       " '20550577',\n",
       " '19950408',\n",
       " '20550598',\n",
       " '19950411',\n",
       " '20550600']"
      ]
     },
     "execution_count": 239,
     "metadata": {},
     "output_type": "execute_result"
    }
   ],
   "source": [
    "sanity_check[:10]"
   ]
  },
  {
   "cell_type": "code",
   "execution_count": 240,
   "metadata": {},
   "outputs": [
    {
     "name": "stdout",
     "output_type": "stream",
     "text": [
      "Data(n_updated=1)\n",
      "Data(n_updated=1)\n",
      "Data(n_updated=1)\n",
      "Data(n_updated=1)\n",
      "Data(n_updated=1)\n",
      "Data(n_updated=1)\n",
      "Data(n_updated=1)\n",
      "Data(n_updated=1)\n",
      "Data(n_updated=1)\n",
      "Data(n_updated=1)\n",
      "Data(n_updated=1)\n",
      "Data(n_updated=1)\n",
      "Data(n_updated=1)\n",
      "Data(n_updated=1)\n",
      "Data(n_updated=1)\n",
      "Data(n_updated=1)\n",
      "Data(n_updated=1)\n",
      "Data(n_updated=1)\n",
      "Data(n_updated=1)\n",
      "Data(n_updated=1)\n",
      "Data(n_updated=1)\n",
      "Data(n_updated=1)\n",
      "Data(n_updated=1)\n",
      "Data(n_updated=1)\n",
      "Data(n_updated=1)\n",
      "Data(n_updated=1)\n",
      "Data(n_updated=1)\n",
      "Data(n_updated=1)\n",
      "Data(n_updated=1)\n",
      "Data(n_updated=1)\n",
      "Data(n_updated=1)\n",
      "Data(n_updated=1)\n",
      "Data(n_updated=1)\n",
      "Data(n_updated=1)\n",
      "Data(n_updated=1)\n",
      "Data(n_updated=1)\n",
      "Data(n_updated=1)\n",
      "Data(n_updated=1)\n",
      "Data(n_updated=1)\n",
      "Data(n_updated=1)\n",
      "Data(n_updated=1)\n",
      "Data(n_updated=1)\n",
      "Data(n_updated=1)\n",
      "Data(n_updated=1)\n",
      "Data(n_updated=1)\n",
      "Data(n_updated=1)\n",
      "Data(n_updated=1)\n",
      "Data(n_updated=1)\n",
      "Data(n_updated=1)\n",
      "Data(n_updated=1)\n",
      "Data(n_updated=1)\n",
      "Data(n_updated=1)\n",
      "Data(n_updated=1)\n",
      "Data(n_updated=1)\n",
      "Data(n_updated=1)\n",
      "Data(n_updated=1)\n",
      "Data(n_updated=1)\n",
      "Data(n_updated=1)\n",
      "Data(n_updated=1)\n",
      "Data(n_updated=1)\n",
      "Data(n_updated=1)\n",
      "Data(n_updated=1)\n",
      "Data(n_updated=1)\n",
      "Data(n_updated=1)\n",
      "Data(n_updated=1)\n",
      "Data(n_updated=1)\n",
      "Data(n_updated=1)\n",
      "Data(n_updated=1)\n",
      "Data(n_updated=1)\n",
      "Data(n_updated=1)\n",
      "Data(n_updated=1)\n",
      "Data(n_updated=1)\n",
      "Data(n_updated=1)\n",
      "Data(n_updated=1)\n",
      "Data(n_updated=1)\n",
      "Data(n_updated=1)\n",
      "Data(n_updated=1)\n",
      "Data(n_updated=1)\n",
      "Data(n_updated=1)\n",
      "Data(n_updated=1)\n",
      "Data(n_updated=1)\n",
      "Data(n_updated=1)\n",
      "Data(n_updated=1)\n",
      "Data(n_updated=1)\n",
      "Data(n_updated=1)\n",
      "Data(n_updated=1)\n",
      "Data(n_updated=1)\n",
      "Data(n_updated=1)\n",
      "Data(n_updated=1)\n",
      "Data(n_updated=1)\n",
      "Data(n_updated=1)\n",
      "Data(n_updated=1)\n",
      "Data(n_updated=1)\n",
      "Data(n_updated=1)\n",
      "Data(n_updated=1)\n",
      "Data(n_updated=1)\n",
      "Data(n_updated=1)\n",
      "Data(n_updated=1)\n",
      "Data(n_updated=1)\n",
      "Data(n_updated=1)\n",
      "Data(n_updated=1)\n",
      "Data(n_updated=1)\n",
      "Data(n_updated=1)\n",
      "Data(n_updated=1)\n",
      "Data(n_updated=1)\n",
      "Data(n_updated=1)\n",
      "Data(n_updated=1)\n",
      "Data(n_updated=1)\n",
      "Data(n_updated=1)\n",
      "Data(n_updated=1)\n",
      "Data(n_updated=1)\n",
      "Data(n_updated=1)\n",
      "Data(n_updated=1)\n",
      "Data(n_updated=1)\n",
      "Data(n_updated=1)\n",
      "Data(n_updated=1)\n",
      "Data(n_updated=1)\n",
      "Data(n_updated=1)\n",
      "Data(n_updated=1)\n",
      "Data(n_updated=1)\n",
      "Data(n_updated=1)\n",
      "Data(n_updated=1)\n",
      "Data(n_updated=1)\n",
      "Data(n_updated=1)\n",
      "Data(n_updated=1)\n",
      "Data(n_updated=1)\n",
      "Data(n_updated=1)\n",
      "Data(n_updated=1)\n",
      "Data(n_updated=1)\n",
      "Data(n_updated=1)\n",
      "Data(n_updated=1)\n",
      "Data(n_updated=1)\n",
      "Data(n_updated=1)\n",
      "Data(n_updated=1)\n",
      "Data(n_updated=1)\n",
      "Data(n_updated=1)\n",
      "Data(n_updated=1)\n",
      "Data(n_updated=1)\n",
      "Data(n_updated=1)\n",
      "Data(n_updated=1)\n",
      "Data(n_updated=1)\n",
      "Data(n_updated=1)\n",
      "Data(n_updated=1)\n",
      "Data(n_updated=1)\n",
      "Data(n_updated=1)\n",
      "Data(n_updated=1)\n",
      "Data(n_updated=1)\n",
      "Data(n_updated=1)\n",
      "Data(n_updated=1)\n",
      "Data(n_updated=1)\n",
      "Data(n_updated=1)\n",
      "Data(n_updated=1)\n",
      "Data(n_updated=1)\n",
      "Data(n_updated=1)\n",
      "Data(n_updated=1)\n",
      "Data(n_updated=1)\n",
      "Data(n_updated=1)\n",
      "Data(n_updated=1)\n",
      "Data(n_updated=1)\n",
      "Data(n_updated=1)\n",
      "Data(n_updated=1)\n",
      "Data(n_updated=1)\n",
      "Data(n_updated=1)\n",
      "Data(n_updated=1)\n",
      "Data(n_updated=1)\n",
      "Data(n_updated=1)\n",
      "Data(n_updated=1)\n",
      "Data(n_updated=1)\n",
      "Data(n_updated=1)\n",
      "Data(n_updated=1)\n",
      "Data(n_updated=1)\n",
      "Data(n_updated=1)\n",
      "Data(n_updated=1)\n",
      "Data(n_updated=1)\n",
      "Data(n_updated=1)\n",
      "Data(n_updated=1)\n",
      "Data(n_updated=1)\n",
      "Data(n_updated=1)\n",
      "Data(n_updated=1)\n",
      "Data(n_updated=1)\n",
      "Data(n_updated=1)\n",
      "Data(n_updated=1)\n",
      "Data(n_updated=1)\n",
      "Data(n_updated=1)\n",
      "Data(n_updated=1)\n",
      "Data(n_updated=1)\n",
      "Data(n_updated=1)\n",
      "Data(n_updated=1)\n",
      "Data(n_updated=1)\n",
      "Data(n_updated=1)\n",
      "Data(n_updated=1)\n",
      "Data(n_updated=1)\n",
      "Data(n_updated=1)\n",
      "Data(n_updated=1)\n",
      "Data(n_updated=1)\n",
      "Data(n_updated=1)\n",
      "Data(n_updated=1)\n",
      "Data(n_updated=1)\n",
      "Data(n_updated=1)\n",
      "Data(n_updated=1)\n",
      "Data(n_updated=1)\n",
      "Data(n_updated=1)\n",
      "Data(n_updated=1)\n",
      "Data(n_updated=1)\n",
      "Data(n_updated=1)\n",
      "Data(n_updated=1)\n",
      "Data(n_updated=1)\n",
      "Data(n_updated=1)\n",
      "Data(n_updated=1)\n",
      "Data(n_updated=1)\n",
      "Data(n_updated=1)\n",
      "Data(n_updated=1)\n",
      "Data(n_updated=1)\n",
      "Data(n_updated=1)\n",
      "Data(n_updated=1)\n",
      "Data(n_updated=1)\n",
      "Data(n_updated=1)\n",
      "Data(n_updated=1)\n",
      "Data(n_updated=1)\n",
      "Data(n_updated=1)\n",
      "Data(n_updated=1)\n",
      "Data(n_updated=1)\n",
      "Data(n_updated=1)\n",
      "Data(n_updated=1)\n",
      "Data(n_updated=1)\n",
      "Data(n_updated=1)\n",
      "Data(n_updated=1)\n",
      "Data(n_updated=1)\n",
      "Data(n_updated=1)\n",
      "Data(n_updated=1)\n",
      "Data(n_updated=1)\n",
      "Data(n_updated=1)\n",
      "Data(n_updated=1)\n",
      "Data(n_updated=1)\n",
      "Data(n_updated=1)\n",
      "Data(n_updated=1)\n"
     ]
    }
   ],
   "source": [
    "for r in sanity_check:\n",
    "    print(client.modify_services(operation='restart', procedure_id=int(r)))"
   ]
  },
  {
   "cell_type": "code",
   "execution_count": 251,
   "metadata": {},
   "outputs": [],
   "source": [
    "ds_new2 = client.get_collection(\"TorsionDriveDataset\", \"OpenFF Fragmenter Validation 1.0\")"
   ]
  },
  {
   "cell_type": "code",
   "execution_count": 252,
   "metadata": {},
   "outputs": [
    {
     "name": "stdout",
     "output_type": "stream",
     "text": [
      "default\n",
      "B3LYP-d3bj/aug-cc-pvdz\n",
      "B3LYP-d3bj/aug-cc-pvtz\n",
      "B3LYP-d3bj/def2-tzvppd\n",
      "BLYP-d3bj/dzvp\n",
      "BLYP-d3bj/aug-cc-pvdz\n",
      "BLYP-d3bj/aug-cc-pvtz\n",
      "BLYP-d3bj/def2-tzvppd\n",
      "LRC-WPBEH/dzvp\n",
      "LRC-WPBEH/aug-cc-pvdz\n",
      "LRC-WPBEH/aug-cc-pvtz\n",
      "LRC-WPBEH/def2-tzvppd\n",
      "MN15-d3bJ/dzvp\n",
      "MN15-d3bJ/aug-cc-pvdz\n",
      "MN15-d3bJ/aug-cc-pvtz\n",
      "MN15-d3bJ/def2-tzvppd\n",
      "TPSSH-d3bJ/dzvp\n",
      "TPSSH-d3bJ/aug-cc-pvdz\n",
      "TPSSH-d3bJ/aug-cc-pvtz\n",
      "TPSSH-d3bJ/def2-tzvppd\n"
     ]
    }
   ],
   "source": [
    "sanity_check2 = []\n",
    "\n",
    "for spec in ds_new2.list_specifications().index.tolist():\n",
    "    print(spec)\n",
    "    try:\n",
    "        ds_new2.status(spec)\n",
    "    except:\n",
    "        pass\n",
    "    ds_new2.status(spec)\n",
    "    for i in ds_new2.df[spec].values:\n",
    "        if i.status == 'ERROR':\n",
    "            sanity_check2.append(i.id)"
   ]
  },
  {
   "cell_type": "code",
   "execution_count": 253,
   "metadata": {},
   "outputs": [
    {
     "data": {
      "text/plain": [
       "237"
      ]
     },
     "execution_count": 253,
     "metadata": {},
     "output_type": "execute_result"
    }
   ],
   "source": [
    "len(sanity_check2)"
   ]
  },
  {
   "cell_type": "code",
   "execution_count": 254,
   "metadata": {},
   "outputs": [
    {
     "data": {
      "text/plain": [
       "['20548994',\n",
       " '20548997',\n",
       " '20548998',\n",
       " '19950384',\n",
       " '20550574',\n",
       " '19950392',\n",
       " '20550577',\n",
       " '19950408',\n",
       " '20550598',\n",
       " '19950411']"
      ]
     },
     "execution_count": 254,
     "metadata": {},
     "output_type": "execute_result"
    }
   ],
   "source": [
    "sanity_check2[:10]"
   ]
  },
  {
   "cell_type": "code",
   "execution_count": 250,
   "metadata": {},
   "outputs": [
    {
     "data": {
      "text/html": [
       "<div>\n",
       "<style scoped>\n",
       "    .dataframe tbody tr th:only-of-type {\n",
       "        vertical-align: middle;\n",
       "    }\n",
       "\n",
       "    .dataframe tbody tr th {\n",
       "        vertical-align: top;\n",
       "    }\n",
       "\n",
       "    .dataframe thead th {\n",
       "        text-align: right;\n",
       "    }\n",
       "</style>\n",
       "<table border=\"1\" class=\"dataframe\">\n",
       "  <thead>\n",
       "    <tr style=\"text-align: right;\">\n",
       "      <th></th>\n",
       "      <th>default</th>\n",
       "    </tr>\n",
       "  </thead>\n",
       "  <tbody>\n",
       "    <tr>\n",
       "      <th>COMPLETE</th>\n",
       "      <td>11</td>\n",
       "    </tr>\n",
       "    <tr>\n",
       "      <th>RUNNING</th>\n",
       "      <td>8</td>\n",
       "    </tr>\n",
       "    <tr>\n",
       "      <th>ERROR</th>\n",
       "      <td>3</td>\n",
       "    </tr>\n",
       "  </tbody>\n",
       "</table>\n",
       "</div>"
      ],
      "text/plain": [
       "          default\n",
       "COMPLETE       11\n",
       "RUNNING         8\n",
       "ERROR           3"
      ]
     },
     "execution_count": 250,
     "metadata": {},
     "output_type": "execute_result"
    }
   ],
   "source": [
    "ds_new2.status('default')"
   ]
  },
  {
   "cell_type": "markdown",
   "metadata": {},
   "source": [
    "### Fragmenter paper"
   ]
  },
  {
   "cell_type": "code",
   "execution_count": 5,
   "metadata": {},
   "outputs": [],
   "source": [
    "ds = client.get_collection(\"TorsionDriveDataset\", \"Fragmenter paper\")"
   ]
  },
  {
   "cell_type": "code",
   "execution_count": 7,
   "metadata": {},
   "outputs": [
    {
     "data": {
      "text/html": [
       "<div>\n",
       "<style scoped>\n",
       "    .dataframe tbody tr th:only-of-type {\n",
       "        vertical-align: middle;\n",
       "    }\n",
       "\n",
       "    .dataframe tbody tr th {\n",
       "        vertical-align: top;\n",
       "    }\n",
       "\n",
       "    .dataframe thead th {\n",
       "        text-align: right;\n",
       "    }\n",
       "</style>\n",
       "<table border=\"1\" class=\"dataframe\">\n",
       "  <thead>\n",
       "    <tr style=\"text-align: right;\">\n",
       "      <th></th>\n",
       "      <th>default</th>\n",
       "    </tr>\n",
       "  </thead>\n",
       "  <tbody>\n",
       "    <tr>\n",
       "      <th>COMPLETE</th>\n",
       "      <td>8</td>\n",
       "    </tr>\n",
       "    <tr>\n",
       "      <th>ERROR</th>\n",
       "      <td>8</td>\n",
       "    </tr>\n",
       "    <tr>\n",
       "      <th>RUNNING</th>\n",
       "      <td>6</td>\n",
       "    </tr>\n",
       "  </tbody>\n",
       "</table>\n",
       "</div>"
      ],
      "text/plain": [
       "          default\n",
       "COMPLETE        8\n",
       "ERROR           8\n",
       "RUNNING         6"
      ]
     },
     "execution_count": 7,
     "metadata": {},
     "output_type": "execute_result"
    }
   ],
   "source": [
    "ds.status(\"default\")"
   ]
  },
  {
   "cell_type": "code",
   "execution_count": null,
   "metadata": {},
   "outputs": [],
   "source": [
    "ds.df"
   ]
  },
  {
   "cell_type": "code",
   "execution_count": 8,
   "metadata": {},
   "outputs": [
    {
     "data": {
      "text/html": [
       "<div>\n",
       "<style scoped>\n",
       "    .dataframe tbody tr th:only-of-type {\n",
       "        vertical-align: middle;\n",
       "    }\n",
       "\n",
       "    .dataframe tbody tr th {\n",
       "        vertical-align: top;\n",
       "    }\n",
       "\n",
       "    .dataframe thead th {\n",
       "        text-align: right;\n",
       "    }\n",
       "</style>\n",
       "<table border=\"1\" class=\"dataframe\">\n",
       "  <thead>\n",
       "    <tr style=\"text-align: right;\">\n",
       "      <th></th>\n",
       "      <th>default</th>\n",
       "    </tr>\n",
       "  </thead>\n",
       "  <tbody>\n",
       "    <tr>\n",
       "      <th>Cc1c[c:2]([c:1]2ccccc2c1OP(=O)([O-])[O-])[O:3][P:4](=O)([O-])[O-]</th>\n",
       "      <td>TorsionDriveRecord(id='19712153', status='RUNN...</td>\n",
       "    </tr>\n",
       "    <tr>\n",
       "      <th>c1cc[c:1]2c(c1)ccc[c:2]2[O:3][P:4](=O)([O-])[O-]</th>\n",
       "      <td>TorsionDriveRecord(id='19712154', status='RUNN...</td>\n",
       "    </tr>\n",
       "    <tr>\n",
       "      <th>c1ccc(cc1)C[CH2:1][NH:2]/[C:3](=[NH+:4]/C(=[NH2+])N)/N</th>\n",
       "      <td>TorsionDriveRecord(id='19712155', status='RUNN...</td>\n",
       "    </tr>\n",
       "    <tr>\n",
       "      <th>C[CH2:1][NH:2]/[C:3](=[NH+:4]/C=[NH2+])/N</th>\n",
       "      <td>TorsionDriveRecord(id='19712156', status='RUNN...</td>\n",
       "    </tr>\n",
       "    <tr>\n",
       "      <th>C[CH2:1][NH:2]/[C:3](=[NH+:4]/C)/N</th>\n",
       "      <td>TorsionDriveRecord(id='19712157', status='RUNN...</td>\n",
       "    </tr>\n",
       "    <tr>\n",
       "      <th>Cc1c([nH]cn1)CSC[CH2:1][NH:2]/[C:3](=N\\C#N)/[NH:4]C</th>\n",
       "      <td>TorsionDriveRecord(id='19712158', status='RUNN...</td>\n",
       "    </tr>\n",
       "    <tr>\n",
       "      <th>C[CH2:1][NH:2]/[C:3](=[N:4]\\C#N)/NC</th>\n",
       "      <td>TorsionDriveRecord(id='19712159', status='RUNN...</td>\n",
       "    </tr>\n",
       "    <tr>\n",
       "      <th>C[CH2:1][NH:2]/[C:3](=[N:4]\\C)/NC</th>\n",
       "      <td>TorsionDriveRecord(id='19712160', status='RUNN...</td>\n",
       "    </tr>\n",
       "    <tr>\n",
       "      <th>c1cc(oc1)[CH2:1][NH:2][c:3]2cc(c(c[c:4]2C(=O)[O-])S(=O)(=O)N)Cl</th>\n",
       "      <td>TorsionDriveRecord(id='19712161', status='RUNN...</td>\n",
       "    </tr>\n",
       "    <tr>\n",
       "      <th>c1cc(oc1)[CH2:4][NH:3][c:2]2cc(c(c[c:1]2C(=O)[O-])S(=O)(=O)N)Cl</th>\n",
       "      <td>TorsionDriveRecord(id='19712162', status='RUNN...</td>\n",
       "    </tr>\n",
       "    <tr>\n",
       "      <th>c1cc[c:2]([c:1](c1)C(=O)[O-])[NH:3][CH2:4]c2ccco2</th>\n",
       "      <td>TorsionDriveRecord(id='19712163', status='RUNN...</td>\n",
       "    </tr>\n",
       "    <tr>\n",
       "      <th>c1cc(oc1)CNc2c[c:1]([c:2](cc2C(=O)[O-])[S:3](=[O:4])(=O)N)Cl</th>\n",
       "      <td>TorsionDriveRecord(id='19712164', status='RUNN...</td>\n",
       "    </tr>\n",
       "    <tr>\n",
       "      <th>c1c[c:1]([c:2](cc1C(=O)[O-])[S:3](=[O:4])(=O)N)Cl</th>\n",
       "      <td>TorsionDriveRecord(id='19712165', status='ERROR')</td>\n",
       "    </tr>\n",
       "    <tr>\n",
       "      <th>c1cc[c:1]([c:2](c1)[S:3](=[O:4])(=O)N)Cl</th>\n",
       "      <td>TorsionDriveRecord(id='19712166', status='ERROR')</td>\n",
       "    </tr>\n",
       "    <tr>\n",
       "      <th>CC[NH+](CC)C[CH2:4][O:3][C:2](=[O:1])c1ccc(cc1Cl)N</th>\n",
       "      <td>TorsionDriveRecord(id='19712167', status='RUNN...</td>\n",
       "    </tr>\n",
       "    <tr>\n",
       "      <th>c1ccc(c(c1)[C:3](=[O:4])[O:2][CH2:1]C[NH3+])Cl</th>\n",
       "      <td>TorsionDriveRecord(id='19712168', status='RUNN...</td>\n",
       "    </tr>\n",
       "    <tr>\n",
       "      <th>C[CH2:1][O:2][C:3](=[O:4])c1ccccc1Cl</th>\n",
       "      <td>TorsionDriveRecord(id='19712169', status='RUNN...</td>\n",
       "    </tr>\n",
       "    <tr>\n",
       "      <th>c1c(cc([c:2]([c:1]1I)[O:3][c:4]2cc(c(c(c2)I)[O-])I)I)C[C@H](C(=O)[O-])[NH3+]</th>\n",
       "      <td>TorsionDriveRecord(id='19712170', status='RUNN...</td>\n",
       "    </tr>\n",
       "    <tr>\n",
       "      <th>Cc1c[c:1]([c:2](c(c1)I)[O:3][c:4]2cc(c(c(c2)I)[O-])I)I</th>\n",
       "      <td>TorsionDriveRecord(id='19712171', status='RUNN...</td>\n",
       "    </tr>\n",
       "    <tr>\n",
       "      <th>c1cc[c:1](cc1)[O:2][c:3]2c(ccc[c:4]2I)I</th>\n",
       "      <td>TorsionDriveRecord(id='19712172', status='ERROR')</td>\n",
       "    </tr>\n",
       "    <tr>\n",
       "      <th>CC(=O)Oc1ccccc1[C:1](=O)[NH:2][c:3]2ncc([s:4]2)[N+](=O)[O-]</th>\n",
       "      <td>TorsionDriveRecord(id='19712173', status='RUNN...</td>\n",
       "    </tr>\n",
       "    <tr>\n",
       "      <th>CC(=O)Oc1ccccc1[C:1](=O)[NH:2][c:3]2ncc[s:4]2</th>\n",
       "      <td>TorsionDriveRecord(id='19712174', status='RUNN...</td>\n",
       "    </tr>\n",
       "  </tbody>\n",
       "</table>\n",
       "</div>"
      ],
      "text/plain": [
       "                                                                                              default\n",
       "Cc1c[c:2]([c:1]2ccccc2c1OP(=O)([O-])[O-])[O:3][...  TorsionDriveRecord(id='19712153', status='RUNN...\n",
       "c1cc[c:1]2c(c1)ccc[c:2]2[O:3][P:4](=O)([O-])[O-]    TorsionDriveRecord(id='19712154', status='RUNN...\n",
       "c1ccc(cc1)C[CH2:1][NH:2]/[C:3](=[NH+:4]/C(=[NH2...  TorsionDriveRecord(id='19712155', status='RUNN...\n",
       "C[CH2:1][NH:2]/[C:3](=[NH+:4]/C=[NH2+])/N           TorsionDriveRecord(id='19712156', status='RUNN...\n",
       "C[CH2:1][NH:2]/[C:3](=[NH+:4]/C)/N                  TorsionDriveRecord(id='19712157', status='RUNN...\n",
       "Cc1c([nH]cn1)CSC[CH2:1][NH:2]/[C:3](=N\\C#N)/[NH...  TorsionDriveRecord(id='19712158', status='RUNN...\n",
       "C[CH2:1][NH:2]/[C:3](=[N:4]\\C#N)/NC                 TorsionDriveRecord(id='19712159', status='RUNN...\n",
       "C[CH2:1][NH:2]/[C:3](=[N:4]\\C)/NC                   TorsionDriveRecord(id='19712160', status='RUNN...\n",
       "c1cc(oc1)[CH2:1][NH:2][c:3]2cc(c(c[c:4]2C(=O)[O...  TorsionDriveRecord(id='19712161', status='RUNN...\n",
       "c1cc(oc1)[CH2:4][NH:3][c:2]2cc(c(c[c:1]2C(=O)[O...  TorsionDriveRecord(id='19712162', status='RUNN...\n",
       "c1cc[c:2]([c:1](c1)C(=O)[O-])[NH:3][CH2:4]c2ccco2   TorsionDriveRecord(id='19712163', status='RUNN...\n",
       "c1cc(oc1)CNc2c[c:1]([c:2](cc2C(=O)[O-])[S:3](=[...  TorsionDriveRecord(id='19712164', status='RUNN...\n",
       "c1c[c:1]([c:2](cc1C(=O)[O-])[S:3](=[O:4])(=O)N)Cl   TorsionDriveRecord(id='19712165', status='ERROR')\n",
       "c1cc[c:1]([c:2](c1)[S:3](=[O:4])(=O)N)Cl            TorsionDriveRecord(id='19712166', status='ERROR')\n",
       "CC[NH+](CC)C[CH2:4][O:3][C:2](=[O:1])c1ccc(cc1Cl)N  TorsionDriveRecord(id='19712167', status='RUNN...\n",
       "c1ccc(c(c1)[C:3](=[O:4])[O:2][CH2:1]C[NH3+])Cl      TorsionDriveRecord(id='19712168', status='RUNN...\n",
       "C[CH2:1][O:2][C:3](=[O:4])c1ccccc1Cl                TorsionDriveRecord(id='19712169', status='RUNN...\n",
       "c1c(cc([c:2]([c:1]1I)[O:3][c:4]2cc(c(c(c2)I)[O-...  TorsionDriveRecord(id='19712170', status='RUNN...\n",
       "Cc1c[c:1]([c:2](c(c1)I)[O:3][c:4]2cc(c(c(c2)I)[...  TorsionDriveRecord(id='19712171', status='RUNN...\n",
       "c1cc[c:1](cc1)[O:2][c:3]2c(ccc[c:4]2I)I             TorsionDriveRecord(id='19712172', status='ERROR')\n",
       "CC(=O)Oc1ccccc1[C:1](=O)[NH:2][c:3]2ncc([s:4]2)...  TorsionDriveRecord(id='19712173', status='RUNN...\n",
       "CC(=O)Oc1ccccc1[C:1](=O)[NH:2][c:3]2ncc[s:4]2       TorsionDriveRecord(id='19712174', status='RUNN..."
      ]
     },
     "execution_count": 8,
     "metadata": {},
     "output_type": "execute_result"
    }
   ],
   "source": [
    "ds.df"
   ]
  },
  {
   "cell_type": "code",
   "execution_count": 21,
   "metadata": {},
   "outputs": [
    {
     "data": {
      "text/plain": [
       "TorsionDriveRecord(id='19712153', status='INCOMPLETE')"
      ]
     },
     "execution_count": 21,
     "metadata": {},
     "output_type": "execute_result"
    }
   ],
   "source": [
    "tdr = ds.df.default.iloc[0]\n",
    "tdr"
   ]
  },
  {
   "cell_type": "code",
   "execution_count": 25,
   "metadata": {},
   "outputs": [
    {
     "data": {
      "text/plain": [
       "{'status': 'INCOMPLETE',\n",
       " 'total_points': 24,\n",
       " 'computed_points': 0,\n",
       " 'complete_tasks': 0,\n",
       " 'incomplete_tasks': 0,\n",
       " 'error_tasks': 0,\n",
       " 'current_tasks': 0,\n",
       " 'percent_complete': 0.0,\n",
       " 'errors': []}"
      ]
     },
     "execution_count": 25,
     "metadata": {},
     "output_type": "execute_result"
    }
   ],
   "source": [
    "tdr.detailed_status()"
   ]
  },
  {
   "cell_type": "markdown",
   "metadata": {},
   "source": [
    "## Data model"
   ]
  },
  {
   "cell_type": "code",
   "execution_count": 27,
   "metadata": {},
   "outputs": [],
   "source": [
    "dm = ds.data"
   ]
  },
  {
   "cell_type": "code",
   "execution_count": 35,
   "metadata": {},
   "outputs": [
    {
     "data": {
      "text/plain": [
       "TDEntry(name='Cc1c[c:2]([c:1]2ccccc2c1OP(=O)([O-])[O-])[O:3][P:4](=O)([O-])[O-]', initial_molecules={'13285308'}, td_keywords=TDKeywords(dihedrals=[(5, 8, 17, 19)], grid_spacing=[15], dihedral_ranges=None, energy_decrease_thresh=None, energy_upper_limit=0.1), attributes={'canonical_smiles': 'Cc1cc(c2ccccc2c1OP(=O)([O-])[O-])OP(=O)([O-])[O-]', 'canonical_isomeric_smiles': 'Cc1cc(c2ccccc2c1OP(=O)([O-])[O-])OP(=O)([O-])[O-]', 'canonical_explicit_hydrogen_smiles': '[H]c1c(c(c2c(c1[H])c(c(c(c2OP(=O)([O-])[O-])C([H])([H])[H])[H])OP(=O)([O-])[O-])[H])[H]', 'canonical_isomeric_explicit_hydrogen_smiles': '[H]c1c(c(c2c(c1[H])c(c(c(c2OP(=O)([O-])[O-])C([H])([H])[H])[H])OP(=O)([O-])[O-])[H])[H]', 'canonical_isomeric_explicit_hydrogen_mapped_smiles': '[H:22][c:1]1[c:2]([c:4]([c:7]2[c:6]([c:3]1[H:24])[c:9]([c:5]([c:8]([c:10]2[O:19][P:21](=[O:17])([O-:14])[O-:15])[C:11]([H:27])([H:28])[H:29])[H:26])[O:18][P:20](=[O:16])([O-:12])[O-:13])[H:25])[H:23]', 'molecular_formula': 'C11H8O8P2', 'standard_inchi': 'InChI=1S/C11H12O8P2/c1-7-6-10(18-20(12,13)14)8-4-2-3-5-9(8)11(7)19-21(15,16)17/h2-6H,1H3,(H2,12,13,14)(H2,15,16,17)/p-4', 'inchi_key': 'JTNHOVZOOVVGHI-UHFFFAOYSA-J', 'unique_tautomer_representation': 'Cc1cc(OP(=O)([O-])[O-])c2ccccc2c1OP(=O)([O-])[O-]', 'unique_protomer_representation': 'Cc1cc(c2ccccc2c1OP(=O)(O)O)OP(=O)(O)O', 'provenance': 'cmiles_v0.1.5+1.gdbd63e8_openeye_2019.Apr.2'}, object_map={'default': '19712153'})"
      ]
     },
     "execution_count": 35,
     "metadata": {},
     "output_type": "execute_result"
    }
   ],
   "source": [
    "list(dm.records.values())[0]"
   ]
  },
  {
   "cell_type": "code",
   "execution_count": null,
   "metadata": {},
   "outputs": [],
   "source": []
  },
  {
   "cell_type": "code",
   "execution_count": 37,
   "metadata": {},
   "outputs": [],
   "source": [
    "mol = client.query_molecules('13285308')[0]"
   ]
  },
  {
   "cell_type": "code",
   "execution_count": 41,
   "metadata": {},
   "outputs": [
    {
     "data": {
      "text/plain": [
       "qcelemental.models.molecule.Molecule"
      ]
     },
     "execution_count": 41,
     "metadata": {},
     "output_type": "execute_result"
    }
   ],
   "source": [
    "mol.__class__"
   ]
  },
  {
   "cell_type": "code",
   "execution_count": 43,
   "metadata": {},
   "outputs": [],
   "source": [
    "client.query_results?"
   ]
  },
  {
   "cell_type": "code",
   "execution_count": 44,
   "metadata": {},
   "outputs": [
    {
     "data": {
      "text/plain": [
       "[]"
      ]
     },
     "execution_count": 44,
     "metadata": {},
     "output_type": "execute_result"
    }
   ],
   "source": [
    "client.query_results(molecule='13285308')"
   ]
  },
  {
   "cell_type": "code",
   "execution_count": 47,
   "metadata": {},
   "outputs": [
    {
     "data": {
      "text/plain": [
       "[TorsionDriveRecord(id='19712153', status='INCOMPLETE')]"
      ]
     },
     "execution_count": 47,
     "metadata": {},
     "output_type": "execute_result"
    }
   ],
   "source": [
    "client.query_procedures('19712153')"
   ]
  },
  {
   "cell_type": "code",
   "execution_count": 51,
   "metadata": {},
   "outputs": [],
   "source": [
    "ds = client.get_collection(\"OptimizationDataset\", \"OpenFF Gen 2 Opt Set 5 Bayer\")"
   ]
  },
  {
   "cell_type": "code",
   "execution_count": 52,
   "metadata": {},
   "outputs": [
    {
     "data": {
      "text/plain": [
       "<OptimizationDataset(name=`OpenFF Gen 2 Opt Set 5 Bayer`, id='270', client='https://api.qcarchive.molssi.org:443/') >"
      ]
     },
     "execution_count": 52,
     "metadata": {},
     "output_type": "execute_result"
    }
   ],
   "source": [
    "ds"
   ]
  },
  {
   "cell_type": "code",
   "execution_count": 58,
   "metadata": {},
   "outputs": [
    {
     "data": {
      "text/html": [
       "<div>\n",
       "<style scoped>\n",
       "    .dataframe tbody tr th:only-of-type {\n",
       "        vertical-align: middle;\n",
       "    }\n",
       "\n",
       "    .dataframe tbody tr th {\n",
       "        vertical-align: top;\n",
       "    }\n",
       "\n",
       "    .dataframe thead th {\n",
       "        text-align: right;\n",
       "    }\n",
       "</style>\n",
       "<table border=\"1\" class=\"dataframe\">\n",
       "  <thead>\n",
       "    <tr style=\"text-align: right;\">\n",
       "      <th></th>\n",
       "      <th>default</th>\n",
       "    </tr>\n",
       "  </thead>\n",
       "  <tbody>\n",
       "    <tr>\n",
       "      <th>COMPLETE</th>\n",
       "      <td>1783</td>\n",
       "    </tr>\n",
       "    <tr>\n",
       "      <th>INCOMPLETE</th>\n",
       "      <td>59</td>\n",
       "    </tr>\n",
       "    <tr>\n",
       "      <th>ERROR</th>\n",
       "      <td>8</td>\n",
       "    </tr>\n",
       "  </tbody>\n",
       "</table>\n",
       "</div>"
      ],
      "text/plain": [
       "            default\n",
       "COMPLETE       1783\n",
       "INCOMPLETE       59\n",
       "ERROR             8"
      ]
     },
     "execution_count": 58,
     "metadata": {},
     "output_type": "execute_result"
    }
   ],
   "source": [
    "ds.status(\"default\")"
   ]
  },
  {
   "cell_type": "code",
   "execution_count": 59,
   "metadata": {},
   "outputs": [],
   "source": [
    "ds = client.get_collection(\"Dataset\", \"OpenFF Gen 2 Opt Set 5 Bayer\")"
   ]
  },
  {
   "cell_type": "code",
   "execution_count": 61,
   "metadata": {},
   "outputs": [
    {
     "ename": "AttributeError",
     "evalue": "'Dataset' object has no attribute 'status'",
     "output_type": "error",
     "traceback": [
      "\u001b[0;31m---------------------------------------------------------------------------\u001b[0m",
      "\u001b[0;31mAttributeError\u001b[0m                            Traceback (most recent call last)",
      "\u001b[0;32m<ipython-input-61-91f7c8566da0>\u001b[0m in \u001b[0;36m<module>\u001b[0;34m\u001b[0m\n\u001b[0;32m----> 1\u001b[0;31m \u001b[0mds\u001b[0m\u001b[0;34m.\u001b[0m\u001b[0mstatus\u001b[0m\u001b[0;34m(\u001b[0m\u001b[0;34m'default'\u001b[0m\u001b[0;34m)\u001b[0m\u001b[0;34m\u001b[0m\u001b[0;34m\u001b[0m\u001b[0m\n\u001b[0m",
      "\u001b[0;31mAttributeError\u001b[0m: 'Dataset' object has no attribute 'status'"
     ]
    }
   ],
   "source": [
    "ds.status('default')"
   ]
  },
  {
   "cell_type": "code",
   "execution_count": 63,
   "metadata": {},
   "outputs": [],
   "source": [
    "recs = ds.get_records('b3lyp-d3bj')"
   ]
  },
  {
   "cell_type": "code",
   "execution_count": 64,
   "metadata": {},
   "outputs": [
    {
     "data": {
      "text/html": [
       "<div>\n",
       "<style scoped>\n",
       "    .dataframe tbody tr th:only-of-type {\n",
       "        vertical-align: middle;\n",
       "    }\n",
       "\n",
       "    .dataframe tbody tr th {\n",
       "        vertical-align: top;\n",
       "    }\n",
       "\n",
       "    .dataframe thead th {\n",
       "        text-align: right;\n",
       "    }\n",
       "</style>\n",
       "<table border=\"1\" class=\"dataframe\">\n",
       "  <thead>\n",
       "    <tr style=\"text-align: right;\">\n",
       "      <th></th>\n",
       "      <th>record</th>\n",
       "    </tr>\n",
       "    <tr>\n",
       "      <th>index</th>\n",
       "      <th></th>\n",
       "    </tr>\n",
       "  </thead>\n",
       "  <tbody>\n",
       "    <tr>\n",
       "      <th>CC(C)C(=O)c1cc(cc(c1OC)Cl)O-0</th>\n",
       "      <td>ResultRecord(id='19453263', status='COMPLETE')</td>\n",
       "    </tr>\n",
       "    <tr>\n",
       "      <th>C[C@@H](c1ccccc1F)/[NH+]=C\\2/NCCO2-3</th>\n",
       "      <td>ResultRecord(id='19519307', status='COMPLETE')</td>\n",
       "    </tr>\n",
       "    <tr>\n",
       "      <th>CCc1cccc(c1)N(CC)C(=O)CO-1</th>\n",
       "      <td>ResultRecord(id='19519329', status='COMPLETE')</td>\n",
       "    </tr>\n",
       "    <tr>\n",
       "      <th>CC(C)c1ccc(cc1C(=O)O)O-0</th>\n",
       "      <td>NaN</td>\n",
       "    </tr>\n",
       "    <tr>\n",
       "      <th>CCCOc1ccc(cc1OC)CCN-0</th>\n",
       "      <td>ResultRecord(id='19453440', status='COMPLETE')</td>\n",
       "    </tr>\n",
       "    <tr>\n",
       "      <th>...</th>\n",
       "      <td>...</td>\n",
       "    </tr>\n",
       "    <tr>\n",
       "      <th>CC(C)Nc1c2cc(c(cc2ncn1)OCCCC[S@@](=N)(=O)C)OC-3</th>\n",
       "      <td>ResultRecord(id='19453499', status='COMPLETE')</td>\n",
       "    </tr>\n",
       "    <tr>\n",
       "      <th>CC(C)Nc1c2cc(c(cc2ncn1)OCCCC[S@@](=N)(=O)C)OC-4</th>\n",
       "      <td>ResultRecord(id='19453514', status='COMPLETE')</td>\n",
       "    </tr>\n",
       "    <tr>\n",
       "      <th>Cc1c2c3c(cccc3[nH]1)[C@@H]4C[C@@H](CN([C@@H]4C2)C#N)C(=O)OC-1</th>\n",
       "      <td>ResultRecord(id='19453586', status='COMPLETE')</td>\n",
       "    </tr>\n",
       "    <tr>\n",
       "      <th>Cc1c2c3c(cccc3[nH]1)[C@@H]4C[C@@H](CN([C@@H]4C2)C#N)C(=O)OC-2</th>\n",
       "      <td>ResultRecord(id='19453279', status='COMPLETE')</td>\n",
       "    </tr>\n",
       "    <tr>\n",
       "      <th>Cc1c2c3c(cccc3[nH]1)[C@@H]4C[C@@H](CN([C@@H]4C2)C#N)C(=O)OC-3</th>\n",
       "      <td>ResultRecord(id='19453232', status='COMPLETE')</td>\n",
       "    </tr>\n",
       "  </tbody>\n",
       "</table>\n",
       "<p>1772 rows × 1 columns</p>\n",
       "</div>"
      ],
      "text/plain": [
       "                                                                                            record\n",
       "index                                                                                             \n",
       "CC(C)C(=O)c1cc(cc(c1OC)Cl)O-0                       ResultRecord(id='19453263', status='COMPLETE')\n",
       "C[C@@H](c1ccccc1F)/[NH+]=C\\2/NCCO2-3                ResultRecord(id='19519307', status='COMPLETE')\n",
       "CCc1cccc(c1)N(CC)C(=O)CO-1                          ResultRecord(id='19519329', status='COMPLETE')\n",
       "CC(C)c1ccc(cc1C(=O)O)O-0                                                                       NaN\n",
       "CCCOc1ccc(cc1OC)CCN-0                               ResultRecord(id='19453440', status='COMPLETE')\n",
       "...                                                                                            ...\n",
       "CC(C)Nc1c2cc(c(cc2ncn1)OCCCC[S@@](=N)(=O)C)OC-3     ResultRecord(id='19453499', status='COMPLETE')\n",
       "CC(C)Nc1c2cc(c(cc2ncn1)OCCCC[S@@](=N)(=O)C)OC-4     ResultRecord(id='19453514', status='COMPLETE')\n",
       "Cc1c2c3c(cccc3[nH]1)[C@@H]4C[C@@H](CN([C@@H]4C2...  ResultRecord(id='19453586', status='COMPLETE')\n",
       "Cc1c2c3c(cccc3[nH]1)[C@@H]4C[C@@H](CN([C@@H]4C2...  ResultRecord(id='19453279', status='COMPLETE')\n",
       "Cc1c2c3c(cccc3[nH]1)[C@@H]4C[C@@H](CN([C@@H]4C2...  ResultRecord(id='19453232', status='COMPLETE')\n",
       "\n",
       "[1772 rows x 1 columns]"
      ]
     },
     "execution_count": 64,
     "metadata": {},
     "output_type": "execute_result"
    }
   ],
   "source": [
    "recs"
   ]
  },
  {
   "cell_type": "code",
   "execution_count": 65,
   "metadata": {
    "scrolled": true
   },
   "outputs": [
    {
     "data": {
      "text/plain": [
       "[MoleculeEntry(name='CC(C)C(=O)c1cc(cc(c1OC)Cl)O-0', molecule_id='13038409', comment=None, local_results={}),\n",
       " MoleculeEntry(name='C[C@@H](c1ccccc1F)/[NH+]=C\\\\2/NCCO2-3', molecule_id='13130068', comment=None, local_results={}),\n",
       " MoleculeEntry(name='CCc1cccc(c1)N(CC)C(=O)CO-1', molecule_id='13131469', comment=None, local_results={}),\n",
       " MoleculeEntry(name='CC(C)c1ccc(cc1C(=O)O)O-0', molecule_id='13112153', comment=None, local_results={}),\n",
       " MoleculeEntry(name='CCCOc1ccc(cc1OC)CCN-0', molecule_id='13043359', comment=None, local_results={}),\n",
       " MoleculeEntry(name='Cc1c2c3c([nH]1)ccc(c3CC[C@@H]2C(=O)[O-])F-0', molecule_id='13131543', comment=None, local_results={}),\n",
       " MoleculeEntry(name='Cc1c2c3c(cccc3[nH]1)[C@@H]4C[C@@H](CN([C@@H]4C2)C#N)C(=O)OC-0', molecule_id='13060839', comment=None, local_results={}),\n",
       " MoleculeEntry(name='C[C@@H](Cc1ccc(cc1)OCCO)N-0', molecule_id='13038609', comment=None, local_results={}),\n",
       " MoleculeEntry(name='Cc1cc(cc(c1CC(=O)O)C)C2CC2-1', molecule_id='13039289', comment=None, local_results={}),\n",
       " MoleculeEntry(name='Cc1cc(cc(c1CC(=O)O)C)C2CC2-2', molecule_id='13039330', comment=None, local_results={}),\n",
       " MoleculeEntry(name='c1cc(ccc1C(=O)C2CCN(CC2)CCCOc3ccc4c(c3)CCC4)F-2', molecule_id='13121837', comment=None, local_results={}),\n",
       " MoleculeEntry(name='Cc1cc(cc(c1O)C)S(=O)(=O)c2cc(c(c(c2)C)O)C-0', molecule_id='13141907', comment=None, local_results={}),\n",
       " MoleculeEntry(name='Cc1cc(cc(c1[O-])C)S(=O)(=O)c2cc(c(c(c2)C)[O-])C-0', molecule_id='13142998', comment=None, local_results={}),\n",
       " MoleculeEntry(name='Cc1ccc2c(c1)[C@@H]([C@@H](C2)C)Nc3ncc(cn3)C#C[Si](C)(C)C-1', molecule_id='13043655', comment=None, local_results={}),\n",
       " MoleculeEntry(name='C[C@@H](C(=O)[O-])Oc1cccc2c1cccc2O-3', molecule_id='13143178', comment=None, local_results={}),\n",
       " MoleculeEntry(name='C[C@@H](C(=O)[O-])Oc1cccc2c1cccc2O-4', molecule_id='13143244', comment=None, local_results={}),\n",
       " MoleculeEntry(name='Cc1c2c3c(cccc3[nH]1)[C@@H]4C[C@@H](CN([C@@H]4C2)C#N)C(=O)OC-4', molecule_id='13062398', comment=None, local_results={}),\n",
       " MoleculeEntry(name='Cc1cc(cnc1CO)OCC[N@@](C)OC-0', molecule_id='13124250', comment=None, local_results={}),\n",
       " MoleculeEntry(name='CN1[C@@H]([C@@H](CC1=O)c2ccccc2)[C@@H](C#Cc3ccccc3)O-4', molecule_id='13129994', comment=None, local_results={}),\n",
       " MoleculeEntry(name='Cc1cc2c(c(c1)OC)Sc3ccc(c(c3C(=O)OC2)OC)[C@@H](CC(=C)C)O-1', molecule_id='13150504', comment=None, local_results={}),\n",
       " MoleculeEntry(name='Cc1cc2c(c(c1)OC)Sc3ccc(c(c3C(=O)OC2)OC)[C@@H](CC(=C)C)O-3', molecule_id='13151128', comment=None, local_results={}),\n",
       " MoleculeEntry(name='c1ccc2c(c1)CC(C2)NC3=NCCO3-4', molecule_id='13162008', comment=None, local_results={}),\n",
       " MoleculeEntry(name='c1ccc2c(c1)CC(C2)NC3=[NH+]CCO3-1', molecule_id='13037288', comment=None, local_results={}),\n",
       " MoleculeEntry(name='c1ccc2c(c1)CC(C2)NC3=[NH+]CCO3-2', molecule_id='13037300', comment=None, local_results={}),\n",
       " MoleculeEntry(name='c1ccc2c(c1)CC(C2)/[NH+]=C\\\\3/NCCO3-0', molecule_id='13037651', comment=None, local_results={}),\n",
       " MoleculeEntry(name='c1ccc2c(c1)CC(C2)/[NH+]=C\\\\3/NCCO3-1', molecule_id='13038015', comment=None, local_results={}),\n",
       " MoleculeEntry(name='C[C@H](C(C)C)[N@@]1CC[C@@H](O1)c2ccc(cc2)[C@@H]3CC[N@@](O3)[C@@H](C)C(C)C-0', molecule_id='13038180', comment=None, local_results={}),\n",
       " MoleculeEntry(name='C[C@H](C(C)C)[N@@]1CC[C@@H](O1)c2ccc(cc2)[C@@H]3CC[N@@](O3)[C@@H](C)C(C)C-1', molecule_id='13038305', comment=None, local_results={}),\n",
       " MoleculeEntry(name='C[C@H](C(C)C)[N@@]1CC[C@@H](O1)c2ccc(cc2)[C@@H]3CC[N@@](O3)[C@@H](C)C(C)C-2', molecule_id='13046300', comment=None, local_results={}),\n",
       " MoleculeEntry(name='COc1ccc(cc1OC2CCCC2)[C@@H](C#N)O-4', molecule_id='13058851', comment=None, local_results={}),\n",
       " MoleculeEntry(name='CCOc1ccc(cc1OC)C[C@@H](C)N-0', molecule_id='13072698', comment=None, local_results={}),\n",
       " MoleculeEntry(name='Cc1ccc(cc1CC(=O)O)C2CC2-0', molecule_id='13143133', comment=None, local_results={}),\n",
       " MoleculeEntry(name='C[C@@H](CCN(Cc1ccccc1)Cc2ccccc2)OC(=O)N3C(COC3(C)C)(C)C-1', molecule_id='13082167', comment=None, local_results={}),\n",
       " MoleculeEntry(name='CCCCC[S@@](=O)c1nnc(s1)C(=O)NCC-0', molecule_id='13100211', comment=None, local_results={}),\n",
       " MoleculeEntry(name='CC1(CC1)c2c(cc(cn2)Cl)CNC3CC3-0', molecule_id='13037877', comment=None, local_results={}),\n",
       " MoleculeEntry(name='CC(C)c1ccc(cc1C(=O)[O-])O-0', molecule_id='13112826', comment=None, local_results={}),\n",
       " MoleculeEntry(name='CC(=CC[C@@H](c1ccc(cc1)OCc2ccc3ccccc3n2)C(=O)OC)C-0', molecule_id='13135421', comment=None, local_results={}),\n",
       " MoleculeEntry(name='CC(=O)c1ccc(cc1)[C@@H](C2CCCCC2)n3ccnc3-0', molecule_id='13066805', comment=None, local_results={}),\n",
       " MoleculeEntry(name='CCCCN(CCCC)c1ncc(cn1)Br-0', molecule_id='13068583', comment=None, local_results={}),\n",
       " MoleculeEntry(name='c1c2n(cn1)S(=O)(=O)c3cncn3S2(=O)=O-0', molecule_id='13103462', comment=None, local_results={}),\n",
       " MoleculeEntry(name='c1cc(ccc1[S@@](=O)[C@@H]2CCCCNC2=O)Cl-0', molecule_id='13119536', comment=None, local_results={}),\n",
       " MoleculeEntry(name='CC[C@@H]1CSC(=C1O)C(=O)OCC-0', molecule_id='13036999', comment=None, local_results={}),\n",
       " MoleculeEntry(name='c1cc(ccc1c2ccc(cc2)F)C3(CCCC3)CNC=O-1', molecule_id='13096794', comment=None, local_results={}),\n",
       " MoleculeEntry(name='CC[C@@H]1C(=Nc2cc3c(cc2O1)CCCC3)N-0', molecule_id='13036529', comment=None, local_results={}),\n",
       " MoleculeEntry(name='c1coc2c1[C@@H](CCC2)NC3=NCCO3-0', molecule_id='13031981', comment=None, local_results={}),\n",
       " MoleculeEntry(name='C1C[C@@H]([NH2+]C1)CCCS(=O)(=O)CCCC(F)(F)F-4', molecule_id='13031898', comment=None, local_results={}),\n",
       " MoleculeEntry(name='CC[C@@H]1CSC(=C1O)C(=O)OCC-1', molecule_id='13037030', comment=None, local_results={}),\n",
       " MoleculeEntry(name='C[C@@H](CCc1ccc(cc1)Cl)NC(=O)n2c(=O)n(c(n2)C3CC3)NC-1', molecule_id='13152170', comment=None, local_results={}),\n",
       " MoleculeEntry(name='CCOC(=O)C1(CCN(CC1)OC)O-3', molecule_id='13042966', comment=None, local_results={}),\n",
       " MoleculeEntry(name='C[C@@H](Cc1ccc(cc1)OCCO)N-1', molecule_id='13038675', comment=None, local_results={}),\n",
       " MoleculeEntry(name='C[S@@](=O)c1nnc(s1)C(=O)NC2CC2-0', molecule_id='13039790', comment=None, local_results={}),\n",
       " MoleculeEntry(name='C[C@@H](Cc1ccc(cc1)OCCO)N-3', molecule_id='13038755', comment=None, local_results={}),\n",
       " MoleculeEntry(name='C[C@@H](c1ccccc1)NC2=NCCO2-0', molecule_id='13117937', comment=None, local_results={}),\n",
       " MoleculeEntry(name='C[C@@H](c1ccccc1)NC2=NCCO2-1', molecule_id='13117994', comment=None, local_results={}),\n",
       " MoleculeEntry(name='CC[C@@H]1CS[C@@H](C1=O)C(=O)OCC-0', molecule_id='13036823', comment=None, local_results={}),\n",
       " MoleculeEntry(name='CCCOc1ccc(cc1OC)CCN-3', molecule_id='13043498', comment=None, local_results={}),\n",
       " MoleculeEntry(name='CCCOc1ccc(cc1OC)CCN-1', molecule_id='13043417', comment=None, local_results={}),\n",
       " MoleculeEntry(name='CC(=C(C)COc1ccccc1C(=C)n2ccnc2)C-2', molecule_id='13041182', comment=None, local_results={}),\n",
       " MoleculeEntry(name='c1ccc2c(c1)CC[C@@H]2NC3=NCCO3-3', molecule_id='13086570', comment=None, local_results={}),\n",
       " MoleculeEntry(name='c1cc(c(cc1C2=Cc3ccc(cc3CCC2)O)F)O-0', molecule_id='13116658', comment=None, local_results={}),\n",
       " MoleculeEntry(name='c1cc2c(cc1F)cc3n2CCNC3-0', molecule_id='13117039', comment=None, local_results={}),\n",
       " MoleculeEntry(name='c1cc(c(cc1S(=O)(=O)N)S(=O)(=O)N)O-0', molecule_id='13135979', comment=None, local_results={}),\n",
       " MoleculeEntry(name='c1ccc2c(c1)CC(C2)NC3=NCCO3-0', molecule_id='13146689', comment=None, local_results={}),\n",
       " MoleculeEntry(name='CC[C@@H]1CSC(=C1O)C(=O)OCC-3', molecule_id='13037111', comment=None, local_results={}),\n",
       " MoleculeEntry(name='CC1(C[C@@H](c2ccccc2O1)C[NH2+]C3CC3)C-2', molecule_id='13041886', comment=None, local_results={}),\n",
       " MoleculeEntry(name='c1c(ncc(n1)Cl)C(=O)NC2CCN(CC2)CC(F)F-2', molecule_id='13061529', comment=None, local_results={}),\n",
       " MoleculeEntry(name='c1cc(c(cc1C(F)F)CC(=O)[O-])C(F)F-1', molecule_id='13124050', comment=None, local_results={}),\n",
       " MoleculeEntry(name='CCCCN(CCCC)c1ncc(cn1)Br-2', molecule_id='13069041', comment=None, local_results={}),\n",
       " MoleculeEntry(name='c1ccc2c(c1)CCC[C@@H]2NC3=NCCS3-2', molecule_id='13040231', comment=None, local_results={}),\n",
       " MoleculeEntry(name='Cc1cc(c2c(c1)N=C([C@@H](O2)C)N)C-0', molecule_id='13068400', comment=None, local_results={}),\n",
       " MoleculeEntry(name='C[C@@H](C(=O)[O-])Oc1cccc2c1cccc2O-2', molecule_id='13142860', comment=None, local_results={}),\n",
       " MoleculeEntry(name='C[S@@](=O)CCOc1ccccc1n2ccnc2-0', molecule_id='13068645', comment=None, local_results={}),\n",
       " MoleculeEntry(name='C1C[C@@H](NC1)CCS(=O)(=O)CCC(F)(F)F-0', molecule_id='13084385', comment=None, local_results={}),\n",
       " MoleculeEntry(name='c1ccc2c(c1)[C@@H](CCS2)CCO-0', molecule_id='13071511', comment=None, local_results={}),\n",
       " MoleculeEntry(name='c1cc(c(cc1S(=O)(=O)N)S(=O)(=O)N)C(=O)[O-]-2', molecule_id='13124187', comment=None, local_results={}),\n",
       " MoleculeEntry(name='C[C@@H](c1ccccc1)NC2=[NH+]CCO2-2', molecule_id='13118530', comment=None, local_results={}),\n",
       " MoleculeEntry(name='C[C@@H](C(=O)O)Oc1cccc2c1cccc2O-0', molecule_id='13140100', comment=None, local_results={}),\n",
       " MoleculeEntry(name='c1ccc(cc1)OCCCCOc2ccc(cc2)C#CCO-0', molecule_id='13130209', comment=None, local_results={}),\n",
       " MoleculeEntry(name='Cc1cc(nc2c1COC(=O)N2)c3c(cccc3OCC4CC4)O-2', molecule_id='13039611', comment=None, local_results={}),\n",
       " MoleculeEntry(name='COc1cccc(c1)N2CC[C@@H](C2=O)N-0', molecule_id='13140551', comment=None, local_results={}),\n",
       " MoleculeEntry(name='C[C@@H](c1ccccc1)NC2=NCCO2-2', molecule_id='13118136', comment=None, local_results={}),\n",
       " MoleculeEntry(name='CC1(CC1)c2c(cccn2)CNC3CC3-1', molecule_id='13048063', comment=None, local_results={}),\n",
       " MoleculeEntry(name='CC1(CC1)c2c(cccn2)CNC3CC3-2', molecule_id='13048151', comment=None, local_results={}),\n",
       " MoleculeEntry(name='CC1(CC1)c2c(cccn2)CNC3CC3-3', molecule_id='13048253', comment=None, local_results={}),\n",
       " MoleculeEntry(name='CCOC(=O)C1(CCN(CC1)OC)O-2', molecule_id='13042905', comment=None, local_results={}),\n",
       " MoleculeEntry(name='c1ccc(c(c1)[O-])S(=O)(=O)c2ccccc2[O-]-2', molecule_id='13068851', comment=None, local_results={}),\n",
       " MoleculeEntry(name='C[C@@H](c1ccc2cc(ccc2c1)OC)C(=O)O-0', molecule_id='13068887', comment=None, local_results={}),\n",
       " MoleculeEntry(name='c1cc2c([nH]c(n2)COCCO)nc1-1', molecule_id='13121601', comment=None, local_results={}),\n",
       " MoleculeEntry(name='CC(=C(C)COc1ccccc1C(=C)n2ccnc2)C-0', molecule_id='13041017', comment=None, local_results={}),\n",
       " MoleculeEntry(name='c1ccc2c(c1)CC[C@@H]2NC3=NCCO3-0', molecule_id='13086025', comment=None, local_results={}),\n",
       " MoleculeEntry(name='c1cc(c(cc1S(=O)(=O)N)S(=O)(=O)N)C(=O)O-1', molecule_id='13123287', comment=None, local_results={}),\n",
       " MoleculeEntry(name='c1ccc2c(c1)CC[C@@H]2NC3=NCCO3-4', molecule_id='13086725', comment=None, local_results={}),\n",
       " MoleculeEntry(name='Cc1ccc(cc1CC(=O)O)C2CC2-1', molecule_id='13144210', comment=None, local_results={}),\n",
       " MoleculeEntry(name='c1cc2c(cc1O)S(=O)(=O)CO2-0', molecule_id='13092611', comment=None, local_results={}),\n",
       " MoleculeEntry(name='CC[C@@H]1CSC(=C1O)C(=O)OC-0', molecule_id='13047141', comment=None, local_results={}),\n",
       " MoleculeEntry(name='CC(C)CCOc1ccccc1n2ccnc2-0', molecule_id='13063846', comment=None, local_results={}),\n",
       " MoleculeEntry(name='Cc1ccc(cc1CC(=O)O)C2CC2-2', molecule_id='13145332', comment=None, local_results={}),\n",
       " MoleculeEntry(name='CCC[C@@H]1C(=Nc2ccccc2O1)N-0', molecule_id='13124927', comment=None, local_results={}),\n",
       " MoleculeEntry(name='Cc1ccc(cc1CC(=O)O)C2CC2-3', molecule_id='13145633', comment=None, local_results={}),\n",
       " MoleculeEntry(name='CCCOC(=O)[C@@H]1C(=O)[C@@H](CS1)CC-0', molecule_id='13120621', comment=None, local_results={}),\n",
       " MoleculeEntry(name='C[C@@H](c1ccccc1Cl)NC2=[NH+]CCO2-1', molecule_id='13075880', comment=None, local_results={}),\n",
       " MoleculeEntry(name='c1cc(ncc1Cl)Cn2c(=O)n3c(n2)CCC[C@@H]3C(=O)N4CCSC4-0', molecule_id='13057903', comment=None, local_results={}),\n",
       " MoleculeEntry(name='Cc1cc(cc(c1CC(=O)O)C)C2CC2-0', molecule_id='13039134', comment=None, local_results={}),\n",
       " MoleculeEntry(name='C[C@@H]1C(=Nc2cc(ccc2O1)Cl)N-0', molecule_id='13154616', comment=None, local_results={}),\n",
       " MoleculeEntry(name='c1c(ncc(n1)Cl)C(=O)NC2CN(C2)CC(F)F-0', molecule_id='13046885', comment=None, local_results={}),\n",
       " MoleculeEntry(name='CS(=O)(=O)Cc1ccccc1S(=O)(=O)N-0', molecule_id='13071012', comment=None, local_results={}),\n",
       " MoleculeEntry(name='c1ccc2c(c1)N=C([C@@H](O2)CCO)N-0', molecule_id='13105961', comment=None, local_results={}),\n",
       " MoleculeEntry(name='CC(=C[C@@H]([C@@H](C(C)(C)C)O)n1cncn1)C-1', molecule_id='13137383', comment=None, local_results={}),\n",
       " MoleculeEntry(name='c1c(ncc(n1)Cl)C(=O)NC2CCN(CC2)CC(F)F-0', molecule_id='13061155', comment=None, local_results={}),\n",
       " MoleculeEntry(name='CCCCC[S@@](=O)c1nnc(s1)C(=O)NCCCC-2', molecule_id='13091624', comment=None, local_results={}),\n",
       " MoleculeEntry(name='c1c(ncc(n1)Cl)C(=O)NC2CN(C2)CC(F)(F)F-0', molecule_id='13046067', comment=None, local_results={}),\n",
       " MoleculeEntry(name='Cc1c2c3c([nH]1)ccc(c3CC[C@@H]2C(=O)O)F-0', molecule_id='13124667', comment=None, local_results={}),\n",
       " MoleculeEntry(name='CCCC[S@@](=O)[C@@H]1CCCCNC1=O-4', molecule_id='13166170', comment=None, local_results={}),\n",
       " MoleculeEntry(name='CCCCC[S@@](=O)c1nnc(s1)C(=O)NCC-1', molecule_id='13100616', comment=None, local_results={}),\n",
       " MoleculeEntry(name='CCCOC(=O)[C@@H]1C(=O)[C@@H](CS1)C-0', molecule_id='13131999', comment=None, local_results={}),\n",
       " MoleculeEntry(name='CCC(=O)N[C@@H]1CCc2c1ccc(c2)C(=O)C-1', molecule_id='13079799', comment=None, local_results={}),\n",
       " MoleculeEntry(name='CC[C@@H]1CS[C@@H](C1=O)C(=O)OC-0', molecule_id='13046551', comment=None, local_results={}),\n",
       " MoleculeEntry(name='c1c(ncc(n1)Cl)C(=O)NC2CN(C2)CC(F)F-1', molecule_id='13046920', comment=None, local_results={}),\n",
       " MoleculeEntry(name='CC[C@@H]1CS[C@@H](C1=O)C(=O)OC-1', molecule_id='13046699', comment=None, local_results={}),\n",
       " MoleculeEntry(name='CC[C@@H]1CS[C@@H](C1=O)C(=O)OC-2', molecule_id='13046782', comment=None, local_results={}),\n",
       " MoleculeEntry(name='CC1(CC1)C(=O)[C@@H](CS(=O)(=O)c2ccccc2)n3cncn3-0', molecule_id='13094098', comment=None, local_results={}),\n",
       " MoleculeEntry(name='CCCOC(=O)[C@@H]1C(=O)[C@@H](CS1)C-1', molecule_id='13132292', comment=None, local_results={}),\n",
       " MoleculeEntry(name='CC(C)(C)NS(=O)(=O)c1cc(ccc1C(=O)O)C2CC2-0', molecule_id='13054683', comment=None, local_results={}),\n",
       " MoleculeEntry(name='c1cc2cc(oc2cc1CC(=O)C3CC3)C(=O)N[C@@H]4CN5CCC4CC5-2', molecule_id='13159942', comment=None, local_results={}),\n",
       " MoleculeEntry(name='CCCOc1ccc(cc1OC)CCN-2', molecule_id='13043461', comment=None, local_results={}),\n",
       " MoleculeEntry(name='CCCOc1ccc(cc1OC)CCN-4', molecule_id='13043708', comment=None, local_results={}),\n",
       " MoleculeEntry(name='CCCOc1ccc(cc1OC)CC[NH3+]-0', molecule_id='13043861', comment=None, local_results={}),\n",
       " MoleculeEntry(name='CCCOc1ccc(cc1OC)CC[NH3+]-1', molecule_id='13044068', comment=None, local_results={}),\n",
       " MoleculeEntry(name='CC(C)(C)[C@@H]([C@@H](C[C@@H]1CC1(Cl)Cl)n2cncn2)O-0', molecule_id='13063288', comment=None, local_results={}),\n",
       " MoleculeEntry(name='CC(C)(C)[C@@H]([C@@H](C[C@@H]1CC1(Cl)Cl)n2cncn2)O-1', molecule_id='13063807', comment=None, local_results={}),\n",
       " MoleculeEntry(name='CC(C)(C)[C@@H]([C@@H](C[C@@H]1CC1(Cl)Cl)n2cncn2)O-2', molecule_id='13064226', comment=None, local_results={}),\n",
       " MoleculeEntry(name='CC(C)(C)[C@@H]([C@@H](C[C@@H]1CC1(Cl)Cl)n2cncn2)O-3', molecule_id='13067356', comment=None, local_results={}),\n",
       " MoleculeEntry(name='CC(C)(C)[C@@H]([C@@H](C[C@@H]1CC1(Cl)Cl)n2cncn2)O-4', molecule_id='13068505', comment=None, local_results={}),\n",
       " MoleculeEntry(name='Cc1cccc(c1N([C@@H](C)C=C=C)C(=O)CS(=O)(=O)C)C-0', molecule_id='13070872', comment=None, local_results={}),\n",
       " MoleculeEntry(name='Cc1cccc(c1N([C@@H](C)C=C=C)C(=O)CS(=O)(=O)C)C-1', molecule_id='13117277', comment=None, local_results={}),\n",
       " MoleculeEntry(name='Cc1cccc(c1N([C@@H](C)C=C=C)C(=O)CS(=O)(=O)C)C-2', molecule_id='13133790', comment=None, local_results={}),\n",
       " MoleculeEntry(name='Cc1cccc(c1N([C@@H](C)C=C=C)C(=O)CS(=O)(=O)C)C-3', molecule_id='13145228', comment=None, local_results={}),\n",
       " MoleculeEntry(name='Cc1cccc(c1N([C@@H](C)C=C=C)C(=O)CS(=O)(=O)C)C-4', molecule_id='13155152', comment=None, local_results={}),\n",
       " MoleculeEntry(name='c1ccc2c(c1)NC(=[NH2+])[C@@H](O2)CCO-1', molecule_id='13107036', comment=None, local_results={}),\n",
       " MoleculeEntry(name='CC(=O)c1ccc(cc1)[C@@H](C2CCCCC2)n3ccnc3-1', molecule_id='13067700', comment=None, local_results={}),\n",
       " MoleculeEntry(name='CCCCCc1c(c(c(nc1C(C)C)C(C)C)CO)c2ccc(c(c2)CC)F-0', molecule_id='13027675', comment=None, local_results={}),\n",
       " MoleculeEntry(name='CCCCCc1c(c(c(nc1C(C)C)C(C)C)CO)c2ccc(c(c2)CC)F-1', molecule_id='13027769', comment=None, local_results={}),\n",
       " MoleculeEntry(name='CCCCCc1c(c(c(nc1C(C)C)C(C)C)CO)c2ccc(c(c2)CC)F-2', molecule_id='13028038', comment=None, local_results={}),\n",
       " MoleculeEntry(name='CCCCCc1c(c(c(nc1C(C)C)C(C)C)CO)c2ccc(c(c2)CC)F-3', molecule_id='13028138', comment=None, local_results={}),\n",
       " MoleculeEntry(name='CCCCCc1c(c(c(nc1C(C)C)C(C)C)CO)c2ccc(c(c2)CC)F-4', molecule_id='13028188', comment=None, local_results={}),\n",
       " MoleculeEntry(name='CCCCC[S@@](=O)c1nnc(s1)N(C)C(=O)N(C)C-0', molecule_id='13028221', comment=None, local_results={}),\n",
       " MoleculeEntry(name='CCCCC[S@@](=O)c1nnc(s1)N(C)C(=O)N(C)C-1', molecule_id='13028337', comment=None, local_results={}),\n",
       " MoleculeEntry(name='CCCCC[S@@](=O)c1nnc(s1)N(C)C(=O)N(C)C-2', molecule_id='13028394', comment=None, local_results={}),\n",
       " MoleculeEntry(name='CCCCC[S@@](=O)c1nnc(s1)N(C)C(=O)N(C)C-3', molecule_id='13028452', comment=None, local_results={}),\n",
       " MoleculeEntry(name='CCCCC[S@@](=O)c1nnc(s1)N(C)C(=O)N(C)C-4', molecule_id='13028478', comment=None, local_results={}),\n",
       " MoleculeEntry(name='C1C[C@@H](NC1)CCCS(=O)(=O)CCCC(F)(F)F-0', molecule_id='13028578', comment=None, local_results={}),\n",
       " MoleculeEntry(name='C1C[C@@H](NC1)CCCS(=O)(=O)CCCC(F)(F)F-1', molecule_id='13028698', comment=None, local_results={}),\n",
       " MoleculeEntry(name='C1C[C@@H](NC1)CCCS(=O)(=O)CCCC(F)(F)F-2', molecule_id='13029011', comment=None, local_results={}),\n",
       " MoleculeEntry(name='C1C[C@@H](NC1)CCCS(=O)(=O)CCCC(F)(F)F-3', molecule_id='13029720', comment=None, local_results={}),\n",
       " MoleculeEntry(name='C1C[C@@H](NC1)CCCS(=O)(=O)CCCC(F)(F)F-4', molecule_id='13029941', comment=None, local_results={}),\n",
       " MoleculeEntry(name='C1C[C@@H]([NH2+]C1)CCCS(=O)(=O)CCCC(F)(F)F-0', molecule_id='13030399', comment=None, local_results={}),\n",
       " MoleculeEntry(name='C1C[C@@H]([NH2+]C1)CCCS(=O)(=O)CCCC(F)(F)F-1', molecule_id='13030615', comment=None, local_results={}),\n",
       " MoleculeEntry(name='C1C[C@@H]([NH2+]C1)CCCS(=O)(=O)CCCC(F)(F)F-2', molecule_id='13031327', comment=None, local_results={}),\n",
       " MoleculeEntry(name='C1C[C@@H]([NH2+]C1)CCCS(=O)(=O)CCCC(F)(F)F-3', molecule_id='13031582', comment=None, local_results={}),\n",
       " MoleculeEntry(name='c1coc2c1[C@@H](CCC2)NC3=NCCO3-1', molecule_id='13032421', comment=None, local_results={}),\n",
       " MoleculeEntry(name='c1coc2c1[C@@H](CCC2)NC3=NCCO3-2', molecule_id='13032725', comment=None, local_results={}),\n",
       " MoleculeEntry(name='c1coc2c1[C@@H](CCC2)NC3=NCCO3-3', molecule_id='13032839', comment=None, local_results={}),\n",
       " MoleculeEntry(name='c1coc2c1[C@@H](CCC2)NC3=NCCO3-4', molecule_id='13032951', comment=None, local_results={}),\n",
       " MoleculeEntry(name='c1coc2c1[C@@H](CCC2)NC3=[NH+]CCO3-0', molecule_id='13033040', comment=None, local_results={}),\n",
       " MoleculeEntry(name='c1coc2c1[C@@H](CCC2)NC3=[NH+]CCO3-1', molecule_id='13033405', comment=None, local_results={}),\n",
       " MoleculeEntry(name='c1coc2c1[C@@H](CCC2)NC3=[NH+]CCO3-2', molecule_id='13033618', comment=None, local_results={}),\n",
       " MoleculeEntry(name='c1coc2c1[C@@H](CCC2)NC3=[NH+]CCO3-3', molecule_id='13033680', comment=None, local_results={}),\n",
       " MoleculeEntry(name='c1coc2c1[C@@H](CCC2)NC3=[NH+]CCO3-4', molecule_id='13033810', comment=None, local_results={}),\n",
       " MoleculeEntry(name='c1coc2c1[C@@H](CCC2)/[NH+]=C\\\\3/NCCO3-0', molecule_id='13034211', comment=None, local_results={}),\n",
       " MoleculeEntry(name='c1coc2c1[C@@H](CCC2)/[NH+]=C\\\\3/NCCO3-1', molecule_id='13035101', comment=None, local_results={}),\n",
       " MoleculeEntry(name='c1coc2c1[C@@H](CCC2)/[NH+]=C\\\\3/NCCO3-2', molecule_id='13035165', comment=None, local_results={}),\n",
       " MoleculeEntry(name='C[C@@H](CCc1ccc(c(c1)OC)OC)O-0', molecule_id='13035214', comment=None, local_results={}),\n",
       " MoleculeEntry(name='C[C@@H](CCc1ccc(c(c1)OC)OC)O-1', molecule_id='13035332', comment=None, local_results={}),\n",
       " MoleculeEntry(name='C[C@@H](CCc1ccc(c(c1)OC)OC)O-2', molecule_id='13035616', comment=None, local_results={}),\n",
       " MoleculeEntry(name='C[C@@H](CCc1ccc(c(c1)OC)OC)O-3', molecule_id='13035661', comment=None, local_results={}),\n",
       " MoleculeEntry(name='C[C@@H](CCc1ccc(c(c1)OC)OC)O-4', molecule_id='13035709', comment=None, local_results={}),\n",
       " MoleculeEntry(name='CCS(=O)(=O)c1ccc(c(c1OCC2CCCC2)Cl)C(=O)C3C(=O)CCCC3=O-0', molecule_id='13035737', comment=None, local_results={}),\n",
       " MoleculeEntry(name='CCS(=O)(=O)c1ccc(c(c1OCC2CCCC2)Cl)C(=O)C3C(=O)CCCC3=O-1', molecule_id='13035764', comment=None, local_results={}),\n",
       " MoleculeEntry(name='CCS(=O)(=O)c1ccc(c(c1OCC2CCCC2)Cl)C(=O)C3C(=O)CCCC3=O-2', molecule_id='13035813', comment=None, local_results={}),\n",
       " MoleculeEntry(name='CCS(=O)(=O)c1ccc(c(c1OCC2CCCC2)Cl)C(=O)C3C(=O)CCCC3=O-3', molecule_id='13035930', comment=None, local_results={}),\n",
       " MoleculeEntry(name='CCS(=O)(=O)c1ccc(c(c1OCC2CCCC2)Cl)C(=O)C3C(=O)CCCC3=O-4', molecule_id='13036021', comment=None, local_results={}),\n",
       " MoleculeEntry(name='c1ccc(cc1)C2=C(c3ccc(cc3CCC2)O)c4ccc(cc4)OCCCCC[S@@](=O)Cc5ccccn5-1', molecule_id='13036087', comment=None, local_results={}),\n",
       " MoleculeEntry(name='c1ccc(cc1)C2=C(c3ccc(cc3CCC2)O)c4ccc(cc4)OCCCCC[S@@](=O)Cc5ccccn5-2', molecule_id='13036104', comment=None, local_results={}),\n",
       " MoleculeEntry(name='c1ccc(cc1)C2=C(c3ccc(cc3CCC2)O)c4ccc(cc4)OCCCCC[S@@](=O)Cc5ccccn5-3', molecule_id='13036123', comment=None, local_results={}),\n",
       " MoleculeEntry(name='c1ccc(cc1)C2=C(c3ccc(cc3CCC2)O)c4ccc(cc4)OCCCCC[S@@](=O)Cc5ccccn5-4', molecule_id='13036144', comment=None, local_results={}),\n",
       " MoleculeEntry(name='C[C@H](C(C)(C)C)[N@]1CC[C@](O1)(C)c2cccc(c2)[C@]3(CC[N@](O3)[C@H](C)C(C)(C)C)C-0', molecule_id='13036181', comment=None, local_results={}),\n",
       " MoleculeEntry(name='C[C@H](C(C)(C)C)[N@]1CC[C@](O1)(C)c2cccc(c2)[C@]3(CC[N@](O3)[C@H](C)C(C)(C)C)C-1', molecule_id='13036208', comment=None, local_results={}),\n",
       " MoleculeEntry(name='C[C@H](C(C)(C)C)[N@]1CC[C@](O1)(C)c2cccc(c2)[C@]3(CC[N@](O3)[C@H](C)C(C)(C)C)C-2', molecule_id='13036237', comment=None, local_results={}),\n",
       " MoleculeEntry(name='C[C@H](C(C)(C)C)[N@]1CC[C@](O1)(C)c2cccc(c2)[C@]3(CC[N@](O3)[C@H](C)C(C)(C)C)C-3', molecule_id='13036271', comment=None, local_results={}),\n",
       " MoleculeEntry(name='C[C@H](C(C)(C)C)[N@]1CC[C@](O1)(C)c2cccc(c2)[C@]3(CC[N@](O3)[C@H](C)C(C)(C)C)C-4', molecule_id='13036304', comment=None, local_results={}),\n",
       " MoleculeEntry(name='c1ccc2c(c1)[C@@H](CCS2)C[C@@](CO)(C(F)(F)F)O-0', molecule_id='13036334', comment=None, local_results={}),\n",
       " MoleculeEntry(name='c1ccc2c(c1)[C@@H](CCS2)C[C@@](CO)(C(F)(F)F)O-1', molecule_id='13036363', comment=None, local_results={}),\n",
       " MoleculeEntry(name='c1ccc2c(c1)[C@@H](CCS2)C[C@@](CO)(C(F)(F)F)O-2', molecule_id='13036385', comment=None, local_results={}),\n",
       " MoleculeEntry(name='c1ccc2c(c1)[C@@H](CCS2)C[C@@](CO)(C(F)(F)F)O-3', molecule_id='13036422', comment=None, local_results={}),\n",
       " MoleculeEntry(name='c1ccc2c(c1)[C@@H](CCS2)C[C@@](CO)(C(F)(F)F)O-4', molecule_id='13036497', comment=None, local_results={}),\n",
       " MoleculeEntry(name='CC[C@@H]1C(=[NH+]c2cc3c(cc2O1)CCCC3)N-0', molecule_id='13036569', comment=None, local_results={}),\n",
       " MoleculeEntry(name='CC[C@@H]1C(=[NH2+])Nc2cc3c(cc2O1)CCCC3-0', molecule_id='13036602', comment=None, local_results={}),\n",
       " MoleculeEntry(name='c1ccc(cc1)c2ccc(cc2)C3(CCCC3)CNC=O-0', molecule_id='13036634', comment=None, local_results={}),\n",
       " MoleculeEntry(name='c1ccc(cc1)c2ccc(cc2)C3(CCCC3)CNC=O-1', molecule_id='13036671', comment=None, local_results={}),\n",
       " MoleculeEntry(name='c1ccc(cc1)c2ccc(cc2)C3(CCCC3)CNC=O-2', molecule_id='13036706', comment=None, local_results={}),\n",
       " MoleculeEntry(name='c1ccc(cc1)c2ccc(cc2)C3(CCCC3)CNC=O-3', molecule_id='13036742', comment=None, local_results={}),\n",
       " MoleculeEntry(name='c1ccc(cc1)c2ccc(cc2)C3(CCCC3)CNC=O-4', molecule_id='13036778', comment=None, local_results={}),\n",
       " MoleculeEntry(name='CC[C@@H]1CS[C@@H](C1=O)C(=O)OCC-1', molecule_id='13036873', comment=None, local_results={}),\n",
       " MoleculeEntry(name='CC[C@@H]1CS[C@@H](C1=O)C(=O)OCC-2', molecule_id='13036901', comment=None, local_results={}),\n",
       " MoleculeEntry(name='CC[C@@H]1CS[C@@H](C1=O)C(=O)OCC-3', molecule_id='13036941', comment=None, local_results={}),\n",
       " MoleculeEntry(name='CC[C@@H]1CS[C@@H](C1=O)C(=O)OCC-4', molecule_id='13036971', comment=None, local_results={}),\n",
       " MoleculeEntry(name='CC[C@@H]1CSC(=C1O)C(=O)OCC-2', molecule_id='13037079', comment=None, local_results={}),\n",
       " MoleculeEntry(name='CC[C@@H]1CSC(=C1O)C(=O)OCC-4', molecule_id='13037159', comment=None, local_results={}),\n",
       " MoleculeEntry(name='CC(C)(C)OC(=O)[C@@]1(COC[C@@H]1F)N(C(=O)OC(C)(C)C)S(=O)(=O)O-0', molecule_id='13037192', comment=None, local_results={}),\n",
       " MoleculeEntry(name='CC(C)(C)OC(=O)[C@@]1(COC[C@@H]1F)N(C(=O)OC(C)(C)C)S(=O)(=O)O-1', molecule_id='13037253', comment=None, local_results={}),\n",
       " MoleculeEntry(name='CC(C)(C)OC(=O)[C@@]1(COC[C@@H]1F)N(C(=O)OC(C)(C)C)S(=O)(=O)O-2', molecule_id='13037312', comment=None, local_results={}),\n",
       " MoleculeEntry(name='CC(C)(C)OC(=O)[C@@]1(COC[C@@H]1F)N(C(=O)OC(C)(C)C)S(=O)(=O)O-3', molecule_id='13037363', comment=None, local_results={}),\n",
       " MoleculeEntry(name='CC(C)(C)OC(=O)[C@@]1(COC[C@@H]1F)N(C(=O)OC(C)(C)C)S(=O)(=O)O-4', molecule_id='13037397', comment=None, local_results={}),\n",
       " MoleculeEntry(name='CC(C)(C)OC(=O)[C@@]1(COC[C@@H]1F)N(C(=O)OC(C)(C)C)S(=O)(=O)[O-]-0', molecule_id='13037436', comment=None, local_results={}),\n",
       " MoleculeEntry(name='CC(C)(C)OC(=O)[C@@]1(COC[C@@H]1F)N(C(=O)OC(C)(C)C)S(=O)(=O)[O-]-1', molecule_id='13037474', comment=None, local_results={}),\n",
       " MoleculeEntry(name='CC(C)(C)OC(=O)[C@@]1(COC[C@@H]1F)N(C(=O)OC(C)(C)C)S(=O)(=O)[O-]-2', molecule_id='13037527', comment=None, local_results={}),\n",
       " MoleculeEntry(name='CC(C)(C)OC(=O)[C@@]1(COC[C@@H]1F)N(C(=O)OC(C)(C)C)S(=O)(=O)[O-]-3', molecule_id='13037568', comment=None, local_results={}),\n",
       " MoleculeEntry(name='CC(C)(C)OC(=O)[C@@]1(COC[C@@H]1F)N(C(=O)OC(C)(C)C)S(=O)(=O)[O-]-4', molecule_id='13037610', comment=None, local_results={}),\n",
       " MoleculeEntry(name='c1ccc(cc1)CN(Cc2ccccc2)c3ccc(cc3)C4(CCC4)CCO-0', molecule_id='13037671', comment=None, local_results={}),\n",
       " MoleculeEntry(name='c1ccc(cc1)CN(Cc2ccccc2)c3ccc(cc3)C4(CCC4)CCO-1', molecule_id='13037712', comment=None, local_results={}),\n",
       " MoleculeEntry(name='c1ccc(cc1)CN(Cc2ccccc2)c3ccc(cc3)C4(CCC4)CCO-2', molecule_id='13037754', comment=None, local_results={}),\n",
       " MoleculeEntry(name='c1ccc(cc1)CN(Cc2ccccc2)c3ccc(cc3)C4(CCC4)CCO-3', molecule_id='13037814', comment=None, local_results={}),\n",
       " MoleculeEntry(name='c1ccc(cc1)CN(Cc2ccccc2)c3ccc(cc3)C4(CCC4)CCO-4', molecule_id='13037845', comment=None, local_results={}),\n",
       " MoleculeEntry(name='CC1(CC1)c2c(cc(cn2)Cl)CNC3CC3-1', molecule_id='13037909', comment=None, local_results={}),\n",
       " MoleculeEntry(name='CC1(CC1)c2c(cc(cn2)Cl)CNC3CC3-2', molecule_id='13037943', comment=None, local_results={}),\n",
       " MoleculeEntry(name='CC1(CC1)c2c(cc(cn2)Cl)CNC3CC3-3', molecule_id='13037978', comment=None, local_results={}),\n",
       " MoleculeEntry(name='CC1(CC1)c2c(cc(cn2)Cl)CNC3CC3-4', molecule_id='13038043', comment=None, local_results={}),\n",
       " MoleculeEntry(name='CC1(CC1)c2c(cc(cn2)Cl)C[NH2+]C3CC3-0', molecule_id='13038082', comment=None, local_results={}),\n",
       " MoleculeEntry(name='CC1(CC1)c2c(cc(cn2)Cl)C[NH2+]C3CC3-1', molecule_id='13038125', comment=None, local_results={}),\n",
       " MoleculeEntry(name='CC1(CC1)c2c(cc(cn2)Cl)C[NH2+]C3CC3-2', molecule_id='13038268', comment=None, local_results={}),\n",
       " MoleculeEntry(name='CC1(CC1)c2c(cc(cn2)Cl)C[NH2+]C3CC3-3', molecule_id='13038333', comment=None, local_results={}),\n",
       " MoleculeEntry(name='CC1(CC1)c2c(cc(cn2)Cl)C[NH2+]C3CC3-4', molecule_id='13038375', comment=None, local_results={}),\n",
       " MoleculeEntry(name='CC(C)C(=O)c1cc(cc(c1OC)Cl)O-1', molecule_id='13038468', comment=None, local_results={}),\n",
       " MoleculeEntry(name='CC(C)C(=O)c1cc(cc(c1OC)Cl)O-2', molecule_id='13038526', comment=None, local_results={}),\n",
       " MoleculeEntry(name='CC(C)C(=O)c1cc(cc(c1OC)Cl)O-3', molecule_id='13038561', comment=None, local_results={}),\n",
       " MoleculeEntry(name='C[C@@H](Cc1ccc(cc1)OCCO)N-2', molecule_id='13038717', comment=None, local_results={}),\n",
       " MoleculeEntry(name='C[C@@H](Cc1ccc(cc1)OCCO)N-4', molecule_id='13038802', comment=None, local_results={}),\n",
       " MoleculeEntry(name='C[C@@H](Cc1ccc(cc1)OCCO)[NH3+]-0', molecule_id='13038892', comment=None, local_results={}),\n",
       " MoleculeEntry(name='C[C@@H](Cc1ccc(cc1)OCCO)[NH3+]-1', molecule_id='13038939', comment=None, local_results={}),\n",
       " MoleculeEntry(name='C[C@@H](Cc1ccc(cc1)OCCO)[NH3+]-2', molecule_id='13038975', comment=None, local_results={}),\n",
       " MoleculeEntry(name='C[C@@H](Cc1ccc(cc1)OCCO)[NH3+]-3', molecule_id='13039001', comment=None, local_results={}),\n",
       " MoleculeEntry(name='C[C@@H](Cc1ccc(cc1)OCCO)[NH3+]-4', molecule_id='13039129', comment=None, local_results={}),\n",
       " MoleculeEntry(name='Cc1cc(cc(c1CC(=O)[O-])C)C2CC2-0', molecule_id='13039375', comment=None, local_results={}),\n",
       " MoleculeEntry(name='Cc1cc(nc2c1COC(=O)N2)c3c(cccc3OCC4CC4)O-0', molecule_id='13039419', comment=None, local_results={}),\n",
       " MoleculeEntry(name='Cc1cc(nc2c1COC(=O)N2)c3c(cccc3OCC4CC4)O-1', molecule_id='13039485', comment=None, local_results={}),\n",
       " MoleculeEntry(name='Cc1cc(nc2c1COC(=O)N2)c3c(cccc3OCC4CC4)O-3', molecule_id='13039656', comment=None, local_results={}),\n",
       " MoleculeEntry(name='Cc1cc(nc2c1COC(=O)N2)c3c(cccc3OCC4CC4)O-4', molecule_id='13039712', comment=None, local_results={}),\n",
       " MoleculeEntry(name='C[S@@](=O)c1nnc(s1)C(=O)NC2CC2-1', molecule_id='13039863', comment=None, local_results={}),\n",
       " MoleculeEntry(name='C[S@@](=O)c1nnc(s1)C(=O)NC2CC2-2', molecule_id='13039917', comment=None, local_results={}),\n",
       " MoleculeEntry(name='C[S@@](=O)c1nnc(s1)C(=O)NC2CC2-3', molecule_id='13039963', comment=None, local_results={}),\n",
       " MoleculeEntry(name='C[S@@](=O)c1nnc(s1)C(=O)NC2CC2-4', molecule_id='13040075', comment=None, local_results={}),\n",
       " MoleculeEntry(name='c1ccc2c(c1)CCC[C@@H]2NC3=NCCS3-0', molecule_id='13040148', comment=None, local_results={}),\n",
       " MoleculeEntry(name='c1ccc2c(c1)CCC[C@@H]2NC3=NCCS3-1', molecule_id='13040193', comment=None, local_results={}),\n",
       " MoleculeEntry(name='c1ccc2c(c1)CCC[C@@H]2NC3=NCCS3-3', molecule_id='13040322', comment=None, local_results={}),\n",
       " MoleculeEntry(name='c1ccc2c(c1)CCC[C@@H]2NC3=[NH+]CCS3-0', molecule_id='13040353', comment=None, local_results={}),\n",
       " MoleculeEntry(name='c1ccc2c(c1)CCC[C@@H]2NC3=[NH+]CCS3-1', molecule_id='13040403', comment=None, local_results={}),\n",
       " MoleculeEntry(name='c1ccc2c(c1)CCC[C@@H]2NC3=[NH+]CCS3-2', molecule_id='13040469', comment=None, local_results={}),\n",
       " MoleculeEntry(name='c1ccc2c(c1)CCC[C@@H]2/[NH+]=C\\\\3/NCCS3-0', molecule_id='13040590', comment=None, local_results={}),\n",
       " MoleculeEntry(name='c1ccc2c(c1)CCC[C@@H]2/[NH+]=C\\\\3/NCCS3-1', molecule_id='13040641', comment=None, local_results={}),\n",
       " MoleculeEntry(name='CC/C(=C(\\\\c1ccccc1)/c2ccc(cc2)OCCCCCS(=O)(=O)Cc3ccccn3)/c4ccccc4-0', molecule_id='13040694', comment=None, local_results={}),\n",
       " MoleculeEntry(name='CC/C(=C(\\\\c1ccccc1)/c2ccc(cc2)OCCCCCS(=O)(=O)Cc3ccccn3)/c4ccccc4-1', molecule_id='13040750', comment=None, local_results={}),\n",
       " MoleculeEntry(name='CC/C(=C(\\\\c1ccccc1)/c2ccc(cc2)OCCCCCS(=O)(=O)Cc3ccccn3)/c4ccccc4-2', molecule_id='13040802', comment=None, local_results={}),\n",
       " MoleculeEntry(name='CC/C(=C(\\\\c1ccccc1)/c2ccc(cc2)OCCCCCS(=O)(=O)Cc3ccccn3)/c4ccccc4-3', molecule_id='13040832', comment=None, local_results={}),\n",
       " MoleculeEntry(name='CC/C(=C(\\\\c1ccccc1)/c2ccc(cc2)OCCCCCS(=O)(=O)Cc3ccccn3)/c4ccccc4-4', molecule_id='13040979', comment=None, local_results={}),\n",
       " MoleculeEntry(name='CC(=C(C)COc1ccccc1C(=C)n2ccnc2)C-1', molecule_id='13041059', comment=None, local_results={}),\n",
       " MoleculeEntry(name='CC(=C(C)COc1ccccc1C(=C)n2ccnc2)C-3', molecule_id='13041234', comment=None, local_results={}),\n",
       " MoleculeEntry(name='CC(=C(C)COc1ccccc1C(=C)n2ccnc2)C-4', molecule_id='13041280', comment=None, local_results={}),\n",
       " MoleculeEntry(name='CSCC[C@@H]1C(=Nc2ccccc2O1)N-0', molecule_id='13041355', comment=None, local_results={}),\n",
       " MoleculeEntry(name='CSCC[C@@H]1C(=Nc2ccccc2O1)N-1', molecule_id='13041419', comment=None, local_results={}),\n",
       " MoleculeEntry(name='CSCC[C@@H]1C(=[NH+]c2ccccc2O1)N-0', molecule_id='13041481', comment=None, local_results={}),\n",
       " MoleculeEntry(name='CSCC[C@@H]1C(=[NH+]c2ccccc2O1)N-1', molecule_id='13041665', comment=None, local_results={}),\n",
       " MoleculeEntry(name='CSCC[C@@H]1C(=[NH2+])Nc2ccccc2O1-0', molecule_id='13041713', comment=None, local_results={}),\n",
       " MoleculeEntry(name='CSCC[C@@H]1C(=[NH2+])Nc2ccccc2O1-1', molecule_id='13041776', comment=None, local_results={}),\n",
       " MoleculeEntry(name='c1ccc(cc1)CCCC(=O)NCCc2ccccc2-0', molecule_id='13041824', comment=None, local_results={}),\n",
       " MoleculeEntry(name='c1ccc(cc1)CCCC(=O)NCCc2ccccc2-1', molecule_id='13041917', comment=None, local_results={}),\n",
       " MoleculeEntry(name='c1ccc(cc1)CCCC(=O)NCCc2ccccc2-2', molecule_id='13041960', comment=None, local_results={}),\n",
       " MoleculeEntry(name='c1ccc(cc1)CCCC(=O)NCCc2ccccc2-3', molecule_id='13042038', comment=None, local_results={}),\n",
       " MoleculeEntry(name='c1ccc(cc1)CCCC(=O)NCCc2ccccc2-4', molecule_id='13042159', comment=None, local_results={}),\n",
       " MoleculeEntry(name='CCOC(=O)C1(CCN(CC1)OC)O-0', molecule_id='13042635', comment=None, local_results={}),\n",
       " MoleculeEntry(name='CCOC(=O)C1(CCN(CC1)OC)O-1', molecule_id='13042855', comment=None, local_results={}),\n",
       " MoleculeEntry(name='CCOC(=O)C1(CCN(CC1)OC)O-4', molecule_id='13043102', comment=None, local_results={}),\n",
       " MoleculeEntry(name='CCCOc1ccc(cc1OC)CC[NH3+]-2', molecule_id='13044118', comment=None, local_results={}),\n",
       " MoleculeEntry(name='CCCOc1ccc(cc1OC)CC[NH3+]-3', molecule_id='13044193', comment=None, local_results={}),\n",
       " MoleculeEntry(name='CCCOc1ccc(cc1OC)CC[NH3+]-4', molecule_id='13044402', comment=None, local_results={}),\n",
       " MoleculeEntry(name='CCc1cc(cc(c1CC(=O)O)C)C#CC2CC2-0', molecule_id='13044454', comment=None, local_results={}),\n",
       " MoleculeEntry(name='CCc1cc(cc(c1CC(=O)O)C)C#CC2CC2-1', molecule_id='13044637', comment=None, local_results={}),\n",
       " MoleculeEntry(name='CCc1cc(cc(c1CC(=O)O)C)C#CC2CC2-2', molecule_id='13044710', comment=None, local_results={}),\n",
       " MoleculeEntry(name='CCc1cc(cc(c1CC(=O)O)C)C#CC2CC2-3', molecule_id='13044869', comment=None, local_results={}),\n",
       " MoleculeEntry(name='CCc1cc(cc(c1CC(=O)[O-])C)C#CC2CC2-0', molecule_id='13045027', comment=None, local_results={}),\n",
       " MoleculeEntry(name='CCc1cc(cc(c1CC(=O)[O-])C)C#CC2CC2-1', molecule_id='13045063', comment=None, local_results={}),\n",
       " MoleculeEntry(name='c1ccc(cc1)[C@@H]2CCc3cccc(c3S2)CO-0', molecule_id='13045120', comment=None, local_results={}),\n",
       " MoleculeEntry(name='c1ccc(cc1)[C@@H]2CCc3cccc(c3S2)CO-1', molecule_id='13045236', comment=None, local_results={}),\n",
       " MoleculeEntry(name='c1ccc(cc1)[C@@H]2CCc3cccc(c3S2)CO-2', molecule_id='13045284', comment=None, local_results={}),\n",
       " MoleculeEntry(name='CC[C@@H](c1ccc(c(c1)OC2CCCC2)OC)O-0', molecule_id='13045384', comment=None, local_results={}),\n",
       " MoleculeEntry(name='CC[C@@H](c1ccc(c(c1)OC2CCCC2)OC)O-1', molecule_id='13045544', comment=None, local_results={}),\n",
       " MoleculeEntry(name='CC[C@@H](c1ccc(c(c1)OC2CCCC2)OC)O-2', molecule_id='13045822', comment=None, local_results={}),\n",
       " MoleculeEntry(name='CC[C@@H](c1ccc(c(c1)OC2CCCC2)OC)O-3', molecule_id='13045869', comment=None, local_results={}),\n",
       " MoleculeEntry(name='CC[C@@H](c1ccc(c(c1)OC2CCCC2)OC)O-4', molecule_id='13046413', comment=None, local_results={}),\n",
       " MoleculeEntry(name='CC[C@@H]1CSC(=C1O)C(=O)OC-1', molecule_id='13047376', comment=None, local_results={}),\n",
       " MoleculeEntry(name='CC[C@@H]1CSC(=C1O)C(=O)OC-2', molecule_id='13048287', comment=None, local_results={}),\n",
       " MoleculeEntry(name='CC[C@@H]1CSC(=C1O)C(=O)OC-3', molecule_id='13048814', comment=None, local_results={}),\n",
       " MoleculeEntry(name='Cc1cc(c(nc1)C2(CC2)C)CNC3CC3-0', molecule_id='13049030', comment=None, local_results={}),\n",
       " MoleculeEntry(name='Cc1cc(c(nc1)C2(CC2)C)CNC3CC3-1', molecule_id='13049151', comment=None, local_results={}),\n",
       " MoleculeEntry(name='Cc1cc(c(nc1)C2(CC2)C)CNC3CC3-2', molecule_id='13049281', comment=None, local_results={}),\n",
       " MoleculeEntry(name='Cc1cc(c(nc1)C2(CC2)C)CNC3CC3-3', molecule_id='13049641', comment=None, local_results={}),\n",
       " MoleculeEntry(name='Cc1cc(c(nc1)C2(CC2)C)CNC3CC3-4', molecule_id='13051887', comment=None, local_results={}),\n",
       " MoleculeEntry(name='Cc1cc(c(nc1)C2(CC2)C)C[NH2+]C3CC3-0', molecule_id='13052338', comment=None, local_results={}),\n",
       " MoleculeEntry(name='Cc1cc(c(nc1)C2(CC2)C)C[NH2+]C3CC3-1', molecule_id='13052460', comment=None, local_results={}),\n",
       " MoleculeEntry(name='Cc1cc(c(nc1)C2(CC2)C)C[NH2+]C3CC3-2', molecule_id='13053428', comment=None, local_results={}),\n",
       " MoleculeEntry(name='Cc1cc(c(nc1)C2(CC2)C)C[NH2+]C3CC3-3', molecule_id='13056355', comment=None, local_results={}),\n",
       " MoleculeEntry(name='Cc1cc(c(nc1)C2(CC2)C)C[NH2+]C3CC3-4', molecule_id='13056876', comment=None, local_results={}),\n",
       " MoleculeEntry(name='COc1ccc2c(c1)CCC[C@@H](C2=O)c3cccc(c3)S(=O)(=O)C-0', molecule_id='13057326', comment=None, local_results={}),\n",
       " MoleculeEntry(name='COc1ccc2c(c1)CCC[C@@H](C2=O)c3cccc(c3)S(=O)(=O)C-1', molecule_id='13074125', comment=None, local_results={}),\n",
       " MoleculeEntry(name='COc1ccc2c(c1)CCC[C@@H](C2=O)c3cccc(c3)S(=O)(=O)C-2', molecule_id='13078756', comment=None, local_results={}),\n",
       " MoleculeEntry(name='COc1ccc2c(c1)CCC[C@@H](C2=O)c3cccc(c3)S(=O)(=O)C-3', molecule_id='13078830', comment=None, local_results={}),\n",
       " MoleculeEntry(name='COc1ccc2c(c1)CCC[C@@H](C2=O)c3cccc(c3)S(=O)(=O)C-4', molecule_id='13079573', comment=None, local_results={}),\n",
       " MoleculeEntry(name='CC(C)(C)OC(=O)[C@@]12COC[C@@H]1OS(=O)(=O)N2C(=O)OC(C)(C)C-0', molecule_id='13079872', comment=None, local_results={}),\n",
       " MoleculeEntry(name='CC(C)(C)OC(=O)[C@@]12COC[C@@H]1OS(=O)(=O)N2C(=O)OC(C)(C)C-1', molecule_id='13079926', comment=None, local_results={}),\n",
       " MoleculeEntry(name='CC(C)(C)OC(=O)[C@@]12COC[C@@H]1OS(=O)(=O)N2C(=O)OC(C)(C)C-2', molecule_id='13079982', comment=None, local_results={}),\n",
       " MoleculeEntry(name='CC(C)(C)OC(=O)[C@@]12COC[C@@H]1OS(=O)(=O)N2C(=O)OC(C)(C)C-3', molecule_id='13080033', comment=None, local_results={}),\n",
       " MoleculeEntry(name='CC(C)(C)OC(=O)[C@@]12COC[C@@H]1OS(=O)(=O)N2C(=O)OC(C)(C)C-4', molecule_id='13080101', comment=None, local_results={}),\n",
       " MoleculeEntry(name='C[N@@](Cc1ccc(cc1)[C@@H]2CCCC[C@@H]2C(=O)O)c3ccccc3-0', molecule_id='13080202', comment=None, local_results={}),\n",
       " MoleculeEntry(name='C[N@@](Cc1ccc(cc1)[C@@H]2CCCC[C@@H]2C(=O)O)c3ccccc3-1', molecule_id='13080245', comment=None, local_results={}),\n",
       " MoleculeEntry(name='C[N@@](Cc1ccc(cc1)[C@@H]2CCCC[C@@H]2C(=O)O)c3ccccc3-2', molecule_id='13080588', comment=None, local_results={}),\n",
       " MoleculeEntry(name='C[N@@](Cc1ccc(cc1)[C@@H]2CCCC[C@@H]2C(=O)O)c3ccccc3-3', molecule_id='13080689', comment=None, local_results={}),\n",
       " MoleculeEntry(name='C[N@@](Cc1ccc(cc1)[C@@H]2CCCC[C@@H]2C(=O)O)c3ccccc3-4', molecule_id='13080764', comment=None, local_results={}),\n",
       " MoleculeEntry(name='C[N@@](Cc1ccc(cc1)[C@@H]2CCCC[C@@H]2C(=O)[O-])c3ccccc3-0', molecule_id='13080817', comment=None, local_results={}),\n",
       " MoleculeEntry(name='C[N@@](Cc1ccc(cc1)[C@@H]2CCCC[C@@H]2C(=O)[O-])c3ccccc3-1', molecule_id='13081157', comment=None, local_results={}),\n",
       " MoleculeEntry(name='C[N@@](Cc1ccc(cc1)[C@@H]2CCCC[C@@H]2C(=O)[O-])c3ccccc3-2', molecule_id='13081213', comment=None, local_results={}),\n",
       " MoleculeEntry(name='C[N@@](Cc1ccc(cc1)[C@@H]2CCCC[C@@H]2C(=O)[O-])c3ccccc3-3', molecule_id='13081311', comment=None, local_results={}),\n",
       " MoleculeEntry(name='C[N@@](Cc1ccc(cc1)[C@@H]2CCCC[C@@H]2C(=O)[O-])c3ccccc3-4', molecule_id='13081543', comment=None, local_results={}),\n",
       " MoleculeEntry(name='C[C@@H](CCN(Cc1ccccc1)Cc2ccccc2)OC(=O)N3C(COC3(C)C)(C)C-0', molecule_id='13081929', comment=None, local_results={}),\n",
       " MoleculeEntry(name='C[C@@H](CCN(Cc1ccccc1)Cc2ccccc2)OC(=O)N3C(COC3(C)C)(C)C-2', molecule_id='13082245', comment=None, local_results={}),\n",
       " MoleculeEntry(name='C[C@@H](CCN(Cc1ccccc1)Cc2ccccc2)OC(=O)N3C(COC3(C)C)(C)C-3', molecule_id='13082398', comment=None, local_results={}),\n",
       " MoleculeEntry(name='C[C@@H](CCN(Cc1ccccc1)Cc2ccccc2)OC(=O)N3C(COC3(C)C)(C)C-4', molecule_id='13082628', comment=None, local_results={}),\n",
       " MoleculeEntry(name='C[C@@H](CC[NH+](Cc1ccccc1)Cc2ccccc2)OC(=O)N3C(COC3(C)C)(C)C-0', molecule_id='13083317', comment=None, local_results={}),\n",
       " MoleculeEntry(name='C[C@@H](CC[NH+](Cc1ccccc1)Cc2ccccc2)OC(=O)N3C(COC3(C)C)(C)C-1', molecule_id='13083491', comment=None, local_results={}),\n",
       " MoleculeEntry(name='C[C@@H](CC[NH+](Cc1ccccc1)Cc2ccccc2)OC(=O)N3C(COC3(C)C)(C)C-2', molecule_id='13083666', comment=None, local_results={}),\n",
       " MoleculeEntry(name='C[C@@H](CC[NH+](Cc1ccccc1)Cc2ccccc2)OC(=O)N3C(COC3(C)C)(C)C-3', molecule_id='13083782', comment=None, local_results={}),\n",
       " MoleculeEntry(name='C[C@@H](CC[NH+](Cc1ccccc1)Cc2ccccc2)OC(=O)N3C(COC3(C)C)(C)C-4', molecule_id='13084160', comment=None, local_results={}),\n",
       " MoleculeEntry(name='C1C[C@@H](NC1)CCS(=O)(=O)CCC(F)(F)F-1', molecule_id='13084523', comment=None, local_results={}),\n",
       " MoleculeEntry(name='C1C[C@@H](NC1)CCS(=O)(=O)CCC(F)(F)F-2', molecule_id='13084903', comment=None, local_results={}),\n",
       " MoleculeEntry(name='C1C[C@@H](NC1)CCS(=O)(=O)CCC(F)(F)F-3', molecule_id='13085927', comment=None, local_results={}),\n",
       " MoleculeEntry(name='C1C[C@@H](NC1)CCS(=O)(=O)CCC(F)(F)F-4', molecule_id='13089718', comment=None, local_results={}),\n",
       " MoleculeEntry(name='C1C[C@@H]([NH2+]C1)CCS(=O)(=O)CCC(F)(F)F-0', molecule_id='13137710', comment=None, local_results={}),\n",
       " MoleculeEntry(name='C1C[C@@H]([NH2+]C1)CCS(=O)(=O)CCC(F)(F)F-1', molecule_id='13138096', comment=None, local_results={}),\n",
       " MoleculeEntry(name='C1C[C@@H]([NH2+]C1)CCS(=O)(=O)CCC(F)(F)F-2', molecule_id='13139444', comment=None, local_results={}),\n",
       " MoleculeEntry(name='C1C[C@@H]([NH2+]C1)CCS(=O)(=O)CCC(F)(F)F-3', molecule_id='13140823', comment=None, local_results={}),\n",
       " MoleculeEntry(name='C1C[C@@H]([NH2+]C1)CCS(=O)(=O)CCC(F)(F)F-4', molecule_id='13143915', comment=None, local_results={}),\n",
       " MoleculeEntry(name='c1ccc2c(c1)CC(C2)NC3=NCCO3-1', molecule_id='13146841', comment=None, local_results={}),\n",
       " MoleculeEntry(name='c1ccc2c(c1)CC(C2)NC3=NCCO3-2', molecule_id='13147990', comment=None, local_results={}),\n",
       " MoleculeEntry(name='c1ccc2c(c1)CC(C2)NC3=NCCO3-3', molecule_id='13159198', comment=None, local_results={}),\n",
       " MoleculeEntry(name='c1ccc2c(c1)CC(C2)NC3=[NH+]CCO3-0', molecule_id='13164859', comment=None, local_results={}),\n",
       " MoleculeEntry(name='C[C@H](C(C)C)[N@@]1CC[C@@H](O1)c2ccc(cc2)[C@@H]3CC[N@@](O3)[C@@H](C)C(C)C-3', molecule_id='13047017', comment=None, local_results={}),\n",
       " MoleculeEntry(name='C[C@H](C(C)C)[N@@]1CC[C@@H](O1)c2ccc(cc2)[C@@H]3CC[N@@](O3)[C@@H](C)C(C)C-4', molecule_id='13047727', comment=None, local_results={}),\n",
       " MoleculeEntry(name='CC1(CC1)c2c(cccn2)CNC3CC3-0', molecule_id='13047852', comment=None, local_results={}),\n",
       " MoleculeEntry(name='CC1(CC1)c2c(cccn2)CNC3CC3-4', molecule_id='13048566', comment=None, local_results={}),\n",
       " MoleculeEntry(name='CC1(CC1)c2c(cccn2)C[NH2+]C3CC3-0', molecule_id='13050681', comment=None, local_results={}),\n",
       " MoleculeEntry(name='CC1(CC1)c2c(cccn2)C[NH2+]C3CC3-1', molecule_id='13050775', comment=None, local_results={}),\n",
       " MoleculeEntry(name='CC1(CC1)c2c(cccn2)C[NH2+]C3CC3-2', molecule_id='13051360', comment=None, local_results={}),\n",
       " MoleculeEntry(name='CC1(CC1)c2c(cccn2)C[NH2+]C3CC3-3', molecule_id='13051713', comment=None, local_results={}),\n",
       " MoleculeEntry(name='CC1(CC1)c2c(cccn2)C[NH2+]C3CC3-4', molecule_id='13052796', comment=None, local_results={}),\n",
       " MoleculeEntry(name='Cc1cc2c(c(c1)OCCC(C)C)Oc3ccc(c(c3C(=O)OC2)OC)[C@@H](CC(C)(C)c4ccccc4)O-1', molecule_id='13053030', comment=None, local_results={}),\n",
       " MoleculeEntry(name='Cc1cc2c(c(c1)OCCC(C)C)Oc3ccc(c(c3C(=O)OC2)OC)[C@@H](CC(C)(C)c4ccccc4)O-2', molecule_id='13053075', comment=None, local_results={}),\n",
       " MoleculeEntry(name='Cc1cc2c(c(c1)OCCC(C)C)Oc3ccc(c(c3C(=O)OC2)OC)[C@@H](CC(C)(C)c4ccccc4)O-3', molecule_id='13053239', comment=None, local_results={}),\n",
       " MoleculeEntry(name='c1ccc2c(c1)[C@@H](CO2)NC3=NCCO3-0', molecule_id='13053317', comment=None, local_results={}),\n",
       " MoleculeEntry(name='c1ccc2c(c1)[C@@H](CO2)NC3=NCCO3-1', molecule_id='13053495', comment=None, local_results={}),\n",
       " MoleculeEntry(name='c1ccc2c(c1)[C@@H](CO2)NC3=NCCO3-2', molecule_id='13053632', comment=None, local_results={}),\n",
       " MoleculeEntry(name='c1ccc2c(c1)[C@@H](CO2)NC3=NCCO3-3', molecule_id='13053734', comment=None, local_results={}),\n",
       " MoleculeEntry(name='c1ccc2c(c1)[C@@H](CO2)NC3=NCCO3-4', molecule_id='13053974', comment=None, local_results={}),\n",
       " MoleculeEntry(name='c1ccc2c(c1)[C@@H](CO2)NC3=[NH+]CCO3-0', molecule_id='13054006', comment=None, local_results={}),\n",
       " MoleculeEntry(name='c1ccc2c(c1)[C@@H](CO2)NC3=[NH+]CCO3-1', molecule_id='13054038', comment=None, local_results={}),\n",
       " MoleculeEntry(name='c1ccc2c(c1)[C@@H](CO2)NC3=[NH+]CCO3-2', molecule_id='13054539', comment=None, local_results={}),\n",
       " MoleculeEntry(name='c1ccc2c(c1)[C@@H](CO2)NC3=[NH+]CCO3-3', molecule_id='13054854', comment=None, local_results={}),\n",
       " MoleculeEntry(name='c1ccc2c(c1)[C@@H](CO2)NC3=[NH+]CCO3-4', molecule_id='13055159', comment=None, local_results={}),\n",
       " MoleculeEntry(name='c1ccc2c(c1)[C@@H](CO2)/[NH+]=C\\\\3/NCCO3-0', molecule_id='13055493', comment=None, local_results={}),\n",
       " MoleculeEntry(name='c1ccc2c(c1)[C@@H](CO2)/[NH+]=C\\\\3/NCCO3-1', molecule_id='13055592', comment=None, local_results={}),\n",
       " MoleculeEntry(name='COc1ccc(cc1OC2CCCC2)[C@@H](C#N)O-0', molecule_id='13057016', comment=None, local_results={}),\n",
       " MoleculeEntry(name='COc1ccc(cc1OC2CCCC2)[C@@H](C#N)O-1', molecule_id='13057077', comment=None, local_results={}),\n",
       " MoleculeEntry(name='COc1ccc(cc1OC2CCCC2)[C@@H](C#N)O-2', molecule_id='13057545', comment=None, local_results={}),\n",
       " MoleculeEntry(name='COc1ccc(cc1OC2CCCC2)[C@@H](C#N)O-3', molecule_id='13058693', comment=None, local_results={}),\n",
       " MoleculeEntry(name='CS(=O)(=O)c1ccc(c(c1COC2CCCCC2)Cl)C(=O)C3C(=O)CCCC3=O-0', molecule_id='13058890', comment=None, local_results={}),\n",
       " MoleculeEntry(name='CS(=O)(=O)c1ccc(c(c1COC2CCCCC2)Cl)C(=O)C3C(=O)CCCC3=O-1', molecule_id='13058932', comment=None, local_results={}),\n",
       " MoleculeEntry(name='CS(=O)(=O)c1ccc(c(c1COC2CCCCC2)Cl)C(=O)C3C(=O)CCCC3=O-2', molecule_id='13059013', comment=None, local_results={}),\n",
       " MoleculeEntry(name='CS(=O)(=O)c1ccc(c(c1COC2CCCCC2)Cl)C(=O)C3C(=O)CCCC3=O-3', molecule_id='13059059', comment=None, local_results={}),\n",
       " MoleculeEntry(name='CS(=O)(=O)c1ccc(c(c1COC2CCCCC2)Cl)C(=O)C3C(=O)CCCC3=O-4', molecule_id='13059169', comment=None, local_results={}),\n",
       " MoleculeEntry(name='COc1ccc2c(c1)CCCC(=C2CCCCCO)c3ccc(cc3)S(=O)(=O)C-0', molecule_id='13059265', comment=None, local_results={}),\n",
       " MoleculeEntry(name='COc1ccc2c(c1)CCCC(=C2CCCCCO)c3ccc(cc3)S(=O)(=O)C-1', molecule_id='13059339', comment=None, local_results={}),\n",
       " MoleculeEntry(name='COc1ccc2c(c1)CCCC(=C2CCCCCO)c3ccc(cc3)S(=O)(=O)C-2', molecule_id='13059383', comment=None, local_results={}),\n",
       " MoleculeEntry(name='COc1ccc2c(c1)CCCC(=C2CCCCCO)c3ccc(cc3)S(=O)(=O)C-3', molecule_id='13059827', comment=None, local_results={}),\n",
       " MoleculeEntry(name='COc1ccc2c(c1)CCCC(=C2CCCCCO)c3ccc(cc3)S(=O)(=O)C-4', molecule_id='13059899', comment=None, local_results={}),\n",
       " MoleculeEntry(name='CC1(CC1)COC(=O)[C@@H](c2ccccc2)C(=O)O-0', molecule_id='13060499', comment=None, local_results={}),\n",
       " MoleculeEntry(name='CC1(CC1)COC(=O)[C@@H](c2ccccc2)C(=O)O-1', molecule_id='13060609', comment=None, local_results={}),\n",
       " MoleculeEntry(name='CC1(CC1)COC(=O)[C@@H](c2ccccc2)C(=O)O-2', molecule_id='13060696', comment=None, local_results={}),\n",
       " MoleculeEntry(name='CC1(CC1)COC(=O)[C@@H](c2ccccc2)C(=O)O-3', molecule_id='13060888', comment=None, local_results={}),\n",
       " MoleculeEntry(name='CC1(CC1)COC(=O)[C@@H](c2ccccc2)C(=O)O-4', molecule_id='13061273', comment=None, local_results={}),\n",
       " MoleculeEntry(name='CC1(CC1)COC(=O)[C@@H](c2ccccc2)C(=O)[O-]-0', molecule_id='13061332', comment=None, local_results={}),\n",
       " MoleculeEntry(name='CC1(CC1)COC(=O)[C@@H](c2ccccc2)C(=O)[O-]-1', molecule_id='13061483', comment=None, local_results={}),\n",
       " MoleculeEntry(name='CC1(CC1)COC(=O)[C@@H](c2ccccc2)C(=O)[O-]-2', molecule_id='13061573', comment=None, local_results={}),\n",
       " MoleculeEntry(name='CC1(CC1)COC(=O)[C@@H](c2ccccc2)C(=O)[O-]-3', molecule_id='13061690', comment=None, local_results={}),\n",
       " MoleculeEntry(name='CC1(CC1)COC(=O)[C@@H](c2ccccc2)C(=O)[O-]-4', molecule_id='13061812', comment=None, local_results={}),\n",
       " MoleculeEntry(name='C[C@H](C(C)(C)C)[N@]1CC[C@](O1)(C)c2ccc(cc2)[C@]3(CC[N@](O3)[C@H](C)C(C)(C)C)C-0', molecule_id='13061862', comment=None, local_results={}),\n",
       " MoleculeEntry(name='C[C@H](C(C)(C)C)[N@]1CC[C@](O1)(C)c2ccc(cc2)[C@]3(CC[N@](O3)[C@H](C)C(C)(C)C)C-1', molecule_id='13062066', comment=None, local_results={}),\n",
       " MoleculeEntry(name='C[C@H](C(C)(C)C)[N@]1CC[C@](O1)(C)c2ccc(cc2)[C@]3(CC[N@](O3)[C@H](C)C(C)(C)C)C-2', molecule_id='13062532', comment=None, local_results={}),\n",
       " MoleculeEntry(name='C[C@H](C(C)(C)C)[N@]1CC[C@](O1)(C)c2ccc(cc2)[C@]3(CC[N@](O3)[C@H](C)C(C)(C)C)C-3', molecule_id='13062639', comment=None, local_results={}),\n",
       " MoleculeEntry(name='C[C@H](C(C)(C)C)[N@]1CC[C@](O1)(C)c2ccc(cc2)[C@]3(CC[N@](O3)[C@H](C)C(C)(C)C)C-4', molecule_id='13062682', comment=None, local_results={}),\n",
       " MoleculeEntry(name='C[C@@H]1C(=Nc2cc3c(cc2O1)CCCC3)N-0', molecule_id='13062852', comment=None, local_results={}),\n",
       " MoleculeEntry(name='C[C@@H]1C(=[NH+]c2cc3c(cc2O1)CCCC3)N-0', molecule_id='13062943', comment=None, local_results={}),\n",
       " MoleculeEntry(name='C[C@@H]1C(=[NH2+])Nc2cc3c(cc2O1)CCCC3-0', molecule_id='13063763', comment=None, local_results={}),\n",
       " MoleculeEntry(name='CC(C)CCOc1ccccc1n2ccnc2-1', molecule_id='13063932', comment=None, local_results={}),\n",
       " MoleculeEntry(name='CC(C)CCOc1ccccc1n2ccnc2-2', molecule_id='13064173', comment=None, local_results={}),\n",
       " MoleculeEntry(name='CC(C)CCOc1ccccc1n2ccnc2-3', molecule_id='13064309', comment=None, local_results={}),\n",
       " MoleculeEntry(name='CC(C)CCOc1ccccc1n2ccnc2-4', molecule_id='13064425', comment=None, local_results={}),\n",
       " MoleculeEntry(name='CCOC(=O)[C@@H]1C(=O)[C@@H](CS1)C-0', molecule_id='13064469', comment=None, local_results={}),\n",
       " MoleculeEntry(name='CCOC(=O)[C@@H]1C(=O)[C@@H](CS1)C-1', molecule_id='13064521', comment=None, local_results={}),\n",
       " MoleculeEntry(name='CCOC(=O)[C@@H]1C(=O)[C@@H](CS1)C-2', molecule_id='13064580', comment=None, local_results={}),\n",
       " MoleculeEntry(name='CCOC(=O)[C@@H]1C(=O)[C@@H](CS1)C-3', molecule_id='13064627', comment=None, local_results={}),\n",
       " MoleculeEntry(name='CCOC(=O)C1=C([C@@H](CS1)C)O-0', molecule_id='13064742', comment=None, local_results={}),\n",
       " MoleculeEntry(name='CCOC(=O)C1=C([C@@H](CS1)C)O-1', molecule_id='13064877', comment=None, local_results={}),\n",
       " MoleculeEntry(name='CCOC(=O)C1=C([C@@H](CS1)C)O-2', molecule_id='13064927', comment=None, local_results={}),\n",
       " MoleculeEntry(name='CCOC(=O)C1=C([C@@H](CS1)C)O-3', molecule_id='13065027', comment=None, local_results={}),\n",
       " MoleculeEntry(name='CCOC(=O)C1=C([C@@H](CS1)C)O-4', molecule_id='13065083', comment=None, local_results={}),\n",
       " MoleculeEntry(name='C[C@@](CN)(c1ccc(c(c1)OC2CCCC2)OC)O-0', molecule_id='13065186', comment=None, local_results={}),\n",
       " MoleculeEntry(name='C[C@@](CN)(c1ccc(c(c1)OC2CCCC2)OC)O-1', molecule_id='13065487', comment=None, local_results={}),\n",
       " MoleculeEntry(name='C[C@@](CN)(c1ccc(c(c1)OC2CCCC2)OC)O-2', molecule_id='13065524', comment=None, local_results={}),\n",
       " MoleculeEntry(name='C[C@@](CN)(c1ccc(c(c1)OC2CCCC2)OC)O-3', molecule_id='13065557', comment=None, local_results={}),\n",
       " MoleculeEntry(name='C[C@@](CN)(c1ccc(c(c1)OC2CCCC2)OC)O-4', molecule_id='13065592', comment=None, local_results={}),\n",
       " MoleculeEntry(name='C[C@@](C[NH3+])(c1ccc(c(c1)OC2CCCC2)OC)O-0', molecule_id='13065887', comment=None, local_results={}),\n",
       " MoleculeEntry(name='C[C@@](C[NH3+])(c1ccc(c(c1)OC2CCCC2)OC)O-1', molecule_id='13065979', comment=None, local_results={}),\n",
       " MoleculeEntry(name='C[C@@](C[NH3+])(c1ccc(c(c1)OC2CCCC2)OC)O-2', molecule_id='13066059', comment=None, local_results={}),\n",
       " MoleculeEntry(name='C[C@@](C[NH3+])(c1ccc(c(c1)OC2CCCC2)OC)O-3', molecule_id='13066262', comment=None, local_results={}),\n",
       " MoleculeEntry(name='C[C@@](C[NH3+])(c1ccc(c(c1)OC2CCCC2)OC)O-4', molecule_id='13066297', comment=None, local_results={}),\n",
       " MoleculeEntry(name='CCOc1cc(ccc1[C@@H]2CCC(=O)N2)C(C)(C)C-0', molecule_id='13066392', comment=None, local_results={}),\n",
       " MoleculeEntry(name='CCOc1cc(ccc1[C@@H]2CCC(=O)N2)C(C)(C)C-1', molecule_id='13066660', comment=None, local_results={}),\n",
       " MoleculeEntry(name='CCOc1cc(ccc1[C@@H]2CCC(=O)N2)C(C)(C)C-2', molecule_id='13066704', comment=None, local_results={}),\n",
       " MoleculeEntry(name='CCOc1cc(ccc1[C@@H]2CCC(=O)N2)C(C)(C)C-3', molecule_id='13066762', comment=None, local_results={}),\n",
       " MoleculeEntry(name='C[C@@]1(O[C@@H](CS1)CN2CCCCC2)C(C)(C)COc3ccc(cc3)Cl-0', molecule_id='13066883', comment=None, local_results={}),\n",
       " MoleculeEntry(name='C[C@@]1(O[C@@H](CS1)CN2CCCCC2)C(C)(C)COc3ccc(cc3)Cl-1', molecule_id='13067039', comment=None, local_results={}),\n",
       " MoleculeEntry(name='C[C@@]1(O[C@@H](CS1)CN2CCCCC2)C(C)(C)COc3ccc(cc3)Cl-2', molecule_id='13067090', comment=None, local_results={}),\n",
       " MoleculeEntry(name='C[C@@]1(O[C@@H](CS1)CN2CCCCC2)C(C)(C)COc3ccc(cc3)Cl-3', molecule_id='13067119', comment=None, local_results={}),\n",
       " MoleculeEntry(name='C[C@@]1(O[C@@H](CS1)CN2CCCCC2)C(C)(C)COc3ccc(cc3)Cl-4', molecule_id='13067166', comment=None, local_results={}),\n",
       " MoleculeEntry(name='C[C@@]1(O[C@@H](CS1)C[NH+]2CCCCC2)C(C)(C)COc3ccc(cc3)Cl-0', molecule_id='13067200', comment=None, local_results={}),\n",
       " MoleculeEntry(name='C[C@@]1(O[C@@H](CS1)C[NH+]2CCCCC2)C(C)(C)COc3ccc(cc3)Cl-1', molecule_id='13067397', comment=None, local_results={}),\n",
       " MoleculeEntry(name='C[C@@]1(O[C@@H](CS1)C[NH+]2CCCCC2)C(C)(C)COc3ccc(cc3)Cl-2', molecule_id='13067644', comment=None, local_results={}),\n",
       " MoleculeEntry(name='C[C@@]1(O[C@@H](CS1)C[NH+]2CCCCC2)C(C)(C)COc3ccc(cc3)Cl-3', molecule_id='13067885', comment=None, local_results={}),\n",
       " MoleculeEntry(name='C[C@@]1(O[C@@H](CS1)C[NH+]2CCCCC2)C(C)(C)COc3ccc(cc3)Cl-4', molecule_id='13068045', comment=None, local_results={}),\n",
       " MoleculeEntry(name='c1ccc(cc1)C2=C(c3ccc(cc3CCC2)O)c4ccc(cc4)OCCCC[S@@](=O)Cc5ccccn5-1', molecule_id='13068109', comment=None, local_results={}),\n",
       " MoleculeEntry(name='c1ccc(cc1)C2=C(c3ccc(cc3CCC2)O)c4ccc(cc4)OCCCC[S@@](=O)Cc5ccccn5-2', molecule_id='13068148', comment=None, local_results={}),\n",
       " MoleculeEntry(name='c1ccc(cc1)C2=C(c3ccc(cc3CCC2)O)c4ccc(cc4)OCCCC[S@@](=O)Cc5ccccn5-3', molecule_id='13068174', comment=None, local_results={}),\n",
       " MoleculeEntry(name='c1ccc(cc1)C2=C(c3ccc(cc3CCC2)O)c4ccc(cc4)OCCCC[S@@](=O)Cc5ccccn5-4', molecule_id='13068372', comment=None, local_results={}),\n",
       " MoleculeEntry(name='Cc1cc(c2c(c1)[NH+]=C([C@@H](O2)C)N)C-0', molecule_id='13068413', comment=None, local_results={}),\n",
       " MoleculeEntry(name='Cc1cc(c2c(c1)NC(=[NH2+])[C@@H](O2)C)C-0', molecule_id='13068540', comment=None, local_results={}),\n",
       " MoleculeEntry(name='C[S@@](=O)CCOc1ccccc1n2ccnc2-1', molecule_id='13068691', comment=None, local_results={}),\n",
       " MoleculeEntry(name='C[S@@](=O)CCOc1ccccc1n2ccnc2-2', molecule_id='13068910', comment=None, local_results={}),\n",
       " MoleculeEntry(name='C[S@@](=O)CCOc1ccccc1n2ccnc2-3', molecule_id='13068957', comment=None, local_results={}),\n",
       " MoleculeEntry(name='C[S@@](=O)CCOc1ccccc1n2ccnc2-4', molecule_id='13084607', comment=None, local_results={}),\n",
       " MoleculeEntry(name='CCCc1cc(ccc1OCCCOc2ccc3c(c2)CC[C@@H]3CC(=O)O)c4nc(c(o4)C(=O)C)C-1', molecule_id='13084685', comment=None, local_results={}),\n",
       " MoleculeEntry(name='CCCc1cc(ccc1OCCCOc2ccc3c(c2)CC[C@@H]3CC(=O)[O-])c4nc(c(o4)C(=O)C)C-0', molecule_id='13085205', comment=None, local_results={}),\n",
       " MoleculeEntry(name='CCCc1cc(ccc1OCCCOc2ccc3c(c2)CC[C@@H]3CC(=O)[O-])c4nc(c(o4)C(=O)C)C-2', molecule_id='13085289', comment=None, local_results={}),\n",
       " MoleculeEntry(name='CCCc1cc(ccc1OCCCOc2ccc3c(c2)CC[C@@H]3CC(=O)[O-])c4nc(c(o4)C(=O)C)C-3', molecule_id='13085628', comment=None, local_results={}),\n",
       " MoleculeEntry(name='c1ccc2c(c1)CC[C@@H]2NC3=NCCO3-1', molecule_id='13086064', comment=None, local_results={}),\n",
       " MoleculeEntry(name='c1ccc2c(c1)CC[C@@H]2NC3=NCCO3-2', molecule_id='13086503', comment=None, local_results={}),\n",
       " MoleculeEntry(name='c1ccc2c(c1)CC[C@@H]2NC3=[NH+]CCO3-0', molecule_id='13086888', comment=None, local_results={}),\n",
       " MoleculeEntry(name='c1ccc2c(c1)CC[C@@H]2NC3=[NH+]CCO3-1', molecule_id='13087399', comment=None, local_results={}),\n",
       " MoleculeEntry(name='c1ccc2c(c1)CC[C@@H]2NC3=[NH+]CCO3-2', molecule_id='13087531', comment=None, local_results={}),\n",
       " MoleculeEntry(name='c1ccc2c(c1)CC[C@@H]2/[NH+]=C\\\\3/NCCO3-0', molecule_id='13087717', comment=None, local_results={}),\n",
       " MoleculeEntry(name='c1ccc2c(c1)CC[C@@H]2/[NH+]=C\\\\3/NCCO3-1', molecule_id='13087907', comment=None, local_results={}),\n",
       " MoleculeEntry(name='c1ccc2c(c1)CC[C@@H]2/[NH+]=C\\\\3/NCCO3-2', molecule_id='13088198', comment=None, local_results={}),\n",
       " MoleculeEntry(name='CS(=O)(=O)c1ccc(c(c1CO[C@@H]2CCOC2)Cl)C(=O)O-0', molecule_id='13088604', comment=None, local_results={}),\n",
       " MoleculeEntry(name='CS(=O)(=O)c1ccc(c(c1CO[C@@H]2CCOC2)Cl)C(=O)O-1', molecule_id='13088853', comment=None, local_results={}),\n",
       " MoleculeEntry(name='CS(=O)(=O)c1ccc(c(c1CO[C@@H]2CCOC2)Cl)C(=O)O-2', molecule_id='13089174', comment=None, local_results={}),\n",
       " MoleculeEntry(name='CS(=O)(=O)c1ccc(c(c1CO[C@@H]2CCOC2)Cl)C(=O)O-3', molecule_id='13089682', comment=None, local_results={}),\n",
       " MoleculeEntry(name='CS(=O)(=O)c1ccc(c(c1CO[C@@H]2CCOC2)Cl)C(=O)O-4', molecule_id='13090055', comment=None, local_results={}),\n",
       " MoleculeEntry(name='CS(=O)(=O)c1ccc(c(c1CO[C@@H]2CCOC2)Cl)C(=O)[O-]-0', molecule_id='13090114', comment=None, local_results={}),\n",
       " MoleculeEntry(name='CS(=O)(=O)c1ccc(c(c1CO[C@@H]2CCOC2)Cl)C(=O)[O-]-1', molecule_id='13090237', comment=None, local_results={}),\n",
       " MoleculeEntry(name='CS(=O)(=O)c1ccc(c(c1CO[C@@H]2CCOC2)Cl)C(=O)[O-]-2', molecule_id='13090287', comment=None, local_results={}),\n",
       " MoleculeEntry(name='CS(=O)(=O)c1ccc(c(c1CO[C@@H]2CCOC2)Cl)C(=O)[O-]-3', molecule_id='13090474', comment=None, local_results={}),\n",
       " MoleculeEntry(name='CS(=O)(=O)c1ccc(c(c1CO[C@@H]2CCOC2)Cl)C(=O)[O-]-4', molecule_id='13090574', comment=None, local_results={}),\n",
       " MoleculeEntry(name='c1ccc(cc1)C2=C(c3ccc(cc3CCC2)O)c4ccc(cc4)OCCCCC[S@@](=O)CCCCF-0', molecule_id='13090717', comment=None, local_results={}),\n",
       " MoleculeEntry(name='c1ccc(cc1)C2=C(c3ccc(cc3CCC2)O)c4ccc(cc4)OCCCCC[S@@](=O)CCCCF-1', molecule_id='13091089', comment=None, local_results={}),\n",
       " MoleculeEntry(name='c1ccc(cc1)C2=C(c3ccc(cc3CCC2)O)c4ccc(cc4)OCCCCC[S@@](=O)CCCCF-2', molecule_id='13091292', comment=None, local_results={}),\n",
       " MoleculeEntry(name='c1ccc(cc1)C2=C(c3ccc(cc3CCC2)O)c4ccc(cc4)OCCCCC[S@@](=O)CCCCF-3', molecule_id='13091352', comment=None, local_results={}),\n",
       " MoleculeEntry(name='c1ccc(cc1)C2=C(c3ccc(cc3CCC2)O)c4ccc(cc4)OCCCCC[S@@](=O)CCCCF-4', molecule_id='13091425', comment=None, local_results={}),\n",
       " MoleculeEntry(name='CCc1cc(cc(c1CC(=O)O)CC)C#CC-0', molecule_id='13091511', comment=None, local_results={}),\n",
       " MoleculeEntry(name='CCc1cc(cc(c1CC(=O)O)CC)C#CC-1', molecule_id='13091964', comment=None, local_results={}),\n",
       " MoleculeEntry(name='CCc1cc(cc(c1CC(=O)O)CC)C#CC-2', molecule_id='13092737', comment=None, local_results={}),\n",
       " MoleculeEntry(name='CCc1cc(cc(c1CC(=O)O)CC)C#CC-3', molecule_id='13092860', comment=None, local_results={}),\n",
       " MoleculeEntry(name='CCc1cc(cc(c1CC(=O)O)CC)C#CC-4', molecule_id='13092932', comment=None, local_results={}),\n",
       " MoleculeEntry(name='CCc1cc(cc(c1CC(=O)[O-])CC)C#CC-0', molecule_id='13094149', comment=None, local_results={}),\n",
       " MoleculeEntry(name='c1ccc2c(c1)[C@@H](CCS2)C[C@@H](C(F)(F)F)O-0', molecule_id='13094307', comment=None, local_results={}),\n",
       " MoleculeEntry(name='c1ccc2c(c1)[C@@H](CCS2)C[C@@H](C(F)(F)F)O-1', molecule_id='13094523', comment=None, local_results={}),\n",
       " MoleculeEntry(name='c1ccc2c(c1)[C@@H](CCS2)C[C@@H](C(F)(F)F)O-2', molecule_id='13094644', comment=None, local_results={}),\n",
       " MoleculeEntry(name='c1ccc2c(c1)[C@@H](CCS2)C[C@@H](C(F)(F)F)O-3', molecule_id='13094686', comment=None, local_results={}),\n",
       " MoleculeEntry(name='c1ccc2c(c1)[C@@H](CCS2)C[C@@H](C(F)(F)F)O-4', molecule_id='13094759', comment=None, local_results={}),\n",
       " MoleculeEntry(name='COC(=O)C[C@@H](CS(=O)(=O)c1ccc(cc1)O)c2ccccc2-0', molecule_id='13094868', comment=None, local_results={}),\n",
       " MoleculeEntry(name='COC(=O)C[C@@H](CS(=O)(=O)c1ccc(cc1)O)c2ccccc2-1', molecule_id='13094934', comment=None, local_results={}),\n",
       " MoleculeEntry(name='COC(=O)C[C@@H](CS(=O)(=O)c1ccc(cc1)O)c2ccccc2-2', molecule_id='13095077', comment=None, local_results={}),\n",
       " MoleculeEntry(name='COC(=O)C[C@@H](CS(=O)(=O)c1ccc(cc1)O)c2ccccc2-3', molecule_id='13095305', comment=None, local_results={}),\n",
       " MoleculeEntry(name='COC(=O)C[C@@H](CS(=O)(=O)c1ccc(cc1)O)c2ccccc2-4', molecule_id='13095468', comment=None, local_results={}),\n",
       " MoleculeEntry(name='COC(=O)C[C@@H](CS(=O)(=O)c1ccc(cc1)[O-])c2ccccc2-0', molecule_id='13095637', comment=None, local_results={}),\n",
       " MoleculeEntry(name='COC(=O)C[C@@H](CS(=O)(=O)c1ccc(cc1)[O-])c2ccccc2-1', molecule_id='13096040', comment=None, local_results={}),\n",
       " MoleculeEntry(name='COC(=O)C[C@@H](CS(=O)(=O)c1ccc(cc1)[O-])c2ccccc2-2', molecule_id='13096251', comment=None, local_results={}),\n",
       " MoleculeEntry(name='COC(=O)C[C@@H](CS(=O)(=O)c1ccc(cc1)[O-])c2ccccc2-3', molecule_id='13096339', comment=None, local_results={}),\n",
       " MoleculeEntry(name='COC(=O)C[C@@H](CS(=O)(=O)c1ccc(cc1)[O-])c2ccccc2-4', molecule_id='13096470', comment=None, local_results={}),\n",
       " MoleculeEntry(name='c1cc(ccc1c2ccc(cc2)F)C3(CCCC3)CNC=O-0', molecule_id='13096634', comment=None, local_results={}),\n",
       " MoleculeEntry(name='c1cc(ccc1c2ccc(cc2)F)C3(CCCC3)CNC=O-2', molecule_id='13097039', comment=None, local_results={}),\n",
       " MoleculeEntry(name='c1cc(ccc1c2ccc(cc2)F)C3(CCCC3)CNC=O-3', molecule_id='13097097', comment=None, local_results={}),\n",
       " MoleculeEntry(name='c1cc(ccc1c2ccc(cc2)F)C3(CCCC3)CNC=O-4', molecule_id='13097402', comment=None, local_results={}),\n",
       " MoleculeEntry(name='c1ccc(cc1)CN(Cc2ccccc2)c3ccc(cc3)C4(CCC4)CC(=O)O-0', molecule_id='13098667', comment=None, local_results={}),\n",
       " MoleculeEntry(name='c1ccc(cc1)CN(Cc2ccccc2)c3ccc(cc3)C4(CCC4)CC(=O)O-2', molecule_id='13100104', comment=None, local_results={}),\n",
       " MoleculeEntry(name='c1ccc(cc1)CN(Cc2ccccc2)c3ccc(cc3)C4(CCC4)CC(=O)O-3', molecule_id='13107601', comment=None, local_results={}),\n",
       " MoleculeEntry(name='c1ccc(cc1)CN(Cc2ccccc2)c3ccc(cc3)C4(CCC4)CC(=O)[O-]-1', molecule_id='13107720', comment=None, local_results={}),\n",
       " MoleculeEntry(name='c1ccc(cc1)CN(Cc2ccccc2)c3ccc(cc3)C4(CCC4)CC(=O)[O-]-2', molecule_id='13107811', comment=None, local_results={}),\n",
       " MoleculeEntry(name='c1ccc(cc1)CN(Cc2ccccc2)c3ccc(cc3)C4(CCC4)CC(=O)[O-]-4', molecule_id='13107851', comment=None, local_results={}),\n",
       " MoleculeEntry(name='C[C@@H](C1=CCCc2c1ccc(c2)OC)C(=O)O-0', molecule_id='13110134', comment=None, local_results={}),\n",
       " MoleculeEntry(name='C[C@@H](C1=CCCc2c1ccc(c2)OC)C(=O)O-1', molecule_id='13110270', comment=None, local_results={}),\n",
       " MoleculeEntry(name='C[C@@H](C1=CCCc2c1ccc(c2)OC)C(=O)O-2', molecule_id='13110409', comment=None, local_results={}),\n",
       " MoleculeEntry(name='C[C@@H](C1=CCCc2c1ccc(c2)OC)C(=O)O-3', molecule_id='13110508', comment=None, local_results={}),\n",
       " MoleculeEntry(name='C[C@@H](C1=CCCc2c1ccc(c2)OC)C(=O)O-4', molecule_id='13111015', comment=None, local_results={}),\n",
       " MoleculeEntry(name='C[C@@H](C1=CCCc2c1ccc(c2)OC)C(=O)[O-]-0', molecule_id='13111253', comment=None, local_results={}),\n",
       " MoleculeEntry(name='C[C@@H](C1=CCCc2c1ccc(c2)OC)C(=O)[O-]-1', molecule_id='13111883', comment=None, local_results={}),\n",
       " MoleculeEntry(name='C[C@@H](C1=CCCc2c1ccc(c2)OC)C(=O)[O-]-2', molecule_id='13111992', comment=None, local_results={}),\n",
       " MoleculeEntry(name='CC(C)c1ccc(cc1C(=O)O)O-1', molecule_id='13112396', comment=None, local_results={}),\n",
       " MoleculeEntry(name='c1ccc2c(c1)CCC[C@@H]2NC(=O)Cn3c(=O)n(c(n3)c4ccc(cc4)Cl)C5CC5-0', molecule_id='13112884', comment=None, local_results={}),\n",
       " MoleculeEntry(name='c1ccc2c(c1)CCC[C@@H]2NC(=O)Cn3c(=O)n(c(n3)c4ccc(cc4)Cl)C5CC5-1', molecule_id='13114901', comment=None, local_results={}),\n",
       " MoleculeEntry(name='c1ccc2c(c1)CCC[C@@H]2NC(=O)Cn3c(=O)n(c(n3)c4ccc(cc4)Cl)C5CC5-3', molecule_id='13115045', comment=None, local_results={}),\n",
       " MoleculeEntry(name='c1ccc2c(c1)CCC[C@@H]2NC(=O)Cn3c(=O)n(c(n3)c4ccc(cc4)Cl)C5CC5-4', molecule_id='13117093', comment=None, local_results={}),\n",
       " MoleculeEntry(name='COC(=O)N[C@@]12CN(C[C@@H]1C=CC=C2)C(=O)OC-0', molecule_id='13117314', comment=None, local_results={}),\n",
       " MoleculeEntry(name='COC(=O)N[C@@]12CN(C[C@@H]1C=CC=C2)C(=O)OC-1', molecule_id='13117360', comment=None, local_results={}),\n",
       " MoleculeEntry(name='COC(=O)N[C@@]12CN(C[C@@H]1C=CC=C2)C(=O)OC-2', molecule_id='13117560', comment=None, local_results={}),\n",
       " MoleculeEntry(name='COC(=O)N[C@@]12CN(C[C@@H]1C=CC=C2)C(=O)OC-3', molecule_id='13117818', comment=None, local_results={}),\n",
       " MoleculeEntry(name='COC(=O)N[C@@]12CN(C[C@@H]1C=CC=C2)C(=O)OC-4', molecule_id='13117868', comment=None, local_results={}),\n",
       " MoleculeEntry(name='C[C@@H](c1ccccc1F)NC2=NCCO2-0', molecule_id='13118017', comment=None, local_results={}),\n",
       " MoleculeEntry(name='C[C@@H](c1ccccc1F)NC2=NCCO2-1', molecule_id='13118321', comment=None, local_results={}),\n",
       " MoleculeEntry(name='C[C@@H](c1ccccc1F)NC2=NCCO2-2', molecule_id='13118986', comment=None, local_results={}),\n",
       " MoleculeEntry(name='C[C@@H](c1ccccc1F)NC2=NCCO2-3', molecule_id='13119026', comment=None, local_results={}),\n",
       " MoleculeEntry(name='C[C@@H](c1ccccc1F)NC2=NCCO2-4', molecule_id='13119144', comment=None, local_results={}),\n",
       " MoleculeEntry(name='C[C@@H](c1ccccc1F)NC2=[NH+]CCO2-0', molecule_id='13119394', comment=None, local_results={}),\n",
       " MoleculeEntry(name='C[C@@H](c1ccccc1F)NC2=[NH+]CCO2-1', molecule_id='13119561', comment=None, local_results={}),\n",
       " MoleculeEntry(name='C[C@@H](c1ccccc1F)NC2=[NH+]CCO2-2', molecule_id='13122290', comment=None, local_results={}),\n",
       " MoleculeEntry(name='C[C@@H](c1ccccc1F)NC2=[NH+]CCO2-3', molecule_id='13125188', comment=None, local_results={}),\n",
       " MoleculeEntry(name='C[C@@H](c1ccccc1F)NC2=[NH+]CCO2-4', molecule_id='13126230', comment=None, local_results={}),\n",
       " MoleculeEntry(name='C[C@@H](c1ccccc1F)/[NH+]=C\\\\2/NCCO2-0', molecule_id='13128660', comment=None, local_results={}),\n",
       " MoleculeEntry(name='C[C@@H](c1ccccc1F)/[NH+]=C\\\\2/NCCO2-1', molecule_id='13129792', comment=None, local_results={}),\n",
       " MoleculeEntry(name='C[C@@H](c1ccccc1F)/[NH+]=C\\\\2/NCCO2-2', molecule_id='13129952', comment=None, local_results={}),\n",
       " MoleculeEntry(name='C[C@@H](c1ccccc1F)/[NH+]=C\\\\2/NCCO2-4', molecule_id='13130147', comment=None, local_results={}),\n",
       " MoleculeEntry(name='CCS(=O)(=O)c1ccc(c(c1OCC2CCCC2)Cl)C(=O)O-0', molecule_id='13131145', comment=None, local_results={}),\n",
       " MoleculeEntry(name='CCS(=O)(=O)c1ccc(c(c1OCC2CCCC2)Cl)C(=O)O-1', molecule_id='13131256', comment=None, local_results={}),\n",
       " MoleculeEntry(name='CCS(=O)(=O)c1ccc(c(c1OCC2CCCC2)Cl)C(=O)O-2', molecule_id='13132075', comment=None, local_results={}),\n",
       " MoleculeEntry(name='CCS(=O)(=O)c1ccc(c(c1OCC2CCCC2)Cl)C(=O)O-3', molecule_id='13132730', comment=None, local_results={}),\n",
       " MoleculeEntry(name='CCS(=O)(=O)c1ccc(c(c1OCC2CCCC2)Cl)C(=O)O-4', molecule_id='13132985', comment=None, local_results={}),\n",
       " MoleculeEntry(name='CCS(=O)(=O)c1ccc(c(c1OCC2CCCC2)Cl)C(=O)[O-]-0', molecule_id='13133750', comment=None, local_results={}),\n",
       " MoleculeEntry(name='CCS(=O)(=O)c1ccc(c(c1OCC2CCCC2)Cl)C(=O)[O-]-1', molecule_id='13135099', comment=None, local_results={}),\n",
       " MoleculeEntry(name='CCS(=O)(=O)c1ccc(c(c1OCC2CCCC2)Cl)C(=O)[O-]-2', molecule_id='13135175', comment=None, local_results={}),\n",
       " MoleculeEntry(name='CCS(=O)(=O)c1ccc(c(c1OCC2CCCC2)Cl)C(=O)[O-]-3', molecule_id='13137342', comment=None, local_results={}),\n",
       " MoleculeEntry(name='CCS(=O)(=O)c1ccc(c(c1OCC2CCCC2)Cl)C(=O)[O-]-4', molecule_id='13138428', comment=None, local_results={}),\n",
       " MoleculeEntry(name='c1ccc(cc1)C2=C(c3ccc(cc3CCC2)O)c4ccc(cc4)OCCCCC[S@@](=O)c5ccccc5-0', molecule_id='13139705', comment=None, local_results={}),\n",
       " MoleculeEntry(name='c1ccc(cc1)C2=C(c3ccc(cc3CCC2)O)c4ccc(cc4)OCCCCC[S@@](=O)c5ccccc5-1', molecule_id='13140918', comment=None, local_results={}),\n",
       " MoleculeEntry(name='c1ccc(cc1)C2=C(c3ccc(cc3CCC2)O)c4ccc(cc4)OCCCCC[S@@](=O)c5ccccc5-3', molecule_id='13140958', comment=None, local_results={}),\n",
       " MoleculeEntry(name='c1ccc(cc1)C2=C(c3ccc(cc3CCC2)O)c4ccc(cc4)OCCCCC[S@@](=O)c5ccccc5-4', molecule_id='13142955', comment=None, local_results={}),\n",
       " MoleculeEntry(name='Cc1ccc(cc1CC(=O)O)C2CC2-4', molecule_id='13146997', comment=None, local_results={}),\n",
       " MoleculeEntry(name='Cc1ccc(cc1CC(=O)[O-])C2CC2-0', molecule_id='13147318', comment=None, local_results={}),\n",
       " MoleculeEntry(name='Cc1ccc(cc1CC(=O)[O-])C2CC2-1', molecule_id='13147916', comment=None, local_results={}),\n",
       " MoleculeEntry(name='CCOC(=O)[C@@]1(CC[N@@](O1)C(C)(C)C)Cc2ccccc2-0', molecule_id='13148122', comment=None, local_results={}),\n",
       " MoleculeEntry(name='CCOC(=O)[C@@]1(CC[N@@](O1)C(C)(C)C)Cc2ccccc2-1', molecule_id='13148209', comment=None, local_results={}),\n",
       " MoleculeEntry(name='CCOC(=O)[C@@]1(CC[N@@](O1)C(C)(C)C)Cc2ccccc2-2', molecule_id='13149057', comment=None, local_results={}),\n",
       " MoleculeEntry(name='CCOC(=O)[C@@]1(CC[N@@](O1)C(C)(C)C)Cc2ccccc2-3', molecule_id='13149835', comment=None, local_results={}),\n",
       " MoleculeEntry(name='CCOC(=O)[C@@]1(CC[N@@](O1)C(C)(C)C)Cc2ccccc2-4', molecule_id='13149947', comment=None, local_results={}),\n",
       " MoleculeEntry(name='c1ccc2c(c1)C(=CCS2)C[C@@](CO)(C(F)(F)F)O-0', molecule_id='13150768', comment=None, local_results={}),\n",
       " MoleculeEntry(name='c1ccc2c(c1)C(=CCS2)C[C@@](CO)(C(F)(F)F)O-1', molecule_id='13152102', comment=None, local_results={}),\n",
       " MoleculeEntry(name='c1ccc2c(c1)C(=CCS2)C[C@@](CO)(C(F)(F)F)O-2', molecule_id='13152490', comment=None, local_results={}),\n",
       " MoleculeEntry(name='c1ccc2c(c1)C(=CCS2)C[C@@](CO)(C(F)(F)F)O-3', molecule_id='13152562', comment=None, local_results={}),\n",
       " MoleculeEntry(name='c1ccc2c(c1)C(=CCS2)C[C@@](CO)(C(F)(F)F)O-4', molecule_id='13153256', comment=None, local_results={}),\n",
       " MoleculeEntry(name='C[C@@H]1C(=[NH+]c2cc(ccc2O1)Cl)N-0', molecule_id='13154971', comment=None, local_results={}),\n",
       " MoleculeEntry(name='C[C@@H]1C(=[NH2+])Nc2cc(ccc2O1)Cl-0', molecule_id='13156446', comment=None, local_results={}),\n",
       " MoleculeEntry(name='c1ccc(c(c1)O)S(=O)(=O)c2ccccc2O-0', molecule_id='13159113', comment=None, local_results={}),\n",
       " MoleculeEntry(name='c1ccc(c(c1)O)S(=O)(=O)c2ccccc2O-1', molecule_id='13164014', comment=None, local_results={}),\n",
       " MoleculeEntry(name='c1ccc(c(c1)O)S(=O)(=O)c2ccccc2O-2', molecule_id='3897456', comment=None, local_results={}),\n",
       " MoleculeEntry(name='c1ccc(c(c1)O)S(=O)(=O)c2ccccc2O-3', molecule_id='3899981', comment=None, local_results={}),\n",
       " MoleculeEntry(name='c1ccc(c(c1)O)S(=O)(=O)c2ccccc2O-4', molecule_id='4257034', comment=None, local_results={}),\n",
       " MoleculeEntry(name='c1ccc(c(c1)[O-])S(=O)(=O)c2ccccc2[O-]-0', molecule_id='4260655', comment=None, local_results={}),\n",
       " MoleculeEntry(name='c1ccc(c(c1)[O-])S(=O)(=O)c2ccccc2[O-]-1', molecule_id='13068827', comment=None, local_results={}),\n",
       " MoleculeEntry(name='C[C@@H](c1ccc2cc(ccc2c1)OC)C(=O)O-1', molecule_id='13069006', comment=None, local_results={}),\n",
       " MoleculeEntry(name='C[C@@H](c1ccc2cc(ccc2c1)OC)C(=O)O-2', molecule_id='13069703', comment=None, local_results={}),\n",
       " MoleculeEntry(name='C[C@@H](c1ccc2cc(ccc2c1)OC)C(=O)O-3', molecule_id='13069724', comment=None, local_results={}),\n",
       " MoleculeEntry(name='C[C@@H](c1ccc2cc(ccc2c1)OC)C(=O)O-4', molecule_id='13069878', comment=None, local_results={}),\n",
       " MoleculeEntry(name='C[C@@H](c1ccc2cc(ccc2c1)OC)C(=O)[O-]-0', molecule_id='13069915', comment=None, local_results={}),\n",
       " MoleculeEntry(name='C[C@@H](c1ccc2cc(ccc2c1)OC)C(=O)[O-]-1', molecule_id='13069948', comment=None, local_results={}),\n",
       " MoleculeEntry(name='C[C@@H](c1ccc2cc(ccc2c1)OC)C(=O)[O-]-2', molecule_id='13069987', comment=None, local_results={}),\n",
       " MoleculeEntry(name='C[C@@H](c1ccc2cc(ccc2c1)OC)C(=O)[O-]-3', molecule_id='13070027', comment=None, local_results={}),\n",
       " MoleculeEntry(name='C[C@@H]1Cc2cc(c(cc2C1=O)F)OC-0', molecule_id='13070069', comment=None, local_results={}),\n",
       " MoleculeEntry(name='Cc1ccc2c(c1)c(=O)n(nn2)C[C@@H]3CC[C@@H]([C@@H]3C(=O)O)C(=O)c4ccc(cc4)OCC5CCCCC5-0', molecule_id='13070109', comment=None, local_results={}),\n",
       " MoleculeEntry(name='Cc1ccc2c(c1)c(=O)n(nn2)C[C@@H]3CC[C@@H]([C@@H]3C(=O)O)C(=O)c4ccc(cc4)OCC5CCCCC5-1', molecule_id='13070151', comment=None, local_results={}),\n",
       " MoleculeEntry(name='Cc1ccc2c(c1)c(=O)n(nn2)C[C@@H]3CC[C@@H]([C@@H]3C(=O)O)C(=O)c4ccc(cc4)OCC5CCCCC5-2', molecule_id='13070274', comment=None, local_results={}),\n",
       " MoleculeEntry(name='Cc1ccc2c(c1)c(=O)n(nn2)C[C@@H]3CC[C@@H]([C@@H]3C(=O)O)C(=O)c4ccc(cc4)OCC5CCCCC5-3', molecule_id='13070291', comment=None, local_results={}),\n",
       " MoleculeEntry(name='Cc1ccc2c(c1)c(=O)n(nn2)C[C@@H]3CC[C@@H]([C@@H]3C(=O)O)C(=O)c4ccc(cc4)OCC5CCCCC5-4', molecule_id='13070321', comment=None, local_results={}),\n",
       " MoleculeEntry(name='Cc1ccc2c(c1)c(=O)n(nn2)C[C@@H]3CC[C@@H]([C@@H]3C(=O)[O-])C(=O)c4ccc(cc4)OCC5CCCCC5-0', molecule_id='13070356', comment=None, local_results={}),\n",
       " MoleculeEntry(name='Cc1ccc2c(c1)c(=O)n(nn2)C[C@@H]3CC[C@@H]([C@@H]3C(=O)[O-])C(=O)c4ccc(cc4)OCC5CCCCC5-1', molecule_id='13070411', comment=None, local_results={}),\n",
       " MoleculeEntry(name='Cc1ccc2c(c1)c(=O)n(nn2)C[C@@H]3CC[C@@H]([C@@H]3C(=O)[O-])C(=O)c4ccc(cc4)OCC5CCCCC5-3', molecule_id='13070754', comment=None, local_results={}),\n",
       " MoleculeEntry(name='Cc1ccc2c(c1)c(=O)n(nn2)C[C@@H]3CC[C@@H]([C@@H]3C(=O)[O-])C(=O)c4ccc(cc4)OCC5CCCCC5-4', molecule_id='13070942', comment=None, local_results={}),\n",
       " MoleculeEntry(name='CS(=O)(=O)Cc1ccccc1S(=O)(=O)N-1', molecule_id='13071063', comment=None, local_results={}),\n",
       " MoleculeEntry(name='CS(=O)(=O)Cc1ccccc1S(=O)(=O)N-2', molecule_id='13071105', comment=None, local_results={}),\n",
       " MoleculeEntry(name='CS(=O)(=O)Cc1ccccc1S(=O)(=O)N-3', molecule_id='13071242', comment=None, local_results={}),\n",
       " MoleculeEntry(name='CS(=O)(=O)Cc1ccccc1S(=O)(=O)N-4', molecule_id='13071296', comment=None, local_results={}),\n",
       " MoleculeEntry(name='CC/C(=C(\\\\c1ccc(cc1)O)/c2ccc(cc2)OCCCCC[S@@](=O)Cc3ccccn3)/c4ccccc4-0', molecule_id='13071334', comment=None, local_results={}),\n",
       " MoleculeEntry(name='CC/C(=C(\\\\c1ccc(cc1)O)/c2ccc(cc2)OCCCCC[S@@](=O)Cc3ccccn3)/c4ccccc4-2', molecule_id='13071383', comment=None, local_results={}),\n",
       " MoleculeEntry(name='CC/C(=C(\\\\c1ccc(cc1)O)/c2ccc(cc2)OCCCCC[S@@](=O)Cc3ccccn3)/c4ccccc4-3', molecule_id='13071401', comment=None, local_results={}),\n",
       " MoleculeEntry(name='CC/C(=C(\\\\c1ccc(cc1)O)/c2ccc(cc2)OCCCCC[S@@](=O)Cc3ccccn3)/c4ccccc4-4', molecule_id='13071454', comment=None, local_results={}),\n",
       " MoleculeEntry(name='c1ccc2c(c1)[C@@H](CCS2)CCO-1', molecule_id='13071583', comment=None, local_results={}),\n",
       " MoleculeEntry(name='c1ccc2c(c1)[C@@H](CCS2)CCO-2', molecule_id='13071646', comment=None, local_results={}),\n",
       " MoleculeEntry(name='COc1ccc2c(c1)CCC[C@@H](C2=O)c3ccc(cc3)S(=O)(=O)C-0', molecule_id='13071730', comment=None, local_results={}),\n",
       " MoleculeEntry(name='COc1ccc2c(c1)CCC[C@@H](C2=O)c3ccc(cc3)S(=O)(=O)C-1', molecule_id='13072603', comment=None, local_results={}),\n",
       " MoleculeEntry(name='COc1ccc2c(c1)CCC[C@@H](C2=O)c3ccc(cc3)S(=O)(=O)C-2', molecule_id='13072626', comment=None, local_results={}),\n",
       " MoleculeEntry(name='COc1ccc2c(c1)CCC[C@@H](C2=O)c3ccc(cc3)S(=O)(=O)C-3', molecule_id='13072644', comment=None, local_results={}),\n",
       " MoleculeEntry(name='COc1ccc2c(c1)CCC[C@@H](C2=O)c3ccc(cc3)S(=O)(=O)C-4', molecule_id='13072670', comment=None, local_results={}),\n",
       " MoleculeEntry(name='CCOc1ccc(cc1OC)C[C@@H](C)N-1', molecule_id='13072744', comment=None, local_results={}),\n",
       " MoleculeEntry(name='CCOc1ccc(cc1OC)C[C@@H](C)N-2', molecule_id='13072771', comment=None, local_results={}),\n",
       " MoleculeEntry(name='CCOc1ccc(cc1OC)C[C@@H](C)N-3', molecule_id='13072939', comment=None, local_results={}),\n",
       " MoleculeEntry(name='CCOc1ccc(cc1OC)C[C@@H](C)N-4', molecule_id='13073031', comment=None, local_results={}),\n",
       " MoleculeEntry(name='CCOc1ccc(cc1OC)C[C@@H](C)[NH3+]-0', molecule_id='13115476', comment=None, local_results={}),\n",
       " MoleculeEntry(name='CCOc1ccc(cc1OC)C[C@@H](C)[NH3+]-1', molecule_id='13115655', comment=None, local_results={}),\n",
       " MoleculeEntry(name='CCOc1ccc(cc1OC)C[C@@H](C)[NH3+]-2', molecule_id='13115698', comment=None, local_results={}),\n",
       " MoleculeEntry(name='CCOc1ccc(cc1OC)C[C@@H](C)[NH3+]-3', molecule_id='13115777', comment=None, local_results={}),\n",
       " MoleculeEntry(name='CCOc1ccc(cc1OC)C[C@@H](C)[NH3+]-4', molecule_id='13115826', comment=None, local_results={}),\n",
       " MoleculeEntry(name='c1cc(ccc1c2ccc3c(c2)CC[C@@H](O3)CNC[C@@H](COc4ccc(cc4)F)O)C(=O)O-0', molecule_id='13115967', comment=None, local_results={}),\n",
       " MoleculeEntry(name='c1cc(ccc1c2ccc3c(c2)CC[C@@H](O3)CNC[C@@H](COc4ccc(cc4)F)O)C(=O)O-1', molecule_id='13116012', comment=None, local_results={}),\n",
       " MoleculeEntry(name='c1cc(ccc1c2ccc3c(c2)CC[C@@H](O3)CNC[C@@H](COc4ccc(cc4)F)O)C(=O)O-2', molecule_id='13116234', comment=None, local_results={}),\n",
       " MoleculeEntry(name='c1cc(ccc1c2ccc3c(c2)CC[C@@H](O3)CNC[C@@H](COc4ccc(cc4)F)O)C(=O)O-3', molecule_id='13116254', comment=None, local_results={}),\n",
       " MoleculeEntry(name='c1cc(ccc1c2ccc3c(c2)CC[C@@H](O3)CNC[C@@H](COc4ccc(cc4)F)O)C(=O)O-4', molecule_id='13116425', comment=None, local_results={}),\n",
       " MoleculeEntry(name='c1cc(ccc1c2ccc3c(c2)CC[C@@H](O3)C[NH2+]C[C@@H](COc4ccc(cc4)F)O)C(=O)[O-]-0', molecule_id='13116461', comment=None, local_results={}),\n",
       " MoleculeEntry(name='c1cc(ccc1c2ccc3c(c2)CC[C@@H](O3)C[NH2+]C[C@@H](COc4ccc(cc4)F)O)C(=O)[O-]-1', molecule_id='13116478', comment=None, local_results={}),\n",
       " MoleculeEntry(name='c1cc(ccc1c2ccc3c(c2)CC[C@@H](O3)C[NH2+]C[C@@H](COc4ccc(cc4)F)O)C(=O)[O-]-2', molecule_id='13116551', comment=None, local_results={}),\n",
       " MoleculeEntry(name='c1cc(ccc1c2ccc3c(c2)CC[C@@H](O3)C[NH2+]C[C@@H](COc4ccc(cc4)F)O)C(=O)[O-]-3', molecule_id='13116586', comment=None, local_results={}),\n",
       " MoleculeEntry(name='c1cc(ccc1c2ccc3c(c2)CC[C@@H](O3)C[NH2+]C[C@@H](COc4ccc(cc4)F)O)C(=O)[O-]-4', molecule_id='13116633', comment=None, local_results={}),\n",
       " MoleculeEntry(name='c1cc(c(cc1C2=Cc3ccc(cc3CCC2)O)F)O-1', molecule_id='13116733', comment=None, local_results={}),\n",
       " MoleculeEntry(name='c1cc(c(cc1C2=Cc3ccc(cc3CCC2)O)F)O-2', molecule_id='13116778', comment=None, local_results={}),\n",
       " MoleculeEntry(name='c1cc(c(cc1C2=Cc3ccc(cc3CCC2)O)F)O-3', molecule_id='13116808', comment=None, local_results={}),\n",
       " MoleculeEntry(name='CC(C)c1cc2c(c(c1[C@@H](c3ccc(cc3)C(C)(C)C)O)c4ccc(cc4)F)[C@@H](CC5(O2)CCC5)O-0', molecule_id='13116881', comment=None, local_results={}),\n",
       " MoleculeEntry(name='CC(C)c1cc2c(c(c1[C@@H](c3ccc(cc3)C(C)(C)C)O)c4ccc(cc4)F)[C@@H](CC5(O2)CCC5)O-1', molecule_id='13116915', comment=None, local_results={}),\n",
       " MoleculeEntry(name='CC(C)c1cc2c(c(c1[C@@H](c3ccc(cc3)C(C)(C)C)O)c4ccc(cc4)F)[C@@H](CC5(O2)CCC5)O-2', molecule_id='13116983', comment=None, local_results={}),\n",
       " MoleculeEntry(name='c1cc2c(cc1F)cc3n2CC[NH2+]C3-0', molecule_id='13117160', comment=None, local_results={}),\n",
       " MoleculeEntry(name='c1ccc(cc1)S(=O)(=O)N[C@@H]2CCC(=O)C2-0', molecule_id='13117198', comment=None, local_results={}),\n",
       " MoleculeEntry(name='c1ccc(cc1)S(=O)(=O)N[C@@H]2CCC(=O)C2-1', molecule_id='13117435', comment=None, local_results={}),\n",
       " MoleculeEntry(name='c1ccc(cc1)S(=O)(=O)N[C@@H]2CCC(=O)C2-2', molecule_id='13117473', comment=None, local_results={}),\n",
       " MoleculeEntry(name='CCCC[S@@](=O)c1nnc(s1)N(C)C(=O)N(C)C-0', molecule_id='13117502', comment=None, local_results={}),\n",
       " MoleculeEntry(name='CCCC[S@@](=O)c1nnc(s1)N(C)C(=O)N(C)C-1', molecule_id='13117523', comment=None, local_results={}),\n",
       " MoleculeEntry(name='CCCC[S@@](=O)c1nnc(s1)N(C)C(=O)N(C)C-2', molecule_id='13117649', comment=None, local_results={}),\n",
       " MoleculeEntry(name='CCCC[S@@](=O)c1nnc(s1)N(C)C(=O)N(C)C-3', molecule_id='13117760', comment=None, local_results={}),\n",
       " MoleculeEntry(name='CCCC[S@@](=O)c1nnc(s1)N(C)C(=O)N(C)C-4', molecule_id='13117888', comment=None, local_results={}),\n",
       " MoleculeEntry(name='C[C@@H](c1ccccc1)NC2=NCCO2-3', molecule_id='13118168', comment=None, local_results={}),\n",
       " MoleculeEntry(name='C[C@@H](c1ccccc1)NC2=NCCO2-4', molecule_id='13118220', comment=None, local_results={}),\n",
       " MoleculeEntry(name='C[C@@H](c1ccccc1)NC2=[NH+]CCO2-0', molecule_id='13118371', comment=None, local_results={}),\n",
       " MoleculeEntry(name='C[C@@H](c1ccccc1)NC2=[NH+]CCO2-1', molecule_id='13118426', comment=None, local_results={}),\n",
       " MoleculeEntry(name='C[C@@H](c1ccccc1)NC2=[NH+]CCO2-3', molecule_id='13118698', comment=None, local_results={}),\n",
       " MoleculeEntry(name='C[C@@H](c1ccccc1)NC2=[NH+]CCO2-4', molecule_id='13118782', comment=None, local_results={}),\n",
       " MoleculeEntry(name='C[C@@H](c1ccccc1)/[NH+]=C\\\\2/NCCO2-0', molecule_id='13118827', comment=None, local_results={}),\n",
       " MoleculeEntry(name='C[C@@H](c1ccccc1)/[NH+]=C\\\\2/NCCO2-1', molecule_id='13118874', comment=None, local_results={}),\n",
       " MoleculeEntry(name='C[C@@H](c1ccccc1)/[NH+]=C\\\\2/NCCO2-2', molecule_id='13118913', comment=None, local_results={}),\n",
       " MoleculeEntry(name='C1C[C@@H](NC1)CCS(=O)(=O)CCCC(F)(F)F-0', molecule_id='13119079', comment=None, local_results={}),\n",
       " MoleculeEntry(name='C1C[C@@H](NC1)CCS(=O)(=O)CCCC(F)(F)F-1', molecule_id='13119220', comment=None, local_results={}),\n",
       " MoleculeEntry(name='C1C[C@@H](NC1)CCS(=O)(=O)CCCC(F)(F)F-2', molecule_id='13119292', comment=None, local_results={}),\n",
       " MoleculeEntry(name='C1C[C@@H](NC1)CCS(=O)(=O)CCCC(F)(F)F-3', molecule_id='13119337', comment=None, local_results={}),\n",
       " MoleculeEntry(name='C1C[C@@H](NC1)CCS(=O)(=O)CCCC(F)(F)F-4', molecule_id='13119431', comment=None, local_results={}),\n",
       " MoleculeEntry(name='C1C[C@@H]([NH2+]C1)CCS(=O)(=O)CCCC(F)(F)F-0', molecule_id='13119500', comment=None, local_results={}),\n",
       " MoleculeEntry(name='C1C[C@@H]([NH2+]C1)CCS(=O)(=O)CCCC(F)(F)F-1', molecule_id='13119682', comment=None, local_results={}),\n",
       " MoleculeEntry(name='C1C[C@@H]([NH2+]C1)CCS(=O)(=O)CCCC(F)(F)F-2', molecule_id='13119719', comment=None, local_results={}),\n",
       " MoleculeEntry(name='C1C[C@@H]([NH2+]C1)CCS(=O)(=O)CCCC(F)(F)F-3', molecule_id='13119757', comment=None, local_results={}),\n",
       " MoleculeEntry(name='C1C[C@@H]([NH2+]C1)CCS(=O)(=O)CCCC(F)(F)F-4', molecule_id='13119907', comment=None, local_results={}),\n",
       " MoleculeEntry(name='c1ccc(cc1)CC[C@@H]2C(=Nc3ccccc3O2)N-0', molecule_id='13119973', comment=None, local_results={}),\n",
       " MoleculeEntry(name='c1ccc(cc1)CC[C@@H]2C(=Nc3ccccc3O2)N-1', molecule_id='13120015', comment=None, local_results={}),\n",
       " MoleculeEntry(name='c1ccc(cc1)CC[C@@H]2C(=Nc3ccccc3O2)N-2', molecule_id='13120144', comment=None, local_results={}),\n",
       " MoleculeEntry(name='c1ccc(cc1)CC[C@@H]2C(=[NH+]c3ccccc3O2)N-0', molecule_id='13120183', comment=None, local_results={}),\n",
       " MoleculeEntry(name='c1ccc(cc1)CC[C@@H]2C(=[NH+]c3ccccc3O2)N-1', molecule_id='13120215', comment=None, local_results={}),\n",
       " MoleculeEntry(name='c1ccc(cc1)CC[C@@H]2C(=[NH+]c3ccccc3O2)N-2', molecule_id='13120261', comment=None, local_results={}),\n",
       " MoleculeEntry(name='c1ccc(cc1)CC[C@@H]2C(=[NH2+])Nc3ccccc3O2-0', molecule_id='13120306', comment=None, local_results={}),\n",
       " MoleculeEntry(name='c1ccc(cc1)CC[C@@H]2C(=[NH2+])Nc3ccccc3O2-1', molecule_id='13120439', comment=None, local_results={}),\n",
       " MoleculeEntry(name='c1ccc(cc1)CC[C@@H]2C(=[NH2+])Nc3ccccc3O2-2', molecule_id='13120571', comment=None, local_results={}),\n",
       " MoleculeEntry(name='CCCOC(=O)[C@@H]1C(=O)[C@@H](CS1)CC-1', molecule_id='13120755', comment=None, local_results={}),\n",
       " MoleculeEntry(name='CCCOC(=O)[C@@H]1C(=O)[C@@H](CS1)CC-2', molecule_id='13120822', comment=None, local_results={}),\n",
       " MoleculeEntry(name='CCCOC(=O)[C@@H]1C(=O)[C@@H](CS1)CC-3', molecule_id='13120915', comment=None, local_results={}),\n",
       " MoleculeEntry(name='CCCOC(=O)[C@@H]1C(=O)[C@@H](CS1)CC-4', molecule_id='13120994', comment=None, local_results={}),\n",
       " MoleculeEntry(name='CCCOC(=O)C1=C([C@@H](CS1)CC)O-0', molecule_id='13121069', comment=None, local_results={}),\n",
       " MoleculeEntry(name='CCCOC(=O)C1=C([C@@H](CS1)CC)O-1', molecule_id='13121101', comment=None, local_results={}),\n",
       " MoleculeEntry(name='CCCOC(=O)C1=C([C@@H](CS1)CC)O-2', molecule_id='13121208', comment=None, local_results={}),\n",
       " MoleculeEntry(name='CCCOC(=O)C1=C([C@@H](CS1)CC)O-3', molecule_id='13121359', comment=None, local_results={}),\n",
       " MoleculeEntry(name='CCCOC(=O)C1=C([C@@H](CS1)CC)O-4', molecule_id='13121383', comment=None, local_results={}),\n",
       " MoleculeEntry(name='c1cc(ccc1C(=O)C2CCN(CC2)CCCOc3ccc4c(c3)CCC4)F-0', molecule_id='13121664', comment=None, local_results={}),\n",
       " MoleculeEntry(name='c1cc(ccc1C(=O)C2CCN(CC2)CCCOc3ccc4c(c3)CCC4)F-1', molecule_id='13121733', comment=None, local_results={}),\n",
       " MoleculeEntry(name='c1cc(ccc1C(=O)C2CCN(CC2)CCCOc3ccc4c(c3)CCC4)F-3', molecule_id='13121922', comment=None, local_results={}),\n",
       " MoleculeEntry(name='c1cc(ccc1C(=O)C2CCN(CC2)CCCOc3ccc4c(c3)CCC4)F-4', molecule_id='13121957', comment=None, local_results={}),\n",
       " MoleculeEntry(name='c1cc(ccc1C(=O)C2CC[NH+](CC2)CCCOc3ccc4c(c3)CCC4)F-0', molecule_id='13122133', comment=None, local_results={}),\n",
       " MoleculeEntry(name='c1cc(ccc1C(=O)C2CC[NH+](CC2)CCCOc3ccc4c(c3)CCC4)F-1', molecule_id='13122164', comment=None, local_results={}),\n",
       " MoleculeEntry(name='c1cc(ccc1C(=O)C2CC[NH+](CC2)CCCOc3ccc4c(c3)CCC4)F-2', molecule_id='13122221', comment=None, local_results={}),\n",
       " MoleculeEntry(name='c1cc(ccc1C(=O)C2CC[NH+](CC2)CCCOc3ccc4c(c3)CCC4)F-3', molecule_id='13122327', comment=None, local_results={}),\n",
       " MoleculeEntry(name='c1cc(ccc1C(=O)C2CC[NH+](CC2)CCCOc3ccc4c(c3)CCC4)F-4', molecule_id='13122452', comment=None, local_results={}),\n",
       " MoleculeEntry(name='CC(C)(C)[C@@](CCCOc1ccccc1)(Cn2cncn2)O-0', molecule_id='13122790', comment=None, local_results={}),\n",
       " MoleculeEntry(name='CC(C)(C)[C@@](CCCOc1ccccc1)(Cn2cncn2)O-1', molecule_id='13122847', comment=None, local_results={}),\n",
       " MoleculeEntry(name='CC(C)(C)[C@@](CCCOc1ccccc1)(Cn2cncn2)O-2', molecule_id='13122945', comment=None, local_results={}),\n",
       " MoleculeEntry(name='CC(C)(C)[C@@](CCCOc1ccccc1)(Cn2cncn2)O-3', molecule_id='13123111', comment=None, local_results={}),\n",
       " MoleculeEntry(name='CC(C)(C)[C@@](CCCOc1ccccc1)(Cn2cncn2)O-4', molecule_id='13123200', comment=None, local_results={}),\n",
       " MoleculeEntry(name='c1cc(c(cc1S(=O)(=O)N)S(=O)(=O)N)C(=O)O-0', molecule_id='13123241', comment=None, local_results={}),\n",
       " MoleculeEntry(name='c1cc(c(cc1S(=O)(=O)N)S(=O)(=O)N)C(=O)O-2', molecule_id='13123400', comment=None, local_results={}),\n",
       " MoleculeEntry(name='c1cc(c(cc1S(=O)(=O)N)S(=O)(=O)N)C(=O)O-3', molecule_id='13123620', comment=None, local_results={}),\n",
       " MoleculeEntry(name='c1cc(c(cc1S(=O)(=O)N)S(=O)(=O)N)C(=O)O-4', molecule_id='13123722', comment=None, local_results={}),\n",
       " MoleculeEntry(name='c1cc(c(cc1S(=O)(=O)N)S(=O)(=O)N)C(=O)[O-]-0', molecule_id='13123909', comment=None, local_results={}),\n",
       " MoleculeEntry(name='c1cc(c(cc1S(=O)(=O)N)S(=O)(=O)N)C(=O)[O-]-1', molecule_id='13124159', comment=None, local_results={}),\n",
       " MoleculeEntry(name='c1cc(c(cc1S(=O)(=O)N)S(=O)(=O)N)C(=O)[O-]-3', molecule_id='13124331', comment=None, local_results={}),\n",
       " MoleculeEntry(name='c1cc(c(cc1S(=O)(=O)N)S(=O)(=O)N)C(=O)[O-]-4', molecule_id='13124428', comment=None, local_results={}),\n",
       " MoleculeEntry(name='C[C@H](C(C)(C)C)[N@]1CC[C@H](O1)c2ccc(cc2)[C@H]3CC[N@](O3)[C@H](C)C(C)(C)C-0', molecule_id='13124572', comment=None, local_results={}),\n",
       " MoleculeEntry(name='C[C@H](C(C)(C)C)[N@]1CC[C@H](O1)c2ccc(cc2)[C@H]3CC[N@](O3)[C@H](C)C(C)(C)C-2', molecule_id='13124612', comment=None, local_results={}),\n",
       " MoleculeEntry(name='C[C@H](C(C)(C)C)[N@]1CC[C@H](O1)c2ccc(cc2)[C@H]3CC[N@](O3)[C@H](C)C(C)(C)C-3', molecule_id='13124735', comment=None, local_results={}),\n",
       " MoleculeEntry(name='C[C@H](C(C)(C)C)[N@]1CC[C@H](O1)c2ccc(cc2)[C@H]3CC[N@](O3)[C@H](C)C(C)(C)C-4', molecule_id='13124863', comment=None, local_results={}),\n",
       " MoleculeEntry(name='CCC[C@@H]1C(=[NH+]c2ccccc2O1)N-0', molecule_id='13125007', comment=None, local_results={}),\n",
       " MoleculeEntry(name='CCC[C@@H]1C(=[NH2+])Nc2ccccc2O1-0', molecule_id='13125276', comment=None, local_results={}),\n",
       " MoleculeEntry(name='Cc1cc(cc(c1Cc2ccc(c(c2)S(=O)(=O)c3ccc(cc3)F)O)C)OC(C)(C)C(=O)O-0', molecule_id='13125495', comment=None, local_results={}),\n",
       " MoleculeEntry(name='Cc1cc(cc(c1Cc2ccc(c(c2)S(=O)(=O)c3ccc(cc3)F)O)C)OC(C)(C)C(=O)O-1', molecule_id='13125545', comment=None, local_results={}),\n",
       " MoleculeEntry(name='Cc1cc(cc(c1Cc2ccc(c(c2)S(=O)(=O)c3ccc(cc3)F)O)C)OC(C)(C)C(=O)O-2', molecule_id='13125867', comment=None, local_results={}),\n",
       " MoleculeEntry(name='Cc1cc(cc(c1Cc2ccc(c(c2)S(=O)(=O)c3ccc(cc3)F)O)C)OC(C)(C)C(=O)O-3', molecule_id='13125922', comment=None, local_results={}),\n",
       " MoleculeEntry(name='Cc1cc(cc(c1Cc2ccc(c(c2)S(=O)(=O)c3ccc(cc3)F)O)C)OC(C)(C)C(=O)O-4', molecule_id='13126013', comment=None, local_results={}),\n",
       " MoleculeEntry(name='Cc1cc(cc(c1Cc2ccc(c(c2)S(=O)(=O)c3ccc(cc3)F)[O-])C)OC(C)(C)C(=O)[O-]-0', molecule_id='13126183', comment=None, local_results={}),\n",
       " MoleculeEntry(name='Cc1cc(cc(c1Cc2ccc(c(c2)S(=O)(=O)c3ccc(cc3)F)[O-])C)OC(C)(C)C(=O)[O-]-1', molecule_id='13126269', comment=None, local_results={}),\n",
       " MoleculeEntry(name='Cc1cc(cc(c1Cc2ccc(c(c2)S(=O)(=O)c3ccc(cc3)F)[O-])C)OC(C)(C)C(=O)[O-]-2', molecule_id='13126430', comment=None, local_results={}),\n",
       " MoleculeEntry(name='Cc1cc(cc(c1Cc2ccc(c(c2)S(=O)(=O)c3ccc(cc3)F)[O-])C)OC(C)(C)C(=O)[O-]-3', molecule_id='13126812', comment=None, local_results={}),\n",
       " MoleculeEntry(name='Cc1cc(cc(c1Cc2ccc(c(c2)S(=O)(=O)c3ccc(cc3)F)[O-])C)OC(C)(C)C(=O)[O-]-4', molecule_id='13126971', comment=None, local_results={}),\n",
       " MoleculeEntry(name='CC(C)c1cccc(c1OC)C(C)(C)O-0', molecule_id='13127101', comment=None, local_results={}),\n",
       " MoleculeEntry(name='CC(C)c1cccc(c1OC)C(C)(C)O-1', molecule_id='13127147', comment=None, local_results={}),\n",
       " MoleculeEntry(name='CC[C@@H]([C@@H]1CCc2c1ccc(c2)OCCc3c(oc(n3)c4cccc(c4)OC)C)C(=O)O-1', molecule_id='13127195', comment=None, local_results={}),\n",
       " MoleculeEntry(name='CC[C@@H]([C@@H]1CCc2c1ccc(c2)OCCc3c(oc(n3)c4cccc(c4)OC)C)C(=O)O-2', molecule_id='13127285', comment=None, local_results={}),\n",
       " MoleculeEntry(name='CC[C@@H]([C@@H]1CCc2c1ccc(c2)OCCc3c(oc(n3)c4cccc(c4)OC)C)C(=O)O-4', molecule_id='13127332', comment=None, local_results={}),\n",
       " MoleculeEntry(name='CC[C@@H]([C@@H]1CCc2c1ccc(c2)OCCc3c(oc(n3)c4cccc(c4)OC)C)C(=O)[O-]-0', molecule_id='13127369', comment=None, local_results={}),\n",
       " MoleculeEntry(name='CC[C@@H]([C@@H]1CCc2c1ccc(c2)OCCc3c(oc(n3)c4cccc(c4)OC)C)C(=O)[O-]-1', molecule_id='13127456', comment=None, local_results={}),\n",
       " MoleculeEntry(name='CC[C@@H]([C@@H]1CCc2c1ccc(c2)OCCc3c(oc(n3)c4cccc(c4)OC)C)C(=O)[O-]-2', molecule_id='13127669', comment=None, local_results={}),\n",
       " MoleculeEntry(name='CC[C@@H]([C@@H]1CCc2c1ccc(c2)OCCc3c(oc(n3)c4cccc(c4)OC)C)C(=O)[O-]-4', molecule_id='13128010', comment=None, local_results={}),\n",
       " MoleculeEntry(name='CC/C(=C(\\\\c1ccc(cc1)O)/c2ccc(cc2)OCCCCCS(=O)(=O)Cc3ccccn3)/c4ccccc4-0', molecule_id='13128159', comment=None, local_results={}),\n",
       " MoleculeEntry(name='CC/C(=C(\\\\c1ccc(cc1)O)/c2ccc(cc2)OCCCCCS(=O)(=O)Cc3ccccn3)/c4ccccc4-1', molecule_id='13128284', comment=None, local_results={}),\n",
       " MoleculeEntry(name='CC/C(=C(\\\\c1ccc(cc1)O)/c2ccc(cc2)OCCCCCS(=O)(=O)Cc3ccccn3)/c4ccccc4-2', molecule_id='13128362', comment=None, local_results={}),\n",
       " MoleculeEntry(name='CC/C(=C(\\\\c1ccc(cc1)O)/c2ccc(cc2)OCCCCCS(=O)(=O)Cc3ccccn3)/c4ccccc4-3', molecule_id='13128575', comment=None, local_results={}),\n",
       " MoleculeEntry(name='CC/C(=C(\\\\c1ccc(cc1)O)/c2ccc(cc2)OCCCCCS(=O)(=O)Cc3ccccn3)/c4ccccc4-4', molecule_id='13128617', comment=None, local_results={}),\n",
       " MoleculeEntry(name='c1cc(ccc1CCO)S(=O)(=O)c2ccc(cc2)CCO-0', molecule_id='13128705', comment=None, local_results={}),\n",
       " MoleculeEntry(name='c1cc(ccc1CCO)S(=O)(=O)c2ccc(cc2)CCO-1', molecule_id='13129115', comment=None, local_results={}),\n",
       " MoleculeEntry(name='c1cc(ccc1CCO)S(=O)(=O)c2ccc(cc2)CCO-2', molecule_id='13129213', comment=None, local_results={}),\n",
       " MoleculeEntry(name='c1cc(ccc1CCO)S(=O)(=O)c2ccc(cc2)CCO-3', molecule_id='13129255', comment=None, local_results={}),\n",
       " MoleculeEntry(name='c1cc(ccc1CCO)S(=O)(=O)c2ccc(cc2)CCO-4', molecule_id='13129388', comment=None, local_results={}),\n",
       " MoleculeEntry(name='CC(=O)OCCC1(CCC1)c2ccc(cc2)N(Cc3ccccc3)Cc4ccccc4-0', molecule_id='13129857', comment=None, local_results={}),\n",
       " MoleculeEntry(name='CC(=O)OCCC1(CCC1)c2ccc(cc2)N(Cc3ccccc3)Cc4ccccc4-1', molecule_id='13130447', comment=None, local_results={}),\n",
       " MoleculeEntry(name='CC(=O)OCCC1(CCC1)c2ccc(cc2)N(Cc3ccccc3)Cc4ccccc4-2', molecule_id='13130976', comment=None, local_results={}),\n",
       " MoleculeEntry(name='CC(=O)OCCC1(CCC1)c2ccc(cc2)N(Cc3ccccc3)Cc4ccccc4-3', molecule_id='13131756', comment=None, local_results={}),\n",
       " MoleculeEntry(name='CC(=O)OCCC1(CCC1)c2ccc(cc2)N(Cc3ccccc3)Cc4ccccc4-4', molecule_id='13131839', comment=None, local_results={}),\n",
       " MoleculeEntry(name='CCOC(=O)c1c(c(n2c1-c3cc(c(cc3CC2)OC)OC)C)c4c[nH]c5c4cccc5OC-0', molecule_id='13132426', comment=None, local_results={}),\n",
       " MoleculeEntry(name='CCOC(=O)c1c(c(n2c1-c3cc(c(cc3CC2)OC)OC)C)c4c[nH]c5c4cccc5OC-1', molecule_id='13132487', comment=None, local_results={}),\n",
       " MoleculeEntry(name='CCOC(=O)c1c(c(n2c1-c3cc(c(cc3CC2)OC)OC)C)c4c[nH]c5c4cccc5OC-2', molecule_id='13132684', comment=None, local_results={}),\n",
       " MoleculeEntry(name='CCOC(=O)c1c(c(n2c1-c3cc(c(cc3CC2)OC)OC)C)c4c[nH]c5c4cccc5OC-4', molecule_id='13132795', comment=None, local_results={}),\n",
       " MoleculeEntry(name='CS(=O)(=O)c1ccc(c(c1CO[C@@H]2CCOC2)Cl)C(=O)C3C(=O)CCCC3=O-0', molecule_id='13133375', comment=None, local_results={}),\n",
       " MoleculeEntry(name='CS(=O)(=O)c1ccc(c(c1CO[C@@H]2CCOC2)Cl)C(=O)C3C(=O)CCCC3=O-1', molecule_id='13133428', comment=None, local_results={}),\n",
       " MoleculeEntry(name='CS(=O)(=O)c1ccc(c(c1CO[C@@H]2CCOC2)Cl)C(=O)C3C(=O)CCCC3=O-2', molecule_id='13134149', comment=None, local_results={}),\n",
       " MoleculeEntry(name='CS(=O)(=O)c1ccc(c(c1CO[C@@H]2CCOC2)Cl)C(=O)C3C(=O)CCCC3=O-3', molecule_id='13134305', comment=None, local_results={}),\n",
       " MoleculeEntry(name='CS(=O)(=O)c1ccc(c(c1CO[C@@H]2CCOC2)Cl)C(=O)C3C(=O)CCCC3=O-4', molecule_id='13134544', comment=None, local_results={}),\n",
       " MoleculeEntry(name='c1cc(ccc1c2ccc(cc2)F)C3(CCCCC3)CNC=O-0', molecule_id='13134964', comment=None, local_results={}),\n",
       " MoleculeEntry(name='c1cc(ccc1c2ccc(cc2)F)C3(CCCCC3)CNC=O-1', molecule_id='13135575', comment=None, local_results={}),\n",
       " MoleculeEntry(name='c1cc(ccc1c2ccc(cc2)F)C3(CCCCC3)CNC=O-2', molecule_id='13137454', comment=None, local_results={}),\n",
       " MoleculeEntry(name='c1cc(ccc1c2ccc(cc2)F)C3(CCCCC3)CNC=O-3', molecule_id='13138476', comment=None, local_results={}),\n",
       " MoleculeEntry(name='c1cc(ccc1c2ccc(cc2)F)C3(CCCCC3)CNC=O-4', molecule_id='13139165', comment=None, local_results={}),\n",
       " MoleculeEntry(name='C[C@@H](C(=O)O)Oc1cccc2c1cccc2O-1', molecule_id='13141114', comment=None, local_results={}),\n",
       " MoleculeEntry(name='C[C@@H](C(=O)O)Oc1cccc2c1cccc2O-2', molecule_id='13141762', comment=None, local_results={}),\n",
       " MoleculeEntry(name='C[C@@H](C(=O)O)Oc1cccc2c1cccc2O-3', molecule_id='13142408', comment=None, local_results={}),\n",
       " MoleculeEntry(name='C[C@@H](C(=O)O)Oc1cccc2c1cccc2O-4', molecule_id='13142686', comment=None, local_results={}),\n",
       " MoleculeEntry(name='C[C@@H](C(=O)[O-])Oc1cccc2c1cccc2O-0', molecule_id='13142744', comment=None, local_results={}),\n",
       " MoleculeEntry(name='C[C@@H](C(=O)[O-])Oc1cccc2c1cccc2O-1', molecule_id='13142801', comment=None, local_results={}),\n",
       " MoleculeEntry(name='c1ccc2cc(ccc2c1)C[C@@]34CCC[C@@H]3COC4=O-0', molecule_id='13143581', comment=None, local_results={}),\n",
       " MoleculeEntry(name='c1ccc2cc(ccc2c1)C[C@@]34CCC[C@@H]3COC4=O-1', molecule_id='13143709', comment=None, local_results={}),\n",
       " MoleculeEntry(name='c1ccc2cc(ccc2c1)C[C@@]34CCC[C@@H]3COC4=O-2', molecule_id='13143970', comment=None, local_results={}),\n",
       " MoleculeEntry(name='c1ccc2cc(ccc2c1)C[C@@]34CCC[C@@H]3COC4=O-3', molecule_id='13144163', comment=None, local_results={}),\n",
       " MoleculeEntry(name='c1ccc2cc(ccc2c1)C[C@@]34CCC[C@@H]3COC4=O-4', molecule_id='13144734', comment=None, local_results={}),\n",
       " MoleculeEntry(name='CCCCC[S@@](=O)c1nnc(s1)C(=O)NCC(C)C-0', molecule_id='13144970', comment=None, local_results={}),\n",
       " MoleculeEntry(name='CCCCC[S@@](=O)c1nnc(s1)C(=O)NCC(C)C-1', molecule_id='13145096', comment=None, local_results={}),\n",
       " MoleculeEntry(name='CCCCC[S@@](=O)c1nnc(s1)C(=O)NCC(C)C-2', molecule_id='13145369', comment=None, local_results={}),\n",
       " MoleculeEntry(name='CCCCC[S@@](=O)c1nnc(s1)C(=O)NCC(C)C-3', molecule_id='13145419', comment=None, local_results={}),\n",
       " MoleculeEntry(name='CCCCC[S@@](=O)c1nnc(s1)C(=O)NCC(C)C-4', molecule_id='13145801', comment=None, local_results={}),\n",
       " MoleculeEntry(name='c1cc(c(c(c1)Cl)NC2=NCCO2)Cl-0', molecule_id='13146131', comment=None, local_results={}),\n",
       " MoleculeEntry(name='c1cc(c(c(c1)Cl)NC2=NCCO2)Cl-1', molecule_id='13146316', comment=None, local_results={}),\n",
       " MoleculeEntry(name='c1cc(c(c(c1)Cl)NC2=[NH+]CCO2)Cl-0', molecule_id='13147065', comment=None, local_results={}),\n",
       " MoleculeEntry(name='c1cc(c(c(c1)Cl)NC2=[NH+]CCO2)Cl-1', molecule_id='13147762', comment=None, local_results={}),\n",
       " MoleculeEntry(name='c1cc(c(c(c1)Cl)/[NH+]=C\\\\2/NCCO2)Cl-0', molecule_id='13148472', comment=None, local_results={}),\n",
       " MoleculeEntry(name='C1C[C@@H](NC1)CCCS(=O)(=O)CCCCC(F)(F)F-0', molecule_id='13148867', comment=None, local_results={}),\n",
       " MoleculeEntry(name='C1C[C@@H](NC1)CCCS(=O)(=O)CCCCC(F)(F)F-1', molecule_id='13148942', comment=None, local_results={}),\n",
       " MoleculeEntry(name='C1C[C@@H](NC1)CCCS(=O)(=O)CCCCC(F)(F)F-2', molecule_id='13149348', comment=None, local_results={}),\n",
       " MoleculeEntry(name='C1C[C@@H](NC1)CCCS(=O)(=O)CCCCC(F)(F)F-3', molecule_id='13151459', comment=None, local_results={}),\n",
       " MoleculeEntry(name='C1C[C@@H](NC1)CCCS(=O)(=O)CCCCC(F)(F)F-4', molecule_id='13151643', comment=None, local_results={}),\n",
       " MoleculeEntry(name='C1C[C@@H]([NH2+]C1)CCCS(=O)(=O)CCCCC(F)(F)F-0', molecule_id='13151722', comment=None, local_results={}),\n",
       " MoleculeEntry(name='C1C[C@@H]([NH2+]C1)CCCS(=O)(=O)CCCCC(F)(F)F-1', molecule_id='13152251', comment=None, local_results={}),\n",
       " MoleculeEntry(name='C1C[C@@H]([NH2+]C1)CCCS(=O)(=O)CCCCC(F)(F)F-2', molecule_id='13152309', comment=None, local_results={}),\n",
       " MoleculeEntry(name='C1C[C@@H]([NH2+]C1)CCCS(=O)(=O)CCCCC(F)(F)F-3', molecule_id='13152349', comment=None, local_results={}),\n",
       " MoleculeEntry(name='C1C[C@@H]([NH2+]C1)CCCS(=O)(=O)CCCCC(F)(F)F-4', molecule_id='13152620', comment=None, local_results={}),\n",
       " MoleculeEntry(name='c1ccc(cc1)C[S@@](=O)CCCCCOc2ccc(cc2)C3=C(CCCc4c3ccc(c4)O)c5ccccc5-0', molecule_id='13153334', comment=None, local_results={}),\n",
       " MoleculeEntry(name='c1ccc(cc1)C[S@@](=O)CCCCCOc2ccc(cc2)C3=C(CCCc4c3ccc(c4)O)c5ccccc5-1', molecule_id='13153460', comment=None, local_results={}),\n",
       " MoleculeEntry(name='c1ccc(cc1)C[S@@](=O)CCCCCOc2ccc(cc2)C3=C(CCCc4c3ccc(c4)O)c5ccccc5-2', molecule_id='13157622', comment=None, local_results={}),\n",
       " MoleculeEntry(name='c1ccc(cc1)c2ccc(cc2)C3(CCCCC3)CNC=O-0', molecule_id='13157816', comment=None, local_results={}),\n",
       " MoleculeEntry(name='c1ccc(cc1)c2ccc(cc2)C3(CCCCC3)CNC=O-1', molecule_id='13157907', comment=None, local_results={}),\n",
       " MoleculeEntry(name='c1ccc(cc1)c2ccc(cc2)C3(CCCCC3)CNC=O-2', molecule_id='13157965', comment=None, local_results={}),\n",
       " MoleculeEntry(name='c1ccc(cc1)c2ccc(cc2)C3(CCCCC3)CNC=O-3', molecule_id='13158503', comment=None, local_results={}),\n",
       " MoleculeEntry(name='c1ccc(cc1)c2ccc(cc2)C3(CCCCC3)CNC=O-4', molecule_id='13158704', comment=None, local_results={}),\n",
       " MoleculeEntry(name='CCC(=O)c1ccc(c(c1)OC2CCCC2)OC-0', molecule_id='13159043', comment=None, local_results={}),\n",
       " MoleculeEntry(name='CCC(=O)c1ccc(c(c1)OC2CCCC2)OC-1', molecule_id='13159500', comment=None, local_results={}),\n",
       " MoleculeEntry(name='CCC(=O)c1ccc(c(c1)OC2CCCC2)OC-2', molecule_id='13163180', comment=None, local_results={}),\n",
       " MoleculeEntry(name='CCC(=O)c1ccc(c(c1)OC2CCCC2)OC-3', molecule_id='13163782', comment=None, local_results={}),\n",
       " MoleculeEntry(name='CCC(=O)c1ccc(c(c1)OC2CCCC2)OC-4', molecule_id='13164943', comment=None, local_results={}),\n",
       " MoleculeEntry(name='CC1(CC1)c2c(cc(cn2)Br)CNC3CC3-0', molecule_id='13165851', comment=None, local_results={}),\n",
       " MoleculeEntry(name='CC1(CC1)c2c(cc(cn2)Br)CNC3CC3-1', molecule_id='13073385', comment=None, local_results={}),\n",
       " MoleculeEntry(name='CC1(CC1)c2c(cc(cn2)Br)CNC3CC3-2', molecule_id='13073413', comment=None, local_results={}),\n",
       " MoleculeEntry(name='CC1(CC1)c2c(cc(cn2)Br)CNC3CC3-3', molecule_id='13073444', comment=None, local_results={}),\n",
       " MoleculeEntry(name='CC1(CC1)c2c(cc(cn2)Br)CNC3CC3-4', molecule_id='13073479', comment=None, local_results={}),\n",
       " MoleculeEntry(name='CC1(CC1)c2c(cc(cn2)Br)C[NH2+]C3CC3-0', molecule_id='13073517', comment=None, local_results={}),\n",
       " MoleculeEntry(name='CC1(CC1)c2c(cc(cn2)Br)C[NH2+]C3CC3-1', molecule_id='13073554', comment=None, local_results={}),\n",
       " MoleculeEntry(name='CC1(CC1)c2c(cc(cn2)Br)C[NH2+]C3CC3-2', molecule_id='13073594', comment=None, local_results={}),\n",
       " MoleculeEntry(name='CC1(CC1)c2c(cc(cn2)Br)C[NH2+]C3CC3-3', molecule_id='13073637', comment=None, local_results={}),\n",
       " MoleculeEntry(name='CC1(CC1)c2c(cc(cn2)Br)C[NH2+]C3CC3-4', molecule_id='13073656', comment=None, local_results={}),\n",
       " MoleculeEntry(name='c1ccc2c(c1)CCC[C@@H]2Nc3ncc(cn3)Cl-0', molecule_id='13073703', comment=None, local_results={}),\n",
       " MoleculeEntry(name='c1ccc2c(c1)CCC[C@@H]2Nc3ncc(cn3)Cl-1', molecule_id='13073744', comment=None, local_results={}),\n",
       " MoleculeEntry(name='c1ccc2c(c1)CCC[C@@H]2Nc3ncc(cn3)Cl-2', molecule_id='13073778', comment=None, local_results={}),\n",
       " MoleculeEntry(name='Cc1cc(cc2c1OC3(CCCCC3)C[C@@H]2NCc4ccccc4)Cl-0', molecule_id='13073832', comment=None, local_results={}),\n",
       " MoleculeEntry(name='Cc1cc(cc2c1OC3(CCCCC3)C[C@@H]2NCc4ccccc4)Cl-1', molecule_id='13073872', comment=None, local_results={}),\n",
       " MoleculeEntry(name='Cc1cc(cc2c1OC3(CCCCC3)C[C@@H]2NCc4ccccc4)Cl-2', molecule_id='13073938', comment=None, local_results={}),\n",
       " MoleculeEntry(name='Cc1cc(cc2c1OC3(CCCCC3)C[C@@H]2NCc4ccccc4)Cl-3', molecule_id='13073983', comment=None, local_results={}),\n",
       " MoleculeEntry(name='Cc1cc(cc2c1OC3(CCCCC3)C[C@@H]2NCc4ccccc4)Cl-4', molecule_id='13074060', comment=None, local_results={}),\n",
       " MoleculeEntry(name='Cc1cc(cc2c1OC3(CCCCC3)C[C@@H]2[NH2+]Cc4ccccc4)Cl-0', molecule_id='13074335', comment=None, local_results={}),\n",
       " MoleculeEntry(name='Cc1cc(cc2c1OC3(CCCCC3)C[C@@H]2[NH2+]Cc4ccccc4)Cl-1', molecule_id='13074377', comment=None, local_results={}),\n",
       " MoleculeEntry(name='Cc1cc(cc2c1OC3(CCCCC3)C[C@@H]2[NH2+]Cc4ccccc4)Cl-2', molecule_id='13074422', comment=None, local_results={}),\n",
       " MoleculeEntry(name='Cc1cc(cc2c1OC3(CCCCC3)C[C@@H]2[NH2+]Cc4ccccc4)Cl-3', molecule_id='13074469', comment=None, local_results={}),\n",
       " MoleculeEntry(name='Cc1cc(cc2c1OC3(CCCCC3)C[C@@H]2[NH2+]Cc4ccccc4)Cl-4', molecule_id='13074519', comment=None, local_results={}),\n",
       " MoleculeEntry(name='c1c2c(cc(c1C=C3CCCCC3)Cl)[C@@H](CC2)C(=O)O-0', molecule_id='13074572', comment=None, local_results={}),\n",
       " MoleculeEntry(name='c1c2c(cc(c1C=C3CCCCC3)Cl)[C@@H](CC2)C(=O)O-1', molecule_id='13074611', comment=None, local_results={}),\n",
       " MoleculeEntry(name='c1c2c(cc(c1C=C3CCCCC3)Cl)[C@@H](CC2)C(=O)O-2', molecule_id='13074651', comment=None, local_results={}),\n",
       " MoleculeEntry(name='c1c2c(cc(c1C=C3CCCCC3)Cl)[C@@H](CC2)C(=O)O-3', molecule_id='13074692', comment=None, local_results={}),\n",
       " MoleculeEntry(name='c1c2c(cc(c1C=C3CCCCC3)Cl)[C@@H](CC2)C(=O)O-4', molecule_id='13074742', comment=None, local_results={}),\n",
       " MoleculeEntry(name='c1c2c(cc(c1C=C3CCCCC3)Cl)[C@@H](CC2)C(=O)[O-]-0', molecule_id='13074775', comment=None, local_results={}),\n",
       " MoleculeEntry(name='c1c2c(cc(c1C=C3CCCCC3)Cl)[C@@H](CC2)C(=O)[O-]-1', molecule_id='13074802', comment=None, local_results={}),\n",
       " MoleculeEntry(name='c1c2c(cc(c1C=C3CCCCC3)Cl)[C@@H](CC2)C(=O)[O-]-2', molecule_id='13074835', comment=None, local_results={}),\n",
       " MoleculeEntry(name='C[C@@H]1C[C@@H](CN(C1)C[C@@H]2[C@@H]([C@@H](CO2)c3ccc(cc3)Cl)C)C-0', molecule_id='13074872', comment=None, local_results={}),\n",
       " MoleculeEntry(name='C[C@@H]1C[C@@H](CN(C1)C[C@@H]2[C@@H]([C@@H](CO2)c3ccc(cc3)Cl)C)C-1', molecule_id='13074940', comment=None, local_results={}),\n",
       " MoleculeEntry(name='C[C@@H]1C[C@@H](CN(C1)C[C@@H]2[C@@H]([C@@H](CO2)c3ccc(cc3)Cl)C)C-2', molecule_id='13074982', comment=None, local_results={}),\n",
       " MoleculeEntry(name='C[C@@H]1C[C@@H](CN(C1)C[C@@H]2[C@@H]([C@@H](CO2)c3ccc(cc3)Cl)C)C-3', molecule_id='13075051', comment=None, local_results={}),\n",
       " MoleculeEntry(name='C[C@@H]1C[C@@H](CN(C1)C[C@@H]2[C@@H]([C@@H](CO2)c3ccc(cc3)Cl)C)C-4', molecule_id='13075109', comment=None, local_results={}),\n",
       " MoleculeEntry(name='C[C@@H]1C[C@@H](C[NH+](C1)C[C@@H]2[C@@H]([C@@H](CO2)c3ccc(cc3)Cl)C)C-0', molecule_id='13075190', comment=None, local_results={}),\n",
       " MoleculeEntry(name='C[C@@H]1C[C@@H](C[NH+](C1)C[C@@H]2[C@@H]([C@@H](CO2)c3ccc(cc3)Cl)C)C-1', molecule_id='13075214', comment=None, local_results={}),\n",
       " MoleculeEntry(name='C[C@@H]1C[C@@H](C[NH+](C1)C[C@@H]2[C@@H]([C@@H](CO2)c3ccc(cc3)Cl)C)C-2', molecule_id='13075261', comment=None, local_results={}),\n",
       " MoleculeEntry(name='C[C@@H]1C[C@@H](C[NH+](C1)C[C@@H]2[C@@H]([C@@H](CO2)c3ccc(cc3)Cl)C)C-3', molecule_id='13075356', comment=None, local_results={}),\n",
       " MoleculeEntry(name='C[C@@H]1C[C@@H](C[NH+](C1)C[C@@H]2[C@@H]([C@@H](CO2)c3ccc(cc3)Cl)C)C-4', molecule_id='13075436', comment=None, local_results={}),\n",
       " MoleculeEntry(name='C[C@@H]1C(=O)N(c2ccc(nc2[N@@]1C3CCCCCC3)Nc4ccc(cc4)S(=O)(=O)N(C)C)C-0', molecule_id='13075464', comment=None, local_results={}),\n",
       " MoleculeEntry(name='C[C@@H]1C(=O)N(c2ccc(nc2[N@@]1C3CCCCCC3)Nc4ccc(cc4)S(=O)(=O)N(C)C)C-1', molecule_id='13075505', comment=None, local_results={}),\n",
       " MoleculeEntry(name='C[C@@H]1C(=O)N(c2ccc(nc2[N@@]1C3CCCCCC3)Nc4ccc(cc4)S(=O)(=O)N(C)C)C-2', molecule_id='13075536', comment=None, local_results={}),\n",
       " MoleculeEntry(name='C[C@@H]1C(=O)N(c2ccc(nc2[N@@]1C3CCCCCC3)Nc4ccc(cc4)S(=O)(=O)N(C)C)C-3', molecule_id='13075568', comment=None, local_results={}),\n",
       " MoleculeEntry(name='C[C@@H]1C(=O)N(c2ccc(nc2[N@@]1C3CCCCCC3)Nc4ccc(cc4)S(=O)(=O)N(C)C)C-4', molecule_id='13075601', comment=None, local_results={}),\n",
       " MoleculeEntry(name='C[C@@H](c1ccccc1Cl)NC2=NCCO2-0', molecule_id='13075645', comment=None, local_results={}),\n",
       " MoleculeEntry(name='C[C@@H](c1ccccc1Cl)NC2=NCCO2-1', molecule_id='13075676', comment=None, local_results={}),\n",
       " MoleculeEntry(name='C[C@@H](c1ccccc1Cl)NC2=NCCO2-2', molecule_id='13075713', comment=None, local_results={}),\n",
       " MoleculeEntry(name='C[C@@H](c1ccccc1Cl)NC2=NCCO2-3', molecule_id='13075761', comment=None, local_results={}),\n",
       " MoleculeEntry(name='C[C@@H](c1ccccc1Cl)NC2=NCCO2-4', molecule_id='13075797', comment=None, local_results={}),\n",
       " MoleculeEntry(name='C[C@@H](c1ccccc1Cl)NC2=[NH+]CCO2-0', molecule_id='13075844', comment=None, local_results={}),\n",
       " MoleculeEntry(name='C[C@@H](c1ccccc1Cl)NC2=[NH+]CCO2-2', molecule_id='13075919', comment=None, local_results={}),\n",
       " MoleculeEntry(name='C[C@@H](c1ccccc1Cl)NC2=[NH+]CCO2-3', molecule_id='13075971', comment=None, local_results={}),\n",
       " MoleculeEntry(name='C[C@@H](c1ccccc1Cl)NC2=[NH+]CCO2-4', molecule_id='13076020', comment=None, local_results={}),\n",
       " MoleculeEntry(name='C[C@@H](c1ccccc1Cl)/[NH+]=C\\\\2/NCCO2-0', molecule_id='13076079', comment=None, local_results={}),\n",
       " MoleculeEntry(name='C[C@@H](c1ccccc1Cl)/[NH+]=C\\\\2/NCCO2-1', molecule_id='13076123', comment=None, local_results={}),\n",
       " MoleculeEntry(name='C[C@@H](c1ccccc1Cl)/[NH+]=C\\\\2/NCCO2-2', molecule_id='13076169', comment=None, local_results={}),\n",
       " MoleculeEntry(name='C[C@@H](c1ccccc1Cl)/[NH+]=C\\\\2/NCCO2-3', molecule_id='13076227', comment=None, local_results={}),\n",
       " MoleculeEntry(name='C[C@@H](c1ccccc1Cl)/[NH+]=C\\\\2/NCCO2-4', molecule_id='13076261', comment=None, local_results={}),\n",
       " MoleculeEntry(name='C[C@@H]1C(=Nc2cc(ccc2O1)C#N)N-0', molecule_id='13076306', comment=None, local_results={}),\n",
       " MoleculeEntry(name='C[C@@H]1C(=[NH+]c2cc(ccc2O1)C#N)N-0', molecule_id='13076345', comment=None, local_results={}),\n",
       " MoleculeEntry(name='C[C@@H]1C(=[NH2+])Nc2cc(ccc2O1)C#N-0', molecule_id='13076395', comment=None, local_results={}),\n",
       " MoleculeEntry(name='CC1(CC(=O)Nc2c1cc(cc2)F)C-0', molecule_id='13076501', comment=None, local_results={}),\n",
       " MoleculeEntry(name='Cc1nn(c(=O)n1NC(C)C)C(=O)NC2CCCCC2-0', molecule_id='13076556', comment=None, local_results={}),\n",
       " MoleculeEntry(name='Cc1nn(c(=O)n1NC(C)C)C(=O)NC2CCCCC2-1', molecule_id='13076625', comment=None, local_results={}),\n",
       " MoleculeEntry(name='Cc1nn(c(=O)n1NC(C)C)C(=O)NC2CCCCC2-2', molecule_id='13076694', comment=None, local_results={}),\n",
       " MoleculeEntry(name='Cc1nn(c(=O)n1NC(C)C)C(=O)NC2CCCCC2-3', molecule_id='13076843', comment=None, local_results={}),\n",
       " MoleculeEntry(name='Cc1nn(c(=O)n1NC(C)C)C(=O)NC2CCCCC2-4', molecule_id='13077139', comment=None, local_results={}),\n",
       " MoleculeEntry(name='CCCC[S@@](=O)c1nnc(s1)C(=O)N-0', molecule_id='13077169', comment=None, local_results={}),\n",
       " MoleculeEntry(name='CCCC[S@@](=O)c1nnc(s1)C(=O)N-1', molecule_id='13077208', comment=None, local_results={}),\n",
       " MoleculeEntry(name='CCCC[S@@](=O)c1nnc(s1)C(=O)N-2', molecule_id='13077344', comment=None, local_results={}),\n",
       " MoleculeEntry(name='CCCC[S@@](=O)c1nnc(s1)C(=O)N-3', molecule_id='13077380', comment=None, local_results={}),\n",
       " MoleculeEntry(name='CCCC[S@@](=O)c1nnc(s1)C(=O)N-4', molecule_id='13077547', comment=None, local_results={}),\n",
       " MoleculeEntry(name='CC(C)N(CCNC(=O)CN1[C@@H](CCC1=O)C(F)(F)F)C(C)C-0', molecule_id='13077656', comment=None, local_results={}),\n",
       " MoleculeEntry(name='CC(C)N(CCNC(=O)CN1[C@@H](CCC1=O)C(F)(F)F)C(C)C-1', molecule_id='13077703', comment=None, local_results={}),\n",
       " MoleculeEntry(name='CC(C)N(CCNC(=O)CN1[C@@H](CCC1=O)C(F)(F)F)C(C)C-2', molecule_id='13116101', comment=None, local_results={}),\n",
       " MoleculeEntry(name='CC(C)N(CCNC(=O)CN1[C@@H](CCC1=O)C(F)(F)F)C(C)C-3', molecule_id='13116132', comment=None, local_results={}),\n",
       " MoleculeEntry(name='CC(C)N(CCNC(=O)CN1[C@@H](CCC1=O)C(F)(F)F)C(C)C-4', molecule_id='13116175', comment=None, local_results={}),\n",
       " MoleculeEntry(name='CC(C)[NH+](CCNC(=O)CN1[C@@H](CCC1=O)C(F)(F)F)C(C)C-0', molecule_id='13116365', comment=None, local_results={}),\n",
       " MoleculeEntry(name='CC(C)[NH+](CCNC(=O)CN1[C@@H](CCC1=O)C(F)(F)F)C(C)C-1', molecule_id='13116394', comment=None, local_results={}),\n",
       " MoleculeEntry(name='CC(C)[NH+](CCNC(=O)CN1[C@@H](CCC1=O)C(F)(F)F)C(C)C-2', molecule_id='13116508', comment=None, local_results={}),\n",
       " MoleculeEntry(name='CC(C)[NH+](CCNC(=O)CN1[C@@H](CCC1=O)C(F)(F)F)C(C)C-3', molecule_id='13116654', comment=None, local_results={}),\n",
       " MoleculeEntry(name='CC(C)[NH+](CCNC(=O)CN1[C@@H](CCC1=O)C(F)(F)F)C(C)C-4', molecule_id='13116721', comment=None, local_results={}),\n",
       " MoleculeEntry(name='CC(C)[S@@](=O)c1nnc(s1)C(=O)NCC2CCCCC2-0', molecule_id='13116959', comment=None, local_results={}),\n",
       " MoleculeEntry(name='CC(C)[S@@](=O)c1nnc(s1)C(=O)NCC2CCCCC2-1', molecule_id='13117010', comment=None, local_results={}),\n",
       " MoleculeEntry(name='CC(C)[S@@](=O)c1nnc(s1)C(=O)NCC2CCCCC2-2', molecule_id='13117073', comment=None, local_results={}),\n",
       " MoleculeEntry(name='CC(C)[S@@](=O)c1nnc(s1)C(=O)NCC2CCCCC2-3', molecule_id='13117131', comment=None, local_results={}),\n",
       " MoleculeEntry(name='CC(C)[S@@](=O)c1nnc(s1)C(=O)NCC2CCCCC2-4', molecule_id='13117235', comment=None, local_results={}),\n",
       " MoleculeEntry(name='c1ccc2c(c1)NC(=O)CC[S@@]2=O-0', molecule_id='13117375', comment=None, local_results={}),\n",
       " MoleculeEntry(name='C[C@@H]1Cc2ccccc2[C@@H]1NC(=O)COC-0', molecule_id='13117717', comment=None, local_results={}),\n",
       " MoleculeEntry(name='C[C@@H]1Cc2ccccc2[C@@H]1NC(=O)COC-1', molecule_id='13118116', comment=None, local_results={}),\n",
       " MoleculeEntry(name='C[C@@H]1Cc2ccccc2[C@@H]1NC(=O)COC-2', molecule_id='13118256', comment=None, local_results={}),\n",
       " MoleculeEntry(name='C[C@@H]1Cc2ccccc2[C@@H]1NC(=O)COC-3', molecule_id='13118288', comment=None, local_results={}),\n",
       " MoleculeEntry(name='CCCCS(=O)(=O)Nc1cccc(c1)OCc2ccc3ccccc3n2-0', molecule_id='13118484', comment=None, local_results={}),\n",
       " MoleculeEntry(name='CCCCS(=O)(=O)Nc1cccc(c1)OCc2ccc3ccccc3n2-1', molecule_id='13118571', comment=None, local_results={}),\n",
       " MoleculeEntry(name='CCCCS(=O)(=O)Nc1cccc(c1)OCc2ccc3ccccc3n2-2', molecule_id='13118601', comment=None, local_results={}),\n",
       " MoleculeEntry(name='CCCCS(=O)(=O)Nc1cccc(c1)OCc2ccc3ccccc3n2-3', molecule_id='13118617', comment=None, local_results={}),\n",
       " MoleculeEntry(name='CCCCS(=O)(=O)Nc1cccc(c1)OCc2ccc3ccccc3n2-4', molecule_id='13118657', comment=None, local_results={}),\n",
       " MoleculeEntry(name='CCCCC[S@@](=O)c1nnc(s1)C(=O)NCCC-0', molecule_id='13118732', comment=None, local_results={}),\n",
       " MoleculeEntry(name='CCCCC[S@@](=O)c1nnc(s1)C(=O)NCCC-1', molecule_id='13118941', comment=None, local_results={}),\n",
       " MoleculeEntry(name='CCCCC[S@@](=O)c1nnc(s1)C(=O)NCCC-2', molecule_id='13119110', comment=None, local_results={}),\n",
       " MoleculeEntry(name='CCCCC[S@@](=O)c1nnc(s1)C(=O)NCCC-3', molecule_id='13119357', comment=None, local_results={}),\n",
       " MoleculeEntry(name='CCCCC[S@@](=O)c1nnc(s1)C(=O)NCCC-4', molecule_id='13119465', comment=None, local_results={}),\n",
       " MoleculeEntry(name='c1cc(ccc1[S@@](=O)[C@@H]2CCCCNC2=O)Cl-1', molecule_id='13119591', comment=None, local_results={}),\n",
       " MoleculeEntry(name='c1cc(ccc1[S@@](=O)[C@@H]2CCCCNC2=O)Cl-2', molecule_id='13119652', comment=None, local_results={}),\n",
       " MoleculeEntry(name='c1cc(ccc1[S@@](=O)[C@@H]2CCCCNC2=O)Cl-3', molecule_id='13119792', comment=None, local_results={}),\n",
       " MoleculeEntry(name='c1cc(ccc1[S@@](=O)[C@@H]2CCCCNC2=O)Cl-4', molecule_id='13119864', comment=None, local_results={}),\n",
       " MoleculeEntry(name='CCN(CC)CCOc1ccc(cc1)CNc2ccc(c3c2cccc3)Cl-0', molecule_id='13119945', comment=None, local_results={}),\n",
       " MoleculeEntry(name='CCN(CC)CCOc1ccc(cc1)CNc2ccc(c3c2cccc3)Cl-1', molecule_id='13120061', comment=None, local_results={}),\n",
       " MoleculeEntry(name='CCN(CC)CCOc1ccc(cc1)CNc2ccc(c3c2cccc3)Cl-2', molecule_id='13120095', comment=None, local_results={}),\n",
       " MoleculeEntry(name='CCN(CC)CCOc1ccc(cc1)CNc2ccc(c3c2cccc3)Cl-3', molecule_id='13120387', comment=None, local_results={}),\n",
       " MoleculeEntry(name='CCN(CC)CCOc1ccc(cc1)CNc2ccc(c3c2cccc3)Cl-4', molecule_id='13120514', comment=None, local_results={}),\n",
       " MoleculeEntry(name='CC[NH+](CC)CCOc1ccc(cc1)CNc2ccc(c3c2cccc3)Cl-0', molecule_id='13120650', comment=None, local_results={}),\n",
       " MoleculeEntry(name='CC[NH+](CC)CCOc1ccc(cc1)CNc2ccc(c3c2cccc3)Cl-1', molecule_id='13120701', comment=None, local_results={}),\n",
       " MoleculeEntry(name='CC[NH+](CC)CCOc1ccc(cc1)CNc2ccc(c3c2cccc3)Cl-2', molecule_id='13120863', comment=None, local_results={}),\n",
       " MoleculeEntry(name='CC[NH+](CC)CCOc1ccc(cc1)CNc2ccc(c3c2cccc3)Cl-3', molecule_id='13120966', comment=None, local_results={}),\n",
       " MoleculeEntry(name='CC[NH+](CC)CCOc1ccc(cc1)CNc2ccc(c3c2cccc3)Cl-4', molecule_id='13121137', comment=None, local_results={}),\n",
       " MoleculeEntry(name='Cc1ncc2c(n1)cccc2N[C@@H]3c4cc(ccc4C(C[C@@]3(C(F)(F)F)O)(C)C)Cl-0', molecule_id='13121185', comment=None, local_results={}),\n",
       " MoleculeEntry(name='Cc1ncc2c(n1)cccc2N[C@@H]3c4cc(ccc4C(C[C@@]3(C(F)(F)F)O)(C)C)Cl-1', molecule_id='13121258', comment=None, local_results={}),\n",
       " MoleculeEntry(name='Cc1ncc2c(n1)cccc2N[C@@H]3c4cc(ccc4C(C[C@@]3(C(F)(F)F)O)(C)C)Cl-2', molecule_id='13121445', comment=None, local_results={}),\n",
       " MoleculeEntry(name='Cc1ncc2c(n1)cccc2N[C@@H]3c4cc(ccc4C(C[C@@]3(C(F)(F)F)O)(C)C)Cl-3', molecule_id='13121512', comment=None, local_results={}),\n",
       " MoleculeEntry(name='c1cc2c([nH]c(n2)COCCO)nc1-0', molecule_id='13121555', comment=None, local_results={}),\n",
       " MoleculeEntry(name='c1cc2c([nH]c(n2)COCCO)nc1-2', molecule_id='13121891', comment=None, local_results={}),\n",
       " MoleculeEntry(name='c1cc2c([nH]c(n2)COCCO)nc1-3', molecule_id='13122039', comment=None, local_results={}),\n",
       " MoleculeEntry(name='c1cc2c([nH]c(n2)COCCO)nc1-4', molecule_id='13122083', comment=None, local_results={}),\n",
       " MoleculeEntry(name='c1cc2c(nc1)nc([nH]2)COCCO-0', molecule_id='13122257', comment=None, local_results={}),\n",
       " MoleculeEntry(name='c1cc2c(nc1)nc([nH]2)COCCO-1', molecule_id='13122371', comment=None, local_results={}),\n",
       " MoleculeEntry(name='c1cc2c(nc1)nc([nH]2)COCCO-2', molecule_id='13122512', comment=None, local_results={}),\n",
       " MoleculeEntry(name='c1cc2c(nc1)nc([nH]2)COCCO-3', molecule_id='13122549', comment=None, local_results={}),\n",
       " MoleculeEntry(name='c1cc2c(nc1)nc([nH]2)COCCO-4', molecule_id='13122592', comment=None, local_results={}),\n",
       " MoleculeEntry(name='CCC[C@@H](c1ccc(nc1)C#N)n2ccnc2-0', molecule_id='13122720', comment=None, local_results={}),\n",
       " MoleculeEntry(name='CCC[C@@H](c1ccc(nc1)C#N)n2ccnc2-1', molecule_id='13122969', comment=None, local_results={}),\n",
       " MoleculeEntry(name='CCC[C@@H](c1ccc(nc1)C#N)n2ccnc2-2', molecule_id='13122997', comment=None, local_results={}),\n",
       " MoleculeEntry(name='CCC[C@@H](c1ccc(nc1)C#N)n2ccnc2-3', molecule_id='13123152', comment=None, local_results={}),\n",
       " MoleculeEntry(name='CCC[C@@H](c1ccc(nc1)C#N)n2ccnc2-4', molecule_id='13123325', comment=None, local_results={}),\n",
       " MoleculeEntry(name='C[C@@H](CO)Nc1c(cnc(n1)Nc2cccc(c2)S(=O)(=O)NCCCc3ccccc3)Br-0', molecule_id='13123460', comment=None, local_results={}),\n",
       " MoleculeEntry(name='C[C@@H](CO)Nc1c(cnc(n1)Nc2cccc(c2)S(=O)(=O)NCCCc3ccccc3)Br-2', molecule_id='13123500', comment=None, local_results={}),\n",
       " MoleculeEntry(name='C[C@@H](CO)Nc1c(cnc(n1)Nc2cccc(c2)S(=O)(=O)NCCCc3ccccc3)Br-4', molecule_id='13123586', comment=None, local_results={}),\n",
       " MoleculeEntry(name='CCCc1c(ccc2c1onc2C(F)(F)F)OCCCOc3ccc4c(c3)CC[C@@H]4[C@@H](C)C(=O)OC-0', molecule_id='13123875', comment=None, local_results={}),\n",
       " MoleculeEntry(name='CCCc1c(ccc2c1onc2C(F)(F)F)OCCCOc3ccc4c(c3)CC[C@@H]4[C@@H](C)C(=O)OC-1', molecule_id='13123978', comment=None, local_results={}),\n",
       " MoleculeEntry(name='CCCc1c(ccc2c1onc2C(F)(F)F)OCCCOc3ccc4c(c3)CC[C@@H]4[C@@H](C)C(=O)OC-2', molecule_id='13124084', comment=None, local_results={}),\n",
       " MoleculeEntry(name='CCCc1c(ccc2c1onc2C(F)(F)F)OCCCOc3ccc4c(c3)CC[C@@H]4[C@@H](C)C(=O)OC-4', molecule_id='13124115', comment=None, local_results={}),\n",
       " MoleculeEntry(name='Cc1cc(cnc1CO)OCC[N@@](C)OC-1', molecule_id='13124775', comment=None, local_results={}),\n",
       " MoleculeEntry(name='Cc1cc(cnc1CO)OCC[N@@](C)OC-2', molecule_id='13124809', comment=None, local_results={}),\n",
       " MoleculeEntry(name='Cc1cc(cnc1CO)OCC[N@@](C)OC-3', molecule_id='13125155', comment=None, local_results={}),\n",
       " MoleculeEntry(name='Cc1cc(cnc1CO)OCC[N@@](C)OC-4', molecule_id='13125345', comment=None, local_results={}),\n",
       " MoleculeEntry(name='c1ccc(cc1)C(=O)NS(=O)(=O)c2ccc(cc2)c3ccc4c(c3)CC[C@@H](O4)CNC[C@@H](c5cccnc5)O-0', molecule_id='13125450', comment=None, local_results={}),\n",
       " MoleculeEntry(name='c1ccc(cc1)C(=O)NS(=O)(=O)c2ccc(cc2)c3ccc4c(c3)CC[C@@H](O4)CNC[C@@H](c5cccnc5)O-1', molecule_id='13125616', comment=None, local_results={}),\n",
       " MoleculeEntry(name='c1ccc(cc1)C(=O)NS(=O)(=O)c2ccc(cc2)c3ccc4c(c3)CC[C@@H](O4)CNC[C@@H](c5cccnc5)O-2', molecule_id='13125656', comment=None, local_results={}),\n",
       " MoleculeEntry(name='c1ccc(cc1)C(=O)NS(=O)(=O)c2ccc(cc2)c3ccc4c(c3)CC[C@@H](O4)CNC[C@@H](c5cccnc5)O-3', molecule_id='13125715', comment=None, local_results={}),\n",
       " MoleculeEntry(name='c1ccc(cc1)C(=O)NS(=O)(=O)c2ccc(cc2)c3ccc4c(c3)CC[C@@H](O4)CNC[C@@H](c5cccnc5)O-4', molecule_id='13125792', comment=None, local_results={}),\n",
       " MoleculeEntry(name='c1ccc(cc1)C(=O)NS(=O)(=O)c2ccc(cc2)c3ccc4c(c3)CC[C@@H](O4)C[NH2+]C[C@@H](c5cccnc5)O-0', molecule_id='13125908', comment=None, local_results={}),\n",
       " MoleculeEntry(name='c1ccc(cc1)C(=O)NS(=O)(=O)c2ccc(cc2)c3ccc4c(c3)CC[C@@H](O4)C[NH2+]C[C@@H](c5cccnc5)O-1', molecule_id='13126072', comment=None, local_results={}),\n",
       " MoleculeEntry(name='c1ccc(cc1)C(=O)NS(=O)(=O)c2ccc(cc2)c3ccc4c(c3)CC[C@@H](O4)C[NH2+]C[C@@H](c5cccnc5)O-2', molecule_id='13126556', comment=None, local_results={}),\n",
       " MoleculeEntry(name='c1ccc(cc1)C(=O)NS(=O)(=O)c2ccc(cc2)c3ccc4c(c3)CC[C@@H](O4)C[NH2+]C[C@@H](c5cccnc5)O-3', molecule_id='13126675', comment=None, local_results={}),\n",
       " MoleculeEntry(name='c1ccc(cc1)C(=O)NS(=O)(=O)c2ccc(cc2)c3ccc4c(c3)CC[C@@H](O4)C[NH2+]C[C@@H](c5cccnc5)O-4', molecule_id='13126731', comment=None, local_results={}),\n",
       " MoleculeEntry(name='c1ccc2c(c1)ccc(n2)COc3ccc(cc3)[C@@](C4CCCC4)(C(=O)O)O-0', molecule_id='13126852', comment=None, local_results={}),\n",
       " MoleculeEntry(name='c1ccc2c(c1)ccc(n2)COc3ccc(cc3)[C@@](C4CCCC4)(C(=O)O)O-1', molecule_id='13126894', comment=None, local_results={}),\n",
       " MoleculeEntry(name='c1ccc2c(c1)ccc(n2)COc3ccc(cc3)[C@@](C4CCCC4)(C(=O)O)O-2', molecule_id='13127035', comment=None, local_results={}),\n",
       " MoleculeEntry(name='c1ccc2c(c1)ccc(n2)COc3ccc(cc3)[C@@](C4CCCC4)(C(=O)O)O-3', molecule_id='13127597', comment=None, local_results={}),\n",
       " MoleculeEntry(name='c1ccc2c(c1)ccc(n2)COc3ccc(cc3)[C@@](C4CCCC4)(C(=O)O)O-4', molecule_id='13127756', comment=None, local_results={}),\n",
       " MoleculeEntry(name='c1ccc2c(c1)ccc(n2)COc3ccc(cc3)[C@@](C4CCCC4)(C(=O)[O-])O-0', molecule_id='13127849', comment=None, local_results={}),\n",
       " MoleculeEntry(name='c1ccc2c(c1)ccc(n2)COc3ccc(cc3)[C@@](C4CCCC4)(C(=O)[O-])O-1', molecule_id='13127942', comment=None, local_results={}),\n",
       " MoleculeEntry(name='c1ccc2c(c1)ccc(n2)COc3ccc(cc3)[C@@](C4CCCC4)(C(=O)[O-])O-2', molecule_id='13128115', comment=None, local_results={}),\n",
       " MoleculeEntry(name='c1ccc2c(c1)ccc(n2)COc3ccc(cc3)[C@@](C4CCCC4)(C(=O)[O-])O-3', molecule_id='13128250', comment=None, local_results={}),\n",
       " MoleculeEntry(name='c1ccc2c(c1)ccc(n2)COc3ccc(cc3)[C@@](C4CCCC4)(C(=O)[O-])O-4', molecule_id='13128524', comment=None, local_results={}),\n",
       " MoleculeEntry(name='CN1[C@@H]([C@@H](CC1=O)c2ccccc2)[C@@H](C#Cc3ccccc3)O-0', molecule_id='13128752', comment=None, local_results={}),\n",
       " MoleculeEntry(name='CN1[C@@H]([C@@H](CC1=O)c2ccccc2)[C@@H](C#Cc3ccccc3)O-1', molecule_id='13128815', comment=None, local_results={}),\n",
       " MoleculeEntry(name='CN1[C@@H]([C@@H](CC1=O)c2ccccc2)[C@@H](C#Cc3ccccc3)O-2', molecule_id='13129650', comment=None, local_results={}),\n",
       " MoleculeEntry(name='CN1[C@@H]([C@@H](CC1=O)c2ccccc2)[C@@H](C#Cc3ccccc3)O-3', molecule_id='13129759', comment=None, local_results={}),\n",
       " MoleculeEntry(name='c1ccc(cc1)OCCCCOc2ccc(cc2)C#CCO-1', molecule_id='13130307', comment=None, local_results={}),\n",
       " MoleculeEntry(name='c1ccc(cc1)OCCCCOc2ccc(cc2)C#CCO-2', molecule_id='13130397', comment=None, local_results={}),\n",
       " MoleculeEntry(name='c1ccc(cc1)OCCCCOc2ccc(cc2)C#CCO-3', molecule_id='13130512', comment=None, local_results={}),\n",
       " MoleculeEntry(name='c1ccc(cc1)OCCCCOc2ccc(cc2)C#CCO-4', molecule_id='13130553', comment=None, local_results={}),\n",
       " MoleculeEntry(name='COc1ccc(cc1)[C@@]23[C@@H](C[C@@H]([C@@]2(c4c(cc(cc4OC)OC)O3)O)O)c5ccccc5-0', molecule_id='13130607', comment=None, local_results={}),\n",
       " MoleculeEntry(name='COc1ccc(cc1)[C@@]23[C@@H](C[C@@H]([C@@]2(c4c(cc(cc4OC)OC)O3)O)O)c5ccccc5-1', molecule_id='13130943', comment=None, local_results={}),\n",
       " MoleculeEntry(name='CCc1cccc(c1)N(CC)C(=O)CO-0', molecule_id='13131389', comment=None, local_results={}),\n",
       " MoleculeEntry(name='CCc1cccc(c1)N(CC)C(=O)CO-2', molecule_id='13131509', comment=None, local_results={}),\n",
       " MoleculeEntry(name='CCc1cccc(c1)N(CC)C(=O)CO-3', molecule_id='13131904', comment=None, local_results={}),\n",
       " MoleculeEntry(name='CCc1cccc(c1)N(CC)C(=O)CO-4', molecule_id='13132148', comment=None, local_results={}),\n",
       " MoleculeEntry(name='CCCC[C@@H](c1cccc(c1)COc2cccc3c2nccc3C)O-0', molecule_id='13132337', comment=None, local_results={}),\n",
       " MoleculeEntry(name='CCCC[C@@H](c1cccc(c1)COc2cccc3c2nccc3C)O-1', molecule_id='13132528', comment=None, local_results={}),\n",
       " MoleculeEntry(name='CCCC[C@@H](c1cccc(c1)COc2cccc3c2nccc3C)O-2', molecule_id='13132763', comment=None, local_results={}),\n",
       " MoleculeEntry(name='CCCC[C@@H](c1cccc(c1)COc2cccc3c2nccc3C)O-3', molecule_id='13133094', comment=None, local_results={}),\n",
       " MoleculeEntry(name='CCCC[C@@H](c1cccc(c1)COc2cccc3c2nccc3C)O-4', molecule_id='13133292', comment=None, local_results={}),\n",
       " MoleculeEntry(name='c1cc2c(c(c[nH]2)C[C@@H](CO)N)nc1-0', molecule_id='13133613', comment=None, local_results={}),\n",
       " MoleculeEntry(name='c1cc2c(c(c[nH]2)C[C@@H](CO)N)nc1-1', molecule_id='13133654', comment=None, local_results={}),\n",
       " MoleculeEntry(name='c1cc2c(c(c[nH]2)C[C@@H](CO)N)nc1-2', molecule_id='13133844', comment=None, local_results={}),\n",
       " MoleculeEntry(name='c1cc2c(c(c[nH]2)C[C@@H](CO)N)nc1-3', molecule_id='13133994', comment=None, local_results={}),\n",
       " MoleculeEntry(name='c1cc2c(c(c[nH]2)C[C@@H](CO)N)nc1-4', molecule_id='13134112', comment=None, local_results={}),\n",
       " MoleculeEntry(name='c1cc2c(c(c[nH]2)C[C@@H](CO)[NH3+])nc1-0', molecule_id='13134193', comment=None, local_results={}),\n",
       " MoleculeEntry(name='c1cc2c(c(c[nH]2)C[C@@H](CO)[NH3+])nc1-1', molecule_id='13134242', comment=None, local_results={}),\n",
       " MoleculeEntry(name='c1cc2c(c(c[nH]2)C[C@@H](CO)[NH3+])nc1-2', molecule_id='13134372', comment=None, local_results={}),\n",
       " ...]"
      ]
     },
     "execution_count": 65,
     "metadata": {},
     "output_type": "execute_result"
    }
   ],
   "source": [
    "ds.data.records"
   ]
  },
  {
   "cell_type": "code",
   "execution_count": null,
   "metadata": {},
   "outputs": [],
   "source": [
    "recs.iloc[0,0].get_stdout()"
   ]
  },
  {
   "cell_type": "markdown",
   "metadata": {},
   "source": [
    "## Torsion coverage"
   ]
  },
  {
   "cell_type": "code",
   "execution_count": 36,
   "metadata": {},
   "outputs": [],
   "source": [
    "ds = client.get_collection(\"TorsionDriveDataset\", \"OpenFF Substituted Phenyl Set 1\")"
   ]
  },
  {
   "cell_type": "code",
   "execution_count": 37,
   "metadata": {},
   "outputs": [
    {
     "data": {
      "text/plain": [
       "154"
      ]
     },
     "execution_count": 37,
     "metadata": {},
     "output_type": "execute_result"
    }
   ],
   "source": [
    "len(ds.df)"
   ]
  },
  {
   "cell_type": "code",
   "execution_count": 38,
   "metadata": {},
   "outputs": [
    {
     "data": {
      "text/plain": [
       "TDEntry(name='[H:4][O:3][c:2]1ccc(n[cH:1]1)[N+](C)(C)C', initial_molecules={'108604'}, td_keywords=TDKeywords(dihedrals=[(2, 3, 10, 23)], grid_spacing=[15], dihedral_ranges=None, energy_decrease_thresh=None, energy_upper_limit=0.1), attributes={'canonical_explicit_hydrogen_smiles': '[H]c1c(c(nc(c1O[H])[H])[N+](C([H])([H])[H])(C([H])([H])[H])C([H])([H])[H])[H]', 'canonical_isomeric_explicit_hydrogen_mapped_smiles': '[H:12][c:1]1[c:2]([c:5]([n:9][c:3]([c:4]1[O:11][H:24])[H:14])[N+:10]([C:6]([H:15])([H:16])[H:17])([C:7]([H:18])([H:19])[H:20])[C:8]([H:21])([H:22])[H:23])[H:13]', 'canonical_isomeric_explicit_hydrogen_smiles': '[H]c1c(c(nc(c1O[H])[H])[N+](C([H])([H])[H])(C([H])([H])[H])C([H])([H])[H])[H]', 'canonical_isomeric_smiles': 'C[N+](C)(C)c1ccc(cn1)O', 'canonical_smiles': 'C[N+](C)(C)c1ccc(cn1)O', 'inchi_key': 'LCSQOVUGHRUNTD-UHFFFAOYSA-O', 'molecular_formula': 'C8H13N2O', 'provenance': 'cmiles_v0.1.4+9.g7ed3036_openeye_2019.Apr.2', 'standard_inchi': 'InChI=1S/C8H12N2O/c1-10(2,3)8-5-4-7(11)6-9-8/h4-6H,1-3H3/p+1', 'unique_protomer_representation': 'C[N+](C)(C)c1ccc(cn1)O', 'unique_tautomer_representation': 'C[N+](C)(C)c1ccc(O)cn1'}, object_map={'default': '3745585'})"
      ]
     },
     "execution_count": 38,
     "metadata": {},
     "output_type": "execute_result"
    }
   ],
   "source": [
    "ds.data.records[\"[H:4][O:3][c:2]1ccc(n[cH:1]1)[N+](C)(C)C\".lower()]"
   ]
  },
  {
   "cell_type": "code",
   "execution_count": 28,
   "metadata": {},
   "outputs": [],
   "source": [
    "import json"
   ]
  },
  {
   "cell_type": "code",
   "execution_count": 29,
   "metadata": {},
   "outputs": [],
   "source": [
    "with open('qca-dataset-submission/2019-07-25-phenyl-set/phenyl_set_torsiondrive_inputs.json', 'r') as f:\n",
    "    recs = json.load(f)"
   ]
  },
  {
   "cell_type": "code",
   "execution_count": 35,
   "metadata": {},
   "outputs": [
    {
     "data": {
      "text/plain": [
       "144"
      ]
     },
     "execution_count": 35,
     "metadata": {},
     "output_type": "execute_result"
    }
   ],
   "source": [
    "len(recs.keys())"
   ]
  },
  {
   "cell_type": "code",
   "execution_count": 39,
   "metadata": {},
   "outputs": [],
   "source": [
    "with open('qca-dataset-submission/2019-07-25-phenyl-set/biphenyls_set_input.json', 'r') as f:\n",
    "    biphenyls = json.load(f)"
   ]
  },
  {
   "cell_type": "code",
   "execution_count": 40,
   "metadata": {},
   "outputs": [
    {
     "data": {
      "text/plain": [
       "15"
      ]
     },
     "execution_count": 40,
     "metadata": {},
     "output_type": "execute_result"
    }
   ],
   "source": [
    "len(biphenyls.keys())"
   ]
  }
 ],
 "metadata": {
  "kernelspec": {
   "display_name": "Python 3",
   "language": "python",
   "name": "python3"
  },
  "language_info": {
   "codemirror_mode": {
    "name": "ipython",
    "version": 3
   },
   "file_extension": ".py",
   "mimetype": "text/x-python",
   "name": "python",
   "nbconvert_exporter": "python",
   "pygments_lexer": "ipython3",
   "version": "3.8.2"
  }
 },
 "nbformat": 4,
 "nbformat_minor": 4
}
