{
 "cells": [
  {
   "cell_type": "markdown",
   "metadata": {},
   "source": [
    "# Management - Substituted Phenyl Set 1"
   ]
  },
  {
   "cell_type": "code",
   "execution_count": 4,
   "metadata": {},
   "outputs": [],
   "source": [
    "import qcportal as ptl\n",
    "import pandas as pd\n",
    "import datetime\n",
    "import time\n",
    "\n",
    "from management import *"
   ]
  },
  {
   "cell_type": "raw",
   "metadata": {},
   "source": [
    "# connect without auth\n",
    "# read only\n",
    "client = ptl.FractalClient()"
   ]
  },
  {
   "cell_type": "code",
   "execution_count": 5,
   "metadata": {},
   "outputs": [],
   "source": [
    "# connect with authentication, therefore write access\n",
    "# don't use unless you plan to submit things\n",
    "client = ptl.FractalClient.from_file()"
   ]
  },
  {
   "cell_type": "code",
   "execution_count": 6,
   "metadata": {},
   "outputs": [
    {
     "data": {
      "text/html": [
       "\n",
       "<h3>FractalClient</h3>\n",
       "<ul>\n",
       "  <li><b>Server:   &nbsp; </b>The MolSSI QCArchive Server</li>\n",
       "  <li><b>Address:  &nbsp; </b>https://api.qcarchive.molssi.org:443/</li>\n",
       "  <li><b>Username: &nbsp; </b>ddotson</li>\n",
       "</ul>\n"
      ],
      "text/plain": [
       "FractalClient(server_name='The MolSSI QCArchive Server', address='https://api.qcarchive.molssi.org:443/', username='ddotson')"
      ]
     },
     "execution_count": 6,
     "metadata": {},
     "output_type": "execute_result"
    }
   ],
   "source": [
    "client"
   ]
  },
  {
   "cell_type": "markdown",
   "metadata": {},
   "source": [
    "## Dataset tracking"
   ]
  },
  {
   "cell_type": "markdown",
   "metadata": {},
   "source": [
    "### 2020.06.27 01:00 UTC"
   ]
  },
  {
   "cell_type": "code",
   "execution_count": 7,
   "metadata": {},
   "outputs": [],
   "source": [
    "dataset = \"OpenFF Substituted Phenyl Set 1\""
   ]
  },
  {
   "cell_type": "code",
   "execution_count": 8,
   "metadata": {},
   "outputs": [],
   "source": [
    "ds = client.get_collection(\"TorsionDriveDataset\", dataset)"
   ]
  },
  {
   "cell_type": "code",
   "execution_count": 9,
   "metadata": {},
   "outputs": [
    {
     "data": {
      "text/html": [
       "<div>\n",
       "<style scoped>\n",
       "    .dataframe tbody tr th:only-of-type {\n",
       "        vertical-align: middle;\n",
       "    }\n",
       "\n",
       "    .dataframe tbody tr th {\n",
       "        vertical-align: top;\n",
       "    }\n",
       "\n",
       "    .dataframe thead th {\n",
       "        text-align: right;\n",
       "    }\n",
       "</style>\n",
       "<table border=\"1\" class=\"dataframe\">\n",
       "  <thead>\n",
       "    <tr style=\"text-align: right;\">\n",
       "      <th></th>\n",
       "      <th>Description</th>\n",
       "    </tr>\n",
       "    <tr>\n",
       "      <th>Name</th>\n",
       "      <th></th>\n",
       "    </tr>\n",
       "  </thead>\n",
       "  <tbody>\n",
       "    <tr>\n",
       "      <th>default</th>\n",
       "      <td>Standard OpenFF torsiondrive specification.</td>\n",
       "    </tr>\n",
       "  </tbody>\n",
       "</table>\n",
       "</div>"
      ],
      "text/plain": [
       "                                         Description\n",
       "Name                                                \n",
       "default  Standard OpenFF torsiondrive specification."
      ]
     },
     "execution_count": 9,
     "metadata": {},
     "output_type": "execute_result"
    }
   ],
   "source": [
    "ds.list_specifications()"
   ]
  },
  {
   "cell_type": "code",
   "execution_count": 11,
   "metadata": {},
   "outputs": [
    {
     "data": {
      "text/plain": [
       "{}"
      ]
     },
     "execution_count": 11,
     "metadata": {},
     "output_type": "execute_result"
    }
   ],
   "source": [
    "res = get_unfinished_torsiondrive_optimizations(ds, 'default', client)\n",
    "res"
   ]
  },
  {
   "cell_type": "code",
   "execution_count": 13,
   "metadata": {},
   "outputs": [
    {
     "data": {
      "text/html": [
       "<div>\n",
       "<style scoped>\n",
       "    .dataframe tbody tr th:only-of-type {\n",
       "        vertical-align: middle;\n",
       "    }\n",
       "\n",
       "    .dataframe tbody tr th {\n",
       "        vertical-align: top;\n",
       "    }\n",
       "\n",
       "    .dataframe thead th {\n",
       "        text-align: right;\n",
       "    }\n",
       "</style>\n",
       "<table border=\"1\" class=\"dataframe\">\n",
       "  <thead>\n",
       "    <tr style=\"text-align: right;\">\n",
       "      <th></th>\n",
       "      <th>default</th>\n",
       "    </tr>\n",
       "  </thead>\n",
       "  <tbody>\n",
       "    <tr>\n",
       "      <th>COMPLETE</th>\n",
       "      <td>156</td>\n",
       "    </tr>\n",
       "    <tr>\n",
       "      <th>ERROR</th>\n",
       "      <td>3</td>\n",
       "    </tr>\n",
       "  </tbody>\n",
       "</table>\n",
       "</div>"
      ],
      "text/plain": [
       "          default\n",
       "COMPLETE      156\n",
       "ERROR           3"
      ]
     },
     "execution_count": 13,
     "metadata": {},
     "output_type": "execute_result"
    }
   ],
   "source": [
    "ds.status(\"default\")"
   ]
  },
  {
   "cell_type": "code",
   "execution_count": 14,
   "metadata": {},
   "outputs": [],
   "source": [
    "resm = merge(res)"
   ]
  },
  {
   "cell_type": "code",
   "execution_count": 15,
   "metadata": {},
   "outputs": [],
   "source": [
    "incomplete = (opt.dict() for opt in resm if opt.status == 'INCOMPLETE')"
   ]
  },
  {
   "cell_type": "code",
   "execution_count": 16,
   "metadata": {},
   "outputs": [
    {
     "ename": "StopIteration",
     "evalue": "",
     "output_type": "error",
     "traceback": [
      "\u001b[0;31m---------------------------------------------------------------------------\u001b[0m",
      "\u001b[0;31mStopIteration\u001b[0m                             Traceback (most recent call last)",
      "\u001b[0;32m<ipython-input-16-3729b8af7b87>\u001b[0m in \u001b[0;36m<module>\u001b[0;34m\u001b[0m\n\u001b[0;32m----> 1\u001b[0;31m \u001b[0mnext\u001b[0m\u001b[0;34m(\u001b[0m\u001b[0mincomplete\u001b[0m\u001b[0;34m)\u001b[0m\u001b[0;34m\u001b[0m\u001b[0;34m\u001b[0m\u001b[0m\n\u001b[0m",
      "\u001b[0;31mStopIteration\u001b[0m: "
     ]
    }
   ],
   "source": [
    "next(incomplete)"
   ]
  },
  {
   "cell_type": "code",
   "execution_count": 17,
   "metadata": {},
   "outputs": [],
   "source": [
    "count_unique_optimization_error_messages(resm, full=True, pretty_print=True)"
   ]
  },
  {
   "cell_type": "code",
   "execution_count": 18,
   "metadata": {},
   "outputs": [],
   "source": [
    "restart_optimizations(resm, client)"
   ]
  },
  {
   "cell_type": "code",
   "execution_count": 19,
   "metadata": {},
   "outputs": [
    {
     "data": {
      "text/plain": [
       "[TorsionDriveRecord(id='3745388', status='ERROR'),\n",
       " TorsionDriveRecord(id='3745481', status='ERROR'),\n",
       " TorsionDriveRecord(id='3745569', status='ERROR')]"
      ]
     },
     "execution_count": 19,
     "metadata": {},
     "output_type": "execute_result"
    }
   ],
   "source": [
    "[tdr for tdr in ds.df.default if tdr.status == 'ERROR']"
   ]
  },
  {
   "cell_type": "code",
   "execution_count": 20,
   "metadata": {},
   "outputs": [
    {
     "name": "stdout",
     "output_type": "stream",
     "text": [
      "TorsionDriveRecord(id='3745388', status='ERROR')\n",
      "TorsionDriveRecord(id='3745481', status='ERROR')\n",
      "TorsionDriveRecord(id='3745569', status='ERROR')\n"
     ]
    }
   ],
   "source": [
    "restart_torsiondrives(ds.df.default.tolist(), client)"
   ]
  },
  {
   "cell_type": "markdown",
   "metadata": {},
   "source": [
    "Same errored TorsionDrives as previously..."
   ]
  },
  {
   "cell_type": "markdown",
   "metadata": {},
   "source": [
    "### 2020.06.18 14:22 UTC"
   ]
  },
  {
   "cell_type": "code",
   "execution_count": 4,
   "metadata": {},
   "outputs": [],
   "source": [
    "dataset = \"OpenFF Substituted Phenyl Set 1\""
   ]
  },
  {
   "cell_type": "code",
   "execution_count": 5,
   "metadata": {},
   "outputs": [],
   "source": [
    "ds = client.get_collection(\"TorsionDriveDataset\", dataset)"
   ]
  },
  {
   "cell_type": "code",
   "execution_count": 6,
   "metadata": {},
   "outputs": [
    {
     "data": {
      "text/html": [
       "<div>\n",
       "<style scoped>\n",
       "    .dataframe tbody tr th:only-of-type {\n",
       "        vertical-align: middle;\n",
       "    }\n",
       "\n",
       "    .dataframe tbody tr th {\n",
       "        vertical-align: top;\n",
       "    }\n",
       "\n",
       "    .dataframe thead th {\n",
       "        text-align: right;\n",
       "    }\n",
       "</style>\n",
       "<table border=\"1\" class=\"dataframe\">\n",
       "  <thead>\n",
       "    <tr style=\"text-align: right;\">\n",
       "      <th></th>\n",
       "      <th>Description</th>\n",
       "    </tr>\n",
       "    <tr>\n",
       "      <th>Name</th>\n",
       "      <th></th>\n",
       "    </tr>\n",
       "  </thead>\n",
       "  <tbody>\n",
       "    <tr>\n",
       "      <th>default</th>\n",
       "      <td>Standard OpenFF torsiondrive specification.</td>\n",
       "    </tr>\n",
       "  </tbody>\n",
       "</table>\n",
       "</div>"
      ],
      "text/plain": [
       "                                         Description\n",
       "Name                                                \n",
       "default  Standard OpenFF torsiondrive specification."
      ]
     },
     "execution_count": 6,
     "metadata": {},
     "output_type": "execute_result"
    }
   ],
   "source": [
    "ds.list_specifications()"
   ]
  },
  {
   "cell_type": "code",
   "execution_count": 7,
   "metadata": {},
   "outputs": [
    {
     "data": {
      "text/plain": [
       "{}"
      ]
     },
     "execution_count": 7,
     "metadata": {},
     "output_type": "execute_result"
    }
   ],
   "source": [
    "res = get_unfinished_torsiondrive_optimizations(ds, 'default', client, merged=False)\n",
    "res"
   ]
  },
  {
   "cell_type": "code",
   "execution_count": 8,
   "metadata": {},
   "outputs": [
    {
     "data": {
      "text/html": [
       "<div>\n",
       "<style scoped>\n",
       "    .dataframe tbody tr th:only-of-type {\n",
       "        vertical-align: middle;\n",
       "    }\n",
       "\n",
       "    .dataframe tbody tr th {\n",
       "        vertical-align: top;\n",
       "    }\n",
       "\n",
       "    .dataframe thead th {\n",
       "        text-align: right;\n",
       "    }\n",
       "</style>\n",
       "<table border=\"1\" class=\"dataframe\">\n",
       "  <thead>\n",
       "    <tr style=\"text-align: right;\">\n",
       "      <th></th>\n",
       "      <th>default</th>\n",
       "    </tr>\n",
       "  </thead>\n",
       "  <tbody>\n",
       "    <tr>\n",
       "      <th>COMPLETE</th>\n",
       "      <td>156</td>\n",
       "    </tr>\n",
       "    <tr>\n",
       "      <th>ERROR</th>\n",
       "      <td>3</td>\n",
       "    </tr>\n",
       "  </tbody>\n",
       "</table>\n",
       "</div>"
      ],
      "text/plain": [
       "          default\n",
       "COMPLETE      156\n",
       "ERROR           3"
      ]
     },
     "execution_count": 8,
     "metadata": {},
     "output_type": "execute_result"
    }
   ],
   "source": [
    "ds.status(\"default\")"
   ]
  },
  {
   "cell_type": "code",
   "execution_count": 9,
   "metadata": {},
   "outputs": [],
   "source": [
    "resm = merge(res)"
   ]
  },
  {
   "cell_type": "code",
   "execution_count": 10,
   "metadata": {},
   "outputs": [],
   "source": [
    "incomplete = (opt.dict() for opt in resm if opt.status == 'INCOMPLETE')"
   ]
  },
  {
   "cell_type": "code",
   "execution_count": 13,
   "metadata": {},
   "outputs": [
    {
     "ename": "StopIteration",
     "evalue": "",
     "output_type": "error",
     "traceback": [
      "\u001b[0;31m---------------------------------------------------------------------------\u001b[0m",
      "\u001b[0;31mStopIteration\u001b[0m                             Traceback (most recent call last)",
      "\u001b[0;32m<ipython-input-13-3729b8af7b87>\u001b[0m in \u001b[0;36m<module>\u001b[0;34m\u001b[0m\n\u001b[0;32m----> 1\u001b[0;31m \u001b[0mnext\u001b[0m\u001b[0;34m(\u001b[0m\u001b[0mincomplete\u001b[0m\u001b[0;34m)\u001b[0m\u001b[0;34m\u001b[0m\u001b[0;34m\u001b[0m\u001b[0m\n\u001b[0m",
      "\u001b[0;31mStopIteration\u001b[0m: "
     ]
    }
   ],
   "source": [
    "next(incomplete)"
   ]
  },
  {
   "cell_type": "code",
   "execution_count": 14,
   "metadata": {},
   "outputs": [],
   "source": [
    "count_unique_optimization_error_messages(resm, full=True, pretty_print=True)"
   ]
  },
  {
   "cell_type": "code",
   "execution_count": 17,
   "metadata": {},
   "outputs": [],
   "source": [
    "restart_optimizations(resm, client)"
   ]
  },
  {
   "cell_type": "code",
   "execution_count": 18,
   "metadata": {},
   "outputs": [
    {
     "data": {
      "text/plain": [
       "[TorsionDriveRecord(id='3745388', status='ERROR'),\n",
       " TorsionDriveRecord(id='3745481', status='ERROR'),\n",
       " TorsionDriveRecord(id='3745569', status='ERROR')]"
      ]
     },
     "execution_count": 18,
     "metadata": {},
     "output_type": "execute_result"
    }
   ],
   "source": [
    "[tdr for tdr in ds.df.default if tdr.status == 'ERROR']"
   ]
  },
  {
   "cell_type": "code",
   "execution_count": 19,
   "metadata": {},
   "outputs": [
    {
     "name": "stdout",
     "output_type": "stream",
     "text": [
      "TorsionDriveRecord(id='3745388', status='ERROR')\n",
      "TorsionDriveRecord(id='3745481', status='ERROR')\n",
      "TorsionDriveRecord(id='3745569', status='ERROR')\n"
     ]
    }
   ],
   "source": [
    "restart_torsiondrives(ds.df.default.tolist(), client)"
   ]
  },
  {
   "cell_type": "markdown",
   "metadata": {},
   "source": [
    "### 2020.06.12 15:12 UTC"
   ]
  },
  {
   "cell_type": "code",
   "execution_count": 4,
   "metadata": {},
   "outputs": [],
   "source": [
    "dataset = \"OpenFF Substituted Phenyl Set 1\""
   ]
  },
  {
   "cell_type": "code",
   "execution_count": 5,
   "metadata": {},
   "outputs": [],
   "source": [
    "ds = client.get_collection(\"TorsionDriveDataset\", dataset)"
   ]
  },
  {
   "cell_type": "code",
   "execution_count": 6,
   "metadata": {},
   "outputs": [
    {
     "data": {
      "text/html": [
       "<div>\n",
       "<style scoped>\n",
       "    .dataframe tbody tr th:only-of-type {\n",
       "        vertical-align: middle;\n",
       "    }\n",
       "\n",
       "    .dataframe tbody tr th {\n",
       "        vertical-align: top;\n",
       "    }\n",
       "\n",
       "    .dataframe thead th {\n",
       "        text-align: right;\n",
       "    }\n",
       "</style>\n",
       "<table border=\"1\" class=\"dataframe\">\n",
       "  <thead>\n",
       "    <tr style=\"text-align: right;\">\n",
       "      <th></th>\n",
       "      <th>Description</th>\n",
       "    </tr>\n",
       "    <tr>\n",
       "      <th>Name</th>\n",
       "      <th></th>\n",
       "    </tr>\n",
       "  </thead>\n",
       "  <tbody>\n",
       "    <tr>\n",
       "      <th>default</th>\n",
       "      <td>Standard OpenFF torsiondrive specification.</td>\n",
       "    </tr>\n",
       "  </tbody>\n",
       "</table>\n",
       "</div>"
      ],
      "text/plain": [
       "                                         Description\n",
       "Name                                                \n",
       "default  Standard OpenFF torsiondrive specification."
      ]
     },
     "execution_count": 6,
     "metadata": {},
     "output_type": "execute_result"
    }
   ],
   "source": [
    "ds.list_specifications()"
   ]
  },
  {
   "cell_type": "code",
   "execution_count": 8,
   "metadata": {},
   "outputs": [
    {
     "data": {
      "text/plain": [
       "{}"
      ]
     },
     "execution_count": 8,
     "metadata": {},
     "output_type": "execute_result"
    }
   ],
   "source": [
    "res = get_unfinished_torsiondrive_optimizations(ds, 'default', client, merged=False)\n",
    "res"
   ]
  },
  {
   "cell_type": "code",
   "execution_count": 9,
   "metadata": {},
   "outputs": [
    {
     "data": {
      "text/html": [
       "<div>\n",
       "<style scoped>\n",
       "    .dataframe tbody tr th:only-of-type {\n",
       "        vertical-align: middle;\n",
       "    }\n",
       "\n",
       "    .dataframe tbody tr th {\n",
       "        vertical-align: top;\n",
       "    }\n",
       "\n",
       "    .dataframe thead th {\n",
       "        text-align: right;\n",
       "    }\n",
       "</style>\n",
       "<table border=\"1\" class=\"dataframe\">\n",
       "  <thead>\n",
       "    <tr style=\"text-align: right;\">\n",
       "      <th></th>\n",
       "      <th>default</th>\n",
       "    </tr>\n",
       "  </thead>\n",
       "  <tbody>\n",
       "    <tr>\n",
       "      <th>COMPLETE</th>\n",
       "      <td>156</td>\n",
       "    </tr>\n",
       "    <tr>\n",
       "      <th>ERROR</th>\n",
       "      <td>3</td>\n",
       "    </tr>\n",
       "  </tbody>\n",
       "</table>\n",
       "</div>"
      ],
      "text/plain": [
       "          default\n",
       "COMPLETE      156\n",
       "ERROR           3"
      ]
     },
     "execution_count": 9,
     "metadata": {},
     "output_type": "execute_result"
    }
   ],
   "source": [
    "ds.status(\"default\")"
   ]
  },
  {
   "cell_type": "code",
   "execution_count": 10,
   "metadata": {},
   "outputs": [],
   "source": [
    "resm = merge(res)"
   ]
  },
  {
   "cell_type": "code",
   "execution_count": 11,
   "metadata": {},
   "outputs": [],
   "source": [
    "incomplete = (opt.dict() for opt in resm if opt.status == 'INCOMPLETE')"
   ]
  },
  {
   "cell_type": "code",
   "execution_count": 13,
   "metadata": {},
   "outputs": [],
   "source": [
    "count_unique_optimization_error_messages(resm, full=True, pretty_print=True)"
   ]
  },
  {
   "cell_type": "code",
   "execution_count": 14,
   "metadata": {},
   "outputs": [],
   "source": [
    "restart_optimizations(resm, client)"
   ]
  },
  {
   "cell_type": "code",
   "execution_count": 15,
   "metadata": {},
   "outputs": [
    {
     "data": {
      "text/plain": [
       "[TorsionDriveRecord(id='3745388', status='ERROR'),\n",
       " TorsionDriveRecord(id='3745481', status='ERROR'),\n",
       " TorsionDriveRecord(id='3745569', status='ERROR')]"
      ]
     },
     "execution_count": 15,
     "metadata": {},
     "output_type": "execute_result"
    }
   ],
   "source": [
    "[tdr for tdr in ds.df.default if tdr.status == 'ERROR']"
   ]
  },
  {
   "cell_type": "code",
   "execution_count": 16,
   "metadata": {},
   "outputs": [
    {
     "name": "stdout",
     "output_type": "stream",
     "text": [
      "TorsionDriveRecord(id='3745388', status='ERROR')\n",
      "TorsionDriveRecord(id='3745481', status='ERROR')\n",
      "TorsionDriveRecord(id='3745569', status='ERROR')\n"
     ]
    }
   ],
   "source": [
    "restart_torsiondrives(ds.df.default.tolist(), client)"
   ]
  },
  {
   "cell_type": "markdown",
   "metadata": {},
   "source": [
    "### 2020.06.10 16:30"
   ]
  },
  {
   "cell_type": "code",
   "execution_count": 4,
   "metadata": {},
   "outputs": [],
   "source": [
    "dataset = \"OpenFF Substituted Phenyl Set 1\""
   ]
  },
  {
   "cell_type": "code",
   "execution_count": 5,
   "metadata": {},
   "outputs": [],
   "source": [
    "ds = client.get_collection(\"TorsionDriveDataset\", dataset)"
   ]
  },
  {
   "cell_type": "code",
   "execution_count": 6,
   "metadata": {},
   "outputs": [
    {
     "data": {
      "text/html": [
       "<div>\n",
       "<style scoped>\n",
       "    .dataframe tbody tr th:only-of-type {\n",
       "        vertical-align: middle;\n",
       "    }\n",
       "\n",
       "    .dataframe tbody tr th {\n",
       "        vertical-align: top;\n",
       "    }\n",
       "\n",
       "    .dataframe thead th {\n",
       "        text-align: right;\n",
       "    }\n",
       "</style>\n",
       "<table border=\"1\" class=\"dataframe\">\n",
       "  <thead>\n",
       "    <tr style=\"text-align: right;\">\n",
       "      <th></th>\n",
       "      <th>Description</th>\n",
       "    </tr>\n",
       "    <tr>\n",
       "      <th>Name</th>\n",
       "      <th></th>\n",
       "    </tr>\n",
       "  </thead>\n",
       "  <tbody>\n",
       "    <tr>\n",
       "      <th>default</th>\n",
       "      <td>Standard OpenFF torsiondrive specification.</td>\n",
       "    </tr>\n",
       "  </tbody>\n",
       "</table>\n",
       "</div>"
      ],
      "text/plain": [
       "                                         Description\n",
       "Name                                                \n",
       "default  Standard OpenFF torsiondrive specification."
      ]
     },
     "execution_count": 6,
     "metadata": {},
     "output_type": "execute_result"
    }
   ],
   "source": [
    "ds.list_specifications()"
   ]
  },
  {
   "cell_type": "code",
   "execution_count": 10,
   "metadata": {},
   "outputs": [
    {
     "data": {
      "text/plain": [
       "{'19953582': [OptimizationRecord(id='20174725', status='COMPLETE'),\n",
       "  OptimizationRecord(id='20175028', status='COMPLETE'),\n",
       "  OptimizationRecord(id='20175029', status='COMPLETE'),\n",
       "  OptimizationRecord(id='20294323', status='COMPLETE'),\n",
       "  OptimizationRecord(id='20294324', status='COMPLETE'),\n",
       "  OptimizationRecord(id='20294325', status='COMPLETE'),\n",
       "  OptimizationRecord(id='20294326', status='COMPLETE'),\n",
       "  OptimizationRecord(id='20330114', status='COMPLETE'),\n",
       "  OptimizationRecord(id='20330115', status='COMPLETE'),\n",
       "  OptimizationRecord(id='20330116', status='COMPLETE'),\n",
       "  OptimizationRecord(id='20330117', status='COMPLETE'),\n",
       "  OptimizationRecord(id='20344139', status='COMPLETE'),\n",
       "  OptimizationRecord(id='20344140', status='COMPLETE'),\n",
       "  OptimizationRecord(id='20344141', status='COMPLETE'),\n",
       "  OptimizationRecord(id='20344142', status='COMPLETE'),\n",
       "  OptimizationRecord(id='20519420', status='COMPLETE'),\n",
       "  OptimizationRecord(id='20519421', status='COMPLETE'),\n",
       "  OptimizationRecord(id='20519422', status='COMPLETE'),\n",
       "  OptimizationRecord(id='20519423', status='COMPLETE'),\n",
       "  OptimizationRecord(id='20528122', status='COMPLETE'),\n",
       "  OptimizationRecord(id='20528148', status='COMPLETE'),\n",
       "  OptimizationRecord(id='20528149', status='COMPLETE'),\n",
       "  OptimizationRecord(id='20528150', status='COMPLETE'),\n",
       "  OptimizationRecord(id='20541376', status='COMPLETE'),\n",
       "  OptimizationRecord(id='20541377', status='COMPLETE'),\n",
       "  OptimizationRecord(id='20541378', status='COMPLETE'),\n",
       "  OptimizationRecord(id='20541379', status='COMPLETE'),\n",
       "  OptimizationRecord(id='20549645', status='COMPLETE'),\n",
       "  OptimizationRecord(id='20549646', status='COMPLETE'),\n",
       "  OptimizationRecord(id='20549647', status='COMPLETE'),\n",
       "  OptimizationRecord(id='20549648', status='COMPLETE'),\n",
       "  OptimizationRecord(id='20561993', status='COMPLETE'),\n",
       "  OptimizationRecord(id='20561994', status='COMPLETE'),\n",
       "  OptimizationRecord(id='20561995', status='COMPLETE'),\n",
       "  OptimizationRecord(id='20561996', status='COMPLETE'),\n",
       "  OptimizationRecord(id='20577519', status='COMPLETE'),\n",
       "  OptimizationRecord(id='20577520', status='COMPLETE'),\n",
       "  OptimizationRecord(id='20577521', status='COMPLETE'),\n",
       "  OptimizationRecord(id='20577522', status='COMPLETE'),\n",
       "  OptimizationRecord(id='20580368', status='COMPLETE'),\n",
       "  OptimizationRecord(id='20580369', status='COMPLETE'),\n",
       "  OptimizationRecord(id='20580370', status='COMPLETE'),\n",
       "  OptimizationRecord(id='20580371', status='COMPLETE'),\n",
       "  OptimizationRecord(id='20614210', status='COMPLETE'),\n",
       "  OptimizationRecord(id='20614230', status='COMPLETE'),\n",
       "  OptimizationRecord(id='20614231', status='COMPLETE'),\n",
       "  OptimizationRecord(id='20614232', status='COMPLETE'),\n",
       "  OptimizationRecord(id='20634721', status='COMPLETE'),\n",
       "  OptimizationRecord(id='20634722', status='COMPLETE')]}"
      ]
     },
     "execution_count": 10,
     "metadata": {},
     "output_type": "execute_result"
    }
   ],
   "source": [
    "res = get_incomplete_torsiondrive_optimizations(ds, 'default', client, merged=False)\n",
    "res"
   ]
  },
  {
   "cell_type": "code",
   "execution_count": 11,
   "metadata": {},
   "outputs": [
    {
     "data": {
      "text/html": [
       "<div>\n",
       "<style scoped>\n",
       "    .dataframe tbody tr th:only-of-type {\n",
       "        vertical-align: middle;\n",
       "    }\n",
       "\n",
       "    .dataframe tbody tr th {\n",
       "        vertical-align: top;\n",
       "    }\n",
       "\n",
       "    .dataframe thead th {\n",
       "        text-align: right;\n",
       "    }\n",
       "</style>\n",
       "<table border=\"1\" class=\"dataframe\">\n",
       "  <thead>\n",
       "    <tr style=\"text-align: right;\">\n",
       "      <th></th>\n",
       "      <th>default</th>\n",
       "    </tr>\n",
       "  </thead>\n",
       "  <tbody>\n",
       "    <tr>\n",
       "      <th>COMPLETE</th>\n",
       "      <td>155</td>\n",
       "    </tr>\n",
       "    <tr>\n",
       "      <th>ERROR</th>\n",
       "      <td>4</td>\n",
       "    </tr>\n",
       "  </tbody>\n",
       "</table>\n",
       "</div>"
      ],
      "text/plain": [
       "          default\n",
       "COMPLETE      155\n",
       "ERROR           4"
      ]
     },
     "execution_count": 11,
     "metadata": {},
     "output_type": "execute_result"
    }
   ],
   "source": [
    "ds.status(\"default\")"
   ]
  },
  {
   "cell_type": "code",
   "execution_count": 23,
   "metadata": {},
   "outputs": [
    {
     "data": {
      "text/plain": [
       "[TorsionDriveRecord(id='3745388', status='ERROR'),\n",
       " TorsionDriveRecord(id='3745481', status='ERROR'),\n",
       " TorsionDriveRecord(id='3745569', status='ERROR')]"
      ]
     },
     "execution_count": 23,
     "metadata": {},
     "output_type": "execute_result"
    }
   ],
   "source": [
    "[ts for ts in ds.df.default if ts.status != 'COMPLETE']"
   ]
  },
  {
   "cell_type": "code",
   "execution_count": 15,
   "metadata": {},
   "outputs": [
    {
     "data": {
      "text/plain": [
       "Data(n_updated=1)"
      ]
     },
     "execution_count": 15,
     "metadata": {},
     "output_type": "execute_result"
    }
   ],
   "source": [
    "client.modify_services('restart', procedure_id='19953582')"
   ]
  },
  {
   "cell_type": "code",
   "execution_count": 24,
   "metadata": {},
   "outputs": [
    {
     "data": {
      "text/plain": [
       "Data(n_updated=1)"
      ]
     },
     "execution_count": 24,
     "metadata": {},
     "output_type": "execute_result"
    }
   ],
   "source": [
    "client.modify_services('restart', procedure_id='3745388')"
   ]
  },
  {
   "cell_type": "code",
   "execution_count": 25,
   "metadata": {},
   "outputs": [
    {
     "data": {
      "text/plain": [
       "Data(n_updated=1)"
      ]
     },
     "execution_count": 25,
     "metadata": {},
     "output_type": "execute_result"
    }
   ],
   "source": [
    "client.modify_services('restart', procedure_id='3745481')"
   ]
  },
  {
   "cell_type": "code",
   "execution_count": 26,
   "metadata": {},
   "outputs": [
    {
     "data": {
      "text/plain": [
       "Data(n_updated=1)"
      ]
     },
     "execution_count": 26,
     "metadata": {},
     "output_type": "execute_result"
    }
   ],
   "source": [
    "client.modify_services('restart', procedure_id='3745569')"
   ]
  },
  {
   "cell_type": "code",
   "execution_count": 27,
   "metadata": {},
   "outputs": [],
   "source": [
    "ds = client.get_collection(\"TorsionDriveDataset\", dataset)"
   ]
  },
  {
   "cell_type": "code",
   "execution_count": 30,
   "metadata": {},
   "outputs": [
    {
     "data": {
      "text/html": [
       "<div>\n",
       "<style scoped>\n",
       "    .dataframe tbody tr th:only-of-type {\n",
       "        vertical-align: middle;\n",
       "    }\n",
       "\n",
       "    .dataframe tbody tr th {\n",
       "        vertical-align: top;\n",
       "    }\n",
       "\n",
       "    .dataframe thead th {\n",
       "        text-align: right;\n",
       "    }\n",
       "</style>\n",
       "<table border=\"1\" class=\"dataframe\">\n",
       "  <thead>\n",
       "    <tr style=\"text-align: right;\">\n",
       "      <th></th>\n",
       "      <th>default</th>\n",
       "    </tr>\n",
       "  </thead>\n",
       "  <tbody>\n",
       "    <tr>\n",
       "      <th>COMPLETE</th>\n",
       "      <td>156</td>\n",
       "    </tr>\n",
       "    <tr>\n",
       "      <th>RUNNING</th>\n",
       "      <td>3</td>\n",
       "    </tr>\n",
       "  </tbody>\n",
       "</table>\n",
       "</div>"
      ],
      "text/plain": [
       "          default\n",
       "COMPLETE      156\n",
       "RUNNING         3"
      ]
     },
     "execution_count": 30,
     "metadata": {},
     "output_type": "execute_result"
    }
   ],
   "source": [
    "ds.status(\"default\")"
   ]
  },
  {
   "cell_type": "code",
   "execution_count": 32,
   "metadata": {},
   "outputs": [
    {
     "data": {
      "text/plain": [
       "{}"
      ]
     },
     "execution_count": 32,
     "metadata": {},
     "output_type": "execute_result"
    }
   ],
   "source": [
    "res = get_incomplete_torsiondrive_optimizations(ds, 'default', client, merged=False)\n",
    "res"
   ]
  },
  {
   "cell_type": "markdown",
   "metadata": {},
   "source": [
    "## Archived"
   ]
  },
  {
   "cell_type": "code",
   "execution_count": 12,
   "metadata": {},
   "outputs": [
    {
     "data": {
      "text/html": [
       "<div>\n",
       "<style scoped>\n",
       "    .dataframe tbody tr th:only-of-type {\n",
       "        vertical-align: middle;\n",
       "    }\n",
       "\n",
       "    .dataframe tbody tr th {\n",
       "        vertical-align: top;\n",
       "    }\n",
       "\n",
       "    .dataframe thead th {\n",
       "        text-align: right;\n",
       "    }\n",
       "</style>\n",
       "<table border=\"1\" class=\"dataframe\">\n",
       "  <thead>\n",
       "    <tr style=\"text-align: right;\">\n",
       "      <th></th>\n",
       "      <th>default</th>\n",
       "    </tr>\n",
       "  </thead>\n",
       "  <tbody>\n",
       "    <tr>\n",
       "      <th>CCC(=O)Nc1[cH:1][c:2](ccn1)[NH:3][CH2:4]C</th>\n",
       "      <td>TorsionDriveRecord(id='3745357', status='COMPL...</td>\n",
       "    </tr>\n",
       "    <tr>\n",
       "      <th>CCCNc1cc[c:2]([cH:1]n1)[N:3](C)[CH3:4]</th>\n",
       "      <td>TorsionDriveRecord(id='3745358', status='COMPL...</td>\n",
       "    </tr>\n",
       "    <tr>\n",
       "      <th>CCCNc1cc[c:2]([cH:1]n1)[O:3][CH2:4]C</th>\n",
       "      <td>TorsionDriveRecord(id='3745359', status='COMPL...</td>\n",
       "    </tr>\n",
       "    <tr>\n",
       "      <th>CCCNc1ccc[c:2]([cH:1]1)[N:3]([CH3:4])C</th>\n",
       "      <td>TorsionDriveRecord(id='3745360', status='COMPL...</td>\n",
       "    </tr>\n",
       "    <tr>\n",
       "      <th>CCCNc1ccc[c:2]([cH:1]1)[NH:3][CH3:4]</th>\n",
       "      <td>TorsionDriveRecord(id='3745361', status='COMPL...</td>\n",
       "    </tr>\n",
       "    <tr>\n",
       "      <th>...</th>\n",
       "      <td>...</td>\n",
       "    </tr>\n",
       "    <tr>\n",
       "      <th>c1[cH:1][c:2](c(cc1O)Cl)[c:4]2[cH:3]c[nH+]cc2</th>\n",
       "      <td>TorsionDriveRecord(id='19953579', status='COMP...</td>\n",
       "    </tr>\n",
       "    <tr>\n",
       "      <th>c1[cH:1][c:2](c(cc1O)Cl)[c:4]2[cH:3]cncc2</th>\n",
       "      <td>TorsionDriveRecord(id='19953580', status='COMP...</td>\n",
       "    </tr>\n",
       "    <tr>\n",
       "      <th>c1[cH:1][c:2](c(cc1[O-])Cl)[c:4]2[cH:3]c[nH+]cc2</th>\n",
       "      <td>TorsionDriveRecord(id='19953581', status='COMP...</td>\n",
       "    </tr>\n",
       "    <tr>\n",
       "      <th>c1[cH:1][c:2](c(cc1[O-])Cl)[c:4]2[cH:3]cncc2</th>\n",
       "      <td>TorsionDriveRecord(id='19953582', status='ERROR')</td>\n",
       "    </tr>\n",
       "    <tr>\n",
       "      <th>c1ccc([c:2]([cH:1]1)[c:3]2[cH:4]cncc2)Cl</th>\n",
       "      <td>TorsionDriveRecord(id='19953583', status='COMP...</td>\n",
       "    </tr>\n",
       "  </tbody>\n",
       "</table>\n",
       "<p>159 rows × 1 columns</p>\n",
       "</div>"
      ],
      "text/plain": [
       "                                                                                            default\n",
       "CCC(=O)Nc1[cH:1][c:2](ccn1)[NH:3][CH2:4]C         TorsionDriveRecord(id='3745357', status='COMPL...\n",
       "CCCNc1cc[c:2]([cH:1]n1)[N:3](C)[CH3:4]            TorsionDriveRecord(id='3745358', status='COMPL...\n",
       "CCCNc1cc[c:2]([cH:1]n1)[O:3][CH2:4]C              TorsionDriveRecord(id='3745359', status='COMPL...\n",
       "CCCNc1ccc[c:2]([cH:1]1)[N:3]([CH3:4])C            TorsionDriveRecord(id='3745360', status='COMPL...\n",
       "CCCNc1ccc[c:2]([cH:1]1)[NH:3][CH3:4]              TorsionDriveRecord(id='3745361', status='COMPL...\n",
       "...                                                                                             ...\n",
       "c1[cH:1][c:2](c(cc1O)Cl)[c:4]2[cH:3]c[nH+]cc2     TorsionDriveRecord(id='19953579', status='COMP...\n",
       "c1[cH:1][c:2](c(cc1O)Cl)[c:4]2[cH:3]cncc2         TorsionDriveRecord(id='19953580', status='COMP...\n",
       "c1[cH:1][c:2](c(cc1[O-])Cl)[c:4]2[cH:3]c[nH+]cc2  TorsionDriveRecord(id='19953581', status='COMP...\n",
       "c1[cH:1][c:2](c(cc1[O-])Cl)[c:4]2[cH:3]cncc2      TorsionDriveRecord(id='19953582', status='ERROR')\n",
       "c1ccc([c:2]([cH:1]1)[c:3]2[cH:4]cncc2)Cl          TorsionDriveRecord(id='19953583', status='COMP...\n",
       "\n",
       "[159 rows x 1 columns]"
      ]
     },
     "execution_count": 12,
     "metadata": {},
     "output_type": "execute_result"
    }
   ],
   "source": [
    "ds.df"
   ]
  },
  {
   "cell_type": "code",
   "execution_count": 54,
   "metadata": {},
   "outputs": [
    {
     "data": {
      "text/plain": [
       "[TorsionDriveRecord(id='3745388', status='ERROR'),\n",
       " TorsionDriveRecord(id='3745481', status='ERROR'),\n",
       " TorsionDriveRecord(id='3745569', status='ERROR'),\n",
       " TorsionDriveRecord(id='19953582', status='ERROR')]"
      ]
     },
     "execution_count": 54,
     "metadata": {},
     "output_type": "execute_result"
    }
   ],
   "source": [
    "[i for i in ds.df.default if i.status == 'ERROR']"
   ]
  },
  {
   "cell_type": "code",
   "execution_count": 55,
   "metadata": {},
   "outputs": [],
   "source": [
    "ids = set(i.id for i in ds.df.default)"
   ]
  },
  {
   "cell_type": "code",
   "execution_count": 56,
   "metadata": {},
   "outputs": [],
   "source": [
    "res = client.query_procedures(ids)"
   ]
  },
  {
   "cell_type": "code",
   "execution_count": 57,
   "metadata": {},
   "outputs": [],
   "source": [
    "from collections import defaultdict"
   ]
  },
  {
   "cell_type": "code",
   "execution_count": 58,
   "metadata": {},
   "outputs": [],
   "source": [
    "angle_optimizations = defaultdict(set)\n",
    "for tdr in ds.df.default:\n",
    "    if tdr.status == 'COMPLETE':\n",
    "        continue\n",
    "        \n",
    "    for val in tdr.optimization_history.values():\n",
    "        angle_optimizations[tdr.id].update(set(val))"
   ]
  },
  {
   "cell_type": "code",
   "execution_count": 59,
   "metadata": {},
   "outputs": [
    {
     "data": {
      "text/plain": [
       "defaultdict(set,\n",
       "            {'19953582': {'20174725',\n",
       "              '20175028',\n",
       "              '20175029',\n",
       "              '20294323',\n",
       "              '20294324',\n",
       "              '20294325',\n",
       "              '20294326',\n",
       "              '20330114',\n",
       "              '20330115',\n",
       "              '20330116',\n",
       "              '20330117',\n",
       "              '20344139',\n",
       "              '20344140',\n",
       "              '20344141',\n",
       "              '20344142',\n",
       "              '20519420',\n",
       "              '20519421',\n",
       "              '20519422',\n",
       "              '20519423',\n",
       "              '20528122',\n",
       "              '20528148',\n",
       "              '20528149',\n",
       "              '20528150',\n",
       "              '20541376',\n",
       "              '20541377',\n",
       "              '20541378',\n",
       "              '20541379',\n",
       "              '20549645',\n",
       "              '20549646',\n",
       "              '20549647',\n",
       "              '20549648',\n",
       "              '20561993',\n",
       "              '20561994',\n",
       "              '20561995',\n",
       "              '20561996',\n",
       "              '20577519',\n",
       "              '20577520',\n",
       "              '20577521',\n",
       "              '20577522',\n",
       "              '20580368',\n",
       "              '20580369',\n",
       "              '20580370',\n",
       "              '20580371',\n",
       "              '20614210',\n",
       "              '20614230',\n",
       "              '20614231',\n",
       "              '20614232',\n",
       "              '20634721',\n",
       "              '20634722'}})"
      ]
     },
     "execution_count": 59,
     "metadata": {},
     "output_type": "execute_result"
    }
   ],
   "source": [
    "angle_optimizations"
   ]
  },
  {
   "cell_type": "code",
   "execution_count": 56,
   "metadata": {},
   "outputs": [
    {
     "data": {
      "text/plain": [
       "Data(n_updated=0)"
      ]
     },
     "execution_count": 56,
     "metadata": {},
     "output_type": "execute_result"
    }
   ],
   "source": [
    "client.modify_tasks(operation='restart', base_result='20576181')"
   ]
  },
  {
   "cell_type": "code",
   "execution_count": 60,
   "metadata": {},
   "outputs": [
    {
     "data": {
      "text/plain": [
       "{'20174725',\n",
       " '20175028',\n",
       " '20175029',\n",
       " '20294323',\n",
       " '20294324',\n",
       " '20294325',\n",
       " '20294326',\n",
       " '20330114',\n",
       " '20330115',\n",
       " '20330116',\n",
       " '20330117',\n",
       " '20344139',\n",
       " '20344140',\n",
       " '20344141',\n",
       " '20344142',\n",
       " '20519420',\n",
       " '20519421',\n",
       " '20519422',\n",
       " '20519423',\n",
       " '20528122',\n",
       " '20528148',\n",
       " '20528149',\n",
       " '20528150',\n",
       " '20541376',\n",
       " '20541377',\n",
       " '20541378',\n",
       " '20541379',\n",
       " '20549645',\n",
       " '20549646',\n",
       " '20549647',\n",
       " '20549648',\n",
       " '20561993',\n",
       " '20561994',\n",
       " '20561995',\n",
       " '20561996',\n",
       " '20577519',\n",
       " '20577520',\n",
       " '20577521',\n",
       " '20577522',\n",
       " '20580368',\n",
       " '20580369',\n",
       " '20580370',\n",
       " '20580371',\n",
       " '20614210',\n",
       " '20614230',\n",
       " '20614231',\n",
       " '20614232',\n",
       " '20634721',\n",
       " '20634722'}"
      ]
     },
     "execution_count": 60,
     "metadata": {},
     "output_type": "execute_result"
    }
   ],
   "source": [
    "angle_optimizations_i = set()\n",
    "\n",
    "for i in angle_optimizations.values():\n",
    "    angle_optimizations_i.update(set(i))\n",
    "    \n",
    "angle_optimizations_i"
   ]
  },
  {
   "cell_type": "code",
   "execution_count": 61,
   "metadata": {},
   "outputs": [
    {
     "data": {
      "text/plain": [
       "49"
      ]
     },
     "execution_count": 61,
     "metadata": {},
     "output_type": "execute_result"
    }
   ],
   "source": [
    "len(angle_optimizations_i)"
   ]
  },
  {
   "cell_type": "code",
   "execution_count": 62,
   "metadata": {},
   "outputs": [],
   "source": [
    "res_angle_opt = client.query_procedures(angle_optimizations_i)"
   ]
  },
  {
   "cell_type": "code",
   "execution_count": 63,
   "metadata": {},
   "outputs": [
    {
     "data": {
      "text/plain": [
       "[OptimizationRecord(id='20174725', status='COMPLETE'),\n",
       " OptimizationRecord(id='20175028', status='COMPLETE'),\n",
       " OptimizationRecord(id='20175029', status='COMPLETE'),\n",
       " OptimizationRecord(id='20294323', status='COMPLETE'),\n",
       " OptimizationRecord(id='20294324', status='COMPLETE'),\n",
       " OptimizationRecord(id='20294325', status='COMPLETE'),\n",
       " OptimizationRecord(id='20294326', status='COMPLETE'),\n",
       " OptimizationRecord(id='20330114', status='COMPLETE'),\n",
       " OptimizationRecord(id='20330115', status='COMPLETE'),\n",
       " OptimizationRecord(id='20330116', status='COMPLETE'),\n",
       " OptimizationRecord(id='20330117', status='COMPLETE'),\n",
       " OptimizationRecord(id='20344139', status='COMPLETE'),\n",
       " OptimizationRecord(id='20344140', status='COMPLETE'),\n",
       " OptimizationRecord(id='20344141', status='COMPLETE'),\n",
       " OptimizationRecord(id='20344142', status='COMPLETE'),\n",
       " OptimizationRecord(id='20519420', status='COMPLETE'),\n",
       " OptimizationRecord(id='20519421', status='COMPLETE'),\n",
       " OptimizationRecord(id='20519422', status='COMPLETE'),\n",
       " OptimizationRecord(id='20519423', status='COMPLETE'),\n",
       " OptimizationRecord(id='20528122', status='COMPLETE'),\n",
       " OptimizationRecord(id='20528148', status='COMPLETE'),\n",
       " OptimizationRecord(id='20528149', status='COMPLETE'),\n",
       " OptimizationRecord(id='20528150', status='COMPLETE'),\n",
       " OptimizationRecord(id='20541376', status='COMPLETE'),\n",
       " OptimizationRecord(id='20541377', status='COMPLETE'),\n",
       " OptimizationRecord(id='20541378', status='COMPLETE'),\n",
       " OptimizationRecord(id='20541379', status='COMPLETE'),\n",
       " OptimizationRecord(id='20549645', status='COMPLETE'),\n",
       " OptimizationRecord(id='20549646', status='COMPLETE'),\n",
       " OptimizationRecord(id='20549647', status='COMPLETE'),\n",
       " OptimizationRecord(id='20549648', status='COMPLETE'),\n",
       " OptimizationRecord(id='20561993', status='COMPLETE'),\n",
       " OptimizationRecord(id='20561994', status='COMPLETE'),\n",
       " OptimizationRecord(id='20561995', status='COMPLETE'),\n",
       " OptimizationRecord(id='20561996', status='COMPLETE'),\n",
       " OptimizationRecord(id='20577519', status='COMPLETE'),\n",
       " OptimizationRecord(id='20577520', status='COMPLETE'),\n",
       " OptimizationRecord(id='20577521', status='COMPLETE'),\n",
       " OptimizationRecord(id='20577522', status='COMPLETE'),\n",
       " OptimizationRecord(id='20580368', status='COMPLETE'),\n",
       " OptimizationRecord(id='20580369', status='COMPLETE'),\n",
       " OptimizationRecord(id='20580370', status='COMPLETE'),\n",
       " OptimizationRecord(id='20580371', status='COMPLETE'),\n",
       " OptimizationRecord(id='20614210', status='COMPLETE'),\n",
       " OptimizationRecord(id='20614230', status='COMPLETE'),\n",
       " OptimizationRecord(id='20614231', status='COMPLETE'),\n",
       " OptimizationRecord(id='20614232', status='COMPLETE'),\n",
       " OptimizationRecord(id='20634721', status='INCOMPLETE'),\n",
       " OptimizationRecord(id='20634722', status='INCOMPLETE')]"
      ]
     },
     "execution_count": 63,
     "metadata": {},
     "output_type": "execute_result"
    }
   ],
   "source": [
    "res_angle_opt"
   ]
  },
  {
   "cell_type": "code",
   "execution_count": 64,
   "metadata": {},
   "outputs": [],
   "source": [
    "review = ((i, i.get_error().error_message) for i in res_angle_opt if i.status == 'ERROR')"
   ]
  },
  {
   "cell_type": "code",
   "execution_count": 41,
   "metadata": {},
   "outputs": [
    {
     "name": "stdout",
     "output_type": "stream",
     "text": [
      "(OptimizationRecord(id='20634722', status='ERROR'), 'Caught Executor Error:\\nTraceback (most recent call last):\\n  File \"/opt/conda/envs/qcfractal/lib/python3.6/site-packages/qcfractal/queue/executor_adapter.py\", line 15, in _get_future\\n    return future.result()\\n  File \"/opt/conda/envs/qcfractal/lib/python3.6/concurrent/futures/_base.py\", line 425, in result\\n    return self.__get_result()\\n  File \"/opt/conda/envs/qcfractal/lib/python3.6/concurrent/futures/_base.py\", line 384, in __get_result\\n    raise self._exception\\nconcurrent.futures.process.BrokenProcessPool: A process in the process pool was terminated abruptly while the future was running or pending.\\n')\n"
     ]
    }
   ],
   "source": [
    "print(next(review))"
   ]
  },
  {
   "cell_type": "code",
   "execution_count": 40,
   "metadata": {},
   "outputs": [
    {
     "data": {
      "text/plain": [
       "Data(n_updated=1)"
      ]
     },
     "execution_count": 40,
     "metadata": {},
     "output_type": "execute_result"
    }
   ],
   "source": [
    "client.modify_tasks(operation='restart', base_result='20634721')"
   ]
  },
  {
   "cell_type": "code",
   "execution_count": 42,
   "metadata": {},
   "outputs": [
    {
     "data": {
      "text/plain": [
       "Data(n_updated=1)"
      ]
     },
     "execution_count": 42,
     "metadata": {},
     "output_type": "execute_result"
    }
   ],
   "source": [
    "client.modify_tasks(operation='restart', base_result='20634722')"
   ]
  },
  {
   "cell_type": "markdown",
   "metadata": {},
   "source": [
    "Why are there only 2 failures? Don't we see 4 errors at the top level? Not what I would expect, but I could be thinking about this wrong?\n",
    "\n",
    "Only one of the torsion drive ids (`19953582`) shows up in our iteration with `optimaization_history` values. Do the others not?"
   ]
  },
  {
   "cell_type": "code",
   "execution_count": 27,
   "metadata": {},
   "outputs": [
    {
     "name": "stdout",
     "output_type": "stream",
     "text": [
      "{}\n",
      "{}\n",
      "{}\n",
      "{'[-90]': ['20174725', '20294324', '20294325'], '[-105]': ['20175028', '20330115'], '[-75]': ['20175029', '20330116'], '[-120]': ['20294323', '20344140'], '[-60]': ['20294326', '20344141'], '[-135]': ['20330114', '20519421'], '[-45]': ['20330117', '20519422'], '[-150]': ['20344139', '20528122'], '[-30]': ['20344142', '20528148'], '[-165]': ['20519420', '20541376'], '[-15]': ['20519423', '20541377'], '[0]': ['20528149', '20549645'], '[180]': ['20528150', '20549648'], '[15]': ['20541378', '20561993'], '[165]': ['20541379', '20561996'], '[30]': ['20549646', '20577519'], '[150]': ['20549647', '20577522'], '[45]': ['20561994', '20580368'], '[135]': ['20561995', '20580371'], '[60]': ['20577520', '20614210'], '[120]': ['20577521', '20614232'], '[75]': ['20580369', '20634721'], '[105]': ['20580370', '20634722'], '[90]': ['20614230', '20614231']}\n"
     ]
    }
   ],
   "source": [
    "for i in ds.df.default:\n",
    "    if i.status == 'ERROR':\n",
    "        print(i.optimization_history)"
   ]
  },
  {
   "cell_type": "markdown",
   "metadata": {},
   "source": [
    "Guess some of these had no optimizations assigned? Need to check the original PR if this was noted."
   ]
  },
  {
   "cell_type": "code",
   "execution_count": 62,
   "metadata": {},
   "outputs": [],
   "source": [
    "failed = tuple(i.id for i in res_angle_opt if i.status == 'ERROR')"
   ]
  },
  {
   "cell_type": "code",
   "execution_count": 63,
   "metadata": {},
   "outputs": [
    {
     "data": {
      "text/plain": [
       "('20634721', '20634722')"
      ]
     },
     "execution_count": 63,
     "metadata": {},
     "output_type": "execute_result"
    }
   ],
   "source": [
    "failed"
   ]
  },
  {
   "cell_type": "code",
   "execution_count": 64,
   "metadata": {},
   "outputs": [
    {
     "name": "stdout",
     "output_type": "stream",
     "text": [
      "[75]\n",
      "[105]\n"
     ]
    }
   ],
   "source": [
    "for i in ds.df.default:\n",
    "    if i.status == 'ERROR':\n",
    "        \n",
    "        for key, value in i.optimization_history.items():\n",
    "            for f in failed:\n",
    "                if f in value:\n",
    "                    print(key)"
   ]
  },
  {
   "cell_type": "markdown",
   "metadata": {},
   "source": [
    "Two angles failed it appears."
   ]
  },
  {
   "cell_type": "markdown",
   "metadata": {},
   "source": [
    "Restart again?"
   ]
  },
  {
   "cell_type": "code",
   "execution_count": 66,
   "metadata": {},
   "outputs": [
    {
     "data": {
      "text/plain": [
       "dict_keys(['19953582'])"
      ]
     },
     "execution_count": 66,
     "metadata": {},
     "output_type": "execute_result"
    }
   ],
   "source": [
    "angle_optimizations.keys()"
   ]
  },
  {
   "cell_type": "code",
   "execution_count": 68,
   "metadata": {},
   "outputs": [],
   "source": [
    "for tdrid in angle_optimizations.keys():\n",
    "    client.modify_services(operation='restart', procedure_id=tdrid)"
   ]
  },
  {
   "cell_type": "code",
   "execution_count": 76,
   "metadata": {},
   "outputs": [
    {
     "data": {
      "text/html": [
       "<div>\n",
       "<style scoped>\n",
       "    .dataframe tbody tr th:only-of-type {\n",
       "        vertical-align: middle;\n",
       "    }\n",
       "\n",
       "    .dataframe tbody tr th {\n",
       "        vertical-align: top;\n",
       "    }\n",
       "\n",
       "    .dataframe thead th {\n",
       "        text-align: right;\n",
       "    }\n",
       "</style>\n",
       "<table border=\"1\" class=\"dataframe\">\n",
       "  <thead>\n",
       "    <tr style=\"text-align: right;\">\n",
       "      <th></th>\n",
       "      <th>default</th>\n",
       "    </tr>\n",
       "  </thead>\n",
       "  <tbody>\n",
       "    <tr>\n",
       "      <th>COMPLETE</th>\n",
       "      <td>155</td>\n",
       "    </tr>\n",
       "    <tr>\n",
       "      <th>ERROR</th>\n",
       "      <td>4</td>\n",
       "    </tr>\n",
       "  </tbody>\n",
       "</table>\n",
       "</div>"
      ],
      "text/plain": [
       "          default\n",
       "COMPLETE      155\n",
       "ERROR           4"
      ]
     },
     "execution_count": 76,
     "metadata": {},
     "output_type": "execute_result"
    }
   ],
   "source": [
    "ds.status('default')"
   ]
  },
  {
   "cell_type": "markdown",
   "metadata": {},
   "source": [
    "## Problem cases (2020.05.27)"
   ]
  },
  {
   "cell_type": "markdown",
   "metadata": {},
   "source": [
    "From the 'OpenFF Substituted Phenyl Set 1' : job index `c1[cH:1]c:2[c:4]2[cH:3]cncc2` , job id:\n",
    "\n",
    "```\n",
    "TorsionDriveRecord(id='19953582', status='ERROR') . Two optimizations failed with the following Error messages: ComputeError(error_type='BrokenProcessPool', error_message='Caught Executor Error:\\nTraceback (most recent call last):\\n  File \"/opt/conda/envs/qcfractal/lib/python3.6/site-packages/qcfractal/queue/executor_adapter.py\", line 15, in _get_future\\n    return future.result()\\n  File \"/opt/conda/envs/qcfractal/lib/python3.6/concurrent/futures/_base.py\", line 425, in result\\n    return self.__get_result()\\n  File \"/opt/conda/envs/qcfractal/lib/python3.6/concurrent/futures/_base.py\", line 384, in __get_result\\n    raise self._exception\\nconcurrent.futures.process.BrokenProcessPool: A process in the process pool was terminated abruptly while the future was running or pending.\\n')\n",
    "```"
   ]
  },
  {
   "cell_type": "code",
   "execution_count": 10,
   "metadata": {},
   "outputs": [
    {
     "data": {
      "text/plain": [
       "[TorsionDriveRecord(id='3745388', status='ERROR'),\n",
       " TorsionDriveRecord(id='3745481', status='ERROR'),\n",
       " TorsionDriveRecord(id='3745569', status='ERROR'),\n",
       " TorsionDriveRecord(id='19953582', status='ERROR')]"
      ]
     },
     "execution_count": 10,
     "metadata": {},
     "output_type": "execute_result"
    }
   ],
   "source": [
    "erred = [i for i in ds.df.default.values if i.status == 'ERROR']\n",
    "erred"
   ]
  },
  {
   "cell_type": "markdown",
   "metadata": {},
   "source": [
    "Start with the last one:"
   ]
  },
  {
   "cell_type": "code",
   "execution_count": 11,
   "metadata": {},
   "outputs": [
    {
     "data": {
      "text/plain": [
       "TorsionDriveRecord(id='19953582', status='ERROR')"
      ]
     },
     "execution_count": 11,
     "metadata": {},
     "output_type": "execute_result"
    }
   ],
   "source": [
    "tdr = erred[-1]\n",
    "tdr"
   ]
  },
  {
   "cell_type": "code",
   "execution_count": 31,
   "metadata": {},
   "outputs": [
    {
     "name": "stderr",
     "output_type": "stream",
     "text": [
      "<ipython-input-31-f065da984fd2>:1: DeprecationWarning: `fields` attribute is deprecated, use `__fields__` instead\n",
      "  tdr.fields\n"
     ]
    },
    {
     "data": {
      "text/plain": [
       "{'client': ModelField(name='client', type=Optional[Any], required=False, default=None),\n",
       " 'cache': ModelField(name='cache', type=Mapping[str, Any], required=False, default={}),\n",
       " 'id': ModelField(name='id', type=Optional[ObjectId], required=False, default=None),\n",
       " 'hash_index': ModelField(name='hash_index', type=Optional[str], required=False, default=None),\n",
       " 'procedure': ModelField(name='procedure', type=ConstrainedStrValue, required=False, default='torsiondrive'),\n",
       " 'program': ModelField(name='program', type=ConstrainedStrValue, required=False, default='torsiondrive'),\n",
       " 'version': ModelField(name='version', type=int, required=False, default=1),\n",
       " 'protocols': ModelField(name='protocols', type=Optional[Mapping[str, Any]], required=False, default=None),\n",
       " 'extras': ModelField(name='extras', type=Mapping[str, Any], required=False, default={}),\n",
       " 'stdout': ModelField(name='stdout', type=Optional[ObjectId], required=False, default=None),\n",
       " 'stderr': ModelField(name='stderr', type=Optional[ObjectId], required=False, default=None),\n",
       " 'error': ModelField(name='error', type=Optional[ObjectId], required=False, default=None),\n",
       " 'task_id': ModelField(name='task_id', type=Optional[ObjectId], required=False, default=None),\n",
       " 'manager_name': ModelField(name='manager_name', type=Optional[str], required=False, default=None),\n",
       " 'status': ModelField(name='status', type=str, required=False, default=<RecordStatusEnum.incomplete: 'INCOMPLETE'>),\n",
       " 'modified_on': ModelField(name='modified_on', type=Optional[datetime], required=False, default=None),\n",
       " 'created_on': ModelField(name='created_on', type=Optional[datetime], required=False, default=None),\n",
       " 'provenance': ModelField(name='provenance', type=Optional[Provenance], required=False, default=None),\n",
       " 'initial_molecule': ModelField(name='initial_molecule', type=List[ObjectId], required=True),\n",
       " 'keywords': ModelField(name='keywords', type=TDKeywords, required=True),\n",
       " 'optimization_spec': ModelField(name='optimization_spec', type=OptimizationSpecification, required=True),\n",
       " 'qc_spec': ModelField(name='qc_spec', type=QCSpecification, required=True),\n",
       " 'final_energy_dict': ModelField(name='final_energy_dict', type=Mapping[str, float], required=True),\n",
       " 'optimization_history': ModelField(name='optimization_history', type=Mapping[str, List[qcportal.models.common_models.ObjectId]], required=True),\n",
       " 'minimum_positions': ModelField(name='minimum_positions', type=Mapping[str, int], required=True)}"
      ]
     },
     "execution_count": 31,
     "metadata": {},
     "output_type": "execute_result"
    }
   ],
   "source": [
    "tdr.fields"
   ]
  },
  {
   "cell_type": "code",
   "execution_count": 16,
   "metadata": {},
   "outputs": [],
   "source": [
    "tdr.get_stdout()"
   ]
  },
  {
   "cell_type": "code",
   "execution_count": 12,
   "metadata": {},
   "outputs": [
    {
     "data": {
      "text/plain": [
       "'19953582'"
      ]
     },
     "execution_count": 12,
     "metadata": {},
     "output_type": "execute_result"
    }
   ],
   "source": [
    "tdr.id"
   ]
  },
  {
   "cell_type": "code",
   "execution_count": 33,
   "metadata": {},
   "outputs": [
    {
     "data": {
      "text/plain": [
       "Data(n_updated=1)"
      ]
     },
     "execution_count": 33,
     "metadata": {},
     "output_type": "execute_result"
    }
   ],
   "source": [
    "client.modify_services(operation='restart', procedure_id=tdr.id)"
   ]
  },
  {
   "cell_type": "code",
   "execution_count": 36,
   "metadata": {},
   "outputs": [],
   "source": [
    "ds = client.get_collection(\"TorsionDriveDataset\", dataset)"
   ]
  },
  {
   "cell_type": "code",
   "execution_count": 37,
   "metadata": {},
   "outputs": [
    {
     "data": {
      "text/html": [
       "<div>\n",
       "<style scoped>\n",
       "    .dataframe tbody tr th:only-of-type {\n",
       "        vertical-align: middle;\n",
       "    }\n",
       "\n",
       "    .dataframe tbody tr th {\n",
       "        vertical-align: top;\n",
       "    }\n",
       "\n",
       "    .dataframe thead th {\n",
       "        text-align: right;\n",
       "    }\n",
       "</style>\n",
       "<table border=\"1\" class=\"dataframe\">\n",
       "  <thead>\n",
       "    <tr style=\"text-align: right;\">\n",
       "      <th></th>\n",
       "      <th>Description</th>\n",
       "    </tr>\n",
       "    <tr>\n",
       "      <th>Name</th>\n",
       "      <th></th>\n",
       "    </tr>\n",
       "  </thead>\n",
       "  <tbody>\n",
       "    <tr>\n",
       "      <th>default</th>\n",
       "      <td>Standard OpenFF torsiondrive specification.</td>\n",
       "    </tr>\n",
       "  </tbody>\n",
       "</table>\n",
       "</div>"
      ],
      "text/plain": [
       "                                         Description\n",
       "Name                                                \n",
       "default  Standard OpenFF torsiondrive specification."
      ]
     },
     "execution_count": 37,
     "metadata": {},
     "output_type": "execute_result"
    }
   ],
   "source": [
    "ds.list_specifications()"
   ]
  },
  {
   "cell_type": "markdown",
   "metadata": {},
   "source": [
    "'default' always means 'b3lyp-d3bj' for us."
   ]
  },
  {
   "cell_type": "code",
   "execution_count": 39,
   "metadata": {},
   "outputs": [
    {
     "data": {
      "text/html": [
       "<div>\n",
       "<style scoped>\n",
       "    .dataframe tbody tr th:only-of-type {\n",
       "        vertical-align: middle;\n",
       "    }\n",
       "\n",
       "    .dataframe tbody tr th {\n",
       "        vertical-align: top;\n",
       "    }\n",
       "\n",
       "    .dataframe thead th {\n",
       "        text-align: right;\n",
       "    }\n",
       "</style>\n",
       "<table border=\"1\" class=\"dataframe\">\n",
       "  <thead>\n",
       "    <tr style=\"text-align: right;\">\n",
       "      <th></th>\n",
       "      <th>default</th>\n",
       "    </tr>\n",
       "  </thead>\n",
       "  <tbody>\n",
       "    <tr>\n",
       "      <th>COMPLETE</th>\n",
       "      <td>155</td>\n",
       "    </tr>\n",
       "    <tr>\n",
       "      <th>ERROR</th>\n",
       "      <td>3</td>\n",
       "    </tr>\n",
       "    <tr>\n",
       "      <th>RUNNING</th>\n",
       "      <td>1</td>\n",
       "    </tr>\n",
       "  </tbody>\n",
       "</table>\n",
       "</div>"
      ],
      "text/plain": [
       "          default\n",
       "COMPLETE      155\n",
       "ERROR           3\n",
       "RUNNING         1"
      ]
     },
     "execution_count": 39,
     "metadata": {},
     "output_type": "execute_result"
    }
   ],
   "source": [
    "ds.status(\"default\")"
   ]
  },
  {
   "cell_type": "code",
   "execution_count": 40,
   "metadata": {},
   "outputs": [
    {
     "data": {
      "text/html": [
       "<div>\n",
       "<style scoped>\n",
       "    .dataframe tbody tr th:only-of-type {\n",
       "        vertical-align: middle;\n",
       "    }\n",
       "\n",
       "    .dataframe tbody tr th {\n",
       "        vertical-align: top;\n",
       "    }\n",
       "\n",
       "    .dataframe thead th {\n",
       "        text-align: right;\n",
       "    }\n",
       "</style>\n",
       "<table border=\"1\" class=\"dataframe\">\n",
       "  <thead>\n",
       "    <tr style=\"text-align: right;\">\n",
       "      <th></th>\n",
       "      <th>default</th>\n",
       "    </tr>\n",
       "  </thead>\n",
       "  <tbody>\n",
       "    <tr>\n",
       "      <th>CCC(=O)Nc1[cH:1][c:2](ccn1)[NH:3][CH2:4]C</th>\n",
       "      <td>TorsionDriveRecord(id='3745357', status='COMPL...</td>\n",
       "    </tr>\n",
       "    <tr>\n",
       "      <th>CCCNc1cc[c:2]([cH:1]n1)[N:3](C)[CH3:4]</th>\n",
       "      <td>TorsionDriveRecord(id='3745358', status='COMPL...</td>\n",
       "    </tr>\n",
       "    <tr>\n",
       "      <th>CCCNc1cc[c:2]([cH:1]n1)[O:3][CH2:4]C</th>\n",
       "      <td>TorsionDriveRecord(id='3745359', status='COMPL...</td>\n",
       "    </tr>\n",
       "    <tr>\n",
       "      <th>CCCNc1ccc[c:2]([cH:1]1)[N:3]([CH3:4])C</th>\n",
       "      <td>TorsionDriveRecord(id='3745360', status='COMPL...</td>\n",
       "    </tr>\n",
       "    <tr>\n",
       "      <th>CCCNc1ccc[c:2]([cH:1]1)[NH:3][CH3:4]</th>\n",
       "      <td>TorsionDriveRecord(id='3745361', status='COMPL...</td>\n",
       "    </tr>\n",
       "    <tr>\n",
       "      <th>...</th>\n",
       "      <td>...</td>\n",
       "    </tr>\n",
       "    <tr>\n",
       "      <th>c1[cH:1][c:2](c(cc1O)Cl)[c:4]2[cH:3]c[nH+]cc2</th>\n",
       "      <td>TorsionDriveRecord(id='19953579', status='COMP...</td>\n",
       "    </tr>\n",
       "    <tr>\n",
       "      <th>c1[cH:1][c:2](c(cc1O)Cl)[c:4]2[cH:3]cncc2</th>\n",
       "      <td>TorsionDriveRecord(id='19953580', status='COMP...</td>\n",
       "    </tr>\n",
       "    <tr>\n",
       "      <th>c1[cH:1][c:2](c(cc1[O-])Cl)[c:4]2[cH:3]c[nH+]cc2</th>\n",
       "      <td>TorsionDriveRecord(id='19953581', status='COMP...</td>\n",
       "    </tr>\n",
       "    <tr>\n",
       "      <th>c1[cH:1][c:2](c(cc1[O-])Cl)[c:4]2[cH:3]cncc2</th>\n",
       "      <td>TorsionDriveRecord(id='19953582', status='RUNN...</td>\n",
       "    </tr>\n",
       "    <tr>\n",
       "      <th>c1ccc([c:2]([cH:1]1)[c:3]2[cH:4]cncc2)Cl</th>\n",
       "      <td>TorsionDriveRecord(id='19953583', status='COMP...</td>\n",
       "    </tr>\n",
       "  </tbody>\n",
       "</table>\n",
       "<p>159 rows × 1 columns</p>\n",
       "</div>"
      ],
      "text/plain": [
       "                                                                                            default\n",
       "CCC(=O)Nc1[cH:1][c:2](ccn1)[NH:3][CH2:4]C         TorsionDriveRecord(id='3745357', status='COMPL...\n",
       "CCCNc1cc[c:2]([cH:1]n1)[N:3](C)[CH3:4]            TorsionDriveRecord(id='3745358', status='COMPL...\n",
       "CCCNc1cc[c:2]([cH:1]n1)[O:3][CH2:4]C              TorsionDriveRecord(id='3745359', status='COMPL...\n",
       "CCCNc1ccc[c:2]([cH:1]1)[N:3]([CH3:4])C            TorsionDriveRecord(id='3745360', status='COMPL...\n",
       "CCCNc1ccc[c:2]([cH:1]1)[NH:3][CH3:4]              TorsionDriveRecord(id='3745361', status='COMPL...\n",
       "...                                                                                             ...\n",
       "c1[cH:1][c:2](c(cc1O)Cl)[c:4]2[cH:3]c[nH+]cc2     TorsionDriveRecord(id='19953579', status='COMP...\n",
       "c1[cH:1][c:2](c(cc1O)Cl)[c:4]2[cH:3]cncc2         TorsionDriveRecord(id='19953580', status='COMP...\n",
       "c1[cH:1][c:2](c(cc1[O-])Cl)[c:4]2[cH:3]c[nH+]cc2  TorsionDriveRecord(id='19953581', status='COMP...\n",
       "c1[cH:1][c:2](c(cc1[O-])Cl)[c:4]2[cH:3]cncc2      TorsionDriveRecord(id='19953582', status='RUNN...\n",
       "c1ccc([c:2]([cH:1]1)[c:3]2[cH:4]cncc2)Cl          TorsionDriveRecord(id='19953583', status='COMP...\n",
       "\n",
       "[159 rows x 1 columns]"
      ]
     },
     "execution_count": 40,
     "metadata": {},
     "output_type": "execute_result"
    }
   ],
   "source": [
    "ds.df"
   ]
  }
 ],
 "metadata": {
  "kernelspec": {
   "display_name": "Python 3",
   "language": "python",
   "name": "python3"
  },
  "language_info": {
   "codemirror_mode": {
    "name": "ipython",
    "version": 3
   },
   "file_extension": ".py",
   "mimetype": "text/x-python",
   "name": "python",
   "nbconvert_exporter": "python",
   "pygments_lexer": "ipython3",
   "version": "3.8.2"
  }
 },
 "nbformat": 4,
 "nbformat_minor": 4
}
