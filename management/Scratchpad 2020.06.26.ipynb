{
 "cells": [
  {
   "cell_type": "markdown",
   "metadata": {},
   "source": [
    "# Scratchpad 2020.06.26"
   ]
  },
  {
   "cell_type": "code",
   "execution_count": 1,
   "metadata": {},
   "outputs": [],
   "source": [
    "import qcportal as ptl\n",
    "import pandas as pd\n",
    "import datetime\n",
    "import time\n",
    "\n",
    "from management import *"
   ]
  },
  {
   "cell_type": "raw",
   "metadata": {},
   "source": [
    "# connect without auth\n",
    "# read only\n",
    "client = ptl.FractalClient()"
   ]
  },
  {
   "cell_type": "code",
   "execution_count": 2,
   "metadata": {},
   "outputs": [],
   "source": [
    "# connect with authentication, therefore write access\n",
    "# don't use unless you plan to submit things\n",
    "client = ptl.FractalClient.from_file()"
   ]
  },
  {
   "cell_type": "code",
   "execution_count": 3,
   "metadata": {},
   "outputs": [
    {
     "data": {
      "text/html": [
       "\n",
       "<h3>FractalClient</h3>\n",
       "<ul>\n",
       "  <li><b>Server:   &nbsp; </b>The MolSSI QCArchive Server</li>\n",
       "  <li><b>Address:  &nbsp; </b>https://api.qcarchive.molssi.org:443/</li>\n",
       "  <li><b>Username: &nbsp; </b>ddotson</li>\n",
       "</ul>\n"
      ],
      "text/plain": [
       "FractalClient(server_name='The MolSSI QCArchive Server', address='https://api.qcarchive.molssi.org:443/', username='ddotson')"
      ]
     },
     "execution_count": 3,
     "metadata": {},
     "output_type": "execute_result"
    }
   ],
   "source": [
    "client"
   ]
  },
  {
   "cell_type": "code",
   "execution_count": 10,
   "metadata": {},
   "outputs": [
    {
     "ename": "AttributeError",
     "evalue": "'NoneType' object has no attribute 'error_message'",
     "output_type": "error",
     "traceback": [
      "\u001b[0;31m-----------\u001b[0m",
      "\u001b[0;31mAttributeError\u001b[0mTraceback (most recent call last)",
      "\u001b[0;32m<ipython-input-10-26923b47606b>\u001b[0m in \u001b[0;36m<module>\u001b[0;34m\u001b[0m\n\u001b[0;32m----> 1\u001b[0;31m \u001b[0mclient\u001b[0m\u001b[0;34m.\u001b[0m\u001b[0mquery_procedures\u001b[0m\u001b[0;34m(\u001b[0m\u001b[0;34m'17477571'\u001b[0m\u001b[0;34m)\u001b[0m\u001b[0;34m[\u001b[0m\u001b[0;36m0\u001b[0m\u001b[0;34m]\u001b[0m\u001b[0;34m.\u001b[0m\u001b[0mget_error\u001b[0m\u001b[0;34m(\u001b[0m\u001b[0;34m)\u001b[0m\u001b[0;34m.\u001b[0m\u001b[0merror_message\u001b[0m\u001b[0;34m\u001b[0m\u001b[0;34m\u001b[0m\u001b[0m\n\u001b[0m",
      "\u001b[0;31mAttributeError\u001b[0m: 'NoneType' object has no attribute 'error_message'"
     ]
    }
   ],
   "source": [
    "client.query_procedures('17477571')[0].get_error().error_message"
   ]
  },
  {
   "cell_type": "code",
   "execution_count": 11,
   "metadata": {},
   "outputs": [
    {
     "ename": "AttributeError",
     "evalue": "'NoneType' object has no attribute 'error_message'",
     "output_type": "error",
     "traceback": [
      "\u001b[0;31m-----------\u001b[0m",
      "\u001b[0;31mAttributeError\u001b[0mTraceback (most recent call last)",
      "\u001b[0;32m<ipython-input-11-f47512a072e7>\u001b[0m in \u001b[0;36m<module>\u001b[0;34m\u001b[0m\n\u001b[0;32m----> 1\u001b[0;31m \u001b[0mclient\u001b[0m\u001b[0;34m.\u001b[0m\u001b[0mquery_procedures\u001b[0m\u001b[0;34m(\u001b[0m\u001b[0;34m'18536988'\u001b[0m\u001b[0;34m)\u001b[0m\u001b[0;34m[\u001b[0m\u001b[0;36m0\u001b[0m\u001b[0;34m]\u001b[0m\u001b[0;34m.\u001b[0m\u001b[0mget_error\u001b[0m\u001b[0;34m(\u001b[0m\u001b[0;34m)\u001b[0m\u001b[0;34m.\u001b[0m\u001b[0merror_message\u001b[0m\u001b[0;34m\u001b[0m\u001b[0;34m\u001b[0m\u001b[0m\n\u001b[0m",
      "\u001b[0;31mAttributeError\u001b[0m: 'NoneType' object has no attribute 'error_message'"
     ]
    }
   ],
   "source": [
    "client.query_procedures('18536988')[0].get_error().error_message"
   ]
  },
  {
   "cell_type": "code",
   "execution_count": 12,
   "metadata": {},
   "outputs": [
    {
     "data": {
      "text/plain": [
       "[TorsionDriveRecord(id='18536988', status='ERROR')]"
      ]
     },
     "execution_count": 12,
     "metadata": {},
     "output_type": "execute_result"
    }
   ],
   "source": [
    "client.query_procedures('18536988')"
   ]
  },
  {
   "cell_type": "markdown",
   "metadata": {},
   "source": [
    "## From Trevor"
   ]
  },
  {
   "cell_type": "code",
   "execution_count": 15,
   "metadata": {},
   "outputs": [],
   "source": [
    "import json"
   ]
  },
  {
   "cell_type": "code",
   "execution_count": 13,
   "metadata": {},
   "outputs": [],
   "source": [
    "td_opts = '{\"18045875\": [\"21139782\"], \"18045886\": [\"21234708\", \"21234712\"], \"18045948\": [\"18304746\", \"18305046\", \"18305452\", \"18305315\", \"18305401\"], \"18045967\": [\"18319507\", \"18319524\"], \"18536969\": [\"21230311\"], \"18886222\": [\"18888532\"], \"18886558\": [\"19194347\", \"19194344\"], \"18886565\": [\"19197486\"], \"18045715\": [\"21139587\"], \"18045716\": [\"21231948\"], \"18045852\": [\"21241161\", \"21241163\", \"21241164\"], \"18045879\": [\"21230833\", \"21230839\"], \"18045891\": [\"18234262\", \"18234267\"], \"18045896\": [\"21240215\"], \"18045901\": [\"21240741\", \"21240743\", \"21240744\", \"21240745\", \"21240747\", \"21240748\", \"21240749\", \"21240750\", \"21240752\", \"21240754\", \"21240756\"], \"18045902\": [\"21232696\"], \"18045909\": [\"21231115\"], \"18045910\": [\"21240553\", \"21240554\"], \"18045912\": [\"21229652\", \"21229654\"], \"18045913\": [\"21236552\", \"21236555\"], \"18045917\": [\"21236138\"], \"18045925\": [\"18283934\", \"18283946\", \"18283947\", \"18283955\", \"18283960\", \"18283963\"], \"18045929\": [\"18292370\", \"18292396\"], \"18045930\": [\"21240809\", \"21240811\", \"21240813\"], \"18045937\": [\"18298991\", \"18299039\", \"18299060\"], \"18045941\": [\"18301534\"], \"18045942\": [\"18301550\", \"18301552\", \"18301563\", \"18301579\", \"18301609\", \"18301610\", \"18301612\", \"18301648\", \"18301651\", \"18301652\", \"18301661\", \"18301666\", \"18301702\", \"18301705\", \"18301719\", \"18301720\", \"18301721\", \"18301722\", \"18301724\", \"18301727\", \"18301728\", \"18301730\", \"18301759\", \"18301821\", \"18301822\", \"18301825\", \"18301826\"], \"18045953\": [\"21232906\"], \"18045959\": [\"21236408\", \"21236412\", \"21236419\"], \"18045964\": [\"21240292\", \"21240294\"], \"18045965\": [\"21236073\", \"21236085\"], \"18045969\": [\"18319750\", \"18319751\"], \"18536127\": [\"21241319\", \"21241320\"], \"18537079\": [\"18893526\"], \"18537099\": [\"18819828\"], \"18885888\": [\"18885922\", \"18885924\", \"18885930\", \"18885931\"], \"18886355\": [\"19074332\"], \"18886560\": [\"19195427\"]}'"
   ]
  },
  {
   "cell_type": "code",
   "execution_count": 16,
   "metadata": {},
   "outputs": [],
   "source": [
    "td_opts = json.loads(td_opts)"
   ]
  },
  {
   "cell_type": "code",
   "execution_count": 17,
   "metadata": {},
   "outputs": [
    {
     "data": {
      "text/plain": [
       "{'18045875': ['21139782'],\n",
       " '18045886': ['21234708', '21234712'],\n",
       " '18045948': ['18304746', '18305046', '18305452', '18305315', '18305401'],\n",
       " '18045967': ['18319507', '18319524'],\n",
       " '18536969': ['21230311'],\n",
       " '18886222': ['18888532'],\n",
       " '18886558': ['19194347', '19194344'],\n",
       " '18886565': ['19197486'],\n",
       " '18045715': ['21139587'],\n",
       " '18045716': ['21231948'],\n",
       " '18045852': ['21241161', '21241163', '21241164'],\n",
       " '18045879': ['21230833', '21230839'],\n",
       " '18045891': ['18234262', '18234267'],\n",
       " '18045896': ['21240215'],\n",
       " '18045901': ['21240741',\n",
       "  '21240743',\n",
       "  '21240744',\n",
       "  '21240745',\n",
       "  '21240747',\n",
       "  '21240748',\n",
       "  '21240749',\n",
       "  '21240750',\n",
       "  '21240752',\n",
       "  '21240754',\n",
       "  '21240756'],\n",
       " '18045902': ['21232696'],\n",
       " '18045909': ['21231115'],\n",
       " '18045910': ['21240553', '21240554'],\n",
       " '18045912': ['21229652', '21229654'],\n",
       " '18045913': ['21236552', '21236555'],\n",
       " '18045917': ['21236138'],\n",
       " '18045925': ['18283934',\n",
       "  '18283946',\n",
       "  '18283947',\n",
       "  '18283955',\n",
       "  '18283960',\n",
       "  '18283963'],\n",
       " '18045929': ['18292370', '18292396'],\n",
       " '18045930': ['21240809', '21240811', '21240813'],\n",
       " '18045937': ['18298991', '18299039', '18299060'],\n",
       " '18045941': ['18301534'],\n",
       " '18045942': ['18301550',\n",
       "  '18301552',\n",
       "  '18301563',\n",
       "  '18301579',\n",
       "  '18301609',\n",
       "  '18301610',\n",
       "  '18301612',\n",
       "  '18301648',\n",
       "  '18301651',\n",
       "  '18301652',\n",
       "  '18301661',\n",
       "  '18301666',\n",
       "  '18301702',\n",
       "  '18301705',\n",
       "  '18301719',\n",
       "  '18301720',\n",
       "  '18301721',\n",
       "  '18301722',\n",
       "  '18301724',\n",
       "  '18301727',\n",
       "  '18301728',\n",
       "  '18301730',\n",
       "  '18301759',\n",
       "  '18301821',\n",
       "  '18301822',\n",
       "  '18301825',\n",
       "  '18301826'],\n",
       " '18045953': ['21232906'],\n",
       " '18045959': ['21236408', '21236412', '21236419'],\n",
       " '18045964': ['21240292', '21240294'],\n",
       " '18045965': ['21236073', '21236085'],\n",
       " '18045969': ['18319750', '18319751'],\n",
       " '18536127': ['21241319', '21241320'],\n",
       " '18537079': ['18893526'],\n",
       " '18537099': ['18819828'],\n",
       " '18885888': ['18885922', '18885924', '18885930', '18885931'],\n",
       " '18886355': ['19074332'],\n",
       " '18886560': ['19195427']}"
      ]
     },
     "execution_count": 17,
     "metadata": {},
     "output_type": "execute_result"
    }
   ],
   "source": [
    "td_opts"
   ]
  }
 ],
 "metadata": {
  "kernelspec": {
   "display_name": "Python 3",
   "language": "python",
   "name": "python3"
  },
  "language_info": {
   "codemirror_mode": {
    "name": "ipython",
    "version": 3
   },
   "file_extension": ".py",
   "mimetype": "text/x-python",
   "name": "python",
   "nbconvert_exporter": "python",
   "pygments_lexer": "ipython3",
   "version": "3.8.2"
  }
 },
 "nbformat": 4,
 "nbformat_minor": 4
}
