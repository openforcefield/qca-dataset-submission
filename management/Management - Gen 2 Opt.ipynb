{
 "cells": [
  {
   "cell_type": "markdown",
   "metadata": {},
   "source": [
    "# Management - Gen 2 Opt"
   ]
  },
  {
   "cell_type": "code",
   "execution_count": 1,
   "metadata": {},
   "outputs": [],
   "source": [
    "import qcportal as ptl\n",
    "import pandas as pd\n",
    "import datetime\n",
    "import time\n",
    "import numpy as np\n",
    "\n",
    "from management import *"
   ]
  },
  {
   "cell_type": "raw",
   "metadata": {},
   "source": [
    "# connect without auth\n",
    "# read only\n",
    "client = ptl.FractalClient()"
   ]
  },
  {
   "cell_type": "code",
   "execution_count": 2,
   "metadata": {},
   "outputs": [],
   "source": [
    "# connect with authentication, therefore write access\n",
    "# don't use unless you plan to submit things\n",
    "client = ptl.FractalClient.from_file()"
   ]
  },
  {
   "cell_type": "code",
   "execution_count": 3,
   "metadata": {},
   "outputs": [
    {
     "data": {
      "text/html": [
       "\n",
       "<h3>FractalClient</h3>\n",
       "<ul>\n",
       "  <li><b>Server:   &nbsp; </b>The MolSSI QCArchive Server</li>\n",
       "  <li><b>Address:  &nbsp; </b>https://api.qcarchive.molssi.org:443/</li>\n",
       "  <li><b>Username: &nbsp; </b>ddotson</li>\n",
       "</ul>\n"
      ],
      "text/plain": [
       "FractalClient(server_name='The MolSSI QCArchive Server', address='https://api.qcarchive.molssi.org:443/', username='ddotson')"
      ]
     },
     "execution_count": 3,
     "metadata": {},
     "output_type": "execute_result"
    }
   ],
   "source": [
    "client"
   ]
  },
  {
   "cell_type": "markdown",
   "metadata": {},
   "source": [
    "## Dataset tracking - OpenFF Gen 2 Opt Set 1 Roche"
   ]
  },
  {
   "cell_type": "markdown",
   "metadata": {},
   "source": [
    "### 2020.06.27 01:40 UTC"
   ]
  },
  {
   "cell_type": "code",
   "execution_count": 4,
   "metadata": {},
   "outputs": [],
   "source": [
    "dataset = \"OpenFF Gen 2 Opt Set 1 Roche\""
   ]
  },
  {
   "cell_type": "code",
   "execution_count": 5,
   "metadata": {},
   "outputs": [],
   "source": [
    "ds = client.get_collection(\"OptimizationDataset\", dataset)"
   ]
  },
  {
   "cell_type": "code",
   "execution_count": 8,
   "metadata": {},
   "outputs": [
    {
     "ename": "AttributeError",
     "evalue": "'float' object has no attribute 'id'",
     "output_type": "error",
     "traceback": [
      "\u001b[0;31m---------------------------------------------------------------------------\u001b[0m",
      "\u001b[0;31mAttributeError\u001b[0m                            Traceback (most recent call last)",
      "\u001b[0;32m<ipython-input-8-537772633f3f>\u001b[0m in \u001b[0;36m<module>\u001b[0;34m\u001b[0m\n\u001b[0;32m----> 1\u001b[0;31m \u001b[0mres\u001b[0m \u001b[0;34m=\u001b[0m \u001b[0mget_unfinished_optimizations\u001b[0m\u001b[0;34m(\u001b[0m\u001b[0mds\u001b[0m\u001b[0;34m,\u001b[0m \u001b[0;34m'default'\u001b[0m\u001b[0;34m,\u001b[0m \u001b[0mclient\u001b[0m\u001b[0;34m)\u001b[0m\u001b[0;34m\u001b[0m\u001b[0;34m\u001b[0m\u001b[0m\n\u001b[0m\u001b[1;32m      2\u001b[0m \u001b[0mres\u001b[0m\u001b[0;34m\u001b[0m\u001b[0;34m\u001b[0m\u001b[0m\n",
      "\u001b[0;32m~/Projects/threads/molmat/openforcefield/qca-management/qca-dataset-submission/management/management.py\u001b[0m in \u001b[0;36mget_unfinished_optimizations\u001b[0;34m(dataset, spec, client, dropna)\u001b[0m\n\u001b[1;32m     30\u001b[0m \u001b[0;34m\u001b[0m\u001b[0m\n\u001b[1;32m     31\u001b[0m \u001b[0;32mdef\u001b[0m \u001b[0mget_unfinished_optimizations\u001b[0m\u001b[0;34m(\u001b[0m\u001b[0mdataset\u001b[0m\u001b[0;34m,\u001b[0m \u001b[0mspec\u001b[0m\u001b[0;34m,\u001b[0m \u001b[0mclient\u001b[0m\u001b[0;34m,\u001b[0m \u001b[0mdropna\u001b[0m\u001b[0;34m=\u001b[0m\u001b[0;32mFalse\u001b[0m\u001b[0;34m)\u001b[0m\u001b[0;34m:\u001b[0m\u001b[0;34m\u001b[0m\u001b[0;34m\u001b[0m\u001b[0m\n\u001b[0;32m---> 32\u001b[0;31m     \u001b[0mres\u001b[0m \u001b[0;34m=\u001b[0m \u001b[0mget_optimizations\u001b[0m\u001b[0;34m(\u001b[0m\u001b[0mdataset\u001b[0m\u001b[0;34m,\u001b[0m \u001b[0mspec\u001b[0m\u001b[0;34m,\u001b[0m \u001b[0mclient\u001b[0m\u001b[0;34m,\u001b[0m \u001b[0mdropna\u001b[0m\u001b[0;34m=\u001b[0m\u001b[0mdropna\u001b[0m\u001b[0;34m)\u001b[0m\u001b[0;34m\u001b[0m\u001b[0;34m\u001b[0m\u001b[0m\n\u001b[0m\u001b[1;32m     33\u001b[0m     \u001b[0mres\u001b[0m \u001b[0;34m=\u001b[0m \u001b[0;34m[\u001b[0m\u001b[0mopt\u001b[0m \u001b[0;32mfor\u001b[0m \u001b[0mopt\u001b[0m \u001b[0;32min\u001b[0m \u001b[0mres\u001b[0m \u001b[0;32mif\u001b[0m \u001b[0mopt\u001b[0m\u001b[0;34m.\u001b[0m\u001b[0mstatus\u001b[0m \u001b[0;34m!=\u001b[0m \u001b[0;34m'COMPLETE'\u001b[0m\u001b[0;34m]\u001b[0m\u001b[0;34m\u001b[0m\u001b[0;34m\u001b[0m\u001b[0m\n\u001b[1;32m     34\u001b[0m \u001b[0;34m\u001b[0m\u001b[0m\n",
      "\u001b[0;32m~/Projects/threads/molmat/openforcefield/qca-management/qca-dataset-submission/management/management.py\u001b[0m in \u001b[0;36mget_optimizations\u001b[0;34m(dataset, spec, client, dropna)\u001b[0m\n\u001b[1;32m     22\u001b[0m         \u001b[0mdf\u001b[0m \u001b[0;34m=\u001b[0m \u001b[0mds\u001b[0m\u001b[0;34m.\u001b[0m\u001b[0mdf\u001b[0m\u001b[0;34m\u001b[0m\u001b[0;34m\u001b[0m\u001b[0m\n\u001b[1;32m     23\u001b[0m \u001b[0;34m\u001b[0m\u001b[0m\n\u001b[0;32m---> 24\u001b[0;31m     \u001b[0mids\u001b[0m \u001b[0;34m=\u001b[0m \u001b[0mlist\u001b[0m\u001b[0;34m(\u001b[0m\u001b[0mset\u001b[0m\u001b[0;34m(\u001b[0m\u001b[0mi\u001b[0m\u001b[0;34m.\u001b[0m\u001b[0mid\u001b[0m \u001b[0;32mfor\u001b[0m \u001b[0mi\u001b[0m \u001b[0;32min\u001b[0m \u001b[0mdf\u001b[0m\u001b[0;34m[\u001b[0m\u001b[0mspec\u001b[0m\u001b[0;34m]\u001b[0m\u001b[0;34m)\u001b[0m\u001b[0;34m)\u001b[0m\u001b[0;34m\u001b[0m\u001b[0;34m\u001b[0m\u001b[0m\n\u001b[0m\u001b[1;32m     25\u001b[0m \u001b[0;34m\u001b[0m\u001b[0m\n\u001b[1;32m     26\u001b[0m     \u001b[0mres\u001b[0m \u001b[0;34m=\u001b[0m \u001b[0m_query_procedures\u001b[0m\u001b[0;34m(\u001b[0m\u001b[0mids\u001b[0m\u001b[0;34m,\u001b[0m \u001b[0mclient\u001b[0m\u001b[0;34m)\u001b[0m\u001b[0;34m\u001b[0m\u001b[0;34m\u001b[0m\u001b[0m\n",
      "\u001b[0;32m~/Projects/threads/molmat/openforcefield/qca-management/qca-dataset-submission/management/management.py\u001b[0m in \u001b[0;36m<genexpr>\u001b[0;34m(.0)\u001b[0m\n\u001b[1;32m     22\u001b[0m         \u001b[0mdf\u001b[0m \u001b[0;34m=\u001b[0m \u001b[0mds\u001b[0m\u001b[0;34m.\u001b[0m\u001b[0mdf\u001b[0m\u001b[0;34m\u001b[0m\u001b[0;34m\u001b[0m\u001b[0m\n\u001b[1;32m     23\u001b[0m \u001b[0;34m\u001b[0m\u001b[0m\n\u001b[0;32m---> 24\u001b[0;31m     \u001b[0mids\u001b[0m \u001b[0;34m=\u001b[0m \u001b[0mlist\u001b[0m\u001b[0;34m(\u001b[0m\u001b[0mset\u001b[0m\u001b[0;34m(\u001b[0m\u001b[0mi\u001b[0m\u001b[0;34m.\u001b[0m\u001b[0mid\u001b[0m \u001b[0;32mfor\u001b[0m \u001b[0mi\u001b[0m \u001b[0;32min\u001b[0m \u001b[0mdf\u001b[0m\u001b[0;34m[\u001b[0m\u001b[0mspec\u001b[0m\u001b[0;34m]\u001b[0m\u001b[0;34m)\u001b[0m\u001b[0;34m)\u001b[0m\u001b[0;34m\u001b[0m\u001b[0;34m\u001b[0m\u001b[0m\n\u001b[0m\u001b[1;32m     25\u001b[0m \u001b[0;34m\u001b[0m\u001b[0m\n\u001b[1;32m     26\u001b[0m     \u001b[0mres\u001b[0m \u001b[0;34m=\u001b[0m \u001b[0m_query_procedures\u001b[0m\u001b[0;34m(\u001b[0m\u001b[0mids\u001b[0m\u001b[0;34m,\u001b[0m \u001b[0mclient\u001b[0m\u001b[0;34m)\u001b[0m\u001b[0;34m\u001b[0m\u001b[0;34m\u001b[0m\u001b[0m\n",
      "\u001b[0;31mAttributeError\u001b[0m: 'float' object has no attribute 'id'"
     ]
    }
   ],
   "source": [
    "res = get_unfinished_optimizations(ds, 'default', client)\n",
    "res"
   ]
  },
  {
   "cell_type": "code",
   "execution_count": 9,
   "metadata": {},
   "outputs": [
    {
     "data": {
      "text/plain": [
       "Index(['Cc1ccccc1OC2CCCCC2-0a', 'Cc1ccccc1OC2CCCCC2-1a',\n",
       "       'Cc1ccccc1OC2CCCCC2-2a', 'Cc1ccccc1OC2CCCCC2-3a'],\n",
       "      dtype='object')"
      ]
     },
     "execution_count": 9,
     "metadata": {},
     "output_type": "execute_result"
    }
   ],
   "source": [
    "ds.df.index[ds.df.default.index.str.endswith('a')]"
   ]
  },
  {
   "cell_type": "code",
   "execution_count": 10,
   "metadata": {},
   "outputs": [
    {
     "data": {
      "text/plain": [
       "Cc1ccccc1OC2CCCCC2-0a    NaN\n",
       "Cc1ccccc1OC2CCCCC2-1a    NaN\n",
       "Cc1ccccc1OC2CCCCC2-2a    NaN\n",
       "Cc1ccccc1OC2CCCCC2-3a    NaN\n",
       "Name: default, dtype: object"
      ]
     },
     "execution_count": 10,
     "metadata": {},
     "output_type": "execute_result"
    }
   ],
   "source": [
    "ds.df.default[ds.df.default.isnull()]"
   ]
  },
  {
   "cell_type": "markdown",
   "metadata": {},
   "source": [
    "What is this??? Perhaps we need to resubmit???"
   ]
  },
  {
   "cell_type": "code",
   "execution_count": 11,
   "metadata": {},
   "outputs": [
    {
     "data": {
      "text/plain": [
       "[]"
      ]
     },
     "execution_count": 11,
     "metadata": {},
     "output_type": "execute_result"
    }
   ],
   "source": [
    "resm = get_unfinished_optimizations(ds, 'default', client, dropna=True)\n",
    "resm"
   ]
  },
  {
   "cell_type": "code",
   "execution_count": 12,
   "metadata": {},
   "outputs": [],
   "source": [
    "restart_optimizations(resm, client)"
   ]
  },
  {
   "cell_type": "markdown",
   "metadata": {},
   "source": [
    "### 2020.06.18 15:30 UTC"
   ]
  },
  {
   "cell_type": "code",
   "execution_count": 176,
   "metadata": {},
   "outputs": [],
   "source": [
    "dataset = \"OpenFF Gen 2 Opt Set 1 Roche\""
   ]
  },
  {
   "cell_type": "code",
   "execution_count": 177,
   "metadata": {},
   "outputs": [],
   "source": [
    "ds = client.get_collection(\"OptimizationDataset\", dataset)"
   ]
  },
  {
   "cell_type": "code",
   "execution_count": 178,
   "metadata": {},
   "outputs": [
    {
     "ename": "AttributeError",
     "evalue": "'float' object has no attribute 'id'",
     "output_type": "error",
     "traceback": [
      "\u001b[0;31m---------------------------------------------------------------------------\u001b[0m",
      "\u001b[0;31mAttributeError\u001b[0m                            Traceback (most recent call last)",
      "\u001b[0;32m<ipython-input-178-52882e832b54>\u001b[0m in \u001b[0;36m<module>\u001b[0;34m\u001b[0m\n\u001b[0;32m----> 1\u001b[0;31m \u001b[0mresm\u001b[0m \u001b[0;34m=\u001b[0m \u001b[0mget_unfinished_optimizations\u001b[0m\u001b[0;34m(\u001b[0m\u001b[0mds\u001b[0m\u001b[0;34m,\u001b[0m \u001b[0;34m'default'\u001b[0m\u001b[0;34m,\u001b[0m \u001b[0mclient\u001b[0m\u001b[0;34m)\u001b[0m\u001b[0;34m\u001b[0m\u001b[0;34m\u001b[0m\u001b[0m\n\u001b[0m\u001b[1;32m      2\u001b[0m \u001b[0mresm\u001b[0m\u001b[0;34m\u001b[0m\u001b[0;34m\u001b[0m\u001b[0m\n",
      "\u001b[0;32m~/Projects/threads/molmat/openforcefield/qca-management/qca-dataset-submission/management/management.py\u001b[0m in \u001b[0;36mget_unfinished_optimizations\u001b[0;34m(dataset, spec, client, dropna)\u001b[0m\n\u001b[1;32m     22\u001b[0m         \u001b[0mdf\u001b[0m \u001b[0;34m=\u001b[0m \u001b[0mds\u001b[0m\u001b[0;34m.\u001b[0m\u001b[0mdf\u001b[0m\u001b[0;34m\u001b[0m\u001b[0;34m\u001b[0m\u001b[0m\n\u001b[1;32m     23\u001b[0m \u001b[0;34m\u001b[0m\u001b[0m\n\u001b[0;32m---> 24\u001b[0;31m     \u001b[0mids\u001b[0m \u001b[0;34m=\u001b[0m \u001b[0mlist\u001b[0m\u001b[0;34m(\u001b[0m\u001b[0mset\u001b[0m\u001b[0;34m(\u001b[0m\u001b[0mi\u001b[0m\u001b[0;34m.\u001b[0m\u001b[0mid\u001b[0m \u001b[0;32mfor\u001b[0m \u001b[0mi\u001b[0m \u001b[0;32min\u001b[0m \u001b[0mdf\u001b[0m\u001b[0;34m[\u001b[0m\u001b[0mspec\u001b[0m\u001b[0;34m]\u001b[0m\u001b[0;34m)\u001b[0m\u001b[0;34m)\u001b[0m\u001b[0;34m\u001b[0m\u001b[0;34m\u001b[0m\u001b[0m\n\u001b[0m\u001b[1;32m     25\u001b[0m \u001b[0;34m\u001b[0m\u001b[0m\n\u001b[1;32m     26\u001b[0m     \u001b[0mres\u001b[0m \u001b[0;34m=\u001b[0m \u001b[0m_query_procedures\u001b[0m\u001b[0;34m(\u001b[0m\u001b[0mids\u001b[0m\u001b[0;34m,\u001b[0m \u001b[0mclient\u001b[0m\u001b[0;34m)\u001b[0m\u001b[0;34m\u001b[0m\u001b[0;34m\u001b[0m\u001b[0m\n",
      "\u001b[0;32m~/Projects/threads/molmat/openforcefield/qca-management/qca-dataset-submission/management/management.py\u001b[0m in \u001b[0;36m<genexpr>\u001b[0;34m(.0)\u001b[0m\n\u001b[1;32m     22\u001b[0m         \u001b[0mdf\u001b[0m \u001b[0;34m=\u001b[0m \u001b[0mds\u001b[0m\u001b[0;34m.\u001b[0m\u001b[0mdf\u001b[0m\u001b[0;34m\u001b[0m\u001b[0;34m\u001b[0m\u001b[0m\n\u001b[1;32m     23\u001b[0m \u001b[0;34m\u001b[0m\u001b[0m\n\u001b[0;32m---> 24\u001b[0;31m     \u001b[0mids\u001b[0m \u001b[0;34m=\u001b[0m \u001b[0mlist\u001b[0m\u001b[0;34m(\u001b[0m\u001b[0mset\u001b[0m\u001b[0;34m(\u001b[0m\u001b[0mi\u001b[0m\u001b[0;34m.\u001b[0m\u001b[0mid\u001b[0m \u001b[0;32mfor\u001b[0m \u001b[0mi\u001b[0m \u001b[0;32min\u001b[0m \u001b[0mdf\u001b[0m\u001b[0;34m[\u001b[0m\u001b[0mspec\u001b[0m\u001b[0;34m]\u001b[0m\u001b[0;34m)\u001b[0m\u001b[0;34m)\u001b[0m\u001b[0;34m\u001b[0m\u001b[0;34m\u001b[0m\u001b[0m\n\u001b[0m\u001b[1;32m     25\u001b[0m \u001b[0;34m\u001b[0m\u001b[0m\n\u001b[1;32m     26\u001b[0m     \u001b[0mres\u001b[0m \u001b[0;34m=\u001b[0m \u001b[0m_query_procedures\u001b[0m\u001b[0;34m(\u001b[0m\u001b[0mids\u001b[0m\u001b[0;34m,\u001b[0m \u001b[0mclient\u001b[0m\u001b[0;34m)\u001b[0m\u001b[0;34m\u001b[0m\u001b[0;34m\u001b[0m\u001b[0m\n",
      "\u001b[0;31mAttributeError\u001b[0m: 'float' object has no attribute 'id'"
     ]
    }
   ],
   "source": [
    "resm = get_unfinished_optimizations(ds, 'default', client)\n",
    "resm"
   ]
  },
  {
   "cell_type": "code",
   "execution_count": 184,
   "metadata": {},
   "outputs": [
    {
     "data": {
      "text/plain": [
       "Index(['Cc1ccccc1OC2CCCCC2-0a', 'Cc1ccccc1OC2CCCCC2-1a',\n",
       "       'Cc1ccccc1OC2CCCCC2-2a', 'Cc1ccccc1OC2CCCCC2-3a'],\n",
       "      dtype='object')"
      ]
     },
     "execution_count": 184,
     "metadata": {},
     "output_type": "execute_result"
    }
   ],
   "source": [
    "ds.df.index[ds.df.default.index.str.endswith('a')]"
   ]
  },
  {
   "cell_type": "code",
   "execution_count": 7,
   "metadata": {},
   "outputs": [
    {
     "data": {
      "text/plain": [
       "Cc1ccccc1OC2CCCCC2-0a    NaN\n",
       "Cc1ccccc1OC2CCCCC2-1a    NaN\n",
       "Cc1ccccc1OC2CCCCC2-2a    NaN\n",
       "Cc1ccccc1OC2CCCCC2-3a    NaN\n",
       "Name: default, dtype: object"
      ]
     },
     "execution_count": 7,
     "metadata": {},
     "output_type": "execute_result"
    }
   ],
   "source": [
    "ds.df.default[ds.df.default.isnull()]"
   ]
  },
  {
   "cell_type": "markdown",
   "metadata": {},
   "source": [
    "What is this??? Perhaps we need to resubmit???"
   ]
  },
  {
   "cell_type": "code",
   "execution_count": 8,
   "metadata": {},
   "outputs": [
    {
     "data": {
      "text/plain": [
       "[]"
      ]
     },
     "execution_count": 8,
     "metadata": {},
     "output_type": "execute_result"
    }
   ],
   "source": [
    "resm = get_unfinished_optimizations(ds, 'default', client, dropna=True)\n",
    "resm"
   ]
  },
  {
   "cell_type": "code",
   "execution_count": 17,
   "metadata": {},
   "outputs": [],
   "source": [
    "restart_optimizations(resm, client)"
   ]
  },
  {
   "cell_type": "markdown",
   "metadata": {},
   "source": [
    "### 2020.06.18 14:30 UTC"
   ]
  },
  {
   "cell_type": "code",
   "execution_count": 4,
   "metadata": {},
   "outputs": [],
   "source": [
    "dataset = \"OpenFF Gen 2 Opt Set 1 Roche\""
   ]
  },
  {
   "cell_type": "code",
   "execution_count": 5,
   "metadata": {},
   "outputs": [],
   "source": [
    "ds = client.get_collection(\"OptimizationDataset\", dataset)"
   ]
  },
  {
   "cell_type": "code",
   "execution_count": 6,
   "metadata": {},
   "outputs": [
    {
     "ename": "AttributeError",
     "evalue": "'float' object has no attribute 'id'",
     "output_type": "error",
     "traceback": [
      "\u001b[0;31m---------------------------------------------------------------------------\u001b[0m",
      "\u001b[0;31mAttributeError\u001b[0m                            Traceback (most recent call last)",
      "\u001b[0;32m<ipython-input-6-52882e832b54>\u001b[0m in \u001b[0;36m<module>\u001b[0;34m\u001b[0m\n\u001b[0;32m----> 1\u001b[0;31m \u001b[0mresm\u001b[0m \u001b[0;34m=\u001b[0m \u001b[0mget_unfinished_optimizations\u001b[0m\u001b[0;34m(\u001b[0m\u001b[0mds\u001b[0m\u001b[0;34m,\u001b[0m \u001b[0;34m'default'\u001b[0m\u001b[0;34m,\u001b[0m \u001b[0mclient\u001b[0m\u001b[0;34m)\u001b[0m\u001b[0;34m\u001b[0m\u001b[0;34m\u001b[0m\u001b[0m\n\u001b[0m\u001b[1;32m      2\u001b[0m \u001b[0mresm\u001b[0m\u001b[0;34m\u001b[0m\u001b[0;34m\u001b[0m\u001b[0m\n",
      "\u001b[0;32m~/Projects/threads/molmat/openforcefield/qca-management/qca-dataset-submission/management/management.py\u001b[0m in \u001b[0;36mget_unfinished_optimizations\u001b[0;34m(dataset, spec, client, dropna)\u001b[0m\n\u001b[1;32m     22\u001b[0m         \u001b[0mdf\u001b[0m \u001b[0;34m=\u001b[0m \u001b[0mds\u001b[0m\u001b[0;34m.\u001b[0m\u001b[0mdf\u001b[0m\u001b[0;34m\u001b[0m\u001b[0;34m\u001b[0m\u001b[0m\n\u001b[1;32m     23\u001b[0m \u001b[0;34m\u001b[0m\u001b[0m\n\u001b[0;32m---> 24\u001b[0;31m     \u001b[0mids\u001b[0m \u001b[0;34m=\u001b[0m \u001b[0mlist\u001b[0m\u001b[0;34m(\u001b[0m\u001b[0mset\u001b[0m\u001b[0;34m(\u001b[0m\u001b[0mi\u001b[0m\u001b[0;34m.\u001b[0m\u001b[0mid\u001b[0m \u001b[0;32mfor\u001b[0m \u001b[0mi\u001b[0m \u001b[0;32min\u001b[0m \u001b[0mdf\u001b[0m\u001b[0;34m[\u001b[0m\u001b[0mspec\u001b[0m\u001b[0;34m]\u001b[0m\u001b[0;34m)\u001b[0m\u001b[0;34m)\u001b[0m\u001b[0;34m\u001b[0m\u001b[0;34m\u001b[0m\u001b[0m\n\u001b[0m\u001b[1;32m     25\u001b[0m \u001b[0;34m\u001b[0m\u001b[0m\n\u001b[1;32m     26\u001b[0m     \u001b[0mres\u001b[0m \u001b[0;34m=\u001b[0m \u001b[0m_query_procedures\u001b[0m\u001b[0;34m(\u001b[0m\u001b[0mids\u001b[0m\u001b[0;34m,\u001b[0m \u001b[0mclient\u001b[0m\u001b[0;34m)\u001b[0m\u001b[0;34m\u001b[0m\u001b[0;34m\u001b[0m\u001b[0m\n",
      "\u001b[0;32m~/Projects/threads/molmat/openforcefield/qca-management/qca-dataset-submission/management/management.py\u001b[0m in \u001b[0;36m<genexpr>\u001b[0;34m(.0)\u001b[0m\n\u001b[1;32m     22\u001b[0m         \u001b[0mdf\u001b[0m \u001b[0;34m=\u001b[0m \u001b[0mds\u001b[0m\u001b[0;34m.\u001b[0m\u001b[0mdf\u001b[0m\u001b[0;34m\u001b[0m\u001b[0;34m\u001b[0m\u001b[0m\n\u001b[1;32m     23\u001b[0m \u001b[0;34m\u001b[0m\u001b[0m\n\u001b[0;32m---> 24\u001b[0;31m     \u001b[0mids\u001b[0m \u001b[0;34m=\u001b[0m \u001b[0mlist\u001b[0m\u001b[0;34m(\u001b[0m\u001b[0mset\u001b[0m\u001b[0;34m(\u001b[0m\u001b[0mi\u001b[0m\u001b[0;34m.\u001b[0m\u001b[0mid\u001b[0m \u001b[0;32mfor\u001b[0m \u001b[0mi\u001b[0m \u001b[0;32min\u001b[0m \u001b[0mdf\u001b[0m\u001b[0;34m[\u001b[0m\u001b[0mspec\u001b[0m\u001b[0;34m]\u001b[0m\u001b[0;34m)\u001b[0m\u001b[0;34m)\u001b[0m\u001b[0;34m\u001b[0m\u001b[0;34m\u001b[0m\u001b[0m\n\u001b[0m\u001b[1;32m     25\u001b[0m \u001b[0;34m\u001b[0m\u001b[0m\n\u001b[1;32m     26\u001b[0m     \u001b[0mres\u001b[0m \u001b[0;34m=\u001b[0m \u001b[0m_query_procedures\u001b[0m\u001b[0;34m(\u001b[0m\u001b[0mids\u001b[0m\u001b[0;34m,\u001b[0m \u001b[0mclient\u001b[0m\u001b[0;34m)\u001b[0m\u001b[0;34m\u001b[0m\u001b[0;34m\u001b[0m\u001b[0m\n",
      "\u001b[0;31mAttributeError\u001b[0m: 'float' object has no attribute 'id'"
     ]
    }
   ],
   "source": [
    "resm = get_unfinished_optimizations(ds, 'default', client)\n",
    "resm"
   ]
  },
  {
   "cell_type": "code",
   "execution_count": 7,
   "metadata": {},
   "outputs": [
    {
     "data": {
      "text/plain": [
       "Cc1ccccc1OC2CCCCC2-0a    NaN\n",
       "Cc1ccccc1OC2CCCCC2-1a    NaN\n",
       "Cc1ccccc1OC2CCCCC2-2a    NaN\n",
       "Cc1ccccc1OC2CCCCC2-3a    NaN\n",
       "Name: default, dtype: object"
      ]
     },
     "execution_count": 7,
     "metadata": {},
     "output_type": "execute_result"
    }
   ],
   "source": [
    "ds.df.default[ds.df.default.isnull()]"
   ]
  },
  {
   "cell_type": "markdown",
   "metadata": {},
   "source": [
    "What is this??? Perhaps we need to resubmit???"
   ]
  },
  {
   "cell_type": "code",
   "execution_count": 8,
   "metadata": {},
   "outputs": [
    {
     "data": {
      "text/plain": [
       "[]"
      ]
     },
     "execution_count": 8,
     "metadata": {},
     "output_type": "execute_result"
    }
   ],
   "source": [
    "resm = get_unfinished_optimizations(ds, 'default', client, dropna=True)\n",
    "resm"
   ]
  },
  {
   "cell_type": "code",
   "execution_count": 17,
   "metadata": {},
   "outputs": [],
   "source": [
    "restart_optimizations(resm, client)"
   ]
  },
  {
   "cell_type": "markdown",
   "metadata": {},
   "source": [
    "### 2020.06.11 19:30 UTC"
   ]
  },
  {
   "cell_type": "code",
   "execution_count": 8,
   "metadata": {},
   "outputs": [],
   "source": [
    "dataset = \"OpenFF Gen 2 Opt Set 1 Roche\""
   ]
  },
  {
   "cell_type": "code",
   "execution_count": 9,
   "metadata": {},
   "outputs": [],
   "source": [
    "ds = client.get_collection(\"OptimizationDataset\", dataset)"
   ]
  },
  {
   "cell_type": "code",
   "execution_count": 12,
   "metadata": {},
   "outputs": [
    {
     "ename": "AttributeError",
     "evalue": "'float' object has no attribute 'id'",
     "output_type": "error",
     "traceback": [
      "\u001b[0;31m---------------------------------------------------------------------------\u001b[0m",
      "\u001b[0;31mAttributeError\u001b[0m                            Traceback (most recent call last)",
      "\u001b[0;32m<ipython-input-12-537772633f3f>\u001b[0m in \u001b[0;36m<module>\u001b[0;34m\u001b[0m\n\u001b[0;32m----> 1\u001b[0;31m \u001b[0mres\u001b[0m \u001b[0;34m=\u001b[0m \u001b[0mget_unfinished_optimizations\u001b[0m\u001b[0;34m(\u001b[0m\u001b[0mds\u001b[0m\u001b[0;34m,\u001b[0m \u001b[0;34m'default'\u001b[0m\u001b[0;34m,\u001b[0m \u001b[0mclient\u001b[0m\u001b[0;34m)\u001b[0m\u001b[0;34m\u001b[0m\u001b[0;34m\u001b[0m\u001b[0m\n\u001b[0m\u001b[1;32m      2\u001b[0m \u001b[0mres\u001b[0m\u001b[0;34m\u001b[0m\u001b[0;34m\u001b[0m\u001b[0m\n",
      "\u001b[0;32m~/Projects/threads/molmat/openforcefield/qca-management/qca-dataset-submission/management/management.py\u001b[0m in \u001b[0;36mget_unfinished_optimizations\u001b[0;34m(dataset, spec, client, dropna)\u001b[0m\n\u001b[1;32m     22\u001b[0m         \u001b[0mdf\u001b[0m \u001b[0;34m=\u001b[0m \u001b[0mds\u001b[0m\u001b[0;34m.\u001b[0m\u001b[0mdf\u001b[0m\u001b[0;34m\u001b[0m\u001b[0;34m\u001b[0m\u001b[0m\n\u001b[1;32m     23\u001b[0m \u001b[0;34m\u001b[0m\u001b[0m\n\u001b[0;32m---> 24\u001b[0;31m     \u001b[0mids\u001b[0m \u001b[0;34m=\u001b[0m \u001b[0mlist\u001b[0m\u001b[0;34m(\u001b[0m\u001b[0mset\u001b[0m\u001b[0;34m(\u001b[0m\u001b[0mi\u001b[0m\u001b[0;34m.\u001b[0m\u001b[0mid\u001b[0m \u001b[0;32mfor\u001b[0m \u001b[0mi\u001b[0m \u001b[0;32min\u001b[0m \u001b[0mdf\u001b[0m\u001b[0;34m[\u001b[0m\u001b[0mspec\u001b[0m\u001b[0;34m]\u001b[0m\u001b[0;34m)\u001b[0m\u001b[0;34m)\u001b[0m\u001b[0;34m\u001b[0m\u001b[0;34m\u001b[0m\u001b[0m\n\u001b[0m\u001b[1;32m     25\u001b[0m \u001b[0;34m\u001b[0m\u001b[0m\n\u001b[1;32m     26\u001b[0m     \u001b[0mres\u001b[0m \u001b[0;34m=\u001b[0m \u001b[0m_query_procedures\u001b[0m\u001b[0;34m(\u001b[0m\u001b[0mids\u001b[0m\u001b[0;34m,\u001b[0m \u001b[0mclient\u001b[0m\u001b[0;34m)\u001b[0m\u001b[0;34m\u001b[0m\u001b[0;34m\u001b[0m\u001b[0m\n",
      "\u001b[0;32m~/Projects/threads/molmat/openforcefield/qca-management/qca-dataset-submission/management/management.py\u001b[0m in \u001b[0;36m<genexpr>\u001b[0;34m(.0)\u001b[0m\n\u001b[1;32m     22\u001b[0m         \u001b[0mdf\u001b[0m \u001b[0;34m=\u001b[0m \u001b[0mds\u001b[0m\u001b[0;34m.\u001b[0m\u001b[0mdf\u001b[0m\u001b[0;34m\u001b[0m\u001b[0;34m\u001b[0m\u001b[0m\n\u001b[1;32m     23\u001b[0m \u001b[0;34m\u001b[0m\u001b[0m\n\u001b[0;32m---> 24\u001b[0;31m     \u001b[0mids\u001b[0m \u001b[0;34m=\u001b[0m \u001b[0mlist\u001b[0m\u001b[0;34m(\u001b[0m\u001b[0mset\u001b[0m\u001b[0;34m(\u001b[0m\u001b[0mi\u001b[0m\u001b[0;34m.\u001b[0m\u001b[0mid\u001b[0m \u001b[0;32mfor\u001b[0m \u001b[0mi\u001b[0m \u001b[0;32min\u001b[0m \u001b[0mdf\u001b[0m\u001b[0;34m[\u001b[0m\u001b[0mspec\u001b[0m\u001b[0;34m]\u001b[0m\u001b[0;34m)\u001b[0m\u001b[0;34m)\u001b[0m\u001b[0;34m\u001b[0m\u001b[0;34m\u001b[0m\u001b[0m\n\u001b[0m\u001b[1;32m     25\u001b[0m \u001b[0;34m\u001b[0m\u001b[0m\n\u001b[1;32m     26\u001b[0m     \u001b[0mres\u001b[0m \u001b[0;34m=\u001b[0m \u001b[0m_query_procedures\u001b[0m\u001b[0;34m(\u001b[0m\u001b[0mids\u001b[0m\u001b[0;34m,\u001b[0m \u001b[0mclient\u001b[0m\u001b[0;34m)\u001b[0m\u001b[0;34m\u001b[0m\u001b[0;34m\u001b[0m\u001b[0m\n",
      "\u001b[0;31mAttributeError\u001b[0m: 'float' object has no attribute 'id'"
     ]
    }
   ],
   "source": [
    "resm = get_unfinished_optimizations(ds, 'default', client)\n",
    "resm"
   ]
  },
  {
   "cell_type": "code",
   "execution_count": 13,
   "metadata": {},
   "outputs": [
    {
     "data": {
      "text/plain": [
       "Cc1ccccc1OC2CCCCC2-0a    NaN\n",
       "Cc1ccccc1OC2CCCCC2-1a    NaN\n",
       "Cc1ccccc1OC2CCCCC2-2a    NaN\n",
       "Cc1ccccc1OC2CCCCC2-3a    NaN\n",
       "Name: default, dtype: object"
      ]
     },
     "execution_count": 13,
     "metadata": {},
     "output_type": "execute_result"
    }
   ],
   "source": [
    "ds.df.default[ds.df.default.isnull()]"
   ]
  },
  {
   "cell_type": "markdown",
   "metadata": {},
   "source": [
    "What is this??? Perhaps we need to resubmit???"
   ]
  },
  {
   "cell_type": "code",
   "execution_count": 16,
   "metadata": {},
   "outputs": [
    {
     "data": {
      "text/plain": [
       "[]"
      ]
     },
     "execution_count": 16,
     "metadata": {},
     "output_type": "execute_result"
    }
   ],
   "source": [
    "resm = get_unfinished_optimizations(ds, 'default', client, dropna=True)\n",
    "resm"
   ]
  },
  {
   "cell_type": "code",
   "execution_count": 17,
   "metadata": {},
   "outputs": [],
   "source": [
    "restart_optimizations(resm, client)"
   ]
  },
  {
   "cell_type": "markdown",
   "metadata": {},
   "source": [
    "## Dataset tracking - OpenFF Gen 2 Opt Set 2 Coverage"
   ]
  },
  {
   "cell_type": "markdown",
   "metadata": {},
   "source": [
    "### 2020.06.27 01:42"
   ]
  },
  {
   "cell_type": "code",
   "execution_count": 13,
   "metadata": {},
   "outputs": [],
   "source": [
    "dataset = \"OpenFF Gen 2 Opt Set 2 Coverage\""
   ]
  },
  {
   "cell_type": "code",
   "execution_count": 14,
   "metadata": {},
   "outputs": [],
   "source": [
    "ds = client.get_collection(\"OptimizationDataset\", dataset)"
   ]
  },
  {
   "cell_type": "code",
   "execution_count": 15,
   "metadata": {},
   "outputs": [
    {
     "data": {
      "text/plain": [
       "[OptimizationRecord(id='18433828', status='ERROR'),\n",
       " OptimizationRecord(id='18433929', status='ERROR'),\n",
       " OptimizationRecord(id='18433930', status='ERROR'),\n",
       " OptimizationRecord(id='18433944', status='ERROR'),\n",
       " OptimizationRecord(id='18433984', status='ERROR'),\n",
       " OptimizationRecord(id='18433988', status='ERROR'),\n",
       " OptimizationRecord(id='18434010', status='ERROR'),\n",
       " OptimizationRecord(id='18434013', status='ERROR'),\n",
       " OptimizationRecord(id='18434015', status='ERROR'),\n",
       " OptimizationRecord(id='18434075', status='ERROR'),\n",
       " OptimizationRecord(id='18434085', status='ERROR'),\n",
       " OptimizationRecord(id='18434088', status='ERROR'),\n",
       " OptimizationRecord(id='18434121', status='ERROR')]"
      ]
     },
     "execution_count": 15,
     "metadata": {},
     "output_type": "execute_result"
    }
   ],
   "source": [
    "resm = get_unfinished_optimizations(ds, 'default', client, dropna=True)\n",
    "resm"
   ]
  },
  {
   "cell_type": "code",
   "execution_count": 17,
   "metadata": {},
   "outputs": [],
   "source": [
    "incomplete = (opt.dict() for opt in resm if opt.status == 'INCOMPLETE')"
   ]
  },
  {
   "cell_type": "code",
   "execution_count": 18,
   "metadata": {},
   "outputs": [
    {
     "ename": "StopIteration",
     "evalue": "",
     "output_type": "error",
     "traceback": [
      "\u001b[0;31m---------------------------------------------------------------------------\u001b[0m",
      "\u001b[0;31mStopIteration\u001b[0m                             Traceback (most recent call last)",
      "\u001b[0;32m<ipython-input-18-3729b8af7b87>\u001b[0m in \u001b[0;36m<module>\u001b[0;34m\u001b[0m\n\u001b[0;32m----> 1\u001b[0;31m \u001b[0mnext\u001b[0m\u001b[0;34m(\u001b[0m\u001b[0mincomplete\u001b[0m\u001b[0;34m)\u001b[0m\u001b[0;34m\u001b[0m\u001b[0;34m\u001b[0m\u001b[0m\n\u001b[0m",
      "\u001b[0;31mStopIteration\u001b[0m: "
     ]
    }
   ],
   "source": [
    "next(incomplete)"
   ]
  },
  {
   "cell_type": "code",
   "execution_count": 16,
   "metadata": {},
   "outputs": [
    {
     "name": "stdout",
     "output_type": "stream",
     "text": [
      "There are 4 instances of\n",
      "-------------------------------------\n",
      "geomeTRIC run_json error:\n",
      "Traceback (most recent call last):\n",
      "  File \"/data/homezvol0/tgokey/.local/miniconda3/envs/qcf/lib/python3.7/site-packages/geometric/run_json.py\", line 214, in geometric_run_json\n",
      "    geometric.optimize.Optimize(coords, M, IC, engine, None, params)\n",
      "  File \"/data/homezvol0/tgokey/.local/miniconda3/envs/qcf/lib/python3.7/site-packages/geometric/optimize.py\", line 1331, in Optimize\n",
      "    return optimizer.optimizeGeometry()\n",
      "  File \"/data/homezvol0/tgokey/.local/miniconda3/envs/qcf/lib/python3.7/site-packages/geometric/optimize.py\", line 1298, in optimizeGeometry\n",
      "    self.calcEnergyForce()\n",
      "  File \"/data/homezvol0/tgokey/.local/miniconda3/envs/qcf/lib/python3.7/site-packages/geometric/optimize.py\", line 1002, in calcEnergyForce\n",
      "    spcalc = self.engine.calc(self.X, self.dirname)\n",
      "  File \"/data/homezvol0/tgokey/.local/miniconda3/envs/qcf/lib/python3.7/site-packages/geometric/engine.py\", line 873, in calc\n",
      "    return self.calc_new(coords, dirname)\n",
      "  File \"/data/homezvol0/tgokey/.local/miniconda3/envs/qcf/lib/python3.7/site-packages/geometric/engine.py\", line 865, in calc_new\n",
      "    raise QCEngineAPIEngineError(\"QCEngineAPI computation did not execute correctly. Message: \" + ret[\"error\"][\"error_message\"])\n",
      "geometric.errors.QCEngineAPIEngineError: QCEngineAPI computation did not execute correctly. Message: QCEngine Unknown Error: Traceback (most recent call last):\n",
      "  File \"/data/homezvol0/tgokey/.local/miniconda3/envs/qcf/lib//python3.7/site-packages/psi4/driver/json_wrapper.py\", line 217, in run_json\n",
      "    json_data = run_json_qcschema(copy.deepcopy(json_data), clean)\n",
      "  File \"/data/homezvol0/tgokey/.local/miniconda3/envs/qcf/lib//python3.7/site-packages/psi4/driver/json_wrapper.py\", line 312, in run_json_qcschema\n",
      "    val, wfn = methods_dict_[json_data[\"driver\"]](method, **kwargs)\n",
      "  File \"/data/homezvol0/tgokey/.local/miniconda3/envs/qcf/lib//python3.7/site-packages/psi4/driver/driver.py\", line 691, in gradient\n",
      "    wfn = procedures['gradient'][lowername](lowername, molecule=molecule, **kwargs)\n",
      "  File \"/data/homezvol0/tgokey/.local/miniconda3/envs/qcf/lib//python3.7/site-packages/psi4/driver/procrouting/proc.py\", line 2064, in run_scf_gradient\n",
      "    ref_wfn = run_scf(name, **kwargs)\n",
      "  File \"/data/homezvol0/tgokey/.local/miniconda3/envs/qcf/lib//python3.7/site-packages/psi4/driver/procrouting/proc.py\", line 2002, in run_scf\n",
      "    scf_wfn = scf_helper(name, post_scf=False, **kwargs)\n",
      "  File \"/data/homezvol0/tgokey/.local/miniconda3/envs/qcf/lib//python3.7/site-packages/psi4/driver/procrouting/proc.py\", line 1363, in scf_helper\n",
      "    e_scf = scf_wfn.compute_energy()\n",
      "  File \"/data/homezvol0/tgokey/.local/miniconda3/envs/qcf/lib//python3.7/site-packages/psi4/driver/procrouting/scf_proc/scf_iterator.py\", line 94, in scf_compute_energy\n",
      "    raise e\n",
      "  File \"/data/homezvol0/tgokey/.local/miniconda3/envs/qcf/lib//python3.7/site-packages/psi4/driver/procrouting/scf_proc/scf_iterator.py\", line 87, in scf_compute_energy\n",
      "    self.iterations()\n",
      "  File \"/data/homezvol0/tgokey/.local/miniconda3/envs/qcf/lib//python3.7/site-packages/psi4/driver/procrouting/scf_proc/scf_iterator.py\", line 447, in scf_iterate\n",
      "    raise SCFConvergenceError(\"\"\"SCF iterations\"\"\", self.iteration_, self, Ediff, Dnorm)\n",
      "psi4.driver.p4util.exceptions.SCFConvergenceError: Could not converge SCF iterations in 200 iterations.\n",
      "\n",
      "\n",
      "-------------------------------------\n",
      "\n",
      "There are 1 instances of\n",
      "-------------------------------------\n",
      "Caught Executor Error:\n",
      "Traceback (most recent call last):\n",
      "  File \"/data/homezvol0/tgokey/opt/lib/python3.7/site-packages/qcfractal-0.13.1+54.g3caa178.dirty-py3.7.egg/qcfractal/queue/executor_adapter.py\", line 15, in _get_future\n",
      "    return future.result()\n",
      "  File \"/data/homezvol0/tgokey/.local/miniconda3/envs/qcf/lib/python3.7/site-packages/distributed/client.py\", line 218, in result\n",
      "    raise exc.with_traceback(tb)\n",
      "distributed.scheduler.KilledWorker: ('compute_procedure-91f2637058007e58bdabd3e8cad867bb', <Worker 'tcp://10.240.60.24:36540', name: 58, memory: 0, processing: 22>)\n",
      "\n",
      "-------------------------------------\n",
      "\n",
      "There are 1 instances of\n",
      "-------------------------------------\n",
      "Caught Executor Error:\n",
      "Traceback (most recent call last):\n",
      "  File \"/data/homezvol0/tgokey/opt/lib/python3.7/site-packages/qcfractal-0.13.1+54.g3caa178.dirty-py3.7.egg/qcfractal/queue/executor_adapter.py\", line 15, in _get_future\n",
      "    return future.result()\n",
      "  File \"/data/homezvol0/tgokey/.local/miniconda3/envs/qcf/lib/python3.7/site-packages/distributed/client.py\", line 218, in result\n",
      "    raise exc.with_traceback(tb)\n",
      "distributed.scheduler.KilledWorker: ('compute_procedure-19f63144446503841859bf6b9fe9f1b6', <Worker 'tcp://10.240.60.34:44059', name: 67, memory: 0, processing: 1>)\n",
      "\n",
      "-------------------------------------\n",
      "\n",
      "There are 1 instances of\n",
      "-------------------------------------\n",
      "Caught Executor Error:\n",
      "Traceback (most recent call last):\n",
      "  File \"/data/homezvol0/tgokey/opt/lib/python3.7/site-packages/qcfractal-0.13.1+54.g3caa178.dirty-py3.7.egg/qcfractal/queue/executor_adapter.py\", line 15, in _get_future\n",
      "    return future.result()\n",
      "  File \"/data/homezvol0/tgokey/.local/miniconda3/envs/qcf/lib/python3.7/site-packages/distributed/client.py\", line 218, in result\n",
      "    raise exc.with_traceback(tb)\n",
      "distributed.scheduler.KilledWorker: ('compute_procedure-a90abb8bee6921ce257c84df1ce2e146', <Worker 'tcp://10.240.60.20:39720', name: 62, memory: 0, processing: 2>)\n",
      "\n",
      "-------------------------------------\n",
      "\n",
      "There are 1 instances of\n",
      "-------------------------------------\n",
      "geomeTRIC run_json error:\n",
      "Traceback (most recent call last):\n",
      "  File \"/data/homezvol0/tgokey/.local/miniconda3/envs/qcf/lib/python3.7/site-packages/geometric/run_json.py\", line 214, in geometric_run_json\n",
      "    geometric.optimize.Optimize(coords, M, IC, engine, None, params)\n",
      "  File \"/data/homezvol0/tgokey/.local/miniconda3/envs/qcf/lib/python3.7/site-packages/geometric/optimize.py\", line 1331, in Optimize\n",
      "    return optimizer.optimizeGeometry()\n",
      "  File \"/data/homezvol0/tgokey/.local/miniconda3/envs/qcf/lib/python3.7/site-packages/geometric/optimize.py\", line 1301, in optimizeGeometry\n",
      "    raise GeomOptNotConvergedError(\"Optimizer.optimizeGeometry() failed to converge.\")\n",
      "geometric.errors.GeomOptNotConvergedError: Optimizer.optimizeGeometry() failed to converge.\n",
      "\n",
      "-------------------------------------\n",
      "\n",
      "There are 1 instances of\n",
      "-------------------------------------\n",
      "Caught Executor Error:\n",
      "Traceback (most recent call last):\n",
      "  File \"/data/homezvol0/tgokey/opt/lib/python3.7/site-packages/qcfractal-0.13.1+54.g3caa178.dirty-py3.7.egg/qcfractal/queue/executor_adapter.py\", line 15, in _get_future\n",
      "    return future.result()\n",
      "  File \"/data/homezvol0/tgokey/.local/miniconda3/envs/qcf/lib/python3.7/site-packages/distributed/client.py\", line 218, in result\n",
      "    raise exc.with_traceback(tb)\n",
      "distributed.scheduler.KilledWorker: ('compute_procedure-6242c2749e519a7d7fd9a97e75d47fae', <Worker 'tcp://10.240.60.35:33507', name: 79, memory: 0, processing: 1>)\n",
      "\n",
      "-------------------------------------\n",
      "\n",
      "There are 1 instances of\n",
      "-------------------------------------\n",
      "Caught Executor Error:\n",
      "Traceback (most recent call last):\n",
      "  File \"/data/homezvol0/tgokey/opt/lib/python3.7/site-packages/qcfractal-0.13.1+54.g3caa178.dirty-py3.7.egg/qcfractal/queue/executor_adapter.py\", line 15, in _get_future\n",
      "    return future.result()\n",
      "  File \"/data/homezvol0/tgokey/.local/miniconda3/envs/qcf/lib/python3.7/site-packages/distributed/client.py\", line 218, in result\n",
      "    raise exc.with_traceback(tb)\n",
      "distributed.scheduler.KilledWorker: ('compute_procedure-d0d274fd7524544d9bbf9631d06b24a0', <Worker 'tcp://10.240.60.24:36540', name: 58, memory: 0, processing: 22>)\n",
      "\n",
      "-------------------------------------\n",
      "\n",
      "There are 1 instances of\n",
      "-------------------------------------\n",
      "Caught Executor Error:\n",
      "Traceback (most recent call last):\n",
      "  File \"/data/homezvol0/tgokey/opt/lib/python3.7/site-packages/qcfractal-0.13.1+54.g3caa178.dirty-py3.7.egg/qcfractal/queue/executor_adapter.py\", line 15, in _get_future\n",
      "    return future.result()\n",
      "  File \"/data/homezvol0/tgokey/.local/miniconda3/envs/qcf/lib/python3.7/site-packages/distributed/client.py\", line 218, in result\n",
      "    raise exc.with_traceback(tb)\n",
      "distributed.scheduler.KilledWorker: ('compute_procedure-04d0739d31367380ba17489df9212257', <Worker 'tcp://10.240.60.20:39720', name: 62, memory: 0, processing: 2>)\n",
      "\n",
      "-------------------------------------\n",
      "\n",
      "There are 1 instances of\n",
      "-------------------------------------\n",
      "Caught Executor Error:\n",
      "Traceback (most recent call last):\n",
      "  File \"/data/homezvol0/tgokey/opt/lib/python3.7/site-packages/qcfractal-0.13.1+54.g3caa178.dirty-py3.7.egg/qcfractal/queue/executor_adapter.py\", line 15, in _get_future\n",
      "    return future.result()\n",
      "  File \"/data/homezvol0/tgokey/.local/miniconda3/envs/qcf/lib/python3.7/site-packages/distributed/client.py\", line 218, in result\n",
      "    raise exc.with_traceback(tb)\n",
      "distributed.scheduler.KilledWorker: ('compute_procedure-5ad7c1b5173833d4b15e4784099975c2', <Worker 'tcp://10.240.60.30:43931', name: 78, memory: 0, processing: 1>)\n",
      "\n",
      "-------------------------------------\n",
      "\n",
      "There are 1 instances of\n",
      "-------------------------------------\n",
      "Caught Executor Error:\n",
      "Traceback (most recent call last):\n",
      "  File \"/data/homezvol0/tgokey/opt/lib/python3.7/site-packages/qcfractal-0.13.1+54.g3caa178.dirty-py3.7.egg/qcfractal/queue/executor_adapter.py\", line 15, in _get_future\n",
      "    return future.result()\n",
      "  File \"/data/homezvol0/tgokey/.local/miniconda3/envs/qcf/lib/python3.7/site-packages/distributed/client.py\", line 218, in result\n",
      "    raise exc.with_traceback(tb)\n",
      "distributed.scheduler.KilledWorker: ('compute_procedure-8cb22ab4d3bb2d7e3ac5698811f7b115', <Worker 'tcp://10.240.60.41:41982', name: 32, memory: 0, processing: 34>)\n",
      "\n",
      "-------------------------------------\n",
      "\n"
     ]
    }
   ],
   "source": [
    "count_unique_optimization_error_messages(resm, full=True, pretty_print=True)"
   ]
  },
  {
   "cell_type": "code",
   "execution_count": 19,
   "metadata": {},
   "outputs": [
    {
     "name": "stdout",
     "output_type": "stream",
     "text": [
      "OptimizationRecord(id='18433828', status='ERROR')\n",
      "OptimizationRecord(id='18433929', status='ERROR')\n",
      "OptimizationRecord(id='18433930', status='ERROR')\n",
      "OptimizationRecord(id='18433944', status='ERROR')\n",
      "OptimizationRecord(id='18433984', status='ERROR')\n",
      "OptimizationRecord(id='18433988', status='ERROR')\n",
      "OptimizationRecord(id='18434010', status='ERROR')\n",
      "OptimizationRecord(id='18434013', status='ERROR')\n",
      "OptimizationRecord(id='18434015', status='ERROR')\n",
      "OptimizationRecord(id='18434075', status='ERROR')\n",
      "OptimizationRecord(id='18434085', status='ERROR')\n",
      "OptimizationRecord(id='18434088', status='ERROR')\n",
      "OptimizationRecord(id='18434121', status='ERROR')\n"
     ]
    }
   ],
   "source": [
    "restart_optimizations(resm, client)"
   ]
  },
  {
   "cell_type": "markdown",
   "metadata": {},
   "source": [
    "Just INCOMPLETEs now."
   ]
  },
  {
   "cell_type": "markdown",
   "metadata": {},
   "source": [
    "### 2020.06.18 14:35"
   ]
  },
  {
   "cell_type": "code",
   "execution_count": 9,
   "metadata": {},
   "outputs": [],
   "source": [
    "dataset = \"OpenFF Gen 2 Opt Set 2 Coverage\""
   ]
  },
  {
   "cell_type": "code",
   "execution_count": 10,
   "metadata": {},
   "outputs": [],
   "source": [
    "ds = client.get_collection(\"OptimizationDataset\", dataset)"
   ]
  },
  {
   "cell_type": "code",
   "execution_count": 11,
   "metadata": {},
   "outputs": [
    {
     "data": {
      "text/plain": [
       "[OptimizationRecord(id='18433828', status='INCOMPLETE'),\n",
       " OptimizationRecord(id='18433929', status='INCOMPLETE'),\n",
       " OptimizationRecord(id='18433930', status='INCOMPLETE'),\n",
       " OptimizationRecord(id='18433937', status='INCOMPLETE'),\n",
       " OptimizationRecord(id='18433944', status='INCOMPLETE'),\n",
       " OptimizationRecord(id='18433984', status='INCOMPLETE'),\n",
       " OptimizationRecord(id='18433988', status='INCOMPLETE'),\n",
       " OptimizationRecord(id='18434010', status='INCOMPLETE'),\n",
       " OptimizationRecord(id='18434013', status='INCOMPLETE'),\n",
       " OptimizationRecord(id='18434015', status='INCOMPLETE'),\n",
       " OptimizationRecord(id='18434075', status='INCOMPLETE'),\n",
       " OptimizationRecord(id='18434085', status='INCOMPLETE'),\n",
       " OptimizationRecord(id='18434088', status='INCOMPLETE'),\n",
       " OptimizationRecord(id='18434121', status='INCOMPLETE')]"
      ]
     },
     "execution_count": 11,
     "metadata": {},
     "output_type": "execute_result"
    }
   ],
   "source": [
    "resm = get_unfinished_optimizations(ds, 'default', client, dropna=True)\n",
    "resm"
   ]
  },
  {
   "cell_type": "code",
   "execution_count": 12,
   "metadata": {},
   "outputs": [],
   "source": [
    "count_unique_optimization_error_messages(resm, full=True, pretty_print=True)"
   ]
  },
  {
   "cell_type": "code",
   "execution_count": 13,
   "metadata": {},
   "outputs": [],
   "source": [
    "restart_optimizations(resm, client)"
   ]
  },
  {
   "cell_type": "markdown",
   "metadata": {},
   "source": [
    "Just INCOMPLETEs now."
   ]
  },
  {
   "cell_type": "code",
   "execution_count": 51,
   "metadata": {},
   "outputs": [],
   "source": [
    "incomplete = (opt.dict() for opt in resm if opt.status == 'INCOMPLETE')"
   ]
  },
  {
   "cell_type": "code",
   "execution_count": 55,
   "metadata": {},
   "outputs": [
    {
     "data": {
      "text/plain": [
       "{'id': '18433937',\n",
       " 'hash_index': '8b7b383a3369bd3ea37da311d7a94a46b3ce0475',\n",
       " 'procedure': 'optimization',\n",
       " 'program': 'geometric',\n",
       " 'version': 1,\n",
       " 'protocols': {},\n",
       " 'extras': {},\n",
       " 'stdout': None,\n",
       " 'stderr': None,\n",
       " 'error': '24415445',\n",
       " 'task_id': None,\n",
       " 'manager_name': 'PacificResearchPlatform2-openff-qca2-68d8767d74-7lzsh-72603f50-770a-45d9-a154-2f26ee68a05f',\n",
       " 'status': <RecordStatusEnum.incomplete: 'INCOMPLETE'>,\n",
       " 'modified_on': datetime.datetime(2020, 6, 11, 22, 0, 14, 423917),\n",
       " 'created_on': datetime.datetime(2020, 3, 24, 0, 29, 7, 797554),\n",
       " 'provenance': None,\n",
       " 'schema_version': 1,\n",
       " 'initial_molecule': '1455920',\n",
       " 'qc_spec': {'driver': <DriverEnum.gradient: 'gradient'>,\n",
       "  'method': 'b3lyp-d3bj',\n",
       "  'basis': 'dzvp',\n",
       "  'keywords': '2',\n",
       "  'program': 'psi4'},\n",
       " 'keywords': {'program': 'psi4'},\n",
       " 'energies': None,\n",
       " 'final_molecule': None,\n",
       " 'trajectory': None}"
      ]
     },
     "execution_count": 55,
     "metadata": {},
     "output_type": "execute_result"
    }
   ],
   "source": [
    "next(incomplete)"
   ]
  },
  {
   "cell_type": "markdown",
   "metadata": {},
   "source": [
    "All INCOMPLETEs about a week old, since we submitted last."
   ]
  },
  {
   "cell_type": "markdown",
   "metadata": {},
   "source": [
    "### 2020.06.11 22:00"
   ]
  },
  {
   "cell_type": "code",
   "execution_count": 23,
   "metadata": {},
   "outputs": [],
   "source": [
    "dataset = \"OpenFF Gen 2 Opt Set 2 Coverage\""
   ]
  },
  {
   "cell_type": "code",
   "execution_count": 24,
   "metadata": {},
   "outputs": [],
   "source": [
    "ds = client.get_collection(\"OptimizationDataset\", dataset)"
   ]
  },
  {
   "cell_type": "code",
   "execution_count": 25,
   "metadata": {},
   "outputs": [
    {
     "data": {
      "text/plain": [
       "[OptimizationRecord(id='18433828', status='ERROR'),\n",
       " OptimizationRecord(id='18433929', status='ERROR'),\n",
       " OptimizationRecord(id='18433930', status='ERROR'),\n",
       " OptimizationRecord(id='18433937', status='ERROR'),\n",
       " OptimizationRecord(id='18433944', status='ERROR'),\n",
       " OptimizationRecord(id='18433984', status='ERROR'),\n",
       " OptimizationRecord(id='18433988', status='ERROR'),\n",
       " OptimizationRecord(id='18434010', status='ERROR'),\n",
       " OptimizationRecord(id='18434013', status='ERROR'),\n",
       " OptimizationRecord(id='18434015', status='ERROR'),\n",
       " OptimizationRecord(id='18434075', status='ERROR'),\n",
       " OptimizationRecord(id='18434085', status='ERROR'),\n",
       " OptimizationRecord(id='18434088', status='ERROR'),\n",
       " OptimizationRecord(id='18434121', status='ERROR')]"
      ]
     },
     "execution_count": 25,
     "metadata": {},
     "output_type": "execute_result"
    }
   ],
   "source": [
    "resm = get_unfinished_optimizations(ds, 'default', client, dropna=True)\n",
    "resm"
   ]
  },
  {
   "cell_type": "code",
   "execution_count": 30,
   "metadata": {},
   "outputs": [
    {
     "name": "stdout",
     "output_type": "stream",
     "text": [
      "There are 1 instances of\n",
      "-------------------------------------\n",
      "geomeTRIC run_json error:\n",
      "Traceback (most recent call last):\n",
      "  File \"/home/bpp4/miniconda3/envs/qca_manager/lib/python3.7/site-packages/geometric/run_json.py\", line 214, in geometric_run_json\n",
      "    geometric.optimize.Optimize(coords, M, IC, engine, None, params)\n",
      "  File \"/home/bpp4/miniconda3/envs/qca_manager/lib/python3.7/site-packages/geometric/optimize.py\", line 1331, in Optimize\n",
      "    return optimizer.optimizeGeometry()\n",
      "  File \"/home/bpp4/miniconda3/envs/qca_manager/lib/python3.7/site-packages/geometric/optimize.py\", line 1298, in optimizeGeometry\n",
      "    self.calcEnergyForce()\n",
      "  File \"/home/bpp4/miniconda3/envs/qca_manager/lib/python3.7/site-packages/geometric/optimize.py\", line 1002, in calcEnergyForce\n",
      "    spcalc = self.engine.calc(self.X, self.dirname)\n",
      "  File \"/home/bpp4/miniconda3/envs/qca_manager/lib/python3.7/site-packages/geometric/engine.py\", line 873, in calc\n",
      "    return self.calc_new(coords, dirname)\n",
      "  File \"/home/bpp4/miniconda3/envs/qca_manager/lib/python3.7/site-packages/geometric/engine.py\", line 865, in calc_new\n",
      "    raise QCEngineAPIEngineError(\"QCEngineAPI computation did not execute correctly. Message: \" + ret[\"error\"][\"error_message\"])\n",
      "geometric.errors.QCEngineAPIEngineError: QCEngineAPI computation did not execute correctly. Message: QCEngine Unknown Error: Traceback (most recent call last):\n",
      "  File \"/home/bpp4/miniconda3/envs/qca_manager/lib//python3.7/site-packages/psi4/driver/schema_wrapper.py\", line 391, in run_qcschema\n",
      "    ret_data = run_json_qcschema(input_model.dict(), clean, False, keep_wfn=keep_wfn)\n",
      "  File \"/home/bpp4/miniconda3/envs/qca_manager/lib//python3.7/site-packages/psi4/driver/schema_wrapper.py\", line 538, in run_json_qcschema\n",
      "    val, wfn = methods_dict_[json_data[\"driver\"]](method, **kwargs)\n",
      "  File \"/home/bpp4/miniconda3/envs/qca_manager/lib//python3.7/site-packages/psi4/driver/driver.py\", line 711, in gradient\n",
      "    wfn = procedures['gradient'][lowername](lowername, molecule=molecule, **kwargs)\n",
      "  File \"/home/bpp4/miniconda3/envs/qca_manager/lib//python3.7/site-packages/psi4/driver/procrouting/proc.py\", line 2310, in run_scf_gradient\n",
      "    ref_wfn = run_scf(name, **kwargs)\n",
      "  File \"/home/bpp4/miniconda3/envs/qca_manager/lib//python3.7/site-packages/psi4/driver/procrouting/proc.py\", line 2215, in run_scf\n",
      "    scf_wfn = scf_helper(name, post_scf=False, **kwargs)\n",
      "  File \"/home/bpp4/miniconda3/envs/qca_manager/lib//python3.7/site-packages/psi4/driver/procrouting/proc.py\", line 1516, in scf_helper\n",
      "    e_scf = scf_wfn.compute_energy()\n",
      "  File \"/home/bpp4/miniconda3/envs/qca_manager/lib//python3.7/site-packages/psi4/driver/procrouting/scf_proc/scf_iterator.py\", line 93, in scf_compute_energy\n",
      "    raise e\n",
      "  File \"/home/bpp4/miniconda3/envs/qca_manager/lib//python3.7/site-packages/psi4/driver/procrouting/scf_proc/scf_iterator.py\", line 86, in scf_compute_energy\n",
      "    self.iterations()\n",
      "  File \"/home/bpp4/miniconda3/envs/qca_manager/lib//python3.7/site-packages/psi4/driver/procrouting/scf_proc/scf_iterator.py\", line 464, in scf_iterate\n",
      "    raise SCFConvergenceError(\"\"\"SCF iterations\"\"\", self.iteration_, self, Ediff, Dnorm)\n",
      "psi4.driver.p4util.exceptions.SCFConvergenceError: Could not converge SCF iterations in 200 iterations.\n",
      "\n",
      "\n",
      "-------------------------------------\n",
      "\n",
      "There are 4 instances of\n",
      "-------------------------------------\n",
      "geomeTRIC run_json error:\n",
      "Traceback (most recent call last):\n",
      "  File \"/data/homezvol0/tgokey/.local/miniconda3/envs/qcf/lib/python3.7/site-packages/geometric/run_json.py\", line 214, in geometric_run_json\n",
      "    geometric.optimize.Optimize(coords, M, IC, engine, None, params)\n",
      "  File \"/data/homezvol0/tgokey/.local/miniconda3/envs/qcf/lib/python3.7/site-packages/geometric/optimize.py\", line 1331, in Optimize\n",
      "    return optimizer.optimizeGeometry()\n",
      "  File \"/data/homezvol0/tgokey/.local/miniconda3/envs/qcf/lib/python3.7/site-packages/geometric/optimize.py\", line 1301, in optimizeGeometry\n",
      "    raise GeomOptNotConvergedError(\"Optimizer.optimizeGeometry() failed to converge.\")\n",
      "geometric.errors.GeomOptNotConvergedError: Optimizer.optimizeGeometry() failed to converge.\n",
      "\n",
      "-------------------------------------\n",
      "\n",
      "There are 6 instances of\n",
      "-------------------------------------\n",
      "geomeTRIC run_json error:\n",
      "Traceback (most recent call last):\n",
      "  File \"/opt/conda/envs/qcfractal/lib/python3.6/site-packages/geometric/run_json.py\", line 214, in geometric_run_json\n",
      "    geometric.optimize.Optimize(coords, M, IC, engine, None, params)\n",
      "  File \"/opt/conda/envs/qcfractal/lib/python3.6/site-packages/geometric/optimize.py\", line 1331, in Optimize\n",
      "    return optimizer.optimizeGeometry()\n",
      "  File \"/opt/conda/envs/qcfractal/lib/python3.6/site-packages/geometric/optimize.py\", line 1301, in optimizeGeometry\n",
      "    raise GeomOptNotConvergedError(\"Optimizer.optimizeGeometry() failed to converge.\")\n",
      "geometric.errors.GeomOptNotConvergedError: Optimizer.optimizeGeometry() failed to converge.\n",
      "\n",
      "-------------------------------------\n",
      "\n",
      "There are 1 instances of\n",
      "-------------------------------------\n",
      "geomeTRIC run_json error:\n",
      "Traceback (most recent call last):\n",
      "  File \"/home/chodera/miniconda/envs/qcfractal/lib/python3.6/site-packages/geometric/run_json.py\", line 214, in geometric_run_json\n",
      "    geometric.optimize.Optimize(coords, M, IC, engine, None, params)\n",
      "  File \"/home/chodera/miniconda/envs/qcfractal/lib/python3.6/site-packages/geometric/optimize.py\", line 1331, in Optimize\n",
      "    return optimizer.optimizeGeometry()\n",
      "  File \"/home/chodera/miniconda/envs/qcfractal/lib/python3.6/site-packages/geometric/optimize.py\", line 1298, in optimizeGeometry\n",
      "    self.calcEnergyForce()\n",
      "  File \"/home/chodera/miniconda/envs/qcfractal/lib/python3.6/site-packages/geometric/optimize.py\", line 1002, in calcEnergyForce\n",
      "    spcalc = self.engine.calc(self.X, self.dirname)\n",
      "  File \"/home/chodera/miniconda/envs/qcfractal/lib/python3.6/site-packages/geometric/engine.py\", line 873, in calc\n",
      "    return self.calc_new(coords, dirname)\n",
      "  File \"/home/chodera/miniconda/envs/qcfractal/lib/python3.6/site-packages/geometric/engine.py\", line 865, in calc_new\n",
      "    raise QCEngineAPIEngineError(\"QCEngineAPI computation did not execute correctly. Message: \" + ret[\"error\"][\"error_message\"])\n",
      "geometric.errors.QCEngineAPIEngineError: QCEngineAPI computation did not execute correctly. Message: QCEngine Unknown Error: Traceback (most recent call last):\n",
      "  File \"/home/chodera/miniconda/envs/qcfractal/lib//python3.6/site-packages/psi4/driver/json_wrapper.py\", line 217, in run_json\n",
      "    json_data = run_json_qcschema(copy.deepcopy(json_data), clean)\n",
      "  File \"/home/chodera/miniconda/envs/qcfractal/lib//python3.6/site-packages/psi4/driver/json_wrapper.py\", line 312, in run_json_qcschema\n",
      "    val, wfn = methods_dict_[json_data[\"driver\"]](method, **kwargs)\n",
      "  File \"/home/chodera/miniconda/envs/qcfractal/lib//python3.6/site-packages/psi4/driver/driver.py\", line 691, in gradient\n",
      "    wfn = procedures['gradient'][lowername](lowername, molecule=molecule, **kwargs)\n",
      "  File \"/home/chodera/miniconda/envs/qcfractal/lib//python3.6/site-packages/psi4/driver/procrouting/proc.py\", line 2064, in run_scf_gradient\n",
      "    ref_wfn = run_scf(name, **kwargs)\n",
      "  File \"/home/chodera/miniconda/envs/qcfractal/lib//python3.6/site-packages/psi4/driver/procrouting/proc.py\", line 2002, in run_scf\n",
      "    scf_wfn = scf_helper(name, post_scf=False, **kwargs)\n",
      "  File \"/home/chodera/miniconda/envs/qcfractal/lib//python3.6/site-packages/psi4/driver/procrouting/proc.py\", line 1363, in scf_helper\n",
      "    e_scf = scf_wfn.compute_energy()\n",
      "  File \"/home/chodera/miniconda/envs/qcfractal/lib//python3.6/site-packages/psi4/driver/procrouting/scf_proc/scf_iterator.py\", line 94, in scf_compute_energy\n",
      "    raise e\n",
      "  File \"/home/chodera/miniconda/envs/qcfractal/lib//python3.6/site-packages/psi4/driver/procrouting/scf_proc/scf_iterator.py\", line 87, in scf_compute_energy\n",
      "    self.iterations()\n",
      "  File \"/home/chodera/miniconda/envs/qcfractal/lib//python3.6/site-packages/psi4/driver/procrouting/scf_proc/scf_iterator.py\", line 447, in scf_iterate\n",
      "    raise SCFConvergenceError(\"\"\"SCF iterations\"\"\", self.iteration_, self, Ediff, Dnorm)\n",
      "psi4.driver.p4util.exceptions.SCFConvergenceError: Could not converge SCF iterations in 200 iterations.\n",
      "\n",
      "\n",
      "-------------------------------------\n",
      "\n",
      "There are 2 instances of\n",
      "-------------------------------------\n",
      "geomeTRIC run_json error:\n",
      "Traceback (most recent call last):\n",
      "  File \"/opt/conda/envs/qcfractal/lib/python3.6/site-packages/geometric/run_json.py\", line 214, in geometric_run_json\n",
      "    geometric.optimize.Optimize(coords, M, IC, engine, None, params)\n",
      "  File \"/opt/conda/envs/qcfractal/lib/python3.6/site-packages/geometric/optimize.py\", line 1331, in Optimize\n",
      "    return optimizer.optimizeGeometry()\n",
      "  File \"/opt/conda/envs/qcfractal/lib/python3.6/site-packages/geometric/optimize.py\", line 1298, in optimizeGeometry\n",
      "    self.calcEnergyForce()\n",
      "  File \"/opt/conda/envs/qcfractal/lib/python3.6/site-packages/geometric/optimize.py\", line 1002, in calcEnergyForce\n",
      "    spcalc = self.engine.calc(self.X, self.dirname)\n",
      "  File \"/opt/conda/envs/qcfractal/lib/python3.6/site-packages/geometric/engine.py\", line 873, in calc\n",
      "    return self.calc_new(coords, dirname)\n",
      "  File \"/opt/conda/envs/qcfractal/lib/python3.6/site-packages/geometric/engine.py\", line 865, in calc_new\n",
      "    raise QCEngineAPIEngineError(\"QCEngineAPI computation did not execute correctly. Message: \" + ret[\"error\"][\"error_message\"])\n",
      "geometric.errors.QCEngineAPIEngineError: QCEngineAPI computation did not execute correctly. Message: QCEngine Unknown Error: Traceback (most recent call last):\n",
      "  File \"/opt/conda/envs/qcfractal/lib//python3.6/site-packages/psi4/driver/json_wrapper.py\", line 217, in run_json\n",
      "    json_data = run_json_qcschema(copy.deepcopy(json_data), clean)\n",
      "  File \"/opt/conda/envs/qcfractal/lib//python3.6/site-packages/psi4/driver/json_wrapper.py\", line 312, in run_json_qcschema\n",
      "    val, wfn = methods_dict_[json_data[\"driver\"]](method, **kwargs)\n",
      "  File \"/opt/conda/envs/qcfractal/lib//python3.6/site-packages/psi4/driver/driver.py\", line 691, in gradient\n",
      "    wfn = procedures['gradient'][lowername](lowername, molecule=molecule, **kwargs)\n",
      "  File \"/opt/conda/envs/qcfractal/lib//python3.6/site-packages/psi4/driver/procrouting/proc.py\", line 2064, in run_scf_gradient\n",
      "    ref_wfn = run_scf(name, **kwargs)\n",
      "  File \"/opt/conda/envs/qcfractal/lib//python3.6/site-packages/psi4/driver/procrouting/proc.py\", line 2002, in run_scf\n",
      "    scf_wfn = scf_helper(name, post_scf=False, **kwargs)\n",
      "  File \"/opt/conda/envs/qcfractal/lib//python3.6/site-packages/psi4/driver/procrouting/proc.py\", line 1363, in scf_helper\n",
      "    e_scf = scf_wfn.compute_energy()\n",
      "  File \"/opt/conda/envs/qcfractal/lib//python3.6/site-packages/psi4/driver/procrouting/scf_proc/scf_iterator.py\", line 94, in scf_compute_energy\n",
      "    raise e\n",
      "  File \"/opt/conda/envs/qcfractal/lib//python3.6/site-packages/psi4/driver/procrouting/scf_proc/scf_iterator.py\", line 87, in scf_compute_energy\n",
      "    self.iterations()\n",
      "  File \"/opt/conda/envs/qcfractal/lib//python3.6/site-packages/psi4/driver/procrouting/scf_proc/scf_iterator.py\", line 447, in scf_iterate\n",
      "    raise SCFConvergenceError(\"\"\"SCF iterations\"\"\", self.iteration_, self, Ediff, Dnorm)\n",
      "psi4.driver.p4util.exceptions.SCFConvergenceError: Could not converge SCF iterations in 200 iterations.\n",
      "\n",
      "\n",
      "-------------------------------------\n",
      "\n"
     ]
    }
   ],
   "source": [
    "count_unique_optimization_error_messages(resm, full=True, pretty_print=True)"
   ]
  },
  {
   "cell_type": "code",
   "execution_count": 26,
   "metadata": {},
   "outputs": [
    {
     "name": "stdout",
     "output_type": "stream",
     "text": [
      "OptimizationRecord(id='18433828', status='ERROR')\n",
      "OptimizationRecord(id='18433929', status='ERROR')\n",
      "OptimizationRecord(id='18433930', status='ERROR')\n",
      "OptimizationRecord(id='18433937', status='ERROR')\n",
      "OptimizationRecord(id='18433944', status='ERROR')\n",
      "OptimizationRecord(id='18433984', status='ERROR')\n",
      "OptimizationRecord(id='18433988', status='ERROR')\n",
      "OptimizationRecord(id='18434010', status='ERROR')\n",
      "OptimizationRecord(id='18434013', status='ERROR')\n",
      "OptimizationRecord(id='18434015', status='ERROR')\n",
      "OptimizationRecord(id='18434075', status='ERROR')\n",
      "OptimizationRecord(id='18434085', status='ERROR')\n",
      "OptimizationRecord(id='18434088', status='ERROR')\n",
      "OptimizationRecord(id='18434121', status='ERROR')\n"
     ]
    }
   ],
   "source": [
    "restart_optimizations(resm, client)"
   ]
  },
  {
   "cell_type": "markdown",
   "metadata": {},
   "source": [
    "## Dataset tracking - OpenFF Gen 2 Opt Set 3 Pfizer Discrepancy"
   ]
  },
  {
   "cell_type": "markdown",
   "metadata": {},
   "source": [
    "### 2020.06.18 14:40"
   ]
  },
  {
   "cell_type": "code",
   "execution_count": 56,
   "metadata": {},
   "outputs": [],
   "source": [
    "dataset = \"OpenFF Gen 2 Opt Set 3 Pfizer Discrepancy\""
   ]
  },
  {
   "cell_type": "code",
   "execution_count": 57,
   "metadata": {},
   "outputs": [],
   "source": [
    "ds = client.get_collection(\"OptimizationDataset\", dataset)"
   ]
  },
  {
   "cell_type": "code",
   "execution_count": 58,
   "metadata": {},
   "outputs": [
    {
     "data": {
      "text/plain": [
       "[]"
      ]
     },
     "execution_count": 58,
     "metadata": {},
     "output_type": "execute_result"
    }
   ],
   "source": [
    "resm = get_unfinished_optimizations(ds, 'default', client, dropna=True)\n",
    "resm"
   ]
  },
  {
   "cell_type": "code",
   "execution_count": 61,
   "metadata": {},
   "outputs": [
    {
     "data": {
      "text/html": [
       "<div>\n",
       "<style scoped>\n",
       "    .dataframe tbody tr th:only-of-type {\n",
       "        vertical-align: middle;\n",
       "    }\n",
       "\n",
       "    .dataframe tbody tr th {\n",
       "        vertical-align: top;\n",
       "    }\n",
       "\n",
       "    .dataframe thead th {\n",
       "        text-align: right;\n",
       "    }\n",
       "</style>\n",
       "<table border=\"1\" class=\"dataframe\">\n",
       "  <thead>\n",
       "    <tr style=\"text-align: right;\">\n",
       "      <th></th>\n",
       "      <th>default</th>\n",
       "    </tr>\n",
       "  </thead>\n",
       "  <tbody>\n",
       "    <tr>\n",
       "      <th>COMPLETE</th>\n",
       "      <td>197</td>\n",
       "    </tr>\n",
       "  </tbody>\n",
       "</table>\n",
       "</div>"
      ],
      "text/plain": [
       "          default\n",
       "COMPLETE      197"
      ]
     },
     "execution_count": 61,
     "metadata": {},
     "output_type": "execute_result"
    }
   ],
   "source": [
    "ds.status('default')"
   ]
  },
  {
   "cell_type": "code",
   "execution_count": 62,
   "metadata": {},
   "outputs": [],
   "source": [
    "count_unique_optimization_error_messages(resm, full=True, pretty_print=True)"
   ]
  },
  {
   "cell_type": "code",
   "execution_count": 63,
   "metadata": {},
   "outputs": [],
   "source": [
    "restart_optimizations(resm, client)"
   ]
  },
  {
   "cell_type": "markdown",
   "metadata": {},
   "source": [
    "Great!"
   ]
  },
  {
   "cell_type": "markdown",
   "metadata": {},
   "source": [
    "### 2020.06.11 22:00"
   ]
  },
  {
   "cell_type": "code",
   "execution_count": 31,
   "metadata": {},
   "outputs": [],
   "source": [
    "dataset = \"OpenFF Gen 2 Opt Set 3 Pfizer Discrepancy\""
   ]
  },
  {
   "cell_type": "code",
   "execution_count": 32,
   "metadata": {},
   "outputs": [],
   "source": [
    "ds = client.get_collection(\"OptimizationDataset\", dataset)"
   ]
  },
  {
   "cell_type": "code",
   "execution_count": 33,
   "metadata": {},
   "outputs": [
    {
     "data": {
      "text/plain": [
       "[]"
      ]
     },
     "execution_count": 33,
     "metadata": {},
     "output_type": "execute_result"
    }
   ],
   "source": [
    "resm = get_unfinished_optimizations(ds, 'default', client, dropna=True)\n",
    "resm"
   ]
  },
  {
   "cell_type": "code",
   "execution_count": 34,
   "metadata": {},
   "outputs": [],
   "source": [
    "count_unique_optimization_error_messages(resm, full=True, pretty_print=True)"
   ]
  },
  {
   "cell_type": "code",
   "execution_count": 35,
   "metadata": {},
   "outputs": [],
   "source": [
    "restart_optimizations(resm, client)"
   ]
  },
  {
   "cell_type": "markdown",
   "metadata": {},
   "source": [
    "## Dataset tracking - OpenFF Gen 2 Opt Set 4 eMolecules Discrepancy"
   ]
  },
  {
   "cell_type": "markdown",
   "metadata": {},
   "source": [
    "### 2020.06.27 01:48 UTC"
   ]
  },
  {
   "cell_type": "code",
   "execution_count": 20,
   "metadata": {},
   "outputs": [],
   "source": [
    "dataset = \"OpenFF Gen 2 Opt Set 4 eMolecules Discrepancy\""
   ]
  },
  {
   "cell_type": "code",
   "execution_count": 21,
   "metadata": {},
   "outputs": [],
   "source": [
    "ds = client.get_collection(\"OptimizationDataset\", dataset)"
   ]
  },
  {
   "cell_type": "code",
   "execution_count": 22,
   "metadata": {},
   "outputs": [
    {
     "data": {
      "text/plain": [
       "[OptimizationRecord(id='18437465', status='ERROR'),\n",
       " OptimizationRecord(id='18436178', status='ERROR')]"
      ]
     },
     "execution_count": 22,
     "metadata": {},
     "output_type": "execute_result"
    }
   ],
   "source": [
    "resm = get_unfinished_optimizations(ds, 'default', client, dropna=True)\n",
    "resm"
   ]
  },
  {
   "cell_type": "code",
   "execution_count": 23,
   "metadata": {},
   "outputs": [],
   "source": [
    "incomplete = (opt.dict() for opt in resm if opt.status == 'INCOMPLETE')"
   ]
  },
  {
   "cell_type": "code",
   "execution_count": 24,
   "metadata": {},
   "outputs": [
    {
     "ename": "StopIteration",
     "evalue": "",
     "output_type": "error",
     "traceback": [
      "\u001b[0;31m---------------------------------------------------------------------------\u001b[0m",
      "\u001b[0;31mStopIteration\u001b[0m                             Traceback (most recent call last)",
      "\u001b[0;32m<ipython-input-24-3729b8af7b87>\u001b[0m in \u001b[0;36m<module>\u001b[0;34m\u001b[0m\n\u001b[0;32m----> 1\u001b[0;31m \u001b[0mnext\u001b[0m\u001b[0;34m(\u001b[0m\u001b[0mincomplete\u001b[0m\u001b[0;34m)\u001b[0m\u001b[0;34m\u001b[0m\u001b[0;34m\u001b[0m\u001b[0m\n\u001b[0m",
      "\u001b[0;31mStopIteration\u001b[0m: "
     ]
    }
   ],
   "source": [
    "next(incomplete)"
   ]
  },
  {
   "cell_type": "code",
   "execution_count": 25,
   "metadata": {},
   "outputs": [
    {
     "name": "stdout",
     "output_type": "stream",
     "text": [
      "There are 1 instances of\n",
      "-------------------------------------\n",
      "Caught Executor Error:\n",
      "Traceback (most recent call last):\n",
      "  File \"/data/homezvol0/tgokey/opt/lib/python3.7/site-packages/qcfractal-0.13.1+54.g3caa178.dirty-py3.7.egg/qcfractal/queue/executor_adapter.py\", line 15, in _get_future\n",
      "    return future.result()\n",
      "  File \"/data/homezvol0/tgokey/.local/miniconda3/envs/qcf/lib/python3.7/site-packages/distributed/client.py\", line 218, in result\n",
      "    raise exc.with_traceback(tb)\n",
      "distributed.scheduler.KilledWorker: ('compute_procedure-f0c9e6596da104d805709ee2b5048263', <Worker 'tcp://10.240.60.41:41982', name: 32, memory: 0, processing: 34>)\n",
      "\n",
      "-------------------------------------\n",
      "\n",
      "There are 1 instances of\n",
      "-------------------------------------\n",
      "Caught Executor Error:\n",
      "Traceback (most recent call last):\n",
      "  File \"/data/homezvol0/tgokey/opt/lib/python3.7/site-packages/qcfractal-0.13.1+54.g3caa178.dirty-py3.7.egg/qcfractal/queue/executor_adapter.py\", line 15, in _get_future\n",
      "    return future.result()\n",
      "  File \"/data/homezvol0/tgokey/.local/miniconda3/envs/qcf/lib/python3.7/site-packages/distributed/client.py\", line 218, in result\n",
      "    raise exc.with_traceback(tb)\n",
      "distributed.scheduler.KilledWorker: ('compute_procedure-7d6670d6ece024a8e9ee703c7ac00962', <Worker 'tcp://10.240.60.14:39295', name: 73, memory: 0, processing: 1>)\n",
      "\n",
      "-------------------------------------\n",
      "\n"
     ]
    }
   ],
   "source": [
    "count_unique_optimization_error_messages(resm, full=True, pretty_print=True)"
   ]
  },
  {
   "cell_type": "code",
   "execution_count": 26,
   "metadata": {},
   "outputs": [
    {
     "name": "stdout",
     "output_type": "stream",
     "text": [
      "OptimizationRecord(id='18437465', status='ERROR')\n",
      "OptimizationRecord(id='18436178', status='ERROR')\n"
     ]
    }
   ],
   "source": [
    "restart_optimizations(resm, client)"
   ]
  },
  {
   "cell_type": "markdown",
   "metadata": {},
   "source": [
    "### 2020.06.18 14:45"
   ]
  },
  {
   "cell_type": "code",
   "execution_count": 64,
   "metadata": {},
   "outputs": [],
   "source": [
    "dataset = \"OpenFF Gen 2 Opt Set 4 eMolecules Discrepancy\""
   ]
  },
  {
   "cell_type": "code",
   "execution_count": 65,
   "metadata": {},
   "outputs": [],
   "source": [
    "ds = client.get_collection(\"OptimizationDataset\", dataset)"
   ]
  },
  {
   "cell_type": "code",
   "execution_count": 66,
   "metadata": {},
   "outputs": [
    {
     "data": {
      "text/plain": [
       "[OptimizationRecord(id='18437465', status='INCOMPLETE'),\n",
       " OptimizationRecord(id='18437470', status='INCOMPLETE'),\n",
       " OptimizationRecord(id='18436178', status='INCOMPLETE'),\n",
       " OptimizationRecord(id='18438079', status='INCOMPLETE'),\n",
       " OptimizationRecord(id='18438248', status='INCOMPLETE')]"
      ]
     },
     "execution_count": 66,
     "metadata": {},
     "output_type": "execute_result"
    }
   ],
   "source": [
    "resm = get_unfinished_optimizations(ds, 'default', client, dropna=True)\n",
    "resm"
   ]
  },
  {
   "cell_type": "code",
   "execution_count": 67,
   "metadata": {},
   "outputs": [],
   "source": [
    "count_unique_optimization_error_messages(resm, full=True, pretty_print=True)"
   ]
  },
  {
   "cell_type": "code",
   "execution_count": 68,
   "metadata": {},
   "outputs": [],
   "source": [
    "restart_optimizations(resm, client)"
   ]
  },
  {
   "cell_type": "code",
   "execution_count": 98,
   "metadata": {},
   "outputs": [],
   "source": [
    "incomplete = (opt.dict() for opt in resm if opt.status == 'INCOMPLETE')"
   ]
  },
  {
   "cell_type": "code",
   "execution_count": 100,
   "metadata": {},
   "outputs": [
    {
     "data": {
      "text/plain": [
       "{'id': '18437470',\n",
       " 'hash_index': 'e97e3ec351807cba118f7b185f6f2bdd7db2df06',\n",
       " 'procedure': 'optimization',\n",
       " 'program': 'geometric',\n",
       " 'version': 1,\n",
       " 'protocols': {},\n",
       " 'extras': {},\n",
       " 'stdout': None,\n",
       " 'stderr': None,\n",
       " 'error': '22675458',\n",
       " 'task_id': None,\n",
       " 'manager_name': 'OpenFF_Mobley_HPC3-login-i16-b73d69cf-eb56-438a-a5b2-5162d8d3cc7c',\n",
       " 'status': <RecordStatusEnum.incomplete: 'INCOMPLETE'>,\n",
       " 'modified_on': datetime.datetime(2020, 6, 11, 22, 4, 57, 557611),\n",
       " 'created_on': datetime.datetime(2020, 3, 24, 0, 53, 24, 974061),\n",
       " 'provenance': None,\n",
       " 'schema_version': 1,\n",
       " 'initial_molecule': '12116159',\n",
       " 'qc_spec': {'driver': <DriverEnum.gradient: 'gradient'>,\n",
       "  'method': 'b3lyp-d3bj',\n",
       "  'basis': 'dzvp',\n",
       "  'keywords': '2',\n",
       "  'program': 'psi4'},\n",
       " 'keywords': {'program': 'psi4'},\n",
       " 'energies': None,\n",
       " 'final_molecule': None,\n",
       " 'trajectory': None}"
      ]
     },
     "execution_count": 100,
     "metadata": {},
     "output_type": "execute_result"
    }
   ],
   "source": [
    "next(incomplete)"
   ]
  },
  {
   "cell_type": "markdown",
   "metadata": {},
   "source": [
    "INCOMPLETEs running on PRP and UCI. 1 week old. "
   ]
  },
  {
   "cell_type": "markdown",
   "metadata": {},
   "source": [
    "### 2020.06.11 22:00"
   ]
  },
  {
   "cell_type": "code",
   "execution_count": 36,
   "metadata": {},
   "outputs": [],
   "source": [
    "dataset = \"OpenFF Gen 2 Opt Set 4 eMolecules Discrepancy\""
   ]
  },
  {
   "cell_type": "code",
   "execution_count": 37,
   "metadata": {},
   "outputs": [],
   "source": [
    "ds = client.get_collection(\"OptimizationDataset\", dataset)"
   ]
  },
  {
   "cell_type": "code",
   "execution_count": 38,
   "metadata": {},
   "outputs": [
    {
     "data": {
      "text/plain": [
       "[OptimizationRecord(id='18437465', status='ERROR'),\n",
       " OptimizationRecord(id='18436178', status='ERROR'),\n",
       " OptimizationRecord(id='18437470', status='ERROR'),\n",
       " OptimizationRecord(id='18438248', status='ERROR'),\n",
       " OptimizationRecord(id='18438079', status='ERROR')]"
      ]
     },
     "execution_count": 38,
     "metadata": {},
     "output_type": "execute_result"
    }
   ],
   "source": [
    "resm = get_unfinished_optimizations(ds, 'default', client, dropna=True)\n",
    "resm"
   ]
  },
  {
   "cell_type": "code",
   "execution_count": 40,
   "metadata": {},
   "outputs": [
    {
     "name": "stdout",
     "output_type": "stream",
     "text": [
      "There are 4 instances of\n",
      "-------------------------------------\n",
      "geomeTRIC run_json error:\n",
      "Traceback (most recent call last):\n",
      "  File \"/opt/conda/envs/qcfractal/lib/python3.6/site-packages/geometric/run_json.py\", line 214, in geometric_run_json\n",
      "    geometric.optimize.Optimize(coords, M, IC, engine, None, params)\n",
      "  File \"/opt/conda/envs/qcfractal/lib/python3.6/site-packages/geometric/optimize.py\", line 1331, in Optimize\n",
      "    return optimizer.optimizeGeometry()\n",
      "  File \"/opt/conda/envs/qcfractal/lib/python3.6/site-packages/geometric/optimize.py\", line 1301, in optimizeGeometry\n",
      "    raise GeomOptNotConvergedError(\"Optimizer.optimizeGeometry() failed to converge.\")\n",
      "geometric.errors.GeomOptNotConvergedError: Optimizer.optimizeGeometry() failed to converge.\n",
      "\n",
      "-------------------------------------\n",
      "\n",
      "There are 1 instances of\n",
      "-------------------------------------\n",
      "geomeTRIC run_json error:\n",
      "Traceback (most recent call last):\n",
      "  File \"/data/homezvol0/tgokey/.local/miniconda3/envs/qcf/lib/python3.7/site-packages/geometric/run_json.py\", line 214, in geometric_run_json\n",
      "    geometric.optimize.Optimize(coords, M, IC, engine, None, params)\n",
      "  File \"/data/homezvol0/tgokey/.local/miniconda3/envs/qcf/lib/python3.7/site-packages/geometric/optimize.py\", line 1331, in Optimize\n",
      "    return optimizer.optimizeGeometry()\n",
      "  File \"/data/homezvol0/tgokey/.local/miniconda3/envs/qcf/lib/python3.7/site-packages/geometric/optimize.py\", line 1301, in optimizeGeometry\n",
      "    raise GeomOptNotConvergedError(\"Optimizer.optimizeGeometry() failed to converge.\")\n",
      "geometric.errors.GeomOptNotConvergedError: Optimizer.optimizeGeometry() failed to converge.\n",
      "\n",
      "-------------------------------------\n",
      "\n"
     ]
    }
   ],
   "source": [
    "count_unique_optimization_error_messages(resm, full=True, pretty_print=True)"
   ]
  },
  {
   "cell_type": "code",
   "execution_count": 41,
   "metadata": {},
   "outputs": [
    {
     "name": "stdout",
     "output_type": "stream",
     "text": [
      "OptimizationRecord(id='18437465', status='ERROR')\n",
      "OptimizationRecord(id='18436178', status='ERROR')\n",
      "OptimizationRecord(id='18437470', status='ERROR')\n",
      "OptimizationRecord(id='18438248', status='ERROR')\n",
      "OptimizationRecord(id='18438079', status='ERROR')\n"
     ]
    }
   ],
   "source": [
    "restart_optimizations(resm, client)"
   ]
  },
  {
   "cell_type": "markdown",
   "metadata": {},
   "source": [
    "----"
   ]
  },
  {
   "cell_type": "markdown",
   "metadata": {},
   "source": [
    "### Previous work"
   ]
  },
  {
   "cell_type": "code",
   "execution_count": 31,
   "metadata": {},
   "outputs": [],
   "source": [
    "dataset = \"OpenFF Gen 2 Opt Set 4 eMolecules Discrepancy\""
   ]
  },
  {
   "cell_type": "code",
   "execution_count": 32,
   "metadata": {},
   "outputs": [],
   "source": [
    "ds = client.get_collection(\"OptimizationDataset\", dataset)"
   ]
  },
  {
   "cell_type": "code",
   "execution_count": 33,
   "metadata": {},
   "outputs": [
    {
     "data": {
      "text/html": [
       "<div>\n",
       "<style scoped>\n",
       "    .dataframe tbody tr th:only-of-type {\n",
       "        vertical-align: middle;\n",
       "    }\n",
       "\n",
       "    .dataframe tbody tr th {\n",
       "        vertical-align: top;\n",
       "    }\n",
       "\n",
       "    .dataframe thead th {\n",
       "        text-align: right;\n",
       "    }\n",
       "</style>\n",
       "<table border=\"1\" class=\"dataframe\">\n",
       "  <thead>\n",
       "    <tr style=\"text-align: right;\">\n",
       "      <th></th>\n",
       "      <th>Description</th>\n",
       "    </tr>\n",
       "    <tr>\n",
       "      <th>Name</th>\n",
       "      <th></th>\n",
       "    </tr>\n",
       "  </thead>\n",
       "  <tbody>\n",
       "    <tr>\n",
       "      <th>default</th>\n",
       "      <td>Standard OpenFF optimization quantum chemistry...</td>\n",
       "    </tr>\n",
       "  </tbody>\n",
       "</table>\n",
       "</div>"
      ],
      "text/plain": [
       "                                               Description\n",
       "Name                                                      \n",
       "default  Standard OpenFF optimization quantum chemistry..."
      ]
     },
     "execution_count": 33,
     "metadata": {},
     "output_type": "execute_result"
    }
   ],
   "source": [
    "ds.list_specifications()"
   ]
  },
  {
   "cell_type": "code",
   "execution_count": 35,
   "metadata": {},
   "outputs": [
    {
     "data": {
      "text/html": [
       "<div>\n",
       "<style scoped>\n",
       "    .dataframe tbody tr th:only-of-type {\n",
       "        vertical-align: middle;\n",
       "    }\n",
       "\n",
       "    .dataframe tbody tr th {\n",
       "        vertical-align: top;\n",
       "    }\n",
       "\n",
       "    .dataframe thead th {\n",
       "        text-align: right;\n",
       "    }\n",
       "</style>\n",
       "<table border=\"1\" class=\"dataframe\">\n",
       "  <thead>\n",
       "    <tr style=\"text-align: right;\">\n",
       "      <th></th>\n",
       "      <th>default</th>\n",
       "    </tr>\n",
       "  </thead>\n",
       "  <tbody>\n",
       "    <tr>\n",
       "      <th>COMPLETE</th>\n",
       "      <td>2196</td>\n",
       "    </tr>\n",
       "    <tr>\n",
       "      <th>ERROR</th>\n",
       "      <td>5</td>\n",
       "    </tr>\n",
       "  </tbody>\n",
       "</table>\n",
       "</div>"
      ],
      "text/plain": [
       "          default\n",
       "COMPLETE     2196\n",
       "ERROR           5"
      ]
     },
     "execution_count": 35,
     "metadata": {},
     "output_type": "execute_result"
    }
   ],
   "source": [
    "ds.status(\"default\")"
   ]
  },
  {
   "cell_type": "code",
   "execution_count": 36,
   "metadata": {},
   "outputs": [],
   "source": [
    "res = get_failed_optimizations(ds, 'default', client)"
   ]
  },
  {
   "cell_type": "code",
   "execution_count": 38,
   "metadata": {},
   "outputs": [
    {
     "name": "stdout",
     "output_type": "stream",
     "text": [
      "18436178\n",
      "18437465\n",
      "18437470\n",
      "18438079\n",
      "18438248\n"
     ]
    }
   ],
   "source": [
    "for i in sorted([i.id for i in res if i.status != 'COMPLETE']):\n",
    "    print(i)"
   ]
  },
  {
   "cell_type": "code",
   "execution_count": 46,
   "metadata": {},
   "outputs": [],
   "source": [
    "errors = (i.get_error().error_message for i in res if i.status == 'ERROR')"
   ]
  },
  {
   "cell_type": "code",
   "execution_count": 51,
   "metadata": {},
   "outputs": [
    {
     "name": "stdout",
     "output_type": "stream",
     "text": [
      "geomeTRIC run_json error:\n",
      "Traceback (most recent call last):\n",
      "  File \"/opt/conda/envs/qcfractal/lib/python3.6/site-packages/geometric/run_json.py\", line 214, in geometric_run_json\n",
      "    geometric.optimize.Optimize(coords, M, IC, engine, None, params)\n",
      "  File \"/opt/conda/envs/qcfractal/lib/python3.6/site-packages/geometric/optimize.py\", line 1331, in Optimize\n",
      "    return optimizer.optimizeGeometry()\n",
      "  File \"/opt/conda/envs/qcfractal/lib/python3.6/site-packages/geometric/optimize.py\", line 1301, in optimizeGeometry\n",
      "    raise GeomOptNotConvergedError(\"Optimizer.optimizeGeometry() failed to converge.\")\n",
      "geometric.errors.GeomOptNotConvergedError: Optimizer.optimizeGeometry() failed to converge.\n",
      "\n"
     ]
    }
   ],
   "source": [
    "print(next(errors))"
   ]
  },
  {
   "cell_type": "markdown",
   "metadata": {},
   "source": [
    "For convergence errors, if we can look at the initial and final molecules in NGLview, can give indications as to why:"
   ]
  },
  {
   "cell_type": "code",
   "execution_count": 57,
   "metadata": {},
   "outputs": [],
   "source": [
    "opt = res[0]"
   ]
  },
  {
   "cell_type": "code",
   "execution_count": 58,
   "metadata": {},
   "outputs": [
    {
     "data": {
      "application/vnd.jupyter.widget-view+json": {
       "model_id": "83d83322f51c4e10bf6e5629a25c04de",
       "version_major": 2,
       "version_minor": 0
      },
      "text/plain": [
       "_ColormakerRegistry()"
      ]
     },
     "metadata": {},
     "output_type": "display_data"
    },
    {
     "data": {
      "application/vnd.jupyter.widget-view+json": {
       "model_id": "f6353838372d4834ae130d69d4977f1e",
       "version_major": 2,
       "version_minor": 0
      },
      "text/plain": [
       "NGLWidget()"
      ]
     },
     "metadata": {},
     "output_type": "display_data"
    }
   ],
   "source": [
    "opt.get_initial_molecule()"
   ]
  },
  {
   "cell_type": "code",
   "execution_count": 60,
   "metadata": {},
   "outputs": [
    {
     "data": {
      "application/vnd.jupyter.widget-view+json": {
       "model_id": "4253cb7f8f8e4715b012d5cf0065d786",
       "version_major": 2,
       "version_minor": 0
      },
      "text/plain": [
       "NGLWidget()"
      ]
     },
     "metadata": {},
     "output_type": "display_data"
    }
   ],
   "source": [
    "opt.get_final_molecule()"
   ]
  },
  {
   "cell_type": "markdown",
   "metadata": {},
   "source": [
    "All of these are convergence failures."
   ]
  },
  {
   "cell_type": "markdown",
   "metadata": {},
   "source": [
    "## Dataset tracking - OpenFF Gen 2 Opt Set 5 Bayer"
   ]
  },
  {
   "cell_type": "markdown",
   "metadata": {},
   "source": [
    "### 2020.06.27 01:51 UTC"
   ]
  },
  {
   "cell_type": "code",
   "execution_count": 27,
   "metadata": {},
   "outputs": [],
   "source": [
    "dataset = \"OpenFF Gen 2 Opt Set 5 Bayer\""
   ]
  },
  {
   "cell_type": "code",
   "execution_count": 28,
   "metadata": {},
   "outputs": [],
   "source": [
    "ds = client.get_collection(\"OptimizationDataset\", dataset)"
   ]
  },
  {
   "cell_type": "code",
   "execution_count": 29,
   "metadata": {},
   "outputs": [
    {
     "data": {
      "text/plain": [
       "[OptimizationRecord(id='19094237', status='ERROR'),\n",
       " OptimizationRecord(id='19094393', status='ERROR'),\n",
       " OptimizationRecord(id='19094394', status='ERROR'),\n",
       " OptimizationRecord(id='19094400', status='ERROR'),\n",
       " OptimizationRecord(id='19094836', status='ERROR'),\n",
       " OptimizationRecord(id='19095157', status='ERROR'),\n",
       " OptimizationRecord(id='19095158', status='INCOMPLETE'),\n",
       " OptimizationRecord(id='19095217', status='ERROR'),\n",
       " OptimizationRecord(id='19095261', status='ERROR'),\n",
       " OptimizationRecord(id='19095387', status='ERROR'),\n",
       " OptimizationRecord(id='19095395', status='ERROR'),\n",
       " OptimizationRecord(id='19095607', status='ERROR'),\n",
       " OptimizationRecord(id='19095795', status='ERROR'),\n",
       " OptimizationRecord(id='19095808', status='ERROR'),\n",
       " OptimizationRecord(id='19094233', status='ERROR'),\n",
       " OptimizationRecord(id='19094485', status='ERROR'),\n",
       " OptimizationRecord(id='19095160', status='ERROR'),\n",
       " OptimizationRecord(id='19095389', status='ERROR'),\n",
       " OptimizationRecord(id='19095726', status='INCOMPLETE'),\n",
       " OptimizationRecord(id='19095797', status='ERROR'),\n",
       " OptimizationRecord(id='19095805', status='ERROR'),\n",
       " OptimizationRecord(id='19095886', status='ERROR'),\n",
       " OptimizationRecord(id='19095887', status='ERROR'),\n",
       " OptimizationRecord(id='19095894', status='ERROR')]"
      ]
     },
     "execution_count": 29,
     "metadata": {},
     "output_type": "execute_result"
    }
   ],
   "source": [
    "resm = get_unfinished_optimizations(ds, 'default', client, dropna=True)\n",
    "resm"
   ]
  },
  {
   "cell_type": "code",
   "execution_count": 30,
   "metadata": {},
   "outputs": [
    {
     "data": {
      "text/plain": [
       "24"
      ]
     },
     "execution_count": 30,
     "metadata": {},
     "output_type": "execute_result"
    }
   ],
   "source": [
    "len(resm)"
   ]
  },
  {
   "cell_type": "code",
   "execution_count": 45,
   "metadata": {},
   "outputs": [],
   "source": [
    "incomplete = (opt.dict() for opt in resm if opt.status == 'INCOMPLETE')"
   ]
  },
  {
   "cell_type": "code",
   "execution_count": 47,
   "metadata": {},
   "outputs": [
    {
     "data": {
      "text/plain": [
       "{'id': '19095726',\n",
       " 'hash_index': '23764d81e74a7d33881c9676c7197a73ed09bf60',\n",
       " 'procedure': 'optimization',\n",
       " 'program': 'geometric',\n",
       " 'version': 1,\n",
       " 'protocols': {},\n",
       " 'extras': {},\n",
       " 'stdout': None,\n",
       " 'stderr': None,\n",
       " 'error': '22685536',\n",
       " 'task_id': None,\n",
       " 'manager_name': 'PacificResearchPlatform-openff-qca-9cf44dcf9-tm8vz-4bced6b4-edac-4b0c-bf56-c3a7138a39ab',\n",
       " 'status': <RecordStatusEnum.incomplete: 'INCOMPLETE'>,\n",
       " 'modified_on': datetime.datetime(2020, 6, 23, 14, 54, 15, 671406),\n",
       " 'created_on': datetime.datetime(2020, 4, 4, 21, 2, 52, 650511),\n",
       " 'provenance': None,\n",
       " 'schema_version': 1,\n",
       " 'initial_molecule': '12737155',\n",
       " 'qc_spec': {'driver': <DriverEnum.gradient: 'gradient'>,\n",
       "  'method': 'b3lyp-d3bj',\n",
       "  'basis': 'dzvp',\n",
       "  'keywords': '2',\n",
       "  'program': 'psi4'},\n",
       " 'keywords': {'program': 'psi4'},\n",
       " 'energies': None,\n",
       " 'final_molecule': None,\n",
       " 'trajectory': None}"
      ]
     },
     "execution_count": 47,
     "metadata": {},
     "output_type": "execute_result"
    }
   ],
   "source": [
    "next(incomplete)"
   ]
  },
  {
   "cell_type": "markdown",
   "metadata": {},
   "source": [
    "PRP INCOMPLETE only."
   ]
  },
  {
   "cell_type": "code",
   "execution_count": 48,
   "metadata": {},
   "outputs": [
    {
     "name": "stdout",
     "output_type": "stream",
     "text": [
      "There are 1 instances of\n",
      "-------------------------------------\n",
      "Caught Executor Error:\n",
      "Traceback (most recent call last):\n",
      "  File \"/data/homezvol0/tgokey/opt/lib/python3.7/site-packages/qcfractal-0.13.1+54.g3caa178.dirty-py3.7.egg/qcfractal/queue/executor_adapter.py\", line 15, in _get_future\n",
      "    return future.result()\n",
      "  File \"/data/homezvol0/tgokey/.local/miniconda3/envs/qcf/lib/python3.7/site-packages/distributed/client.py\", line 218, in result\n",
      "    raise exc.with_traceback(tb)\n",
      "distributed.scheduler.KilledWorker: ('compute_procedure-ebe4cff59657382d21fbce4b3696bc2e', <Worker 'tcp://10.240.60.14:38567', name: 44, memory: 0, processing: 11>)\n",
      "\n",
      "-------------------------------------\n",
      "\n",
      "There are 1 instances of\n",
      "-------------------------------------\n",
      "Caught Executor Error:\n",
      "Traceback (most recent call last):\n",
      "  File \"/data/homezvol0/tgokey/opt/lib/python3.7/site-packages/qcfractal-0.13.1+54.g3caa178.dirty-py3.7.egg/qcfractal/queue/executor_adapter.py\", line 15, in _get_future\n",
      "    return future.result()\n",
      "  File \"/data/homezvol0/tgokey/.local/miniconda3/envs/qcf/lib/python3.7/site-packages/distributed/client.py\", line 218, in result\n",
      "    raise exc.with_traceback(tb)\n",
      "distributed.scheduler.KilledWorker: ('compute_procedure-f2872fe541ec98d97a04212daff2a78e', <Worker 'tcp://10.240.60.26:41482', name: 33, memory: 0, processing: 19>)\n",
      "\n",
      "-------------------------------------\n",
      "\n",
      "There are 1 instances of\n",
      "-------------------------------------\n",
      "Caught Executor Error:\n",
      "Traceback (most recent call last):\n",
      "  File \"/data/homezvol0/tgokey/opt/lib/python3.7/site-packages/qcfractal-0.13.1+54.g3caa178.dirty-py3.7.egg/qcfractal/queue/executor_adapter.py\", line 15, in _get_future\n",
      "    return future.result()\n",
      "  File \"/data/homezvol0/tgokey/.local/miniconda3/envs/qcf/lib/python3.7/site-packages/distributed/client.py\", line 218, in result\n",
      "    raise exc.with_traceback(tb)\n",
      "distributed.scheduler.KilledWorker: ('compute_procedure-22a986ce967df20e00303d4b4d4c1d67', <Worker 'tcp://10.240.60.41:41982', name: 32, memory: 0, processing: 34>)\n",
      "\n",
      "-------------------------------------\n",
      "\n",
      "There are 1 instances of\n",
      "-------------------------------------\n",
      "Caught Executor Error:\n",
      "Traceback (most recent call last):\n",
      "  File \"/data/homezvol0/tgokey/opt/lib/python3.7/site-packages/qcfractal-0.13.1+54.g3caa178.dirty-py3.7.egg/qcfractal/queue/executor_adapter.py\", line 15, in _get_future\n",
      "    return future.result()\n",
      "  File \"/data/homezvol0/tgokey/.local/miniconda3/envs/qcf/lib/python3.7/site-packages/distributed/client.py\", line 218, in result\n",
      "    raise exc.with_traceback(tb)\n",
      "distributed.scheduler.KilledWorker: ('compute_procedure-64cbeaef0b162deee99fb63c6f4d5b4a', <Worker 'tcp://10.240.60.27:46854', name: 58, memory: 0, processing: 10>)\n",
      "\n",
      "-------------------------------------\n",
      "\n",
      "There are 1 instances of\n",
      "-------------------------------------\n",
      "Caught Executor Error:\n",
      "Traceback (most recent call last):\n",
      "  File \"/data/homezvol0/tgokey/opt/lib/python3.7/site-packages/qcfractal-0.13.1+54.g3caa178.dirty-py3.7.egg/qcfractal/queue/executor_adapter.py\", line 15, in _get_future\n",
      "    return future.result()\n",
      "  File \"/data/homezvol0/tgokey/.local/miniconda3/envs/qcf/lib/python3.7/site-packages/distributed/client.py\", line 218, in result\n",
      "    raise exc.with_traceback(tb)\n",
      "distributed.scheduler.KilledWorker: ('compute_procedure-a2cf254a7c7bf8d4fbba506656ce4dcc', <Worker 'tcp://10.240.60.24:36540', name: 58, memory: 0, processing: 22>)\n",
      "\n",
      "-------------------------------------\n",
      "\n",
      "There are 1 instances of\n",
      "-------------------------------------\n",
      "Caught Executor Error:\n",
      "Traceback (most recent call last):\n",
      "  File \"/data/homezvol0/tgokey/opt/lib/python3.7/site-packages/qcfractal-0.13.1+54.g3caa178.dirty-py3.7.egg/qcfractal/queue/executor_adapter.py\", line 15, in _get_future\n",
      "    return future.result()\n",
      "  File \"/data/homezvol0/tgokey/.local/miniconda3/envs/qcf/lib/python3.7/site-packages/distributed/client.py\", line 218, in result\n",
      "    raise exc.with_traceback(tb)\n",
      "distributed.scheduler.KilledWorker: ('compute_procedure-47ab7911246239d4c956a551f36c31db', <Worker 'tcp://10.240.60.26:41482', name: 33, memory: 0, processing: 19>)\n",
      "\n",
      "-------------------------------------\n",
      "\n",
      "There are 5 instances of\n",
      "-------------------------------------\n",
      "geomeTRIC run_json error:\n",
      "Traceback (most recent call last):\n",
      "  File \"/opt/conda/envs/qcfractal/lib/python3.6/site-packages/geometric/run_json.py\", line 214, in geometric_run_json\n",
      "    geometric.optimize.Optimize(coords, M, IC, engine, None, params)\n",
      "  File \"/opt/conda/envs/qcfractal/lib/python3.6/site-packages/geometric/optimize.py\", line 1331, in Optimize\n",
      "    return optimizer.optimizeGeometry()\n",
      "  File \"/opt/conda/envs/qcfractal/lib/python3.6/site-packages/geometric/optimize.py\", line 1301, in optimizeGeometry\n",
      "    raise GeomOptNotConvergedError(\"Optimizer.optimizeGeometry() failed to converge.\")\n",
      "geometric.errors.GeomOptNotConvergedError: Optimizer.optimizeGeometry() failed to converge.\n",
      "\n",
      "-------------------------------------\n",
      "\n",
      "There are 1 instances of\n",
      "-------------------------------------\n",
      "Caught Executor Error:\n",
      "Traceback (most recent call last):\n",
      "  File \"/data/homezvol0/tgokey/opt/lib/python3.7/site-packages/qcfractal-0.13.1+54.g3caa178.dirty-py3.7.egg/qcfractal/queue/executor_adapter.py\", line 15, in _get_future\n",
      "    return future.result()\n",
      "  File \"/data/homezvol0/tgokey/.local/miniconda3/envs/qcf/lib/python3.7/site-packages/distributed/client.py\", line 218, in result\n",
      "    raise exc.with_traceback(tb)\n",
      "distributed.scheduler.KilledWorker: ('compute_procedure-5ebd3e506b97b229eac587656113f66d', <Worker 'tcp://10.240.60.41:41982', name: 32, memory: 0, processing: 34>)\n",
      "\n",
      "-------------------------------------\n",
      "\n",
      "There are 1 instances of\n",
      "-------------------------------------\n",
      "Caught Executor Error:\n",
      "Traceback (most recent call last):\n",
      "  File \"/data/homezvol0/tgokey/opt/lib/python3.7/site-packages/qcfractal-0.13.1+54.g3caa178.dirty-py3.7.egg/qcfractal/queue/executor_adapter.py\", line 15, in _get_future\n",
      "    return future.result()\n",
      "  File \"/data/homezvol0/tgokey/.local/miniconda3/envs/qcf/lib/python3.7/site-packages/distributed/client.py\", line 218, in result\n",
      "    raise exc.with_traceback(tb)\n",
      "distributed.scheduler.KilledWorker: ('compute-09e4276f08f9e6b6410da8861409d79e', <Worker 'tcp://10.240.60.24:36540', name: 58, memory: 0, processing: 22>)\n",
      "\n",
      "-------------------------------------\n",
      "\n",
      "There are 1 instances of\n",
      "-------------------------------------\n",
      "Caught Executor Error:\n",
      "Traceback (most recent call last):\n",
      "  File \"/data/homezvol0/tgokey/opt/lib/python3.7/site-packages/qcfractal-0.13.1+54.g3caa178.dirty-py3.7.egg/qcfractal/queue/executor_adapter.py\", line 15, in _get_future\n",
      "    return future.result()\n",
      "  File \"/data/homezvol0/tgokey/.local/miniconda3/envs/qcf/lib/python3.7/site-packages/distributed/client.py\", line 218, in result\n",
      "    raise exc.with_traceback(tb)\n",
      "distributed.scheduler.KilledWorker: ('compute_procedure-84552b6c3214875a2d8b4acad4a75f34', <Worker 'tcp://10.240.60.41:41982', name: 32, memory: 0, processing: 34>)\n",
      "\n",
      "-------------------------------------\n",
      "\n",
      "There are 1 instances of\n",
      "-------------------------------------\n",
      "Caught Executor Error:\n",
      "Traceback (most recent call last):\n",
      "  File \"/data/homezvol0/tgokey/opt/lib/python3.7/site-packages/qcfractal-0.13.1+54.g3caa178.dirty-py3.7.egg/qcfractal/queue/executor_adapter.py\", line 15, in _get_future\n",
      "    return future.result()\n",
      "  File \"/data/homezvol0/tgokey/.local/miniconda3/envs/qcf/lib/python3.7/site-packages/distributed/client.py\", line 218, in result\n",
      "    raise exc.with_traceback(tb)\n",
      "distributed.scheduler.KilledWorker: ('compute_procedure-082185eb868730804901de20a3387d0a', <Worker 'tcp://10.240.60.41:41982', name: 32, memory: 0, processing: 34>)\n",
      "\n",
      "-------------------------------------\n",
      "\n",
      "There are 1 instances of\n",
      "-------------------------------------\n",
      "Caught Executor Error:\n",
      "Traceback (most recent call last):\n",
      "  File \"/data/homezvol0/tgokey/opt/lib/python3.7/site-packages/qcfractal-0.13.1+54.g3caa178.dirty-py3.7.egg/qcfractal/queue/executor_adapter.py\", line 15, in _get_future\n",
      "    return future.result()\n",
      "  File \"/data/homezvol0/tgokey/.local/miniconda3/envs/qcf/lib/python3.7/site-packages/distributed/client.py\", line 218, in result\n",
      "    raise exc.with_traceback(tb)\n",
      "distributed.scheduler.KilledWorker: ('compute_procedure-fa185434fb16b13a791c8b149a95e174', <Worker 'tcp://10.240.60.14:38567', name: 44, memory: 0, processing: 11>)\n",
      "\n",
      "-------------------------------------\n",
      "\n",
      "There are 1 instances of\n",
      "-------------------------------------\n",
      "Caught Executor Error:\n",
      "Traceback (most recent call last):\n",
      "  File \"/data/homezvol0/tgokey/opt/lib/python3.7/site-packages/qcfractal-0.13.1+54.g3caa178.dirty-py3.7.egg/qcfractal/queue/executor_adapter.py\", line 15, in _get_future\n",
      "    return future.result()\n",
      "  File \"/data/homezvol0/tgokey/.local/miniconda3/envs/qcf/lib/python3.7/site-packages/distributed/client.py\", line 218, in result\n",
      "    raise exc.with_traceback(tb)\n",
      "distributed.scheduler.KilledWorker: ('compute_procedure-955996e6cef51c0d46a02d9a30bb7773', <Worker 'tcp://10.240.60.26:41482', name: 33, memory: 0, processing: 19>)\n",
      "\n",
      "-------------------------------------\n",
      "\n",
      "There are 1 instances of\n",
      "-------------------------------------\n",
      "Caught Executor Error:\n",
      "Traceback (most recent call last):\n",
      "  File \"/data/homezvol0/tgokey/opt/lib/python3.7/site-packages/qcfractal-0.13.1+54.g3caa178.dirty-py3.7.egg/qcfractal/queue/executor_adapter.py\", line 15, in _get_future\n",
      "    return future.result()\n",
      "  File \"/data/homezvol0/tgokey/.local/miniconda3/envs/qcf/lib/python3.7/site-packages/distributed/client.py\", line 218, in result\n",
      "    raise exc.with_traceback(tb)\n",
      "distributed.scheduler.KilledWorker: ('compute_procedure-f5d7d0d78f07141cc0bb438ba8523709', <Worker 'tcp://10.240.60.14:38567', name: 44, memory: 0, processing: 11>)\n",
      "\n",
      "-------------------------------------\n",
      "\n",
      "There are 1 instances of\n",
      "-------------------------------------\n",
      "Caught Executor Error:\n",
      "Traceback (most recent call last):\n",
      "  File \"/data/homezvol0/tgokey/opt/lib/python3.7/site-packages/qcfractal-0.13.1+54.g3caa178.dirty-py3.7.egg/qcfractal/queue/executor_adapter.py\", line 15, in _get_future\n",
      "    return future.result()\n",
      "  File \"/data/homezvol0/tgokey/.local/miniconda3/envs/qcf/lib/python3.7/site-packages/distributed/client.py\", line 218, in result\n",
      "    raise exc.with_traceback(tb)\n",
      "distributed.scheduler.KilledWorker: ('compute_procedure-b302535fc03f711784b21e8de3c5cd71', <Worker 'tcp://10.240.60.42:33009', name: 59, memory: 0, processing: 1>)\n",
      "\n",
      "-------------------------------------\n",
      "\n",
      "There are 1 instances of\n",
      "-------------------------------------\n",
      "Caught Executor Error:\n",
      "Traceback (most recent call last):\n",
      "  File \"/data/homezvol0/tgokey/opt/lib/python3.7/site-packages/qcfractal-0.13.1+54.g3caa178.dirty-py3.7.egg/qcfractal/queue/executor_adapter.py\", line 15, in _get_future\n",
      "    return future.result()\n",
      "  File \"/data/homezvol0/tgokey/.local/miniconda3/envs/qcf/lib/python3.7/site-packages/distributed/client.py\", line 218, in result\n",
      "    raise exc.with_traceback(tb)\n",
      "distributed.scheduler.KilledWorker: ('compute_procedure-1e93eea4c841c32a5b7d74fc1354f450', <Worker 'tcp://10.240.60.41:41982', name: 32, memory: 0, processing: 34>)\n",
      "\n",
      "-------------------------------------\n",
      "\n",
      "There are 1 instances of\n",
      "-------------------------------------\n",
      "Caught Executor Error:\n",
      "Traceback (most recent call last):\n",
      "  File \"/data/homezvol0/tgokey/opt/lib/python3.7/site-packages/qcfractal-0.13.1+54.g3caa178.dirty-py3.7.egg/qcfractal/queue/executor_adapter.py\", line 15, in _get_future\n",
      "    return future.result()\n",
      "  File \"/data/homezvol0/tgokey/.local/miniconda3/envs/qcf/lib/python3.7/site-packages/distributed/client.py\", line 218, in result\n",
      "    raise exc.with_traceback(tb)\n",
      "distributed.scheduler.KilledWorker: ('compute_procedure-5d6c9640941004d61b09c1065ac4d4df', <Worker 'tcp://10.240.60.42:43094', name: 94, memory: 0, processing: 23>)\n",
      "\n",
      "-------------------------------------\n",
      "\n",
      "There are 1 instances of\n",
      "-------------------------------------\n",
      "Caught Executor Error:\n",
      "Traceback (most recent call last):\n",
      "  File \"/data/homezvol0/tgokey/opt/lib/python3.7/site-packages/qcfractal-0.13.1+54.g3caa178.dirty-py3.7.egg/qcfractal/queue/executor_adapter.py\", line 15, in _get_future\n",
      "    return future.result()\n",
      "  File \"/data/homezvol0/tgokey/.local/miniconda3/envs/qcf/lib/python3.7/site-packages/distributed/client.py\", line 218, in result\n",
      "    raise exc.with_traceback(tb)\n",
      "distributed.scheduler.KilledWorker: ('compute_procedure-096f7903c3060bc3751c90c2294e6ee9', <Worker 'tcp://10.240.60.41:41982', name: 32, memory: 0, processing: 34>)\n",
      "\n",
      "-------------------------------------\n",
      "\n"
     ]
    }
   ],
   "source": [
    "count_unique_optimization_error_messages(resm, full=True, pretty_print=True)"
   ]
  },
  {
   "cell_type": "code",
   "execution_count": 49,
   "metadata": {},
   "outputs": [
    {
     "name": "stdout",
     "output_type": "stream",
     "text": [
      "OptimizationRecord(id='19094237', status='ERROR')\n",
      "OptimizationRecord(id='19094393', status='ERROR')\n",
      "OptimizationRecord(id='19094394', status='ERROR')\n",
      "OptimizationRecord(id='19094400', status='ERROR')\n",
      "OptimizationRecord(id='19094836', status='ERROR')\n",
      "OptimizationRecord(id='19095157', status='ERROR')\n",
      "OptimizationRecord(id='19095217', status='ERROR')\n",
      "OptimizationRecord(id='19095261', status='ERROR')\n",
      "OptimizationRecord(id='19095387', status='ERROR')\n",
      "OptimizationRecord(id='19095395', status='ERROR')\n",
      "OptimizationRecord(id='19095607', status='ERROR')\n",
      "OptimizationRecord(id='19095795', status='ERROR')\n",
      "OptimizationRecord(id='19095808', status='ERROR')\n",
      "OptimizationRecord(id='19094233', status='ERROR')\n",
      "OptimizationRecord(id='19094485', status='ERROR')\n",
      "OptimizationRecord(id='19095160', status='ERROR')\n",
      "OptimizationRecord(id='19095389', status='ERROR')\n",
      "OptimizationRecord(id='19095797', status='ERROR')\n",
      "OptimizationRecord(id='19095805', status='ERROR')\n",
      "OptimizationRecord(id='19095886', status='ERROR')\n",
      "OptimizationRecord(id='19095887', status='ERROR')\n",
      "OptimizationRecord(id='19095894', status='ERROR')\n"
     ]
    }
   ],
   "source": [
    "restart_optimizations(resm, client)"
   ]
  },
  {
   "cell_type": "markdown",
   "metadata": {},
   "source": [
    "### 2020.06.18 14:45"
   ]
  },
  {
   "cell_type": "code",
   "execution_count": 101,
   "metadata": {},
   "outputs": [],
   "source": [
    "dataset = \"OpenFF Gen 2 Opt Set 5 Bayer\""
   ]
  },
  {
   "cell_type": "code",
   "execution_count": 102,
   "metadata": {},
   "outputs": [],
   "source": [
    "ds = client.get_collection(\"OptimizationDataset\", dataset)"
   ]
  },
  {
   "cell_type": "code",
   "execution_count": 103,
   "metadata": {},
   "outputs": [
    {
     "data": {
      "text/plain": [
       "[OptimizationRecord(id='19094237', status='INCOMPLETE'),\n",
       " OptimizationRecord(id='19094400', status='INCOMPLETE'),\n",
       " OptimizationRecord(id='19094485', status='INCOMPLETE'),\n",
       " OptimizationRecord(id='19094836', status='INCOMPLETE'),\n",
       " OptimizationRecord(id='19095157', status='INCOMPLETE'),\n",
       " OptimizationRecord(id='19095158', status='INCOMPLETE'),\n",
       " OptimizationRecord(id='19095160', status='INCOMPLETE'),\n",
       " OptimizationRecord(id='19095607', status='INCOMPLETE'),\n",
       " OptimizationRecord(id='19095726', status='INCOMPLETE'),\n",
       " OptimizationRecord(id='19095795', status='INCOMPLETE'),\n",
       " OptimizationRecord(id='19095805', status='INCOMPLETE'),\n",
       " OptimizationRecord(id='19095808', status='INCOMPLETE'),\n",
       " OptimizationRecord(id='19095887', status='INCOMPLETE'),\n",
       " OptimizationRecord(id='19095894', status='INCOMPLETE'),\n",
       " OptimizationRecord(id='19094233', status='INCOMPLETE'),\n",
       " OptimizationRecord(id='19094393', status='INCOMPLETE'),\n",
       " OptimizationRecord(id='19094394', status='INCOMPLETE'),\n",
       " OptimizationRecord(id='19094397', status='INCOMPLETE'),\n",
       " OptimizationRecord(id='19095217', status='INCOMPLETE'),\n",
       " OptimizationRecord(id='19095261', status='INCOMPLETE'),\n",
       " OptimizationRecord(id='19095377', status='INCOMPLETE'),\n",
       " OptimizationRecord(id='19095387', status='INCOMPLETE'),\n",
       " OptimizationRecord(id='19095389', status='INCOMPLETE'),\n",
       " OptimizationRecord(id='19095395', status='INCOMPLETE'),\n",
       " OptimizationRecord(id='19095797', status='INCOMPLETE'),\n",
       " OptimizationRecord(id='19095886', status='INCOMPLETE')]"
      ]
     },
     "execution_count": 103,
     "metadata": {},
     "output_type": "execute_result"
    }
   ],
   "source": [
    "resm = get_unfinished_optimizations(ds, 'default', client, dropna=True)\n",
    "resm"
   ]
  },
  {
   "cell_type": "code",
   "execution_count": 137,
   "metadata": {},
   "outputs": [
    {
     "data": {
      "text/plain": [
       "26"
      ]
     },
     "execution_count": 137,
     "metadata": {},
     "output_type": "execute_result"
    }
   ],
   "source": [
    "len(resm)"
   ]
  },
  {
   "cell_type": "code",
   "execution_count": 166,
   "metadata": {},
   "outputs": [],
   "source": [
    "incomplete = (opt.dict() for opt in resm if opt.status == 'INCOMPLETE')"
   ]
  },
  {
   "cell_type": "code",
   "execution_count": 175,
   "metadata": {},
   "outputs": [
    {
     "data": {
      "text/plain": [
       "{'id': '19095726',\n",
       " 'hash_index': '23764d81e74a7d33881c9676c7197a73ed09bf60',\n",
       " 'procedure': 'optimization',\n",
       " 'program': 'geometric',\n",
       " 'version': 1,\n",
       " 'protocols': {},\n",
       " 'extras': {},\n",
       " 'stdout': None,\n",
       " 'stderr': None,\n",
       " 'error': '22685536',\n",
       " 'task_id': None,\n",
       " 'manager_name': 'PacificResearchPlatform-openff-qca-9cf44dcf9-tm8vz-4bced6b4-edac-4b0c-bf56-c3a7138a39ab',\n",
       " 'status': <RecordStatusEnum.incomplete: 'INCOMPLETE'>,\n",
       " 'modified_on': datetime.datetime(2020, 6, 8, 15, 45, 51, 871581),\n",
       " 'created_on': datetime.datetime(2020, 4, 4, 21, 2, 52, 650511),\n",
       " 'provenance': None,\n",
       " 'schema_version': 1,\n",
       " 'initial_molecule': '12737155',\n",
       " 'qc_spec': {'driver': <DriverEnum.gradient: 'gradient'>,\n",
       "  'method': 'b3lyp-d3bj',\n",
       "  'basis': 'dzvp',\n",
       "  'keywords': '2',\n",
       "  'program': 'psi4'},\n",
       " 'keywords': {'program': 'psi4'},\n",
       " 'energies': None,\n",
       " 'final_molecule': None,\n",
       " 'trajectory': None}"
      ]
     },
     "execution_count": 175,
     "metadata": {},
     "output_type": "execute_result"
    }
   ],
   "source": [
    "next(incomplete)"
   ]
  },
  {
   "cell_type": "markdown",
   "metadata": {},
   "source": [
    "PRP, UCI, and one Galileo INCOMPLETE. This is a major problem."
   ]
  },
  {
   "cell_type": "code",
   "execution_count": 135,
   "metadata": {},
   "outputs": [],
   "source": [
    "count_unique_optimization_error_messages(resm, full=True, pretty_print=True)"
   ]
  },
  {
   "cell_type": "code",
   "execution_count": 136,
   "metadata": {},
   "outputs": [],
   "source": [
    "restart_optimizations(resm, client)"
   ]
  },
  {
   "cell_type": "markdown",
   "metadata": {},
   "source": [
    "### 2020.06.11 22:00"
   ]
  },
  {
   "cell_type": "code",
   "execution_count": 42,
   "metadata": {},
   "outputs": [],
   "source": [
    "dataset = \"OpenFF Gen 2 Opt Set 5 Bayer\""
   ]
  },
  {
   "cell_type": "code",
   "execution_count": 43,
   "metadata": {},
   "outputs": [],
   "source": [
    "ds = client.get_collection(\"OptimizationDataset\", dataset)"
   ]
  },
  {
   "cell_type": "code",
   "execution_count": 44,
   "metadata": {},
   "outputs": [
    {
     "data": {
      "text/plain": [
       "[OptimizationRecord(id='19094237', status='ERROR'),\n",
       " OptimizationRecord(id='19094393', status='ERROR'),\n",
       " OptimizationRecord(id='19094394', status='ERROR'),\n",
       " OptimizationRecord(id='19094397', status='ERROR'),\n",
       " OptimizationRecord(id='19094836', status='ERROR'),\n",
       " OptimizationRecord(id='19095160', status='ERROR'),\n",
       " OptimizationRecord(id='19095389', status='ERROR'),\n",
       " OptimizationRecord(id='19095726', status='INCOMPLETE'),\n",
       " OptimizationRecord(id='19095795', status='ERROR'),\n",
       " OptimizationRecord(id='19095797', status='ERROR'),\n",
       " OptimizationRecord(id='19095886', status='ERROR'),\n",
       " OptimizationRecord(id='19095887', status='ERROR'),\n",
       " OptimizationRecord(id='19095894', status='ERROR'),\n",
       " OptimizationRecord(id='19094233', status='ERROR'),\n",
       " OptimizationRecord(id='19094400', status='ERROR'),\n",
       " OptimizationRecord(id='19094485', status='ERROR'),\n",
       " OptimizationRecord(id='19095157', status='ERROR'),\n",
       " OptimizationRecord(id='19095158', status='ERROR'),\n",
       " OptimizationRecord(id='19095217', status='ERROR'),\n",
       " OptimizationRecord(id='19095261', status='ERROR'),\n",
       " OptimizationRecord(id='19095377', status='ERROR'),\n",
       " OptimizationRecord(id='19095387', status='ERROR'),\n",
       " OptimizationRecord(id='19095395', status='ERROR'),\n",
       " OptimizationRecord(id='19095607', status='ERROR'),\n",
       " OptimizationRecord(id='19095805', status='ERROR'),\n",
       " OptimizationRecord(id='19095808', status='ERROR')]"
      ]
     },
     "execution_count": 44,
     "metadata": {},
     "output_type": "execute_result"
    }
   ],
   "source": [
    "resm = get_unfinished_optimizations(ds, 'default', client, dropna=True)\n",
    "resm"
   ]
  },
  {
   "cell_type": "code",
   "execution_count": 46,
   "metadata": {},
   "outputs": [],
   "source": [
    "incomplete = (opt.dict() for opt in resm if opt.status == 'INCOMPLETE')"
   ]
  },
  {
   "cell_type": "code",
   "execution_count": 47,
   "metadata": {},
   "outputs": [
    {
     "data": {
      "text/plain": [
       "{'id': '19095726',\n",
       " 'hash_index': '23764d81e74a7d33881c9676c7197a73ed09bf60',\n",
       " 'procedure': 'optimization',\n",
       " 'program': 'geometric',\n",
       " 'version': 1,\n",
       " 'protocols': {},\n",
       " 'extras': {},\n",
       " 'stdout': None,\n",
       " 'stderr': None,\n",
       " 'error': '22685536',\n",
       " 'task_id': None,\n",
       " 'manager_name': 'PacificResearchPlatform-openff-qca-9cf44dcf9-tm8vz-4bced6b4-edac-4b0c-bf56-c3a7138a39ab',\n",
       " 'status': <RecordStatusEnum.incomplete: 'INCOMPLETE'>,\n",
       " 'modified_on': datetime.datetime(2020, 6, 8, 15, 45, 51, 871581),\n",
       " 'created_on': datetime.datetime(2020, 4, 4, 21, 2, 52, 650511),\n",
       " 'provenance': None,\n",
       " 'schema_version': 1,\n",
       " 'initial_molecule': '12737155',\n",
       " 'qc_spec': {'driver': <DriverEnum.gradient: 'gradient'>,\n",
       "  'method': 'b3lyp-d3bj',\n",
       "  'basis': 'dzvp',\n",
       "  'keywords': '2',\n",
       "  'program': 'psi4'},\n",
       " 'keywords': {'program': 'psi4'},\n",
       " 'energies': None,\n",
       " 'final_molecule': None,\n",
       " 'trajectory': None}"
      ]
     },
     "execution_count": 47,
     "metadata": {},
     "output_type": "execute_result"
    }
   ],
   "source": [
    "next(incomplete)"
   ]
  },
  {
   "cell_type": "markdown",
   "metadata": {},
   "source": [
    "PRP unfinished. Perhaps when the manager gets kicked this will get released?"
   ]
  },
  {
   "cell_type": "code",
   "execution_count": 48,
   "metadata": {},
   "outputs": [
    {
     "name": "stdout",
     "output_type": "stream",
     "text": [
      "There are 3 instances of\n",
      "-------------------------------------\n",
      "geomeTRIC run_json error:\n",
      "Traceback (most recent call last):\n",
      "  File \"/opt/conda/envs/qcfractal/lib/python3.6/site-packages/geometric/run_json.py\", line 214, in geometric_run_json\n",
      "    geometric.optimize.Optimize(coords, M, IC, engine, None, params)\n",
      "  File \"/opt/conda/envs/qcfractal/lib/python3.6/site-packages/geometric/optimize.py\", line 1331, in Optimize\n",
      "    return optimizer.optimizeGeometry()\n",
      "  File \"/opt/conda/envs/qcfractal/lib/python3.6/site-packages/geometric/optimize.py\", line 1293, in optimizeGeometry\n",
      "    self.calcEnergyForce()\n",
      "  File \"/opt/conda/envs/qcfractal/lib/python3.6/site-packages/geometric/optimize.py\", line 1002, in calcEnergyForce\n",
      "    spcalc = self.engine.calc(self.X, self.dirname)\n",
      "  File \"/opt/conda/envs/qcfractal/lib/python3.6/site-packages/geometric/engine.py\", line 873, in calc\n",
      "    return self.calc_new(coords, dirname)\n",
      "  File \"/opt/conda/envs/qcfractal/lib/python3.6/site-packages/geometric/engine.py\", line 865, in calc_new\n",
      "    raise QCEngineAPIEngineError(\"QCEngineAPI computation did not execute correctly. Message: \" + ret[\"error\"][\"error_message\"])\n",
      "geometric.errors.QCEngineAPIEngineError: QCEngineAPI computation did not execute correctly. Message: QCEngine Unknown Error: \n",
      "\n",
      "-------------------------------------\n",
      "\n",
      "There are 7 instances of\n",
      "-------------------------------------\n",
      "geomeTRIC run_json error:\n",
      "Traceback (most recent call last):\n",
      "  File \"/opt/conda/envs/qcfractal/lib/python3.6/site-packages/geometric/run_json.py\", line 214, in geometric_run_json\n",
      "    geometric.optimize.Optimize(coords, M, IC, engine, None, params)\n",
      "  File \"/opt/conda/envs/qcfractal/lib/python3.6/site-packages/geometric/optimize.py\", line 1331, in Optimize\n",
      "    return optimizer.optimizeGeometry()\n",
      "  File \"/opt/conda/envs/qcfractal/lib/python3.6/site-packages/geometric/optimize.py\", line 1298, in optimizeGeometry\n",
      "    self.calcEnergyForce()\n",
      "  File \"/opt/conda/envs/qcfractal/lib/python3.6/site-packages/geometric/optimize.py\", line 1002, in calcEnergyForce\n",
      "    spcalc = self.engine.calc(self.X, self.dirname)\n",
      "  File \"/opt/conda/envs/qcfractal/lib/python3.6/site-packages/geometric/engine.py\", line 873, in calc\n",
      "    return self.calc_new(coords, dirname)\n",
      "  File \"/opt/conda/envs/qcfractal/lib/python3.6/site-packages/geometric/engine.py\", line 865, in calc_new\n",
      "    raise QCEngineAPIEngineError(\"QCEngineAPI computation did not execute correctly. Message: \" + ret[\"error\"][\"error_message\"])\n",
      "geometric.errors.QCEngineAPIEngineError: QCEngineAPI computation did not execute correctly. Message: QCEngine Unknown Error: \n",
      "\n",
      "-------------------------------------\n",
      "\n",
      "There are 1 instances of\n",
      "-------------------------------------\n",
      "Caught Executor Error:\n",
      "Traceback (most recent call last):\n",
      "  File \"/data/homezvol0/tgokey/opt/lib/python3.7/site-packages/qcfractal-0.13.1+54.g3caa178.dirty-py3.7.egg/qcfractal/queue/executor_adapter.py\", line 15, in _get_future\n",
      "    return future.result()\n",
      "  File \"/data/homezvol0/tgokey/.local/miniconda3/envs/qcf/lib/python3.7/site-packages/distributed/client.py\", line 218, in result\n",
      "    raise exc.with_traceback(tb)\n",
      "distributed.scheduler.KilledWorker: ('compute_procedure-b302535fc03f711784b21e8de3c5cd71', <Worker 'tcp://10.240.60.56:42459', name: 661, memory: 0, processing: 12>)\n",
      "\n",
      "-------------------------------------\n",
      "\n",
      "There are 5 instances of\n",
      "-------------------------------------\n",
      "geomeTRIC run_json error:\n",
      "Traceback (most recent call last):\n",
      "  File \"/data/homezvol0/tgokey/.local/miniconda3/envs/qcf/lib/python3.7/site-packages/geometric/run_json.py\", line 214, in geometric_run_json\n",
      "    geometric.optimize.Optimize(coords, M, IC, engine, None, params)\n",
      "  File \"/data/homezvol0/tgokey/.local/miniconda3/envs/qcf/lib/python3.7/site-packages/geometric/optimize.py\", line 1331, in Optimize\n",
      "    return optimizer.optimizeGeometry()\n",
      "  File \"/data/homezvol0/tgokey/.local/miniconda3/envs/qcf/lib/python3.7/site-packages/geometric/optimize.py\", line 1301, in optimizeGeometry\n",
      "    raise GeomOptNotConvergedError(\"Optimizer.optimizeGeometry() failed to converge.\")\n",
      "geometric.errors.GeomOptNotConvergedError: Optimizer.optimizeGeometry() failed to converge.\n",
      "\n",
      "-------------------------------------\n",
      "\n",
      "There are 4 instances of\n",
      "-------------------------------------\n",
      "geomeTRIC run_json error:\n",
      "Traceback (most recent call last):\n",
      "  File \"/opt/conda/envs/qcfractal/lib/python3.6/site-packages/geometric/run_json.py\", line 214, in geometric_run_json\n",
      "    geometric.optimize.Optimize(coords, M, IC, engine, None, params)\n",
      "  File \"/opt/conda/envs/qcfractal/lib/python3.6/site-packages/geometric/optimize.py\", line 1331, in Optimize\n",
      "    return optimizer.optimizeGeometry()\n",
      "  File \"/opt/conda/envs/qcfractal/lib/python3.6/site-packages/geometric/optimize.py\", line 1301, in optimizeGeometry\n",
      "    raise GeomOptNotConvergedError(\"Optimizer.optimizeGeometry() failed to converge.\")\n",
      "geometric.errors.GeomOptNotConvergedError: Optimizer.optimizeGeometry() failed to converge.\n",
      "\n",
      "-------------------------------------\n",
      "\n",
      "There are 1 instances of\n",
      "-------------------------------------\n",
      "geomeTRIC run_json error:\n",
      "Traceback (most recent call last):\n",
      "  File \"/opt/conda/envs/qcfractal/lib/python3.6/site-packages/geometric/run_json.py\", line 214, in geometric_run_json\n",
      "    geometric.optimize.Optimize(coords, M, IC, engine, None, params)\n",
      "  File \"/opt/conda/envs/qcfractal/lib/python3.6/site-packages/geometric/optimize.py\", line 1331, in Optimize\n",
      "    return optimizer.optimizeGeometry()\n",
      "  File \"/opt/conda/envs/qcfractal/lib/python3.6/site-packages/geometric/optimize.py\", line 1298, in optimizeGeometry\n",
      "    self.calcEnergyForce()\n",
      "  File \"/opt/conda/envs/qcfractal/lib/python3.6/site-packages/geometric/optimize.py\", line 1002, in calcEnergyForce\n",
      "    spcalc = self.engine.calc(self.X, self.dirname)\n",
      "  File \"/opt/conda/envs/qcfractal/lib/python3.6/site-packages/geometric/engine.py\", line 873, in calc\n",
      "    return self.calc_new(coords, dirname)\n",
      "  File \"/opt/conda/envs/qcfractal/lib/python3.6/site-packages/geometric/engine.py\", line 865, in calc_new\n",
      "    raise QCEngineAPIEngineError(\"QCEngineAPI computation did not execute correctly. Message: \" + ret[\"error\"][\"error_message\"])\n",
      "geometric.errors.QCEngineAPIEngineError: QCEngineAPI computation did not execute correctly. Message: QCEngine Unknown Error: double free or corruption (!prev)\n",
      "forrtl: error (76): Abort trap signal\n",
      "Image              PC                Routine            Line        Source             \n",
      "libgdma.so         00007FED762E810F  for__signal_handl     Unknown  Unknown\n",
      "libpthread-2.28.s  00007FED7ADF7730  Unknown               Unknown  Unknown\n",
      "libc-2.28.so       00007FED7AC5B7BB  gsignal               Unknown  Unknown\n",
      "libc-2.28.so       00007FED7AC46535  abort                 Unknown  Unknown\n",
      "libc-2.28.so       00007FED7AC9D508  Unknown               Unknown  Unknown\n",
      "libc-2.28.so       00007FED7ACA3C1A  Unknown               Unknown  Unknown\n",
      "libc-2.28.so       00007FED7ACA573C  Unknown               Unknown  Unknown\n",
      "core.cpython-36m-  00007FED796985E0  _ZN3psi4PSIO5clos     Unknown  Unknown\n",
      "core.cpython-36m-  00007FED78D701D7  _ZN3psi11DIISMana     Unknown  Unknown\n",
      "core.cpython-36m-  00007FED79933A0D  Unknown               Unknown  Unknown\n",
      "core.cpython-36m-  00007FED799599C3  Unknown               Unknown  Unknown\n",
      "core.cpython-36m-  00007FED772E0A70  _ZNSt15_Sp_counte     Unknown  Unknown\n",
      "core.cpython-36m-  00007FED7966BDDE  _ZN3psi7Process11     Unknown  Unknown\n",
      "libc-2.28.so       00007FED7AC5DD8C  Unknown               Unknown  Unknown\n",
      "libc-2.28.so       00007FED7AC5DEBA  Unknown               Unknown  Unknown\n",
      "python3.6          00005642E69B13A9  Unknown               Unknown  Unknown\n",
      "python3.6          00005642E69B1488  Unknown               Unknown  Unknown\n",
      "python3.6          00005642E69B14F2  PyErr_PrintEx         Unknown  Unknown\n",
      "python3.6          00005642E69B7DC7  PyRun_SimpleFileE     Unknown  Unknown\n",
      "python3.6          00005642E69BB833  Py_Main               Unknown  Unknown\n",
      "python3.6          00005642E688588E  main                  Unknown  Unknown\n",
      "libc-2.28.so       00007FED7AC4809B  __libc_start_main     Unknown  Unknown\n",
      "python3.6          00005642E6965160  Unknown               Unknown  Unknown\n",
      "\n",
      "\n",
      "-------------------------------------\n",
      "\n",
      "There are 1 instances of\n",
      "-------------------------------------\n",
      "Caught Executor Error:\n",
      "Traceback (most recent call last):\n",
      "  File \"/data/homezvol0/tgokey/opt/lib/python3.7/site-packages/qcfractal-0.13.1+54.g3caa178.dirty-py3.7.egg/qcfractal/queue/executor_adapter.py\", line 15, in _get_future\n",
      "    return future.result()\n",
      "  File \"/data/homezvol0/tgokey/.local/miniconda3/envs/qcf/lib/python3.7/site-packages/distributed/client.py\", line 218, in result\n",
      "    raise exc.with_traceback(tb)\n",
      "distributed.scheduler.KilledWorker: ('compute_procedure-5ebd3e506b97b229eac587656113f66d', <Worker 'tcp://10.240.60.71:37541', name: 21, memory: 0, processing: 3>)\n",
      "\n",
      "-------------------------------------\n",
      "\n",
      "There are 1 instances of\n",
      "-------------------------------------\n",
      "Caught Executor Error:\n",
      "Traceback (most recent call last):\n",
      "  File \"/data/homezvol0/tgokey/opt/lib/python3.7/site-packages/qcfractal-0.13.1+54.g3caa178.dirty-py3.7.egg/qcfractal/queue/executor_adapter.py\", line 15, in _get_future\n",
      "    return future.result()\n",
      "  File \"/data/homezvol0/tgokey/.local/miniconda3/envs/qcf/lib/python3.7/site-packages/distributed/client.py\", line 218, in result\n",
      "    raise exc.with_traceback(tb)\n",
      "distributed.scheduler.KilledWorker: ('compute_procedure-dabf7237cfbb6a6bee751ba4e1f54a1a', <Worker 'tcp://10.240.60.76:33643', name: 639, memory: 0, processing: 4>)\n",
      "\n",
      "-------------------------------------\n",
      "\n",
      "There are 1 instances of\n",
      "-------------------------------------\n",
      "Caught Executor Error:\n",
      "Traceback (most recent call last):\n",
      "  File \"/data/homezvol0/tgokey/opt/lib/python3.7/site-packages/qcfractal-0.13.1+54.g3caa178.dirty-py3.7.egg/qcfractal/queue/executor_adapter.py\", line 15, in _get_future\n",
      "    return future.result()\n",
      "  File \"/data/homezvol0/tgokey/.local/miniconda3/envs/qcf/lib/python3.7/site-packages/distributed/client.py\", line 218, in result\n",
      "    raise exc.with_traceback(tb)\n",
      "distributed.scheduler.KilledWorker: ('compute_procedure-a2cf254a7c7bf8d4fbba506656ce4dcc', <Worker 'tcp://10.240.60.73:38271', name: 664, memory: 0, processing: 10>)\n",
      "\n",
      "-------------------------------------\n",
      "\n",
      "There are 1 instances of\n",
      "-------------------------------------\n",
      "Caught Executor Error:\n",
      "Traceback (most recent call last):\n",
      "  File \"/home/chodera/miniconda/envs/qcfractal/lib/python3.6/site-packages/qcfractal/queue/executor_adapter.py\", line 15, in _get_future\n",
      "    return future.result()\n",
      "  File \"/home/chodera/miniconda/envs/qcfractal/lib/python3.6/concurrent/futures/_base.py\", line 423, in result\n",
      "    raise CancelledError()\n",
      "concurrent.futures._base.CancelledError\n",
      "\n",
      "-------------------------------------\n",
      "\n"
     ]
    }
   ],
   "source": [
    "count_unique_optimization_error_messages(resm, full=True, pretty_print=True)"
   ]
  },
  {
   "cell_type": "code",
   "execution_count": 49,
   "metadata": {},
   "outputs": [
    {
     "name": "stdout",
     "output_type": "stream",
     "text": [
      "OptimizationRecord(id='19094237', status='ERROR')\n",
      "OptimizationRecord(id='19094393', status='ERROR')\n",
      "OptimizationRecord(id='19094394', status='ERROR')\n",
      "OptimizationRecord(id='19094397', status='ERROR')\n",
      "OptimizationRecord(id='19094836', status='ERROR')\n",
      "OptimizationRecord(id='19095160', status='ERROR')\n",
      "OptimizationRecord(id='19095389', status='ERROR')\n",
      "OptimizationRecord(id='19095795', status='ERROR')\n",
      "OptimizationRecord(id='19095797', status='ERROR')\n",
      "OptimizationRecord(id='19095886', status='ERROR')\n",
      "OptimizationRecord(id='19095887', status='ERROR')\n",
      "OptimizationRecord(id='19095894', status='ERROR')\n",
      "OptimizationRecord(id='19094233', status='ERROR')\n",
      "OptimizationRecord(id='19094400', status='ERROR')\n",
      "OptimizationRecord(id='19094485', status='ERROR')\n",
      "OptimizationRecord(id='19095157', status='ERROR')\n",
      "OptimizationRecord(id='19095158', status='ERROR')\n",
      "OptimizationRecord(id='19095217', status='ERROR')\n",
      "OptimizationRecord(id='19095261', status='ERROR')\n",
      "OptimizationRecord(id='19095377', status='ERROR')\n",
      "OptimizationRecord(id='19095387', status='ERROR')\n",
      "OptimizationRecord(id='19095395', status='ERROR')\n",
      "OptimizationRecord(id='19095607', status='ERROR')\n",
      "OptimizationRecord(id='19095805', status='ERROR')\n",
      "OptimizationRecord(id='19095808', status='ERROR')\n"
     ]
    }
   ],
   "source": [
    "restart_optimizations(resm, client)"
   ]
  }
 ],
 "metadata": {
  "kernelspec": {
   "display_name": "Python 3",
   "language": "python",
   "name": "python3"
  },
  "language_info": {
   "codemirror_mode": {
    "name": "ipython",
    "version": 3
   },
   "file_extension": ".py",
   "mimetype": "text/x-python",
   "name": "python",
   "nbconvert_exporter": "python",
   "pygments_lexer": "ipython3",
   "version": "3.8.2"
  }
 },
 "nbformat": 4,
 "nbformat_minor": 4
}
