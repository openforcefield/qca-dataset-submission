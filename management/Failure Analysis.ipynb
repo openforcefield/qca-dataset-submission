{
 "cells": [
  {
   "cell_type": "code",
   "execution_count": 2,
   "metadata": {},
   "outputs": [],
   "source": [
    "import qcportal as ptl\n",
    "import pandas as pd\n",
    "import datetime\n",
    "import time\n",
    "\n",
    "from management import *\n",
    "\n",
    "from lifecycle import DataSet"
   ]
  },
  {
   "cell_type": "code",
   "execution_count": 3,
   "metadata": {},
   "outputs": [],
   "source": [
    "# connect without auth\n",
    "# read only\n",
    "client = ptl.FractalClient()"
   ]
  },
  {
   "cell_type": "raw",
   "metadata": {},
   "source": [
    "# connect with authentication, therefore write access\n",
    "# don't use unless you plan to submit things\n",
    "client = ptl.FractalClient.from_file()"
   ]
  },
  {
   "cell_type": "code",
   "execution_count": 4,
   "metadata": {},
   "outputs": [
    {
     "data": {
      "text/html": [
       "\n",
       "<h3>FractalClient</h3>\n",
       "<ul>\n",
       "  <li><b>Server:   &nbsp; </b>The MolSSI QCArchive Server</li>\n",
       "  <li><b>Address:  &nbsp; </b>https://api.qcarchive.molssi.org:443/</li>\n",
       "  <li><b>Username: &nbsp; </b>None</li>\n",
       "</ul>\n"
      ],
      "text/plain": [
       "FractalClient(server_name='The MolSSI QCArchive Server', address='https://api.qcarchive.molssi.org:443/', username='None')"
      ]
     },
     "execution_count": 4,
     "metadata": {},
     "output_type": "execute_result"
    }
   ],
   "source": [
    "client"
   ]
  },
  {
   "cell_type": "code",
   "execution_count": 5,
   "metadata": {},
   "outputs": [],
   "source": [
    "dataset = \"OpenFF Gen 2 Torsion Set 1 Roche 2\""
   ]
  },
  {
   "cell_type": "code",
   "execution_count": 6,
   "metadata": {},
   "outputs": [],
   "source": [
    "ds = client.get_collection(\"TorsionDriveDataset\", dataset)"
   ]
  },
  {
   "cell_type": "code",
   "execution_count": 7,
   "metadata": {},
   "outputs": [
    {
     "data": {
      "text/html": [
       "<div>\n",
       "<style scoped>\n",
       "    .dataframe tbody tr th:only-of-type {\n",
       "        vertical-align: middle;\n",
       "    }\n",
       "\n",
       "    .dataframe tbody tr th {\n",
       "        vertical-align: top;\n",
       "    }\n",
       "\n",
       "    .dataframe thead th {\n",
       "        text-align: right;\n",
       "    }\n",
       "</style>\n",
       "<table border=\"1\" class=\"dataframe\">\n",
       "  <thead>\n",
       "    <tr style=\"text-align: right;\">\n",
       "      <th></th>\n",
       "      <th>Description</th>\n",
       "    </tr>\n",
       "    <tr>\n",
       "      <th>Name</th>\n",
       "      <th></th>\n",
       "    </tr>\n",
       "  </thead>\n",
       "  <tbody>\n",
       "    <tr>\n",
       "      <th>default</th>\n",
       "      <td>Standard OpenFF torsiondrive specification.</td>\n",
       "    </tr>\n",
       "  </tbody>\n",
       "</table>\n",
       "</div>"
      ],
      "text/plain": [
       "                                         Description\n",
       "Name                                                \n",
       "default  Standard OpenFF torsiondrive specification."
      ]
     },
     "execution_count": 7,
     "metadata": {},
     "output_type": "execute_result"
    }
   ],
   "source": [
    "ds.list_specifications()"
   ]
  },
  {
   "cell_type": "code",
   "execution_count": 9,
   "metadata": {},
   "outputs": [],
   "source": [
    "results = defaultdict(dict)\n",
    "for spec in ds.list_specifications().index.tolist():\n",
    "    tdrs = get_torsiondrives(ds, spec, client)\n",
    "\n",
    "    for status in ['COMPLETE', 'RUNNING', 'ERROR']:\n",
    "        results[spec][status] =  len(\n",
    "                [tdr for tdr in tdrs if tdr.status == status])"
   ]
  },
  {
   "cell_type": "code",
   "execution_count": 10,
   "metadata": {},
   "outputs": [],
   "source": [
    "df_tdr = pd.DataFrame(results).transpose()"
   ]
  },
  {
   "cell_type": "code",
   "execution_count": 11,
   "metadata": {},
   "outputs": [],
   "source": [
    "df_tdr.index.name = 'specification'"
   ]
  },
  {
   "cell_type": "code",
   "execution_count": 12,
   "metadata": {},
   "outputs": [
    {
     "data": {
      "text/html": [
       "<div>\n",
       "<style scoped>\n",
       "    .dataframe tbody tr th:only-of-type {\n",
       "        vertical-align: middle;\n",
       "    }\n",
       "\n",
       "    .dataframe tbody tr th {\n",
       "        vertical-align: top;\n",
       "    }\n",
       "\n",
       "    .dataframe thead th {\n",
       "        text-align: right;\n",
       "    }\n",
       "</style>\n",
       "<table border=\"1\" class=\"dataframe\">\n",
       "  <thead>\n",
       "    <tr style=\"text-align: right;\">\n",
       "      <th></th>\n",
       "      <th>COMPLETE</th>\n",
       "      <th>ERROR</th>\n",
       "      <th>RUNNING</th>\n",
       "    </tr>\n",
       "    <tr>\n",
       "      <th>specification</th>\n",
       "      <th></th>\n",
       "      <th></th>\n",
       "      <th></th>\n",
       "    </tr>\n",
       "  </thead>\n",
       "  <tbody>\n",
       "    <tr>\n",
       "      <th>default</th>\n",
       "      <td>136</td>\n",
       "      <td>1</td>\n",
       "      <td>5</td>\n",
       "    </tr>\n",
       "  </tbody>\n",
       "</table>\n",
       "</div>"
      ],
      "text/plain": [
       "               COMPLETE  ERROR  RUNNING\n",
       "specification                          \n",
       "default             136      1        5"
      ]
     },
     "execution_count": 12,
     "metadata": {},
     "output_type": "execute_result"
    }
   ],
   "source": [
    "df_tdr"
   ]
  },
  {
   "cell_type": "code",
   "execution_count": 14,
   "metadata": {},
   "outputs": [
    {
     "name": "stdout",
     "output_type": "stream",
     "text": [
      "| specification   |   COMPLETE |   ERROR |   RUNNING |\n",
      "|:----------------|-----------:|--------:|----------:|\n",
      "| default         |        136 |       1 |         5 |\n"
     ]
    }
   ],
   "source": [
    "print(df_tdr.to_markdown())"
   ]
  },
  {
   "cell_type": "code",
   "execution_count": 16,
   "metadata": {},
   "outputs": [],
   "source": [
    "results = defaultdict(dict)\n",
    "for spec in ds.list_specifications().index.tolist():\n",
    "    opts = merge(\n",
    "            get_torsiondrive_optimizations(ds, spec, client))\n",
    "\n",
    "    for status in ['COMPLETE', 'INCOMPLETE', 'ERROR']:\n",
    "        results[spec][status] =  len(\n",
    "                [opt for opt in opts if opt.status == status])\n",
    "\n",
    "df_tdr_opt = pd.DataFrame(results).transpose()\n",
    "df_tdr_opt.index.name = 'specification'"
   ]
  },
  {
   "cell_type": "code",
   "execution_count": 17,
   "metadata": {},
   "outputs": [
    {
     "data": {
      "text/html": [
       "<div>\n",
       "<style scoped>\n",
       "    .dataframe tbody tr th:only-of-type {\n",
       "        vertical-align: middle;\n",
       "    }\n",
       "\n",
       "    .dataframe tbody tr th {\n",
       "        vertical-align: top;\n",
       "    }\n",
       "\n",
       "    .dataframe thead th {\n",
       "        text-align: right;\n",
       "    }\n",
       "</style>\n",
       "<table border=\"1\" class=\"dataframe\">\n",
       "  <thead>\n",
       "    <tr style=\"text-align: right;\">\n",
       "      <th></th>\n",
       "      <th>COMPLETE</th>\n",
       "      <th>ERROR</th>\n",
       "      <th>INCOMPLETE</th>\n",
       "    </tr>\n",
       "    <tr>\n",
       "      <th>specification</th>\n",
       "      <th></th>\n",
       "      <th></th>\n",
       "      <th></th>\n",
       "    </tr>\n",
       "  </thead>\n",
       "  <tbody>\n",
       "    <tr>\n",
       "      <th>default</th>\n",
       "      <td>6966</td>\n",
       "      <td>4</td>\n",
       "      <td>5</td>\n",
       "    </tr>\n",
       "  </tbody>\n",
       "</table>\n",
       "</div>"
      ],
      "text/plain": [
       "               COMPLETE  ERROR  INCOMPLETE\n",
       "specification                             \n",
       "default            6966      4           5"
      ]
     },
     "execution_count": 17,
     "metadata": {},
     "output_type": "execute_result"
    }
   ],
   "source": [
    "df_tdr_opt"
   ]
  },
  {
   "cell_type": "code",
   "execution_count": 18,
   "metadata": {},
   "outputs": [],
   "source": [
    "from datetime import datetime"
   ]
  },
  {
   "cell_type": "code",
   "execution_count": 54,
   "metadata": {},
   "outputs": [
    {
     "data": {
      "text/plain": [
       "'2020-07-10 01:40 UTC'"
      ]
     },
     "execution_count": 54,
     "metadata": {},
     "output_type": "execute_result"
    }
   ],
   "source": [
    "datehr = datetime.utcnow().strftime(\"%Y-%m-%d %H:%M UTC\")\n",
    "datehr"
   ]
  },
  {
   "cell_type": "code",
   "execution_count": null,
   "metadata": {},
   "outputs": [],
   "source": []
  },
  {
   "cell_type": "code",
   "execution_count": 40,
   "metadata": {},
   "outputs": [],
   "source": [
    "dataset_type = 'TorsionDriveDataset'\n",
    "dataset_name = 'OpenFF Gen 2 Torsion Set 1 Roche 2'\n",
    "\n",
    "meta = {'**Dataset Name**': dataset_name,\n",
    "        '**Dataset Type**': dataset_type,\n",
    "        '**UTC Date**': datehr}\n",
    "\n",
    "meta = pd.DataFrame(pd.Series(meta, name=\"\"))"
   ]
  },
  {
   "cell_type": "code",
   "execution_count": 43,
   "metadata": {},
   "outputs": [],
   "source": [
    "comment = f\"\"\"\n",
    "## Error Cycling Report\n",
    "\n",
    "{meta.to_markdown()}\n",
    "\n",
    "### `TorsionDriveRecord` current status\n",
    "\n",
    "{df_tdr.to_markdown()}\n",
    "\n",
    "### `OptimizationRecord` current status\n",
    "\n",
    "{df_tdr_opt.to_markdown()}\n",
    "\n",
    "\"\"\"\n"
   ]
  },
  {
   "cell_type": "code",
   "execution_count": 44,
   "metadata": {},
   "outputs": [
    {
     "name": "stdout",
     "output_type": "stream",
     "text": [
      "\n",
      "## Error Cycling Report\n",
      "\n",
      "|                  |                                    |\n",
      "|:-----------------|:-----------------------------------|\n",
      "| **Dataset Name** | OpenFF Gen 2 Torsion Set 1 Roche 2 |\n",
      "| **Dataset Type** | TorsionDriveDataset                |\n",
      "| **UTC Date**     | 2020-07-09 23hr UTC                |\n",
      "\n",
      "### `TorsionDriveRecord` current status\n",
      "\n",
      "| specification   |   COMPLETE |   ERROR |   RUNNING |\n",
      "|:----------------|-----------:|--------:|----------:|\n",
      "| default         |        136 |       1 |         5 |\n",
      "\n",
      "### `OptimizationRecord` current status\n",
      "\n",
      "| specification   |   COMPLETE |   ERROR |   INCOMPLETE |\n",
      "|:----------------|-----------:|--------:|-------------:|\n",
      "| default         |       6966 |       4 |            5 |\n",
      "\n",
      "\n"
     ]
    }
   ],
   "source": [
    "print(comment)"
   ]
  },
  {
   "cell_type": "markdown",
   "metadata": {},
   "source": [
    "## Error Cycling Report\n",
    "| --- | --- |\n",
    "| :------------- | -----------: |\n",
    "| **Dataset Type** | TorsionDriveDataset |\n",
    "| **Dataset Name** | OpenFF Gen 2 Torsion Set 1 Roche 2 |\n",
    "| **UTC Date** | 2020-07-09 23hr UTC |\n",
    "\n",
    "### `TorsionDriveRecord` current status\n",
    "\n",
    "| specification   |   COMPLETE |   ERROR |   RUNNING |\n",
    "|:----------------|-----------:|--------:|----------:|\n",
    "| default         |        136 |       1 |         5 |\n",
    "\n",
    "### `OptimizationRecord` current status\n",
    "\n",
    "| specification   |   COMPLETE |   ERROR |   INCOMPLETE |\n",
    "|:----------------|-----------:|--------:|-------------:|\n",
    "| default         |       6966 |       4 |            5 |\n"
   ]
  },
  {
   "cell_type": "markdown",
   "metadata": {},
   "source": [
    "## DataSet testing"
   ]
  },
  {
   "cell_type": "code",
   "execution_count": 12,
   "metadata": {},
   "outputs": [],
   "source": [
    "from github import Github\n",
    "from getpass import getpass"
   ]
  },
  {
   "cell_type": "code",
   "execution_count": 14,
   "metadata": {},
   "outputs": [
    {
     "name": "stdin",
     "output_type": "stream",
     "text": [
      " ········································\n"
     ]
    }
   ],
   "source": [
    "ghapi = Github(getpass())"
   ]
  },
  {
   "cell_type": "code",
   "execution_count": 10,
   "metadata": {},
   "outputs": [
    {
     "ename": "TypeError",
     "evalue": "__init__() missing 2 required positional arguments: 'pr' and 'ghapi'",
     "output_type": "error",
     "traceback": [
      "\u001b[0;31m---------------------------------------------------------------------------\u001b[0m",
      "\u001b[0;31mTypeError\u001b[0m                                 Traceback (most recent call last)",
      "\u001b[0;32m<ipython-input-10-77ed6fc8d66f>\u001b[0m in \u001b[0;36m<module>\u001b[0;34m\u001b[0m\n\u001b[0;32m----> 1\u001b[0;31m \u001b[0mdst\u001b[0m \u001b[0;34m=\u001b[0m \u001b[0mDataSet\u001b[0m\u001b[0;34m(\u001b[0m\u001b[0;34m'../submissions/2020-03-23-OpenFF-Gen-2-Torsion-Set-1-Roche-2'\u001b[0m\u001b[0;34m)\u001b[0m\u001b[0;34m\u001b[0m\u001b[0;34m\u001b[0m\u001b[0m\n\u001b[0m",
      "\u001b[0;31mTypeError\u001b[0m: __init__() missing 2 required positional arguments: 'pr' and 'ghapi'"
     ]
    }
   ],
   "source": [
    "dst = DataSet('../submissions/2020-03-23-OpenFF-Gen-2-Torsion-Set-1-Roche-2', )"
   ]
  },
  {
   "cell_type": "markdown",
   "metadata": {},
   "source": [
    "We'll begin our live testing here."
   ]
  },
  {
   "cell_type": "code",
   "execution_count": 45,
   "metadata": {},
   "outputs": [],
   "source": [
    "comment = f\"\"\"\n",
    "        ## Error Cycling Report \n",
    "\n",
    "        {meta.to_markdown()}\n",
    "\n",
    "        ### `TorsionDriveRecord` current status\n",
    "\n",
    "        {df_tdr.to_markdown()}\n",
    "\n",
    "        ### `OptimizationRecord` current status\n",
    "\n",
    "        {df_tdr_opt.to_markdown()}\n",
    "\n",
    "        \"\"\"\n",
    "\n"
   ]
  },
  {
   "cell_type": "code",
   "execution_count": 50,
   "metadata": {},
   "outputs": [
    {
     "name": "stdout",
     "output_type": "stream",
     "text": [
      "\n",
      "## Error Cycling Report\n",
      "\n",
      "|                  |                                    |\n",
      "|:-----------------|:-----------------------------------|\n",
      "| **Dataset Name** | OpenFF Gen 2 Torsion Set 1 Roche 2 |\n",
      "| **Dataset Type** | TorsionDriveDataset                |\n",
      "| **UTC Date**     | 2020-07-09 23hr UTC                |\n",
      "\n",
      "### `TorsionDriveRecord` current status\n",
      "\n",
      "| specification   |   COMPLETE |   ERROR |   RUNNING |\n",
      "|:----------------|-----------:|--------:|----------:|\n",
      "| default         |        136 |       1 |         5 |\n",
      "\n",
      "### `OptimizationRecord` current status\n",
      "\n",
      "| specification   |   COMPLETE |   ERROR |   INCOMPLETE |\n",
      "|:----------------|-----------:|--------:|-------------:|\n",
      "| default         |       6966 |       4 |            5 |\n",
      "\n",
      "\n"
     ]
    }
   ],
   "source": [
    "print(\"\\n\".join([substr.strip() for substr in comment.split('\\n')]))"
   ]
  }
 ],
 "metadata": {
  "kernelspec": {
   "display_name": "Python 3",
   "language": "python",
   "name": "python3"
  },
  "language_info": {
   "codemirror_mode": {
    "name": "ipython",
    "version": 3
   },
   "file_extension": ".py",
   "mimetype": "text/x-python",
   "name": "python",
   "nbconvert_exporter": "python",
   "pygments_lexer": "ipython3",
   "version": "3.8.2"
  }
 },
 "nbformat": 4,
 "nbformat_minor": 4
}
