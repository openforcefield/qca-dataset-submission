{
 "cells": [
  {
   "cell_type": "code",
   "execution_count": 1,
   "metadata": {},
   "outputs": [],
   "source": [
    "import logging\n",
    "import warnings\n",
    "from pprint import pprint\n",
    "\n",
    "import numpy as np\n",
    "from openff.qcsubmit.common_structures import QCSpec, PCMSettings\n",
    "from openff.qcsubmit.factories import OptimizationDatasetFactory\n",
    "from openff.qcsubmit.workflow_components import StandardConformerGenerator\n",
    "from openff.toolkit.topology import Molecule\n",
    "from qcelemental.models.results import WavefunctionProtocolEnum\n",
    "from tqdm import tqdm"
   ]
  },
  {
   "cell_type": "code",
   "execution_count": 2,
   "metadata": {},
   "outputs": [],
   "source": [
    "# Warnings that tell us we have undefined stereo and charged molecules\n",
    "logging.getLogger(\"openff.toolkit\").setLevel(logging.ERROR)\n",
    "warnings.simplefilter(\"ignore\")"
   ]
  },
  {
   "cell_type": "code",
   "execution_count": 3,
   "metadata": {},
   "outputs": [],
   "source": [
    "from openff.toolkit.utils import GLOBAL_TOOLKIT_REGISTRY, OpenEyeToolkitWrapper\n",
    "if OpenEyeToolkitWrapper.is_available():\n",
    "    GLOBAL_TOOLKIT_REGISTRY.deregister_toolkit(OpenEyeToolkitWrapper)"
   ]
  },
  {
   "cell_type": "markdown",
   "metadata": {},
   "source": [
    "# Dataset Preparation"
   ]
  },
  {
   "cell_type": "markdown",
   "metadata": {},
   "source": [
    "If starting from SMILES, load in the SMILES patterns of the molecules to include with something like:"
   ]
  },
  {
   "cell_type": "code",
   "execution_count": 4,
   "metadata": {},
   "outputs": [
    {
     "name": "stderr",
     "output_type": "stream",
     "text": [
      "100%|██████████| 200/200 [00:04<00:00, 47.73it/s]\n"
     ]
    }
   ],
   "source": [
    "with open(\"molecules.smi\") as file:\n",
    "    smiles_patterns = file.read().split(\"\\n\")\n",
    "    smiles_patterns = [pattern for pattern in smiles_patterns if len(pattern) > 0]\n",
    "\n",
    "molecules = [\n",
    "    Molecule.from_smiles(smiles_pattern)\n",
    "    for smiles_pattern in tqdm(smiles_patterns)\n",
    "]"
   ]
  },
  {
   "cell_type": "markdown",
   "metadata": {},
   "source": [
    "Prepare the main dataset from the molecule list."
   ]
  },
  {
   "cell_type": "code",
   "execution_count": 5,
   "metadata": {},
   "outputs": [
    {
     "name": "stderr",
     "output_type": "stream",
     "text": [
      "Deduplication                 : 100%|████████| 200/200 [00:00<00:00, 774.89it/s]\n",
      "StandardConformerGenerator    : 100%|█████████| 200/200 [00:05<00:00, 39.12it/s]\n",
      "Preparation                   : 100%|█████████| 200/200 [00:06<00:00, 29.85it/s]\n"
     ]
    }
   ],
   "source": [
    "# Required due to occasional SCF failures. See the V1 dataset as well as\n",
    "# http://forum.psicode.org/t/dft-scf-not-converging/1725/3\n",
    "dft_ultra_fine_keywords = dict(\n",
    "    dft_spherical_points=590,\n",
    "    dft_radial_points=99,\n",
    "    dft_pruning_scheme=\"robust\"\n",
    ")\n",
    "\n",
    "dataset_factory = OptimizationDatasetFactory(\n",
    "    qc_specifications={\n",
    "        \"hf/6-31G*\": QCSpec(\n",
    "            method=\"hf\",\n",
    "            basis=\"6-31G*\",\n",
    "            spec_name=\"hf/6-31G*\",\n",
    "            spec_description=(\n",
    "                \"The quantum chemistry specification used to generate the original AM1BCCs.\"\n",
    "            ),\n",
    "            store_wavefunction=WavefunctionProtocolEnum.orbitals_and_eigenvalues\n",
    "        ),\n",
    "        \"pw6b95/aug-cc-pV(D+d)Z/uf\": QCSpec(\n",
    "            method=\"pw6b95\",\n",
    "            basis=\"aug-cc-pV(D+d)Z\",\n",
    "            spec_name=\"pw6b95/aug-cc-pV(D+d)Z/uf\",\n",
    "            spec_description=(\n",
    "                \"The quantum chemistry specification used in the RESP2 publication \"\n",
    "                \"for the vacuum (i.e. no PCM) calculations modified to use an 'ultra-fine' \"\n",
    "                \"DFT grid to improve SCF convergence.\"\n",
    "            ),\n",
    "            keywords=dft_ultra_fine_keywords,\n",
    "            store_wavefunction=WavefunctionProtocolEnum.orbitals_and_eigenvalues\n",
    "        ),\n",
    "        \"pw6b95/aug-cc-pV(D+d)Z/uf,pcm\": QCSpec(\n",
    "            method=\"pw6b95\",\n",
    "            basis=\"aug-cc-pV(D+d)Z\",\n",
    "            spec_name=\"pw6b95/aug-cc-pV(D+d)Z/uf,pcm\",\n",
    "            spec_description=(\n",
    "                \"The quantum chemistry specification used in the RESP2 publication \"\n",
    "                \"for the aqueous (i.e. with PCM) calculations modified to use an 'ultra-fine' \"\n",
    "                \"DFT grid to improve SCF convergence.\"\n",
    "            ),\n",
    "            implicit_solvent=PCMSettings(\n",
    "                units=\"angstrom\",\n",
    "                cavity_Type=\"GePol\",\n",
    "                cavity_Area=0.3,\n",
    "                cavity_Scaling=True,\n",
    "                cavity_RadiiSet=\"Bondi\",\n",
    "                cavity_Mode=\"Implicit\",\n",
    "                medium_SolverType=\"CPCM\",\n",
    "                medium_Solvent=\"Water\",\n",
    "            ),\n",
    "            keywords=dft_ultra_fine_keywords,\n",
    "            store_wavefunction=WavefunctionProtocolEnum.orbitals_and_eigenvalues\n",
    "        ),\n",
    "    }\n",
    ")\n",
    "\n",
    "dataset_factory.add_workflow_components(\n",
    "    StandardConformerGenerator(max_conformers=10, rms_cutoff=0.1, clear_existing=True)\n",
    ")\n",
    "\n",
    "dataset = dataset_factory.create_dataset(\n",
    "    dataset_name=\"OpenFF BCC Refit Study COH v2.0\",\n",
    "    tagline=\"Optimizations of diverse, para-substituted aniline derivatives.\",\n",
    "    description=\"A data set curated for the initial stage of the on-going OpenFF \"\n",
    "    \"study which aims to co-optimize the AM1BCC bond charge correction (BCC) \"\n",
    "    \"parameters against an experimental training set of density and enthalpy of \"\n",
    "    \"mixing data points and a QM training set of electric field data.\"\n",
    "    \"\\n\\n\"\n",
    "    \"The initial data set is limited to only molecules composed of C, O, H. This \"\n",
    "    \"limited scope significantly reduces the number of BCC parameters which must \"\n",
    "    \"be retrained, thus allowing for easier convergence of the initial \"\n",
    "    \"optimizations.\"\n",
    "    \"\\n\\n\"\n",
    "    \"The included molecules were combinatorially generated to cover a range of \"\n",
    "    \"alcohol, ether, and carbonyl containing molecules.\",\n",
    "    molecules=molecules,\n",
    ")\n",
    "\n",
    "dataset.metadata.submitter = \"simonboothroyd\"\n",
    "dataset.metadata.long_description_url = (\n",
    "    \"https://github.com/openforcefield/qca-dataset-submission/tree/master/\"\n",
    "    \"submissions/\"\n",
    "    \"2021-06-22-OpenFF-BCC-Refit-Study-COH-v2.0\"\n",
    ")\n",
    "\n",
    "dataset.provenance[\"constructure\"] = \"0.0.1\""
   ]
  },
  {
   "cell_type": "markdown",
   "metadata": {
    "pycharm": {
     "name": "#%% md\n"
    }
   },
   "source": [
    "Make sure the molecules in the dataset match the input molecules"
   ]
  },
  {
   "cell_type": "code",
   "execution_count": 6,
   "metadata": {
    "pycharm": {
     "name": "#%%\n"
    }
   },
   "outputs": [],
   "source": [
    "old_smiles = {Molecule.from_smiles(smiles).to_smiles(isomeric=False) for smiles in smiles_patterns}\n",
    "new_smiles = {molecule.to_smiles(isomeric=False) for molecule in dataset.molecules}\n",
    "\n",
    "assert len(old_smiles.symmetric_difference(new_smiles)) == 0"
   ]
  },
  {
   "cell_type": "markdown",
   "metadata": {
    "pycharm": {
     "name": "#%% md\n"
    }
   },
   "source": [
    "Describe the molecule in the dataset"
   ]
  },
  {
   "cell_type": "code",
   "execution_count": 7,
   "metadata": {
    "pycharm": {
     "name": "#%%\n"
    }
   },
   "outputs": [
    {
     "name": "stdout",
     "output_type": "stream",
     "text": [
      "Number of unique molecules        200\n",
      "Number of filtered molecules      0\n",
      "Number of conformers              729\n",
      "Number of conformers min mean max 1   3.65 9\n",
      "Mean molecular weight: 117.62\n",
      "Max molecular weight: 204.31\n",
      "Charges: [0.0]\n"
     ]
    }
   ],
   "source": [
    "confs = np.array([len(mol.conformers) for mol in dataset.molecules])\n",
    "\n",
    "print(\"Number of unique molecules       \", dataset.n_molecules)\n",
    "print(\"Number of filtered molecules     \", dataset.n_filtered)\n",
    "print(\"Number of conformers             \", dataset.n_records)\n",
    "print(\"Number of conformers min mean max\",\n",
    "      confs.min(), \"{:6.2f}\".format(confs.mean()), confs.max())\n",
    "\n",
    "masses = [\n",
    "    [\n",
    "        sum([atom.mass.m for atom in molecule.atoms])\n",
    "        for molecule in dataset.molecules]\n",
    "]\n",
    "\n",
    "print(f'Mean molecular weight: {np.mean(np.array(masses)):.2f}')\n",
    "print(f'Max molecular weight: {np.max(np.array(masses)):.2f}')\n",
    "print(\"Charges:\", sorted(set(molecule.total_charge.m for molecule in dataset.molecules)))"
   ]
  },
  {
   "cell_type": "markdown",
   "metadata": {},
   "source": [
    "Describe the dataset"
   ]
  },
  {
   "cell_type": "code",
   "execution_count": 8,
   "metadata": {
    "scrolled": true
   },
   "outputs": [
    {
     "name": "stdout",
     "output_type": "stream",
     "text": [
      "{'collection_type': 'OptimizationDataset',\n",
      " 'creation_date': datetime.date(2024, 1, 31),\n",
      " 'dataset_name': 'OpenFF BCC Refit Study COH v2.0',\n",
      " 'elements': {'H', 'O', 'C'},\n",
      " 'long_description': 'A data set curated for the initial stage of the on-going '\n",
      "                     'OpenFF study which aims to co-optimize the AM1BCC bond '\n",
      "                     'charge correction (BCC) parameters against an '\n",
      "                     'experimental training set of density and enthalpy of '\n",
      "                     'mixing data points and a QM training set of electric '\n",
      "                     'field data.\\n'\n",
      "                     '\\n'\n",
      "                     'The initial data set is limited to only molecules '\n",
      "                     'composed of C, O, H. This limited scope significantly '\n",
      "                     'reduces the number of BCC parameters which must be '\n",
      "                     'retrained, thus allowing for easier convergence of the '\n",
      "                     'initial optimizations.\\n'\n",
      "                     '\\n'\n",
      "                     'The included molecules were combinatorially generated to '\n",
      "                     'cover a range of alcohol, ether, and carbonyl containing '\n",
      "                     'molecules.',\n",
      " 'long_description_url': HttpUrl('https://github.com/openforcefield/qca-dataset-submission/tree/master/submissions/2021-06-22-OpenFF-BCC-Refit-Study-COH-v2.0', ),\n",
      " 'short_description': 'Optimizations of diverse, para-substituted aniline '\n",
      "                      'derivatives.',\n",
      " 'submitter': 'simonboothroyd'}\n"
     ]
    }
   ],
   "source": [
    "pprint(dataset.metadata.dict())"
   ]
  },
  {
   "cell_type": "code",
   "execution_count": 9,
   "metadata": {},
   "outputs": [
    {
     "name": "stdout",
     "output_type": "stream",
     "text": [
      "Spec: hf/6-31G*\n",
      "{'basis': '6-31G*',\n",
      " 'implicit_solvent': None,\n",
      " 'keywords': {},\n",
      " 'maxiter': 200,\n",
      " 'method': 'hf',\n",
      " 'program': 'psi4',\n",
      " 'scf_properties': ['dipole',\n",
      "                    'quadrupole',\n",
      "                    'wiberg_lowdin_indices',\n",
      "                    'mayer_indices'],\n",
      " 'spec_description': 'The quantum chemistry specification used to generate the '\n",
      "                     'original AM1BCCs.',\n",
      " 'spec_name': 'hf/6-31G*',\n",
      " 'store_wavefunction': 'orbitals_and_eigenvalues'}\n",
      "Spec: pw6b95/aug-cc-pV(D+d)Z/uf\n",
      "{'basis': 'aug-cc-pV(D+d)Z',\n",
      " 'implicit_solvent': None,\n",
      " 'keywords': {'dft_pruning_scheme': 'robust',\n",
      "              'dft_radial_points': 99,\n",
      "              'dft_spherical_points': 590},\n",
      " 'maxiter': 200,\n",
      " 'method': 'pw6b95',\n",
      " 'program': 'psi4',\n",
      " 'scf_properties': ['dipole',\n",
      "                    'quadrupole',\n",
      "                    'wiberg_lowdin_indices',\n",
      "                    'mayer_indices'],\n",
      " 'spec_description': 'The quantum chemistry specification used in the RESP2 '\n",
      "                     'publication for the vacuum (i.e. no PCM) calculations '\n",
      "                     \"modified to use an 'ultra-fine' DFT grid to improve SCF \"\n",
      "                     'convergence.',\n",
      " 'spec_name': 'pw6b95/aug-cc-pV(D+d)Z/uf',\n",
      " 'store_wavefunction': 'orbitals_and_eigenvalues'}\n",
      "Spec: pw6b95/aug-cc-pV(D+d)Z/uf,pcm\n",
      "{'basis': 'aug-cc-pV(D+d)Z',\n",
      " 'implicit_solvent': {'cavity_Area': 0.3,\n",
      "                      'cavity_MinRadius': 52.917721067,\n",
      "                      'cavity_Mode': 'Implicit',\n",
      "                      'cavity_RadiiSet': 'Bondi',\n",
      "                      'cavity_Scaling': True,\n",
      "                      'cavity_Type': 'GePol',\n",
      "                      'codata': 2010,\n",
      "                      'medium_Correction': 0.0,\n",
      "                      'medium_DiagonalScaling': 1.07,\n",
      "                      'medium_MatrixSymm': True,\n",
      "                      'medium_Nonequilibrium': False,\n",
      "                      'medium_ProbeRadius': 0.52917721067,\n",
      "                      'medium_Solvent': 'H2O',\n",
      "                      'medium_SolverType': 'CPCM',\n",
      "                      'units': 'angstrom'},\n",
      " 'keywords': {'dft_pruning_scheme': 'robust',\n",
      "              'dft_radial_points': 99,\n",
      "              'dft_spherical_points': 590},\n",
      " 'maxiter': 200,\n",
      " 'method': 'pw6b95',\n",
      " 'program': 'psi4',\n",
      " 'scf_properties': ['dipole',\n",
      "                    'quadrupole',\n",
      "                    'wiberg_lowdin_indices',\n",
      "                    'mayer_indices'],\n",
      " 'spec_description': 'The quantum chemistry specification used in the RESP2 '\n",
      "                     'publication for the aqueous (i.e. with PCM) calculations '\n",
      "                     \"modified to use an 'ultra-fine' DFT grid to improve SCF \"\n",
      "                     'convergence.',\n",
      " 'spec_name': 'pw6b95/aug-cc-pV(D+d)Z/uf,pcm',\n",
      " 'store_wavefunction': 'orbitals_and_eigenvalues'}\n"
     ]
    }
   ],
   "source": [
    "for spec, obj in dataset.qc_specifications.items():\n",
    "    print(\"Spec:\", spec)\n",
    "    pprint(obj.dict())"
   ]
  },
  {
   "cell_type": "code",
   "execution_count": 10,
   "metadata": {},
   "outputs": [
    {
     "name": "stdout",
     "output_type": "stream",
     "text": [
      "[<SCFProperties.Dipole: 'dipole'>,\n",
      " <SCFProperties.Quadrupole: 'quadrupole'>,\n",
      " <SCFProperties.WibergLowdinIndices: 'wiberg_lowdin_indices'>,\n",
      " <SCFProperties.MayerIndices: 'mayer_indices'>]\n"
     ]
    }
   ],
   "source": [
    "pprint(dataset.qc_specifications['hf/6-31G*'].scf_properties)"
   ]
  },
  {
   "cell_type": "code",
   "execution_count": 11,
   "metadata": {
    "pycharm": {
     "name": "#%%\n"
    }
   },
   "outputs": [],
   "source": [
    "dataset.export_dataset(\"dataset.json.bz2\")\n",
    "dataset.molecules_to_file(\"dataset.smi\", \"smi\")\n",
    "\n",
    "try:\n",
    "    dataset.visualize(\"dataset.pdf\", columns=8)\n",
    "except AttributeError:\n",
    "    # patched in QCSubmit >0.50.2\n",
    "    pass"
   ]
  },
  {
   "cell_type": "code",
   "execution_count": null,
   "metadata": {},
   "outputs": [],
   "source": []
  }
 ],
 "metadata": {
  "kernelspec": {
   "display_name": "Python 3 (ipykernel)",
   "language": "python",
   "name": "python3"
  },
  "language_info": {
   "codemirror_mode": {
    "name": "ipython",
    "version": 3
   },
   "file_extension": ".py",
   "mimetype": "text/x-python",
   "name": "python",
   "nbconvert_exporter": "python",
   "pygments_lexer": "ipython3",
   "version": "3.11.7"
  }
 },
 "nbformat": 4,
 "nbformat_minor": 4
}
