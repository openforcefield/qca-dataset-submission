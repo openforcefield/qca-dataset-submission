{
 "cells": [
  {
   "cell_type": "markdown",
   "metadata": {},
   "source": [
    "# Submission Management"
   ]
  },
  {
   "cell_type": "markdown",
   "metadata": {},
   "source": [
    "We may have a hanging `Optimization` in this dataset preventing it from reaching COMPLETE. We will investigate this here."
   ]
  },
  {
   "cell_type": "code",
   "execution_count": 6,
   "metadata": {},
   "outputs": [],
   "source": [
    "import sys\n",
    "import qcportal as ptl\n",
    "import pandas as pd\n",
    "import datetime\n",
    "import time\n",
    "import numpy as np\n",
    "\n",
    "import qcsubmit"
   ]
  },
  {
   "cell_type": "code",
   "execution_count": 3,
   "metadata": {},
   "outputs": [],
   "source": [
    "sys.path.append('../../management/')\n",
    "\n",
    "from management import *"
   ]
  },
  {
   "cell_type": "raw",
   "metadata": {},
   "source": [
    "# connect without auth\n",
    "# read only\n",
    "client = ptl.FractalClient()"
   ]
  },
  {
   "cell_type": "code",
   "execution_count": 4,
   "metadata": {},
   "outputs": [],
   "source": [
    "# connect with authentication, therefore write access\n",
    "# don't use unless you plan to submit things\n",
    "client = ptl.FractalClient.from_file()"
   ]
  },
  {
   "cell_type": "code",
   "execution_count": 5,
   "metadata": {},
   "outputs": [
    {
     "data": {
      "text/html": [
       "\n",
       "<h3>FractalClient</h3>\n",
       "<ul>\n",
       "  <li><b>Server:   &nbsp; </b>The MolSSI QCArchive Server</li>\n",
       "  <li><b>Address:  &nbsp; </b>https://api.qcarchive.molssi.org:443/</li>\n",
       "  <li><b>Username: &nbsp; </b>ddotson</li>\n",
       "</ul>\n"
      ],
      "text/plain": [
       "FractalClient(server_name='The MolSSI QCArchive Server', address='https://api.qcarchive.molssi.org:443/', username='ddotson')"
      ]
     },
     "execution_count": 5,
     "metadata": {},
     "output_type": "execute_result"
    }
   ],
   "source": [
    "client"
   ]
  },
  {
   "cell_type": "markdown",
   "metadata": {},
   "source": [
    "## Dataset investigation"
   ]
  },
  {
   "cell_type": "code",
   "execution_count": 7,
   "metadata": {},
   "outputs": [],
   "source": [
    "from qcsubmit.serializers import deserialize"
   ]
  },
  {
   "cell_type": "code",
   "execution_count": 8,
   "metadata": {},
   "outputs": [],
   "source": [
    "dataset = deserialize('dataset.json')"
   ]
  },
  {
   "cell_type": "code",
   "execution_count": 11,
   "metadata": {},
   "outputs": [],
   "source": [
    "ds = client.get_collection(dataset['dataset_type'], dataset['dataset_name'])"
   ]
  },
  {
   "cell_type": "code",
   "execution_count": 12,
   "metadata": {},
   "outputs": [],
   "source": [
    "tdr_opt = get_unfinished_torsiondrive_optimizations(ds, 'default', client)"
   ]
  },
  {
   "cell_type": "code",
   "execution_count": 16,
   "metadata": {},
   "outputs": [
    {
     "data": {
      "text/plain": [
       "[OptimizationRecord(id='21272475', status='COMPLETE'),\n",
       " OptimizationRecord(id='21273907', status='COMPLETE'),\n",
       " OptimizationRecord(id='21273908', status='COMPLETE'),\n",
       " OptimizationRecord(id='21319980', status='COMPLETE'),\n",
       " OptimizationRecord(id='21319981', status='COMPLETE'),\n",
       " OptimizationRecord(id='21319982', status='COMPLETE'),\n",
       " OptimizationRecord(id='21319983', status='COMPLETE'),\n",
       " OptimizationRecord(id='21323991', status='COMPLETE'),\n",
       " OptimizationRecord(id='21323992', status='COMPLETE'),\n",
       " OptimizationRecord(id='21323993', status='COMPLETE'),\n",
       " OptimizationRecord(id='21323994', status='COMPLETE'),\n",
       " OptimizationRecord(id='21374360', status='COMPLETE'),\n",
       " OptimizationRecord(id='21374361', status='COMPLETE'),\n",
       " OptimizationRecord(id='21374362', status='COMPLETE'),\n",
       " OptimizationRecord(id='21374363', status='COMPLETE'),\n",
       " OptimizationRecord(id='21406922', status='COMPLETE'),\n",
       " OptimizationRecord(id='21406923', status='COMPLETE'),\n",
       " OptimizationRecord(id='21406924', status='COMPLETE'),\n",
       " OptimizationRecord(id='21406925', status='COMPLETE'),\n",
       " OptimizationRecord(id='21407931', status='COMPLETE'),\n",
       " OptimizationRecord(id='21407932', status='COMPLETE'),\n",
       " OptimizationRecord(id='21407933', status='COMPLETE'),\n",
       " OptimizationRecord(id='21407934', status='COMPLETE'),\n",
       " OptimizationRecord(id='21408651', status='COMPLETE'),\n",
       " OptimizationRecord(id='21408652', status='COMPLETE'),\n",
       " OptimizationRecord(id='21408653', status='COMPLETE'),\n",
       " OptimizationRecord(id='21408654', status='COMPLETE'),\n",
       " OptimizationRecord(id='21416278', status='COMPLETE'),\n",
       " OptimizationRecord(id='21416279', status='COMPLETE'),\n",
       " OptimizationRecord(id='21416280', status='COMPLETE'),\n",
       " OptimizationRecord(id='21416281', status='COMPLETE'),\n",
       " OptimizationRecord(id='21420632', status='COMPLETE'),\n",
       " OptimizationRecord(id='21420633', status='COMPLETE'),\n",
       " OptimizationRecord(id='21420634', status='COMPLETE'),\n",
       " OptimizationRecord(id='21420635', status='COMPLETE'),\n",
       " OptimizationRecord(id='21420672', status='INCOMPLETE'),\n",
       " OptimizationRecord(id='21420673', status='COMPLETE'),\n",
       " OptimizationRecord(id='21420674', status='COMPLETE'),\n",
       " OptimizationRecord(id='21420675', status='COMPLETE')]"
      ]
     },
     "execution_count": 16,
     "metadata": {},
     "output_type": "execute_result"
    }
   ],
   "source": [
    "opts = merge(tdr_opt)\n",
    "opts"
   ]
  },
  {
   "cell_type": "code",
   "execution_count": 18,
   "metadata": {},
   "outputs": [
    {
     "data": {
      "text/plain": [
       "{'id': '21420672',\n",
       " 'hash_index': '8872e70f24008ab46368f61fe2edb534033c4e58',\n",
       " 'procedure': 'optimization',\n",
       " 'program': 'geometric',\n",
       " 'version': 1,\n",
       " 'protocols': {},\n",
       " 'extras': {},\n",
       " 'stdout': '24827288',\n",
       " 'stderr': None,\n",
       " 'error': None,\n",
       " 'task_id': None,\n",
       " 'manager_name': None,\n",
       " 'status': <RecordStatusEnum.incomplete: 'INCOMPLETE'>,\n",
       " 'modified_on': datetime.datetime(2020, 7, 27, 12, 35, 38, 610329),\n",
       " 'created_on': datetime.datetime(2020, 7, 27, 12, 35, 38, 610330),\n",
       " 'provenance': {'creator': 'geomeTRIC',\n",
       "  'version': '0.9.7.2',\n",
       "  'routine': 'geometric.run_json.geometric_run_json',\n",
       "  'cpu': 'Intel(R) Xeon(R) Gold 6230 CPU @ 2.10GHz',\n",
       "  'username': 'qcfractal',\n",
       "  'qcengine_version': 'v0.15.0',\n",
       "  'wall_time': 122.74065685272217,\n",
       "  'hostname': 'openff-qca2-755bd6d8cb-562xv'},\n",
       " 'schema_version': 1,\n",
       " 'initial_molecule': '14915990',\n",
       " 'qc_spec': {'driver': <DriverEnum.gradient: 'gradient'>,\n",
       "  'method': 'b3lyp-d3bj',\n",
       "  'basis': 'dzvp',\n",
       "  'keywords': '2',\n",
       "  'program': 'psi4'},\n",
       " 'keywords': {'coordsys': 'tric',\n",
       "  'enforce': 0.1,\n",
       "  'epsilon': 0,\n",
       "  'reset': True,\n",
       "  'qccnv': True,\n",
       "  'molcnv': False,\n",
       "  'check': 0,\n",
       "  'trust': 0.1,\n",
       "  'tmax': 0.3,\n",
       "  'maxiter': 300,\n",
       "  'convergence_set': 'gau',\n",
       "  'constraints': {'set': [{'type': 'dihedral',\n",
       "     'indices': [7, 3, 10, 9],\n",
       "     'value': -150}]},\n",
       "  'program': 'psi4'},\n",
       " 'energies': [-489.40847967885725,\n",
       "  -489.4095300428588,\n",
       "  -489.4101609059971,\n",
       "  -489.4109301491452,\n",
       "  -489.41093188494636,\n",
       "  -489.4109591137581,\n",
       "  -489.41095877272556,\n",
       "  -489.4109755521607,\n",
       "  -489.41097619829986],\n",
       " 'final_molecule': '14916050',\n",
       " 'trajectory': ['21420643',\n",
       "  '21420701',\n",
       "  '21420702',\n",
       "  '21420703',\n",
       "  '21420704',\n",
       "  '21420705',\n",
       "  '21420706',\n",
       "  '21420707',\n",
       "  '21420708']}"
      ]
     },
     "execution_count": 18,
     "metadata": {},
     "output_type": "execute_result"
    }
   ],
   "source": [
    "opts[-4].dict()"
   ]
  }
 ],
 "metadata": {
  "kernelspec": {
   "display_name": "Python 3",
   "language": "python",
   "name": "python3"
  },
  "language_info": {
   "codemirror_mode": {
    "name": "ipython",
    "version": 3
   },
   "file_extension": ".py",
   "mimetype": "text/x-python",
   "name": "python",
   "nbconvert_exporter": "python",
   "pygments_lexer": "ipython3",
   "version": "3.7.8"
  }
 },
 "nbformat": 4,
 "nbformat_minor": 4
}
