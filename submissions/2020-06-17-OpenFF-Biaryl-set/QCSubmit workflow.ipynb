{
 "cells": [
  {
   "cell_type": "markdown",
   "metadata": {},
   "source": [
    "Here we set up a workflow to generate a torsiondrive dataset using qcsubmit, from the biaryl set. "
   ]
  },
  {
   "cell_type": "code",
   "execution_count": 1,
   "metadata": {},
   "outputs": [],
   "source": [
    "from qcsubmit.factories import TorsiondriveDatasetFactory\n",
    "from qcsubmit import workflow_components\n",
    "from qcsubmit.common_structures import TorsionIndexer\n",
    "from openforcefield.topology import Molecule\n",
    "import os\n"
   ]
  },
  {
   "cell_type": "code",
   "execution_count": 3,
   "metadata": {},
   "outputs": [
    {
     "data": {
      "text/plain": [
       "TorsiondriveDatasetFactory(method='B3LYP-D3BJ', basis='DZVP', program='psi4', maxiter=200, driver=<DriverEnum.gradient: 'gradient'>, scf_properties=['dipole', 'quadrupole', 'wiberg_lowdin_indices', 'mayer_indices'], spec_name='default', spec_description='Standard OpenFF optimization quantum chemistry specification.', priority='normal', dataset_tags=['openff'], compute_tag='openff', workflow={'StandardConformerGenerator': StandardConformerGenerator(component_name='StandardConformerGenerator', component_description='Generate conformations for the given molecules', component_fail_message='Conformers could not be generated', toolkit='openeye', max_conformers=4, clear_existing=True)}, optimization_program=GeometricProcedure(program='geometric', coordsys='tric', enforce=0.1, epsilon=0.0, reset=True, qccnv=True, molcnv=False, check=0, trust=0.1, tmax=0.3, maxiter=300, convergence_set='GAU', constraints={}), grid_spacings=[15], energy_upper_limit=0.05, dihedral_ranges=None, energy_decrease_thresh=None)"
      ]
     },
     "execution_count": 3,
     "metadata": {},
     "output_type": "execute_result"
    }
   ],
   "source": [
    "# lets create the factory\n",
    "factory = TorsiondriveDatasetFactory()\n",
    "factory.scf_properties = ['dipole', 'quadrupole', 'wiberg_lowdin_indices', 'mayer_indices']\n",
    "conformer_generator = workflow_components.StandardConformerGenerator(max_conformers=4)\n",
    "factory.add_workflow_component(conformer_generator)\n",
    "factory"
   ]
  },
  {
   "cell_type": "code",
   "execution_count": 4,
   "metadata": {},
   "outputs": [],
   "source": [
    "# now write the settings out\n",
    "factory.export_settings(\"biaryl_setttings.yaml\")"
   ]
  },
  {
   "cell_type": "code",
   "execution_count": 5,
   "metadata": {},
   "outputs": [],
   "source": [
    "# now create the dataset from the pdbs in the pdb folder\n",
    "\n",
    "dataset = factory.create_dataset(dataset_name=\"OpenFF Rowley Biaryl v1.0\", molecules=\"pdbs\", description=\"A torsiondrive dataset of biaryl molecules.\", tagline=\"Torsiondrives of biaryl molecules.\")\n"
   ]
  },
  {
   "cell_type": "code",
   "execution_count": 6,
   "metadata": {},
   "outputs": [
    {
     "data": {
      "text/plain": [
       "87"
      ]
     },
     "execution_count": 6,
     "metadata": {},
     "output_type": "execute_result"
    }
   ],
   "source": [
    "dataset.n_molecules"
   ]
  },
  {
   "cell_type": "code",
   "execution_count": 7,
   "metadata": {},
   "outputs": [
    {
     "data": {
      "text/plain": [
       "91"
      ]
     },
     "execution_count": 7,
     "metadata": {},
     "output_type": "execute_result"
    }
   ],
   "source": [
    "dataset.n_records"
   ]
  },
  {
   "cell_type": "code",
   "execution_count": 8,
   "metadata": {},
   "outputs": [],
   "source": [
    "dataset.metadata.long_description = \"A torsiondrive dataset of biaryl molecules supplied by Christopher Rowley.\"\n",
    "dataset.metadata.long_description_url = \"https://github.com/openforcefield/qca-dataset-submission/tree/master/2020-06-17-OpenFF-Biaryl-set\""
   ]
  },
  {
   "cell_type": "code",
   "execution_count": 9,
   "metadata": {},
   "outputs": [
    {
     "data": {
      "text/plain": [
       "{'[H]C1=C(C(=O)N(C(=C1[H])C2=C(C(=[C:4]([N:3]2[C:2]([H:1])([H])[H])[H])[H])[H])[H])[H]',\n",
       " '[H]C1=C(C(=O)[N:1]([C:2](=C1[H])[C:3]2=C(C(=C([N:4]2C([H])([H])[H])[H])[H])[H])[H])[H]',\n",
       " '[H]c1c([c:1]([c:2](c(c1[H])[H])[C:3]2=C(C(=C([N:4]2C([H])([H])[H])[H])[H])[H])[H])[H]',\n",
       " '[H]c1c([c:1]([c:2](c(c1[H])[H])[C:3]2=[N:4]OC(=[N+]2[H])[N-][H])[H])[H]',\n",
       " '[H]c1c([n:1][c:2](nc1[H])[C:3]2=C(C(=C([N:4]2C([H])([H])[H])[H])[H])[H])[H]',\n",
       " '[H]c1c(c(c(c(c1[H])[H])C2=C(C(=[C:4]([N:3]2[C:2]([H:1])([H])[H])[H])[H])[H])[H])[H]',\n",
       " '[H]c1c(c(c(c(c1[H])[H])C2=N[O:1][C:2](=[N+]2[H])[N-:3][H:4])[H])[H]',\n",
       " '[H]c1c(nc(nc1[H])C2=C(C(=[C:4]([N:3]2[C:2]([H:1])([H])[H])[H])[H])[H])[H]'}"
      ]
     },
     "execution_count": 9,
     "metadata": {},
     "output_type": "execute_result"
    }
   ],
   "source": [
    "# now there are some molecules which have been entered twice and we should remove some of the unwanted torsiondrives\n",
    "# first we need to find the molecules with multipule hits\n",
    "double_scans = set()\n",
    "for molecule in dataset.molecules:\n",
    "    hits = dataset.get_molecule_entry(molecule)\n",
    "    if len(hits) > 1:\n",
    "        for hit in hits:\n",
    "            double_scans.add(hit)\n",
    "        \n",
    "double_scans"
   ]
  },
  {
   "cell_type": "code",
   "execution_count": 10,
   "metadata": {},
   "outputs": [
    {
     "data": {
      "text/plain": [
       "['[H]c1c(nc(nc1[H])C2=C(C(=[C:4]([N:3]2[C:2]([H:1])([H])[H])[H])[H])[H])[H]',\n",
       " '[H]c1c(c(c(c(c1[H])[H])C2=N[O:1][C:2](=[N+]2[H])[N-:3][H:4])[H])[H]',\n",
       " '[H]C1=C(C(=O)N(C(=C1[H])C2=C(C(=[C:4]([N:3]2[C:2]([H:1])([H])[H])[H])[H])[H])[H])[H]',\n",
       " '[H]c1c(c(c(c(c1[H])[H])C2=C(C(=[C:4]([N:3]2[C:2]([H:1])([H])[H])[H])[H])[H])[H])[H]']"
      ]
     },
     "execution_count": 10,
     "metadata": {},
     "output_type": "execute_result"
    }
   ],
   "source": [
    "# now we need to remove the unwated scans\n",
    "# these should be all scans with hydrogen \n",
    "import re\n",
    "remove_scans = []\n",
    "for scan in double_scans:\n",
    "    match = re.search(\"H:[1-4]\", scan)\n",
    "    if match is not None:\n",
    "        remove_scans.append(scan)\n",
    "        \n",
    "remove_scans"
   ]
  },
  {
   "cell_type": "code",
   "execution_count": 11,
   "metadata": {},
   "outputs": [],
   "source": [
    "# now remove the scans from the dataset\n",
    "for scan in remove_scans:\n",
    "    del dataset.dataset[scan]"
   ]
  },
  {
   "cell_type": "code",
   "execution_count": 12,
   "metadata": {},
   "outputs": [
    {
     "data": {
      "text/plain": [
       "87"
      ]
     },
     "execution_count": 12,
     "metadata": {},
     "output_type": "execute_result"
    }
   ],
   "source": [
    "dataset.n_molecules"
   ]
  },
  {
   "cell_type": "code",
   "execution_count": 13,
   "metadata": {},
   "outputs": [
    {
     "data": {
      "text/plain": [
       "87"
      ]
     },
     "execution_count": 13,
     "metadata": {},
     "output_type": "execute_result"
    }
   ],
   "source": [
    "dataset.n_records"
   ]
  },
  {
   "cell_type": "code",
   "execution_count": 14,
   "metadata": {},
   "outputs": [],
   "source": [
    "# export the dataset\n",
    "dataset.export_dataset(\"biaryl_dataset.json\")"
   ]
  },
  {
   "cell_type": "markdown",
   "metadata": {},
   "source": [
    "To submit the dataset use the following block.\n"
   ]
  },
  {
   "cell_type": "code",
   "execution_count": 47,
   "metadata": {},
   "outputs": [],
   "source": [
    "dataset.molecules_to_file(\"biaryls.smi\", \"smi\")"
   ]
  },
  {
   "cell_type": "code",
   "execution_count": 52,
   "metadata": {},
   "outputs": [
    {
     "data": {
      "text/plain": [
       "{'openff_unconstrained-1.0.0.offxml': {'Bonds': ['b5',\n",
       "   'b84',\n",
       "   'b12',\n",
       "   'b4',\n",
       "   'b8',\n",
       "   'b6',\n",
       "   'b13',\n",
       "   'b33',\n",
       "   'b16',\n",
       "   'b49',\n",
       "   'b86',\n",
       "   'b11',\n",
       "   'b10',\n",
       "   'b20',\n",
       "   'b7',\n",
       "   'b83',\n",
       "   'b38',\n",
       "   'b32',\n",
       "   'b34',\n",
       "   'b36',\n",
       "   'b18',\n",
       "   'b35'],\n",
       "  'Angles': ['a10',\n",
       "   'a11',\n",
       "   'a22',\n",
       "   'a19',\n",
       "   'a14',\n",
       "   'a28',\n",
       "   'a35',\n",
       "   'a20',\n",
       "   'a1',\n",
       "   'a2',\n",
       "   'a13',\n",
       "   'a18'],\n",
       "  'ProperTorsions': ['t44',\n",
       "   't76',\n",
       "   't43',\n",
       "   't75',\n",
       "   't69',\n",
       "   't71',\n",
       "   't45',\n",
       "   't128',\n",
       "   't77',\n",
       "   't47',\n",
       "   't102',\n",
       "   't106',\n",
       "   't108',\n",
       "   't107',\n",
       "   't48',\n",
       "   't68',\n",
       "   't74',\n",
       "   't73',\n",
       "   't70',\n",
       "   't59',\n",
       "   't120',\n",
       "   't78',\n",
       "   't49',\n",
       "   't127',\n",
       "   't125',\n",
       "   't129',\n",
       "   't130',\n",
       "   't126'],\n",
       "  'ImproperTorsions': ['i1', 'i3', 'i4'],\n",
       "  'vdW': ['n14',\n",
       "   'n20',\n",
       "   'n7',\n",
       "   'n8',\n",
       "   'n9',\n",
       "   'n18',\n",
       "   'n21',\n",
       "   'n11',\n",
       "   'n17',\n",
       "   'n16',\n",
       "   'n3']}}"
      ]
     },
     "execution_count": 52,
     "metadata": {},
     "output_type": "execute_result"
    }
   ],
   "source": [
    "coverage = dataset.coverage_report(\"openff_unconstrained-1.0.0.offxml\")\n",
    "coverage "
   ]
  },
  {
   "cell_type": "code",
   "execution_count": null,
   "outputs": [],
   "source": [
    "# export the molecules to pdf with torsions highlighted\n",
    "dataset.visualize(\"biaryl_dataset.pdf\")"
   ],
   "metadata": {
    "collapsed": false,
    "pycharm": {
     "name": "#%%\n"
    }
   }
  },
  {
   "cell_type": "code",
   "execution_count": null,
   "metadata": {},
   "outputs": [],
   "source": [
    "from qcsubmit.datasets import TorsiondriveDataset\n",
    "import qcportal as ptl\n",
    "\n",
    "# start the connection the public archive\n",
    "#client = ptl.FractalClient.from_file()\n",
    "\n",
    "\n",
    "# load up the dataset\n",
    "biaryl_dataset = TorsiondriveDataset.parse_file(\"biaryl_dataset.json\")\n",
    "\n",
    "# submit the dataset\n",
    "#biaryl_dataset.submit(client=client)"
   ]
  },
  {
   "cell_type": "code",
   "execution_count": 4,
   "metadata": {},
   "outputs": [],
   "source": [
    "from qcsubmit.datasets import TorsiondriveDataset\n",
    "import qcportal as ptl\n",
    "\n",
    "# start the connection the public archive\n",
    "#client = ptl.FractalClient.from_file()\n",
    "\n",
    "\n",
    "# load up the dataset\n",
    "biaryl_dataset = TorsiondriveDataset.parse_file(\"biaryl_dataset.json\")\n",
    "\n",
    "# submit the dataset\n",
    "#biaryl_dataset.submit(client=client)"
   ]
  },
  {
   "cell_type": "code",
   "execution_count": 16,
   "metadata": {},
   "outputs": [
    {
     "data": {
      "text/plain": [
       "{'StandardConformerGenerator': FilterEntry(component_name='StandardConformerGenerator', component_description={'component_name': 'StandardConformerGenerator', 'component_description': 'Generate conformations for the given molecules', 'component_fail_message': 'Conformers could not be generated', 'toolkit': 'openeye', 'max_conformers': 4, 'clear_existing': True}, component_provenance={'OpenforcefieldToolkit': '0.6.0+435.g82e38d3c', 'QCSubmit': '0+untagged.99.gc7883ca', 'openeye': '2019.Oct.2'}, molecules=[]),\n",
       " 'LinearTorsionRemoval': FilterEntry(component_name='LinearTorsionRemoval', component_description={'component_description': 'Remove any molecules with a linear torsions selected to drive.'}, component_provenance={'qcsubmit': '0+untagged.99.gc7883ca', 'openforcefield': '0.6.0+435.g82e38d3c'}, molecules=[]),\n",
       " 'UnconnectedTorsionRemoval': FilterEntry(component_name='UnconnectedTorsionRemoval', component_description={'component_description': 'Remove any molecules with unconnected torsion indices highlighted to drive.'}, component_provenance={'qcsubmit': '0+untagged.99.gc7883ca', 'openforcefield': '0.6.0+435.g82e38d3c'}, molecules=[])}"
      ]
     },
     "execution_count": 16,
     "metadata": {},
     "output_type": "execute_result"
    }
   ],
   "source": [
    "biaryl_dataset.filtered_molecules"
   ]
  },
  {
   "cell_type": "code",
   "execution_count": null,
   "metadata": {},
   "outputs": [],
   "source": []
  }
 ],
 "metadata": {
  "kernelspec": {
   "display_name": "Python 3",
   "language": "python",
   "name": "python3"
  },
  "language_info": {
   "codemirror_mode": {
    "name": "ipython",
    "version": 3
   },
   "file_extension": ".py",
   "mimetype": "text/x-python",
   "name": "python",
   "nbconvert_exporter": "python",
   "pygments_lexer": "ipython3",
   "version": "3.7.6"
  },
  "pycharm": {
   "stem_cell": {
    "cell_type": "raw",
    "source": [],
    "metadata": {
     "collapsed": false
    }
   }
  }
 },
 "nbformat": 4,
 "nbformat_minor": 4
}