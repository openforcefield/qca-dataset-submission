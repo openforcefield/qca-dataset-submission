{
 "cells": [
  {
   "cell_type": "code",
   "execution_count": 1,
   "id": "3d3cf7ba-e0db-439e-bb2e-983a2aa463ef",
   "metadata": {
    "execution": {
     "iopub.execute_input": "2024-10-07T21:01:00.252181Z",
     "iopub.status.busy": "2024-10-07T21:01:00.251820Z",
     "iopub.status.idle": "2024-10-07T21:01:02.420839Z",
     "shell.execute_reply": "2024-10-07T21:01:02.420299Z",
     "shell.execute_reply.started": "2024-10-07T21:01:00.252151Z"
    }
   },
   "outputs": [],
   "source": [
    "from qcportal import PortalClient\n",
    "from openff.qcsubmit.results import OptimizationResultCollection,BasicResultCollection\n",
    "from openff.qcsubmit.datasets import BasicDataset\n",
    "from openff.qcsubmit.results.filters import ConnectivityFilter, RecordStatusEnum, RecordStatusFilter\n",
    "from openff.qcsubmit.factories import BasicDatasetFactory\n",
    "from openff.qcsubmit.common_structures import Metadata, QCSpec"
   ]
  },
  {
   "cell_type": "markdown",
   "id": "c3600edd-6772-47fa-b4fa-9d4428851b8e",
   "metadata": {},
   "source": [
    "# Load optimization dataset"
   ]
  },
  {
   "cell_type": "code",
   "execution_count": 2,
   "id": "b2d28e39-5696-4577-a0a8-c02b0a98d019",
   "metadata": {
    "execution": {
     "iopub.execute_input": "2024-10-07T21:01:03.199877Z",
     "iopub.status.busy": "2024-10-07T21:01:03.199372Z",
     "iopub.status.idle": "2024-10-07T21:01:03.484156Z",
     "shell.execute_reply": "2024-10-07T21:01:03.483788Z",
     "shell.execute_reply.started": "2024-10-07T21:01:03.199812Z"
    }
   },
   "outputs": [],
   "source": [
    "client = PortalClient(\"https://api.qcarchive.molssi.org:443/\")"
   ]
  },
  {
   "cell_type": "code",
   "execution_count": 3,
   "id": "ad9d088a-8000-41e0-b1e5-9b3978b886da",
   "metadata": {
    "execution": {
     "iopub.execute_input": "2024-10-07T21:01:03.485133Z",
     "iopub.status.busy": "2024-10-07T21:01:03.484990Z",
     "iopub.status.idle": "2024-10-07T21:01:07.013727Z",
     "shell.execute_reply": "2024-10-07T21:01:07.013334Z",
     "shell.execute_reply.started": "2024-10-07T21:01:03.485120Z"
    }
   },
   "outputs": [],
   "source": [
    "opt_ds = OptimizationResultCollection.from_server(client=client,datasets=['OpenFF Gen2 Optimization Dataset Protomers v1.0'])"
   ]
  },
  {
   "cell_type": "code",
   "execution_count": null,
   "id": "bf13b1f2-66ae-44e7-aed2-103bdfdfe822",
   "metadata": {
    "execution": {
     "iopub.execute_input": "2024-10-07T21:01:07.014294Z",
     "iopub.status.busy": "2024-10-07T21:01:07.014166Z"
    }
   },
   "outputs": [],
   "source": [
    "filtered = opt_ds.filter(\n",
    "        RecordStatusFilter(status=RecordStatusEnum.complete),\n",
    "        ConnectivityFilter(tolerance=1.2),\n",
    "    )"
   ]
  },
  {
   "cell_type": "code",
   "execution_count": null,
   "id": "b3571231-289b-41f1-8287-85abca89b6bf",
   "metadata": {},
   "outputs": [],
   "source": [
    "print(opt_ds.n_molecules,opt_ds.n_results)\n",
    "print(filtered.n_molecules,filtered.n_results)"
   ]
  },
  {
   "cell_type": "code",
   "execution_count": null,
   "id": "f5154fb6-5dea-485e-a26f-e772af009202",
   "metadata": {},
   "outputs": [],
   "source": [
    "records = filtered.to_records()"
   ]
  },
  {
   "cell_type": "markdown",
   "id": "4a825469-397a-415b-8d5d-016e798dac76",
   "metadata": {},
   "source": [
    "# Set up single points"
   ]
  },
  {
   "cell_type": "code",
   "execution_count": null,
   "id": "bba475b9-1fa9-4655-a6d7-bf52fae73682",
   "metadata": {},
   "outputs": [],
   "source": [
    "from qcelemental.models import DriverEnum\n",
    "\n",
    "dataset = filtered.create_basic_dataset(dataset_name=\"OpenFF Gen2 Hessian Dataset Protomers v1.0\",\n",
    "                                        tagline=\"Hessian single points for the OpenFF Gen2 Optimization Dataset Protomers v1.0 dataset.\", \n",
    "                                        description=\"Hessian single points for the final molecules in the OpenFF Gen2 Optimization Dataset Protomers v1.0 dataset at the B3LYP-D3BJ/DZVP level of theory.\",\n",
    "                                        driver=DriverEnum.hessian,\n",
    "                                        metadata=Metadata(submitter=\"amcisaac\",\n",
    "                                                          long_description_url=(\n",
    "                                                              \"https://github.com/openforcefield/qca-dataset-submission/tree/master/submissions/2024-10-07-OpenFF-Gen2-Hessian-Dataset-Protomers-v1.0\"\n",
    "                                                          )\n",
    "                                                        )\n",
    "                                       )"
   ]
  },
  {
   "cell_type": "code",
   "execution_count": null,
   "id": "8e419645-dbaa-40aa-bec5-957cfd1586c7",
   "metadata": {},
   "outputs": [],
   "source": [
    "dataset._get_specifications()"
   ]
  },
  {
   "cell_type": "markdown",
   "id": "8e812a07-bd89-47f2-9380-6c939838aac6",
   "metadata": {},
   "source": [
    "# Exporting dataset"
   ]
  },
  {
   "cell_type": "code",
   "execution_count": null,
   "id": "d69c1de7-42a6-407f-a555-6fc5a7ef0e61",
   "metadata": {},
   "outputs": [],
   "source": [
    "dataset.export_dataset(\"dataset.json.bz2\")\n",
    "dataset.molecules_to_file('dataset.smi', 'smi')\n",
    "dataset.visualize(\"dataset.pdf\", columns=8)\n",
    "\n",
    "print(dataset.qc_specifications)"
   ]
  },
  {
   "cell_type": "markdown",
   "id": "88a45064-d703-457e-b29b-ba0aa758ca9a",
   "metadata": {},
   "source": [
    "# Dataset information"
   ]
  },
  {
   "cell_type": "code",
   "execution_count": null,
   "id": "dc940078-e0e4-4395-9e71-69e49064d3a1",
   "metadata": {},
   "outputs": [],
   "source": [
    "import numpy as np\n",
    "from collections import Counter"
   ]
  },
  {
   "cell_type": "code",
   "execution_count": null,
   "id": "388aff3d-ff0a-4c36-9d83-e6ec82d31db8",
   "metadata": {},
   "outputs": [],
   "source": [
    "print(\"n_molecules:\", dataset.n_molecules)\n",
    "print(\"n_conformers:\", dataset.n_records)"
   ]
  },
  {
   "cell_type": "code",
   "execution_count": null,
   "id": "8e7d50e8-201d-4f32-a2fd-c3daa60fe35d",
   "metadata": {},
   "outputs": [],
   "source": [
    "n_confs = np.array(\n",
    "    [mol.n_conformers for mol in dataset.molecules]\n",
    ")\n",
    "n_heavy_atoms = np.array(\n",
    "    [mol.to_rdkit().GetNumHeavyAtoms() for mol in dataset.molecules]\n",
    ")"
   ]
  },
  {
   "cell_type": "code",
   "execution_count": null,
   "id": "7ccb51cc-523a-43cd-8ab0-b5d63f9141fc",
   "metadata": {},
   "outputs": [],
   "source": [
    "print(\n",
    "    \"Number of conformers (min, mean, max):\",\n",
    "    n_confs.min(), n_confs.mean(), n_confs.max()\n",
    ")\n",
    "print(\"# heavy atoms\")\n",
    "counts = Counter(n_heavy_atoms)\n",
    "for n_heavy in sorted(counts):\n",
    "    print(f\"{str(n_heavy):>3}: {counts[n_heavy]}\")"
   ]
  },
  {
   "cell_type": "code",
   "execution_count": null,
   "id": "62625c83-8904-44f7-b219-8c88827bb971",
   "metadata": {},
   "outputs": [],
   "source": [
    "from openff.units import unit\n",
    "unique_charges = set([\n",
    "    mol.total_charge.m_as(unit.elementary_charge)\n",
    "    for mol in dataset.molecules\n",
    "])\n",
    "unique_charges"
   ]
  },
  {
   "cell_type": "code",
   "execution_count": null,
   "id": "f0291cf3-b3b4-4dfd-a2ac-07612c8d713a",
   "metadata": {},
   "outputs": [],
   "source": [
    "masses = np.array([\n",
    "    sum([atom.mass.m for atom in mol.atoms])\n",
    "    for mol in dataset.molecules\n",
    "])\n",
    "print(\"MW (min, mean, max):\", masses.min(), masses.mean(), masses.max())"
   ]
  },
  {
   "cell_type": "code",
   "execution_count": null,
   "id": "4d17e60d-eb09-4a0c-a243-8c05fba536db",
   "metadata": {},
   "outputs": [],
   "source": [
    "elements = set(\n",
    "    atom.symbol\n",
    "    for mol in dataset.molecules\n",
    "    for atom in mol.atoms\n",
    ")\n",
    "print(elements)"
   ]
  }
 ],
 "metadata": {
  "kernelspec": {
   "display_name": "Python 3 (ipykernel)",
   "language": "python",
   "name": "python3"
  },
  "language_info": {
   "codemirror_mode": {
    "name": "ipython",
    "version": 3
   },
   "file_extension": ".py",
   "mimetype": "text/x-python",
   "name": "python",
   "nbconvert_exporter": "python",
   "pygments_lexer": "ipython3",
   "version": "3.12.7"
  }
 },
 "nbformat": 4,
 "nbformat_minor": 5
}
