{
 "cells": [
  {
   "cell_type": "code",
   "execution_count": 1,
   "id": "3d3cf7ba-e0db-439e-bb2e-983a2aa463ef",
   "metadata": {
    "execution": {
     "iopub.execute_input": "2024-10-07T21:01:00.252181Z",
     "iopub.status.busy": "2024-10-07T21:01:00.251820Z",
     "iopub.status.idle": "2024-10-07T21:01:02.420839Z",
     "shell.execute_reply": "2024-10-07T21:01:02.420299Z",
     "shell.execute_reply.started": "2024-10-07T21:01:00.252151Z"
    }
   },
   "outputs": [],
   "source": [
    "from qcportal import PortalClient\n",
    "from openff.qcsubmit.results import OptimizationResultCollection,BasicResultCollection\n",
    "from openff.qcsubmit.datasets import BasicDataset\n",
    "from openff.qcsubmit.results.filters import ConnectivityFilter, RecordStatusEnum, RecordStatusFilter\n",
    "from openff.qcsubmit.factories import BasicDatasetFactory\n",
    "from openff.qcsubmit.common_structures import Metadata, QCSpec"
   ]
  },
  {
   "cell_type": "markdown",
   "id": "c3600edd-6772-47fa-b4fa-9d4428851b8e",
   "metadata": {},
   "source": [
    "# Load optimization dataset"
   ]
  },
  {
   "cell_type": "code",
   "execution_count": 2,
   "id": "b2d28e39-5696-4577-a0a8-c02b0a98d019",
   "metadata": {
    "execution": {
     "iopub.execute_input": "2024-10-07T21:01:03.199877Z",
     "iopub.status.busy": "2024-10-07T21:01:03.199372Z",
     "iopub.status.idle": "2024-10-07T21:01:03.484156Z",
     "shell.execute_reply": "2024-10-07T21:01:03.483788Z",
     "shell.execute_reply.started": "2024-10-07T21:01:03.199812Z"
    }
   },
   "outputs": [],
   "source": [
    "client = PortalClient(\"https://api.qcarchive.molssi.org:443/\")"
   ]
  },
  {
   "cell_type": "code",
   "execution_count": 3,
   "id": "ad9d088a-8000-41e0-b1e5-9b3978b886da",
   "metadata": {
    "execution": {
     "iopub.execute_input": "2024-10-07T21:01:03.485133Z",
     "iopub.status.busy": "2024-10-07T21:01:03.484990Z",
     "iopub.status.idle": "2024-10-07T21:01:07.013727Z",
     "shell.execute_reply": "2024-10-07T21:01:07.013334Z",
     "shell.execute_reply.started": "2024-10-07T21:01:03.485120Z"
    }
   },
   "outputs": [],
   "source": [
    "opt_ds = OptimizationResultCollection.from_server(client=client,datasets=['OpenFF Gen2 Optimization Dataset Protomers v1.0'])"
   ]
  },
  {
   "cell_type": "code",
   "execution_count": 4,
   "id": "bf13b1f2-66ae-44e7-aed2-103bdfdfe822",
   "metadata": {
    "execution": {
     "iopub.execute_input": "2024-10-07T21:01:07.014294Z",
     "iopub.status.busy": "2024-10-07T21:01:07.014166Z",
     "iopub.status.idle": "2024-10-07T21:01:20.243309Z",
     "shell.execute_reply": "2024-10-07T21:01:20.242866Z",
     "shell.execute_reply.started": "2024-10-07T21:01:07.014281Z"
    }
   },
   "outputs": [],
   "source": [
    "filtered = opt_ds.filter(\n",
    "        RecordStatusFilter(status=RecordStatusEnum.complete),\n",
    "        ConnectivityFilter(tolerance=1.2),\n",
    "    )"
   ]
  },
  {
   "cell_type": "code",
   "execution_count": 5,
   "id": "b3571231-289b-41f1-8287-85abca89b6bf",
   "metadata": {
    "execution": {
     "iopub.execute_input": "2024-10-07T21:01:20.244875Z",
     "iopub.status.busy": "2024-10-07T21:01:20.244729Z",
     "iopub.status.idle": "2024-10-07T21:01:20.247629Z",
     "shell.execute_reply": "2024-10-07T21:01:20.247129Z",
     "shell.execute_reply.started": "2024-10-07T21:01:20.244863Z"
    }
   },
   "outputs": [
    {
     "name": "stdout",
     "output_type": "stream",
     "text": [
      "109 598\n",
      "108 597\n"
     ]
    }
   ],
   "source": [
    "print(opt_ds.n_molecules,opt_ds.n_results)\n",
    "print(filtered.n_molecules,filtered.n_results)"
   ]
  },
  {
   "cell_type": "code",
   "execution_count": 6,
   "id": "f5154fb6-5dea-485e-a26f-e772af009202",
   "metadata": {
    "execution": {
     "iopub.execute_input": "2024-10-07T21:01:20.248306Z",
     "iopub.status.busy": "2024-10-07T21:01:20.248058Z",
     "iopub.status.idle": "2024-10-07T21:01:25.173503Z",
     "shell.execute_reply": "2024-10-07T21:01:25.173121Z",
     "shell.execute_reply.started": "2024-10-07T21:01:20.248293Z"
    }
   },
   "outputs": [],
   "source": [
    "records = filtered.to_records()"
   ]
  },
  {
   "cell_type": "markdown",
   "id": "4a825469-397a-415b-8d5d-016e798dac76",
   "metadata": {},
   "source": [
    "# Set up single points"
   ]
  },
  {
   "cell_type": "code",
   "execution_count": 7,
   "id": "bba475b9-1fa9-4655-a6d7-bf52fae73682",
   "metadata": {
    "execution": {
     "iopub.execute_input": "2024-10-07T21:01:25.174257Z",
     "iopub.status.busy": "2024-10-07T21:01:25.174116Z",
     "iopub.status.idle": "2024-10-07T21:01:39.927536Z",
     "shell.execute_reply": "2024-10-07T21:01:39.926840Z",
     "shell.execute_reply.started": "2024-10-07T21:01:25.174243Z"
    }
   },
   "outputs": [],
   "source": [
    "from qcelemental.models import DriverEnum\n",
    "\n",
    "dataset = filtered.create_basic_dataset(dataset_name=\"OpenFF Gen2 Hessian Dataset Protomers v1.0\",\n",
    "                                        tagline=\"Hessian single points for the OpenFF Gen2 Optimization Dataset Protomers v1.0 dataset.\", \n",
    "                                        description=\"Hessian single points for the final molecules in the OpenFF Gen2 Optimization Dataset Protomers v1.0 dataset at the B3LYP-D3BJ/DZVP level of theory.\",\n",
    "                                        driver=DriverEnum.hessian,\n",
    "                                        metadata=Metadata(submitter=\"amcisaac\",\n",
    "                                                          long_description_url=(\n",
    "                                                              \"https://github.com/openforcefield/qca-dataset-submission/tree/master/submissions/2024-10-07-OpenFF-Gen2-Hessian-Dataset-Protomers-v1.0\"\n",
    "                                                          )\n",
    "                                                        )\n",
    "                                       )"
   ]
  },
  {
   "cell_type": "code",
   "execution_count": 8,
   "id": "8e419645-dbaa-40aa-bec5-957cfd1586c7",
   "metadata": {
    "execution": {
     "iopub.execute_input": "2024-10-07T21:01:39.928278Z",
     "iopub.status.busy": "2024-10-07T21:01:39.928140Z",
     "iopub.status.idle": "2024-10-07T21:01:39.933671Z",
     "shell.execute_reply": "2024-10-07T21:01:39.933322Z",
     "shell.execute_reply.started": "2024-10-07T21:01:39.928265Z"
    }
   },
   "outputs": [
    {
     "data": {
      "text/plain": [
       "{'default': QCSpecification(program='psi4', driver=<SinglepointDriver.hessian: 'hessian'>, method='b3lyp-d3bj', basis='dzvp', keywords={'maxiter': 200, 'scf_properties': [<SCFProperties.Dipole: 'dipole'>, <SCFProperties.Quadrupole: 'quadrupole'>, <SCFProperties.WibergLowdinIndices: 'wiberg_lowdin_indices'>, <SCFProperties.MayerIndices: 'mayer_indices'>]}, protocols=AtomicResultProtocols(wavefunction=<WavefunctionProtocolEnum.none: 'none'>, stdout=True, error_correction=ErrorCorrectionProtocol(default_policy=True, policies=None), native_files=<NativeFilesProtocolEnum.none: 'none'>))}"
      ]
     },
     "execution_count": 8,
     "metadata": {},
     "output_type": "execute_result"
    }
   ],
   "source": [
    "dataset._get_specifications()"
   ]
  },
  {
   "cell_type": "markdown",
   "id": "8e812a07-bd89-47f2-9380-6c939838aac6",
   "metadata": {},
   "source": [
    "# Exporting dataset"
   ]
  },
  {
   "cell_type": "code",
   "execution_count": 9,
   "id": "d69c1de7-42a6-407f-a555-6fc5a7ef0e61",
   "metadata": {
    "execution": {
     "iopub.execute_input": "2024-10-07T21:01:39.934424Z",
     "iopub.status.busy": "2024-10-07T21:01:39.934182Z",
     "iopub.status.idle": "2024-10-07T21:01:41.472336Z",
     "shell.execute_reply": "2024-10-07T21:01:41.471976Z",
     "shell.execute_reply.started": "2024-10-07T21:01:39.934411Z"
    }
   },
   "outputs": [
    {
     "name": "stdout",
     "output_type": "stream",
     "text": [
      "{'default': QCSpec(method='B3LYP-D3BJ', basis='DZVP', program='psi4', spec_name='default', spec_description='Standard OpenFF optimization quantum chemistry specification.', store_wavefunction=<WavefunctionProtocolEnum.none: 'none'>, implicit_solvent=None, maxiter=200, scf_properties=[<SCFProperties.Dipole: 'dipole'>, <SCFProperties.Quadrupole: 'quadrupole'>, <SCFProperties.WibergLowdinIndices: 'wiberg_lowdin_indices'>, <SCFProperties.MayerIndices: 'mayer_indices'>], keywords={})}\n"
     ]
    }
   ],
   "source": [
    "dataset.export_dataset(\"dataset.json.bz2\")\n",
    "dataset.molecules_to_file('dataset.smi', 'smi')\n",
    "dataset.visualize(\"dataset.pdf\", columns=8)\n",
    "\n",
    "print(dataset.qc_specifications)"
   ]
  },
  {
   "cell_type": "markdown",
   "id": "88a45064-d703-457e-b29b-ba0aa758ca9a",
   "metadata": {},
   "source": [
    "# Dataset information"
   ]
  },
  {
   "cell_type": "code",
   "execution_count": 10,
   "id": "dc940078-e0e4-4395-9e71-69e49064d3a1",
   "metadata": {
    "execution": {
     "iopub.execute_input": "2024-10-07T21:01:41.473117Z",
     "iopub.status.busy": "2024-10-07T21:01:41.472968Z",
     "iopub.status.idle": "2024-10-07T21:01:41.475186Z",
     "shell.execute_reply": "2024-10-07T21:01:41.474811Z",
     "shell.execute_reply.started": "2024-10-07T21:01:41.473104Z"
    }
   },
   "outputs": [],
   "source": [
    "import numpy as np\n",
    "from collections import Counter"
   ]
  },
  {
   "cell_type": "code",
   "execution_count": 11,
   "id": "388aff3d-ff0a-4c36-9d83-e6ec82d31db8",
   "metadata": {
    "execution": {
     "iopub.execute_input": "2024-10-07T21:01:41.477251Z",
     "iopub.status.busy": "2024-10-07T21:01:41.477058Z",
     "iopub.status.idle": "2024-10-07T21:01:41.479721Z",
     "shell.execute_reply": "2024-10-07T21:01:41.479273Z",
     "shell.execute_reply.started": "2024-10-07T21:01:41.477239Z"
    }
   },
   "outputs": [
    {
     "name": "stdout",
     "output_type": "stream",
     "text": [
      "n_molecules: 108\n",
      "n_conformers: 597\n"
     ]
    }
   ],
   "source": [
    "print(\"n_molecules:\", dataset.n_molecules)\n",
    "print(\"n_conformers:\", dataset.n_records)"
   ]
  },
  {
   "cell_type": "code",
   "execution_count": 12,
   "id": "8e7d50e8-201d-4f32-a2fd-c3daa60fe35d",
   "metadata": {
    "execution": {
     "iopub.execute_input": "2024-10-07T21:01:41.480726Z",
     "iopub.status.busy": "2024-10-07T21:01:41.480485Z",
     "iopub.status.idle": "2024-10-07T21:01:43.963260Z",
     "shell.execute_reply": "2024-10-07T21:01:43.962877Z",
     "shell.execute_reply.started": "2024-10-07T21:01:41.480711Z"
    }
   },
   "outputs": [],
   "source": [
    "n_confs = np.array(\n",
    "    [mol.n_conformers for mol in dataset.molecules]\n",
    ")\n",
    "n_heavy_atoms = np.array(\n",
    "    [mol.to_rdkit().GetNumHeavyAtoms() for mol in dataset.molecules]\n",
    ")"
   ]
  },
  {
   "cell_type": "code",
   "execution_count": 13,
   "id": "7ccb51cc-523a-43cd-8ab0-b5d63f9141fc",
   "metadata": {
    "execution": {
     "iopub.execute_input": "2024-10-07T21:01:43.963910Z",
     "iopub.status.busy": "2024-10-07T21:01:43.963762Z",
     "iopub.status.idle": "2024-10-07T21:01:43.967239Z",
     "shell.execute_reply": "2024-10-07T21:01:43.966846Z",
     "shell.execute_reply.started": "2024-10-07T21:01:43.963897Z"
    }
   },
   "outputs": [
    {
     "name": "stdout",
     "output_type": "stream",
     "text": [
      "Number of conformers (min, mean, max): 1 5.527777777777778 10\n",
      "# heavy atoms\n",
      "  4: 1\n",
      "  5: 1\n",
      "  6: 2\n",
      "  7: 2\n",
      "  8: 5\n",
      "  9: 1\n",
      " 10: 4\n",
      " 11: 3\n",
      " 12: 4\n",
      " 13: 6\n",
      " 14: 6\n",
      " 15: 10\n",
      " 16: 6\n",
      " 17: 6\n",
      " 18: 2\n",
      " 19: 5\n",
      " 20: 4\n",
      " 21: 2\n",
      " 22: 1\n",
      " 23: 5\n",
      " 24: 1\n",
      " 25: 3\n",
      " 26: 1\n",
      " 27: 3\n",
      " 28: 1\n",
      " 29: 4\n",
      " 30: 1\n",
      " 31: 5\n",
      " 32: 5\n",
      " 33: 2\n",
      " 34: 1\n",
      " 36: 3\n",
      " 37: 1\n",
      " 38: 1\n"
     ]
    }
   ],
   "source": [
    "print(\n",
    "    \"Number of conformers (min, mean, max):\",\n",
    "    n_confs.min(), n_confs.mean(), n_confs.max()\n",
    ")\n",
    "print(\"# heavy atoms\")\n",
    "counts = Counter(n_heavy_atoms)\n",
    "for n_heavy in sorted(counts):\n",
    "    print(f\"{str(n_heavy):>3}: {counts[n_heavy]}\")"
   ]
  },
  {
   "cell_type": "code",
   "execution_count": 14,
   "id": "62625c83-8904-44f7-b219-8c88827bb971",
   "metadata": {
    "execution": {
     "iopub.execute_input": "2024-10-07T21:01:43.967953Z",
     "iopub.status.busy": "2024-10-07T21:01:43.967809Z",
     "iopub.status.idle": "2024-10-07T21:01:44.796438Z",
     "shell.execute_reply": "2024-10-07T21:01:44.796058Z",
     "shell.execute_reply.started": "2024-10-07T21:01:43.967940Z"
    }
   },
   "outputs": [
    {
     "data": {
      "text/plain": [
       "{-3.0, -2.0, -1.0, 0.0, 1.0, 2.0}"
      ]
     },
     "execution_count": 14,
     "metadata": {},
     "output_type": "execute_result"
    }
   ],
   "source": [
    "from openff.units import unit\n",
    "unique_charges = set([\n",
    "    mol.total_charge.m_as(unit.elementary_charge)\n",
    "    for mol in dataset.molecules\n",
    "])\n",
    "unique_charges"
   ]
  },
  {
   "cell_type": "code",
   "execution_count": 15,
   "id": "f0291cf3-b3b4-4dfd-a2ac-07612c8d713a",
   "metadata": {
    "execution": {
     "iopub.execute_input": "2024-10-07T21:01:44.797204Z",
     "iopub.status.busy": "2024-10-07T21:01:44.797068Z",
     "iopub.status.idle": "2024-10-07T21:01:45.575376Z",
     "shell.execute_reply": "2024-10-07T21:01:45.574959Z",
     "shell.execute_reply.started": "2024-10-07T21:01:44.797192Z"
    }
   },
   "outputs": [
    {
     "name": "stdout",
     "output_type": "stream",
     "text": [
      "MW (min, mean, max): 82.064334 282.0491347347222 542.59233875\n"
     ]
    }
   ],
   "source": [
    "masses = np.array([\n",
    "    sum([atom.mass.m for atom in mol.atoms])\n",
    "    for mol in dataset.molecules\n",
    "])\n",
    "print(\"MW (min, mean, max):\", masses.min(), masses.mean(), masses.max())"
   ]
  },
  {
   "cell_type": "code",
   "execution_count": 16,
   "id": "4d17e60d-eb09-4a0c-a243-8c05fba536db",
   "metadata": {
    "execution": {
     "iopub.execute_input": "2024-10-07T21:01:45.576260Z",
     "iopub.status.busy": "2024-10-07T21:01:45.576117Z",
     "iopub.status.idle": "2024-10-07T21:01:46.344423Z",
     "shell.execute_reply": "2024-10-07T21:01:46.344040Z",
     "shell.execute_reply.started": "2024-10-07T21:01:45.576248Z"
    }
   },
   "outputs": [
    {
     "name": "stdout",
     "output_type": "stream",
     "text": [
      "{'H', 'C', 'Cl', 'P', 'F', 'Br', 'O', 'N', 'S'}\n"
     ]
    }
   ],
   "source": [
    "elements = set(\n",
    "    atom.symbol\n",
    "    for mol in dataset.molecules\n",
    "    for atom in mol.atoms\n",
    ")\n",
    "print(elements)"
   ]
  }
 ],
 "metadata": {
  "kernelspec": {
   "display_name": "Python 3 (ipykernel)",
   "language": "python",
   "name": "python3"
  },
  "language_info": {
   "codemirror_mode": {
    "name": "ipython",
    "version": 3
   },
   "file_extension": ".py",
   "mimetype": "text/x-python",
   "name": "python",
   "nbconvert_exporter": "python",
   "pygments_lexer": "ipython3",
   "version": "3.12.7"
  }
 },
 "nbformat": 4,
 "nbformat_minor": 5
}
