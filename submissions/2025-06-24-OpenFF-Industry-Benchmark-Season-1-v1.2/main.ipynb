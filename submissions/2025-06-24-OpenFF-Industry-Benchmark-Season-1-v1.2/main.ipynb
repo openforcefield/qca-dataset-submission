{
 "cells": [
  {
   "cell_type": "code",
   "execution_count": 87,
   "id": "58a7c165",
   "metadata": {},
   "outputs": [
    {
     "name": "stderr",
     "output_type": "stream",
     "text": [
      "Process ForkProcess-11:\n",
      "Traceback (most recent call last):\n",
      "  File \"/Users/jenniferclark/mamba/envs/qca-clean-openff/lib/python3.11/multiprocessing/process.py\", line 314, in _bootstrap\n",
      "    self.run()\n",
      "  File \"/Users/jenniferclark/mamba/envs/qca-clean-openff/lib/python3.11/multiprocessing/process.py\", line 108, in run\n",
      "    self._target(*self._args, **self._kwargs)\n",
      "  File \"/Users/jenniferclark/mamba/envs/qca-clean-openff/lib/python3.11/site-packages/qcfractal/snowflake.py\", line 95, in _compute_process\n",
      "    compute = ComputeManager(compute_config)\n",
      "              ^^^^^^^^^^^^^^^^^^^^^^^^^^^^^^\n",
      "  File \"/Users/jenniferclark/mamba/envs/qca-clean-openff/lib/python3.11/site-packages/qcfractalcompute/compute_manager.py\", line 157, in __init__\n",
      "    raise ValueError(f\"Executor {ex} has no available programs\")\n",
      "ValueError: Executor local has no available programs\n"
     ]
    }
   ],
   "source": [
    "import os, sys\n",
    "import json\n",
    "import requests\n",
    "import datetime\n",
    "\n",
    "import numpy as np\n",
    "from collections import defaultdict, Counter\n",
    "import periodictable\n",
    "\n",
    "from qcportal import PortalClient\n",
    "from qcportal.record_models import BaseRecord, RecordStatusEnum\n",
    "from qcportal.external import scaffold\n",
    "\n",
    "from openff.units import unit\n",
    "\n",
    "from openff.toolkit.topology import Molecule\n",
    "from openff.toolkit.utils import OpenEyeToolkitWrapper, ToolkitRegistry\n",
    "\n",
    "from openff.qcsubmit.common_structures import MoleculeAttributes\n",
    "from openff.qcsubmit.datasets import OptimizationDataset\n",
    "from openff.qcsubmit.factories import OptimizationDatasetFactory\n",
    "from openff.qcsubmit.results import OptimizationResultCollection\n",
    "from openff.qcsubmit.results.filters import (\n",
    "    ConnectivityFilter,\n",
    "    RecordStatusFilter,\n",
    "    UnperceivableStereoFilter,\n",
    "    SinglepointRecordFilter,\n",
    ")\n",
    "\n",
    "from openff.qcsubmit._pydantic import Field\n",
    "\n",
    "#ADDRESS = \"https://api.qcarchive.molssi.org:443/\"\n",
    "#client = PortalClient(ADDRESS, cache_dir=\".\",)\n",
    "#client = PortalClient(\n",
    "#    ADDRESS, \n",
    "#    username=os.environ['QCARCHIVE_USER'],\n",
    "#    password=os.environ['QCARCHIVE_PASSWORD'],\n",
    "#    cache_dir=\".\",\n",
    "#)\n",
    "\n",
    "from qcfractal.snowflake import FractalSnowflake\n",
    "snowflake = FractalSnowflake()\n",
    "client = snowflake.client()"
   ]
  },
  {
   "cell_type": "markdown",
   "id": "865126a7",
   "metadata": {},
   "source": [
    "# 1. Get List of Records to Keep (Using QCA Server)\n",
    "### Get Records to Remove"
   ]
  },
  {
   "cell_type": "code",
   "execution_count": 44,
   "id": "d506e035",
   "metadata": {},
   "outputs": [
    {
     "name": "stdout",
     "output_type": "stream",
     "text": [
      "There are 29 records to remove\n"
     ]
    }
   ],
   "source": [
    "# _________ Pull Record IDs of Relevant Datasets ____________\n",
    "\n",
    "file = requests.get(\n",
    "    \"https://raw.githubusercontent.com/openforcefield/sage-2.2.0/refs/heads/main/05_benchmark_forcefield/process_bm/problem_ids/all_r7_outliers.txt\"\n",
    ")\n",
    "remove_record_ids = set([int(x) for x in file.content.decode().splitlines()])\n",
    "print(f\"There are {len(remove_record_ids)} records to remove\")\n"
   ]
  },
  {
   "cell_type": "markdown",
   "id": "35267253",
   "metadata": {},
   "source": [
    "### Get v1.1 Dataset and Filter"
   ]
  },
  {
   "cell_type": "code",
   "execution_count": 46,
   "id": "5f0ba877",
   "metadata": {},
   "outputs": [
    {
     "name": "stderr",
     "output_type": "stream",
     "text": [
      "/Users/jenniferclark/mamba/envs/qca-clean-openff/lib/python3.11/site-packages/openff/qcsubmit/results/results.py:506: UserWarning: Skipping entry gnt-00015-0 with invalid CMILES [C:1]([C:2]1=[C:3]([H:21])[C@@:4]([NH+:15]([H:33])[H:34])([H:22])[C@:5]([N:12]([C:10]([C:11]([H:29])([H:30])[H:31])=[O:20])[H:32])([H:23])[C@@:6]([C@@:7]([C@@:8]([C:9]([NH+:19]([H:37])[H:38])([H:27])[H:28])([O:18][H:36])[H:26])([O:17][H:35])[H:25])([H:24])[O:16]1)(=[O:13])[O-:14]\n",
      "  warnings.warn(\n",
      "/Users/jenniferclark/mamba/envs/qca-clean-openff/lib/python3.11/site-packages/openff/qcsubmit/results/results.py:506: UserWarning: Skipping entry gnt-00015-2 with invalid CMILES [C:1]([C:2]1=[C:3]([H:21])[C@@:4]([NH+:15]([H:33])[H:34])([H:22])[C@:5]([N:12]([C:10]([C:11]([H:29])([H:30])[H:31])=[O:20])[H:32])([H:23])[C@@:6]([C@@:7]([C@@:8]([C:9]([NH+:19]([H:37])[H:38])([H:27])[H:28])([O:18][H:36])[H:26])([O:17][H:35])[H:25])([H:24])[O:16]1)(=[O:13])[O-:14]\n",
      "  warnings.warn(\n",
      "/Users/jenniferclark/mamba/envs/qca-clean-openff/lib/python3.11/site-packages/openff/qcsubmit/results/results.py:506: UserWarning: Skipping entry gnt-00015-3 with invalid CMILES [C:1]([C:2]1=[C:3]([H:21])[C@@:4]([NH+:15]([H:33])[H:34])([H:22])[C@:5]([N:12]([C:10]([C:11]([H:29])([H:30])[H:31])=[O:20])[H:32])([H:23])[C@@:6]([C@@:7]([C@@:8]([C:9]([NH+:19]([H:37])[H:38])([H:27])[H:28])([O:18][H:36])[H:26])([O:17][H:35])[H:25])([H:24])[O:16]1)(=[O:13])[O-:14]\n",
      "  warnings.warn(\n",
      "/Users/jenniferclark/mamba/envs/qca-clean-openff/lib/python3.11/site-packages/openff/qcsubmit/results/results.py:506: UserWarning: Skipping entry gnt-00015-5 with invalid CMILES [C:1]([C:2]1=[C:3]([H:21])[C@@:4]([NH+:15]([H:33])[H:34])([H:22])[C@:5]([N:12]([C:10]([C:11]([H:29])([H:30])[H:31])=[O:20])[H:32])([H:23])[C@@:6]([C@@:7]([C@@:8]([C:9]([NH+:19]([H:37])[H:38])([H:27])[H:28])([O:18][H:36])[H:26])([O:17][H:35])[H:25])([H:24])[O:16]1)(=[O:13])[O-:14]\n",
      "  warnings.warn(\n",
      "/Users/jenniferclark/mamba/envs/qca-clean-openff/lib/python3.11/site-packages/openff/qcsubmit/results/results.py:506: UserWarning: Skipping entry gnt-00015-7 with invalid CMILES [C:1]([C:2]1=[C:3]([H:21])[C@@:4]([NH+:15]([H:33])[H:34])([H:22])[C@:5]([N:12]([C:10]([C:11]([H:29])([H:30])[H:31])=[O:20])[H:32])([H:23])[C@@:6]([C@@:7]([C@@:8]([C:9]([NH+:19]([H:37])[H:38])([H:27])[H:28])([O:18][H:36])[H:26])([O:17][H:35])[H:25])([H:24])[O:16]1)(=[O:13])[O-:14]\n",
      "  warnings.warn(\n",
      "/Users/jenniferclark/mamba/envs/qca-clean-openff/lib/python3.11/site-packages/openff/qcsubmit/results/results.py:506: UserWarning: Skipping entry gnt-00061-0 with invalid CMILES [C:1]([c:2]1[c:3]([H:31])[c:4]([H:32])[c:7](/[C:8]([N:9]([H:35])[H:36])=[NH+:10]/[H:37])[c:6]([H:34])[c:5]1[H:33])([C@@:21]1([H:47])[C:22]([H:48])([H:49])[C:23]([H:50])([H:51])[C:24]([H:52])([H:53])[C:25]([H:54])([H:55])[C@@:26]([C:11]([c:12]2[c:13]([H:40])[c:14]([H:41])[c:17](/[C:18]([N:19]([H:44])[H:45])=[NH+:20]/[H:46])[c:16]([H:43])[c:15]2[H:42])([H:38])[H:39])([H:56])[C:27]1=[O:28])([H:29])[H:30]\n",
      "  warnings.warn(\n",
      "/Users/jenniferclark/mamba/envs/qca-clean-openff/lib/python3.11/site-packages/openff/qcsubmit/results/results.py:506: UserWarning: Skipping entry gnt-00061-1 with invalid CMILES [C:1]([c:2]1[c:3]([H:31])[c:4]([H:32])[c:7](/[C:8]([N:9]([H:35])[H:36])=[NH+:10]/[H:37])[c:6]([H:34])[c:5]1[H:33])([C@@:21]1([H:47])[C:22]([H:48])([H:49])[C:23]([H:50])([H:51])[C:24]([H:52])([H:53])[C:25]([H:54])([H:55])[C@@:26]([C:11]([c:12]2[c:13]([H:40])[c:14]([H:41])[c:17](/[C:18]([N:19]([H:44])[H:45])=[NH+:20]/[H:46])[c:16]([H:43])[c:15]2[H:42])([H:38])[H:39])([H:56])[C:27]1=[O:28])([H:29])[H:30]\n",
      "  warnings.warn(\n",
      "/Users/jenniferclark/mamba/envs/qca-clean-openff/lib/python3.11/site-packages/openff/qcsubmit/results/results.py:506: UserWarning: Skipping entry gnt-00061-4 with invalid CMILES [C:1]([c:2]1[c:3]([H:31])[c:4]([H:32])[c:7](/[C:8]([N:9]([H:35])[H:36])=[NH+:10]/[H:37])[c:6]([H:34])[c:5]1[H:33])([C@@:21]1([H:47])[C:22]([H:48])([H:49])[C:23]([H:50])([H:51])[C:24]([H:52])([H:53])[C:25]([H:54])([H:55])[C@@:26]([C:11]([c:12]2[c:13]([H:40])[c:14]([H:41])[c:17](/[C:18]([N:19]([H:44])[H:45])=[NH+:20]/[H:46])[c:16]([H:43])[c:15]2[H:42])([H:38])[H:39])([H:56])[C:27]1=[O:28])([H:29])[H:30]\n",
      "  warnings.warn(\n",
      "/Users/jenniferclark/mamba/envs/qca-clean-openff/lib/python3.11/site-packages/openff/qcsubmit/results/results.py:506: UserWarning: Skipping entry gnt-00061-6 with invalid CMILES [C:1]([c:2]1[c:3]([H:31])[c:4]([H:32])[c:7](/[C:8]([N:9]([H:35])[H:36])=[NH+:10]/[H:37])[c:6]([H:34])[c:5]1[H:33])([C@@:21]1([H:47])[C:22]([H:48])([H:49])[C:23]([H:50])([H:51])[C:24]([H:52])([H:53])[C:25]([H:54])([H:55])[C@@:26]([C:11]([c:12]2[c:13]([H:40])[c:14]([H:41])[c:17](/[C:18]([N:19]([H:44])[H:45])=[NH+:20]/[H:46])[c:16]([H:43])[c:15]2[H:42])([H:38])[H:39])([H:56])[C:27]1=[O:28])([H:29])[H:30]\n",
      "  warnings.warn(\n",
      "/Users/jenniferclark/mamba/envs/qca-clean-openff/lib/python3.11/site-packages/openff/qcsubmit/results/results.py:506: UserWarning: Skipping entry gnt-00061-7 with invalid CMILES [C:1]([c:2]1[c:3]([H:31])[c:4]([H:32])[c:7](/[C:8]([N:9]([H:35])[H:36])=[NH+:10]/[H:37])[c:6]([H:34])[c:5]1[H:33])([C@@:21]1([H:47])[C:22]([H:48])([H:49])[C:23]([H:50])([H:51])[C:24]([H:52])([H:53])[C:25]([H:54])([H:55])[C@@:26]([C:11]([c:12]2[c:13]([H:40])[c:14]([H:41])[c:17](/[C:18]([N:19]([H:44])[H:45])=[NH+:20]/[H:46])[c:16]([H:43])[c:15]2[H:42])([H:38])[H:39])([H:56])[C:27]1=[O:28])([H:29])[H:30]\n",
      "  warnings.warn(\n",
      "/Users/jenniferclark/mamba/envs/qca-clean-openff/lib/python3.11/site-packages/openff/qcsubmit/results/results.py:506: UserWarning: Skipping entry gnt-00114-0 with invalid CMILES [NH+:1]([C@:2]([C:3](=[O:4])[O-:10])([C:5]([C:6]([C:7]([C:8]([NH+:9]([H:22])[H:23])([H:20])[H:21])([H:18])[H:19])([H:16])[H:17])([H:14])[H:15])[H:13])([H:11])[H:12]\n",
      "  warnings.warn(\n",
      "/Users/jenniferclark/mamba/envs/qca-clean-openff/lib/python3.11/site-packages/openff/qcsubmit/results/results.py:506: UserWarning: Skipping entry gnt-00114-1 with invalid CMILES [NH+:1]([C@:2]([C:3](=[O:4])[O-:10])([C:5]([C:6]([C:7]([C:8]([NH+:9]([H:22])[H:23])([H:20])[H:21])([H:18])[H:19])([H:16])[H:17])([H:14])[H:15])[H:13])([H:11])[H:12]\n",
      "  warnings.warn(\n",
      "/Users/jenniferclark/mamba/envs/qca-clean-openff/lib/python3.11/site-packages/openff/qcsubmit/results/results.py:506: UserWarning: Skipping entry gnt-00114-2 with invalid CMILES [NH+:1]([C@:2]([C:3](=[O:4])[O-:10])([C:5]([C:6]([C:7]([C:8]([NH+:9]([H:22])[H:23])([H:20])[H:21])([H:18])[H:19])([H:16])[H:17])([H:14])[H:15])[H:13])([H:11])[H:12]\n",
      "  warnings.warn(\n",
      "/Users/jenniferclark/mamba/envs/qca-clean-openff/lib/python3.11/site-packages/openff/qcsubmit/results/results.py:506: UserWarning: Skipping entry gnt-00115-0 with invalid CMILES [NH+:1]([C@:2]([C:3](=[O:4])[O-:12])([C:5]([C:6]([C:7]([N:8](/[C:9]([N:10]([H:23])[H:24])=[NH+:11]/[H:25])[H:22])([H:20])[H:21])([H:18])[H:19])([H:16])[H:17])[H:15])([H:13])[H:14]\n",
      "  warnings.warn(\n",
      "/Users/jenniferclark/mamba/envs/qca-clean-openff/lib/python3.11/site-packages/openff/qcsubmit/results/results.py:506: UserWarning: Skipping entry gnt-00115-3 with invalid CMILES [NH+:1]([C@:2]([C:3](=[O:4])[O-:12])([C:5]([C:6]([C:7]([N:8](/[C:9]([N:10]([H:23])[H:24])=[NH+:11]/[H:25])[H:22])([H:20])[H:21])([H:18])[H:19])([H:16])[H:17])[H:15])([H:13])[H:14]\n",
      "  warnings.warn(\n",
      "/Users/jenniferclark/mamba/envs/qca-clean-openff/lib/python3.11/site-packages/openff/qcsubmit/results/results.py:506: UserWarning: Skipping entry gnt-00115-5 with invalid CMILES [NH+:1]([C@:2]([C:3](=[O:4])[O-:12])([C:5]([C:6]([C:7]([N:8](/[C:9]([N:10]([H:23])[H:24])=[NH+:11]/[H:25])[H:22])([H:20])[H:21])([H:18])[H:19])([H:16])[H:17])[H:15])([H:13])[H:14]\n",
      "  warnings.warn(\n",
      "/Users/jenniferclark/mamba/envs/qca-clean-openff/lib/python3.11/site-packages/openff/qcsubmit/results/results.py:506: UserWarning: Skipping entry gnt-00115-7 with invalid CMILES [NH+:1]([C@:2]([C:3](=[O:4])[O-:12])([C:5]([C:6]([C:7]([N:8](/[C:9]([N:10]([H:23])[H:24])=[NH+:11]/[H:25])[H:22])([H:20])[H:21])([H:18])[H:19])([H:16])[H:17])[H:15])([H:13])[H:14]\n",
      "  warnings.warn(\n",
      "/Users/jenniferclark/mamba/envs/qca-clean-openff/lib/python3.11/site-packages/openff/qcsubmit/results/results.py:506: UserWarning: Skipping entry gnt-00141-0 with invalid CMILES [N:1]1([C:19]([C@:20]([NH+:21]([H:43])[H:44])([C:22]([C:23]([H:47])([H:48])[H:49])([H:45])[H:46])[H:42])=[O:24])[C@@:2]([C:3](=[O:4])[N:5]([C:6]([c:7]2[c:8]([H:29])[c:9]([H:30])[c:10](/[C:11](=[NH+:12]/[H:31])[N:13]([H:32])[H:33])[c:14]([H:34])[c:15]2[H:35])([H:27])[H:28])[H:26])([H:25])[C:16]([H:36])([H:37])[C:17]([H:38])([H:39])[C:18]1([H:40])[H:41]\n",
      "  warnings.warn(\n",
      "/Users/jenniferclark/mamba/envs/qca-clean-openff/lib/python3.11/site-packages/openff/qcsubmit/results/results.py:506: UserWarning: Skipping entry gnt-00141-3 with invalid CMILES [N:1]1([C:19]([C@:20]([NH+:21]([H:43])[H:44])([C:22]([C:23]([H:47])([H:48])[H:49])([H:45])[H:46])[H:42])=[O:24])[C@@:2]([C:3](=[O:4])[N:5]([C:6]([c:7]2[c:8]([H:29])[c:9]([H:30])[c:10](/[C:11](=[NH+:12]/[H:31])[N:13]([H:32])[H:33])[c:14]([H:34])[c:15]2[H:35])([H:27])[H:28])[H:26])([H:25])[C:16]([H:36])([H:37])[C:17]([H:38])([H:39])[C:18]1([H:40])[H:41]\n",
      "  warnings.warn(\n",
      "/Users/jenniferclark/mamba/envs/qca-clean-openff/lib/python3.11/site-packages/openff/qcsubmit/results/results.py:506: UserWarning: Skipping entry gnt-00141-5 with invalid CMILES [N:1]1([C:19]([C@:20]([NH+:21]([H:43])[H:44])([C:22]([C:23]([H:47])([H:48])[H:49])([H:45])[H:46])[H:42])=[O:24])[C@@:2]([C:3](=[O:4])[N:5]([C:6]([c:7]2[c:8]([H:29])[c:9]([H:30])[c:10](/[C:11](=[NH+:12]/[H:31])[N:13]([H:32])[H:33])[c:14]([H:34])[c:15]2[H:35])([H:27])[H:28])[H:26])([H:25])[C:16]([H:36])([H:37])[C:17]([H:38])([H:39])[C:18]1([H:40])[H:41]\n",
      "  warnings.warn(\n",
      "/Users/jenniferclark/mamba/envs/qca-clean-openff/lib/python3.11/site-packages/openff/qcsubmit/results/results.py:506: UserWarning: Skipping entry gnt-00142-0 with invalid CMILES [O:1]=[C:2]([N:3]([C:4]([c:5]1[c:6]([H:26])[c:7]([H:27])[c:8](/[C:9](=[NH+:10]/[H:28])[N:11]([H:29])[H:30])[c:12]([H:31])[c:13]1[H:32])([H:24])[H:25])[H:23])[C@@:14]1([H:33])[C:15]([H:34])([H:35])[C:16]([H:36])([H:37])[C:17]([H:38])([H:39])[N:18]1[C:19](=[O:20])[C:21]([NH+:22]([H:42])[H:43])([H:40])[H:41]\n",
      "  warnings.warn(\n",
      "/Users/jenniferclark/mamba/envs/qca-clean-openff/lib/python3.11/site-packages/openff/qcsubmit/results/results.py:506: UserWarning: Skipping entry gnt-00142-3 with invalid CMILES [O:1]=[C:2]([N:3]([C:4]([c:5]1[c:6]([H:26])[c:7]([H:27])[c:8](/[C:9](=[NH+:10]/[H:28])[N:11]([H:29])[H:30])[c:12]([H:31])[c:13]1[H:32])([H:24])[H:25])[H:23])[C@@:14]1([H:33])[C:15]([H:34])([H:35])[C:16]([H:36])([H:37])[C:17]([H:38])([H:39])[N:18]1[C:19](=[O:20])[C:21]([NH+:22]([H:42])[H:43])([H:40])[H:41]\n",
      "  warnings.warn(\n",
      "/Users/jenniferclark/mamba/envs/qca-clean-openff/lib/python3.11/site-packages/openff/qcsubmit/results/results.py:506: UserWarning: Skipping entry gnt-00142-9 with invalid CMILES [O:1]=[C:2]([N:3]([C:4]([c:5]1[c:6]([H:26])[c:7]([H:27])[c:8](/[C:9](=[NH+:10]/[H:28])[N:11]([H:29])[H:30])[c:12]([H:31])[c:13]1[H:32])([H:24])[H:25])[H:23])[C@@:14]1([H:33])[C:15]([H:34])([H:35])[C:16]([H:36])([H:37])[C:17]([H:38])([H:39])[N:18]1[C:19](=[O:20])[C:21]([NH+:22]([H:42])[H:43])([H:40])[H:41]\n",
      "  warnings.warn(\n",
      "/Users/jenniferclark/mamba/envs/qca-clean-openff/lib/python3.11/site-packages/openff/qcsubmit/results/results.py:506: UserWarning: Skipping entry gnt-00163-2 with invalid CMILES [C:1]([c:2]1[c:3]([H:31])[c:4]([H:32])[c:7](/[C:8]([N:9]([H:35])[H:36])=[NH+:10]/[H:37])[c:6]([H:34])[c:5]1[H:33])([C@:21]1([H:47])[C:22]([H:48])([H:49])[C:23]([H:50])([H:51])[C:24]([H:52])([H:53])[C:25]([H:54])([H:55])[C@:26]([C:11]([c:12]2[c:13]([H:40])[c:14]([H:41])[c:17](/[C:18]([N:19]([H:44])[H:45])=[NH+:20]/[H:46])[c:16]([H:43])[c:15]2[H:42])([H:38])[H:39])([H:56])[C:27]1=[O:28])([H:29])[H:30]\n",
      "  warnings.warn(\n",
      "/Users/jenniferclark/mamba/envs/qca-clean-openff/lib/python3.11/site-packages/openff/qcsubmit/results/results.py:506: UserWarning: Skipping entry gnt-00163-3 with invalid CMILES [C:1]([c:2]1[c:3]([H:31])[c:4]([H:32])[c:7](/[C:8]([N:9]([H:35])[H:36])=[NH+:10]/[H:37])[c:6]([H:34])[c:5]1[H:33])([C@:21]1([H:47])[C:22]([H:48])([H:49])[C:23]([H:50])([H:51])[C:24]([H:52])([H:53])[C:25]([H:54])([H:55])[C@:26]([C:11]([c:12]2[c:13]([H:40])[c:14]([H:41])[c:17](/[C:18]([N:19]([H:44])[H:45])=[NH+:20]/[H:46])[c:16]([H:43])[c:15]2[H:42])([H:38])[H:39])([H:56])[C:27]1=[O:28])([H:29])[H:30]\n",
      "  warnings.warn(\n",
      "/Users/jenniferclark/mamba/envs/qca-clean-openff/lib/python3.11/site-packages/openff/qcsubmit/results/results.py:506: UserWarning: Skipping entry gnt-00163-4 with invalid CMILES [C:1]([c:2]1[c:3]([H:31])[c:4]([H:32])[c:7](/[C:8]([N:9]([H:35])[H:36])=[NH+:10]/[H:37])[c:6]([H:34])[c:5]1[H:33])([C@:21]1([H:47])[C:22]([H:48])([H:49])[C:23]([H:50])([H:51])[C:24]([H:52])([H:53])[C:25]([H:54])([H:55])[C@:26]([C:11]([c:12]2[c:13]([H:40])[c:14]([H:41])[c:17](/[C:18]([N:19]([H:44])[H:45])=[NH+:20]/[H:46])[c:16]([H:43])[c:15]2[H:42])([H:38])[H:39])([H:56])[C:27]1=[O:28])([H:29])[H:30]\n",
      "  warnings.warn(\n",
      "/Users/jenniferclark/mamba/envs/qca-clean-openff/lib/python3.11/site-packages/openff/qcsubmit/results/results.py:506: UserWarning: Skipping entry gnt-00163-5 with invalid CMILES [C:1]([c:2]1[c:3]([H:31])[c:4]([H:32])[c:7](/[C:8]([N:9]([H:35])[H:36])=[NH+:10]/[H:37])[c:6]([H:34])[c:5]1[H:33])([C@:21]1([H:47])[C:22]([H:48])([H:49])[C:23]([H:50])([H:51])[C:24]([H:52])([H:53])[C:25]([H:54])([H:55])[C@:26]([C:11]([c:12]2[c:13]([H:40])[c:14]([H:41])[c:17](/[C:18]([N:19]([H:44])[H:45])=[NH+:20]/[H:46])[c:16]([H:43])[c:15]2[H:42])([H:38])[H:39])([H:56])[C:27]1=[O:28])([H:29])[H:30]\n",
      "  warnings.warn(\n",
      "/Users/jenniferclark/mamba/envs/qca-clean-openff/lib/python3.11/site-packages/openff/qcsubmit/results/results.py:506: UserWarning: Skipping entry gnt-00163-7 with invalid CMILES [C:1]([c:2]1[c:3]([H:31])[c:4]([H:32])[c:7](/[C:8]([N:9]([H:35])[H:36])=[NH+:10]/[H:37])[c:6]([H:34])[c:5]1[H:33])([C@:21]1([H:47])[C:22]([H:48])([H:49])[C:23]([H:50])([H:51])[C:24]([H:52])([H:53])[C:25]([H:54])([H:55])[C@:26]([C:11]([c:12]2[c:13]([H:40])[c:14]([H:41])[c:17](/[C:18]([N:19]([H:44])[H:45])=[NH+:20]/[H:46])[c:16]([H:43])[c:15]2[H:42])([H:38])[H:39])([H:56])[C:27]1=[O:28])([H:29])[H:30]\n",
      "  warnings.warn(\n",
      "/Users/jenniferclark/mamba/envs/qca-clean-openff/lib/python3.11/site-packages/openff/qcsubmit/results/results.py:506: UserWarning: Skipping entry gnt-00163-8 with invalid CMILES [C:1]([c:2]1[c:3]([H:31])[c:4]([H:32])[c:7](/[C:8]([N:9]([H:35])[H:36])=[NH+:10]/[H:37])[c:6]([H:34])[c:5]1[H:33])([C@:21]1([H:47])[C:22]([H:48])([H:49])[C:23]([H:50])([H:51])[C:24]([H:52])([H:53])[C:25]([H:54])([H:55])[C@:26]([C:11]([c:12]2[c:13]([H:40])[c:14]([H:41])[c:17](/[C:18]([N:19]([H:44])[H:45])=[NH+:20]/[H:46])[c:16]([H:43])[c:15]2[H:42])([H:38])[H:39])([H:56])[C:27]1=[O:28])([H:29])[H:30]\n",
      "  warnings.warn(\n",
      "/Users/jenniferclark/mamba/envs/qca-clean-openff/lib/python3.11/site-packages/openff/qcsubmit/results/results.py:506: UserWarning: Skipping entry gnt-00188-0 with invalid CMILES [NH+:1](=[C:2](/[N:3]([H:26])[H:27])[c:4]1[c:5]([H:28])[c:6]2[c:7]([H:29])[c:8]([H:30])[c:9]([C:14](=[O:15])[N:16]([c:17]3[c:18]([H:35])[c:19]([H:36])[c:20]([C:23]([NH+:24]([H:41])[H:42])([H:39])[H:40])[c:21]([H:37])[c:22]3[H:38])[H:34])[c:10]([H:31])[c:11]2[c:12]([H:32])[c:13]1[H:33])\\[H:25]\n",
      "  warnings.warn(\n",
      "/Users/jenniferclark/mamba/envs/qca-clean-openff/lib/python3.11/site-packages/openff/qcsubmit/results/results.py:506: UserWarning: Skipping entry gnt-00188-1 with invalid CMILES [NH+:1](=[C:2](/[N:3]([H:26])[H:27])[c:4]1[c:5]([H:28])[c:6]2[c:7]([H:29])[c:8]([H:30])[c:9]([C:14](=[O:15])[N:16]([c:17]3[c:18]([H:35])[c:19]([H:36])[c:20]([C:23]([NH+:24]([H:41])[H:42])([H:39])[H:40])[c:21]([H:37])[c:22]3[H:38])[H:34])[c:10]([H:31])[c:11]2[c:12]([H:32])[c:13]1[H:33])\\[H:25]\n",
      "  warnings.warn(\n",
      "/Users/jenniferclark/mamba/envs/qca-clean-openff/lib/python3.11/site-packages/openff/qcsubmit/results/results.py:506: UserWarning: Skipping entry gnt-00188-2 with invalid CMILES [NH+:1](=[C:2](/[N:3]([H:26])[H:27])[c:4]1[c:5]([H:28])[c:6]2[c:7]([H:29])[c:8]([H:30])[c:9]([C:14](=[O:15])[N:16]([c:17]3[c:18]([H:35])[c:19]([H:36])[c:20]([C:23]([NH+:24]([H:41])[H:42])([H:39])[H:40])[c:21]([H:37])[c:22]3[H:38])[H:34])[c:10]([H:31])[c:11]2[c:12]([H:32])[c:13]1[H:33])\\[H:25]\n",
      "  warnings.warn(\n",
      "/Users/jenniferclark/mamba/envs/qca-clean-openff/lib/python3.11/site-packages/openff/qcsubmit/results/results.py:506: UserWarning: Skipping entry gnt-00188-4 with invalid CMILES [NH+:1](=[C:2](/[N:3]([H:26])[H:27])[c:4]1[c:5]([H:28])[c:6]2[c:7]([H:29])[c:8]([H:30])[c:9]([C:14](=[O:15])[N:16]([c:17]3[c:18]([H:35])[c:19]([H:36])[c:20]([C:23]([NH+:24]([H:41])[H:42])([H:39])[H:40])[c:21]([H:37])[c:22]3[H:38])[H:34])[c:10]([H:31])[c:11]2[c:12]([H:32])[c:13]1[H:33])\\[H:25]\n",
      "  warnings.warn(\n",
      "/Users/jenniferclark/mamba/envs/qca-clean-openff/lib/python3.11/site-packages/openff/qcsubmit/results/results.py:506: UserWarning: Skipping entry gnt-00188-5 with invalid CMILES [NH+:1](=[C:2](/[N:3]([H:26])[H:27])[c:4]1[c:5]([H:28])[c:6]2[c:7]([H:29])[c:8]([H:30])[c:9]([C:14](=[O:15])[N:16]([c:17]3[c:18]([H:35])[c:19]([H:36])[c:20]([C:23]([NH+:24]([H:41])[H:42])([H:39])[H:40])[c:21]([H:37])[c:22]3[H:38])[H:34])[c:10]([H:31])[c:11]2[c:12]([H:32])[c:13]1[H:33])\\[H:25]\n",
      "  warnings.warn(\n",
      "/Users/jenniferclark/mamba/envs/qca-clean-openff/lib/python3.11/site-packages/openff/qcsubmit/results/results.py:506: UserWarning: Skipping entry gnt-00188-7 with invalid CMILES [NH+:1](=[C:2](/[N:3]([H:26])[H:27])[c:4]1[c:5]([H:28])[c:6]2[c:7]([H:29])[c:8]([H:30])[c:9]([C:14](=[O:15])[N:16]([c:17]3[c:18]([H:35])[c:19]([H:36])[c:20]([C:23]([NH+:24]([H:41])[H:42])([H:39])[H:40])[c:21]([H:37])[c:22]3[H:38])[H:34])[c:10]([H:31])[c:11]2[c:12]([H:32])[c:13]1[H:33])\\[H:25]\n",
      "  warnings.warn(\n",
      "/Users/jenniferclark/mamba/envs/qca-clean-openff/lib/python3.11/site-packages/openff/qcsubmit/results/results.py:506: UserWarning: Skipping entry gnt-00188-8 with invalid CMILES [NH+:1](=[C:2](/[N:3]([H:26])[H:27])[c:4]1[c:5]([H:28])[c:6]2[c:7]([H:29])[c:8]([H:30])[c:9]([C:14](=[O:15])[N:16]([c:17]3[c:18]([H:35])[c:19]([H:36])[c:20]([C:23]([NH+:24]([H:41])[H:42])([H:39])[H:40])[c:21]([H:37])[c:22]3[H:38])[H:34])[c:10]([H:31])[c:11]2[c:12]([H:32])[c:13]1[H:33])\\[H:25]\n",
      "  warnings.warn(\n",
      "/Users/jenniferclark/mamba/envs/qca-clean-openff/lib/python3.11/site-packages/openff/qcsubmit/results/results.py:506: UserWarning: Skipping entry gnt-00188-9 with invalid CMILES [NH+:1](=[C:2](/[N:3]([H:26])[H:27])[c:4]1[c:5]([H:28])[c:6]2[c:7]([H:29])[c:8]([H:30])[c:9]([C:14](=[O:15])[N:16]([c:17]3[c:18]([H:35])[c:19]([H:36])[c:20]([C:23]([NH+:24]([H:41])[H:42])([H:39])[H:40])[c:21]([H:37])[c:22]3[H:38])[H:34])[c:10]([H:31])[c:11]2[c:12]([H:32])[c:13]1[H:33])\\[H:25]\n",
      "  warnings.warn(\n",
      "/Users/jenniferclark/mamba/envs/qca-clean-openff/lib/python3.11/site-packages/openff/qcsubmit/results/results.py:506: UserWarning: Skipping entry gnt-00284-0 with invalid CMILES [F:1][c:2]1[c:3]([H:32])[c:4]([H:33])[c:5]([H:34])[c:6]([F:7])[c:8]1[C:9]1=[N:12][N:13]2[C:14](=[C:15]([H:37])[N:16]=[C:17]2[N:18]([c:19]2[c:20]([H:39])[nH+:21][c:22]([H:40])[c:23]([H:41])[c:24]2[N:25]2[C:26]([H:42])([H:43])[C@:30]([NH+:31]([H:51])[H:52])([H:50])[C:29]([H:48])([H:49])[C:28]([H:46])([H:47])[C:27]2([H:44])[H:45])[H:38])[C:11]([H:36])=[C:10]1[H:35]\n",
      "  warnings.warn(\n",
      "/Users/jenniferclark/mamba/envs/qca-clean-openff/lib/python3.11/site-packages/openff/qcsubmit/results/results.py:506: UserWarning: Skipping entry gnt-00284-1 with invalid CMILES [F:1][c:2]1[c:3]([H:32])[c:4]([H:33])[c:5]([H:34])[c:6]([F:7])[c:8]1[C:9]1=[N:12][N:13]2[C:14](=[C:15]([H:37])[N:16]=[C:17]2[N:18]([c:19]2[c:20]([H:39])[nH+:21][c:22]([H:40])[c:23]([H:41])[c:24]2[N:25]2[C:26]([H:42])([H:43])[C@:30]([NH+:31]([H:51])[H:52])([H:50])[C:29]([H:48])([H:49])[C:28]([H:46])([H:47])[C:27]2([H:44])[H:45])[H:38])[C:11]([H:36])=[C:10]1[H:35]\n",
      "  warnings.warn(\n",
      "/Users/jenniferclark/mamba/envs/qca-clean-openff/lib/python3.11/site-packages/openff/qcsubmit/results/results.py:506: UserWarning: Skipping entry gnt-00284-2 with invalid CMILES [F:1][c:2]1[c:3]([H:32])[c:4]([H:33])[c:5]([H:34])[c:6]([F:7])[c:8]1[C:9]1=[N:12][N:13]2[C:14](=[C:15]([H:37])[N:16]=[C:17]2[N:18]([c:19]2[c:20]([H:39])[nH+:21][c:22]([H:40])[c:23]([H:41])[c:24]2[N:25]2[C:26]([H:42])([H:43])[C@:30]([NH+:31]([H:51])[H:52])([H:50])[C:29]([H:48])([H:49])[C:28]([H:46])([H:47])[C:27]2([H:44])[H:45])[H:38])[C:11]([H:36])=[C:10]1[H:35]\n",
      "  warnings.warn(\n",
      "/Users/jenniferclark/mamba/envs/qca-clean-openff/lib/python3.11/site-packages/openff/qcsubmit/results/results.py:506: UserWarning: Skipping entry gnt-00284-3 with invalid CMILES [F:1][c:2]1[c:3]([H:32])[c:4]([H:33])[c:5]([H:34])[c:6]([F:7])[c:8]1[C:9]1=[N:12][N:13]2[C:14](=[C:15]([H:37])[N:16]=[C:17]2[N:18]([c:19]2[c:20]([H:39])[nH+:21][c:22]([H:40])[c:23]([H:41])[c:24]2[N:25]2[C:26]([H:42])([H:43])[C@:30]([NH+:31]([H:51])[H:52])([H:50])[C:29]([H:48])([H:49])[C:28]([H:46])([H:47])[C:27]2([H:44])[H:45])[H:38])[C:11]([H:36])=[C:10]1[H:35]\n",
      "  warnings.warn(\n",
      "/Users/jenniferclark/mamba/envs/qca-clean-openff/lib/python3.11/site-packages/openff/qcsubmit/results/results.py:506: UserWarning: Skipping entry gnt-00284-4 with invalid CMILES [F:1][c:2]1[c:3]([H:32])[c:4]([H:33])[c:5]([H:34])[c:6]([F:7])[c:8]1[C:9]1=[N:12][N:13]2[C:14](=[C:15]([H:37])[N:16]=[C:17]2[N:18]([c:19]2[c:20]([H:39])[nH+:21][c:22]([H:40])[c:23]([H:41])[c:24]2[N:25]2[C:26]([H:42])([H:43])[C@:30]([NH+:31]([H:51])[H:52])([H:50])[C:29]([H:48])([H:49])[C:28]([H:46])([H:47])[C:27]2([H:44])[H:45])[H:38])[C:11]([H:36])=[C:10]1[H:35]\n",
      "  warnings.warn(\n",
      "/Users/jenniferclark/mamba/envs/qca-clean-openff/lib/python3.11/site-packages/openff/qcsubmit/results/results.py:506: UserWarning: Skipping entry gnt-00284-5 with invalid CMILES [F:1][c:2]1[c:3]([H:32])[c:4]([H:33])[c:5]([H:34])[c:6]([F:7])[c:8]1[C:9]1=[N:12][N:13]2[C:14](=[C:15]([H:37])[N:16]=[C:17]2[N:18]([c:19]2[c:20]([H:39])[nH+:21][c:22]([H:40])[c:23]([H:41])[c:24]2[N:25]2[C:26]([H:42])([H:43])[C@:30]([NH+:31]([H:51])[H:52])([H:50])[C:29]([H:48])([H:49])[C:28]([H:46])([H:47])[C:27]2([H:44])[H:45])[H:38])[C:11]([H:36])=[C:10]1[H:35]\n",
      "  warnings.warn(\n",
      "/Users/jenniferclark/mamba/envs/qca-clean-openff/lib/python3.11/site-packages/openff/qcsubmit/results/results.py:506: UserWarning: Skipping entry gnt-00284-6 with invalid CMILES [F:1][c:2]1[c:3]([H:32])[c:4]([H:33])[c:5]([H:34])[c:6]([F:7])[c:8]1[C:9]1=[N:12][N:13]2[C:14](=[C:15]([H:37])[N:16]=[C:17]2[N:18]([c:19]2[c:20]([H:39])[nH+:21][c:22]([H:40])[c:23]([H:41])[c:24]2[N:25]2[C:26]([H:42])([H:43])[C@:30]([NH+:31]([H:51])[H:52])([H:50])[C:29]([H:48])([H:49])[C:28]([H:46])([H:47])[C:27]2([H:44])[H:45])[H:38])[C:11]([H:36])=[C:10]1[H:35]\n",
      "  warnings.warn(\n",
      "/Users/jenniferclark/mamba/envs/qca-clean-openff/lib/python3.11/site-packages/openff/qcsubmit/results/results.py:506: UserWarning: Skipping entry gnt-00284-7 with invalid CMILES [F:1][c:2]1[c:3]([H:32])[c:4]([H:33])[c:5]([H:34])[c:6]([F:7])[c:8]1[C:9]1=[N:12][N:13]2[C:14](=[C:15]([H:37])[N:16]=[C:17]2[N:18]([c:19]2[c:20]([H:39])[nH+:21][c:22]([H:40])[c:23]([H:41])[c:24]2[N:25]2[C:26]([H:42])([H:43])[C@:30]([NH+:31]([H:51])[H:52])([H:50])[C:29]([H:48])([H:49])[C:28]([H:46])([H:47])[C:27]2([H:44])[H:45])[H:38])[C:11]([H:36])=[C:10]1[H:35]\n",
      "  warnings.warn(\n",
      "/Users/jenniferclark/mamba/envs/qca-clean-openff/lib/python3.11/site-packages/openff/qcsubmit/results/results.py:506: UserWarning: Skipping entry gnt-00284-8 with invalid CMILES [F:1][c:2]1[c:3]([H:32])[c:4]([H:33])[c:5]([H:34])[c:6]([F:7])[c:8]1[C:9]1=[N:12][N:13]2[C:14](=[C:15]([H:37])[N:16]=[C:17]2[N:18]([c:19]2[c:20]([H:39])[nH+:21][c:22]([H:40])[c:23]([H:41])[c:24]2[N:25]2[C:26]([H:42])([H:43])[C@:30]([NH+:31]([H:51])[H:52])([H:50])[C:29]([H:48])([H:49])[C:28]([H:46])([H:47])[C:27]2([H:44])[H:45])[H:38])[C:11]([H:36])=[C:10]1[H:35]\n",
      "  warnings.warn(\n",
      "/Users/jenniferclark/mamba/envs/qca-clean-openff/lib/python3.11/site-packages/openff/qcsubmit/results/results.py:506: UserWarning: Skipping entry gnt-00284-9 with invalid CMILES [F:1][c:2]1[c:3]([H:32])[c:4]([H:33])[c:5]([H:34])[c:6]([F:7])[c:8]1[C:9]1=[N:12][N:13]2[C:14](=[C:15]([H:37])[N:16]=[C:17]2[N:18]([c:19]2[c:20]([H:39])[nH+:21][c:22]([H:40])[c:23]([H:41])[c:24]2[N:25]2[C:26]([H:42])([H:43])[C@:30]([NH+:31]([H:51])[H:52])([H:50])[C:29]([H:48])([H:49])[C:28]([H:46])([H:47])[C:27]2([H:44])[H:45])[H:38])[C:11]([H:36])=[C:10]1[H:35]\n",
      "  warnings.warn(\n",
      "Warning: Problem parsing SMILES:\n",
      "Warning: Inconsistent cis/trans bond stereo.\n",
      "Warning: [c:1]1([H:24])[c:2]([H:25])[c:5]([H:28])[c:12]2[c:11]([c:4]1[H:27])[c:7]([H:30])[c:8]([H:31])[c:15]1[c:13]2[C:10]([H:33])=[C:14](/[C:18](=[N:20]/[C:16]2=[C:6]([H:29])[C:3]([H:26])=[C:9]([H:32])[S:23]2)[O:21][H:35])/[C:17](=[N:19]/[H:34])[O:22]1\n",
      "Warning: Problem parsing SMILES:\n",
      "Warning: Inconsistent cis/trans bond stereo.\n",
      "Warning: [c:1]1([H:24])[c:2]([H:25])[c:5]([H:28])[c:12]2[c:11]([c:4]1[H:27])[c:7]([H:30])[c:8]([H:31])[c:15]1[c:13]2[C:10]([H:33])=[C:14](/[C:18](=[N:20]/[C:16]2=[C:6]([H:29])[C:3]([H:26])=[C:9]([H:32])[S:23]2)[O:21][H:35])/[C:17](=[N:19]/[H:34])[O:22]1\n",
      "Warning: Problem parsing SMILES:\n",
      "Warning: Inconsistent cis/trans bond stereo.\n",
      "Warning: [c:1]1([H:24])[c:2]([H:25])[c:5]([H:28])[c:12]2[c:11]([c:4]1[H:27])[c:7]([H:30])[c:8]([H:31])[c:15]1[c:13]2[C:10]([H:33])=[C:14](/[C:18](=[N:20]/[C:16]2=[C:6]([H:29])[C:3]([H:26])=[C:9]([H:32])[S:23]2)[O:21][H:35])/[C:17](=[N:19]/[H:34])[O:22]1\n",
      "Warning: Problem parsing SMILES:\n",
      "Warning: Inconsistent cis/trans bond stereo.\n",
      "Warning: [c:1]1([H:24])[c:2]([H:25])[c:5]([H:28])[c:12]2[c:11]([c:4]1[H:27])[c:7]([H:30])[c:8]([H:31])[c:15]1[c:13]2[C:10]([H:33])=[C:14](/[C:18](=[N:20]/[C:16]2=[C:6]([H:29])[C:3]([H:26])=[C:9]([H:32])[S:23]2)[O:21][H:35])/[C:17](=[N:19]/[H:34])[O:22]1\n",
      "Warning: Problem parsing SMILES:\n",
      "Warning: Inconsistent cis/trans bond stereo.\n",
      "Warning: [c:1]1([H:24])[c:2]([H:25])[c:5]([H:28])[c:12]2[c:11]([c:4]1[H:27])[c:7]([H:30])[c:8]([H:31])[c:15]1[c:13]2[C:10]([H:33])=[C:14](/[C:18](=[N:20]/[C:16]2=[C:6]([H:29])[C:3]([H:26])=[C:9]([H:32])[S:23]2)[O:21][H:35])/[C:17](=[N:19]/[H:34])[O:22]1\n",
      "Warning: Problem parsing SMILES:\n",
      "Warning: Inconsistent cis/trans bond stereo.\n",
      "Warning: [c:1]1([H:24])[c:2]([H:25])[c:5]([H:28])[c:12]2[c:11]([c:4]1[H:27])[c:7]([H:30])[c:8]([H:31])[c:15]1[c:13]2[C:10]([H:33])=[C:14](/[C:18](=[N:20]/[C:16]2=[C:6]([H:29])[C:3]([H:26])=[C:9]([H:32])[S:23]2)[O:21][H:35])/[C:17](=[N:19]/[H:34])[O:22]1\n",
      "Warning: Problem parsing SMILES:\n",
      "Warning: Inconsistent cis/trans bond stereo.\n",
      "Warning: [c:1]1([H:24])[c:2]([H:25])[c:5]([H:28])[c:12]2[c:11]([c:4]1[H:27])[c:7]([H:30])[c:8]([H:31])[c:15]1[c:13]2[C:10]([H:33])=[C:14](/[C:18](=[N:20]/[C:16]2=[C:6]([H:29])[C:3]([H:26])=[C:9]([H:32])[S:23]2)[O:21][H:35])/[C:17](=[N:19]/[H:34])[O:22]1\n"
     ]
    },
    {
     "name": "stdout",
     "output_type": "stream",
     "text": [
      "Number of records before filtering: 76666\n"
     ]
    }
   ],
   "source": [
    "ResultCollection = OptimizationResultCollection.from_server(\n",
    "    client=client,\n",
    "    datasets=[\"OpenFF Industry Benchmark Season 1 v1.1\"],\n",
    "    spec_name=\"default\",\n",
    ")\n",
    "print(f\"Number of records before filtering: {ResultCollection.n_results}\")"
   ]
  },
  {
   "cell_type": "code",
   "execution_count": 47,
   "id": "d01a4525",
   "metadata": {},
   "outputs": [
    {
     "name": "stderr",
     "output_type": "stream",
     "text": [
      "Warning: Problem parsing SMILES:\n",
      "Warning: Inconsistent cis/trans bond stereo.\n",
      "Warning: [c:1]1([H:24])[c:2]([H:25])[c:5]([H:28])[c:12]2[c:11]([c:4]1[H:27])[c:7]([H:30])[c:8]([H:31])[c:15]1[c:13]2[C:10]([H:33])=[C:14](/[C:18](=[N:20]/[C:16]2=[C:6]([H:29])[C:3]([H:26])=[C:9]([H:32])[S:23]2)[O:21][H:35])/[C:17](=[N:19]/[H:34])[O:22]1\n",
      "Warning: Problem parsing SMILES:\n",
      "Warning: Inconsistent cis/trans bond stereo.\n",
      "Warning: [c:1]1([H:24])[c:2]([H:25])[c:5]([H:28])[c:12]2[c:11]([c:4]1[H:27])[c:7]([H:30])[c:8]([H:31])[c:15]1[c:13]2[C:10]([H:33])=[C:14](/[C:18](=[N:20]/[C:16]2=[C:6]([H:29])[C:3]([H:26])=[C:9]([H:32])[S:23]2)[O:21][H:35])/[C:17](=[N:19]/[H:34])[O:22]1\n",
      "Warning: Problem parsing SMILES:\n",
      "Warning: Inconsistent cis/trans bond stereo.\n",
      "Warning: [c:1]1([H:24])[c:2]([H:25])[c:5]([H:28])[c:12]2[c:11]([c:4]1[H:27])[c:7]([H:30])[c:8]([H:31])[c:15]1[c:13]2[C:10]([H:33])=[C:14](/[C:18](=[N:20]/[C:16]2=[C:6]([H:29])[C:3]([H:26])=[C:9]([H:32])[S:23]2)[O:21][H:35])/[C:17](=[N:19]/[H:34])[O:22]1\n",
      "Warning: Problem parsing SMILES:\n",
      "Warning: Inconsistent cis/trans bond stereo.\n",
      "Warning: [c:1]1([H:24])[c:2]([H:25])[c:5]([H:28])[c:12]2[c:11]([c:4]1[H:27])[c:7]([H:30])[c:8]([H:31])[c:15]1[c:13]2[C:10]([H:33])=[C:14](/[C:18](=[N:20]/[C:16]2=[C:6]([H:29])[C:3]([H:26])=[C:9]([H:32])[S:23]2)[O:21][H:35])/[C:17](=[N:19]/[H:34])[O:22]1\n",
      "Warning: Problem parsing SMILES:\n",
      "Warning: Inconsistent cis/trans bond stereo.\n",
      "Warning: [c:1]1([H:24])[c:2]([H:25])[c:5]([H:28])[c:12]2[c:11]([c:4]1[H:27])[c:7]([H:30])[c:8]([H:31])[c:15]1[c:13]2[C:10]([H:33])=[C:14](/[C:18](=[N:20]/[C:16]2=[C:6]([H:29])[C:3]([H:26])=[C:9]([H:32])[S:23]2)[O:21][H:35])/[C:17](=[N:19]/[H:34])[O:22]1\n",
      "Warning: Problem parsing SMILES:\n",
      "Warning: Inconsistent cis/trans bond stereo.\n",
      "Warning: [c:1]1([H:24])[c:2]([H:25])[c:5]([H:28])[c:12]2[c:11]([c:4]1[H:27])[c:7]([H:30])[c:8]([H:31])[c:15]1[c:13]2[C:10]([H:33])=[C:14](/[C:18](=[N:20]/[C:16]2=[C:6]([H:29])[C:3]([H:26])=[C:9]([H:32])[S:23]2)[O:21][H:35])/[C:17](=[N:19]/[H:34])[O:22]1\n",
      "Warning: Problem parsing SMILES:\n",
      "Warning: Inconsistent cis/trans bond stereo.\n",
      "Warning: [c:1]1([H:24])[c:2]([H:25])[c:5]([H:28])[c:12]2[c:11]([c:4]1[H:27])[c:7]([H:30])[c:8]([H:31])[c:15]1[c:13]2[C:10]([H:33])=[C:14](/[C:18](=[N:20]/[C:16]2=[C:6]([H:29])[C:3]([H:26])=[C:9]([H:32])[S:23]2)[O:21][H:35])/[C:17](=[N:19]/[H:34])[O:22]1\n",
      "Warning: Problem parsing SMILES:\n",
      "Warning: Inconsistent cis/trans bond stereo.\n",
      "Warning: [c:1]1([H:24])[c:2]([H:25])[c:5]([H:28])[c:12]2[c:11]([c:4]1[H:27])[c:7]([H:30])[c:8]([H:31])[c:15]1[c:13]2[C:10]([H:33])=[C:14](/[C:18](=[N:20]/[C:16]2=[C:6]([H:29])[C:3]([H:26])=[C:9]([H:32])[S:23]2)[O:21][H:35])/[C:17](=[N:19]/[H:34])[O:22]1\n",
      "Warning: Problem parsing SMILES:\n",
      "Warning: Inconsistent cis/trans bond stereo.\n",
      "Warning: [c:1]1([H:24])[c:2]([H:25])[c:5]([H:28])[c:12]2[c:11]([c:4]1[H:27])[c:7]([H:30])[c:8]([H:31])[c:15]1[c:13]2[C:10]([H:33])=[C:14](/[C:18](=[N:20]/[C:16]2=[C:6]([H:29])[C:3]([H:26])=[C:9]([H:32])[S:23]2)[O:21][H:35])/[C:17](=[N:19]/[H:34])[O:22]1\n",
      "Warning: Problem parsing SMILES:\n",
      "Warning: Inconsistent cis/trans bond stereo.\n",
      "Warning: [c:1]1([H:24])[c:2]([H:25])[c:5]([H:28])[c:12]2[c:11]([c:4]1[H:27])[c:7]([H:30])[c:8]([H:31])[c:15]1[c:13]2[C:10]([H:33])=[C:14](/[C:18](=[N:20]/[C:16]2=[C:6]([H:29])[C:3]([H:26])=[C:9]([H:32])[S:23]2)[O:21][H:35])/[C:17](=[N:19]/[H:34])[O:22]1\n",
      "Warning: Problem parsing SMILES:\n",
      "Warning: Inconsistent cis/trans bond stereo.\n",
      "Warning: [c:1]1([H:24])[c:2]([H:25])[c:5]([H:28])[c:12]2[c:11]([c:4]1[H:27])[c:7]([H:30])[c:8]([H:31])[c:15]1[c:13]2[C:10]([H:33])=[C:14](/[C:18](=[N:20]/[C:16]2=[C:6]([H:29])[C:3]([H:26])=[C:9]([H:32])[S:23]2)[O:21][H:35])/[C:17](=[N:19]/[H:34])[O:22]1\n",
      "Warning: Problem parsing SMILES:\n",
      "Warning: Inconsistent cis/trans bond stereo.\n",
      "Warning: [c:1]1([H:24])[c:2]([H:25])[c:5]([H:28])[c:12]2[c:11]([c:4]1[H:27])[c:7]([H:30])[c:8]([H:31])[c:15]1[c:13]2[C:10]([H:33])=[C:14](/[C:18](=[N:20]/[C:16]2=[C:6]([H:29])[C:3]([H:26])=[C:9]([H:32])[S:23]2)[O:21][H:35])/[C:17](=[N:19]/[H:34])[O:22]1\n",
      "Warning: Problem parsing SMILES:\n",
      "Warning: Inconsistent cis/trans bond stereo.\n",
      "Warning: [c:1]1([H:24])[c:2]([H:25])[c:5]([H:28])[c:12]2[c:11]([c:4]1[H:27])[c:7]([H:30])[c:8]([H:31])[c:15]1[c:13]2[C:10]([H:33])=[C:14](/[C:18](=[N:20]/[C:16]2=[C:6]([H:29])[C:3]([H:26])=[C:9]([H:32])[S:23]2)[O:21][H:35])/[C:17](=[N:19]/[H:34])[O:22]1\n",
      "Warning: Problem parsing SMILES:\n",
      "Warning: Inconsistent cis/trans bond stereo.\n",
      "Warning: [c:1]1([H:24])[c:2]([H:25])[c:5]([H:28])[c:12]2[c:11]([c:4]1[H:27])[c:7]([H:30])[c:8]([H:31])[c:15]1[c:13]2[C:10]([H:33])=[C:14](/[C:18](=[N:20]/[C:16]2=[C:6]([H:29])[C:3]([H:26])=[C:9]([H:32])[S:23]2)[O:21][H:35])/[C:17](=[N:19]/[H:34])[O:22]1\n",
      "Warning: bond stereochemistry may be assigned incorrectly for molecule \n",
      "Warning: bond stereochemistry may be assigned incorrectly for molecule \n",
      "Warning: bond stereochemistry may be assigned incorrectly for molecule \n",
      "Warning: bond stereochemistry may be assigned incorrectly for molecule \n",
      "Warning: bond stereochemistry may be assigned incorrectly for molecule \n",
      "Warning: bond stereochemistry may be assigned incorrectly for molecule \n",
      "Warning: bond stereochemistry may be assigned incorrectly for molecule \n",
      "Warning: bond stereochemistry may be assigned incorrectly for molecule \n",
      "Warning: bond stereochemistry may be assigned incorrectly for molecule \n",
      "Warning: Problem parsing SMILES:\n",
      "Warning: Inconsistent cis/trans bond stereo.\n",
      "Warning: [c:1]1([H:24])[c:2]([H:25])[c:5]([H:28])[c:12]2[c:11]([c:4]1[H:27])[c:7]([H:30])[c:8]([H:31])[c:15]1[c:13]2[C:10]([H:33])=[C:14](/[C:18](=[N:20]/[C:16]2=[C:6]([H:29])[C:3]([H:26])=[C:9]([H:32])[S:23]2)[O:21][H:35])/[C:17](=[N:19]/[H:34])[O:22]1\n",
      "Warning: Problem parsing SMILES:\n",
      "Warning: Inconsistent cis/trans bond stereo.\n",
      "Warning: [c:1]1([H:24])[c:2]([H:25])[c:5]([H:28])[c:12]2[c:11]([c:4]1[H:27])[c:7]([H:30])[c:8]([H:31])[c:15]1[c:13]2[C:10]([H:33])=[C:14](/[C:18](=[N:20]/[C:16]2=[C:6]([H:29])[C:3]([H:26])=[C:9]([H:32])[S:23]2)[O:21][H:35])/[C:17](=[N:19]/[H:34])[O:22]1\n",
      "Warning: Problem parsing SMILES:\n",
      "Warning: Inconsistent cis/trans bond stereo.\n",
      "Warning: [c:1]1([H:24])[c:2]([H:25])[c:5]([H:28])[c:12]2[c:11]([c:4]1[H:27])[c:7]([H:30])[c:8]([H:31])[c:15]1[c:13]2[C:10]([H:33])=[C:14](/[C:18](=[N:20]/[C:16]2=[C:6]([H:29])[C:3]([H:26])=[C:9]([H:32])[S:23]2)[O:21][H:35])/[C:17](=[N:19]/[H:34])[O:22]1\n",
      "Warning: Problem parsing SMILES:\n",
      "Warning: Inconsistent cis/trans bond stereo.\n",
      "Warning: [c:1]1([H:24])[c:2]([H:25])[c:5]([H:28])[c:12]2[c:11]([c:4]1[H:27])[c:7]([H:30])[c:8]([H:31])[c:15]1[c:13]2[C:10]([H:33])=[C:14](/[C:18](=[N:20]/[C:16]2=[C:6]([H:29])[C:3]([H:26])=[C:9]([H:32])[S:23]2)[O:21][H:35])/[C:17](=[N:19]/[H:34])[O:22]1\n",
      "Warning: Problem parsing SMILES:\n",
      "Warning: Inconsistent cis/trans bond stereo.\n",
      "Warning: [c:1]1([H:24])[c:2]([H:25])[c:5]([H:28])[c:12]2[c:11]([c:4]1[H:27])[c:7]([H:30])[c:8]([H:31])[c:15]1[c:13]2[C:10]([H:33])=[C:14](/[C:18](=[N:20]/[C:16]2=[C:6]([H:29])[C:3]([H:26])=[C:9]([H:32])[S:23]2)[O:21][H:35])/[C:17](=[N:19]/[H:34])[O:22]1\n",
      "Warning: Problem parsing SMILES:\n",
      "Warning: Inconsistent cis/trans bond stereo.\n",
      "Warning: [c:1]1([H:24])[c:2]([H:25])[c:5]([H:28])[c:12]2[c:11]([c:4]1[H:27])[c:7]([H:30])[c:8]([H:31])[c:15]1[c:13]2[C:10]([H:33])=[C:14](/[C:18](=[N:20]/[C:16]2=[C:6]([H:29])[C:3]([H:26])=[C:9]([H:32])[S:23]2)[O:21][H:35])/[C:17](=[N:19]/[H:34])[O:22]1\n",
      "Warning: Problem parsing SMILES:\n",
      "Warning: Inconsistent cis/trans bond stereo.\n",
      "Warning: [c:1]1([H:24])[c:2]([H:25])[c:5]([H:28])[c:12]2[c:11]([c:4]1[H:27])[c:7]([H:30])[c:8]([H:31])[c:15]1[c:13]2[C:10]([H:33])=[C:14](/[C:18](=[N:20]/[C:16]2=[C:6]([H:29])[C:3]([H:26])=[C:9]([H:32])[S:23]2)[O:21][H:35])/[C:17](=[N:19]/[H:34])[O:22]1\n",
      "Warning: OE3DToAtomStereo is unable to perceive atom stereo from a flat geometry on atom 8 of molecule ''\n",
      "Warning: OE3DToAtomStereo had a problem during OEWriteMolecule when writing ''\n",
      "Warning: OE3DToAtomStereo is unable to perceive atom stereo from a flat geometry on atom 8 of molecule ''\n",
      "Warning: OE3DToAtomStereo is unable to perceive atom stereo from a flat geometry on atom 8 of molecule ''\n",
      "Warning: OE3DToAtomStereo had a problem during OEWriteMolecule when writing ''\n",
      "Warning: OE3DToAtomStereo is unable to perceive atom stereo from a flat geometry on atom 8 of molecule ''\n",
      "Warning: OE3DToAtomStereo is unable to perceive atom stereo from a flat geometry on atom 8 of molecule ''\n",
      "Warning: OE3DToAtomStereo had a problem during OEWriteMolecule when writing ''\n",
      "Warning: OE3DToAtomStereo is unable to perceive atom stereo from a flat geometry on atom 8 of molecule ''\n",
      "Warning: OE3DToAtomStereo is unable to perceive atom stereo from a flat geometry on atom 8 of molecule ''\n",
      "Warning: OE3DToAtomStereo had a problem during OEWriteMolecule when writing ''\n",
      "Warning: OE3DToAtomStereo is unable to perceive atom stereo from a flat geometry on atom 8 of molecule ''\n",
      "Warning: OE3DToAtomStereo is unable to perceive atom stereo from a flat geometry on atom 8 of molecule ''\n",
      "Warning: OE3DToAtomStereo had a problem during OEWriteMolecule when writing ''\n",
      "Warning: OE3DToAtomStereo is unable to perceive atom stereo from a flat geometry on atom 8 of molecule ''\n",
      "Warning: OE3DToAtomStereo is unable to perceive atom stereo from a flat geometry on atom 6 of molecule ''\n",
      "Warning: OE3DToAtomStereo had a problem during OEWriteMolecule when writing ''\n",
      "Warning: OE3DToAtomStereo is unable to perceive atom stereo from a flat geometry on atom 6 of molecule ''\n",
      "Warning: OE3DToAtomStereo is unable to perceive atom stereo from a flat geometry on atom 6 of molecule ''\n",
      "Warning: OE3DToAtomStereo had a problem during OEWriteMolecule when writing ''\n",
      "Warning: OE3DToAtomStereo is unable to perceive atom stereo from a flat geometry on atom 6 of molecule ''\n",
      "[10:38:02] Warning: molecule is tagged as 3D, but all Z coords are zero and 2D stereo markers have been found, marking the mol as 2D.\n",
      "[10:38:02] Warning: molecule is tagged as 3D, but all Z coords are zero and 2D stereo markers have been found, marking the mol as 2D.\n",
      "[10:38:33] Warning: molecule is tagged as 3D, but all Z coords are zero and 2D stereo markers have been found, marking the mol as 2D.\n"
     ]
    }
   ],
   "source": [
    "# 101 min\n",
    "ResultCollection = ResultCollection.filter(\n",
    "    RecordStatusFilter(status=RecordStatusEnum.complete),\n",
    "    ConnectivityFilter(tolerance=1.2),\n",
    "    UnperceivableStereoFilter(),\n",
    ")"
   ]
  },
  {
   "cell_type": "code",
   "execution_count": 48,
   "id": "7e02f637",
   "metadata": {},
   "outputs": [
    {
     "name": "stdout",
     "output_type": "stream",
     "text": [
      "Number of records before filtering: 74614\n"
     ]
    },
    {
     "name": "stderr",
     "output_type": "stream",
     "text": [
      "Warning: Problem parsing SMILES:\n",
      "Warning: Inconsistent cis/trans bond stereo.\n",
      "Warning: [c:1]1([H:24])[c:2]([H:25])[c:5]([H:28])[c:12]2[c:11]([c:4]1[H:27])[c:7]([H:30])[c:8]([H:31])[c:15]1[c:13]2[C:10]([H:33])=[C:14](/[C:18](=[N:20]/[C:16]2=[C:6]([H:29])[C:3]([H:26])=[C:9]([H:32])[S:23]2)[O:21][H:35])/[C:17](=[N:19]/[H:34])[O:22]1\n",
      "Warning: Problem parsing SMILES:\n",
      "Warning: Inconsistent cis/trans bond stereo.\n",
      "Warning: [c:1]1([H:24])[c:2]([H:25])[c:5]([H:28])[c:12]2[c:11]([c:4]1[H:27])[c:7]([H:30])[c:8]([H:31])[c:15]1[c:13]2[C:10]([H:33])=[C:14](/[C:18](=[N:20]/[C:16]2=[C:6]([H:29])[C:3]([H:26])=[C:9]([H:32])[S:23]2)[O:21][H:35])/[C:17](=[N:19]/[H:34])[O:22]1\n",
      "Warning: Problem parsing SMILES:\n",
      "Warning: Inconsistent cis/trans bond stereo.\n",
      "Warning: [c:1]1([H:24])[c:2]([H:25])[c:5]([H:28])[c:12]2[c:11]([c:4]1[H:27])[c:7]([H:30])[c:8]([H:31])[c:15]1[c:13]2[C:10]([H:33])=[C:14](/[C:18](=[N:20]/[C:16]2=[C:6]([H:29])[C:3]([H:26])=[C:9]([H:32])[S:23]2)[O:21][H:35])/[C:17](=[N:19]/[H:34])[O:22]1\n",
      "Warning: Problem parsing SMILES:\n",
      "Warning: Inconsistent cis/trans bond stereo.\n",
      "Warning: [c:1]1([H:24])[c:2]([H:25])[c:5]([H:28])[c:12]2[c:11]([c:4]1[H:27])[c:7]([H:30])[c:8]([H:31])[c:15]1[c:13]2[C:10]([H:33])=[C:14](/[C:18](=[N:20]/[C:16]2=[C:6]([H:29])[C:3]([H:26])=[C:9]([H:32])[S:23]2)[O:21][H:35])/[C:17](=[N:19]/[H:34])[O:22]1\n",
      "Warning: Problem parsing SMILES:\n",
      "Warning: Inconsistent cis/trans bond stereo.\n",
      "Warning: [c:1]1([H:24])[c:2]([H:25])[c:5]([H:28])[c:12]2[c:11]([c:4]1[H:27])[c:7]([H:30])[c:8]([H:31])[c:15]1[c:13]2[C:10]([H:33])=[C:14](/[C:18](=[N:20]/[C:16]2=[C:6]([H:29])[C:3]([H:26])=[C:9]([H:32])[S:23]2)[O:21][H:35])/[C:17](=[N:19]/[H:34])[O:22]1\n",
      "Warning: Problem parsing SMILES:\n",
      "Warning: Inconsistent cis/trans bond stereo.\n",
      "Warning: [c:1]1([H:24])[c:2]([H:25])[c:5]([H:28])[c:12]2[c:11]([c:4]1[H:27])[c:7]([H:30])[c:8]([H:31])[c:15]1[c:13]2[C:10]([H:33])=[C:14](/[C:18](=[N:20]/[C:16]2=[C:6]([H:29])[C:3]([H:26])=[C:9]([H:32])[S:23]2)[O:21][H:35])/[C:17](=[N:19]/[H:34])[O:22]1\n",
      "Warning: Problem parsing SMILES:\n",
      "Warning: Inconsistent cis/trans bond stereo.\n",
      "Warning: [c:1]1([H:24])[c:2]([H:25])[c:5]([H:28])[c:12]2[c:11]([c:4]1[H:27])[c:7]([H:30])[c:8]([H:31])[c:15]1[c:13]2[C:10]([H:33])=[C:14](/[C:18](=[N:20]/[C:16]2=[C:6]([H:29])[C:3]([H:26])=[C:9]([H:32])[S:23]2)[O:21][H:35])/[C:17](=[N:19]/[H:34])[O:22]1\n"
     ]
    }
   ],
   "source": [
    "# 12 min\n",
    "print(f\"Number of records before filtering: {ResultCollection.n_results}\")\n",
    "nrec = ResultCollection.n_results\n",
    "class RecordIDFilter(SinglepointRecordFilter):\n",
    "    \"\"\"A filter which will only retain records if their status matches a specified\n",
    "    value.\n",
    "    \"\"\"\n",
    "\n",
    "    record_list: list = Field(\n",
    "        [],\n",
    "        description=\"Records whose ID is NOT in this list will be retains\",\n",
    "    )\n",
    "\n",
    "    def _filter_function(\n",
    "        self, result: \"_BaseResult\", record: BaseRecord, molecule: Molecule\n",
    "    ) -> bool:\n",
    "        return record.id not in self.record_list\n",
    "\n",
    "ResultCollection = ResultCollection.filter(\n",
    "    RecordIDFilter(record_list=remove_record_ids),\n",
    ")"
   ]
  },
  {
   "cell_type": "code",
   "execution_count": 49,
   "id": "0d8f0a33",
   "metadata": {},
   "outputs": [
    {
     "name": "stdout",
     "output_type": "stream",
     "text": [
      "Number of records after filtering: 74585. 29 records were removed, equal to number expected: True\n"
     ]
    }
   ],
   "source": [
    "print(f\"Number of records after filtering: {ResultCollection.n_results}. {nrec-ResultCollection.n_results} records were removed, equal to number expected: {nrec-ResultCollection.n_results == len(remove_record_ids)}\")"
   ]
  },
  {
   "cell_type": "code",
   "execution_count": 70,
   "id": "a8565a6d",
   "metadata": {},
   "outputs": [
    {
     "name": "stderr",
     "output_type": "stream",
     "text": [
      "Warning: Problem parsing SMILES:\n",
      "Warning: Inconsistent cis/trans bond stereo.\n",
      "Warning: [c:1]1([H:24])[c:2]([H:25])[c:5]([H:28])[c:12]2[c:11]([c:4]1[H:27])[c:7]([H:30])[c:8]([H:31])[c:15]1[c:13]2[C:10]([H:33])=[C:14](/[C:18](=[N:20]/[C:16]2=[C:6]([H:29])[C:3]([H:26])=[C:9]([H:32])[S:23]2)[O:21][H:35])/[C:17](=[N:19]/[H:34])[O:22]1\n",
      "Warning: Problem parsing SMILES:\n",
      "Warning: Inconsistent cis/trans bond stereo.\n",
      "Warning: [c:1]1([H:24])[c:2]([H:25])[c:5]([H:28])[c:12]2[c:11]([c:4]1[H:27])[c:7]([H:30])[c:8]([H:31])[c:15]1[c:13]2[C:10]([H:33])=[C:14](/[C:18](=[N:20]/[C:16]2=[C:6]([H:29])[C:3]([H:26])=[C:9]([H:32])[S:23]2)[O:21][H:35])/[C:17](=[N:19]/[H:34])[O:22]1\n",
      "Warning: Problem parsing SMILES:\n",
      "Warning: Inconsistent cis/trans bond stereo.\n",
      "Warning: [c:1]1([H:24])[c:2]([H:25])[c:5]([H:28])[c:12]2[c:11]([c:4]1[H:27])[c:7]([H:30])[c:8]([H:31])[c:15]1[c:13]2[C:10]([H:33])=[C:14](/[C:18](=[N:20]/[C:16]2=[C:6]([H:29])[C:3]([H:26])=[C:9]([H:32])[S:23]2)[O:21][H:35])/[C:17](=[N:19]/[H:34])[O:22]1\n",
      "Warning: Problem parsing SMILES:\n",
      "Warning: Inconsistent cis/trans bond stereo.\n",
      "Warning: [c:1]1([H:24])[c:2]([H:25])[c:5]([H:28])[c:12]2[c:11]([c:4]1[H:27])[c:7]([H:30])[c:8]([H:31])[c:15]1[c:13]2[C:10]([H:33])=[C:14](/[C:18](=[N:20]/[C:16]2=[C:6]([H:29])[C:3]([H:26])=[C:9]([H:32])[S:23]2)[O:21][H:35])/[C:17](=[N:19]/[H:34])[O:22]1\n",
      "Warning: Problem parsing SMILES:\n",
      "Warning: Inconsistent cis/trans bond stereo.\n",
      "Warning: [c:1]1([H:24])[c:2]([H:25])[c:5]([H:28])[c:12]2[c:11]([c:4]1[H:27])[c:7]([H:30])[c:8]([H:31])[c:15]1[c:13]2[C:10]([H:33])=[C:14](/[C:18](=[N:20]/[C:16]2=[C:6]([H:29])[C:3]([H:26])=[C:9]([H:32])[S:23]2)[O:21][H:35])/[C:17](=[N:19]/[H:34])[O:22]1\n",
      "Warning: Problem parsing SMILES:\n",
      "Warning: Inconsistent cis/trans bond stereo.\n",
      "Warning: [c:1]1([H:24])[c:2]([H:25])[c:5]([H:28])[c:12]2[c:11]([c:4]1[H:27])[c:7]([H:30])[c:8]([H:31])[c:15]1[c:13]2[C:10]([H:33])=[C:14](/[C:18](=[N:20]/[C:16]2=[C:6]([H:29])[C:3]([H:26])=[C:9]([H:32])[S:23]2)[O:21][H:35])/[C:17](=[N:19]/[H:34])[O:22]1\n",
      "Warning: Problem parsing SMILES:\n",
      "Warning: Inconsistent cis/trans bond stereo.\n",
      "Warning: [c:1]1([H:24])[c:2]([H:25])[c:5]([H:28])[c:12]2[c:11]([c:4]1[H:27])[c:7]([H:30])[c:8]([H:31])[c:15]1[c:13]2[C:10]([H:33])=[C:14](/[C:18](=[N:20]/[C:16]2=[C:6]([H:29])[C:3]([H:26])=[C:9]([H:32])[S:23]2)[O:21][H:35])/[C:17](=[N:19]/[H:34])[O:22]1\n"
     ]
    },
    {
     "name": "stdout",
     "output_type": "stream",
     "text": [
      "There are 74585 records (conformers) and 9835 unique SMILES strings (unique molecules)\n"
     ]
    }
   ],
   "source": [
    "record_ids = [rec.id for rec, _ in ResultCollection.to_records()]\n",
    "\n",
    "ds_old = client.get_dataset(\"optimization\", \"OpenFF Industry Benchmark Season 1 v1.1\")\n",
    "\n",
    "cmiles_count = defaultdict(Counter)\n",
    "molecules, rec_all_info = [], []\n",
    "records = []\n",
    "for entry_name, spec_name, record in ds_old.iterate_records():\n",
    "    records.append(records)\n",
    "    if record.id not in record_ids:\n",
    "        continue\n",
    "    rec_all_info.append([entry_name, spec_name, record.id])\n",
    "    cmiles = record.initial_molecule.extras[\"canonical_isomeric_explicit_hydrogen_mapped_smiles\"]\n",
    "\n",
    "    if cmiles not in cmiles_count:\n",
    "        molecules.append(record.initial_molecule)\n",
    "    hash = record.initial_molecule.get_hash()\n",
    "    cmiles_count[cmiles][hash] += 1\n",
    "\n",
    "print(f\"There are {len(rec_all_info)} records (conformers) and {len(cmiles_count)} unique SMILES strings (unique molecules)\")"
   ]
  },
  {
   "cell_type": "code",
   "execution_count": 72,
   "id": "569de6ac",
   "metadata": {},
   "outputs": [
    {
     "name": "stdout",
     "output_type": "stream",
     "text": [
      "Old Dataset ID: 319\n"
     ]
    }
   ],
   "source": [
    "open(\"final_record_info.txt\", \"w\").write(\"\\n\".join([\"{}, {}, {}\".format(*x) for x in rec_all_info]))\n",
    "print(f\"Old Dataset ID: {ds_old.id}\")"
   ]
  },
  {
   "cell_type": "markdown",
   "id": "6b645dc2",
   "metadata": {},
   "source": [
    "### Get Dataset Statistics"
   ]
  },
  {
   "cell_type": "code",
   "execution_count": 73,
   "id": "0be1c640",
   "metadata": {},
   "outputs": [
    {
     "name": "stdout",
     "output_type": "stream",
     "text": [
      "Generating Molecular Statistics\n"
     ]
    }
   ],
   "source": [
    "print(\"Generating Molecular Statistics\")\n",
    "\n",
    "lx = len(cmiles_count)\n",
    "n_confs, n_heavy_atoms, masses, unique_charges = np.zeros(lx), [], np.zeros(lx), np.zeros(lx)\n",
    "elements = []\n",
    "for i, (cmiles, hashes) in enumerate(cmiles_count.items()):\n",
    "    n_confs[i] = len(hashes)\n",
    "    n_heavy_atoms.append(len([x for x in molecules[i].symbols if x != \"H\"]))\n",
    "    elements.extend(list(set([x for x in molecules[i].symbols])))\n",
    "    masses[i] = sum([getattr(periodictable, x).mass for x in molecules[i].symbols])\n",
    "    unique_charges[i] = molecules[i].molecular_charge\n",
    "    \n",
    "unique_charges = sorted(set(unique_charges))\n",
    "\n",
    "elements = sorted(list(set(elements)))"
   ]
  },
  {
   "cell_type": "code",
   "execution_count": 74,
   "id": "cf729312",
   "metadata": {},
   "outputs": [
    {
     "name": "stdout",
     "output_type": "stream",
     "text": [
      "\n",
      "# Heavy Atom Counts\n",
      "  1: 1\n",
      "  2: 4\n",
      "  3: 8\n",
      "  4: 25\n",
      "  5: 36\n",
      "  6: 27\n",
      "  7: 19\n",
      "  8: 37\n",
      "  9: 30\n",
      " 10: 43\n",
      " 11: 39\n",
      " 12: 59\n",
      " 13: 76\n",
      " 14: 84\n",
      " 15: 109\n",
      " 16: 146\n",
      " 17: 189\n",
      " 18: 239\n",
      " 19: 353\n",
      " 20: 445\n",
      " 21: 605\n",
      " 22: 737\n",
      " 23: 793\n",
      " 24: 670\n",
      " 25: 576\n",
      " 26: 605\n",
      " 27: 598\n",
      " 28: 564\n",
      " 29: 521\n",
      " 30: 538\n",
      " 31: 475\n",
      " 32: 393\n",
      " 33: 317\n",
      " 34: 260\n",
      " 35: 85\n",
      " 36: 29\n",
      " 37: 21\n",
      " 38: 21\n",
      " 39: 16\n",
      " 40: 10\n",
      " 41: 7\n",
      " 42: 6\n",
      " 43: 3\n",
      " 44: 3\n",
      " 45: 1\n",
      " 46: 1\n",
      " 48: 1\n",
      " 50: 2\n",
      " 52: 1\n",
      " 53: 2\n",
      " 56: 1\n",
      " 61: 1\n",
      " 68: 1\n",
      " 76: 1\n",
      " 82: 1\n",
      "* Number of unique molecules: 9835\n",
      "* Number of conformers: 74585\n",
      "* Number of conformers (min, mean, max): 1.00, 7.58, 10.00\n",
      "* Molecular weight (min, mean, max): 16.04, 348.58, 1105.15\n",
      "* Charges: -2.0, -1.0, 0.0, 1.0, 2.0\n"
     ]
    }
   ],
   "source": [
    "# _________ Write Output Part 1 (Run Before Approval) ____________\n",
    "\n",
    "print(\"\\n# Heavy Atom Counts\")\n",
    "counts1 = Counter(n_heavy_atoms)\n",
    "for n_heavy in sorted(counts1):\n",
    "    print(f\"{str(n_heavy):>3}: {counts1[n_heavy]}\")\n",
    "\n",
    "print(\"* Number of unique molecules: {}\".format(len(cmiles_count)))\n",
    "print(\"* Number of conformers:\", int(sum(n_confs)))\n",
    "print(\n",
    "    \"* Number of conformers (min, mean, max): {:.2f}, {:.2f}, {:.2f}\".format(\n",
    "        min(n_confs), np.mean(n_confs), max(n_confs)\n",
    "    )\n",
    ")\n",
    "print(\n",
    "    \"* Molecular weight (min, mean, max): {:.2f}, {:.2f}, {:.2f}\".format(\n",
    "        min(masses), np.mean(masses), max(masses)\n",
    "    )\n",
    ")\n",
    "print(\"* Charges: {}\".format(\", \".join([str(x) for x in unique_charges])))"
   ]
  },
  {
   "cell_type": "code",
   "execution_count": 56,
   "id": "662c6739",
   "metadata": {},
   "outputs": [
    {
     "name": "stdout",
     "output_type": "stream",
     "text": [
      "Old Dataset ID: 319\n"
     ]
    },
    {
     "ename": "SystemExit",
     "evalue": "If PR is not Approved, Stop Here and Switch to Snowflake Server",
     "output_type": "error",
     "traceback": [
      "An exception has occurred, use %tb to see the full traceback.\n",
      "\u001b[31mSystemExit\u001b[39m\u001b[31m:\u001b[39m If PR is not Approved, Stop Here and Switch to Snowflake Server\n"
     ]
    },
    {
     "name": "stderr",
     "output_type": "stream",
     "text": [
      "/Users/jenniferclark/mamba/envs/qca-clean-openff/lib/python3.11/site-packages/IPython/core/interactiveshell.py:3680: UserWarning: To exit: use 'exit', 'quit', or Ctrl-D.\n",
      "  warn(\"To exit: use 'exit', 'quit', or Ctrl-D.\", stacklevel=1)\n"
     ]
    }
   ],
   "source": [
    "sys.exit(\"If PR is not Approved, Stop Here and Switch to Snowflake Server\")"
   ]
  },
  {
   "cell_type": "markdown",
   "id": "e1471650",
   "metadata": {},
   "source": [
    "# 2. New Dataset\n",
    "### Get Record IDs for New Dataset"
   ]
  },
  {
   "cell_type": "code",
   "execution_count": 76,
   "id": "85c860b9",
   "metadata": {},
   "outputs": [
    {
     "name": "stdout",
     "output_type": "stream",
     "text": [
      "Getting records\n"
     ]
    }
   ],
   "source": [
    "print(\"Getting records\")\n",
    "\n",
    "rec_all_info = []\n",
    "with open(\"final_record_info.txt\", \"r\") as f:\n",
    "    for line in f:\n",
    "        tmp = line.split(\",\")\n",
    "        rec_all_info.append([tmp[0], tmp[1], int(tmp[2])])\n",
    "\n",
    "entry_names, spec_names = [], set()\n",
    "for entry_name, spec_name, rec_id in rec_all_info:\n",
    "    spec_names.add(spec_name)\n",
    "    entry_names.append(entry_name)"
   ]
  },
  {
   "cell_type": "markdown",
   "id": "f88848ff",
   "metadata": {},
   "source": [
    "### Initiate Dataset and Copy Records"
   ]
  },
  {
   "cell_type": "code",
   "execution_count": 88,
   "id": "529e82b2",
   "metadata": {},
   "outputs": [
    {
     "name": "stdout",
     "output_type": "stream",
     "text": [
      "Initializing new dataset\n"
     ]
    }
   ],
   "source": [
    "\n",
    "# _________ Initialize New Dataset ____________\n",
    "print(\"Initializing new dataset\")\n",
    "with open(\"ds_info.json\") as f:\n",
    "    dataset_information = json.load(f)\n",
    "\n",
    "dataset = client.add_dataset(\n",
    "    ds_old.dataset_type,\n",
    "    dataset_information[\"dataset_name\"],\n",
    "    tagline=dataset_information[\"dataset_tagline\"],\n",
    "    description=dataset_information[\"description\"],\n",
    "    provenance=ds_old.provenance,\n",
    "    default_tag=\"openff\",\n",
    "    owner_user=\"openffbot\",\n",
    "    tags=[\"openff\"],\n",
    "    extras={\n",
    "        \"submitter\": dataset_information[\"metadata.submitter\"],\n",
    "        \"creation_date\": str(datetime.date.today()),\n",
    "        'collection_type': 'OptimizationDataset',\n",
    "        'long_description_url': dataset_information[\"metadata.long_description_url\"],\n",
    "        \"short description\": dataset_information[\"dataset_tagline\"],\n",
    "        \"dataset_name\": dataset_information[\"dataset_name\"],\n",
    "        \"elements\": elements,\n",
    "    },\n",
    ")\n"
   ]
  },
  {
   "cell_type": "code",
   "execution_count": null,
   "id": "bb2b5f2f",
   "metadata": {},
   "outputs": [],
   "source": [
    "# Run after approval\n",
    "\n",
    "dataset.copy_records_from(ds_old.id, entry_names=entry_names, specification_names=spec_names)"
   ]
  },
  {
   "cell_type": "code",
   "execution_count": null,
   "id": "ec9191a7",
   "metadata": {},
   "outputs": [],
   "source": [
    "# Run after approval\n",
    "\n",
    "new_record_ids = [rec.id for _, _, rec in dataset.iterate_records()]\n",
    "set(new_record_ids) == set([rec.id for rec in records])"
   ]
  },
  {
   "cell_type": "markdown",
   "id": "1573b4df",
   "metadata": {},
   "source": [
    "### Write Output: Part 2"
   ]
  },
  {
   "cell_type": "code",
   "execution_count": null,
   "id": "0dfa7ff5",
   "metadata": {},
   "outputs": [
    {
     "name": "stderr",
     "output_type": "stream",
     "text": [
      "Warning: Problem parsing SMILES:\n",
      "Warning: Inconsistent cis/trans bond stereo.\n",
      "Warning: [H:24][c:1]1[c:2]([c:5]([c:12]2[c:11]([c:4]1[H:27])[c:7]([c:8]([c:15]3[c:13]2[C:10](=[C:14](/[C:17](=[N:19]/[H:34])/[O:22]3)/[C:18](=[N:20]/[C:16]4=[C:6]([C:3](=[C:9]([S:23]4)[H:32])[H:26])[H:29])/[O:21][H:35])[H:33])[H:31])[H:30])[H:28])[H:25]\n",
      "Warning: Problem parsing SMILES:\n",
      "Warning: Inconsistent cis/trans bond stereo.\n",
      "Warning: [H:24][c:1]1[c:2]([c:5]([c:12]2[c:11]([c:4]1[H:27])[c:7]([c:8]([c:15]3[c:13]2[C:10](=[C:14](/[C:17](=[N:19]/[H:34])/[O:22]3)/[C:18](=[N:20]/[C:16]4=[C:6]([C:3](=[C:9]([S:23]4)[H:32])[H:26])[H:29])/[O:21][H:35])[H:33])[H:31])[H:30])[H:28])[H:25]\n",
      "Warning: Problem parsing SMILES:\n",
      "Warning: Inconsistent cis/trans bond stereo.\n",
      "Warning: [H:24][c:1]1[c:2]([c:5]([c:12]2[c:11]([c:4]1[H:27])[c:7]([c:8]([c:15]3[c:13]2[C:10](=[C:14](/[C:17](=[N:19]/[H:34])/[O:22]3)/[C:18](=[N:20]/[C:16]4=[C:6]([C:3](=[C:9]([S:23]4)[H:32])[H:26])[H:29])/[O:21][H:35])[H:33])[H:31])[H:30])[H:28])[H:25]\n",
      "Warning: Problem parsing SMILES:\n",
      "Warning: Inconsistent cis/trans bond stereo.\n",
      "Warning: [H:24][c:1]1[c:2]([c:5]([c:12]2[c:11]([c:4]1[H:27])[c:7]([c:8]([c:15]3[c:13]2[C:10](=[C:14](/[C:17](=[N:19]/[H:34])/[O:22]3)/[C:18](=[N:20]/[C:16]4=[C:6]([C:3](=[C:9]([S:23]4)[H:32])[H:26])[H:29])/[O:21][H:35])[H:33])[H:31])[H:30])[H:28])[H:25]\n",
      "Warning: Problem parsing SMILES:\n",
      "Warning: Inconsistent cis/trans bond stereo.\n",
      "Warning: [H:24][c:1]1[c:2]([c:5]([c:12]2[c:11]([c:4]1[H:27])[c:7]([c:8]([c:15]3[c:13]2[C:10](=[C:14](/[C:17](=[N:19]/[H:34])/[O:22]3)/[C:18](=[N:20]/[C:16]4=[C:6]([C:3](=[C:9]([S:23]4)[H:32])[H:26])[H:29])/[O:21][H:35])[H:33])[H:31])[H:30])[H:28])[H:25]\n",
      "Warning: Problem parsing SMILES:\n",
      "Warning: Inconsistent cis/trans bond stereo.\n",
      "Warning: [H:24][c:1]1[c:2]([c:5]([c:12]2[c:11]([c:4]1[H:27])[c:7]([c:8]([c:15]3[c:13]2[C:10](=[C:14](/[C:17](=[N:19]/[H:34])/[O:22]3)/[C:18](=[N:20]/[C:16]4=[C:6]([C:3](=[C:9]([S:23]4)[H:32])[H:26])[H:29])/[O:21][H:35])[H:33])[H:31])[H:30])[H:28])[H:25]\n",
      "Warning: Problem parsing SMILES:\n",
      "Warning: Inconsistent cis/trans bond stereo.\n",
      "Warning: [H:24][c:1]1[c:2]([c:5]([c:12]2[c:11]([c:4]1[H:27])[c:7]([c:8]([c:15]3[c:13]2[C:10](=[C:14](/[C:17](=[N:19]/[H:34])/[O:22]3)/[C:18](=[N:20]/[C:16]4=[C:6]([C:3](=[C:9]([S:23]4)[H:32])[H:26])[H:29])/[O:21][H:35])[H:33])[H:31])[H:30])[H:28])[H:25]\n",
      "Warning: Problem parsing SMILES:\n",
      "Warning: Inconsistent cis/trans bond stereo.\n",
      "Warning: [H:24][c:1]1[c:2]([c:5]([c:12]2[c:11]([c:4]1[H:27])[c:7]([c:8]([c:15]3[c:13]2[C:10](=[C:14](/[C:17](=[N:19]/[H:34])/[O:22]3)/[C:18](=[N:20]/[C:16]4=[C:6]([C:3](=[C:9]([S:23]4)[H:32])[H:26])[H:29])/[O:21][H:35])[H:33])[H:31])[H:30])[H:28])[H:25]\n",
      "Warning: Problem parsing SMILES:\n",
      "Warning: Inconsistent cis/trans bond stereo.\n",
      "Warning: [H:24][c:1]1[c:2]([c:5]([c:12]2[c:11]([c:4]1[H:27])[c:7]([c:8]([c:15]3[c:13]2[C:10](=[C:14](/[C:17](=[N:19]/[H:34])/[O:22]3)/[C:18](=[N:20]/[C:16]4=[C:6]([C:3](=[C:9]([S:23]4)[H:32])[H:26])[H:29])/[O:21][H:35])[H:33])[H:31])[H:30])[H:28])[H:25]\n",
      "Warning: Problem parsing SMILES:\n",
      "Warning: Inconsistent cis/trans bond stereo.\n",
      "Warning: [H:24][c:1]1[c:2]([c:5]([c:12]2[c:11]([c:4]1[H:27])[c:7]([c:8]([c:15]3[c:13]2[C:10](=[C:14](/[C:17](=[N:19]/[H:34])/[O:22]3)/[C:18](=[N:20]/[C:16]4=[C:6]([C:3](=[C:9]([S:23]4)[H:32])[H:26])[H:29])/[O:21][H:35])[H:33])[H:31])[H:30])[H:28])[H:25]\n",
      "Warning: Problem parsing SMILES:\n",
      "Warning: Inconsistent cis/trans bond stereo.\n",
      "Warning: [H:24][c:1]1[c:2]([c:5]([c:12]2[c:11]([c:4]1[H:27])[c:7]([c:8]([c:15]3[c:13]2[C:10](=[C:14](/[C:17](=[N:19]/[H:34])/[O:22]3)/[C:18](=[N:20]/[C:16]4=[C:6]([C:3](=[C:9]([S:23]4)[H:32])[H:26])[H:29])/[O:21][H:35])[H:33])[H:31])[H:30])[H:28])[H:25]\n",
      "Warning: Problem parsing SMILES:\n",
      "Warning: Inconsistent cis/trans bond stereo.\n",
      "Warning: [H:24][c:1]1[c:2]([c:5]([c:12]2[c:11]([c:4]1[H:27])[c:7]([c:8]([c:15]3[c:13]2[C:10](=[C:14](/[C:17](=[N:19]/[H:34])/[O:22]3)/[C:18](=[N:20]/[C:16]4=[C:6]([C:3](=[C:9]([S:23]4)[H:32])[H:26])[H:29])/[O:21][H:35])[H:33])[H:31])[H:30])[H:28])[H:25]\n",
      "Warning: Problem parsing SMILES:\n",
      "Warning: Inconsistent cis/trans bond stereo.\n",
      "Warning: [H:24][c:1]1[c:2]([c:5]([c:12]2[c:11]([c:4]1[H:27])[c:7]([c:8]([c:15]3[c:13]2[C:10](=[C:14](/[C:17](=[N:19]/[H:34])/[O:22]3)/[C:18](=[N:20]/[C:16]4=[C:6]([C:3](=[C:9]([S:23]4)[H:32])[H:26])[H:29])/[O:21][H:35])[H:33])[H:31])[H:30])[H:28])[H:25]\n",
      "Warning: Problem parsing SMILES:\n",
      "Warning: Inconsistent cis/trans bond stereo.\n",
      "Warning: [H:24][c:1]1[c:2]([c:5]([c:12]2[c:11]([c:4]1[H:27])[c:7]([c:8]([c:15]3[c:13]2[C:10](=[C:14](/[C:17](=[N:19]/[H:34])/[O:22]3)/[C:18](=[N:20]/[C:16]4=[C:6]([C:3](=[C:9]([S:23]4)[H:32])[H:26])[H:29])/[O:21][H:35])[H:33])[H:31])[H:30])[H:28])[H:25]\n",
      "Warning: Problem parsing SMILES:\n",
      "Warning: Inconsistent cis/trans bond stereo.\n",
      "Warning: [H:24][c:1]1[c:2]([c:5]([c:12]2[c:11]([c:4]1[H:27])[c:7]([c:8]([c:15]3[c:13]2[C:10](=[C:14](/[C:17](=[N:19]/[H:34])/[O:22]3)/[C:18](=[N:20]/[C:16]4=[C:6]([C:3](=[C:9]([S:23]4)[H:32])[H:26])[H:29])/[O:21][H:35])[H:33])[H:31])[H:30])[H:28])[H:25]\n",
      "Warning: Problem parsing SMILES:\n",
      "Warning: Inconsistent cis/trans bond stereo.\n",
      "Warning: [H:24][c:1]1[c:2]([c:5]([c:12]2[c:11]([c:4]1[H:27])[c:7]([c:8]([c:15]3[c:13]2[C:10](=[C:14](/[C:17](=[N:19]/[H:34])/[O:22]3)/[C:18](=[N:20]/[C:16]4=[C:6]([C:3](=[C:9]([S:23]4)[H:32])[H:26])[H:29])/[O:21][H:35])[H:33])[H:31])[H:30])[H:28])[H:25]\n",
      "Warning: Problem parsing SMILES:\n",
      "Warning: Inconsistent cis/trans bond stereo.\n",
      "Warning: [H:24][c:1]1[c:2]([c:5]([c:12]2[c:11]([c:4]1[H:27])[c:7]([c:8]([c:15]3[c:13]2[C:10](=[C:14](/[C:17](=[N:19]/[H:34])/[O:22]3)/[C:18](=[N:20]/[C:16]4=[C:6]([C:3](=[C:9]([S:23]4)[H:32])[H:26])[H:29])/[O:21][H:35])[H:33])[H:31])[H:30])[H:28])[H:25]\n",
      "Warning: Problem parsing SMILES:\n",
      "Warning: Inconsistent cis/trans bond stereo.\n",
      "Warning: [H:24][c:1]1[c:2]([c:5]([c:12]2[c:11]([c:4]1[H:27])[c:7]([c:8]([c:15]3[c:13]2[C:10](=[C:14](/[C:17](=[N:19]/[H:34])/[O:22]3)/[C:18](=[N:20]/[C:16]4=[C:6]([C:3](=[C:9]([S:23]4)[H:32])[H:26])[H:29])/[O:21][H:35])[H:33])[H:31])[H:30])[H:28])[H:25]\n",
      "Warning: Problem parsing SMILES:\n",
      "Warning: Inconsistent cis/trans bond stereo.\n",
      "Warning: [H:24][c:1]1[c:2]([c:5]([c:12]2[c:11]([c:4]1[H:27])[c:7]([c:8]([c:15]3[c:13]2[C:10](=[C:14](/[C:17](=[N:19]/[H:34])/[O:22]3)/[C:18](=[N:20]/[C:16]4=[C:6]([C:3](=[C:9]([S:23]4)[H:32])[H:26])[H:29])/[O:21][H:35])[H:33])[H:31])[H:30])[H:28])[H:25]\n",
      "Warning: Problem parsing SMILES:\n",
      "Warning: Inconsistent cis/trans bond stereo.\n",
      "Warning: [H:24][c:1]1[c:2]([c:5]([c:12]2[c:11]([c:4]1[H:27])[c:7]([c:8]([c:15]3[c:13]2[C:10](=[C:14](/[C:17](=[N:19]/[H:34])/[O:22]3)/[C:18](=[N:20]/[C:16]4=[C:6]([C:3](=[C:9]([S:23]4)[H:32])[H:26])[H:29])/[O:21][H:35])[H:33])[H:31])[H:30])[H:28])[H:25]\n",
      "Warning: Problem parsing SMILES:\n",
      "Warning: Inconsistent cis/trans bond stereo.\n",
      "Warning: [H:24][c:1]1[c:2]([c:5]([c:12]2[c:11]([c:4]1[H:27])[c:7]([c:8]([c:15]3[c:13]2[C:10](=[C:14](/[C:17](=[N:19]/[H:34])/[O:22]3)/[C:18](=[N:20]/[C:16]4=[C:6]([C:3](=[C:9]([S:23]4)[H:32])[H:26])[H:29])/[O:21][H:35])[H:33])[H:31])[H:30])[H:28])[H:25]\n",
      "Warning: Problem parsing SMILES:\n",
      "Warning: Inconsistent cis/trans bond stereo.\n",
      "Warning: [H:24][c:1]1[c:2]([c:5]([c:12]2[c:11]([c:4]1[H:27])[c:7]([c:8]([c:15]3[c:13]2[C:10](=[C:14](/[C:17](=[N:19]/[H:34])/[O:22]3)/[C:18](=[N:20]/[C:16]4=[C:6]([C:3](=[C:9]([S:23]4)[H:32])[H:26])[H:29])/[O:21][H:35])[H:33])[H:31])[H:30])[H:28])[H:25]\n",
      "Warning: Problem parsing SMILES:\n",
      "Warning: Inconsistent cis/trans bond stereo.\n",
      "Warning: [H:24][c:1]1[c:2]([c:5]([c:12]2[c:11]([c:4]1[H:27])[c:7]([c:8]([c:15]3[c:13]2[C:10](=[C:14](/[C:17](=[N:19]/[H:34])/[O:22]3)/[C:18](=[N:20]/[C:16]4=[C:6]([C:3](=[C:9]([S:23]4)[H:32])[H:26])[H:29])/[O:21][H:35])[H:33])[H:31])[H:30])[H:28])[H:25]\n",
      "Warning: Problem parsing SMILES:\n",
      "Warning: Inconsistent cis/trans bond stereo.\n",
      "Warning: [H:24][c:1]1[c:2]([c:5]([c:12]2[c:11]([c:4]1[H:27])[c:7]([c:8]([c:15]3[c:13]2[C:10](=[C:14](/[C:17](=[N:19]/[H:34])/[O:22]3)/[C:18](=[N:20]/[C:16]4=[C:6]([C:3](=[C:9]([S:23]4)[H:32])[H:26])[H:29])/[O:21][H:35])[H:33])[H:31])[H:30])[H:28])[H:25]\n",
      "Warning: Problem parsing SMILES:\n",
      "Warning: Inconsistent cis/trans bond stereo.\n",
      "Warning: [H:24][c:1]1[c:2]([c:5]([c:12]2[c:11]([c:4]1[H:27])[c:7]([c:8]([c:15]3[c:13]2[C:10](=[C:14](/[C:17](=[N:19]/[H:34])/[O:22]3)/[C:18](=[N:20]/[C:16]4=[C:6]([C:3](=[C:9]([S:23]4)[H:32])[H:26])[H:29])/[O:21][H:35])[H:33])[H:31])[H:30])[H:28])[H:25]\n",
      "Warning: Problem parsing SMILES:\n",
      "Warning: Inconsistent cis/trans bond stereo.\n",
      "Warning: [H:24][c:1]1[c:2]([c:5]([c:12]2[c:11]([c:4]1[H:27])[c:7]([c:8]([c:15]3[c:13]2[C:10](=[C:14](/[C:17](=[N:19]/[H:34])/[O:22]3)/[C:18](=[N:20]/[C:16]4=[C:6]([C:3](=[C:9]([S:23]4)[H:32])[H:26])[H:29])/[O:21][H:35])[H:33])[H:31])[H:30])[H:28])[H:25]\n",
      "Warning: Problem parsing SMILES:\n",
      "Warning: Inconsistent cis/trans bond stereo.\n",
      "Warning: [H:24][c:1]1[c:2]([c:5]([c:12]2[c:11]([c:4]1[H:27])[c:7]([c:8]([c:15]3[c:13]2[C:10](=[C:14](/[C:17](=[N:19]/[H:34])/[O:22]3)/[C:18](=[N:20]/[C:16]4=[C:6]([C:3](=[C:9]([S:23]4)[H:32])[H:26])[H:29])/[O:21][H:35])[H:33])[H:31])[H:30])[H:28])[H:25]\n",
      "Warning: Problem parsing SMILES:\n",
      "Warning: Inconsistent cis/trans bond stereo.\n",
      "Warning: [H:24][c:1]1[c:2]([c:5]([c:12]2[c:11]([c:4]1[H:27])[c:7]([c:8]([c:15]3[c:13]2[C:10](=[C:14](/[C:17](=[N:19]/[H:34])/[O:22]3)/[C:18](=[N:20]/[C:16]4=[C:6]([C:3](=[C:9]([S:23]4)[H:32])[H:26])[H:29])/[O:21][H:35])[H:33])[H:31])[H:30])[H:28])[H:25]\n"
     ]
    }
   ],
   "source": [
    "elements = set(\n",
    "    sym\n",
    "    for entry in dataset.iterate_entries()\n",
    "    for sym in entry.initial_molecule.symbols\n",
    ")\n",
    "\n",
    "print(\"\\n\\n# Output for README Part 2\\n\")\n",
    "print(\"* Description: {}\".format(dataset.description))\n",
    "print(\"* Purpose: {}\".format(dataset.tagline))\n",
    "print(\"* Name: {}\".format(dataset.name))\n",
    "print(\"* Submitter: {}\\n\".format(dataset.extras[\"submitter\"]))\n",
    "\n",
    "print(\"\\n## Metadata\")\n",
    "print(f\"* Elements: {{{', '.join(elements)}}}\")\n",
    "\n",
    "for spec, obj in dataset.specifications.items():\n",
    "    od = obj.dict()['specification']\n",
    "    print(\"* Program:\", od[\"program\"])\n",
    "    od = od[\"qc_specification\"]\n",
    "    print(\"* QC Specifications:\", spec)\n",
    "    for field, value in od.items():\n",
    "        print(f\"  * {field}: {od[field]}\")\n",
    "    print(\"  * SCF Properties:\")\n",
    "    for field in od[\"keywords\"][\"scf_properties\"]:\n",
    "        print(f\"    * {field}\")"
   ]
  },
  {
   "cell_type": "code",
   "execution_count": 89,
   "id": "a649ff7f",
   "metadata": {},
   "outputs": [],
   "source": [
    "scaffold.to_json(dataset, filename=\"scaffold_opt.json\", compress=True)"
   ]
  }
 ],
 "metadata": {
  "kernelspec": {
   "display_name": "Python 3",
   "language": "python",
   "name": "python3"
  },
  "language_info": {
   "codemirror_mode": {
    "name": "ipython",
    "version": 3
   },
   "file_extension": ".py",
   "mimetype": "text/x-python",
   "name": "python",
   "nbconvert_exporter": "python",
   "pygments_lexer": "ipython3",
   "version": "3.11.13"
  }
 },
 "nbformat": 4,
 "nbformat_minor": 5
}
