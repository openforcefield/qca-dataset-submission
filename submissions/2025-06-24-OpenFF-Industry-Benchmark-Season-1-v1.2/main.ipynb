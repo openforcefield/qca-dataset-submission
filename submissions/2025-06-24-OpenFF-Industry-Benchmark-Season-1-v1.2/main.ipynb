{
 "cells": [
  {
   "cell_type": "code",
   "execution_count": 33,
   "id": "58a7c165",
   "metadata": {},
   "outputs": [],
   "source": [
    "import os\n",
    "import json\n",
    "import requests\n",
    "import datetime\n",
    "from collections import Counter, defaultdict\n",
    "\n",
    "import numpy as np\n",
    "\n",
    "from qcportal.external import scaffold\n",
    "from qcportal import PortalClient\n",
    "\n",
    "from qcfractal.snowflake import FractalSnowflake\n",
    "snowflake = FractalSnowflake()\n",
    "client = snowflake.client()\n",
    "\n",
    "#ADDRESS = \"https://api.qcarchive.molssi.org:443/\"\n",
    "#client = PortalClient(ADDRESS, cache_dir=\".\",)\n",
    "#client = PortalClient(\n",
    "#    ADDRESS, \n",
    "#    username=os.environ['QCARCHIVE_USER'],\n",
    "#    password=os.environ['QCARCHIVE_PASSWORD'],\n",
    "#    cache_dir=\".\",\n",
    "#)"
   ]
  },
  {
   "cell_type": "markdown",
   "id": "865126a7",
   "metadata": {},
   "source": [
    "# Get Records and Molecular Statistics"
   ]
  },
  {
   "cell_type": "code",
   "execution_count": 22,
   "id": "d506e035",
   "metadata": {},
   "outputs": [
    {
     "name": "stdout",
     "output_type": "stream",
     "text": [
      "There are 29 records to remove\n"
     ]
    }
   ],
   "source": [
    "# _________ Pull Record IDs of Relevant Datasets ____________\n",
    "\n",
    "file = requests.get(\n",
    "    \"https://raw.githubusercontent.com/openforcefield/sage-2.2.0/refs/heads/main/05_benchmark_forcefield/process_bm/problem_ids/all_r7_outliers.txt\"\n",
    ")\n",
    "remove_record_ids = set([int(x) for x in file.content.decode().splitlines()])\n",
    "print(f\"There are {len(remove_record_ids)} records to remove\")\n"
   ]
  },
  {
   "cell_type": "code",
   "execution_count": 29,
   "id": "560b6629",
   "metadata": {},
   "outputs": [
    {
     "name": "stdout",
     "output_type": "stream",
     "text": [
      "There are 539385 records.\n",
      "For the default specification there are: 77055\n"
     ]
    }
   ],
   "source": [
    "dataset_type = \"optimization\"\n",
    "dataset_to_copy = client.get_dataset(dataset_type, \"OpenFF Industry Benchmark Season 1 v1.1\")\n",
    "specs_to_copy = [\"default\"]\n",
    "provenance = dataset_to_copy.provenance\n",
    "print(f\"There are {dataset_to_copy.record_count} records.\")\n",
    "n_rel_records = len([*dataset_to_copy.iterate_records(specification_names=specs_to_copy)])\n",
    "print(f\"For the default specification there are: {n_rel_records}\")"
   ]
  },
  {
   "cell_type": "code",
   "execution_count": null,
   "id": "fa333c9c",
   "metadata": {},
   "outputs": [],
   "source": [
    "dataset_to_copy.fetch_records(include=[\"initial_molecule\"]) # 30 min"
   ]
  },
  {
   "cell_type": "code",
   "execution_count": 30,
   "id": "286a4fa2",
   "metadata": {},
   "outputs": [
    {
     "name": "stdout",
     "output_type": "stream",
     "text": [
      "1 of 77055\n",
      "10001 of 77055\n",
      "20001 of 77055\n",
      "30001 of 77055\n",
      "40001 of 77055\n",
      "50001 of 77055\n",
      "60001 of 77055\n",
      "70001 of 77055\n"
     ]
    }
   ],
   "source": [
    "old_record_ids = []\n",
    "entries_to_copy = []\n",
    "conformer_counts = defaultdict(lambda: 0)\n",
    "\n",
    "# Accessing initial molecule information from record information is slow, so get entry names first\n",
    "for i, (entry_name, spec, rec) in enumerate(dataset_to_copy.iterate_records(specification_names=specs_to_copy)):\n",
    "    if i % 10000 == 0:\n",
    "        print(f\"{i+1} of {n_rel_records}\")\n",
    "    if rec.id not in remove_record_ids:\n",
    "        entries_to_copy.append(entry_name)\n",
    "        old_record_ids.append(rec.id)\n",
    "        conformer_counts[entry_name.split(\"-\")[1]] += 1"
   ]
  },
  {
   "cell_type": "code",
   "execution_count": 31,
   "id": "93d1ee07",
   "metadata": {},
   "outputs": [],
   "source": [
    "# Iterating over entries is much faster\n",
    "molecular_properties = {\n",
    "    \"charges\": set(), \n",
    "    \"elements\": set(), \n",
    "    \"masses\": np.zeros(n_rel_records-len(remove_record_ids))\n",
    "}\n",
    "for i, entry in enumerate(dataset_to_copy.iterate_entries(entry_names=entries_to_copy)):\n",
    "    molecular_properties[\"charges\"].add(entry.initial_molecule.molecular_charge)\n",
    "    for sym in set(entry.initial_molecule.symbols):\n",
    "        molecular_properties[\"elements\"].add(sym)\n",
    "    molecular_properties[\"masses\"][i] = sum(entry.initial_molecule.masses)\n",
    "\n",
    "molecular_properties[\"charges\"] = sorted(molecular_properties[\"charges\"])\n",
    "molecular_properties[\"elements\"] = sorted(molecular_properties[\"elements\"])"
   ]
  },
  {
   "cell_type": "markdown",
   "id": "e1471650",
   "metadata": {},
   "source": [
    "# Make New Dataset"
   ]
  },
  {
   "cell_type": "code",
   "execution_count": 34,
   "id": "529e82b2",
   "metadata": {},
   "outputs": [
    {
     "name": "stdout",
     "output_type": "stream",
     "text": [
      "Initializing new dataset\n"
     ]
    }
   ],
   "source": [
    "# _________ Initialize New Dataset ____________\n",
    "print(\"Initializing new dataset\")\n",
    "with open(\"ds_info.json\") as f:\n",
    "    dataset_information = json.load(f)\n",
    "\n",
    "dataset = client.add_dataset(\n",
    "    dataset_type,\n",
    "    dataset_information[\"dataset_name\"],\n",
    "    tagline=dataset_information[\"dataset_tagline\"],\n",
    "    description=dataset_information[\"description\"],\n",
    "    provenance=provenance,\n",
    "    default_tag=\"openff\",\n",
    "    owner_user=\"openffbot\",\n",
    "    extras={\n",
    "        \"submitter\": dataset_information[\"metadata.submitter\"],\n",
    "        \"creation_date\": str(datetime.date.today()),\n",
    "        'collection_type': 'OptimizationDataset',\n",
    "        'long_description_url': dataset_information[\"metadata.long_description_url\"],\n",
    "        \"short description\": dataset_information[\"dataset_tagline\"],\n",
    "        \"dataset_name\": dataset_information[\"dataset_name\"],\n",
    "        \"elements\": [\"Br\", \"C\", \"Cl\", \"F\", \"H\", \"N\", \"O\", \"P\", \"S\"],\n",
    "#        \"elements\": molecular_properties[\"elements\"],\n",
    "    },\n",
    ")\n"
   ]
  },
  {
   "cell_type": "code",
   "execution_count": null,
   "id": "1e29790c",
   "metadata": {},
   "outputs": [],
   "source": [
    "# _________ Copy Records ____________\n",
    "print(\"Copy records\")\n",
    "dataset.copy_records_from( dataset_to_copy.id, entry_names=entries_to_copy, specification_names=specs_to_copy)"
   ]
  },
  {
   "cell_type": "code",
   "execution_count": null,
   "id": "ec9191a7",
   "metadata": {},
   "outputs": [],
   "source": [
    "new_record_ids = [rec.id for _, _, rec in dataset.iterate_records()]\n",
    "set(new_record_ids) == set(old_record_ids)"
   ]
  },
  {
   "cell_type": "markdown",
   "id": "1573b4df",
   "metadata": {},
   "source": [
    "## Write Statistics"
   ]
  },
  {
   "cell_type": "code",
   "execution_count": 32,
   "id": "95c66e49",
   "metadata": {},
   "outputs": [
    {
     "name": "stdout",
     "output_type": "stream",
     "text": [
      "Generating Molecular Statistics\n",
      "* Number of unique molecules: 2973\n",
      "* Number of conformers: 77026\n",
      "* Number of conformers (min, mean, max): 1, 25, 67\n",
      "* Molecular weight (min, mean, max): 16.03, 362.35, 1104.40\n",
      "* Charges: -2.0, -1.0, 0.0, 1.0, 2.0\n",
      "* Elements: Br, C, Cl, F, H, N, O, P, S\n"
     ]
    }
   ],
   "source": [
    "# _________ Write Output Part 1 (Run Before Approval) ____________\n",
    "print(\"Generating Molecular Statistics\")\n",
    "\n",
    "print(f\"* Number of unique molecules: {len(conformer_counts)}\")\n",
    "print(\"* Number of conformers:\", int(sum(conformer_counts.values())))\n",
    "print(\n",
    "    \"* Number of conformers (min, mean, max): {}, {}, {}\".format(\n",
    "        int(min(conformer_counts.values())), \n",
    "        int(np.mean(list(conformer_counts.values()))), \n",
    "        int(max(conformer_counts.values()))\n",
    "    )\n",
    ")\n",
    "print(\n",
    "    \"* Molecular weight (min, mean, max): {:.2f}, {:.2f}, {:.2f}\".format(\n",
    "        min(molecular_properties[\"masses\"]), np.mean(molecular_properties[\"masses\"]), max(molecular_properties[\"masses\"])\n",
    "    )\n",
    ")\n",
    "print(\"* Charges: {}\".format(\", \".join([str(x) for x in molecular_properties[\"charges\"]])))\n",
    "print(\"* Elements: {}\".format(\", \".join([str(x) for x in molecular_properties[\"elements\"]])))"
   ]
  },
  {
   "cell_type": "code",
   "execution_count": 35,
   "id": "ebb91182",
   "metadata": {},
   "outputs": [
    {
     "name": "stdout",
     "output_type": "stream",
     "text": [
      "\n",
      "\n",
      "# Output for README Part 2\n",
      "\n",
      "* Description: This dataset is the public counterpart of the OpenFF Industry Benchmark Season 1. Each industry partner has selected a range of diverse molecules which represent their current chemical interests. The dataset will be used in conjunction with private counterparts also designed by each partner to give an unbiased assessment of the progress and current performance of the OpenFF line of force fields in comparison with other contemporary force fields.\n",
      "The v1.1 dataset features corrected Merck (MRK) molecules with explicit hydrogens. The original v1.0 dataset did not have explicit hydrogens on these molecules, resulting in poor starting conformers that have largely failed to geometry optimize under QM.\n",
      "The v1.1 dataset was prepared from the v1.0 dataset, excising the MRK molecules and replacing them with the explicit hydrogen variants prepared using the [Season 1 protocol](https://openforcefield.atlassian.net/wiki/spaces/PS/pages/971898891/Optimization+Benchmarking+Protocol+-+Season+1) via `openff-benchmark`.\n",
      "This v1.2 dataset has removed a subset of structures from v1.1 that exhibited unrealistic angles, which proved to hinder progress in converging force field parameters. The outlier records are recorded in the [sage-2.2.0 repository](https://github.com/openforcefield/sage-2.2.0/blob/main/05_benchmark_forcefield/process_bm/problem_ids/all_r7_outliers.txt).\n",
      "* Purpose: The combination of all publicly chosen compound sets by industry partners from the OpenFF season 1 industry benchmark with unrealistic conformers removed.\n",
      "* Name: OpenFF Industry Benchmark Season 1 v1.2\n",
      "* Submitter: jaclark5\n",
      "\n",
      "\n",
      "## Metadata\n",
      "* Elements: {Br, C, Cl, F, H, N, O, P, S}\n"
     ]
    }
   ],
   "source": [
    "# _________ Write Output Part 2 (Run After Approval) ____________\n",
    "\n",
    "print(\"\\n\\n# Output for README Part 2\\n\")\n",
    "print(\"* Description: {}\".format(dataset.description))\n",
    "print(\"* Purpose: {}\".format(dataset.tagline))\n",
    "print(\"* Name: {}\".format(dataset.name))\n",
    "print(\"* Submitter: {}\\n\".format(dataset.extras[\"submitter\"]))\n",
    "\n",
    "print(\"\\n## Metadata\")\n",
    "print(f\"* Elements: {{{', '.join(dataset.extras['elements'])}}}\")\n",
    "\n",
    "for spec, obj in dataset.specifications.items():\n",
    "    od = obj.dict()['specification']\n",
    "    print(\"* Program:\", od[\"program\"])\n",
    "    od = od[\"qc_specification\"]\n",
    "    print(\"* QC Specifications:\", spec)\n",
    "    for field, value in od.items():\n",
    "        print(f\"  * {field}: {od[field]}\")\n",
    "    print(\"  * SCF Properties:\")\n",
    "    for field in od[\"keywords\"][\"scf_properties\"]:\n",
    "        print(f\"    * {field}\")\n"
   ]
  },
  {
   "cell_type": "code",
   "execution_count": 35,
   "id": "95201f58",
   "metadata": {},
   "outputs": [],
   "source": [
    "scaffold.to_json(dataset, compress=True)"
   ]
  }
 ],
 "metadata": {
  "kernelspec": {
   "display_name": "Python 3",
   "language": "python",
   "name": "python3"
  },
  "language_info": {
   "codemirror_mode": {
    "name": "ipython",
    "version": 3
   },
   "file_extension": ".py",
   "mimetype": "text/x-python",
   "name": "python",
   "nbconvert_exporter": "python",
   "pygments_lexer": "ipython3",
   "version": "3.11.12"
  }
 },
 "nbformat": 4,
 "nbformat_minor": 5
}
