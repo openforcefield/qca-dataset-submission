{
 "cells": [
  {
   "cell_type": "code",
   "execution_count": 1,
   "metadata": {},
   "outputs": [
    {
     "data": {
      "application/vnd.jupyter.widget-view+json": {
       "model_id": "f33533b85f90476196e0ec8b87d6846f",
       "version_major": 2,
       "version_minor": 0
      },
      "text/plain": []
     },
     "metadata": {},
     "output_type": "display_data"
    }
   ],
   "source": [
    "import os \n",
    "from qcsubmit.factories import TorsiondriveDatasetFactory\n",
    "from qcsubmit.datasets import TorsiondriveDataset\n",
    "from qcsubmit import workflow_components"
   ]
  },
  {
   "cell_type": "code",
   "execution_count": 2,
   "metadata": {},
   "outputs": [
    {
     "data": {
      "text/plain": [
       "TorsiondriveDatasetFactory(method='B3LYP-D3BJ', basis='DZVP', program='psi4', maxiter=200, driver=<DriverEnum.gradient: 'gradient'>, scf_properties=['dipole', 'quadrupole', 'wiberg_lowdin_indices', 'mayer_indices'], spec_name='default', spec_description='Standard OpenFF optimization quantum chemistry specification.', priority='normal', dataset_tags=['openff'], compute_tag='openff', workflow={}, optimization_program=GeometricProcedure(program='geometric', coordsys='tric', enforce=0.1, epsilon=0.0, reset=True, qccnv=True, molcnv=False, check=0, trust=0.1, tmax=0.3, maxiter=300, convergence_set='GAU', constraints={}), grid_spacings=[15], energy_upper_limit=0.05, dihedral_ranges=None, energy_decrease_thresh=None)"
      ]
     },
     "execution_count": 2,
     "metadata": {},
     "output_type": "execute_result"
    }
   ],
   "source": [
    "# for each of the targets we will create a fragmented dataset to look at the size and number of fragments made\n",
    "# set up the factory\n",
    "factory = TorsiondriveDatasetFactory()\n",
    "factory"
   ]
  },
  {
   "cell_type": "code",
   "execution_count": 3,
   "metadata": {},
   "outputs": [
    {
     "data": {
      "text/plain": [
       "TorsiondriveDatasetFactory(method='B3LYP-D3BJ', basis='DZVP', program='psi4', maxiter=200, driver=<DriverEnum.gradient: 'gradient'>, scf_properties=['dipole', 'quadrupole', 'wiberg_lowdin_indices', 'mayer_indices'], spec_name='default', spec_description='Standard OpenFF optimization quantum chemistry specification.', priority='normal', dataset_tags=['openff'], compute_tag='openff', workflow={'WBOFragmenter': WBOFragmenter(component_name='WBOFragmenter', component_description='Fragment a molecule across all rotatble bonds using the WBO fragmenter.', component_fail_message='The molecule could not fragmented correctly.', toolkit='openeye', threshold=0.03, keep_non_rotor_ring_substituents=True, functional_groups=None, heuristic='path_length', include_parent=False)}, optimization_program=GeometricProcedure(program='geometric', coordsys='tric', enforce=0.1, epsilon=0.0, reset=True, qccnv=True, molcnv=False, check=0, trust=0.1, tmax=0.3, maxiter=300, convergence_set='GAU', constraints={}), grid_spacings=[15], energy_upper_limit=0.05, dihedral_ranges=None, energy_decrease_thresh=None)"
      ]
     },
     "execution_count": 3,
     "metadata": {},
     "output_type": "execute_result"
    }
   ],
   "source": [
    "fragmenter = workflow_components.WBOFragmenter()\n",
    "# apply settings\n",
    "fragmenter.keep_non_rotor_ring_substituents = True\n",
    "\n",
    "# add fragmenter to the pipeline\n",
    "factory.add_workflow_component(fragmenter)\n",
    "factory"
   ]
  },
  {
   "cell_type": "code",
   "execution_count": 4,
   "metadata": {},
   "outputs": [],
   "source": [
    "# set the target name\n",
    "dataset_name = \"tyk2\""
   ]
  },
  {
   "cell_type": "code",
   "execution_count": 5,
   "metadata": {
    "scrolled": true
   },
   "outputs": [
    {
     "name": "stdout",
     "output_type": "stream",
     "text": [
      "12:01:24 WARNING fragmenter: A new stereocenter formed at atom 16 C\n",
      "12:01:24 WARNING fragmenter: A new stereocenter formed at atom 16 C\n",
      "12:01:24 WARNING fragmenter: A new stereocenter formed at atom 16 C\n",
      "12:01:24 WARNING fragmenter: A new stereocenter formed at atom 16 C\n",
      "12:01:24 WARNING fragmenter: A new stereocenter formed at atom 16 C\n",
      "12:01:24 WARNING fragmenter: A new stereocenter formed at atom 16 C\n",
      "12:01:24 WARNING fragmenter: A new stereocenter formed at atom 16 C\n",
      "12:01:24 WARNING fragmenter: A new stereocenter formed at atom 16 C\n",
      "12:01:24 WARNING fragmenter: A new stereocenter formed at atom 16 C\n",
      "12:01:24 WARNING fragmenter: A new stereocenter formed at atom 16 C\n",
      "12:01:24 WARNING fragmenter: A new stereocenter formed at atom 16 C\n",
      "12:01:24 WARNING fragmenter: A new stereocenter formed at atom 16 C\n",
      "12:01:25 WARNING fragmenter: A new stereocenter formed at atom 16 C\n",
      "12:01:25 WARNING fragmenter: A new stereocenter formed at atom 16 C\n",
      "12:01:25 WARNING fragmenter: A new stereocenter formed at atom 16 C\n",
      "12:01:25 WARNING fragmenter: A new stereocenter formed at atom 16 C\n",
      "12:01:25 WARNING fragmenter: A new stereocenter formed at atom 16 C\n",
      "12:01:25 WARNING fragmenter: A new stereocenter formed at atom 16 C\n",
      "12:01:38 WARNING fragmenter: A new stereocenter formed at atom 15 C\n",
      "12:01:38 WARNING fragmenter: A new stereocenter formed at atom 15 C\n",
      "12:01:38 WARNING fragmenter: A new stereocenter formed at atom 15 C\n",
      "12:01:38 WARNING fragmenter: A new stereocenter formed at atom 15 C\n",
      "12:01:38 WARNING fragmenter: A new stereocenter formed at atom 15 C\n",
      "12:01:38 WARNING fragmenter: A new stereocenter formed at atom 15 C\n",
      "12:01:39 WARNING fragmenter: A new stereocenter formed at atom 15 C\n",
      "12:01:39 WARNING fragmenter: A new stereocenter formed at atom 15 C\n",
      "12:01:39 WARNING fragmenter: A new stereocenter formed at atom 15 C\n",
      "12:01:39 WARNING fragmenter: A new stereocenter formed at atom 15 C\n",
      "12:01:39 WARNING fragmenter: A new stereocenter formed at atom 15 C\n",
      "12:01:39 WARNING fragmenter: A new stereocenter formed at atom 15 C\n",
      "12:01:39 WARNING fragmenter: A new stereocenter formed at atom 15 C\n",
      "12:01:39 WARNING fragmenter: A new stereocenter formed at atom 15 C\n",
      "12:01:39 WARNING fragmenter: A new stereocenter formed at atom 15 C\n",
      "12:01:39 WARNING fragmenter: A new stereocenter formed at atom 15 C\n",
      "12:01:39 WARNING fragmenter: A new stereocenter formed at atom 15 C\n",
      "12:01:39 WARNING fragmenter: A new stereocenter formed at atom 15 C\n",
      "12:01:52 WARNING fragmenter: A new stereocenter formed at atom 15 C\n",
      "12:01:52 WARNING fragmenter: A new stereocenter formed at atom 15 C\n",
      "12:01:52 WARNING fragmenter: A new stereocenter formed at atom 15 C\n",
      "12:01:52 WARNING fragmenter: A new stereocenter formed at atom 15 C\n",
      "12:01:52 WARNING fragmenter: A new stereocenter formed at atom 15 C\n",
      "12:01:52 WARNING fragmenter: A new stereocenter formed at atom 15 C\n",
      "12:01:53 WARNING fragmenter: A new stereocenter formed at atom 15 C\n",
      "12:01:53 WARNING fragmenter: A new stereocenter formed at atom 15 C\n",
      "12:01:53 WARNING fragmenter: A new stereocenter formed at atom 15 C\n",
      "12:01:53 WARNING fragmenter: A new stereocenter formed at atom 15 C\n",
      "12:01:53 WARNING fragmenter: A new stereocenter formed at atom 15 C\n",
      "12:01:53 WARNING fragmenter: A new stereocenter formed at atom 15 C\n",
      "12:01:53 WARNING fragmenter: A new stereocenter formed at atom 15 C\n",
      "12:01:53 WARNING fragmenter: A new stereocenter formed at atom 15 C\n",
      "12:01:53 WARNING fragmenter: A new stereocenter formed at atom 15 C\n",
      "12:01:53 WARNING fragmenter: A new stereocenter formed at atom 15 C\n",
      "12:01:53 WARNING fragmenter: A new stereocenter formed at atom 15 C\n",
      "12:01:53 WARNING fragmenter: A new stereocenter formed at atom 15 C\n",
      "12:02:05 WARNING fragmenter: A new stereocenter formed at atom 15 C\n",
      "12:02:05 WARNING fragmenter: A new stereocenter formed at atom 15 C\n",
      "12:02:05 WARNING fragmenter: A new stereocenter formed at atom 15 C\n",
      "12:02:05 WARNING fragmenter: A new stereocenter formed at atom 15 C\n",
      "12:02:05 WARNING fragmenter: A new stereocenter formed at atom 15 C\n",
      "12:02:05 WARNING fragmenter: A new stereocenter formed at atom 15 C\n",
      "12:02:06 WARNING fragmenter: A new stereocenter formed at atom 15 C\n",
      "12:02:06 WARNING fragmenter: A new stereocenter formed at atom 15 C\n",
      "12:02:06 WARNING fragmenter: A new stereocenter formed at atom 15 C\n",
      "12:02:06 WARNING fragmenter: A new stereocenter formed at atom 15 C\n",
      "12:02:06 WARNING fragmenter: A new stereocenter formed at atom 15 C\n",
      "12:02:06 WARNING fragmenter: A new stereocenter formed at atom 15 C\n",
      "12:02:06 WARNING fragmenter: A new stereocenter formed at atom 15 C\n",
      "12:02:06 WARNING fragmenter: A new stereocenter formed at atom 15 C\n",
      "12:02:06 WARNING fragmenter: A new stereocenter formed at atom 15 C\n",
      "12:02:06 WARNING fragmenter: A new stereocenter formed at atom 15 C\n",
      "12:02:06 WARNING fragmenter: A new stereocenter formed at atom 15 C\n",
      "12:02:06 WARNING fragmenter: A new stereocenter formed at atom 15 C\n"
     ]
    }
   ],
   "source": [
    "# test making a dataset\n",
    "dataset = factory.create_dataset(dataset_name=f\"OpenFF-{dataset_name}-ligands-v1.0\", molecules=f\"{dataset_name}/{dataset_name}.sdf\", description=f\"Torsiondrives of fragments of {dataset_name} inhibitors.\", tagline=f\"Fragmented torsiondrives of {dataset_name} inhibitors.\")\n"
   ]
  },
  {
   "cell_type": "code",
   "execution_count": 6,
   "metadata": {},
   "outputs": [
    {
     "data": {
      "text/plain": [
       "{'C', 'Cl', 'F', 'H', 'N', 'O'}"
      ]
     },
     "execution_count": 6,
     "metadata": {},
     "output_type": "execute_result"
    }
   ],
   "source": [
    "dataset.metadata.elements"
   ]
  },
  {
   "cell_type": "code",
   "execution_count": 7,
   "metadata": {},
   "outputs": [
    {
     "data": {
      "text/plain": [
       "22"
      ]
     },
     "execution_count": 7,
     "metadata": {},
     "output_type": "execute_result"
    }
   ],
   "source": [
    "dataset.n_molecules"
   ]
  },
  {
   "cell_type": "code",
   "execution_count": 8,
   "metadata": {},
   "outputs": [
    {
     "data": {
      "text/plain": [
       "45"
      ]
     },
     "execution_count": 8,
     "metadata": {},
     "output_type": "execute_result"
    }
   ],
   "source": [
    "dataset.n_records"
   ]
  },
  {
   "cell_type": "code",
   "execution_count": 9,
   "metadata": {},
   "outputs": [],
   "source": [
    "dataset.visualize(f\"{dataset_name}/fragments.pdf\")"
   ]
  },
  {
   "cell_type": "code",
   "execution_count": 10,
   "metadata": {},
   "outputs": [],
   "source": [
    "dataset.export_dataset(f\"{dataset_name}/dataset.json\")"
   ]
  },
  {
   "cell_type": "code",
   "execution_count": 11,
   "metadata": {},
   "outputs": [],
   "source": [
    "# set the option off and run again\n",
    "factory.workflow[\"WBOFragmenter\"].keep_non_rotor_ring_substituents = False"
   ]
  },
  {
   "cell_type": "code",
   "execution_count": 12,
   "metadata": {
    "scrolled": true
   },
   "outputs": [
    {
     "name": "stdout",
     "output_type": "stream",
     "text": [
      "12:02:19 WARNING fragmenter: A new stereocenter formed at atom 16 C\n",
      "12:02:19 WARNING fragmenter: A new stereocenter formed at atom 16 C\n",
      "12:02:19 WARNING fragmenter: A new stereocenter formed at atom 16 C\n",
      "12:02:19 WARNING fragmenter: A new stereocenter formed at atom 16 C\n",
      "12:02:19 WARNING fragmenter: A new stereocenter formed at atom 16 C\n",
      "12:02:19 WARNING fragmenter: A new stereocenter formed at atom 16 C\n",
      "12:02:19 WARNING fragmenter: A new stereocenter formed at atom 16 C\n",
      "12:02:19 WARNING fragmenter: A new stereocenter formed at atom 16 C\n",
      "12:02:19 WARNING fragmenter: A new stereocenter formed at atom 16 C\n",
      "12:02:19 WARNING fragmenter: A new stereocenter formed at atom 16 C\n",
      "12:02:19 WARNING fragmenter: A new stereocenter formed at atom 16 C\n",
      "12:02:19 WARNING fragmenter: A new stereocenter formed at atom 16 C\n",
      "12:02:19 WARNING fragmenter: A new stereocenter formed at atom 16 C\n",
      "12:02:19 WARNING fragmenter: A new stereocenter formed at atom 16 C\n",
      "12:02:19 WARNING fragmenter: A new stereocenter formed at atom 16 C\n",
      "12:02:19 WARNING fragmenter: A new stereocenter formed at atom 16 C\n",
      "12:02:19 WARNING fragmenter: A new stereocenter formed at atom 16 C\n",
      "12:02:19 WARNING fragmenter: A new stereocenter formed at atom 16 C\n",
      "12:02:34 WARNING fragmenter: A new stereocenter formed at atom 15 C\n",
      "12:02:34 WARNING fragmenter: A new stereocenter formed at atom 15 C\n",
      "12:02:34 WARNING fragmenter: A new stereocenter formed at atom 15 C\n",
      "12:02:34 WARNING fragmenter: A new stereocenter formed at atom 15 C\n",
      "12:02:34 WARNING fragmenter: A new stereocenter formed at atom 15 C\n",
      "12:02:34 WARNING fragmenter: A new stereocenter formed at atom 15 C\n",
      "12:02:34 WARNING fragmenter: A new stereocenter formed at atom 15 C\n",
      "12:02:34 WARNING fragmenter: A new stereocenter formed at atom 15 C\n",
      "12:02:34 WARNING fragmenter: A new stereocenter formed at atom 15 C\n",
      "12:02:34 WARNING fragmenter: A new stereocenter formed at atom 15 C\n",
      "12:02:34 WARNING fragmenter: A new stereocenter formed at atom 15 C\n",
      "12:02:34 WARNING fragmenter: A new stereocenter formed at atom 15 C\n",
      "12:02:35 WARNING fragmenter: A new stereocenter formed at atom 15 C\n",
      "12:02:35 WARNING fragmenter: A new stereocenter formed at atom 15 C\n",
      "12:02:35 WARNING fragmenter: A new stereocenter formed at atom 15 C\n",
      "12:02:35 WARNING fragmenter: A new stereocenter formed at atom 15 C\n",
      "12:02:35 WARNING fragmenter: A new stereocenter formed at atom 15 C\n",
      "12:02:35 WARNING fragmenter: A new stereocenter formed at atom 15 C\n",
      "12:02:49 WARNING fragmenter: A new stereocenter formed at atom 15 C\n",
      "12:02:49 WARNING fragmenter: A new stereocenter formed at atom 15 C\n",
      "12:02:49 WARNING fragmenter: A new stereocenter formed at atom 15 C\n",
      "12:02:49 WARNING fragmenter: A new stereocenter formed at atom 15 C\n",
      "12:02:49 WARNING fragmenter: A new stereocenter formed at atom 15 C\n",
      "12:02:49 WARNING fragmenter: A new stereocenter formed at atom 15 C\n",
      "12:02:49 WARNING fragmenter: A new stereocenter formed at atom 15 C\n",
      "12:02:49 WARNING fragmenter: A new stereocenter formed at atom 15 C\n",
      "12:02:49 WARNING fragmenter: A new stereocenter formed at atom 15 C\n",
      "12:02:49 WARNING fragmenter: A new stereocenter formed at atom 15 C\n",
      "12:02:49 WARNING fragmenter: A new stereocenter formed at atom 15 C\n",
      "12:02:49 WARNING fragmenter: A new stereocenter formed at atom 15 C\n",
      "12:02:50 WARNING fragmenter: A new stereocenter formed at atom 15 C\n",
      "12:02:50 WARNING fragmenter: A new stereocenter formed at atom 15 C\n",
      "12:02:50 WARNING fragmenter: A new stereocenter formed at atom 15 C\n",
      "12:02:50 WARNING fragmenter: A new stereocenter formed at atom 15 C\n",
      "12:02:50 WARNING fragmenter: A new stereocenter formed at atom 15 C\n",
      "12:02:50 WARNING fragmenter: A new stereocenter formed at atom 15 C\n",
      "12:03:02 WARNING fragmenter: A new stereocenter formed at atom 15 C\n",
      "12:03:02 WARNING fragmenter: A new stereocenter formed at atom 15 C\n",
      "12:03:02 WARNING fragmenter: A new stereocenter formed at atom 15 C\n",
      "12:03:02 WARNING fragmenter: A new stereocenter formed at atom 15 C\n",
      "12:03:02 WARNING fragmenter: A new stereocenter formed at atom 15 C\n",
      "12:03:02 WARNING fragmenter: A new stereocenter formed at atom 15 C\n",
      "12:03:03 WARNING fragmenter: A new stereocenter formed at atom 15 C\n",
      "12:03:03 WARNING fragmenter: A new stereocenter formed at atom 15 C\n",
      "12:03:03 WARNING fragmenter: A new stereocenter formed at atom 15 C\n",
      "12:03:03 WARNING fragmenter: A new stereocenter formed at atom 15 C\n",
      "12:03:03 WARNING fragmenter: A new stereocenter formed at atom 15 C\n",
      "12:03:03 WARNING fragmenter: A new stereocenter formed at atom 15 C\n",
      "12:03:03 WARNING fragmenter: A new stereocenter formed at atom 15 C\n",
      "12:03:03 WARNING fragmenter: A new stereocenter formed at atom 15 C\n",
      "12:03:03 WARNING fragmenter: A new stereocenter formed at atom 15 C\n",
      "12:03:03 WARNING fragmenter: A new stereocenter formed at atom 15 C\n",
      "12:03:03 WARNING fragmenter: A new stereocenter formed at atom 15 C\n",
      "12:03:03 WARNING fragmenter: A new stereocenter formed at atom 15 C\n"
     ]
    }
   ],
   "source": [
    "dataset_without = factory.create_dataset(dataset_name=f\"OpenFF-{dataset_name}-ligands-v1.0\", molecules=f\"{dataset_name}/{dataset_name}.sdf\", description=f\"Torsiondrives of fragments of {dataset_name} inhibitors.\", tagline=f\"Fragmented torsiondrives of {dataset_name} inhibitors.\")\n"
   ]
  },
  {
   "cell_type": "code",
   "execution_count": 13,
   "metadata": {},
   "outputs": [
    {
     "data": {
      "text/plain": [
       "{'C', 'Cl', 'F', 'H', 'N', 'O'}"
      ]
     },
     "execution_count": 13,
     "metadata": {},
     "output_type": "execute_result"
    }
   ],
   "source": [
    "# output the result\n",
    "dataset_without.metadata.elements"
   ]
  },
  {
   "cell_type": "code",
   "execution_count": 14,
   "metadata": {},
   "outputs": [
    {
     "data": {
      "text/plain": [
       "21"
      ]
     },
     "execution_count": 14,
     "metadata": {},
     "output_type": "execute_result"
    }
   ],
   "source": [
    "dataset_without.n_molecules"
   ]
  },
  {
   "cell_type": "code",
   "execution_count": 15,
   "metadata": {},
   "outputs": [
    {
     "data": {
      "text/plain": [
       "44"
      ]
     },
     "execution_count": 15,
     "metadata": {},
     "output_type": "execute_result"
    }
   ],
   "source": [
    "dataset_without.n_records"
   ]
  },
  {
   "cell_type": "code",
   "execution_count": 16,
   "metadata": {},
   "outputs": [],
   "source": [
    "dataset_without.visualize(f\"{dataset_name}/fragments_remove.pdf\")"
   ]
  },
  {
   "cell_type": "code",
   "execution_count": 17,
   "metadata": {},
   "outputs": [],
   "source": [
    "dataset_without.export_dataset(f\"{dataset_name}/dataset_remove.json\")"
   ]
  },
  {
   "cell_type": "code",
   "execution_count": 19,
   "metadata": {},
   "outputs": [
    {
     "name": "stderr",
     "output_type": "stream",
     "text": [
      "/Users/joshuahorton/Documents/Software/qcsubmit/qcsubmit/validators.py:181: UserWarning: The molecule C15H19N2O has a net charge of 1.0.\n",
      "  UserWarning,\n",
      "/Users/joshuahorton/Documents/Software/qcsubmit/qcsubmit/validators.py:181: UserWarning: The molecule C13H15N2O has a net charge of 1.0.\n",
      "  UserWarning,\n",
      "/Users/joshuahorton/Documents/Software/qcsubmit/qcsubmit/validators.py:181: UserWarning: The molecule C16H15N2O has a net charge of 1.0.\n",
      "  UserWarning,\n",
      "/Users/joshuahorton/Documents/Software/qcsubmit/qcsubmit/validators.py:181: UserWarning: The molecule C12H15N2O has a net charge of 1.0.\n",
      "  UserWarning,\n",
      "/Users/joshuahorton/Documents/Software/qcsubmit/qcsubmit/validators.py:181: UserWarning: The molecule C14H13N4O has a net charge of 1.0.\n",
      "  UserWarning,\n",
      "/Users/joshuahorton/Documents/Software/qcsubmit/qcsubmit/validators.py:181: UserWarning: The molecule C13H12N3OS has a net charge of 1.0.\n",
      "  UserWarning,\n",
      "/Users/joshuahorton/Documents/Software/qcsubmit/qcsubmit/validators.py:181: UserWarning: The molecule C11H13N2O has a net charge of 1.0.\n",
      "  UserWarning,\n",
      "/Users/joshuahorton/Documents/Software/qcsubmit/qcsubmit/validators.py:181: UserWarning: The molecule C15H14N3O has a net charge of 1.0.\n",
      "  UserWarning,\n",
      "/Users/joshuahorton/Documents/Software/qcsubmit/qcsubmit/validators.py:181: UserWarning: The molecule C14H17N2O has a net charge of 1.0.\n",
      "  UserWarning,\n",
      "/Users/joshuahorton/Documents/Software/qcsubmit/qcsubmit/validators.py:181: UserWarning: The molecule C13H17N2O has a net charge of 1.0.\n",
      "  UserWarning,\n",
      "/Users/joshuahorton/Documents/Software/qcsubmit/qcsubmit/validators.py:181: UserWarning: The molecule C16H21N2O has a net charge of 1.0.\n",
      "  UserWarning,\n",
      "/Users/joshuahorton/Documents/Software/qcsubmit/qcsubmit/validators.py:181: UserWarning: The molecule C12H11O3 has a net charge of -1.0.\n",
      "  UserWarning,\n",
      "/Users/joshuahorton/Documents/Software/qcsubmit/qcsubmit/validators.py:181: UserWarning: The molecule C10H7O3 has a net charge of -1.0.\n",
      "  UserWarning,\n",
      "/Users/joshuahorton/Documents/Software/qcsubmit/qcsubmit/validators.py:181: UserWarning: The molecule C13H13O4 has a net charge of -1.0.\n",
      "  UserWarning,\n",
      "/Users/joshuahorton/Documents/Software/qcsubmit/qcsubmit/validators.py:181: UserWarning: The molecule C22H17O4 has a net charge of -1.0.\n",
      "  UserWarning,\n",
      "/Users/joshuahorton/Documents/Software/qcsubmit/qcsubmit/validators.py:181: UserWarning: The molecule C12H12NO2 has a net charge of -1.0.\n",
      "  UserWarning,\n",
      "/Users/joshuahorton/Documents/Software/qcsubmit/qcsubmit/validators.py:181: UserWarning: The molecule C10H8NO2 has a net charge of -1.0.\n",
      "  UserWarning,\n",
      "/Users/joshuahorton/Documents/Software/qcsubmit/qcsubmit/validators.py:181: UserWarning: The molecule C13H14NO3 has a net charge of -1.0.\n",
      "  UserWarning,\n",
      "/Users/joshuahorton/Documents/Software/qcsubmit/qcsubmit/validators.py:181: UserWarning: The molecule C20H17N2O3 has a net charge of -1.0.\n",
      "  UserWarning,\n",
      "/Users/joshuahorton/Documents/Software/qcsubmit/qcsubmit/validators.py:181: UserWarning: The molecule C18H16NO3 has a net charge of -1.0.\n",
      "  UserWarning,\n",
      "/Users/joshuahorton/Documents/Software/qcsubmit/qcsubmit/validators.py:181: UserWarning: The molecule C21H20NO3 has a net charge of -1.0.\n",
      "  UserWarning,\n",
      "/Users/joshuahorton/Documents/Software/qcsubmit/qcsubmit/validators.py:181: UserWarning: The molecule C22H18NO3 has a net charge of -1.0.\n",
      "  UserWarning,\n",
      "/Users/joshuahorton/Documents/Software/qcsubmit/qcsubmit/validators.py:181: UserWarning: The molecule C19H18NO3 has a net charge of -1.0.\n",
      "  UserWarning,\n",
      "/Users/joshuahorton/Documents/Software/qcsubmit/qcsubmit/validators.py:181: UserWarning: The molecule C12H11O2S has a net charge of -1.0.\n",
      "  UserWarning,\n",
      "/Users/joshuahorton/Documents/Software/qcsubmit/qcsubmit/validators.py:181: UserWarning: The molecule C10H7O2S has a net charge of -1.0.\n",
      "  UserWarning,\n",
      "/Users/joshuahorton/Documents/Software/qcsubmit/qcsubmit/validators.py:181: UserWarning: The molecule C13H13O3S has a net charge of -1.0.\n",
      "  UserWarning,\n",
      "/Users/joshuahorton/Documents/Software/qcsubmit/qcsubmit/validators.py:181: UserWarning: The molecule C22H17O3S has a net charge of -1.0.\n",
      "  UserWarning,\n",
      "/Users/joshuahorton/Documents/Software/qcsubmit/qcsubmit/validators.py:181: UserWarning: The molecule C19F3H15NO3 has a net charge of -1.0.\n",
      "  UserWarning,\n",
      "/Users/joshuahorton/Documents/Software/qcsubmit/qcsubmit/validators.py:181: UserWarning: The molecule C18H15O3S has a net charge of -1.0.\n",
      "  UserWarning,\n",
      "/Users/joshuahorton/Documents/Software/qcsubmit/qcsubmit/validators.py:181: UserWarning: The molecule C19ClH17NO3 has a net charge of -1.0.\n",
      "  UserWarning,\n",
      "/Users/joshuahorton/Documents/Software/qcsubmit/qcsubmit/validators.py:181: UserWarning: The molecule C13H14NO2 has a net charge of -1.0.\n",
      "  UserWarning,\n",
      "/Users/joshuahorton/Documents/Software/qcsubmit/qcsubmit/validators.py:181: UserWarning: The molecule C11H10NO2 has a net charge of -1.0.\n",
      "  UserWarning,\n",
      "/Users/joshuahorton/Documents/Software/qcsubmit/qcsubmit/validators.py:181: UserWarning: The molecule C14H16NO3 has a net charge of -1.0.\n",
      "  UserWarning,\n",
      "/Users/joshuahorton/Documents/Software/qcsubmit/qcsubmit/validators.py:181: UserWarning: The molecule C21H17N2O3 has a net charge of -1.0.\n",
      "  UserWarning,\n",
      "/Users/joshuahorton/Documents/Software/qcsubmit/qcsubmit/validators.py:181: UserWarning: The molecule C23H20NO3 has a net charge of -1.0.\n",
      "  UserWarning,\n",
      "/Users/joshuahorton/Documents/Software/qcsubmit/qcsubmit/validators.py:181: UserWarning: The molecule C22H22NO3 has a net charge of -1.0.\n",
      "  UserWarning,\n",
      "/Users/joshuahorton/Documents/Software/qcsubmit/qcsubmit/validators.py:181: UserWarning: The molecule C20ClH18O4 has a net charge of -1.0.\n",
      "  UserWarning,\n",
      "/Users/joshuahorton/Documents/Software/qcsubmit/qcsubmit/validators.py:181: UserWarning: The molecule C18H15O4 has a net charge of -1.0.\n",
      "  UserWarning,\n",
      "/Users/joshuahorton/Documents/Software/qcsubmit/qcsubmit/validators.py:181: UserWarning: The molecule BrC13H7O5S has a net charge of -2.0.\n",
      "  UserWarning,\n",
      "/Users/joshuahorton/Documents/Software/qcsubmit/qcsubmit/validators.py:181: UserWarning: The molecule BrC6H4O3S has a net charge of -1.0.\n",
      "  UserWarning,\n",
      "/Users/joshuahorton/Documents/Software/qcsubmit/qcsubmit/validators.py:181: UserWarning: The molecule BrC18H11NO3S has a net charge of -1.0.\n",
      "  UserWarning,\n",
      "/Users/joshuahorton/Documents/Software/qcsubmit/qcsubmit/validators.py:181: UserWarning: The molecule BrC7H3O5S has a net charge of -2.0.\n",
      "  UserWarning,\n",
      "/Users/joshuahorton/Documents/Software/qcsubmit/qcsubmit/validators.py:181: UserWarning: The molecule BrC17FH10NO4S2 has a net charge of -1.0.\n",
      "  UserWarning,\n",
      "/Users/joshuahorton/Documents/Software/qcsubmit/qcsubmit/validators.py:181: UserWarning: The molecule BrC13H10N2O4S has a net charge of -1.0.\n",
      "  UserWarning,\n",
      "/Users/joshuahorton/Documents/Software/qcsubmit/qcsubmit/validators.py:181: UserWarning: The molecule BrC15H14N2O3S has a net charge of -1.0.\n",
      "  UserWarning,\n",
      "/Users/joshuahorton/Documents/Software/qcsubmit/qcsubmit/validators.py:181: UserWarning: The molecule C17ClH18N2O5S2 has a net charge of -1.0.\n",
      "  UserWarning,\n",
      "/Users/joshuahorton/Documents/Software/qcsubmit/qcsubmit/validators.py:181: UserWarning: The molecule C13ClH7O5S has a net charge of -2.0.\n",
      "  UserWarning,\n",
      "/Users/joshuahorton/Documents/Software/qcsubmit/qcsubmit/validators.py:181: UserWarning: The molecule C6ClH4O3S has a net charge of -1.0.\n",
      "  UserWarning,\n",
      "/Users/joshuahorton/Documents/Software/qcsubmit/qcsubmit/validators.py:181: UserWarning: The molecule C7ClH3O5S has a net charge of -2.0.\n",
      "  UserWarning,\n",
      "/Users/joshuahorton/Documents/Software/qcsubmit/qcsubmit/validators.py:181: UserWarning: The molecule BrC19H15NO3S has a net charge of -1.0.\n",
      "  UserWarning,\n",
      "/Users/joshuahorton/Documents/Software/qcsubmit/qcsubmit/validators.py:181: UserWarning: The molecule BrC17H18N2O5S2 has a net charge of -1.0.\n",
      "  UserWarning,\n",
      "/Users/joshuahorton/Documents/Software/qcsubmit/qcsubmit/validators.py:181: UserWarning: The molecule BrC22H20N2O5S2 has a net charge of -1.0.\n",
      "  UserWarning,\n",
      "/Users/joshuahorton/Documents/Software/qcsubmit/qcsubmit/validators.py:181: UserWarning: The molecule BrC19H14O4S has a net charge of -1.0.\n",
      "  UserWarning,\n",
      "/Users/joshuahorton/Documents/Software/qcsubmit/qcsubmit/validators.py:181: UserWarning: The molecule BrC14H11NO3S has a net charge of -1.0.\n",
      "  UserWarning,\n",
      "/Users/joshuahorton/Documents/Software/qcsubmit/qcsubmit/validators.py:181: UserWarning: The molecule BrC16H15NO3S has a net charge of -1.0.\n",
      "  UserWarning,\n",
      "/Users/joshuahorton/Documents/Software/qcsubmit/qcsubmit/validators.py:181: UserWarning: The molecule BrC13H9NO4S has a net charge of -1.0.\n",
      "  UserWarning,\n",
      "/Users/joshuahorton/Documents/Software/qcsubmit/qcsubmit/validators.py:181: UserWarning: The molecule BrC14H11NO5S has a net charge of -1.0.\n",
      "  UserWarning,\n"
     ]
    },
    {
     "name": "stderr",
     "output_type": "stream",
     "text": [
      "/Users/joshuahorton/Documents/Software/qcsubmit/qcsubmit/validators.py:181: UserWarning: The molecule C18H21N2O5S2 has a net charge of -1.0.\n",
      "  UserWarning,\n",
      "/Users/joshuahorton/Documents/Software/qcsubmit/qcsubmit/validators.py:181: UserWarning: The molecule C14H10O5S has a net charge of -2.0.\n",
      "  UserWarning,\n",
      "/Users/joshuahorton/Documents/Software/qcsubmit/qcsubmit/validators.py:181: UserWarning: The molecule C7H7O3S has a net charge of -1.0.\n",
      "  UserWarning,\n",
      "/Users/joshuahorton/Documents/Software/qcsubmit/qcsubmit/validators.py:181: UserWarning: The molecule C8H6O5S has a net charge of -2.0.\n",
      "  UserWarning,\n",
      "/Users/joshuahorton/Documents/Software/qcsubmit/qcsubmit/validators.py:181: UserWarning: The molecule C17H19N2O5S2 has a net charge of -1.0.\n",
      "  UserWarning,\n",
      "/Users/joshuahorton/Documents/Software/qcsubmit/qcsubmit/validators.py:181: UserWarning: The molecule C7H4O5S has a net charge of -2.0.\n",
      "  UserWarning,\n",
      "/Users/joshuahorton/Documents/Software/qcsubmit/qcsubmit/validators.py:181: UserWarning: The molecule C6H5O3S has a net charge of -1.0.\n",
      "  UserWarning,\n",
      "/Users/joshuahorton/Documents/Software/qcsubmit/qcsubmit/validators.py:181: UserWarning: The molecule C11H17N2O has a net charge of 1.0.\n",
      "  UserWarning,\n",
      "/Users/joshuahorton/Documents/Software/qcsubmit/qcsubmit/validators.py:181: UserWarning: The molecule C15ClH21N3O2 has a net charge of 1.0.\n",
      "  UserWarning,\n",
      "/Users/joshuahorton/Documents/Software/qcsubmit/qcsubmit/validators.py:181: UserWarning: The molecule C15H22N3O2 has a net charge of 1.0.\n",
      "  UserWarning,\n",
      "/Users/joshuahorton/Documents/Software/qcsubmit/qcsubmit/validators.py:181: UserWarning: The molecule C15H21IN3O2 has a net charge of 1.0.\n",
      "  UserWarning,\n",
      "/Users/joshuahorton/Documents/Software/qcsubmit/qcsubmit/validators.py:181: UserWarning: The molecule C16H24N3O2 has a net charge of 1.0.\n",
      "  UserWarning,\n",
      "/Users/joshuahorton/Documents/Software/qcsubmit/qcsubmit/validators.py:181: UserWarning: The molecule C15FH21N3O2 has a net charge of 1.0.\n",
      "  UserWarning,\n",
      "/Users/joshuahorton/Documents/Software/qcsubmit/qcsubmit/validators.py:181: UserWarning: The molecule C21H26N3O2 has a net charge of 1.0.\n",
      "  UserWarning,\n",
      "/Users/joshuahorton/Documents/Software/qcsubmit/qcsubmit/validators.py:181: UserWarning: The molecule C17H26N3O2 has a net charge of 1.0.\n",
      "  UserWarning,\n",
      "/Users/joshuahorton/Documents/Software/qcsubmit/qcsubmit/validators.py:181: UserWarning: The molecule C16ClH23N3O2 has a net charge of 1.0.\n",
      "  UserWarning,\n",
      "/Users/joshuahorton/Documents/Software/qcsubmit/qcsubmit/validators.py:181: UserWarning: The molecule C15ClFH20N3O2 has a net charge of 1.0.\n",
      "  UserWarning,\n",
      "/Users/joshuahorton/Documents/Software/qcsubmit/qcsubmit/validators.py:181: UserWarning: The molecule BrC15H21N3O2 has a net charge of 1.0.\n",
      "  UserWarning,\n"
     ]
    }
   ],
   "source": [
    "# combine datasets with datasets\n",
    "dataset_name = \"dataset_remove.json\"\n",
    "bace = TorsiondriveDataset.parse_file(f\"bace/{dataset_name}\")\n",
    "jnk1 = TorsiondriveDataset.parse_file(f\"jnk1/{dataset_name}\")\n",
    "cdk2 = TorsiondriveDataset.parse_file(f\"cdk2/{dataset_name}\")\n",
    "mcl1 = TorsiondriveDataset.parse_file(f\"mcl1/{dataset_name}\")\n",
    "p38a = TorsiondriveDataset.parse_file(f\"p38a/{dataset_name}\")\n",
    "ptp1b = TorsiondriveDataset.parse_file(f\"ptp1b/{dataset_name}\")\n",
    "thrombin = TorsiondriveDataset.parse_file(f\"thrombin/{dataset_name}\")\n",
    "tyk2 = TorsiondriveDataset.parse_file(f\"tyk2/{dataset_name}\")"
   ]
  },
  {
   "cell_type": "code",
   "execution_count": 20,
   "metadata": {},
   "outputs": [],
   "source": [
    "# now start to combine the datasets\n",
    "new_dataset = bace + jnk1 + cdk2 + mcl1 + p38a + ptp1b + thrombin + tyk2"
   ]
  },
  {
   "cell_type": "code",
   "execution_count": 21,
   "metadata": {},
   "outputs": [
    {
     "data": {
      "text/plain": [
       "274"
      ]
     },
     "execution_count": 21,
     "metadata": {},
     "output_type": "execute_result"
    }
   ],
   "source": [
    "new_dataset.n_molecules"
   ]
  },
  {
   "cell_type": "code",
   "execution_count": 22,
   "metadata": {},
   "outputs": [
    {
     "data": {
      "text/plain": [
       "375"
      ]
     },
     "execution_count": 22,
     "metadata": {},
     "output_type": "execute_result"
    }
   ],
   "source": [
    "new_dataset.n_records"
   ]
  },
  {
   "cell_type": "code",
   "execution_count": 24,
   "metadata": {},
   "outputs": [],
   "source": [
    "new_dataset.visualize(\"all_fragments_remove.pdf\")"
   ]
  },
  {
   "cell_type": "code",
   "execution_count": 25,
   "metadata": {},
   "outputs": [],
   "source": [
    "new_dataset.export_dataset(\"all_fragments_remove.json\")"
   ]
  },
  {
   "cell_type": "code",
   "execution_count": 26,
   "metadata": {},
   "outputs": [
    {
     "data": {
      "text/plain": [
       "{'Br', 'C', 'Cl', 'F', 'H', 'I', 'N', 'O', 'S'}"
      ]
     },
     "execution_count": 26,
     "metadata": {},
     "output_type": "execute_result"
    }
   ],
   "source": [
    "new_dataset.metadata.elements"
   ]
  },
  {
   "cell_type": "code",
   "execution_count": null,
   "metadata": {},
   "outputs": [],
   "source": []
  }
 ],
 "metadata": {
  "kernelspec": {
   "display_name": "Python 3",
   "language": "python",
   "name": "python3"
  },
  "language_info": {
   "codemirror_mode": {
    "name": "ipython",
    "version": 3
   },
   "file_extension": ".py",
   "mimetype": "text/x-python",
   "name": "python",
   "nbconvert_exporter": "python",
   "pygments_lexer": "ipython3",
   "version": "3.6.10"
  }
 },
 "nbformat": 4,
 "nbformat_minor": 4
}
