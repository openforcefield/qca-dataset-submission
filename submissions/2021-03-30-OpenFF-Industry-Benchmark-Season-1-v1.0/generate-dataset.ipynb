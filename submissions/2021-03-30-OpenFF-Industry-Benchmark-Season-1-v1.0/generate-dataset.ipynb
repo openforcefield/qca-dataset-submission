{
 "cells": [
  {
   "cell_type": "code",
   "execution_count": null,
   "metadata": {},
   "outputs": [],
   "source": [
    "from openff.qcsubmit.datasets import load_dataset, OptimizationDataset\n",
    "from openforcefield.utils.toolkits import GLOBAL_TOOLKIT_REGISTRY, OpenEyeToolkitWrapper\n",
    "import os\n",
    "import re\n",
    "\n",
    "GLOBAL_TOOLKIT_REGISTRY.deregister_toolkit(OpenEyeToolkitWrapper())\n",
    "print(GLOBAL_TOOLKIT_REGISTRY)"
   ]
  },
  {
   "cell_type": "markdown",
   "metadata": {},
   "source": [
    "# Preperation\n",
    "\n",
    "Each partner has has their chossen molecules ran through the openff-benchmark pipeline to produce a reference qcsubmit dataset. Here we combine all of the datasets to gether keeping the partner identifiers and filter some unwanted elements out that were missed by the benchmark infastructure into a seprate dataset."
   ]
  },
  {
   "cell_type": "code",
   "execution_count": null,
   "metadata": {
    "scrolled": true
   },
   "outputs": [],
   "source": [
    "# load all datasets and filter out unwanted elements into a new dataset\n",
    "# filter B, Si and I\n",
    "filtered_dataset = OptimizationDataset(dataset_name=\"OpenFF Industry Benchmark Filtered v1.0\", description=\"The set of molecules filtered from the season 1 openff industry benchmark public dataset. These molecules were filtered due to missing forcefield coverage and an issue with density fitting in psi4 regarding iodine.\")\n",
    "\n",
    "master_dataset = OptimizationDataset(dataset_name=\"OpenFF Industry Benchmark Season 1 v1.0\", dataset_tagline=\"The public molecules from the OpenFF Industry Benchmark.\", description=\"The combination of all publicly chossen compound sets by industry partners from the OpenFF season 1 industry benchmark.\")\n",
    "\n",
    "filtered_elements = {\"B\", \"Si\", \"I\"}\n",
    "for ref_dir in [\"boehringer\", \"genentech\", \"janssen\", \"merck\", \"roche\", \"swope\", \"xtalpi\"]:\n",
    "\n",
    "    dataset = load_dataset(os.path.join(ref_dir, \"refdata.json.bz2\"))\n",
    "    \n",
    "    for index, entry in dataset.dataset.items():\n",
    "        # split the index to get the molecule id \n",
    "        mol_id = re.search(\"[A-Z]{3}-[0-9]{5}\", index).group()\n",
    "        mol_id += \"-00\"\n",
    "        # get the symbols to quick filter elements\n",
    "        qcmol_elements = set(entry.initial_molecules[0].symbols)\n",
    "        if qcmol_elements.intersection(filtered_elements) != set():\n",
    "            # add to the filter dataset\n",
    "            if mol_id in filtered_dataset.dataset:\n",
    "                filtered_dataset.dataset[mol_id].initial_molecules.extend(entry.initial_molecules)\n",
    "            else:\n",
    "                filtered_dataset.dataset[mol_id] = entry\n",
    "        else:\n",
    "            # add to the master dataset\n",
    "            if mol_id in master_dataset.dataset:\n",
    "                master_dataset.dataset[mol_id].initial_molecules.extend(entry.initial_molecules)\n",
    "            else:\n",
    "                master_dataset.dataset[mol_id] = entry\n",
    "                "
   ]
  },
  {
   "cell_type": "code",
   "execution_count": null,
   "metadata": {},
   "outputs": [],
   "source": [
    "filtered_dataset.n_molecules"
   ]
  },
  {
   "cell_type": "code",
   "execution_count": null,
   "metadata": {},
   "outputs": [],
   "source": [
    "filtered_dataset.n_records"
   ]
  },
  {
   "cell_type": "code",
   "execution_count": null,
   "metadata": {},
   "outputs": [],
   "source": [
    "filtered_dataset.dataset.keys()"
   ]
  },
  {
   "cell_type": "code",
   "execution_count": null,
   "metadata": {},
   "outputs": [],
   "source": [
    "from rdkit.Chem import Descriptors\n",
    "import numpy as np"
   ]
  },
  {
   "cell_type": "code",
   "execution_count": null,
   "metadata": {},
   "outputs": [],
   "source": [
    "confs = np.array([len(mol.conformers) for mol in master_dataset.molecules])\n",
    "\n",
    "print(\"Number of unique molecules       \", master_dataset.n_molecules)\n",
    "print(\"Number of filtered molecules     \", filtered_dataset.n_molecules)\n",
    "print(\"Number of optimizations         \", master_dataset.n_records)\n",
    "print(\"Number of conformers min mean max\",\n",
    "      confs.min(), \"{:6.2f}\".format(confs.mean()), confs.max())\n",
    "\n",
    "masses = []\n",
    "for molecule in master_dataset.molecules:\n",
    "    rd_mol = molecule.to_rdkit()\n",
    "    mass = Descriptors.ExactMolWt(rd_mol)\n",
    "    masses.append(mass)\n",
    "\n",
    "print(f'Mean molecular weight: {np.mean(np.array(masses)):.2f}')\n",
    "print(f'Max molecular weight: {np.max(np.array(masses)):.2f}')\n",
    "print(\"Charges:\", sorted(set(m.total_charge/m.total_charge.unit for m in master_dataset.molecules)))\n"
   ]
  },
  {
   "cell_type": "code",
   "execution_count": null,
   "metadata": {},
   "outputs": [],
   "source": [
    "from openff import qcsubmit\n",
    "import openforcefield\n",
    "import rdkit\n",
    "from pprint import pprint"
   ]
  },
  {
   "cell_type": "code",
   "execution_count": null,
   "metadata": {},
   "outputs": [],
   "source": [
    "# change the metadata\n",
    "master_dataset.metadata.submitter = \"jthorton\"\n",
    "master_dataset.metadata.long_description_url = (\"https://github.com/openforcefield/qca-dataset-submission/tree/master/\"\n",
    "                                                \"submissions/\"\n",
    "                                                \"2021-03-30-OpenFF-Industry-Benchmark-Season-1-v1.0\")\n",
    "master_dataset.provenance = {\"openff-qcsubmit\": qcsubmit.__version__,\n",
    "                            \"openff-toolkit\": openforcefield.__version__,\n",
    "                            \"rdkit\": rdkit.__version__,\n",
    "                            \"openff-benchamrk\": \"2021.03.17.0\"}\n",
    "\n"
   ]
  },
  {
   "cell_type": "code",
   "execution_count": null,
   "metadata": {},
   "outputs": [],
   "source": [
    "pprint(master_dataset.metadata.dict())"
   ]
  },
  {
   "cell_type": "code",
   "execution_count": null,
   "metadata": {},
   "outputs": [],
   "source": [
    "master_dataset.export_dataset(\"dataset.json.bz2\")\n",
    "master_dataset.molecules_to_file(\"dataset.smi\", \"smi\")"
   ]
  },
  {
   "cell_type": "markdown",
   "metadata": {},
   "source": [
    "# Dataset visualization \n",
    "A manual workaround for rdkit not correclty producing a pdf."
   ]
  },
  {
   "cell_type": "code",
   "execution_count": null,
   "metadata": {},
   "outputs": [],
   "source": [
    "from rdkit.Chem import AllChem, Draw\n",
    "images = []\n",
    "molecules = []\n",
    "for data in master_dataset.dataset.values():\n",
    "    rdkit_mol = data.get_off_molecule(include_conformers=False).to_rdkit()\n",
    "    AllChem.Compute2DCoords(rdkit_mol)\n",
    "    molecules.append(rdkit_mol)\n",
    "# evey 24 molecules split the page\n",
    "for i in range(0, len(molecules), 24):\n",
    "    mol_chunk = molecules[i : i + 24]\n",
    "\n",
    "    # now make the image\n",
    "    image = Draw.MolsToGridImage(\n",
    "        mol_chunk,\n",
    "        molsPerRow=4,\n",
    "        subImgSize=(500, 500),\n",
    "        returnPNG=False\n",
    "    )\n",
    "    # write the pdf to bytes and pass straight to the pdf merger\n",
    "    images.append(image)\n"
   ]
  },
  {
   "cell_type": "code",
   "execution_count": null,
   "metadata": {},
   "outputs": [],
   "source": [
    "images[0].save(\"dataset.pdf\", append_images=images[1:], save_all=True)"
   ]
  }
 ],
 "metadata": {
  "kernelspec": {
   "display_name": "Python 3",
   "language": "python",
   "name": "python3"
  },
  "language_info": {
   "codemirror_mode": {
    "name": "ipython",
    "version": 3
   },
   "file_extension": ".py",
   "mimetype": "text/x-python",
   "name": "python",
   "nbconvert_exporter": "python",
   "pygments_lexer": "ipython3",
   "version": "3.7.8"
  }
 },
 "nbformat": 4,
 "nbformat_minor": 4
}
