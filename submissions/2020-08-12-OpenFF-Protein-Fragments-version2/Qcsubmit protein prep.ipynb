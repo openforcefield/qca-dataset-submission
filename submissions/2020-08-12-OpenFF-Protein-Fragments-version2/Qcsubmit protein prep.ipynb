{
 "cells": [
  {
   "cell_type": "markdown",
   "metadata": {},
   "source": [
    "# QCSubmit protein prep\n",
    "\n",
    "Instructions from David Cerutti\n",
    "The way it's set up, we are scanning phi and psi of the central residue with a random selection of ALA, GLY, SER, or VAL to the N- or C-terminus, and the customary ACE and NME blocking groups outside of that. \n",
    "\n",
    "This notebook will go through the files supplied and extract all of the starting conformations and the restraints built by David using mdgx.\n",
    "\n",
    "Here all molecule mol2 files have a corresponding frozen dihedrals selection file and both must be read and used when making the dataset.\n",
    "\n",
    "The mol2 files also have incorrect bond order so we MUST RE-SAVE THE FILE AS PDB SO WE CAN GET THE CORRECT ORDERS using Openeye to perceive the values. "
   ]
  },
  {
   "cell_type": "code",
   "execution_count": 19,
   "metadata": {},
   "outputs": [],
   "source": [
    "from qcsubmit.factories import OptimizationDatasetFactory\n",
    "from qcsubmit.datasets import OptimizationDataset\n",
    "import os\n",
    "from openforcefield.topology import Molecule\n",
    "from openforcefield.utils.toolkits import RDKitToolkitWrapper\n"
   ]
  },
  {
   "cell_type": "code",
   "execution_count": 20,
   "metadata": {},
   "outputs": [],
   "source": [
    "# now we need to loop through the folders and load the molecules and frozen dihedrals list\n",
    "# lets make sure that the dihedrals are the same in every file\n",
    "def gather_restraints(folder):\n",
    "    \"\"\"\n",
    "    create a set of all of the restraints in the given folder.\n",
    "    \"\"\"\n",
    "    constraints = set()\n",
    "    for file in os.listdir(folder):\n",
    "        if file.endswith(\".frz\"):\n",
    "            # this is a constraint file\n",
    "            with open(os.path.join(folder, file)) as cons_data:\n",
    "                for line in cons_data.readlines()[1:]:\n",
    "                    constraint = [int(x) - 1 for x in line.split()[:4]]\n",
    "                    constraints.add(tuple(constraint))\n",
    "                    \n",
    "    return constraints\n",
    "\n",
    "\n",
    "                    "
   ]
  },
  {
   "cell_type": "code",
   "execution_count": 21,
   "metadata": {},
   "outputs": [],
   "source": [
    "# we need a function to get all of the conformers from the folder and make an openff molecule\n",
    "def gather_conformers(folder):\n",
    "    \"\"\"\n",
    "    create a molecule from all of the conformers in the folder.\n",
    "    \"\"\"\n",
    "    molecules = []\n",
    "    for file in os.listdir(folder):\n",
    "        if file.endswith(\".mol2\"):\n",
    "            # this is one of the molecules\n",
    "            mol2 = Molecule.from_file(os.path.join(folder, file))\n",
    "            # now save again in PDB format\n",
    "            name = file.split(\".\")[0]\n",
    "            # fix issue with openeye reordering when writing files.\n",
    "            mol2.to_file(os.path.join(folder, name + \".pdb\"), \"pdb\", RDKitToolkitWrapper())\n",
    "            # load up the new molecule\n",
    "            pdb = Molecule.from_file(os.path.join(folder, name + \".pdb\"))\n",
    "            molecules.append(pdb)\n",
    "            \n",
    "    # now we need to condense all of the conformers down to one molecule.\n",
    "    return_mol = molecules.pop()\n",
    "    for molecule in molecules:\n",
    "        return_mol.add_conformer(molecule.conformers[0])\n",
    "        \n",
    "    return return_mol"
   ]
  },
  {
   "cell_type": "code",
   "execution_count": 22,
   "metadata": {},
   "outputs": [
    {
     "name": "stderr",
     "output_type": "stream",
     "text": [
      "/Users/joshua/Documents/Software/qcsubmit/qcsubmit/validators.py:300: UserWarning: The molecule C12H19N4O6 has a net charge of -1.0.\n",
      "  UserWarning,\n",
      "/Users/joshua/Documents/Software/qcsubmit/qcsubmit/validators.py:300: UserWarning: The molecule C11H17N4O6 has a net charge of -1.0.\n",
      "  UserWarning,\n",
      "/Users/joshua/Documents/Software/qcsubmit/qcsubmit/validators.py:300: UserWarning: The molecule C14H23N4O6 has a net charge of -1.0.\n",
      "  UserWarning,\n",
      "/Users/joshua/Documents/Software/qcsubmit/qcsubmit/validators.py:300: UserWarning: The molecule C12H19N4O7 has a net charge of -1.0.\n",
      "  UserWarning,\n",
      "/Users/joshua/Documents/Software/qcsubmit/qcsubmit/validators.py:300: UserWarning: The molecule C17H29N4O6 has a net charge of -1.0.\n",
      "  UserWarning,\n",
      "/Users/joshua/Documents/Software/qcsubmit/qcsubmit/validators.py:300: UserWarning: The molecule C15H25N4O6 has a net charge of -1.0.\n",
      "  UserWarning,\n",
      "/Users/joshua/Documents/Software/qcsubmit/qcsubmit/validators.py:300: UserWarning: The molecule C13H21N4O7 has a net charge of -1.0.\n",
      "  UserWarning,\n",
      "/Users/joshua/Documents/Software/qcsubmit/qcsubmit/validators.py:300: UserWarning: The molecule C13H21N4O6 has a net charge of -1.0.\n",
      "  UserWarning,\n",
      "/Users/joshua/Documents/Software/qcsubmit/qcsubmit/validators.py:300: UserWarning: The molecule C15H25N4O7 has a net charge of -1.0.\n",
      "  UserWarning,\n",
      "/Users/joshua/Documents/Software/qcsubmit/qcsubmit/validators.py:300: UserWarning: The molecule C13H21N4O8 has a net charge of -1.0.\n",
      "  UserWarning,\n",
      "/Users/joshua/Documents/Software/qcsubmit/qcsubmit/validators.py:300: UserWarning: The molecule C14H28N7O5 has a net charge of 1.0.\n",
      "  UserWarning,\n",
      "/Users/joshua/Documents/Software/qcsubmit/qcsubmit/validators.py:300: UserWarning: The molecule C16H32N7O4 has a net charge of 1.0.\n",
      "  UserWarning,\n",
      "/Users/joshua/Documents/Software/qcsubmit/qcsubmit/validators.py:300: UserWarning: The molecule C13H26N7O4 has a net charge of 1.0.\n",
      "  UserWarning,\n",
      "/Users/joshua/Documents/Software/qcsubmit/qcsubmit/validators.py:300: UserWarning: The molecule C14H28N7O4 has a net charge of 1.0.\n",
      "  UserWarning,\n",
      "/Users/joshua/Documents/Software/qcsubmit/qcsubmit/validators.py:300: UserWarning: The molecule C17H34N7O5 has a net charge of 1.0.\n",
      "  UserWarning,\n",
      "/Users/joshua/Documents/Software/qcsubmit/qcsubmit/validators.py:300: UserWarning: The molecule C15H30N7O4 has a net charge of 1.0.\n",
      "  UserWarning,\n",
      "/Users/joshua/Documents/Software/qcsubmit/qcsubmit/validators.py:300: UserWarning: The molecule C17H34N7O4 has a net charge of 1.0.\n",
      "  UserWarning,\n",
      "/Users/joshua/Documents/Software/qcsubmit/qcsubmit/validators.py:300: UserWarning: The molecule C15H30N7O5 has a net charge of 1.0.\n",
      "  UserWarning,\n",
      "/Users/joshua/Documents/Software/qcsubmit/qcsubmit/validators.py:300: UserWarning: The molecule C19H38N7O4 has a net charge of 1.0.\n",
      "  UserWarning,\n",
      "/Users/joshua/Documents/Software/qcsubmit/qcsubmit/validators.py:300: UserWarning: The molecule C15H30N7O6 has a net charge of 1.0.\n",
      "  UserWarning,\n",
      "/Users/joshua/Documents/Software/qcsubmit/qcsubmit/validators.py:300: UserWarning: The molecule C16H27N4O6 has a net charge of -1.0.\n",
      "  UserWarning,\n",
      "/Users/joshua/Documents/Software/qcsubmit/qcsubmit/validators.py:300: UserWarning: The molecule C18H31N4O6 has a net charge of -1.0.\n",
      "  UserWarning,\n"
     ]
    }
   ],
   "source": [
    "# now we need to loop over all of the folders and for each one gather the molecule and all of its conformers\n",
    "# and all of the constraints and add them to the dataset.\n",
    "protein_dataset = OptimizationDataset(dataset_name=\"OpenFF Protein Peptide Fragments constrained v1.0\", dataset_tagline=\"Constrained optimization of various protein peptide fragments.\", description=\"Constrained optimizations of protein peptide fragments sampling the phi and psi torsions of the central residue.\")\n",
    "factory = OptimizationDatasetFactory()\n",
    "for folder in os.listdir(\"Input_files\"):\n",
    "    folder_path = os.path.join(\"Input_files\", folder)\n",
    "    if not os.path.isdir(folder_path):\n",
    "        continue\n",
    "    for combination in os.listdir(folder_path):\n",
    "        combination_path = os.path.join(folder_path, combination)\n",
    "        if \".tar\" not in combination_path:\n",
    "            txt_constraints = gather_restraints(combination_path)\n",
    "            conformers = gather_conformers(combination_path)\n",
    "            # create the data needed for the optimization\n",
    "            index = combination.lower()\n",
    "            attributes = factory.create_cmiles_metadata(conformers)\n",
    "            # make the constraints for geometric\n",
    "            geometric_constraints = []\n",
    "            for constraint in txt_constraints:\n",
    "                geometric_constraints.append({\"type\": \"dihedral\", \"indices\": list(constraint)})\n",
    "            keywords = {\"constraints\": {\"freeze\": geometric_constraints}}\n",
    "            protein_dataset.add_molecule(index=index, molecule=conformers, attributes=attributes, keywords=keywords)\n",
    "        \n",
    "        "
   ]
  },
  {
   "cell_type": "code",
   "execution_count": 23,
   "metadata": {},
   "outputs": [],
   "source": [
    "protein_dataset.molecules_to_file(\"fragments.smi\", \"smi\")"
   ]
  },
  {
   "cell_type": "code",
   "execution_count": 24,
   "metadata": {},
   "outputs": [
    {
     "data": {
      "text/plain": [
       "185"
      ]
     },
     "execution_count": 24,
     "metadata": {},
     "output_type": "execute_result"
    }
   ],
   "source": [
    "protein_dataset.n_molecules"
   ]
  },
  {
   "cell_type": "code",
   "execution_count": 25,
   "metadata": {},
   "outputs": [
    {
     "data": {
      "text/plain": [
       "6716"
      ]
     },
     "execution_count": 25,
     "metadata": {},
     "output_type": "execute_result"
    }
   ],
   "source": [
    "protein_dataset.n_records"
   ]
  },
  {
   "cell_type": "code",
   "execution_count": 26,
   "metadata": {},
   "outputs": [
    {
     "data": {
      "text/plain": [
       "{'C', 'H', 'N', 'O', 'S'}"
      ]
     },
     "execution_count": 26,
     "metadata": {},
     "output_type": "execute_result"
    }
   ],
   "source": [
    "protein_dataset.metadata.elements"
   ]
  },
  {
   "cell_type": "code",
   "execution_count": 27,
   "metadata": {},
   "outputs": [],
   "source": [
    "protein_dataset.visualize(\"protein_dataset.pdf\", columns=3)"
   ]
  },
  {
   "cell_type": "code",
   "execution_count": 28,
   "metadata": {},
   "outputs": [],
   "source": [
    "# manual provenance fix\n",
    "import openeye\n",
    "protein_dataset.metadata.long_description_url = \"https://github.com/openforcefield/qca-dataset-submission/tree/master/submissions/2020-08-12-OpenFF-Protein-Fragments-version2\"\n",
    "protein_dataset.provenance = factory.provenance()\n",
    "protein_dataset.provenance[\"openeye\"] = openeye.__version__\n",
    "protein_dataset.metadata.submitter = \"jthorton\""
   ]
  },
  {
   "cell_type": "code",
   "execution_count": 29,
   "metadata": {},
   "outputs": [
    {
     "data": {
      "text/plain": [
       "Metadata(submitter='jthorton', creation_date=datetime.date(2020, 10, 30), collection_type='OptimizationDataset', dataset_name='OpenFF Protein Peptide Fragments constrained v1.0', short_description='Constrained optimization of various protein peptide fragments.', long_description_url=HttpUrl('https://github.com/openforcefield/qca-dataset-submission/tree/master/submissions/2020-08-12-OpenFF-Protein-Fragments-version2', scheme='https', host='github.com', tld='com', host_type='domain', path='/openforcefield/qca-dataset-submission/tree/master/submissions/2020-08-12-OpenFF-Protein-Fragments-version2'), long_description='Constrained optimizations of protein peptide fragments sampling the phi and psi torsions of the central residue.', elements={'H', 'C', 'S', 'O', 'N'})"
      ]
     },
     "execution_count": 29,
     "metadata": {},
     "output_type": "execute_result"
    }
   ],
   "source": [
    "protein_dataset.metadata"
   ]
  },
  {
   "cell_type": "code",
   "execution_count": 30,
   "metadata": {},
   "outputs": [],
   "source": [
    "protein_dataset.export_dataset(\"dataset.json.xz\")"
   ]
  },
  {
   "cell_type": "code",
   "execution_count": 17,
   "metadata": {},
   "outputs": [],
   "source": [
    "protein_dataset._get_missing_basis_coverage()"
   ]
  },
  {
   "cell_type": "code",
   "execution_count": null,
   "metadata": {},
   "outputs": [],
   "source": []
  }
 ],
 "metadata": {
  "kernelspec": {
   "display_name": "Python 3",
   "language": "python",
   "name": "python3"
  },
  "language_info": {
   "codemirror_mode": {
    "name": "ipython",
    "version": 3
   },
   "file_extension": ".py",
   "mimetype": "text/x-python",
   "name": "python",
   "nbconvert_exporter": "python",
   "pygments_lexer": "ipython3",
   "version": "3.7.8"
  },
  "pycharm": {
   "stem_cell": {
    "cell_type": "raw",
    "metadata": {
     "collapsed": false
    },
    "source": []
   }
  }
 },
 "nbformat": 4,
 "nbformat_minor": 4
}
