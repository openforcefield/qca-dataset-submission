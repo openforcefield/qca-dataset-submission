{
 "nbformat": 4,
 "nbformat_minor": 2,
 "metadata": {
  "language_info": {
   "name": "python",
   "codemirror_mode": {
    "name": "ipython",
    "version": 3
   },
   "version": "3.7.6-final"
  },
  "orig_nbformat": 2,
  "file_extension": ".py",
  "mimetype": "text/x-python",
  "name": "python",
  "npconvert_exporter": "python",
  "pygments_lexer": "ipython3",
  "version": 3,
  "kernelspec": {
   "name": "python37664bitqcacondae07bf9ec316c43c4946312e497ec75e6",
   "display_name": "Python 3.7.6 64-bit ('qca': conda)"
  }
 },
 "cells": [
  {
   "cell_type": "code",
   "execution_count": 1,
   "metadata": {},
   "outputs": [
    {
     "name": "stderr",
     "output_type": "stream",
     "text": "RDKit WARNING: [00:08:40] Enabling RDKit 2019.09.3 jupyter extensions\nFailed to import the evaluator package.\n"
    }
   ],
   "source": [
    "# from utils_torsion_dataset_generator import *\n",
    "from util_2nd_round_generator import *"
   ]
  },
  {
   "cell_type": "code",
   "execution_count": 2,
   "metadata": {},
   "outputs": [
    {
     "name": "stderr",
     "output_type": "stream",
     "text": "Warning (not error because allow_undefined_stereo=True): OEMol has unspecified stereochemistry. oemol.GetTitle(): \nProblematic atoms are:\nAtom atomic num: 7, name: , idx: 12, aromatic: False, chiral: True with bonds:\nbond order: 1, chiral: False to atom atomic num: 6, name: , idx: 3, aromatic: True, chiral: False\nbond order: 1, chiral: False to atom atomic num: 6, name: , idx: 6, aromatic: False, chiral: False\nbond order: 1, chiral: False to atom atomic num: 6, name: , idx: 7, aromatic: False, chiral: True\n\nWarning (not error because allow_undefined_stereo=True): OEMol has unspecified stereochemistry. oemol.GetTitle(): \nProblematic atoms are:\nAtom atomic num: 7, name: , idx: 16, aromatic: False, chiral: True with bonds:\nbond order: 1, chiral: False to atom atomic num: 6, name: , idx: 7, aromatic: True, chiral: False\nbond order: 1, chiral: False to atom atomic num: 6, name: , idx: 10, aromatic: False, chiral: False\nbond order: 1, chiral: False to atom atomic num: 6, name: , idx: 11, aromatic: False, chiral: True\n\nWarning (not error because allow_undefined_stereo=True): OEMol has unspecified stereochemistry. oemol.GetTitle(): \nProblematic atoms are:\nAtom atomic num: 7, name: , idx: 10, aromatic: False, chiral: True with bonds:\nbond order: 1, chiral: False to atom atomic num: 6, name: , idx: 3, aromatic: True, chiral: False\nbond order: 1, chiral: False to atom atomic num: 6, name: , idx: 6, aromatic: False, chiral: False\nbond order: 1, chiral: False to atom atomic num: 6, name: , idx: 7, aromatic: False, chiral: False\n\nWarning (not error because allow_undefined_stereo=True): OEMol has unspecified stereochemistry. oemol.GetTitle(): \nProblematic atoms are:\nAtom atomic num: 7, name: , idx: 10, aromatic: False, chiral: True with bonds:\nbond order: 1, chiral: False to atom atomic num: 6, name: , idx: 2, aromatic: True, chiral: False\nbond order: 1, chiral: False to atom atomic num: 6, name: , idx: 7, aromatic: False, chiral: False\nbond order: 1, chiral: False to atom atomic num: 6, name: , idx: 8, aromatic: False, chiral: False\n\nWarning (not error because allow_undefined_stereo=True): OEMol has unspecified stereochemistry. oemol.GetTitle(): \nProblematic atoms are:\nAtom atomic num: 7, name: , idx: 15, aromatic: False, chiral: True with bonds:\nbond order: 1, chiral: False to atom atomic num: 6, name: , idx: 1, aromatic: False, chiral: False\nbond order: 1, chiral: False to atom atomic num: 6, name: , idx: 8, aromatic: False, chiral: False\nbond order: 1, chiral: False to atom atomic num: 6, name: , idx: 10, aromatic: False, chiral: False\n\nWarning (not error because allow_undefined_stereo=True): OEMol has unspecified stereochemistry. oemol.GetTitle(): \nProblematic atoms are:\nAtom atomic num: 7, name: , idx: 15, aromatic: False, chiral: True with bonds:\nbond order: 1, chiral: False to atom atomic num: 6, name: , idx: 1, aromatic: False, chiral: False\nbond order: 1, chiral: False to atom atomic num: 6, name: , idx: 9, aromatic: False, chiral: False\nbond order: 1, chiral: False to atom atomic num: 6, name: , idx: 11, aromatic: False, chiral: False\n\n"
    }
   ],
   "source": [
    "%%capture cap1 --no-stderr\n",
    "# Create force field object\n",
    "forcefield = ForceField('param_valence.offxml', allow_cosmetic_attributes=True)\n",
    "\n",
    "# Create dictionaries storing molecules and attributes \n",
    "molecules_list_dict, molecule_attributes = read_aggregate_molecules(\"pfizer_optimization_inputs.json\")\n",
    "\n",
    "# List torsion parameters and effective rotations matched to each parameter from input molecule set\n",
    "tid_molecules_list = gen_tid_molecules_list(molecule_attributes, molecules_list_dict, forcefield )\n",
    "\n",
    "# Read pickle file containing data downloaded from qcarchive for reuse\n",
    "gen2_torsiondrive_data = download_torsiondrive_data('OpenFF Gen 2 Torsion Set 3 Pfizer Discrepancy', output_pickle='pfizer_gen2_torsiondrive_data.pickle')\n",
    "# List up pre-calculated torsions for re-use\n",
    "gen2_tid_calculated_molecules_list, gen2_molecules_list_dict_from_td = gen_tid_calculated_molecules_list(gen2_torsiondrive_data, forcefield)   \n",
    "\n",
    "# Read pickle file containing data downloaded from qcarchive for reuse\n",
    "with open('pfizer_torsiondrive_data.pickle', 'rb') as pfile:\n",
    "    torsiondrive_data = pickle.load(pfile)\n",
    "tid_calculated_molecules_list, molecules_list_dict_from_td = gen_tid_calculated_molecules_list(torsiondrive_data, forcefield)   \n",
    "\n"
   ]
  },
  {
   "cell_type": "code",
   "execution_count": 3,
   "metadata": {},
   "outputs": [],
   "source": [
    "%%capture cap2 --no-stderr\n",
    "\n",
    "# clustering each list of molecules and tid_molecules_list -> tid_clusters_list\n",
    "# output: `tid_clusters_list[tid] = [..., {'cluster_label': N, 'torsions': [...]}, ...] `\n",
    "tid_clusters_list = gen_tid_clusters_list_mod(tid_molecules_list, fptype=OEFPType_MACCS166)"
   ]
  },
  {
   "cell_type": "code",
   "execution_count": 4,
   "metadata": {},
   "outputs": [],
   "source": [
    "# find if any cluster has pre-calculated torsion and add one more information 'reusable' in the dictionary \n",
    "# if 'reusable' == False, no reusable torsion detacted\n",
    "# tid_clusters_list_detailed[tid] = [ {'cluster_label': N, 'torsions': [...], 'reusable': False or torsion_info}, ...]\n",
    "tid_clusters_list_detailed = find_reusable_cluster(tid_clusters_list, gen2_tid_calculated_molecules_list)"
   ]
  },
  {
   "cell_type": "code",
   "execution_count": 5,
   "metadata": {},
   "outputs": [],
   "source": [
    "# Convert linear dependency (data degenracy) into graph representaion\n",
    "graph_reusable_set, graph_single_coverage_set, graph_multiple_coverage_sets = gen_graph_for_2nd_round(tid_clusters_list_detailed)"
   ]
  },
  {
   "cell_type": "code",
   "execution_count": 6,
   "metadata": {},
   "outputs": [],
   "source": [
    "# randomized optimization procedure for minimization of data-degeneracy\n",
    "selected , final_coverage, final_overlap, coverage_history, overlap_history = find_minimum_degeneracy_for_2nd_round(graph_reusable_set, graph_single_coverage_set, graph_multiple_coverage_sets)"
   ]
  },
  {
   "cell_type": "code",
   "execution_count": 7,
   "metadata": {},
   "outputs": [],
   "source": [
    "%%capture cap3 --no-stderr\n",
    "\n",
    "selected_rotations, molecules_list_dict_updated = select_rotations_for_2nd_round(tid_clusters_list_detailed, selected, molecules_list_dict,  tid_calculated_molecules_list=tid_calculated_molecules_list, molecules_list_dict_from_td=molecules_list_dict_from_td, first_round_tid_calculated_molecules_list=gen2_tid_calculated_molecules_list, first_round_molecules_list_dict_from_td=gen2_molecules_list_dict_from_td)\n",
    "\n",
    "# Store selected molecules into json file\n",
    "gen_json_for_2nd_round(selected_rotations, molecule_attributes, molecules_list_dict_updated, output_json='pfizer_2_selected_torsions.json')\n"
   ]
  },
  {
   "cell_type": "code",
   "execution_count": 8,
   "metadata": {},
   "outputs": [],
   "source": [
    "\n",
    "with open('select.log', 'w') as f:\n",
    "    f.write(cap1.stdout)\n",
    "    f.write(cap2.stdout)\n",
    "    f.write(cap3.stdout)"
   ]
  }
 ]
}