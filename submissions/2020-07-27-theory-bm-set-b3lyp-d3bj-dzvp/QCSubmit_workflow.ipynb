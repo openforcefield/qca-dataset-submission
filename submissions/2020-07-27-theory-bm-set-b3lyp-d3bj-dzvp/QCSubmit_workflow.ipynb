{
 "cells": [
  {
   "cell_type": "code",
   "execution_count": 1,
   "metadata": {},
   "outputs": [
    {
     "output_type": "display_data",
     "data": {
      "text/plain": "",
      "application/vnd.jupyter.widget-view+json": {
       "version_major": 2,
       "version_minor": 0,
       "model_id": "fbe9e723599a475d9e9b2e7a7c4b7ae0"
      }
     },
     "metadata": {}
    }
   ],
   "source": [
    "from qcsubmit.factories import TorsiondriveDatasetFactory\n",
    "from qcsubmit.datasets import TorsiondriveDataset\n",
    "from qcsubmit import workflow_components \n",
    "from qcsubmit.common_structures import TorsionIndexer \n",
    "from openforcefield.topology import Molecule as OFFMolecule\n",
    "\n",
    "# from qcelemental.models import Molecule as QCEMolecule\n",
    "import os, json, tqdm"
   ]
  },
  {
   "cell_type": "code",
   "execution_count": 2,
   "metadata": {},
   "outputs": [
    {
     "output_type": "execute_result",
     "data": {
      "text/plain": "TorsiondriveDatasetFactory(method='B3LYP-D3BJ', basis='DZVP', program='psi4', maxiter=200, driver=<DriverEnum.gradient: 'gradient'>, scf_properties=['dipole', 'quadrupole', 'wiberg_lowdin_indices', 'mayer_indices'], spec_name='default', spec_description='Standard OpenFF optimization quantum chemistry specification.', priority='normal', dataset_tags=['openff'], compute_tag='openff', workflow={}, optimization_program=GeometricProcedure(program='geometric', coordsys='tric', enforce=0.1, epsilon=0.0, reset=True, qccnv=True, molcnv=False, check=0, trust=0.1, tmax=0.3, maxiter=300, convergence_set='GAU', constraints={}), grid_spacings=[15], energy_upper_limit=0.05, dihedral_ranges=None, energy_decrease_thresh=None)"
     },
     "metadata": {},
     "execution_count": 2
    }
   ],
   "source": [
    "factory = TorsiondriveDatasetFactory()\n",
    "factory.scf_properties = ['dipole', 'quadrupole', 'wiberg_lowdin_indices', 'mayer_indices']\n",
    "factory"
   ]
  },
  {
   "cell_type": "code",
   "execution_count": 3,
   "metadata": {},
   "outputs": [],
   "source": [
    "# now write the settings out\n",
    "factory.export_settings(\"theory-bm-set_setttings.yaml\")"
   ]
  },
  {
   "cell_type": "code",
   "execution_count": 4,
   "metadata": {},
   "outputs": [],
   "source": [
    "# now create the dataset from the pdbs in the pdb folder\n",
    "\n",
    "dataset = factory.create_dataset(dataset_name=\"Theory benchmarking set B3LYP-D3BJ DZVP\", molecules=[], description=\"A torsiondrive dataset for benchmarking B3LYP-D3BJ/DZVP\", tagline=\"Torsiondrives for benchmarking B3LYP-D3BJ/DZVP\")"
   ]
  },
  {
   "cell_type": "code",
   "execution_count": 5,
   "metadata": {},
   "outputs": [],
   "source": [
    "with open('input_torsions.json') as infile:\n",
    "    selected_torsions = json.load(infile)"
   ]
  },
  {
   "cell_type": "code",
   "execution_count": 6,
   "metadata": {
    "tags": []
   },
   "outputs": [
    {
     "output_type": "stream",
     "name": "stderr",
     "text": "8%|▊         | 3/36 [00:00<00:08,  3.67it/s]0: 2\n1: 1\n2: 1\n 14%|█▍        | 5/36 [00:00<00:06,  4.76it/s]3: 5\n4: 2\n 19%|█▉        | 7/36 [00:00<00:05,  5.62it/s]5: 2\n6: 1\n7: 2\n 31%|███       | 11/36 [00:01<00:03,  8.02it/s]8: 1\n9: 2\n10: 2\n 36%|███▌      | 13/36 [00:01<00:02,  8.39it/s]11: 2\n12: 5\n 42%|████▏     | 15/36 [00:01<00:02,  9.30it/s]13: 1\n14: 2\n15: 1\n 53%|█████▎    | 19/36 [00:01<00:01, 10.75it/s]16: 2\n17: 1\n18: 1\n 64%|██████▍   | 23/36 [00:02<00:01, 12.72it/s]19: 1\n20: 4\n21: 4\n22: 1\n 69%|██████▉   | 25/36 [00:02<00:00, 12.69it/s]23: 4\n24: 1\n25: 3\n26: 3\n 81%|████████  | 29/36 [00:02<00:00, 14.18it/s]27: 2\n28: 2\n29: 1\n 92%|█████████▏| 33/36 [00:02<00:00, 12.38it/s]30: 2\n31: 3\n32: 2\n 97%|█████████▋| 35/36 [00:03<00:00, 12.23it/s]33: 3\n34: 5\n100%|██████████| 36/36 [00:03<00:00, 10.63it/s]35: 5\n\n"
    }
   ],
   "source": [
    "for idx, (canonical_torsion_index, torsion_data) in enumerate(tqdm.tqdm(selected_torsions.items())):\n",
    "    attributes = torsion_data[\"attributes\"]\n",
    "    torsion_atom_indices = torsion_data[\"atom_indices\"]\n",
    "    grid_spacings = [15] * len(torsion_atom_indices)\n",
    "    initial_molecules = torsion_data[\"initial_molecules\"]\n",
    "    # molecule = OFFMolecule.from_qcschema(torsion_data, client=client) # not working for some reason. need to  dig into\n",
    "    molecule = OFFMolecule.from_qcschema(torsion_data)\n",
    "    molecule.generate_conformers(n_conformers = 5)\n",
    "    print(f'{idx}: {molecule.n_conformers}')\n",
    "    dataset.add_molecule(index=idx,  molecule= molecule, attributes=attributes, dihedrals=torsion_atom_indices)"
   ]
  },
  {
   "cell_type": "code",
   "execution_count": 8,
   "metadata": {},
   "outputs": [
    {
     "output_type": "execute_result",
     "data": {
      "text/plain": "'default'"
     },
     "metadata": {},
     "execution_count": 8
    }
   ],
   "source": [
    "dataset.spec_name"
   ]
  },
  {
   "cell_type": "code",
   "execution_count": 9,
   "metadata": {},
   "outputs": [
    {
     "output_type": "execute_result",
     "data": {
      "text/plain": "31"
     },
     "metadata": {},
     "execution_count": 9
    }
   ],
   "source": [
    "dataset.n_molecules"
   ]
  },
  {
   "cell_type": "code",
   "execution_count": 10,
   "metadata": {},
   "outputs": [
    {
     "output_type": "execute_result",
     "data": {
      "text/plain": "36"
     },
     "metadata": {},
     "execution_count": 10
    }
   ],
   "source": [
    "dataset.n_records"
   ]
  },
  {
   "cell_type": "code",
   "execution_count": 11,
   "metadata": {},
   "outputs": [],
   "source": [
    "dataset.metadata.long_description_url = \"https://github.com/openforcefield/qca-dataset-submission/tree/master/submissions/2020-07-27-theory-bm-set-b3lyp-d3bj-dzvp\""
   ]
  },
  {
   "cell_type": "code",
   "execution_count": 12,
   "metadata": {},
   "outputs": [],
   "source": [
    "\n",
    "# export the dataset\n",
    "dataset.export_dataset(\"dataset.json\")"
   ]
  },
  {
   "cell_type": "code",
   "execution_count": 13,
   "metadata": {},
   "outputs": [],
   "source": [
    "dataset.molecules_to_file(\"theory-bm-set-curated.smi\", \"smi\")"
   ]
  },
  {
   "cell_type": "code",
   "execution_count": 14,
   "metadata": {},
   "outputs": [],
   "source": [
    "# export the molecules to pdf with torsions highlighted\n",
    "dataset.visualize(\"theory-bm-set-curated.pdf\", 'openeye')"
   ]
  }
 ],
 "metadata": {
  "language_info": {
   "codemirror_mode": {
    "name": "ipython",
    "version": 3
   },
   "file_extension": ".py",
   "mimetype": "text/x-python",
   "name": "python",
   "nbconvert_exporter": "python",
   "pygments_lexer": "ipython3",
   "version": 3
  },
  "orig_nbformat": 2,
  "kernelspec": {
   "name": "python_defaultSpec_1595879535660",
   "display_name": "Python 3.6.10 64-bit ('qcsubmit': conda)"
  }
 },
 "nbformat": 4,
 "nbformat_minor": 2
}