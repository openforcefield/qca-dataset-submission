{
 "cells": [
  {
   "cell_type": "code",
   "execution_count": 1,
   "metadata": {},
   "outputs": [
    {
     "data": {
      "application/vnd.jupyter.widget-view+json": {
       "model_id": "fbe9e723599a475d9e9b2e7a7c4b7ae0",
       "version_major": 2,
       "version_minor": 0
      },
      "text/plain": []
     },
     "metadata": {},
     "output_type": "display_data"
    }
   ],
   "source": [
    "from qcsubmit.factories import TorsiondriveDatasetFactory\n",
    "from qcsubmit.datasets import TorsiondriveDataset\n",
    "from qcsubmit import workflow_components \n",
    "from qcsubmit.common_structures import TorsionIndexer \n",
    "from openforcefield.topology import Molecule as OFFMolecule\n",
    "\n",
    "# from qcelemental.models import Molecule as QCEMolecule\n",
    "import os, json, tqdm"
   ]
  },
  {
   "cell_type": "code",
   "execution_count": 2,
   "metadata": {},
   "outputs": [
    {
     "data": {
      "text/plain": [
       "TorsiondriveDatasetFactory(method='B3LYP-D3BJ', basis='DZVP', program='psi4', maxiter=200, driver=<DriverEnum.gradient: 'gradient'>, scf_properties=['dipole', 'quadrupole', 'wiberg_lowdin_indices', 'mayer_indices'], spec_name='default', spec_description='Standard OpenFF optimization quantum chemistry specification.', priority='normal', dataset_tags=['openff'], compute_tag='openff', workflow={}, optimization_program=GeometricProcedure(program='geometric', coordsys='tric', enforce=0.1, epsilon=0.0, reset=True, qccnv=True, molcnv=False, check=0, trust=0.1, tmax=0.3, maxiter=300, convergence_set='GAU', constraints={}), grid_spacings=[15], energy_upper_limit=0.05, dihedral_ranges=None, energy_decrease_thresh=None)"
      ]
     },
     "execution_count": 2,
     "metadata": {},
     "output_type": "execute_result"
    }
   ],
   "source": [
    "factory = TorsiondriveDatasetFactory()\n",
    "factory.scf_properties = ['dipole', 'quadrupole', 'wiberg_lowdin_indices', 'mayer_indices']\n",
    "factory"
   ]
  },
  {
   "cell_type": "code",
   "execution_count": 3,
   "metadata": {},
   "outputs": [],
   "source": [
    "# now write the settings out\n",
    "factory.export_settings(\"theory-bm-set_setttings.yaml\")"
   ]
  },
  {
   "cell_type": "code",
   "execution_count": 4,
   "metadata": {},
   "outputs": [],
   "source": [
    "# now create the dataset from the pdbs in the pdb folder\n",
    "\n",
    "dataset = factory.create_dataset(dataset_name=\"OpenFF Theory Benchmarking Set B3LYP-D3BJ DZVP v1.0\", molecules=[], description=\"A torsiondrive dataset for benchmarking B3LYP-D3BJ/DZVP\", tagline=\"Torsiondrives for benchmarking B3LYP-D3BJ/DZVP\")"
   ]
  },
  {
   "cell_type": "code",
   "execution_count": 5,
   "metadata": {},
   "outputs": [],
   "source": [
    "with open('input_torsions.json') as infile:\n",
    "    selected_torsions = json.load(infile)"
   ]
  },
  {
   "cell_type": "code",
   "execution_count": 6,
   "metadata": {
    "tags": []
   },
   "outputs": [
    {
     "name": "stderr",
     "output_type": "stream",
     "text": [
      "8%|▊         | 3/36 [00:00<00:08,  3.67it/s]0: 2\n",
      "1: 1\n",
      "2: 1\n",
      " 14%|█▍        | 5/36 [00:00<00:06,  4.76it/s]3: 5\n",
      "4: 2\n",
      " 19%|█▉        | 7/36 [00:00<00:05,  5.62it/s]5: 2\n",
      "6: 1\n",
      "7: 2\n",
      " 31%|███       | 11/36 [00:01<00:03,  8.02it/s]8: 1\n",
      "9: 2\n",
      "10: 2\n",
      " 36%|███▌      | 13/36 [00:01<00:02,  8.39it/s]11: 2\n",
      "12: 5\n",
      " 42%|████▏     | 15/36 [00:01<00:02,  9.30it/s]13: 1\n",
      "14: 2\n",
      "15: 1\n",
      " 53%|█████▎    | 19/36 [00:01<00:01, 10.75it/s]16: 2\n",
      "17: 1\n",
      "18: 1\n",
      " 64%|██████▍   | 23/36 [00:02<00:01, 12.72it/s]19: 1\n",
      "20: 4\n",
      "21: 4\n",
      "22: 1\n",
      " 69%|██████▉   | 25/36 [00:02<00:00, 12.69it/s]23: 4\n",
      "24: 1\n",
      "25: 3\n",
      "26: 3\n",
      " 81%|████████  | 29/36 [00:02<00:00, 14.18it/s]27: 2\n",
      "28: 2\n",
      "29: 1\n",
      " 92%|█████████▏| 33/36 [00:02<00:00, 12.38it/s]30: 2\n",
      "31: 3\n",
      "32: 2\n",
      " 97%|█████████▋| 35/36 [00:03<00:00, 12.23it/s]33: 3\n",
      "34: 5\n",
      "100%|██████████| 36/36 [00:03<00:00, 10.63it/s]35: 5\n",
      "\n"
     ]
    }
   ],
   "source": [
    "for idx, (canonical_torsion_index, torsion_data) in enumerate(tqdm.tqdm(selected_torsions.items())):\n",
    "    attributes = torsion_data[\"attributes\"]\n",
    "    torsion_atom_indices = torsion_data[\"atom_indices\"]\n",
    "    grid_spacings = [15] * len(torsion_atom_indices)\n",
    "    initial_molecules = torsion_data[\"initial_molecules\"]\n",
    "    # molecule = OFFMolecule.from_qcschema(torsion_data, client=client) # not working for some reason. need to  dig into\n",
    "    molecule = OFFMolecule.from_qcschema(torsion_data)\n",
    "    molecule.generate_conformers(n_conformers = 5)\n",
    "    print(f'{idx}: {molecule.n_conformers}')\n",
    "    dataset.add_molecule(index=idx,  molecule= molecule, attributes=attributes, dihedrals=torsion_atom_indices)"
   ]
  },
  {
   "cell_type": "code",
   "execution_count": 8,
   "metadata": {},
   "outputs": [
    {
     "data": {
      "text/plain": [
       "'default'"
      ]
     },
     "execution_count": 8,
     "metadata": {},
     "output_type": "execute_result"
    }
   ],
   "source": [
    "dataset.spec_name"
   ]
  },
  {
   "cell_type": "code",
   "execution_count": 9,
   "metadata": {},
   "outputs": [
    {
     "data": {
      "text/plain": [
       "31"
      ]
     },
     "execution_count": 9,
     "metadata": {},
     "output_type": "execute_result"
    }
   ],
   "source": [
    "dataset.n_molecules"
   ]
  },
  {
   "cell_type": "code",
   "execution_count": 10,
   "metadata": {},
   "outputs": [
    {
     "data": {
      "text/plain": [
       "36"
      ]
     },
     "execution_count": 10,
     "metadata": {},
     "output_type": "execute_result"
    }
   ],
   "source": [
    "dataset.n_records"
   ]
  },
  {
   "cell_type": "code",
   "execution_count": 11,
   "metadata": {},
   "outputs": [],
   "source": [
    "dataset.metadata.long_description_url = \"https://github.com/openforcefield/qca-dataset-submission/tree/master/submissions/2020-07-27-theory-bm-set-b3lyp-d3bj-dzvp\""
   ]
  },
  {
   "cell_type": "code",
   "execution_count": 12,
   "metadata": {},
   "outputs": [],
   "source": [
    "\n",
    "# export the dataset\n",
    "dataset.export_dataset(\"dataset.json\")"
   ]
  },
  {
   "cell_type": "code",
   "execution_count": 13,
   "metadata": {},
   "outputs": [],
   "source": [
    "dataset.molecules_to_file(\"theory-bm-set-curated.smi\", \"smi\")"
   ]
  },
  {
   "cell_type": "code",
   "execution_count": 14,
   "metadata": {},
   "outputs": [],
   "source": [
    "# export the molecules to pdf with torsions highlighted\n",
    "dataset.visualize(\"theory-bm-set-curated.pdf\", 'openeye')"
   ]
  }
 ],
 "metadata": {
  "kernelspec": {
   "display_name": "Python 3",
   "language": "python",
   "name": "python3"
  },
  "language_info": {
   "codemirror_mode": {
    "name": "ipython",
    "version": 3
   },
   "file_extension": ".py",
   "mimetype": "text/x-python",
   "name": "python",
   "nbconvert_exporter": "python",
   "pygments_lexer": "ipython3",
   "version": "3.7.8"
  }
 },
 "nbformat": 4,
 "nbformat_minor": 4
}
