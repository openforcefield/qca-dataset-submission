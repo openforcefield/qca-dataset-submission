{
 "cells": [
  {
   "cell_type": "code",
   "execution_count": 1,
   "id": "58a7c165",
   "metadata": {},
   "outputs": [],
   "source": [
    "import json\n",
    "import requests\n",
    "import datetime\n",
    "from collections import Counter, defaultdict\n",
    "\n",
    "import numpy as np\n",
    "from deepdiff import DeepDiff\n",
    "import periodictable\n",
    "\n",
    "from qcportal import PortalClient\n",
    "from qcportal.external import scaffold\n",
    "from qcportal.serialization import encode_to_json\n",
    "from qcportal.optimization import OptimizationDatasetEntry\n",
    "from qcportal.torsiondrive import TorsiondriveDatasetEntry\n",
    "DatasetEntry = {\"optimization\": OptimizationDatasetEntry, \"torsiondrive\": TorsiondriveDatasetEntry}\n",
    "\n",
    "ADDRESS = \"https://api.qcarchive.molssi.org:443/\"\n",
    "client = PortalClient(ADDRESS, cache_dir=\".\")"
   ]
  },
  {
   "cell_type": "markdown",
   "id": "865126a7",
   "metadata": {},
   "source": [
    "# Get Records and Molecular Statistics"
   ]
  },
  {
   "cell_type": "code",
   "execution_count": 2,
   "id": "d506e035",
   "metadata": {},
   "outputs": [
    {
     "name": "stdout",
     "output_type": "stream",
     "text": [
      "Getting record ids\n"
     ]
    }
   ],
   "source": [
    "# _________ Pull Record IDs of Relevant Datasets ____________\n",
    "print(\"Getting record ids\")\n",
    "\n",
    "file = requests.get(\n",
    "    \"https://raw.githubusercontent.com/openforcefield/sage-2.2.0/5a4b058336506865e85fcdc6fd6d10c745a3fa7c/02_curate-data/output/optimization-training-set.json\"\n",
    ")\n",
    "data = json.loads(file.content)\n",
    "provenance = data[\"provenance\"]\n",
    "# list with: {type, record_id, cmiles, inchi_key}\n",
    "entry_dicts = data[\"entries\"][ADDRESS]\n",
    "dataset_type = entry_dicts[0][\"type\"]\n"
   ]
  },
  {
   "cell_type": "code",
   "execution_count": 3,
   "id": "33a76ba5",
   "metadata": {},
   "outputs": [
    {
     "name": "stdout",
     "output_type": "stream",
     "text": [
      "Getting records\n"
     ]
    }
   ],
   "source": [
    "# _________ Get Records ____________\n",
    "print(\"Getting records\")\n",
    "records = client.get_records([int(x[\"record_id\"]) for x in entry_dicts], missing_ok=False)"
   ]
  },
  {
   "cell_type": "code",
   "execution_count": 4,
   "id": "4e2fbdf5",
   "metadata": {},
   "outputs": [
    {
     "name": "stdout",
     "output_type": "stream",
     "text": [
      "There are 5126 records (conformers) and 1691 unique SMILES strings (unique molecules)\n"
     ]
    }
   ],
   "source": [
    "cmiles_by_record_id = {\n",
    "    int(x[\"record_id\"]): {\"cmiles\": x[\"cmiles\"], \"mol\": None} \n",
    "    for x in entry_dicts\n",
    "}\n",
    "for record in records:\n",
    "    cmiles_by_record_id[record.id][\"mol\"] = record.initial_molecule\n",
    "    \n",
    "cmiles_count = defaultdict(Counter)\n",
    "molecules = []\n",
    "for recid, x in cmiles_by_record_id.items():\n",
    "    cmiles = x[\"cmiles\"]\n",
    "\n",
    "    if cmiles not in cmiles_count:\n",
    "        molecules.append(x[\"mol\"])\n",
    "    hash = x[\"mol\"].get_hash()\n",
    "    cmiles_count[cmiles][hash] += 1\n",
    "    \n",
    "print(f\"There are {len(records)} records (conformers) and {len(cmiles_count)} unique SMILES strings (unique molecules)\")"
   ]
  },
  {
   "cell_type": "code",
   "execution_count": 5,
   "id": "c32e1770",
   "metadata": {},
   "outputs": [
    {
     "name": "stdout",
     "output_type": "stream",
     "text": [
      "Generating Molecular Statistics\n"
     ]
    }
   ],
   "source": [
    "# _________ Pull Statistics from Dataset ____________\n",
    "     \n",
    "print(\"Generating Molecular Statistics\")\n",
    "\n",
    "lx = len(cmiles_count)\n",
    "n_confs, n_heavy_atoms, masses, unique_charges = np.zeros(lx), [], np.zeros(lx), np.zeros(lx)\n",
    "elements = []\n",
    "for i, (cmiles, hashes) in enumerate(cmiles_count.items()):\n",
    "    n_confs[i] = len(hashes)\n",
    "    n_heavy_atoms.append(len([x for x in molecules[i].symbols if x != \"H\"]))\n",
    "    elements.extend(list(set([x for x in molecules[i].symbols])))\n",
    "    masses[i] = sum([getattr(periodictable, x).mass for x in molecules[i].symbols])\n",
    "    unique_charges[i] = molecules[i].molecular_charge\n",
    "    \n",
    "unique_charges = sorted(set(unique_charges))\n",
    "\n",
    "elements = sorted(list(set(elements)))"
   ]
  },
  {
   "cell_type": "code",
   "execution_count": 6,
   "id": "bf1a7e63",
   "metadata": {},
   "outputs": [
    {
     "name": "stdout",
     "output_type": "stream",
     "text": [
      "\n",
      "# Heavy Atom Counts\n",
      "  1: 1\n",
      "  2: 3\n",
      "  3: 4\n",
      "  4: 9\n",
      "  5: 12\n",
      "  6: 17\n",
      "  7: 33\n",
      "  8: 62\n",
      "  9: 73\n",
      " 10: 121\n",
      " 11: 152\n",
      " 12: 153\n",
      " 13: 151\n",
      " 14: 130\n",
      " 15: 137\n",
      " 16: 74\n",
      " 17: 73\n",
      " 18: 56\n",
      " 19: 51\n",
      " 20: 41\n",
      " 21: 47\n",
      " 22: 33\n",
      " 23: 29\n",
      " 24: 24\n",
      " 25: 32\n",
      " 26: 7\n",
      " 27: 14\n",
      " 28: 17\n",
      " 29: 14\n",
      " 30: 9\n",
      " 31: 21\n",
      " 32: 21\n",
      " 33: 13\n",
      " 34: 12\n",
      " 35: 5\n",
      " 36: 18\n",
      " 37: 8\n",
      " 38: 9\n",
      " 39: 5\n",
      "* Number of unique molecules: 1691\n",
      "* Number of conformers: 5126\n",
      "* Number of conformers (min, mean, max): 1.00, 3.03, 12.00\n",
      "* Molecular weight (min, mean, max): 16.04, 236.01, 544.64\n",
      "* Charges: -3.0, -2.0, -1.0, 0.0, 1.0, 2.0\n"
     ]
    }
   ],
   "source": [
    "# _________ Write Output Part 1 (Run Before Approval) ____________\n",
    "\n",
    "print(\"\\n# Heavy Atom Counts\")\n",
    "counts1 = Counter(n_heavy_atoms)\n",
    "for n_heavy in sorted(counts1):\n",
    "    print(f\"{str(n_heavy):>3}: {counts1[n_heavy]}\")\n",
    "\n",
    "print(\"* Number of unique molecules: {}\".format(len(cmiles_count)))\n",
    "print(\"* Number of conformers:\", int(sum(n_confs)))\n",
    "print(\n",
    "    \"* Number of conformers (min, mean, max): {:.2f}, {:.2f}, {:.2f}\".format(\n",
    "        min(n_confs), np.mean(n_confs), max(n_confs)\n",
    "    )\n",
    ")\n",
    "print(\n",
    "    \"* Molecular weight (min, mean, max): {:.2f}, {:.2f}, {:.2f}\".format(\n",
    "        min(masses), np.mean(masses), max(masses)\n",
    "    )\n",
    ")\n",
    "print(\"* Charges: {}\".format(\", \".join([str(x) for x in unique_charges])))"
   ]
  },
  {
   "cell_type": "markdown",
   "id": "c490f387",
   "metadata": {},
   "source": [
    "# Validate Inter-database Record Entry Names and Specifications "
   ]
  },
  {
   "cell_type": "code",
   "execution_count": 7,
   "id": "053c54a9",
   "metadata": {},
   "outputs": [
    {
     "name": "stdout",
     "output_type": "stream",
     "text": [
      "We expect our records to come from the following datasets: [251, 253, 255, 254, 270, 345, 372, 41, 43, 315]\n",
      "There are 0 records that aren't in the datasets that we expect.\n"
     ]
    }
   ],
   "source": [
    "# Get Dataset Ids of Interest:\n",
    "dataset_names = [\n",
    "    \"OpenFF Gen 2 Opt Set 1 Roche\",\n",
    "    \"OpenFF Gen 2 Opt Set 2 Coverage\",\n",
    "    \"OpenFF Gen 2 Opt Set 3 Pfizer Discrepancy\",\n",
    "    \"OpenFF Gen 2 Opt Set 4 eMolecules Discrepancy\",\n",
    "    \"OpenFF Gen 2 Opt Set 5 Bayer\",\n",
    "    \"OpenFF Gen2 Optimization Dataset Protomers v1.0\",\n",
    "    \"OpenFF Iodine Chemistry Optimization Dataset v1.0\",\n",
    "    \"OpenFF Optimization Set 1\",\n",
    "    \"SMIRNOFF Coverage Set 1\",\n",
    "    \"OpenFF Aniline Para Opt v1.0\",\n",
    "]\n",
    "dataset_ids = [client.get_dataset(dataset_type, ds_name).id for ds_name in dataset_names]\n",
    "print(f\"We expect our records to come from the following datasets: {dataset_ids}\")\n",
    "\n",
    "record_ids = set([int(x[\"record_id\"]) for x in entry_dicts])\n",
    "tmp_ds_ids1 = []\n",
    "wrong_ds1 = defaultdict(list)\n",
    "for rec_id in record_ids:\n",
    "    response = client.query_dataset_records(record_id=[rec_id])\n",
    "    ds_name = None\n",
    "    for resp in response:\n",
    "        if resp[\"dataset_name\"] in dataset_names:\n",
    "            tmp_ds_ids1.append(resp[\"dataset_name\"])\n",
    "            ds_name = resp[\"dataset_name\"]\n",
    "    if ds_name is None:\n",
    "        wrong_ds1[rec_id] = [resp[\"dataset_name\"] for resp in response]\n",
    "tmp_ds_ids1 = set(tmp_ds_ids1)\n",
    "print(f\"There are {len(wrong_ds1)} records that aren't in the datasets that we expect.\")"
   ]
  },
  {
   "cell_type": "code",
   "execution_count": 8,
   "id": "63e4c463",
   "metadata": {},
   "outputs": [
    {
     "name": "stdout",
     "output_type": "stream",
     "text": [
      "These records have 5 unique specifications\n"
     ]
    }
   ],
   "source": [
    "# __________ Check that all records share a single specification __________\n",
    "specification_list = []\n",
    "for rec in records:\n",
    "    tmp = encode_to_json(rec.specification)\n",
    "    if all(len(DeepDiff(tmp, x)) > 0 for x in specification_list) or not specification_list:\n",
    "        specification_list.append(tmp)\n",
    "        \n",
    "print(f\"These records have {len(specification_list)} unique specifications\")"
   ]
  },
  {
   "cell_type": "code",
   "execution_count": 9,
   "id": "503e3b35",
   "metadata": {},
   "outputs": [
    {
     "name": "stdout",
     "output_type": "stream",
     "text": [
      "The follow datasets (represented by their ids) share a spec: [[251, 253, 255, 254, 270], [41], [43], [345], [372, 315]]\n"
     ]
    }
   ],
   "source": [
    "specification_ds_ids = [[] for _ in range(len(specification_list))]\n",
    "for ds_name in dataset_names:\n",
    "    tmp_ds = client.get_dataset(dataset_type, ds_name)\n",
    "    spec = encode_to_json(tmp_ds.specifications[\"default\"].specification)\n",
    "    for i, ref_spec in enumerate(specification_list):\n",
    "        if len(DeepDiff(spec, ref_spec)) == 0:\n",
    "            specification_ds_ids[i].append(tmp_ds.id)\n",
    "            break\n",
    "print(f\"The follow datasets (represented by their ids) share a spec: {specification_ds_ids}\")"
   ]
  },
  {
   "cell_type": "code",
   "execution_count": 10,
   "id": "7355227d",
   "metadata": {},
   "outputs": [
    {
     "name": "stdout",
     "output_type": "stream",
     "text": [
      "Entry names representing different records when in different datasets.\n",
      "3 c1cc(c(=o)[nh]c1)cn2cc[nh2+]cc2-1\n",
      "     18433009 ['OpenFF Gen 2 Opt Set 1 Roche', 'OpenFF Sage 2.0.0 Optimization Training Dataset v1.1']\n",
      "     1760625 ['OpenFF Optimization Set 1']\n",
      "3 cc1ccccc1c(=o)c2ccccc2f-6\n",
      "     1760494 ['OpenFF Optimization Set 1']\n",
      "     18433027 ['OpenFF Gen 2 Opt Set 1 Roche', 'OpenFF Sage 2.0.0 Optimization Training Dataset v1.1']\n",
      "3 cc1ccccc1c(=o)c2ccccc2f-3\n",
      "     18433024 ['OpenFF Gen 2 Opt Set 1 Roche', 'OpenFF Sage 2.0.0 Optimization Training Dataset v1.1']\n",
      "     1760491 ['OpenFF Optimization Set 1']\n",
      "3 c1ccc(cc1)c[n@@]2ccccs2(=o)=o-3\n",
      "     18433032 ['OpenFF Gen 2 Opt Set 1 Roche', 'OpenFF Sage 2.0.0 Optimization Training Dataset v1.1']\n",
      "     1760743 ['OpenFF Optimization Set 1']\n",
      "3 c[c@@h](c1ccccc1)oc2ccccc2-3\n",
      "     1760423 ['OpenFF Optimization Set 1']\n",
      "     18433061 ['OpenFF Gen 2 Opt Set 1 Roche', 'OpenFF Sage 2.0.0 Optimization Training Dataset v1.1']\n",
      "3 c1ccc(c(c1)o)oc2ccccn2-5\n",
      "     1760673 ['OpenFF Optimization Set 1']\n",
      "     18433125 ['OpenFF Gen 2 Opt Set 1 Roche', 'OpenFF Sage 2.0.0 Optimization Training Dataset v1.1']\n",
      "3 c1ccc(c(c1)o)oc2ccccn2-2\n",
      "     18433122 ['OpenFF Gen 2 Opt Set 1 Roche', 'OpenFF Sage 2.0.0 Optimization Training Dataset v1.1']\n",
      "     1760671 ['OpenFF Optimization Set 1']\n",
      "3 coc1ccccc1nc(=o)nc2ccccn2-4\n",
      "     1760383 ['OpenFF Optimization Set 1']\n",
      "     18433161 ['OpenFF Gen 2 Opt Set 1 Roche', 'OpenFF Sage 2.0.0 Optimization Training Dataset v1.1']\n",
      "3 coc1ccccc1nc(=o)nc2ccccn2-2\n",
      "     1760381 ['OpenFF Optimization Set 1']\n",
      "     18433159 ['OpenFF Gen 2 Opt Set 1 Roche', 'OpenFF Sage 2.0.0 Optimization Training Dataset v1.1']\n",
      "3 c1ccc(cc1)c(=o)nc2ncco2-3\n",
      "     18433287 ['OpenFF Gen 2 Opt Set 1 Roche', 'OpenFF Sage 2.0.0 Optimization Training Dataset v1.1']\n",
      "     1760699 ['OpenFF Optimization Set 1']\n",
      "3 c1ccc(c(c1)c[n@@]2ccccs2(=o)=o)o-9\n",
      "     18433361 ['OpenFF Gen 2 Opt Set 1 Roche', 'OpenFF Sage 2.0.0 Optimization Training Dataset v1.1']\n",
      "     1760667 ['OpenFF Optimization Set 1']\n",
      "3 c1ccc(c(c1)c[n@@]2ccccs2(=o)=o)o-5\n",
      "     1760663 ['OpenFF Optimization Set 1']\n",
      "     18433357 ['OpenFF Gen 2 Opt Set 1 Roche', 'OpenFF Sage 2.0.0 Optimization Training Dataset v1.1']\n",
      "3 c1ccc(c(c1)c[n@@]2ccccs2(=o)=o)o-8\n",
      "     1760666 ['OpenFF Optimization Set 1']\n",
      "     18433360 ['OpenFF Gen 2 Opt Set 1 Roche', 'OpenFF Sage 2.0.0 Optimization Training Dataset v1.1']\n",
      "3 c1ccc(c(c1)c#n)nc(=o)nc2ccccn2-3\n",
      "     1760643 ['OpenFF Optimization Set 1']\n",
      "     18433371 ['OpenFF Gen 2 Opt Set 1 Roche', 'OpenFF Sage 2.0.0 Optimization Training Dataset v1.1']\n",
      "We will rename all of these entry names later to include their respective dataset id of origin.\n"
     ]
    }
   ],
   "source": [
    "# Determine if multiple datasets have entries with the same name\n",
    "entry_dict = defaultdict(lambda: defaultdict(list))\n",
    "for rec in records:\n",
    "    response = client.query_dataset_records(record_id=[rec.id])\n",
    "    for resp in response:\n",
    "        if resp[\"dataset_name\"] != \"OpenFF Sage 2.0.0 Torsion Drive Training Dataset v1.0\":\n",
    "            entry_dict[resp[\"entry_name\"]][\"orig records\"].append((rec.id, resp[\"dataset_name\"]))\n",
    "        \n",
    "print(\"Entry names representing different records when in different datasets.\")\n",
    "repeat_entry_names = defaultdict(list)\n",
    "for entry_name, tmp_record_dict in entry_dict.items():\n",
    "    tmp = tmp_record_dict[\"orig records\"]\n",
    "    if len(tmp) > 1: # entry name is in multiple datasets\n",
    "        tmp_dict = defaultdict(list)\n",
    "        for x in tmp:\n",
    "            tmp_dict[x[0]].append(x[1])\n",
    "        if len(tmp_dict) > 1: # entry name is assigned to multiple different records\n",
    "            print(len(tmp), entry_name)\n",
    "            for rec_id, tmp_ds_names in tmp_dict.items():\n",
    "                repeat_entry_names[entry_name].append(rec_id)\n",
    "                print(\"    \", rec_id, tmp_ds_names)\n",
    "print(\"We will rename all of these entry names later to include their respective dataset id of origin.\")"
   ]
  },
  {
   "cell_type": "code",
   "execution_count": 11,
   "id": "0a4d71ef",
   "metadata": {},
   "outputs": [
    {
     "name": "stdout",
     "output_type": "stream",
     "text": [
      "Given a record id, ensure that the same record is returned given a dataset name, entry name, and spec name\n",
      "True 5126\n"
     ]
    }
   ],
   "source": [
    "# ___________ Check that given a dataset id, entry_name, and spec_name, the same record is returned ________________\n",
    "records = client.get_records([int(x[\"record_id\"]) for x in entry_dicts], missing_ok=False)\n",
    "track_records_dict = defaultdict(lambda: defaultdict(list))\n",
    "for rec in records:\n",
    "    response = client.query_dataset_records(record_id=rec.id)\n",
    "    for resp in response:\n",
    "        tmp_ds = client.get_dataset(dataset_type, resp[\"dataset_name\"])\n",
    "        rec2 = tmp_ds.get_record(resp[\"entry_name\"], resp[\"specification_name\"])\n",
    "        track_records_dict[rec.id == rec2.id][rec.id].append([resp[\"dataset_name\"], resp[\"entry_name\"], resp[\"specification_name\"], rec2.id])\n",
    "\n",
    "print(\"Given a record id, ensure that the same record is returned given a dataset name, entry name, and spec name\")\n",
    "for key, value in track_records_dict.items():\n",
    "    print(key, len(value))"
   ]
  },
  {
   "cell_type": "markdown",
   "id": "e1471650",
   "metadata": {},
   "source": [
    "# Make New Dataset"
   ]
  },
  {
   "cell_type": "code",
   "execution_count": null,
   "id": "529e82b2",
   "metadata": {},
   "outputs": [
    {
     "name": "stdout",
     "output_type": "stream",
     "text": [
      "Initializing new dataset\n"
     ]
    },
    {
     "ename": "KeyError",
     "evalue": "'ElementFilter-3'",
     "output_type": "error",
     "traceback": [
      "\u001b[31m---------------------------------------------------------------------------\u001b[39m",
      "\u001b[31mKeyError\u001b[39m                                  Traceback (most recent call last)",
      "\u001b[36mCell\u001b[39m\u001b[36m \u001b[39m\u001b[32mIn[12]\u001b[39m\u001b[32m, line 23\u001b[39m\n\u001b[32m      5\u001b[39m     dataset_information = json.load(f)\n\u001b[32m      7\u001b[39m \u001b[38;5;66;03m#dataset = client.get_dataset(dataset_type, dataset_information[\"dataset_name\"])\u001b[39;00m\n\u001b[32m      8\u001b[39m dataset = client.add_dataset(\n\u001b[32m      9\u001b[39m     dataset_type,\n\u001b[32m     10\u001b[39m     dataset_information[\u001b[33m\"\u001b[39m\u001b[33mdataset_name\u001b[39m\u001b[33m\"\u001b[39m],\n\u001b[32m     11\u001b[39m     tagline=dataset_information[\u001b[33m\"\u001b[39m\u001b[33mdataset_tagline\u001b[39m\u001b[33m\"\u001b[39m],\n\u001b[32m     12\u001b[39m     description=dataset_information[\u001b[33m\"\u001b[39m\u001b[33mdescription\u001b[39m\u001b[33m\"\u001b[39m],\n\u001b[32m     13\u001b[39m     provenance=provenance,\n\u001b[32m     14\u001b[39m     default_tag=\u001b[33m\"\u001b[39m\u001b[33mopenff\u001b[39m\u001b[33m\"\u001b[39m,\n\u001b[32m     15\u001b[39m     owner_user=\u001b[33m\"\u001b[39m\u001b[33mopenffbot\u001b[39m\u001b[33m\"\u001b[39m,\n\u001b[32m     16\u001b[39m     extras={\n\u001b[32m     17\u001b[39m         \u001b[33m\"\u001b[39m\u001b[33msubmitter\u001b[39m\u001b[33m\"\u001b[39m: dataset_information[\u001b[33m\"\u001b[39m\u001b[33mmetadata.submitter\u001b[39m\u001b[33m\"\u001b[39m],\n\u001b[32m     18\u001b[39m         \u001b[33m\"\u001b[39m\u001b[33mcreation_data\u001b[39m\u001b[33m\"\u001b[39m: \u001b[38;5;28mstr\u001b[39m(datetime.date.today()),\n\u001b[32m     19\u001b[39m         \u001b[33m'\u001b[39m\u001b[33mcollection_type\u001b[39m\u001b[33m'\u001b[39m: \u001b[33m'\u001b[39m\u001b[33mOptimizationDataset\u001b[39m\u001b[33m'\u001b[39m,\n\u001b[32m     20\u001b[39m         \u001b[33m'\u001b[39m\u001b[33mlong_description_url\u001b[39m\u001b[33m'\u001b[39m: dataset_information[\u001b[33m\"\u001b[39m\u001b[33mmetadata.long_description_url\u001b[39m\u001b[33m\"\u001b[39m],\n\u001b[32m     21\u001b[39m         \u001b[33m\"\u001b[39m\u001b[33mshort description\u001b[39m\u001b[33m\"\u001b[39m: dataset_information[\u001b[33m\"\u001b[39m\u001b[33mdataset_tagline\u001b[39m\u001b[33m\"\u001b[39m],\n\u001b[32m     22\u001b[39m         \u001b[33m\"\u001b[39m\u001b[33mdataset_name\u001b[39m\u001b[33m\"\u001b[39m: dataset_information[\u001b[33m\"\u001b[39m\u001b[33mdataset_name\u001b[39m\u001b[33m\"\u001b[39m],\n\u001b[32m---> \u001b[39m\u001b[32m23\u001b[39m         \u001b[33m\"\u001b[39m\u001b[33melements\u001b[39m\u001b[33m\"\u001b[39m: \u001b[43mprovenance\u001b[49m\u001b[43m[\u001b[49m\u001b[33;43m'\u001b[39;49m\u001b[33;43mapplied-filters\u001b[39;49m\u001b[33;43m'\u001b[39;49m\u001b[43m]\u001b[49m\u001b[43m[\u001b[49m\u001b[33;43m'\u001b[39;49m\u001b[33;43mElementFilter-3\u001b[39;49m\u001b[33;43m'\u001b[39;49m\u001b[43m]\u001b[49m[\u001b[33m'\u001b[39m\u001b[33mallowed_elements\u001b[39m\u001b[33m'\u001b[39m],\n\u001b[32m     24\u001b[39m     },\n\u001b[32m     25\u001b[39m )\n",
      "\u001b[31mKeyError\u001b[39m: 'ElementFilter-3'"
     ]
    }
   ],
   "source": [
    "# _________ Initialize New Dataset ____________\n",
    "print(\"Initializing new dataset\")\n",
    "\n",
    "with open(\"opt_ds_info.json\") as f:\n",
    "    dataset_information = json.load(f)\n",
    "\n",
    "#dataset = client.get_dataset(dataset_type, dataset_information[\"dataset_name\"])\n",
    "dataset = client.add_dataset(\n",
    "    dataset_type,\n",
    "    dataset_information[\"dataset_name\"],\n",
    "    tagline=dataset_information[\"dataset_tagline\"],\n",
    "    description=dataset_information[\"description\"],\n",
    "    provenance=provenance,\n",
    "    default_tag=\"openff\",\n",
    "    owner_user=\"openffbot\",\n",
    "    extras={\n",
    "        \"submitter\": dataset_information[\"metadata.submitter\"],\n",
    "        \"creation_data\": str(datetime.date.today()),\n",
    "        'collection_type': 'OptimizationDataset',\n",
    "        'long_description_url': dataset_information[\"metadata.long_description_url\"],\n",
    "        \"short description\": dataset_information[\"dataset_tagline\"],\n",
    "        \"dataset_name\": dataset_information[\"dataset_name\"],\n",
    "        \"elements\": provenance['applied-filters']['ElementFilter-3']['allowed_elements'],\n",
    "    },\n",
    ")\n"
   ]
  },
  {
   "cell_type": "code",
   "execution_count": null,
   "id": "67fe73d1",
   "metadata": {},
   "outputs": [],
   "source": [
    "# _________ Organize Records by Dataset ____________\n",
    "print(\"Organizing records\")\n",
    "records = client.get_records([int(x[\"record_id\"]) for x in entry_dicts], missing_ok=False)\n",
    "records_to_copy = defaultdict(lambda: defaultdict(list))\n",
    "record_ids_to_copy = defaultdict(lambda: defaultdict(list))\n",
    "dataset_names_from_id = defaultdict(str)\n",
    "for rec in records:\n",
    "    try:\n",
    "        response = client.query_dataset_records(record_id=rec.id)\n",
    "        if len(response) > 1:\n",
    "            ds_id, spec_name, entry_name, ds_name = None, None, None, None\n",
    "            for resp in response:\n",
    "                if resp[\"dataset_id\"] in dataset_ids:\n",
    "                    ds_id = resp[\"dataset_id\"]\n",
    "                    ds_name = resp[\"dataset_name\"]\n",
    "                    spec_name = resp[\"specification_name\"]\n",
    "                    entry_name = resp[\"entry_name\"]\n",
    "        else:\n",
    "            ds_id = response[0][\"dataset_id\"]\n",
    "            ds_name = response[0][\"dataset_name\"]\n",
    "            spec_name = response[0][\"specification_name\"]\n",
    "            entry_name = response[0][\"entry_name\"]\n",
    "\n",
    "        if ds_id is None:\n",
    "            raise ValueError(f\"This record, {rec.id}, is not found in a target dataset.\")\n",
    "        dataset_names_from_id[ds_id] = ds_name\n",
    "        \n",
    "        records_to_copy[ds_id][spec_name].append(entry_name)\n",
    "        record_ids_to_copy[ds_id][entry_name] = rec.id\n",
    "\n",
    "    except Exception as e:\n",
    "        print(f\"Failed record {rec.id}, {response}, {str(e)}\")"
   ]
  },
  {
   "cell_type": "code",
   "execution_count": null,
   "id": "1e29790c",
   "metadata": {},
   "outputs": [],
   "source": [
    "\n",
    "# _________ Copy Records by Dataset ____________\n",
    "print(\"Copying records\")\n",
    "for i, (ds_id, tmp_dict) in enumerate(records_to_copy.items()):\n",
    "    print(f\"Copying entries from ds-{ds_id} ({i+1} of {len(records_to_copy)})\")\n",
    "    new_spec_name = \"default-\" + \"-\".join([[str(y) for y in x] for x in specification_ds_ids if ds_id in x][0])\n",
    "    for spec_name, entry_names in tmp_dict.items():\n",
    "        dataset.copy_records_from( ds_id, entry_names=entry_names, specification_names=[spec_name])\n",
    "        \n",
    "        # Handle Repeat Spec Names\n",
    "        dataset.rename_specification({spec_name: new_spec_name})\n",
    "        \n",
    "        # Handle Repeat Entry Names\n",
    "        tmp_repeat_entry_names = list(set(repeat_entry_names.keys()) & set(entry_names))\n",
    "        for entry_name in tmp_repeat_entry_names.keys():\n",
    "            if record_ids_to_copy[ds_id][entry_name] in repeat_entry_names[entry_name]:\n",
    "                repeat_entry_names[entry_name].remove(record_ids_to_copy[ds_id][entry_name])\n",
    "            else:\n",
    "                tmp_repeat_entry_names.remove(entry_name)\n",
    "        name_map = {entry_name: f\"{entry_name}-{ds_id}\" for entry_name in tmp_repeat_entry_names}\n",
    "        dataset.rename_entries(name_map)"
   ]
  },
  {
   "cell_type": "markdown",
   "id": "e347dab1",
   "metadata": {},
   "source": [
    "# Validate that New Dataset Contains the Expected Records"
   ]
  },
  {
   "cell_type": "code",
   "execution_count": null,
   "id": "ec9191a7",
   "metadata": {},
   "outputs": [],
   "source": [
    "new_record_ids = set([rec.id for _, _, rec in dataset.iterate_records()])\n",
    "old_record_ids = set([rec.id for rec in records])\n",
    "print(f\"New record IDs match old record IDs: {set(new_record_ids) == set(old_record_ids)}\")\n",
    "print(f\"There are {len(new_record_ids - old_record_ids)} record ids in the new dataset that aren't in the target list\")\n",
    "print(f\"There are {len(old_record_ids - new_record_ids)} record ids in the target list that aren't in the new dataset\")"
   ]
  },
  {
   "cell_type": "markdown",
   "id": "c6358a57",
   "metadata": {},
   "source": [
    "# Write Out Dataset Metadata"
   ]
  },
  {
   "cell_type": "code",
   "execution_count": null,
   "id": "ebb91182",
   "metadata": {},
   "outputs": [],
   "source": [
    "# _________ Write Output Part 2 (Run After Approval) ____________\n",
    "\n",
    "elements = set(\n",
    "    sym\n",
    "    for entry in dataset.iterate_entries()\n",
    "    for sym in entry.initial_molecule.symbols\n",
    ")\n",
    "\n",
    "print(\"\\n\\n# Output for README Part 2\\n\")\n",
    "print(\"* Description: {}\".format(dataset.description))\n",
    "print(\"* Purpose: {}\".format(dataset.tagline))\n",
    "print(\"* Name: {}\".format(dataset.name))\n",
    "print(\"* Submitter: {}\\n\".format(dataset.extras[\"submitter\"]))\n",
    "\n",
    "print(\"\\n## Metadata\")\n",
    "print(f\"* Elements: {{{', '.join(elements)}}}\")\n",
    "\n",
    "for spec, obj in dataset.specifications.items():\n",
    "    od = obj.dict()['specification']\n",
    "    print(\"* Program:\", od[\"program\"])\n",
    "    od = od[\"qc_specification\"]\n",
    "    print(\"* QC Specifications:\", spec)\n",
    "    for field, value in od.items():\n",
    "        print(f\"  * {field}: {od[field]}\")\n",
    "    print(\"  * SCF Properties:\")\n",
    "    for field in od[\"keywords\"][\"scf_properties\"]:\n",
    "        print(f\"    * {field}\")\n"
   ]
  },
  {
   "cell_type": "code",
   "execution_count": null,
   "id": "95201f58",
   "metadata": {},
   "outputs": [],
   "source": [
    "scaffold.to_json(dataset, filename=\"scaffold_opt.json\", compress=True)"
   ]
  }
 ],
 "metadata": {
  "kernelspec": {
   "display_name": "Python 3",
   "language": "python",
   "name": "python3"
  },
  "language_info": {
   "codemirror_mode": {
    "name": "ipython",
    "version": 3
   },
   "file_extension": ".py",
   "mimetype": "text/x-python",
   "name": "python",
   "nbconvert_exporter": "python",
   "pygments_lexer": "ipython3",
   "version": "3.11.12"
  }
 },
 "nbformat": 4,
 "nbformat_minor": 5
}
