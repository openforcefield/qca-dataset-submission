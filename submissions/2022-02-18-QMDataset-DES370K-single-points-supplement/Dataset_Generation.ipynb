{
 "cells": [
  {
   "cell_type": "code",
   "execution_count": 1,
   "id": "d5c62adc",
   "metadata": {},
   "outputs": [],
   "source": [
    "from openff.qcsubmit.common_structures import QCSpec, SCFProperties\n",
    "from openff.qcsubmit.factories import BasicDatasetFactory\n",
    "import numpy as np\n",
    "from qcelemental.models.results import WavefunctionProtocolEnum\n",
    "from qcportal.models.common_models import DriverEnum\n",
    "from openeye import oechem\n",
    "import logging\n",
    "logging.getLogger(\"openff\").setLevel(logging.ERROR)"
   ]
  },
  {
   "cell_type": "code",
   "execution_count": 2,
   "id": "ebecc09b",
   "metadata": {},
   "outputs": [],
   "source": [
    "import qcportal as ptl\n",
    "from collections import Counter\n",
    "client = ptl.FractalClient.from_file()\n",
    "ds = client.get_collection(\"Dataset\", \"SPICE DES370K Single Points Dataset v1.0\")"
   ]
  },
  {
   "cell_type": "code",
   "execution_count": 3,
   "id": "5f227378",
   "metadata": {},
   "outputs": [
    {
     "name": "stdout",
     "output_type": "stream",
     "text": [
      "CPU times: user 26.3 ms, sys: 5.13 ms, total: 31.4 ms\n",
      "Wall time: 28.2 ms\n"
     ]
    },
    {
     "data": {
      "text/plain": [
       "{'driver': 'gradient',\n",
       " 'program': 'psi4',\n",
       " 'method': 'wb97m-d3bj',\n",
       " 'basis': 'def2-tzvppd',\n",
       " 'keywords': 'spice_default_no_mbis',\n",
       " 'name': 'WB97M-D3BJ/def2-tzvppd-spice_default'}"
      ]
     },
     "execution_count": 3,
     "metadata": {},
     "output_type": "execute_result"
    }
   ],
   "source": [
    "%%time\n",
    "spec = ds.list_records().iloc[0].to_dict()\n",
    "spec"
   ]
  },
  {
   "cell_type": "code",
   "execution_count": 3,
   "id": "db16c366",
   "metadata": {},
   "outputs": [
    {
     "name": "stdout",
     "output_type": "stream",
     "text": [
      "CPU times: user 3min 12s, sys: 25.8 s, total: 3min 38s\n",
      "Wall time: 1h 8min 45s\n"
     ]
    }
   ],
   "source": [
    "%%time\n",
    "recs = ds.get_records(method=spec['method'], basis=spec['basis'], program=spec['program'], keywords=spec['keywords'])"
   ]
  },
  {
   "cell_type": "code",
   "execution_count": 10,
   "id": "ec8a1a07",
   "metadata": {},
   "outputs": [],
   "source": [
    "from collections import defaultdict\n",
    "import pandas as pd\n",
    "\n",
    "status_dict = defaultdict(dict)\n",
    "indx = len(recs)\n",
    "num_error = 0\n",
    "\n",
    "err_recs = []\n",
    "\n",
    "for ii in range(indx):\n",
    "    elif recs.iloc[ii].record.status == 'ERROR':\n",
    "        err_recs.append(recs.iloc[ii].record)\n",
    "        num_error += 1\n",
    "        \n",
    "with open('failed_record_ids_SPICE_DES370K_Single_Points_Dataset_v1.0.txt', 'w') as f:\n",
    "    for item in err_recs:\n",
    "        print(item.id)\n",
    "        f.write(\"%s\\n\" % item.id)"
   ]
  },
  {
   "cell_type": "code",
   "execution_count": 4,
   "id": "a5373e43",
   "metadata": {},
   "outputs": [],
   "source": [
    "with open('failed_record_ids_SPICE_DES370K_Single_Points_Dataset_v1.0.txt', 'r') as f:\n",
    "    errored_ids = f.read().splitlines()"
   ]
  },
  {
   "cell_type": "code",
   "execution_count": 5,
   "id": "935a342f",
   "metadata": {},
   "outputs": [],
   "source": [
    "molecules = []\n",
    "for rec_id in errored_ids:\n",
    "    result = client.query_results(rec_id)[0].dict()\n",
    "    molecule = client.query_molecules(result['molecule'])\n",
    "    molecules.append(molecule[0])"
   ]
  },
  {
   "cell_type": "code",
   "execution_count": 6,
   "id": "e0fddbd7",
   "metadata": {},
   "outputs": [
    {
     "data": {
      "text/plain": [
       "3637"
      ]
     },
     "execution_count": 6,
     "metadata": {},
     "output_type": "execute_result"
    }
   ],
   "source": [
    "len(molecules)"
   ]
  },
  {
   "cell_type": "code",
   "execution_count": 7,
   "id": "d417a89b",
   "metadata": {},
   "outputs": [],
   "source": [
    "from openff.toolkit.topology import Molecule\n",
    "import json\n",
    "\n",
    "offmols = []\n",
    "for mol in molecules:\n",
    "    offmols.append(Molecule.from_qcschema(json.loads(mol.json())))"
   ]
  },
  {
   "cell_type": "code",
   "execution_count": 8,
   "id": "59bad795",
   "metadata": {},
   "outputs": [],
   "source": [
    "factory = BasicDatasetFactory(driver=DriverEnum.gradient,\n",
    "                              qc_specifications={'spice_default': QCSpec(method='wb97m-d3bj', \n",
    "                                                                   basis='def2-tzvppd', \n",
    "                                                                   program='psi4', \n",
    "                                                                   spec_name='spice_default', \n",
    "                                                                   spec_description='SPICE quantum chemistry specification',\n",
    "                                                                   store_wavefunction=None, \n",
    "                                                                   implicit_solvent=None, \n",
    "                                                                   maxiter=200, \n",
    "                                                                   scf_properties=[SCFProperties.Dipole, SCFProperties.Quadrupole, SCFProperties.WibergLowdinIndices, \n",
    "                                                                                   SCFProperties.MayerIndices],\n",
    "                                                                   keywords={'wcombine': False})},\n",
    "                             store_wavefunction=None)"
   ]
  },
  {
   "cell_type": "code",
   "execution_count": 9,
   "id": "c8da0524",
   "metadata": {
    "scrolled": true
   },
   "outputs": [
    {
     "name": "stderr",
     "output_type": "stream",
     "text": [
      "Deduplication                 : 100%|███████| 3637/3637 [02:49<00:00, 21.49it/s]\n",
      "Preparation                   : 100%|███████████| 93/93 [00:08<00:00, 10.59it/s]\n"
     ]
    }
   ],
   "source": [
    "dataset = factory.create_dataset(dataset_name=\"SPICE DES370K Single Points Dataset Supplement v1.0\", molecules=offmols, tagline=\"QM dataset for ML\", description=\"For the molecules that failed MBIS convergence on the original submission this is a supplement, excluding the MBIS charge calculation in scf_properties, to make use of forces and energies. Original submission of DES370K: https://github.com/openforcefield/qca-dataset-submission/tree/master/submissions/2021-11-08-QMDataset-DES370K-single-points. Main data source: https://github.com/openmm/qmdataset/tree/main/des370k\")"
   ]
  },
  {
   "cell_type": "code",
   "execution_count": 10,
   "id": "f3ad84f1",
   "metadata": {},
   "outputs": [
    {
     "name": "stdout",
     "output_type": "stream",
     "text": [
      "Number of unique molecules        93\n",
      "Number of filtered molecules      0\n",
      "Number of conformers              3631\n",
      "Number of conformers min mean max 1  39.04 2677\n",
      "Mean molecular weight: 101.83\n",
      "Max molecular weight: 304.85\n",
      "Charges: [-1.0, 0.0, 1.0]\n"
     ]
    }
   ],
   "source": [
    "confs = np.array([len(mol.conformers) for mol in dataset.molecules])\n",
    "\n",
    "print(\"Number of unique molecules       \", dataset.n_molecules)\n",
    "print(\"Number of filtered molecules     \", dataset.n_filtered)\n",
    "print(\"Number of conformers             \", dataset.n_records)\n",
    "print(\"Number of conformers min mean max\",\n",
    "      confs.min(), \"{:6.2f}\".format(confs.mean()), confs.max())\n",
    "\n",
    "masses = []\n",
    "for molecule in dataset.molecules:\n",
    "    oemol = molecule.to_openeye()\n",
    "    mass = oechem.OECalculateMolecularWeight(oemol)\n",
    "    masses.append(mass)\n",
    "\n",
    "print(f'Mean molecular weight: {np.mean(np.array(masses)):.2f}')\n",
    "print(f'Max molecular weight: {np.max(np.array(masses)):.2f}')\n",
    "print(\"Charges:\", sorted(set(m.total_charge/m.total_charge.unit for m in dataset.molecules)))"
   ]
  },
  {
   "cell_type": "code",
   "execution_count": 11,
   "id": "4af76f35",
   "metadata": {},
   "outputs": [],
   "source": [
    "dataset.visualize(\"des370k_supplement.pdf\")"
   ]
  },
  {
   "cell_type": "code",
   "execution_count": 12,
   "id": "0b31401e",
   "metadata": {},
   "outputs": [],
   "source": [
    "dataset.molecules_to_file(\"des370k_supplement.smi\", \"smi\")"
   ]
  },
  {
   "cell_type": "code",
   "execution_count": 13,
   "id": "815c14a0",
   "metadata": {},
   "outputs": [],
   "source": [
    "dataset.metadata.submitter = 'Josh Horton, Pavan Behara, David Dotson'"
   ]
  },
  {
   "cell_type": "code",
   "execution_count": 14,
   "id": "eb969b90",
   "metadata": {},
   "outputs": [],
   "source": [
    "dataset.metadata.long_description_url = 'https://github.com/openforcefield/qca-dataset-submission/tree/master/submissions/2022-02-18-QMDataset-DES370K-single-points-supplement'"
   ]
  },
  {
   "cell_type": "code",
   "execution_count": 15,
   "id": "fb5eb6b5",
   "metadata": {},
   "outputs": [
    {
     "data": {
      "text/plain": [
       "Metadata(submitter='Josh Horton, Pavan Behara, David Dotson', creation_date=datetime.date(2022, 2, 19), collection_type='DataSet', dataset_name='SPICE DES370K Single Points Dataset Supplement v1.0', short_description='QM dataset for ML', long_description_url=HttpUrl('https://github.com/openforcefield/qca-dataset-submission/tree/master/submissions/2022-02-18-QMDataset-DES370K-single-points-supplement', scheme='https', host='github.com', tld='com', host_type='domain', port='443', path='/openforcefield/qca-dataset-submission/tree/master/submissions/2022-02-18-QMDataset-DES370K-single-points-supplement'), long_description='For the molecules that failed MBIS convergence on the original submission this is a supplement, excluding the MBIS charge calculation in scf_properties, to make use of forces and energies. Original submission of DES370K: https://github.com/openforcefield/qca-dataset-submission/tree/master/submissions/2021-11-08-QMDataset-DES370K-single-points. Main data source: https://github.com/openmm/qmdataset/tree/main/des370k', elements={'F', 'Br', 'S', 'H', 'Na', 'C', 'N', 'Li', 'O', 'I', 'Cl'})"
      ]
     },
     "execution_count": 15,
     "metadata": {},
     "output_type": "execute_result"
    }
   ],
   "source": [
    "dataset.metadata"
   ]
  },
  {
   "cell_type": "code",
   "execution_count": 16,
   "id": "94c6c3ed",
   "metadata": {},
   "outputs": [],
   "source": [
    "dataset.export_dataset(\"dataset.json.bz2\")"
   ]
  },
  {
   "cell_type": "code",
   "execution_count": null,
   "id": "c1d3e942",
   "metadata": {},
   "outputs": [],
   "source": []
  }
 ],
 "metadata": {
  "kernelspec": {
   "display_name": "Python 3 (ipykernel)",
   "language": "python",
   "name": "python3"
  },
  "language_info": {
   "codemirror_mode": {
    "name": "ipython",
    "version": 3
   },
   "file_extension": ".py",
   "mimetype": "text/x-python",
   "name": "python",
   "nbconvert_exporter": "python",
   "pygments_lexer": "ipython3",
   "version": "3.8.12"
  }
 },
 "nbformat": 4,
 "nbformat_minor": 5
}
