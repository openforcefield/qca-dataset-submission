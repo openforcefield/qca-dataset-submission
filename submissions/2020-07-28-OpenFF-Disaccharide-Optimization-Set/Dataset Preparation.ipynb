{
 "cells": [
  {
   "cell_type": "markdown",
   "metadata": {},
   "source": [
    "# Dataset Preparation - Disaccharide Optimization"
   ]
  },
  {
   "cell_type": "markdown",
   "metadata": {},
   "source": [
    "David Cerutti has prepared two disaccharide molecules to start with for optimizations with Psi4.\n",
    "These molecules have been pre-optimized with B3LYP / def2-SVP using his own MDGX program.\n",
    "\n",
    "The two molecules are currently in separate JSON files.\n",
    "Our objectives are:\n",
    "1. Pull these together into a single dataset submission with QCSubmit.\n",
    "2. Identify any missing fields that we need to populate before submission.\n",
    "3. Populate those missing fields.\n",
    "\n",
    "In this notebook we will work to fulfill all three objectives.\n",
    "However, it may prove impossible initially with the information in these initial JSON files.\n",
    "Additional iterations with David Cerutti may be necessary from his end to satisfy these objectives."
   ]
  },
  {
   "cell_type": "code",
   "execution_count": 1,
   "metadata": {},
   "outputs": [
    {
     "name": "stderr",
     "output_type": "stream",
     "text": [
      "Warning: Unable to load toolkit 'OpenEye Toolkit'. The Open Force Field Toolkit does not require the OpenEye Toolkits, and can use RDKit/AmberTools instead. However, if you have a valid license for the OpenEye Toolkits, consider installing them for faster performance and additional file format support: https://docs.eyesopen.com/toolkits/python/quickstart-python/linuxosx.html OpenEye offers free Toolkit licenses for academics: https://www.eyesopen.com/academic-licensing\n"
     ]
    },
    {
     "data": {
      "application/vnd.jupyter.widget-view+json": {
       "model_id": "ac8eeb4dce184a54a458e4ed68519b24",
       "version_major": 2,
       "version_minor": 0
      },
      "text/plain": []
     },
     "metadata": {},
     "output_type": "display_data"
    }
   ],
   "source": [
    "import sys\n",
    "sys.path.append('../../management/')\n",
    "\n",
    "from qcsubmit.serializers import deserialize\n",
    "from validation import get_meta_info, validate_dataset, check_metadata, check_scf_props, check_basis_coverage"
   ]
  },
  {
   "cell_type": "markdown",
   "metadata": {},
   "source": [
    "Performed some manual fixes to JSON file; noted in [PR](https://github.com/openforcefield/qca-dataset-submission/pull/124)."
   ]
  },
  {
   "cell_type": "code",
   "execution_count": 2,
   "metadata": {},
   "outputs": [],
   "source": [
    "ds1 = deserialize('DAllpa1-2DAllpa1-OME.json')"
   ]
  },
  {
   "cell_type": "code",
   "execution_count": 3,
   "metadata": {},
   "outputs": [
    {
     "data": {
      "text/plain": [
       "{'dataset_name': 'mdgx-created data set',\n",
       " 'dataset_tagline': 'A data set created by mdgx',\n",
       " 'dataset_type': 'OptimizationDataSet',\n",
       " 'method': 'd3bj b3lyp',\n",
       " 'basis': 'def2-tzvpp',\n",
       " 'program': 'psi4',\n",
       " 'maxiter': 200,\n",
       " 'driver': 'gradient',\n",
       " 'scf_properties': ['dipole',\n",
       "  'quadrupole',\n",
       "  'wiberg_lowdin_indices',\n",
       "  'mayer_indices'],\n",
       " 'spec_name': 'default',\n",
       " 'spec_description': 'OpenFF quantum chemistry input',\n",
       " 'priority': 'normal',\n",
       " 'description': 'mdgx conformational search outputs converted to JSON format',\n",
       " 'dataset_tags': ['openff'],\n",
       " 'compute_tag': 'openff',\n",
       " 'dataset': {'OME_2NA_0NA': {'index': 'OME_2NA_0NA',\n",
       "   'initial_molecules': [{'schema_name': 'qcschema_molecule',\n",
       "     'schema_version': 2,\n",
       "     'validated': True,\n",
       "     'symbols': ['H',\n",
       "      'C',\n",
       "      'H',\n",
       "      'H',\n",
       "      'O',\n",
       "      'C',\n",
       "      'H',\n",
       "      'C',\n",
       "      'H',\n",
       "      'C',\n",
       "      'H',\n",
       "      'C',\n",
       "      'H',\n",
       "      'C',\n",
       "      'H',\n",
       "      'C',\n",
       "      'H',\n",
       "      'H',\n",
       "      'O',\n",
       "      'H',\n",
       "      'O',\n",
       "      'O',\n",
       "      'H',\n",
       "      'O',\n",
       "      'H',\n",
       "      'O',\n",
       "      'C',\n",
       "      'H',\n",
       "      'C',\n",
       "      'H',\n",
       "      'C',\n",
       "      'H',\n",
       "      'C',\n",
       "      'H',\n",
       "      'C',\n",
       "      'H',\n",
       "      'C',\n",
       "      'H',\n",
       "      'H',\n",
       "      'O',\n",
       "      'H',\n",
       "      'O',\n",
       "      'O',\n",
       "      'H',\n",
       "      'O',\n",
       "      'H',\n",
       "      'O',\n",
       "      'H'],\n",
       "     'geometry': [6.025297,\n",
       "      6.103751,\n",
       "      -4.437035,\n",
       "      5.5583,\n",
       "      5.581933,\n",
       "      -3.589591,\n",
       "      4.788549,\n",
       "      6.228731,\n",
       "      -3.132733,\n",
       "      6.332683,\n",
       "      5.372885,\n",
       "      -2.824816,\n",
       "      4.999343,\n",
       "      4.387034,\n",
       "      -4.091828,\n",
       "      4.40653,\n",
       "      3.603436,\n",
       "      -3.11048,\n",
       "      5.130708,\n",
       "      3.387904,\n",
       "      -2.301024,\n",
       "      3.904007,\n",
       "      2.282985,\n",
       "      -3.707893,\n",
       "      3.589187,\n",
       "      1.670023,\n",
       "      -2.838898,\n",
       "      2.658807,\n",
       "      2.479018,\n",
       "      -4.599287,\n",
       "      2.233023,\n",
       "      1.481788,\n",
       "      -4.815887,\n",
       "      1.608543,\n",
       "      3.294176,\n",
       "      -3.811808,\n",
       "      1.318862,\n",
       "      2.727493,\n",
       "      -2.903318,\n",
       "      2.257265,\n",
       "      4.596083,\n",
       "      -3.345767,\n",
       "      2.644912,\n",
       "      5.109113,\n",
       "      -4.243717,\n",
       "      1.334759,\n",
       "      5.541557,\n",
       "      -2.597923,\n",
       "      0.387599,\n",
       "      5.621045,\n",
       "      -3.158398,\n",
       "      1.111448,\n",
       "      5.105089,\n",
       "      -1.610109,\n",
       "      1.934444,\n",
       "      6.802899,\n",
       "      -2.363877,\n",
       "      1.830661,\n",
       "      7.329964,\n",
       "      -3.165949,\n",
       "      3.334399,\n",
       "      4.260196,\n",
       "      -2.471844,\n",
       "      0.478915,\n",
       "      3.593493,\n",
       "      -4.607825,\n",
       "      -0.096294,\n",
       "      2.81933,\n",
       "      -4.621985,\n",
       "      2.975439,\n",
       "      3.143924,\n",
       "      -5.789714,\n",
       "      2.798939,\n",
       "      2.554419,\n",
       "      -6.543858,\n",
       "      4.993748,\n",
       "      1.653842,\n",
       "      -4.34718,\n",
       "      4.791976,\n",
       "      0.355896,\n",
       "      -4.776778,\n",
       "      4.111522,\n",
       "      -0.184322,\n",
       "      -4.091832,\n",
       "      6.128788,\n",
       "      -0.397501,\n",
       "      -4.847152,\n",
       "      5.849403,\n",
       "      -1.443556,\n",
       "      -5.086849,\n",
       "      7.005672,\n",
       "      0.112299,\n",
       "      -6.006163,\n",
       "      7.86198,\n",
       "      -0.585631,\n",
       "      -6.117769,\n",
       "      6.189731,\n",
       "      0.08581,\n",
       "      -7.312477,\n",
       "      5.886405,\n",
       "      -0.960277,\n",
       "      -7.519865,\n",
       "      4.907729,\n",
       "      0.897218,\n",
       "      -7.100792,\n",
       "      5.18088,\n",
       "      1.9273,\n",
       "      -6.815608,\n",
       "      4.021668,\n",
       "      0.916565,\n",
       "      -8.33379,\n",
       "      4.650627,\n",
       "      1.1236,\n",
       "      -9.213069,\n",
       "      3.57025,\n",
       "      -0.082172,\n",
       "      -8.455057,\n",
       "      2.948052,\n",
       "      1.84734,\n",
       "      -8.234234,\n",
       "      3.2384,\n",
       "      2.689192,\n",
       "      -8.610089,\n",
       "      4.161778,\n",
       "      0.28936,\n",
       "      -6.044696,\n",
       "      6.911817,\n",
       "      0.632687,\n",
       "      -8.397482,\n",
       "      7.482491,\n",
       "      -0.053157,\n",
       "      -8.764079,\n",
       "      7.457541,\n",
       "      1.423731,\n",
       "      -5.772398,\n",
       "      8.409891,\n",
       "      1.418606,\n",
       "      -5.644469,\n",
       "      6.762268,\n",
       "      -0.310486,\n",
       "      -3.593873,\n",
       "      7.468058,\n",
       "      -0.968613,\n",
       "      -3.564731],\n",
       "     'name': 'OME_2NA_0NA_1',\n",
       "     'molecular_charge': 0.0,\n",
       "     'molecular_multiplicity': 1,\n",
       "     'fix_com': False,\n",
       "     'fix-orientation': False,\n",
       "     'extras': {}}],\n",
       "   'attributes': {},\n",
       "   'dihedrals': None,\n",
       "   'extras': {},\n",
       "   'keywords': {'constraints': {'freeze': [{'type': 'dihedral',\n",
       "       'indices': [19, 18, 15, 13]},\n",
       "      {'type': 'dihedral', 'indices': [22, 21, 11, 13]},\n",
       "      {'type': 'dihedral', 'indices': [24, 23, 9, 11]},\n",
       "      {'type': 'dihedral', 'indices': [40, 39, 36, 34]},\n",
       "      {'type': 'dihedral', 'indices': [43, 42, 32, 34]},\n",
       "      {'type': 'dihedral', 'indices': [45, 44, 30, 32]},\n",
       "      {'type': 'dihedral', 'indices': [47, 46, 28, 30]}]}}}},\n",
       " 'filtered_molecules': {},\n",
       " 'optimization_procedure': {'program': 'geometric',\n",
       "  'coordsys': 'tric',\n",
       "  'enforce': 0.0,\n",
       "  'epsilon': 1e-05,\n",
       "  'reset': False,\n",
       "  'qccnv': False,\n",
       "  'molcnv': False,\n",
       "  'check': 0,\n",
       "  'trust': 0.1,\n",
       "  'tmax': 0.3,\n",
       "  'maxiter': 300,\n",
       "  'convergence_set': 'GAU',\n",
       "  'constraints': {}}}"
      ]
     },
     "execution_count": 3,
     "metadata": {},
     "output_type": "execute_result"
    }
   ],
   "source": [
    "ds1"
   ]
  },
  {
   "cell_type": "markdown",
   "metadata": {},
   "source": [
    "## Validation"
   ]
  },
  {
   "cell_type": "code",
   "execution_count": 4,
   "metadata": {},
   "outputs": [],
   "source": [
    "import traceback"
   ]
  },
  {
   "cell_type": "markdown",
   "metadata": {},
   "source": [
    "Running this dataset through all of the validators we use in the CI:"
   ]
  },
  {
   "cell_type": "code",
   "execution_count": 5,
   "metadata": {},
   "outputs": [
    {
     "name": "stdout",
     "output_type": "stream",
     "text": [
      "-------------\n",
      "{'**Dataset Name**': 'mdgx-created data set', '**Dataset Type**': 'OptimizationDataSet', '**Method**': 'd3bj b3lyp', '**Basis**': 'def2-tzvpp'}\n",
      "--------------\n",
      "-------------\n",
      "Traceback (most recent call last):\n",
      "  File \"<ipython-input-5-b4ddd9e57b9e>\", line 4, in <module>\n",
      "    print(validator(ds1))\n",
      "  File \"../../management/validation.py\", line 64, in validate_dataset\n",
      "    del data_copy[\"metadata\"]\n",
      "KeyError: 'metadata'\n",
      "\n",
      "--------------\n",
      "-------------\n",
      "Traceback (most recent call last):\n",
      "  File \"<ipython-input-5-b4ddd9e57b9e>\", line 4, in <module>\n",
      "    print(validator(ds1))\n",
      "  File \"../../management/validation.py\", line 97, in check_metadata\n",
      "    dataset = create_dataset(data_copy)\n",
      "  File \"../../management/validation.py\", line 44, in create_dataset\n",
      "    raise RuntimeError(f\"The dataset type {dataset_type} is not supported.\")\n",
      "RuntimeError: The dataset type OptimizationDataSet is not supported.\n",
      "\n",
      "--------------\n",
      "-------------\n",
      "Traceback (most recent call last):\n",
      "  File \"<ipython-input-5-b4ddd9e57b9e>\", line 4, in <module>\n",
      "    print(validator(ds1))\n",
      "  File \"../../management/validation.py\", line 111, in check_scf_props\n",
      "    del data_copy[\"metadata\"]\n",
      "KeyError: 'metadata'\n",
      "\n",
      "--------------\n",
      "-------------\n",
      "{'**Full Basis Coverage**': ':heavy_exclamation_mark:'}\n",
      "--------------\n"
     ]
    }
   ],
   "source": [
    "for validator in (get_meta_info, validate_dataset, check_metadata, check_scf_props, check_basis_coverage):\n",
    "    print('-------------')\n",
    "    try:\n",
    "        print(validator(ds1))\n",
    "    except Exception as e:\n",
    "        print(traceback.format_exc())\n",
    "        \n",
    "    print('--------------')"
   ]
  },
  {
   "cell_type": "markdown",
   "metadata": {},
   "source": [
    "We do need some `metadata`.\n",
    "This should get generated when we pass this all through QCSubmit to generate the submission.\n",
    "We'll pursue that next."
   ]
  },
  {
   "cell_type": "markdown",
   "metadata": {},
   "source": [
    "## Passing through QCSubmit"
   ]
  },
  {
   "cell_type": "markdown",
   "metadata": {},
   "source": [
    "QCSubmit will do many checks and automatic bits, so we'll pass our structure through it."
   ]
  },
  {
   "cell_type": "code",
   "execution_count": 11,
   "metadata": {},
   "outputs": [],
   "source": [
    "from qcsubmit.factories import OptimizationDatasetFactory\n",
    "from openforcefield.topology import Molecule as OFFMolecule"
   ]
  },
  {
   "cell_type": "code",
   "execution_count": 7,
   "metadata": {},
   "outputs": [
    {
     "data": {
      "text/plain": [
       "OptimizationDatasetFactory(method='B3LYP-D3BJ', basis='DZVP', program='psi4', maxiter=200, driver=<DriverEnum.gradient: 'gradient'>, scf_properties=['dipole', 'quadrupole', 'wiberg_lowdin_indices', 'mayer_indices'], spec_name='default', spec_description='Standard OpenFF optimization quantum chemistry specification.', priority='normal', dataset_tags=['openff'], compute_tag='openff', workflow={}, optimization_program=GeometricProcedure(program='geometric', coordsys='tric', enforce=0.0, epsilon=1e-05, reset=False, qccnv=False, molcnv=False, check=0, trust=0.1, tmax=0.3, maxiter=300, convergence_set='GAU', constraints={}))"
      ]
     },
     "execution_count": 7,
     "metadata": {},
     "output_type": "execute_result"
    }
   ],
   "source": [
    "factory = OptimizationDatasetFactory()\n",
    "factory.scf_properties = ds1['scf_properties']\n",
    "factory"
   ]
  },
  {
   "cell_type": "code",
   "execution_count": 8,
   "metadata": {},
   "outputs": [],
   "source": [
    "factory.export_settings('optimization_settings.yaml')"
   ]
  },
  {
   "cell_type": "code",
   "execution_count": 10,
   "metadata": {},
   "outputs": [],
   "source": [
    "dataset = factory.create_dataset(dataset_name=\"OpenFF Disaccharide Optimization v1.0\",\n",
    "                                 molecules=[], \n",
    "                                 description=\"An optimization dataset of disaccharides\",\n",
    "                                 tagline=\"Optimizations of a set of disaccharides\")"
   ]
  },
  {
   "cell_type": "markdown",
   "metadata": {},
   "source": [
    "Now, we want to add our molecules:"
   ]
  },
  {
   "cell_type": "code",
   "execution_count": 15,
   "metadata": {},
   "outputs": [
    {
     "ename": "KeyError",
     "evalue": "'The record must contain the hydrogen mapped smiles to be safely made from the archive.'",
     "output_type": "error",
     "traceback": [
      "\u001b[0;31m---------------------------------------------------------------------------\u001b[0m",
      "\u001b[0;31mKeyError\u001b[0m                                  Traceback (most recent call last)",
      "\u001b[0;32m~/.conda/envs/openff-qcarchive/lib/python3.7/site-packages/openforcefield/topology/molecule.py\u001b[0m in \u001b[0;36mfrom_qcschema\u001b[0;34m(cls, qca_record, client, toolkit_registry, allow_undefined_stereo)\u001b[0m\n\u001b[1;32m   4090\u001b[0m         \u001b[0;32mtry\u001b[0m\u001b[0;34m:\u001b[0m\u001b[0;34m\u001b[0m\u001b[0;34m\u001b[0m\u001b[0m\n\u001b[0;32m-> 4091\u001b[0;31m             \u001b[0mmapped_smiles\u001b[0m \u001b[0;34m=\u001b[0m \u001b[0mqca_record\u001b[0m\u001b[0;34m[\u001b[0m\u001b[0;34m'attributes'\u001b[0m\u001b[0;34m]\u001b[0m\u001b[0;34m[\u001b[0m\u001b[0;34m'canonical_isomeric_explicit_hydrogen_mapped_smiles'\u001b[0m\u001b[0;34m]\u001b[0m\u001b[0;34m\u001b[0m\u001b[0;34m\u001b[0m\u001b[0m\n\u001b[0m\u001b[1;32m   4092\u001b[0m         \u001b[0;32mexcept\u001b[0m \u001b[0mKeyError\u001b[0m\u001b[0;34m:\u001b[0m\u001b[0;34m\u001b[0m\u001b[0;34m\u001b[0m\u001b[0m\n",
      "\u001b[0;31mKeyError\u001b[0m: 'canonical_isomeric_explicit_hydrogen_mapped_smiles'",
      "\nDuring handling of the above exception, another exception occurred:\n",
      "\u001b[0;31mKeyError\u001b[0m                                  Traceback (most recent call last)",
      "\u001b[0;32m<ipython-input-15-30d324c24a77>\u001b[0m in \u001b[0;36m<module>\u001b[0;34m\u001b[0m\n\u001b[1;32m      1\u001b[0m \u001b[0;32mfor\u001b[0m \u001b[0midx\u001b[0m\u001b[0;34m,\u001b[0m \u001b[0;34m(\u001b[0m\u001b[0mcanonical_optimization_index\u001b[0m\u001b[0;34m,\u001b[0m \u001b[0moptimization_data\u001b[0m\u001b[0;34m)\u001b[0m \u001b[0;32min\u001b[0m \u001b[0menumerate\u001b[0m\u001b[0;34m(\u001b[0m\u001b[0mds1\u001b[0m\u001b[0;34m[\u001b[0m\u001b[0;34m'dataset'\u001b[0m\u001b[0;34m]\u001b[0m\u001b[0;34m.\u001b[0m\u001b[0mitems\u001b[0m\u001b[0;34m(\u001b[0m\u001b[0;34m)\u001b[0m\u001b[0;34m)\u001b[0m\u001b[0;34m:\u001b[0m\u001b[0;34m\u001b[0m\u001b[0;34m\u001b[0m\u001b[0m\n\u001b[1;32m      2\u001b[0m     \u001b[0mattributes\u001b[0m \u001b[0;34m=\u001b[0m \u001b[0moptimization_data\u001b[0m\u001b[0;34m[\u001b[0m\u001b[0;34m'attributes'\u001b[0m\u001b[0;34m]\u001b[0m\u001b[0;34m\u001b[0m\u001b[0;34m\u001b[0m\u001b[0m\n\u001b[0;32m----> 3\u001b[0;31m     \u001b[0mmolecule\u001b[0m \u001b[0;34m=\u001b[0m \u001b[0mOFFMolecule\u001b[0m\u001b[0;34m.\u001b[0m\u001b[0mfrom_qcschema\u001b[0m\u001b[0;34m(\u001b[0m\u001b[0moptimization_data\u001b[0m\u001b[0;34m)\u001b[0m\u001b[0;34m\u001b[0m\u001b[0;34m\u001b[0m\u001b[0m\n\u001b[0m\u001b[1;32m      4\u001b[0m \u001b[0;34m\u001b[0m\u001b[0m\n\u001b[1;32m      5\u001b[0m     \u001b[0mdataset\u001b[0m\u001b[0;34m.\u001b[0m\u001b[0madd_molecule\u001b[0m\u001b[0;34m(\u001b[0m\u001b[0mindex\u001b[0m\u001b[0;34m=\u001b[0m\u001b[0midx\u001b[0m\u001b[0;34m,\u001b[0m \u001b[0mmolecule\u001b[0m\u001b[0;34m=\u001b[0m\u001b[0mmolecule\u001b[0m\u001b[0;34m,\u001b[0m \u001b[0mattributes\u001b[0m\u001b[0;34m=\u001b[0m\u001b[0mattributes\u001b[0m\u001b[0;34m)\u001b[0m\u001b[0;34m\u001b[0m\u001b[0;34m\u001b[0m\u001b[0m\n",
      "\u001b[0;32m~/.conda/envs/openff-qcarchive/lib/python3.7/site-packages/openforcefield/topology/molecule.py\u001b[0m in \u001b[0;36mfrom_qcschema\u001b[0;34m(cls, qca_record, client, toolkit_registry, allow_undefined_stereo)\u001b[0m\n\u001b[1;32m   4091\u001b[0m             \u001b[0mmapped_smiles\u001b[0m \u001b[0;34m=\u001b[0m \u001b[0mqca_record\u001b[0m\u001b[0;34m[\u001b[0m\u001b[0;34m'attributes'\u001b[0m\u001b[0;34m]\u001b[0m\u001b[0;34m[\u001b[0m\u001b[0;34m'canonical_isomeric_explicit_hydrogen_mapped_smiles'\u001b[0m\u001b[0;34m]\u001b[0m\u001b[0;34m\u001b[0m\u001b[0;34m\u001b[0m\u001b[0m\n\u001b[1;32m   4092\u001b[0m         \u001b[0;32mexcept\u001b[0m \u001b[0mKeyError\u001b[0m\u001b[0;34m:\u001b[0m\u001b[0;34m\u001b[0m\u001b[0;34m\u001b[0m\u001b[0m\n\u001b[0;32m-> 4093\u001b[0;31m             \u001b[0;32mraise\u001b[0m \u001b[0mKeyError\u001b[0m\u001b[0;34m(\u001b[0m\u001b[0;34m'The record must contain the hydrogen mapped smiles to be safely made from the archive.'\u001b[0m\u001b[0;34m)\u001b[0m\u001b[0;34m\u001b[0m\u001b[0;34m\u001b[0m\u001b[0m\n\u001b[0m\u001b[1;32m   4094\u001b[0m \u001b[0;34m\u001b[0m\u001b[0m\n\u001b[1;32m   4095\u001b[0m         \u001b[0;31m# make a new molecule that has been reordered to match the cmiles mapping\u001b[0m\u001b[0;34m\u001b[0m\u001b[0;34m\u001b[0m\u001b[0;34m\u001b[0m\u001b[0m\n",
      "\u001b[0;31mKeyError\u001b[0m: 'The record must contain the hydrogen mapped smiles to be safely made from the archive.'"
     ]
    }
   ],
   "source": [
    "for idx, (canonical_optimization_index, optimization_data) in enumerate(ds1['dataset'].items()):\n",
    "    attributes = optimization_data['attributes']\n",
    "    molecule = OFFMolecule.from_qcschema(optimization_data)\n",
    "    \n",
    "    dataset.add_molecule(index=idx, molecule=molecule, attributes=attributes)"
   ]
  },
  {
   "cell_type": "markdown",
   "metadata": {},
   "source": [
    "So, we need a source of CMILES before we can go much further.\n",
    "To my understanding these can be generated from SDF files with the toolkit. [@jthorton has also asked for the original structure files](https://github.com/openforcefield/qca-dataset-submission/pull/124#issuecomment-669064179), which may also work."
   ]
  }
 ],
 "metadata": {
  "kernelspec": {
   "display_name": "Python 3",
   "language": "python",
   "name": "python3"
  },
  "language_info": {
   "codemirror_mode": {
    "name": "ipython",
    "version": 3
   },
   "file_extension": ".py",
   "mimetype": "text/x-python",
   "name": "python",
   "nbconvert_exporter": "python",
   "pygments_lexer": "ipython3",
   "version": "3.7.8"
  }
 },
 "nbformat": 4,
 "nbformat_minor": 4
}
