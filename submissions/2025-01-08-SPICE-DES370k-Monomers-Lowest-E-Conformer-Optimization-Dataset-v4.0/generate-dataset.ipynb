{
 "cells": [
  {
   "cell_type": "code",
   "execution_count": 1,
   "id": "eb78c645-ee82-4255-9c71-d1356587e31d",
   "metadata": {},
   "outputs": [],
   "source": [
    "import h5py\n",
    "from openff.toolkit import Molecule, Quantity, unit\n",
    "from openff.qcsubmit.factories import OptimizationDatasetFactory\n",
    "from openff.qcsubmit.datasets import OptimizationDataset\n",
    "import numpy as np"
   ]
  },
  {
   "cell_type": "markdown",
   "id": "dfbc16bf-1e08-41c7-bd7e-2a76061bd40b",
   "metadata": {},
   "source": [
    "# Generating molecules\n",
    "\n",
    "Pulling out the lowest energy conformer of each molecule to run a full geometry optimization on.\n",
    "\n",
    "SPICE2 hdf5 file can be downloaded [here](https://zenodo.org/records/10975225).\n",
    "Not including with submission as it is 35 GB. Including the code here for provenence."
   ]
  },
  {
   "cell_type": "code",
   "execution_count": 5,
   "id": "e929af1a-8d3b-43fc-8885-1bcf3a32b06b",
   "metadata": {},
   "outputs": [],
   "source": [
    "# # Extract the DES370k monomer subset\n",
    "\n",
    "# des370k_results = {}\n",
    "# with h5py.File(\"/Users/amcisaac/Documents/SPICE/SPICE-2.0.1.hdf5\") as f:\n",
    "#     for key in list(f.keys()):\n",
    "#         group = f[key]\n",
    "#         subset = group['subset'][()][0].decode('utf-8')\n",
    "\n",
    "#         if subset == 'SPICE DES Monomers Single Points Dataset v1.1':\n",
    "#             smiles = group['smiles'][()][0].decode('utf-8')\n",
    "#             confs = group['conformations'][()]\n",
    "#             energies = group['dft_total_energy'][()]\n",
    "#             dEs = energies - min(energies)\n",
    "#             des370k_results[smiles] = {'conformations':confs,'dft_total_energy':energies,'dEs':dEs}"
   ]
  },
  {
   "cell_type": "code",
   "execution_count": 6,
   "id": "3c4d8510-7072-4427-876c-9271e9face0d",
   "metadata": {},
   "outputs": [],
   "source": [
    "# # Identify the lowest energy conformer for each molecule\n",
    "\n",
    "# mols=[]\n",
    "# for i,key in enumerate(list(des370k_results.keys())):\n",
    "#     result = des370k_results[key]\n",
    "#     idx_lowe = np.argmin(result['dEs'])\n",
    "#     conf_lowe = result['conformations'][idx_lowe]\n",
    "\n",
    "#     mol = Molecule.from_mapped_smiles(key,allow_undefined_stereo=True)\n",
    "#     mol.add_conformer(Quantity(conf_lowe, unit.bohr)) # OpenFF converts to angstroms upon addition, then back to Bohr when adding to dataset\n",
    "\n",
    "#     mols.append(mol)\n",
    "    "
   ]
  },
  {
   "cell_type": "code",
   "execution_count": 7,
   "id": "d48eb885-1e72-422a-a607-b568340936ff",
   "metadata": {
    "scrolled": true
   },
   "outputs": [],
   "source": [
    "# # Save as a dataset just to minimize converting between different ecosystems.\n",
    "# # Could also save as SDF files\n",
    "# dataset_factory_molsonly = OptimizationDatasetFactory()\n",
    "\n",
    "# dataset_molsonly = dataset_factory_molsonly.create_dataset(\n",
    "#     dataset_name=\"SPICE DES370k Monomers Molecules Placeholder\",\n",
    "#     tagline=\"SPICE DES370k Monomers Molecules Placeholder.\",\n",
    "#     description=(\n",
    "#         \"SPICE DES370k Monomers Molecules Placeholder\"\n",
    "#     ),\n",
    "#     molecules=mols\n",
    "# )\n",
    "\n",
    "# dataset_molsonly.export_dataset(\"des370k_monomers_minEconf.json\")"
   ]
  },
  {
   "cell_type": "markdown",
   "id": "b637d8ff-ad8f-4412-a408-121dc9097760",
   "metadata": {},
   "source": [
    "# Generate the actual dataset"
   ]
  },
  {
   "cell_type": "code",
   "execution_count": 8,
   "id": "2f8bd288-fa32-4fda-9cf1-996cbfb766b3",
   "metadata": {},
   "outputs": [],
   "source": [
    "des370k_monomer_lowestE_confs = list(OptimizationDataset.parse_file('des370k_monomers_minEconf.json').molecules)"
   ]
  },
  {
   "cell_type": "code",
   "execution_count": 9,
   "id": "c1873b44-ec19-419d-9589-ccdc6d71664c",
   "metadata": {
    "scrolled": true
   },
   "outputs": [
    {
     "name": "stderr",
     "output_type": "stream",
     "text": [
      "Deduplication                 : 100%|███████| 374/374 [00:00<00:00, 3120.13it/s]\n",
      "[14:56:21] WARNING: Proton(s) added/removed             | 0/374 [00:00<?, ?it/s]\n",
      "\n",
      "[14:56:21] WARNING: Proton(s) added/removed\n",
      "\n",
      "[14:56:21] WARNING: Proton(s) added/removed\n",
      "\n",
      "[14:56:21] WARNING: Proton(s) added/removed\n",
      "\n",
      "[14:56:21] WARNING: Proton(s) added/removed\n",
      "\n",
      "[14:56:21] WARNING: Proton(s) added/removed\n",
      "\n",
      "[14:56:21] WARNING: Proton(s) added/removed\n",
      "\n",
      "[14:56:21] WARNING: Proton(s) added/removed\n",
      "\n",
      "[14:56:21] WARNING: Proton(s) added/removed\n",
      "\n",
      "[14:56:21] WARNING: Proton(s) added/removed\n",
      "\n",
      "[14:56:21] WARNING: Proton(s) added/removed\n",
      "\n",
      "[14:56:21] WARNING: Proton(s) added/removed\n",
      "\n",
      "[14:56:21] WARNING: Proton(s) added/removed\n",
      "\n",
      "[14:56:21] WARNING: Proton(s) added/removed\n",
      "\n",
      "[14:56:21] WARNING: Proton(s) added/removed\n",
      "\n",
      "[14:56:21] WARNING: Proton(s) added/removed\n",
      "\n",
      "[14:56:21] WARNING: Proton(s) added/removed\n",
      "\n",
      "[14:56:21] WARNING: Proton(s) added/removed\n",
      "\n",
      "[14:56:21] WARNING: Proton(s) added/removed   | 39/374 [00:00<00:00, 386.99it/s]\n",
      "\n",
      "[14:56:21] WARNING: Proton(s) added/removed\n",
      "\n",
      "[14:56:21] WARNING: Proton(s) added/removed\n",
      "\n",
      "[14:56:21] WARNING: Proton(s) added/removed\n",
      "\n",
      "[14:56:21] WARNING: Proton(s) added/removed   | 78/374 [00:00<00:00, 369.39it/s]\n",
      "\n",
      "[14:56:21] WARNING: Proton(s) added/removed\n",
      "\n",
      "[14:56:21] WARNING: Proton(s) added/removed  | 115/374 [00:00<00:00, 336.80it/s]\n",
      "\n",
      "[14:56:21] WARNING: Proton(s) added/removed\n",
      "\n",
      "[14:56:21] WARNING: Proton(s) added/removed  | 149/374 [00:00<00:00, 330.33it/s]\n",
      "\n",
      "[14:56:21] WARNING: Proton(s) added/removed\n",
      "\n",
      "[14:56:21] WARNING: Proton(s) added/removed\n",
      "\n",
      "[14:56:21] WARNING: Proton(s) added/removed\n",
      "\n",
      "[14:56:22] WARNING: Proton(s) added/removed  | 252/374 [00:00<00:00, 321.87it/s]\n",
      "\n",
      "[14:56:22] WARNING: Proton(s) added/removed\n",
      "\n",
      "[14:56:22] WARNING: Proton(s) added/removed\n",
      "\n",
      "[14:56:22] WARNING: Proton(s) added/removed\n",
      "\n",
      "[14:56:22] WARNING: Proton(s) added/removed  | 285/374 [00:00<00:00, 321.84it/s]\n",
      "\n",
      "[14:56:22] WARNING: Proton(s) added/removed\n",
      "\n",
      "Preparation                   : 100%|████████| 374/374 [00:01<00:00, 336.00it/s]\n"
     ]
    }
   ],
   "source": [
    "dataset_factory = OptimizationDatasetFactory()\n",
    "\n",
    "dataset = dataset_factory.create_dataset(\n",
    "    dataset_name=\"SPICE DES370k Monomers Lowest E Conformer Optimization Dataset v4.0\",\n",
    "    tagline=\"B3LYP-D3BJ/DZVP relaxation of the lowest energy conformer of each molecule in the DES370k monomer dataset.\",\n",
    "    description=(\n",
    "        \"A dataset containing the lowest energy conformer of all molecules from the \"\n",
    "        \"`SPICE DES Monomers Single Points Dataset v1.1` dataset, \"\n",
    "        \"optimized at the OpenFF default level of theory (B3LYP-D3BJ/DZVP). \" \n",
    "        \"Detailed description on how the original dataset is generated can be found at https://github.com/openmm/qmdataset/tree/main/des370k.\"\n",
    "    ),\n",
    "    molecules=des370k_monomer_lowestE_confs\n",
    ")\n",
    "dataset.metadata.submitter = \"amcisaac\"\n",
    "dataset.metadata.long_description_url = (\"https://github.com/openforcefield/qca-dataset-submission/tree/master/submissions/2025-01-08-SPICE-DES370k-Monomers-Lowest-E-Conformer-Optimization-Dataset-v4.0\") "
   ]
  },
  {
   "cell_type": "markdown",
   "id": "a5decada-edf4-4df9-9a06-1e4e003690ef",
   "metadata": {},
   "source": [
    "## Analyze dataset"
   ]
  },
  {
   "cell_type": "code",
   "execution_count": 10,
   "id": "5e21eaaa-4850-4c3f-acaa-7dbb94196421",
   "metadata": {},
   "outputs": [
    {
     "name": "stdout",
     "output_type": "stream",
     "text": [
      "# heavy atoms\n",
      "  1: 5\n",
      "  2: 14\n",
      "  3: 25\n",
      "  4: 52\n",
      "  5: 78\n",
      "  6: 89\n",
      "  7: 58\n",
      "  8: 34\n",
      "  9: 10\n",
      " 10: 4\n",
      " 11: 3\n",
      " 12: 2\n"
     ]
    }
   ],
   "source": [
    "n_confs = np.array(\n",
    "    [mol.n_conformers for mol in dataset.molecules]\n",
    ")\n",
    "\n",
    "n_heavy_atoms = np.array(\n",
    "    [mol.to_rdkit().GetNumHeavyAtoms() for mol in dataset.molecules]\n",
    ")\n",
    "\n",
    "masses = np.array([\n",
    "    sum([atom.mass.m for atom in mol.atoms])\n",
    "    for mol in dataset.molecules\n",
    "])\n",
    "\n",
    "elements = set(\n",
    "    atom.symbol\n",
    "    for mol in dataset.molecules\n",
    "    for atom in mol.atoms\n",
    ")\n",
    "\n",
    "unique_charges = [str(charge) for charge in sorted(set([\n",
    "    mol.total_charge.m_as(unit.elementary_charge)\n",
    "    for mol in dataset.molecules\n",
    "]))]\n",
    "\n",
    "from collections import Counter\n",
    "\n",
    "print(\"# heavy atoms\")\n",
    "counts = Counter(n_heavy_atoms)\n",
    "for n_heavy in sorted(counts):\n",
    "    print(f\"{str(n_heavy):>3}: {counts[n_heavy]}\")\n"
   ]
  },
  {
   "cell_type": "code",
   "execution_count": 11,
   "id": "2ebfccde-19a9-403e-92ca-ec29a5f1854b",
   "metadata": {},
   "outputs": [
    {
     "name": "stdout",
     "output_type": "stream",
     "text": [
      "* Name: SPICE DES370k Monomers Lowest E Conformer Optimization Dataset v4.0\n",
      "* Number of unique molecules: 374\n",
      "* Number of conformers: 374\n",
      "* Number of conformers (min, mean, max): 1.00, 1.00, 1.00\n",
      "* Molecular weight (min, mean, max): 16.04, 95.89, 284.78\n",
      "* Charges: -1.0 0.0 1.0\n",
      "## Metadata\n",
      "* Elements: {S, O, F, P, Br, N, H, C, Cl, I}\n",
      "* Spec: default\n",
      "  * basis: DZVP\n",
      "  * implicit_solvent: None\n",
      "  * keywords: {}\n",
      "  * maxiter: 200\n",
      "  * method: B3LYP-D3BJ\n",
      "  * program: psi4\n",
      "  * SCF properties:\n",
      "    * dipole\n",
      "    * quadrupole\n",
      "    * wiberg_lowdin_indices\n",
      "    * mayer_indices\n"
     ]
    }
   ],
   "source": [
    "print('* Name: {}'.format(dataset.dataset_name))\n",
    "print('* Number of unique molecules: {}'.format(dataset.n_molecules))\n",
    "print('* Number of conformers: {}'.format(dataset.n_records))\n",
    "print('* Number of conformers (min, mean, max): {:.2f}, {:.2f}, {:.2f}'.format(min(n_confs),np.mean(n_confs),max(n_confs)))\n",
    "print('* Molecular weight (min, mean, max): {:.2f}, {:.2f}, {:.2f}'.format(min(masses),np.mean(masses),max(masses)))\n",
    "print('* Charges: {}'.format(' '.join(unique_charges)))\n",
    "\n",
    "print(\"## Metadata\")\n",
    "print(f\"* Elements: {{{', '.join(dataset.metadata.dict()['elements'])}}}\")\n",
    "\n",
    "def print_field(od, field): print(f\"  * {field}: {od[field]}\")\n",
    "\n",
    "fields = [\"basis\", \"implicit_solvent\", \"keywords\", \"maxiter\", \"method\", \"program\"]\n",
    "for spec, obj in dataset.qc_specifications.items():\n",
    "    od = obj.dict()\n",
    "    print(\"* Spec:\", spec)\n",
    "    for field in fields:\n",
    "        print_field(od, field)\n",
    "    print(\"  * SCF properties:\")\n",
    "    for field in od[\"scf_properties\"]:\n",
    "        print(f\"    * {field}\")"
   ]
  },
  {
   "cell_type": "markdown",
   "id": "959073ae-c94b-4053-8177-d3e32e6f5a8e",
   "metadata": {},
   "source": [
    "## Update description based on analysis and export\n",
    "\n",
    "In principle, we could analyze the molecules before adding them to the dataset, and just do the description once. I'm doing it after in order to make sure it's reflective of any changes made when adding molecules to the dataset."
   ]
  },
  {
   "cell_type": "code",
   "execution_count": 12,
   "id": "a64769a5-2d2b-4676-b655-70eb41790882",
   "metadata": {},
   "outputs": [],
   "source": [
    "dataset.metadata.long_description=((\"A dataset containing the lowest energy conformer of all molecules from the \"\n",
    "        \"`SPICE DES Monomers Single Points Dataset v1.1` dataset, \"\n",
    "        \"optimized at the OpenFF default level of theory (B3LYP-D3BJ/DZVP). \" \n",
    "        \"Detailed description on how the original dataset is generated can be found at https://github.com/openmm/qmdataset/tree/main/des370k.\\n\\n\"\n",
    "        \"Dataset information:\\n\"\n",
    "        \"* Number of unique molecules: {}\\n\"\n",
    "        \"* Number of conformers: {}\\n\"\n",
    "        \"* Number of conformers (min, mean, max): {:.2f}, {:.2f}, {:.2f}\\n\"\n",
    "        \"* Molecular weight (min, mean, max): {:.2f}, {:.2f}, {:.2f}\\n\"\n",
    "        \"* Charges: {}\\n\"\n",
    "        \"* Elements: {}\\n\"\n",
    "        \"* Submission directory: {}\".format(dataset.n_molecules,dataset.n_records,min(n_confs),np.mean(n_confs),max(n_confs),min(masses),np.mean(masses),max(masses),' '.join(unique_charges),f\"{{{', '.join(dataset.metadata.dict()['elements'])}}}\",dataset.metadata.long_description_url)\n",
    "        ))\n",
    "\n",
    "dataset.description = dataset.metadata.long_description"
   ]
  },
  {
   "cell_type": "code",
   "execution_count": 13,
   "id": "09d18293-eea8-48cc-b688-55e3cde1b823",
   "metadata": {},
   "outputs": [
    {
     "name": "stdout",
     "output_type": "stream",
     "text": [
      "A dataset containing the lowest energy conformer of all molecules from the `SPICE DES Monomers Single Points Dataset v1.1` dataset, optimized at the OpenFF default level of theory (B3LYP-D3BJ/DZVP). Detailed description on how the original dataset is generated can be found at https://github.com/openmm/qmdataset/tree/main/des370k.\n",
      "\n",
      "Dataset information:\n",
      "* Number of unique molecules: 374\n",
      "* Number of conformers: 374\n",
      "* Number of conformers (min, mean, max): 1.00, 1.00, 1.00\n",
      "* Molecular weight (min, mean, max): 16.04, 95.89, 284.78\n",
      "* Charges: -1.0 0.0 1.0\n",
      "* Elements: {S, O, F, P, Br, N, H, C, Cl, I}\n",
      "* Submission directory: https://github.com/openforcefield/qca-dataset-submission/tree/master/submissions/2025-01-08-SPICE-DES370k-Monomers-Lowest-E-Conformer-Optimization-Dataset-v4.0\n"
     ]
    }
   ],
   "source": [
    "print(dataset.description)"
   ]
  },
  {
   "cell_type": "code",
   "execution_count": 14,
   "id": "b9382818-989a-4533-90a7-c0f1e2392d0c",
   "metadata": {},
   "outputs": [
    {
     "name": "stdout",
     "output_type": "stream",
     "text": [
      "A dataset containing the lowest energy conformer of all molecules from the `SPICE DES Monomers Single Points Dataset v1.1` dataset, optimized at the OpenFF default level of theory (B3LYP-D3BJ/DZVP). Detailed description on how the original dataset is generated can be found at https://github.com/openmm/qmdataset/tree/main/des370k.\n",
      "\n",
      "Dataset information:\n",
      "* Number of unique molecules: 374\n",
      "* Number of conformers: 374\n",
      "* Number of conformers (min, mean, max): 1.00, 1.00, 1.00\n",
      "* Molecular weight (min, mean, max): 16.04, 95.89, 284.78\n",
      "* Charges: -1.0 0.0 1.0\n",
      "* Elements: {S, O, F, P, Br, N, H, C, Cl, I}\n",
      "* Submission directory: https://github.com/openforcefield/qca-dataset-submission/tree/master/submissions/2025-01-08-SPICE-DES370k-Monomers-Lowest-E-Conformer-Optimization-Dataset-v4.0\n"
     ]
    }
   ],
   "source": [
    "print(dataset.metadata.long_description)"
   ]
  },
  {
   "cell_type": "code",
   "execution_count": 18,
   "id": "a930d77a-f84c-47f2-b02f-0eddfa1a1b44",
   "metadata": {},
   "outputs": [],
   "source": [
    "dataset.export_dataset(\"dataset.json.bz2\")\n",
    "dataset.molecules_to_file('dataset.smi', 'smi')\n",
    "dataset.visualize(\"dataset.pdf\", columns=8)"
   ]
  },
  {
   "cell_type": "code",
   "execution_count": null,
   "id": "9d132f1f-aaaa-4be9-94ad-d6f320562cff",
   "metadata": {},
   "outputs": [],
   "source": []
  }
 ],
 "metadata": {
  "kernelspec": {
   "display_name": "Python 3 (ipykernel)",
   "language": "python",
   "name": "python3"
  },
  "language_info": {
   "codemirror_mode": {
    "name": "ipython",
    "version": 3
   },
   "file_extension": ".py",
   "mimetype": "text/x-python",
   "name": "python",
   "nbconvert_exporter": "python",
   "pygments_lexer": "ipython3",
   "version": "3.12.8"
  }
 },
 "nbformat": 4,
 "nbformat_minor": 5
}
