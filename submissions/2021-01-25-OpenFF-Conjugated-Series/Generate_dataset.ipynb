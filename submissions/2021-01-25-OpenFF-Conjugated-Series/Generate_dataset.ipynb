{
 "cells": [
  {
   "cell_type": "code",
   "execution_count": 1,
   "metadata": {},
   "outputs": [],
   "source": [
    "#imports \n",
    "\n",
    "import logging\n",
    "from pprint import pprint\n",
    "import sys\n",
    "import warnings\n",
    "\n",
    "import numpy as np\n",
    "\n",
    "from openff.qcsubmit.factories import TorsiondriveDatasetFactory\n",
    "from openff.qcsubmit.common_structures import TorsionIndexer\n",
    "from openff.qcsubmit import workflow_components\n",
    "from openforcefield.topology import Molecule\n",
    "\n",
    "from openeye import oechem"
   ]
  },
  {
   "cell_type": "code",
   "execution_count": 2,
   "metadata": {},
   "outputs": [],
   "source": [
    "# Warnings that tell us we have undefined stereo and charged molecules\n",
    "logging.getLogger(\"openforcefield\").setLevel(logging.ERROR)\n",
    "warnings.simplefilter(\"ignore\")"
   ]
  },
  {
   "cell_type": "code",
   "execution_count": 3,
   "metadata": {},
   "outputs": [],
   "source": [
    "def test_submit(qcs_ds, client):\n",
    "    result = qcs_ds.submit(client, threads=1)\n",
    "    print(result)\n",
    "    print(\"Total tasks:\", sum(result.values()))\n",
    "\n",
    "def test_submit_to_local_server(qcs_ds):\n",
    "    print(\"Submitting to test-run to local server\")\n",
    "    client = ptl.FractalClient(\"localhost:7777\", verify=False)\n",
    "    test_submit(qcs_ds, client)\n",
    "    \n",
    "def test_submit_to_test_server(qcs_ds):\n",
    "    from qcfractal import FractalSnowflakeHandler\n",
    "    print(\"Submitting test-run to in-memory server\")\n",
    "    server = FractalSnowflakeHandler()\n",
    "    test_submit(qcs_ds, server.client())\n",
    "\n"
   ]
  },
  {
   "cell_type": "markdown",
   "metadata": {},
   "source": [
    "# Datasets for WBO Interpolation\n",
    "\n",
    "Lists of all the datasets used for WBO interpolation"
   ]
  },
  {
   "cell_type": "code",
   "execution_count": 4,
   "metadata": {},
   "outputs": [],
   "source": [
    "# Datasets \n",
    "\n",
    "enyl = [\n",
    "    \"CC=Cc1ccc(cc1)O\",\n",
    "    \"CC=Cc1ccc(cc1)S\",\n",
    "    \"CC=Cc1ccc(cc1)C(=O)O\",\n",
    "    \"CC=Cc1ccc(cc1)N\",\n",
    "    \"CC=Cc1ccc(cc1)[N+](C)(C)C\",\n",
    "    \"CC=Cc1ccc(cc1)NC(=O)N\",\n",
    "    \"CC=Cc1ccc(cc1)NC\",\n",
    "    \"CC=Cc1ccc(cc1)NON\",\n",
    "    \"CC=Cc1ccc(cc1)C#N\",\n",
    "    \"CC=Cc1ccc(cc1)C\",\n",
    "    \"CC=Cc1ccc(cc1)S(=O)O\",\n",
    "    \"CCOc1ccc(cc1)C=CC\",\n",
    "    \"CC=Cc1ccc(cc1)[O-]\",\n",
    "]\n",
    "\n",
    "styrene = [\n",
    "    \"C=Cc1ccc(cc1)O\",\n",
    "    \"C=Cc1ccc(cc1)S\",\n",
    "    \"C=Cc1ccc(cc1)C(=O)O\",\n",
    "    \"C=Cc1ccc(cc1)N\",\n",
    "    \"C[N+](C)(C)c1ccc(cc1)C=C\",\n",
    "    \"C=Cc1ccc(cc1)NC(=O)N\",\n",
    "    \"CNc1ccc(cc1)C=C\",\n",
    "    \"C=Cc1ccc(cc1)NON\",\n",
    "    \"C=Cc1ccc(cc1)C#N\",\n",
    "    \"Cc1ccc(cc1)C=C\",\n",
    "    \"C=Cc1ccc(cc1)S(=O)O\",\n",
    "    \"CCOc1ccc(cc1)C=C\",\n",
    "    \"C=Cc1ccc(cc1)[O-]\",\n",
    "]\n",
    "\n",
    "amide_primary = [\n",
    "    \"C(=O)(N)O\",\n",
    "    \"C(=O)(N)S\",\n",
    "    \"C(=O)(C(=O)O)N\",\n",
    "    \"C(=O)(N)N\",\n",
    "    \"C[N+](C)(C)C(=O)N\",\n",
    "    \"C(=O)(N)NC(=O)N\",\n",
    "    \"CNC(=O)N(C)C\",\n",
    "    \"C(=O)(N)NON\",\n",
    "    \"C(#N)C(=O)N\",\n",
    "    \"CCC(=O)N\",\n",
    "    \"CN(C)C(=O)S(=O)O\",\n",
    "    \"CCOC(=O)N\",\n",
    "    \"C(=O)(N)[O-]\",\n",
    "]\n",
    "\n",
    "amide_secondary = [\n",
    "    \"CNC(=O)O\",\n",
    "    \"CNC(=O)S\",\n",
    "    \"CNC(=O)C(=O)O\",\n",
    "    \"CNC(=O)N\",\n",
    "    \"CNC(=O)[N+](C)(C)C\",\n",
    "    \"CNC(=O)NC(=O)N\",\n",
    "    \"CNC(=O)NC\",\n",
    "    \"CNC(=O)NON\",\n",
    "    \"CNC(=O)C#N\",\n",
    "    \"CCC(=O)NC\",\n",
    "    \"CNC(=O)S(=O)O\",\n",
    "    \"CCOC(=O)NC\",\n",
    "    \"CNC(=O)[O-]\",\n",
    "]\n",
    "\n",
    "amide_tertiary = [\n",
    "    \"CN(C)C(=O)O\",\n",
    "    \"CN(C)C(=O)S\",\n",
    "    \"CN(C)C(=O)C(=O)O\",\n",
    "    \"CN(C)C(=O)N\",\n",
    "    \"CN(C)C(=O)[N+](C)(C)C\",\n",
    "    \"CN(C)C(=O)NC(=O)N\",\n",
    "    \"CNC(=O)N(C)C\",\n",
    "    \"CN(C)C(=O)NON\",\n",
    "    \"CN(C)C(=O)C#N\",\n",
    "    \"CCC(=O)N(C)C\",\n",
    "    \"CN(C)C(=O)S(=O)O\",\n",
    "    \"CCOC(=O)N(C)C\",\n",
    "    \"CN(C)C(=O)[O-]\",\n",
    "]\n",
    "\n",
    "carbonyl = [\n",
    "    \"C=CC(=O)O\",\n",
    "    \"C=CC(=O)S\",\n",
    "    \"C=CC(=O)C(=O)O\",\n",
    "    \"C=CC(=O)N\",\n",
    "    \"C[N+](C)(C)C(=O)C=C\",\n",
    "    \"C=CC(=O)NC(=O)N\",\n",
    "    \"CNC(=O)C=C\",\n",
    "    \"C=CC(=O)NON\",\n",
    "    \"C=CC(=O)C#N\",\n",
    "    \"CCC(=O)C=C\",\n",
    "    \"C=CC(=O)S(=O)O\",\n",
    "    \"CCOC(=O)C=C\",\n",
    "    \"C=CC(=O)[O-]\",\n",
    "]\n",
    "\n",
    "carbamate = [\n",
    "    \"CN(C)C(=O)OO\",\n",
    "    \"CN(C)C(=O)OS\",\n",
    "    \"CN(C)C(=O)OC(=O)O\",\n",
    "    \"CN(C)C(=O)ON\",\n",
    "    \"CN(C)C(=O)O[N+](C)(C)C\",\n",
    "    \"CN(C)C(=O)ONC(=O)N\",\n",
    "    \"CNOC(=O)N(C)C\",\n",
    "    \"CN(C)C(=O)ONON\",\n",
    "    \"CN(C)C(=O)OC#N\",\n",
    "    \"CCOC(=O)N(C)C\",\n",
    "    \"CN(C)C(=O)OS(=O)O\",\n",
    "    \"CCOOC(=O)N(C)C\",\n",
    "    \"CN(C)C(=O)O[O-]\",\n",
    "]\n",
    "\n",
    "urea = [\n",
    "    \"CN(C)C(=O)NO\",\n",
    "    \"CN(C)C(=O)NS\",\n",
    "    \"CN(C)C(=O)NC(=O)O\",\n",
    "    \"CN(C)C(=O)NN\",\n",
    "    \"CN(C)C(=O)N[N+](C)(C)C\",\n",
    "    \"CN(C)C(=O)NNC(=O)N\",\n",
    "    \"CNNC(=O)N(C)C\",\n",
    "    \"CN(C)C(=O)NNON\",\n",
    "    \"CN(C)C(=O)NC#N\",\n",
    "    \"CCNC(=O)N(C)C\",\n",
    "    \"CN(C)C(=O)NS(=O)O\",\n",
    "    \"CCONC(=O)N(C)C\",\n",
    "    \"CN(C)C(=O)N[O-]\",\n",
    "]\n",
    "\n",
    "\n",
    "groups = {\n",
    "    \"enyl\": [enyl, \"[C:1]-[C:2]=[C:3]-[c:4]\"],\n",
    "    \"styrene\": [styrene, \"[H:1]-[C:2]=[C:3]-[c:4]\"],\n",
    "    \"amide_primary\": [amide_primary, \"[H:1]-[N:2]-[C:3]=[O:4]\"],\n",
    "    \"amide_secondary\": [amide_secondary, \"[C:1]-[N:2]-[C:3]=[O:4]\"],\n",
    "    \"amide_tertiary\": [amide_tertiary, \"[C:1]-[N:2]-[C:3]=[O:4]\"],\n",
    "    \"carbonyl\": [carbonyl, \"[C:1]=[C:2]-[C:3]=[O:4]\"],\n",
    "    \"carbamate\": [carbamate, \"[C:1]-[N:2]-[C:3]=[O:4]\"],\n",
    "    \"urea\": [urea, \"[C:1]-[N:2]-[C:3]-[N:4]\"],\n",
    "}\n"
   ]
  },
  {
   "cell_type": "code",
   "execution_count": 5,
   "metadata": {},
   "outputs": [],
   "source": [
    "def find_torsions(mols: list, smarts: str, verbose=False):\n",
    "\n",
    "    for mol in mols:\n",
    "        matches = mol.chemical_environment_matches(smarts)\n",
    "        tds = TorsionIndexer()\n",
    "        if verbose:\n",
    "            print(\n",
    "                \"\\nmolecule: {:32s} searching: {:16s}\".format(\n",
    "                    mol.to_smiles(explicit_hydrogens=True, mapped=True), smarts\n",
    "                )\n",
    "            )\n",
    "        for match in matches:\n",
    "            if verbose:\n",
    "                print(\"    Adding torsion\", match)\n",
    "            tds.add_torsion(match, (-180, 180), True)\n",
    "        mol.properties[\"dihedrals\"] = tds\n",
    "        assert tds.n_torsions > 0\n",
    "        if verbose:\n",
    "            print(\"    Total torsions: {:d}\".format(tds.n_torsions))\n"
   ]
  },
  {
   "cell_type": "code",
   "execution_count": 6,
   "metadata": {},
   "outputs": [],
   "source": [
    "def gen_molecules(smi: list):\n",
    "    mols = []\n",
    "    for m in smi: \n",
    "        mol=Molecule.from_smiles(m, allow_undefined_stereo=True)\n",
    "        mols.append(mol)\n",
    "    return mols"
   ]
  },
  {
   "cell_type": "markdown",
   "metadata": {},
   "source": [
    "## Generate the molecules and torsion indices per group"
   ]
  },
  {
   "cell_type": "code",
   "execution_count": 7,
   "metadata": {},
   "outputs": [
    {
     "name": "stdout",
     "output_type": "stream",
     "text": [
      "Group: enyl    \n"
     ]
    },
    {
     "name": "stderr",
     "output_type": "stream",
     "text": [
      "Deduplication                 : 100%|█████████| 13/13 [00:00<00:00, 1274.09it/s]\n",
      "EnumerateProtomers            : 100%|██████████| 13/13 [00:00<00:00, 194.90it/s]\n",
      "EnumerateStereoisomers        : 100%|███████████| 19/19 [00:01<00:00, 14.22it/s]\n",
      "Preparation                   : 100%|███████████| 36/36 [00:01<00:00, 25.27it/s]\n"
     ]
    },
    {
     "name": "stdout",
     "output_type": "stream",
     "text": [
      "Group: styrene \n"
     ]
    },
    {
     "name": "stderr",
     "output_type": "stream",
     "text": [
      "Deduplication                 : 100%|█████████| 13/13 [00:00<00:00, 1268.22it/s]\n",
      "EnumerateProtomers            : 100%|██████████| 13/13 [00:00<00:00, 229.92it/s]\n",
      "EnumerateStereoisomers        : 100%|███████████| 19/19 [00:00<00:00, 20.39it/s]\n",
      "Preparation                   : 100%|███████████| 17/17 [00:00<00:00, 42.70it/s]\n"
     ]
    },
    {
     "name": "stdout",
     "output_type": "stream",
     "text": [
      "Group: amide_primary\n"
     ]
    },
    {
     "name": "stderr",
     "output_type": "stream",
     "text": [
      "Deduplication                 : 100%|█████████| 13/13 [00:00<00:00, 2366.99it/s]\n",
      "EnumerateProtomers            : 100%|██████████| 13/13 [00:00<00:00, 369.48it/s]\n",
      "EnumerateStereoisomers        : 100%|███████████| 19/19 [00:00<00:00, 20.56it/s]\n",
      "Preparation                   : 100%|███████████| 17/17 [00:00<00:00, 47.65it/s]\n"
     ]
    },
    {
     "name": "stdout",
     "output_type": "stream",
     "text": [
      "Group: amide_secondary\n"
     ]
    },
    {
     "name": "stderr",
     "output_type": "stream",
     "text": [
      "Deduplication                 : 100%|█████████| 13/13 [00:00<00:00, 2114.80it/s]\n",
      "EnumerateProtomers            : 100%|██████████| 13/13 [00:00<00:00, 352.63it/s]\n",
      "EnumerateStereoisomers        : 100%|███████████| 19/19 [00:00<00:00, 19.79it/s]\n",
      "Preparation                   : 100%|███████████| 17/17 [00:00<00:00, 40.61it/s]\n"
     ]
    },
    {
     "name": "stdout",
     "output_type": "stream",
     "text": [
      "Group: amide_tertiary\n"
     ]
    },
    {
     "name": "stderr",
     "output_type": "stream",
     "text": [
      "Deduplication                 : 100%|█████████| 13/13 [00:00<00:00, 2206.99it/s]\n",
      "EnumerateProtomers            : 100%|██████████| 13/13 [00:00<00:00, 327.70it/s]\n",
      "EnumerateStereoisomers        : 100%|███████████| 19/19 [00:00<00:00, 20.15it/s]\n",
      "Preparation                   : 100%|███████████| 17/17 [00:00<00:00, 28.31it/s]\n"
     ]
    },
    {
     "name": "stdout",
     "output_type": "stream",
     "text": [
      "Group: carbonyl\n"
     ]
    },
    {
     "name": "stderr",
     "output_type": "stream",
     "text": [
      "Deduplication                 : 100%|█████████| 13/13 [00:00<00:00, 1663.44it/s]\n",
      "EnumerateProtomers            : 100%|██████████| 13/13 [00:00<00:00, 344.00it/s]\n",
      "EnumerateStereoisomers        : 100%|███████████| 19/19 [00:00<00:00, 20.38it/s]\n",
      "Preparation                   : 100%|███████████| 17/17 [00:00<00:00, 52.46it/s]\n"
     ]
    },
    {
     "name": "stdout",
     "output_type": "stream",
     "text": [
      "Group: carbamate\n"
     ]
    },
    {
     "name": "stderr",
     "output_type": "stream",
     "text": [
      "Deduplication                 : 100%|█████████| 13/13 [00:00<00:00, 1619.71it/s]\n",
      "EnumerateProtomers            : 100%|██████████| 13/13 [00:00<00:00, 297.12it/s]\n",
      "EnumerateStereoisomers        : 100%|███████████| 20/20 [00:01<00:00, 18.39it/s]\n",
      "Preparation                   : 100%|███████████| 18/18 [00:00<00:00, 31.78it/s]\n"
     ]
    },
    {
     "name": "stdout",
     "output_type": "stream",
     "text": [
      "Group: urea    \n"
     ]
    },
    {
     "name": "stderr",
     "output_type": "stream",
     "text": [
      "Deduplication                 : 100%|█████████| 13/13 [00:00<00:00, 1823.98it/s]\n",
      "EnumerateProtomers            : 100%|██████████| 13/13 [00:00<00:00, 199.43it/s]\n",
      "EnumerateStereoisomers        : 100%|███████████| 31/31 [00:01<00:00, 21.81it/s]\n",
      "Preparation                   : 100%|███████████| 28/28 [00:01<00:00, 25.34it/s]\n"
     ]
    }
   ],
   "source": [
    "all_mols = list()\n",
    "\n",
    "for name, (smi, smarts) in groups.items():\n",
    "    print(\"Group: {:8s}\".format(name))\n",
    "\n",
    "    mols = gen_molecules(smi)\n",
    "\n",
    "    qcs_ds = TorsiondriveDatasetFactory()\n",
    "\n",
    "    # The workflow only works in *this* order\n",
    "\n",
    "    component = workflow_components.EnumerateProtomers()\n",
    "    qcs_ds.add_workflow_component(component)\n",
    "\n",
    "    component = workflow_components.EnumerateStereoisomers()\n",
    "    qcs_ds.add_workflow_component(component)\n",
    "\n",
    "    sys.stdout.flush()\n",
    "    # This round is designed to create the new molecules from the workflow.\n",
    "    # Because we are searching each molecule for a SMARTS pattern,\n",
    "    # we do not assume two protomers would have the same indices\n",
    "    # for the same torsion, hence the pull of the molecules from the dataset\n",
    "    dataset = qcs_ds.create_dataset(\n",
    "        dataset_name=\"thismustbeeightchars\",\n",
    "        tagline=\"thismustbeeightchars\",\n",
    "        description=\"thismustbeeightchars\",\n",
    "        molecules=mols,\n",
    "    )\n",
    "\n",
    "    expanded_mols = list(dataset.molecules)\n",
    "    find_torsions(expanded_mols, smarts, verbose=False)\n",
    "\n",
    "    # Hack to get our torsions saved to file, rather than have it save all torsions\n",
    "    # qcs_ds = TorsiondriveDatasetFactory()\n",
    "    # dataset = qcs_ds.create_dataset(dataset_name=\"thismustbeeightchars\",\n",
    "    #                                 tagline=\"thismustbeeightchars\",\n",
    "    #                                 description=\"thismustbeeightchars\",\n",
    "    #                                 molecules=expanded_mols)\n",
    "    # dataset.visualize(f\"{name}.pdf\")\n",
    "\n",
    "    all_mols.extend(expanded_mols)\n"
   ]
  },
  {
   "cell_type": "markdown",
   "metadata": {},
   "source": [
    "## Prepare the main dataset by combining the groups together and generate conformers"
   ]
  },
  {
   "cell_type": "code",
   "execution_count": 8,
   "metadata": {},
   "outputs": [
    {
     "name": "stderr",
     "output_type": "stream",
     "text": [
      "Deduplication                 : 100%|████████| 693/693 [00:02<00:00, 236.27it/s]\n",
      "StandardConformerGenerator    : 100%|█████████| 165/165 [00:03<00:00, 46.26it/s]\n",
      "Preparation                   : 100%|█████████| 165/165 [00:04<00:00, 40.78it/s]\n"
     ]
    }
   ],
   "source": [
    "qcs_ds = TorsiondriveDatasetFactory()\n",
    "\n",
    "component = workflow_components.StandardConformerGenerator()\n",
    "component.max_conformers = 10\n",
    "component.rms_cutoff = 0.1\n",
    "qcs_ds.add_workflow_component(component)\n",
    "\n",
    "dataset = qcs_ds.create_dataset(\n",
    "    dataset_name=\"OpenFF WBO Conjugated Series v1.0\",\n",
    "    tagline=\"A functional series of molecules with varying conjugation\",\n",
    "    description=\"A series of functional groups to study bond conjugation effects for FF parameter interpolation\",\n",
    "    molecules=all_mols,\n",
    ")\n"
   ]
  },
  {
   "cell_type": "markdown",
   "metadata": {},
   "source": [
    "## Configure the dataset"
   ]
  },
  {
   "cell_type": "code",
   "execution_count": 9,
   "metadata": {},
   "outputs": [],
   "source": [
    "dataset.optimization_procedure.coordsys = \"dlc\"\n",
    "dataset.metadata.submitter = \"jmaat\"\n",
    "dataset.metadata.short_description = \"A series of functional groups to study bond conjugation effects for FF parameter interpolation\"\n",
    "dataset.metadata.long_description_url = \"https://github.com/openforcefield/qca-dataset-submission/tree/master/submissions/OpenFF-WBO-Conjugated-Series\"\n",
    "dataset.metadata.long_description = \"This is a torsion drive dataset that probes a range of Wiberg bond orders for different chemistries to better understand the relationship between torsion barrier height and Wiberg bond order. The dataset is being used for developing Wiberg bond order interpolated torsion parameters in OpenFF.\\nThe general principal behind the dataset is to start with a “base” chemical group and substitute chemical groups onto these “base” groups. The “base” groups included in this dataset are enyl, styrene, primary amide, secondary amide, tertiary amide, carbamate, urea and carbonyl group. For each of these “base” chemical groups, we substitute (1) hydroxy, (2) thiol, (3) carboxylic, (4) primary amine, (5) pronated amine, (6) urea , (7) secondary amine, (8) hydroxyl amine , (9) nitrile, (10) alkene, (11)  sulfone, (12) ethoxy, (13) hydroxide groups. The aim is to substitute chemical groups with varying electron withdrawing and donating properties, which will vary the Wiberg bond order of the central torsion bond. This dataset enables exploration of the effects of Wiberg bond order on the torsion barrier height for various chemistries.\\nThis dataset enumerates both the protomeric and stereoisomers of the molecules.\"\n"
   ]
  },
  {
   "cell_type": "markdown",
   "metadata": {},
   "source": [
    "## Describe the dataset"
   ]
  },
  {
   "cell_type": "code",
   "execution_count": 10,
   "metadata": {
    "scrolled": true
   },
   "outputs": [
    {
     "name": "stdout",
     "output_type": "stream",
     "text": [
      "{'collection_type': 'TorsiondriveDataset',\n",
      " 'creation_date': datetime.date(2021, 2, 3),\n",
      " 'dataset_name': 'OpenFF WBO Conjugated Series v1.0',\n",
      " 'elements': {'C', 'S', 'N', 'O', 'H'},\n",
      " 'long_description': 'This is a torsion drive dataset that probes a range of '\n",
      "                     'Wiberg bond orders for different chemistries to better '\n",
      "                     'understand the relationship between torsion barrier '\n",
      "                     'height and Wiberg bond order. The dataset is being used '\n",
      "                     'for developing Wiberg bond order interpolated torsion '\n",
      "                     'parameters in OpenFF.\\n'\n",
      "                     'The general principal behind the dataset is to start '\n",
      "                     'with a “base” chemical group and substitute chemical '\n",
      "                     'groups onto these “base” groups. The “base” groups '\n",
      "                     'included in this dataset are enyl, styrene, primary '\n",
      "                     'amide, secondary amide, tertiary amide, carbamate, urea '\n",
      "                     'and carbonyl group. For each of these “base” chemical '\n",
      "                     'groups, we substitute (1) hydroxy, (2) thiol, (3) '\n",
      "                     'carboxylic, (4) primary amine, (5) pronated amine, (6) '\n",
      "                     'urea , (7) secondary amine, (8) hydroxyl amine , (9) '\n",
      "                     'nitrile, (10) alkene, (11)  sulfone, (12) ethoxy, (13) '\n",
      "                     'hydroxide groups. The aim is to substitute chemical '\n",
      "                     'groups with varying electron withdrawing and donating '\n",
      "                     'properties, which will vary the Wiberg bond order of the '\n",
      "                     'central torsion bond. This dataset enables exploration '\n",
      "                     'of the effects of Wiberg bond order on the torsion '\n",
      "                     'barrier height for various chemistries.\\n'\n",
      "                     'This dataset enumerates both the protomeric and '\n",
      "                     'stereoisomers of the molecules.',\n",
      " 'long_description_url': HttpUrl('https://github.com/openforcefield/qca-dataset-submission/tree/master/submissions/OpenFF-WBO-Conjugated-Series', scheme='https', host='github.com', tld='com', host_type='domain', path='/openforcefield/qca-dataset-submission/tree/master/submissions/OpenFF-WBO-Conjugated-Series'),\n",
      " 'short_description': 'A series of functional groups to study bond conjugation '\n",
      "                      'effects for FF parameter interpolation',\n",
      " 'submitter': 'jmaat'}\n"
     ]
    }
   ],
   "source": [
    "pprint(dataset.metadata.dict())"
   ]
  },
  {
   "cell_type": "code",
   "execution_count": 11,
   "metadata": {},
   "outputs": [
    {
     "name": "stdout",
     "output_type": "stream",
     "text": [
      "Spec: default\n",
      "{'basis': 'DZVP',\n",
      " 'implicit_solvent': None,\n",
      " 'method': 'B3LYP-D3BJ',\n",
      " 'program': 'psi4',\n",
      " 'spec_description': 'Standard OpenFF optimization quantum chemistry '\n",
      "                     'specification.',\n",
      " 'spec_name': 'default',\n",
      " 'store_wavefunction': 'none'}\n"
     ]
    }
   ],
   "source": [
    "for spec, obj in dataset.qc_specifications.items():\n",
    "    print(\"Spec:\", spec)\n",
    "    pprint(obj.dict())"
   ]
  },
  {
   "cell_type": "code",
   "execution_count": 12,
   "metadata": {},
   "outputs": [
    {
     "name": "stdout",
     "output_type": "stream",
     "text": [
      "[<SCFProperties.Dipole: 'dipole'>,\n",
      " <SCFProperties.Quadrupole: 'quadrupole'>,\n",
      " <SCFProperties.WibergLowdinIndices: 'wiberg_lowdin_indices'>,\n",
      " <SCFProperties.MayerIndices: 'mayer_indices'>]\n"
     ]
    }
   ],
   "source": [
    "pprint(dataset.scf_properties)"
   ]
  },
  {
   "cell_type": "code",
   "execution_count": 13,
   "metadata": {},
   "outputs": [
    {
     "name": "stdout",
     "output_type": "stream",
     "text": [
      "Mean molecular weight: 119.24\n",
      "Max molecular weight: 182.24\n"
     ]
    }
   ],
   "source": [
    "# TODO: get this into metadata\n",
    "masses = []\n",
    "for molecule in dataset.molecules: \n",
    "    oemol = molecule.to_openeye()\n",
    "    mass = oechem.OECalculateMolecularWeight(oemol)\n",
    "    masses.append(mass)\n",
    "\n",
    "print(f'Mean molecular weight: {np.mean(np.array(masses)):.2f}')\n",
    "print(f'Max molecular weight: {np.max(np.array(masses)):.2f}')"
   ]
  },
  {
   "cell_type": "code",
   "execution_count": 14,
   "metadata": {},
   "outputs": [
    {
     "name": "stdout",
     "output_type": "stream",
     "text": [
      "Number of unique molecules        165\n",
      "Number of filtered molecules      0\n",
      "Number of torsion drives          190\n",
      "Number of conformers min mean max 1   7.21 10\n"
     ]
    }
   ],
   "source": [
    "\n",
    "confs = np.array([len(mol.conformers) for mol in dataset.molecules])\n",
    "print(\"Number of unique molecules       \", dataset.n_molecules)\n",
    "print(\"Number of filtered molecules     \", dataset.n_filtered)\n",
    "print(\"Number of torsion drives         \", dataset.n_records)\n",
    "print(\"Number of conformers min mean max\", \n",
    "      confs.min(), \"{:6.2f}\".format(confs.mean()), confs.max())\n",
    "\n",
    "dataset.export_dataset(\"dataset.json.bz2\")\n",
    "dataset.molecules_to_file(\"dataset.smi\", \"smi\")\n",
    "dataset.visualize('dataset.pdf')"
   ]
  },
  {
   "cell_type": "code",
   "execution_count": 15,
   "metadata": {},
   "outputs": [
    {
     "name": "stdout",
     "output_type": "stream",
     "text": [
      "Submitting test-run to in-memory server\n",
      "{'default': 190}\n",
      "Total tasks: 190\n",
      "CPU times: user 8.24 s, sys: 194 ms, total: 8.44 s\n",
      "Wall time: 27.5 s\n"
     ]
    }
   ],
   "source": [
    "%time test_submit_to_test_server(dataset)"
   ]
  }
 ],
 "metadata": {
  "kernelspec": {
   "display_name": "Python 3",
   "language": "python",
   "name": "python3"
  },
  "language_info": {
   "codemirror_mode": {
    "name": "ipython",
    "version": 3
   },
   "file_extension": ".py",
   "mimetype": "text/x-python",
   "name": "python",
   "nbconvert_exporter": "python",
   "pygments_lexer": "ipython3",
   "version": "3.7.9"
  }
 },
 "nbformat": 4,
 "nbformat_minor": 4
}
