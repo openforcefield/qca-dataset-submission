{
 "cells": [
  {
   "cell_type": "code",
   "execution_count": 1,
   "metadata": {},
   "outputs": [],
   "source": [
    "import logging\n",
    "import warnings\n",
    "from pprint import pprint\n",
    "\n",
    "import numpy as np\n",
    "from openeye import oechem\n",
    "from openff.qcsubmit.factories import OptimizationDatasetFactory\n",
    "from openff.qcsubmit.workflow_components import StandardConformerGenerator\n",
    "from openforcefield.topology import Molecule\n",
    "from tqdm import tqdm"
   ]
  },
  {
   "cell_type": "code",
   "execution_count": 2,
   "metadata": {},
   "outputs": [],
   "source": [
    "# Warnings that tell us we have undefined stereo and charged molecules\n",
    "logging.getLogger(\"openforcefield\").setLevel(logging.ERROR)\n",
    "warnings.simplefilter(\"ignore\")"
   ]
  },
  {
   "cell_type": "markdown",
   "metadata": {},
   "source": [
    "# Dataset Preperation"
   ]
  },
  {
   "cell_type": "markdown",
   "source": [
    "Load in the SMILES patterns of the molecules to include:"
   ],
   "metadata": {
    "collapsed": false
   }
  },
  {
   "cell_type": "code",
   "execution_count": 3,
   "metadata": {},
   "outputs": [],
   "source": [
    "with open(\"dataset.smi\") as file:\n",
    "    smiles_patterns = file.read().split(\"\\n\")\n",
    "    smiles_patterns = [pattern for pattern in smiles_patterns if len(pattern) > 0]"
   ]
  },
  {
   "cell_type": "markdown",
   "source": [
    "Load in the molecules to be optimized:"
   ],
   "metadata": {
    "collapsed": false,
    "pycharm": {
     "name": "#%% md\n"
    }
   }
  },
  {
   "cell_type": "code",
   "execution_count": 4,
   "outputs": [
    {
     "name": "stderr",
     "output_type": "stream",
     "text": [
      "100%|██████████| 51/51 [00:07<00:00,  6.82it/s]\n"
     ]
    },
    {
     "name": "stdout",
     "output_type": "stream",
     "text": [
      "Skipping c1cc(ccc1N)[N+] - OMEGA error.\n"
     ]
    }
   ],
   "source": [
    "molecules = []\n",
    "\n",
    "for smiles_pattern in tqdm(smiles_patterns):\n",
    "\n",
    "    molecule: Molecule = Molecule.from_smiles(smiles_pattern)\n",
    "\n",
    "    try:\n",
    "        molecule.generate_conformers(n_conformers=1)\n",
    "    except Exception:\n",
    "        print(f\"Skipping {smiles_pattern} - OMEGA error.\")\n",
    "        continue\n",
    "\n",
    "    molecules.append(molecule)"
   ],
   "metadata": {
    "collapsed": false,
    "pycharm": {
     "name": "#%%\n"
    }
   }
  },
  {
   "cell_type": "markdown",
   "metadata": {},
   "source": [
    "Prepare the main dataset from the molecule list."
   ]
  },
  {
   "cell_type": "code",
   "execution_count": 5,
   "metadata": {},
   "outputs": [
    {
     "name": "stderr",
     "output_type": "stream",
     "text": [
      "Deduplication                 : 100%|█████████| 50/50 [00:00<00:00, 1133.96it/s]\n",
      "StandardConformerGenerator    : 100%|███████████| 50/50 [00:02<00:00, 23.05it/s]\n",
      "Preparation                   : 100%|███████████| 50/50 [00:01<00:00, 38.72it/s]\n"
     ]
    }
   ],
   "source": [
    "dataset_factory = OptimizationDatasetFactory()\n",
    "\n",
    "dataset_factory.add_workflow_component(\n",
    "    StandardConformerGenerator(max_conformers=10, rms_cutoff=0.1, clear_existing=True)\n",
    ")\n",
    "\n",
    "dataset = dataset_factory.create_dataset(\n",
    "    dataset_name=\"OpenFF Aniline Para Opt v1.0\",\n",
    "    tagline=\"Optimizations of diverse, para-substituted aniline derivatives.\",\n",
    "    description=\"This dataset contains a set of aniline derivatives which are para-substituted with \"\n",
    "    \"groups of varying electron donating and withdrawing properties. This dataset was curated in \"\n",
    "    \"an effort to improve and understand which functional groups will allow us to best interpolate \"\n",
    "    \"between a planer and a pyramidal nitrogen.\",\n",
    "    molecules=molecules,\n",
    ")\n",
    "\n",
    "dataset.metadata.submitter = \"simonboothroyd\"\n",
    "dataset.metadata.long_description_url = (\n",
    "    \"https://github.com/openforcefield/qca-dataset-submission/tree/master/\"\n",
    "    \"submissions/\"\n",
    "    \"2021-04-02-OpenFF-Aniline-Para-Opt-v1.0\"\n",
    ")\n",
    "\n",
    "dataset.provenance[\"constructure\"] = \"0.0.1\""
   ]
  },
  {
   "cell_type": "markdown",
   "source": [
    "Make sure the molecules in the dataset match the input molecules"
   ],
   "metadata": {
    "collapsed": false,
    "pycharm": {
     "name": "#%% md\n"
    }
   }
  },
  {
   "cell_type": "code",
   "execution_count": 6,
   "outputs": [],
   "source": [
    "old_smiles = {Molecule.from_smiles(smiles).to_smiles(isomeric=False) for smiles in smiles_patterns}\n",
    "new_smiles = {molecule.to_smiles(isomeric=False) for molecule in dataset.molecules}\n",
    "\n",
    "assert len(old_smiles.symmetric_difference(new_smiles)) == 1"
   ],
   "metadata": {
    "collapsed": false,
    "pycharm": {
     "name": "#%%\n"
    }
   }
  },
  {
   "cell_type": "markdown",
   "source": [
    "Describe the molecule in the dataset"
   ],
   "metadata": {
    "collapsed": false,
    "pycharm": {
     "name": "#%% md\n"
    }
   }
  },
  {
   "cell_type": "code",
   "execution_count": 7,
   "outputs": [
    {
     "name": "stdout",
     "output_type": "stream",
     "text": [
      "Number of unique molecules        50\n",
      "Number of filtered molecules      0\n",
      "Number of conformers              223\n",
      "Number of conformers min mean max 1   4.46 10\n",
      "Mean molecular weight: 150.42\n",
      "Max molecular weight: 343.84\n",
      "Charges: [-1.0, 0.0, 1.0]\n"
     ]
    }
   ],
   "source": [
    "confs = np.array([len(mol.conformers) for mol in dataset.molecules])\n",
    "\n",
    "print(\"Number of unique molecules       \", dataset.n_molecules)\n",
    "print(\"Number of filtered molecules     \", dataset.n_filtered)\n",
    "print(\"Number of conformers             \", dataset.n_records)\n",
    "print(\"Number of conformers min mean max\",\n",
    "      confs.min(), \"{:6.2f}\".format(confs.mean()), confs.max())\n",
    "\n",
    "masses = []\n",
    "for molecule in dataset.molecules:\n",
    "    oemol = molecule.to_openeye()\n",
    "    mass = oechem.OECalculateMolecularWeight(oemol)\n",
    "    masses.append(mass)\n",
    "\n",
    "print(f'Mean molecular weight: {np.mean(np.array(masses)):.2f}')\n",
    "print(f'Max molecular weight: {np.max(np.array(masses)):.2f}')\n",
    "print(\"Charges:\", sorted(set(m.total_charge/m.total_charge.unit for m in dataset.molecules)))"
   ],
   "metadata": {
    "collapsed": false,
    "pycharm": {
     "name": "#%%\n"
    }
   }
  },
  {
   "cell_type": "markdown",
   "metadata": {},
   "source": [
    "Describe the dataset"
   ]
  },
  {
   "cell_type": "code",
   "execution_count": 8,
   "metadata": {
    "scrolled": true
   },
   "outputs": [
    {
     "name": "stdout",
     "output_type": "stream",
     "text": [
      "{'collection_type': 'OptimizationDataset',\n",
      " 'creation_date': datetime.date(2021, 4, 2),\n",
      " 'dataset_name': 'OpenFF Aniline Para Opt v1.0',\n",
      " 'elements': {'Br', 'C', 'O', 'N', 'S', 'H', 'Cl', 'F'},\n",
      " 'long_description': 'This dataset contains a set of aniline derivatives which '\n",
      "                     'are para-substituted with groups of varying electron '\n",
      "                     'donating and withdrawing properties. This dataset was '\n",
      "                     'curated in an effort to improve and understand which '\n",
      "                     'functional groups will allow us to best interpolate '\n",
      "                     'between a planer and a pyramidal nitrogen.',\n",
      " 'long_description_url': HttpUrl('https://github.com/openforcefield/qca-dataset-submission/tree/master/submissions/2021-04-02-OpenFF-Aniline-Para-Opt-v1.0', scheme='https', host='github.com', tld='com', host_type='domain', path='/openforcefield/qca-dataset-submission/tree/master/submissions/2021-04-02-OpenFF-Aniline-Para-Opt-v1.0'),\n",
      " 'short_description': 'Optimizations of diverse, para-substituted aniline '\n",
      "                      'derivatives.',\n",
      " 'submitter': 'simonboothroyd'}\n"
     ]
    }
   ],
   "source": [
    "pprint(dataset.metadata.dict())"
   ]
  },
  {
   "cell_type": "code",
   "execution_count": 9,
   "metadata": {},
   "outputs": [
    {
     "name": "stdout",
     "output_type": "stream",
     "text": [
      "Spec: default\n",
      "{'basis': 'DZVP',\n",
      " 'implicit_solvent': None,\n",
      " 'method': 'B3LYP-D3BJ',\n",
      " 'program': 'psi4',\n",
      " 'spec_description': 'Standard OpenFF optimization quantum chemistry '\n",
      "                     'specification.',\n",
      " 'spec_name': 'default',\n",
      " 'store_wavefunction': 'none'}\n"
     ]
    }
   ],
   "source": [
    "for spec, obj in dataset.qc_specifications.items():\n",
    "    print(\"Spec:\", spec)\n",
    "    pprint(obj.dict())"
   ]
  },
  {
   "cell_type": "code",
   "execution_count": 10,
   "metadata": {},
   "outputs": [
    {
     "name": "stdout",
     "output_type": "stream",
     "text": [
      "[<SCFProperties.Dipole: 'dipole'>,\n",
      " <SCFProperties.Quadrupole: 'quadrupole'>,\n",
      " <SCFProperties.WibergLowdinIndices: 'wiberg_lowdin_indices'>,\n",
      " <SCFProperties.MayerIndices: 'mayer_indices'>]\n"
     ]
    }
   ],
   "source": [
    "pprint(dataset.scf_properties)"
   ]
  },
  {
   "cell_type": "markdown",
   "source": [
    "Export the dataset."
   ],
   "metadata": {
    "collapsed": false,
    "pycharm": {
     "name": "#%% md\n"
    }
   }
  },
  {
   "cell_type": "code",
   "execution_count": 11,
   "outputs": [],
   "source": [
    "dataset.export_dataset(\"dataset.json.bz2\")\n",
    "dataset.molecules_to_file(\"dataset.smi\", \"smi\")\n",
    "\n",
    "dataset.visualize(\"dataset.pdf\", columns=8)"
   ],
   "metadata": {
    "collapsed": false,
    "pycharm": {
     "name": "#%%\n"
    }
   }
  }
 ],
 "metadata": {
  "kernelspec": {
   "display_name": "Python 3",
   "language": "python",
   "name": "python3"
  },
  "language_info": {
   "codemirror_mode": {
    "name": "ipython",
    "version": 3
   },
   "file_extension": ".py",
   "mimetype": "text/x-python",
   "name": "python",
   "nbconvert_exporter": "python",
   "pygments_lexer": "ipython3",
   "version": "3.7.9"
  }
 },
 "nbformat": 4,
 "nbformat_minor": 4
}