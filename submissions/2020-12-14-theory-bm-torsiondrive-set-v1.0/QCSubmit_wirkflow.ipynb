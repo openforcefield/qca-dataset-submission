{
 "metadata": {
  "language_info": {
   "codemirror_mode": {
    "name": "ipython",
    "version": 3
   },
   "file_extension": ".py",
   "mimetype": "text/x-python",
   "name": "python",
   "nbconvert_exporter": "python",
   "pygments_lexer": "ipython3",
   "version": "3.7.8-final"
  },
  "orig_nbformat": 2,
  "kernelspec": {
   "name": "python3",
   "display_name": "Python 3.7.8 64-bit ('qca-validation': conda)",
   "metadata": {
    "interpreter": {
     "hash": "9fc71bda9bf746676dcc3a6d5944a1060cd3dc71786e7692a550905c5a2aa806"
    }
   }
  }
 },
 "nbformat": 4,
 "nbformat_minor": 2,
 "cells": [
  {
   "cell_type": "code",
   "execution_count": 1,
   "metadata": {},
   "outputs": [],
   "source": [
    "import os, json, tqdm\n",
    "from qcsubmit.factories import TorsiondriveDatasetFactory\n",
    "from qcsubmit.datasets import TorsiondriveDataset\n",
    "from qcsubmit import workflow_components \n",
    "from qcsubmit.common_structures import TorsionIndexer \n",
    "from openforcefield.topology import Molecule as OFFMolecule"
   ]
  },
  {
   "cell_type": "code",
   "execution_count": 2,
   "metadata": {},
   "outputs": [],
   "source": [
    "factory = TorsiondriveDatasetFactory()\n",
    "factory.scf_properties = ['dipole', 'quadrupole', 'wiberg_lowdin_indices', 'mayer_indices']\n",
    "conformer_generator = workflow_components.StandardConformerGenerator(max_conformers=5)\n",
    "# want to remove methyl group rotations if qcsubmit support the feature.\n",
    "factory.add_workflow_component(conformer_generator)"
   ]
  },
  {
   "cell_type": "code",
   "execution_count": 3,
   "metadata": {},
   "outputs": [],
   "source": [
    "# now write the settings out\n",
    "factory.export_settings(\"theory-bm-set_settings.yaml\")"
   ]
  },
  {
   "cell_type": "code",
   "execution_count": 4,
   "metadata": {},
   "outputs": [
    {
     "output_type": "stream",
     "name": "stderr",
     "text": [
      "Deduplication                 : 100%|████████████| 9/9 [00:00<00:00, 629.99it/s]\n",
      "spec_name: B3LYP-D3BJ/DZVP , spec_description: A torsiondrive dataset for benchmarking B3LYP-D3BJ/DZVP \n",
      "spec_name: B3LYP-D3BJ/DEF2-TZVP , spec_description: A torsiondrive dataset for benchmarking B3LYP-D3BJ/DEF2-TZVP \n",
      "spec_name: B3LYP-D3BJ/DEF2-TZVPD , spec_description: A torsiondrive dataset for benchmarking B3LYP-D3BJ/DEF2-TZVPD \n",
      "spec_name: B3LYP-D3BJ/DEF2-TZVPP , spec_description: A torsiondrive dataset for benchmarking B3LYP-D3BJ/DEF2-TZVPP \n",
      "spec_name: B3LYP-D3BJ/DEF2-TZVPPD , spec_description: A torsiondrive dataset for benchmarking B3LYP-D3BJ/DEF2-TZVPPD \n",
      "spec_name: B3LYP-D3BJ/DEF2-QZVP , spec_description: A torsiondrive dataset for benchmarking B3LYP-D3BJ/DEF2-QZVP \n",
      "spec_name: B3LYP-D3BJ/6-31+GSS , spec_description: A torsiondrive dataset for benchmarking B3LYP-D3BJ/6-31+GSS \n",
      "spec_name: B3LYP-D3BJ/6-311+GSS , spec_description: A torsiondrive dataset for benchmarking B3LYP-D3BJ/6-311+GSS \n"
     ]
    }
   ],
   "source": [
    "# now create the dataset from the selected_mol2s, containing mol2 files of additional charged molecules\n",
    "dataset = factory.create_dataset(\n",
    "    dataset_name=\"OpenFF Theory Benchmarking Set v1.0\",\n",
    "    molecules='selected_mol2s',\n",
    "    description=\"A torsiondrive dataset for theory benchmarking\",\n",
    "    tagline=\"Torsiondrives for theory benchmarking\",\n",
    "    verbose=False)\n",
    "\n",
    "# Change the default spec name\n",
    "dataset.qc_specifications.pop('default')\n",
    "\n",
    "basis_sets = ['dzvp', 'def2-tzvp', 'def2-tzvpd', 'def2-tzvpp', 'def2-tzvppd', 'def2-qzvp', '6-31+gss', '6-311+gss']\n",
    "for basis in basis_sets: \n",
    "    spec_name = \"B3LYP-D3BJ/%s \" % basis.upper()\n",
    "    spec_description = \"A torsiondrive dataset for benchmarking B3LYP-D3BJ/%s \" % basis.upper()\n",
    "    print(f'spec_name: {spec_name}, spec_description: {spec_description}')\n",
    "    dataset.add_qc_spec(method=\"B3LYP-D3BJ\",\n",
    "                        basis=basis,\n",
    "                        program=\"psi4\", \n",
    "                        spec_name=spec_name,\n",
    "                        spec_description=spec_description)      "
   ]
  },
  {
   "cell_type": "code",
   "execution_count": 5,
   "metadata": {},
   "outputs": [
    {
     "output_type": "stream",
     "name": "stdout",
     "text": [
      "Number of additional charged molecules: 9\nNumber of torsions generated from the additional set: 23\n"
     ]
    }
   ],
   "source": [
    "print(f'Number of additional charged molecules: {dataset.n_molecules}')\n",
    "print(f'Number of torsions generated from the additional set: {dataset.n_records}')"
   ]
  },
  {
   "cell_type": "code",
   "execution_count": 6,
   "metadata": {},
   "outputs": [],
   "source": [
    "with open('input_torsions.json') as infile:\n",
    "    selected_torsions = json.load(infile)"
   ]
  },
  {
   "cell_type": "code",
   "execution_count": 7,
   "metadata": {},
   "outputs": [
    {
     "output_type": "stream",
     "name": "stderr",
     "text": [
      "100%|██████████| 36/36 [00:05<00:00,  6.00it/s]\n"
     ]
    }
   ],
   "source": [
    "output = []\n",
    "# import pprint\n",
    "for idx, (canonical_torsion_index, torsion_data) in enumerate(tqdm.tqdm(selected_torsions.items())):\n",
    "    attributes = torsion_data[\"attributes\"]\n",
    "    torsion_atom_indices = torsion_data[\"atom_indices\"]\n",
    "    grid_spacings = [15] * len(torsion_atom_indices)\n",
    "    initial_molecules = torsion_data[\"initial_molecules\"]\n",
    "    # molecule = OFFMolecule.from_qcschema(torsion_data, client=client) # not working for some reason. need to  dig into\n",
    "    molecule = OFFMolecule.from_qcschema(torsion_data)\n",
    "    molecule.generate_conformers(n_conformers = 5)\n",
    "    output.append(f'{idx}: {molecule.n_conformers}')\n",
    "    dataset.add_molecule(index=idx,  molecule= molecule, attributes=attributes, dihedrals=torsion_atom_indices)\n",
    "# pprint.pprint(output)"
   ]
  },
  {
   "cell_type": "code",
   "execution_count": 8,
   "metadata": {},
   "outputs": [
    {
     "output_type": "stream",
     "name": "stdout",
     "text": [
      "Number of total molecules: 40\nNumber of total 1-D torsions: 59\n"
     ]
    }
   ],
   "source": [
    "print(f'Number of total molecules: {dataset.n_molecules}')\n",
    "print(f'Number of total 1-D torsions: {dataset.n_records}')"
   ]
  },
  {
   "cell_type": "code",
   "execution_count": 9,
   "metadata": {},
   "outputs": [
    {
     "output_type": "stream",
     "name": "stdout",
     "text": [
      "Mean molecular weight: 168.00\nMax molecular weight: 233.29\n"
     ]
    }
   ],
   "source": [
    "from openeye import oechem\n",
    "import numpy as np\n",
    "masses = []\n",
    "for molecule in dataset.molecules: \n",
    "    oemol = molecule.to_openeye()\n",
    "    mass = oechem.OECalculateMolecularWeight(oemol)\n",
    "    masses.append(mass)\n",
    "print(f'Mean molecular weight: {np.mean(np.array(masses)):.2f}')\n",
    "print(f'Max molecular weight: {np.amax(np.array(masses)):.2f}')"
   ]
  },
  {
   "cell_type": "code",
   "execution_count": 10,
   "metadata": {},
   "outputs": [
    {
     "output_type": "execute_result",
     "data": {
      "text/plain": [
       "{'C', 'Cl', 'F', 'H', 'N', 'O', 'P', 'S'}"
      ]
     },
     "metadata": {},
     "execution_count": 10
    }
   ],
   "source": [
    "dataset.metadata.elements"
   ]
  },
  {
   "cell_type": "code",
   "execution_count": 11,
   "metadata": {},
   "outputs": [],
   "source": [
    "dataset.metadata.long_description_url = \"https://github.com/openforcefield/qca-dataset-submission/tree/master/submissions/2020-12-14-theory-bm-torsiondrive-set-v1.0\"\n",
    "dataset.metadata.submitter = 'hyejang'"
   ]
  },
  {
   "cell_type": "code",
   "execution_count": 12,
   "metadata": {},
   "outputs": [],
   "source": [
    "# export the dataset\n",
    "dataset.export_dataset(\"dataset.json.bz2\")"
   ]
  },
  {
   "cell_type": "code",
   "execution_count": 13,
   "metadata": {},
   "outputs": [],
   "source": [
    "dataset.export_dataset(\"dataset.json\")"
   ]
  },
  {
   "cell_type": "code",
   "execution_count": 14,
   "metadata": {},
   "outputs": [],
   "source": [
    "dataset.molecules_to_file(\"theory-bm-set-curated.smi\", \"smi\")"
   ]
  },
  {
   "cell_type": "code",
   "execution_count": 15,
   "metadata": {},
   "outputs": [],
   "source": [
    "# export the molecules to pdf with torsions highlighted\n",
    "dataset.visualize(\"theory-bm-set-curated.pdf\", toolkit='openeye')"
   ]
  }
 ]
}