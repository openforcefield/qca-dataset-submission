{
 "metadata": {
  "language_info": {
   "codemirror_mode": {
    "name": "ipython",
    "version": 3
   },
   "file_extension": ".py",
   "mimetype": "text/x-python",
   "name": "python",
   "nbconvert_exporter": "python",
   "pygments_lexer": "ipython3",
   "version": "3.7.10"
  },
  "orig_nbformat": 2,
  "kernelspec": {
   "name": "python3710jvsc74a57bd056a6deabdaad8fb4eae94091c80371dcc4db3d6b4e7660398583ae101d124fae",
   "display_name": "Python 3.7.10 64-bit ('new-qcsubmit': conda)"
  }
 },
 "nbformat": 4,
 "nbformat_minor": 2,
 "cells": [
  {
   "cell_type": "code",
   "execution_count": 1,
   "metadata": {},
   "outputs": [],
   "source": [
    "import pickle \n",
    "data = pickle.load(open('tid_clusters_list.p','rb'))"
   ]
  },
  {
   "cell_type": "code",
   "execution_count": 2,
   "metadata": {},
   "outputs": [],
   "source": [
    "selected = data['core_selected']"
   ]
  },
  {
   "cell_type": "code",
   "execution_count": 29,
   "metadata": {},
   "outputs": [],
   "source": [
    "# copied from https://github.com/openforcefield/qca-dataset-submission/blob/master/submissions/2021-03-23-OpenFF-Amide-Torsion-Set-v1.0/generate-dataset.ipynb\n",
    "import logging\n",
    "import warnings\n",
    "from pprint import pprint\n",
    "\n",
    "import numpy as np\n",
    "from openeye import oechem\n",
    "from openff.qcsubmit.common_structures import TorsionIndexer\n",
    "from openff.qcsubmit.factories import TorsiondriveDatasetFactory\n",
    "from openff.qcsubmit.workflow_components import StandardConformerGenerator, EnumerateStereoisomers, EnumerateProtomers\n",
    "from openforcefield.topology import Molecule\n",
    "from tqdm import tqdm"
   ]
  },
  {
   "cell_type": "code",
   "execution_count": 4,
   "metadata": {},
   "outputs": [],
   "source": [
    "# Warnings that tell us we have undefined stereo and charged molecules\n",
    "logging.getLogger(\"openforcefield\").setLevel(logging.ERROR)\n",
    "warnings.simplefilter(\"ignore\")"
   ]
  },
  {
   "cell_type": "code",
   "execution_count": 17,
   "metadata": {},
   "outputs": [
    {
     "output_type": "stream",
     "name": "stderr",
     "text": [
      " 54%|█████▍    | 90/167 [03:13<01:08,  1.12it/s]Skipping C[C@H](C=C=C)N=N#N - OMEGA error.\n",
      " 73%|███████▎  | 122/167 [04:17<01:50,  2.45s/it]Skipping C1CS(=O)(=O)CCC1[P-](F)(F)(F)(F)F - OMEGA error.\n",
      "Skipping C1[C@@H](CCC(C1)[P-](F)(F)(F)(F)F)O - OMEGA error.\n",
      "Skipping C([P-](F)(F)(F)(F)F)S(=O)(=O)N - OMEGA error.\n",
      "Skipping C(C(=O)N)[P-](F)(F)(F)(F)F - OMEGA error.\n",
      "Skipping CN(C)C[P-](F)(F)(F)(F)F - OMEGA error.\n",
      "Skipping C(N=[N+]=[N-])[P-](F)(F)(F)(F)F - OMEGA error.\n",
      "Skipping C1CC(=O)CCC1[P-](F)(F)(F)(F)F - OMEGA error.\n",
      "Skipping C1CSC[C@@H]1[P-](F)(F)(F)(F)F - OMEGA error.\n",
      " 74%|███████▎  | 123/167 [04:20<01:57,  2.66s/it]Skipping C(=[NH2+])[P-](F)(F)(F)(F)F - OMEGA error.\n",
      "Skipping c1c(cc(cc1F)[P-](F)(F)(F)(F)F)O - OMEGA error.\n",
      " 75%|███████▍  | 125/167 [04:24<01:42,  2.43s/it]Skipping N#N=NOO - OMEGA error.\n",
      "Skipping C(ON=N#N)F - OMEGA error.\n",
      "Skipping CC(=O)ON=N#N - OMEGA error.\n",
      " 83%|████████▎ | 138/167 [04:47<00:49,  1.72s/it]Skipping C=NN=N#N - OMEGA error.\n",
      "Skipping N#N=NN=S=O - OMEGA error.\n",
      "Skipping C(/[N+](=N/N=N#N)/[O-])(Br)Br - OMEGA error.\n",
      "Skipping [N-]=[N+]=NN=N#N - OMEGA error.\n",
      " 83%|████████▎ | 139/167 [04:49<00:49,  1.75s/it]Skipping N#N=NN=N#N - OMEGA error.\n",
      "Skipping CSN=N#N - OMEGA error.\n",
      " 85%|████████▌ | 142/167 [04:51<00:31,  1.27s/it]Skipping CS(=C)(=C)N=N#N - OMEGA error.\n",
      " 89%|████████▊ | 148/167 [05:04<00:36,  1.92s/it]Skipping CC[N@](C)S(=O)(=O)N=N#N - OMEGA error.\n",
      " 90%|█████████ | 151/167 [05:10<00:29,  1.84s/it]Skipping C(=O)NS(=O)(=O)N=N#N - OMEGA error.\n",
      " 91%|█████████ | 152/167 [05:12<00:28,  1.90s/it]Skipping c1cnn(c1)S(=O)(=O)N=N#N - OMEGA error.\n",
      "Skipping C1C[N@](N=C1)S(=O)(=O)N=N#N - OMEGA error.\n",
      "Skipping C=NNS(=O)(=O)N=N#N - OMEGA error.\n",
      " 93%|█████████▎| 155/167 [05:16<00:17,  1.43s/it]Skipping C=NS(=O)(=O)N=N#N - OMEGA error.\n",
      " 93%|█████████▎| 156/167 [05:18<00:17,  1.58s/it]Skipping C(OS(=O)(=O)N=N#N)(F)F - OMEGA error.\n",
      " 95%|█████████▍| 158/167 [05:21<00:13,  1.50s/it]Skipping C(O[P-](F)(F)(F)(F)F)(F)F - OMEGA error.\n",
      "Skipping C(O[P-](F)(F)(F)(F)F)F - OMEGA error.\n",
      "Skipping OO[P-](F)(F)(F)(F)F - OMEGA error.\n",
      "Skipping CC(=O)O[P-](F)(F)(F)(F)F - OMEGA error.\n",
      " 96%|█████████▌| 160/167 [05:25<00:11,  1.61s/it]Skipping CC(C)N[P-](F)(F)(F)(F)F - OMEGA error.\n",
      "Skipping CC[N@](C)[P-](F)(F)(F)(F)F - OMEGA error.\n",
      "Skipping CCN[P-](F)(F)(F)(F)F - OMEGA error.\n",
      "Skipping C[N@](OC)[P-](F)(F)(F)(F)F - OMEGA error.\n",
      "Skipping C[N@@]([P-](F)(F)(F)(F)F)S(=O)(=O)C - OMEGA error.\n",
      " 96%|█████████▋| 161/167 [05:28<00:11,  1.92s/it]Skipping N(O)[P-](F)(F)(F)(F)F - OMEGA error.\n",
      "100%|██████████| 167/167 [05:33<00:00,  1.99s/it]\n"
     ]
    }
   ],
   "source": [
    "molecules = []\n",
    "\n",
    "for tid, clusters in tqdm(selected.items()):\n",
    "    for cluster in clusters: \n",
    "        torsions = cluster['torsions']\n",
    "        for torsion in torsions: \n",
    "            smiles_pattern = torsion['mol_index']\n",
    "            dihedrals = torsion['indices']\n",
    "            molecule: Molecule = Molecule.from_smiles(smiles_pattern)\n",
    "\n",
    "            try:\n",
    "                molecule.generate_conformers(n_conformers=1)\n",
    "            except Exception:\n",
    "                print(f\"Skipping {smiles_pattern} - OMEGA error.\")\n",
    "                continue\n",
    "\n",
    "            torsion_indexer = TorsionIndexer()\n",
    "            torsion_indexer.add_torsion(dihedrals, (-165, 180), True)\n",
    "\n",
    "            molecule.properties[\"dihedrals\"] = torsion_indexer\n",
    "            molecules.append(molecule)"
   ]
  },
  {
   "cell_type": "code",
   "execution_count": 22,
   "metadata": {},
   "outputs": [
    {
     "output_type": "stream",
     "name": "stderr",
     "text": [
      "Deduplication                 : 100%|██████| 2395/2395 [00:05<00:00, 426.43it/s]\n",
      "StandardConformerGenerator    : 100%|███████| 1864/1864 [01:35<00:00, 19.54it/s]\n",
      "EnumerateStereoisomers        : 100%|███████| 1864/1864 [03:37<00:00,  8.57it/s]\n",
      "Preparation                   : 100%|███████| 2556/2556 [00:57<00:00, 44.67it/s]\n"
     ]
    }
   ],
   "source": [
    "dataset_factory = TorsiondriveDatasetFactory()\n",
    "\n",
    "dataset_factory.add_workflow_component(\n",
    "    StandardConformerGenerator(max_conformers=10, rms_cutoff=0.1, clear_existing=True)\n",
    ")\n",
    "dataset_factory.add_workflow_component(\n",
    "    EnumerateStereoisomers(max_isomers=10)\n",
    ")\n",
    "dataset = dataset_factory.create_dataset(\n",
    "    dataset_name=\"OpenFF Gen3 Torsion Set v1.0\",\n",
    "    tagline=\"OpenFF Gen3 Torsion Set v1.0\",\n",
    "    description=\"This dataset is a simple-molecule-only dataset, a candidate of Sage torsion parameter training set\",\n",
    "    molecules=molecules,\n",
    ")\n",
    "\n",
    "dataset.metadata.submitter = \"hyesujang\"\n",
    "dataset.metadata.long_description_url = (\n",
    "    \"https://github.com/openforcefield/qca-dataset-submission/tree/master/\"\n",
    "    \"submissions/\"\n",
    "    \"2021-04-09-OpenFF-Gen3-Torsion-Set-v1.0\"\n",
    ")"
   ]
  },
  {
   "cell_type": "code",
   "execution_count": 23,
   "metadata": {},
   "outputs": [
    {
     "output_type": "stream",
     "name": "stdout",
     "text": [
      "Number of unique molecules        2433\n",
      "Number of filtered molecules      167\n",
      "Number of torsion drives          4684\n",
      "Number of conformers min mean max 1   1.05 4\n",
      "Mean molecular weight: 154.34\n",
      "Max molecular weight: 514.56\n",
      "Charges: [-1.0, 0.0, 1.0, 2.0]\n"
     ]
    }
   ],
   "source": [
    "confs = np.array([len(mol.conformers) for mol in dataset.molecules])\n",
    "\n",
    "print(\"Number of unique molecules       \", dataset.n_molecules)\n",
    "print(\"Number of filtered molecules     \", dataset.n_filtered)\n",
    "print(\"Number of torsion drives         \", dataset.n_records)\n",
    "print(\"Number of conformers min mean max\",\n",
    "      confs.min(), \"{:6.2f}\".format(confs.mean()), confs.max())\n",
    "\n",
    "masses = []\n",
    "for molecule in dataset.molecules:\n",
    "    oemol = molecule.to_openeye()\n",
    "    mass = oechem.OECalculateMolecularWeight(oemol)\n",
    "    masses.append(mass)\n",
    "\n",
    "print(f'Mean molecular weight: {np.mean(np.array(masses)):.2f}')\n",
    "print(f'Max molecular weight: {np.max(np.array(masses)):.2f}')\n",
    "print(\"Charges:\", sorted(set(m.total_charge/m.total_charge.unit for m in dataset.molecules)))"
   ]
  },
  {
   "source": [
    "pprint(dataset.metadata.dict())"
   ],
   "cell_type": "code",
   "metadata": {},
   "execution_count": 24,
   "outputs": [
    {
     "output_type": "stream",
     "name": "stdout",
     "text": [
      "{'collection_type': 'TorsiondriveDataset',\n 'creation_date': datetime.date(2021, 4, 9),\n 'dataset_name': 'OpenFF Gen3 Torsion Set v1.0',\n 'elements': {'I', 'H', 'O', 'F', 'P', 'Cl', 'N', 'S', 'C', 'Br'},\n 'long_description': 'This dataset is a simple-molecule-only dataset, a '\n                     'candidate of Sage torsion parameter training set',\n 'long_description_url': HttpUrl('https://github.com/openforcefield/qca-dataset-submission/tree/master/submissions/2021-04-09-OpenFF-Gen3-Torsion-Set-v1.0', scheme='https', host='github.com', tld='com', host_type='domain', path='/openforcefield/qca-dataset-submission/tree/master/submissions/2021-04-09-OpenFF-Gen3-Torsion-Set-v1.0'),\n 'short_description': 'OpenFF Gen3 Torsion Set v1.0',\n 'submitter': 'hyesujang'}\n"
     ]
    }
   ]
  },
  {
   "cell_type": "code",
   "execution_count": 25,
   "metadata": {},
   "outputs": [
    {
     "output_type": "stream",
     "name": "stdout",
     "text": [
      "Spec: default\n{'basis': 'DZVP',\n 'implicit_solvent': None,\n 'method': 'B3LYP-D3BJ',\n 'program': 'psi4',\n 'spec_description': 'Standard OpenFF optimization quantum chemistry '\n                     'specification.',\n 'spec_name': 'default',\n 'store_wavefunction': 'none'}\n"
     ]
    }
   ],
   "source": [
    "for spec, obj in dataset.qc_specifications.items():\n",
    "    print(\"Spec:\", spec)\n",
    "    pprint(obj.dict())"
   ]
  },
  {
   "cell_type": "code",
   "execution_count": 26,
   "metadata": {},
   "outputs": [
    {
     "output_type": "stream",
     "name": "stdout",
     "text": [
      "[<SCFProperties.Dipole: 'dipole'>,\n <SCFProperties.Quadrupole: 'quadrupole'>,\n <SCFProperties.WibergLowdinIndices: 'wiberg_lowdin_indices'>,\n <SCFProperties.MayerIndices: 'mayer_indices'>]\n"
     ]
    }
   ],
   "source": [
    "pprint(dataset.scf_properties)"
   ]
  },
  {
   "cell_type": "code",
   "execution_count": 27,
   "metadata": {},
   "outputs": [],
   "source": [
    "dataset.export_dataset(\"dataset.json.bz2\")\n",
    "dataset.molecules_to_file(\"dataset.smi\", \"smi\")\n",
    "\n",
    "dataset.visualize(\"dataset.pdf\", columns=8)"
   ]
  },
  {
   "cell_type": "code",
   "execution_count": null,
   "metadata": {},
   "outputs": [],
   "source": []
  }
 ]
}