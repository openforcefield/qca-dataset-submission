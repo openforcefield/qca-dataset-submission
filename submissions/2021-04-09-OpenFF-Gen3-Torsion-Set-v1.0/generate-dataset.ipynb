{
 "metadata": {
  "language_info": {
   "codemirror_mode": {
    "name": "ipython",
    "version": 3
   },
   "file_extension": ".py",
   "mimetype": "text/x-python",
   "name": "python",
   "nbconvert_exporter": "python",
   "pygments_lexer": "ipython3",
   "version": "3.7.10"
  },
  "orig_nbformat": 2,
  "kernelspec": {
   "name": "python3710jvsc74a57bd056a6deabdaad8fb4eae94091c80371dcc4db3d6b4e7660398583ae101d124fae",
   "display_name": "Python 3.7.10 64-bit ('new-qcsubmit': conda)"
  }
 },
 "nbformat": 4,
 "nbformat_minor": 2,
 "cells": [
  {
   "cell_type": "code",
   "execution_count": 1,
   "metadata": {},
   "outputs": [],
   "source": [
    "import pickle\n",
    "tid_clusters_list = pickle.load(open('tid_clusters_list.p','rb'))"
   ]
  },
  {
   "cell_type": "code",
   "execution_count": 2,
   "metadata": {},
   "outputs": [
    {
     "output_type": "stream",
     "name": "stdout",
     "text": [
      "# input entries: 1085\n"
     ]
    }
   ],
   "source": [
    "count = 0\n",
    "for tid, clusters in tid_clusters_list.items():\n",
    "    for cluster in clusters: \n",
    "        count +=len(cluster['torsions'])\n",
    "print(f'# input entries: {count}')"
   ]
  },
  {
   "cell_type": "code",
   "execution_count": 3,
   "metadata": {},
   "outputs": [
    {
     "output_type": "stream",
     "name": "stderr",
     "text": [
      "/Users/hyesu/anaconda3/envs/new-qcsubmit/lib/python3.7/site-packages/sqlalchemy/sql/coercions.py:308: SAWarning: implicitly coercing SELECT object to scalar subquery; please use the .scalar_subquery() method to produce a scalar subquery.\n  \"implicitly coercing SELECT object to scalar subquery; \"\n"
     ]
    }
   ],
   "source": [
    "# copied from https://github.com/openforcefield/qca-dataset-submission/blob/master/submissions/2021-03-23-OpenFF-Amide-Torsion-Set-v1.0/generate-dataset.ipynb\n",
    "import logging\n",
    "import warnings\n",
    "from pprint import pprint\n",
    "\n",
    "import numpy as np\n",
    "from openff.qcsubmit.common_structures import TorsionIndexer\n",
    "from openff.qcsubmit.factories import TorsiondriveDatasetFactory\n",
    "from openforcefield.topology import Molecule\n",
    "from openforcefield.utils import UndefinedStereochemistryError\n",
    "from simtk import unit\n",
    "from tqdm import tqdm"
   ]
  },
  {
   "cell_type": "code",
   "execution_count": 4,
   "metadata": {},
   "outputs": [],
   "source": [
    "# Warnings that tell us we have undefined stereo and charged molecules\n",
    "logging.getLogger(\"openforcefield\").setLevel(logging.ERROR)\n",
    "warnings.simplefilter(\"ignore\")"
   ]
  },
  {
   "cell_type": "code",
   "execution_count": 5,
   "metadata": {},
   "outputs": [
    {
     "output_type": "stream",
     "name": "stderr",
     "text": [
      "100%|██████████| 167/167 [03:23<00:00,  1.22s/it]\n"
     ]
    }
   ],
   "source": [
    "molecules = []\n",
    "\n",
    "for tid, clusters in tqdm(tid_clusters_list.items()):\n",
    "    for cluster in clusters: \n",
    "        torsions = cluster['torsions']\n",
    "        for torsion in torsions: \n",
    "            smiles_pattern = torsion['mol_index']\n",
    "            dihedrals = torsion['indices']\n",
    "\n",
    "            # RDKit is unable to understand the stereochemistry of these molecules so\n",
    "            # we skip them.\n",
    "            if smiles_pattern == \"[H]/C(=C(/C([H])([H])[H])\\\\[H])/C(=C(\\\\C([H])([H])[H])/[H])/[H]\":\n",
    "                continue\n",
    "\n",
    "            try:\n",
    "                molecule: Molecule = Molecule.from_smiles(smiles_pattern)\n",
    "            except UndefinedStereochemistryError:\n",
    "                molecule: Molecule = Molecule.from_smiles(smiles_pattern, allow_undefined_stereo=True)\n",
    "                molecule = ([molecule] + molecule.enumerate_stereoisomers(max_isomers=1))[-1]\n",
    "\n",
    "            molecule = molecule.canonical_order_atoms()\n",
    "\n",
    "            try:\n",
    "                molecule.generate_conformers(n_conformers=10)\n",
    "            except Exception:\n",
    "                print(f\"Skipping {smiles_pattern} - OMEGA error.\")\n",
    "                continue\n",
    "            try:\n",
    "                molecule.to_rdkit()\n",
    "            except Exception:\n",
    "                print(f\"Skipping {smiles_pattern} - RDKit incompatible.\")\n",
    "                continue\n",
    "\n",
    "            torsion_indexer = TorsionIndexer()\n",
    "            torsion_indexer.add_torsion(dihedrals, (-165, 180), True)\n",
    "\n",
    "            molecule.properties[\"dihedrals\"] = torsion_indexer\n",
    "            molecules.append(molecule)"
   ]
  },
  {
   "cell_type": "code",
   "execution_count": 6,
   "metadata": {},
   "outputs": [
    {
     "output_type": "execute_result",
     "data": {
      "text/plain": [
       "1084"
      ]
     },
     "metadata": {},
     "execution_count": 6
    }
   ],
   "source": [
    "len(molecules)"
   ]
  },
  {
   "cell_type": "code",
   "execution_count": 7,
   "metadata": {},
   "outputs": [
    {
     "output_type": "stream",
     "name": "stderr",
     "text": [
      "Deduplication                 : 100%|██████| 1084/1084 [00:03<00:00, 353.57it/s]\n",
      "Preparation                   : 100%|█████████| 887/887 [00:14<00:00, 59.27it/s]\n"
     ]
    }
   ],
   "source": [
    "dataset_factory = TorsiondriveDatasetFactory()\n",
    "\n",
    "# dataset_factory.add_workflow_component(\n",
    "#     StandardConformerGenerator(max_conformers=10, rms_cutoff=0.1, clear_existing=True)\n",
    "# )\n",
    "dataset = dataset_factory.create_dataset(\n",
    "    dataset_name=\"OpenFF Gen3 Torsion Set v1.0\",\n",
    "    tagline=\"OpenFF Gen3 Torsion Set v1.0\",\n",
    "    description=\"This dataset is a simple-molecule-only torsiondrive dataset, aiming to avoid issue of torsion parameter contamination by large internal non-bonded interactions during a valece parameter optimization. Molecules with one effective rotating bond were generate by combining two simple substituents, which were identified by fragmenting small drug like molecules. Torsions from the generated molecule set were selected using clustering method, in a way that the dataset can allow a chemical diversity of molecules training each torsion parameter.\",\n",
    "    molecules=molecules,\n",
    ")\n",
    "\n",
    "dataset.metadata.submitter = \"hyesujang\"\n",
    "dataset.metadata.long_description_url = (\n",
    "    \"https://github.com/openforcefield/qca-dataset-submission/tree/master/\"\n",
    "    \"submissions/\"\n",
    "    \"2021-04-09-OpenFF-Gen3-Torsion-Set-v1.0\"\n",
    ")"
   ]
  },
  {
   "cell_type": "code",
   "execution_count": 8,
   "metadata": {},
   "outputs": [
    {
     "output_type": "stream",
     "name": "stdout",
     "text": [
      "Number of unique molecules        887\n",
      "Number of filtered molecules      0\n",
      "Number of torsion drives          888\n",
      "Number of conformers min mean max 1   2.61 12\n",
      "Mean molecular weight: 131.36\n",
      "Max molecular weight: 433.68\n",
      "Charges: [0.0, 1.0]\n"
     ]
    }
   ],
   "source": [
    "confs = np.array([len(mol.conformers) for mol in dataset.molecules])\n",
    "\n",
    "print(\"Number of unique molecules       \", dataset.n_molecules)\n",
    "print(\"Number of filtered molecules     \", dataset.n_filtered)\n",
    "print(\"Number of torsion drives         \", dataset.n_records)\n",
    "print(\"Number of conformers min mean max\",\n",
    "      confs.min(), \"{:6.2f}\".format(confs.mean()), confs.max())\n",
    "\n",
    "masses = []\n",
    "for molecule in dataset.molecules:\n",
    "    mass = sum(atom.mass.value_in_unit(unit.dalton) for atom in molecule.atoms)\n",
    "    masses.append(mass)\n",
    "\n",
    "print(f'Mean molecular weight: {np.mean(np.array(masses)):.2f}')\n",
    "print(f'Max molecular weight: {np.max(np.array(masses)):.2f}')\n",
    "print(\"Charges:\", sorted(set(m.total_charge/m.total_charge.unit for m in dataset.molecules)))"
   ]
  },
  {
   "cell_type": "code",
   "execution_count": 9,
   "metadata": {},
   "outputs": [
    {
     "output_type": "stream",
     "name": "stdout",
     "text": [
      "{'collection_type': 'TorsiondriveDataset',\n 'creation_date': datetime.date(2021, 4, 20),\n 'dataset_name': 'OpenFF Gen3 Torsion Set v1.0',\n 'elements': {'P', 'H', 'S', 'N', 'O', 'Cl', 'Br', 'C', 'F'},\n 'long_description': 'This dataset is a simple-molecule-only torsiondrive '\n                     'dataset, aiming to avoid issue of torsion parameter '\n                     'contamination by large internal non-bonded interactions '\n                     'during a valece parameter optimization. Molecules with '\n                     'one effective rotating bond were generate by combining '\n                     'two simple substituents, which were identified by '\n                     'fragmenting small drug like molecules. Torsions from the '\n                     'generated molecule set were selected using clustering '\n                     'method, in a way that the dataset can allow a chemical '\n                     'diversity of molecules training each torsion parameter.',\n 'long_description_url': HttpUrl('https://github.com/openforcefield/qca-dataset-submission/tree/master/submissions/2021-04-09-OpenFF-Gen3-Torsion-Set-v1.0', scheme='https', host='github.com', tld='com', host_type='domain', path='/openforcefield/qca-dataset-submission/tree/master/submissions/2021-04-09-OpenFF-Gen3-Torsion-Set-v1.0'),\n 'short_description': 'OpenFF Gen3 Torsion Set v1.0',\n 'submitter': 'hyesujang'}\n"
     ]
    }
   ],
   "source": [
    "pprint(dataset.metadata.dict())"
   ]
  },
  {
   "cell_type": "code",
   "execution_count": 10,
   "metadata": {},
   "outputs": [],
   "source": [
    "dataset.priority = 'high'"
   ]
  },
  {
   "cell_type": "code",
   "execution_count": 11,
   "metadata": {},
   "outputs": [
    {
     "output_type": "stream",
     "name": "stdout",
     "text": [
      "Spec: default\n{'basis': 'DZVP',\n 'implicit_solvent': None,\n 'method': 'B3LYP-D3BJ',\n 'program': 'psi4',\n 'spec_description': 'Standard OpenFF optimization quantum chemistry '\n                     'specification.',\n 'spec_name': 'default',\n 'store_wavefunction': 'none'}\n"
     ]
    }
   ],
   "source": [
    "for spec, obj in dataset.qc_specifications.items():\n",
    "    print(\"Spec:\", spec)\n",
    "    pprint(obj.dict())"
   ]
  },
  {
   "cell_type": "code",
   "execution_count": 12,
   "metadata": {},
   "outputs": [
    {
     "output_type": "stream",
     "name": "stdout",
     "text": [
      "[<SCFProperties.Dipole: 'dipole'>,\n <SCFProperties.Quadrupole: 'quadrupole'>,\n <SCFProperties.WibergLowdinIndices: 'wiberg_lowdin_indices'>,\n <SCFProperties.MayerIndices: 'mayer_indices'>]\n"
     ]
    }
   ],
   "source": [
    "pprint(dataset.scf_properties)"
   ]
  },
  {
   "cell_type": "code",
   "execution_count": 13,
   "metadata": {
    "pycharm": {
     "name": "#%%\n"
    }
   },
   "outputs": [],
   "source": [
    "dataset.export_dataset(\"dataset.json.bz2\")\n",
    "dataset.molecules_to_file(\"dataset.smi\", \"smi\")\n",
    "\n",
    "dataset.visualize(\"dataset.pdf\", columns=8)"
   ]
  }
 ]
}