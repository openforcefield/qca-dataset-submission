{
 "cells": [
  {
   "cell_type": "code",
   "execution_count": 2,
   "id": "446abbf1-11bc-4e09-b10a-e51aeb256ed9",
   "metadata": {
    "execution": {
     "iopub.execute_input": "2024-11-20T19:00:26.338206Z",
     "iopub.status.busy": "2024-11-20T19:00:26.337549Z",
     "iopub.status.idle": "2024-11-20T19:00:29.114113Z",
     "shell.execute_reply": "2024-11-20T19:00:29.113619Z",
     "shell.execute_reply.started": "2024-11-20T19:00:26.338168Z"
    }
   },
   "outputs": [],
   "source": [
    "from qcportal import PortalClient\n",
    "from qcelemental.models.results import WavefunctionProtocolEnum\n",
    "from openff.qcsubmit.results import OptimizationResultCollection,BasicResultCollection\n",
    "from openff.qcsubmit.datasets import OptimizationDataset\n",
    "from openff.qcsubmit.factories import OptimizationDatasetFactory\n",
    "from openff.qcsubmit.common_structures import Metadata, QCSpec\n",
    "import numpy as np\n",
    "from openff.toolkit import Molecule\n",
    "import tqdm\n",
    "from openff.toolkit.utils import OpenEyeToolkitWrapper, ToolkitRegistry\n",
    "from openff.units import unit\n",
    "import itertools\n",
    "import multiprocess"
   ]
  },
  {
   "cell_type": "code",
   "execution_count": 3,
   "id": "4ba7e990-e473-43ae-92ad-41eec7217cdb",
   "metadata": {
    "execution": {
     "iopub.execute_input": "2024-11-20T19:00:29.115627Z",
     "iopub.status.busy": "2024-11-20T19:00:29.115241Z",
     "iopub.status.idle": "2024-11-20T19:00:29.405283Z",
     "shell.execute_reply": "2024-11-20T19:00:29.403607Z",
     "shell.execute_reply.started": "2024-11-20T19:00:29.115608Z"
    }
   },
   "outputs": [],
   "source": [
    "client = PortalClient(\"https://api.qcarchive.molssi.org:443/\")"
   ]
  },
  {
   "cell_type": "markdown",
   "id": "e7f552de-3ad5-4b9f-a060-20cd79d2c669",
   "metadata": {},
   "source": [
    "# Generate conformers (part 2 only)"
   ]
  },
  {
   "cell_type": "code",
   "execution_count": 4,
   "id": "da40a8a4-2408-4b10-9c15-d3d6e0d88854",
   "metadata": {
    "execution": {
     "iopub.execute_input": "2024-11-20T19:00:29.407466Z",
     "iopub.status.busy": "2024-11-20T19:00:29.406878Z",
     "iopub.status.idle": "2024-11-20T19:00:30.349553Z",
     "shell.execute_reply": "2024-11-20T19:00:30.349163Z",
     "shell.execute_reply.started": "2024-11-20T19:00:29.407418Z"
    }
   },
   "outputs": [],
   "source": [
    "mlpepper_results = BasicResultCollection.parse_file('mlpepper.json')"
   ]
  },
  {
   "cell_type": "code",
   "execution_count": null,
   "id": "2097888a-6574-420a-908c-f69e3c770c2c",
   "metadata": {
    "execution": {
     "execution_failed": "2024-11-20T19:00:05.108Z",
     "iopub.execute_input": "2024-11-20T18:57:23.268234Z",
     "iopub.status.busy": "2024-11-20T18:57:23.267717Z"
    },
    "scrolled": true
   },
   "outputs": [],
   "source": [
    "mlpepper_results = BasicResultCollection.from_server(client=client, datasets=['MLPepper RECAP Optimized Fragments v1.0','MLPepper RECAP Optimized Fragments v1.0 Add Iodines'],spec_name='wb97x-d/def2-tzvpp')"
   ]
  },
  {
   "cell_type": "markdown",
   "id": "60d29a6d-7f9f-4861-9d8c-9a1d3d37a82c",
   "metadata": {},
   "source": [
    "`mlpepper.json` was created in the Dataset part 1 notebook. It can be downloaded with the above command."
   ]
  },
  {
   "cell_type": "code",
   "execution_count": 5,
   "id": "776c5442-0e57-4dec-8b2c-31a38a7914e0",
   "metadata": {
    "execution": {
     "iopub.execute_input": "2024-11-20T19:02:40.792035Z",
     "iopub.status.busy": "2024-11-20T19:02:40.791060Z",
     "iopub.status.idle": "2024-11-20T19:02:40.826832Z",
     "shell.execute_reply": "2024-11-20T19:02:40.826323Z",
     "shell.execute_reply.started": "2024-11-20T19:02:40.791992Z"
    },
    "scrolled": true
   },
   "outputs": [
    {
     "data": {
      "text/plain": [
       "56346"
      ]
     },
     "execution_count": 5,
     "metadata": {},
     "output_type": "execute_result"
    }
   ],
   "source": [
    "mlpepper_results.n_molecules"
   ]
  },
  {
   "cell_type": "code",
   "execution_count": 6,
   "id": "be64495f-e616-4b4b-acff-18ebab7c0545",
   "metadata": {
    "execution": {
     "iopub.execute_input": "2024-11-20T19:02:41.009550Z",
     "iopub.status.busy": "2024-11-20T19:02:41.008107Z",
     "iopub.status.idle": "2024-11-20T19:02:41.198918Z",
     "shell.execute_reply": "2024-11-20T19:02:41.198498Z",
     "shell.execute_reply.started": "2024-11-20T19:02:41.009475Z"
    },
    "scrolled": true
   },
   "outputs": [],
   "source": [
    "mlpepper_cmiles = np.unique([result.cmiles for result in mlpepper_results.entries['https://api.qcarchive.molssi.org:443/']])"
   ]
  },
  {
   "cell_type": "code",
   "execution_count": 7,
   "id": "d94183de-a6f4-4ee5-a820-d7b856b891b0",
   "metadata": {
    "execution": {
     "iopub.execute_input": "2024-11-20T19:02:42.494616Z",
     "iopub.status.busy": "2024-11-20T19:02:42.493529Z",
     "iopub.status.idle": "2024-11-20T19:02:42.511843Z",
     "shell.execute_reply": "2024-11-20T19:02:42.510486Z",
     "shell.execute_reply.started": "2024-11-20T19:02:42.494572Z"
    }
   },
   "outputs": [],
   "source": [
    "def generate_conformers_pool_lg(inputs) -> Molecule:\n",
    "    '''\n",
    "    Function to generate conformers from a CMILES string. Taken from Lily's NAGL2 code.\n",
    "    Modified to only run for molecules > 300 Da, because conformer generation takes a long time\n",
    "\n",
    "    inputs should be a list of:\n",
    "    cmiles: CMILES string to use\n",
    "    max_conf_elf: maximum number of conformers to keep during the ELF process \n",
    "    elf_perc: Percentage of conformers to select from for the ELF process\n",
    "    n_conf_start: initial number of conformers to generate, to use later for ELF selection\n",
    "    rms_cut: RMS cutoff for conformer generation\n",
    "    '''\n",
    "    cmiles, max_conf_elf, elf_perc, n_conf_start, rms_cut=inputs\n",
    "    wrapper = OpenEyeToolkitWrapper()\n",
    "    \n",
    "    try:\n",
    "        mol = Molecule.from_mapped_smiles(\n",
    "            cmiles,\n",
    "            allow_undefined_stereo=True,\n",
    "            toolkit_registry=wrapper,\n",
    "        )\n",
    "        if sum([atom.mass.m for atom in mol.atoms]) > 300:\n",
    "            # generate max 1000 conformers with OpenEye\n",
    "            mol.generate_conformers(\n",
    "                n_conformers=n_conf_start,\n",
    "                rms_cutoff=rms_cut * unit.angstrom,\n",
    "                toolkit_registry=wrapper,\n",
    "            )\n",
    "            \n",
    "            # prune based on ELF method, max 5 conformers output\n",
    "            mol.apply_elf_conformer_selection(\n",
    "                percentage=elf_perc,\n",
    "                limit=max_conf_elf,\n",
    "                toolkit_registry=wrapper\n",
    "            )\n",
    "            \n",
    "            assert mol.n_conformers > 0\n",
    "            return (mol,'success')\n",
    "        else:\n",
    "            return (mol,'too small')\n",
    "    except BaseException as e:\n",
    "        return (mol,e)\n",
    "    "
   ]
  },
  {
   "cell_type": "code",
   "execution_count": 9,
   "id": "b53086c2-8fa1-4fe2-9fb6-44f4f311d50f",
   "metadata": {
    "execution": {
     "iopub.execute_input": "2024-11-20T19:03:05.224437Z",
     "iopub.status.busy": "2024-11-20T19:03:05.223466Z",
     "iopub.status.idle": "2024-11-20T19:05:44.666468Z",
     "shell.execute_reply": "2024-11-20T19:05:44.665397Z",
     "shell.execute_reply.started": "2024-11-20T19:03:05.224388Z"
    },
    "scrolled": true
   },
   "outputs": [
    {
     "name": "stderr",
     "output_type": "stream",
     "text": [
      "generating conformers:   4%|██▉                                                                             | 2050/56346 [00:18<13:39, 66.26it/s]Warning: : Failed due to unspecified stereochemistry\n",
      "Warning: : Failed due to unspecified stereochemistry\n",
      "generating conformers:   8%|██████▏                                                                        | 4457/56346 [00:22<01:43, 501.93it/s]Warning: : Failed due to unspecified stereochemistry\n",
      "Warning: : Failed due to unspecified stereochemistry\n",
      "Warning: : Failed due to unspecified stereochemistry\n",
      "generating conformers:  10%|███████▋                                                                       | 5519/56346 [00:23<00:52, 972.77it/s]Warning: : Failed due to unspecified stereochemistry\n",
      "Warning: : Failed due to unspecified stereochemistry\n",
      "Warning: : Failed due to unspecified stereochemistry\n",
      "generating conformers:  11%|████████▎                                                                     | 6041/56346 [00:23<00:41, 1223.08it/s]Warning: : Failed due to unspecified stereochemistry\n",
      "generating conformers:  13%|██████████▌                                                                   | 7602/56346 [00:24<00:48, 1001.23it/s]Warning: : Failed due to unspecified stereochemistry\n",
      "generating conformers:  16%|████████████▍                                                                 | 9009/56346 [00:26<00:27, 1737.14it/s]Warning: : Failed due to unspecified stereochemistry\n",
      "generating conformers:  28%|█████████████████████▋                                                       | 15833/56346 [00:32<00:35, 1130.47it/s]Warning: : Failed due to unspecified stereochemistry\n",
      "Warning: : Failed due to unspecified stereochemistry\n",
      "Warning: : Failed due to unspecified stereochemistry\n",
      "Warning: : Failed due to unspecified stereochemistry\n",
      "generating conformers:  39%|██████████████████████████████▋                                               | 22174/56346 [00:39<00:40, 852.07it/s]Warning: : Failed due to unspecified stereochemistry\n",
      "Warning: : Failed due to unspecified stereochemistry\n",
      "Warning: : Failed due to unspecified stereochemistry\n",
      "generating conformers:  43%|█████████████████████████████████▎                                           | 24334/56346 [00:41<00:23, 1338.47it/s]Warning: : Failed due to unspecified stereochemistry\n",
      "generating conformers:  45%|██████████████████████████████████▌                                          | 25330/56346 [00:42<00:23, 1336.01it/s]Warning: : Failed due to unspecified stereochemistry\n",
      "Warning: : Failed due to unspecified stereochemistry\n",
      "Warning: : Failed due to unspecified stereochemistry\n",
      "generating conformers:  51%|███████████████████████████████████████▋                                      | 28681/56346 [00:45<00:28, 985.65it/s]Warning: : Failed due to unspecified stereochemistry\n",
      "Warning: : Failed due to unspecified stereochemistry\n",
      "generating conformers:  58%|████████████████████████████████████████████▉                                | 32874/56346 [00:50<00:17, 1322.87it/s]Warning: : Failed due to unspecified stereochemistry\n",
      "generating conformers:  62%|████████████████████████████████████████████████▎                             | 34868/56346 [00:53<00:28, 746.09it/s]Warning: : Failed due to unspecified stereochemistry\n",
      "generating conformers:  69%|█████████████████████████████████████████████████████▌                        | 38685/56346 [00:56<00:19, 896.60it/s]Warning: : Failed due to unspecified stereochemistry\n",
      "Warning: : Failed due to unspecified stereochemistry\n",
      "Warning: : Failed due to unspecified stereochemistry\n",
      "Warning: : Failed due to unspecified stereochemistry\n",
      "Warning: : Failed due to unspecified stereochemistry\n",
      "Warning: : Failed due to unspecified stereochemistry\n",
      "Warning: : Failed due to unspecified stereochemistry\n",
      "Warning: : Failed due to unspecified stereochemistry\n",
      "Warning: : Failed due to unspecified stereochemistry\n",
      "Warning: : Failed due to unspecified stereochemistry\n",
      "Warning: : Failed due to unspecified stereochemistry\n",
      "Warning: : Failed due to unspecified stereochemistry\n",
      "Warning: : Failed due to unspecified stereochemistry\n",
      "Warning: : Failed due to unspecified stereochemistry\n",
      "Warning: : Failed due to unspecified stereochemistry\n",
      "Warning: : Failed due to unspecified stereochemistry\n",
      "Warning: : Failed due to unspecified stereochemistry\n",
      "Warning: : Failed due to unspecified stereochemistry\n",
      "Warning: : Failed due to unspecified stereochemistry\n",
      "Warning: : Failed due to unspecified stereochemistry\n",
      "Warning: : Failed due to unspecified stereochemistry\n",
      "Warning: : Failed due to unspecified stereochemistry\n",
      "Warning: : Failed due to unspecified stereochemistry\n",
      "Warning: : Failed due to unspecified stereochemistry\n",
      "Warning: : Failed due to unspecified stereochemistry\n",
      "Warning: : Failed due to unspecified stereochemistry\n",
      "Warning: : Failed due to unspecified stereochemistry\n",
      "Warning: : Failed due to unspecified stereochemistry\n",
      "Warning: : Failed due to unspecified stereochemistry\n",
      "generating conformers:  69%|█████████████████████████████████████████████████████▌                        | 38685/56346 [01:11<00:19, 896.60it/s]Warning: no MMFF bend parameters for atoms 2 1 18\n",
      "Warning: Unable to find bend parameters for \n",
      "Warning: no MMFF bend parameters for atoms 2 1 18\n",
      "Warning: : Force field setup failed due to missing parameters\n",
      "Warning: no MMFF bend parameters for atoms 2 1 18\n",
      "Warning: Unable to find bend parameters for \n",
      "Warning: no MMFF bend parameters for atoms 2 1 18\n",
      "Warning: : Force field setup failed due to missing parameters\n",
      "Warning: no MMFF stretch parameters for bonded atoms 6 15 (atom types 39 85)\n",
      "Warning: Unable to find stretch parameters for \n",
      "Warning: no MMFF stretch parameters for bonded atoms 6 15 (atom types 39 85)\n",
      "Warning: : Force field setup failed due to missing parameters\n",
      "Warning: no MMFF stretch parameters for bonded atoms 6 15 (atom types 39 85)\n",
      "Warning: Unable to find stretch parameters for \n",
      "Warning: no MMFF stretch parameters for bonded atoms 6 15 (atom types 39 85)\n",
      "Warning: : Force field setup failed due to missing parameters\n",
      "Warning: : Failed due to unspecified stereochemistry\n",
      "Warning: : Failed due to unspecified stereochemistry\n",
      "Warning: : Failed due to unspecified stereochemistry\n",
      "Warning: : Failed due to unspecified stereochemistry\n",
      "Warning: : Failed due to unspecified stereochemistry\n",
      "Warning: : Failed due to unspecified stereochemistry\n",
      "Warning: : Failed due to unspecified stereochemistry\n",
      "Warning: : Failed due to unspecified stereochemistry\n",
      "Warning: : Failed due to unspecified stereochemistry\n",
      "Warning: : Failed due to unspecified stereochemistry\n",
      "Warning: : Failed due to unspecified stereochemistry\n",
      "Warning: : Failed due to unspecified stereochemistry\n",
      "Warning: : Failed due to unspecified stereochemistry\n",
      "Warning: : Failed due to unspecified stereochemistry\n",
      "Warning: : Failed due to unspecified stereochemistry\n",
      "Warning: : Failed due to unspecified stereochemistry\n",
      "Warning: : Failed due to unspecified stereochemistry\n",
      "Warning: : Failed due to unspecified stereochemistry\n",
      "generating conformers: 100%|██████████████████████████████████████████████████████████████████████████████| 56346/56346 [02:39<00:00, 354.29it/s]\n"
     ]
    },
    {
     "name": "stdout",
     "output_type": "stream",
     "text": [
      "OpenEye Omega conformer generation failed\n",
      "OpenEye Omega conformer generation failed\n"
     ]
    }
   ],
   "source": [
    "import itertools\n",
    "import multiprocess\n",
    "\n",
    "mols = []\n",
    "n_confs = []\n",
    "errs = []\n",
    "with multiprocess.Pool(8) as pool:\n",
    "    for ms in tqdm.tqdm(pool.imap(generate_conformers_pool_lg,zip(mlpepper_cmiles,itertools.repeat(5),itertools.repeat(2),itertools.repeat(1000),itertools.repeat(0.1))), desc=\"generating conformers\",total=len(mlpepper_cmiles)):\n",
    "        mol = ms[0]\n",
    "        status = ms[1]\n",
    "        if status == 'success':\n",
    "            n_confs.append(mol.n_conformers)\n",
    "            mols.append(mol)\n",
    "        else:\n",
    "            if status != 'too small':\n",
    "                print(status)\n",
    "                errs.append((mol,status))"
   ]
  },
  {
   "cell_type": "markdown",
   "id": "288244a0-0259-47a9-85de-bd16972ad97b",
   "metadata": {},
   "source": [
    "# Analyze conformers (part 2 only)"
   ]
  },
  {
   "cell_type": "code",
   "execution_count": 10,
   "id": "625ae694-4d46-4bc7-b58f-bc58c6c7a516",
   "metadata": {
    "execution": {
     "iopub.execute_input": "2024-11-20T19:05:58.684008Z",
     "iopub.status.busy": "2024-11-20T19:05:58.683367Z",
     "iopub.status.idle": "2024-11-20T19:05:58.699781Z",
     "shell.execute_reply": "2024-11-20T19:05:58.698820Z",
     "shell.execute_reply.started": "2024-11-20T19:05:58.683968Z"
    }
   },
   "outputs": [
    {
     "name": "stdout",
     "output_type": "stream",
     "text": [
      "1 1.940685045948204 1.0 5\n"
     ]
    }
   ],
   "source": [
    "print(min(n_confs),np.mean(n_confs),np.median(n_confs),max(n_confs))"
   ]
  },
  {
   "cell_type": "code",
   "execution_count": 11,
   "id": "c1a0baf2-87ad-4424-997b-b0f5ffd2e059",
   "metadata": {
    "execution": {
     "iopub.execute_input": "2024-11-20T19:06:01.550062Z",
     "iopub.status.busy": "2024-11-20T19:06:01.548803Z",
     "iopub.status.idle": "2024-11-20T19:06:02.122341Z",
     "shell.execute_reply": "2024-11-20T19:06:02.121987Z",
     "shell.execute_reply.started": "2024-11-20T19:06:01.550016Z"
    }
   },
   "outputs": [
    {
     "data": {
      "image/png": "[encoded data removed]",
      "text/plain": [
       "<Figure size 640x480 with 1 Axes>"
      ]
     },
     "metadata": {},
     "output_type": "display_data"
    }
   ],
   "source": [
    "from matplotlib import pyplot as plt\n",
    "plt.figure()\n",
    "plt.hist(n_confs)\n",
    "plt.show()"
   ]
  },
  {
   "cell_type": "code",
   "execution_count": 12,
   "id": "7414fffd-c290-4555-82cb-57353412f432",
   "metadata": {
    "execution": {
     "iopub.execute_input": "2024-11-20T19:06:04.983596Z",
     "iopub.status.busy": "2024-11-20T19:06:04.981393Z",
     "iopub.status.idle": "2024-11-20T19:06:04.997489Z",
     "shell.execute_reply": "2024-11-20T19:06:04.996420Z",
     "shell.execute_reply.started": "2024-11-20T19:06:04.983518Z"
    },
    "scrolled": true
   },
   "outputs": [
    {
     "data": {
      "text/plain": [
       "2"
      ]
     },
     "execution_count": 12,
     "metadata": {},
     "output_type": "execute_result"
    }
   ],
   "source": [
    "len(errs)"
   ]
  },
  {
   "cell_type": "code",
   "execution_count": 13,
   "id": "30985c30-0926-419c-98c7-1b8dd31731dc",
   "metadata": {
    "execution": {
     "iopub.execute_input": "2024-11-20T19:06:06.958991Z",
     "iopub.status.busy": "2024-11-20T19:06:06.957799Z",
     "iopub.status.idle": "2024-11-20T19:06:06.988052Z",
     "shell.execute_reply": "2024-11-20T19:06:06.987370Z",
     "shell.execute_reply.started": "2024-11-20T19:06:06.958934Z"
    }
   },
   "outputs": [],
   "source": [
    "# Would have been better to calculate this during conf gen\n",
    "all_masses = np.array([\n",
    "    sum([atom.mass.m for atom in mol.atoms])\n",
    "    for mol in mols\n",
    "])"
   ]
  },
  {
   "cell_type": "code",
   "execution_count": 14,
   "id": "68bd0fb8-e4e6-4446-9931-73652dbb0f3e",
   "metadata": {
    "execution": {
     "iopub.execute_input": "2024-11-20T19:06:07.624210Z",
     "iopub.status.busy": "2024-11-20T19:06:07.623331Z",
     "iopub.status.idle": "2024-11-20T19:06:07.896408Z",
     "shell.execute_reply": "2024-11-20T19:06:07.896040Z",
     "shell.execute_reply.started": "2024-11-20T19:06:07.624168Z"
    }
   },
   "outputs": [
    {
     "data": {
      "image/png": "[encoded data removed]",
      "text/plain": [
       "<Figure size 640x480 with 1 Axes>"
      ]
     },
     "metadata": {},
     "output_type": "display_data"
    },
    {
     "data": {
      "image/png": "[encoded data removed]",
      "text/plain": [
       "<Figure size 640x480 with 1 Axes>"
      ]
     },
     "metadata": {},
     "output_type": "display_data"
    }
   ],
   "source": [
    "plt.figure()\n",
    "plt.hist(all_masses,bins=100)\n",
    "\n",
    "plt.figure()\n",
    "plt.hist(all_masses,bins=100)\n",
    "plt.ylim(0,200)\n",
    "plt.show()"
   ]
  },
  {
   "cell_type": "markdown",
   "id": "78dccf5f-a01c-4a4f-9f63-59e42e7d08d8",
   "metadata": {},
   "source": [
    "We discussed binning by 300 Da; since there are only a couple of molecules greater than 600 Da I'll leave them in here for now."
   ]
  },
  {
   "cell_type": "code",
   "execution_count": 15,
   "id": "2c552973-d566-43bb-971f-f9f80abab90b",
   "metadata": {
    "execution": {
     "iopub.execute_input": "2024-11-20T19:06:11.941062Z",
     "iopub.status.busy": "2024-11-20T19:06:11.940119Z",
     "iopub.status.idle": "2024-11-20T19:06:11.954268Z",
     "shell.execute_reply": "2024-11-20T19:06:11.953191Z",
     "shell.execute_reply.started": "2024-11-20T19:06:11.941021Z"
    }
   },
   "outputs": [
    {
     "name": "stdout",
     "output_type": "stream",
     "text": [
      "300.075338 377.8161830431913 370.917627 701.588756\n"
     ]
    }
   ],
   "source": [
    "print(min(all_masses),np.mean(all_masses),np.median(all_masses),max(all_masses))"
   ]
  },
  {
   "cell_type": "code",
   "execution_count": 16,
   "id": "5a8f4bbf-8be1-409c-8915-58bb581bd212",
   "metadata": {
    "execution": {
     "iopub.execute_input": "2024-11-20T19:06:19.256528Z",
     "iopub.status.busy": "2024-11-20T19:06:19.255229Z",
     "iopub.status.idle": "2024-11-20T19:06:19.314748Z",
     "shell.execute_reply": "2024-11-20T19:06:19.314260Z",
     "shell.execute_reply.started": "2024-11-20T19:06:19.256461Z"
    }
   },
   "outputs": [
    {
     "name": "stderr",
     "output_type": "stream",
     "text": [
      "100%|█████████████████████████████████████████████████████████████████████████████████████████████████████| 1197/1197 [00:00<00:00, 25061.81it/s]\n"
     ]
    }
   ],
   "source": [
    "mols_part1 = []\n",
    "mols_part2 = []\n",
    "for mol in tqdm.tqdm(mols):\n",
    "    if sum([atom.mass.m for atom in mol.atoms]) <= 300:\n",
    "        mols_part1.append(mol)\n",
    "    else:\n",
    "        mols_part2.append(mol)"
   ]
  },
  {
   "cell_type": "markdown",
   "id": "ae9b58f5-ac39-4b4f-9236-8fdda47b7f7f",
   "metadata": {},
   "source": [
    "# Create dataset"
   ]
  },
  {
   "cell_type": "markdown",
   "id": "d3111e32-038b-4199-b194-57326966d532",
   "metadata": {},
   "source": [
    "## Part 2-- Molecules > 300 Da"
   ]
  },
  {
   "cell_type": "code",
   "execution_count": 17,
   "id": "fcae8d7d-6b20-4795-8eeb-dea85fae2214",
   "metadata": {
    "execution": {
     "iopub.execute_input": "2024-11-20T19:06:33.126951Z",
     "iopub.status.busy": "2024-11-20T19:06:33.126070Z",
     "iopub.status.idle": "2024-11-20T19:06:33.140118Z",
     "shell.execute_reply": "2024-11-20T19:06:33.138932Z",
     "shell.execute_reply.started": "2024-11-20T19:06:33.126911Z"
    }
   },
   "outputs": [],
   "source": [
    "dataset_factory2 = OptimizationDatasetFactory()\n",
    "provenance2 = dataset_factory2.provenance(ToolkitRegistry([OpenEyeToolkitWrapper]))"
   ]
  },
  {
   "cell_type": "code",
   "execution_count": 18,
   "id": "0f80dc22-115e-4d49-836a-37179612a0ce",
   "metadata": {
    "execution": {
     "iopub.execute_input": "2024-11-20T19:06:33.477957Z",
     "iopub.status.busy": "2024-11-20T19:06:33.477110Z",
     "iopub.status.idle": "2024-11-20T19:06:33.499665Z",
     "shell.execute_reply": "2024-11-20T19:06:33.498265Z",
     "shell.execute_reply.started": "2024-11-20T19:06:33.477917Z"
    }
   },
   "outputs": [],
   "source": [
    "dataset2 = OptimizationDataset(\n",
    "    dataset_name=\"OpenFF NAGL2 Training Optimization Dataset Part 2 v4.0\",\n",
    "    dataset_tagline=\"B3LYP-D3BJ/DZVP conformers of diverse fragment molecules with molecular weight greater than 300 Da.\",\n",
    "    description=(\n",
    "        \"A dataset containing molecules from the \"\n",
    "        \"`MLPepper RECAP Optimized Fragments v1.0` and `MLPepper RECAP Optimized Fragments v1.0 Add Iodines` \"\n",
    "        \"with additional conformers and optimized at the OpenFF default level of theory (B3LYP-D3BJ/DZVP). \"\n",
    "        \"The dataset is intended to be used for calculating single point energies and properties, \"\n",
    "        \"which will then be used to train our second-generation graph neural network charge model (NAGL2).\"\n",
    "        \"This is part 2, for molecules with molecular weight greater than 300 Da.\\n\\n\"\n",
    "        \"For each molecule, a set of up to 5 conformers were generated by:\\n\"\n",
    "        \"  * generating a set of up to 1000 conformers with a RMS cutoff of 0.1 Å \"\n",
    "        \"using the OpenEye backend of the OpenFF toolkit\\n\"\n",
    "        \"  * applying ELF conformer selection (max 5 conformers) using OpenEye\\n\\n\"\n",
    "        \"Each conformer will be converged according to the 'GAU_LOOSE' criteria.\"\n",
    "    ),\n",
    "    provenance=provenance2\n",
    ")\n",
    "dataset2.metadata.submitter = \"amcisaac\"\n",
    "dataset2.metadata.long_description_url = (\n",
    "        \"https://github.com/openforcefield/qca-dataset-submission/tree/master/\"\n",
    "        \"submissions/\"\n",
    "        \"2024-11-19-OpenFF-NAGL2-Training-Optimization-Dataset-Part-2-v4.0\"\n",
    "    )"
   ]
  },
  {
   "cell_type": "code",
   "execution_count": 19,
   "id": "64369cac-25db-402d-8400-d83b7853410c",
   "metadata": {
    "execution": {
     "iopub.execute_input": "2024-11-20T19:06:34.111824Z",
     "iopub.status.busy": "2024-11-20T19:06:34.110956Z",
     "iopub.status.idle": "2024-11-20T19:06:34.128557Z",
     "shell.execute_reply": "2024-11-20T19:06:34.127546Z",
     "shell.execute_reply.started": "2024-11-20T19:06:34.111781Z"
    }
   },
   "outputs": [
    {
     "data": {
      "text/plain": [
       "{'default': OptimizationSpecification(program='geometric', qc_specification=QCSpecification(program='psi4', driver=<SinglepointDriver.deferred: 'deferred'>, method='b3lyp-d3bj', basis='dzvp', keywords={'maxiter': 200, 'scf_properties': [<SCFProperties.Dipole: 'dipole'>, <SCFProperties.Quadrupole: 'quadrupole'>, <SCFProperties.WibergLowdinIndices: 'wiberg_lowdin_indices'>, <SCFProperties.MayerIndices: 'mayer_indices'>]}, protocols=AtomicResultProtocols(wavefunction=<WavefunctionProtocolEnum.none: 'none'>, stdout=True, error_correction=ErrorCorrectionProtocol(default_policy=True, policies=None), native_files=<NativeFilesProtocolEnum.none: 'none'>)), keywords={'coordsys': 'dlc', 'enforce': 0.0, 'epsilon': 1e-05, 'reset': True, 'qccnv': False, 'molcnv': False, 'check': 0, 'trust': 0.1, 'tmax': 0.3, 'maxiter': 300, 'convergence_set': 'GAU'}, protocols=OptimizationProtocols(trajectory=<TrajectoryProtocolEnum.all: 'all'>))}"
      ]
     },
     "execution_count": 19,
     "metadata": {},
     "output_type": "execute_result"
    }
   ],
   "source": [
    "dataset2._get_specifications()"
   ]
  },
  {
   "cell_type": "code",
   "execution_count": 20,
   "id": "448075b1-1bce-4a09-b8fb-b3c84e34e2a7",
   "metadata": {
    "execution": {
     "iopub.execute_input": "2024-11-20T19:06:34.733866Z",
     "iopub.status.busy": "2024-11-20T19:06:34.733006Z",
     "iopub.status.idle": "2024-11-20T19:06:57.188840Z",
     "shell.execute_reply": "2024-11-20T19:06:57.188501Z",
     "shell.execute_reply.started": "2024-11-20T19:06:34.733824Z"
    },
    "scrolled": true
   },
   "outputs": [
    {
     "name": "stderr",
     "output_type": "stream",
     "text": [
      "100%|████████████████████████████████████████████████████████████████████████████████████████████████████████| 1197/1197 [00:22<00:00, 53.33it/s]\n"
     ]
    }
   ],
   "source": [
    "for mol in tqdm.tqdm(mols_part2):\n",
    "    dataset2.add_molecule(\n",
    "        dataset_factory2.create_index(molecule=mol),\n",
    "        mol\n",
    "        )"
   ]
  },
  {
   "cell_type": "markdown",
   "id": "419758d0-dbbe-4942-bfd2-d615068381ae",
   "metadata": {},
   "source": [
    "## Dataset info"
   ]
  },
  {
   "cell_type": "code",
   "execution_count": 22,
   "id": "ddb1d43f-5842-4e7b-851e-d56c562b1f2f",
   "metadata": {
    "execution": {
     "iopub.execute_input": "2024-11-20T19:07:02.023702Z",
     "iopub.status.busy": "2024-11-20T19:07:02.023558Z",
     "iopub.status.idle": "2024-11-20T19:07:17.453389Z",
     "shell.execute_reply": "2024-11-20T19:07:17.453014Z",
     "shell.execute_reply.started": "2024-11-20T19:07:02.023689Z"
    }
   },
   "outputs": [],
   "source": [
    "n_confs2 = np.array(\n",
    "    [mol.n_conformers for mol in dataset2.molecules]\n",
    ")\n",
    "\n",
    "n_heavy_atoms2 = np.array(\n",
    "    [mol.to_rdkit().GetNumHeavyAtoms() for mol in dataset2.molecules]\n",
    ")\n",
    "\n",
    "masses2 = np.array([\n",
    "    sum([atom.mass.m for atom in mol.atoms])\n",
    "    for mol in dataset2.molecules\n",
    "])\n",
    "\n",
    "unique_charges2 = [str(charge) for charge in sorted(set([\n",
    "    mol.total_charge.m_as(unit.elementary_charge)\n",
    "    for mol in dataset2.molecules\n",
    "]))]\n",
    "\n",
    "elements2 = set(\n",
    "    atom.symbol\n",
    "    for mol in dataset2.molecules\n",
    "    for atom in mol.atoms\n",
    ")"
   ]
  },
  {
   "cell_type": "code",
   "execution_count": 23,
   "id": "3f0c5df1-55a2-45ee-baa4-b9ed962b9710",
   "metadata": {
    "execution": {
     "iopub.execute_input": "2024-11-20T19:07:17.454792Z",
     "iopub.status.busy": "2024-11-20T19:07:17.454668Z",
     "iopub.status.idle": "2024-11-20T19:07:17.458888Z",
     "shell.execute_reply": "2024-11-20T19:07:17.458473Z",
     "shell.execute_reply.started": "2024-11-20T19:07:17.454780Z"
    }
   },
   "outputs": [
    {
     "name": "stdout",
     "output_type": "stream",
     "text": [
      "# heavy atoms\n",
      "  4: 1\n",
      "  5: 4\n",
      "  6: 20\n",
      "  7: 38\n",
      "  8: 83\n",
      "  9: 159\n",
      " 10: 218\n",
      " 11: 288\n",
      " 12: 343\n",
      " 14: 6\n",
      " 16: 13\n",
      " 17: 3\n",
      " 18: 3\n",
      " 19: 1\n",
      " 20: 2\n",
      " 21: 1\n",
      " 22: 2\n",
      " 23: 9\n",
      " 24: 1\n",
      " 29: 2\n"
     ]
    }
   ],
   "source": [
    "from collections import Counter\n",
    "\n",
    "print(\"# heavy atoms\")\n",
    "counts2 = Counter(n_heavy_atoms2)\n",
    "for n_heavy in sorted(counts2):\n",
    "    print(f\"{str(n_heavy):>3}: {counts2[n_heavy]}\")"
   ]
  },
  {
   "cell_type": "code",
   "execution_count": 24,
   "id": "b4949f92-18d6-42bd-917f-32ec6323fffb",
   "metadata": {
    "execution": {
     "iopub.execute_input": "2024-11-20T19:07:17.459560Z",
     "iopub.status.busy": "2024-11-20T19:07:17.459407Z",
     "iopub.status.idle": "2024-11-20T19:07:17.626132Z",
     "shell.execute_reply": "2024-11-20T19:07:17.625766Z",
     "shell.execute_reply.started": "2024-11-20T19:07:17.459548Z"
    }
   },
   "outputs": [
    {
     "name": "stdout",
     "output_type": "stream",
     "text": [
      "* Name: OpenFF NAGL2 Training Optimization Dataset Part 2 v4.0\n",
      "* Number of unique molecules: 1197\n",
      "* Number of conformers: 2323\n",
      "* Number of conformers (min, mean, max): 1.00, 1.94, 5.00\n",
      "* Molecular weight (min, mean, max): 300.08, 377.82, 701.59\n",
      "* Charges: -4.0 -2.0 -1.0 0.0 1.0 2.0\n"
     ]
    }
   ],
   "source": [
    "print('* Name: {}'.format(dataset2.dataset_name))\n",
    "print('* Number of unique molecules: {}'.format(dataset2.n_molecules))\n",
    "print('* Number of conformers: {}'.format(dataset2.n_records))\n",
    "print('* Number of conformers (min, mean, max): {:.2f}, {:.2f}, {:.2f}'.format(min(n_confs2),np.mean(n_confs2),max(n_confs2)))\n",
    "print('* Molecular weight (min, mean, max): {:.2f}, {:.2f}, {:.2f}'.format(min(masses2),np.mean(masses2),max(masses2)))\n",
    "print('* Charges: {}'.format(' '.join(unique_charges2)))"
   ]
  },
  {
   "cell_type": "code",
   "execution_count": 25,
   "id": "cb564595-4669-413d-b673-296567b9910b",
   "metadata": {
    "execution": {
     "iopub.execute_input": "2024-11-20T19:07:17.626901Z",
     "iopub.status.busy": "2024-11-20T19:07:17.626739Z",
     "iopub.status.idle": "2024-11-20T19:07:17.631260Z",
     "shell.execute_reply": "2024-11-20T19:07:17.630790Z",
     "shell.execute_reply.started": "2024-11-20T19:07:17.626887Z"
    }
   },
   "outputs": [
    {
     "name": "stdout",
     "output_type": "stream",
     "text": [
      "## Metadata\n",
      "* Elements: {Si, B, O, I, S, Cl, N, H, C, P, F, Br}\n",
      "* Spec: default\n",
      "  * basis: DZVP\n",
      "  * implicit_solvent: None\n",
      "  * keywords: {}\n",
      "  * maxiter: 200\n",
      "  * method: B3LYP-D3BJ\n",
      "  * program: psi4\n",
      "  * SCF properties:\n",
      "    * dipole\n",
      "    * quadrupole\n",
      "    * wiberg_lowdin_indices\n",
      "    * mayer_indices\n"
     ]
    }
   ],
   "source": [
    "print(\"## Metadata\")\n",
    "print(f\"* Elements: {{{', '.join(dataset2.metadata.dict()['elements'])}}}\")\n",
    "\n",
    "def print_field(od, field): print(f\"  * {field}: {od[field]}\")\n",
    "\n",
    "fields = [\"basis\", \"implicit_solvent\", \"keywords\", \"maxiter\", \"method\", \"program\"]\n",
    "for spec, obj in dataset2.qc_specifications.items():\n",
    "    od = obj.dict()\n",
    "    print(\"* Spec:\", spec)\n",
    "    for field in fields:\n",
    "        print_field(od, field)\n",
    "    print(\"  * SCF properties:\")\n",
    "    for field in od[\"scf_properties\"]:\n",
    "        print(f\"    * {field}\")"
   ]
  },
  {
   "cell_type": "markdown",
   "id": "3a0d8f58-0b13-4ec2-a7e9-6beba3023e3e",
   "metadata": {},
   "source": [
    "## Exporting dataset"
   ]
  },
  {
   "cell_type": "markdown",
   "id": "abbdc8a8-61a3-448f-a933-7cd1c7bd64ce",
   "metadata": {},
   "source": [
    "Update description to comply with standards"
   ]
  },
  {
   "cell_type": "code",
   "execution_count": 27,
   "id": "0477674f-337f-41b8-bada-2c243b80d12f",
   "metadata": {
    "execution": {
     "iopub.execute_input": "2024-11-20T20:08:55.638401Z",
     "iopub.status.busy": "2024-11-20T20:08:55.637256Z",
     "iopub.status.idle": "2024-11-20T20:08:55.826605Z",
     "shell.execute_reply": "2024-11-20T20:08:55.826130Z",
     "shell.execute_reply.started": "2024-11-20T20:08:55.638366Z"
    }
   },
   "outputs": [],
   "source": [
    "dataset2.metadata.long_description=((\"A dataset containing molecules from the \"\n",
    "        \"`MLPepper RECAP Optimized Fragments v1.0` and `MLPepper RECAP Optimized Fragments v1.0 Add Iodines` \"\n",
    "        \"with additional conformers and optimized at the OpenFF default level of theory (B3LYP-D3BJ/DZVP). \"\n",
    "        \"The dataset is intended to be used for calculating single point energies and properties, \"\n",
    "        \"which will then be used to train our second-generation graph neural network charge model (NAGL2).\"\n",
    "        \"This is part 2, for molecules with molecular weight greater than 300 Da.\\n\\n\"\n",
    "        \"For each molecule, a set of up to 5 conformers were generated by:\\n\"\n",
    "        \"  * generating a set of up to 1000 conformers with a RMS cutoff of 0.1 Å \"\n",
    "        \"using the OpenEye backend of the OpenFF toolkit\\n\"\n",
    "        \"  * applying ELF conformer selection (max 5 conformers) using OpenEye\\n\\n\"\n",
    "        \"Dataset information:\\n\"\n",
    "        \"* Number of unique molecules: {}\\n\"\n",
    "        \"* Number of conformers: {}\\n\"\n",
    "        \"* Number of conformers (min, mean, max): {:.2f}, {:.2f}, {:.2f}\\n\"\n",
    "        \"* Molecular weight (min, mean, max): {:.2f}, {:.2f}, {:.2f}\\n\"\n",
    "        \"* Charges: {}\".format(dataset2.n_molecules,dataset2.n_records,min(n_confs2),np.mean(n_confs2),max(n_confs2),min(masses2),np.mean(masses2),max(masses2),' '.join(unique_charges2))\n",
    "        ))"
   ]
  },
  {
   "cell_type": "code",
   "execution_count": 29,
   "id": "e5e1b306-8f67-4908-8b54-15122eee5a37",
   "metadata": {
    "execution": {
     "iopub.execute_input": "2024-11-20T20:09:12.701159Z",
     "iopub.status.busy": "2024-11-20T20:09:12.700900Z",
     "iopub.status.idle": "2024-11-20T20:09:12.703798Z",
     "shell.execute_reply": "2024-11-20T20:09:12.703429Z",
     "shell.execute_reply.started": "2024-11-20T20:09:12.701141Z"
    }
   },
   "outputs": [
    {
     "name": "stdout",
     "output_type": "stream",
     "text": [
      "A dataset containing molecules from the `MLPepper RECAP Optimized Fragments v1.0` and `MLPepper RECAP Optimized Fragments v1.0 Add Iodines` with additional conformers and optimized at the OpenFF default level of theory (B3LYP-D3BJ/DZVP). The dataset is intended to be used for calculating single point energies and properties, which will then be used to train our second-generation graph neural network charge model (NAGL2).This is part 2, for molecules with molecular weight greater than 300 Da.\n",
      "\n",
      "For each molecule, a set of up to 5 conformers were generated by:\n",
      "  * generating a set of up to 1000 conformers with a RMS cutoff of 0.1 Å using the OpenEye backend of the OpenFF toolkit\n",
      "  * applying ELF conformer selection (max 5 conformers) using OpenEye\n",
      "\n",
      "Dataset information:\n",
      "* Number of unique molecules: 1197\n",
      "* Number of conformers: 2323\n",
      "* Number of conformers (min, mean, max): 1.00, 1.94, 5.00\n",
      "* Molecular weight (min, mean, max): 300.08, 377.82, 701.59\n",
      "* Charges: -4.0 -2.0 -1.0 0.0 1.0 2.0\n"
     ]
    }
   ],
   "source": [
    "print(dataset2.metadata.long_description)"
   ]
  },
  {
   "cell_type": "code",
   "execution_count": 30,
   "id": "2805dcab-d6af-4341-bc6a-598108c93647",
   "metadata": {
    "execution": {
     "iopub.execute_input": "2024-11-20T20:09:27.420457Z",
     "iopub.status.busy": "2024-11-20T20:09:27.420192Z",
     "iopub.status.idle": "2024-11-20T20:09:32.726169Z",
     "shell.execute_reply": "2024-11-20T20:09:32.725753Z",
     "shell.execute_reply.started": "2024-11-20T20:09:27.420441Z"
    }
   },
   "outputs": [],
   "source": [
    "dataset2.export_dataset(\"dataset_part2.json.bz2\")\n",
    "dataset2.molecules_to_file('dataset_part2.smi', 'smi')\n",
    "dataset2.visualize(\"dataset_part2.pdf\", columns=8)"
   ]
  },
  {
   "cell_type": "code",
   "execution_count": null,
   "id": "a265c7e7-b415-4481-864f-244393b455e0",
   "metadata": {},
   "outputs": [],
   "source": []
  }
 ],
 "metadata": {
  "kernelspec": {
   "display_name": "Python 3 (ipykernel)",
   "language": "python",
   "name": "python3"
  },
  "language_info": {
   "codemirror_mode": {
    "name": "ipython",
    "version": 3
   },
   "file_extension": ".py",
   "mimetype": "text/x-python",
   "name": "python",
   "nbconvert_exporter": "python",
   "pygments_lexer": "ipython3",
   "version": "3.12.7"
  }
 },
 "nbformat": 4,
 "nbformat_minor": 5
}
