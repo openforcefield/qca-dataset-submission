{
 "cells": [
  {
   "cell_type": "markdown",
   "metadata": {},
   "source": [
    "# PEPCONF OptimizationDataset Preparation"
   ]
  },
  {
   "cell_type": "markdown",
   "metadata": {},
   "source": [
    "From John:\n",
    "\n",
    "> This dataset contains several categories of interesting short peptides:\n",
    "> - dipeptide\n",
    "> - tripeptide\n",
    "> - disulfide-linked peptides\n",
    "> - short bioactive peptides\n",
    "> - cyclic peptides\n",
    ">\n",
    "> We should use our standard conformer enumeration schemes to generate conformers for QM."
   ]
  },
  {
   "cell_type": "markdown",
   "metadata": {},
   "source": [
    "The original starting molecules were XYZ files.\n",
    "John has already turned these into canonical isomeric SMILES using `extract-pepconf-smiles.py`.\n",
    "We will start from these SMILES in our submission generation."
   ]
  },
  {
   "cell_type": "code",
   "execution_count": 1,
   "metadata": {},
   "outputs": [
    {
     "data": {
      "application/vnd.jupyter.widget-view+json": {
       "model_id": "d0dda5306cd84143aaa2a170a592c97c",
       "version_major": 2,
       "version_minor": 0
      },
      "text/plain": []
     },
     "metadata": {},
     "output_type": "display_data"
    }
   ],
   "source": [
    "import os\n",
    "\n",
    "import numpy as np\n",
    "\n",
    "from qcsubmit.factories import OptimizationDataset, OptimizationDatasetFactory\n",
    "from openforcefield.topology import Molecule\n",
    "from qcsubmit import workflow_components"
   ]
  },
  {
   "cell_type": "markdown",
   "metadata": {},
   "source": [
    "## Preparation steps"
   ]
  },
  {
   "cell_type": "code",
   "execution_count": 2,
   "metadata": {},
   "outputs": [],
   "source": [
    "moldata = dict()\n",
    "with open('pepconf.csv', 'r') as f:\n",
    "    for line in f:\n",
    "        smiles, name = line.strip().split(',')\n",
    "        moldata[name] = smiles"
   ]
  },
  {
   "cell_type": "markdown",
   "metadata": {},
   "source": [
    "We won't use the names in the SMILES file, since we'll be generating stereoisomers, conformers."
   ]
  },
  {
   "cell_type": "code",
   "execution_count": 3,
   "metadata": {},
   "outputs": [],
   "source": [
    "mols = [Molecule.from_smiles(smiles, allow_undefined_stereo=True) for smiles in moldata.values()]"
   ]
  },
  {
   "cell_type": "code",
   "execution_count": 4,
   "metadata": {},
   "outputs": [
    {
     "data": {
      "text/plain": [
       "741"
      ]
     },
     "execution_count": 4,
     "metadata": {},
     "output_type": "execute_result"
    }
   ],
   "source": [
    "len(mols)"
   ]
  },
  {
   "cell_type": "code",
   "execution_count": 6,
   "metadata": {},
   "outputs": [],
   "source": [
    "# Generate the workflow to apply to the molecules\n",
    "qcs_ds = OptimizationDatasetFactory()\n",
    "\n",
    "component = workflow_components.EnumerateStereoisomers()\n",
    "component.max_isomers = 100\n",
    "component.toolkit = \"rdkit\"\n",
    "qcs_ds.add_workflow_component(component)\n",
    "\n",
    "component = workflow_components.StandardConformerGenerator()\n",
    "component.max_conformers = 100\n",
    "component.toolkit = \"rdkit\"\n",
    "component.rms_cutoff = 3.0\n",
    "qcs_ds.add_workflow_component(component)"
   ]
  },
  {
   "cell_type": "code",
   "execution_count": 6,
   "metadata": {},
   "outputs": [
    {
     "name": "stderr",
     "output_type": "stream",
     "text": [
      "Deduplication                 : 100%|████████| 741/741 [00:02<00:00, 321.14it/s]\n",
      "EnumerateStereoisomers        : 100%|█████████| 741/741 [01:24<00:00,  8.78it/s]\n",
      "StandardConformerGenerator    : 100%|███████| 736/736 [1:27:01<00:00,  7.09s/it]\n",
      "Preparation                   :   0%|                   | 0/736 [00:00<?, ?it/s]/home/david/.conda/envs/qcsubmit-2/lib/python3.7/site-packages/qcsubmit/validators.py:300: UserWarning: The molecule C16H20N3O5 has a net charge of -1.0.\n",
      "  UserWarning,\n",
      "Preparation                   :   1%|           | 4/736 [00:00<00:28, 25.81it/s]/home/david/.conda/envs/qcsubmit-2/lib/python3.7/site-packages/qcsubmit/validators.py:300: UserWarning: The molecule C19H28N5O3 has a net charge of 1.0.\n",
      "  UserWarning,\n",
      "/home/david/.conda/envs/qcsubmit-2/lib/python3.7/site-packages/qcsubmit/validators.py:300: UserWarning: The molecule C14H29N6O3 has a net charge of 1.0.\n",
      "  UserWarning,\n",
      "Preparation                   :   1%|▏         | 10/736 [00:00<00:28, 25.73it/s]/home/david/.conda/envs/qcsubmit-2/lib/python3.7/site-packages/qcsubmit/validators.py:300: UserWarning: The molecule C18H21N4O5 has a net charge of -1.0.\n",
      "  UserWarning,\n",
      "Preparation                   :   2%|▏         | 13/736 [00:00<00:27, 26.21it/s]/home/david/.conda/envs/qcsubmit-2/lib/python3.7/site-packages/qcsubmit/validators.py:300: UserWarning: The molecule C17H27N6O3 has a net charge of 1.0.\n",
      "  UserWarning,\n",
      "Preparation                   :   2%|▏         | 16/736 [00:00<00:28, 25.52it/s]/home/david/.conda/envs/qcsubmit-2/lib/python3.7/site-packages/qcsubmit/validators.py:300: UserWarning: The molecule C13H22N3O5 has a net charge of -1.0.\n",
      "  UserWarning,\n",
      "Preparation                   :   3%|▎         | 23/736 [00:01<00:47, 15.13it/s]/home/david/.conda/envs/qcsubmit-2/lib/python3.7/site-packages/qcsubmit/validators.py:300: UserWarning: The molecule C15H18N3O5 has a net charge of -1.0.\n",
      "  UserWarning,\n",
      "Preparation                   :   4%|▎         | 27/736 [00:01<00:39, 18.12it/s]/home/david/.conda/envs/qcsubmit-2/lib/python3.7/site-packages/qcsubmit/validators.py:300: UserWarning: The molecule C11H23N4O4 has a net charge of 1.0.\n",
      "  UserWarning,\n",
      "/home/david/.conda/envs/qcsubmit-2/lib/python3.7/site-packages/qcsubmit/validators.py:300: UserWarning: The molecule C12H20N3O5 has a net charge of -1.0.\n",
      "  UserWarning,\n",
      "/home/david/.conda/envs/qcsubmit-2/lib/python3.7/site-packages/qcsubmit/validators.py:300: UserWarning: The molecule C12H25N6O4 has a net charge of 1.0.\n",
      "  UserWarning,\n",
      "Preparation                   :   4%|▍         | 31/736 [00:01<00:32, 21.65it/s]/home/david/.conda/envs/qcsubmit-2/lib/python3.7/site-packages/qcsubmit/validators.py:300: UserWarning: The molecule C12H25N4O4 has a net charge of 1.0.\n",
      "  UserWarning,\n",
      "/home/david/.conda/envs/qcsubmit-2/lib/python3.7/site-packages/qcsubmit/validators.py:300: UserWarning: The molecule C17H19N4O5 has a net charge of -1.0.\n",
      "  UserWarning,\n",
      "Preparation                   :   5%|▍         | 35/736 [00:01<00:29, 24.03it/s]/home/david/.conda/envs/qcsubmit-2/lib/python3.7/site-packages/qcsubmit/validators.py:300: UserWarning: The molecule C11H23N6O4 has a net charge of 1.0.\n",
      "  UserWarning,\n",
      "Preparation                   :   5%|▌         | 38/736 [00:01<00:27, 25.41it/s]/home/david/.conda/envs/qcsubmit-2/lib/python3.7/site-packages/qcsubmit/validators.py:300: UserWarning: The molecule C14H29N4O3 has a net charge of 1.0.\n",
      "  UserWarning,\n",
      "/home/david/.conda/envs/qcsubmit-2/lib/python3.7/site-packages/qcsubmit/validators.py:300: UserWarning: The molecule C19H28N7O3 has a net charge of 1.0.\n",
      "  UserWarning,\n",
      "Preparation                   :   6%|▌         | 41/736 [00:01<00:28, 24.37it/s]/home/david/.conda/envs/qcsubmit-2/lib/python3.7/site-packages/qcsubmit/validators.py:300: UserWarning: The molecule C9H14N3O6 has a net charge of -1.0.\n",
      "  UserWarning,\n",
      "/home/david/.conda/envs/qcsubmit-2/lib/python3.7/site-packages/qcsubmit/validators.py:300: UserWarning: The molecule C10H16N3O6 has a net charge of -1.0.\n",
      "  UserWarning,\n",
      "Preparation                   :   6%|▋         | 46/736 [00:01<00:24, 27.74it/s]/home/david/.conda/envs/qcsubmit-2/lib/python3.7/site-packages/qcsubmit/validators.py:300: UserWarning: The molecule C17H27N4O3 has a net charge of 1.0.\n",
      "  UserWarning,\n",
      "/home/david/.conda/envs/qcsubmit-2/lib/python3.7/site-packages/qcsubmit/validators.py:300: UserWarning: The molecule C11H18N3O6 has a net charge of -1.0.\n",
      "  UserWarning,\n",
      "Preparation                   :   8%|▊         | 58/736 [00:02<00:23, 28.80it/s]/home/david/.conda/envs/qcsubmit-2/lib/python3.7/site-packages/qcsubmit/validators.py:300: UserWarning: The molecule C10H21N4O3 has a net charge of 1.0.\n",
      "  UserWarning,\n",
      "Preparation                   :   8%|▊         | 62/736 [00:02<00:21, 30.98it/s]/home/david/.conda/envs/qcsubmit-2/lib/python3.7/site-packages/qcsubmit/validators.py:300: UserWarning: The molecule C11H18N3O5S has a net charge of -1.0.\n",
      "  UserWarning,\n",
      "Preparation                   :  10%|▉         | 70/736 [00:02<00:20, 33.18it/s]/home/david/.conda/envs/qcsubmit-2/lib/python3.7/site-packages/qcsubmit/validators.py:300: UserWarning: The molecule C10H21N6O3 has a net charge of 1.0.\n",
      "  UserWarning,\n",
      "/home/david/.conda/envs/qcsubmit-2/lib/python3.7/site-packages/qcsubmit/validators.py:300: UserWarning: The molecule C13H27N4O3S has a net charge of 1.0.\n",
      "  UserWarning,\n",
      "Preparation                   :  10%|█         | 74/736 [00:02<00:21, 31.42it/s]/home/david/.conda/envs/qcsubmit-2/lib/python3.7/site-packages/qcsubmit/validators.py:300: UserWarning: The molecule C13H27N6O3S has a net charge of 1.0.\n",
      "  UserWarning,\n",
      "Preparation                   :  11%|█         | 81/736 [00:03<00:23, 27.31it/s]/home/david/.conda/envs/qcsubmit-2/lib/python3.7/site-packages/qcsubmit/validators.py:300: UserWarning: The molecule C14H31N7O3 has a net charge of 2.0.\n",
      "  UserWarning,\n",
      "Preparation                   :  12%|█▏        | 85/736 [00:03<00:23, 27.39it/s]/home/david/.conda/envs/qcsubmit-2/lib/python3.7/site-packages/qcsubmit/validators.py:300: UserWarning: The molecule C12H20N3O5S has a net charge of -1.0.\n",
      "  UserWarning,\n",
      "Preparation                   :  12%|█▏        | 91/736 [00:03<00:25, 25.69it/s]/home/david/.conda/envs/qcsubmit-2/lib/python3.7/site-packages/qcsubmit/validators.py:300: UserWarning: The molecule C9H14N3O5 has a net charge of -1.0.\n",
      "  UserWarning,\n",
      "/home/david/.conda/envs/qcsubmit-2/lib/python3.7/site-packages/qcsubmit/validators.py:300: UserWarning: The molecule C8H12N3O5 has a net charge of -1.0.\n",
      "  UserWarning,\n",
      "Preparation                   :  13%|█▎        | 96/736 [00:03<00:21, 29.13it/s]/home/david/.conda/envs/qcsubmit-2/lib/python3.7/site-packages/qcsubmit/validators.py:300: UserWarning: The molecule C14H31N5O3 has a net charge of 2.0.\n",
      "  UserWarning,\n",
      "/home/david/.conda/envs/qcsubmit-2/lib/python3.7/site-packages/qcsubmit/validators.py:300: UserWarning: The molecule C12H19N4O6 has a net charge of -1.0.\n",
      "  UserWarning,\n",
      "Preparation                   :  14%|█▎       | 106/736 [00:03<00:22, 27.41it/s]/home/david/.conda/envs/qcsubmit-2/lib/python3.7/site-packages/qcsubmit/validators.py:300: UserWarning: The molecule C12H17N3O7 has a net charge of -2.0.\n",
      "  UserWarning,\n",
      "Preparation                   :  15%|█▎       | 110/736 [00:04<00:21, 29.72it/s]/home/david/.conda/envs/qcsubmit-2/lib/python3.7/site-packages/qcsubmit/validators.py:300: UserWarning: The molecule C13H26N7O4 has a net charge of 1.0.\n",
      "  UserWarning,\n",
      "/home/david/.conda/envs/qcsubmit-2/lib/python3.7/site-packages/qcsubmit/validators.py:300: UserWarning: The molecule C11H23N4O3 has a net charge of 1.0.\n",
      "  UserWarning,\n",
      "Preparation                   :  15%|█▍       | 114/736 [00:04<00:21, 28.45it/s]/home/david/.conda/envs/qcsubmit-2/lib/python3.7/site-packages/qcsubmit/validators.py:300: UserWarning: The molecule C11H17N4O6 has a net charge of -1.0.\n",
      "  UserWarning,\n",
      "Preparation                   :  16%|█▍       | 121/736 [00:04<00:19, 30.84it/s]/home/david/.conda/envs/qcsubmit-2/lib/python3.7/site-packages/qcsubmit/validators.py:300: UserWarning: The molecule C10H13N3O7 has a net charge of -2.0.\n",
      "  UserWarning,\n",
      "/home/david/.conda/envs/qcsubmit-2/lib/python3.7/site-packages/qcsubmit/validators.py:300: UserWarning: The molecule C11H15N3O7 has a net charge of -2.0.\n",
      "  UserWarning,\n",
      "Preparation                   :  17%|█▌       | 125/736 [00:04<00:19, 31.41it/s]/home/david/.conda/envs/qcsubmit-2/lib/python3.7/site-packages/qcsubmit/validators.py:300: UserWarning: The molecule C10H16N3O5 has a net charge of -1.0.\n",
      "  UserWarning,\n",
      "Preparation                   :  18%|█▌       | 129/736 [00:04<00:19, 30.59it/s]/home/david/.conda/envs/qcsubmit-2/lib/python3.7/site-packages/qcsubmit/validators.py:300: UserWarning: The molecule C13H26N5O4 has a net charge of 1.0.\n",
      "  UserWarning,\n",
      "Preparation                   :  19%|█▋       | 137/736 [00:04<00:18, 32.11it/s]/home/david/.conda/envs/qcsubmit-2/lib/python3.7/site-packages/qcsubmit/validators.py:300: UserWarning: The molecule C11H23N6O3 has a net charge of 1.0.\n",
      "  UserWarning,\n",
      "Preparation                   :  20%|█▊       | 145/736 [00:05<00:19, 30.33it/s]/home/david/.conda/envs/qcsubmit-2/lib/python3.7/site-packages/qcsubmit/validators.py:300: UserWarning: The molecule C12H24N7O4 has a net charge of 1.0.\n",
      "  UserWarning,\n",
      "Preparation                   :  21%|█▊       | 153/736 [00:05<00:18, 31.34it/s]/home/david/.conda/envs/qcsubmit-2/lib/python3.7/site-packages/qcsubmit/validators.py:300: UserWarning: The molecule C12H24N5O4 has a net charge of 1.0.\n",
      "  UserWarning,\n",
      "/home/david/.conda/envs/qcsubmit-2/lib/python3.7/site-packages/qcsubmit/validators.py:300: UserWarning: The molecule C12H18N3O5 has a net charge of -1.0.\n",
      "  UserWarning,\n",
      "/home/david/.conda/envs/qcsubmit-2/lib/python3.7/site-packages/qcsubmit/validators.py:300: UserWarning: The molecule C13H27N6O3 has a net charge of 1.0.\n",
      "  UserWarning,\n",
      "Preparation                   :  21%|█▉       | 157/736 [00:05<00:17, 32.39it/s]/home/david/.conda/envs/qcsubmit-2/lib/python3.7/site-packages/qcsubmit/validators.py:300: UserWarning: The molecule C11H23N6O3S has a net charge of 1.0.\n",
      "  UserWarning,\n",
      "/home/david/.conda/envs/qcsubmit-2/lib/python3.7/site-packages/qcsubmit/validators.py:300: UserWarning: The molecule C13H25N4O3 has a net charge of 1.0.\n",
      "  UserWarning,\n",
      "Preparation                   :  22%|█▉       | 161/736 [00:05<00:18, 31.50it/s]/home/david/.conda/envs/qcsubmit-2/lib/python3.7/site-packages/qcsubmit/validators.py:300: UserWarning: The molecule C12H16N5O5 has a net charge of -1.0.\n",
      "  UserWarning,\n",
      "Preparation                   :  22%|██       | 165/736 [00:05<00:19, 29.98it/s]/home/david/.conda/envs/qcsubmit-2/lib/python3.7/site-packages/qcsubmit/validators.py:300: UserWarning: The molecule C13H25N6O3 has a net charge of 1.0.\n",
      "  UserWarning,\n",
      "Preparation                   :  23%|██       | 169/736 [00:05<00:18, 30.84it/s]/home/david/.conda/envs/qcsubmit-2/lib/python3.7/site-packages/qcsubmit/validators.py:300: UserWarning: The molecule C11H23N4O3S has a net charge of 1.0.\n",
      "  UserWarning,\n",
      "/home/david/.conda/envs/qcsubmit-2/lib/python3.7/site-packages/qcsubmit/validators.py:300: UserWarning: The molecule C15H18N3O6 has a net charge of -1.0.\n",
      "  UserWarning,\n",
      "/home/david/.conda/envs/qcsubmit-2/lib/python3.7/site-packages/qcsubmit/validators.py:300: UserWarning: The molecule C11H16N3O5 has a net charge of -1.0.\n",
      "  UserWarning,\n",
      "Preparation                   :  24%|██       | 173/736 [00:06<00:18, 31.20it/s]/home/david/.conda/envs/qcsubmit-2/lib/python3.7/site-packages/qcsubmit/validators.py:300: UserWarning: The molecule C14H25N6O3 has a net charge of 1.0.\n",
      "  UserWarning,\n",
      "/home/david/.conda/envs/qcsubmit-2/lib/python3.7/site-packages/qcsubmit/validators.py:300: UserWarning: The molecule C17H27N6O4 has a net charge of 1.0.\n",
      "  UserWarning,\n",
      "Preparation                   :  24%|██▏      | 177/736 [00:06<00:18, 29.71it/s]/home/david/.conda/envs/qcsubmit-2/lib/python3.7/site-packages/qcsubmit/validators.py:300: UserWarning: The molecule C14H31N9O3 has a net charge of 2.0.\n",
      "  UserWarning,\n",
      "Preparation                   :  25%|██▏      | 181/736 [00:06<00:20, 26.88it/s]/home/david/.conda/envs/qcsubmit-2/lib/python3.7/site-packages/qcsubmit/validators.py:300: UserWarning: The molecule C11H18N3O5 has a net charge of -1.0.\n",
      "  UserWarning,\n",
      "/home/david/.conda/envs/qcsubmit-2/lib/python3.7/site-packages/qcsubmit/validators.py:300: UserWarning: The molecule C14H25N8O3 has a net charge of 1.0.\n",
      "  UserWarning,\n",
      "Preparation                   :  25%|██▎      | 185/736 [00:06<00:19, 28.82it/s]/home/david/.conda/envs/qcsubmit-2/lib/python3.7/site-packages/qcsubmit/validators.py:300: UserWarning: The molecule C16H20N3O6 has a net charge of -1.0.\n",
      "  UserWarning,\n",
      "Preparation                   :  26%|██▎      | 189/736 [00:06<00:17, 30.52it/s]/home/david/.conda/envs/qcsubmit-2/lib/python3.7/site-packages/qcsubmit/validators.py:300: UserWarning: The molecule C10H15N4O6 has a net charge of -1.0.\n",
      "  UserWarning,\n",
      "Preparation                   :  26%|██▎      | 193/736 [00:06<00:17, 31.70it/s]/home/david/.conda/envs/qcsubmit-2/lib/python3.7/site-packages/qcsubmit/validators.py:300: UserWarning: The molecule C13H18N5O5 has a net charge of -1.0.\n",
      "  UserWarning,\n",
      "Preparation                   :  27%|██▍      | 201/736 [00:07<00:17, 31.22it/s]/home/david/.conda/envs/qcsubmit-2/lib/python3.7/site-packages/qcsubmit/validators.py:300: UserWarning: The molecule C10H16N3O5S has a net charge of -1.0.\n",
      "  UserWarning,\n",
      "/home/david/.conda/envs/qcsubmit-2/lib/python3.7/site-packages/qcsubmit/validators.py:300: UserWarning: The molecule C13H27N4O3 has a net charge of 1.0.\n",
      "  UserWarning,\n",
      "Preparation                   :  28%|██▌      | 205/736 [00:07<00:16, 32.67it/s]/home/david/.conda/envs/qcsubmit-2/lib/python3.7/site-packages/qcsubmit/validators.py:300: UserWarning: The molecule C17H27N4O4 has a net charge of 1.0.\n",
      "  UserWarning,\n",
      "/home/david/.conda/envs/qcsubmit-2/lib/python3.7/site-packages/qcsubmit/validators.py:300: UserWarning: The molecule C9H14N3O5S has a net charge of -1.0.\n",
      "  UserWarning,\n",
      "Preparation                   :  68%|██████   | 500/736 [00:32<00:47,  5.02it/s]/home/david/.conda/envs/qcsubmit-2/lib/python3.7/site-packages/qcsubmit/validators.py:300: UserWarning: The molecule C31H44N9O12S2 has a net charge of -1.0.\n",
      "  UserWarning,\n",
      "Preparation                   :  68%|██████▏  | 503/736 [00:34<01:44,  2.22it/s]/home/david/.conda/envs/qcsubmit-2/lib/python3.7/site-packages/qcsubmit/validators.py:300: UserWarning: The molecule C32H51N12O11S2 has a net charge of 1.0.\n",
      "  UserWarning,\n",
      "Preparation                   :  69%|██████▏  | 507/736 [00:36<01:49,  2.10it/s]/home/david/.conda/envs/qcsubmit-2/lib/python3.7/site-packages/qcsubmit/validators.py:300: UserWarning: The molecule C30H48N8O12S2 has a net charge of -2.0.\n",
      "  UserWarning,\n",
      "Preparation                   :  69%|██████▏  | 511/736 [00:37<01:23,  2.68it/s]/home/david/.conda/envs/qcsubmit-2/lib/python3.7/site-packages/qcsubmit/validators.py:300: UserWarning: The molecule C33H46N8O13S2 has a net charge of -2.0.\n",
      "  UserWarning,\n",
      "Preparation                   :  70%|██████▎  | 512/736 [00:38<01:41,  2.21it/s]/home/david/.conda/envs/qcsubmit-2/lib/python3.7/site-packages/qcsubmit/validators.py:300: UserWarning: The molecule C33H63N13O9S2 has a net charge of 2.0.\n",
      "  UserWarning,\n",
      "Preparation                   :  70%|██████▎  | 513/736 [00:39<02:16,  1.63it/s]/home/david/.conda/envs/qcsubmit-2/lib/python3.7/site-packages/qcsubmit/validators.py:300: UserWarning: The molecule C27H50N11O9S2 has a net charge of 1.0.\n",
      "  UserWarning,\n",
      "Preparation                   :  70%|██████▎  | 514/736 [00:39<02:13,  1.67it/s]/home/david/.conda/envs/qcsubmit-2/lib/python3.7/site-packages/qcsubmit/validators.py:300: UserWarning: The molecule C27H50N9O8S2 has a net charge of 1.0.\n",
      "  UserWarning,\n",
      "Preparation                   :  70%|██████▎  | 515/736 [00:40<02:11,  1.68it/s]/home/david/.conda/envs/qcsubmit-2/lib/python3.7/site-packages/qcsubmit/validators.py:300: UserWarning: The molecule C29H53N12O10S2 has a net charge of 1.0.\n",
      "  UserWarning,\n",
      "Preparation                   :  71%|██████▎  | 519/736 [00:43<02:21,  1.54it/s]/home/david/.conda/envs/qcsubmit-2/lib/python3.7/site-packages/qcsubmit/validators.py:300: UserWarning: The molecule C28H42N10O14S2 has a net charge of -2.0.\n",
      "  UserWarning,\n",
      "Preparation                   :  71%|██████▎  | 520/736 [00:43<02:07,  1.70it/s]/home/david/.conda/envs/qcsubmit-2/lib/python3.7/site-packages/qcsubmit/validators.py:300: UserWarning: The molecule C33H54N11O9S2 has a net charge of 1.0.\n",
      "  UserWarning,\n",
      "Preparation                   :  71%|██████▍  | 523/736 [00:45<01:46,  2.01it/s]/home/david/.conda/envs/qcsubmit-2/lib/python3.7/site-packages/qcsubmit/validators.py:300: UserWarning: The molecule C37H64N14O8S2 has a net charge of 2.0.\n",
      "  UserWarning,\n",
      "Preparation                   :  72%|██████▍  | 530/736 [00:48<01:24,  2.43it/s]/home/david/.conda/envs/qcsubmit-2/lib/python3.7/site-packages/qcsubmit/validators.py:300: UserWarning: The molecule C32H51N10O11S2 has a net charge of 1.0.\n",
      "  UserWarning,\n",
      "Preparation                   :  72%|██████▌  | 532/736 [00:50<01:55,  1.76it/s]/home/david/.conda/envs/qcsubmit-2/lib/python3.7/site-packages/qcsubmit/validators.py:300: UserWarning: The molecule C32H59N12O10S2 has a net charge of 1.0.\n",
      "  UserWarning,\n",
      "Preparation                   :  72%|██████▌  | 533/736 [00:50<02:10,  1.56it/s]/home/david/.conda/envs/qcsubmit-2/lib/python3.7/site-packages/qcsubmit/validators.py:300: UserWarning: The molecule C24H38N9O11S2 has a net charge of -1.0.\n",
      "  UserWarning,\n",
      "Preparation                   :  73%|██████▌  | 534/736 [00:51<01:45,  1.92it/s]/home/david/.conda/envs/qcsubmit-2/lib/python3.7/site-packages/qcsubmit/validators.py:300: UserWarning: The molecule C29H53N12O11S2 has a net charge of 1.0.\n",
      "  UserWarning,\n",
      "Preparation                   :  73%|██████▌  | 537/736 [00:52<01:36,  2.07it/s]/home/david/.conda/envs/qcsubmit-2/lib/python3.7/site-packages/qcsubmit/validators.py:300: UserWarning: The molecule C33H54N9O9S2 has a net charge of 1.0.\n",
      "  UserWarning,\n",
      "Preparation                   :  73%|██████▌  | 539/736 [00:53<01:53,  1.74it/s]RDKit WARNING: [15:16:25] WARNING: Proton(s) added/removed\n",
      "RDKit WARNING: [15:16:25] WARNING: Proton(s) added/removed\n",
      "RDKit WARNING: [15:16:25] WARNING: Proton(s) added/removed\n",
      "RDKit WARNING: [15:16:26] WARNING: Proton(s) added/removed\n",
      "RDKit WARNING: [15:16:26] WARNING: Proton(s) added/removed\n",
      "RDKit WARNING: [15:16:26] WARNING: Proton(s) added/removed\n",
      "RDKit WARNING: [15:16:26] WARNING: Proton(s) added/removed\n",
      "RDKit WARNING: [15:16:27] WARNING: Proton(s) added/removed\n",
      "RDKit WARNING: [15:16:27] WARNING: Proton(s) added/removed\n",
      "RDKit WARNING: [15:16:27] WARNING: Proton(s) added/removed\n",
      "RDKit WARNING: [15:16:27] WARNING: Proton(s) added/removed\n",
      "RDKit WARNING: [15:16:27] WARNING: Proton(s) added/removed\n",
      "RDKit WARNING: [15:16:27] WARNING: Proton(s) added/removed\n",
      "RDKit WARNING: [15:16:27] WARNING: Proton(s) added/removed\n",
      "RDKit WARNING: [15:16:27] WARNING: Proton(s) added/removed\n",
      "RDKit WARNING: [15:16:27] WARNING: Proton(s) added/removed\n",
      "RDKit WARNING: [15:16:27] WARNING: Proton(s) added/removed\n",
      "RDKit WARNING: [15:16:27] WARNING: Proton(s) added/removed\n",
      "RDKit WARNING: [15:16:27] WARNING: Proton(s) added/removed\n",
      "RDKit WARNING: [15:16:27] WARNING: Proton(s) added/removed\n",
      "RDKit WARNING: [15:16:27] WARNING: Proton(s) added/removed\n",
      "RDKit WARNING: [15:16:28] WARNING: Proton(s) added/removed\n",
      "RDKit WARNING: [15:16:28] WARNING: Proton(s) added/removed\n",
      "RDKit WARNING: [15:16:28] WARNING: Proton(s) added/removed\n",
      "RDKit WARNING: [15:16:28] WARNING: Proton(s) added/removed\n",
      "RDKit WARNING: [15:16:28] WARNING: Proton(s) added/removed\n",
      "RDKit WARNING: [15:16:28] WARNING: Proton(s) added/removed\n",
      "RDKit WARNING: [15:16:28] WARNING: Proton(s) added/removed\n",
      "RDKit WARNING: [15:16:28] WARNING: Proton(s) added/removed\n",
      "RDKit WARNING: [15:16:29] WARNING: Proton(s) added/removed\n",
      "RDKit WARNING: [15:16:29] WARNING: Proton(s) added/removed\n",
      "RDKit WARNING: [15:16:29] WARNING: Proton(s) added/removed\n",
      "RDKit WARNING: [15:16:29] WARNING: Proton(s) added/removed\n",
      "RDKit WARNING: [15:16:29] WARNING: Proton(s) added/removed\n",
      "RDKit WARNING: [15:16:29] WARNING: Proton(s) added/removed\n",
      "RDKit WARNING: [15:16:29] WARNING: Proton(s) added/removed\n",
      "RDKit WARNING: [15:16:29] WARNING: Proton(s) added/removed\n",
      "RDKit WARNING: [15:16:29] WARNING: Proton(s) added/removed\n",
      "RDKit WARNING: [15:16:29] WARNING: Proton(s) added/removed\n",
      "RDKit WARNING: [15:16:30] WARNING: Proton(s) added/removed\n",
      "RDKit WARNING: [15:16:30] WARNING: Proton(s) added/removed\n",
      "RDKit WARNING: [15:16:30] WARNING: Proton(s) added/removed\n",
      "RDKit WARNING: [15:16:30] WARNING: Proton(s) added/removed\n",
      "RDKit WARNING: [15:16:30] WARNING: Proton(s) added/removed\n",
      "RDKit WARNING: [15:16:30] WARNING: Proton(s) added/removed\n",
      "RDKit WARNING: [15:16:30] WARNING: Proton(s) added/removed\n",
      "RDKit WARNING: [15:16:30] WARNING: Proton(s) added/removed\n",
      "RDKit WARNING: [15:16:31] WARNING: Proton(s) added/removed\n",
      "RDKit WARNING: [15:16:31] WARNING: Proton(s) added/removed\n",
      "RDKit WARNING: [15:16:31] WARNING: Proton(s) added/removed\n",
      "RDKit WARNING: [15:16:31] WARNING: Proton(s) added/removed\n",
      "RDKit WARNING: [15:16:31] WARNING: Proton(s) added/removed\n",
      "RDKit WARNING: [15:16:31] WARNING: Proton(s) added/removed\n",
      "RDKit WARNING: [15:16:31] WARNING: Proton(s) added/removed\n",
      "RDKit WARNING: [15:16:31] WARNING: Proton(s) added/removed\n",
      "RDKit WARNING: [15:16:31] WARNING: Proton(s) added/removed\n",
      "RDKit WARNING: [15:16:31] WARNING: Proton(s) added/removed\n",
      "RDKit WARNING: [15:16:31] WARNING: Proton(s) added/removed\n",
      "RDKit WARNING: [15:16:31] WARNING: Proton(s) added/removed\n",
      "RDKit WARNING: [15:16:31] WARNING: Proton(s) added/removed\n",
      "RDKit WARNING: [15:16:31] WARNING: Proton(s) added/removed\n",
      "RDKit WARNING: [15:16:31] WARNING: Proton(s) added/removed\n",
      "RDKit WARNING: [15:16:31] WARNING: Proton(s) added/removed\n",
      "RDKit WARNING: [15:16:32] WARNING: Proton(s) added/removed\n",
      "RDKit WARNING: [15:16:32] WARNING: Proton(s) added/removed\n",
      "RDKit WARNING: [15:16:32] WARNING: Proton(s) added/removed\n",
      "RDKit WARNING: [15:16:32] WARNING: Proton(s) added/removed\n",
      "RDKit WARNING: [15:16:32] WARNING: Proton(s) added/removed\n",
      "RDKit WARNING: [15:16:32] WARNING: Proton(s) added/removed\n",
      "RDKit WARNING: [15:16:32] WARNING: Proton(s) added/removed\n",
      "RDKit WARNING: [15:16:32] WARNING: Proton(s) added/removed\n",
      "RDKit WARNING: [15:16:32] WARNING: Proton(s) added/removed\n",
      "RDKit WARNING: [15:16:32] WARNING: Proton(s) added/removed\n",
      "RDKit WARNING: [15:16:32] WARNING: Proton(s) added/removed\n",
      "RDKit WARNING: [15:16:58] WARNING: Proton(s) added/removed\n",
      "RDKit WARNING: [15:17:00] WARNING: Proton(s) added/removed\n",
      "RDKit WARNING: [15:17:01] WARNING: Proton(s) added/removed\n",
      "RDKit WARNING: [15:17:02] WARNING: Proton(s) added/removed\n",
      "RDKit WARNING: [15:17:03] WARNING: Proton(s) added/removed\n",
      "RDKit WARNING: [15:17:04] WARNING: Proton(s) added/removed\n",
      "RDKit WARNING: [15:17:05] WARNING: Proton(s) added/removed\n",
      "RDKit WARNING: [15:17:06] WARNING: Proton(s) added/removed\n",
      "RDKit WARNING: [15:17:06] WARNING: Proton(s) added/removed\n",
      "RDKit WARNING: [15:17:08] WARNING: Proton(s) added/removed\n",
      "RDKit WARNING: [15:17:08] WARNING: Proton(s) added/removed\n",
      "RDKit WARNING: [15:17:09] WARNING: Proton(s) added/removed\n",
      "RDKit WARNING: [15:17:10] WARNING: Proton(s) added/removed\n",
      "RDKit WARNING: [15:17:11] WARNING: Proton(s) added/removed\n",
      "RDKit WARNING: [15:17:14] WARNING: Proton(s) added/removed\n",
      "RDKit WARNING: [15:17:16] WARNING: Proton(s) added/removed\n",
      "RDKit WARNING: [15:17:16] WARNING: Proton(s) added/removed\n",
      "RDKit WARNING: [15:17:17] WARNING: Proton(s) added/removed\n",
      "RDKit WARNING: [15:17:18] WARNING: Proton(s) added/removed\n",
      "/home/david/.conda/envs/qcsubmit-2/lib/python3.7/site-packages/qcsubmit/validators.py:300: UserWarning: The molecule C27H40N10O14S2 has a net charge of -2.0.\n",
      "  UserWarning,\n",
      "Preparation                   :  74%|██████▌  | 541/736 [00:54<01:36,  2.01it/s]/home/david/.conda/envs/qcsubmit-2/lib/python3.7/site-packages/qcsubmit/validators.py:300: UserWarning: The molecule C32H59N11O9S2 has a net charge of 2.0.\n",
      "  UserWarning,\n",
      "Preparation                   :  74%|██████▋  | 543/736 [00:56<01:40,  1.92it/s]/home/david/.conda/envs/qcsubmit-2/lib/python3.7/site-packages/qcsubmit/validators.py:300: UserWarning: The molecule C40H62N10O10S2 has a net charge of 2.0.\n",
      "  UserWarning,\n",
      "Preparation                   :  74%|██████▋  | 545/736 [00:57<01:51,  1.71it/s]/home/david/.conda/envs/qcsubmit-2/lib/python3.7/site-packages/qcsubmit/validators.py:300: UserWarning: The molecule C33H62N9O8S3 has a net charge of 1.0.\n",
      "  UserWarning,\n",
      "Preparation                   :  74%|██████▋  | 548/736 [00:59<02:03,  1.52it/s]/home/david/.conda/envs/qcsubmit-2/lib/python3.7/site-packages/qcsubmit/validators.py:300: UserWarning: The molecule C34H56N11O9S2 has a net charge of 1.0.\n",
      "  UserWarning,\n",
      "Preparation                   :  75%|██████▋  | 549/736 [01:00<02:26,  1.27it/s]/home/david/.conda/envs/qcsubmit-2/lib/python3.7/site-packages/qcsubmit/validators.py:300: UserWarning: The molecule C33H54N11O10S2 has a net charge of 1.0.\n",
      "  UserWarning,\n",
      "Preparation                   :  75%|██████▋  | 550/736 [01:01<02:28,  1.25it/s]/home/david/.conda/envs/qcsubmit-2/lib/python3.7/site-packages/qcsubmit/validators.py:300: UserWarning: The molecule C28H47N8O11S2 has a net charge of -1.0.\n",
      "  UserWarning,\n",
      "Preparation                   :  75%|██████▋  | 551/736 [01:01<02:06,  1.46it/s]/home/david/.conda/envs/qcsubmit-2/lib/python3.7/site-packages/qcsubmit/validators.py:300: UserWarning: The molecule C34H66N10O8S2 has a net charge of 2.0.\n",
      "  UserWarning,\n",
      "Preparation                   :  75%|██████▊  | 553/736 [01:03<02:07,  1.44it/s]/home/david/.conda/envs/qcsubmit-2/lib/python3.7/site-packages/qcsubmit/validators.py:300: UserWarning: The molecule C28H47N8O10S2 has a net charge of -1.0.\n",
      "  UserWarning,\n",
      "Preparation                   :  75%|██████▊  | 554/736 [01:03<01:51,  1.63it/s]/home/david/.conda/envs/qcsubmit-2/lib/python3.7/site-packages/qcsubmit/validators.py:300: UserWarning: The molecule C30H48N8O12S4 has a net charge of -2.0.\n",
      "  UserWarning,\n",
      "Preparation                   :  75%|██████▊  | 555/736 [01:04<01:51,  1.62it/s]/home/david/.conda/envs/qcsubmit-2/lib/python3.7/site-packages/qcsubmit/validators.py:300: UserWarning: The molecule C23H36N9O11S2 has a net charge of -1.0.\n",
      "  UserWarning,\n",
      "Preparation                   :  76%|██████▊  | 558/736 [01:05<01:20,  2.20it/s]/home/david/.conda/envs/qcsubmit-2/lib/python3.7/site-packages/qcsubmit/validators.py:300: UserWarning: The molecule C26H40N8O14S2 has a net charge of -2.0.\n",
      "  UserWarning,\n",
      "Preparation                   :  76%|██████▊  | 559/736 [01:05<01:15,  2.34it/s]/home/david/.conda/envs/qcsubmit-2/lib/python3.7/site-packages/qcsubmit/validators.py:300: UserWarning: The molecule C27H50N11O8S2 has a net charge of 1.0.\n",
      "  UserWarning,\n",
      "Preparation                   :  76%|██████▊  | 560/736 [01:06<01:23,  2.10it/s]/home/david/.conda/envs/qcsubmit-2/lib/python3.7/site-packages/qcsubmit/validators.py:300: UserWarning: The molecule C30H47N10O11S2 has a net charge of -1.0.\n",
      "  UserWarning,\n",
      "Preparation                   :  76%|██████▊  | 561/736 [01:06<01:27,  2.01it/s]/home/david/.conda/envs/qcsubmit-2/lib/python3.7/site-packages/qcsubmit/validators.py:300: UserWarning: The molecule C37H59N12O9S2 has a net charge of 1.0.\n",
      "  UserWarning,\n",
      "Preparation                   :  76%|██████▊  | 562/736 [01:07<01:54,  1.52it/s]/home/david/.conda/envs/qcsubmit-2/lib/python3.7/site-packages/qcsubmit/validators.py:300: UserWarning: The molecule C32H51N12O10S2 has a net charge of 1.0.\n",
      "  UserWarning,\n",
      "Preparation                   :  76%|██████▉  | 563/736 [01:08<02:06,  1.37it/s]/home/david/.conda/envs/qcsubmit-2/lib/python3.7/site-packages/qcsubmit/validators.py:300: UserWarning: The molecule C30H42N9O11S2 has a net charge of -1.0.\n",
      "  UserWarning,\n",
      "Preparation                   :  77%|██████▉  | 564/736 [01:09<01:56,  1.47it/s]/home/david/.conda/envs/qcsubmit-2/lib/python3.7/site-packages/qcsubmit/validators.py:300: UserWarning: The molecule C37H54N9O10S2 has a net charge of -1.0.\n",
      "  UserWarning,\n",
      "Preparation                   :  77%|██████▉  | 566/736 [01:10<01:57,  1.44it/s]/home/david/.conda/envs/qcsubmit-2/lib/python3.7/site-packages/qcsubmit/validators.py:300: UserWarning: The molecule C32H56N11O9S2 has a net charge of 1.0.\n",
      "  UserWarning,\n",
      "Preparation                   :  77%|██████▉  | 569/736 [01:12<01:57,  1.42it/s]/home/david/.conda/envs/qcsubmit-2/lib/python3.7/site-packages/qcsubmit/validators.py:300: UserWarning: The molecule C30H40N9O10S2 has a net charge of -1.0.\n",
      "  UserWarning,\n",
      "Preparation                   :  77%|██████▉  | 570/736 [01:13<01:49,  1.51it/s]/home/david/.conda/envs/qcsubmit-2/lib/python3.7/site-packages/qcsubmit/validators.py:300: UserWarning: The molecule C37H62N9O8S2 has a net charge of 1.0.\n",
      "  UserWarning,\n",
      "Preparation                   :  78%|███████  | 573/736 [01:15<01:55,  1.41it/s]/home/david/.conda/envs/qcsubmit-2/lib/python3.7/site-packages/qcsubmit/validators.py:300: UserWarning: The molecule C27H50N9O9S2 has a net charge of 1.0.\n",
      "  UserWarning,\n",
      "Preparation                   :  78%|███████  | 576/736 [01:16<01:22,  1.93it/s]/home/david/.conda/envs/qcsubmit-2/lib/python3.7/site-packages/qcsubmit/validators.py:300: UserWarning: The molecule C27H49N10O9S2 has a net charge of 1.0.\n",
      "  UserWarning,\n",
      "Preparation                   :  79%|███████  | 578/736 [01:17<01:18,  2.02it/s]/home/david/.conda/envs/qcsubmit-2/lib/python3.7/site-packages/qcsubmit/validators.py:300: UserWarning: The molecule C24H36N8O12S2 has a net charge of -2.0.\n",
      "  UserWarning,\n",
      "Preparation                   :  79%|███████  | 581/736 [01:19<01:23,  1.85it/s]/home/david/.conda/envs/qcsubmit-2/lib/python3.7/site-packages/qcsubmit/validators.py:300: UserWarning: The molecule C30H51N8O11S2 has a net charge of -1.0.\n",
      "  UserWarning,\n",
      "Preparation                   :  80%|███████▏ | 586/736 [01:22<01:24,  1.78it/s]/home/david/.conda/envs/qcsubmit-2/lib/python3.7/site-packages/qcsubmit/validators.py:300: UserWarning: The molecule C31H50N11O10S2 has a net charge of 1.0.\n",
      "  UserWarning,\n",
      "Preparation                   :  80%|███████▏ | 587/736 [01:23<01:21,  1.83it/s]/home/david/.conda/envs/qcsubmit-2/lib/python3.7/site-packages/qcsubmit/validators.py:300: UserWarning: The molecule C32H44N12O12S2 has a net charge of -2.0.\n",
      "  UserWarning,\n",
      "Preparation                   :  80%|███████▏ | 589/736 [01:24<01:12,  2.04it/s]/home/david/.conda/envs/qcsubmit-2/lib/python3.7/site-packages/qcsubmit/validators.py:300: UserWarning: The molecule C30H54N9O8S2 has a net charge of 1.0.\n",
      "  UserWarning,\n",
      "Preparation                   :  80%|███████▏ | 592/736 [01:25<01:19,  1.81it/s]/home/david/.conda/envs/qcsubmit-2/lib/python3.7/site-packages/qcsubmit/validators.py:300: UserWarning: The molecule C26H35N6O8S2 has a net charge of -1.0.\n",
      "  UserWarning,\n",
      "Preparation                   :  81%|███████▎ | 593/736 [01:25<01:00,  2.38it/s]/home/david/.conda/envs/qcsubmit-2/lib/python3.7/site-packages/qcsubmit/validators.py:300: UserWarning: The molecule C34H54N11O11S2 has a net charge of 1.0.\n",
      "  UserWarning,\n",
      "Preparation                   :  81%|███████▎ | 597/736 [01:28<01:13,  1.89it/s]/home/david/.conda/envs/qcsubmit-2/lib/python3.7/site-packages/qcsubmit/validators.py:300: UserWarning: The molecule C27H45N8O12S2 has a net charge of -1.0.\n",
      "  UserWarning,\n",
      "Preparation                   :  82%|███████▎ | 600/736 [01:29<00:51,  2.63it/s]/home/david/.conda/envs/qcsubmit-2/lib/python3.7/site-packages/qcsubmit/validators.py:300: UserWarning: The molecule C34H55N12O11S2 has a net charge of 1.0.\n",
      "  UserWarning,\n",
      "Preparation                   :  82%|███████▎ | 601/736 [01:30<01:11,  1.89it/s]/home/david/.conda/envs/qcsubmit-2/lib/python3.7/site-packages/qcsubmit/validators.py:300: UserWarning: The molecule C27H44N9O13S2 has a net charge of -1.0.\n",
      "  UserWarning,\n",
      "Preparation                   :  82%|███████▎ | 602/736 [01:30<01:08,  1.95it/s]/home/david/.conda/envs/qcsubmit-2/lib/python3.7/site-packages/qcsubmit/validators.py:300: UserWarning: The molecule C30H47N9O13S2 has a net charge of -2.0.\n",
      "  UserWarning,\n",
      "Preparation                   :  82%|███████▎ | 603/736 [01:31<01:10,  1.89it/s]/home/david/.conda/envs/qcsubmit-2/lib/python3.7/site-packages/qcsubmit/validators.py:300: UserWarning: The molecule C30H55N12O9S3 has a net charge of 1.0.\n",
      "  UserWarning,\n",
      "Preparation                   :  82%|███████▍ | 604/736 [01:32<01:20,  1.65it/s]/home/david/.conda/envs/qcsubmit-2/lib/python3.7/site-packages/qcsubmit/validators.py:300: UserWarning: The molecule C29H54N9O10S2 has a net charge of 1.0.\n",
      "  UserWarning,\n",
      "Preparation                   :  82%|███████▍ | 605/736 [01:32<01:19,  1.66it/s]/home/david/.conda/envs/qcsubmit-2/lib/python3.7/site-packages/qcsubmit/validators.py:300: UserWarning: The molecule C34H53N10O10S2 has a net charge of 1.0.\n",
      "  UserWarning,\n",
      "Preparation                   :  83%|███████▍ | 608/736 [01:34<01:23,  1.54it/s]/home/david/.conda/envs/qcsubmit-2/lib/python3.7/site-packages/qcsubmit/validators.py:300: UserWarning: The molecule C31H45N8O11S2 has a net charge of -1.0.\n",
      "  UserWarning,\n",
      "Preparation                   :  83%|███████▍ | 610/736 [01:35<01:11,  1.76it/s]/home/david/.conda/envs/qcsubmit-2/lib/python3.7/site-packages/qcsubmit/validators.py:300: UserWarning: The molecule C35H60N12O9S2 has a net charge of 2.0.\n",
      "  UserWarning,\n",
      "Preparation                   :  83%|███████▍ | 612/736 [01:37<01:19,  1.57it/s]/home/david/.conda/envs/qcsubmit-2/lib/python3.7/site-packages/qcsubmit/validators.py:300: UserWarning: The molecule C32H59N10O10S2 has a net charge of 1.0.\n",
      "  UserWarning,\n",
      "Preparation                   :  83%|███████▍ | 613/736 [01:38<01:28,  1.39it/s]/home/david/.conda/envs/qcsubmit-2/lib/python3.7/site-packages/qcsubmit/validators.py:300: UserWarning: The molecule C32H60N12O10S2 has a net charge of 2.0.\n",
      "  UserWarning,\n",
      "Preparation                   :  83%|███████▌ | 614/736 [01:39<01:34,  1.29it/s]/home/david/.conda/envs/qcsubmit-2/lib/python3.7/site-packages/qcsubmit/validators.py:300: UserWarning: The molecule C32H55N8O10S2 has a net charge of -1.0.\n",
      "  UserWarning,\n",
      "Preparation                   :  84%|███████▌ | 616/736 [01:40<01:40,  1.19it/s]/home/david/.conda/envs/qcsubmit-2/lib/python3.7/site-packages/qcsubmit/validators.py:300: UserWarning: The molecule C33H51N10O7S2 has a net charge of 1.0.\n",
      "  UserWarning,\n",
      "Preparation                   :  84%|███████▌ | 618/736 [01:42<01:23,  1.42it/s]/home/david/.conda/envs/qcsubmit-2/lib/python3.7/site-packages/qcsubmit/validators.py:300: UserWarning: The molecule C37H55N14O9S2 has a net charge of 1.0.\n",
      "  UserWarning,\n",
      "Preparation                   :  84%|███████▌ | 619/736 [01:43<01:35,  1.22it/s]/home/david/.conda/envs/qcsubmit-2/lib/python3.7/site-packages/qcsubmit/validators.py:300: UserWarning: The molecule C30H47N10O10S2 has a net charge of -1.0.\n",
      "  UserWarning,\n",
      "Preparation                   :  84%|███████▌ | 620/736 [01:43<01:25,  1.35it/s]/home/david/.conda/envs/qcsubmit-2/lib/python3.7/site-packages/qcsubmit/validators.py:300: UserWarning: The molecule C32H47N8O12S2 has a net charge of -1.0.\n",
      "  UserWarning,\n",
      "Preparation                   :  85%|███████▌ | 622/736 [01:45<01:24,  1.34it/s]/home/david/.conda/envs/qcsubmit-2/lib/python3.7/site-packages/qcsubmit/validators.py:300: UserWarning: The molecule C30H55N14O10S2 has a net charge of 1.0.\n",
      "  UserWarning,\n",
      "Preparation                   :  85%|███████▌ | 623/736 [01:45<01:26,  1.31it/s]/home/david/.conda/envs/qcsubmit-2/lib/python3.7/site-packages/qcsubmit/validators.py:300: UserWarning: The molecule C29H53N12O10S3 has a net charge of 1.0.\n",
      "  UserWarning,\n",
      "Preparation                   :  85%|███████▋ | 624/736 [01:46<01:25,  1.30it/s]/home/david/.conda/envs/qcsubmit-2/lib/python3.7/site-packages/qcsubmit/validators.py:300: UserWarning: The molecule C28H44N8O14S2 has a net charge of -2.0.\n",
      "  UserWarning,\n",
      "Preparation                   :  85%|███████▋ | 625/736 [01:47<01:15,  1.48it/s]/home/david/.conda/envs/qcsubmit-2/lib/python3.7/site-packages/qcsubmit/validators.py:300: UserWarning: The molecule C26H48N7O6S2 has a net charge of 1.0.\n",
      "  UserWarning,\n",
      "Preparation                   :  85%|███████▋ | 626/736 [01:47<00:58,  1.90it/s]/home/david/.conda/envs/qcsubmit-2/lib/python3.7/site-packages/qcsubmit/validators.py:300: UserWarning: The molecule C28H44N8O12S2 has a net charge of -2.0.\n",
      "  UserWarning,\n",
      "Preparation                   :  86%|███████▋ | 630/736 [01:49<00:47,  2.25it/s]/home/david/.conda/envs/qcsubmit-2/lib/python3.7/site-packages/qcsubmit/validators.py:300: UserWarning: The molecule C31H42N9O11S2 has a net charge of -1.0.\n",
      "  UserWarning,\n",
      "Preparation                   :  86%|███████▋ | 631/736 [01:49<00:50,  2.10it/s]/home/david/.conda/envs/qcsubmit-2/lib/python3.7/site-packages/qcsubmit/validators.py:300: UserWarning: The molecule C38H57N12O8S2 has a net charge of 1.0.\n",
      "  UserWarning,\n",
      "Preparation                   :  86%|███████▋ | 633/736 [01:51<01:09,  1.48it/s]/home/david/.conda/envs/qcsubmit-2/lib/python3.7/site-packages/qcsubmit/validators.py:300: UserWarning: The molecule C31H56N13O11S2 has a net charge of 1.0.\n",
      "  UserWarning,\n",
      "Preparation                   :  86%|███████▊ | 635/736 [01:53<01:13,  1.37it/s]/home/david/.conda/envs/qcsubmit-2/lib/python3.7/site-packages/qcsubmit/validators.py:300: UserWarning: The molecule C24H44N11O9S2 has a net charge of 1.0.\n",
      "  UserWarning,\n",
      "Preparation                   :  87%|███████▊ | 638/736 [01:54<00:52,  1.87it/s]/home/david/.conda/envs/qcsubmit-2/lib/python3.7/site-packages/qcsubmit/validators.py:300: UserWarning: The molecule C29H46N8O13S2 has a net charge of -2.0.\n",
      "  UserWarning,\n",
      "Preparation                   :  87%|███████▊ | 639/736 [01:54<00:53,  1.82it/s]/home/david/.conda/envs/qcsubmit-2/lib/python3.7/site-packages/qcsubmit/validators.py:300: UserWarning: The molecule C23H43N10O8S has a net charge of 1.0.\n",
      "  UserWarning,\n",
      "Preparation                   :  87%|███████▊ | 643/736 [01:56<00:45,  2.03it/s]/home/david/.conda/envs/qcsubmit-2/lib/python3.7/site-packages/qcsubmit/validators.py:300: UserWarning: The molecule C25H47N10O8S has a net charge of 1.0.\n",
      "  UserWarning,\n",
      "Preparation                   :  88%|███████▉ | 644/736 [01:56<00:39,  2.32it/s]/home/david/.conda/envs/qcsubmit-2/lib/python3.7/site-packages/qcsubmit/validators.py:300: UserWarning: The molecule C17H33N8O5 has a net charge of 1.0.\n",
      "  UserWarning,\n",
      "/home/david/.conda/envs/qcsubmit-2/lib/python3.7/site-packages/qcsubmit/validators.py:300: UserWarning: The molecule C22H37N8O9 has a net charge of -1.0.\n",
      "  UserWarning,\n",
      "Preparation                   :  88%|███████▉ | 647/736 [01:57<00:25,  3.53it/s]/home/david/.conda/envs/qcsubmit-2/lib/python3.7/site-packages/qcsubmit/validators.py:300: UserWarning: The molecule C27H52N7O6 has a net charge of 1.0.\n",
      "  UserWarning,\n",
      "Preparation                   :  88%|███████▉ | 650/736 [01:57<00:22,  3.84it/s]/home/david/.conda/envs/qcsubmit-2/lib/python3.7/site-packages/qcsubmit/validators.py:300: UserWarning: The molecule C30H50N9O7 has a net charge of 1.0.\n",
      "  UserWarning,\n",
      "Preparation                   :  88%|███████▉ | 651/736 [01:58<00:28,  2.98it/s]/home/david/.conda/envs/qcsubmit-2/lib/python3.7/site-packages/qcsubmit/validators.py:300: UserWarning: The molecule C38H64N9O9 has a net charge of 1.0.\n",
      "  UserWarning,\n",
      "Preparation                   :  89%|████████ | 655/736 [02:00<00:39,  2.05it/s]/home/david/.conda/envs/qcsubmit-2/lib/python3.7/site-packages/qcsubmit/validators.py:300: UserWarning: The molecule C32H53N10O8 has a net charge of 1.0.\n",
      "  UserWarning,\n",
      "Preparation                   :  89%|████████ | 657/736 [02:01<00:38,  2.07it/s]/home/david/.conda/envs/qcsubmit-2/lib/python3.7/site-packages/qcsubmit/validators.py:300: UserWarning: The molecule C20H37N10O7S2 has a net charge of 1.0.\n",
      "  UserWarning,\n",
      "Preparation                   :  89%|████████ | 658/736 [02:01<00:30,  2.52it/s]/home/david/.conda/envs/qcsubmit-2/lib/python3.7/site-packages/qcsubmit/validators.py:300: UserWarning: The molecule C23H47N7O5 has a net charge of 2.0.\n",
      "  UserWarning,\n",
      "Preparation                   :  90%|████████ | 659/736 [02:01<00:24,  3.15it/s]/home/david/.conda/envs/qcsubmit-2/lib/python3.7/site-packages/qcsubmit/validators.py:300: UserWarning: The molecule C26H43N12O8 has a net charge of 1.0.\n",
      "  UserWarning,\n",
      "Preparation                   :  90%|████████ | 660/736 [02:01<00:22,  3.33it/s]/home/david/.conda/envs/qcsubmit-2/lib/python3.7/site-packages/qcsubmit/validators.py:300: UserWarning: The molecule C16H23N5O9 has a net charge of -2.0.\n",
      "  UserWarning,\n",
      "Preparation                   :  90%|████████ | 662/736 [02:02<00:16,  4.40it/s]/home/david/.conda/envs/qcsubmit-2/lib/python3.7/site-packages/qcsubmit/validators.py:300: UserWarning: The molecule C37H56N7O6 has a net charge of 1.0.\n",
      "  UserWarning,\n",
      "Preparation                   :  90%|████████▏| 665/736 [02:03<00:36,  1.97it/s]/home/david/.conda/envs/qcsubmit-2/lib/python3.7/site-packages/qcsubmit/validators.py:300: UserWarning: The molecule C35H45N6O8 has a net charge of -1.0.\n",
      "  UserWarning,\n",
      "Preparation                   :  91%|████████▏| 667/736 [02:04<00:29,  2.36it/s]/home/david/.conda/envs/qcsubmit-2/lib/python3.7/site-packages/qcsubmit/validators.py:300: UserWarning: The molecule C23H49N12O6 has a net charge of 3.0.\n",
      "  UserWarning,\n",
      "Preparation                   :  91%|████████▏| 670/736 [02:05<00:26,  2.50it/s]/home/david/.conda/envs/qcsubmit-2/lib/python3.7/site-packages/qcsubmit/validators.py:300: UserWarning: The molecule C28H46N9O8 has a net charge of 1.0.\n",
      "  UserWarning,\n",
      "Preparation                   : 100%|█████████| 736/736 [02:17<00:00,  5.35it/s]"
     ]
    },
    {
     "name": "stdout",
     "output_type": "stream",
     "text": [
      "Workflow complete; dataset generated.\n"
     ]
    },
    {
     "name": "stderr",
     "output_type": "stream",
     "text": [
      "\n"
     ]
    }
   ],
   "source": [
    "desc = \"OptimizationDataset of short peptides in various contexts, including disulfide bridges.\"\n",
    "name = \"OpenFF PEPCONF OptimizationDataset v1.0\"\n",
    "\n",
    "dataset = qcs_ds.create_dataset(\n",
    "    dataset_name=name,\n",
    "    molecules=mols,\n",
    "    description=desc,\n",
    "    tagline=desc,\n",
    ")\n",
    "print(\"Workflow complete; dataset generated.\")"
   ]
  },
  {
   "cell_type": "code",
   "execution_count": 12,
   "metadata": {},
   "outputs": [
    {
     "name": "stdout",
     "output_type": "stream",
     "text": [
      "Number of unique molecules        736\n",
      "Number of filtered molecules      5\n",
      "Number of conformers              7560\n",
      "Number of conformers min mean max 1  10.27 58\n"
     ]
    }
   ],
   "source": [
    "dataset.metadata.long_description_url = \"https://github.com/openforcefield/qca-dataset-submission/tree/master/submissions/2020-10-26-PEPCONF-Optimization\"\n",
    "dataset.metadata.long_description = \"OptimizationDataset of short peptides in various contexts, including disulfide bridges. The source PEPCONF dataset is documented in [Nature Scientific Data](https://www.nature.com/articles/sdata2018310), and available on [GitHub](https://github.com/aoterodelaroza/pepconf). This dataset extracts the molecules that were simulated, but uses the QCSubmit infrastructure to generate a new `OptimizationDataset`, so does not use the original conformers.\"\n",
    "dataset.metadata.submitter = 'dotsdl'\n",
    "\n",
    "confs = np.array([len(mol.conformers) for mol in dataset.molecules])\n",
    "print(\"Number of unique molecules       \", dataset.n_molecules)\n",
    "print(\"Number of filtered molecules     \", dataset.n_filtered)\n",
    "print(\"Number of conformers             \", dataset.n_records)\n",
    "print(\"Number of conformers min mean max\", \n",
    "      confs.min(), \"{:6.2f}\".format(confs.mean()), confs.max())\n",
    "\n",
    "dataset.export_dataset(\"dataset.json.bz2\")"
   ]
  },
  {
   "cell_type": "code",
   "execution_count": 13,
   "metadata": {},
   "outputs": [
    {
     "data": {
      "text/plain": [
       "{'C', 'H', 'N', 'O', 'S'}"
      ]
     },
     "execution_count": 13,
     "metadata": {},
     "output_type": "execute_result"
    }
   ],
   "source": [
    "dataset.metadata.elements"
   ]
  },
  {
   "cell_type": "raw",
   "metadata": {},
   "source": [
    "dataset = OptimizationDataset.parse_file(\"dataset.json.bz2\")"
   ]
  },
  {
   "cell_type": "code",
   "execution_count": 12,
   "metadata": {},
   "outputs": [],
   "source": [
    "dataset.visualize(\"molecules.pdf\", columns=3, toolkit=\"openeye\")"
   ]
  },
  {
   "cell_type": "code",
   "execution_count": 13,
   "metadata": {},
   "outputs": [
    {
     "data": {
      "text/plain": [
       "{'qcsubmit': 'v0.1.0', 'openforcefield': '0.8.0', 'rdkit': '2020.09.1'}"
      ]
     },
     "execution_count": 13,
     "metadata": {},
     "output_type": "execute_result"
    }
   ],
   "source": [
    "dataset.provenance"
   ]
  },
  {
   "cell_type": "code",
   "execution_count": 15,
   "metadata": {},
   "outputs": [],
   "source": [
    "# manual provenance fix\n",
    "import openeye\n",
    "dataset.provenance[\"openeye\"] = openeye.__version__"
   ]
  },
  {
   "cell_type": "code",
   "execution_count": 20,
   "metadata": {},
   "outputs": [],
   "source": [
    "dataset.metadata.submitter = 'jchodera'"
   ]
  },
  {
   "cell_type": "code",
   "execution_count": 21,
   "metadata": {},
   "outputs": [],
   "source": [
    "dataset.export_dataset(\"dataset.json.bz2\")"
   ]
  },
  {
   "cell_type": "code",
   "execution_count": 18,
   "metadata": {},
   "outputs": [],
   "source": [
    "dataset.molecules_to_file('molecules.smi', 'smi')"
   ]
  }
 ],
 "metadata": {
  "kernelspec": {
   "display_name": "Python 3",
   "language": "python",
   "name": "python3"
  },
  "language_info": {
   "codemirror_mode": {
    "name": "ipython",
    "version": 3
   },
   "file_extension": ".py",
   "mimetype": "text/x-python",
   "name": "python",
   "nbconvert_exporter": "python",
   "pygments_lexer": "ipython3",
   "version": "3.7.8"
  }
 },
 "nbformat": 4,
 "nbformat_minor": 4
}
