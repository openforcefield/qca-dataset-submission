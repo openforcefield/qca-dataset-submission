{
 "cells": [
  {
   "cell_type": "markdown",
   "metadata": {},
   "source": [
    "# PEPCONF - Throughput Troubleshooting"
   ]
  },
  {
   "cell_type": "code",
   "execution_count": 1,
   "metadata": {},
   "outputs": [],
   "source": [
    "import sys\n",
    "sys.path.append('../../management/')"
   ]
  },
  {
   "cell_type": "code",
   "execution_count": 2,
   "metadata": {},
   "outputs": [],
   "source": [
    "import management as mgt\n",
    "import pandas as pd"
   ]
  },
  {
   "cell_type": "code",
   "execution_count": 3,
   "metadata": {},
   "outputs": [],
   "source": [
    "import matplotlib.pyplot as plt"
   ]
  },
  {
   "cell_type": "code",
   "execution_count": 4,
   "metadata": {},
   "outputs": [],
   "source": [
    "from qcportal import FractalClient"
   ]
  },
  {
   "cell_type": "raw",
   "metadata": {},
   "source": [
    "client = FractalClient.from_file()"
   ]
  },
  {
   "cell_type": "code",
   "execution_count": 5,
   "metadata": {},
   "outputs": [],
   "source": [
    "client = FractalClient()"
   ]
  },
  {
   "cell_type": "code",
   "execution_count": 6,
   "metadata": {},
   "outputs": [],
   "source": [
    "ds = client.get_collection(\"OptimizationDataset\", \"OpenFF PEPCONF OptimizationDataset v1.0\")"
   ]
  },
  {
   "cell_type": "code",
   "execution_count": 7,
   "metadata": {},
   "outputs": [
    {
     "data": {
      "text/html": [
       "<div>\n",
       "<style scoped>\n",
       "    .dataframe tbody tr th:only-of-type {\n",
       "        vertical-align: middle;\n",
       "    }\n",
       "\n",
       "    .dataframe tbody tr th {\n",
       "        vertical-align: top;\n",
       "    }\n",
       "\n",
       "    .dataframe thead th {\n",
       "        text-align: right;\n",
       "    }\n",
       "</style>\n",
       "<table border=\"1\" class=\"dataframe\">\n",
       "  <thead>\n",
       "    <tr style=\"text-align: right;\">\n",
       "      <th></th>\n",
       "      <th>default</th>\n",
       "    </tr>\n",
       "  </thead>\n",
       "  <tbody>\n",
       "    <tr>\n",
       "      <th>INCOMPLETE</th>\n",
       "      <td>6670</td>\n",
       "    </tr>\n",
       "    <tr>\n",
       "      <th>COMPLETE</th>\n",
       "      <td>537</td>\n",
       "    </tr>\n",
       "    <tr>\n",
       "      <th>ERROR</th>\n",
       "      <td>353</td>\n",
       "    </tr>\n",
       "  </tbody>\n",
       "</table>\n",
       "</div>"
      ],
      "text/plain": [
       "            default\n",
       "INCOMPLETE     6670\n",
       "COMPLETE        537\n",
       "ERROR           353"
      ]
     },
     "execution_count": 7,
     "metadata": {},
     "output_type": "execute_result"
    }
   ],
   "source": [
    "ds.status('default')"
   ]
  },
  {
   "cell_type": "code",
   "execution_count": 8,
   "metadata": {},
   "outputs": [
    {
     "data": {
      "text/html": [
       "<div>\n",
       "<style scoped>\n",
       "    .dataframe tbody tr th:only-of-type {\n",
       "        vertical-align: middle;\n",
       "    }\n",
       "\n",
       "    .dataframe tbody tr th {\n",
       "        vertical-align: top;\n",
       "    }\n",
       "\n",
       "    .dataframe thead th {\n",
       "        text-align: right;\n",
       "    }\n",
       "</style>\n",
       "<table border=\"1\" class=\"dataframe\">\n",
       "  <thead>\n",
       "    <tr style=\"text-align: right;\">\n",
       "      <th></th>\n",
       "      <th>default</th>\n",
       "    </tr>\n",
       "  </thead>\n",
       "  <tbody>\n",
       "    <tr>\n",
       "      <th>CC(=O)N[C@@H](CCC(=O)[O-])C(=O)N[C@@H](Cc1ccccc1)C(N)=O-0</th>\n",
       "      <td>OptimizationRecord(id='31712605', status='INCO...</td>\n",
       "    </tr>\n",
       "    <tr>\n",
       "      <th>CC(=O)N[C@@H](CCC(=O)[O-])C(=O)N[C@@H](Cc1ccccc1)C(N)=O-1</th>\n",
       "      <td>OptimizationRecord(id='31712606', status='INCO...</td>\n",
       "    </tr>\n",
       "    <tr>\n",
       "      <th>CC(=O)N[C@@H](CO)C(=O)N[C@@H](CO)C(N)=O-0</th>\n",
       "      <td>OptimizationRecord(id='31712607', status='COMP...</td>\n",
       "    </tr>\n",
       "    <tr>\n",
       "      <th>CC[C@H](C)[C@H](NC(C)=O)C(=O)N[C@@H](Cc1ccccc1)C(N)=O-0</th>\n",
       "      <td>OptimizationRecord(id='31712608', status='INCO...</td>\n",
       "    </tr>\n",
       "    <tr>\n",
       "      <th>CC[C@H](C)[C@H](NC(C)=O)C(=O)N[C@@H](Cc1ccccc1)C(N)=O-1</th>\n",
       "      <td>OptimizationRecord(id='31712609', status='INCO...</td>\n",
       "    </tr>\n",
       "    <tr>\n",
       "      <th>...</th>\n",
       "      <td>...</td>\n",
       "    </tr>\n",
       "    <tr>\n",
       "      <th>CC(C)C[C@@H]1NC(=O)[C@H](C)NC(=O)[C@@H]2CCCN2C(=O)[C@H](CC(C)C)NC(=O)[C@H](C(C)C)NC(=O)[C@H](CC(C)C)NC(=O)[C@H](C(C)C)NC(=O)[C@H](CC(C)C)NC(=O)[C@H](CC(C)C)NC1=O-8</th>\n",
       "      <td>OptimizationRecord(id='31729737', status='INCO...</td>\n",
       "    </tr>\n",
       "    <tr>\n",
       "      <th>CC(C)C[C@@H]1NC(=O)[C@H](C)NC(=O)[C@@H]2CCCN2C(=O)[C@H](CC(C)C)NC(=O)[C@H](C(C)C)NC(=O)[C@H](CC(C)C)NC(=O)[C@H](C(C)C)NC(=O)[C@H](CC(C)C)NC(=O)[C@H](CC(C)C)NC1=O-9</th>\n",
       "      <td>OptimizationRecord(id='31729738', status='INCO...</td>\n",
       "    </tr>\n",
       "    <tr>\n",
       "      <th>CC(C)C[C@@H]1NC(=O)[C@H](C)NC(=O)[C@@H]2CCCN2C(=O)[C@H](CC(C)C)NC(=O)[C@H](C(C)C)NC(=O)[C@H](CC(C)C)NC(=O)[C@H](C(C)C)NC(=O)[C@H](CC(C)C)NC(=O)[C@H](CC(C)C)NC1=O-10</th>\n",
       "      <td>OptimizationRecord(id='31729739', status='INCO...</td>\n",
       "    </tr>\n",
       "    <tr>\n",
       "      <th>CC(C)C[C@@H]1NC(=O)[C@H](C)NC(=O)[C@@H]2CCCN2C(=O)[C@H](CC(C)C)NC(=O)[C@H](C(C)C)NC(=O)[C@H](CC(C)C)NC(=O)[C@H](C(C)C)NC(=O)[C@H](CC(C)C)NC(=O)[C@H](CC(C)C)NC1=O-11</th>\n",
       "      <td>OptimizationRecord(id='31729740', status='INCO...</td>\n",
       "    </tr>\n",
       "    <tr>\n",
       "      <th>CC(C)C[C@@H]1NC(=O)[C@H](C)NC(=O)[C@@H]2CCCN2C(=O)[C@H](CC(C)C)NC(=O)[C@H](C(C)C)NC(=O)[C@H](CC(C)C)NC(=O)[C@H](C(C)C)NC(=O)[C@H](CC(C)C)NC(=O)[C@H](CC(C)C)NC1=O-12</th>\n",
       "      <td>OptimizationRecord(id='31729741', status='INCO...</td>\n",
       "    </tr>\n",
       "  </tbody>\n",
       "</table>\n",
       "<p>7560 rows × 1 columns</p>\n",
       "</div>"
      ],
      "text/plain": [
       "                                                                                              default\n",
       "CC(=O)N[C@@H](CCC(=O)[O-])C(=O)N[C@@H](Cc1ccccc...  OptimizationRecord(id='31712605', status='INCO...\n",
       "CC(=O)N[C@@H](CCC(=O)[O-])C(=O)N[C@@H](Cc1ccccc...  OptimizationRecord(id='31712606', status='INCO...\n",
       "CC(=O)N[C@@H](CO)C(=O)N[C@@H](CO)C(N)=O-0           OptimizationRecord(id='31712607', status='COMP...\n",
       "CC[C@H](C)[C@H](NC(C)=O)C(=O)N[C@@H](Cc1ccccc1)...  OptimizationRecord(id='31712608', status='INCO...\n",
       "CC[C@H](C)[C@H](NC(C)=O)C(=O)N[C@@H](Cc1ccccc1)...  OptimizationRecord(id='31712609', status='INCO...\n",
       "...                                                                                               ...\n",
       "CC(C)C[C@@H]1NC(=O)[C@H](C)NC(=O)[C@@H]2CCCN2C(...  OptimizationRecord(id='31729737', status='INCO...\n",
       "CC(C)C[C@@H]1NC(=O)[C@H](C)NC(=O)[C@@H]2CCCN2C(...  OptimizationRecord(id='31729738', status='INCO...\n",
       "CC(C)C[C@@H]1NC(=O)[C@H](C)NC(=O)[C@@H]2CCCN2C(...  OptimizationRecord(id='31729739', status='INCO...\n",
       "CC(C)C[C@@H]1NC(=O)[C@H](C)NC(=O)[C@@H]2CCCN2C(...  OptimizationRecord(id='31729740', status='INCO...\n",
       "CC(C)C[C@@H]1NC(=O)[C@H](C)NC(=O)[C@@H]2CCCN2C(...  OptimizationRecord(id='31729741', status='INCO...\n",
       "\n",
       "[7560 rows x 1 columns]"
      ]
     },
     "execution_count": 8,
     "metadata": {},
     "output_type": "execute_result"
    }
   ],
   "source": [
    "ds.df"
   ]
  },
  {
   "cell_type": "code",
   "execution_count": 9,
   "metadata": {},
   "outputs": [],
   "source": [
    "opts = ds.df.default.tolist()"
   ]
  },
  {
   "cell_type": "code",
   "execution_count": 10,
   "metadata": {},
   "outputs": [],
   "source": [
    "prov = {opt.id: opt.provenance.dict() for opt in opts if opt.provenance}"
   ]
  },
  {
   "cell_type": "code",
   "execution_count": 11,
   "metadata": {},
   "outputs": [
    {
     "data": {
      "text/html": [
       "<div>\n",
       "<style scoped>\n",
       "    .dataframe tbody tr th:only-of-type {\n",
       "        vertical-align: middle;\n",
       "    }\n",
       "\n",
       "    .dataframe tbody tr th {\n",
       "        vertical-align: top;\n",
       "    }\n",
       "\n",
       "    .dataframe thead th {\n",
       "        text-align: right;\n",
       "    }\n",
       "</style>\n",
       "<table border=\"1\" class=\"dataframe\">\n",
       "  <thead>\n",
       "    <tr style=\"text-align: right;\">\n",
       "      <th></th>\n",
       "      <th>creator</th>\n",
       "      <th>version</th>\n",
       "      <th>routine</th>\n",
       "      <th>cpu</th>\n",
       "      <th>qcengine_version</th>\n",
       "      <th>hostname</th>\n",
       "      <th>wall_time</th>\n",
       "      <th>username</th>\n",
       "    </tr>\n",
       "  </thead>\n",
       "  <tbody>\n",
       "    <tr>\n",
       "      <th>31712607</th>\n",
       "      <td>geomeTRIC</td>\n",
       "      <td>0.9.7.2</td>\n",
       "      <td>geometric.run_json.geometric_run_json</td>\n",
       "      <td>Intel(R) Xeon(R) CPU E5-2697 v4 @ 2.30GHz</td>\n",
       "      <td>v0.17.0</td>\n",
       "      <td>lu10</td>\n",
       "      <td>9434.58</td>\n",
       "      <td>chodera</td>\n",
       "    </tr>\n",
       "    <tr>\n",
       "      <th>31712610</th>\n",
       "      <td>geomeTRIC</td>\n",
       "      <td>0.9.7.2</td>\n",
       "      <td>geometric.run_json.geometric_run_json</td>\n",
       "      <td>Intel(R) Xeon(R) Gold 6148 CPU @ 2.40GHz</td>\n",
       "      <td>v0.17.0</td>\n",
       "      <td>hpc3-15-23</td>\n",
       "      <td>6031.03</td>\n",
       "      <td>tgokey</td>\n",
       "    </tr>\n",
       "    <tr>\n",
       "      <th>31712612</th>\n",
       "      <td>geomeTRIC</td>\n",
       "      <td>0.9.7.2</td>\n",
       "      <td>geometric.run_json.geometric_run_json</td>\n",
       "      <td>AMD EPYC 7552 48-Core Processor</td>\n",
       "      <td>v0.17.0</td>\n",
       "      <td>openff-qca-qm-5599bddb8-djvcn</td>\n",
       "      <td>7382.73</td>\n",
       "      <td>qcfractal</td>\n",
       "    </tr>\n",
       "    <tr>\n",
       "      <th>31712613</th>\n",
       "      <td>geomeTRIC</td>\n",
       "      <td>0.9.7.2</td>\n",
       "      <td>geometric.run_json.geometric_run_json</td>\n",
       "      <td>AMD EPYC 7552 48-Core Processor</td>\n",
       "      <td>v0.17.0</td>\n",
       "      <td>openff-qca-qm-5599bddb8-djvcn</td>\n",
       "      <td>11072.4</td>\n",
       "      <td>qcfractal</td>\n",
       "    </tr>\n",
       "    <tr>\n",
       "      <th>31712619</th>\n",
       "      <td>geomeTRIC</td>\n",
       "      <td>0.9.7.2</td>\n",
       "      <td>geometric.run_json.geometric_run_json</td>\n",
       "      <td>Intel(R) Xeon(R) CPU           X5560  @ 2.80GHz</td>\n",
       "      <td>v0.17.0</td>\n",
       "      <td>c-8-16</td>\n",
       "      <td>9869.27</td>\n",
       "      <td>tgokey</td>\n",
       "    </tr>\n",
       "    <tr>\n",
       "      <th>...</th>\n",
       "      <td>...</td>\n",
       "      <td>...</td>\n",
       "      <td>...</td>\n",
       "      <td>...</td>\n",
       "      <td>...</td>\n",
       "      <td>...</td>\n",
       "      <td>...</td>\n",
       "      <td>...</td>\n",
       "    </tr>\n",
       "    <tr>\n",
       "      <th>31717898</th>\n",
       "      <td>geomeTRIC</td>\n",
       "      <td>0.9.7.2</td>\n",
       "      <td>geometric.run_json.geometric_run_json</td>\n",
       "      <td>AMD Opteron(TM) Processor 6276</td>\n",
       "      <td>v0.17.0</td>\n",
       "      <td>c-15-37</td>\n",
       "      <td>92485.2</td>\n",
       "      <td>tgokey</td>\n",
       "    </tr>\n",
       "    <tr>\n",
       "      <th>31717904</th>\n",
       "      <td>geomeTRIC</td>\n",
       "      <td>0.9.7.2</td>\n",
       "      <td>geometric.run_json.geometric_run_json</td>\n",
       "      <td>Intel(R) Xeon(R) CPU           X5560  @ 2.80GHz</td>\n",
       "      <td>v0.17.0</td>\n",
       "      <td>c-17-38</td>\n",
       "      <td>168582</td>\n",
       "      <td>tgokey</td>\n",
       "    </tr>\n",
       "    <tr>\n",
       "      <th>31717907</th>\n",
       "      <td>geomeTRIC</td>\n",
       "      <td>0.9.7.2</td>\n",
       "      <td>geometric.run_json.geometric_run_json</td>\n",
       "      <td>AMD EPYC 7552 48-Core Processor</td>\n",
       "      <td>v0.17.0</td>\n",
       "      <td>openff-qca-qm-5599bddb8-72gf2</td>\n",
       "      <td>32725</td>\n",
       "      <td>qcfractal</td>\n",
       "    </tr>\n",
       "    <tr>\n",
       "      <th>31717956</th>\n",
       "      <td>geomeTRIC</td>\n",
       "      <td>0.9.7.2</td>\n",
       "      <td>geometric.run_json.geometric_run_json</td>\n",
       "      <td>Intel(R) Xeon(R) CPU E5-2697 v4 @ 2.30GHz</td>\n",
       "      <td>v0.17.0</td>\n",
       "      <td>lu06</td>\n",
       "      <td>34048.3</td>\n",
       "      <td>chodera</td>\n",
       "    </tr>\n",
       "    <tr>\n",
       "      <th>31728982</th>\n",
       "      <td>geomeTRIC</td>\n",
       "      <td>0.9.7.2</td>\n",
       "      <td>geometric.run_json.geometric_run_json</td>\n",
       "      <td>Intel(R) Xeon(R) Gold 6148 CPU @ 2.40GHz</td>\n",
       "      <td>v0.17.0</td>\n",
       "      <td>hpc3-17-15</td>\n",
       "      <td>16927.2</td>\n",
       "      <td>tgokey</td>\n",
       "    </tr>\n",
       "  </tbody>\n",
       "</table>\n",
       "<p>537 rows × 8 columns</p>\n",
       "</div>"
      ],
      "text/plain": [
       "            creator  version                                routine  \\\n",
       "31712607  geomeTRIC  0.9.7.2  geometric.run_json.geometric_run_json   \n",
       "31712610  geomeTRIC  0.9.7.2  geometric.run_json.geometric_run_json   \n",
       "31712612  geomeTRIC  0.9.7.2  geometric.run_json.geometric_run_json   \n",
       "31712613  geomeTRIC  0.9.7.2  geometric.run_json.geometric_run_json   \n",
       "31712619  geomeTRIC  0.9.7.2  geometric.run_json.geometric_run_json   \n",
       "...             ...      ...                                    ...   \n",
       "31717898  geomeTRIC  0.9.7.2  geometric.run_json.geometric_run_json   \n",
       "31717904  geomeTRIC  0.9.7.2  geometric.run_json.geometric_run_json   \n",
       "31717907  geomeTRIC  0.9.7.2  geometric.run_json.geometric_run_json   \n",
       "31717956  geomeTRIC  0.9.7.2  geometric.run_json.geometric_run_json   \n",
       "31728982  geomeTRIC  0.9.7.2  geometric.run_json.geometric_run_json   \n",
       "\n",
       "                                                      cpu qcengine_version  \\\n",
       "31712607        Intel(R) Xeon(R) CPU E5-2697 v4 @ 2.30GHz          v0.17.0   \n",
       "31712610         Intel(R) Xeon(R) Gold 6148 CPU @ 2.40GHz          v0.17.0   \n",
       "31712612                  AMD EPYC 7552 48-Core Processor          v0.17.0   \n",
       "31712613                  AMD EPYC 7552 48-Core Processor          v0.17.0   \n",
       "31712619  Intel(R) Xeon(R) CPU           X5560  @ 2.80GHz          v0.17.0   \n",
       "...                                                   ...              ...   \n",
       "31717898                   AMD Opteron(TM) Processor 6276          v0.17.0   \n",
       "31717904  Intel(R) Xeon(R) CPU           X5560  @ 2.80GHz          v0.17.0   \n",
       "31717907                  AMD EPYC 7552 48-Core Processor          v0.17.0   \n",
       "31717956        Intel(R) Xeon(R) CPU E5-2697 v4 @ 2.30GHz          v0.17.0   \n",
       "31728982         Intel(R) Xeon(R) Gold 6148 CPU @ 2.40GHz          v0.17.0   \n",
       "\n",
       "                               hostname wall_time   username  \n",
       "31712607                           lu10   9434.58    chodera  \n",
       "31712610                     hpc3-15-23   6031.03     tgokey  \n",
       "31712612  openff-qca-qm-5599bddb8-djvcn   7382.73  qcfractal  \n",
       "31712613  openff-qca-qm-5599bddb8-djvcn   11072.4  qcfractal  \n",
       "31712619                         c-8-16   9869.27     tgokey  \n",
       "...                                 ...       ...        ...  \n",
       "31717898                        c-15-37   92485.2     tgokey  \n",
       "31717904                        c-17-38    168582     tgokey  \n",
       "31717907  openff-qca-qm-5599bddb8-72gf2     32725  qcfractal  \n",
       "31717956                           lu06   34048.3    chodera  \n",
       "31728982                     hpc3-17-15   16927.2     tgokey  \n",
       "\n",
       "[537 rows x 8 columns]"
      ]
     },
     "execution_count": 11,
     "metadata": {},
     "output_type": "execute_result"
    }
   ],
   "source": [
    "df_prov = pd.DataFrame(prov).T\n",
    "df_prov"
   ]
  },
  {
   "cell_type": "code",
   "execution_count": 12,
   "metadata": {},
   "outputs": [
    {
     "data": {
      "text/plain": [
       "tgokey       238\n",
       "chodera      182\n",
       "qcfractal    117\n",
       "Name: username, dtype: int64"
      ]
     },
     "execution_count": 12,
     "metadata": {},
     "output_type": "execute_result"
    }
   ],
   "source": [
    "df_prov.username.value_counts()"
   ]
  },
  {
   "cell_type": "code",
   "execution_count": 13,
   "metadata": {},
   "outputs": [],
   "source": [
    "df_prov['wall_time_hours'] = df_prov.wall_time.astype(float)/3600"
   ]
  },
  {
   "cell_type": "code",
   "execution_count": 14,
   "metadata": {},
   "outputs": [],
   "source": [
    "name_map = {'chodera': 'Lilac',\n",
    "            'qcfractal': 'PRP',\n",
    "            'tgokey': 'UCI'}"
   ]
  },
  {
   "cell_type": "code",
   "execution_count": 15,
   "metadata": {},
   "outputs": [],
   "source": [
    "df_prov['resource'] = df_prov['username'].apply(lambda x: name_map[x])"
   ]
  },
  {
   "cell_type": "markdown",
   "metadata": {},
   "source": [
    "## Walltime distributions by resource"
   ]
  },
  {
   "cell_type": "code",
   "execution_count": 22,
   "metadata": {},
   "outputs": [
    {
     "data": {
      "image/png": "[encoded data removed]",
      "text/plain": [
       "<Figure size 864x576 with 1 Axes>"
      ]
     },
     "metadata": {
      "needs_background": "light"
     },
     "output_type": "display_data"
    }
   ],
   "source": [
    "fig, ax = plt.subplots()\n",
    "\n",
    "(df_prov.groupby('resource').wall_time_hours).plot.hist(bins=20, histtype='step', legend=True, figsize=(12, 8), ax=ax)\n",
    "\n",
    "ax.set_xlabel(\"Walltime (hours)\")\n",
    "\n",
    "fig.tight_layout()\n",
    "fig.savefig('walltime.pdf', dpi=300)"
   ]
  },
  {
   "cell_type": "code",
   "execution_count": 17,
   "metadata": {},
   "outputs": [
    {
     "data": {
      "text/plain": [
       "count    537.000000\n",
       "mean       9.440686\n",
       "std        9.458985\n",
       "min        0.353987\n",
       "25%        3.830847\n",
       "50%        6.763941\n",
       "75%       10.745738\n",
       "max       66.259650\n",
       "Name: wall_time_hours, dtype: float64"
      ]
     },
     "execution_count": 17,
     "metadata": {},
     "output_type": "execute_result"
    }
   ],
   "source": [
    "df_prov.wall_time_hours.describe()"
   ]
  },
  {
   "cell_type": "markdown",
   "metadata": {},
   "source": [
    "## Measuring Throughput"
   ]
  },
  {
   "cell_type": "code",
   "execution_count": 23,
   "metadata": {},
   "outputs": [],
   "source": [
    "modified_on = {opt.id: opt.modified_on for opt in opts if opt.provenance}"
   ]
  },
  {
   "cell_type": "code",
   "execution_count": 24,
   "metadata": {},
   "outputs": [],
   "source": [
    "df_prov['modified_on'] = pd.Series(modified_on)"
   ]
  },
  {
   "cell_type": "code",
   "execution_count": 25,
   "metadata": {},
   "outputs": [
    {
     "name": "stderr",
     "output_type": "stream",
     "text": [
      "/home/david/.conda/envs/qcsubmit-2/lib/python3.7/site-packages/ipykernel_launcher.py:1: FutureWarning: Treating datetime data as categorical rather than numeric in `.describe` is deprecated and will be removed in a future version of pandas. Specify `datetime_is_numeric=True` to silence this warning and adopt the future behavior now.\n",
      "  \"\"\"Entry point for launching an IPython kernel.\n"
     ]
    },
    {
     "data": {
      "text/plain": [
       "count                            537\n",
       "unique                           532\n",
       "top       2020-11-22 15:43:48.136388\n",
       "freq                               2\n",
       "first     2020-11-14 21:17:24.092340\n",
       "last      2020-11-22 23:11:29.143949\n",
       "Name: modified_on, dtype: object"
      ]
     },
     "execution_count": 25,
     "metadata": {},
     "output_type": "execute_result"
    }
   ],
   "source": [
    "df_prov.modified_on.describe()"
   ]
  },
  {
   "cell_type": "code",
   "execution_count": 26,
   "metadata": {},
   "outputs": [
    {
     "data": {
      "image/png": "[encoded data removed]",
      "text/plain": [
       "<Figure size 864x576 with 1 Axes>"
      ]
     },
     "metadata": {
      "needs_background": "light"
     },
     "output_type": "display_data"
    }
   ],
   "source": [
    "fig, ax = plt.subplots(figsize=(12, 8))\n",
    "\n",
    "name_map = {'chodera': 'Lilac',\n",
    "            'qcfractal': 'PRP',\n",
    "            'tgokey': 'UCI'}\n",
    "counts = {}\n",
    "for name, group in df_prov.reset_index().set_index('modified_on').groupby('username'):\n",
    "    counts[name_map[name]] = group.groupby((pd.Grouper(freq='D')))['index'].count()\n",
    "\n",
    "counts = pd.DataFrame(counts)\n",
    "counts.plot.area(ax=ax)\n",
    "ax.legend()\n",
    "\n",
    "ax.set_ylabel(\"# Optimizations Completed\")\n",
    "ax.set_xlabel(\"Date\")\n",
    "\n",
    "fig.tight_layout()\n",
    "fig.savefig('throughput.pdf', dpi=300)"
   ]
  },
  {
   "cell_type": "code",
   "execution_count": 27,
   "metadata": {},
   "outputs": [
    {
     "data": {
      "image/png": "[encoded data removed]",
      "text/plain": [
       "<Figure size 864x576 with 1 Axes>"
      ]
     },
     "metadata": {
      "needs_background": "light"
     },
     "output_type": "display_data"
    }
   ],
   "source": [
    "fig, ax = plt.subplots(figsize=(12, 8))\n",
    "\n",
    "name_map = {'chodera': 'Lilac',\n",
    "            'qcfractal': 'PRP',\n",
    "            'tgokey': 'UCI'}\n",
    "counts = {}\n",
    "for name, group in df_prov.reset_index().set_index('modified_on').groupby('username'):\n",
    "    counts[name_map[name]] = group.groupby((pd.Grouper(freq='D')))['index'].count()\n",
    "\n",
    "counts = pd.DataFrame(counts).cumsum()\n",
    "counts.plot.area(ax=ax)\n",
    "ax.legend()\n",
    "\n",
    "ax.set_ylabel(\"# Optimizations Completed\")\n",
    "ax.set_xlabel(\"Date\")\n",
    "\n",
    "fig.tight_layout()\n",
    "fig.savefig('throughput_cumulative.pdf', dpi=300)"
   ]
  },
  {
   "cell_type": "markdown",
   "metadata": {},
   "source": [
    "## Findings and Recommendations"
   ]
  },
  {
   "cell_type": "markdown",
   "metadata": {},
   "source": [
    "Findings:\n",
    "1. Throughput is increasing on this dataset.\n",
    "2. Trevor's managers are largely responsible for this dataset's advancement.\n",
    "3. Mean execution time across resources is 13 hours. Can vary upward by up to 60 hours.\n",
    "\n",
    "Recommendations:\n",
    "1. Up priority to \"high\" for this dataset for now. Examine if this increases throughput for each resource.\n",
    "2. Increase John's commitment of QM workers."
   ]
  },
  {
   "cell_type": "markdown",
   "metadata": {},
   "source": [
    "## Upping priority"
   ]
  },
  {
   "cell_type": "code",
   "execution_count": 74,
   "metadata": {},
   "outputs": [],
   "source": [
    "from qcportal.models.task_models import PriorityEnum"
   ]
  },
  {
   "cell_type": "code",
   "execution_count": 109,
   "metadata": {},
   "outputs": [],
   "source": [
    "incomplete = [opt for opt in opts if opt.status != 'COMPLETE']"
   ]
  },
  {
   "cell_type": "code",
   "execution_count": 110,
   "metadata": {},
   "outputs": [
    {
     "data": {
      "text/plain": [
       "7315"
      ]
     },
     "execution_count": 110,
     "metadata": {},
     "output_type": "execute_result"
    }
   ],
   "source": [
    "len(incomplete)"
   ]
  },
  {
   "cell_type": "raw",
   "metadata": {},
   "source": [
    "mgt.reprioritize_optimizations(incomplete, client, PriorityEnum.HIGH)"
   ]
  }
 ],
 "metadata": {
  "kernelspec": {
   "display_name": "Python 3",
   "language": "python",
   "name": "python3"
  },
  "language_info": {
   "codemirror_mode": {
    "name": "ipython",
    "version": 3
   },
   "file_extension": ".py",
   "mimetype": "text/x-python",
   "name": "python",
   "nbconvert_exporter": "python",
   "pygments_lexer": "ipython3",
   "version": "3.7.8"
  }
 },
 "nbformat": 4,
 "nbformat_minor": 4
}
