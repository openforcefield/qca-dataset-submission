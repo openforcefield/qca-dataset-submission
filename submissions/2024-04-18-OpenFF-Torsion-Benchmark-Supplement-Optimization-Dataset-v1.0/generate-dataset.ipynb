{
 "cells": [
  {
   "cell_type": "code",
   "execution_count": 1,
   "id": "f4124078-b36c-4892-9c08-15be75f6288b",
   "metadata": {},
   "outputs": [
    {
     "name": "stdout",
     "output_type": "stream",
     "text": [
      "env: OE_LICENSE=/home/brent/oe_license.txt\n"
     ]
    }
   ],
   "source": [
    "%env OE_LICENSE=/home/brent/oe_license.txt"
   ]
  },
  {
   "cell_type": "code",
   "execution_count": 2,
   "id": "d600400a-075d-4a1e-a71a-30a981af4dd7",
   "metadata": {},
   "outputs": [],
   "source": [
    "from pprint import pprint\n",
    "\n",
    "import qcportal\n",
    "\n",
    "from openff.toolkit import Molecule, ForceField\n",
    "from openff.qcsubmit.datasets import OptimizationDataset\n",
    "from openff.qcsubmit.factories import OptimizationDatasetFactory\n",
    "\n",
    "import numpy as np"
   ]
  },
  {
   "cell_type": "code",
   "execution_count": 3,
   "id": "455fdad4-1939-4dd5-8909-088f1e187cff",
   "metadata": {},
   "outputs": [],
   "source": [
    "ff = ForceField(\"tm-2.2.offxml\")"
   ]
  },
  {
   "cell_type": "code",
   "execution_count": 4,
   "id": "82fd16df-7136-493d-a9ed-b1b3dd3cf27a",
   "metadata": {},
   "outputs": [],
   "source": [
    "mols = []\n",
    "with open(\"all.smiles\") as inp:\n",
    "    for line in inp:\n",
    "        [pid, smiles] = line.split()\n",
    "        mol = Molecule.from_smiles(smiles, allow_undefined_stereo=True)\n",
    "        labels = ff.label_molecules(mol.to_topology())[0][\"ProperTorsions\"]\n",
    "        assert pid in [p.id for p in labels.values()]\n",
    "        mols.append(mol)"
   ]
  },
  {
   "cell_type": "code",
   "execution_count": 5,
   "id": "09292ad4-eef2-44ca-88ef-14a078f7d010",
   "metadata": {},
   "outputs": [
    {
     "name": "stdout",
     "output_type": "stream",
     "text": [
      "56 molecules\n",
      "51 unique molecules\n"
     ]
    },
    {
     "name": "stderr",
     "output_type": "stream",
     "text": [
      "Warning: bond stereochemistry may be assigned incorrectly for molecule \n"
     ]
    }
   ],
   "source": [
    "print(f\"{len(mols)} molecules\")\n",
    "print(f\"{len({mol.to_smiles() for mol in mols})} unique molecules\")"
   ]
  },
  {
   "cell_type": "code",
   "execution_count": 6,
   "id": "7b64c224-1fda-4193-a124-738396f6ba1a",
   "metadata": {},
   "outputs": [],
   "source": [
    "dataset = OptimizationDataset(\n",
    "    dataset_name=\"OpenFF Torsion Benchmark Supplement Optimization Dataset v1.0\",\n",
    "    dataset_tagline=\"B3LYP-D3BJ/DZVP optimization of molecules to increase proper torsion testing coverage.\",\n",
    "    description=\"Additional benchmarking data for Sage 2.2.0 proper torsions and new parameters from the torsion multiplicity work\",\n",
    ")\n",
    "dataset.metadata.submitter = \"ntBre\"\n",
    "dataset.metadata.long_description_url = (\n",
    "    \"https://github.com/openforcefield/qca-dataset-submission/tree/master/\"\n",
    "    \"submissions/\"\n",
    "    \"2024-04-18-OpenFF-Torsion-Benchmark-Supplement-Optimization-Dataset-v1.0\"\n",
    ")"
   ]
  },
  {
   "cell_type": "code",
   "execution_count": 7,
   "id": "2cf0d098-2df4-4a51-90c2-e227d9361c2e",
   "metadata": {
    "scrolled": true
   },
   "outputs": [
    {
     "name": "stderr",
     "output_type": "stream",
     "text": [
      "Warning: : Failed due to unspecified stereochemistry\n",
      "Warning: : Failed due to unspecified stereochemistry\n",
      "Warning: : Failed due to unspecified stereochemistry\n",
      "Warning: : Failed due to unspecified stereochemistry\n",
      "Warning: bond stereochemistry may be assigned incorrectly for molecule \n",
      "Warning: bond stereochemistry may be assigned incorrectly for molecule \n",
      "Warning: bond stereochemistry may be assigned incorrectly for molecule \n",
      "Warning: : Failed due to unspecified stereochemistry\n",
      "Warning: : Failed due to unspecified stereochemistry\n",
      "Warning: OEMMFFParams::PrepMol() : unable to type atom 12 S on residue UNL-1\n",
      "Warning: : Force field setup failed due to missing parameters\n",
      "Warning: OEMMFFParams::PrepMol() : unable to type atom 12 S on residue UNL-1\n",
      "Warning: : Force field setup failed due to missing parameters\n",
      "Warning: OEMMFFParams::PrepMol() : unable to type atom 12 S on residue UNL-1\n",
      "Warning: : Force field setup failed due to missing parameters\n",
      "Warning: OEMMFFParams::PrepMol() : unable to type atom 12 S on residue UNL-1\n",
      "Warning: : Force field setup failed due to missing parameters\n",
      "Warning: OEMMFFParams::PrepMol() : unable to type atom 9 S on residue UNL-1\n",
      "Warning: : Force field setup failed due to missing parameters\n",
      "Warning: OEMMFFParams::PrepMol() : unable to type atom 9 S on residue UNL-1\n",
      "Warning: : Force field setup failed due to missing parameters\n",
      "Warning: : Failed due to unspecified stereochemistry\n",
      "Warning: OEMMFFParams::PrepMol() : unable to type atom 13 S on residue UNL-1\n",
      "Warning: : Force field setup failed due to missing parameters\n",
      "[15:46:41] UFFTYPER: Unrecognized charge state for atom: 13\n",
      "Warning: : Failed due to unspecified stereochemistry\n",
      "Warning: OEMMFFParams::PrepMol() : unable to type atom 13 S on residue UNL-1\n",
      "Warning: : Force field setup failed due to missing parameters\n",
      "[15:46:41] UFFTYPER: Unrecognized charge state for atom: 13\n",
      "Warning: OEMMFFParams::PrepMol() : unable to type atom 11 S on residue UNL-1\n",
      "Warning: : Force field setup failed due to missing parameters\n",
      "Warning: OEMMFFParams::PrepMol() : unable to type atom 11 S on residue UNL-1\n",
      "Warning: : Force field setup failed due to missing parameters\n",
      "[15:46:41] UFFTYPER: Unrecognized charge state for atom: 11\n",
      "Warning: : Failed due to unspecified stereochemistry\n",
      "Warning: OEMMFFParams::PrepMol() : unable to type atom 7 S on residue UNL-1\n",
      "Warning: : Force field setup failed due to missing parameters\n",
      "Warning: : Failed due to unspecified stereochemistry\n",
      "Warning: OEMMFFParams::PrepMol() : unable to type atom 4 S on residue UNL-1\n",
      "Warning: : Force field setup failed due to missing parameters\n",
      "Warning: : Failed due to unspecified stereochemistry\n",
      "Warning: : Failed due to unspecified stereochemistry\n",
      "Warning: : Failed due to unspecified stereochemistry\n",
      "Warning: : Failed due to unspecified stereochemistry\n",
      "Warning: : Failed due to unspecified stereochemistry\n",
      "Warning: : Failed due to unspecified stereochemistry\n",
      "Warning: OEMMFFParams::PrepMol() : unable to type atom 7 S on residue UNL-1\n",
      "Warning: : Force field setup failed due to missing parameters\n",
      "Warning: : Failed due to unspecified stereochemistry\n",
      "Warning: OEMMFFParams::PrepMol() : unable to type atom 31 S on residue UNL-1\n",
      "Warning: : Force field setup failed due to missing parameters\n",
      "[15:46:45] UFFTYPER: Unrecognized charge state for atom: 31\n",
      "Warning: : Failed due to unspecified stereochemistry\n",
      "Warning: OEMMFFParams::PrepMol() : unable to type atom 13 S on residue UNL-1\n",
      "Warning: : Force field setup failed due to missing parameters\n",
      "[15:46:45] UFFTYPER: Unrecognized charge state for atom: 13\n",
      "Warning: : Failed due to unspecified stereochemistry\n",
      "Warning: OEMMFFParams::PrepMol() : unable to type atom 13 S on residue UNL-1\n",
      "Warning: : Force field setup failed due to missing parameters\n",
      "[15:46:45] UFFTYPER: Unrecognized charge state for atom: 13\n",
      "Warning: OEMMFFParams::PrepMol() : unable to type atom 11 S on residue UNL-1\n",
      "Warning: : Force field setup failed due to missing parameters\n",
      "Warning: OEMMFFParams::PrepMol() : unable to type atom 11 S on residue UNL-1\n",
      "Warning: : Force field setup failed due to missing parameters\n",
      "[15:46:46] UFFTYPER: Unrecognized charge state for atom: 11\n",
      "Warning: : Failed due to unspecified stereochemistry\n",
      "Warning: : Failed due to unspecified stereochemistry\n"
     ]
    }
   ],
   "source": [
    "dataset_factory = OptimizationDatasetFactory()\n",
    "for mol in mols:\n",
    "    dataset.add_molecule(dataset_factory.create_index(molecule=mol), mol)"
   ]
  },
  {
   "cell_type": "code",
   "execution_count": 8,
   "id": "d6511140-542e-4ec2-8517-801ba806f363",
   "metadata": {},
   "outputs": [
    {
     "name": "stdout",
     "output_type": "stream",
     "text": [
      "Number of unique molecules        51\n",
      "Number of filtered molecules      0\n",
      "Number of conformers              51\n",
      "Number of conformers min mean max 1   1.00 1\n",
      "Mean molecular weight: 259.38\n",
      "Max molecular weight: 508.31\n",
      "Charges: [-1.0, 0.0, 1.0, 2.0]\n"
     ]
    }
   ],
   "source": [
    "confs = np.array([len(mol.conformers) for mol in dataset.molecules])\n",
    "\n",
    "print(\"Number of unique molecules       \", dataset.n_molecules)\n",
    "print(\"Number of filtered molecules     \", dataset.n_filtered)\n",
    "print(\"Number of conformers             \", dataset.n_records)\n",
    "print(\"Number of conformers min mean max\",\n",
    "      confs.min(), \"{:6.2f}\".format(confs.mean()), confs.max())\n",
    "\n",
    "masses = [\n",
    "    [\n",
    "        sum([atom.mass.m for atom in molecule.atoms])\n",
    "        for molecule in dataset.molecules\n",
    "    ]\n",
    "]\n",
    "print(f'Mean molecular weight: {np.mean(np.array(masses)):.2f}')\n",
    "print(f'Max molecular weight: {np.max(np.array(masses)):.2f}')\n",
    "print(\"Charges:\", sorted(set(m.total_charge.m for m in dataset.molecules)))"
   ]
  },
  {
   "cell_type": "code",
   "execution_count": 9,
   "id": "5e7f831b-54a2-44a5-aae3-66393b2dd8e4",
   "metadata": {},
   "outputs": [
    {
     "name": "stdout",
     "output_type": "stream",
     "text": [
      "{'collection_type': 'OptimizationDataset',\n",
      " 'creation_date': datetime.date(2024, 4, 18),\n",
      " 'dataset_name': 'OpenFF Torsion Benchmark Supplement Optimization Dataset v1.0',\n",
      " 'elements': {'H', 'C', 'F', 'Cl', 'Br', 'N', 'S', 'O', 'P'},\n",
      " 'long_description': 'Additional benchmarking data for Sage 2.2.0 proper '\n",
      "                     'torsions and new parameters from the torsion '\n",
      "                     'multiplicity work',\n",
      " 'long_description_url': HttpUrl('https://github.com/openforcefield/qca-dataset-submission/tree/master/submissions/2024-04-18-OpenFF-Torsion-Benchmark-Supplement-v1.0', ),\n",
      " 'short_description': 'B3LYP-D3BJ/DZVP optimization of molecules to increase '\n",
      "                      'proper torsion testing coverage.',\n",
      " 'submitter': 'ntBre'}\n"
     ]
    }
   ],
   "source": [
    "pprint(dataset.metadata.dict())"
   ]
  },
  {
   "cell_type": "markdown",
   "id": "b8f108e7-37a0-4eb9-90d6-b15efadf4d68",
   "metadata": {},
   "source": [
    "# Exporting dataset"
   ]
  },
  {
   "cell_type": "code",
   "execution_count": 10,
   "id": "d3481af2-0391-480e-99bd-b96660000156",
   "metadata": {},
   "outputs": [
    {
     "name": "stdout",
     "output_type": "stream",
     "text": [
      "{'default': QCSpec(method='B3LYP-D3BJ', basis='DZVP', program='psi4', spec_name='default', spec_description='Standard OpenFF optimization quantum chemistry specification.', store_wavefunction=<WavefunctionProtocolEnum.none: 'none'>, implicit_solvent=None, maxiter=200, scf_properties=[<SCFProperties.Dipole: 'dipole'>, <SCFProperties.Quadrupole: 'quadrupole'>, <SCFProperties.WibergLowdinIndices: 'wiberg_lowdin_indices'>, <SCFProperties.MayerIndices: 'mayer_indices'>], keywords={})}\n"
     ]
    }
   ],
   "source": [
    "dataset.export_dataset(\"dataset.json.bz2\")\n",
    "dataset.molecules_to_file('dataset.smi', 'smi')\n",
    "dataset.visualize(\"dataset.pdf\", columns=8)\n",
    "\n",
    "print(dataset.qc_specifications)"
   ]
  },
  {
   "cell_type": "code",
   "execution_count": null,
   "id": "d76ca73a-c16e-414e-982b-2bef746b9b1e",
   "metadata": {},
   "outputs": [],
   "source": []
  }
 ],
 "metadata": {
  "kernelspec": {
   "display_name": "Python 3 (ipykernel)",
   "language": "python",
   "name": "python3"
  },
  "language_info": {
   "codemirror_mode": {
    "name": "ipython",
    "version": 3
   },
   "file_extension": ".py",
   "mimetype": "text/x-python",
   "name": "python",
   "nbconvert_exporter": "python",
   "pygments_lexer": "ipython3",
   "version": "3.11.7"
  }
 },
 "nbformat": 4,
 "nbformat_minor": 5
}
