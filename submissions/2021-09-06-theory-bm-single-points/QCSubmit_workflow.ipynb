{
 "cells": [
  {
   "cell_type": "code",
   "execution_count": 1,
   "id": "e1d88722",
   "metadata": {},
   "outputs": [],
   "source": [
    "import openff.qcsubmit\n",
    "import qcportal as ptl\n",
    "import numpy as np\n",
    "\n",
    "from openff.toolkit.topology import Molecule\n",
    "from openff.qcsubmit.datasets import BasicDataset"
   ]
  },
  {
   "cell_type": "code",
   "execution_count": 2,
   "id": "474022c6",
   "metadata": {},
   "outputs": [],
   "source": [
    "openff.qcsubmit.__version__\n",
    "client = ptl.FractalClient()"
   ]
  },
  {
   "cell_type": "code",
   "execution_count": 3,
   "id": "424249ae",
   "metadata": {},
   "outputs": [],
   "source": [
    "import pickle\n",
    "import json\n",
    "def download_torsiondrive_data(dataset_name):\n",
    "    # load dataset from public qcfractal server\n",
    "    ds = client.get_collection(\"TorsionDriveDataset\", dataset_name)\n",
    "    spec_name = \"MP2/heavy-aug-cc-pVTZ\" #Reference specification\n",
    "    print(f\"Loading TorsionDrive Scans from [ {dataset_name} ] spec [{spec_name}]\")\n",
    "    print(f\"Found {len(ds.df)} data entries\")\n",
    "    # load torsiondrive record ids from the dataset\n",
    "    map_record_id_entry_index = {}\n",
    "    for entry_index in ds.df.index:\n",
    "        data_entry = ds.get_entry(entry_index)\n",
    "        td_record_id = data_entry.object_map[spec_name]\n",
    "        map_record_id_entry_index[td_record_id] = entry_index, data_entry.attributes\n",
    "    print(f\"Found {len(map_record_id_entry_index)} torsiondrive records\")\n",
    "    # query all torsiondrive records at the same time\n",
    "    td_record_ids = list(map_record_id_entry_index.keys())\n",
    "    torsiondrive_data = {}\n",
    "    for i, td_record in enumerate(client.query_procedures(id=td_record_ids), 1):\n",
    "        entry_index, attributes = map_record_id_entry_index[td_record.id]\n",
    "        print(f\"{i:5d} : {entry_index:50s} status {td_record.status}\")\n",
    "        if td_record.status == 'COMPLETE':\n",
    "            torsiondrive_data[entry_index] = {\n",
    "                'initial_molecules': client.query_molecules(td_record.initial_molecule),\n",
    "                'final_molecules': td_record.get_final_molecules(),\n",
    "                'final_energies': td_record.get_final_energies(),\n",
    "                'final_gradients': {gid: np.array(res.return_result) for gid, res in td_record.get_final_results().items()},\n",
    "                'keywords': td_record.keywords.dict(),\n",
    "                'attributes': attributes,\n",
    "            }\n",
    "    print(f'Downloaded torsion drive data for {len(torsiondrive_data)} completed entries')\n",
    "    # save as pickle file\n",
    "    with open('torsiondrive_data.pickle', 'wb') as pfile:\n",
    "        pickle.dump(torsiondrive_data, pfile)\n",
    "    return torsiondrive_data"
   ]
  },
  {
   "cell_type": "code",
   "execution_count": 4,
   "id": "738d382a",
   "metadata": {},
   "outputs": [
    {
     "name": "stdout",
     "output_type": "stream",
     "text": [
      "Loading TorsionDrive Scans from [ OpenFF Theory Benchmarking Set v1.0 ] spec [MP2/heavy-aug-cc-pVTZ]\n",
      "Found 59 data entries\n",
      "Found 59 torsiondrive records\n",
      "    1 : [H]c1c(c(c(c(c1[H])[H])[N-][S:3](=[O:4])(=O)[c:2]2[c:1](c(c(c(c2[H])[H])[H])[H])[H])[H])[H] status COMPLETE\n",
      "    2 : [H]c1c(c([c:1](c(c1[H])[H])[N-:2][S:3](=[O:4])(=O)c2c(c(c(c(c2[H])[H])[H])[H])[H])[H])[H] status COMPLETE\n",
      "    3 : [H]c1c([c:1]([c:2](c(c1[H])[H])[N-:3][S:4](=O)(=O)c2c(c(c(c(c2[H])[H])[H])[H])[H])[H])[H] status COMPLETE\n",
      "    4 : [H]c1c(c([n:1][c:2](c1[H])[N-:3][C:4]2=NC(=C(O2)[H])[H])[H])[H] status COMPLETE\n",
      "    5 : [H]c1c(c(n[c:4](c1[H])[N-:3][C:2]2=NC(=C([O:1]2)[H])[H])[H])[H] status COMPLETE\n",
      "    6 : [H]c1c(c([n+](c(c1[H])C2=NC(=[C:4]([N:3]2[C:2]([H:1])([H])[H])[H])[H])[H])[H])[H] status COMPLETE\n",
      "    7 : [H]c1c(c([n+:1]([c:2](c1[H])[C:3]2=[N:4]C(=C(N2C([H])([H])[H])[H])[H])[H])[H])[H] status COMPLETE\n",
      "    8 : [H]c1c([c:1]([c:2](c(c1[H])[H])[c:3]2[c:4](c(c(c(c2[N+]([H])([H])[H])[H])[H])[H])[H])[H])[H] status COMPLETE\n",
      "    9 : [H]c1c(c(c(c(c1[H])[H])c2c(c(c([c:1]([c:2]2[N+:3]([H:4])([H])[H])[H])[H])[H])[H])[H])[H] status COMPLETE\n",
      "   10 : [H]c1c([c:1]([c:2](c(c1[H])[H])[S@:3](=[N-])(=[O:4])C([H])([H])[H])[H])[H] status COMPLETE\n",
      "   11 : [H]c1c(c(c(c(c1[H])[H])[S@:3](=[N-])(=[O:4])[C:2]([H:1])([H])[H])[H])[H] status COMPLETE\n",
      "   12 : [H]c1c(c(c([c:2]([c:1]1[H])[C:3]([H:4])([H])[H])[N+]2(C(C(N(C(C2([H])[H])([H])[H])[H])([H])[H])([H])[H])[H])[H])[H] status COMPLETE\n",
      "   13 : [H]c1c([c:1]([c:2](c(c1[H])C([H])([H])[H])[N+:3]2([C:4](C(N(C(C2([H])[H])([H])[H])[H])([H])[H])([H])[H])[H])[H])[H] status COMPLETE\n",
      "   14 : [H]c1c(c(c([c:2]([c:1]1[H])[C:3]([H:4])([H])[H])N2C(C([N+](C(C2([H])[H])([H])[H])([H])[H])([H])[H])([H])[H])[H])[H] status COMPLETE\n",
      "   15 : [H]c1c([c:1]([c:2](c(c1[H])C([H])([H])[H])[N:3]2[C:4](C([N+](C(C2([H])[H])([H])[H])([H])[H])([H])[H])([H])[H])[H])[H] status COMPLETE\n",
      "   16 : [H]c1c(c(c(c(c1[H])[C:2](=[O:1])[N:3]([H])[C:4]([H])([H])[H])[O-])[H])[H] status COMPLETE\n",
      "   17 : [H]c1c(c(c(c(c1[H])[C:4](=O)[N:3]([H])[C:2]([H:1])([H])[H])[O-])[H])[H] status COMPLETE\n",
      "   18 : [H]c1c(c(c([c:2]([c:1]1[H])[C:3](=[O:4])N([H])C([H])([H])[H])[O-])[H])[H] status COMPLETE\n",
      "   19 : [H]c1c([c:1]([c:2](c(c1[H])[H])[N:3]([H])[C:4](=O)[N-]c2c(c(c(c(n2)[H])[H])[H])C([H])([H])[H])[H])[H] status COMPLETE\n",
      "   20 : [H]c1c(c(c(c(c1[H])[H])N([H])C(=O)[N-]c2[c:2]([c:1](c(c(n2)[H])[H])[H])[C:3]([H:4])([H])[H])[H])[H] status COMPLETE\n",
      "   21 : [H]c1c(c(c(c(c1[H])[H])N([H])[C:4](=O)[N-:3][c:2]2c(c(c(c([n:1]2)[H])[H])[H])C([H])([H])[H])[H])[H] status COMPLETE\n",
      "   22 : [H]c1c(c(c(c(c1[H])[H])N([H])[C:2](=[O:1])[N-:3][c:4]2c(c(c(c(n2)[H])[H])[H])C([H])([H])[H])[H])[H] status COMPLETE\n",
      "   23 : [H]c1c(c([c:4](c(c1[H])[H])[N:3]([H])[C:2](=[O:1])[N-]c2c(c(c(c(n2)[H])[H])[H])C([H])([H])[H])[H])[H] status COMPLETE\n",
      "   24 : 0                                                  status COMPLETE\n",
      "   25 : 1                                                  status COMPLETE\n",
      "   26 : 2                                                  status COMPLETE\n",
      "   27 : 3                                                  status COMPLETE\n",
      "   28 : 4                                                  status COMPLETE\n",
      "   29 : 5                                                  status COMPLETE\n",
      "   30 : 6                                                  status COMPLETE\n",
      "   31 : 7                                                  status COMPLETE\n",
      "   32 : 8                                                  status COMPLETE\n",
      "   33 : 9                                                  status COMPLETE\n",
      "   34 : 10                                                 status COMPLETE\n",
      "   35 : 11                                                 status COMPLETE\n",
      "   36 : 12                                                 status COMPLETE\n",
      "   37 : 13                                                 status COMPLETE\n",
      "   38 : 14                                                 status COMPLETE\n",
      "   39 : 15                                                 status COMPLETE\n",
      "   40 : 16                                                 status COMPLETE\n",
      "   41 : 17                                                 status COMPLETE\n",
      "   42 : 18                                                 status COMPLETE\n",
      "   43 : 19                                                 status COMPLETE\n",
      "   44 : 20                                                 status COMPLETE\n",
      "   45 : 21                                                 status COMPLETE\n",
      "   46 : 22                                                 status COMPLETE\n",
      "   47 : 23                                                 status COMPLETE\n",
      "   48 : 24                                                 status COMPLETE\n",
      "   49 : 25                                                 status COMPLETE\n",
      "   50 : 26                                                 status COMPLETE\n",
      "   51 : 27                                                 status COMPLETE\n",
      "   52 : 28                                                 status COMPLETE\n",
      "   53 : 29                                                 status COMPLETE\n",
      "   54 : 30                                                 status COMPLETE\n",
      "   55 : 31                                                 status COMPLETE\n",
      "   56 : 32                                                 status COMPLETE\n",
      "   57 : 33                                                 status COMPLETE\n",
      "   58 : 34                                                 status COMPLETE\n",
      "   59 : 35                                                 status COMPLETE\n",
      "Downloaded torsion drive data for 59 completed entries\n"
     ]
    }
   ],
   "source": [
    "dataset_name='OpenFF Theory Benchmarking Set v1.0'\n",
    "torsiondrive_data= download_torsiondrive_data(dataset_name)"
   ]
  },
  {
   "cell_type": "code",
   "execution_count": 14,
   "id": "29bbff2a",
   "metadata": {},
   "outputs": [],
   "source": [
    "from openff.qcsubmit.factories import BasicDatasetFactory\n",
    "from qcportal.models.common_models import DriverEnum\n",
    "\n",
    "factory = BasicDatasetFactory(driver=DriverEnum.energy)"
   ]
  },
  {
   "cell_type": "code",
   "execution_count": 15,
   "id": "d0d4849f",
   "metadata": {},
   "outputs": [
    {
     "data": {
      "text/plain": [
       "BasicDatasetFactory(qc_specifications={'default': QCSpec(method='B3LYP-D3BJ', basis='DZVP', program='psi4', spec_name='default', spec_description='Standard OpenFF optimization quantum chemistry specification.', store_wavefunction=<WavefunctionProtocolEnum.none: 'none'>, implicit_solvent=None, maxiter=200, scf_properties=[<SCFProperties.Dipole: 'dipole'>, <SCFProperties.Quadrupole: 'quadrupole'>, <SCFProperties.WibergLowdinIndices: 'wiberg_lowdin_indices'>, <SCFProperties.MayerIndices: 'mayer_indices'>], keywords=None)}, driver=<DriverEnum.energy: 'energy'>, priority='normal', dataset_tags=['openff'], compute_tag='openff', type='BasicDatasetFactory', workflow=[])"
      ]
     },
     "execution_count": 15,
     "metadata": {},
     "output_type": "execute_result"
    }
   ],
   "source": [
    "factory"
   ]
  },
  {
   "cell_type": "code",
   "execution_count": 16,
   "id": "52949526",
   "metadata": {},
   "outputs": [],
   "source": [
    "dataset_name=\"OpenFF Theory Benchmarking Single Point Energies v1.0\"\n",
    "description=\"A basic dataset for benchmarking different levels of theory\"\n",
    "tagline=\"Single point energies at final geometries of torsiondrives calculated at reference spec MP2/heavy-aug-cc-pVTZ\"\n",
    "spec_description=description"
   ]
  },
  {
   "cell_type": "code",
   "execution_count": 17,
   "id": "ffea5cfd",
   "metadata": {},
   "outputs": [
    {
     "name": "stderr",
     "output_type": "stream",
     "text": [
      "Deduplication                 : 0it [00:00, ?it/s]\n",
      "Preparation                   : 0it [00:00, ?it/s]\n"
     ]
    }
   ],
   "source": [
    "dataset = factory.create_dataset(dataset_name=dataset_name, molecules=[], description=description, tagline=tagline)\n",
    "# Change the default spec name"
   ]
  },
  {
   "cell_type": "code",
   "execution_count": 18,
   "id": "15099eb9",
   "metadata": {},
   "outputs": [],
   "source": [
    "dataset.add_qc_spec(basis='dzvp',\n",
    " implicit_solvent=None,\n",
    " keywords=None,\n",
    " method='b3lyp-nl',\n",
    " program='psi4',\n",
    " spec_description='single point calculation',\n",
    " spec_name='b3lyp-nl/dzvp',\n",
    " store_wavefunction='none')\n",
    "\n",
    "dataset.add_qc_spec(basis='def2-tzvp',\n",
    " implicit_solvent=None,\n",
    " keywords=None,\n",
    " method='b3lyp-d3bj',\n",
    " program='psi4',\n",
    " spec_description='single point calculation',\n",
    " spec_name='b3lyp-d3bj/def2-tzvp',\n",
    " store_wavefunction='none')\n",
    "\n",
    "dataset.add_qc_spec(basis='def2-tzvpd',\n",
    " implicit_solvent=None,\n",
    " keywords=None,\n",
    " method='b3lyp-d3bj',\n",
    " program='psi4',\n",
    " spec_description='single point calculation',\n",
    " spec_name='b3lyp-d3bj/def2-tzvpd',\n",
    " store_wavefunction='none')\n",
    "\n",
    "dataset.add_qc_spec(basis='def2-tzvpp',\n",
    " implicit_solvent=None,\n",
    " keywords=None,\n",
    " method='b3lyp-d3bj',\n",
    " program='psi4',\n",
    " spec_description='single point calculation',\n",
    " spec_name='b3lyp-d3bj/def2-tzvpp',\n",
    " store_wavefunction='none')\n",
    "\n",
    "dataset.add_qc_spec(basis='def2-tzvppd',\n",
    " implicit_solvent=None,\n",
    " keywords=None,\n",
    " method='b3lyp-d3bj',\n",
    " program='psi4',\n",
    " spec_description='single point calculation',\n",
    " spec_name='b3lyp-d3bj/def2-tzvppd',\n",
    " store_wavefunction='none')\n",
    "\n",
    "dataset.add_qc_spec(basis='def2-qzvp',\n",
    " implicit_solvent=None,\n",
    " keywords=None,\n",
    " method='b3lyp-d3bj',\n",
    " program='psi4',\n",
    " spec_description='single point calculation',\n",
    " spec_name='b3lyp-d3bj/def2-qzvp',\n",
    " store_wavefunction='none')\n",
    "\n",
    "dataset.add_qc_spec(basis='6-31+g**',\n",
    " implicit_solvent=None,\n",
    " keywords=None,\n",
    " method='b3lyp-d3bj',\n",
    " program='psi4',\n",
    " spec_description='single point calculation',\n",
    " spec_name='b3lyp-d3bj/6-31+g**',\n",
    " store_wavefunction='none')\n",
    "\n",
    "dataset.add_qc_spec(basis='6-311+g**',\n",
    " implicit_solvent=None,\n",
    " keywords=None,\n",
    " method='b3lyp-d3bj',\n",
    " program='psi4',\n",
    " spec_description='single point calculation',\n",
    " spec_name='b3lyp-d3bj/6-311+g**',\n",
    " store_wavefunction='none')\n",
    "\n",
    "dataset.add_qc_spec(basis='def2-tzvp',\n",
    " implicit_solvent=None,\n",
    " keywords=None,\n",
    " method='b97-d3bj',\n",
    " program='psi4',\n",
    " spec_description='single point calculation',\n",
    " spec_name='b97-d3bj/def2-tzvp',\n",
    " store_wavefunction='none')\n",
    "\n",
    "dataset.add_qc_spec(basis='dzvp',\n",
    " implicit_solvent=None,\n",
    " keywords=None,\n",
    " method='m05-2x-d3',\n",
    " program='psi4',\n",
    " spec_description='single point calculation',\n",
    " spec_name='m05-2x-d3/dzvp',\n",
    " store_wavefunction='none')\n",
    "\n",
    "dataset.add_qc_spec(basis='dzvp',\n",
    " implicit_solvent=None,\n",
    " keywords=None,\n",
    " method='m06-2x-d3',\n",
    " program='psi4',\n",
    " spec_description='single point calculation',\n",
    " spec_name='m06-2x-d3/dzvp',\n",
    " store_wavefunction='none')\n",
    "\n",
    "dataset.add_qc_spec(basis='dzvp',\n",
    " implicit_solvent=None,\n",
    " keywords=None,\n",
    " method='m08-hx-d3',\n",
    " program='psi4',\n",
    " spec_description='single point calculation',\n",
    " spec_name='m08-hx-d3/dzvp',\n",
    " store_wavefunction='none')\n",
    "\n",
    "dataset.add_qc_spec(basis='dzvp',\n",
    " implicit_solvent=None,\n",
    " keywords=None,\n",
    " method='wb97x-d3bj',\n",
    " program='psi4',\n",
    " spec_description='single point calculation',\n",
    " spec_name='wb97x-d3bj/dzvp',\n",
    " store_wavefunction='none')\n",
    "\n",
    "dataset.add_qc_spec(basis='dzvp',\n",
    " implicit_solvent=None,\n",
    " keywords=None,\n",
    " method='wb97m-d3bj',\n",
    " program='psi4',\n",
    " spec_description='single point calculation',\n",
    " spec_name='wb97m-d3bj/dzvp',\n",
    " store_wavefunction='none')\n",
    "\n",
    "dataset.add_qc_spec(basis='dzvp',\n",
    " implicit_solvent=None,\n",
    " keywords=None,\n",
    " method='wb97m-v',\n",
    " program='psi4',\n",
    " spec_description='single point calculation',\n",
    " spec_name='wb97m-v/dzvp',\n",
    " store_wavefunction='none')\n",
    "\n",
    "dataset.add_qc_spec(basis='dzvp',\n",
    " implicit_solvent=None,\n",
    " keywords=None,\n",
    " method='pw6b95-d3bj',\n",
    " program='psi4',\n",
    " spec_description='single point calculation',\n",
    " spec_name='pw6b95-d3bj/dzvp',\n",
    " store_wavefunction='none')\n",
    "\n",
    "dataset.add_qc_spec(basis='dzvp',\n",
    " implicit_solvent=None,\n",
    " keywords=None,\n",
    " method='pw6b95-d3',\n",
    " program='psi4',\n",
    " spec_description='single point calculation',\n",
    " spec_name='pw6b95-d3/dzvp',\n",
    " store_wavefunction='none')\n",
    "\n",
    "dataset.add_qc_spec(basis='dzvp',\n",
    " implicit_solvent=None,\n",
    " keywords=None,\n",
    " method='b3lyp-d3mbj',\n",
    " program='psi4',\n",
    " spec_description='single point calculation',\n",
    " spec_name='b3lyp-d3mbj/dzvp',\n",
    " store_wavefunction='none')\n",
    "\n",
    "dataset.add_qc_spec(basis='aug-cc-pvtz',\n",
    " implicit_solvent=None,\n",
    " keywords=None,\n",
    " method='mp2',\n",
    " program='psi4',\n",
    " spec_description='single point calculation',\n",
    " spec_name='mp2/aug-cc-pvtz',\n",
    " store_wavefunction='none')\n",
    "\n",
    "dataset.add_qc_spec(basis='heavy-aug-cc-pvtz',\n",
    " implicit_solvent=None,\n",
    " keywords=None,\n",
    " method='dsd-blyp-d3bj',\n",
    " program='psi4',\n",
    " spec_description='single point calculation',\n",
    " spec_name='dsd-blyp-d3bj/heavy-aug-cc-pvtz',\n",
    " store_wavefunction='none')\n",
    "\n",
    "dataset.add_qc_spec(basis=None,\n",
    " implicit_solvent=None,\n",
    " keywords={\"scf_type\": \"df\", \"mp2_type\": \"df\", \"guess\": \"sad\", \"cc_type\": \"df\", \"freeze_core\": True},\n",
    " method=\"mp2/heavy-aug-cc-pv[tq]z + d:ccsd(t)/heavy-aug-cc-pvdz\",\n",
    " program='psi4',\n",
    " spec_description='single point calculation',\n",
    " spec_name='df-ccsd(t)/cbs',\n",
    " store_wavefunction='none')"
   ]
  },
  {
   "cell_type": "code",
   "execution_count": 19,
   "id": "df3a434c",
   "metadata": {},
   "outputs": [
    {
     "data": {
      "text/plain": [
       "{'default': QCSpec(method='B3LYP-D3BJ', basis='DZVP', program='psi4', spec_name='default', spec_description='Standard OpenFF optimization quantum chemistry specification.', store_wavefunction=<WavefunctionProtocolEnum.none: 'none'>, implicit_solvent=None, maxiter=200, scf_properties=[<SCFProperties.Dipole: 'dipole'>, <SCFProperties.Quadrupole: 'quadrupole'>, <SCFProperties.WibergLowdinIndices: 'wiberg_lowdin_indices'>, <SCFProperties.MayerIndices: 'mayer_indices'>], keywords=None),\n",
       " 'b3lyp-nl/dzvp': QCSpec(method='b3lyp-nl', basis='dzvp', program='psi4', spec_name='b3lyp-nl/dzvp', spec_description='single point calculation', store_wavefunction=<WavefunctionProtocolEnum.none: 'none'>, implicit_solvent=None, maxiter=200, scf_properties=[<SCFProperties.Dipole: 'dipole'>, <SCFProperties.Quadrupole: 'quadrupole'>, <SCFProperties.WibergLowdinIndices: 'wiberg_lowdin_indices'>, <SCFProperties.MayerIndices: 'mayer_indices'>], keywords=None),\n",
       " 'b3lyp-d3bj/def2-tzvp': QCSpec(method='b3lyp-d3bj', basis='def2-tzvp', program='psi4', spec_name='b3lyp-d3bj/def2-tzvp', spec_description='single point calculation', store_wavefunction=<WavefunctionProtocolEnum.none: 'none'>, implicit_solvent=None, maxiter=200, scf_properties=[<SCFProperties.Dipole: 'dipole'>, <SCFProperties.Quadrupole: 'quadrupole'>, <SCFProperties.WibergLowdinIndices: 'wiberg_lowdin_indices'>, <SCFProperties.MayerIndices: 'mayer_indices'>], keywords=None),\n",
       " 'b3lyp-d3bj/def2-tzvpd': QCSpec(method='b3lyp-d3bj', basis='def2-tzvpd', program='psi4', spec_name='b3lyp-d3bj/def2-tzvpd', spec_description='single point calculation', store_wavefunction=<WavefunctionProtocolEnum.none: 'none'>, implicit_solvent=None, maxiter=200, scf_properties=[<SCFProperties.Dipole: 'dipole'>, <SCFProperties.Quadrupole: 'quadrupole'>, <SCFProperties.WibergLowdinIndices: 'wiberg_lowdin_indices'>, <SCFProperties.MayerIndices: 'mayer_indices'>], keywords=None),\n",
       " 'b3lyp-d3bj/def2-tzvpp': QCSpec(method='b3lyp-d3bj', basis='def2-tzvpp', program='psi4', spec_name='b3lyp-d3bj/def2-tzvpp', spec_description='single point calculation', store_wavefunction=<WavefunctionProtocolEnum.none: 'none'>, implicit_solvent=None, maxiter=200, scf_properties=[<SCFProperties.Dipole: 'dipole'>, <SCFProperties.Quadrupole: 'quadrupole'>, <SCFProperties.WibergLowdinIndices: 'wiberg_lowdin_indices'>, <SCFProperties.MayerIndices: 'mayer_indices'>], keywords=None),\n",
       " 'b3lyp-d3bj/def2-tzvppd': QCSpec(method='b3lyp-d3bj', basis='def2-tzvppd', program='psi4', spec_name='b3lyp-d3bj/def2-tzvppd', spec_description='single point calculation', store_wavefunction=<WavefunctionProtocolEnum.none: 'none'>, implicit_solvent=None, maxiter=200, scf_properties=[<SCFProperties.Dipole: 'dipole'>, <SCFProperties.Quadrupole: 'quadrupole'>, <SCFProperties.WibergLowdinIndices: 'wiberg_lowdin_indices'>, <SCFProperties.MayerIndices: 'mayer_indices'>], keywords=None),\n",
       " 'b3lyp-d3bj/def2-qzvp': QCSpec(method='b3lyp-d3bj', basis='def2-qzvp', program='psi4', spec_name='b3lyp-d3bj/def2-qzvp', spec_description='single point calculation', store_wavefunction=<WavefunctionProtocolEnum.none: 'none'>, implicit_solvent=None, maxiter=200, scf_properties=[<SCFProperties.Dipole: 'dipole'>, <SCFProperties.Quadrupole: 'quadrupole'>, <SCFProperties.WibergLowdinIndices: 'wiberg_lowdin_indices'>, <SCFProperties.MayerIndices: 'mayer_indices'>], keywords=None),\n",
       " 'b3lyp-d3bj/6-31+g**': QCSpec(method='b3lyp-d3bj', basis='6-31+g**', program='psi4', spec_name='b3lyp-d3bj/6-31+g**', spec_description='single point calculation', store_wavefunction=<WavefunctionProtocolEnum.none: 'none'>, implicit_solvent=None, maxiter=200, scf_properties=[<SCFProperties.Dipole: 'dipole'>, <SCFProperties.Quadrupole: 'quadrupole'>, <SCFProperties.WibergLowdinIndices: 'wiberg_lowdin_indices'>, <SCFProperties.MayerIndices: 'mayer_indices'>], keywords=None),\n",
       " 'b3lyp-d3bj/6-311+g**': QCSpec(method='b3lyp-d3bj', basis='6-311+g**', program='psi4', spec_name='b3lyp-d3bj/6-311+g**', spec_description='single point calculation', store_wavefunction=<WavefunctionProtocolEnum.none: 'none'>, implicit_solvent=None, maxiter=200, scf_properties=[<SCFProperties.Dipole: 'dipole'>, <SCFProperties.Quadrupole: 'quadrupole'>, <SCFProperties.WibergLowdinIndices: 'wiberg_lowdin_indices'>, <SCFProperties.MayerIndices: 'mayer_indices'>], keywords=None),\n",
       " 'b97-d3bj/def2-tzvp': QCSpec(method='b97-d3bj', basis='def2-tzvp', program='psi4', spec_name='b97-d3bj/def2-tzvp', spec_description='single point calculation', store_wavefunction=<WavefunctionProtocolEnum.none: 'none'>, implicit_solvent=None, maxiter=200, scf_properties=[<SCFProperties.Dipole: 'dipole'>, <SCFProperties.Quadrupole: 'quadrupole'>, <SCFProperties.WibergLowdinIndices: 'wiberg_lowdin_indices'>, <SCFProperties.MayerIndices: 'mayer_indices'>], keywords=None),\n",
       " 'm05-2x-d3/dzvp': QCSpec(method='m05-2x-d3', basis='dzvp', program='psi4', spec_name='m05-2x-d3/dzvp', spec_description='single point calculation', store_wavefunction=<WavefunctionProtocolEnum.none: 'none'>, implicit_solvent=None, maxiter=200, scf_properties=[<SCFProperties.Dipole: 'dipole'>, <SCFProperties.Quadrupole: 'quadrupole'>, <SCFProperties.WibergLowdinIndices: 'wiberg_lowdin_indices'>, <SCFProperties.MayerIndices: 'mayer_indices'>], keywords=None),\n",
       " 'm06-2x-d3/dzvp': QCSpec(method='m06-2x-d3', basis='dzvp', program='psi4', spec_name='m06-2x-d3/dzvp', spec_description='single point calculation', store_wavefunction=<WavefunctionProtocolEnum.none: 'none'>, implicit_solvent=None, maxiter=200, scf_properties=[<SCFProperties.Dipole: 'dipole'>, <SCFProperties.Quadrupole: 'quadrupole'>, <SCFProperties.WibergLowdinIndices: 'wiberg_lowdin_indices'>, <SCFProperties.MayerIndices: 'mayer_indices'>], keywords=None),\n",
       " 'm08-hx-d3/dzvp': QCSpec(method='m08-hx-d3', basis='dzvp', program='psi4', spec_name='m08-hx-d3/dzvp', spec_description='single point calculation', store_wavefunction=<WavefunctionProtocolEnum.none: 'none'>, implicit_solvent=None, maxiter=200, scf_properties=[<SCFProperties.Dipole: 'dipole'>, <SCFProperties.Quadrupole: 'quadrupole'>, <SCFProperties.WibergLowdinIndices: 'wiberg_lowdin_indices'>, <SCFProperties.MayerIndices: 'mayer_indices'>], keywords=None),\n",
       " 'wb97x-d3bj/dzvp': QCSpec(method='wb97x-d3bj', basis='dzvp', program='psi4', spec_name='wb97x-d3bj/dzvp', spec_description='single point calculation', store_wavefunction=<WavefunctionProtocolEnum.none: 'none'>, implicit_solvent=None, maxiter=200, scf_properties=[<SCFProperties.Dipole: 'dipole'>, <SCFProperties.Quadrupole: 'quadrupole'>, <SCFProperties.WibergLowdinIndices: 'wiberg_lowdin_indices'>, <SCFProperties.MayerIndices: 'mayer_indices'>], keywords=None),\n",
       " 'wb97m-d3bj/dzvp': QCSpec(method='wb97m-d3bj', basis='dzvp', program='psi4', spec_name='wb97m-d3bj/dzvp', spec_description='single point calculation', store_wavefunction=<WavefunctionProtocolEnum.none: 'none'>, implicit_solvent=None, maxiter=200, scf_properties=[<SCFProperties.Dipole: 'dipole'>, <SCFProperties.Quadrupole: 'quadrupole'>, <SCFProperties.WibergLowdinIndices: 'wiberg_lowdin_indices'>, <SCFProperties.MayerIndices: 'mayer_indices'>], keywords=None),\n",
       " 'wb97m-v/dzvp': QCSpec(method='wb97m-v', basis='dzvp', program='psi4', spec_name='wb97m-v/dzvp', spec_description='single point calculation', store_wavefunction=<WavefunctionProtocolEnum.none: 'none'>, implicit_solvent=None, maxiter=200, scf_properties=[<SCFProperties.Dipole: 'dipole'>, <SCFProperties.Quadrupole: 'quadrupole'>, <SCFProperties.WibergLowdinIndices: 'wiberg_lowdin_indices'>, <SCFProperties.MayerIndices: 'mayer_indices'>], keywords=None),\n",
       " 'pw6b95-d3bj/dzvp': QCSpec(method='pw6b95-d3bj', basis='dzvp', program='psi4', spec_name='pw6b95-d3bj/dzvp', spec_description='single point calculation', store_wavefunction=<WavefunctionProtocolEnum.none: 'none'>, implicit_solvent=None, maxiter=200, scf_properties=[<SCFProperties.Dipole: 'dipole'>, <SCFProperties.Quadrupole: 'quadrupole'>, <SCFProperties.WibergLowdinIndices: 'wiberg_lowdin_indices'>, <SCFProperties.MayerIndices: 'mayer_indices'>], keywords=None),\n",
       " 'pw6b95-d3/dzvp': QCSpec(method='pw6b95-d3', basis='dzvp', program='psi4', spec_name='pw6b95-d3/dzvp', spec_description='single point calculation', store_wavefunction=<WavefunctionProtocolEnum.none: 'none'>, implicit_solvent=None, maxiter=200, scf_properties=[<SCFProperties.Dipole: 'dipole'>, <SCFProperties.Quadrupole: 'quadrupole'>, <SCFProperties.WibergLowdinIndices: 'wiberg_lowdin_indices'>, <SCFProperties.MayerIndices: 'mayer_indices'>], keywords=None),\n",
       " 'b3lyp-d3mbj/dzvp': QCSpec(method='b3lyp-d3mbj', basis='dzvp', program='psi4', spec_name='b3lyp-d3mbj/dzvp', spec_description='single point calculation', store_wavefunction=<WavefunctionProtocolEnum.none: 'none'>, implicit_solvent=None, maxiter=200, scf_properties=[<SCFProperties.Dipole: 'dipole'>, <SCFProperties.Quadrupole: 'quadrupole'>, <SCFProperties.WibergLowdinIndices: 'wiberg_lowdin_indices'>, <SCFProperties.MayerIndices: 'mayer_indices'>], keywords=None),\n",
       " 'mp2/aug-cc-pvtz': QCSpec(method='mp2', basis='aug-cc-pvtz', program='psi4', spec_name='mp2/aug-cc-pvtz', spec_description='single point calculation', store_wavefunction=<WavefunctionProtocolEnum.none: 'none'>, implicit_solvent=None, maxiter=200, scf_properties=[<SCFProperties.Dipole: 'dipole'>, <SCFProperties.Quadrupole: 'quadrupole'>, <SCFProperties.WibergLowdinIndices: 'wiberg_lowdin_indices'>, <SCFProperties.MayerIndices: 'mayer_indices'>], keywords=None),\n",
       " 'dsd-blyp-d3bj/heavy-aug-cc-pvtz': QCSpec(method='dsd-blyp-d3bj', basis='heavy-aug-cc-pvtz', program='psi4', spec_name='dsd-blyp-d3bj/heavy-aug-cc-pvtz', spec_description='single point calculation', store_wavefunction=<WavefunctionProtocolEnum.none: 'none'>, implicit_solvent=None, maxiter=200, scf_properties=[<SCFProperties.Dipole: 'dipole'>, <SCFProperties.Quadrupole: 'quadrupole'>, <SCFProperties.WibergLowdinIndices: 'wiberg_lowdin_indices'>, <SCFProperties.MayerIndices: 'mayer_indices'>], keywords=None),\n",
       " 'df-ccsd(t)/cbs': QCSpec(method='mp2/heavy-aug-cc-pv[tq]z + d:ccsd(t)/heavy-aug-cc-pvdz', basis=None, program='psi4', spec_name='df-ccsd(t)/cbs', spec_description='single point calculation', store_wavefunction=<WavefunctionProtocolEnum.none: 'none'>, implicit_solvent=None, maxiter=200, scf_properties=[<SCFProperties.Dipole: 'dipole'>, <SCFProperties.Quadrupole: 'quadrupole'>, <SCFProperties.WibergLowdinIndices: 'wiberg_lowdin_indices'>, <SCFProperties.MayerIndices: 'mayer_indices'>], keywords={'scf_type': 'df', 'mp2_type': 'df', 'guess': 'sad', 'cc_type': 'df', 'freeze_core': True})}"
      ]
     },
     "execution_count": 19,
     "metadata": {},
     "output_type": "execute_result"
    }
   ],
   "source": [
    "dataset.qc_specifications"
   ]
  },
  {
   "cell_type": "code",
   "execution_count": 20,
   "id": "ffb50679",
   "metadata": {},
   "outputs": [
    {
     "name": "stderr",
     "output_type": "stream",
     "text": [
      "/home/maverick/anaconda3/envs/openff-force-fields/lib/python3.9/site-packages/openff/qcsubmit/validators.py:255: UserWarning: The molecule C12H10NO2S has a net charge of -1.0.\n",
      "  warnings.warn(\n",
      "/home/maverick/anaconda3/envs/openff-force-fields/lib/python3.9/site-packages/openff/qcsubmit/validators.py:255: UserWarning: The molecule C8H6N3O has a net charge of -1.0.\n",
      "  warnings.warn(\n",
      "/home/maverick/anaconda3/envs/openff-force-fields/lib/python3.9/site-packages/openff/qcsubmit/validators.py:255: UserWarning: The molecule C9H10N3 has a net charge of 1.0.\n",
      "  warnings.warn(\n",
      "/home/maverick/anaconda3/envs/openff-force-fields/lib/python3.9/site-packages/openff/qcsubmit/validators.py:255: UserWarning: The molecule C12H12N has a net charge of 1.0.\n",
      "  warnings.warn(\n",
      "/home/maverick/anaconda3/envs/openff-force-fields/lib/python3.9/site-packages/openff/qcsubmit/validators.py:255: UserWarning: The molecule C7H8NOS has a net charge of -1.0.\n",
      "  warnings.warn(\n",
      "/home/maverick/anaconda3/envs/openff-force-fields/lib/python3.9/site-packages/openff/qcsubmit/validators.py:255: UserWarning: The molecule C11H17N2 has a net charge of 1.0.\n",
      "  warnings.warn(\n",
      "/home/maverick/anaconda3/envs/openff-force-fields/lib/python3.9/site-packages/openff/qcsubmit/validators.py:255: UserWarning: The molecule C8H8NO2 has a net charge of -1.0.\n",
      "  warnings.warn(\n",
      "/home/maverick/anaconda3/envs/openff-force-fields/lib/python3.9/site-packages/openff/qcsubmit/validators.py:255: UserWarning: The molecule C13H12N3O has a net charge of -1.0.\n",
      "  warnings.warn(\n",
      "/home/maverick/anaconda3/envs/openff-force-fields/lib/python3.9/site-packages/openff/qcsubmit/validators.py:255: UserWarning: The molecule C12H18N has a net charge of 1.0.\n",
      "  warnings.warn(\n",
      "/home/maverick/anaconda3/envs/openff-force-fields/lib/python3.9/site-packages/openff/qcsubmit/validators.py:255: UserWarning: The molecule C7H5N4 has a net charge of -1.0.\n",
      "  warnings.warn(\n",
      "/home/maverick/anaconda3/envs/openff-force-fields/lib/python3.9/site-packages/openff/qcsubmit/validators.py:255: UserWarning: The molecule C10H16N3O has a net charge of 1.0.\n",
      "  warnings.warn(\n",
      "/home/maverick/anaconda3/envs/openff-force-fields/lib/python3.9/site-packages/openff/qcsubmit/validators.py:255: UserWarning: The molecule C7H16N has a net charge of 1.0.\n",
      "  warnings.warn(\n",
      "/home/maverick/anaconda3/envs/openff-force-fields/lib/python3.9/site-packages/openff/qcsubmit/validators.py:255: UserWarning: The molecule C10H15N2 has a net charge of 1.0.\n",
      "  warnings.warn(\n"
     ]
    }
   ],
   "source": [
    "from openff.qcsubmit.datasets import DatasetEntry\n",
    "from openff.toolkit.topology import Molecule as OFFMolecule\n",
    "\n",
    "for idx, (entry_index, td_record) in enumerate(torsiondrive_data.items()):\n",
    "    attributes = td_record[\"attributes\"]\n",
    "    dihedrals = list(td_record['keywords']['dihedrals'][0])\n",
    "    initial_molecules = []\n",
    "    for gid, final_molecule in td_record['final_molecules'].items():\n",
    "        initial_molecules.append(final_molecule)\n",
    "    \n",
    "    data_entry = DatasetEntry(index=idx,  initial_molecules=initial_molecules, attributes=attributes, extras = {}, keywords = {\"scf_type\": \"df\", \"mp2_type\": \"df\", \"guess\":\"sad\"})\n",
    "    dataset.dataset[idx] = data_entry"
   ]
  },
  {
   "cell_type": "code",
   "execution_count": 21,
   "id": "ffc2f8c4",
   "metadata": {},
   "outputs": [],
   "source": [
    "dataset.metadata.submitter = 'pavankum'\n",
    "dataset.metadata.dataset_name = 'OpenFF Theory Benchmarking Single Point Energies v1.0'\n",
    "dataset.metadata.long_description = 'Single point calculations of torsiondrive final geometries from reference spec (MP2/heavy-aug-cc-pVTZ) calculation with different basis sets and functionals'\n",
    "dataset.metadata.long_description_url = 'https://github.com/openforcefield/qca-dataset-submission/tree/master/submissions/2021-09-06-theory-bm-single-points'"
   ]
  },
  {
   "cell_type": "code",
   "execution_count": 22,
   "id": "1631149d",
   "metadata": {},
   "outputs": [
    {
     "data": {
      "text/plain": [
       "Metadata(submitter='pavankum', creation_date=datetime.date(2021, 9, 16), collection_type='DataSet', dataset_name='OpenFF Theory Benchmarking Single Point Energies v1.0', short_description='Single point energies at final geometries of torsiondrives calculated at reference spec MP2/heavy-aug-cc-pVTZ', long_description_url=HttpUrl('https://github.com/openforcefield/qca-dataset-submission/tree/master/submissions/2021-09-06-theory-bm-single-points', scheme='https', host='github.com', tld='com', host_type='domain', path='/openforcefield/qca-dataset-submission/tree/master/submissions/2021-09-06-theory-bm-single-points'), long_description='Single point calculations of torsiondrive final geometries from reference spec (MP2/heavy-aug-cc-pVTZ) calculation with different basis sets and functionals', elements=set())"
      ]
     },
     "execution_count": 22,
     "metadata": {},
     "output_type": "execute_result"
    }
   ],
   "source": [
    "dataset.metadata"
   ]
  },
  {
   "cell_type": "code",
   "execution_count": 23,
   "id": "d45cc3ba",
   "metadata": {},
   "outputs": [
    {
     "data": {
      "text/plain": [
       "39"
      ]
     },
     "execution_count": 23,
     "metadata": {},
     "output_type": "execute_result"
    }
   ],
   "source": [
    "dataset.n_molecules"
   ]
  },
  {
   "cell_type": "code",
   "execution_count": 24,
   "id": "11ab8918",
   "metadata": {},
   "outputs": [
    {
     "data": {
      "text/plain": [
       "1416"
      ]
     },
     "execution_count": 24,
     "metadata": {},
     "output_type": "execute_result"
    }
   ],
   "source": [
    "dataset.n_records"
   ]
  },
  {
   "cell_type": "code",
   "execution_count": 25,
   "id": "189d8b2a",
   "metadata": {},
   "outputs": [
    {
     "data": {
      "text/plain": [
       "22"
      ]
     },
     "execution_count": 25,
     "metadata": {},
     "output_type": "execute_result"
    }
   ],
   "source": [
    "dataset.n_qc_specs"
   ]
  },
  {
   "cell_type": "code",
   "execution_count": 26,
   "id": "f5f027ab",
   "metadata": {},
   "outputs": [],
   "source": [
    "# export the dataset\n",
    "dataset.export_dataset(\"dataset.json.bz2\")"
   ]
  },
  {
   "cell_type": "code",
   "execution_count": null,
   "id": "aa2d23cc",
   "metadata": {},
   "outputs": [],
   "source": []
  }
 ],
 "metadata": {
  "kernelspec": {
   "display_name": "Python 3 (ipykernel)",
   "language": "python",
   "name": "python3"
  },
  "language_info": {
   "codemirror_mode": {
    "name": "ipython",
    "version": 3
   },
   "file_extension": ".py",
   "mimetype": "text/x-python",
   "name": "python",
   "nbconvert_exporter": "python",
   "pygments_lexer": "ipython3",
   "version": "3.9.6"
  }
 },
 "nbformat": 4,
 "nbformat_minor": 5
}
