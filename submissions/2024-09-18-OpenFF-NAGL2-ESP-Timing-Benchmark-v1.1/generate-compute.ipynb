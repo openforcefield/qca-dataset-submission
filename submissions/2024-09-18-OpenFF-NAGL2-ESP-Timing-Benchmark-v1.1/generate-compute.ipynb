{
 "cells": [
  {
   "cell_type": "markdown",
   "id": "bab0dd68-9ab4-4d70-a4d8-73970a296fec",
   "metadata": {},
   "source": [
    "# Adding DDX to existing dataset"
   ]
  },
  {
   "cell_type": "code",
   "execution_count": 1,
   "id": "3d3cf7ba-e0db-439e-bb2e-983a2aa463ef",
   "metadata": {
    "execution": {
     "iopub.execute_input": "2024-09-26T21:46:08.139221Z",
     "iopub.status.busy": "2024-09-26T21:46:08.137949Z",
     "iopub.status.idle": "2024-09-26T21:46:18.551889Z",
     "shell.execute_reply": "2024-09-26T21:46:18.551436Z",
     "shell.execute_reply.started": "2024-09-26T21:46:08.139147Z"
    }
   },
   "outputs": [],
   "source": [
    "from qcportal import PortalClient\n",
    "from qcelemental.models.results import WavefunctionProtocolEnum\n",
    "from openff.qcsubmit.results import OptimizationResultCollection,BasicResultCollection\n",
    "from openff.qcsubmit.datasets import BasicDataset\n",
    "from openff.qcsubmit.results.filters import ConnectivityFilter, ConformerRMSDFilter\n",
    "from openff.qcsubmit.factories import BasicDatasetFactory\n",
    "from openff.qcsubmit.common_structures import Metadata, QCSpec"
   ]
  },
  {
   "cell_type": "code",
   "execution_count": 2,
   "id": "b2d28e39-5696-4577-a0a8-c02b0a98d019",
   "metadata": {
    "execution": {
     "iopub.execute_input": "2024-09-26T21:46:18.553171Z",
     "iopub.status.busy": "2024-09-26T21:46:18.552920Z",
     "iopub.status.idle": "2024-09-26T21:46:18.972752Z",
     "shell.execute_reply": "2024-09-26T21:46:18.971247Z",
     "shell.execute_reply.started": "2024-09-26T21:46:18.553157Z"
    }
   },
   "outputs": [],
   "source": [
    "client = PortalClient(\"https://api.qcarchive.molssi.org:443/\")"
   ]
  },
  {
   "cell_type": "markdown",
   "id": "4a825469-397a-415b-8d5d-016e798dac76",
   "metadata": {},
   "source": [
    "# Set up all the name, etc which is the same as the original dataset"
   ]
  },
  {
   "cell_type": "code",
   "execution_count": 3,
   "id": "03234d41-9add-4948-b9ba-6ad9f9d987cc",
   "metadata": {
    "execution": {
     "iopub.execute_input": "2024-09-26T21:46:18.978658Z",
     "iopub.status.busy": "2024-09-26T21:46:18.977874Z",
     "iopub.status.idle": "2024-09-26T21:46:18.990129Z",
     "shell.execute_reply": "2024-09-26T21:46:18.989105Z",
     "shell.execute_reply.started": "2024-09-26T21:46:18.978602Z"
    }
   },
   "outputs": [],
   "source": [
    "from openff.qcsubmit.common_structures import SCFProperties, Metadata\n",
    "\n",
    "# want a finer grid for wb97 functionals\n",
    "keywords = {\n",
    "    \"dft_spherical_points\": 590,\n",
    "    \"dft_radial_points\": 99\n",
    "}\n",
    "\n",
    "# let's calculate a bunch of stuff while we're at it; in case we decide to train on any of this.\n",
    "properties = [\n",
    "        SCFProperties.Dipole,\n",
    "        SCFProperties.Quadrupole,\n",
    "        SCFProperties.LowdinCharges,\n",
    "        SCFProperties.MullikenCharges,\n",
    "        SCFProperties.MBISCharges,\n",
    "        SCFProperties.MayerIndices,\n",
    "        SCFProperties.WibergLowdinIndices,\n",
    "        SCFProperties.DipolePolarizabilities,\n",
    "    ]\n"
   ]
  },
  {
   "cell_type": "code",
   "execution_count": 4,
   "id": "bba475b9-1fa9-4655-a6d7-bf52fae73682",
   "metadata": {
    "execution": {
     "iopub.execute_input": "2024-09-26T21:47:10.731535Z",
     "iopub.status.busy": "2024-09-26T21:47:10.730075Z",
     "iopub.status.idle": "2024-09-26T21:47:10.751778Z",
     "shell.execute_reply": "2024-09-26T21:47:10.751205Z",
     "shell.execute_reply.started": "2024-09-26T21:47:10.731466Z"
    }
   },
   "outputs": [],
   "source": [
    "from qcelemental.models import DriverEnum\n",
    "\n",
    "dataset = BasicDataset(\n",
    "    dataset_name=\"OpenFF NAGL2 ESP Timing Benchmark v1.1\",\n",
    "    dataset_tagline=\"PBE0/def2-TZVPPD single point calculations of ~1000 diverse molecules.\",\n",
    "    description=(\n",
    "        \"PBE0/def2-TZVPPD/vacuum single point calculations of ~1000 diverse molecules sub-sampled from the ESP50k, multi-BR ESP, and I fragment datasets, to benchmark computational cost.\"\n",
    "    ),\n",
    "    driver=DriverEnum.properties, # This was DriverEnum.energy for the other ESP datasets, but I think to calculate dipole etc it needs to be properties.\n",
    "    metadata=Metadata(\n",
    "        submitter=\"amcisaac\",\n",
    "        long_description_url=(\n",
    "            \"https://github.com/openforcefield/qca-dataset-submission/tree/master/submissions/2024-09-18-OpenFF-NAGL2-ESP-Timing-Benchmark-v1.1\"\n",
    "        )\n",
    "    ),\n",
    "    qc_specifications={\n",
    "        \"pbe0/def2-TZVPPD\": QCSpec(\n",
    "            program=\"psi4\",\n",
    "            method=\"pbe0\",\n",
    "            basis=\"def2-TZVPPD\",\n",
    "            spec_name=\"pbe0/def2-TZVPPD\",\n",
    "            spec_description=(\n",
    "                \"PBE0 functional with def2-TZVPPD basis set\"\n",
    "            ),\n",
    "            store_wavefunction=WavefunctionProtocolEnum.orbitals_and_eigenvalues,\n",
    "            keywords=keywords,\n",
    "            scf_properties=properties\n",
    "        ),\n",
    "            \n",
    "    }\n",
    ")"
   ]
  },
  {
   "cell_type": "code",
   "execution_count": 5,
   "id": "8e419645-dbaa-40aa-bec5-957cfd1586c7",
   "metadata": {
    "execution": {
     "iopub.execute_input": "2024-09-26T21:47:13.528603Z",
     "iopub.status.busy": "2024-09-26T21:47:13.527377Z",
     "iopub.status.idle": "2024-09-26T21:47:13.545650Z",
     "shell.execute_reply": "2024-09-26T21:47:13.544847Z",
     "shell.execute_reply.started": "2024-09-26T21:47:13.528531Z"
    }
   },
   "outputs": [
    {
     "data": {
      "text/plain": [
       "{'pbe0/def2-TZVPPD': QCSpecification(program='psi4', driver=<SinglepointDriver.properties: 'properties'>, method='pbe0', basis='def2-tzvppd', keywords={'maxiter': 200, 'function_kwargs': {'properties': [<SCFProperties.Dipole: 'dipole'>, <SCFProperties.Quadrupole: 'quadrupole'>, <SCFProperties.LowdinCharges: 'lowdin_charges'>, <SCFProperties.MullikenCharges: 'mulliken_charges'>, <SCFProperties.MBISCharges: 'mbis_charges'>, <SCFProperties.MayerIndices: 'mayer_indices'>, <SCFProperties.WibergLowdinIndices: 'wiberg_lowdin_indices'>, <SCFProperties.DipolePolarizabilities: 'dipole_polarizabilities'>]}, 'dft_spherical_points': 590, 'dft_radial_points': 99}, protocols=AtomicResultProtocols(wavefunction=<WavefunctionProtocolEnum.orbitals_and_eigenvalues: 'orbitals_and_eigenvalues'>, stdout=True, error_correction=ErrorCorrectionProtocol(default_policy=True, policies=None), native_files=<NativeFilesProtocolEnum.none: 'none'>))}"
      ]
     },
     "execution_count": 5,
     "metadata": {},
     "output_type": "execute_result"
    }
   ],
   "source": [
    "dataset._get_specifications()"
   ]
  },
  {
   "cell_type": "markdown",
   "id": "2d0cabfd-7f43-43f0-a4bb-d3fd88b72ca0",
   "metadata": {},
   "source": [
    "# Add new QCSpec for DDX"
   ]
  },
  {
   "cell_type": "code",
   "execution_count": 6,
   "id": "5048614b-3837-4064-b52d-f2a55be38bfb",
   "metadata": {
    "execution": {
     "iopub.execute_input": "2024-09-26T21:47:15.045039Z",
     "iopub.status.busy": "2024-09-26T21:47:15.044167Z",
     "iopub.status.idle": "2024-09-26T21:47:15.057340Z",
     "shell.execute_reply": "2024-09-26T21:47:15.056055Z",
     "shell.execute_reply.started": "2024-09-26T21:47:15.044990Z"
    }
   },
   "outputs": [],
   "source": [
    "from openff.qcsubmit.common_structures import DDXSettings\n",
    "# Solvent specs\n",
    "ddx_spec = DDXSettings(\n",
    "    ddx_solvent_epsilon=78.4, \n",
    "    ddx_radii_scaling = 1.1, # default but wanted to specify explicitly\n",
    "    ddx_radii_set = 'uff', # default but wanted to specify explicitly \n",
    "    ddx_model = 'pcm'\n",
    ")\n"
   ]
  },
  {
   "cell_type": "code",
   "execution_count": 7,
   "id": "3588d626-2900-4570-97eb-aa8b01395924",
   "metadata": {
    "execution": {
     "iopub.execute_input": "2024-09-26T21:47:20.531317Z",
     "iopub.status.busy": "2024-09-26T21:47:20.530310Z",
     "iopub.status.idle": "2024-09-26T21:47:20.542550Z",
     "shell.execute_reply": "2024-09-26T21:47:20.541380Z",
     "shell.execute_reply.started": "2024-09-26T21:47:20.531260Z"
    }
   },
   "outputs": [],
   "source": [
    "dataset.add_qc_spec(program=\"psi4\",\n",
    "                    method=\"pbe0\",\n",
    "                    basis=\"def2-TZVPPD\",\n",
    "                    spec_name=\"pbe0/def2-TZVPPD/ddx-water\",\n",
    "                    spec_description=(\n",
    "                        \"PBE0 functional with def2-TZVPPD basis set and DDX water (eps = 78.4) using UFF radii and 1.1x scaling factor\"\n",
    "                    ),\n",
    "                    # store_wavefunction=WavefunctionProtocolEnum.orbitals_and_eigenvalues, # Don't save wavefunctions in case there's a lot of errors\n",
    "                    keywords=keywords,\n",
    "                    scf_properties=properties,\n",
    "                    implicit_solvent= ddx_spec)"
   ]
  },
  {
   "cell_type": "code",
   "execution_count": 8,
   "id": "e8d170ee-0a23-4dff-8207-24ec1a838f20",
   "metadata": {
    "execution": {
     "iopub.execute_input": "2024-09-26T21:47:20.998405Z",
     "iopub.status.busy": "2024-09-26T21:47:20.997270Z",
     "iopub.status.idle": "2024-09-26T21:47:21.013367Z",
     "shell.execute_reply": "2024-09-26T21:47:21.011993Z",
     "shell.execute_reply.started": "2024-09-26T21:47:20.998337Z"
    }
   },
   "outputs": [
    {
     "data": {
      "text/plain": [
       "{'pbe0/def2-TZVPPD': QCSpecification(program='psi4', driver=<SinglepointDriver.properties: 'properties'>, method='pbe0', basis='def2-tzvppd', keywords={'maxiter': 200, 'function_kwargs': {'properties': [<SCFProperties.Dipole: 'dipole'>, <SCFProperties.Quadrupole: 'quadrupole'>, <SCFProperties.LowdinCharges: 'lowdin_charges'>, <SCFProperties.MullikenCharges: 'mulliken_charges'>, <SCFProperties.MBISCharges: 'mbis_charges'>, <SCFProperties.MayerIndices: 'mayer_indices'>, <SCFProperties.WibergLowdinIndices: 'wiberg_lowdin_indices'>, <SCFProperties.DipolePolarizabilities: 'dipole_polarizabilities'>]}, 'dft_spherical_points': 590, 'dft_radial_points': 99}, protocols=AtomicResultProtocols(wavefunction=<WavefunctionProtocolEnum.orbitals_and_eigenvalues: 'orbitals_and_eigenvalues'>, stdout=True, error_correction=ErrorCorrectionProtocol(default_policy=True, policies=None), native_files=<NativeFilesProtocolEnum.none: 'none'>)),\n",
       " 'pbe0/def2-TZVPPD/ddx-water': QCSpecification(program='psi4', driver=<SinglepointDriver.properties: 'properties'>, method='pbe0', basis='def2-tzvppd', keywords={'maxiter': 200, 'function_kwargs': {'properties': [<SCFProperties.Dipole: 'dipole'>, <SCFProperties.Quadrupole: 'quadrupole'>, <SCFProperties.LowdinCharges: 'lowdin_charges'>, <SCFProperties.MullikenCharges: 'mulliken_charges'>, <SCFProperties.MBISCharges: 'mbis_charges'>, <SCFProperties.MayerIndices: 'mayer_indices'>, <SCFProperties.WibergLowdinIndices: 'wiberg_lowdin_indices'>, <SCFProperties.DipolePolarizabilities: 'dipole_polarizabilities'>]}, 'dft_spherical_points': 590, 'dft_radial_points': 99, 'ddx': True, 'ddx_model': 'pcm', 'ddx_radii_scaling': 1.1, 'ddx_radii_set': 'uff', 'ddx_solvent_epsilon': 78.4, 'ddx_solvent': 'water'}, protocols=AtomicResultProtocols(wavefunction=<WavefunctionProtocolEnum.none: 'none'>, stdout=True, error_correction=ErrorCorrectionProtocol(default_policy=True, policies=None), native_files=<NativeFilesProtocolEnum.none: 'none'>))}"
      ]
     },
     "execution_count": 8,
     "metadata": {},
     "output_type": "execute_result"
    }
   ],
   "source": [
    "dataset._get_specifications()"
   ]
  },
  {
   "cell_type": "markdown",
   "id": "8e812a07-bd89-47f2-9380-6c939838aac6",
   "metadata": {},
   "source": [
    "# Exporting dataset"
   ]
  },
  {
   "cell_type": "code",
   "execution_count": 9,
   "id": "d69c1de7-42a6-407f-a555-6fc5a7ef0e61",
   "metadata": {
    "execution": {
     "iopub.execute_input": "2024-09-26T21:47:22.294916Z",
     "iopub.status.busy": "2024-09-26T21:47:22.293967Z",
     "iopub.status.idle": "2024-09-26T21:47:22.305117Z",
     "shell.execute_reply": "2024-09-26T21:47:22.304269Z",
     "shell.execute_reply.started": "2024-09-26T21:47:22.294841Z"
    }
   },
   "outputs": [
    {
     "name": "stdout",
     "output_type": "stream",
     "text": [
      "{'pbe0/def2-TZVPPD': QCSpec(method='pbe0', basis='def2-TZVPPD', program='psi4', spec_name='pbe0/def2-TZVPPD', spec_description='PBE0 functional with def2-TZVPPD basis set', store_wavefunction=<WavefunctionProtocolEnum.orbitals_and_eigenvalues: 'orbitals_and_eigenvalues'>, implicit_solvent=None, maxiter=200, scf_properties=[<SCFProperties.Dipole: 'dipole'>, <SCFProperties.Quadrupole: 'quadrupole'>, <SCFProperties.LowdinCharges: 'lowdin_charges'>, <SCFProperties.MullikenCharges: 'mulliken_charges'>, <SCFProperties.MBISCharges: 'mbis_charges'>, <SCFProperties.MayerIndices: 'mayer_indices'>, <SCFProperties.WibergLowdinIndices: 'wiberg_lowdin_indices'>, <SCFProperties.DipolePolarizabilities: 'dipole_polarizabilities'>], keywords={'dft_spherical_points': 590, 'dft_radial_points': 99}), 'pbe0/def2-TZVPPD/ddx-water': QCSpec(method='pbe0', basis='def2-TZVPPD', program='psi4', spec_name='pbe0/def2-TZVPPD/ddx-water', spec_description='PBE0 functional with def2-TZVPPD basis set and DDX water (eps = 78.4) using UFF radii and 1.1x scaling factor', store_wavefunction=<WavefunctionProtocolEnum.none: 'none'>, implicit_solvent=DDXSettings(ddx_model='pcm', ddx_radii_scaling=1.1, ddx_radii_set='uff', ddx_solvent_epsilon=78.4, ddx_solvent='water'), maxiter=200, scf_properties=[<SCFProperties.Dipole: 'dipole'>, <SCFProperties.Quadrupole: 'quadrupole'>, <SCFProperties.LowdinCharges: 'lowdin_charges'>, <SCFProperties.MullikenCharges: 'mulliken_charges'>, <SCFProperties.MBISCharges: 'mbis_charges'>, <SCFProperties.MayerIndices: 'mayer_indices'>, <SCFProperties.WibergLowdinIndices: 'wiberg_lowdin_indices'>, <SCFProperties.DipolePolarizabilities: 'dipole_polarizabilities'>], keywords={'dft_spherical_points': 590, 'dft_radial_points': 99})}\n"
     ]
    }
   ],
   "source": [
    "dataset.export_dataset(\"compute.json\")\n",
    "\n",
    "print(dataset.qc_specifications)"
   ]
  },
  {
   "cell_type": "markdown",
   "id": "88a45064-d703-457e-b29b-ba0aa758ca9a",
   "metadata": {},
   "source": [
    "# Dataset information"
   ]
  },
  {
   "cell_type": "code",
   "execution_count": 10,
   "id": "5bc6ee5d-590a-418b-98d1-2f0fa5b8119f",
   "metadata": {
    "execution": {
     "iopub.execute_input": "2024-09-26T21:47:23.158056Z",
     "iopub.status.busy": "2024-09-26T21:47:23.156665Z",
     "iopub.status.idle": "2024-09-26T21:47:23.173243Z",
     "shell.execute_reply": "2024-09-26T21:47:23.172053Z",
     "shell.execute_reply.started": "2024-09-26T21:47:23.157956Z"
    }
   },
   "outputs": [
    {
     "name": "stdout",
     "output_type": "stream",
     "text": [
      "## Metadata\n",
      "* Elements: {}\n",
      "* Spec: pbe0/def2-TZVPPD\n",
      "\t* basis: def2-TZVPPD\n",
      "\t* implicit_solvent: None\n",
      "\t* keywords: {'dft_spherical_points': 590, 'dft_radial_points': 99}\n",
      "\t* maxiter: 200\n",
      "\t* method: pbe0\n",
      "\t* program: psi4\n",
      "\t* SCF properties:\n",
      "\t\t* dipole\n",
      "\t\t* quadrupole\n",
      "\t\t* lowdin_charges\n",
      "\t\t* mulliken_charges\n",
      "\t\t* mbis_charges\n",
      "\t\t* mayer_indices\n",
      "\t\t* wiberg_lowdin_indices\n",
      "\t\t* dipole_polarizabilities\n",
      "* Spec: pbe0/def2-TZVPPD/ddx-water\n",
      "\t* basis: def2-TZVPPD\n",
      "\t* implicit_solvent: {'ddx_model': 'pcm', 'ddx_radii_scaling': 1.1, 'ddx_radii_set': 'uff', 'ddx_solvent_epsilon': 78.4, 'ddx_solvent': 'water'}\n",
      "\t* keywords: {'dft_spherical_points': 590, 'dft_radial_points': 99}\n",
      "\t* maxiter: 200\n",
      "\t* method: pbe0\n",
      "\t* program: psi4\n",
      "\t* SCF properties:\n",
      "\t\t* dipole\n",
      "\t\t* quadrupole\n",
      "\t\t* lowdin_charges\n",
      "\t\t* mulliken_charges\n",
      "\t\t* mbis_charges\n",
      "\t\t* mayer_indices\n",
      "\t\t* wiberg_lowdin_indices\n",
      "\t\t* dipole_polarizabilities\n"
     ]
    }
   ],
   "source": [
    "print(\"## Metadata\")\n",
    "print(f\"* Elements: {{{', '.join(dataset.metadata.dict()['elements'])}}}\")\n",
    "\n",
    "def print_field(od, field): print(f\"\\t* {field}: {od[field]}\")\n",
    "\n",
    "fields = [\"basis\", \"implicit_solvent\", \"keywords\", \"maxiter\", \"method\", \"program\"]\n",
    "for spec, obj in dataset.qc_specifications.items():\n",
    "    od = obj.dict()\n",
    "    print(\"* Spec:\", spec)\n",
    "    for field in fields:\n",
    "        print_field(od, field)\n",
    "    print(\"\\t* SCF properties:\")\n",
    "    for field in od[\"scf_properties\"]:\n",
    "        print(f\"\\t\\t* {field}\")"
   ]
  },
  {
   "cell_type": "code",
   "execution_count": null,
   "id": "09dd2cfa-62c0-4681-a44e-bdac427fd96d",
   "metadata": {},
   "outputs": [],
   "source": []
  }
 ],
 "metadata": {
  "kernelspec": {
   "display_name": "Python 3 (ipykernel)",
   "language": "python",
   "name": "python3"
  },
  "language_info": {
   "codemirror_mode": {
    "name": "ipython",
    "version": 3
   },
   "file_extension": ".py",
   "mimetype": "text/x-python",
   "name": "python",
   "nbconvert_exporter": "python",
   "pygments_lexer": "ipython3",
   "version": "3.9.19"
  }
 },
 "nbformat": 4,
 "nbformat_minor": 5
}
