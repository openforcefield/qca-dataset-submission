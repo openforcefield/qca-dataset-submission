{
 "cells": [
  {
   "cell_type": "code",
   "execution_count": 1,
   "id": "c00d7b5c-8796-45ea-95c6-0d74dfeb849e",
   "metadata": {},
   "outputs": [],
   "source": [
    "import tomllib\n",
    "from pathlib import Path\n",
    "\n",
    "import qcportal # avoid zstd disaster\n",
    "\n",
    "import numpy as np\n",
    "from openff.qcsubmit import workflow_components\n",
    "from openff.qcsubmit.factories import OptimizationDatasetFactory\n",
    "from openff.toolkit import Molecule, ForceField\n",
    "from tqdm import tqdm"
   ]
  },
  {
   "cell_type": "code",
   "execution_count": 2,
   "id": "7c541942-1258-4c8b-b8a9-b733eb54cd3f",
   "metadata": {},
   "outputs": [],
   "source": [
    "ff = ForceField(\"ff.offxml\")\n",
    "with open(\"opt.toml\", \"rb\") as f:\n",
    "    config = tomllib.load(f)"
   ]
  },
  {
   "cell_type": "code",
   "execution_count": 3,
   "id": "2bab66c3-7248-4c86-b74a-53813793181b",
   "metadata": {},
   "outputs": [
    {
     "name": "stderr",
     "output_type": "stream",
     "text": [
      "Loading molecules: 0it [00:00, ?it/s]/tmp/ipykernel_1588216/564852065.py:7: AtomMappingWarning: Warning! Fully mapped SMILES pattern passed to `from_smiles`. The atom map is stored as a property in `Molecule._properties`, but these indices are NOT used to determine atom ordering. To use these indices for atom ordering, use `Molecule.from_mapped_smiles`.\n",
      "  mol = Molecule.from_smiles(cmiles, allow_undefined_stereo=True)\n",
      "Loading molecules: 43it [00:01, 35.72it/s]\n"
     ]
    }
   ],
   "source": [
    "molecules = list()\n",
    "with open(\"train.opt.smi\") as inp:\n",
    "    for line in tqdm(inp, desc=\"Loading molecules\"):\n",
    "        if line.startswith(\"#\"):\n",
    "            continue\n",
    "        pid, cmiles, *_ = line.split()\n",
    "        mol = Molecule.from_smiles(cmiles, allow_undefined_stereo=True)\n",
    "        labels = ff.label_molecules(mol.to_topology())[0][\"ProperTorsions\"]\n",
    "        pids = [p.id for p in labels.values()]\n",
    "        assert pid in pids\n",
    "        molecules.append(mol)"
   ]
  },
  {
   "cell_type": "code",
   "execution_count": 4,
   "id": "4e37cfbb-b9a7-429f-aa29-e751339b784d",
   "metadata": {},
   "outputs": [
    {
     "name": "stderr",
     "output_type": "stream",
     "text": [
      "Deduplication                 : 100%|█████████| 43/43 [00:00<00:00, 1349.08it/s]\n",
      "StandardConformerGenerator    :   0%|                    | 0/37 [00:00<?, ?it/s][12:19:33] UFFTYPER: Unrecognized charge state for atom: 9\n",
      "[12:19:33] UFFTYPER: Unrecognized charge state for atom: 4\n",
      "Warning: OEMMFFParams::PrepMol() : unable to type atom 9 S on residue UNL-1\n",
      "Warning: : Force field setup failed due to missing parameters\n",
      "Warning: OEMMFFParams::PrepMol() : unable to type atom 9 S on residue UNL-1\n",
      "Warning: : Force field setup failed due to missing parameters\n",
      "Warning: : Failed due to unspecified stereochemistry\n",
      "Warning: : Failed due to unspecified stereochemistry\n",
      "Warning: OEMMFFParams::PrepMol() : unable to type atom 1 S on residue UNL-1\n",
      "Warning: : Failed due to unspecified stereochemistry\n",
      "Warning: : Force field setup failed due to missing parameters\n",
      "Warning: OEMMFFParams::PrepMol() : unable to type atom 4 S on residue UNL-1\n",
      "Warning: : Force field setup failed due to missing parameters\n",
      "Warning: OEMMFFParams::PrepMol() : unable to type atom 4 S on residue UNL-1\n",
      "Warning: : Force field setup failed due to missing parameters\n",
      "Warning: : Failed due to unspecified stereochemistry\n",
      "Warning: OEMMFFParams::PrepMol() : unable to type atom 7 S on residue UNL-1\n",
      "Warning: : Force field setup failed due to missing parameters\n",
      "Warning: : Failed due to unspecified stereochemistry\n",
      "Warning: : Failed due to unspecified stereochemistry\n",
      "Warning: OEMMFFParams::PrepMol() : unable to type atom 3 S on residue UNL-1\n",
      "Warning: : Force field setup failed due to missing parameters\n",
      "[12:19:33] UFFTYPER: Unrecognized charge state for atom: 3\n",
      "Warning: : Failed due to unspecified stereochemistry\n",
      "StandardConformerGenerator    :   3%|▎           | 1/37 [00:00<00:18,  1.96it/s][12:19:33] UFFTYPER: Unrecognized charge state for atom: 27\n",
      "Warning: : Failed due to unspecified stereochemistry\n",
      "Warning: OEMMFFParams::PrepMol() : unable to type atom 27 S on residue UNL-1\n",
      "Warning: : Force field setup failed due to missing parameters\n",
      "Warning: : Failed due to unspecified stereochemistry\n",
      "Warning: : Failed due to unspecified stereochemistry\n",
      "Warning: OEMMFFParams::PrepMol() : unable to type atom 7 S on residue UNL-1\n",
      "Warning: : Force field setup failed due to missing parameters\n",
      "Warning: : Failed due to unspecified stereochemistry\n",
      "Warning: : Failed due to unspecified stereochemistry\n",
      "[12:19:33] UFFTYPER: Unrecognized charge state for atom: 1\n",
      "[12:19:33] UFFTYPER: Unrecognized charge state for atom: 0\n",
      "[12:19:33] UFFTYPER: Unrecognized charge state for atom: 1\n",
      "Warning: : Failed due to unspecified stereochemistry\n",
      "Warning: : Failed due to unspecified stereochemistry\n",
      "Warning: OE3DToAtomStereo is unable to perceive atom stereo from a flat geometry on atom 7 of molecule ''\n",
      "Warning: OE3DToAtomStereo had a problem during OEMolToInChIKey when writing ''\n",
      "Warning: : Failed due to unspecified stereochemistry\n",
      "Warning: : Failed due to unspecified stereochemistry\n",
      "Warning: OEMMFFParams::PrepMol() : unable to type atom 1 S on residue UNL-1\n",
      "Warning: OEMMFFParams::PrepMol() : unable to type atom 3 H on residue UNL-1\n",
      "Warning: OEMMFFParams::PrepMol() : unable to type atom 4 H on residue UNL-1\n",
      "Warning: : Force field setup failed due to missing parameters\n",
      "Warning: OEMMFFParams::PrepMol() : unable to type atom 1 S on residue UNL-1\n",
      "Warning: OEMMFFParams::PrepMol() : unable to type atom 3 H on residue UNL-1\n",
      "Warning: OEMMFFParams::PrepMol() : unable to type atom 4 H on residue UNL-1\n",
      "Warning: : Force field setup failed due to missing parameters\n",
      "Warning: OEMMFFParams::PrepMol() : unable to type atom 0 S on residue UNL-1\n",
      "Warning: OEMMFFParams::PrepMol() : unable to type atom 1 S on residue UNL-1\n",
      "Warning: OEMMFFParams::PrepMol() : unable to type atom 2 H on residue UNL-1\n",
      "Warning: OEMMFFParams::PrepMol() : unable to type atom 3 H on residue UNL-1\n",
      "Warning: OEMMFFParams::PrepMol() : unable to type atom 4 H on residue UNL-1\n",
      "Warning: OEMMFFParams::PrepMol() : unable to type atom 5 H on residue UNL-1\n",
      "Warning: : Force field setup failed due to missing parameters\n",
      "Warning: OEMMFFParams::PrepMol() : unable to type atom 0 S on residue UNL-1\n",
      "Warning: OEMMFFParams::PrepMol() : unable to type atom 1 S on residue UNL-1\n",
      "Warning: OEMMFFParams::PrepMol() : unable to type atom 2 H on residue UNL-1\n",
      "Warning: OEMMFFParams::PrepMol() : unable to type atom 3 H on residue UNL-1\n",
      "Warning: OEMMFFParams::PrepMol() : unable to type atom 4 H on residue UNL-1\n",
      "Warning: OEMMFFParams::PrepMol() : unable to type atom 5 H on residue UNL-1\n",
      "Warning: : Force field setup failed due to missing parameters\n",
      "Warning: : Failed due to unspecified stereochemistry\n",
      "StandardConformerGenerator    :  57%|██████▏    | 21/37 [00:01<00:00, 25.67it/s]Warning: OE3DToAtomStereo is unable to perceive atom stereo from a flat geometry on atom 7 of molecule ''\n",
      "Warning: OE3DToAtomStereo had a problem during OEMolToInChIKey when writing ''\n",
      "StandardConformerGenerator    : 100%|███████████| 37/37 [00:01<00:00, 31.00it/s]\n",
      "Preparation                   :  57%|██████▏    | 21/37 [00:00<00:00, 24.61it/s]Warning: OE3DToAtomStereo is unable to perceive atom stereo from a flat geometry on atom 7 of molecule ''\n",
      "Warning: OE3DToAtomStereo had a problem during OEMolToInChIKey when writing ''\n",
      "Warning: OE3DToAtomStereo is unable to perceive atom stereo from a flat geometry on atom 7 of molecule ''\n",
      "Warning: OE3DToAtomStereo had a problem during OEMolToSTDInChI when writing ''\n",
      "Warning: OE3DToAtomStereo is unable to perceive atom stereo from a flat geometry on atom 7 of molecule ''\n",
      "Warning: OE3DToAtomStereo had a problem during OEMolToSTDInChIKey when writing ''\n",
      "Warning: OE3DToAtomStereo is unable to perceive atom stereo from a flat geometry on atom 7 of molecule ''\n",
      "Warning: OE3DToAtomStereo had a problem during OEMolToInChI when writing ''\n",
      "Warning: OE3DToAtomStereo is unable to perceive atom stereo from a flat geometry on atom 7 of molecule ''\n",
      "Warning: OE3DToAtomStereo had a problem during OEMolToInChIKey when writing ''\n",
      "Preparation                   : 100%|███████████| 37/37 [00:01<00:00, 31.25it/s]\n"
     ]
    }
   ],
   "source": [
    "dataset_factory = OptimizationDatasetFactory()\n",
    "dataset_factory.add_workflow_components(\n",
    "    workflow_components.StandardConformerGenerator(max_conformers=10, rms_cutoff=0.5)\n",
    ")\n",
    "\n",
    "dataset = dataset_factory.create_dataset(\n",
    "    dataset_name=config[\"name\"],\n",
    "    tagline=config[\"name\"],\n",
    "    description=config[\"short_description\"],\n",
    "    molecules=molecules,\n",
    ")\n",
    "\n",
    "dataset.metadata.submitter = config[\"submitter\"]\n",
    "dataset.metadata.long_description_url = (\n",
    "    \"https://github.com/openforcefield/qca-dataset-submission/tree/master/\"\n",
    "    \"submissions/\" + str(Path.cwd().name)\n",
    ")"
   ]
  },
  {
   "cell_type": "code",
   "execution_count": 5,
   "id": "6e3e80a7-660e-4e82-b012-68e1d04dc959",
   "metadata": {},
   "outputs": [],
   "source": [
    "old_smiles = {m.to_smiles(isomeric=False) for m in molecules}\n",
    "new_smiles = {m.to_smiles(isomeric=False) for m in dataset.molecules}\n",
    "\n",
    "assert not old_smiles.symmetric_difference(new_smiles)"
   ]
  },
  {
   "cell_type": "code",
   "execution_count": 6,
   "id": "338381f1-bbf5-454f-8561-56e88119adfa",
   "metadata": {},
   "outputs": [
    {
     "name": "stdout",
     "output_type": "stream",
     "text": [
      "* Number of unique molecules: 37\n",
      "* Number of filtered molecules: 0\n",
      "* Number of conformers: 185\n",
      "* Number of conformers per molecule (min, mean, max): 1, 5.00, 10\n",
      "* Mean molecular weight: 187.31\n",
      "* Max molecular weight: 489.48\n",
      "* Charges: [0.0, 1.0, 2.0]\n"
     ]
    }
   ],
   "source": [
    "confs = np.array([len(mol.conformers) for mol in dataset.molecules])\n",
    "\n",
    "print(\"* Number of unique molecules:\", dataset.n_molecules)\n",
    "print(\"* Number of filtered molecules:\", dataset.n_filtered)\n",
    "print(\"* Number of conformers:\", sum(confs))\n",
    "print(\"* Number of conformers per molecule (min, mean, max): \"\n",
    "      f\"{confs.min()}, {confs.mean():.2f}, {confs.max()}\")\n",
    "\n",
    "masses = [\n",
    "    [\n",
    "        sum([atom.mass.m for atom in molecule.atoms])\n",
    "        for molecule in dataset.molecules\n",
    "    ]\n",
    "]\n",
    "print(f'* Mean molecular weight: {np.mean(np.array(masses)):.2f}')\n",
    "print(f'* Max molecular weight: {np.max(np.array(masses)):.2f}')\n",
    "print(\"* Charges:\", sorted(set(m.total_charge.m for m in dataset.molecules)))"
   ]
  },
  {
   "cell_type": "code",
   "execution_count": 7,
   "id": "571be5a6-dbe6-4fe3-8f11-b80f31945bd1",
   "metadata": {},
   "outputs": [
    {
     "name": "stdout",
     "output_type": "stream",
     "text": [
      "## Metadata\n",
      "* Elements: {Br, S, H, P, N, O, Cl, C}\n",
      "* Spec: default\n",
      "\t* basis: DZVP\n",
      "\t* implicit_solvent: None\n",
      "\t* keywords: {}\n",
      "\t* maxiter: 200\n",
      "\t* method: B3LYP-D3BJ\n",
      "\t* program: psi4\n",
      "\t* SCF properties:\n",
      "\t\t* dipole\n",
      "\t\t* quadrupole\n",
      "\t\t* wiberg_lowdin_indices\n",
      "\t\t* mayer_indices\n"
     ]
    }
   ],
   "source": [
    "print(\"## Metadata\")\n",
    "print(f\"* Elements: {{{', '.join(dataset.metadata.dict()['elements'])}}}\")\n",
    "\n",
    "def print_field(od, field): print(f\"\\t* {field}: {od[field]}\")\n",
    "\n",
    "fields = [\"basis\", \"implicit_solvent\", \"keywords\", \"maxiter\", \"method\", \"program\"]\n",
    "for spec, obj in dataset.qc_specifications.items():\n",
    "    od = obj.dict()\n",
    "    print(\"* Spec:\", spec)\n",
    "    for field in fields:\n",
    "        print_field(od, field)\n",
    "    print(\"\\t* SCF properties:\")\n",
    "    for field in od[\"scf_properties\"]:\n",
    "        print(f\"\\t\\t* {field}\")"
   ]
  },
  {
   "cell_type": "code",
   "execution_count": 8,
   "id": "c83f5eda-cccf-4f2a-a025-e11923e625f9",
   "metadata": {},
   "outputs": [],
   "source": [
    "dataset.export_dataset(\"dataset.json.bz2\")\n",
    "dataset.molecules_to_file(\"output.smi\", \"smi\")\n",
    "dataset.visualize(\"dataset.pdf\", columns=8)"
   ]
  }
 ],
 "metadata": {
  "kernelspec": {
   "display_name": "Python 3 (ipykernel)",
   "language": "python",
   "name": "python3"
  },
  "language_info": {
   "codemirror_mode": {
    "name": "ipython",
    "version": 3
   },
   "file_extension": ".py",
   "mimetype": "text/x-python",
   "name": "python",
   "nbconvert_exporter": "python",
   "pygments_lexer": "ipython3",
   "version": "3.11.7"
  }
 },
 "nbformat": 4,
 "nbformat_minor": 5
}
