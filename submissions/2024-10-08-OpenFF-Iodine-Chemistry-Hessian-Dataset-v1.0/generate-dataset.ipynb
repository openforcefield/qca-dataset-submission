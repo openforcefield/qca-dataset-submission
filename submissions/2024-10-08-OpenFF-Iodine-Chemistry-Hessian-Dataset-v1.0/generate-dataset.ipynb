{
 "cells": [
  {
   "cell_type": "code",
   "execution_count": 1,
   "id": "3d3cf7ba-e0db-439e-bb2e-983a2aa463ef",
   "metadata": {
    "execution": {
     "iopub.execute_input": "2024-11-12T01:22:01.466893Z",
     "iopub.status.busy": "2024-11-12T01:22:01.465947Z",
     "iopub.status.idle": "2024-11-12T01:22:31.512562Z",
     "shell.execute_reply": "2024-11-12T01:22:31.512027Z",
     "shell.execute_reply.started": "2024-11-12T01:22:01.466826Z"
    }
   },
   "outputs": [],
   "source": [
    "from qcportal import PortalClient\n",
    "from openff.qcsubmit.results import OptimizationResultCollection,BasicResultCollection\n",
    "from openff.qcsubmit.datasets import BasicDataset\n",
    "from openff.qcsubmit.results.filters import ConnectivityFilter, RecordStatusEnum, RecordStatusFilter\n",
    "from openff.qcsubmit.factories import BasicDatasetFactory\n",
    "from openff.qcsubmit.common_structures import Metadata, QCSpec"
   ]
  },
  {
   "cell_type": "markdown",
   "id": "c3600edd-6772-47fa-b4fa-9d4428851b8e",
   "metadata": {},
   "source": [
    "# Load optimization dataset"
   ]
  },
  {
   "cell_type": "code",
   "execution_count": 2,
   "id": "b2d28e39-5696-4577-a0a8-c02b0a98d019",
   "metadata": {
    "execution": {
     "iopub.execute_input": "2024-11-12T01:22:31.514238Z",
     "iopub.status.busy": "2024-11-12T01:22:31.513903Z",
     "iopub.status.idle": "2024-11-12T01:22:32.948609Z",
     "shell.execute_reply": "2024-11-12T01:22:32.947680Z",
     "shell.execute_reply.started": "2024-11-12T01:22:31.514220Z"
    }
   },
   "outputs": [],
   "source": [
    "client = PortalClient(\"https://api.qcarchive.molssi.org:443/\")"
   ]
  },
  {
   "cell_type": "code",
   "execution_count": 3,
   "id": "ad9d088a-8000-41e0-b1e5-9b3978b886da",
   "metadata": {
    "execution": {
     "iopub.execute_input": "2024-11-12T01:22:32.952187Z",
     "iopub.status.busy": "2024-11-12T01:22:32.950461Z",
     "iopub.status.idle": "2024-11-12T01:22:35.255590Z",
     "shell.execute_reply": "2024-11-12T01:22:35.255226Z",
     "shell.execute_reply.started": "2024-11-12T01:22:32.952145Z"
    }
   },
   "outputs": [],
   "source": [
    "opt_ds = OptimizationResultCollection.from_server(client=client,datasets=['OpenFF Iodine Chemistry Optimization Dataset v1.0'])"
   ]
  },
  {
   "cell_type": "code",
   "execution_count": 4,
   "id": "bf13b1f2-66ae-44e7-aed2-103bdfdfe822",
   "metadata": {
    "execution": {
     "iopub.execute_input": "2024-11-12T01:22:35.256959Z",
     "iopub.status.busy": "2024-11-12T01:22:35.256823Z",
     "iopub.status.idle": "2024-11-12T01:22:41.041278Z",
     "shell.execute_reply": "2024-11-12T01:22:41.040913Z",
     "shell.execute_reply.started": "2024-11-12T01:22:35.256947Z"
    }
   },
   "outputs": [],
   "source": [
    "filtered = opt_ds.filter(\n",
    "        RecordStatusFilter(status=RecordStatusEnum.complete),\n",
    "        ConnectivityFilter(tolerance=1.2),\n",
    "    )"
   ]
  },
  {
   "cell_type": "code",
   "execution_count": 5,
   "id": "b3571231-289b-41f1-8287-85abca89b6bf",
   "metadata": {
    "execution": {
     "iopub.execute_input": "2024-11-12T01:22:41.041896Z",
     "iopub.status.busy": "2024-11-12T01:22:41.041755Z",
     "iopub.status.idle": "2024-11-12T01:22:41.044577Z",
     "shell.execute_reply": "2024-11-12T01:22:41.044219Z",
     "shell.execute_reply.started": "2024-11-12T01:22:41.041880Z"
    }
   },
   "outputs": [
    {
     "name": "stdout",
     "output_type": "stream",
     "text": [
      "99 327\n",
      "99 327\n"
     ]
    }
   ],
   "source": [
    "print(opt_ds.n_molecules,opt_ds.n_results)\n",
    "print(filtered.n_molecules,filtered.n_results)"
   ]
  },
  {
   "cell_type": "markdown",
   "id": "4a825469-397a-415b-8d5d-016e798dac76",
   "metadata": {},
   "source": [
    "# Set up single points"
   ]
  },
  {
   "cell_type": "code",
   "execution_count": 6,
   "id": "bba475b9-1fa9-4655-a6d7-bf52fae73682",
   "metadata": {
    "execution": {
     "iopub.execute_input": "2024-11-12T01:23:04.213882Z",
     "iopub.status.busy": "2024-11-12T01:23:04.212599Z",
     "iopub.status.idle": "2024-11-12T01:23:09.259702Z",
     "shell.execute_reply": "2024-11-12T01:23:09.259232Z",
     "shell.execute_reply.started": "2024-11-12T01:23:04.213831Z"
    }
   },
   "outputs": [],
   "source": [
    "from qcelemental.models import DriverEnum\n",
    "\n",
    "dataset = filtered.create_basic_dataset(dataset_name=\"OpenFF Iodine Chemistry Hessian Dataset v1.0\",\n",
    "                                        tagline=\"Hessian single points for the OpenFF Iodine Chemistry Optimization Dataset v1.0 dataset.\", \n",
    "                                        description=\"Hessian single points for the final molecules in the OpenFF Iodine Chemistry Optimization Dataset v1.0 dataset at the B3LYP-D3BJ/DZVP level of theory.\",\n",
    "                                        driver=DriverEnum.hessian,\n",
    "                                        metadata=Metadata(submitter=\"amcisaac\",\n",
    "                                                          long_description_url=(\n",
    "                                                              \"https://github.com/openforcefield/qca-dataset-submission/tree/master/submissions/2024-10-08-OpenFF-Iodine-Chemistry-Hessian-Dataset-v1.0\"\n",
    "                                                          )\n",
    "                                                        )\n",
    "                                       )"
   ]
  },
  {
   "cell_type": "code",
   "execution_count": 7,
   "id": "8e419645-dbaa-40aa-bec5-957cfd1586c7",
   "metadata": {
    "execution": {
     "iopub.execute_input": "2024-11-12T01:23:10.841447Z",
     "iopub.status.busy": "2024-11-12T01:23:10.840499Z",
     "iopub.status.idle": "2024-11-12T01:23:10.856787Z",
     "shell.execute_reply": "2024-11-12T01:23:10.855388Z",
     "shell.execute_reply.started": "2024-11-12T01:23:10.841408Z"
    }
   },
   "outputs": [
    {
     "data": {
      "text/plain": [
       "{'default': QCSpecification(program='psi4', driver=<SinglepointDriver.hessian: 'hessian'>, method='b3lyp-d3bj', basis='dzvp', keywords={'maxiter': 200, 'scf_properties': [<SCFProperties.Dipole: 'dipole'>, <SCFProperties.Quadrupole: 'quadrupole'>, <SCFProperties.WibergLowdinIndices: 'wiberg_lowdin_indices'>, <SCFProperties.MayerIndices: 'mayer_indices'>]}, protocols=AtomicResultProtocols(wavefunction=<WavefunctionProtocolEnum.none: 'none'>, stdout=True, error_correction=ErrorCorrectionProtocol(default_policy=True, policies=None), native_files=<NativeFilesProtocolEnum.none: 'none'>))}"
      ]
     },
     "execution_count": 7,
     "metadata": {},
     "output_type": "execute_result"
    }
   ],
   "source": [
    "dataset._get_specifications()"
   ]
  },
  {
   "cell_type": "code",
   "execution_count": 9,
   "id": "34a3958a-d774-481a-9e81-69bebbd06493",
   "metadata": {
    "execution": {
     "iopub.execute_input": "2024-11-12T01:23:52.820602Z",
     "iopub.status.busy": "2024-11-12T01:23:52.819671Z",
     "iopub.status.idle": "2024-11-12T01:23:55.318347Z",
     "shell.execute_reply": "2024-11-12T01:23:55.317976Z",
     "shell.execute_reply.started": "2024-11-12T01:23:52.820560Z"
    }
   },
   "outputs": [],
   "source": [
    "opt_hashes = {\n",
    "        rec.final_molecule.get_hash() for rec, _mol in filtered.to_records()\n",
    "    }"
   ]
  },
  {
   "cell_type": "code",
   "execution_count": 10,
   "id": "1e0980b0-0e57-4d08-a0fc-aa49c15e9cf8",
   "metadata": {
    "execution": {
     "iopub.execute_input": "2024-11-12T01:24:16.132512Z",
     "iopub.status.busy": "2024-11-12T01:24:16.131645Z",
     "iopub.status.idle": "2024-11-12T01:24:16.146242Z",
     "shell.execute_reply": "2024-11-12T01:24:16.144938Z",
     "shell.execute_reply.started": "2024-11-12T01:24:16.132471Z"
    }
   },
   "outputs": [],
   "source": [
    "new_hashes = {\n",
    "    qcemol.identifiers.molecule_hash\n",
    "    for moldata in dataset.dataset.values()\n",
    "    for qcemol in moldata.initial_molecules\n",
    "}\n"
   ]
  },
  {
   "cell_type": "code",
   "execution_count": 11,
   "id": "4e1be1c3-d67c-4703-a454-9c989f2dc7c8",
   "metadata": {
    "execution": {
     "iopub.execute_input": "2024-11-12T01:24:22.433788Z",
     "iopub.status.busy": "2024-11-12T01:24:22.432933Z",
     "iopub.status.idle": "2024-11-12T01:24:22.447630Z",
     "shell.execute_reply": "2024-11-12T01:24:22.446630Z",
     "shell.execute_reply.started": "2024-11-12T01:24:22.433746Z"
    }
   },
   "outputs": [
    {
     "data": {
      "text/plain": [
       "True"
      ]
     },
     "execution_count": 11,
     "metadata": {},
     "output_type": "execute_result"
    }
   ],
   "source": [
    "opt_hashes==new_hashes"
   ]
  },
  {
   "cell_type": "markdown",
   "id": "3edb7cf3-0065-4031-9e99-e9e432f840d8",
   "metadata": {},
   "source": [
    "Final optimization molecules and new Hessian molecules should be identical."
   ]
  },
  {
   "cell_type": "markdown",
   "id": "8e812a07-bd89-47f2-9380-6c939838aac6",
   "metadata": {},
   "source": [
    "# Exporting dataset"
   ]
  },
  {
   "cell_type": "code",
   "execution_count": 12,
   "id": "d69c1de7-42a6-407f-a555-6fc5a7ef0e61",
   "metadata": {
    "execution": {
     "iopub.execute_input": "2024-11-12T01:24:38.040314Z",
     "iopub.status.busy": "2024-11-12T01:24:38.039564Z",
     "iopub.status.idle": "2024-11-12T01:24:39.498041Z",
     "shell.execute_reply": "2024-11-12T01:24:39.497645Z",
     "shell.execute_reply.started": "2024-11-12T01:24:38.040266Z"
    }
   },
   "outputs": [
    {
     "name": "stdout",
     "output_type": "stream",
     "text": [
      "{'default': QCSpec(method='B3LYP-D3BJ', basis='DZVP', program='psi4', spec_name='default', spec_description='Standard OpenFF optimization quantum chemistry specification.', store_wavefunction=<WavefunctionProtocolEnum.none: 'none'>, implicit_solvent=None, maxiter=200, scf_properties=[<SCFProperties.Dipole: 'dipole'>, <SCFProperties.Quadrupole: 'quadrupole'>, <SCFProperties.WibergLowdinIndices: 'wiberg_lowdin_indices'>, <SCFProperties.MayerIndices: 'mayer_indices'>], keywords={})}\n"
     ]
    }
   ],
   "source": [
    "dataset.export_dataset(\"dataset.json.bz2\")\n",
    "dataset.molecules_to_file('dataset.smi', 'smi')\n",
    "dataset.visualize(\"dataset.pdf\", columns=8)\n",
    "\n",
    "print(dataset.qc_specifications)"
   ]
  },
  {
   "cell_type": "markdown",
   "id": "88a45064-d703-457e-b29b-ba0aa758ca9a",
   "metadata": {},
   "source": [
    "# Dataset information"
   ]
  },
  {
   "cell_type": "code",
   "execution_count": 14,
   "id": "dc940078-e0e4-4395-9e71-69e49064d3a1",
   "metadata": {
    "execution": {
     "iopub.execute_input": "2024-11-12T01:25:40.255588Z",
     "iopub.status.busy": "2024-11-12T01:25:40.253994Z",
     "iopub.status.idle": "2024-11-12T01:25:40.265387Z",
     "shell.execute_reply": "2024-11-12T01:25:40.264074Z",
     "shell.execute_reply.started": "2024-11-12T01:25:40.255523Z"
    }
   },
   "outputs": [],
   "source": [
    "import numpy as np\n",
    "from collections import Counter"
   ]
  },
  {
   "cell_type": "code",
   "execution_count": 15,
   "id": "388aff3d-ff0a-4c36-9d83-e6ec82d31db8",
   "metadata": {
    "execution": {
     "iopub.execute_input": "2024-11-12T01:25:40.431555Z",
     "iopub.status.busy": "2024-11-12T01:25:40.429905Z",
     "iopub.status.idle": "2024-11-12T01:25:40.441579Z",
     "shell.execute_reply": "2024-11-12T01:25:40.440425Z",
     "shell.execute_reply.started": "2024-11-12T01:25:40.431497Z"
    }
   },
   "outputs": [
    {
     "name": "stdout",
     "output_type": "stream",
     "text": [
      "n_molecules: 99\n",
      "n_conformers: 327\n"
     ]
    }
   ],
   "source": [
    "print(\"n_molecules:\", dataset.n_molecules)\n",
    "print(\"n_conformers:\", dataset.n_records)"
   ]
  },
  {
   "cell_type": "code",
   "execution_count": 16,
   "id": "8e7d50e8-201d-4f32-a2fd-c3daa60fe35d",
   "metadata": {
    "execution": {
     "iopub.execute_input": "2024-11-12T01:25:49.370929Z",
     "iopub.status.busy": "2024-11-12T01:25:49.370087Z",
     "iopub.status.idle": "2024-11-12T01:25:50.323727Z",
     "shell.execute_reply": "2024-11-12T01:25:50.323356Z",
     "shell.execute_reply.started": "2024-11-12T01:25:49.370892Z"
    }
   },
   "outputs": [],
   "source": [
    "n_confs = np.array(\n",
    "    [mol.n_conformers for mol in dataset.molecules]\n",
    ")\n",
    "n_heavy_atoms = np.array(\n",
    "    [mol.to_rdkit().GetNumHeavyAtoms() for mol in dataset.molecules]\n",
    ")"
   ]
  },
  {
   "cell_type": "code",
   "execution_count": 17,
   "id": "7ccb51cc-523a-43cd-8ab0-b5d63f9141fc",
   "metadata": {
    "execution": {
     "iopub.execute_input": "2024-11-12T01:25:51.205755Z",
     "iopub.status.busy": "2024-11-12T01:25:51.205259Z",
     "iopub.status.idle": "2024-11-12T01:25:51.216055Z",
     "shell.execute_reply": "2024-11-12T01:25:51.215261Z",
     "shell.execute_reply.started": "2024-11-12T01:25:51.205722Z"
    }
   },
   "outputs": [
    {
     "name": "stdout",
     "output_type": "stream",
     "text": [
      "Number of conformers (min, mean, max): 1 3.303030303030303 22\n",
      "# heavy atoms\n",
      "  7: 1\n",
      "  9: 1\n",
      " 10: 3\n",
      " 11: 24\n",
      " 12: 20\n",
      " 13: 11\n",
      " 14: 6\n",
      " 15: 6\n",
      " 16: 3\n",
      " 17: 5\n",
      " 18: 3\n",
      " 19: 6\n",
      " 20: 2\n",
      " 21: 1\n",
      " 22: 4\n",
      " 23: 1\n",
      " 24: 2\n"
     ]
    }
   ],
   "source": [
    "print(\n",
    "    \"Number of conformers (min, mean, max):\",\n",
    "    n_confs.min(), n_confs.mean(), n_confs.max()\n",
    ")\n",
    "print(\"# heavy atoms\")\n",
    "counts = Counter(n_heavy_atoms)\n",
    "for n_heavy in sorted(counts):\n",
    "    print(f\"{str(n_heavy):>3}: {counts[n_heavy]}\")"
   ]
  },
  {
   "cell_type": "code",
   "execution_count": 18,
   "id": "62625c83-8904-44f7-b219-8c88827bb971",
   "metadata": {
    "execution": {
     "iopub.execute_input": "2024-11-12T01:25:51.854833Z",
     "iopub.status.busy": "2024-11-12T01:25:51.853913Z",
     "iopub.status.idle": "2024-11-12T01:25:52.236624Z",
     "shell.execute_reply": "2024-11-12T01:25:52.236307Z",
     "shell.execute_reply.started": "2024-11-12T01:25:51.854788Z"
    }
   },
   "outputs": [
    {
     "data": {
      "text/plain": [
       "{-1.0, 0.0, 1.0}"
      ]
     },
     "execution_count": 18,
     "metadata": {},
     "output_type": "execute_result"
    }
   ],
   "source": [
    "from openff.units import unit\n",
    "unique_charges = set([\n",
    "    mol.total_charge.m_as(unit.elementary_charge)\n",
    "    for mol in dataset.molecules\n",
    "])\n",
    "unique_charges"
   ]
  },
  {
   "cell_type": "code",
   "execution_count": 19,
   "id": "f0291cf3-b3b4-4dfd-a2ac-07612c8d713a",
   "metadata": {
    "execution": {
     "iopub.execute_input": "2024-11-12T01:25:52.571884Z",
     "iopub.status.busy": "2024-11-12T01:25:52.571371Z",
     "iopub.status.idle": "2024-11-12T01:25:52.929324Z",
     "shell.execute_reply": "2024-11-12T01:25:52.929009Z",
     "shell.execute_reply.started": "2024-11-12T01:25:52.571852Z"
    }
   },
   "outputs": [
    {
     "name": "stdout",
     "output_type": "stream",
     "text": [
      "MW (min, mean, max): 221.94791675 318.5357888080808 533.916695\n"
     ]
    }
   ],
   "source": [
    "masses = np.array([\n",
    "    sum([atom.mass.m for atom in mol.atoms])\n",
    "    for mol in dataset.molecules\n",
    "])\n",
    "print(\"MW (min, mean, max):\", masses.min(), masses.mean(), masses.max())"
   ]
  },
  {
   "cell_type": "code",
   "execution_count": 20,
   "id": "4d17e60d-eb09-4a0c-a243-8c05fba536db",
   "metadata": {
    "execution": {
     "iopub.execute_input": "2024-11-12T01:25:53.423114Z",
     "iopub.status.busy": "2024-11-12T01:25:53.422037Z",
     "iopub.status.idle": "2024-11-12T01:25:53.777148Z",
     "shell.execute_reply": "2024-11-12T01:25:53.776806Z",
     "shell.execute_reply.started": "2024-11-12T01:25:53.423069Z"
    }
   },
   "outputs": [
    {
     "name": "stdout",
     "output_type": "stream",
     "text": [
      "{'F', 'H', 'N', 'Cl', 'C', 'O', 'Br', 'I', 'S'}\n"
     ]
    }
   ],
   "source": [
    "elements = set(\n",
    "    atom.symbol\n",
    "    for mol in dataset.molecules\n",
    "    for atom in mol.atoms\n",
    ")\n",
    "print(elements)"
   ]
  },
  {
   "cell_type": "code",
   "execution_count": null,
   "id": "9bdd7a35-9d41-4307-bb8c-26d1d5115435",
   "metadata": {},
   "outputs": [],
   "source": []
  }
 ],
 "metadata": {
  "kernelspec": {
   "display_name": "Python 3 (ipykernel)",
   "language": "python",
   "name": "python3"
  },
  "language_info": {
   "codemirror_mode": {
    "name": "ipython",
    "version": 3
   },
   "file_extension": ".py",
   "mimetype": "text/x-python",
   "name": "python",
   "nbconvert_exporter": "python",
   "pygments_lexer": "ipython3",
   "version": "3.12.7"
  }
 },
 "nbformat": 4,
 "nbformat_minor": 5
}
