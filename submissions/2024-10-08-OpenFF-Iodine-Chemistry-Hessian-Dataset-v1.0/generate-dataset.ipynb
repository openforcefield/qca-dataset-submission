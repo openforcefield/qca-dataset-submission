{
 "cells": [
  {
   "cell_type": "code",
   "execution_count": 1,
   "id": "3d3cf7ba-e0db-439e-bb2e-983a2aa463ef",
   "metadata": {
    "execution": {
     "iopub.execute_input": "2024-10-08T22:49:52.205180Z",
     "iopub.status.busy": "2024-10-08T22:49:52.204151Z",
     "iopub.status.idle": "2024-10-08T22:49:54.950602Z",
     "shell.execute_reply": "2024-10-08T22:49:54.950136Z",
     "shell.execute_reply.started": "2024-10-08T22:49:52.205106Z"
    }
   },
   "outputs": [],
   "source": [
    "from qcportal import PortalClient\n",
    "from openff.qcsubmit.results import OptimizationResultCollection,BasicResultCollection\n",
    "from openff.qcsubmit.datasets import BasicDataset\n",
    "from openff.qcsubmit.results.filters import ConnectivityFilter, RecordStatusEnum, RecordStatusFilter\n",
    "from openff.qcsubmit.factories import BasicDatasetFactory\n",
    "from openff.qcsubmit.common_structures import Metadata, QCSpec"
   ]
  },
  {
   "cell_type": "markdown",
   "id": "c3600edd-6772-47fa-b4fa-9d4428851b8e",
   "metadata": {},
   "source": [
    "# Load optimization dataset"
   ]
  },
  {
   "cell_type": "code",
   "execution_count": 2,
   "id": "b2d28e39-5696-4577-a0a8-c02b0a98d019",
   "metadata": {
    "execution": {
     "iopub.execute_input": "2024-10-08T22:49:54.952060Z",
     "iopub.status.busy": "2024-10-08T22:49:54.951737Z",
     "iopub.status.idle": "2024-10-08T22:49:55.521043Z",
     "shell.execute_reply": "2024-10-08T22:49:55.519853Z",
     "shell.execute_reply.started": "2024-10-08T22:49:54.952040Z"
    }
   },
   "outputs": [],
   "source": [
    "client = PortalClient(\"https://api.qcarchive.molssi.org:443/\")"
   ]
  },
  {
   "cell_type": "code",
   "execution_count": 3,
   "id": "ad9d088a-8000-41e0-b1e5-9b3978b886da",
   "metadata": {
    "execution": {
     "iopub.execute_input": "2024-10-08T22:49:55.523726Z",
     "iopub.status.busy": "2024-10-08T22:49:55.522462Z",
     "iopub.status.idle": "2024-10-08T22:49:57.934820Z",
     "shell.execute_reply": "2024-10-08T22:49:57.934437Z",
     "shell.execute_reply.started": "2024-10-08T22:49:55.523680Z"
    }
   },
   "outputs": [],
   "source": [
    "opt_ds = OptimizationResultCollection.from_server(client=client,datasets=['OpenFF Iodine Chemistry Optimization Dataset v1.0'])"
   ]
  },
  {
   "cell_type": "code",
   "execution_count": 4,
   "id": "bf13b1f2-66ae-44e7-aed2-103bdfdfe822",
   "metadata": {
    "execution": {
     "iopub.execute_input": "2024-10-08T22:49:57.936199Z",
     "iopub.status.busy": "2024-10-08T22:49:57.936046Z",
     "iopub.status.idle": "2024-10-08T22:50:04.880467Z",
     "shell.execute_reply": "2024-10-08T22:50:04.880106Z",
     "shell.execute_reply.started": "2024-10-08T22:49:57.936186Z"
    }
   },
   "outputs": [],
   "source": [
    "filtered = opt_ds.filter(\n",
    "        RecordStatusFilter(status=RecordStatusEnum.complete),\n",
    "        ConnectivityFilter(tolerance=1.2),\n",
    "    )"
   ]
  },
  {
   "cell_type": "code",
   "execution_count": 5,
   "id": "b3571231-289b-41f1-8287-85abca89b6bf",
   "metadata": {
    "execution": {
     "iopub.execute_input": "2024-10-08T22:50:04.881193Z",
     "iopub.status.busy": "2024-10-08T22:50:04.881056Z",
     "iopub.status.idle": "2024-10-08T22:50:04.883638Z",
     "shell.execute_reply": "2024-10-08T22:50:04.883339Z",
     "shell.execute_reply.started": "2024-10-08T22:50:04.881180Z"
    }
   },
   "outputs": [
    {
     "name": "stdout",
     "output_type": "stream",
     "text": [
      "99 327\n",
      "99 327\n"
     ]
    }
   ],
   "source": [
    "print(opt_ds.n_molecules,opt_ds.n_results)\n",
    "print(filtered.n_molecules,filtered.n_results)"
   ]
  },
  {
   "cell_type": "markdown",
   "id": "4a825469-397a-415b-8d5d-016e798dac76",
   "metadata": {},
   "source": [
    "# Set up single points"
   ]
  },
  {
   "cell_type": "code",
   "execution_count": 7,
   "id": "bba475b9-1fa9-4655-a6d7-bf52fae73682",
   "metadata": {
    "execution": {
     "iopub.execute_input": "2024-10-08T20:21:07.336433Z",
     "iopub.status.busy": "2024-10-08T20:21:07.335536Z",
     "iopub.status.idle": "2024-10-08T20:21:13.972994Z",
     "shell.execute_reply": "2024-10-08T20:21:13.972545Z",
     "shell.execute_reply.started": "2024-10-08T20:21:07.336387Z"
    }
   },
   "outputs": [],
   "source": [
    "from qcelemental.models import DriverEnum\n",
    "\n",
    "dataset = filtered.create_basic_dataset(dataset_name=\"OpenFF Iodine Chemistry Hessian Dataset v1.0\",\n",
    "                                        tagline=\"Hessian single points for the OpenFF Iodine Chemistry Optimization Dataset v1.0 dataset.\", \n",
    "                                        description=\"Hessian single points for the final molecules in the OpenFF Iodine Chemistry Optimization Dataset v1.0 dataset at the B3LYP-D3BJ/DZVP level of theory.\",\n",
    "                                        driver=DriverEnum.hessian,\n",
    "                                        metadata=Metadata(submitter=\"amcisaac\",\n",
    "                                                          long_description_url=(\n",
    "                                                              \"https://github.com/openforcefield/qca-dataset-submission/tree/master/submissions/2024-10-08-OpenFF-Iodine-Chemistry-Hessian-Dataset-v1.0\"\n",
    "                                                          )\n",
    "                                                        )\n",
    "                                       )"
   ]
  },
  {
   "cell_type": "code",
   "execution_count": 8,
   "id": "8e419645-dbaa-40aa-bec5-957cfd1586c7",
   "metadata": {
    "execution": {
     "iopub.execute_input": "2024-10-08T20:21:13.973994Z",
     "iopub.status.busy": "2024-10-08T20:21:13.973857Z",
     "iopub.status.idle": "2024-10-08T20:21:13.978417Z",
     "shell.execute_reply": "2024-10-08T20:21:13.978076Z",
     "shell.execute_reply.started": "2024-10-08T20:21:13.973981Z"
    }
   },
   "outputs": [
    {
     "data": {
      "text/plain": [
       "{'default': QCSpecification(program='psi4', driver=<SinglepointDriver.hessian: 'hessian'>, method='b3lyp-d3bj', basis='dzvp', keywords={'maxiter': 200, 'scf_properties': [<SCFProperties.Dipole: 'dipole'>, <SCFProperties.Quadrupole: 'quadrupole'>, <SCFProperties.WibergLowdinIndices: 'wiberg_lowdin_indices'>, <SCFProperties.MayerIndices: 'mayer_indices'>]}, protocols=AtomicResultProtocols(wavefunction=<WavefunctionProtocolEnum.none: 'none'>, stdout=True, error_correction=ErrorCorrectionProtocol(default_policy=True, policies=None), native_files=<NativeFilesProtocolEnum.none: 'none'>))}"
      ]
     },
     "execution_count": 8,
     "metadata": {},
     "output_type": "execute_result"
    }
   ],
   "source": [
    "dataset._get_specifications()"
   ]
  },
  {
   "cell_type": "markdown",
   "id": "8e812a07-bd89-47f2-9380-6c939838aac6",
   "metadata": {},
   "source": [
    "# Exporting dataset"
   ]
  },
  {
   "cell_type": "code",
   "execution_count": 9,
   "id": "d69c1de7-42a6-407f-a555-6fc5a7ef0e61",
   "metadata": {
    "execution": {
     "iopub.execute_input": "2024-10-08T20:21:20.576991Z",
     "iopub.status.busy": "2024-10-08T20:21:20.576163Z",
     "iopub.status.idle": "2024-10-08T20:21:21.259834Z",
     "shell.execute_reply": "2024-10-08T20:21:21.259454Z",
     "shell.execute_reply.started": "2024-10-08T20:21:20.576951Z"
    }
   },
   "outputs": [
    {
     "name": "stdout",
     "output_type": "stream",
     "text": [
      "{'default': QCSpec(method='B3LYP-D3BJ', basis='DZVP', program='psi4', spec_name='default', spec_description='Standard OpenFF optimization quantum chemistry specification.', store_wavefunction=<WavefunctionProtocolEnum.none: 'none'>, implicit_solvent=None, maxiter=200, scf_properties=[<SCFProperties.Dipole: 'dipole'>, <SCFProperties.Quadrupole: 'quadrupole'>, <SCFProperties.WibergLowdinIndices: 'wiberg_lowdin_indices'>, <SCFProperties.MayerIndices: 'mayer_indices'>], keywords={})}\n"
     ]
    }
   ],
   "source": [
    "dataset.export_dataset(\"dataset.json.bz2\")\n",
    "dataset.molecules_to_file('dataset.smi', 'smi')\n",
    "dataset.visualize(\"dataset.pdf\", columns=8)\n",
    "\n",
    "print(dataset.qc_specifications)"
   ]
  },
  {
   "cell_type": "markdown",
   "id": "88a45064-d703-457e-b29b-ba0aa758ca9a",
   "metadata": {},
   "source": [
    "# Dataset information"
   ]
  },
  {
   "cell_type": "code",
   "execution_count": 10,
   "id": "dc940078-e0e4-4395-9e71-69e49064d3a1",
   "metadata": {
    "execution": {
     "iopub.execute_input": "2024-10-08T20:21:25.328543Z",
     "iopub.status.busy": "2024-10-08T20:21:25.327027Z",
     "iopub.status.idle": "2024-10-08T20:21:25.334480Z",
     "shell.execute_reply": "2024-10-08T20:21:25.333515Z",
     "shell.execute_reply.started": "2024-10-08T20:21:25.328492Z"
    }
   },
   "outputs": [],
   "source": [
    "import numpy as np\n",
    "from collections import Counter"
   ]
  },
  {
   "cell_type": "code",
   "execution_count": 11,
   "id": "388aff3d-ff0a-4c36-9d83-e6ec82d31db8",
   "metadata": {
    "execution": {
     "iopub.execute_input": "2024-10-08T20:21:25.554680Z",
     "iopub.status.busy": "2024-10-08T20:21:25.553822Z",
     "iopub.status.idle": "2024-10-08T20:21:25.563745Z",
     "shell.execute_reply": "2024-10-08T20:21:25.562950Z",
     "shell.execute_reply.started": "2024-10-08T20:21:25.554616Z"
    }
   },
   "outputs": [
    {
     "name": "stdout",
     "output_type": "stream",
     "text": [
      "n_molecules: 99\n",
      "n_conformers: 327\n"
     ]
    }
   ],
   "source": [
    "print(\"n_molecules:\", dataset.n_molecules)\n",
    "print(\"n_conformers:\", dataset.n_records)"
   ]
  },
  {
   "cell_type": "code",
   "execution_count": 12,
   "id": "8e7d50e8-201d-4f32-a2fd-c3daa60fe35d",
   "metadata": {
    "execution": {
     "iopub.execute_input": "2024-10-08T20:21:25.719417Z",
     "iopub.status.busy": "2024-10-08T20:21:25.718266Z",
     "iopub.status.idle": "2024-10-08T20:21:26.688495Z",
     "shell.execute_reply": "2024-10-08T20:21:26.688008Z",
     "shell.execute_reply.started": "2024-10-08T20:21:25.719344Z"
    }
   },
   "outputs": [],
   "source": [
    "n_confs = np.array(\n",
    "    [mol.n_conformers for mol in dataset.molecules]\n",
    ")\n",
    "n_heavy_atoms = np.array(\n",
    "    [mol.to_rdkit().GetNumHeavyAtoms() for mol in dataset.molecules]\n",
    ")"
   ]
  },
  {
   "cell_type": "code",
   "execution_count": 13,
   "id": "7ccb51cc-523a-43cd-8ab0-b5d63f9141fc",
   "metadata": {
    "execution": {
     "iopub.execute_input": "2024-10-08T20:21:26.689515Z",
     "iopub.status.busy": "2024-10-08T20:21:26.689350Z",
     "iopub.status.idle": "2024-10-08T20:21:26.694027Z",
     "shell.execute_reply": "2024-10-08T20:21:26.693677Z",
     "shell.execute_reply.started": "2024-10-08T20:21:26.689500Z"
    }
   },
   "outputs": [
    {
     "name": "stdout",
     "output_type": "stream",
     "text": [
      "Number of conformers (min, mean, max): 1 3.303030303030303 22\n",
      "# heavy atoms\n",
      "  7: 1\n",
      "  9: 1\n",
      " 10: 3\n",
      " 11: 24\n",
      " 12: 20\n",
      " 13: 11\n",
      " 14: 6\n",
      " 15: 6\n",
      " 16: 3\n",
      " 17: 5\n",
      " 18: 3\n",
      " 19: 6\n",
      " 20: 2\n",
      " 21: 1\n",
      " 22: 4\n",
      " 23: 1\n",
      " 24: 2\n"
     ]
    }
   ],
   "source": [
    "print(\n",
    "    \"Number of conformers (min, mean, max):\",\n",
    "    n_confs.min(), n_confs.mean(), n_confs.max()\n",
    ")\n",
    "print(\"# heavy atoms\")\n",
    "counts = Counter(n_heavy_atoms)\n",
    "for n_heavy in sorted(counts):\n",
    "    print(f\"{str(n_heavy):>3}: {counts[n_heavy]}\")"
   ]
  },
  {
   "cell_type": "code",
   "execution_count": 14,
   "id": "62625c83-8904-44f7-b219-8c88827bb971",
   "metadata": {
    "execution": {
     "iopub.execute_input": "2024-10-08T20:21:26.694623Z",
     "iopub.status.busy": "2024-10-08T20:21:26.694494Z",
     "iopub.status.idle": "2024-10-08T20:21:27.055527Z",
     "shell.execute_reply": "2024-10-08T20:21:27.055211Z",
     "shell.execute_reply.started": "2024-10-08T20:21:26.694611Z"
    }
   },
   "outputs": [
    {
     "data": {
      "text/plain": [
       "{-1.0, 0.0, 1.0}"
      ]
     },
     "execution_count": 14,
     "metadata": {},
     "output_type": "execute_result"
    }
   ],
   "source": [
    "from openff.units import unit\n",
    "unique_charges = set([\n",
    "    mol.total_charge.m_as(unit.elementary_charge)\n",
    "    for mol in dataset.molecules\n",
    "])\n",
    "unique_charges"
   ]
  },
  {
   "cell_type": "code",
   "execution_count": 15,
   "id": "f0291cf3-b3b4-4dfd-a2ac-07612c8d713a",
   "metadata": {
    "execution": {
     "iopub.execute_input": "2024-10-08T20:21:27.056672Z",
     "iopub.status.busy": "2024-10-08T20:21:27.056541Z",
     "iopub.status.idle": "2024-10-08T20:21:27.388224Z",
     "shell.execute_reply": "2024-10-08T20:21:27.387770Z",
     "shell.execute_reply.started": "2024-10-08T20:21:27.056660Z"
    }
   },
   "outputs": [
    {
     "name": "stdout",
     "output_type": "stream",
     "text": [
      "MW (min, mean, max): 221.94791675 318.5357888080808 533.916695\n"
     ]
    }
   ],
   "source": [
    "masses = np.array([\n",
    "    sum([atom.mass.m for atom in mol.atoms])\n",
    "    for mol in dataset.molecules\n",
    "])\n",
    "print(\"MW (min, mean, max):\", masses.min(), masses.mean(), masses.max())"
   ]
  },
  {
   "cell_type": "code",
   "execution_count": 16,
   "id": "4d17e60d-eb09-4a0c-a243-8c05fba536db",
   "metadata": {
    "execution": {
     "iopub.execute_input": "2024-10-08T20:21:27.389501Z",
     "iopub.status.busy": "2024-10-08T20:21:27.389268Z",
     "iopub.status.idle": "2024-10-08T20:21:27.711633Z",
     "shell.execute_reply": "2024-10-08T20:21:27.711306Z",
     "shell.execute_reply.started": "2024-10-08T20:21:27.389487Z"
    }
   },
   "outputs": [
    {
     "name": "stdout",
     "output_type": "stream",
     "text": [
      "{'I', 'F', 'Br', 'C', 'Cl', 'O', 'S', 'N', 'H'}\n"
     ]
    }
   ],
   "source": [
    "elements = set(\n",
    "    atom.symbol\n",
    "    for mol in dataset.molecules\n",
    "    for atom in mol.atoms\n",
    ")\n",
    "print(elements)"
   ]
  },
  {
   "cell_type": "code",
   "execution_count": null,
   "id": "9bdd7a35-9d41-4307-bb8c-26d1d5115435",
   "metadata": {},
   "outputs": [],
   "source": []
  }
 ],
 "metadata": {
  "kernelspec": {
   "display_name": "Python 3 (ipykernel)",
   "language": "python",
   "name": "python3"
  },
  "language_info": {
   "codemirror_mode": {
    "name": "ipython",
    "version": 3
   },
   "file_extension": ".py",
   "mimetype": "text/x-python",
   "name": "python",
   "nbconvert_exporter": "python",
   "pygments_lexer": "ipython3",
   "version": "3.12.7"
  }
 },
 "nbformat": 4,
 "nbformat_minor": 5
}
