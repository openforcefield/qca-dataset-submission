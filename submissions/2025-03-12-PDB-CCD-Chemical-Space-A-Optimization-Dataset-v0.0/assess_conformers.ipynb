{
 "cells": [
  {
   "cell_type": "code",
   "execution_count": 1,
   "metadata": {},
   "outputs": [],
   "source": [
    "import copy\n",
    "import os\n",
    "import json\n",
    "import traceback\n",
    "import requests\n",
    "from collections import defaultdict\n",
    "import importlib\n",
    "import contextlib\n",
    "\n",
    "import numpy as np\n",
    "from datetime import date\n",
    "import py3Dmol\n",
    "import networkx as nx\n",
    "from pdbeccdutils.core import ccd_reader\n",
    "import rdkit\n",
    "from rdkit import Chem\n",
    "from rdkit import RDLogger\n",
    "RDLogger.DisableLog('rdApp.*')\n",
    "\n",
    "def get_entry_cif(pdb_id):\n",
    "    \"\"\"\n",
    "    Downloads and writes PDB entry updated mmCIF to a file and \n",
    "    returns the path\n",
    "\n",
    "    Args:\n",
    "        pdb_id (str): PDB id of an entry\n",
    "\n",
    "    Returns:\n",
    "        str: Path to the downloaded file\n",
    "    \"\"\"\n",
    "    ENTRY_URL = \"https://files.rcsb.org/ligands/download/\"\n",
    "    entry_url = os.path.join(ENTRY_URL, f\"{pdb_id}.cif\")\n",
    "    response = requests.get(entry_url, stream=True)\n",
    "    response.raise_for_status()\n",
    "    with open(f\"{pdb_id}.cif\", \"wb\") as fh:\n",
    "        fh.write(response.content)\n",
    "\n",
    "    return f\"{pdb_id}.cif\"\n",
    "\n",
    "def view3D(molecule):\n",
    "    \"\"\"Format 3D view of RDKit molecule\n",
    "\n",
    "    Args:\n",
    "        molecule (rdkit.Chem.rdchem.Mol): RDKit molecule to be viewed\n",
    "\n",
    "    Returns:\n",
    "        py3Dmol.view: View object.\n",
    "    \"\"\"\n",
    "    mol = Chem.Mol(molecule)\n",
    "    view = py3Dmol.view(\n",
    "        data=Chem.MolToMolBlock(mol),  # Convert the RDKit molecule for py3Dmol\n",
    "        style={\"stick\": {}, \"sphere\": {\"scale\": 0.3}}\n",
    "    )\n",
    "    return view"
   ]
  },
  {
   "cell_type": "code",
   "execution_count": 2,
   "metadata": {},
   "outputs": [
    {
     "name": "stdout",
     "output_type": "stream",
     "text": [
      "There are 4 molecules expected to have multiple conformers\n",
      "[2, 2, 2, 2]\n"
     ]
    }
   ],
   "source": [
    "conformers = []\n",
    "with open(f\"conformers.txt\", 'r') as f:\n",
    "    for line in f:\n",
    "        conformers.append(line.strip().split(\", \"))\n",
    "\n",
    "print(f\"There are {len(conformers)} molecules expected to have multiple conformers\")\n",
    "print([len(x) for x in conformers])"
   ]
  },
  {
   "cell_type": "code",
   "execution_count": 3,
   "metadata": {},
   "outputs": [],
   "source": [
    "conformers_rdmol = []\n",
    "for labels in conformers:\n",
    "    conformers_rdmol.append([])\n",
    "    for label in labels:\n",
    "        code = label.split(\"_\")[1]\n",
    "        rdmol = ccd_reader.read_pdb_cif_file(f\"cifs/{code}.cif\", sanitize=True).component.mol\n",
    "        if rdmol.GetNumConformers() > 1:\n",
    "            rdmol.RemoveConformer(0) # Remove openeye coord estimate\n",
    "        \n",
    "        conformers_rdmol[-1].append(rdmol)\n",
    "        \n",
    "conformers_rdmol.sort(key=len)"
   ]
  },
  {
   "cell_type": "markdown",
   "metadata": {},
   "source": [
    "## Molecule 1\n",
    "\n",
    "These are isomers, where the amine terminated chain has a N-O-Metal across from a C-O-Metal bond, while the second structures has a N-O-Metal bond."
   ]
  },
  {
   "cell_type": "code",
   "execution_count": 4,
   "metadata": {},
   "outputs": [
    {
     "data": {
      "application/3dmoljs_load.v0": "<div id=\"3dmolviewer_174196775543093\"  style=\"position: relative; width: 640px; height: 480px;\">\n        <p id=\"3dmolwarning_174196775543093\" style=\"background-color:#ffcccc;color:black\">3Dmol.js failed to load for some reason.  Please check your browser console for error messages.<br></p>\n        </div>\n<script>\n\nvar loadScriptAsync = function(uri){\n  return new Promise((resolve, reject) => {\n    //this is to ignore the existence of requirejs amd\n    var savedexports, savedmodule;\n    if (typeof exports !== 'undefined') savedexports = exports;\n    else exports = {}\n    if (typeof module !== 'undefined') savedmodule = module;\n    else module = {}\n\n    var tag = document.createElement('script');\n    tag.src = uri;\n    tag.async = true;\n    tag.onload = () => {\n        exports = savedexports;\n        module = savedmodule;\n        resolve();\n    };\n  var firstScriptTag = document.getElementsByTagName('script')[0];\n  firstScriptTag.parentNode.insertBefore(tag, firstScriptTag);\n});\n};\n\nif(typeof $3Dmolpromise === 'undefined') {\n$3Dmolpromise = null;\n  $3Dmolpromise = loadScriptAsync('https://cdnjs.cloudflare.com/ajax/libs/3Dmol/2.4.2/3Dmol-min.js');\n}\n\nvar viewer_174196775543093 = null;\nvar warn = document.getElementById(\"3dmolwarning_174196775543093\");\nif(warn) {\n    warn.parentNode.removeChild(warn);\n}\n$3Dmolpromise.then(function() {\nviewer_174196775543093 = $3Dmol.createViewer(document.getElementById(\"3dmolviewer_174196775543093\"),{backgroundColor:\"white\"});\nviewer_174196775543093.addModel(\"\\n     RDKit          3D\\n\\n  0  0  0  0  0  0  0  0  0  0999 V3000\\nM  V30 BEGIN CTAB\\nM  V30 COUNTS 85 89 0 0 0\\nM  V30 BEGIN ATOM\\nM  V30 1 Fe 31.454000 22.217000 35.766000 0 VAL=6\\nM  V30 2 O 33.187000 21.313000 36.062000 0\\nM  V30 3 O 32.460000 23.579000 36.910000 0\\nM  V30 4 O 32.044000 22.937000 34.031000 0\\nM  V30 5 O 29.972000 23.552000 35.368000 0\\nM  V30 6 O 30.314000 21.565000 37.252000 0\\nM  V30 7 O 30.669000 20.543000 34.932000 0\\nM  V30 8 N 34.141000 22.150000 36.603000 0\\nM  V30 9 C 33.726000 23.327000 37.024000 0\\nM  V30 10 C 34.576000 24.394000 37.655000 0\\nM  V30 11 C 35.855000 24.811000 36.932000 0\\nM  V30 12 C 35.725000 25.973000 35.956000 0\\nM  V30 13 O 35.897000 27.141000 36.358000 0\\nM  V30 14 N 35.448000 25.635000 34.723000 0\\nM  V30 15 C 35.295000 26.598000 33.640000 0\\nM  V30 16 C 33.888000 27.180000 33.588000 0\\nM  V30 17 C 32.791000 25.280000 32.315000 0\\nM  V30 18 C 32.770000 26.165000 33.543000 0\\nM  V30 19 C 31.571000 24.359000 32.208000 0\\nM  V30 20 N 31.165000 23.854000 33.507000 0\\nM  V30 21 C 30.112000 24.136000 34.235000 0\\nM  V30 22 C 29.075000 25.110000 33.790000 0\\nM  V30 23 C 27.805000 24.417000 33.286000 0\\nM  V30 24 C 26.907000 23.967000 34.423000 0\\nM  V30 25 O 26.440000 24.784000 35.213000 0\\nM  V30 26 N 26.662000 22.653000 34.499000 0\\nM  V30 27 C 25.815000 22.029000 35.514000 0\\nM  V30 28 C 26.542000 21.198000 36.536000 0\\nM  V30 29 C 27.221000 21.916000 37.688000 0\\nM  V30 30 C 27.916000 21.010000 38.619000 0\\nM  V30 31 C 28.758000 19.874000 37.961000 0\\nM  V30 32 N 29.641000 20.415000 36.920000 0\\nM  V30 33 C 29.864000 19.929000 35.705000 0\\nM  V30 34 C 29.183000 18.679000 35.236000 0\\nM  V30 35 C 35.468000 21.517000 36.580000 0\\nM  V30 36 C 35.720000 20.855000 35.242000 0\\nM  V30 37 C 35.971000 19.345000 35.321000 0\\nM  V30 38 C 35.568000 18.583000 34.071000 0\\nM  V30 39 C 36.321000 17.276000 33.984000 0\\nM  V30 40 N 36.415000 16.596000 35.296000 0\\nM  V30 41 H 34.867000 24.033000 38.653000 0\\nM  V30 42 H 33.950000 25.293000 37.758000 0\\nM  V30 43 H 36.223000 23.940000 36.370000 0\\nM  V30 44 H 36.595000 25.094000 37.695000 0\\nM  V30 45 H 35.335000 24.664000 34.512000 0\\nM  V30 46 H 35.507000 26.095000 32.685000 0\\nM  V30 47 H 36.013000 27.418000 33.790000 0\\nM  V30 48 H 33.813000 27.808000 32.688000 0\\nM  V30 49 H 33.745000 27.803000 34.483000 0\\nM  V30 50 H 33.697000 24.657000 32.350000 0\\nM  V30 51 H 32.822000 25.922000 31.423000 0\\nM  V30 52 H 31.812000 26.705000 33.564000 0\\nM  V30 53 H 32.849000 25.524000 34.433000 0\\nM  V30 54 H 30.736000 24.923000 31.768000 0\\nM  V30 55 H 31.822000 23.508000 31.557000 0\\nM  V30 56 H 29.491000 25.722000 32.976000 0\\nM  V30 57 H 28.811000 25.758000 34.639000 0\\nM  V30 58 H 27.246000 25.120000 32.651000 0\\nM  V30 59 H 28.094000 23.537000 32.693000 0\\nM  V30 60 H 27.087000 22.059000 33.816000 0\\nM  V30 61 H 25.277000 22.828000 36.046000 0\\nM  V30 62 H 25.091000 21.379000 35.000000 0\\nM  V30 63 H 25.810000 20.501000 36.971000 0\\nM  V30 64 H 27.318000 20.629000 36.003000 0\\nM  V30 65 H 27.957000 22.620000 37.273000 0\\nM  V30 66 H 26.457000 22.473000 38.250000 0\\nM  V30 67 H 28.594000 21.617000 39.238000 0\\nM  V30 68 H 27.157000 20.539000 39.261000 0\\nM  V30 69 H 28.078000 19.137000 37.510000 0\\nM  V30 70 H 29.369000 19.385000 38.734000 0\\nM  V30 71 H 29.501000 18.451000 34.208000 0\\nM  V30 72 H 29.455000 17.843000 35.897000 0\\nM  V30 73 H 28.093000 18.825000 35.259000 0\\nM  V30 74 H 35.520000 20.758000 37.374000 0\\nM  V30 75 H 36.237000 22.284000 36.754000 0\\nM  V30 76 H 36.602000 21.327000 34.785000 0\\nM  V30 77 H 34.841000 21.025000 34.603000 0\\nM  V30 78 H 35.398000 18.944000 36.170000 0\\nM  V30 79 H 37.045000 19.182000 35.494000 0\\nM  V30 80 H 35.798000 19.193000 33.185000 0\\nM  V30 81 H 34.488000 18.377000 34.105000 0\\nM  V30 82 H 35.799000 16.613000 33.278000 0\\nM  V30 83 H 37.338000 17.477000 33.615000 0\\nM  V30 84 H 36.919000 15.739000 35.192000 0\\nM  V30 85 H 36.894000 17.188000 35.944000 0\\nM  V30 END ATOM\\nM  V30 BEGIN BOND\\nM  V30 1 1 19 17\\nM  V30 2 1 19 20\\nM  V30 3 1 17 18\\nM  V30 4 1 23 22\\nM  V30 5 1 23 24\\nM  V30 6 1 20 4\\nM  V30 7 1 20 21\\nM  V30 8 1 18 16\\nM  V30 9 1 16 15\\nM  V30 10 1 15 14\\nM  V30 11 1 22 21\\nM  V30 12 1 39 38\\nM  V30 13 1 39 40\\nM  V30 14 1 4 1\\nM  V30 15 1 38 37\\nM  V30 16 2 21 5\\nM  V30 17 1 24 26\\nM  V30 18 2 24 25\\nM  V30 19 1 26 27\\nM  V30 20 1 14 12\\nM  V30 21 2 7 33\\nM  V30 22 9 7 1\\nM  V30 23 1 34 33\\nM  V30 24 1 36 37\\nM  V30 25 1 36 35\\nM  V30 26 9 5 1\\nM  V30 27 1 27 28\\nM  V30 28 1 33 32\\nM  V30 29 1 1 2\\nM  V30 30 9 3 1\\nM  V30 31 1 1 6\\nM  V30 32 2 12 13\\nM  V30 33 1 12 11\\nM  V30 34 1 2 8\\nM  V30 35 1 28 29\\nM  V30 36 1 35 8\\nM  V30 37 1 8 9\\nM  V30 38 2 3 9\\nM  V30 39 1 32 6\\nM  V30 40 1 32 31\\nM  V30 41 1 11 10\\nM  V30 42 1 9 10\\nM  V30 43 1 29 30\\nM  V30 44 1 31 30\\nM  V30 45 1 10 41\\nM  V30 46 1 10 42\\nM  V30 47 1 11 43\\nM  V30 48 1 11 44\\nM  V30 49 1 14 45\\nM  V30 50 1 15 46\\nM  V30 51 1 15 47\\nM  V30 52 1 16 48\\nM  V30 53 1 16 49\\nM  V30 54 1 17 50\\nM  V30 55 1 17 51\\nM  V30 56 1 18 52\\nM  V30 57 1 18 53\\nM  V30 58 1 19 54\\nM  V30 59 1 19 55\\nM  V30 60 1 22 56\\nM  V30 61 1 22 57\\nM  V30 62 1 23 58\\nM  V30 63 1 23 59\\nM  V30 64 1 26 60\\nM  V30 65 1 27 61\\nM  V30 66 1 27 62\\nM  V30 67 1 28 63\\nM  V30 68 1 28 64\\nM  V30 69 1 29 65\\nM  V30 70 1 29 66\\nM  V30 71 1 30 67\\nM  V30 72 1 30 68\\nM  V30 73 1 31 69\\nM  V30 74 1 31 70\\nM  V30 75 1 34 71\\nM  V30 76 1 34 72\\nM  V30 77 1 34 73\\nM  V30 78 1 35 74\\nM  V30 79 1 35 75\\nM  V30 80 1 36 76\\nM  V30 81 1 36 77\\nM  V30 82 1 37 78\\nM  V30 83 1 37 79\\nM  V30 84 1 38 80\\nM  V30 85 1 38 81\\nM  V30 86 1 39 82\\nM  V30 87 1 39 83\\nM  V30 88 1 40 84\\nM  V30 89 1 40 85\\nM  V30 END BOND\\nM  V30 END CTAB\\nM  END\\n\");\nviewer_174196775543093.setStyle({\"stick\": {}, \"sphere\": {\"scale\": 0.3}});\nviewer_174196775543093.zoomTo();\nviewer_174196775543093.render();\n});\n</script>",
      "text/html": [
       "<div id=\"3dmolviewer_174196775543093\"  style=\"position: relative; width: 640px; height: 480px;\">\n",
       "        <p id=\"3dmolwarning_174196775543093\" style=\"background-color:#ffcccc;color:black\">3Dmol.js failed to load for some reason.  Please check your browser console for error messages.<br></p>\n",
       "        </div>\n",
       "<script>\n",
       "\n",
       "var loadScriptAsync = function(uri){\n",
       "  return new Promise((resolve, reject) => {\n",
       "    //this is to ignore the existence of requirejs amd\n",
       "    var savedexports, savedmodule;\n",
       "    if (typeof exports !== 'undefined') savedexports = exports;\n",
       "    else exports = {}\n",
       "    if (typeof module !== 'undefined') savedmodule = module;\n",
       "    else module = {}\n",
       "\n",
       "    var tag = document.createElement('script');\n",
       "    tag.src = uri;\n",
       "    tag.async = true;\n",
       "    tag.onload = () => {\n",
       "        exports = savedexports;\n",
       "        module = savedmodule;\n",
       "        resolve();\n",
       "    };\n",
       "  var firstScriptTag = document.getElementsByTagName('script')[0];\n",
       "  firstScriptTag.parentNode.insertBefore(tag, firstScriptTag);\n",
       "});\n",
       "};\n",
       "\n",
       "if(typeof $3Dmolpromise === 'undefined') {\n",
       "$3Dmolpromise = null;\n",
       "  $3Dmolpromise = loadScriptAsync('https://cdnjs.cloudflare.com/ajax/libs/3Dmol/2.4.2/3Dmol-min.js');\n",
       "}\n",
       "\n",
       "var viewer_174196775543093 = null;\n",
       "var warn = document.getElementById(\"3dmolwarning_174196775543093\");\n",
       "if(warn) {\n",
       "    warn.parentNode.removeChild(warn);\n",
       "}\n",
       "$3Dmolpromise.then(function() {\n",
       "viewer_174196775543093 = $3Dmol.createViewer(document.getElementById(\"3dmolviewer_174196775543093\"),{backgroundColor:\"white\"});\n",
       "viewer_174196775543093.addModel(\"\\n     RDKit          3D\\n\\n  0  0  0  0  0  0  0  0  0  0999 V3000\\nM  V30 BEGIN CTAB\\nM  V30 COUNTS 85 89 0 0 0\\nM  V30 BEGIN ATOM\\nM  V30 1 Fe 31.454000 22.217000 35.766000 0 VAL=6\\nM  V30 2 O 33.187000 21.313000 36.062000 0\\nM  V30 3 O 32.460000 23.579000 36.910000 0\\nM  V30 4 O 32.044000 22.937000 34.031000 0\\nM  V30 5 O 29.972000 23.552000 35.368000 0\\nM  V30 6 O 30.314000 21.565000 37.252000 0\\nM  V30 7 O 30.669000 20.543000 34.932000 0\\nM  V30 8 N 34.141000 22.150000 36.603000 0\\nM  V30 9 C 33.726000 23.327000 37.024000 0\\nM  V30 10 C 34.576000 24.394000 37.655000 0\\nM  V30 11 C 35.855000 24.811000 36.932000 0\\nM  V30 12 C 35.725000 25.973000 35.956000 0\\nM  V30 13 O 35.897000 27.141000 36.358000 0\\nM  V30 14 N 35.448000 25.635000 34.723000 0\\nM  V30 15 C 35.295000 26.598000 33.640000 0\\nM  V30 16 C 33.888000 27.180000 33.588000 0\\nM  V30 17 C 32.791000 25.280000 32.315000 0\\nM  V30 18 C 32.770000 26.165000 33.543000 0\\nM  V30 19 C 31.571000 24.359000 32.208000 0\\nM  V30 20 N 31.165000 23.854000 33.507000 0\\nM  V30 21 C 30.112000 24.136000 34.235000 0\\nM  V30 22 C 29.075000 25.110000 33.790000 0\\nM  V30 23 C 27.805000 24.417000 33.286000 0\\nM  V30 24 C 26.907000 23.967000 34.423000 0\\nM  V30 25 O 26.440000 24.784000 35.213000 0\\nM  V30 26 N 26.662000 22.653000 34.499000 0\\nM  V30 27 C 25.815000 22.029000 35.514000 0\\nM  V30 28 C 26.542000 21.198000 36.536000 0\\nM  V30 29 C 27.221000 21.916000 37.688000 0\\nM  V30 30 C 27.916000 21.010000 38.619000 0\\nM  V30 31 C 28.758000 19.874000 37.961000 0\\nM  V30 32 N 29.641000 20.415000 36.920000 0\\nM  V30 33 C 29.864000 19.929000 35.705000 0\\nM  V30 34 C 29.183000 18.679000 35.236000 0\\nM  V30 35 C 35.468000 21.517000 36.580000 0\\nM  V30 36 C 35.720000 20.855000 35.242000 0\\nM  V30 37 C 35.971000 19.345000 35.321000 0\\nM  V30 38 C 35.568000 18.583000 34.071000 0\\nM  V30 39 C 36.321000 17.276000 33.984000 0\\nM  V30 40 N 36.415000 16.596000 35.296000 0\\nM  V30 41 H 34.867000 24.033000 38.653000 0\\nM  V30 42 H 33.950000 25.293000 37.758000 0\\nM  V30 43 H 36.223000 23.940000 36.370000 0\\nM  V30 44 H 36.595000 25.094000 37.695000 0\\nM  V30 45 H 35.335000 24.664000 34.512000 0\\nM  V30 46 H 35.507000 26.095000 32.685000 0\\nM  V30 47 H 36.013000 27.418000 33.790000 0\\nM  V30 48 H 33.813000 27.808000 32.688000 0\\nM  V30 49 H 33.745000 27.803000 34.483000 0\\nM  V30 50 H 33.697000 24.657000 32.350000 0\\nM  V30 51 H 32.822000 25.922000 31.423000 0\\nM  V30 52 H 31.812000 26.705000 33.564000 0\\nM  V30 53 H 32.849000 25.524000 34.433000 0\\nM  V30 54 H 30.736000 24.923000 31.768000 0\\nM  V30 55 H 31.822000 23.508000 31.557000 0\\nM  V30 56 H 29.491000 25.722000 32.976000 0\\nM  V30 57 H 28.811000 25.758000 34.639000 0\\nM  V30 58 H 27.246000 25.120000 32.651000 0\\nM  V30 59 H 28.094000 23.537000 32.693000 0\\nM  V30 60 H 27.087000 22.059000 33.816000 0\\nM  V30 61 H 25.277000 22.828000 36.046000 0\\nM  V30 62 H 25.091000 21.379000 35.000000 0\\nM  V30 63 H 25.810000 20.501000 36.971000 0\\nM  V30 64 H 27.318000 20.629000 36.003000 0\\nM  V30 65 H 27.957000 22.620000 37.273000 0\\nM  V30 66 H 26.457000 22.473000 38.250000 0\\nM  V30 67 H 28.594000 21.617000 39.238000 0\\nM  V30 68 H 27.157000 20.539000 39.261000 0\\nM  V30 69 H 28.078000 19.137000 37.510000 0\\nM  V30 70 H 29.369000 19.385000 38.734000 0\\nM  V30 71 H 29.501000 18.451000 34.208000 0\\nM  V30 72 H 29.455000 17.843000 35.897000 0\\nM  V30 73 H 28.093000 18.825000 35.259000 0\\nM  V30 74 H 35.520000 20.758000 37.374000 0\\nM  V30 75 H 36.237000 22.284000 36.754000 0\\nM  V30 76 H 36.602000 21.327000 34.785000 0\\nM  V30 77 H 34.841000 21.025000 34.603000 0\\nM  V30 78 H 35.398000 18.944000 36.170000 0\\nM  V30 79 H 37.045000 19.182000 35.494000 0\\nM  V30 80 H 35.798000 19.193000 33.185000 0\\nM  V30 81 H 34.488000 18.377000 34.105000 0\\nM  V30 82 H 35.799000 16.613000 33.278000 0\\nM  V30 83 H 37.338000 17.477000 33.615000 0\\nM  V30 84 H 36.919000 15.739000 35.192000 0\\nM  V30 85 H 36.894000 17.188000 35.944000 0\\nM  V30 END ATOM\\nM  V30 BEGIN BOND\\nM  V30 1 1 19 17\\nM  V30 2 1 19 20\\nM  V30 3 1 17 18\\nM  V30 4 1 23 22\\nM  V30 5 1 23 24\\nM  V30 6 1 20 4\\nM  V30 7 1 20 21\\nM  V30 8 1 18 16\\nM  V30 9 1 16 15\\nM  V30 10 1 15 14\\nM  V30 11 1 22 21\\nM  V30 12 1 39 38\\nM  V30 13 1 39 40\\nM  V30 14 1 4 1\\nM  V30 15 1 38 37\\nM  V30 16 2 21 5\\nM  V30 17 1 24 26\\nM  V30 18 2 24 25\\nM  V30 19 1 26 27\\nM  V30 20 1 14 12\\nM  V30 21 2 7 33\\nM  V30 22 9 7 1\\nM  V30 23 1 34 33\\nM  V30 24 1 36 37\\nM  V30 25 1 36 35\\nM  V30 26 9 5 1\\nM  V30 27 1 27 28\\nM  V30 28 1 33 32\\nM  V30 29 1 1 2\\nM  V30 30 9 3 1\\nM  V30 31 1 1 6\\nM  V30 32 2 12 13\\nM  V30 33 1 12 11\\nM  V30 34 1 2 8\\nM  V30 35 1 28 29\\nM  V30 36 1 35 8\\nM  V30 37 1 8 9\\nM  V30 38 2 3 9\\nM  V30 39 1 32 6\\nM  V30 40 1 32 31\\nM  V30 41 1 11 10\\nM  V30 42 1 9 10\\nM  V30 43 1 29 30\\nM  V30 44 1 31 30\\nM  V30 45 1 10 41\\nM  V30 46 1 10 42\\nM  V30 47 1 11 43\\nM  V30 48 1 11 44\\nM  V30 49 1 14 45\\nM  V30 50 1 15 46\\nM  V30 51 1 15 47\\nM  V30 52 1 16 48\\nM  V30 53 1 16 49\\nM  V30 54 1 17 50\\nM  V30 55 1 17 51\\nM  V30 56 1 18 52\\nM  V30 57 1 18 53\\nM  V30 58 1 19 54\\nM  V30 59 1 19 55\\nM  V30 60 1 22 56\\nM  V30 61 1 22 57\\nM  V30 62 1 23 58\\nM  V30 63 1 23 59\\nM  V30 64 1 26 60\\nM  V30 65 1 27 61\\nM  V30 66 1 27 62\\nM  V30 67 1 28 63\\nM  V30 68 1 28 64\\nM  V30 69 1 29 65\\nM  V30 70 1 29 66\\nM  V30 71 1 30 67\\nM  V30 72 1 30 68\\nM  V30 73 1 31 69\\nM  V30 74 1 31 70\\nM  V30 75 1 34 71\\nM  V30 76 1 34 72\\nM  V30 77 1 34 73\\nM  V30 78 1 35 74\\nM  V30 79 1 35 75\\nM  V30 80 1 36 76\\nM  V30 81 1 36 77\\nM  V30 82 1 37 78\\nM  V30 83 1 37 79\\nM  V30 84 1 38 80\\nM  V30 85 1 38 81\\nM  V30 86 1 39 82\\nM  V30 87 1 39 83\\nM  V30 88 1 40 84\\nM  V30 89 1 40 85\\nM  V30 END BOND\\nM  V30 END CTAB\\nM  END\\n\");\n",
       "viewer_174196775543093.setStyle({\"stick\": {}, \"sphere\": {\"scale\": 0.3}});\n",
       "viewer_174196775543093.zoomTo();\n",
       "viewer_174196775543093.render();\n",
       "});\n",
       "</script>"
      ]
     },
     "metadata": {},
     "output_type": "display_data"
    },
    {
     "data": {
      "text/plain": [
       "<py3Dmol.view at 0x11cf05610>"
      ]
     },
     "execution_count": 4,
     "metadata": {},
     "output_type": "execute_result"
    }
   ],
   "source": [
    "mols = conformers_rdmol[0]\n",
    "view3D(mols[0])"
   ]
  },
  {
   "cell_type": "code",
   "execution_count": 5,
   "metadata": {},
   "outputs": [
    {
     "data": {
      "application/3dmoljs_load.v0": "<div id=\"3dmolviewer_174196775543931\"  style=\"position: relative; width: 640px; height: 480px;\">\n        <p id=\"3dmolwarning_174196775543931\" style=\"background-color:#ffcccc;color:black\">3Dmol.js failed to load for some reason.  Please check your browser console for error messages.<br></p>\n        </div>\n<script>\n\nvar loadScriptAsync = function(uri){\n  return new Promise((resolve, reject) => {\n    //this is to ignore the existence of requirejs amd\n    var savedexports, savedmodule;\n    if (typeof exports !== 'undefined') savedexports = exports;\n    else exports = {}\n    if (typeof module !== 'undefined') savedmodule = module;\n    else module = {}\n\n    var tag = document.createElement('script');\n    tag.src = uri;\n    tag.async = true;\n    tag.onload = () => {\n        exports = savedexports;\n        module = savedmodule;\n        resolve();\n    };\n  var firstScriptTag = document.getElementsByTagName('script')[0];\n  firstScriptTag.parentNode.insertBefore(tag, firstScriptTag);\n});\n};\n\nif(typeof $3Dmolpromise === 'undefined') {\n$3Dmolpromise = null;\n  $3Dmolpromise = loadScriptAsync('https://cdnjs.cloudflare.com/ajax/libs/3Dmol/2.4.2/3Dmol-min.js');\n}\n\nvar viewer_174196775543931 = null;\nvar warn = document.getElementById(\"3dmolwarning_174196775543931\");\nif(warn) {\n    warn.parentNode.removeChild(warn);\n}\n$3Dmolpromise.then(function() {\nviewer_174196775543931 = $3Dmol.createViewer(document.getElementById(\"3dmolviewer_174196775543931\"),{backgroundColor:\"white\"});\nviewer_174196775543931.addModel(\"\\n     RDKit          3D\\n\\n  0  0  0  0  0  0  0  0  0  0999 V3000\\nM  V30 BEGIN CTAB\\nM  V30 COUNTS 85 89 0 0 0\\nM  V30 BEGIN ATOM\\nM  V30 1 Fe 1.880000 0.391000 -23.754000 0 VAL=6\\nM  V30 2 O 1.153000 -1.384000 -24.259000 0\\nM  V30 3 O 1.320000 1.012000 -25.560000 0\\nM  V30 4 O 2.544000 2.187000 -23.290000 0\\nM  V30 5 O 0.138000 1.026000 -23.061000 0\\nM  V30 6 O 2.464000 -0.291000 -21.981000 0\\nM  V30 7 O 3.666000 -0.236000 -24.395000 0\\nM  V30 8 N 0.500000 -1.129000 -25.368000 0\\nM  V30 9 C 0.773000 0.011000 -26.182000 0\\nM  V30 10 C 0.380000 0.202000 -27.612000 0\\nM  V30 11 C 1.342000 1.122000 -28.368000 0\\nM  V30 12 C 0.921000 2.576000 -28.339000 0\\nM  V30 13 O 0.309000 3.089000 -29.275000 0\\nM  V30 14 N 1.299000 3.291000 -27.279000 0\\nM  V30 15 C 1.308000 4.754000 -27.254000 0\\nM  V30 16 C 0.299000 5.338000 -26.300000 0\\nM  V30 17 C 1.676000 5.013000 -24.158000 0\\nM  V30 18 C 0.358000 4.810000 -24.872000 0\\nM  V30 19 C 1.733000 4.336000 -22.798000 0\\nM  V30 20 N 1.512000 2.880000 -22.891000 0\\nM  V30 21 C 0.261000 2.241000 -22.581000 0\\nM  V30 22 C -0.939000 2.859000 -21.939000 0\\nM  V30 23 C -1.253000 2.280000 -20.561000 0\\nM  V30 24 C -0.164000 2.538000 -19.554000 0\\nM  V30 25 O -0.111000 3.578000 -18.918000 0\\nM  V30 26 N 0.728000 1.565000 -19.382000 0\\nM  V30 27 C 1.725000 1.527000 -18.318000 0\\nM  V30 28 C 2.844000 0.575000 -18.638000 0\\nM  V30 29 C 3.836000 1.108000 -19.658000 0\\nM  V30 30 C 4.888000 0.113000 -20.106000 0\\nM  V30 31 C 4.338000 -1.091000 -20.867000 0\\nM  V30 32 N 3.693000 -0.698000 -22.127000 0\\nM  V30 33 C 4.386000 -0.655000 -23.363000 0\\nM  V30 34 C 5.837000 -1.003000 -23.549000 0\\nM  V30 35 C -0.501000 -2.114000 -25.758000 0\\nM  V30 36 C 0.112000 -3.449000 -26.096000 0\\nM  V30 37 C 1.414000 -3.363000 -26.888000 0\\nM  V30 38 C 1.503000 -4.276000 -28.105000 0\\nM  V30 39 C 2.317000 -5.535000 -27.878000 0\\nM  V30 40 N 2.227000 -6.049000 -26.514000 0\\nM  V30 41 H -0.628000 0.642000 -27.645000 0\\nM  V30 42 H 0.368000 -0.780000 -28.108000 0\\nM  V30 43 H 1.390000 0.792000 -29.416000 0\\nM  V30 44 H 2.339000 1.037000 -27.911000 0\\nM  V30 45 H 1.592000 2.802000 -26.458000 0\\nM  V30 46 H 2.310000 5.092000 -26.953000 0\\nM  V30 47 H 1.086000 5.122000 -28.266000 0\\nM  V30 48 H 0.457000 6.426000 -26.265000 0\\nM  V30 49 H -0.704000 5.126000 -26.698000 0\\nM  V30 50 H 2.480000 4.603000 -24.786000 0\\nM  V30 51 H 1.835000 6.092000 -24.018000 0\\nM  V30 52 H -0.425000 5.318000 -24.290000 0\\nM  V30 53 H 0.151000 3.730000 -24.901000 0\\nM  V30 54 H 2.723000 4.516000 -22.354000 0\\nM  V30 55 H 0.956000 4.772000 -22.152000 0\\nM  V30 56 H -0.760000 3.939000 -21.831000 0\\nM  V30 57 H -1.808000 2.695000 -22.593000 0\\nM  V30 58 H -2.185000 2.734000 -20.194000 0\\nM  V30 59 H -1.389000 1.193000 -20.660000 0\\nM  V30 60 H 0.713000 0.804000 -20.030000 0\\nM  V30 61 H 2.143000 2.536000 -18.185000 0\\nM  V30 62 H 1.239000 1.205000 -17.385000 0\\nM  V30 63 H 2.406000 -0.353000 -19.034000 0\\nM  V30 64 H 3.388000 0.356000 -17.708000 0\\nM  V30 65 H 4.351000 1.973000 -19.214000 0\\nM  V30 66 H 3.273000 1.432000 -20.545000 0\\nM  V30 67 H 5.414000 -0.256000 -19.213000 0\\nM  V30 68 H 5.600000 0.637000 -20.761000 0\\nM  V30 69 H 3.598000 -1.603000 -20.234000 0\\nM  V30 70 H 5.167000 -1.778000 -21.092000 0\\nM  V30 71 H 6.120000 -0.848000 -24.601000 0\\nM  V30 72 H 6.454000 -0.359000 -22.905000 0\\nM  V30 73 H 5.999000 -2.056000 -23.277000 0\\nM  V30 74 H -1.041000 -1.739000 -26.640000 0\\nM  V30 75 H -1.207000 -2.250000 -24.926000 0\\nM  V30 76 H -0.615000 -4.021000 -26.691000 0\\nM  V30 77 H 0.316000 -3.982000 -25.156000 0\\nM  V30 78 H 2.241000 -3.621000 -26.210000 0\\nM  V30 79 H 1.533000 -2.325000 -27.233000 0\\nM  V30 80 H 1.964000 -3.710000 -28.928000 0\\nM  V30 81 H 0.483000 -4.571000 -28.390000 0\\nM  V30 82 H 1.956000 -6.312000 -28.567000 0\\nM  V30 83 H 3.372000 -5.312000 -28.097000 0\\nM  V30 84 H 2.784000 -6.876000 -26.431000 0\\nM  V30 85 H 2.561000 -5.357000 -25.874000 0\\nM  V30 END ATOM\\nM  V30 BEGIN BOND\\nM  V30 1 2 13 12\\nM  V30 2 1 11 12\\nM  V30 3 1 11 10\\nM  V30 4 1 12 14\\nM  V30 5 1 38 39\\nM  V30 6 1 38 37\\nM  V30 7 1 39 40\\nM  V30 8 1 10 9\\nM  V30 9 1 14 15\\nM  V30 10 1 15 16\\nM  V30 11 1 37 36\\nM  V30 12 1 16 18\\nM  V30 13 2 9 3\\nM  V30 14 1 9 8\\nM  V30 15 1 36 35\\nM  V30 16 1 35 8\\nM  V30 17 9 3 1\\nM  V30 18 1 8 2\\nM  V30 19 1 18 17\\nM  V30 20 9 7 1\\nM  V30 21 2 7 33\\nM  V30 22 1 2 1\\nM  V30 23 1 17 19\\nM  V30 24 1 1 4\\nM  V30 25 9 5 1\\nM  V30 26 1 1 6\\nM  V30 27 1 34 33\\nM  V30 28 1 33 32\\nM  V30 29 1 4 20\\nM  V30 30 2 5 21\\nM  V30 31 1 20 19\\nM  V30 32 1 20 21\\nM  V30 33 1 21 22\\nM  V30 34 1 32 6\\nM  V30 35 1 32 31\\nM  V30 36 1 22 23\\nM  V30 37 1 31 30\\nM  V30 38 1 23 24\\nM  V30 39 1 30 29\\nM  V30 40 1 29 28\\nM  V30 41 1 24 26\\nM  V30 42 2 24 25\\nM  V30 43 1 26 27\\nM  V30 44 1 28 27\\nM  V30 45 1 10 41\\nM  V30 46 1 10 42\\nM  V30 47 1 11 43\\nM  V30 48 1 11 44\\nM  V30 49 1 14 45\\nM  V30 50 1 15 46\\nM  V30 51 1 15 47\\nM  V30 52 1 16 48\\nM  V30 53 1 16 49\\nM  V30 54 1 17 50\\nM  V30 55 1 17 51\\nM  V30 56 1 18 52\\nM  V30 57 1 18 53\\nM  V30 58 1 19 54\\nM  V30 59 1 19 55\\nM  V30 60 1 22 56\\nM  V30 61 1 22 57\\nM  V30 62 1 23 58\\nM  V30 63 1 23 59\\nM  V30 64 1 26 60\\nM  V30 65 1 27 61\\nM  V30 66 1 27 62\\nM  V30 67 1 28 63\\nM  V30 68 1 28 64\\nM  V30 69 1 29 65\\nM  V30 70 1 29 66\\nM  V30 71 1 30 67\\nM  V30 72 1 30 68\\nM  V30 73 1 31 69\\nM  V30 74 1 31 70\\nM  V30 75 1 34 71\\nM  V30 76 1 34 72\\nM  V30 77 1 34 73\\nM  V30 78 1 35 74\\nM  V30 79 1 35 75\\nM  V30 80 1 36 76\\nM  V30 81 1 36 77\\nM  V30 82 1 37 78\\nM  V30 83 1 37 79\\nM  V30 84 1 38 80\\nM  V30 85 1 38 81\\nM  V30 86 1 39 82\\nM  V30 87 1 39 83\\nM  V30 88 1 40 84\\nM  V30 89 1 40 85\\nM  V30 END BOND\\nM  V30 END CTAB\\nM  END\\n\");\nviewer_174196775543931.setStyle({\"stick\": {}, \"sphere\": {\"scale\": 0.3}});\nviewer_174196775543931.zoomTo();\nviewer_174196775543931.render();\n});\n</script>",
      "text/html": [
       "<div id=\"3dmolviewer_174196775543931\"  style=\"position: relative; width: 640px; height: 480px;\">\n",
       "        <p id=\"3dmolwarning_174196775543931\" style=\"background-color:#ffcccc;color:black\">3Dmol.js failed to load for some reason.  Please check your browser console for error messages.<br></p>\n",
       "        </div>\n",
       "<script>\n",
       "\n",
       "var loadScriptAsync = function(uri){\n",
       "  return new Promise((resolve, reject) => {\n",
       "    //this is to ignore the existence of requirejs amd\n",
       "    var savedexports, savedmodule;\n",
       "    if (typeof exports !== 'undefined') savedexports = exports;\n",
       "    else exports = {}\n",
       "    if (typeof module !== 'undefined') savedmodule = module;\n",
       "    else module = {}\n",
       "\n",
       "    var tag = document.createElement('script');\n",
       "    tag.src = uri;\n",
       "    tag.async = true;\n",
       "    tag.onload = () => {\n",
       "        exports = savedexports;\n",
       "        module = savedmodule;\n",
       "        resolve();\n",
       "    };\n",
       "  var firstScriptTag = document.getElementsByTagName('script')[0];\n",
       "  firstScriptTag.parentNode.insertBefore(tag, firstScriptTag);\n",
       "});\n",
       "};\n",
       "\n",
       "if(typeof $3Dmolpromise === 'undefined') {\n",
       "$3Dmolpromise = null;\n",
       "  $3Dmolpromise = loadScriptAsync('https://cdnjs.cloudflare.com/ajax/libs/3Dmol/2.4.2/3Dmol-min.js');\n",
       "}\n",
       "\n",
       "var viewer_174196775543931 = null;\n",
       "var warn = document.getElementById(\"3dmolwarning_174196775543931\");\n",
       "if(warn) {\n",
       "    warn.parentNode.removeChild(warn);\n",
       "}\n",
       "$3Dmolpromise.then(function() {\n",
       "viewer_174196775543931 = $3Dmol.createViewer(document.getElementById(\"3dmolviewer_174196775543931\"),{backgroundColor:\"white\"});\n",
       "viewer_174196775543931.addModel(\"\\n     RDKit          3D\\n\\n  0  0  0  0  0  0  0  0  0  0999 V3000\\nM  V30 BEGIN CTAB\\nM  V30 COUNTS 85 89 0 0 0\\nM  V30 BEGIN ATOM\\nM  V30 1 Fe 1.880000 0.391000 -23.754000 0 VAL=6\\nM  V30 2 O 1.153000 -1.384000 -24.259000 0\\nM  V30 3 O 1.320000 1.012000 -25.560000 0\\nM  V30 4 O 2.544000 2.187000 -23.290000 0\\nM  V30 5 O 0.138000 1.026000 -23.061000 0\\nM  V30 6 O 2.464000 -0.291000 -21.981000 0\\nM  V30 7 O 3.666000 -0.236000 -24.395000 0\\nM  V30 8 N 0.500000 -1.129000 -25.368000 0\\nM  V30 9 C 0.773000 0.011000 -26.182000 0\\nM  V30 10 C 0.380000 0.202000 -27.612000 0\\nM  V30 11 C 1.342000 1.122000 -28.368000 0\\nM  V30 12 C 0.921000 2.576000 -28.339000 0\\nM  V30 13 O 0.309000 3.089000 -29.275000 0\\nM  V30 14 N 1.299000 3.291000 -27.279000 0\\nM  V30 15 C 1.308000 4.754000 -27.254000 0\\nM  V30 16 C 0.299000 5.338000 -26.300000 0\\nM  V30 17 C 1.676000 5.013000 -24.158000 0\\nM  V30 18 C 0.358000 4.810000 -24.872000 0\\nM  V30 19 C 1.733000 4.336000 -22.798000 0\\nM  V30 20 N 1.512000 2.880000 -22.891000 0\\nM  V30 21 C 0.261000 2.241000 -22.581000 0\\nM  V30 22 C -0.939000 2.859000 -21.939000 0\\nM  V30 23 C -1.253000 2.280000 -20.561000 0\\nM  V30 24 C -0.164000 2.538000 -19.554000 0\\nM  V30 25 O -0.111000 3.578000 -18.918000 0\\nM  V30 26 N 0.728000 1.565000 -19.382000 0\\nM  V30 27 C 1.725000 1.527000 -18.318000 0\\nM  V30 28 C 2.844000 0.575000 -18.638000 0\\nM  V30 29 C 3.836000 1.108000 -19.658000 0\\nM  V30 30 C 4.888000 0.113000 -20.106000 0\\nM  V30 31 C 4.338000 -1.091000 -20.867000 0\\nM  V30 32 N 3.693000 -0.698000 -22.127000 0\\nM  V30 33 C 4.386000 -0.655000 -23.363000 0\\nM  V30 34 C 5.837000 -1.003000 -23.549000 0\\nM  V30 35 C -0.501000 -2.114000 -25.758000 0\\nM  V30 36 C 0.112000 -3.449000 -26.096000 0\\nM  V30 37 C 1.414000 -3.363000 -26.888000 0\\nM  V30 38 C 1.503000 -4.276000 -28.105000 0\\nM  V30 39 C 2.317000 -5.535000 -27.878000 0\\nM  V30 40 N 2.227000 -6.049000 -26.514000 0\\nM  V30 41 H -0.628000 0.642000 -27.645000 0\\nM  V30 42 H 0.368000 -0.780000 -28.108000 0\\nM  V30 43 H 1.390000 0.792000 -29.416000 0\\nM  V30 44 H 2.339000 1.037000 -27.911000 0\\nM  V30 45 H 1.592000 2.802000 -26.458000 0\\nM  V30 46 H 2.310000 5.092000 -26.953000 0\\nM  V30 47 H 1.086000 5.122000 -28.266000 0\\nM  V30 48 H 0.457000 6.426000 -26.265000 0\\nM  V30 49 H -0.704000 5.126000 -26.698000 0\\nM  V30 50 H 2.480000 4.603000 -24.786000 0\\nM  V30 51 H 1.835000 6.092000 -24.018000 0\\nM  V30 52 H -0.425000 5.318000 -24.290000 0\\nM  V30 53 H 0.151000 3.730000 -24.901000 0\\nM  V30 54 H 2.723000 4.516000 -22.354000 0\\nM  V30 55 H 0.956000 4.772000 -22.152000 0\\nM  V30 56 H -0.760000 3.939000 -21.831000 0\\nM  V30 57 H -1.808000 2.695000 -22.593000 0\\nM  V30 58 H -2.185000 2.734000 -20.194000 0\\nM  V30 59 H -1.389000 1.193000 -20.660000 0\\nM  V30 60 H 0.713000 0.804000 -20.030000 0\\nM  V30 61 H 2.143000 2.536000 -18.185000 0\\nM  V30 62 H 1.239000 1.205000 -17.385000 0\\nM  V30 63 H 2.406000 -0.353000 -19.034000 0\\nM  V30 64 H 3.388000 0.356000 -17.708000 0\\nM  V30 65 H 4.351000 1.973000 -19.214000 0\\nM  V30 66 H 3.273000 1.432000 -20.545000 0\\nM  V30 67 H 5.414000 -0.256000 -19.213000 0\\nM  V30 68 H 5.600000 0.637000 -20.761000 0\\nM  V30 69 H 3.598000 -1.603000 -20.234000 0\\nM  V30 70 H 5.167000 -1.778000 -21.092000 0\\nM  V30 71 H 6.120000 -0.848000 -24.601000 0\\nM  V30 72 H 6.454000 -0.359000 -22.905000 0\\nM  V30 73 H 5.999000 -2.056000 -23.277000 0\\nM  V30 74 H -1.041000 -1.739000 -26.640000 0\\nM  V30 75 H -1.207000 -2.250000 -24.926000 0\\nM  V30 76 H -0.615000 -4.021000 -26.691000 0\\nM  V30 77 H 0.316000 -3.982000 -25.156000 0\\nM  V30 78 H 2.241000 -3.621000 -26.210000 0\\nM  V30 79 H 1.533000 -2.325000 -27.233000 0\\nM  V30 80 H 1.964000 -3.710000 -28.928000 0\\nM  V30 81 H 0.483000 -4.571000 -28.390000 0\\nM  V30 82 H 1.956000 -6.312000 -28.567000 0\\nM  V30 83 H 3.372000 -5.312000 -28.097000 0\\nM  V30 84 H 2.784000 -6.876000 -26.431000 0\\nM  V30 85 H 2.561000 -5.357000 -25.874000 0\\nM  V30 END ATOM\\nM  V30 BEGIN BOND\\nM  V30 1 2 13 12\\nM  V30 2 1 11 12\\nM  V30 3 1 11 10\\nM  V30 4 1 12 14\\nM  V30 5 1 38 39\\nM  V30 6 1 38 37\\nM  V30 7 1 39 40\\nM  V30 8 1 10 9\\nM  V30 9 1 14 15\\nM  V30 10 1 15 16\\nM  V30 11 1 37 36\\nM  V30 12 1 16 18\\nM  V30 13 2 9 3\\nM  V30 14 1 9 8\\nM  V30 15 1 36 35\\nM  V30 16 1 35 8\\nM  V30 17 9 3 1\\nM  V30 18 1 8 2\\nM  V30 19 1 18 17\\nM  V30 20 9 7 1\\nM  V30 21 2 7 33\\nM  V30 22 1 2 1\\nM  V30 23 1 17 19\\nM  V30 24 1 1 4\\nM  V30 25 9 5 1\\nM  V30 26 1 1 6\\nM  V30 27 1 34 33\\nM  V30 28 1 33 32\\nM  V30 29 1 4 20\\nM  V30 30 2 5 21\\nM  V30 31 1 20 19\\nM  V30 32 1 20 21\\nM  V30 33 1 21 22\\nM  V30 34 1 32 6\\nM  V30 35 1 32 31\\nM  V30 36 1 22 23\\nM  V30 37 1 31 30\\nM  V30 38 1 23 24\\nM  V30 39 1 30 29\\nM  V30 40 1 29 28\\nM  V30 41 1 24 26\\nM  V30 42 2 24 25\\nM  V30 43 1 26 27\\nM  V30 44 1 28 27\\nM  V30 45 1 10 41\\nM  V30 46 1 10 42\\nM  V30 47 1 11 43\\nM  V30 48 1 11 44\\nM  V30 49 1 14 45\\nM  V30 50 1 15 46\\nM  V30 51 1 15 47\\nM  V30 52 1 16 48\\nM  V30 53 1 16 49\\nM  V30 54 1 17 50\\nM  V30 55 1 17 51\\nM  V30 56 1 18 52\\nM  V30 57 1 18 53\\nM  V30 58 1 19 54\\nM  V30 59 1 19 55\\nM  V30 60 1 22 56\\nM  V30 61 1 22 57\\nM  V30 62 1 23 58\\nM  V30 63 1 23 59\\nM  V30 64 1 26 60\\nM  V30 65 1 27 61\\nM  V30 66 1 27 62\\nM  V30 67 1 28 63\\nM  V30 68 1 28 64\\nM  V30 69 1 29 65\\nM  V30 70 1 29 66\\nM  V30 71 1 30 67\\nM  V30 72 1 30 68\\nM  V30 73 1 31 69\\nM  V30 74 1 31 70\\nM  V30 75 1 34 71\\nM  V30 76 1 34 72\\nM  V30 77 1 34 73\\nM  V30 78 1 35 74\\nM  V30 79 1 35 75\\nM  V30 80 1 36 76\\nM  V30 81 1 36 77\\nM  V30 82 1 37 78\\nM  V30 83 1 37 79\\nM  V30 84 1 38 80\\nM  V30 85 1 38 81\\nM  V30 86 1 39 82\\nM  V30 87 1 39 83\\nM  V30 88 1 40 84\\nM  V30 89 1 40 85\\nM  V30 END BOND\\nM  V30 END CTAB\\nM  END\\n\");\n",
       "viewer_174196775543931.setStyle({\"stick\": {}, \"sphere\": {\"scale\": 0.3}});\n",
       "viewer_174196775543931.zoomTo();\n",
       "viewer_174196775543931.render();\n",
       "});\n",
       "</script>"
      ]
     },
     "metadata": {},
     "output_type": "display_data"
    },
    {
     "data": {
      "text/plain": [
       "<py3Dmol.view at 0x11cf31a90>"
      ]
     },
     "execution_count": 5,
     "metadata": {},
     "output_type": "execute_result"
    }
   ],
   "source": [
    "view3D(mols[1])"
   ]
  },
  {
   "cell_type": "markdown",
   "metadata": {},
   "source": [
    "## Molecule 2\n",
    "\n",
    "These are isomers, not conformers"
   ]
  },
  {
   "cell_type": "code",
   "execution_count": 6,
   "metadata": {},
   "outputs": [
    {
     "data": {
      "application/3dmoljs_load.v0": "<div id=\"3dmolviewer_1741967755471895\"  style=\"position: relative; width: 640px; height: 480px;\">\n        <p id=\"3dmolwarning_1741967755471895\" style=\"background-color:#ffcccc;color:black\">3Dmol.js failed to load for some reason.  Please check your browser console for error messages.<br></p>\n        </div>\n<script>\n\nvar loadScriptAsync = function(uri){\n  return new Promise((resolve, reject) => {\n    //this is to ignore the existence of requirejs amd\n    var savedexports, savedmodule;\n    if (typeof exports !== 'undefined') savedexports = exports;\n    else exports = {}\n    if (typeof module !== 'undefined') savedmodule = module;\n    else module = {}\n\n    var tag = document.createElement('script');\n    tag.src = uri;\n    tag.async = true;\n    tag.onload = () => {\n        exports = savedexports;\n        module = savedmodule;\n        resolve();\n    };\n  var firstScriptTag = document.getElementsByTagName('script')[0];\n  firstScriptTag.parentNode.insertBefore(tag, firstScriptTag);\n});\n};\n\nif(typeof $3Dmolpromise === 'undefined') {\n$3Dmolpromise = null;\n  $3Dmolpromise = loadScriptAsync('https://cdnjs.cloudflare.com/ajax/libs/3Dmol/2.4.2/3Dmol-min.js');\n}\n\nvar viewer_1741967755471895 = null;\nvar warn = document.getElementById(\"3dmolwarning_1741967755471895\");\nif(warn) {\n    warn.parentNode.removeChild(warn);\n}\n$3Dmolpromise.then(function() {\nviewer_1741967755471895 = $3Dmol.createViewer(document.getElementById(\"3dmolviewer_1741967755471895\"),{backgroundColor:\"white\"});\nviewer_1741967755471895.addModel(\"\\n     RDKit          3D\\n\\n  0  0  0  0  0  0  0  0  0  0999 V3000\\nM  V30 BEGIN CTAB\\nM  V30 COUNTS 76 84 0 0 0\\nM  V30 BEGIN ATOM\\nM  V30 1 N 3.133000 48.933000 38.734000 0\\nM  V30 2 N 4.283000 52.740000 38.211000 0\\nM  V30 3 C 3.256000 52.508000 41.033000 0\\nM  V30 4 C 2.823000 48.260000 39.984000 0\\nM  V30 5 C 3.721000 49.332000 35.805000 0\\nM  V30 6 C 4.889000 53.237000 37.095000 0\\nM  V30 7 C 2.911000 52.418000 42.466000 0\\nM  V30 8 C 2.487000 46.923000 39.839000 0\\nM  V30 9 C 4.073000 49.395000 34.379000 0\\nM  V30 10 C 5.525000 54.596000 37.438000 0 CFG=1\\nM  V30 11 C 2.735000 51.097000 42.702000 0\\nM  V30 12 C 2.578000 46.716000 38.503000 0\\nM  V30 13 C 4.585000 50.683000 34.241000 0\\nM  V30 14 C 4.534000 55.126000 38.458000 0 CFG=2\\nM  V30 15 C 2.957000 50.399000 41.425000 0\\nM  V30 16 C 2.976000 47.964000 37.831000 0\\nM  V30 17 C 4.509000 51.311000 35.569000 0\\nM  V30 18 C 4.027000 53.818000 39.062000 0\\nM  V30 19 C 2.798000 53.497000 43.491000 0\\nM  V30 20 C 2.348000 45.516000 37.667000 0\\nM  V30 21 C 5.520000 51.150000 33.192000 0\\nM  V30 22 C 3.451000 56.040000 37.882000 0\\nM  V30 23 C 1.467000 54.223000 43.509000 0\\nM  V30 24 C 2.910000 44.353000 37.944000 0\\nM  V30 25 C 5.230000 51.032000 31.905000 0\\nM  V30 26 C 3.705000 57.444000 38.420000 0\\nM  V30 27 C 1.535000 55.286000 44.571000 0\\nM  V30 28 C 4.781000 57.217000 39.437000 0\\nM  V30 29 C 3.539000 53.713000 40.321000 0\\nM  V30 30 C 2.870000 48.997000 41.257000 0\\nM  V30 31 C 3.174000 48.181000 36.391000 0\\nM  V30 32 C 4.936000 52.629000 35.865000 0\\nM  V30 33 C 2.371000 50.460000 44.020000 0\\nM  V30 34 C 2.121000 45.962000 40.932000 0\\nM  V30 35 C 3.879000 48.282000 33.388000 0\\nM  V30 36 C 6.925000 54.519000 38.046000 0\\nM  V30 37 N 3.257000 51.286000 40.453000 0\\nM  V30 38 N 3.984000 50.468000 36.472000 0\\nM  V30 39 O 0.610000 55.209000 45.413000 0\\nM  V30 40 O 5.222000 55.945000 39.434000 0\\nM  V30 41 O 2.453000 56.121000 44.550000 0\\nM  V30 42 O 5.210000 58.095000 40.185000 0\\nM  V30 43 O 5.563000 55.441000 36.271000 0\\nM  V30 44 Fe 3.691000 50.915000 38.472000 0 CFG=2 VAL=4\\nM  V30 45 H 2.954000 53.045000 44.482000 0\\nM  V30 46 H 3.588000 54.237000 43.297000 0\\nM  V30 47 H 1.702000 45.594000 36.805000 0\\nM  V30 48 H 6.459000 51.597000 33.483000 0\\nM  V30 49 H 2.457000 55.690000 38.198000 0\\nM  V30 50 H 1.280000 54.685000 42.529000 0\\nM  V30 51 H 0.658000 53.515000 43.740000 0\\nM  V30 52 H 2.720000 43.498000 37.313000 0\\nM  V30 53 H 3.559000 44.258000 38.802000 0\\nM  V30 54 H 5.929000 51.381000 31.160000 0\\nM  V30 55 H 4.294000 50.587000 31.601000 0\\nM  V30 56 H 4.049000 58.118000 37.622000 0\\nM  V30 57 H 3.343000 54.639000 40.842000 0\\nM  V30 58 H 2.834000 48.404000 42.159000 0\\nM  V30 59 H 2.872000 47.385000 35.726000 0\\nM  V30 60 H 5.336000 53.210000 35.047000 0\\nM  V30 61 H 3.289000 50.209000 44.572000 0\\nM  V30 62 H 1.767000 51.163000 44.613000 0\\nM  V30 63 H 1.791000 49.543000 43.836000 0\\nM  V30 64 H 2.150000 46.480000 41.902000 0\\nM  V30 65 H 1.107000 45.573000 40.754000 0\\nM  V30 66 H 2.837000 45.127000 40.941000 0\\nM  V30 67 H 4.781000 47.653000 33.362000 0\\nM  V30 68 H 3.014000 47.671000 33.687000 0\\nM  V30 69 H 3.700000 48.707000 32.390000 0\\nM  V30 70 H 6.903000 53.875000 38.938000 0\\nM  V30 71 H 7.623000 54.098000 37.307000 0\\nM  V30 72 H 7.257000 55.528000 38.331000 0\\nM  V30 73 H 0.709000 55.901000 46.057000 0\\nM  V30 74 H 5.957000 56.275000 36.496000 0\\nM  V30 75 H 3.507000 56.043000 36.783000 0\\nM  V30 76 H 2.800000 57.860000 38.886000 0\\nM  V30 END ATOM\\nM  V30 BEGIN BOND\\nM  V30 1 2 25 21\\nM  V30 2 1 21 13\\nM  V30 3 1 35 9\\nM  V30 4 1 13 9\\nM  V30 5 2 13 17\\nM  V30 6 2 9 5\\nM  V30 7 1 17 32\\nM  V30 8 1 17 38\\nM  V30 9 1 5 31\\nM  V30 10 1 5 38\\nM  V30 11 2 32 6\\nM  V30 12 1 10 43 CFG=3\\nM  V30 13 2 31 16\\nM  V30 14 1 38 44\\nM  V30 15 1 6 10\\nM  V30 16 1 6 2\\nM  V30 17 1 10 36\\nM  V30 18 1 10 14\\nM  V30 19 2 20 24\\nM  V30 20 1 20 12\\nM  V30 21 1 16 12\\nM  V30 22 1 16 1\\nM  V30 23 1 22 26\\nM  V30 24 1 22 14\\nM  V30 25 9 2 44\\nM  V30 26 2 2 18\\nM  V30 27 1 26 28\\nM  V30 28 1 14 18\\nM  V30 29 1 14 40 CFG=1\\nM  V30 30 9 1 44\\nM  V30 31 1 44 37\\nM  V30 32 2 12 8\\nM  V30 33 2 1 4\\nM  V30 34 1 18 29\\nM  V30 35 1 40 28\\nM  V30 36 2 28 42\\nM  V30 37 1 8 4\\nM  V30 38 1 8 34\\nM  V30 39 1 4 30\\nM  V30 40 2 29 3\\nM  V30 41 1 37 3\\nM  V30 42 1 37 15\\nM  V30 43 1 3 7\\nM  V30 44 2 30 15\\nM  V30 45 1 15 11\\nM  V30 46 2 7 11\\nM  V30 47 1 7 19\\nM  V30 48 1 11 33\\nM  V30 49 1 19 23\\nM  V30 50 1 23 27\\nM  V30 51 2 41 27\\nM  V30 52 1 27 39\\nM  V30 53 1 19 45\\nM  V30 54 1 19 46\\nM  V30 55 1 20 47\\nM  V30 56 1 21 48\\nM  V30 57 1 22 49\\nM  V30 58 1 23 50\\nM  V30 59 1 23 51\\nM  V30 60 1 24 52\\nM  V30 61 1 24 53\\nM  V30 62 1 25 54\\nM  V30 63 1 25 55\\nM  V30 64 1 26 56\\nM  V30 65 1 29 57\\nM  V30 66 1 30 58\\nM  V30 67 1 31 59\\nM  V30 68 1 32 60\\nM  V30 69 1 33 61\\nM  V30 70 1 33 62\\nM  V30 71 1 33 63\\nM  V30 72 1 34 64\\nM  V30 73 1 34 65\\nM  V30 74 1 34 66\\nM  V30 75 1 35 67\\nM  V30 76 1 35 68\\nM  V30 77 1 35 69\\nM  V30 78 1 36 70\\nM  V30 79 1 36 71\\nM  V30 80 1 36 72\\nM  V30 81 1 39 73\\nM  V30 82 1 43 74\\nM  V30 83 1 22 75\\nM  V30 84 1 26 76\\nM  V30 END BOND\\nM  V30 END CTAB\\nM  END\\n\");\nviewer_1741967755471895.setStyle({\"stick\": {}, \"sphere\": {\"scale\": 0.3}});\nviewer_1741967755471895.zoomTo();\nviewer_1741967755471895.render();\n});\n</script>",
      "text/html": [
       "<div id=\"3dmolviewer_1741967755471895\"  style=\"position: relative; width: 640px; height: 480px;\">\n",
       "        <p id=\"3dmolwarning_1741967755471895\" style=\"background-color:#ffcccc;color:black\">3Dmol.js failed to load for some reason.  Please check your browser console for error messages.<br></p>\n",
       "        </div>\n",
       "<script>\n",
       "\n",
       "var loadScriptAsync = function(uri){\n",
       "  return new Promise((resolve, reject) => {\n",
       "    //this is to ignore the existence of requirejs amd\n",
       "    var savedexports, savedmodule;\n",
       "    if (typeof exports !== 'undefined') savedexports = exports;\n",
       "    else exports = {}\n",
       "    if (typeof module !== 'undefined') savedmodule = module;\n",
       "    else module = {}\n",
       "\n",
       "    var tag = document.createElement('script');\n",
       "    tag.src = uri;\n",
       "    tag.async = true;\n",
       "    tag.onload = () => {\n",
       "        exports = savedexports;\n",
       "        module = savedmodule;\n",
       "        resolve();\n",
       "    };\n",
       "  var firstScriptTag = document.getElementsByTagName('script')[0];\n",
       "  firstScriptTag.parentNode.insertBefore(tag, firstScriptTag);\n",
       "});\n",
       "};\n",
       "\n",
       "if(typeof $3Dmolpromise === 'undefined') {\n",
       "$3Dmolpromise = null;\n",
       "  $3Dmolpromise = loadScriptAsync('https://cdnjs.cloudflare.com/ajax/libs/3Dmol/2.4.2/3Dmol-min.js');\n",
       "}\n",
       "\n",
       "var viewer_1741967755471895 = null;\n",
       "var warn = document.getElementById(\"3dmolwarning_1741967755471895\");\n",
       "if(warn) {\n",
       "    warn.parentNode.removeChild(warn);\n",
       "}\n",
       "$3Dmolpromise.then(function() {\n",
       "viewer_1741967755471895 = $3Dmol.createViewer(document.getElementById(\"3dmolviewer_1741967755471895\"),{backgroundColor:\"white\"});\n",
       "viewer_1741967755471895.addModel(\"\\n     RDKit          3D\\n\\n  0  0  0  0  0  0  0  0  0  0999 V3000\\nM  V30 BEGIN CTAB\\nM  V30 COUNTS 76 84 0 0 0\\nM  V30 BEGIN ATOM\\nM  V30 1 N 3.133000 48.933000 38.734000 0\\nM  V30 2 N 4.283000 52.740000 38.211000 0\\nM  V30 3 C 3.256000 52.508000 41.033000 0\\nM  V30 4 C 2.823000 48.260000 39.984000 0\\nM  V30 5 C 3.721000 49.332000 35.805000 0\\nM  V30 6 C 4.889000 53.237000 37.095000 0\\nM  V30 7 C 2.911000 52.418000 42.466000 0\\nM  V30 8 C 2.487000 46.923000 39.839000 0\\nM  V30 9 C 4.073000 49.395000 34.379000 0\\nM  V30 10 C 5.525000 54.596000 37.438000 0 CFG=1\\nM  V30 11 C 2.735000 51.097000 42.702000 0\\nM  V30 12 C 2.578000 46.716000 38.503000 0\\nM  V30 13 C 4.585000 50.683000 34.241000 0\\nM  V30 14 C 4.534000 55.126000 38.458000 0 CFG=2\\nM  V30 15 C 2.957000 50.399000 41.425000 0\\nM  V30 16 C 2.976000 47.964000 37.831000 0\\nM  V30 17 C 4.509000 51.311000 35.569000 0\\nM  V30 18 C 4.027000 53.818000 39.062000 0\\nM  V30 19 C 2.798000 53.497000 43.491000 0\\nM  V30 20 C 2.348000 45.516000 37.667000 0\\nM  V30 21 C 5.520000 51.150000 33.192000 0\\nM  V30 22 C 3.451000 56.040000 37.882000 0\\nM  V30 23 C 1.467000 54.223000 43.509000 0\\nM  V30 24 C 2.910000 44.353000 37.944000 0\\nM  V30 25 C 5.230000 51.032000 31.905000 0\\nM  V30 26 C 3.705000 57.444000 38.420000 0\\nM  V30 27 C 1.535000 55.286000 44.571000 0\\nM  V30 28 C 4.781000 57.217000 39.437000 0\\nM  V30 29 C 3.539000 53.713000 40.321000 0\\nM  V30 30 C 2.870000 48.997000 41.257000 0\\nM  V30 31 C 3.174000 48.181000 36.391000 0\\nM  V30 32 C 4.936000 52.629000 35.865000 0\\nM  V30 33 C 2.371000 50.460000 44.020000 0\\nM  V30 34 C 2.121000 45.962000 40.932000 0\\nM  V30 35 C 3.879000 48.282000 33.388000 0\\nM  V30 36 C 6.925000 54.519000 38.046000 0\\nM  V30 37 N 3.257000 51.286000 40.453000 0\\nM  V30 38 N 3.984000 50.468000 36.472000 0\\nM  V30 39 O 0.610000 55.209000 45.413000 0\\nM  V30 40 O 5.222000 55.945000 39.434000 0\\nM  V30 41 O 2.453000 56.121000 44.550000 0\\nM  V30 42 O 5.210000 58.095000 40.185000 0\\nM  V30 43 O 5.563000 55.441000 36.271000 0\\nM  V30 44 Fe 3.691000 50.915000 38.472000 0 CFG=2 VAL=4\\nM  V30 45 H 2.954000 53.045000 44.482000 0\\nM  V30 46 H 3.588000 54.237000 43.297000 0\\nM  V30 47 H 1.702000 45.594000 36.805000 0\\nM  V30 48 H 6.459000 51.597000 33.483000 0\\nM  V30 49 H 2.457000 55.690000 38.198000 0\\nM  V30 50 H 1.280000 54.685000 42.529000 0\\nM  V30 51 H 0.658000 53.515000 43.740000 0\\nM  V30 52 H 2.720000 43.498000 37.313000 0\\nM  V30 53 H 3.559000 44.258000 38.802000 0\\nM  V30 54 H 5.929000 51.381000 31.160000 0\\nM  V30 55 H 4.294000 50.587000 31.601000 0\\nM  V30 56 H 4.049000 58.118000 37.622000 0\\nM  V30 57 H 3.343000 54.639000 40.842000 0\\nM  V30 58 H 2.834000 48.404000 42.159000 0\\nM  V30 59 H 2.872000 47.385000 35.726000 0\\nM  V30 60 H 5.336000 53.210000 35.047000 0\\nM  V30 61 H 3.289000 50.209000 44.572000 0\\nM  V30 62 H 1.767000 51.163000 44.613000 0\\nM  V30 63 H 1.791000 49.543000 43.836000 0\\nM  V30 64 H 2.150000 46.480000 41.902000 0\\nM  V30 65 H 1.107000 45.573000 40.754000 0\\nM  V30 66 H 2.837000 45.127000 40.941000 0\\nM  V30 67 H 4.781000 47.653000 33.362000 0\\nM  V30 68 H 3.014000 47.671000 33.687000 0\\nM  V30 69 H 3.700000 48.707000 32.390000 0\\nM  V30 70 H 6.903000 53.875000 38.938000 0\\nM  V30 71 H 7.623000 54.098000 37.307000 0\\nM  V30 72 H 7.257000 55.528000 38.331000 0\\nM  V30 73 H 0.709000 55.901000 46.057000 0\\nM  V30 74 H 5.957000 56.275000 36.496000 0\\nM  V30 75 H 3.507000 56.043000 36.783000 0\\nM  V30 76 H 2.800000 57.860000 38.886000 0\\nM  V30 END ATOM\\nM  V30 BEGIN BOND\\nM  V30 1 2 25 21\\nM  V30 2 1 21 13\\nM  V30 3 1 35 9\\nM  V30 4 1 13 9\\nM  V30 5 2 13 17\\nM  V30 6 2 9 5\\nM  V30 7 1 17 32\\nM  V30 8 1 17 38\\nM  V30 9 1 5 31\\nM  V30 10 1 5 38\\nM  V30 11 2 32 6\\nM  V30 12 1 10 43 CFG=3\\nM  V30 13 2 31 16\\nM  V30 14 1 38 44\\nM  V30 15 1 6 10\\nM  V30 16 1 6 2\\nM  V30 17 1 10 36\\nM  V30 18 1 10 14\\nM  V30 19 2 20 24\\nM  V30 20 1 20 12\\nM  V30 21 1 16 12\\nM  V30 22 1 16 1\\nM  V30 23 1 22 26\\nM  V30 24 1 22 14\\nM  V30 25 9 2 44\\nM  V30 26 2 2 18\\nM  V30 27 1 26 28\\nM  V30 28 1 14 18\\nM  V30 29 1 14 40 CFG=1\\nM  V30 30 9 1 44\\nM  V30 31 1 44 37\\nM  V30 32 2 12 8\\nM  V30 33 2 1 4\\nM  V30 34 1 18 29\\nM  V30 35 1 40 28\\nM  V30 36 2 28 42\\nM  V30 37 1 8 4\\nM  V30 38 1 8 34\\nM  V30 39 1 4 30\\nM  V30 40 2 29 3\\nM  V30 41 1 37 3\\nM  V30 42 1 37 15\\nM  V30 43 1 3 7\\nM  V30 44 2 30 15\\nM  V30 45 1 15 11\\nM  V30 46 2 7 11\\nM  V30 47 1 7 19\\nM  V30 48 1 11 33\\nM  V30 49 1 19 23\\nM  V30 50 1 23 27\\nM  V30 51 2 41 27\\nM  V30 52 1 27 39\\nM  V30 53 1 19 45\\nM  V30 54 1 19 46\\nM  V30 55 1 20 47\\nM  V30 56 1 21 48\\nM  V30 57 1 22 49\\nM  V30 58 1 23 50\\nM  V30 59 1 23 51\\nM  V30 60 1 24 52\\nM  V30 61 1 24 53\\nM  V30 62 1 25 54\\nM  V30 63 1 25 55\\nM  V30 64 1 26 56\\nM  V30 65 1 29 57\\nM  V30 66 1 30 58\\nM  V30 67 1 31 59\\nM  V30 68 1 32 60\\nM  V30 69 1 33 61\\nM  V30 70 1 33 62\\nM  V30 71 1 33 63\\nM  V30 72 1 34 64\\nM  V30 73 1 34 65\\nM  V30 74 1 34 66\\nM  V30 75 1 35 67\\nM  V30 76 1 35 68\\nM  V30 77 1 35 69\\nM  V30 78 1 36 70\\nM  V30 79 1 36 71\\nM  V30 80 1 36 72\\nM  V30 81 1 39 73\\nM  V30 82 1 43 74\\nM  V30 83 1 22 75\\nM  V30 84 1 26 76\\nM  V30 END BOND\\nM  V30 END CTAB\\nM  END\\n\");\n",
       "viewer_1741967755471895.setStyle({\"stick\": {}, \"sphere\": {\"scale\": 0.3}});\n",
       "viewer_1741967755471895.zoomTo();\n",
       "viewer_1741967755471895.render();\n",
       "});\n",
       "</script>"
      ]
     },
     "metadata": {},
     "output_type": "display_data"
    },
    {
     "data": {
      "text/plain": [
       "<py3Dmol.view at 0x11cf18110>"
      ]
     },
     "execution_count": 6,
     "metadata": {},
     "output_type": "execute_result"
    }
   ],
   "source": [
    "mols = conformers_rdmol[1]\n",
    "view3D(mols[0])"
   ]
  },
  {
   "cell_type": "code",
   "execution_count": 7,
   "metadata": {},
   "outputs": [
    {
     "data": {
      "application/3dmoljs_load.v0": "<div id=\"3dmolviewer_1741967755485728\"  style=\"position: relative; width: 640px; height: 480px;\">\n        <p id=\"3dmolwarning_1741967755485728\" style=\"background-color:#ffcccc;color:black\">3Dmol.js failed to load for some reason.  Please check your browser console for error messages.<br></p>\n        </div>\n<script>\n\nvar loadScriptAsync = function(uri){\n  return new Promise((resolve, reject) => {\n    //this is to ignore the existence of requirejs amd\n    var savedexports, savedmodule;\n    if (typeof exports !== 'undefined') savedexports = exports;\n    else exports = {}\n    if (typeof module !== 'undefined') savedmodule = module;\n    else module = {}\n\n    var tag = document.createElement('script');\n    tag.src = uri;\n    tag.async = true;\n    tag.onload = () => {\n        exports = savedexports;\n        module = savedmodule;\n        resolve();\n    };\n  var firstScriptTag = document.getElementsByTagName('script')[0];\n  firstScriptTag.parentNode.insertBefore(tag, firstScriptTag);\n});\n};\n\nif(typeof $3Dmolpromise === 'undefined') {\n$3Dmolpromise = null;\n  $3Dmolpromise = loadScriptAsync('https://cdnjs.cloudflare.com/ajax/libs/3Dmol/2.4.2/3Dmol-min.js');\n}\n\nvar viewer_1741967755485728 = null;\nvar warn = document.getElementById(\"3dmolwarning_1741967755485728\");\nif(warn) {\n    warn.parentNode.removeChild(warn);\n}\n$3Dmolpromise.then(function() {\nviewer_1741967755485728 = $3Dmol.createViewer(document.getElementById(\"3dmolviewer_1741967755485728\"),{backgroundColor:\"white\"});\nviewer_1741967755485728.addModel(\"\\n     RDKit          3D\\n\\n 76 84  0  0  0  0  0  0  0  0999 V2000\\n   -1.3720    4.9970   -8.3630 Fe  0  0  2  0  0  4  0  0  0  0  0  0\\n    1.9370    5.9510   -8.0380 C   0  0  0  0  0  0  0  0  0  0  0  0\\n   -1.7680    7.4240  -10.7720 C   0  0  0  0  0  0  0  0  0  0  0  0\\n   -4.5010    3.7110   -8.9700 C   0  0  0  0  0  0  0  0  0  0  0  0\\n   -0.9840    2.8630   -5.6120 C   0  0  0  0  0  0  0  0  0  0  0  0\\n   -0.0870    6.2960   -9.3480 N   0  0  0  0  0  0  0  0  0  0  0  0\\n    1.1990    6.5970   -8.9740 C   0  0  0  0  0  0  0  0  0  0  0  0\\n    1.5680    7.7480   -9.8420 C   0  0  0  0  0  0  0  0  0  0  0  0\\n    0.6200    8.1140  -10.7010 C   0  0  0  0  0  0  0  0  0  0  0  0\\n   -0.5020    7.2280  -10.3120 C   0  0  0  0  0  0  0  0  0  0  0  0\\n    0.5540    9.2660  -11.7190 C   0  0  0  0  0  0  0  0  0  0  0  0\\n    3.0070    8.2620   -9.8850 C   0  0  0  0  0  0  0  0  0  0  0  0\\n    3.2160    9.5660   -8.9870 C   0  0  0  0  0  0  0  0  0  0  0  0\\n    4.6820    9.9630   -9.3400 C   0  0  0  0  0  0  0  0  0  0  0  0\\n    5.4430    9.6090   -8.4220 O   0  0  0  0  0  0  0  0  0  0  0  0\\n    4.8100   10.2420  -10.5610 O   0  0  0  0  0  0  0  0  0  0  0  0\\n   -2.8100    5.4780   -9.6430 N   0  0  0  0  0  0  0  0  0  0  0  0\\n   -2.7540    6.4590  -10.5510 C   0  0  0  0  0  0  0  0  0  0  0  0\\n   -4.0550    6.5500  -11.2580 C   0  0  0  0  0  0  0  0  0  0  0  0\\n   -4.7460    5.6140  -10.5850 C   0  0  0  0  0  0  0  0  0  0  0  0\\n   -3.9700    4.7330   -9.7440 C   0  0  0  0  0  0  0  0  0  0  0  0\\n   -4.5880    7.8470  -11.9350 C   0  0  0  0  0  0  0  0  0  0  0  0\\n   -6.2420    5.2520  -10.7310 C   0  0  0  0  0  0  0  0  0  0  0  0\\n   -7.0640    6.1980  -10.9060 C   0  0  0  0  0  0  0  0  0  0  0  0\\n   -2.4160    3.3410   -7.6400 N   0  0  0  0  0  0  0  0  0  0  0  0\\n   -3.7650    3.1940   -7.9400 C   0  0  0  0  0  0  0  0  0  0  0  0\\n   -4.3070    2.2230   -6.9860 C   0  0  0  0  0  0  0  0  0  0  0  0\\n   -3.3270    2.0530   -6.0680 C   0  0  0  0  0  0  0  0  0  0  0  0\\n   -2.1710    2.8930   -6.3760 C   0  0  0  0  0  0  0  0  0  0  0  0\\n   -5.7370    1.6170   -6.9330 C   0  0  0  0  0  0  0  0  0  0  0  0\\n   -3.3430    1.3710   -4.6980 C   0  0  0  0  0  0  0  0  0  0  0  0\\n   -4.4510    0.8280   -4.3920 C   0  0  0  0  0  0  0  0  0  0  0  0\\n    0.3090    4.4330   -7.2150 N   0  0  0  0  0  0  0  0  0  0  0  0\\n    0.0330    3.6110   -6.1380 C   0  0  0  0  0  0  0  0  0  0  0  0\\n    1.3270    3.6130   -5.2890 C   0  0  2  0  0  0  0  0  0  0  0  0\\n    2.1520    4.4250   -5.8060 C   0  0  2  0  0  0  0  0  0  0  0  0\\n    1.4940    5.0420   -7.0210 C   0  0  0  0  0  0  0  0  0  0  0  0\\n    1.7210    2.1520   -4.9340 C   0  0  0  0  0  0  0  0  0  0  0  0\\n    3.4370    4.0320   -6.6220 C   0  0  0  0  0  0  0  0  0  0  0  0\\n    4.6170    4.6530   -5.8940 C   0  0  0  0  0  0  0  0  0  0  0  0\\n    4.0790    5.7390   -5.0800 C   0  0  0  0  0  0  0  0  0  0  0  0\\n    2.7800    5.6970   -5.1560 O   0  0  0  0  0  0  0  0  0  0  0  0\\n    4.6190    6.6720   -4.5650 O   0  0  0  0  0  0  0  0  0  0  0  0\\n    1.0460    4.1450   -3.8940 O   0  0  0  0  0  0  0  0  0  0  0  0\\n    3.0110    6.1900   -8.1110 H   0  0  0  0  0  0  0  0  0  0  0  0\\n   -1.9920    8.3550  -11.3180 H   0  0  0  0  0  0  0  0  0  0  0  0\\n   -5.5080    3.3090   -9.1730 H   0  0  0  0  0  0  0  0  0  0  0  0\\n   -0.8600    2.2970   -4.6730 H   0  0  0  0  0  0  0  0  0  0  0  0\\n   -0.2400    9.5720  -12.4380 H   0  0  0  0  0  0  0  0  0  0  0  0\\n    0.7560   10.1830  -11.1180 H   0  0  0  0  0  0  0  0  0  0  0  0\\n    1.4660    9.1370  -12.3460 H   0  0  0  0  0  0  0  0  0  0  0  0\\n    3.7280    7.4600   -9.6020 H   0  0  0  0  0  0  0  0  0  0  0  0\\n    3.3380    8.4390  -10.9340 H   0  0  0  0  0  0  0  0  0  0  0  0\\n    2.4580   10.3700   -9.1350 H   0  0  0  0  0  0  0  0  0  0  0  0\\n    3.0100    9.4300   -7.8990 H   0  0  0  0  0  0  0  0  0  0  0  0\\n    5.7030   10.4830  -10.7760 H   0  0  0  0  0  0  0  0  0  0  0  0\\n   -5.5650    7.9150  -12.4660 H   0  0  0  0  0  0  0  0  0  0  0  0\\n   -4.5790    8.6480  -11.1590 H   0  0  0  0  0  0  0  0  0  0  0  0\\n   -3.8020    8.1900  -12.6480 H   0  0  0  0  0  0  0  0  0  0  0  0\\n   -6.7470    4.2710  -10.7090 H   0  0  0  0  0  0  0  0  0  0  0  0\\n   -6.5580    7.1780  -10.9270 H   0  0  0  0  0  0  0  0  0  0  0  0\\n   -8.1310    5.9390  -11.0100 H   0  0  0  0  0  0  0  0  0  0  0  0\\n   -6.1490    0.8780   -6.2070 H   0  0  0  0  0  0  0  0  0  0  0  0\\n   -6.4310    2.4890   -6.9000 H   0  0  0  0  0  0  0  0  0  0  0  0\\n   -5.9130    1.1760   -7.9420 H   0  0  0  0  0  0  0  0  0  0  0  0\\n   -2.5560    1.2700   -3.9310 H   0  0  0  0  0  0  0  0  0  0  0  0\\n   -5.2370    0.9280   -5.1580 H   0  0  0  0  0  0  0  0  0  0  0  0\\n   -4.4620    0.3360   -3.4040 H   0  0  0  0  0  0  0  0  0  0  0  0\\n    2.6530    2.1530   -4.3220 H   0  0  0  0  0  0  0  0  0  0  0  0\\n    0.8900    1.6020   -4.4320 H   0  0  0  0  0  0  0  0  0  0  0  0\\n    1.8140    1.5090   -5.8400 H   0  0  0  0  0  0  0  0  0  0  0  0\\n    3.5420    2.9320   -6.7760 H   0  0  0  0  0  0  0  0  0  0  0  0\\n    3.3810    4.3180   -7.6980 H   0  0  0  0  0  0  0  0  0  0  0  0\\n    5.2110    3.9140   -5.3060 H   0  0  0  0  0  0  0  0  0  0  0  0\\n    5.4350    4.9780   -6.5770 H   0  0  0  0  0  0  0  0  0  0  0  0\\n    1.8400    4.1460   -3.3720 H   0  0  0  0  0  0  0  0  0  0  0  0\\n  1  6  1  0\\n  1 17  1  0\\n  1 25  1  0\\n  1 33  1  0\\n  2  7  1  0\\n  2 37  2  0\\n  2 45  1  0\\n  3 10  1  0\\n  3 18  2  0\\n  3 46  1  0\\n  4 21  2  0\\n  4 26  1  0\\n  4 47  1  0\\n  5 29  1  0\\n  5 34  2  0\\n  5 48  1  0\\n  6  7  1  0\\n  6 10  1  0\\n  7  8  2  0\\n  8  9  1  0\\n  8 12  1  0\\n  9 10  2  0\\n  9 11  1  0\\n 11 49  1  0\\n 11 50  1  0\\n 11 51  1  0\\n 12 13  1  0\\n 12 52  1  0\\n 12 53  1  0\\n 13 14  1  0\\n 13 54  1  0\\n 13 55  1  0\\n 14 15  2  0\\n 14 16  1  0\\n 16 56  1  0\\n 17 18  1  0\\n 17 21  1  0\\n 18 19  1  0\\n 19 20  2  0\\n 19 22  1  0\\n 20 21  1  0\\n 20 23  1  0\\n 22 57  1  0\\n 22 58  1  0\\n 22 59  1  0\\n 23 24  2  0\\n 23 60  1  0\\n 24 61  1  0\\n 24 62  1  0\\n 25 26  1  0\\n 25 29  1  0\\n 26 27  2  0\\n 27 28  1  0\\n 27 30  1  0\\n 28 29  2  0\\n 28 31  1  0\\n 30 63  1  0\\n 30 64  1  0\\n 30 65  1  0\\n 31 32  2  0\\n 31 66  1  0\\n 32 67  1  0\\n 32 68  1  0\\n 33 34  1  0\\n 33 37  1  0\\n 34 35  1  0\\n 35 36  1  0\\n 35 38  1  0\\n 35 44  1  1\\n 36 37  1  0\\n 36 39  1  0\\n 36 42  1  1\\n 38 69  1  0\\n 38 70  1  0\\n 38 71  1  0\\n 39 40  1  0\\n 39 72  1  0\\n 39 73  1  0\\n 40 41  1  0\\n 40 74  1  0\\n 40 75  1  0\\n 41 42  1  0\\n 41 43  2  0\\n 44 76  1  0\\nM  END\\n\");\nviewer_1741967755485728.setStyle({\"stick\": {}, \"sphere\": {\"scale\": 0.3}});\nviewer_1741967755485728.zoomTo();\nviewer_1741967755485728.render();\n});\n</script>",
      "text/html": [
       "<div id=\"3dmolviewer_1741967755485728\"  style=\"position: relative; width: 640px; height: 480px;\">\n",
       "        <p id=\"3dmolwarning_1741967755485728\" style=\"background-color:#ffcccc;color:black\">3Dmol.js failed to load for some reason.  Please check your browser console for error messages.<br></p>\n",
       "        </div>\n",
       "<script>\n",
       "\n",
       "var loadScriptAsync = function(uri){\n",
       "  return new Promise((resolve, reject) => {\n",
       "    //this is to ignore the existence of requirejs amd\n",
       "    var savedexports, savedmodule;\n",
       "    if (typeof exports !== 'undefined') savedexports = exports;\n",
       "    else exports = {}\n",
       "    if (typeof module !== 'undefined') savedmodule = module;\n",
       "    else module = {}\n",
       "\n",
       "    var tag = document.createElement('script');\n",
       "    tag.src = uri;\n",
       "    tag.async = true;\n",
       "    tag.onload = () => {\n",
       "        exports = savedexports;\n",
       "        module = savedmodule;\n",
       "        resolve();\n",
       "    };\n",
       "  var firstScriptTag = document.getElementsByTagName('script')[0];\n",
       "  firstScriptTag.parentNode.insertBefore(tag, firstScriptTag);\n",
       "});\n",
       "};\n",
       "\n",
       "if(typeof $3Dmolpromise === 'undefined') {\n",
       "$3Dmolpromise = null;\n",
       "  $3Dmolpromise = loadScriptAsync('https://cdnjs.cloudflare.com/ajax/libs/3Dmol/2.4.2/3Dmol-min.js');\n",
       "}\n",
       "\n",
       "var viewer_1741967755485728 = null;\n",
       "var warn = document.getElementById(\"3dmolwarning_1741967755485728\");\n",
       "if(warn) {\n",
       "    warn.parentNode.removeChild(warn);\n",
       "}\n",
       "$3Dmolpromise.then(function() {\n",
       "viewer_1741967755485728 = $3Dmol.createViewer(document.getElementById(\"3dmolviewer_1741967755485728\"),{backgroundColor:\"white\"});\n",
       "viewer_1741967755485728.addModel(\"\\n     RDKit          3D\\n\\n 76 84  0  0  0  0  0  0  0  0999 V2000\\n   -1.3720    4.9970   -8.3630 Fe  0  0  2  0  0  4  0  0  0  0  0  0\\n    1.9370    5.9510   -8.0380 C   0  0  0  0  0  0  0  0  0  0  0  0\\n   -1.7680    7.4240  -10.7720 C   0  0  0  0  0  0  0  0  0  0  0  0\\n   -4.5010    3.7110   -8.9700 C   0  0  0  0  0  0  0  0  0  0  0  0\\n   -0.9840    2.8630   -5.6120 C   0  0  0  0  0  0  0  0  0  0  0  0\\n   -0.0870    6.2960   -9.3480 N   0  0  0  0  0  0  0  0  0  0  0  0\\n    1.1990    6.5970   -8.9740 C   0  0  0  0  0  0  0  0  0  0  0  0\\n    1.5680    7.7480   -9.8420 C   0  0  0  0  0  0  0  0  0  0  0  0\\n    0.6200    8.1140  -10.7010 C   0  0  0  0  0  0  0  0  0  0  0  0\\n   -0.5020    7.2280  -10.3120 C   0  0  0  0  0  0  0  0  0  0  0  0\\n    0.5540    9.2660  -11.7190 C   0  0  0  0  0  0  0  0  0  0  0  0\\n    3.0070    8.2620   -9.8850 C   0  0  0  0  0  0  0  0  0  0  0  0\\n    3.2160    9.5660   -8.9870 C   0  0  0  0  0  0  0  0  0  0  0  0\\n    4.6820    9.9630   -9.3400 C   0  0  0  0  0  0  0  0  0  0  0  0\\n    5.4430    9.6090   -8.4220 O   0  0  0  0  0  0  0  0  0  0  0  0\\n    4.8100   10.2420  -10.5610 O   0  0  0  0  0  0  0  0  0  0  0  0\\n   -2.8100    5.4780   -9.6430 N   0  0  0  0  0  0  0  0  0  0  0  0\\n   -2.7540    6.4590  -10.5510 C   0  0  0  0  0  0  0  0  0  0  0  0\\n   -4.0550    6.5500  -11.2580 C   0  0  0  0  0  0  0  0  0  0  0  0\\n   -4.7460    5.6140  -10.5850 C   0  0  0  0  0  0  0  0  0  0  0  0\\n   -3.9700    4.7330   -9.7440 C   0  0  0  0  0  0  0  0  0  0  0  0\\n   -4.5880    7.8470  -11.9350 C   0  0  0  0  0  0  0  0  0  0  0  0\\n   -6.2420    5.2520  -10.7310 C   0  0  0  0  0  0  0  0  0  0  0  0\\n   -7.0640    6.1980  -10.9060 C   0  0  0  0  0  0  0  0  0  0  0  0\\n   -2.4160    3.3410   -7.6400 N   0  0  0  0  0  0  0  0  0  0  0  0\\n   -3.7650    3.1940   -7.9400 C   0  0  0  0  0  0  0  0  0  0  0  0\\n   -4.3070    2.2230   -6.9860 C   0  0  0  0  0  0  0  0  0  0  0  0\\n   -3.3270    2.0530   -6.0680 C   0  0  0  0  0  0  0  0  0  0  0  0\\n   -2.1710    2.8930   -6.3760 C   0  0  0  0  0  0  0  0  0  0  0  0\\n   -5.7370    1.6170   -6.9330 C   0  0  0  0  0  0  0  0  0  0  0  0\\n   -3.3430    1.3710   -4.6980 C   0  0  0  0  0  0  0  0  0  0  0  0\\n   -4.4510    0.8280   -4.3920 C   0  0  0  0  0  0  0  0  0  0  0  0\\n    0.3090    4.4330   -7.2150 N   0  0  0  0  0  0  0  0  0  0  0  0\\n    0.0330    3.6110   -6.1380 C   0  0  0  0  0  0  0  0  0  0  0  0\\n    1.3270    3.6130   -5.2890 C   0  0  2  0  0  0  0  0  0  0  0  0\\n    2.1520    4.4250   -5.8060 C   0  0  2  0  0  0  0  0  0  0  0  0\\n    1.4940    5.0420   -7.0210 C   0  0  0  0  0  0  0  0  0  0  0  0\\n    1.7210    2.1520   -4.9340 C   0  0  0  0  0  0  0  0  0  0  0  0\\n    3.4370    4.0320   -6.6220 C   0  0  0  0  0  0  0  0  0  0  0  0\\n    4.6170    4.6530   -5.8940 C   0  0  0  0  0  0  0  0  0  0  0  0\\n    4.0790    5.7390   -5.0800 C   0  0  0  0  0  0  0  0  0  0  0  0\\n    2.7800    5.6970   -5.1560 O   0  0  0  0  0  0  0  0  0  0  0  0\\n    4.6190    6.6720   -4.5650 O   0  0  0  0  0  0  0  0  0  0  0  0\\n    1.0460    4.1450   -3.8940 O   0  0  0  0  0  0  0  0  0  0  0  0\\n    3.0110    6.1900   -8.1110 H   0  0  0  0  0  0  0  0  0  0  0  0\\n   -1.9920    8.3550  -11.3180 H   0  0  0  0  0  0  0  0  0  0  0  0\\n   -5.5080    3.3090   -9.1730 H   0  0  0  0  0  0  0  0  0  0  0  0\\n   -0.8600    2.2970   -4.6730 H   0  0  0  0  0  0  0  0  0  0  0  0\\n   -0.2400    9.5720  -12.4380 H   0  0  0  0  0  0  0  0  0  0  0  0\\n    0.7560   10.1830  -11.1180 H   0  0  0  0  0  0  0  0  0  0  0  0\\n    1.4660    9.1370  -12.3460 H   0  0  0  0  0  0  0  0  0  0  0  0\\n    3.7280    7.4600   -9.6020 H   0  0  0  0  0  0  0  0  0  0  0  0\\n    3.3380    8.4390  -10.9340 H   0  0  0  0  0  0  0  0  0  0  0  0\\n    2.4580   10.3700   -9.1350 H   0  0  0  0  0  0  0  0  0  0  0  0\\n    3.0100    9.4300   -7.8990 H   0  0  0  0  0  0  0  0  0  0  0  0\\n    5.7030   10.4830  -10.7760 H   0  0  0  0  0  0  0  0  0  0  0  0\\n   -5.5650    7.9150  -12.4660 H   0  0  0  0  0  0  0  0  0  0  0  0\\n   -4.5790    8.6480  -11.1590 H   0  0  0  0  0  0  0  0  0  0  0  0\\n   -3.8020    8.1900  -12.6480 H   0  0  0  0  0  0  0  0  0  0  0  0\\n   -6.7470    4.2710  -10.7090 H   0  0  0  0  0  0  0  0  0  0  0  0\\n   -6.5580    7.1780  -10.9270 H   0  0  0  0  0  0  0  0  0  0  0  0\\n   -8.1310    5.9390  -11.0100 H   0  0  0  0  0  0  0  0  0  0  0  0\\n   -6.1490    0.8780   -6.2070 H   0  0  0  0  0  0  0  0  0  0  0  0\\n   -6.4310    2.4890   -6.9000 H   0  0  0  0  0  0  0  0  0  0  0  0\\n   -5.9130    1.1760   -7.9420 H   0  0  0  0  0  0  0  0  0  0  0  0\\n   -2.5560    1.2700   -3.9310 H   0  0  0  0  0  0  0  0  0  0  0  0\\n   -5.2370    0.9280   -5.1580 H   0  0  0  0  0  0  0  0  0  0  0  0\\n   -4.4620    0.3360   -3.4040 H   0  0  0  0  0  0  0  0  0  0  0  0\\n    2.6530    2.1530   -4.3220 H   0  0  0  0  0  0  0  0  0  0  0  0\\n    0.8900    1.6020   -4.4320 H   0  0  0  0  0  0  0  0  0  0  0  0\\n    1.8140    1.5090   -5.8400 H   0  0  0  0  0  0  0  0  0  0  0  0\\n    3.5420    2.9320   -6.7760 H   0  0  0  0  0  0  0  0  0  0  0  0\\n    3.3810    4.3180   -7.6980 H   0  0  0  0  0  0  0  0  0  0  0  0\\n    5.2110    3.9140   -5.3060 H   0  0  0  0  0  0  0  0  0  0  0  0\\n    5.4350    4.9780   -6.5770 H   0  0  0  0  0  0  0  0  0  0  0  0\\n    1.8400    4.1460   -3.3720 H   0  0  0  0  0  0  0  0  0  0  0  0\\n  1  6  1  0\\n  1 17  1  0\\n  1 25  1  0\\n  1 33  1  0\\n  2  7  1  0\\n  2 37  2  0\\n  2 45  1  0\\n  3 10  1  0\\n  3 18  2  0\\n  3 46  1  0\\n  4 21  2  0\\n  4 26  1  0\\n  4 47  1  0\\n  5 29  1  0\\n  5 34  2  0\\n  5 48  1  0\\n  6  7  1  0\\n  6 10  1  0\\n  7  8  2  0\\n  8  9  1  0\\n  8 12  1  0\\n  9 10  2  0\\n  9 11  1  0\\n 11 49  1  0\\n 11 50  1  0\\n 11 51  1  0\\n 12 13  1  0\\n 12 52  1  0\\n 12 53  1  0\\n 13 14  1  0\\n 13 54  1  0\\n 13 55  1  0\\n 14 15  2  0\\n 14 16  1  0\\n 16 56  1  0\\n 17 18  1  0\\n 17 21  1  0\\n 18 19  1  0\\n 19 20  2  0\\n 19 22  1  0\\n 20 21  1  0\\n 20 23  1  0\\n 22 57  1  0\\n 22 58  1  0\\n 22 59  1  0\\n 23 24  2  0\\n 23 60  1  0\\n 24 61  1  0\\n 24 62  1  0\\n 25 26  1  0\\n 25 29  1  0\\n 26 27  2  0\\n 27 28  1  0\\n 27 30  1  0\\n 28 29  2  0\\n 28 31  1  0\\n 30 63  1  0\\n 30 64  1  0\\n 30 65  1  0\\n 31 32  2  0\\n 31 66  1  0\\n 32 67  1  0\\n 32 68  1  0\\n 33 34  1  0\\n 33 37  1  0\\n 34 35  1  0\\n 35 36  1  0\\n 35 38  1  0\\n 35 44  1  1\\n 36 37  1  0\\n 36 39  1  0\\n 36 42  1  1\\n 38 69  1  0\\n 38 70  1  0\\n 38 71  1  0\\n 39 40  1  0\\n 39 72  1  0\\n 39 73  1  0\\n 40 41  1  0\\n 40 74  1  0\\n 40 75  1  0\\n 41 42  1  0\\n 41 43  2  0\\n 44 76  1  0\\nM  END\\n\");\n",
       "viewer_1741967755485728.setStyle({\"stick\": {}, \"sphere\": {\"scale\": 0.3}});\n",
       "viewer_1741967755485728.zoomTo();\n",
       "viewer_1741967755485728.render();\n",
       "});\n",
       "</script>"
      ]
     },
     "metadata": {},
     "output_type": "display_data"
    },
    {
     "data": {
      "text/plain": [
       "<py3Dmol.view at 0x11cf18790>"
      ]
     },
     "execution_count": 7,
     "metadata": {},
     "output_type": "execute_result"
    }
   ],
   "source": [
    "view3D(mols[1])"
   ]
  }
 ],
 "metadata": {
  "kernelspec": {
   "display_name": "Python 3",
   "language": "python",
   "name": "python3"
  },
  "language_info": {
   "codemirror_mode": {
    "name": "ipython",
    "version": 3
   },
   "file_extension": ".py",
   "mimetype": "text/x-python",
   "name": "python",
   "nbconvert_exporter": "python",
   "pygments_lexer": "ipython3",
   "version": "3.11.11"
  }
 },
 "nbformat": 4,
 "nbformat_minor": 2
}
