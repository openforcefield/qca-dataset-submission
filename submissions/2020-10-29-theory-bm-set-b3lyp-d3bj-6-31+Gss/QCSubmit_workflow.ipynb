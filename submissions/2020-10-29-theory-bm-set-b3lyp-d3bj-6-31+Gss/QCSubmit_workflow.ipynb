{
 "cells": [
  {
   "cell_type": "code",
   "execution_count": 1,
   "metadata": {},
   "outputs": [
    {
     "output_type": "display_data",
     "data": {
      "text/plain": "",
      "application/vnd.jupyter.widget-view+json": {
       "version_major": 2,
       "version_minor": 0,
       "model_id": "c47c60fe1321444da68aace32d4b5c81"
      }
     },
     "metadata": {}
    }
   ],
   "source": [
    "from qcsubmit.factories import TorsiondriveDatasetFactory\n",
    "from qcsubmit.datasets import TorsiondriveDataset\n",
    "from qcsubmit import workflow_components \n",
    "from qcsubmit.common_structures import TorsionIndexer \n",
    "from openforcefield.topology import Molecule as OFFMolecule\n",
    "\n",
    "# from qcelemental.models import Molecule as QCEMolecule\n",
    "import os, json, tqdm"
   ]
  },
  {
   "cell_type": "code",
   "execution_count": 2,
   "metadata": {},
   "outputs": [],
   "source": [
    "factory = TorsiondriveDatasetFactory()\n",
    "factory.scf_properties = ['dipole', 'quadrupole', 'wiberg_lowdin_indices', 'mayer_indices']\n",
    "# change basis set\n",
    "factory.basis = '6-31+G**'"
   ]
  },
  {
   "cell_type": "code",
   "execution_count": 3,
   "metadata": {},
   "outputs": [],
   "source": [
    "# now write the settings out\n",
    "factory.export_settings(\"theory-bm-set_setttings.yaml\")"
   ]
  },
  {
   "cell_type": "code",
   "execution_count": 4,
   "metadata": {},
   "outputs": [],
   "source": [
    "# now create the dataset from the pdbs in the pdb folder\n",
    "\n",
    "dataset = factory.create_dataset(dataset_name=\"OpenFF Theory Benchmarking Set B3LYP-D3BJ 6-31+Gss\", molecules=[], description=\"A torsiondrive dataset for benchmarking B3LYP-D3BJ/6-31+G**\", tagline=\"Torsiondrives for benchmarking B3LYP-D3BJ/6-31+G**\")"
   ]
  },
  {
   "cell_type": "code",
   "execution_count": 5,
   "metadata": {},
   "outputs": [],
   "source": [
    "with open('input_torsions.json') as infile:\n",
    "    selected_torsions = json.load(infile)"
   ]
  },
  {
   "cell_type": "code",
   "execution_count": 6,
   "metadata": {
    "tags": []
   },
   "outputs": [
    {
     "output_type": "stream",
     "name": "stderr",
     "text": [
      " 11%|█         | 4/36 [00:00<00:13,  2.41it/s]0: 2\n",
      "1: 1\n",
      "2: 1\n",
      "3: 5\n",
      " 19%|█▉        | 7/36 [00:01<00:07,  3.84it/s]4: 2\n",
      "5: 2\n",
      "6: 1\n",
      " 31%|███       | 11/36 [00:01<00:03,  6.39it/s]7: 2\n",
      "8: 1\n",
      "9: 2\n",
      "10: 2\n",
      " 36%|███▌      | 13/36 [00:01<00:03,  7.62it/s]11: 2\n",
      "12: 5\n",
      "13: 1\n",
      "14: 2\n",
      " 53%|█████▎    | 19/36 [00:01<00:01, 11.72it/s]15: 1\n",
      "16: 2\n",
      "17: 1\n",
      "18: 1\n",
      " 64%|██████▍   | 23/36 [00:02<00:00, 14.55it/s]19: 1\n",
      "20: 4\n",
      "21: 4\n",
      "22: 1\n",
      " 75%|███████▌  | 27/36 [00:02<00:00, 16.01it/s]23: 4\n",
      "24: 1\n",
      "25: 3\n",
      "26: 3\n",
      " 81%|████████  | 29/36 [00:02<00:00, 17.00it/s]27: 2\n",
      "28: 2\n",
      "29: 1\n",
      " 92%|█████████▏| 33/36 [00:02<00:00, 13.82it/s]30: 2\n",
      "31: 3\n",
      "32: 2\n",
      "33: 3\n",
      " 97%|█████████▋| 35/36 [00:02<00:00, 14.10it/s]34: 5\n",
      "100%|██████████| 36/36 [00:03<00:00, 11.81it/s]35: 5\n",
      "\n"
     ]
    }
   ],
   "source": [
    "for idx, (canonical_torsion_index, torsion_data) in enumerate(tqdm.tqdm(selected_torsions.items())):\n",
    "    attributes = torsion_data[\"attributes\"]\n",
    "    torsion_atom_indices = torsion_data[\"atom_indices\"]\n",
    "    grid_spacings = [15] * len(torsion_atom_indices)\n",
    "    initial_molecules = torsion_data[\"initial_molecules\"]\n",
    "    # molecule = OFFMolecule.from_qcschema(torsion_data, client=client) # not working for some reason. need to  dig into\n",
    "    molecule = OFFMolecule.from_qcschema(torsion_data)\n",
    "    molecule.generate_conformers(n_conformers = 5)\n",
    "    print(f'{idx}: {molecule.n_conformers}')\n",
    "    dataset.add_molecule(index=idx,  molecule= molecule, attributes=attributes, dihedrals=torsion_atom_indices)"
   ]
  },
  {
   "cell_type": "code",
   "execution_count": 7,
   "metadata": {},
   "outputs": [
    {
     "output_type": "execute_result",
     "data": {
      "text/plain": [
       "'default'"
      ]
     },
     "metadata": {},
     "execution_count": 7
    }
   ],
   "source": [
    "dataset.spec_name"
   ]
  },
  {
   "cell_type": "code",
   "execution_count": 8,
   "metadata": {},
   "outputs": [
    {
     "output_type": "execute_result",
     "data": {
      "text/plain": [
       "31"
      ]
     },
     "metadata": {},
     "execution_count": 8
    }
   ],
   "source": [
    "dataset.n_molecules"
   ]
  },
  {
   "cell_type": "code",
   "execution_count": 9,
   "metadata": {},
   "outputs": [
    {
     "output_type": "execute_result",
     "data": {
      "text/plain": [
       "36"
      ]
     },
     "metadata": {},
     "execution_count": 9
    }
   ],
   "source": [
    "dataset.n_records"
   ]
  },
  {
   "cell_type": "code",
   "execution_count": 10,
   "metadata": {},
   "outputs": [],
   "source": [
    "dataset.metadata.long_description_url = \"https://github.com/openforcefield/qca-dataset-submission/tree/master/submissions/2020-10-29-theory-bm-set-b3lyp-d3bj-6-31+Gss\""
   ]
  },
  {
   "cell_type": "code",
   "execution_count": 11,
   "metadata": {},
   "outputs": [],
   "source": [
    "\n",
    "# export the dataset\n",
    "dataset.export_dataset(\"dataset.json\")"
   ]
  },
  {
   "cell_type": "code",
   "execution_count": 12,
   "metadata": {},
   "outputs": [],
   "source": [
    "dataset.molecules_to_file(\"theory-bm-set-curated.smi\", \"smi\")"
   ]
  },
  {
   "cell_type": "code",
   "execution_count": 13,
   "metadata": {},
   "outputs": [],
   "source": [
    "# export the molecules to pdf with torsions highlighted\n",
    "dataset.visualize(\"theory-bm-set-curated.pdf\", 'openeye')"
   ]
  }
 ],
 "metadata": {
  "language_info": {
   "codemirror_mode": {
    "name": "ipython",
    "version": 3
   },
   "file_extension": ".py",
   "mimetype": "text/x-python",
   "name": "python",
   "nbconvert_exporter": "python",
   "pygments_lexer": "ipython3",
   "version": "3.6.10-final"
  },
  "orig_nbformat": 2,
  "kernelspec": {
   "name": "Python 3.6.10 64-bit ('qcsubmit': conda)",
   "display_name": "Python 3.6.10 64-bit ('qcsubmit': conda)",
   "metadata": {
    "interpreter": {
     "hash": "5f2d3a48bf88804912d28cf9e36dd4e5710ec977141b0cbeee86da425ff218f1"
    }
   }
  }
 },
 "nbformat": 4,
 "nbformat_minor": 2
}