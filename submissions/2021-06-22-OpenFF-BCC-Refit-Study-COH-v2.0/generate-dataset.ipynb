{
 "cells": [
  {
   "cell_type": "code",
   "execution_count": 1,
   "metadata": {},
   "outputs": [],
   "source": [
    "import logging\n",
    "import warnings\n",
    "from pprint import pprint\n",
    "\n",
    "import numpy as np\n",
    "from openeye import oechem\n",
    "from openff.qcsubmit.common_structures import QCSpec, PCMSettings\n",
    "from openff.qcsubmit.factories import OptimizationDatasetFactory\n",
    "from openff.qcsubmit.workflow_components import StandardConformerGenerator\n",
    "from openforcefield.topology import Molecule\n",
    "from tqdm import tqdm"
   ]
  },
  {
   "cell_type": "code",
   "execution_count": 2,
   "metadata": {},
   "outputs": [],
   "source": [
    "# Warnings that tell us we have undefined stereo and charged molecules\n",
    "logging.getLogger(\"openforcefield\").setLevel(logging.ERROR)\n",
    "warnings.simplefilter(\"ignore\")"
   ]
  },
  {
   "cell_type": "markdown",
   "metadata": {},
   "source": [
    "# Dataset Preperation"
   ]
  },
  {
   "cell_type": "markdown",
   "source": [
    "Load in the SMILES patterns of the molecules to include:"
   ],
   "metadata": {
    "collapsed": false
   }
  },
  {
   "cell_type": "code",
   "execution_count": 3,
   "metadata": {},
   "outputs": [],
   "source": [
    "with open(\"molecules.smi\") as file:\n",
    "    smiles_patterns = file.read().split(\"\\n\")\n",
    "    smiles_patterns = [pattern for pattern in smiles_patterns if len(pattern) > 0]"
   ]
  },
  {
   "cell_type": "markdown",
   "source": [
    "Load in the molecules to be optimized:"
   ],
   "metadata": {
    "collapsed": false,
    "pycharm": {
     "name": "#%% md\n"
    }
   }
  },
  {
   "cell_type": "code",
   "execution_count": 4,
   "outputs": [
    {
     "name": "stderr",
     "output_type": "stream",
     "text": [
      "100%|██████████| 200/200 [00:00<00:00, 647.82it/s] \n"
     ]
    }
   ],
   "source": [
    "molecules = [\n",
    "    Molecule.from_smiles(smiles_pattern)\n",
    "    for smiles_pattern in tqdm(smiles_patterns)\n",
    "]"
   ],
   "metadata": {
    "collapsed": false,
    "pycharm": {
     "name": "#%%\n"
    }
   }
  },
  {
   "cell_type": "markdown",
   "metadata": {},
   "source": [
    "Prepare the main dataset from the molecule list."
   ]
  },
  {
   "cell_type": "code",
   "execution_count": 5,
   "metadata": {},
   "outputs": [
    {
     "name": "stderr",
     "output_type": "stream",
     "text": [
      "Deduplication                 : 100%|███████| 200/200 [00:00<00:00, 1567.90it/s]\n",
      "StandardConformerGenerator    : 100%|█████████| 200/200 [00:18<00:00, 10.67it/s]\n",
      "Preparation                   : 100%|█████████| 200/200 [00:08<00:00, 24.36it/s]\n"
     ]
    }
   ],
   "source": [
    "dataset_factory = OptimizationDatasetFactory(\n",
    "    qc_specifications={\n",
    "        \"hf-6-31G*\": QCSpec(\n",
    "            method=\"hf\",\n",
    "            basis=\"6-31G*\",\n",
    "            spec_name=\"hf-6-31G*\",\n",
    "            spec_description=(\n",
    "                \"The quantum chemistry specification used to generate the original AM1BCCs.\"\n",
    "            ),\n",
    "        ),\n",
    "        \"resp-2-vacuum\": QCSpec(\n",
    "            method=\"pw6b95\",\n",
    "            basis=\"aug-cc-pV(D+d)Z\",\n",
    "            spec_name=\"resp-2-vacuum\",\n",
    "            spec_description=(\n",
    "                \"The quantum chemistry specification used in the RESP2 publication \"\n",
    "                \"for the vacuum (i.e. no PCM) calculations.\"\n",
    "            ),\n",
    "        ),\n",
    "        \"resp-2-water\": QCSpec(\n",
    "            method=\"pw6b95\",\n",
    "            basis=\"aug-cc-pV(D+d)Z\",\n",
    "            spec_name=\"resp-2-water\",\n",
    "            spec_description=(\n",
    "                \"The quantum chemistry specification used in the RESP2 publication \"\n",
    "                \"for the aqueous (i.e. with PCM) calculations.\"\n",
    "            ),\n",
    "            implicit_solvent=PCMSettings(\n",
    "                units=\"angstrom\",\n",
    "                cavity_Type=\"GePol\",\n",
    "                cavity_Area=0.3,\n",
    "                cavity_Scaling=True,\n",
    "                cavity_RadiiSet=\"Bondi\",\n",
    "                cavity_Mode=\"Implicit\",\n",
    "                medium_SolverType=\"CPCM\",\n",
    "                medium_Solvent=\"Water\",\n",
    "            )\n",
    "        ),\n",
    "    }\n",
    ")\n",
    "\n",
    "dataset_factory.add_workflow_component(\n",
    "    StandardConformerGenerator(max_conformers=10, rms_cutoff=0.1, clear_existing=True)\n",
    ")\n",
    "\n",
    "dataset = dataset_factory.create_dataset(\n",
    "    dataset_name=\"OpenFF BCC Refit Study COH v2.0\",\n",
    "    tagline=\"Optimizations of diverse, para-substituted aniline derivatives.\",\n",
    "    description=\"A data set curated for the initial stage of the on-going OpenFF \"\n",
    "    \"study which aims to co-optimize the AM1BCC bond charge correction (BCC) \"\n",
    "    \"parameters against an experimental training set of density and enthalpy of \"\n",
    "    \"mixing data points and a QM training set of electric field data.\"\n",
    "    \"\\n\\n\"\n",
    "    \"The initial data set is limited to only molecules composed of C, O, H. This \"\n",
    "    \"limited scope significantly reduces the number of BCC parameters which must \"\n",
    "    \"be retrained, thus allowing for easier convergence of the initial \"\n",
    "    \"optimizations.\"\n",
    "    \"\\n\\n\"\n",
    "    \"The included molecules we combinatorially generated to cover a range of \"\n",
    "    \"alcohol, ether, and carbonyl containing molecules.\",\n",
    "    molecules=molecules,\n",
    ")\n",
    "\n",
    "dataset.metadata.submitter = \"simonboothroyd\"\n",
    "dataset.metadata.long_description_url = (\n",
    "    \"https://github.com/openforcefield/qca-dataset-submission/tree/master/\"\n",
    "    \"submissions/\"\n",
    "    \"2021-06-22-OpenFF-BCC-Refit-Study-COH-v2.0\"\n",
    ")\n",
    "\n",
    "dataset.provenance[\"constructure\"] = \"0.0.1\""
   ]
  },
  {
   "cell_type": "markdown",
   "source": [
    "Make sure the molecules in the dataset match the input molecules"
   ],
   "metadata": {
    "collapsed": false,
    "pycharm": {
     "name": "#%% md\n"
    }
   }
  },
  {
   "cell_type": "code",
   "execution_count": 7,
   "outputs": [],
   "source": [
    "old_smiles = {Molecule.from_smiles(smiles).to_smiles(isomeric=False) for smiles in smiles_patterns}\n",
    "new_smiles = {molecule.to_smiles(isomeric=False) for molecule in dataset.molecules}\n",
    "\n",
    "assert len(old_smiles.symmetric_difference(new_smiles)) == 0"
   ],
   "metadata": {
    "collapsed": false,
    "pycharm": {
     "name": "#%%\n"
    }
   }
  },
  {
   "cell_type": "markdown",
   "source": [
    "Describe the molecule in the dataset"
   ],
   "metadata": {
    "collapsed": false,
    "pycharm": {
     "name": "#%% md\n"
    }
   }
  },
  {
   "cell_type": "code",
   "execution_count": 8,
   "outputs": [
    {
     "name": "stdout",
     "output_type": "stream",
     "text": [
      "Number of unique molecules        200\n",
      "Number of filtered molecules      0\n",
      "Number of conformers              1550\n",
      "Number of conformers min mean max 1   7.75 10\n",
      "Mean molecular weight: 117.62\n",
      "Max molecular weight: 204.31\n",
      "Charges: [0.0]\n"
     ]
    }
   ],
   "source": [
    "confs = np.array([len(mol.conformers) for mol in dataset.molecules])\n",
    "\n",
    "print(\"Number of unique molecules       \", dataset.n_molecules)\n",
    "print(\"Number of filtered molecules     \", dataset.n_filtered)\n",
    "print(\"Number of conformers             \", dataset.n_records)\n",
    "print(\"Number of conformers min mean max\",\n",
    "      confs.min(), \"{:6.2f}\".format(confs.mean()), confs.max())\n",
    "\n",
    "masses = []\n",
    "for molecule in dataset.molecules:\n",
    "    oemol = molecule.to_openeye()\n",
    "    mass = oechem.OECalculateMolecularWeight(oemol)\n",
    "    masses.append(mass)\n",
    "\n",
    "print(f'Mean molecular weight: {np.mean(np.array(masses)):.2f}')\n",
    "print(f'Max molecular weight: {np.max(np.array(masses)):.2f}')\n",
    "print(\"Charges:\", sorted(set(m.total_charge/m.total_charge.unit for m in dataset.molecules)))"
   ],
   "metadata": {
    "collapsed": false,
    "pycharm": {
     "name": "#%%\n"
    }
   }
  },
  {
   "cell_type": "markdown",
   "metadata": {},
   "source": [
    "Describe the dataset"
   ]
  },
  {
   "cell_type": "code",
   "execution_count": 9,
   "metadata": {
    "scrolled": true
   },
   "outputs": [
    {
     "name": "stdout",
     "output_type": "stream",
     "text": [
      "{'collection_type': 'OptimizationDataset',\n",
      " 'creation_date': datetime.date(2021, 6, 22),\n",
      " 'dataset_name': 'OpenFF BCC Refit Study COH v2.0',\n",
      " 'elements': {'O', 'H', 'C'},\n",
      " 'long_description': 'A data set curated for the initial stage of the on-going '\n",
      "                     'OpenFF study which aims to co-optimize the AM1BCC bond '\n",
      "                     'charge correction (BCC) parameters against an '\n",
      "                     'experimental training set of density and enthalpy of '\n",
      "                     'mixing data points and a QM training set of electric '\n",
      "                     'field data.\\n'\n",
      "                     '\\n'\n",
      "                     'The initial data set is limited to only molecules '\n",
      "                     'composed of C, O, H. This limited scope significantly '\n",
      "                     'reduces the number of BCC parameters which must be '\n",
      "                     'retrained, thus allowing for easier convergence of the '\n",
      "                     'initial optimizations.\\n'\n",
      "                     '\\n'\n",
      "                     'The included molecules we combinatorially generated to '\n",
      "                     'cover a range of alcohol, ether, and carbonyl containing '\n",
      "                     'molecules.',\n",
      " 'long_description_url': HttpUrl('https://github.com/openforcefield/qca-dataset-submission/tree/master/submissions/2021-06-22-OpenFF-BCC-Refit-Study-COH-v2.0', scheme='https', host='github.com', tld='com', host_type='domain', path='/openforcefield/qca-dataset-submission/tree/master/submissions/2021-06-22-OpenFF-BCC-Refit-Study-COH-v2.0'),\n",
      " 'short_description': 'Optimizations of diverse, para-substituted aniline '\n",
      "                      'derivatives.',\n",
      " 'submitter': 'simonboothroyd'}\n"
     ]
    }
   ],
   "source": [
    "pprint(dataset.metadata.dict())"
   ]
  },
  {
   "cell_type": "code",
   "execution_count": 10,
   "metadata": {},
   "outputs": [
    {
     "name": "stdout",
     "output_type": "stream",
     "text": [
      "Spec: hf-6-31G*\n",
      "{'basis': '6-31G*',\n",
      " 'implicit_solvent': None,\n",
      " 'method': 'hf',\n",
      " 'program': 'psi4',\n",
      " 'spec_description': 'The quantum chemistry specification used to generate the '\n",
      "                     'original AM1BCCs.',\n",
      " 'spec_name': 'hf-6-31G*',\n",
      " 'store_wavefunction': 'none'}\n",
      "Spec: resp-2-vacuum\n",
      "{'basis': 'aug-cc-pV(D+d)Z',\n",
      " 'implicit_solvent': None,\n",
      " 'method': 'pw6b95',\n",
      " 'program': 'psi4',\n",
      " 'spec_description': 'The quantum chemistry specification used in the RESP2 '\n",
      "                     'publication for the vacuum (i.e. no PCM) calculations.',\n",
      " 'spec_name': 'resp-2-vacuum',\n",
      " 'store_wavefunction': 'none'}\n",
      "Spec: resp-2-water\n",
      "{'basis': 'aug-cc-pV(D+d)Z',\n",
      " 'implicit_solvent': {'cavity_Area': 0.3,\n",
      "                      'cavity_MinRadius': 52.917721067,\n",
      "                      'cavity_Mode': 'Implicit',\n",
      "                      'cavity_RadiiSet': 'Bondi',\n",
      "                      'cavity_Scaling': True,\n",
      "                      'cavity_Type': 'GePol',\n",
      "                      'codata': 2010,\n",
      "                      'medium_Correction': 0.0,\n",
      "                      'medium_DiagonalScaling': 1.07,\n",
      "                      'medium_MatrixSymm': True,\n",
      "                      'medium_Nonequilibrium': False,\n",
      "                      'medium_ProbeRadius': 0.52917721067,\n",
      "                      'medium_Solvent': 'H2O',\n",
      "                      'medium_SolverType': 'CPCM',\n",
      "                      'units': 'angstrom'},\n",
      " 'method': 'pw6b95',\n",
      " 'program': 'psi4',\n",
      " 'spec_description': 'The quantum chemistry specification used in the RESP2 '\n",
      "                     'publication for the aqueous (i.e. with PCM) '\n",
      "                     'calculations.',\n",
      " 'spec_name': 'resp-2-water',\n",
      " 'store_wavefunction': 'none'}\n"
     ]
    }
   ],
   "source": [
    "for spec, obj in dataset.qc_specifications.items():\n",
    "    print(\"Spec:\", spec)\n",
    "    pprint(obj.dict())"
   ]
  },
  {
   "cell_type": "code",
   "execution_count": 11,
   "metadata": {},
   "outputs": [
    {
     "name": "stdout",
     "output_type": "stream",
     "text": [
      "[<SCFProperties.Dipole: 'dipole'>,\n",
      " <SCFProperties.Quadrupole: 'quadrupole'>,\n",
      " <SCFProperties.WibergLowdinIndices: 'wiberg_lowdin_indices'>,\n",
      " <SCFProperties.MayerIndices: 'mayer_indices'>]\n"
     ]
    }
   ],
   "source": [
    "pprint(dataset.scf_properties)"
   ]
  },
  {
   "cell_type": "markdown",
   "source": [
    "Export the dataset."
   ],
   "metadata": {
    "collapsed": false,
    "pycharm": {
     "name": "#%% md\n"
    }
   }
  },
  {
   "cell_type": "code",
   "execution_count": 12,
   "outputs": [],
   "source": [
    "dataset.export_dataset(\"dataset.json.bz2\")\n",
    "dataset.molecules_to_file(\"dataset.smi\", \"smi\")\n",
    "\n",
    "dataset.visualize(\"dataset.pdf\", columns=8)"
   ],
   "metadata": {
    "collapsed": false,
    "pycharm": {
     "name": "#%%\n"
    }
   }
  }
 ],
 "metadata": {
  "kernelspec": {
   "display_name": "Python 3",
   "language": "python",
   "name": "python3"
  },
  "language_info": {
   "codemirror_mode": {
    "name": "ipython",
    "version": 3
   },
   "file_extension": ".py",
   "mimetype": "text/x-python",
   "name": "python",
   "nbconvert_exporter": "python",
   "pygments_lexer": "ipython3",
   "version": "3.7.9"
  }
 },
 "nbformat": 4,
 "nbformat_minor": 4
}