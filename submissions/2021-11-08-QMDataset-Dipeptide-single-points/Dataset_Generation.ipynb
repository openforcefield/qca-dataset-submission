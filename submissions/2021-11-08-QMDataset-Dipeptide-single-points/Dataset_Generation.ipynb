{
 "cells": [
  {
   "cell_type": "code",
   "execution_count": 1,
   "id": "d5c62adc",
   "metadata": {},
   "outputs": [],
   "source": [
    "from openff.qcsubmit.common_structures import QCSpec, SCFProperties\n",
    "from openff.qcsubmit.factories import BasicDatasetFactory\n",
    "import numpy as np\n",
    "from qcelemental.models.results import WavefunctionProtocolEnum\n",
    "from qcportal.models.common_models import DriverEnum\n",
    "from openeye import oechem"
   ]
  },
  {
   "cell_type": "code",
   "execution_count": 2,
   "id": "ea9dcb6a",
   "metadata": {},
   "outputs": [
    {
     "data": {
      "text/plain": [
       "{'qc_specifications': {'spice_default': {'method': 'wb97m-d3bj',\n",
       "   'basis': 'def2-tzvppd',\n",
       "   'program': 'psi4',\n",
       "   'spec_name': 'spice_default',\n",
       "   'spec_description': 'SPICE quantum chemistry specification',\n",
       "   'store_wavefunction': 'orbitals_and_eigenvalues',\n",
       "   'implicit_solvent': None,\n",
       "   'maxiter': 200,\n",
       "   'scf_properties': ['dipole',\n",
       "    'quadrupole',\n",
       "    'wiberg_lowdin_indices',\n",
       "    'mayer_indices',\n",
       "    'mbis_charges'],\n",
       "   'keywords': {'wcombine': False}}},\n",
       " 'driver': 'gradient',\n",
       " 'priority': 'normal',\n",
       " 'dataset_tags': ['openff'],\n",
       " 'compute_tag': 'openff',\n",
       " 'type': 'BasicDatasetFactory',\n",
       " 'workflow': []}"
      ]
     },
     "execution_count": 2,
     "metadata": {},
     "output_type": "execute_result"
    }
   ],
   "source": [
    "factory = BasicDatasetFactory(driver=DriverEnum.gradient,\n",
    "                              qc_specifications={'spice_default': QCSpec(method='wb97m-d3bj', \n",
    "                                                                   basis='def2-tzvppd', \n",
    "                                                                   program='psi4', \n",
    "                                                                   spec_name='spice_default', \n",
    "                                                                   spec_description='SPICE quantum chemistry specification',\n",
    "                                                                   store_wavefunction=WavefunctionProtocolEnum.orbitals_and_eigenvalues, \n",
    "                                                                   implicit_solvent=None, \n",
    "                                                                   maxiter=200, \n",
    "                                                                   scf_properties=[SCFProperties.Dipole, SCFProperties.Quadrupole, SCFProperties.WibergLowdinIndices, \n",
    "                                                                                   SCFProperties.MayerIndices, SCFProperties.MBISCharges],\n",
    "                                                                   keywords={'wcombine': False})},\n",
    "                             store_wavefunction=WavefunctionProtocolEnum.orbitals_and_eigenvalues)\n",
    "factory.dict()"
   ]
  },
  {
   "cell_type": "code",
   "execution_count": 3,
   "id": "c8da0524",
   "metadata": {
    "scrolled": true
   },
   "outputs": [
    {
     "name": "stderr",
     "output_type": "stream",
     "text": [
      "Deduplication                 : 100%|█████████| 677/677 [00:10<00:00, 61.63it/s]\n",
      "Preparation                   : 100%|█████████| 677/677 [03:26<00:00,  3.28it/s]\n"
     ]
    }
   ],
   "source": [
    "# mock a dataset with dummy information for now\n",
    "dataset = factory.create_dataset(dataset_name=\"SPICE Dipeptides Single Points Dataset v1.1\", molecules=\"dipeptides.hdf5\", tagline=\"QM Dataset for ML\", description=\"Data source: https://github.com/openmm/qmdataset/tree/main/dipeptides\")"
   ]
  },
  {
   "cell_type": "code",
   "execution_count": 4,
   "id": "f3ad84f1",
   "metadata": {},
   "outputs": [
    {
     "name": "stdout",
     "output_type": "stream",
     "text": [
      "Number of unique molecules        677\n",
      "Number of filtered molecules      0\n",
      "Number of conformers              33850\n",
      "Number of conformers min mean max 50  50.00 50\n",
      "Mean molecular weight: 313.72\n",
      "Max molecular weight: 445.51\n",
      "Charges: [-2.0, -1.0, 0.0, 1.0, 2.0]\n"
     ]
    }
   ],
   "source": [
    "confs = np.array([len(mol.conformers) for mol in dataset.molecules])\n",
    "\n",
    "print(\"Number of unique molecules       \", dataset.n_molecules)\n",
    "print(\"Number of filtered molecules     \", dataset.n_filtered)\n",
    "print(\"Number of conformers             \", dataset.n_records)\n",
    "print(\"Number of conformers min mean max\",\n",
    "      confs.min(), \"{:6.2f}\".format(confs.mean()), confs.max())\n",
    "\n",
    "masses = []\n",
    "for molecule in dataset.molecules:\n",
    "    oemol = molecule.to_openeye()\n",
    "    mass = oechem.OECalculateMolecularWeight(oemol)\n",
    "    masses.append(mass)\n",
    "\n",
    "print(f'Mean molecular weight: {np.mean(np.array(masses)):.2f}')\n",
    "print(f'Max molecular weight: {np.max(np.array(masses)):.2f}')\n",
    "print(\"Charges:\", sorted(set(m.total_charge/m.total_charge.unit for m in dataset.molecules)))"
   ]
  },
  {
   "cell_type": "code",
   "execution_count": 5,
   "id": "4af76f35",
   "metadata": {},
   "outputs": [],
   "source": [
    "dataset.visualize(\"dipeptides.pdf\")"
   ]
  },
  {
   "cell_type": "code",
   "execution_count": 6,
   "id": "0b31401e",
   "metadata": {},
   "outputs": [],
   "source": [
    "dataset.molecules_to_file(\"dipeptides.smi\", \"smi\")"
   ]
  },
  {
   "cell_type": "code",
   "execution_count": 7,
   "id": "fb5eb6b5",
   "metadata": {},
   "outputs": [],
   "source": [
    "dataset.metadata.submitter = 'Josh Horton, Pavan Behara, David Dotson'"
   ]
  },
  {
   "cell_type": "code",
   "execution_count": 8,
   "id": "868fcf8f",
   "metadata": {},
   "outputs": [],
   "source": [
    "dataset.metadata.long_description_url = 'https://github.com/openforcefield/qca-dataset-submission/tree/master/submissions/2021-11-08-QMDataset-Dipeptide-single-points'"
   ]
  },
  {
   "cell_type": "code",
   "execution_count": 9,
   "id": "77f5e190",
   "metadata": {},
   "outputs": [
    {
     "data": {
      "text/plain": [
       "Metadata(submitter='Josh Horton, Pavan Behara, David Dotson', creation_date=datetime.date(2021, 12, 7), collection_type='DataSet', dataset_name='SPICE Dipeptides Single Points Dataset v1.1', short_description='QM Dataset for ML', long_description_url=HttpUrl('https://github.com/openforcefield/qca-dataset-submission/tree/master/submissions/2021-11-08-QMDataset-Dipeptide-single-points', scheme='https', host='github.com', tld='com', host_type='domain', path='/openforcefield/qca-dataset-submission/tree/master/submissions/2021-11-08-QMDataset-Dipeptide-single-points'), long_description='Data source: https://github.com/openmm/qmdataset/tree/main/dipeptides', elements={'S', 'N', 'H', 'O', 'C'})"
      ]
     },
     "execution_count": 9,
     "metadata": {},
     "output_type": "execute_result"
    }
   ],
   "source": [
    "dataset.metadata"
   ]
  },
  {
   "cell_type": "code",
   "execution_count": 10,
   "id": "94c6c3ed",
   "metadata": {},
   "outputs": [],
   "source": [
    "dataset.export_dataset(\"dataset.json.bz2\")"
   ]
  },
  {
   "cell_type": "code",
   "execution_count": null,
   "id": "39165fd8",
   "metadata": {},
   "outputs": [],
   "source": []
  }
 ],
 "metadata": {
  "kernelspec": {
   "display_name": "Python 3 (ipykernel)",
   "language": "python",
   "name": "python3"
  },
  "language_info": {
   "codemirror_mode": {
    "name": "ipython",
    "version": 3
   },
   "file_extension": ".py",
   "mimetype": "text/x-python",
   "name": "python",
   "nbconvert_exporter": "python",
   "pygments_lexer": "ipython3",
   "version": "3.7.10"
  }
 },
 "nbformat": 4,
 "nbformat_minor": 5
}
