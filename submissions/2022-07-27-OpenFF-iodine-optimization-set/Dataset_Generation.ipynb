{
 "cells": [
  {
   "cell_type": "code",
   "execution_count": 4,
   "id": "47b89a66",
   "metadata": {
    "pycharm": {
     "name": "#%%\n"
    }
   },
   "outputs": [],
   "source": [
    "from qcportal import FractalClient\n",
    "from qcportal.models.records import RecordStatusEnum\n",
    "from openff.qcsubmit.common_structures import QCSpec, SCFProperties\n",
    "from openff.qcsubmit.factories import OptimizationDatasetFactory\n",
    "from openff.qcsubmit import workflow_components\n",
    "import numpy as np\n",
    "from qcelemental.models.results import WavefunctionProtocolEnum\n",
    "from qcportal.models.common_models import DriverEnum\n",
    "from openeye import oechem\n",
    "from openff.qcsubmit.results.filters import (\n",
    "    ConformerRMSDFilter, ConnectivityFilter,\n",
    "    ElementFilter,\n",
    "    HydrogenBondFilter,\n",
    "    SMARTSFilter,\n",
    "    RecordStatusFilter,\n",
    "    ResultRecordFilter,\n",
    ")\n",
    "\n",
    "from openff.qcsubmit.results import (\n",
    "    OptimizationResultCollection,)\n"
   ]
  },
  {
   "cell_type": "code",
   "execution_count": 5,
   "id": "59abe96f",
   "metadata": {
    "pycharm": {
     "name": "#%%\n"
    }
   },
   "outputs": [
    {
     "name": "stdout",
     "output_type": "stream",
     "text": [
      "1\n"
     ]
    }
   ],
   "source": [
    "default_filters = [\n",
    "        RecordStatusFilter(status=RecordStatusEnum.complete),\n",
    "        ConnectivityFilter(tolerance=1.2),\n",
    "        ElementFilter(\n",
    "            # The elements supported by SMIRNOFF\n",
    "            allowed_elements=[\"H\", \"C\", \"N\", \"O\", \"S\", \"P\", \"F\", \"Cl\", \"Br\", \"I\"]\n",
    "        ),\n",
    "    ]\n",
    "\n",
    "# Pull down the optimization datasets\n",
    "client = FractalClient()\n",
    "\n",
    "optimization_set = OptimizationResultCollection.from_server(client=client,\n",
    "                                                           datasets=[\"OpenFF Optimization Set 1\",\n",
    "                                                                     \"OpenFF Discrepancy Benchmark 1\",\n",
    "                                                                     \"OpenFF Gen 2 Opt Set 1 Roche\",\n",
    "                                                                     \"OpenFF Gen 2 Opt Set 2 Coverage\",\n",
    "                                                                     \"OpenFF Gen 2 Opt Set 3 Pfizer Discrepancy\",\n",
    "                                                                     \"OpenFF Gen 2 Opt Set 4 eMolecules Discrepancy\",\n",
    "                                                                     \"OpenFF Gen 2 Opt Set 5 Bayer\",\n",
    "                                                                     \"SMIRNOFF Coverage Set 1\",\n",
    "                                                                     ])\n",
    "\n",
    "smarts_to_include = [\"[#53:1]~[*:2]\"]\n",
    "\n",
    "optimization_set = optimization_set.filter(*default_filters,\n",
    "                                            SMARTSFilter(smarts_to_include=smarts_to_include))\n",
    "                                           "
   ]
  },
  {
   "cell_type": "code",
   "execution_count": 7,
   "id": "fd65d7df",
   "metadata": {},
   "outputs": [
    {
     "data": {
      "text/plain": [
       "293"
      ]
     },
     "execution_count": 7,
     "metadata": {},
     "output_type": "execute_result"
    }
   ],
   "source": [
    "len(optimization_set.entries['https://api.qcarchive.molssi.org:443/'])"
   ]
  },
  {
   "cell_type": "code",
   "execution_count": 9,
   "id": "15e4620c",
   "metadata": {},
   "outputs": [],
   "source": [
    "records_and_molecules = optimization_set.to_records()"
   ]
  },
  {
   "cell_type": "code",
   "execution_count": 11,
   "id": "017de352",
   "metadata": {},
   "outputs": [],
   "source": [
    "molecules = []\n",
    "for item in records_and_molecules:\n",
    "    molecules.append(item[1])"
   ]
  },
  {
   "cell_type": "code",
   "execution_count": 12,
   "id": "ea9dcb6a",
   "metadata": {
    "pycharm": {
     "name": "#%%\n"
    }
   },
   "outputs": [
    {
     "data": {
      "text/plain": [
       "{'qc_specifications': {'default': {'method': 'B3LYP-D3BJ',\n",
       "   'basis': 'DZVP',\n",
       "   'program': 'psi4',\n",
       "   'spec_name': 'default',\n",
       "   'spec_description': 'Standard OpenFF optimization quantum chemistry specification.',\n",
       "   'store_wavefunction': 'none',\n",
       "   'implicit_solvent': None,\n",
       "   'maxiter': 200,\n",
       "   'scf_properties': ['dipole',\n",
       "    'quadrupole',\n",
       "    'wiberg_lowdin_indices',\n",
       "    'mayer_indices'],\n",
       "   'keywords': None}},\n",
       " 'driver': 'gradient',\n",
       " 'priority': 'normal',\n",
       " 'dataset_tags': ['openff'],\n",
       " 'compute_tag': 'openff',\n",
       " 'type': 'OptimizationDatasetFactory',\n",
       " 'workflow': [{'type': 'StandardConformerGenerator',\n",
       "   'rms_cutoff': None,\n",
       "   'max_conformers': 50,\n",
       "   'clear_existing': True}],\n",
       " 'optimization_program': {'program': 'geometric',\n",
       "  'coordsys': 'dlc',\n",
       "  'enforce': 0.0,\n",
       "  'epsilon': 1e-05,\n",
       "  'reset': True,\n",
       "  'qccnv': False,\n",
       "  'molcnv': False,\n",
       "  'check': 0,\n",
       "  'trust': 0.1,\n",
       "  'tmax': 0.3,\n",
       "  'maxiter': 300,\n",
       "  'convergence_set': 'GAU',\n",
       "  'constraints': {}}}"
      ]
     },
     "execution_count": 12,
     "metadata": {},
     "output_type": "execute_result"
    }
   ],
   "source": [
    "factory = OptimizationDatasetFactory()\n",
    "factory.add_workflow_components(workflow_components.StandardConformerGenerator(max_conformers=50))\n",
    "factory.dict()"
   ]
  },
  {
   "cell_type": "code",
   "execution_count": 13,
   "id": "c8da0524",
   "metadata": {
    "pycharm": {
     "name": "#%%\n"
    },
    "scrolled": true
   },
   "outputs": [
    {
     "name": "stderr",
     "output_type": "stream",
     "text": [
      "Deduplication                 : 100%|█████████| 293/293 [00:05<00:00, 52.56it/s]\n",
      "StandardConformerGenerator    : 100%|███████████| 68/68 [00:05<00:00, 11.64it/s]\n",
      "Preparation                   : 100%|███████████| 68/68 [00:04<00:00, 15.89it/s]\n"
     ]
    }
   ],
   "source": [
    "dataset = factory.create_dataset(dataset_name=\"OpenFF Iodine Chemistry Optimization Dataset v1.0\", molecules=molecules, tagline=\"Optimization set created from Gen1 and Gen2 molecules containing iodine\", description=\"Molecules containing iodine with the correct auxiliary basis set for DZVP\")"
   ]
  },
  {
   "cell_type": "code",
   "execution_count": 14,
   "id": "f3ad84f1",
   "metadata": {
    "pycharm": {
     "name": "#%%\n"
    }
   },
   "outputs": [
    {
     "name": "stdout",
     "output_type": "stream",
     "text": [
      "Number of unique molecules        68\n",
      "Number of filtered molecules      0\n",
      "Number of conformers              250\n",
      "Number of conformers min mean max 1   3.68 22\n",
      "Mean molecular weight: 318.83\n",
      "Max molecular weight: 440.19\n",
      "Charges: [0.0]\n"
     ]
    }
   ],
   "source": [
    "confs = np.array([len(mol.conformers) for mol in dataset.molecules])\n",
    "\n",
    "print(\"Number of unique molecules       \", dataset.n_molecules)\n",
    "print(\"Number of filtered molecules     \", dataset.n_filtered)\n",
    "print(\"Number of conformers             \", dataset.n_records)\n",
    "print(\"Number of conformers min mean max\",\n",
    "      confs.min(), \"{:6.2f}\".format(confs.mean()), confs.max())\n",
    "\n",
    "masses = []\n",
    "for molecule in dataset.molecules:\n",
    "    oemol = molecule.to_openeye()\n",
    "    mass = oechem.OECalculateMolecularWeight(oemol)\n",
    "    masses.append(mass)\n",
    "\n",
    "print(f'Mean molecular weight: {np.mean(np.array(masses)):.2f}')\n",
    "print(f'Max molecular weight: {np.max(np.array(masses)):.2f}')\n",
    "print(\"Charges:\", sorted(set(m.total_charge/m.total_charge.unit for m in dataset.molecules)))"
   ]
  },
  {
   "cell_type": "code",
   "execution_count": 15,
   "id": "4af76f35",
   "metadata": {
    "pycharm": {
     "name": "#%%\n"
    }
   },
   "outputs": [],
   "source": [
    "dataset.visualize(\"dataset.pdf\")"
   ]
  },
  {
   "cell_type": "code",
   "execution_count": 16,
   "id": "fb5eb6b5",
   "metadata": {
    "pycharm": {
     "name": "#%%\n"
    }
   },
   "outputs": [],
   "source": [
    "dataset.metadata.submitter = 'Pavan Behara'"
   ]
  },
  {
   "cell_type": "code",
   "execution_count": 17,
   "id": "868fcf8f",
   "metadata": {
    "pycharm": {
     "name": "#%%\n"
    }
   },
   "outputs": [],
   "source": [
    "dataset.metadata.long_description_url = 'https://github.com/openforcefield/qca-dataset-submission/tree/master/submissions/2022-07-27-OpenFF-iodine-optimization-set'"
   ]
  },
  {
   "cell_type": "code",
   "execution_count": 18,
   "id": "77f5e190",
   "metadata": {
    "pycharm": {
     "name": "#%%\n"
    }
   },
   "outputs": [
    {
     "data": {
      "text/plain": [
       "Metadata(submitter='Pavan Behara', creation_date=datetime.date(2022, 7, 27), collection_type='OptimizationDataset', dataset_name='OpenFF Iodine Chemistry Optimization Dataset v1.0', short_description='Optimization set created from Gen1 and Gen2 molecules containing iodine', long_description_url=HttpUrl('https://github.com/openforcefield/qca-dataset-submission/tree/master/submissions/2022-07-27-OpenFF-iodine-optimization-set', scheme='https', host='github.com', tld='com', host_type='domain', port='443', path='/openforcefield/qca-dataset-submission/tree/master/submissions/2022-07-27-OpenFF-iodine-optimization-set'), long_description='Molecules containing iodine with the correct auxiliary basis set for DZVP', elements={'C', 'F', 'O', 'H', 'Br', 'Cl', 'N', 'I', 'S'})"
      ]
     },
     "execution_count": 18,
     "metadata": {},
     "output_type": "execute_result"
    }
   ],
   "source": [
    "dataset.metadata"
   ]
  },
  {
   "cell_type": "code",
   "execution_count": 19,
   "id": "94c6c3ed",
   "metadata": {
    "pycharm": {
     "name": "#%%\n"
    }
   },
   "outputs": [],
   "source": [
    "dataset.export_dataset(\"dataset.json.bz2\")"
   ]
  },
  {
   "cell_type": "code",
   "execution_count": null,
   "id": "39165fd8",
   "metadata": {
    "pycharm": {
     "name": "#%%\n"
    }
   },
   "outputs": [],
   "source": []
  }
 ],
 "metadata": {
  "kernelspec": {
   "display_name": "Python 3 (ipykernel)",
   "language": "python",
   "name": "python3"
  },
  "language_info": {
   "codemirror_mode": {
    "name": "ipython",
    "version": 3
   },
   "file_extension": ".py",
   "mimetype": "text/x-python",
   "name": "python",
   "nbconvert_exporter": "python",
   "pygments_lexer": "ipython3",
   "version": "3.8.12"
  }
 },
 "nbformat": 4,
 "nbformat_minor": 5
}
