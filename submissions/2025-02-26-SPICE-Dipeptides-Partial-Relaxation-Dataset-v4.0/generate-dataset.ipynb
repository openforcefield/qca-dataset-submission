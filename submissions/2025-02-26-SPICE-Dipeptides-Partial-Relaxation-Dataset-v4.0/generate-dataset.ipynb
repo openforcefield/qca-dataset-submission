{
 "cells": [
  {
   "cell_type": "code",
   "execution_count": 1,
   "id": "1c155ad7-48f0-4221-873c-ad57b84782ae",
   "metadata": {},
   "outputs": [],
   "source": [
    "from qcportal import PortalClient\n",
    "\n",
    "import numpy as np\n",
    "from matplotlib import pyplot as plt\n",
    "\n",
    "ml_client = PortalClient(address=\"https://ml.qcarchive.molssi.org\") # This is the ML Dataset QCArchive address for SPICE\n",
    "off_client = PortalClient(\"https://api.qcarchive.molssi.org:443\")"
   ]
  },
  {
   "cell_type": "code",
   "execution_count": 2,
   "id": "b0bd202b-970b-42d7-9d66-e90599cb3d2d",
   "metadata": {},
   "outputs": [],
   "source": [
    "from openff.qcsubmit.factories import OptimizationDatasetFactory\n",
    "from openff.qcsubmit.results import OptimizationResultCollection\n",
    "from openff.qcsubmit.datasets import OptimizationDataset\n",
    "from openff.toolkit import Molecule, Quantity, unit\n",
    "from openff.qcsubmit.common_structures import Metadata, MoleculeAttributes\n",
    "from openff.qcsubmit.procedures import GeometricProcedure"
   ]
  },
  {
   "cell_type": "code",
   "execution_count": 3,
   "id": "887d10a6-6a3c-4e58-ae7c-526d00d57fc5",
   "metadata": {},
   "outputs": [],
   "source": [
    "import logging\n",
    "# # suppress stereochemistry warnings\n",
    "logging.getLogger(\"openff\").setLevel(logging.ERROR)\n",
    "\n",
    "from rdkit import RDLogger \n",
    "RDLogger.DisableLog('rdApp.*')\n",
    "\n",
    "from tqdm import tqdm"
   ]
  },
  {
   "cell_type": "code",
   "execution_count": 4,
   "id": "48c41385-4687-4cdb-8736-e132fa5e8be8",
   "metadata": {},
   "outputs": [],
   "source": [
    "dipeptide_ds = ml_client.get_dataset('singlepoint',dataset_name =  'SPICE Dipeptides Single Points Dataset v1.3')"
   ]
  },
  {
   "cell_type": "code",
   "execution_count": 5,
   "id": "b5a60203-bb66-4779-99ca-933b9a493338",
   "metadata": {},
   "outputs": [],
   "source": [
    "dipeptide_entries = [entry for entry in dipeptide_ds.iterate_entries()]"
   ]
  },
  {
   "cell_type": "code",
   "execution_count": 6,
   "id": "63b58634-33a6-4189-98de-cb2e8e27edc5",
   "metadata": {
    "scrolled": true
   },
   "outputs": [
    {
     "name": "stdout",
     "output_type": "stream",
     "text": [
      "True\n"
     ]
    }
   ],
   "source": [
    "names,counts = np.unique(['-'.join(x.split('-')[:-1]) for x in dipeptide_ds.entry_names],return_counts=True)\n",
    "print(np.all(counts == 50))\n",
    "n_conf_dict = dict(zip(names, counts))"
   ]
  },
  {
   "cell_type": "code",
   "execution_count": 7,
   "id": "cc748d7a-cb60-4e37-93ac-db69f6d396b6",
   "metadata": {},
   "outputs": [],
   "source": [
    "dataset = OptimizationDataset(\n",
    "    dataset_name=\"SPICE Dipeptides Partial Relaxation Dataset v4.0\",\n",
    "    dataset_tagline=\"B3LYP-D3BJ/DZVP partial relaxation of each conformer of each molecule in the dipeptides dataset.\",\n",
    "    description=(\n",
    "        \"A dataset containing all entries of the `Dipeptides` subset of the SPICE dataset, \\n\"\n",
    "        \"optimized for until the energy converges within 1e-4 Ha, at the OpenFF default level of theory (B3LYP-D3BJ/DZVP). \\n\"  \n",
    "        \"Detailed description on how the original dataset is generated can be found at https://github.com/openmm/spice-dataset/tree/main/dipeptides.\\n\\n\"\n",
    "    ),\n",
    "    \n",
    ")\n",
    "dataset.metadata.submitter = \"amcisaac\"\n",
    "dataset.metadata.long_description_url = (\"https://github.com/openforcefield/qca-dataset-submission/tree/master/submissions/2025-02-26-SPICE-Dipeptides-Partial-Relaxation-Dataset-v4.0\") "
   ]
  },
  {
   "cell_type": "code",
   "execution_count": 8,
   "id": "34cfa603-458a-49fb-a647-054862cff0dc",
   "metadata": {},
   "outputs": [],
   "source": [
    "dataset.optimization_procedure = GeometricProcedure(program='geometric', \n",
    "                                                      maxiter=300,\n",
    "                                                      convergence_set = 'CUSTOM',\n",
    "                                                      converge = ['energy', '1e-4', 'grms', '1', 'gmax', '1', 'drms', '1', 'dmax', '1'],\n",
    "                                                     )"
   ]
  },
  {
   "cell_type": "code",
   "execution_count": 9,
   "id": "3a0c982c-cdc5-44ce-b17b-5e59bfb418d3",
   "metadata": {},
   "outputs": [
    {
     "data": {
      "text/plain": [
       "{'default': QCSpec(method='B3LYP-D3BJ', basis='DZVP', program='psi4', spec_name='default', spec_description='Standard OpenFF optimization quantum chemistry specification.', store_wavefunction=<WavefunctionProtocolEnum.none: 'none'>, implicit_solvent=None, maxiter=200, scf_properties=[<SCFProperties.Dipole: 'dipole'>, <SCFProperties.Quadrupole: 'quadrupole'>, <SCFProperties.WibergLowdinIndices: 'wiberg_lowdin_indices'>, <SCFProperties.MayerIndices: 'mayer_indices'>], keywords={})}"
      ]
     },
     "execution_count": 9,
     "metadata": {},
     "output_type": "execute_result"
    }
   ],
   "source": [
    "dataset.qc_specifications"
   ]
  },
  {
   "cell_type": "code",
   "execution_count": 10,
   "id": "a562c0c1-5419-4746-9739-ef915e2f1604",
   "metadata": {},
   "outputs": [
    {
     "data": {
      "text/plain": [
       "GeometricProcedure(program='geometric', coordsys='dlc', enforce=0.0, epsilon=1e-05, reset=True, qccnv=False, molcnv=False, check=0, trust=0.1, tmax=0.3, maxiter=300, convergence_set='CUSTOM', constraints={}, converge=['energy', '1e-4', 'grms', '1', 'gmax', '1', 'drms', '1', 'dmax', '1'])"
      ]
     },
     "execution_count": 10,
     "metadata": {},
     "output_type": "execute_result"
    }
   ],
   "source": [
    "dataset.optimization_procedure"
   ]
  },
  {
   "cell_type": "code",
   "execution_count": 11,
   "id": "e80e29df-ff8b-466c-b3e7-a312f8a41c06",
   "metadata": {
    "scrolled": true
   },
   "outputs": [
    {
     "name": "stderr",
     "output_type": "stream",
     "text": [
      "100%|██████████| 33850/33850 [06:06<00:00, 92.41it/s] \n"
     ]
    }
   ],
   "source": [
    "# Add molecules this way to preserve exact geometry from ML QCArchive in case we want it.\n",
    "# Names will be the original QCA name, augmented by the number of conformers\n",
    "# So ash-gln-0 in the original SPICE Dipeptides will become ash-gln-50 here for optimization.\n",
    "for entry in tqdm(dipeptide_entries):\n",
    "    base_name = '-'.join(entry.name.split('-')[:-1])\n",
    "    conf_id = int(entry.name.split('-')[-1])\n",
    "    n_confs = n_conf_dict[base_name] # Always 50 for this dataset, may change for others\n",
    "    dataset.add_molecule(index=base_name + '-{}'.format(conf_id + n_confs),molecule=None,initial_molecules = [entry.molecule],attributes=MoleculeAttributes.from_openff_molecule(Molecule.from_qcschema(entry.molecule)))"
   ]
  },
  {
   "cell_type": "markdown",
   "id": "cc3169bf-18d4-483f-8cee-84ad84b850fe",
   "metadata": {},
   "source": [
    "# Analyze dataset"
   ]
  },
  {
   "cell_type": "code",
   "execution_count": 12,
   "id": "ec0b9fe7-d605-4238-ac61-57bba272315a",
   "metadata": {},
   "outputs": [
    {
     "name": "stdout",
     "output_type": "stream",
     "text": [
      "# heavy atoms\n",
      " 13: 50\n",
      " 14: 100\n",
      " 15: 350\n",
      " 16: 600\n",
      " 17: 1350\n",
      " 18: 2000\n",
      " 19: 3050\n",
      " 20: 3800\n",
      " 21: 4500\n",
      " 22: 4650\n",
      " 23: 4050\n",
      " 24: 3100\n",
      " 25: 2350\n",
      " 26: 1400\n",
      " 27: 1100\n",
      " 28: 700\n",
      " 29: 350\n",
      " 30: 200\n",
      " 31: 100\n",
      " 33: 50\n"
     ]
    }
   ],
   "source": [
    "_,n_confs = np.unique(['-'.join(x.split('-')[:-1]) for x in dipeptide_ds.entry_names],return_counts=True) # conformers are all added as separate molecules so do the count this way\n",
    "\n",
    "n_heavy_atoms = np.array(\n",
    "    [mol.to_rdkit().GetNumHeavyAtoms() for mol in dataset.molecules]\n",
    ")\n",
    "\n",
    "masses = np.array([\n",
    "    sum([atom.mass.m for atom in mol.atoms])\n",
    "    for mol in dataset.molecules\n",
    "])\n",
    "\n",
    "elements = set(\n",
    "    atom.symbol\n",
    "    for mol in dataset.molecules\n",
    "    for atom in mol.atoms\n",
    ")\n",
    "\n",
    "unique_charges = [str(charge) for charge in sorted(set([\n",
    "    mol.total_charge.m_as(unit.elementary_charge)\n",
    "    for mol in dataset.molecules\n",
    "]))]\n",
    "\n",
    "from collections import Counter\n",
    "\n",
    "print(\"# heavy atoms\")\n",
    "counts = Counter(n_heavy_atoms)\n",
    "for n_heavy in sorted(counts):\n",
    "    print(f\"{str(n_heavy):>3}: {counts[n_heavy]}\")\n"
   ]
  },
  {
   "cell_type": "code",
   "execution_count": 13,
   "id": "68f3be38-59e4-423a-a66b-42df1667fdbc",
   "metadata": {},
   "outputs": [
    {
     "data": {
      "image/png": "[encoded data removed]",
      "text/plain": [
       "<Figure size 640x480 with 1 Axes>"
      ]
     },
     "metadata": {},
     "output_type": "display_data"
    }
   ],
   "source": [
    "from matplotlib import pyplot as plt\n",
    "plt.figure()\n",
    "plt.hist(masses)\n",
    "plt.show()"
   ]
  },
  {
   "cell_type": "code",
   "execution_count": 14,
   "id": "6f1e5864-6a10-47c9-864a-e712f1cd6000",
   "metadata": {},
   "outputs": [
    {
     "name": "stdout",
     "output_type": "stream",
     "text": [
      "* Name: SPICE Dipeptides Partial Relaxation Dataset v4.0\n",
      "* Number of unique molecules: 677\n",
      "* Number of conformers: 33850\n",
      "* Number of conformers (min, mean, max): 50.00, 50.00, 50.00\n",
      "* Molecular weight (min, mean, max): 187.20, 313.73, 445.52\n",
      "* Charges: -2.0 -1.0 0.0 1.0 2.0\n",
      "## Metadata\n",
      "* Elements: {N, O, H, S, C}\n",
      "* Spec: default\n",
      "  * basis: DZVP\n",
      "  * implicit_solvent: None\n",
      "  * keywords: {}\n",
      "  * maxiter: 200\n",
      "  * method: B3LYP-D3BJ\n",
      "  * program: psi4\n",
      "  * SCF properties:\n",
      "    * dipole\n",
      "    * quadrupole\n",
      "    * wiberg_lowdin_indices\n",
      "    * mayer_indices\n"
     ]
    }
   ],
   "source": [
    "print('* Name: {}'.format(dataset.dataset_name))\n",
    "print('* Number of unique molecules: {}'.format(dataset.n_molecules))\n",
    "print('* Number of conformers: {}'.format(dataset.n_records))\n",
    "print('* Number of conformers (min, mean, max): {:.2f}, {:.2f}, {:.2f}'.format(min(n_confs),np.mean(n_confs),max(n_confs)))\n",
    "print('* Molecular weight (min, mean, max): {:.2f}, {:.2f}, {:.2f}'.format(min(masses),np.mean(masses),max(masses)))\n",
    "print('* Charges: {}'.format(' '.join(unique_charges)))\n",
    "\n",
    "print(\"## Metadata\")\n",
    "print(f\"* Elements: {{{', '.join(dataset.metadata.dict()['elements'])}}}\")\n",
    "\n",
    "def print_field(od, field): print(f\"  * {field}: {od[field]}\")\n",
    "\n",
    "fields = [\"basis\", \"implicit_solvent\", \"keywords\", \"maxiter\", \"method\", \"program\"]\n",
    "for spec, obj in dataset.qc_specifications.items():\n",
    "    od = obj.dict()\n",
    "    print(\"* Spec:\", spec)\n",
    "    for field in fields:\n",
    "        print_field(od, field)\n",
    "    print(\"  * SCF properties:\")\n",
    "    for field in od[\"scf_properties\"]:\n",
    "        print(f\"    * {field}\")"
   ]
  },
  {
   "cell_type": "code",
   "execution_count": 15,
   "id": "bea410b4-cff8-42e4-9812-39f80b69e719",
   "metadata": {},
   "outputs": [],
   "source": [
    "dataset.metadata.long_description=((\"A dataset containing all entries of the `Dipeptides` subset of the SPICE dataset, \\n\"\n",
    "        \"optimized for until the energy converges within 1e-4 Ha, at the OpenFF default level of theory (B3LYP-D3BJ/DZVP). \\n\"  \n",
    "        \"Detailed description on how the original dataset is generated can be found at https://github.com/openmm/spice-dataset/tree/main/dipeptides.\\n\\n\"\n",
    "        \"Dataset information:\\n\"\n",
    "        \"* Number of unique molecules: {}\\n\"\n",
    "        \"* Number of conformers: {}\\n\"\n",
    "        \"* Number of conformers (min, mean, max): {:.2f}, {:.2f}, {:.2f}\\n\"\n",
    "        \"* Molecular weight (min, mean, max): {:.2f}, {:.2f}, {:.2f}\\n\"\n",
    "        \"* Charges: {}\\n\"\n",
    "        \"* Elements: {}\\n\"\n",
    "        \"* Submission directory: {}\".format(dataset.n_molecules,dataset.n_records,min(n_confs),np.mean(n_confs),max(n_confs),min(masses),np.mean(masses),max(masses),' '.join(unique_charges),f\"{{{', '.join(dataset.metadata.dict()['elements'])}}}\",dataset.metadata.long_description_url)\n",
    "        ))\n",
    "\n",
    "dataset.description = dataset.metadata.long_description"
   ]
  },
  {
   "cell_type": "code",
   "execution_count": 16,
   "id": "4f8e4445-062a-4a65-a7df-0c47a2c77786",
   "metadata": {},
   "outputs": [
    {
     "name": "stdout",
     "output_type": "stream",
     "text": [
      "A dataset containing all entries of the `Dipeptides` subset of the SPICE dataset, \n",
      "optimized for until the energy converges within 1e-4 Ha, at the OpenFF default level of theory (B3LYP-D3BJ/DZVP). \n",
      "Detailed description on how the original dataset is generated can be found at https://github.com/openmm/spice-dataset/tree/main/dipeptides.\n",
      "\n",
      "Dataset information:\n",
      "* Number of unique molecules: 677\n",
      "* Number of conformers: 33850\n",
      "* Number of conformers (min, mean, max): 50.00, 50.00, 50.00\n",
      "* Molecular weight (min, mean, max): 187.20, 313.73, 445.52\n",
      "* Charges: -2.0 -1.0 0.0 1.0 2.0\n",
      "* Elements: {N, O, H, S, C}\n",
      "* Submission directory: https://github.com/openforcefield/qca-dataset-submission/tree/master/submissions/2025-02-26-SPICE-Dipeptides-Partial-Relaxation-Dataset-v4.0\n"
     ]
    }
   ],
   "source": [
    "print(dataset.description)"
   ]
  },
  {
   "cell_type": "code",
   "execution_count": 17,
   "id": "ce3ceea2-e051-436e-a562-843aa5b5fcc4",
   "metadata": {},
   "outputs": [
    {
     "name": "stdout",
     "output_type": "stream",
     "text": [
      "A dataset containing all entries of the `Dipeptides` subset of the SPICE dataset, \n",
      "optimized for until the energy converges within 1e-4 Ha, at the OpenFF default level of theory (B3LYP-D3BJ/DZVP). \n",
      "Detailed description on how the original dataset is generated can be found at https://github.com/openmm/spice-dataset/tree/main/dipeptides.\n",
      "\n",
      "Dataset information:\n",
      "* Number of unique molecules: 677\n",
      "* Number of conformers: 33850\n",
      "* Number of conformers (min, mean, max): 50.00, 50.00, 50.00\n",
      "* Molecular weight (min, mean, max): 187.20, 313.73, 445.52\n",
      "* Charges: -2.0 -1.0 0.0 1.0 2.0\n",
      "* Elements: {N, O, H, S, C}\n",
      "* Submission directory: https://github.com/openforcefield/qca-dataset-submission/tree/master/submissions/2025-02-26-SPICE-Dipeptides-Partial-Relaxation-Dataset-v4.0\n"
     ]
    }
   ],
   "source": [
    "print(dataset.metadata.long_description)"
   ]
  },
  {
   "cell_type": "code",
   "execution_count": 18,
   "id": "b9b7b078-847b-47d8-b6dc-8ab4d5307358",
   "metadata": {},
   "outputs": [],
   "source": [
    "dataset.export_dataset(\"dataset.json.bz2\")\n",
    "dataset.molecules_to_file('dataset.smi', 'smi')\n",
    "dataset.visualize(\"dataset.pdf\", columns=8)"
   ]
  },
  {
   "cell_type": "code",
   "execution_count": null,
   "id": "7b6e140f-5292-40bd-8877-b4daf8b16bf2",
   "metadata": {},
   "outputs": [],
   "source": []
  }
 ],
 "metadata": {
  "kernelspec": {
   "display_name": "partial_relax",
   "language": "python",
   "name": "python3"
  },
  "language_info": {
   "codemirror_mode": {
    "name": "ipython",
    "version": 3
   },
   "file_extension": ".py",
   "mimetype": "text/x-python",
   "name": "python",
   "nbconvert_exporter": "python",
   "pygments_lexer": "ipython3",
   "version": "3.12.9"
  }
 },
 "nbformat": 4,
 "nbformat_minor": 5
}
