{
 "cells": [
  {
   "cell_type": "code",
   "execution_count": 1,
   "metadata": {},
   "outputs": [
    {
     "data": {
      "application/vnd.jupyter.widget-view+json": {
       "model_id": "ab6e1dd9b3464567b7b5cb5ee88c2c29",
       "version_major": 2,
       "version_minor": 0
      },
      "text/plain": []
     },
     "metadata": {},
     "output_type": "display_data"
    }
   ],
   "source": [
    "import os, json, tqdm\n",
    "\n",
    "from qcsubmit.factories import TorsiondriveDatasetFactory\n",
    "from qcsubmit.datasets import TorsiondriveDataset\n",
    "from qcsubmit import workflow_components \n",
    "from qcsubmit.common_structures import TorsionIndexer \n",
    "from openforcefield.topology import Molecule as OFFMolecule"
   ]
  },
  {
   "cell_type": "code",
   "execution_count": 2,
   "metadata": {},
   "outputs": [],
   "source": [
    "factory = TorsiondriveDatasetFactory()\n",
    "factory.scf_properties = ['dipole', 'quadrupole', 'wiberg_lowdin_indices', 'mayer_indices']"
   ]
  },
  {
   "cell_type": "code",
   "execution_count": 3,
   "metadata": {},
   "outputs": [],
   "source": [
    "# now write the settings out\n",
    "factory.export_settings(\"theory-bm-set_settings.yaml\")"
   ]
  },
  {
   "cell_type": "code",
   "execution_count": 4,
   "metadata": {},
   "outputs": [
    {
     "name": "stderr",
     "output_type": "stream",
     "text": [
      "Deduplication                 : 0it [00:00, ?it/s]\n"
     ]
    }
   ],
   "source": [
    "dataset = factory.create_dataset(\n",
    "    dataset_name=\"OpenFF Theory Benchmarking Set B3LYP-D3BJ def2-TZVPPD\",\n",
    "    molecules=[],\n",
    "    description=\"A torsiondrive dataset for benchmarking B3LYP-D3BJ/def2-TZVPPD\",\n",
    "    tagline=\"Torsiondrives for benchmarking B3LYP-D3BJ/def2-TZVPPD\",\n",
    "    verbose=False)\n",
    "\n",
    "# Change the default spec name\n",
    "dataset.qc_specifications.pop('default')\n",
    "dataset.add_qc_spec(method=\"B3LYP-D3BJ\",\n",
    "                    basis=\"def2-TZVPPD\",\n",
    "                    program=\"psi4\", \n",
    "                    spec_name=\"default\",\n",
    "                    spec_description=\"A torsiondrive dataset for benchmarking B3LYP-D3BJ/def2-TZVPPD\")"
   ]
  },
  {
   "cell_type": "code",
   "execution_count": 5,
   "metadata": {},
   "outputs": [],
   "source": [
    "with open('input_torsions.json') as infile:\n",
    "    selected_torsions = json.load(infile)"
   ]
  },
  {
   "cell_type": "code",
   "execution_count": 6,
   "metadata": {},
   "outputs": [
    {
     "name": "stderr",
     "output_type": "stream",
     "text": [
      " 14%|█▍        | 5/36 [00:00<00:06,  4.55it/s]/home/tgokey/.local/miniconda3/envs/qcs/lib/python3.7/site-packages/qcsubmit/validators.py:300: UserWarning: The molecule C12H18N has a net charge of 1.0.\n",
      "  UserWarning,\n",
      " 19%|█▉        | 7/36 [00:00<00:05,  5.52it/s]/home/tgokey/.local/miniconda3/envs/qcs/lib/python3.7/site-packages/qcsubmit/validators.py:300: UserWarning: The molecule C7H5N4 has a net charge of -1.0.\n",
      "  UserWarning,\n",
      " 31%|███       | 11/36 [00:01<00:03,  8.01it/s]/home/tgokey/.local/miniconda3/envs/qcs/lib/python3.7/site-packages/qcsubmit/validators.py:300: UserWarning: The molecule C10H16N3O has a net charge of 1.0.\n",
      "  UserWarning,\n",
      " 36%|███▌      | 13/36 [00:01<00:02,  9.02it/s]/home/tgokey/.local/miniconda3/envs/qcs/lib/python3.7/site-packages/qcsubmit/validators.py:300: UserWarning: The molecule C7H16N has a net charge of 1.0.\n",
      "  UserWarning,\n",
      " 47%|████▋     | 17/36 [00:01<00:01, 11.08it/s]/home/tgokey/.local/miniconda3/envs/qcs/lib/python3.7/site-packages/qcsubmit/validators.py:300: UserWarning: The molecule C10H15N2 has a net charge of 1.0.\n",
      "  UserWarning,\n",
      "100%|██████████| 36/36 [00:03<00:00, 10.98it/s]"
     ]
    },
    {
     "name": "stdout",
     "output_type": "stream",
     "text": [
      "['0: 2',\n",
      " '1: 1',\n",
      " '2: 1',\n",
      " '3: 5',\n",
      " '4: 2',\n",
      " '5: 2',\n",
      " '6: 1',\n",
      " '7: 2',\n",
      " '8: 1',\n",
      " '9: 2',\n",
      " '10: 2',\n",
      " '11: 2',\n",
      " '12: 5',\n",
      " '13: 1',\n",
      " '14: 2',\n",
      " '15: 1',\n",
      " '16: 2',\n",
      " '17: 1',\n",
      " '18: 1',\n",
      " '19: 1',\n",
      " '20: 4',\n",
      " '21: 4',\n",
      " '22: 1',\n",
      " '23: 4',\n",
      " '24: 1',\n",
      " '25: 3',\n",
      " '26: 3',\n",
      " '27: 2',\n",
      " '28: 2',\n",
      " '29: 1',\n",
      " '30: 2',\n",
      " '31: 3',\n",
      " '32: 2',\n",
      " '33: 3',\n",
      " '34: 5',\n",
      " '35: 5']\n"
     ]
    },
    {
     "name": "stderr",
     "output_type": "stream",
     "text": [
      "\n"
     ]
    }
   ],
   "source": [
    "output = []\n",
    "import pprint\n",
    "for idx, (canonical_torsion_index, torsion_data) in enumerate(tqdm.tqdm(selected_torsions.items())):\n",
    "    attributes = torsion_data[\"attributes\"]\n",
    "    torsion_atom_indices = torsion_data[\"atom_indices\"]\n",
    "    grid_spacings = [15] * len(torsion_atom_indices)\n",
    "    initial_molecules = torsion_data[\"initial_molecules\"]\n",
    "    # molecule = OFFMolecule.from_qcschema(torsion_data, client=client) # not working for some reason. need to  dig into\n",
    "    molecule = OFFMolecule.from_qcschema(torsion_data)\n",
    "    molecule.generate_conformers(n_conformers = 5)\n",
    "    output.append(f'{idx}: {molecule.n_conformers}')\n",
    "    dataset.add_molecule(index=idx,  molecule= molecule, attributes=attributes, dihedrals=torsion_atom_indices)\n",
    "pprint.pprint(output)"
   ]
  },
  {
   "cell_type": "code",
   "execution_count": 7,
   "metadata": {},
   "outputs": [
    {
     "data": {
      "text/plain": [
       "31"
      ]
     },
     "execution_count": 7,
     "metadata": {},
     "output_type": "execute_result"
    }
   ],
   "source": [
    "dataset.n_molecules"
   ]
  },
  {
   "cell_type": "code",
   "execution_count": 8,
   "metadata": {},
   "outputs": [
    {
     "data": {
      "text/plain": [
       "36"
      ]
     },
     "execution_count": 8,
     "metadata": {},
     "output_type": "execute_result"
    }
   ],
   "source": [
    "dataset.n_records"
   ]
  },
  {
   "cell_type": "code",
   "execution_count": 9,
   "metadata": {},
   "outputs": [],
   "source": [
    "dataset.metadata.long_description_url = \"https://github.com/openforcefield/qca-dataset-submission/tree/master/submissions/2020-10-29-theory-bm-set-b3lyp-d3bj-def2-tzvppd\"\n",
    "dataset.metadata.submitter = 'hyejang'"
   ]
  },
  {
   "cell_type": "code",
   "execution_count": 10,
   "metadata": {},
   "outputs": [],
   "source": [
    "# export the dataset\n",
    "dataset.export_dataset(\"dataset.json.bz2\")"
   ]
  },
  {
   "cell_type": "code",
   "execution_count": 11,
   "metadata": {},
   "outputs": [],
   "source": [
    "dataset.molecules_to_file(\"theory-bm-set-curated.smi\", \"smi\")"
   ]
  },
  {
   "cell_type": "code",
   "execution_count": 12,
   "metadata": {},
   "outputs": [],
   "source": [
    "# export the molecules to pdf with torsions highlighted\n",
    "dataset.visualize(\"theory-bm-set-curated.pdf\", toolkit='openeye')"
   ]
  }
 ],
 "metadata": {
  "kernelspec": {
   "display_name": "Python 3",
   "language": "python",
   "name": "python3"
  },
  "language_info": {
   "codemirror_mode": {
    "name": "ipython",
    "version": 3
   },
   "file_extension": ".py",
   "mimetype": "text/x-python",
   "name": "python",
   "nbconvert_exporter": "python",
   "pygments_lexer": "ipython3",
   "version": "3.7.8"
  }
 },
 "nbformat": 4,
 "nbformat_minor": 2
}
