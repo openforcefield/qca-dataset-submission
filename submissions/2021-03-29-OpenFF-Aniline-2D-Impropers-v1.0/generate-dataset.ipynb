{
 "cells": [
  {
   "cell_type": "code",
   "execution_count": 29,
   "metadata": {},
   "outputs": [],
   "source": [
    "import logging\n",
    "import warnings\n",
    "from pprint import pprint\n",
    "from typing import Tuple\n",
    "\n",
    "import numpy as np\n",
    "from openeye import oechem\n",
    "from openff.qcsubmit.common_structures import TorsionIndexer, QCSpec\n",
    "from openff.qcsubmit.factories import TorsiondriveDatasetFactory\n",
    "from openff.qcsubmit.workflow_components import StandardConformerGenerator\n",
    "from openforcefield.topology import Molecule\n",
    "from tqdm import tqdm"
   ]
  },
  {
   "cell_type": "code",
   "execution_count": 30,
   "metadata": {},
   "outputs": [],
   "source": [
    "# Warnings that tell us we have undefined stereo and charged molecules\n",
    "logging.getLogger(\"openforcefield\").setLevel(logging.ERROR)\n",
    "warnings.simplefilter(\"ignore\")"
   ]
  },
  {
   "cell_type": "markdown",
   "metadata": {},
   "source": [
    "# Dataset Preperation"
   ]
  },
  {
   "cell_type": "markdown",
   "metadata": {},
   "source": [
    "Define the SMILES patterns of the molecules to include."
   ]
  },
  {
   "cell_type": "code",
   "execution_count": 31,
   "metadata": {},
   "outputs": [],
   "source": [
    "smiles_patterns = [\n",
    "    # SMILES A\n",
    "    \"COc1ccc(cc1)N\" ,\n",
    "    \"c1cc(ccc1N)S\" ,\n",
    "    \"c1cc(ccc1C(=O)O)N\" ,\n",
    "    \"c1cc(ccc1N)[N+]#N\" ,\n",
    "    \"CNc1ccc(cc1)OC\" ,\n",
    "    \"CNc1ccc(cc1)S\" ,\n",
    "    \"CNc1ccc(cc1)C(=O)O\" ,\n",
    "    \"CNc1ccc(cc1)[N+]#N\" , \"CN(C)c1ccc(cc1)OC\" , \"CN(C)c1ccc(cc1)S\" , \"CN(C)c1ccc(cc1)C(=O)O\" , \"CN(C)c1ccc(cc1)[N+]#N\"\n",
    "    # SMILES B\n",
    "    \"c1cc(ccc1N)[O-]\" ,\"Cc1ccc(cc1)N\" ,\"c1cc(ccc1C#N)N\" ,\"C[N+](C)(C)c1ccc(cc1)N\" ,\"CNc1ccc(cc1)[O-]\" ,\"Cc1ccc(cc1)NC\" ,\"CNc1ccc(cc1)C#N\" ,\"CNc1ccc(cc1)[N+](C)(C)C\" ,\"CN(C)c1ccc(cc1)[O-]\" ,\"Cc1ccc(cc1)N(C)C\" ,\"CN(C)c1ccc(cc1)C#N\" ,\"CN(C)c1ccc(cc1)[N+](C)(C)C\"\n",
    "]"
   ]
  },
  {
   "cell_type": "markdown",
   "metadata": {
    "pycharm": {
     "name": "#%% md\n"
    }
   },
   "source": [
    "Define the SMARTS pattern which will match the aryl amine torsion and impropers."
   ]
  },
  {
   "cell_type": "code",
   "execution_count": 32,
   "metadata": {
    "pycharm": {
     "name": "#%%\n"
    }
   },
   "outputs": [],
   "source": [
    "proper_torsion_smarts = \"[*:1]-[#7X3+0:2]-[#6:3]@[#6,#7:4]\"\n",
    "improper_torsion_smarts = \"[#7X3+0:1](-[*:3])(-[*:4])-[#6:2]@[#6,#7]\""
   ]
  },
  {
   "cell_type": "markdown",
   "metadata": {},
   "source": [
    "Define the range of improper and proper angles to scan as well as the increment to scan in."
   ]
  },
  {
   "cell_type": "code",
   "execution_count": 33,
   "metadata": {
    "pycharm": {
     "name": "#%%\n"
    }
   },
   "outputs": [],
   "source": [
    "min_improper = -54\n",
    "max_improper = 54\n",
    "\n",
    "min_proper = -150\n",
    "max_proper = 180\n",
    "\n",
    "improper_spacing = 6\n",
    "proper_spacing = 30"
   ]
  },
  {
   "cell_type": "markdown",
   "metadata": {
    "pycharm": {
     "name": "#%% md\n"
    }
   },
   "source": [
    "Load in the molecules and flag the torsion(s) to be driven."
   ]
  },
  {
   "cell_type": "code",
   "execution_count": 34,
   "metadata": {
    "pycharm": {
     "name": "#%%\n"
    }
   },
   "outputs": [
    {
     "name": "stderr",
     "output_type": "stream",
     "text": [
      "100%|██████████| 23/23 [00:03<00:00,  6.70it/s]\n"
     ]
    }
   ],
   "source": [
    "def find_torsion_indices(input: Molecule, smarts: str) -> Tuple[int, int, int, int]:\n",
    "\n",
    "    matches = input.chemical_environment_matches(smarts)\n",
    "    return sorted(matches, key=lambda element: (element[0], element[-1]))[0]\n",
    "\n",
    "molecules = []\n",
    "\n",
    "for smiles_pattern in tqdm(smiles_patterns):\n",
    "\n",
    "    #molecule: Molecule = Molecule.from_mapped_smiles(smiles_pattern)\n",
    "    molecule: Molecule = Molecule.from_smiles(smiles_pattern)\n",
    "\n",
    "    try:\n",
    "        molecule.generate_conformers(n_conformers=1)\n",
    "    except Exception:\n",
    "        print(f\"Skipping {smiles_pattern} - OMEGA error.\")\n",
    "        continue\n",
    "\n",
    "    # Find the improper torsion\n",
    "    improper_indices = find_torsion_indices(molecule, improper_torsion_smarts)\n",
    "    # Find the proper torsion\n",
    "    proper_indices = find_torsion_indices(molecule, proper_torsion_smarts)\n",
    "\n",
    "    # Explicitly define that these are the two torsions to drive.\n",
    "    torsion_indexer = TorsionIndexer()\n",
    "    torsion_indexer.add_double_torsion(\n",
    "        improper_indices,\n",
    "        proper_indices,\n",
    "        (min_improper, max_improper),\n",
    "        (min_proper, max_proper),\n",
    "    )\n",
    "\n",
    "    molecule.properties[\"dihedrals\"] = torsion_indexer\n",
    "    molecules.append(molecule)"
   ]
  },
  {
   "cell_type": "markdown",
   "metadata": {},
   "source": [
    "Prepare the main dataset from the molecule list."
   ]
  },
  {
   "cell_type": "code",
   "execution_count": 35,
   "metadata": {},
   "outputs": [
    {
     "name": "stderr",
     "output_type": "stream",
     "text": [
      "Deduplication                 : 100%|██████████| 23/23 [00:00<00:00, 848.08it/s]\n",
      "StandardConformerGenerator    : 100%|███████████| 23/23 [00:00<00:00, 23.58it/s]\n",
      "Preparation                   : 100%|███████████| 23/23 [00:01<00:00, 20.82it/s]\n"
     ]
    }
   ],
   "source": [
    "# Monkey patch the factory to let our improper pass through\n",
    "TorsiondriveDatasetFactory.create_index = lambda self, molecule: molecule.to_smiles(\n",
    "    isomeric=True, explicit_hydrogens=True, mapped=True\n",
    ")\n",
    "\n",
    "dataset_factory = TorsiondriveDatasetFactory(\n",
    "    grid_spacing=[improper_spacing, proper_spacing]\n",
    ")\n",
    "\n",
    "dataset_factory.add_workflow_component(\n",
    "    StandardConformerGenerator(max_conformers=10, rms_cutoff=0.1, clear_existing=True)\n",
    ")\n",
    "\n",
    "dataset = dataset_factory.create_dataset(\n",
    "    dataset_name=\"OpenFF Amide Torsion Set v1.0\",\n",
    "    tagline=\"Substituted amides with various electronc withdrawing and donating groups\",\n",
    "    description=\"This dataset contains a set of amides which have substituted groups of varying electron donating and withdrawing properties. This dataset was curated in an effort to improve and understand improper torsions in force fields. We will scan the improper and proper angle simultaneously to better understand the coupling and energetics of these torsions.\",\n",
    "    molecules=molecules,\n",
    ")\n",
    "\n",
    "dataset.metadata.submitter = \"simonboothroyd\"\n",
    "dataset.metadata.long_description_url = (\n",
    "    \"https://github.com/openforcefield/qca-dataset-submission/tree/master/\"\n",
    "    \"submissions/\"\n",
    "    \"2021-03-29-OpenFF-Aniline-2D-Impropers-v1.0\"\n",
    ")"
   ]
  },
  {
   "cell_type": "markdown",
   "metadata": {
    "pycharm": {
     "name": "#%% md\n"
    }
   },
   "source": [
    "Make sure the molecules in the dataset match the input molecules"
   ]
  },
  {
   "cell_type": "code",
   "execution_count": 36,
   "metadata": {
    "pycharm": {
     "name": "#%%\n"
    }
   },
   "outputs": [],
   "source": [
    "old_smiles = {Molecule.from_smiles(smiles).to_smiles(isomeric=False) for smiles in smiles_patterns}\n",
    "new_smiles = {molecule.to_smiles(isomeric=False) for molecule in dataset.molecules}\n",
    "\n",
    "assert len(old_smiles.symmetric_difference(new_smiles)) == 0"
   ]
  },
  {
   "cell_type": "markdown",
   "metadata": {
    "pycharm": {
     "name": "#%% md\n"
    }
   },
   "source": [
    "Describe the molecule in the dataset"
   ]
  },
  {
   "cell_type": "code",
   "execution_count": 37,
   "metadata": {
    "pycharm": {
     "name": "#%%\n"
    }
   },
   "outputs": [
    {
     "name": "stdout",
     "output_type": "stream",
     "text": [
      "Number of unique molecules        23\n",
      "Number of filtered molecules      0\n",
      "Number of torsion drives          23\n",
      "Number of conformers min mean max 1   5.96 10\n",
      "Mean molecular weight: 143.80\n",
      "Max molecular weight: 256.30\n",
      "Charges: [-1.0, 0.0, 1.0]\n"
     ]
    }
   ],
   "source": [
    "confs = np.array([len(mol.conformers) for mol in dataset.molecules])\n",
    "\n",
    "print(\"Number of unique molecules       \", dataset.n_molecules)\n",
    "print(\"Number of filtered molecules     \", dataset.n_filtered)\n",
    "print(\"Number of torsion drives         \", dataset.n_records)\n",
    "print(\"Number of conformers min mean max\",\n",
    "      confs.min(), \"{:6.2f}\".format(confs.mean()), confs.max())\n",
    "\n",
    "masses = []\n",
    "for molecule in dataset.molecules:\n",
    "    oemol = molecule.to_openeye()\n",
    "    mass = oechem.OECalculateMolecularWeight(oemol)\n",
    "    masses.append(mass)\n",
    "\n",
    "print(f'Mean molecular weight: {np.mean(np.array(masses)):.2f}')\n",
    "print(f'Max molecular weight: {np.max(np.array(masses)):.2f}')\n",
    "print(\"Charges:\", sorted(set(m.total_charge/m.total_charge.unit for m in dataset.molecules)))"
   ]
  },
  {
   "cell_type": "markdown",
   "metadata": {},
   "source": [
    "Describe the dataset"
   ]
  },
  {
   "cell_type": "code",
   "execution_count": 38,
   "metadata": {
    "scrolled": true
   },
   "outputs": [
    {
     "name": "stdout",
     "output_type": "stream",
     "text": [
      "{'collection_type': 'TorsiondriveDataset',\n",
      " 'creation_date': datetime.date(2021, 4, 2),\n",
      " 'dataset_name': 'OpenFF Amide Torsion Set v1.0',\n",
      " 'elements': {'N', 'C', 'O', 'H', 'S'},\n",
      " 'long_description': 'This dataset contains a set of amides which have '\n",
      "                     'substituted groups of varying electron donating and '\n",
      "                     'withdrawing properties. This dataset was curated in an '\n",
      "                     'effort to improve and understand improper torsions in '\n",
      "                     'force fields. We will scan the improper and proper angle '\n",
      "                     'simultaneously to better understand the coupling and '\n",
      "                     'energetics of these torsions.',\n",
      " 'long_description_url': HttpUrl('https://github.com/openforcefield/qca-dataset-submission/tree/master/submissions/2021-03-29-OpenFF-Aniline-2D-Impropers-v1.0', scheme='https', host='github.com', tld='com', host_type='domain', path='/openforcefield/qca-dataset-submission/tree/master/submissions/2021-03-29-OpenFF-Aniline-2D-Impropers-v1.0'),\n",
      " 'short_description': 'Substituted amides with various electronc withdrawing '\n",
      "                      'and donating groups',\n",
      " 'submitter': 'simonboothroyd'}\n"
     ]
    }
   ],
   "source": [
    "pprint(dataset.metadata.dict())"
   ]
  },
  {
   "cell_type": "code",
   "execution_count": 39,
   "metadata": {},
   "outputs": [
    {
     "name": "stdout",
     "output_type": "stream",
     "text": [
      "Spec: default\n",
      "{'basis': 'DZVP',\n",
      " 'implicit_solvent': None,\n",
      " 'method': 'B3LYP-D3BJ',\n",
      " 'program': 'psi4',\n",
      " 'spec_description': 'Standard OpenFF optimization quantum chemistry '\n",
      "                     'specification.',\n",
      " 'spec_name': 'default',\n",
      " 'store_wavefunction': 'none'}\n"
     ]
    }
   ],
   "source": [
    "for spec, obj in dataset.qc_specifications.items():\n",
    "    print(\"Spec:\", spec)\n",
    "    pprint(obj.dict())"
   ]
  },
  {
   "cell_type": "code",
   "execution_count": 40,
   "metadata": {},
   "outputs": [
    {
     "name": "stdout",
     "output_type": "stream",
     "text": [
      "[<SCFProperties.Dipole: 'dipole'>,\n",
      " <SCFProperties.Quadrupole: 'quadrupole'>,\n",
      " <SCFProperties.WibergLowdinIndices: 'wiberg_lowdin_indices'>,\n",
      " <SCFProperties.MayerIndices: 'mayer_indices'>]\n"
     ]
    }
   ],
   "source": [
    "pprint(dataset.scf_properties)"
   ]
  },
  {
   "cell_type": "markdown",
   "metadata": {
    "pycharm": {
     "name": "#%% md\n"
    }
   },
   "source": [
    "Export the dataset."
   ]
  },
  {
   "cell_type": "code",
   "execution_count": 41,
   "metadata": {
    "pycharm": {
     "name": "#%%\n"
    }
   },
   "outputs": [],
   "source": [
    "dataset.export_dataset(\"dataset.json.bz2\")\n",
    "dataset.molecules_to_file(\"dataset.smi\", \"smi\")\n",
    "\n",
    "dataset.visualize(\"dataset.pdf\", columns=8)"
   ]
  },
  {
   "cell_type": "code",
   "execution_count": null,
   "metadata": {},
   "outputs": [],
   "source": []
  },
  {
   "cell_type": "code",
   "execution_count": null,
   "metadata": {},
   "outputs": [],
   "source": []
  }
 ],
 "metadata": {
  "kernelspec": {
   "display_name": "Python 3",
   "language": "python",
   "name": "python3"
  },
  "language_info": {
   "codemirror_mode": {
    "name": "ipython",
    "version": 3
   },
   "file_extension": ".py",
   "mimetype": "text/x-python",
   "name": "python",
   "nbconvert_exporter": "python",
   "pygments_lexer": "ipython3",
   "version": "3.7.10"
  }
 },
 "nbformat": 4,
 "nbformat_minor": 4
}
