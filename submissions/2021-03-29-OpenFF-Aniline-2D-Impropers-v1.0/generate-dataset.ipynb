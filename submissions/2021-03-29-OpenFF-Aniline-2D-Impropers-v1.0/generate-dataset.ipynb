{
 "cells": [
  {
   "cell_type": "code",
   "execution_count": 1,
   "metadata": {},
   "outputs": [],
   "source": [
    "import logging\n",
    "import warnings\n",
    "from pprint import pprint\n",
    "from typing import Tuple\n",
    "\n",
    "import numpy as np\n",
    "from openeye import oechem\n",
    "from openff.qcsubmit.common_structures import TorsionIndexer, QCSpec\n",
    "from openff.qcsubmit.factories import TorsiondriveDatasetFactory\n",
    "from openff.qcsubmit.workflow_components import StandardConformerGenerator\n",
    "from openforcefield.topology import Molecule\n",
    "from tqdm import tqdm"
   ]
  },
  {
   "cell_type": "code",
   "execution_count": 2,
   "metadata": {},
   "outputs": [],
   "source": [
    "# Warnings that tell us we have undefined stereo and charged molecules\n",
    "logging.getLogger(\"openforcefield\").setLevel(logging.ERROR)\n",
    "warnings.simplefilter(\"ignore\")"
   ]
  },
  {
   "cell_type": "markdown",
   "metadata": {},
   "source": [
    "# Dataset Preperation"
   ]
  },
  {
   "cell_type": "markdown",
   "source": [
    "Define the SMILES patterns of the molecules to include."
   ],
   "metadata": {
    "collapsed": false
   }
  },
  {
   "cell_type": "code",
   "execution_count": 3,
   "metadata": {},
   "outputs": [],
   "source": [
    "smiles_patterns = [\n",
    "    # SMILES A\n",
    "    \"COc1ccc(cc1)N\" ,\n",
    "    \"c1cc(ccc1N)S\" ,\n",
    "    \"c1cc(ccc1C(=O)O)N\" ,\n",
    "    \"c1cc(ccc1N)[N+]#N\" ,\n",
    "    \"CNc1ccc(cc1)OC\" ,\n",
    "    \"CNc1ccc(cc1)S\" ,\n",
    "    \"CNc1ccc(cc1)C(=O)O\" ,\n",
    "    \"CNc1ccc(cc1)[N+]#N\" , \"CN(C)c1ccc(cc1)OC\" , \"CN(C)c1ccc(cc1)S\" , \"CN(C)c1ccc(cc1)C(=O)O\" , \"CN(C)c1ccc(cc1)[N+]#N\"\n",
    "    # SMILES B\n",
    "    \"c1cc(ccc1N)[O-]\" ,\"Cc1ccc(cc1)N\" ,\"c1cc(ccc1C#N)N\" ,\"C[N+](C)(C)c1ccc(cc1)N\" ,\"CNc1ccc(cc1)[O-]\" ,\"Cc1ccc(cc1)NC\" ,\"CNc1ccc(cc1)C#N\" ,\"CNc1ccc(cc1)[N+](C)(C)C\" ,\"CN(C)c1ccc(cc1)[O-]\" ,\"Cc1ccc(cc1)N(C)C\" ,\"CN(C)c1ccc(cc1)C#N\" ,\"CN(C)c1ccc(cc1)[N+](C)(C)C\"\n",
    "]"
   ]
  },
  {
   "cell_type": "markdown",
   "source": [
    "Define the SMARTS pattern which will match the aryl amine torsion and impropers."
   ],
   "metadata": {
    "collapsed": false,
    "pycharm": {
     "name": "#%% md\n"
    }
   }
  },
  {
   "cell_type": "code",
   "execution_count": 4,
   "outputs": [],
   "source": [
    "proper_torsion_smarts = \"[*:1]-[#7X3+0:2]-[#6:3]@[#6,#7:4]\"\n",
    "improper_torsion_smarts = \"[#7X3+0:1](-[*:3])(-[*:4])-[#6:2]@[#6,#7]\""
   ],
   "metadata": {
    "collapsed": false,
    "pycharm": {
     "name": "#%%\n"
    }
   }
  },
  {
   "cell_type": "markdown",
   "source": [
    "Define the range of improper and proper angles to scan as well as the increment to scan in."
   ],
   "metadata": {
    "collapsed": false
   }
  },
  {
   "cell_type": "code",
   "execution_count": 5,
   "outputs": [],
   "source": [
    "min_improper = -54\n",
    "max_improper = 54\n",
    "\n",
    "min_proper = -150\n",
    "max_proper = 180\n",
    "\n",
    "improper_spacing = 6\n",
    "proper_spacing = 30"
   ],
   "metadata": {
    "collapsed": false,
    "pycharm": {
     "name": "#%%\n"
    }
   }
  },
  {
   "cell_type": "markdown",
   "source": [
    "Load in the molecules and flag the torsion(s) to be driven."
   ],
   "metadata": {
    "collapsed": false,
    "pycharm": {
     "name": "#%% md\n"
    }
   }
  },
  {
   "cell_type": "code",
   "execution_count": 6,
   "outputs": [
    {
     "name": "stderr",
     "output_type": "stream",
     "text": [
      "100%|██████████| 1/1 [00:00<00:00,  2.69it/s]\n"
     ]
    }
   ],
   "source": [
    "def find_torsion_indices(input: Molecule, smarts: str) -> Tuple[int, int, int, int]:\n",
    "\n",
    "    matches = input.chemical_environment_matches(smarts)\n",
    "    return sorted(matches, key=lambda element: (element[0], element[-1]))[0]\n",
    "\n",
    "molecules = []\n",
    "\n",
    "for smiles_pattern in tqdm(smiles_patterns):\n",
    "\n",
    "    molecule: Molecule = Molecule.from_mapped_smiles(smiles_pattern)\n",
    "\n",
    "    try:\n",
    "        molecule.generate_conformers(n_conformers=1)\n",
    "    except Exception:\n",
    "        print(f\"Skipping {smiles_pattern} - OMEGA error.\")\n",
    "        continue\n",
    "\n",
    "    # Find the improper torsion\n",
    "    improper_indices = find_torsion_indices(molecule, improper_torsion_smarts)\n",
    "    # Find the proper torsion\n",
    "    proper_indices = find_torsion_indices(molecule, proper_torsion_smarts)\n",
    "\n",
    "    # Explicitly define that these are the two torsions to drive.\n",
    "    torsion_indexer = TorsionIndexer()\n",
    "    torsion_indexer.add_double_torsion(\n",
    "        improper_indices,\n",
    "        proper_indices,\n",
    "        (min_improper, max_improper),\n",
    "        (min_proper, max_proper),\n",
    "    )\n",
    "\n",
    "    molecule.properties[\"dihedrals\"] = torsion_indexer\n",
    "    molecules.append(molecule)"
   ],
   "metadata": {
    "collapsed": false,
    "pycharm": {
     "name": "#%%\n"
    }
   }
  },
  {
   "cell_type": "markdown",
   "metadata": {},
   "source": [
    "Prepare the main dataset from the molecule list."
   ]
  },
  {
   "cell_type": "code",
   "execution_count": 7,
   "metadata": {},
   "outputs": [
    {
     "name": "stderr",
     "output_type": "stream",
     "text": [
      "Deduplication                 : 100%|████████████| 1/1 [00:00<00:00, 606.03it/s]\n",
      "StandardConformerGenerator    : 100%|█████████████| 1/1 [00:00<00:00,  5.17it/s]\n",
      "Preparation                   : 100%|█████████████| 1/1 [00:00<00:00, 40.10it/s]\n"
     ]
    }
   ],
   "source": [
    "# Monkey patch the factory to let our improper pass through\n",
    "TorsiondriveDatasetFactory.create_index = lambda self, molecule: molecule.to_smiles(\n",
    "    isomeric=True, explicit_hydrogens=True, mapped=True\n",
    ")\n",
    "\n",
    "dataset_factory = TorsiondriveDatasetFactory(\n",
    "    grid_spacing=[improper_spacing, proper_spacing]\n",
    ")\n",
    "\n",
    "dataset_factory.add_workflow_component(\n",
    "    StandardConformerGenerator(max_conformers=10, rms_cutoff=0.1, clear_existing=True)\n",
    ")\n",
    "\n",
    "dataset = dataset_factory.create_dataset(\n",
    "    dataset_name=\"OpenFF Amide Torsion Set v1.0\",\n",
    "    tagline=\"TODO TODO\",\n",
    "    description=\"TODO TODO\",\n",
    "    molecules=molecules,\n",
    ")\n",
    "\n",
    "dataset.metadata.submitter = \"simonboothroyd\"\n",
    "dataset.metadata.long_description_url = (\n",
    "    \"https://github.com/openforcefield/qca-dataset-submission/tree/master/\"\n",
    "    \"submissions/\"\n",
    "    \"2021-03-29-OpenFF-Aniline-2D-Impropers-v1.0\"\n",
    ")"
   ]
  },
  {
   "cell_type": "markdown",
   "source": [
    "Make sure the molecules in the dataset match the input molecules"
   ],
   "metadata": {
    "collapsed": false,
    "pycharm": {
     "name": "#%% md\n"
    }
   }
  },
  {
   "cell_type": "code",
   "execution_count": 8,
   "outputs": [],
   "source": [
    "old_smiles = {Molecule.from_smiles(smiles).to_smiles(isomeric=False) for smiles in smiles_patterns}\n",
    "new_smiles = {molecule.to_smiles(isomeric=False) for molecule in dataset.molecules}\n",
    "\n",
    "assert len(old_smiles.symmetric_difference(new_smiles)) == 0"
   ],
   "metadata": {
    "collapsed": false,
    "pycharm": {
     "name": "#%%\n"
    }
   }
  },
  {
   "cell_type": "markdown",
   "source": [
    "Describe the molecule in the dataset"
   ],
   "metadata": {
    "collapsed": false,
    "pycharm": {
     "name": "#%% md\n"
    }
   }
  },
  {
   "cell_type": "code",
   "execution_count": 9,
   "outputs": [
    {
     "name": "stdout",
     "output_type": "stream",
     "text": [
      "Number of unique molecules        1\n",
      "Number of filtered molecules      0\n",
      "Number of torsion drives          1\n",
      "Number of conformers min mean max 1   1.00 1\n",
      "Mean molecular weight: 93.13\n",
      "Max molecular weight: 93.13\n",
      "Charges: [0.0]\n"
     ]
    }
   ],
   "source": [
    "confs = np.array([len(mol.conformers) for mol in dataset.molecules])\n",
    "\n",
    "print(\"Number of unique molecules       \", dataset.n_molecules)\n",
    "print(\"Number of filtered molecules     \", dataset.n_filtered)\n",
    "print(\"Number of torsion drives         \", dataset.n_records)\n",
    "print(\"Number of conformers min mean max\",\n",
    "      confs.min(), \"{:6.2f}\".format(confs.mean()), confs.max())\n",
    "\n",
    "masses = []\n",
    "for molecule in dataset.molecules:\n",
    "    oemol = molecule.to_openeye()\n",
    "    mass = oechem.OECalculateMolecularWeight(oemol)\n",
    "    masses.append(mass)\n",
    "\n",
    "print(f'Mean molecular weight: {np.mean(np.array(masses)):.2f}')\n",
    "print(f'Max molecular weight: {np.max(np.array(masses)):.2f}')\n",
    "print(\"Charges:\", sorted(set(m.total_charge/m.total_charge.unit for m in dataset.molecules)))"
   ],
   "metadata": {
    "collapsed": false,
    "pycharm": {
     "name": "#%%\n"
    }
   }
  },
  {
   "cell_type": "markdown",
   "metadata": {},
   "source": [
    "Describe the dataset"
   ]
  },
  {
   "cell_type": "code",
   "execution_count": 10,
   "metadata": {
    "scrolled": true
   },
   "outputs": [
    {
     "name": "stdout",
     "output_type": "stream",
     "text": [
      "{'collection_type': 'TorsiondriveDataset',\n",
      " 'creation_date': datetime.date(2021, 3, 29),\n",
      " 'dataset_name': 'OpenFF Amide Torsion Set v1.0',\n",
      " 'elements': {'N', 'H', 'C'},\n",
      " 'long_description': 'TODO TODO',\n",
      " 'long_description_url': HttpUrl('https://github.com/openforcefield/qca-dataset-submission/tree/master/submissions/2021-03-29-OpenFF-Aniline-2D-Impropers-v1.0', scheme='https', host='github.com', tld='com', host_type='domain', path='/openforcefield/qca-dataset-submission/tree/master/submissions/2021-03-29-OpenFF-Aniline-2D-Impropers-v1.0'),\n",
      " 'short_description': 'TODO TODO',\n",
      " 'submitter': 'simonboothroyd'}\n"
     ]
    }
   ],
   "source": [
    "pprint(dataset.metadata.dict())"
   ]
  },
  {
   "cell_type": "code",
   "execution_count": 11,
   "metadata": {},
   "outputs": [
    {
     "name": "stdout",
     "output_type": "stream",
     "text": [
      "Spec: default\n",
      "{'basis': 'STO-3G',\n",
      " 'implicit_solvent': None,\n",
      " 'method': 'SCF',\n",
      " 'program': 'psi4',\n",
      " 'spec_description': 'cheap',\n",
      " 'spec_name': 'default',\n",
      " 'store_wavefunction': 'none'}\n"
     ]
    }
   ],
   "source": [
    "for spec, obj in dataset.qc_specifications.items():\n",
    "    print(\"Spec:\", spec)\n",
    "    pprint(obj.dict())"
   ]
  },
  {
   "cell_type": "code",
   "execution_count": 12,
   "metadata": {},
   "outputs": [
    {
     "name": "stdout",
     "output_type": "stream",
     "text": [
      "[<SCFProperties.Dipole: 'dipole'>,\n",
      " <SCFProperties.Quadrupole: 'quadrupole'>,\n",
      " <SCFProperties.WibergLowdinIndices: 'wiberg_lowdin_indices'>,\n",
      " <SCFProperties.MayerIndices: 'mayer_indices'>]\n"
     ]
    }
   ],
   "source": [
    "pprint(dataset.scf_properties)"
   ]
  },
  {
   "cell_type": "markdown",
   "source": [
    "Export the dataset."
   ],
   "metadata": {
    "collapsed": false,
    "pycharm": {
     "name": "#%% md\n"
    }
   }
  },
  {
   "cell_type": "code",
   "execution_count": 13,
   "outputs": [],
   "source": [
    "dataset.export_dataset(\"dataset.json.bz2\")\n",
    "dataset.molecules_to_file(\"dataset.smi\", \"smi\")\n",
    "\n",
    "dataset.visualize(\"dataset.pdf\", columns=8)"
   ],
   "metadata": {
    "collapsed": false,
    "pycharm": {
     "name": "#%%\n"
    }
   }
  }
 ],
 "metadata": {
  "kernelspec": {
   "display_name": "Python 3",
   "language": "python",
   "name": "python3"
  },
  "language_info": {
   "codemirror_mode": {
    "name": "ipython",
    "version": 3
   },
   "file_extension": ".py",
   "mimetype": "text/x-python",
   "name": "python",
   "nbconvert_exporter": "python",
   "pygments_lexer": "ipython3",
   "version": "3.7.9"
  }
 },
 "nbformat": 4,
 "nbformat_minor": 4
}