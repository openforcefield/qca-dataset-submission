{
 "cells": [
  {
   "cell_type": "code",
   "execution_count": 1,
   "metadata": {},
   "outputs": [],
   "source": [
    "import logging\n",
    "import warnings\n",
    "from collections import defaultdict\n",
    "from dataclasses import dataclass\n",
    "from pprint import pprint\n",
    "\n",
    "import qcportal\n",
    "import openeye # these two lines prevent zstd header error\n",
    "\n",
    "import numpy as np\n",
    "from openff.qcsubmit import workflow_components\n",
    "from openff.qcsubmit.factories import TorsiondriveDatasetFactory\n",
    "from openff.qcsubmit.workflow_components import TorsionIndexer\n",
    "from openff.toolkit import ForceField, Molecule\n",
    "from openff.toolkit.utils import GLOBAL_TOOLKIT_REGISTRY, OpenEyeToolkitWrapper\n",
    "from tqdm import tqdm"
   ]
  },
  {
   "cell_type": "code",
   "execution_count": 2,
   "metadata": {},
   "outputs": [],
   "source": [
    "# Warnings that tell us we have undefined stereo and charged molecules\n",
    "logging.getLogger(\"openff.toolkit\").setLevel(logging.ERROR)\n",
    "warnings.simplefilter(\"ignore\")"
   ]
  },
  {
   "cell_type": "code",
   "execution_count": 3,
   "metadata": {},
   "outputs": [],
   "source": [
    "# deregister openeye wrapper to use rdkit throughout\n",
    "GLOBAL_TOOLKIT_REGISTRY.deregister_toolkit(OpenEyeToolkitWrapper)"
   ]
  },
  {
   "cell_type": "code",
   "execution_count": 4,
   "metadata": {},
   "outputs": [],
   "source": [
    "from rdkit.Chem.Draw import MolsToGridImage, rdDepictor, rdMolDraw2D\n",
    "\n",
    "def draw_rdkit(rdmol, matches):\n",
    "    rdDepictor.SetPreferCoordGen(True)\n",
    "    rdDepictor.Compute2DCoords(rdmol)\n",
    "    rdmol = rdMolDraw2D.PrepareMolForDrawing(rdmol)\n",
    "    mols = [rdmol for _ in matches]\n",
    "    return MolsToGridImage(\n",
    "        mols,\n",
    "        useSVG=True,\n",
    "        highlightAtomLists=matches,\n",
    "        subImgSize=(300, 300),\n",
    "        molsPerRow=2,\n",
    "    )"
   ]
  },
  {
   "cell_type": "code",
   "execution_count": 5,
   "metadata": {},
   "outputs": [],
   "source": [
    "def manual_atoms(smiles, param):\n",
    "    \"Convert a set of SMILES and display them to pick specific torsions\"\n",
    "    mols = [Molecule.from_smiles(s, allow_undefined_stereo=True) for s in smiles]\n",
    "    for m in mols:\n",
    "        labels = ff.label_molecules(m.to_topology())[0][\"ProperTorsions\"]\n",
    "        atom_indices = [k for k, v in labels.items() if v.id == param]\n",
    "        print(atom_indices)\n",
    "        display(draw_rdkit(m.to_rdkit(), atom_indices))\n",
    "    return mols"
   ]
  },
  {
   "cell_type": "code",
   "execution_count": 6,
   "metadata": {},
   "outputs": [],
   "source": [
    "def add_torsion(mol, atom_indices):\n",
    "    torsion_indexer = TorsionIndexer()\n",
    "    torsion_indexer.add_torsion(atom_indices, (0, 3), (-165, 180))\n",
    "    mol.properties[\"dihedrals\"] = torsion_indexer"
   ]
  },
  {
   "cell_type": "markdown",
   "metadata": {},
   "source": [
    "# Dataset Preparation\n",
    "\n",
    "## Load Smiles and Force Field"
   ]
  },
  {
   "cell_type": "code",
   "execution_count": 7,
   "metadata": {},
   "outputs": [
    {
     "name": "stdout",
     "output_type": "stream",
     "text": [
      "loaded 19 smiles for 19 parameters\n"
     ]
    }
   ],
   "source": [
    "p_smiles = defaultdict(list) # pid -> [smiles]\n",
    "with open(\"all.smiles\") as inp:\n",
    "    for line in inp:\n",
    "        [pid, smiles] = line.split() # lines of \"pid smiles\"\n",
    "        p_smiles[pid].append(smiles)\n",
    "\n",
    "print(f\"loaded {sum((len(v) for v in p_smiles.values()))} smiles for {len(p_smiles)} parameters\")\n",
    "\n",
    "ff = ForceField(\"tm-2.2.offxml\")"
   ]
  },
  {
   "cell_type": "markdown",
   "metadata": {},
   "source": [
    "## Tag the torsions to drive"
   ]
  },
  {
   "cell_type": "markdown",
   "metadata": {},
   "source": [
    "### Select non-ring torsions"
   ]
  },
  {
   "cell_type": "code",
   "execution_count": 8,
   "metadata": {},
   "outputs": [
    {
     "name": "stderr",
     "output_type": "stream",
     "text": [
      "labeling molecules:   0%|                                                                      | 0/19 [00:00<?, ?it/s]"
     ]
    },
    {
     "name": "stdout",
     "output_type": "stream",
     "text": [
      "t138a\n"
     ]
    },
    {
     "data": {
      "image/svg+xml": [
       "<svg xmlns=\"http://www.w3.org/2000/svg\" xmlns:rdkit=\"http://www.rdkit.org/xml\" xmlns:xlink=\"http://www.w3.org/1999/xlink\" version=\"1.1\" baseProfile=\"full\" xml:space=\"preserve\" width=\"600px\" height=\"300px\" viewBox=\"0 0 600 300\">\n",
       "<!-- END OF HEADER -->\n",
       "<rect style=\"opacity:1.0;fill:#FFFFFF;stroke:none\" width=\"600.0\" height=\"300.0\" x=\"0.0\" y=\"0.0\"> </rect>\n",
       "<path class=\"bond-0 atom-0 atom-1\" d=\"M 158.6,171.8 L 201.3,214.0 L 188.8,226.6 L 147.4,185.6 Z\" style=\"fill:#FF7F7F;fill-rule:evenodd;fill-opacity:1;stroke:#FF7F7F;stroke-width:0.0px;stroke-linecap:butt;stroke-linejoin:miter;stroke-opacity:1;\"/>\n",
       "<path class=\"bond-3 atom-1 atom-4\" d=\"M 119.6,133.4 L 158.6,171.8 L 147.4,185.6 L 100.9,139.8 Z\" style=\"fill:#FF7F7F;fill-rule:evenodd;fill-opacity:1;stroke:#FF7F7F;stroke-width:0.0px;stroke-linecap:butt;stroke-linejoin:miter;stroke-opacity:1;\"/>\n",
       "<path class=\"bond-4 atom-4 atom-5\" d=\"M 109.3,75.5 L 126.9,77.9 L 119.6,133.4 L 100.9,139.8 Z\" style=\"fill:#FF7F7F;fill-rule:evenodd;fill-opacity:1;stroke:#FF7F7F;stroke-width:0.0px;stroke-linecap:butt;stroke-linejoin:miter;stroke-opacity:1;\"/>\n",
       "<ellipse cx=\"195.0\" cy=\"220.3\" rx=\"16.6\" ry=\"16.6\" class=\"atom-0\" style=\"fill:#FF7F7F;fill-rule:evenodd;stroke:#FF7F7F;stroke-width:1.0px;stroke-linecap:butt;stroke-linejoin:miter;stroke-opacity:1\"/>\n",
       "<ellipse cx=\"160.3\" cy=\"178.7\" rx=\"23.0\" ry=\"16.7\" class=\"atom-1\" style=\"fill:#FF7F7F;fill-rule:evenodd;stroke:#FF7F7F;stroke-width:1.0px;stroke-linecap:butt;stroke-linejoin:miter;stroke-opacity:1\"/>\n",
       "<ellipse cx=\"116.4\" cy=\"136.6\" rx=\"21.3\" ry=\"16.6\" class=\"atom-4\" style=\"fill:#FF7F7F;fill-rule:evenodd;stroke:#FF7F7F;stroke-width:1.0px;stroke-linecap:butt;stroke-linejoin:miter;stroke-opacity:1\"/>\n",
       "<ellipse cx=\"118.1\" cy=\"76.7\" rx=\"16.6\" ry=\"16.6\" class=\"atom-5\" style=\"fill:#FF7F7F;fill-rule:evenodd;stroke:#FF7F7F;stroke-width:1.0px;stroke-linecap:butt;stroke-linejoin:miter;stroke-opacity:1\"/>\n",
       "<path class=\"bond-0 atom-0 atom-1\" d=\"M 195.0,220.3 L 179.4,204.8\" style=\"fill:none;fill-rule:evenodd;stroke:#000000;stroke-width:2.0px;stroke-linecap:butt;stroke-linejoin:miter;stroke-opacity:1\"/>\n",
       "<path class=\"bond-0 atom-0 atom-1\" d=\"M 179.4,204.8 L 163.7,189.3\" style=\"fill:none;fill-rule:evenodd;stroke:#0000FF;stroke-width:2.0px;stroke-linecap:butt;stroke-linejoin:miter;stroke-opacity:1\"/>\n",
       "<path class=\"bond-1 atom-1 atom-2\" d=\"M 165.9,165.0 L 179.2,150.9\" style=\"fill:none;fill-rule:evenodd;stroke:#0000FF;stroke-width:2.0px;stroke-linecap:butt;stroke-linejoin:miter;stroke-opacity:1\"/>\n",
       "<path class=\"bond-1 atom-1 atom-2\" d=\"M 179.2,150.9 L 192.5,136.8\" style=\"fill:none;fill-rule:evenodd;stroke:#000000;stroke-width:2.0px;stroke-linecap:butt;stroke-linejoin:miter;stroke-opacity:1\"/>\n",
       "<path class=\"bond-2 atom-1 atom-3\" d=\"M 142.3,188.5 L 125.3,204.0\" style=\"fill:none;fill-rule:evenodd;stroke:#0000FF;stroke-width:2.0px;stroke-linecap:butt;stroke-linejoin:miter;stroke-opacity:1\"/>\n",
       "<path class=\"bond-2 atom-1 atom-3\" d=\"M 125.3,204.0 L 108.4,219.5\" style=\"fill:none;fill-rule:evenodd;stroke:#000000;stroke-width:2.0px;stroke-linecap:butt;stroke-linejoin:miter;stroke-opacity:1\"/>\n",
       "<path class=\"bond-3 atom-1 atom-4\" d=\"M 142.3,168.2 L 120.9,147.2\" style=\"fill:none;fill-rule:evenodd;stroke:#0000FF;stroke-width:2.0px;stroke-linecap:butt;stroke-linejoin:miter;stroke-opacity:1\"/>\n",
       "<path class=\"bond-4 atom-4 atom-5\" d=\"M 112.0,123.1 L 115.1,99.9\" style=\"fill:none;fill-rule:evenodd;stroke:#0000FF;stroke-width:2.0px;stroke-linecap:butt;stroke-linejoin:miter;stroke-opacity:1\"/>\n",
       "<path class=\"bond-4 atom-4 atom-5\" d=\"M 115.1,99.9 L 118.1,76.7\" style=\"fill:none;fill-rule:evenodd;stroke:#000000;stroke-width:2.0px;stroke-linecap:butt;stroke-linejoin:miter;stroke-opacity:1\"/>\n",
       "<path class=\"bond-5 atom-0 atom-6\" d=\"M 195.0,220.3 L 171.7,246.3\" style=\"fill:none;fill-rule:evenodd;stroke:#000000;stroke-width:2.0px;stroke-linecap:butt;stroke-linejoin:miter;stroke-opacity:1\"/>\n",
       "<path class=\"bond-6 atom-0 atom-7\" d=\"M 195.0,220.3 L 206.4,259.5\" style=\"fill:none;fill-rule:evenodd;stroke:#000000;stroke-width:2.0px;stroke-linecap:butt;stroke-linejoin:miter;stroke-opacity:1\"/>\n",
       "<path class=\"bond-7 atom-0 atom-8\" d=\"M 195.0,220.3 L 235.0,210.5\" style=\"fill:none;fill-rule:evenodd;stroke:#000000;stroke-width:2.0px;stroke-linecap:butt;stroke-linejoin:miter;stroke-opacity:1\"/>\n",
       "<path class=\"bond-8 atom-2 atom-9\" d=\"M 192.5,136.8 L 222.9,157.7\" style=\"fill:none;fill-rule:evenodd;stroke:#000000;stroke-width:2.0px;stroke-linecap:butt;stroke-linejoin:miter;stroke-opacity:1\"/>\n",
       "<path class=\"bond-9 atom-2 atom-10\" d=\"M 192.5,136.8 L 232.5,119.8\" style=\"fill:none;fill-rule:evenodd;stroke:#000000;stroke-width:2.0px;stroke-linecap:butt;stroke-linejoin:miter;stroke-opacity:1\"/>\n",
       "<path class=\"bond-10 atom-2 atom-11\" d=\"M 192.5,136.8 L 183.3,110.3\" style=\"fill:none;fill-rule:evenodd;stroke:#000000;stroke-width:2.0px;stroke-linecap:butt;stroke-linejoin:miter;stroke-opacity:1\"/>\n",
       "<path class=\"bond-11 atom-3 atom-12\" d=\"M 108.4,219.5 L 81.1,190.7\" style=\"fill:none;fill-rule:evenodd;stroke:#000000;stroke-width:2.0px;stroke-linecap:butt;stroke-linejoin:miter;stroke-opacity:1\"/>\n",
       "<path class=\"bond-12 atom-3 atom-13\" d=\"M 108.4,219.5 L 65.0,229.3\" style=\"fill:none;fill-rule:evenodd;stroke:#000000;stroke-width:2.0px;stroke-linecap:butt;stroke-linejoin:miter;stroke-opacity:1\"/>\n",
       "<path class=\"bond-13 atom-3 atom-14\" d=\"M 108.4,219.5 L 116.0,259.7\" style=\"fill:none;fill-rule:evenodd;stroke:#000000;stroke-width:2.0px;stroke-linecap:butt;stroke-linejoin:miter;stroke-opacity:1\"/>\n",
       "<path class=\"bond-14 atom-5 atom-15\" d=\"M 118.1,76.7 L 74.6,71.4\" style=\"fill:none;fill-rule:evenodd;stroke:#000000;stroke-width:2.0px;stroke-linecap:butt;stroke-linejoin:miter;stroke-opacity:1\"/>\n",
       "<path class=\"bond-15 atom-5 atom-16\" d=\"M 118.1,76.7 L 102.1,40.3\" style=\"fill:none;fill-rule:evenodd;stroke:#000000;stroke-width:2.0px;stroke-linecap:butt;stroke-linejoin:miter;stroke-opacity:1\"/>\n",
       "<path class=\"bond-16 atom-5 atom-17\" d=\"M 118.1,76.7 L 157.0,58.0\" style=\"fill:none;fill-rule:evenodd;stroke:#000000;stroke-width:2.0px;stroke-linecap:butt;stroke-linejoin:miter;stroke-opacity:1\"/>\n",
       "<path class=\"atom-1\" d=\"M 147.8 167.0 L 155.5 179.4 Q 156.3 180.6, 157.5 182.9 Q 158.7 185.1, 158.8 185.2 L 158.8 167.0 L 161.9 167.0 L 161.9 190.5 L 158.7 190.5 L 150.4 176.9 Q 149.5 175.3, 148.5 173.4 Q 147.5 171.6, 147.2 171.1 L 147.2 190.5 L 144.1 190.5 L 144.1 167.0 L 147.8 167.0 \" fill=\"#0000FF\"/>\n",
       "<path class=\"atom-1\" d=\"M 166.3 171.2 L 170.5 171.2 L 170.5 166.9 L 172.3 166.9 L 172.3 171.2 L 176.6 171.2 L 176.6 172.8 L 172.3 172.8 L 172.3 177.2 L 170.5 177.2 L 170.5 172.8 L 166.3 172.8 L 166.3 171.2 \" fill=\"#0000FF\"/>\n",
       "<path class=\"atom-4\" d=\"M 105.0 124.9 L 112.7 137.3 Q 113.5 138.6, 114.7 140.8 Q 115.9 143.0, 116.0 143.1 L 116.0 124.9 L 119.1 124.9 L 119.1 148.4 L 115.9 148.4 L 107.7 134.8 Q 106.7 133.2, 105.7 131.4 Q 104.7 129.5, 104.4 129.0 L 104.4 148.4 L 101.3 148.4 L 101.3 124.9 L 105.0 124.9 \" fill=\"#0000FF\"/>\n",
       "<path class=\"atom-4\" d=\"M 123.4 128.8 L 131.4 128.8 L 131.4 130.5 L 123.4 130.5 L 123.4 128.8 \" fill=\"#0000FF\"/>\n",
       "<path class=\"atom-6\" d=\"M 151.5 246.8 L 154.7 246.8 L 154.7 256.8 L 166.7 256.8 L 166.7 246.8 L 169.9 246.8 L 169.9 270.3 L 166.7 270.3 L 166.7 259.5 L 154.7 259.5 L 154.7 270.3 L 151.5 270.3 L 151.5 246.8 \" fill=\"#000000\"/>\n",
       "<path class=\"atom-7\" d=\"M 201.2 261.3 L 204.4 261.3 L 204.4 271.3 L 216.4 271.3 L 216.4 261.3 L 219.6 261.3 L 219.6 284.8 L 216.4 284.8 L 216.4 274.0 L 204.4 274.0 L 204.4 284.8 L 201.2 284.8 L 201.2 261.3 \" fill=\"#000000\"/>\n",
       "<path class=\"atom-8\" d=\"M 236.9 196.0 L 240.1 196.0 L 240.1 206.0 L 252.1 206.0 L 252.1 196.0 L 255.3 196.0 L 255.3 219.5 L 252.1 219.5 L 252.1 208.6 L 240.1 208.6 L 240.1 219.5 L 236.9 219.5 L 236.9 196.0 \" fill=\"#000000\"/>\n",
       "<path class=\"atom-9\" d=\"M 224.7 153.5 L 227.9 153.5 L 227.9 163.5 L 239.9 163.5 L 239.9 153.5 L 243.1 153.5 L 243.1 177.0 L 239.9 177.0 L 239.9 166.2 L 227.9 166.2 L 227.9 177.0 L 224.7 177.0 L 224.7 153.5 \" fill=\"#000000\"/>\n",
       "<path class=\"atom-10\" d=\"M 234.3 103.3 L 237.5 103.3 L 237.5 113.3 L 249.5 113.3 L 249.5 103.3 L 252.7 103.3 L 252.7 126.8 L 249.5 126.8 L 249.5 116.0 L 237.5 116.0 L 237.5 126.8 L 234.3 126.8 L 234.3 103.3 \" fill=\"#000000\"/>\n",
       "<path class=\"atom-11\" d=\"M 169.4 85.0 L 172.6 85.0 L 172.6 95.0 L 184.6 95.0 L 184.6 85.0 L 187.8 85.0 L 187.8 108.5 L 184.6 108.5 L 184.6 97.6 L 172.6 97.6 L 172.6 108.5 L 169.4 108.5 L 169.4 85.0 \" fill=\"#000000\"/>\n",
       "<path class=\"atom-12\" d=\"M 60.9 167.3 L 64.1 167.3 L 64.1 177.3 L 76.1 177.3 L 76.1 167.3 L 79.3 167.3 L 79.3 190.8 L 76.1 190.8 L 76.1 179.9 L 64.1 179.9 L 64.1 190.8 L 60.9 190.8 L 60.9 167.3 \" fill=\"#000000\"/>\n",
       "<path class=\"atom-13\" d=\"M 44.7 220.1 L 47.9 220.1 L 47.9 230.1 L 59.9 230.1 L 59.9 220.1 L 63.1 220.1 L 63.1 243.6 L 59.9 243.6 L 59.9 232.7 L 47.9 232.7 L 47.9 243.6 L 44.7 243.6 L 44.7 220.1 \" fill=\"#000000\"/>\n",
       "<path class=\"atom-14\" d=\"M 109.4 261.5 L 112.6 261.5 L 112.6 271.5 L 124.6 271.5 L 124.6 261.5 L 127.8 261.5 L 127.8 285.0 L 124.6 285.0 L 124.6 274.1 L 112.6 274.1 L 112.6 285.0 L 109.4 285.0 L 109.4 261.5 \" fill=\"#000000\"/>\n",
       "<path class=\"atom-15\" d=\"M 54.4 58.3 L 57.6 58.3 L 57.6 68.3 L 69.6 68.3 L 69.6 58.3 L 72.8 58.3 L 72.8 81.8 L 69.6 81.8 L 69.6 70.9 L 57.6 70.9 L 57.6 81.8 L 54.4 81.8 L 54.4 58.3 \" fill=\"#000000\"/>\n",
       "<path class=\"atom-16\" d=\"M 86.9 15.0 L 90.1 15.0 L 90.1 25.0 L 102.1 25.0 L 102.1 15.0 L 105.3 15.0 L 105.3 38.5 L 102.1 38.5 L 102.1 27.6 L 90.1 27.6 L 90.1 38.5 L 86.9 38.5 L 86.9 15.0 \" fill=\"#000000\"/>\n",
       "<path class=\"atom-17\" d=\"M 158.8 41.0 L 162.0 41.0 L 162.0 51.0 L 174.0 51.0 L 174.0 41.0 L 177.2 41.0 L 177.2 64.5 L 174.0 64.5 L 174.0 53.6 L 162.0 53.6 L 162.0 64.5 L 158.8 64.5 L 158.8 41.0 \" fill=\"#000000\"/>\n",
       "</svg>"
      ],
      "text/plain": [
       "<IPython.core.display.SVG object>"
      ]
     },
     "metadata": {},
     "output_type": "display_data"
    },
    {
     "name": "stdout",
     "output_type": "stream",
     "text": [
      "t115h\n"
     ]
    },
    {
     "data": {
      "image/svg+xml": [
       "<svg xmlns=\"http://www.w3.org/2000/svg\" xmlns:rdkit=\"http://www.rdkit.org/xml\" xmlns:xlink=\"http://www.w3.org/1999/xlink\" version=\"1.1\" baseProfile=\"full\" xml:space=\"preserve\" width=\"600px\" height=\"300px\" viewBox=\"0 0 600 300\">\n",
       "<!-- END OF HEADER -->\n",
       "<rect style=\"opacity:1.0;fill:#FFFFFF;stroke:none\" width=\"600.0\" height=\"300.0\" x=\"0.0\" y=\"0.0\"> </rect>\n",
       "<path class=\"bond-0 atom-0 atom-1\" d=\"M 83.0,156.3 L 126.2,181.1 L 126.2,201.4 L 74.3,171.5 Z\" style=\"fill:#FF7F7F;fill-rule:evenodd;fill-opacity:1;stroke:#FF7F7F;stroke-width:0.0px;stroke-linecap:butt;stroke-linejoin:miter;stroke-opacity:1;\"/>\n",
       "<path class=\"bond-1 atom-1 atom-2\" d=\"M 164.8,158.7 L 182.4,168.8 L 126.2,201.4 L 126.2,181.1 Z\" style=\"fill:#FF7F7F;fill-rule:evenodd;fill-opacity:1;stroke:#FF7F7F;stroke-width:0.0px;stroke-linecap:butt;stroke-linejoin:miter;stroke-opacity:1;\"/>\n",
       "<path class=\"bond-2 atom-2 atom-3\" d=\"M 182.3,108.9 L 182.4,168.8 L 164.8,158.7 L 164.7,109.0 Z\" style=\"fill:#FF7F7F;fill-rule:evenodd;fill-opacity:1;stroke:#FF7F7F;stroke-width:0.0px;stroke-linecap:butt;stroke-linejoin:miter;stroke-opacity:1;\"/>\n",
       "<ellipse cx=\"78.7\" cy=\"163.9\" rx=\"16.4\" ry=\"16.4\" class=\"atom-0\" style=\"fill:#FF7F7F;fill-rule:evenodd;stroke:#FF7F7F;stroke-width:1.0px;stroke-linecap:butt;stroke-linejoin:miter;stroke-opacity:1\"/>\n",
       "<ellipse cx=\"126.2\" cy=\"191.2\" rx=\"16.4\" ry=\"16.4\" class=\"atom-1\" style=\"fill:#FF7F7F;fill-rule:evenodd;stroke:#FF7F7F;stroke-width:1.0px;stroke-linecap:butt;stroke-linejoin:miter;stroke-opacity:1\"/>\n",
       "<ellipse cx=\"180.2\" cy=\"163.8\" rx=\"19.9\" ry=\"17.2\" class=\"atom-2\" style=\"fill:#FF7F7F;fill-rule:evenodd;stroke:#FF7F7F;stroke-width:1.0px;stroke-linecap:butt;stroke-linejoin:miter;stroke-opacity:1\"/>\n",
       "<ellipse cx=\"173.5\" cy=\"108.9\" rx=\"16.4\" ry=\"16.4\" class=\"atom-3\" style=\"fill:#FF7F7F;fill-rule:evenodd;stroke:#FF7F7F;stroke-width:1.0px;stroke-linecap:butt;stroke-linejoin:miter;stroke-opacity:1\"/>\n",
       "<path class=\"bond-0 atom-0 atom-1\" d=\"M 78.7,163.9 L 126.2,191.2\" style=\"fill:none;fill-rule:evenodd;stroke:#000000;stroke-width:2.0px;stroke-linecap:butt;stroke-linejoin:miter;stroke-opacity:1\"/>\n",
       "<path class=\"bond-0 atom-0 atom-1\" d=\"M 86.9,159.2 L 126.2,181.8\" style=\"fill:none;fill-rule:evenodd;stroke:#000000;stroke-width:2.0px;stroke-linecap:butt;stroke-linejoin:miter;stroke-opacity:1\"/>\n",
       "<path class=\"bond-1 atom-1 atom-2\" d=\"M 126.2,191.2 L 145.3,180.2\" style=\"fill:none;fill-rule:evenodd;stroke:#000000;stroke-width:2.0px;stroke-linecap:butt;stroke-linejoin:miter;stroke-opacity:1\"/>\n",
       "<path class=\"bond-1 atom-1 atom-2\" d=\"M 145.3,180.2 L 164.3,169.1\" style=\"fill:none;fill-rule:evenodd;stroke:#CCCC00;stroke-width:2.0px;stroke-linecap:butt;stroke-linejoin:miter;stroke-opacity:1\"/>\n",
       "<path class=\"bond-2 atom-2 atom-3\" d=\"M 173.6,150.3 L 173.5,129.6\" style=\"fill:none;fill-rule:evenodd;stroke:#CCCC00;stroke-width:2.0px;stroke-linecap:butt;stroke-linejoin:miter;stroke-opacity:1\"/>\n",
       "<path class=\"bond-2 atom-2 atom-3\" d=\"M 173.5,129.6 L 173.5,108.9\" style=\"fill:none;fill-rule:evenodd;stroke:#000000;stroke-width:2.0px;stroke-linecap:butt;stroke-linejoin:miter;stroke-opacity:1\"/>\n",
       "<path class=\"bond-3 atom-3 atom-4\" d=\"M 173.5,108.9 L 220.9,81.4\" style=\"fill:none;fill-rule:evenodd;stroke:#000000;stroke-width:2.0px;stroke-linecap:butt;stroke-linejoin:miter;stroke-opacity:1\"/>\n",
       "<path class=\"bond-3 atom-3 atom-4\" d=\"M 181.7,113.7 L 220.9,90.9\" style=\"fill:none;fill-rule:evenodd;stroke:#000000;stroke-width:2.0px;stroke-linecap:butt;stroke-linejoin:miter;stroke-opacity:1\"/>\n",
       "<path class=\"bond-4 atom-2 atom-5\" d=\"M 182.9,169.1 L 202.0,180.1\" style=\"fill:none;fill-rule:evenodd;stroke:#CCCC00;stroke-width:2.0px;stroke-linecap:butt;stroke-linejoin:miter;stroke-opacity:1\"/>\n",
       "<path class=\"bond-4 atom-2 atom-5\" d=\"M 202.0,180.1 L 221.1,191.1\" style=\"fill:none;fill-rule:evenodd;stroke:#000000;stroke-width:2.0px;stroke-linecap:butt;stroke-linejoin:miter;stroke-opacity:1\"/>\n",
       "<path class=\"bond-5 atom-5 atom-6\" d=\"M 221.1,191.1 L 221.2,245.9\" style=\"fill:none;fill-rule:evenodd;stroke:#000000;stroke-width:2.0px;stroke-linecap:butt;stroke-linejoin:miter;stroke-opacity:1\"/>\n",
       "<path class=\"bond-5 atom-5 atom-6\" d=\"M 212.9,195.8 L 213.0,241.1\" style=\"fill:none;fill-rule:evenodd;stroke:#000000;stroke-width:2.0px;stroke-linecap:butt;stroke-linejoin:miter;stroke-opacity:1\"/>\n",
       "<path class=\"bond-6 atom-0 atom-7\" d=\"M 78.7,163.9 L 78.6,122.6\" style=\"fill:none;fill-rule:evenodd;stroke:#000000;stroke-width:2.0px;stroke-linecap:butt;stroke-linejoin:miter;stroke-opacity:1\"/>\n",
       "<path class=\"bond-7 atom-0 atom-8\" d=\"M 78.7,163.9 L 42.2,185.1\" style=\"fill:none;fill-rule:evenodd;stroke:#000000;stroke-width:2.0px;stroke-linecap:butt;stroke-linejoin:miter;stroke-opacity:1\"/>\n",
       "<path class=\"bond-8 atom-1 atom-9\" d=\"M 126.2,191.2 L 126.3,232.6\" style=\"fill:none;fill-rule:evenodd;stroke:#000000;stroke-width:2.0px;stroke-linecap:butt;stroke-linejoin:miter;stroke-opacity:1\"/>\n",
       "<path class=\"bond-9 atom-3 atom-10\" d=\"M 173.5,108.9 L 136.9,87.9\" style=\"fill:none;fill-rule:evenodd;stroke:#000000;stroke-width:2.0px;stroke-linecap:butt;stroke-linejoin:miter;stroke-opacity:1\"/>\n",
       "<path class=\"bond-10 atom-4 atom-11\" d=\"M 220.9,81.4 L 257.5,102.5\" style=\"fill:none;fill-rule:evenodd;stroke:#000000;stroke-width:2.0px;stroke-linecap:butt;stroke-linejoin:miter;stroke-opacity:1\"/>\n",
       "<path class=\"bond-11 atom-4 atom-12\" d=\"M 220.9,81.4 L 220.8,40.1\" style=\"fill:none;fill-rule:evenodd;stroke:#000000;stroke-width:2.0px;stroke-linecap:butt;stroke-linejoin:miter;stroke-opacity:1\"/>\n",
       "<path class=\"bond-12 atom-5 atom-13\" d=\"M 221.1,191.1 L 257.6,169.9\" style=\"fill:none;fill-rule:evenodd;stroke:#000000;stroke-width:2.0px;stroke-linecap:butt;stroke-linejoin:miter;stroke-opacity:1\"/>\n",
       "<path class=\"bond-13 atom-6 atom-14\" d=\"M 221.2,245.9 L 184.7,267.0\" style=\"fill:none;fill-rule:evenodd;stroke:#000000;stroke-width:2.0px;stroke-linecap:butt;stroke-linejoin:miter;stroke-opacity:1\"/>\n",
       "<path class=\"bond-14 atom-6 atom-15\" d=\"M 221.2,245.9 L 257.8,266.9\" style=\"fill:none;fill-rule:evenodd;stroke:#000000;stroke-width:2.0px;stroke-linecap:butt;stroke-linejoin:miter;stroke-opacity:1\"/>\n",
       "<path class=\"atom-2\" d=\"M 167.0 171.7 Q 167.3 171.8, 168.4 172.3 Q 169.5 172.8, 170.6 173.1 Q 171.9 173.3, 173.0 173.3 Q 175.2 173.3, 176.5 172.3 Q 177.8 171.2, 177.8 169.3 Q 177.8 168.0, 177.1 167.2 Q 176.5 166.4, 175.5 166.0 Q 174.5 165.6, 172.9 165.1 Q 170.8 164.5, 169.6 163.9 Q 168.4 163.3, 167.5 162.0 Q 166.6 160.8, 166.6 158.7 Q 166.6 155.8, 168.6 153.9 Q 170.6 152.1, 174.5 152.1 Q 177.2 152.1, 180.3 153.4 L 179.5 156.0 Q 176.8 154.8, 174.6 154.8 Q 172.4 154.8, 171.1 155.8 Q 169.9 156.7, 169.9 158.3 Q 169.9 159.5, 170.5 160.3 Q 171.2 161.0, 172.1 161.5 Q 173.1 161.9, 174.6 162.4 Q 176.8 163.1, 178.0 163.7 Q 179.3 164.4, 180.1 165.7 Q 181.1 167.0, 181.1 169.3 Q 181.1 172.5, 178.9 174.3 Q 176.8 176.0, 173.2 176.0 Q 171.1 176.0, 169.5 175.5 Q 168.0 175.1, 166.1 174.3 L 167.0 171.7 \" fill=\"#CCCC00\"/>\n",
       "<path class=\"atom-2\" d=\"M 184.1 156.0 L 188.2 156.0 L 188.2 151.7 L 190.0 151.7 L 190.0 156.0 L 194.3 156.0 L 194.3 157.6 L 190.0 157.6 L 190.0 161.9 L 188.2 161.9 L 188.2 157.6 L 184.1 157.6 L 184.1 156.0 \" fill=\"#CCCC00\"/>\n",
       "<path class=\"atom-7\" d=\"M 69.5 97.5 L 72.6 97.5 L 72.6 107.4 L 84.5 107.4 L 84.5 97.5 L 87.7 97.5 L 87.7 120.8 L 84.5 120.8 L 84.5 110.0 L 72.6 110.0 L 72.6 120.8 L 69.5 120.8 L 69.5 97.5 \" fill=\"#000000\"/>\n",
       "<path class=\"atom-8\" d=\"M 22.2 179.8 L 25.3 179.8 L 25.3 189.7 L 37.2 189.7 L 37.2 179.8 L 40.4 179.8 L 40.4 203.1 L 37.2 203.1 L 37.2 192.3 L 25.3 192.3 L 25.3 203.1 L 22.2 203.1 L 22.2 179.8 \" fill=\"#000000\"/>\n",
       "<path class=\"atom-9\" d=\"M 117.2 234.4 L 120.3 234.4 L 120.3 244.3 L 132.2 244.3 L 132.2 234.4 L 135.4 234.4 L 135.4 257.7 L 132.2 257.7 L 132.2 246.9 L 120.3 246.9 L 120.3 257.7 L 117.2 257.7 L 117.2 234.4 \" fill=\"#000000\"/>\n",
       "<path class=\"atom-10\" d=\"M 116.9 70.0 L 120.0 70.0 L 120.0 79.9 L 131.9 79.9 L 131.9 70.0 L 135.1 70.0 L 135.1 93.3 L 131.9 93.3 L 131.9 82.5 L 120.0 82.5 L 120.0 93.3 L 116.9 93.3 L 116.9 70.0 \" fill=\"#000000\"/>\n",
       "<path class=\"atom-11\" d=\"M 259.3 97.1 L 262.5 97.1 L 262.5 107.0 L 274.4 107.0 L 274.4 97.1 L 277.5 97.1 L 277.5 120.4 L 274.4 120.4 L 274.4 109.6 L 262.5 109.6 L 262.5 120.4 L 259.3 120.4 L 259.3 97.1 \" fill=\"#000000\"/>\n",
       "<path class=\"atom-12\" d=\"M 211.7 15.0 L 214.8 15.0 L 214.8 24.9 L 226.7 24.9 L 226.7 15.0 L 229.9 15.0 L 229.9 38.3 L 226.7 38.3 L 226.7 27.5 L 214.8 27.5 L 214.8 38.3 L 211.7 38.3 L 211.7 15.0 \" fill=\"#000000\"/>\n",
       "<path class=\"atom-13\" d=\"M 259.4 151.9 L 262.6 151.9 L 262.6 161.8 L 274.5 161.8 L 274.5 151.9 L 277.6 151.9 L 277.6 175.2 L 274.5 175.2 L 274.5 164.4 L 262.6 164.4 L 262.6 175.2 L 259.4 175.2 L 259.4 151.9 \" fill=\"#000000\"/>\n",
       "<path class=\"atom-14\" d=\"M 164.7 261.7 L 167.9 261.7 L 167.9 271.6 L 179.8 271.6 L 179.8 261.7 L 182.9 261.7 L 182.9 285.0 L 179.8 285.0 L 179.8 274.2 L 167.9 274.2 L 167.9 285.0 L 164.7 285.0 L 164.7 261.7 \" fill=\"#000000\"/>\n",
       "<path class=\"atom-15\" d=\"M 259.6 261.5 L 262.8 261.5 L 262.8 271.4 L 274.7 271.4 L 274.7 261.5 L 277.8 261.5 L 277.8 284.8 L 274.7 284.8 L 274.7 274.0 L 262.8 274.0 L 262.8 284.8 L 259.6 284.8 L 259.6 261.5 \" fill=\"#000000\"/>\n",
       "</svg>"
      ],
      "text/plain": [
       "<IPython.core.display.SVG object>"
      ]
     },
     "metadata": {},
     "output_type": "display_data"
    },
    {
     "name": "stdout",
     "output_type": "stream",
     "text": [
      "t116i\n"
     ]
    },
    {
     "data": {
      "image/svg+xml": [
       "<svg xmlns=\"http://www.w3.org/2000/svg\" xmlns:rdkit=\"http://www.rdkit.org/xml\" xmlns:xlink=\"http://www.w3.org/1999/xlink\" version=\"1.1\" baseProfile=\"full\" xml:space=\"preserve\" width=\"600px\" height=\"300px\" viewBox=\"0 0 600 300\">\n",
       "<!-- END OF HEADER -->\n",
       "<rect style=\"opacity:1.0;fill:#FFFFFF;stroke:none\" width=\"600.0\" height=\"300.0\" x=\"0.0\" y=\"0.0\"> </rect>\n",
       "<path class=\"bond-1 atom-1 atom-2\" d=\"M 163.9,113.9 L 163.8,174.9 L 144.3,186.1 L 144.4,125.1 Z\" style=\"fill:#FF7F7F;fill-rule:evenodd;fill-opacity:1;stroke:#FF7F7F;stroke-width:0.0px;stroke-linecap:butt;stroke-linejoin:miter;stroke-opacity:1;\"/>\n",
       "<path class=\"bond-6 atom-1 atom-7\" d=\"M 106.2,80.5 L 163.9,113.9 L 144.4,125.1 L 96.4,97.4 Z\" style=\"fill:#FF7F7F;fill-rule:evenodd;fill-opacity:1;stroke:#FF7F7F;stroke-width:0.0px;stroke-linecap:butt;stroke-linejoin:miter;stroke-opacity:1;\"/>\n",
       "<path class=\"bond-2 atom-2 atom-3\" d=\"M 163.8,174.9 L 211.8,202.6 L 202.0,219.5 L 144.3,186.1 Z\" style=\"fill:#FF7F7F;fill-rule:evenodd;fill-opacity:1;stroke:#FF7F7F;stroke-width:0.0px;stroke-linecap:butt;stroke-linejoin:miter;stroke-opacity:1;\"/>\n",
       "<ellipse cx=\"154.1\" cy=\"119.5\" rx=\"18.3\" ry=\"18.3\" class=\"atom-1\" style=\"fill:#FF7F7F;fill-rule:evenodd;stroke:#FF7F7F;stroke-width:1.0px;stroke-linecap:butt;stroke-linejoin:miter;stroke-opacity:1\"/>\n",
       "<ellipse cx=\"161.4\" cy=\"180.6\" rx=\"22.1\" ry=\"19.1\" class=\"atom-2\" style=\"fill:#FF7F7F;fill-rule:evenodd;stroke:#FF7F7F;stroke-width:1.0px;stroke-linecap:butt;stroke-linejoin:miter;stroke-opacity:1\"/>\n",
       "<ellipse cx=\"206.9\" cy=\"211.1\" rx=\"18.3\" ry=\"18.3\" class=\"atom-3\" style=\"fill:#FF7F7F;fill-rule:evenodd;stroke:#FF7F7F;stroke-width:1.0px;stroke-linecap:butt;stroke-linejoin:miter;stroke-opacity:1\"/>\n",
       "<ellipse cx=\"101.3\" cy=\"88.9\" rx=\"18.3\" ry=\"18.3\" class=\"atom-7\" style=\"fill:#FF7F7F;fill-rule:evenodd;stroke:#FF7F7F;stroke-width:1.0px;stroke-linecap:butt;stroke-linejoin:miter;stroke-opacity:1\"/>\n",
       "<path class=\"bond-0 atom-0 atom-1\" d=\"M 207.0,89.0 L 154.1,119.5\" style=\"fill:none;fill-rule:evenodd;stroke:#000000;stroke-width:2.0px;stroke-linecap:butt;stroke-linejoin:miter;stroke-opacity:1\"/>\n",
       "<path class=\"bond-0 atom-0 atom-1\" d=\"M 207.0,99.6 L 163.3,124.8\" style=\"fill:none;fill-rule:evenodd;stroke:#000000;stroke-width:2.0px;stroke-linecap:butt;stroke-linejoin:miter;stroke-opacity:1\"/>\n",
       "<path class=\"bond-1 atom-1 atom-2\" d=\"M 154.1,119.5 L 154.1,142.5\" style=\"fill:none;fill-rule:evenodd;stroke:#000000;stroke-width:2.0px;stroke-linecap:butt;stroke-linejoin:miter;stroke-opacity:1\"/>\n",
       "<path class=\"bond-1 atom-1 atom-2\" d=\"M 154.1,142.5 L 154.1,165.6\" style=\"fill:none;fill-rule:evenodd;stroke:#CCCC00;stroke-width:2.0px;stroke-linecap:butt;stroke-linejoin:miter;stroke-opacity:1\"/>\n",
       "<path class=\"bond-2 atom-2 atom-3\" d=\"M 164.4,186.5 L 185.7,198.8\" style=\"fill:none;fill-rule:evenodd;stroke:#CCCC00;stroke-width:2.0px;stroke-linecap:butt;stroke-linejoin:miter;stroke-opacity:1\"/>\n",
       "<path class=\"bond-2 atom-2 atom-3\" d=\"M 185.7,198.8 L 206.9,211.1\" style=\"fill:none;fill-rule:evenodd;stroke:#000000;stroke-width:2.0px;stroke-linecap:butt;stroke-linejoin:miter;stroke-opacity:1\"/>\n",
       "<path class=\"bond-3 atom-2 atom-4\" d=\"M 143.7,186.5 L 122.5,198.7\" style=\"fill:none;fill-rule:evenodd;stroke:#CCCC00;stroke-width:2.0px;stroke-linecap:butt;stroke-linejoin:miter;stroke-opacity:1\"/>\n",
       "<path class=\"bond-3 atom-2 atom-4\" d=\"M 122.5,198.7 L 101.2,211.0\" style=\"fill:none;fill-rule:evenodd;stroke:#000000;stroke-width:2.0px;stroke-linecap:butt;stroke-linejoin:miter;stroke-opacity:1\"/>\n",
       "<path class=\"bond-4 atom-0 atom-5\" d=\"M 207.0,89.0 L 247.7,112.5\" style=\"fill:none;fill-rule:evenodd;stroke:#000000;stroke-width:2.0px;stroke-linecap:butt;stroke-linejoin:miter;stroke-opacity:1\"/>\n",
       "<path class=\"bond-5 atom-0 atom-6\" d=\"M 207.0,89.0 L 207.0,42.9\" style=\"fill:none;fill-rule:evenodd;stroke:#000000;stroke-width:2.0px;stroke-linecap:butt;stroke-linejoin:miter;stroke-opacity:1\"/>\n",
       "<path class=\"bond-6 atom-1 atom-7\" d=\"M 154.1,119.5 L 113.5,96.0\" style=\"fill:none;fill-rule:evenodd;stroke:#000000;stroke-width:2.0px;stroke-linecap:butt;stroke-linejoin:miter;stroke-opacity:1\"/>\n",
       "<path class=\"bond-7 atom-3 atom-8\" d=\"M 206.9,211.1 L 185.0,248.9\" style=\"fill:none;fill-rule:evenodd;stroke:#000000;stroke-width:2.0px;stroke-linecap:butt;stroke-linejoin:miter;stroke-opacity:1\"/>\n",
       "<path class=\"bond-8 atom-3 atom-9\" d=\"M 206.9,211.1 L 228.8,249.0\" style=\"fill:none;fill-rule:evenodd;stroke:#000000;stroke-width:2.0px;stroke-linecap:butt;stroke-linejoin:miter;stroke-opacity:1\"/>\n",
       "<path class=\"bond-9 atom-3 atom-10\" d=\"M 206.9,211.1 L 247.6,187.6\" style=\"fill:none;fill-rule:evenodd;stroke:#000000;stroke-width:2.0px;stroke-linecap:butt;stroke-linejoin:miter;stroke-opacity:1\"/>\n",
       "<path class=\"bond-10 atom-4 atom-11\" d=\"M 101.2,211.0 L 79.4,173.1\" style=\"fill:none;fill-rule:evenodd;stroke:#000000;stroke-width:2.0px;stroke-linecap:butt;stroke-linejoin:miter;stroke-opacity:1\"/>\n",
       "<path class=\"bond-11 atom-4 atom-12\" d=\"M 101.2,211.0 L 52.3,211.0\" style=\"fill:none;fill-rule:evenodd;stroke:#000000;stroke-width:2.0px;stroke-linecap:butt;stroke-linejoin:miter;stroke-opacity:1\"/>\n",
       "<path class=\"bond-12 atom-4 atom-13\" d=\"M 101.2,211.0 L 101.2,257.1\" style=\"fill:none;fill-rule:evenodd;stroke:#000000;stroke-width:2.0px;stroke-linecap:butt;stroke-linejoin:miter;stroke-opacity:1\"/>\n",
       "<path class=\"atom-2\" d=\"M 146.8 189.4 Q 147.0 189.5, 148.3 190.0 Q 149.5 190.6, 150.8 190.9 Q 152.1 191.2, 153.5 191.2 Q 155.9 191.2, 157.3 190.0 Q 158.8 188.8, 158.8 186.7 Q 158.8 185.3, 158.0 184.4 Q 157.3 183.5, 156.2 183.0 Q 155.1 182.6, 153.3 182.0 Q 151.0 181.3, 149.6 180.7 Q 148.3 180.0, 147.3 178.6 Q 146.3 177.2, 146.3 174.9 Q 146.3 171.6, 148.5 169.6 Q 150.7 167.6, 155.1 167.6 Q 158.1 167.6, 161.5 169.0 L 160.7 171.8 Q 157.6 170.6, 155.2 170.6 Q 152.7 170.6, 151.3 171.6 Q 149.9 172.6, 150.0 174.4 Q 150.0 175.8, 150.7 176.7 Q 151.4 177.5, 152.4 178.0 Q 153.5 178.5, 155.2 179.0 Q 157.6 179.7, 159.0 180.5 Q 160.4 181.2, 161.4 182.7 Q 162.4 184.2, 162.4 186.7 Q 162.4 190.3, 160.0 192.2 Q 157.6 194.1, 153.6 194.1 Q 151.3 194.1, 149.5 193.6 Q 147.8 193.2, 145.8 192.3 L 146.8 189.4 \" fill=\"#CCCC00\"/>\n",
       "<path class=\"atom-2\" d=\"M 165.8 171.9 L 170.4 171.9 L 170.4 167.1 L 172.4 167.1 L 172.4 171.9 L 177.1 171.9 L 177.1 173.6 L 172.4 173.6 L 172.4 178.5 L 170.4 178.5 L 170.4 173.6 L 165.8 173.6 L 165.8 171.9 \" fill=\"#CCCC00\"/>\n",
       "<path class=\"atom-5\" d=\"M 249.7 106.6 L 253.2 106.6 L 253.2 117.6 L 266.5 117.6 L 266.5 106.6 L 270.0 106.6 L 270.0 132.5 L 266.5 132.5 L 266.5 120.6 L 253.2 120.6 L 253.2 132.5 L 249.7 132.5 L 249.7 106.6 \" fill=\"#000000\"/>\n",
       "<path class=\"atom-6\" d=\"M 196.9 15.0 L 200.4 15.0 L 200.4 26.0 L 213.7 26.0 L 213.7 15.0 L 217.2 15.0 L 217.2 40.9 L 213.7 40.9 L 213.7 29.0 L 200.4 29.0 L 200.4 40.9 L 196.9 40.9 L 196.9 15.0 \" fill=\"#000000\"/>\n",
       "<path class=\"atom-7\" d=\"M 91.1 76.0 L 94.7 76.0 L 94.7 87.0 L 107.9 87.0 L 107.9 76.0 L 111.4 76.0 L 111.4 101.9 L 107.9 101.9 L 107.9 89.9 L 94.7 89.9 L 94.7 101.9 L 91.1 101.9 L 91.1 76.0 \" fill=\"#000000\"/>\n",
       "<path class=\"atom-8\" d=\"M 166.2 250.9 L 169.7 250.9 L 169.7 262.0 L 183.0 262.0 L 183.0 250.9 L 186.5 250.9 L 186.5 276.9 L 183.0 276.9 L 183.0 264.9 L 169.7 264.9 L 169.7 276.9 L 166.2 276.9 L 166.2 250.9 \" fill=\"#000000\"/>\n",
       "<path class=\"atom-9\" d=\"M 227.2 251.0 L 230.8 251.0 L 230.8 262.0 L 244.0 262.0 L 244.0 251.0 L 247.5 251.0 L 247.5 276.9 L 244.0 276.9 L 244.0 264.9 L 230.8 264.9 L 230.8 276.9 L 227.2 276.9 L 227.2 251.0 \" fill=\"#000000\"/>\n",
       "<path class=\"atom-10\" d=\"M 249.6 167.6 L 253.2 167.6 L 253.2 178.7 L 266.4 178.7 L 266.4 167.6 L 269.9 167.6 L 269.9 193.6 L 266.4 193.6 L 266.4 181.6 L 253.2 181.6 L 253.2 193.6 L 249.6 193.6 L 249.6 167.6 \" fill=\"#000000\"/>\n",
       "<path class=\"atom-11\" d=\"M 60.6 145.2 L 64.1 145.2 L 64.1 156.2 L 77.4 156.2 L 77.4 145.2 L 80.9 145.2 L 80.9 171.1 L 77.4 171.1 L 77.4 159.1 L 64.1 159.1 L 64.1 171.1 L 60.6 171.1 L 60.6 145.2 \" fill=\"#000000\"/>\n",
       "<path class=\"atom-12\" d=\"M 30.0 198.0 L 33.5 198.0 L 33.5 209.0 L 46.8 209.0 L 46.8 198.0 L 50.3 198.0 L 50.3 223.9 L 46.8 223.9 L 46.8 211.9 L 33.5 211.9 L 33.5 223.9 L 30.0 223.9 L 30.0 198.0 \" fill=\"#000000\"/>\n",
       "<path class=\"atom-13\" d=\"M 91.0 259.1 L 94.5 259.1 L 94.5 270.1 L 107.8 270.1 L 107.8 259.1 L 111.3 259.1 L 111.3 285.0 L 107.8 285.0 L 107.8 273.0 L 94.5 273.0 L 94.5 285.0 L 91.0 285.0 L 91.0 259.1 \" fill=\"#000000\"/>\n",
       "</svg>"
      ],
      "text/plain": [
       "<IPython.core.display.SVG object>"
      ]
     },
     "metadata": {},
     "output_type": "display_data"
    },
    {
     "name": "stdout",
     "output_type": "stream",
     "text": [
      "t116j\n"
     ]
    },
    {
     "data": {
      "image/svg+xml": [
       "<svg xmlns=\"http://www.w3.org/2000/svg\" xmlns:rdkit=\"http://www.rdkit.org/xml\" xmlns:xlink=\"http://www.w3.org/1999/xlink\" version=\"1.1\" baseProfile=\"full\" xml:space=\"preserve\" width=\"600px\" height=\"300px\" viewBox=\"0 0 600 300\">\n",
       "<!-- END OF HEADER -->\n",
       "<rect style=\"opacity:1.0;fill:#FFFFFF;stroke:none\" width=\"600.0\" height=\"300.0\" x=\"0.0\" y=\"0.0\"> </rect>\n",
       "<path class=\"bond-1 atom-1 atom-2\" d=\"M 168.9,158.9 L 186.8,169.3 L 133.0,200.1 L 124.1,184.6 Z\" style=\"fill:#FF7F7F;fill-rule:evenodd;fill-opacity:1;stroke:#FF7F7F;stroke-width:0.0px;stroke-linecap:butt;stroke-linejoin:miter;stroke-opacity:1;\"/>\n",
       "<path class=\"bond-2 atom-2 atom-3\" d=\"M 168.7,98.9 L 186.7,116.8 L 186.8,169.3 L 168.9,158.9 Z\" style=\"fill:#FF7F7F;fill-rule:evenodd;fill-opacity:1;stroke:#FF7F7F;stroke-width:0.0px;stroke-linecap:butt;stroke-linejoin:miter;stroke-opacity:1;\"/>\n",
       "<path class=\"bond-9 atom-3 atom-10\" d=\"M 233.8,98.7 L 233.8,116.7 L 186.7,116.8 L 168.7,98.9 Z\" style=\"fill:#FF7F7F;fill-rule:evenodd;fill-opacity:1;stroke:#FF7F7F;stroke-width:0.0px;stroke-linecap:butt;stroke-linejoin:miter;stroke-opacity:1;\"/>\n",
       "<ellipse cx=\"128.5\" cy=\"192.4\" rx=\"16.8\" ry=\"16.8\" class=\"atom-1\" style=\"fill:#FF7F7F;fill-rule:evenodd;stroke:#FF7F7F;stroke-width:1.0px;stroke-linecap:butt;stroke-linejoin:miter;stroke-opacity:1\"/>\n",
       "<ellipse cx=\"184.6\" cy=\"164.2\" rx=\"20.4\" ry=\"17.6\" class=\"atom-2\" style=\"fill:#FF7F7F;fill-rule:evenodd;stroke:#FF7F7F;stroke-width:1.0px;stroke-linecap:butt;stroke-linejoin:miter;stroke-opacity:1\"/>\n",
       "<ellipse cx=\"177.7\" cy=\"107.9\" rx=\"16.8\" ry=\"16.8\" class=\"atom-3\" style=\"fill:#FF7F7F;fill-rule:evenodd;stroke:#FF7F7F;stroke-width:1.0px;stroke-linecap:butt;stroke-linejoin:miter;stroke-opacity:1\"/>\n",
       "<ellipse cx=\"233.8\" cy=\"107.7\" rx=\"16.8\" ry=\"16.8\" class=\"atom-10\" style=\"fill:#FF7F7F;fill-rule:evenodd;stroke:#FF7F7F;stroke-width:1.0px;stroke-linecap:butt;stroke-linejoin:miter;stroke-opacity:1\"/>\n",
       "<path class=\"bond-0 atom-0 atom-1\" d=\"M 80.3,164.3 L 128.5,192.4\" style=\"fill:none;fill-rule:evenodd;stroke:#000000;stroke-width:2.0px;stroke-linecap:butt;stroke-linejoin:miter;stroke-opacity:1\"/>\n",
       "<path class=\"bond-1 atom-1 atom-2\" d=\"M 128.5,192.4 L 148.5,181.0\" style=\"fill:none;fill-rule:evenodd;stroke:#000000;stroke-width:2.0px;stroke-linecap:butt;stroke-linejoin:miter;stroke-opacity:1\"/>\n",
       "<path class=\"bond-1 atom-1 atom-2\" d=\"M 148.5,181.0 L 168.4,169.6\" style=\"fill:none;fill-rule:evenodd;stroke:#CCCC00;stroke-width:2.0px;stroke-linecap:butt;stroke-linejoin:miter;stroke-opacity:1\"/>\n",
       "<path class=\"bond-2 atom-2 atom-3\" d=\"M 177.8,150.4 L 177.8,129.1\" style=\"fill:none;fill-rule:evenodd;stroke:#CCCC00;stroke-width:2.0px;stroke-linecap:butt;stroke-linejoin:miter;stroke-opacity:1\"/>\n",
       "<path class=\"bond-2 atom-2 atom-3\" d=\"M 177.8,129.1 L 177.7,107.9\" style=\"fill:none;fill-rule:evenodd;stroke:#000000;stroke-width:2.0px;stroke-linecap:butt;stroke-linejoin:miter;stroke-opacity:1\"/>\n",
       "<path class=\"bond-3 atom-2 atom-4\" d=\"M 187.3,169.5 L 207.3,180.9\" style=\"fill:none;fill-rule:evenodd;stroke:#CCCC00;stroke-width:2.0px;stroke-linecap:butt;stroke-linejoin:miter;stroke-opacity:1\"/>\n",
       "<path class=\"bond-3 atom-2 atom-4\" d=\"M 207.3,180.9 L 227.3,192.2\" style=\"fill:none;fill-rule:evenodd;stroke:#000000;stroke-width:2.0px;stroke-linecap:butt;stroke-linejoin:miter;stroke-opacity:1\"/>\n",
       "<path class=\"bond-4 atom-0 atom-5\" d=\"M 80.3,164.3 L 60.2,199.0\" style=\"fill:none;fill-rule:evenodd;stroke:#000000;stroke-width:2.0px;stroke-linecap:butt;stroke-linejoin:miter;stroke-opacity:1\"/>\n",
       "<path class=\"bond-5 atom-0 atom-6\" d=\"M 80.3,164.3 L 35.5,164.2\" style=\"fill:none;fill-rule:evenodd;stroke:#000000;stroke-width:2.0px;stroke-linecap:butt;stroke-linejoin:miter;stroke-opacity:1\"/>\n",
       "<path class=\"bond-6 atom-0 atom-7\" d=\"M 80.3,164.3 L 80.5,122.0\" style=\"fill:none;fill-rule:evenodd;stroke:#000000;stroke-width:2.0px;stroke-linecap:butt;stroke-linejoin:miter;stroke-opacity:1\"/>\n",
       "<path class=\"bond-7 atom-1 atom-8\" d=\"M 128.5,192.4 L 147.9,226.8\" style=\"fill:none;fill-rule:evenodd;stroke:#000000;stroke-width:2.0px;stroke-linecap:butt;stroke-linejoin:miter;stroke-opacity:1\"/>\n",
       "<path class=\"bond-8 atom-1 atom-9\" d=\"M 128.5,192.4 L 108.4,227.1\" style=\"fill:none;fill-rule:evenodd;stroke:#000000;stroke-width:2.0px;stroke-linecap:butt;stroke-linejoin:miter;stroke-opacity:1\"/>\n",
       "<path class=\"bond-9 atom-3 atom-10\" d=\"M 177.7,107.9 L 222.6,107.7\" style=\"fill:none;fill-rule:evenodd;stroke:#000000;stroke-width:2.0px;stroke-linecap:butt;stroke-linejoin:miter;stroke-opacity:1\"/>\n",
       "<path class=\"bond-10 atom-3 atom-11\" d=\"M 177.7,107.9 L 197.8,72.9\" style=\"fill:none;fill-rule:evenodd;stroke:#000000;stroke-width:2.0px;stroke-linecap:butt;stroke-linejoin:miter;stroke-opacity:1\"/>\n",
       "<path class=\"bond-11 atom-3 atom-12\" d=\"M 177.7,107.9 L 140.2,86.3\" style=\"fill:none;fill-rule:evenodd;stroke:#000000;stroke-width:2.0px;stroke-linecap:butt;stroke-linejoin:miter;stroke-opacity:1\"/>\n",
       "<path class=\"bond-12 atom-4 atom-13\" d=\"M 227.3,192.2 L 208.1,226.7\" style=\"fill:none;fill-rule:evenodd;stroke:#000000;stroke-width:2.0px;stroke-linecap:butt;stroke-linejoin:miter;stroke-opacity:1\"/>\n",
       "<path class=\"bond-13 atom-4 atom-14\" d=\"M 227.3,192.2 L 247.5,226.8\" style=\"fill:none;fill-rule:evenodd;stroke:#000000;stroke-width:2.0px;stroke-linecap:butt;stroke-linejoin:miter;stroke-opacity:1\"/>\n",
       "<path class=\"bond-14 atom-4 atom-15\" d=\"M 227.3,192.2 L 264.5,170.5\" style=\"fill:none;fill-rule:evenodd;stroke:#000000;stroke-width:2.0px;stroke-linecap:butt;stroke-linejoin:miter;stroke-opacity:1\"/>\n",
       "<path class=\"atom-2\" d=\"M 171.1 172.3 Q 171.4 172.4, 172.5 172.9 Q 173.6 173.4, 174.8 173.7 Q 176.1 173.9, 177.3 173.9 Q 179.5 173.9, 180.8 172.9 Q 182.2 171.7, 182.2 169.8 Q 182.2 168.5, 181.5 167.7 Q 180.8 166.9, 179.8 166.5 Q 178.8 166.0, 177.1 165.5 Q 175.0 164.9, 173.7 164.3 Q 172.5 163.7, 171.6 162.4 Q 170.7 161.1, 170.7 159.0 Q 170.7 156.0, 172.7 154.1 Q 174.8 152.3, 178.8 152.3 Q 181.6 152.3, 184.7 153.6 L 183.9 156.2 Q 181.1 155.0, 178.9 155.0 Q 176.6 155.0, 175.3 156.0 Q 174.0 156.9, 174.1 158.5 Q 174.1 159.8, 174.7 160.6 Q 175.4 161.4, 176.3 161.8 Q 177.3 162.3, 178.9 162.8 Q 181.1 163.4, 182.4 164.1 Q 183.6 164.8, 184.5 166.2 Q 185.5 167.5, 185.5 169.8 Q 185.5 173.1, 183.3 174.9 Q 181.1 176.7, 177.4 176.7 Q 175.3 176.7, 173.7 176.2 Q 172.1 175.7, 170.2 175.0 L 171.1 172.3 \" fill=\"#CCCC00\"/>\n",
       "<path class=\"atom-2\" d=\"M 188.6 156.2 L 192.8 156.2 L 192.8 151.8 L 194.7 151.8 L 194.7 156.2 L 199.0 156.2 L 199.0 157.8 L 194.7 157.8 L 194.7 162.2 L 192.8 162.2 L 192.8 157.8 L 188.6 157.8 L 188.6 156.2 \" fill=\"#CCCC00\"/>\n",
       "<path class=\"atom-5\" d=\"M 42.9 200.9 L 46.1 200.9 L 46.1 211.0 L 58.3 211.0 L 58.3 200.9 L 61.5 200.9 L 61.5 224.7 L 58.3 224.7 L 58.3 213.7 L 46.1 213.7 L 46.1 224.7 L 42.9 224.7 L 42.9 200.9 \" fill=\"#000000\"/>\n",
       "<path class=\"atom-6\" d=\"M 15.0 152.3 L 18.2 152.3 L 18.2 162.4 L 30.4 162.4 L 30.4 152.3 L 33.6 152.3 L 33.6 176.1 L 30.4 176.1 L 30.4 165.1 L 18.2 165.1 L 18.2 176.1 L 15.0 176.1 L 15.0 152.3 \" fill=\"#000000\"/>\n",
       "<path class=\"atom-7\" d=\"M 71.3 96.3 L 74.5 96.3 L 74.5 106.4 L 86.7 106.4 L 86.7 96.3 L 89.9 96.3 L 89.9 120.1 L 86.7 120.1 L 86.7 109.1 L 74.5 109.1 L 74.5 120.1 L 71.3 120.1 L 71.3 96.3 \" fill=\"#000000\"/>\n",
       "<path class=\"atom-8\" d=\"M 146.2 228.7 L 149.5 228.7 L 149.5 238.8 L 161.7 238.8 L 161.7 228.7 L 164.9 228.7 L 164.9 252.5 L 161.7 252.5 L 161.7 241.5 L 149.5 241.5 L 149.5 252.5 L 146.2 252.5 L 146.2 228.7 \" fill=\"#000000\"/>\n",
       "<path class=\"atom-9\" d=\"M 91.0 228.9 L 94.2 228.9 L 94.2 239.0 L 106.4 239.0 L 106.4 228.9 L 109.7 228.9 L 109.7 252.7 L 106.4 252.7 L 106.4 241.7 L 94.2 241.7 L 94.2 252.7 L 91.0 252.7 L 91.0 228.9 \" fill=\"#000000\"/>\n",
       "<path class=\"atom-10\" d=\"M 224.5 95.8 L 227.7 95.8 L 227.7 105.9 L 239.9 105.9 L 239.9 95.8 L 243.1 95.8 L 243.1 119.6 L 239.9 119.6 L 239.9 108.6 L 227.7 108.6 L 227.7 119.6 L 224.5 119.6 L 224.5 95.8 \" fill=\"#000000\"/>\n",
       "<path class=\"atom-11\" d=\"M 196.3 47.3 L 199.6 47.3 L 199.6 57.4 L 211.7 57.4 L 211.7 47.3 L 215.0 47.3 L 215.0 71.1 L 211.7 71.1 L 211.7 60.1 L 199.6 60.1 L 199.6 71.1 L 196.3 71.1 L 196.3 47.3 \" fill=\"#000000\"/>\n",
       "<path class=\"atom-12\" d=\"M 119.7 68.0 L 123.0 68.0 L 123.0 78.1 L 135.2 78.1 L 135.2 68.0 L 138.4 68.0 L 138.4 91.8 L 135.2 91.8 L 135.2 80.8 L 123.0 80.8 L 123.0 91.8 L 119.7 91.8 L 119.7 68.0 \" fill=\"#000000\"/>\n",
       "<path class=\"atom-13\" d=\"M 191.1 228.6 L 194.3 228.6 L 194.3 238.7 L 206.5 238.7 L 206.5 228.6 L 209.7 228.6 L 209.7 252.4 L 206.5 252.4 L 206.5 241.4 L 194.3 241.4 L 194.3 252.4 L 191.1 252.4 L 191.1 228.6 \" fill=\"#000000\"/>\n",
       "<path class=\"atom-14\" d=\"M 246.3 228.6 L 249.5 228.6 L 249.5 238.8 L 261.7 238.8 L 261.7 228.6 L 264.9 228.6 L 264.9 252.4 L 261.7 252.4 L 261.7 241.4 L 249.5 241.4 L 249.5 252.4 L 246.3 252.4 L 246.3 228.6 \" fill=\"#000000\"/>\n",
       "<path class=\"atom-15\" d=\"M 266.4 152.1 L 269.6 152.1 L 269.6 162.2 L 281.8 162.2 L 281.8 152.1 L 285.0 152.1 L 285.0 175.9 L 281.8 175.9 L 281.8 164.9 L 269.6 164.9 L 269.6 175.9 L 266.4 175.9 L 266.4 152.1 \" fill=\"#000000\"/>\n",
       "</svg>"
      ],
      "text/plain": [
       "<IPython.core.display.SVG object>"
      ]
     },
     "metadata": {},
     "output_type": "display_data"
    },
    {
     "name": "stdout",
     "output_type": "stream",
     "text": [
      "t142k\n"
     ]
    },
    {
     "data": {
      "image/svg+xml": [
       "<svg xmlns=\"http://www.w3.org/2000/svg\" xmlns:rdkit=\"http://www.rdkit.org/xml\" xmlns:xlink=\"http://www.w3.org/1999/xlink\" version=\"1.1\" baseProfile=\"full\" xml:space=\"preserve\" width=\"600px\" height=\"300px\" viewBox=\"0 0 600 300\">\n",
       "<!-- END OF HEADER -->\n",
       "<rect style=\"opacity:1.0;fill:#FFFFFF;stroke:none\" width=\"600.0\" height=\"300.0\" x=\"0.0\" y=\"0.0\"> </rect>\n",
       "<path class=\"bond-0 atom-0 atom-1\" d=\"M 85.1,152.6 L 129.4,178.1 L 129.4,198.9 L 76.2,168.2 Z\" style=\"fill:#FF7F7F;fill-rule:evenodd;fill-opacity:1;stroke:#FF7F7F;stroke-width:0.0px;stroke-linecap:butt;stroke-linejoin:miter;stroke-opacity:1;\"/>\n",
       "<path class=\"bond-1 atom-1 atom-2\" d=\"M 169.1,155.1 L 187.2,165.5 L 129.4,198.9 L 129.4,178.1 Z\" style=\"fill:#FF7F7F;fill-rule:evenodd;fill-opacity:1;stroke:#FF7F7F;stroke-width:0.0px;stroke-linecap:butt;stroke-linejoin:miter;stroke-opacity:1;\"/>\n",
       "<path class=\"bond-2 atom-2 atom-3\" d=\"M 187.1,104.0 L 187.2,165.5 L 169.1,155.1 L 169.1,104.0 Z\" style=\"fill:#FF7F7F;fill-rule:evenodd;fill-opacity:1;stroke:#FF7F7F;stroke-width:0.0px;stroke-linecap:butt;stroke-linejoin:miter;stroke-opacity:1;\"/>\n",
       "<ellipse cx=\"80.6\" cy=\"160.4\" rx=\"16.9\" ry=\"16.9\" class=\"atom-0\" style=\"fill:#FF7F7F;fill-rule:evenodd;stroke:#FF7F7F;stroke-width:1.0px;stroke-linecap:butt;stroke-linejoin:miter;stroke-opacity:1\"/>\n",
       "<ellipse cx=\"129.4\" cy=\"188.5\" rx=\"16.9\" ry=\"16.9\" class=\"atom-1\" style=\"fill:#FF7F7F;fill-rule:evenodd;stroke:#FF7F7F;stroke-width:1.0px;stroke-linecap:butt;stroke-linejoin:miter;stroke-opacity:1\"/>\n",
       "<ellipse cx=\"184.9\" cy=\"160.4\" rx=\"20.4\" ry=\"17.7\" class=\"atom-2\" style=\"fill:#FF7F7F;fill-rule:evenodd;stroke:#FF7F7F;stroke-width:1.0px;stroke-linecap:butt;stroke-linejoin:miter;stroke-opacity:1\"/>\n",
       "<ellipse cx=\"178.1\" cy=\"104.0\" rx=\"16.9\" ry=\"16.9\" class=\"atom-3\" style=\"fill:#FF7F7F;fill-rule:evenodd;stroke:#FF7F7F;stroke-width:1.0px;stroke-linecap:butt;stroke-linejoin:miter;stroke-opacity:1\"/>\n",
       "<path class=\"bond-0 atom-0 atom-1\" d=\"M 80.6,160.4 L 99.6,171.3\" style=\"fill:none;fill-rule:evenodd;stroke:#000000;stroke-width:2.0px;stroke-linecap:butt;stroke-linejoin:miter;stroke-opacity:1\"/>\n",
       "<path class=\"bond-0 atom-0 atom-1\" d=\"M 99.6,171.3 L 118.5,182.2\" style=\"fill:none;fill-rule:evenodd;stroke:#0000FF;stroke-width:2.0px;stroke-linecap:butt;stroke-linejoin:miter;stroke-opacity:1\"/>\n",
       "<path class=\"bond-1 atom-1 atom-2\" d=\"M 140.3,182.2 L 154.5,174.0\" style=\"fill:none;fill-rule:evenodd;stroke:#0000FF;stroke-width:2.0px;stroke-linecap:butt;stroke-linejoin:miter;stroke-opacity:1\"/>\n",
       "<path class=\"bond-1 atom-1 atom-2\" d=\"M 154.5,174.0 L 168.6,165.8\" style=\"fill:none;fill-rule:evenodd;stroke:#CCCC00;stroke-width:2.0px;stroke-linecap:butt;stroke-linejoin:miter;stroke-opacity:1\"/>\n",
       "<path class=\"bond-2 atom-2 atom-3\" d=\"M 178.1,146.5 L 178.1,125.3\" style=\"fill:none;fill-rule:evenodd;stroke:#CCCC00;stroke-width:2.0px;stroke-linecap:butt;stroke-linejoin:miter;stroke-opacity:1\"/>\n",
       "<path class=\"bond-2 atom-2 atom-3\" d=\"M 178.1,125.3 L 178.1,104.0\" style=\"fill:none;fill-rule:evenodd;stroke:#000000;stroke-width:2.0px;stroke-linecap:butt;stroke-linejoin:miter;stroke-opacity:1\"/>\n",
       "<path class=\"bond-3 atom-2 atom-4\" d=\"M 187.7,165.8 L 207.3,177.1\" style=\"fill:none;fill-rule:evenodd;stroke:#CCCC00;stroke-width:2.0px;stroke-linecap:butt;stroke-linejoin:miter;stroke-opacity:1\"/>\n",
       "<path class=\"bond-3 atom-2 atom-4\" d=\"M 207.3,177.1 L 226.9,188.4\" style=\"fill:none;fill-rule:evenodd;stroke:#000000;stroke-width:2.0px;stroke-linecap:butt;stroke-linejoin:miter;stroke-opacity:1\"/>\n",
       "<path class=\"bond-4 atom-0 atom-5\" d=\"M 80.6,160.4 L 60.5,195.3\" style=\"fill:none;fill-rule:evenodd;stroke:#000000;stroke-width:2.0px;stroke-linecap:butt;stroke-linejoin:miter;stroke-opacity:1\"/>\n",
       "<path class=\"bond-5 atom-0 atom-6\" d=\"M 80.6,160.4 L 35.6,160.4\" style=\"fill:none;fill-rule:evenodd;stroke:#000000;stroke-width:2.0px;stroke-linecap:butt;stroke-linejoin:miter;stroke-opacity:1\"/>\n",
       "<path class=\"bond-6 atom-0 atom-7\" d=\"M 80.6,160.4 L 80.6,117.9\" style=\"fill:none;fill-rule:evenodd;stroke:#000000;stroke-width:2.0px;stroke-linecap:butt;stroke-linejoin:miter;stroke-opacity:1\"/>\n",
       "<path class=\"bond-7 atom-1 atom-8\" d=\"M 129.4,202.3 L 129.4,216.6\" style=\"fill:none;fill-rule:evenodd;stroke:#0000FF;stroke-width:2.0px;stroke-linecap:butt;stroke-linejoin:miter;stroke-opacity:1\"/>\n",
       "<path class=\"bond-7 atom-1 atom-8\" d=\"M 129.4,216.6 L 129.5,231.0\" style=\"fill:none;fill-rule:evenodd;stroke:#000000;stroke-width:2.0px;stroke-linecap:butt;stroke-linejoin:miter;stroke-opacity:1\"/>\n",
       "<path class=\"bond-8 atom-3 atom-9\" d=\"M 178.1,104.0 L 223.2,104.0\" style=\"fill:none;fill-rule:evenodd;stroke:#000000;stroke-width:2.0px;stroke-linecap:butt;stroke-linejoin:miter;stroke-opacity:1\"/>\n",
       "<path class=\"bond-9 atom-3 atom-10\" d=\"M 178.1,104.0 L 198.2,69.0\" style=\"fill:none;fill-rule:evenodd;stroke:#000000;stroke-width:2.0px;stroke-linecap:butt;stroke-linejoin:miter;stroke-opacity:1\"/>\n",
       "<path class=\"bond-10 atom-3 atom-11\" d=\"M 178.1,104.0 L 140.5,82.4\" style=\"fill:none;fill-rule:evenodd;stroke:#000000;stroke-width:2.0px;stroke-linecap:butt;stroke-linejoin:miter;stroke-opacity:1\"/>\n",
       "<path class=\"bond-11 atom-4 atom-12\" d=\"M 226.9,188.4 L 206.8,223.4\" style=\"fill:none;fill-rule:evenodd;stroke:#000000;stroke-width:2.0px;stroke-linecap:butt;stroke-linejoin:miter;stroke-opacity:1\"/>\n",
       "<path class=\"bond-12 atom-4 atom-13\" d=\"M 226.9,188.4 L 247.1,223.3\" style=\"fill:none;fill-rule:evenodd;stroke:#000000;stroke-width:2.0px;stroke-linecap:butt;stroke-linejoin:miter;stroke-opacity:1\"/>\n",
       "<path class=\"bond-13 atom-4 atom-14\" d=\"M 226.9,188.4 L 264.4,166.7\" style=\"fill:none;fill-rule:evenodd;stroke:#000000;stroke-width:2.0px;stroke-linecap:butt;stroke-linejoin:miter;stroke-opacity:1\"/>\n",
       "<path class=\"atom-1\" d=\"M 124.1 176.5 L 132.0 189.2 Q 132.7 190.4, 134.0 192.7 Q 135.2 195.0, 135.3 195.1 L 135.3 176.5 L 138.5 176.5 L 138.5 200.4 L 135.2 200.4 L 126.8 186.6 Q 125.8 185.0, 124.8 183.1 Q 123.8 181.2, 123.5 180.7 L 123.5 200.4 L 120.4 200.4 L 120.4 176.5 L 124.1 176.5 \" fill=\"#0000FF\"/>\n",
       "<path class=\"atom-2\" d=\"M 171.4 168.5 Q 171.7 168.6, 172.8 169.1 Q 173.9 169.6, 175.1 169.9 Q 176.4 170.1, 177.6 170.1 Q 179.8 170.1, 181.2 169.0 Q 182.5 167.9, 182.5 166.0 Q 182.5 164.7, 181.8 163.9 Q 181.2 163.1, 180.1 162.6 Q 179.1 162.2, 177.4 161.7 Q 175.3 161.0, 174.0 160.4 Q 172.8 159.8, 171.9 158.5 Q 171.0 157.3, 171.0 155.1 Q 171.0 152.1, 173.0 150.2 Q 175.1 148.4, 179.1 148.4 Q 181.9 148.4, 185.0 149.7 L 184.3 152.3 Q 181.4 151.1, 179.2 151.1 Q 176.9 151.1, 175.6 152.1 Q 174.3 153.0, 174.4 154.7 Q 174.4 156.0, 175.0 156.7 Q 175.7 157.5, 176.6 158.0 Q 177.6 158.4, 179.2 158.9 Q 181.4 159.6, 182.7 160.3 Q 184.0 160.9, 184.9 162.3 Q 185.8 163.7, 185.8 166.0 Q 185.8 169.3, 183.6 171.1 Q 181.4 172.9, 177.7 172.9 Q 175.6 172.9, 174.0 172.4 Q 172.4 171.9, 170.5 171.2 L 171.4 168.5 \" fill=\"#CCCC00\"/>\n",
       "<path class=\"atom-2\" d=\"M 189.0 152.3 L 193.2 152.3 L 193.2 147.9 L 195.0 147.9 L 195.0 152.3 L 199.4 152.3 L 199.4 153.9 L 195.0 153.9 L 195.0 158.4 L 193.2 158.4 L 193.2 153.9 L 189.0 153.9 L 189.0 152.3 \" fill=\"#CCCC00\"/>\n",
       "<path class=\"atom-5\" d=\"M 43.2 197.2 L 46.4 197.2 L 46.4 207.4 L 58.6 207.4 L 58.6 197.2 L 61.9 197.2 L 61.9 221.1 L 58.6 221.1 L 58.6 210.1 L 46.4 210.1 L 46.4 221.1 L 43.2 221.1 L 43.2 197.2 \" fill=\"#000000\"/>\n",
       "<path class=\"atom-6\" d=\"M 15.0 148.5 L 18.2 148.5 L 18.2 158.6 L 30.5 158.6 L 30.5 148.5 L 33.7 148.5 L 33.7 172.4 L 30.5 172.4 L 30.5 161.3 L 18.2 161.3 L 18.2 172.4 L 15.0 172.4 L 15.0 148.5 \" fill=\"#000000\"/>\n",
       "<path class=\"atom-7\" d=\"M 71.2 92.1 L 74.5 92.1 L 74.5 102.3 L 86.7 102.3 L 86.7 92.1 L 90.0 92.1 L 90.0 116.0 L 86.7 116.0 L 86.7 105.0 L 74.5 105.0 L 74.5 116.0 L 71.2 116.0 L 71.2 92.1 \" fill=\"#000000\"/>\n",
       "<path class=\"atom-8\" d=\"M 120.1 232.8 L 123.4 232.8 L 123.4 243.0 L 135.6 243.0 L 135.6 232.8 L 138.8 232.8 L 138.8 256.7 L 135.6 256.7 L 135.6 245.7 L 123.4 245.7 L 123.4 256.7 L 120.1 256.7 L 120.1 232.8 \" fill=\"#000000\"/>\n",
       "<path class=\"atom-9\" d=\"M 225.0 92.0 L 228.3 92.0 L 228.3 102.2 L 240.5 102.2 L 240.5 92.0 L 243.7 92.0 L 243.7 115.9 L 240.5 115.9 L 240.5 104.9 L 228.3 104.9 L 228.3 115.9 L 225.0 115.9 L 225.0 92.0 \" fill=\"#000000\"/>\n",
       "<path class=\"atom-10\" d=\"M 196.8 43.3 L 200.1 43.3 L 200.1 53.4 L 212.3 53.4 L 212.3 43.3 L 215.6 43.3 L 215.6 67.2 L 212.3 67.2 L 212.3 56.1 L 200.1 56.1 L 200.1 67.2 L 196.8 67.2 L 196.8 43.3 \" fill=\"#000000\"/>\n",
       "<path class=\"atom-11\" d=\"M 120.0 63.9 L 123.2 63.9 L 123.2 74.1 L 135.4 74.1 L 135.4 63.9 L 138.7 63.9 L 138.7 87.8 L 135.4 87.8 L 135.4 76.8 L 123.2 76.8 L 123.2 87.8 L 120.0 87.8 L 120.0 63.9 \" fill=\"#000000\"/>\n",
       "<path class=\"atom-12\" d=\"M 189.4 225.2 L 192.7 225.2 L 192.7 235.4 L 204.9 235.4 L 204.9 225.2 L 208.2 225.2 L 208.2 249.1 L 204.9 249.1 L 204.9 238.1 L 192.7 238.1 L 192.7 249.1 L 189.4 249.1 L 189.4 225.2 \" fill=\"#000000\"/>\n",
       "<path class=\"atom-13\" d=\"M 245.7 225.2 L 249.0 225.2 L 249.0 235.3 L 261.2 235.3 L 261.2 225.2 L 264.5 225.2 L 264.5 249.1 L 261.2 249.1 L 261.2 238.0 L 249.0 238.0 L 249.0 249.1 L 245.7 249.1 L 245.7 225.2 \" fill=\"#000000\"/>\n",
       "<path class=\"atom-14\" d=\"M 266.3 148.3 L 269.5 148.3 L 269.5 158.4 L 281.8 158.4 L 281.8 148.3 L 285.0 148.3 L 285.0 172.2 L 281.8 172.2 L 281.8 161.1 L 269.5 161.1 L 269.5 172.2 L 266.3 172.2 L 266.3 148.3 \" fill=\"#000000\"/>\n",
       "</svg>"
      ],
      "text/plain": [
       "<IPython.core.display.SVG object>"
      ]
     },
     "metadata": {},
     "output_type": "display_data"
    },
    {
     "name": "stdout",
     "output_type": "stream",
     "text": [
      "t142j\n"
     ]
    },
    {
     "data": {
      "image/svg+xml": [
       "<svg xmlns=\"http://www.w3.org/2000/svg\" xmlns:rdkit=\"http://www.rdkit.org/xml\" xmlns:xlink=\"http://www.w3.org/1999/xlink\" version=\"1.1\" baseProfile=\"full\" xml:space=\"preserve\" width=\"600px\" height=\"300px\" viewBox=\"0 0 600 300\">\n",
       "<!-- END OF HEADER -->\n",
       "<rect style=\"opacity:1.0;fill:#FFFFFF;stroke:none\" width=\"600.0\" height=\"300.0\" x=\"0.0\" y=\"0.0\"> </rect>\n",
       "<path class=\"bond-0 atom-0 atom-1\" d=\"M 203.4,74.2 L 213.5,91.6 L 164.1,120.2 L 144.0,108.6 Z\" style=\"fill:#FF7F7F;fill-rule:evenodd;fill-opacity:1;stroke:#FF7F7F;stroke-width:0.0px;stroke-linecap:butt;stroke-linejoin:miter;stroke-opacity:1;\"/>\n",
       "<path class=\"bond-1 atom-1 atom-2\" d=\"M 144.0,108.6 L 164.1,120.2 L 164.2,171.4 L 144.1,183.1 Z\" style=\"fill:#FF7F7F;fill-rule:evenodd;fill-opacity:1;stroke:#FF7F7F;stroke-width:0.0px;stroke-linecap:butt;stroke-linejoin:miter;stroke-opacity:1;\"/>\n",
       "<path class=\"bond-2 atom-2 atom-3\" d=\"M 164.2,171.4 L 213.7,199.9 L 203.7,217.3 L 144.1,183.1 Z\" style=\"fill:#FF7F7F;fill-rule:evenodd;fill-opacity:1;stroke:#FF7F7F;stroke-width:0.0px;stroke-linecap:butt;stroke-linejoin:miter;stroke-opacity:1;\"/>\n",
       "<ellipse cx=\"208.4\" cy=\"82.9\" rx=\"18.9\" ry=\"18.9\" class=\"atom-0\" style=\"fill:#FF7F7F;fill-rule:evenodd;stroke:#FF7F7F;stroke-width:1.0px;stroke-linecap:butt;stroke-linejoin:miter;stroke-opacity:1\"/>\n",
       "<ellipse cx=\"154.0\" cy=\"114.6\" rx=\"18.9\" ry=\"19.4\" class=\"atom-1\" style=\"fill:#FF7F7F;fill-rule:evenodd;stroke:#FF7F7F;stroke-width:1.0px;stroke-linecap:butt;stroke-linejoin:miter;stroke-opacity:1\"/>\n",
       "<ellipse cx=\"161.7\" cy=\"177.3\" rx=\"22.8\" ry=\"19.7\" class=\"atom-2\" style=\"fill:#FF7F7F;fill-rule:evenodd;stroke:#FF7F7F;stroke-width:1.0px;stroke-linecap:butt;stroke-linejoin:miter;stroke-opacity:1\"/>\n",
       "<ellipse cx=\"208.7\" cy=\"208.6\" rx=\"18.9\" ry=\"18.9\" class=\"atom-3\" style=\"fill:#FF7F7F;fill-rule:evenodd;stroke:#FF7F7F;stroke-width:1.0px;stroke-linecap:butt;stroke-linejoin:miter;stroke-opacity:1\"/>\n",
       "<path class=\"bond-0 atom-0 atom-1\" d=\"M 208.4,82.9 L 188.4,94.5\" style=\"fill:none;fill-rule:evenodd;stroke:#000000;stroke-width:2.0px;stroke-linecap:butt;stroke-linejoin:miter;stroke-opacity:1\"/>\n",
       "<path class=\"bond-0 atom-0 atom-1\" d=\"M 188.4,94.5 L 168.4,106.1\" style=\"fill:none;fill-rule:evenodd;stroke:#FF0000;stroke-width:2.0px;stroke-linecap:butt;stroke-linejoin:miter;stroke-opacity:1\"/>\n",
       "<path class=\"bond-1 atom-1 atom-2\" d=\"M 154.1,130.4 L 154.1,146.1\" style=\"fill:none;fill-rule:evenodd;stroke:#FF0000;stroke-width:2.0px;stroke-linecap:butt;stroke-linejoin:miter;stroke-opacity:1\"/>\n",
       "<path class=\"bond-1 atom-1 atom-2\" d=\"M 154.1,146.1 L 154.1,161.9\" style=\"fill:none;fill-rule:evenodd;stroke:#CCCC00;stroke-width:2.0px;stroke-linecap:butt;stroke-linejoin:miter;stroke-opacity:1\"/>\n",
       "<path class=\"bond-2 atom-2 atom-3\" d=\"M 164.8,183.4 L 186.7,196.0\" style=\"fill:none;fill-rule:evenodd;stroke:#CCCC00;stroke-width:2.0px;stroke-linecap:butt;stroke-linejoin:miter;stroke-opacity:1\"/>\n",
       "<path class=\"bond-2 atom-2 atom-3\" d=\"M 186.7,196.0 L 208.7,208.6\" style=\"fill:none;fill-rule:evenodd;stroke:#000000;stroke-width:2.0px;stroke-linecap:butt;stroke-linejoin:miter;stroke-opacity:1\"/>\n",
       "<path class=\"bond-3 atom-2 atom-4\" d=\"M 143.5,183.4 L 121.7,196.1\" style=\"fill:none;fill-rule:evenodd;stroke:#CCCC00;stroke-width:2.0px;stroke-linecap:butt;stroke-linejoin:miter;stroke-opacity:1\"/>\n",
       "<path class=\"bond-3 atom-2 atom-4\" d=\"M 121.7,196.1 L 99.8,208.8\" style=\"fill:none;fill-rule:evenodd;stroke:#000000;stroke-width:2.0px;stroke-linecap:butt;stroke-linejoin:miter;stroke-opacity:1\"/>\n",
       "<path class=\"bond-4 atom-0 atom-5\" d=\"M 208.4,82.9 L 185.8,43.9\" style=\"fill:none;fill-rule:evenodd;stroke:#000000;stroke-width:2.0px;stroke-linecap:butt;stroke-linejoin:miter;stroke-opacity:1\"/>\n",
       "<path class=\"bond-5 atom-0 atom-6\" d=\"M 208.4,82.9 L 230.9,43.8\" style=\"fill:none;fill-rule:evenodd;stroke:#000000;stroke-width:2.0px;stroke-linecap:butt;stroke-linejoin:miter;stroke-opacity:1\"/>\n",
       "<path class=\"bond-6 atom-0 atom-7\" d=\"M 208.4,82.9 L 250.4,107.0\" style=\"fill:none;fill-rule:evenodd;stroke:#000000;stroke-width:2.0px;stroke-linecap:butt;stroke-linejoin:miter;stroke-opacity:1\"/>\n",
       "<path class=\"bond-7 atom-3 atom-8\" d=\"M 208.7,208.6 L 186.2,247.6\" style=\"fill:none;fill-rule:evenodd;stroke:#000000;stroke-width:2.0px;stroke-linecap:butt;stroke-linejoin:miter;stroke-opacity:1\"/>\n",
       "<path class=\"bond-8 atom-3 atom-9\" d=\"M 208.7,208.6 L 231.3,247.5\" style=\"fill:none;fill-rule:evenodd;stroke:#000000;stroke-width:2.0px;stroke-linecap:butt;stroke-linejoin:miter;stroke-opacity:1\"/>\n",
       "<path class=\"bond-9 atom-3 atom-10\" d=\"M 208.7,208.6 L 250.5,184.3\" style=\"fill:none;fill-rule:evenodd;stroke:#000000;stroke-width:2.0px;stroke-linecap:butt;stroke-linejoin:miter;stroke-opacity:1\"/>\n",
       "<path class=\"bond-10 atom-4 atom-11\" d=\"M 99.8,208.8 L 77.2,169.8\" style=\"fill:none;fill-rule:evenodd;stroke:#000000;stroke-width:2.0px;stroke-linecap:butt;stroke-linejoin:miter;stroke-opacity:1\"/>\n",
       "<path class=\"bond-11 atom-4 atom-12\" d=\"M 99.8,208.8 L 49.5,208.9\" style=\"fill:none;fill-rule:evenodd;stroke:#000000;stroke-width:2.0px;stroke-linecap:butt;stroke-linejoin:miter;stroke-opacity:1\"/>\n",
       "<path class=\"bond-12 atom-4 atom-13\" d=\"M 99.8,208.8 L 99.9,256.2\" style=\"fill:none;fill-rule:evenodd;stroke:#000000;stroke-width:2.0px;stroke-linecap:butt;stroke-linejoin:miter;stroke-opacity:1\"/>\n",
       "<path class=\"atom-1\" d=\"M 141.8 114.5 Q 141.8 108.1, 145.0 104.5 Q 148.1 100.9, 154.0 100.9 Q 160.0 100.9, 163.1 104.5 Q 166.3 108.1, 166.3 114.5 Q 166.3 121.0, 163.1 124.7 Q 159.9 128.3, 154.0 128.3 Q 148.2 128.3, 145.0 124.7 Q 141.8 121.0, 141.8 114.5 M 154.0 125.3 Q 158.1 125.3, 160.3 122.6 Q 162.5 119.8, 162.5 114.5 Q 162.5 109.2, 160.3 106.6 Q 158.1 103.9, 154.0 103.9 Q 150.0 103.9, 147.7 106.6 Q 145.6 109.2, 145.6 114.5 Q 145.6 119.9, 147.7 122.6 Q 150.0 125.3, 154.0 125.3 \" fill=\"#FF0000\"/>\n",
       "<path class=\"atom-2\" d=\"M 146.6 186.4 Q 146.9 186.5, 148.2 187.1 Q 149.4 187.6, 150.8 187.9 Q 152.2 188.2, 153.5 188.2 Q 156.1 188.2, 157.5 187.0 Q 159.0 185.8, 159.0 183.6 Q 159.0 182.2, 158.3 181.3 Q 157.5 180.3, 156.4 179.9 Q 155.3 179.4, 153.4 178.8 Q 151.0 178.1, 149.6 177.4 Q 148.2 176.7, 147.2 175.3 Q 146.2 173.9, 146.2 171.4 Q 146.2 168.1, 148.4 166.0 Q 150.7 163.9, 155.3 163.9 Q 158.4 163.9, 161.9 165.4 L 161.0 168.3 Q 157.8 167.0, 155.4 167.0 Q 152.8 167.0, 151.4 168.1 Q 149.9 169.1, 150.0 171.0 Q 150.0 172.4, 150.7 173.3 Q 151.4 174.2, 152.5 174.7 Q 153.6 175.1, 155.4 175.7 Q 157.8 176.5, 159.2 177.2 Q 160.7 178.0, 161.7 179.5 Q 162.7 181.0, 162.7 183.6 Q 162.7 187.3, 160.3 189.3 Q 157.8 191.3, 153.7 191.3 Q 151.3 191.3, 149.5 190.8 Q 147.7 190.3, 145.6 189.4 L 146.6 186.4 \" fill=\"#CCCC00\"/>\n",
       "<path class=\"atom-2\" d=\"M 166.3 168.4 L 171.0 168.4 L 171.0 163.4 L 173.0 163.4 L 173.0 168.4 L 177.9 168.4 L 177.9 170.2 L 173.0 170.2 L 173.0 175.1 L 171.0 175.1 L 171.0 170.2 L 166.3 170.2 L 166.3 168.4 \" fill=\"#CCCC00\"/>\n",
       "<path class=\"atom-5\" d=\"M 166.4 15.1 L 170.1 15.1 L 170.1 26.5 L 183.7 26.5 L 183.7 15.1 L 187.3 15.1 L 187.3 41.8 L 183.7 41.8 L 183.7 29.5 L 170.1 29.5 L 170.1 41.8 L 166.4 41.8 L 166.4 15.1 \" fill=\"#000000\"/>\n",
       "<path class=\"atom-6\" d=\"M 229.3 15.0 L 232.9 15.0 L 232.9 26.4 L 246.6 26.4 L 246.6 15.0 L 250.2 15.0 L 250.2 41.7 L 246.6 41.7 L 246.6 29.4 L 232.9 29.4 L 232.9 41.7 L 229.3 41.7 L 229.3 15.0 \" fill=\"#000000\"/>\n",
       "<path class=\"atom-7\" d=\"M 252.5 100.8 L 256.1 100.8 L 256.1 112.2 L 269.8 112.2 L 269.8 100.8 L 273.4 100.8 L 273.4 127.5 L 269.8 127.5 L 269.8 115.2 L 256.1 115.2 L 256.1 127.5 L 252.5 127.5 L 252.5 100.8 \" fill=\"#000000\"/>\n",
       "<path class=\"atom-8\" d=\"M 166.9 249.7 L 170.5 249.7 L 170.5 261.1 L 184.2 261.1 L 184.2 249.7 L 187.8 249.7 L 187.8 276.4 L 184.2 276.4 L 184.2 264.1 L 170.5 264.1 L 170.5 276.4 L 166.9 276.4 L 166.9 249.7 \" fill=\"#000000\"/>\n",
       "<path class=\"atom-9\" d=\"M 229.8 249.6 L 233.4 249.6 L 233.4 260.9 L 247.0 260.9 L 247.0 249.6 L 250.7 249.6 L 250.7 276.3 L 247.0 276.3 L 247.0 264.0 L 233.4 264.0 L 233.4 276.3 L 229.8 276.3 L 229.8 249.6 \" fill=\"#000000\"/>\n",
       "<path class=\"atom-10\" d=\"M 252.6 163.7 L 256.2 163.7 L 256.2 175.0 L 269.9 175.0 L 269.9 163.7 L 273.5 163.7 L 273.5 190.4 L 269.9 190.4 L 269.9 178.0 L 256.2 178.0 L 256.2 190.4 L 252.6 190.4 L 252.6 163.7 \" fill=\"#000000\"/>\n",
       "<path class=\"atom-11\" d=\"M 57.8 141.1 L 61.4 141.1 L 61.4 152.4 L 75.1 152.4 L 75.1 141.1 L 78.7 141.1 L 78.7 167.8 L 75.1 167.8 L 75.1 155.4 L 61.4 155.4 L 61.4 167.8 L 57.8 167.8 L 57.8 141.1 \" fill=\"#000000\"/>\n",
       "<path class=\"atom-12\" d=\"M 26.5 195.6 L 30.1 195.6 L 30.1 206.9 L 43.8 206.9 L 43.8 195.6 L 47.4 195.6 L 47.4 222.3 L 43.8 222.3 L 43.8 209.9 L 30.1 209.9 L 30.1 222.3 L 26.5 222.3 L 26.5 195.6 \" fill=\"#000000\"/>\n",
       "<path class=\"atom-13\" d=\"M 89.5 258.3 L 93.1 258.3 L 93.1 269.6 L 106.8 269.6 L 106.8 258.3 L 110.4 258.3 L 110.4 285.0 L 106.8 285.0 L 106.8 272.7 L 93.1 272.7 L 93.1 285.0 L 89.5 285.0 L 89.5 258.3 \" fill=\"#000000\"/>\n",
       "</svg>"
      ],
      "text/plain": [
       "<IPython.core.display.SVG object>"
      ]
     },
     "metadata": {},
     "output_type": "display_data"
    },
    {
     "name": "stderr",
     "output_type": "stream",
     "text": [
      "labeling molecules:  32%|███████████████████▌                                          | 6/19 [00:00<00:00, 50.78it/s]"
     ]
    },
    {
     "name": "stdout",
     "output_type": "stream",
     "text": [
      "t133g\n"
     ]
    },
    {
     "data": {
      "image/svg+xml": [
       "<svg xmlns=\"http://www.w3.org/2000/svg\" xmlns:rdkit=\"http://www.rdkit.org/xml\" xmlns:xlink=\"http://www.w3.org/1999/xlink\" version=\"1.1\" baseProfile=\"full\" xml:space=\"preserve\" width=\"600px\" height=\"300px\" viewBox=\"0 0 600 300\">\n",
       "<!-- END OF HEADER -->\n",
       "<rect style=\"opacity:1.0;fill:#FFFFFF;stroke:none\" width=\"600.0\" height=\"300.0\" x=\"0.0\" y=\"0.0\"> </rect>\n",
       "<path class=\"bond-0 atom-0 atom-1\" d=\"M 185.4,130.1 L 224.5,176.9 L 213.1,186.3 L 182.3,149.4 Z\" style=\"fill:#FF7F7F;fill-rule:evenodd;fill-opacity:1;stroke:#FF7F7F;stroke-width:0.0px;stroke-linecap:butt;stroke-linejoin:miter;stroke-opacity:1;\"/>\n",
       "<path class=\"bond-3 atom-1 atom-4\" d=\"M 185.4,130.1 L 182.3,149.4 L 116.6,190.9 L 119.3,171.7 Z\" style=\"fill:#FF7F7F;fill-rule:evenodd;fill-opacity:1;stroke:#FF7F7F;stroke-width:0.0px;stroke-linecap:butt;stroke-linejoin:miter;stroke-opacity:1;\"/>\n",
       "<path class=\"bond-4 atom-4 atom-5\" d=\"M 88.8,137.5 L 119.3,171.7 L 116.6,190.9 L 77.8,147.4 Z\" style=\"fill:#FF7F7F;fill-rule:evenodd;fill-opacity:1;stroke:#FF7F7F;stroke-width:0.0px;stroke-linecap:butt;stroke-linejoin:miter;stroke-opacity:1;\"/>\n",
       "<ellipse cx=\"218.8\" cy=\"181.6\" rx=\"13.8\" ry=\"13.8\" class=\"atom-0\" style=\"fill:#FF7F7F;fill-rule:evenodd;stroke:#FF7F7F;stroke-width:1.0px;stroke-linecap:butt;stroke-linejoin:miter;stroke-opacity:1\"/>\n",
       "<ellipse cx=\"190.0\" cy=\"139.7\" rx=\"19.1\" ry=\"13.9\" class=\"atom-1\" style=\"fill:#FF7F7F;fill-rule:evenodd;stroke:#FF7F7F;stroke-width:1.0px;stroke-linecap:butt;stroke-linejoin:miter;stroke-opacity:1\"/>\n",
       "<ellipse cx=\"124.1\" cy=\"181.2\" rx=\"19.1\" ry=\"13.9\" class=\"atom-4\" style=\"fill:#FF7F7F;fill-rule:evenodd;stroke:#FF7F7F;stroke-width:1.0px;stroke-linecap:butt;stroke-linejoin:miter;stroke-opacity:1\"/>\n",
       "<ellipse cx=\"83.3\" cy=\"142.5\" rx=\"13.8\" ry=\"13.8\" class=\"atom-5\" style=\"fill:#FF7F7F;fill-rule:evenodd;stroke:#FF7F7F;stroke-width:1.0px;stroke-linecap:butt;stroke-linejoin:miter;stroke-opacity:1\"/>\n",
       "<path class=\"bond-0 atom-0 atom-1\" d=\"M 218.8,181.6 L 205.8,166.1\" style=\"fill:none;fill-rule:evenodd;stroke:#000000;stroke-width:2.0px;stroke-linecap:butt;stroke-linejoin:miter;stroke-opacity:1\"/>\n",
       "<path class=\"bond-0 atom-0 atom-1\" d=\"M 205.8,166.1 L 192.9,150.5\" style=\"fill:none;fill-rule:evenodd;stroke:#0000FF;stroke-width:2.0px;stroke-linecap:butt;stroke-linejoin:miter;stroke-opacity:1\"/>\n",
       "<path class=\"bond-1 atom-1 atom-2\" d=\"M 203.8,128.3 L 218.7,119.7\" style=\"fill:none;fill-rule:evenodd;stroke:#0000FF;stroke-width:2.0px;stroke-linecap:butt;stroke-linejoin:miter;stroke-opacity:1\"/>\n",
       "<path class=\"bond-1 atom-1 atom-2\" d=\"M 218.7,119.7 L 233.5,111.2\" style=\"fill:none;fill-rule:evenodd;stroke:#000000;stroke-width:2.0px;stroke-linecap:butt;stroke-linejoin:miter;stroke-opacity:1\"/>\n",
       "<path class=\"bond-2 atom-1 atom-3\" d=\"M 178.8,128.4 L 168.8,106.0\" style=\"fill:none;fill-rule:evenodd;stroke:#0000FF;stroke-width:2.0px;stroke-linecap:butt;stroke-linejoin:miter;stroke-opacity:1\"/>\n",
       "<path class=\"bond-2 atom-1 atom-3\" d=\"M 168.8,106.0 L 158.7,83.6\" style=\"fill:none;fill-rule:evenodd;stroke:#000000;stroke-width:2.0px;stroke-linecap:butt;stroke-linejoin:miter;stroke-opacity:1\"/>\n",
       "<path class=\"bond-3 atom-1 atom-4\" d=\"M 174.8,145.4 L 136.2,169.8\" style=\"fill:none;fill-rule:evenodd;stroke:#0000FF;stroke-width:2.0px;stroke-linecap:butt;stroke-linejoin:miter;stroke-opacity:1\"/>\n",
       "<path class=\"bond-4 atom-4 atom-5\" d=\"M 109.0,171.2 L 96.1,156.8\" style=\"fill:none;fill-rule:evenodd;stroke:#0000FF;stroke-width:2.0px;stroke-linecap:butt;stroke-linejoin:miter;stroke-opacity:1\"/>\n",
       "<path class=\"bond-4 atom-4 atom-5\" d=\"M 96.1,156.8 L 83.3,142.5\" style=\"fill:none;fill-rule:evenodd;stroke:#000000;stroke-width:2.0px;stroke-linecap:butt;stroke-linejoin:miter;stroke-opacity:1\"/>\n",
       "<path class=\"bond-5 atom-4 atom-6\" d=\"M 109.0,187.3 L 87.2,201.9\" style=\"fill:none;fill-rule:evenodd;stroke:#0000FF;stroke-width:2.0px;stroke-linecap:butt;stroke-linejoin:miter;stroke-opacity:1\"/>\n",
       "<path class=\"bond-5 atom-4 atom-6\" d=\"M 87.2,201.9 L 65.5,216.5\" style=\"fill:none;fill-rule:evenodd;stroke:#000000;stroke-width:2.0px;stroke-linecap:butt;stroke-linejoin:miter;stroke-opacity:1\"/>\n",
       "<path class=\"bond-6 atom-4 atom-7\" d=\"M 124.3,192.7 L 132.8,207.8\" style=\"fill:none;fill-rule:evenodd;stroke:#0000FF;stroke-width:2.0px;stroke-linecap:butt;stroke-linejoin:miter;stroke-opacity:1\"/>\n",
       "<path class=\"bond-6 atom-4 atom-7\" d=\"M 132.8,207.8 L 141.3,222.9\" style=\"fill:none;fill-rule:evenodd;stroke:#000000;stroke-width:2.0px;stroke-linecap:butt;stroke-linejoin:miter;stroke-opacity:1\"/>\n",
       "<path class=\"bond-7 atom-0 atom-8\" d=\"M 218.8,181.6 L 242.0,163.6\" style=\"fill:none;fill-rule:evenodd;stroke:#000000;stroke-width:2.0px;stroke-linecap:butt;stroke-linejoin:miter;stroke-opacity:1\"/>\n",
       "<path class=\"bond-8 atom-0 atom-9\" d=\"M 218.8,181.6 L 253.6,192.3\" style=\"fill:none;fill-rule:evenodd;stroke:#000000;stroke-width:2.0px;stroke-linecap:butt;stroke-linejoin:miter;stroke-opacity:1\"/>\n",
       "<path class=\"bond-9 atom-0 atom-10\" d=\"M 218.8,181.6 L 211.8,211.0\" style=\"fill:none;fill-rule:evenodd;stroke:#000000;stroke-width:2.0px;stroke-linecap:butt;stroke-linejoin:miter;stroke-opacity:1\"/>\n",
       "<path class=\"bond-10 atom-2 atom-11\" d=\"M 233.5,111.2 L 225.0,98.3\" style=\"fill:none;fill-rule:evenodd;stroke:#000000;stroke-width:2.0px;stroke-linecap:butt;stroke-linejoin:miter;stroke-opacity:1\"/>\n",
       "<path class=\"bond-11 atom-2 atom-12\" d=\"M 233.5,111.2 L 247.0,79.2\" style=\"fill:none;fill-rule:evenodd;stroke:#000000;stroke-width:2.0px;stroke-linecap:butt;stroke-linejoin:miter;stroke-opacity:1\"/>\n",
       "<path class=\"bond-12 atom-2 atom-13\" d=\"M 233.5,111.2 L 268.1,123.4\" style=\"fill:none;fill-rule:evenodd;stroke:#000000;stroke-width:2.0px;stroke-linecap:butt;stroke-linejoin:miter;stroke-opacity:1\"/>\n",
       "<path class=\"bond-13 atom-3 atom-14\" d=\"M 158.7,83.6 L 190.1,61.3\" style=\"fill:none;fill-rule:evenodd;stroke:#000000;stroke-width:2.0px;stroke-linecap:butt;stroke-linejoin:miter;stroke-opacity:1\"/>\n",
       "<path class=\"bond-14 atom-3 atom-15\" d=\"M 158.7,83.6 L 159.2,48.8\" style=\"fill:none;fill-rule:evenodd;stroke:#000000;stroke-width:2.0px;stroke-linecap:butt;stroke-linejoin:miter;stroke-opacity:1\"/>\n",
       "<path class=\"bond-15 atom-3 atom-16\" d=\"M 158.7,83.6 L 130.1,80.5\" style=\"fill:none;fill-rule:evenodd;stroke:#000000;stroke-width:2.0px;stroke-linecap:butt;stroke-linejoin:miter;stroke-opacity:1\"/>\n",
       "<path class=\"bond-16 atom-5 atom-17\" d=\"M 83.3,142.5 L 59.3,162.5\" style=\"fill:none;fill-rule:evenodd;stroke:#000000;stroke-width:2.0px;stroke-linecap:butt;stroke-linejoin:miter;stroke-opacity:1\"/>\n",
       "<path class=\"bond-17 atom-5 atom-18\" d=\"M 83.3,142.5 L 48.4,131.5\" style=\"fill:none;fill-rule:evenodd;stroke:#000000;stroke-width:2.0px;stroke-linecap:butt;stroke-linejoin:miter;stroke-opacity:1\"/>\n",
       "<path class=\"bond-18 atom-5 atom-19\" d=\"M 83.3,142.5 L 90.4,115.5\" style=\"fill:none;fill-rule:evenodd;stroke:#000000;stroke-width:2.0px;stroke-linecap:butt;stroke-linejoin:miter;stroke-opacity:1\"/>\n",
       "<path class=\"bond-19 atom-6 atom-20\" d=\"M 65.5,216.5 L 78.6,243.0\" style=\"fill:none;fill-rule:evenodd;stroke:#000000;stroke-width:2.0px;stroke-linecap:butt;stroke-linejoin:miter;stroke-opacity:1\"/>\n",
       "<path class=\"bond-20 atom-6 atom-21\" d=\"M 65.5,216.5 L 49.6,245.9\" style=\"fill:none;fill-rule:evenodd;stroke:#000000;stroke-width:2.0px;stroke-linecap:butt;stroke-linejoin:miter;stroke-opacity:1\"/>\n",
       "<path class=\"bond-21 atom-6 atom-22\" d=\"M 65.5,216.5 L 31.9,202.6\" style=\"fill:none;fill-rule:evenodd;stroke:#000000;stroke-width:2.0px;stroke-linecap:butt;stroke-linejoin:miter;stroke-opacity:1\"/>\n",
       "<path class=\"bond-22 atom-7 atom-23\" d=\"M 141.3,222.9 L 167.2,205.8\" style=\"fill:none;fill-rule:evenodd;stroke:#000000;stroke-width:2.0px;stroke-linecap:butt;stroke-linejoin:miter;stroke-opacity:1\"/>\n",
       "<path class=\"bond-23 atom-7 atom-24\" d=\"M 141.3,222.9 L 170.6,239.7\" style=\"fill:none;fill-rule:evenodd;stroke:#000000;stroke-width:2.0px;stroke-linecap:butt;stroke-linejoin:miter;stroke-opacity:1\"/>\n",
       "<path class=\"bond-24 atom-7 atom-25\" d=\"M 141.3,222.9 L 126.3,251.2\" style=\"fill:none;fill-rule:evenodd;stroke:#000000;stroke-width:2.0px;stroke-linecap:butt;stroke-linejoin:miter;stroke-opacity:1\"/>\n",
       "<path class=\"atom-1\" d=\"M 179.5 130.0 L 185.9 140.3 Q 186.6 141.4, 187.6 143.2 Q 188.6 145.1, 188.7 145.2 L 188.7 130.0 L 191.3 130.0 L 191.3 149.5 L 188.6 149.5 L 181.7 138.2 Q 180.9 136.9, 180.0 135.4 Q 179.2 133.8, 179.0 133.4 L 179.0 149.5 L 176.4 149.5 L 176.4 130.0 L 179.5 130.0 \" fill=\"#0000FF\"/>\n",
       "<path class=\"atom-1\" d=\"M 195.0 133.5 L 198.4 133.5 L 198.4 129.9 L 200.0 129.9 L 200.0 133.5 L 203.5 133.5 L 203.5 134.8 L 200.0 134.8 L 200.0 138.5 L 198.4 138.5 L 198.4 134.8 L 195.0 134.8 L 195.0 133.5 \" fill=\"#0000FF\"/>\n",
       "<path class=\"atom-4\" d=\"M 113.7 171.5 L 120.1 181.9 Q 120.7 182.9, 121.7 184.7 Q 122.8 186.6, 122.8 186.7 L 122.8 171.5 L 125.4 171.5 L 125.4 191.1 L 122.7 191.1 L 115.8 179.7 Q 115.0 178.4, 114.2 176.9 Q 113.3 175.4, 113.1 174.9 L 113.1 191.1 L 110.6 191.1 L 110.6 171.5 L 113.7 171.5 \" fill=\"#0000FF\"/>\n",
       "<path class=\"atom-4\" d=\"M 129.1 175.0 L 132.5 175.0 L 132.5 171.4 L 134.1 171.4 L 134.1 175.0 L 137.6 175.0 L 137.6 176.3 L 134.1 176.3 L 134.1 180.0 L 132.5 180.0 L 132.5 176.3 L 129.1 176.3 L 129.1 175.0 \" fill=\"#0000FF\"/>\n",
       "<path class=\"atom-8\" d=\"M 243.6 146.6 L 246.2 146.6 L 246.2 154.9 L 256.3 154.9 L 256.3 146.6 L 258.9 146.6 L 258.9 166.2 L 256.3 166.2 L 256.3 157.1 L 246.2 157.1 L 246.2 166.2 L 243.6 166.2 L 243.6 146.6 \" fill=\"#000000\"/>\n",
       "<path class=\"atom-9\" d=\"M 255.2 185.4 L 257.9 185.4 L 257.9 193.7 L 267.9 193.7 L 267.9 185.4 L 270.5 185.4 L 270.5 205.0 L 267.9 205.0 L 267.9 195.9 L 257.9 195.9 L 257.9 205.0 L 255.2 205.0 L 255.2 185.4 \" fill=\"#000000\"/>\n",
       "<path class=\"atom-10\" d=\"M 201.4 212.6 L 204.0 212.6 L 204.0 220.9 L 214.1 220.9 L 214.1 212.6 L 216.7 212.6 L 216.7 232.2 L 214.1 232.2 L 214.1 223.1 L 204.0 223.1 L 204.0 232.2 L 201.4 232.2 L 201.4 212.6 \" fill=\"#000000\"/>\n",
       "<path class=\"atom-11\" d=\"M 209.8 77.2 L 212.5 77.2 L 212.5 85.5 L 222.5 85.5 L 222.5 77.2 L 225.1 77.2 L 225.1 96.8 L 222.5 96.8 L 222.5 87.7 L 212.5 87.7 L 212.5 96.8 L 209.8 96.8 L 209.8 77.2 \" fill=\"#000000\"/>\n",
       "<path class=\"atom-12\" d=\"M 244.1 58.1 L 246.7 58.1 L 246.7 66.4 L 256.8 66.4 L 256.8 58.1 L 259.4 58.1 L 259.4 77.6 L 256.8 77.6 L 256.8 68.6 L 246.7 68.6 L 246.7 77.6 L 244.1 77.6 L 244.1 58.1 \" fill=\"#000000\"/>\n",
       "<path class=\"atom-13\" d=\"M 269.7 116.9 L 272.3 116.9 L 272.3 125.2 L 282.3 125.2 L 282.3 116.9 L 285.0 116.9 L 285.0 136.5 L 282.3 136.5 L 282.3 127.4 L 272.3 127.4 L 272.3 136.5 L 269.7 136.5 L 269.7 116.9 \" fill=\"#000000\"/>\n",
       "<path class=\"atom-14\" d=\"M 191.7 44.9 L 194.4 44.9 L 194.4 53.2 L 204.4 53.2 L 204.4 44.9 L 207.0 44.9 L 207.0 64.5 L 204.4 64.5 L 204.4 55.5 L 194.4 55.5 L 194.4 64.5 L 191.7 64.5 L 191.7 44.9 \" fill=\"#000000\"/>\n",
       "<path class=\"atom-15\" d=\"M 151.6 27.6 L 154.3 27.6 L 154.3 36.0 L 164.3 36.0 L 164.3 27.6 L 167.0 27.6 L 167.0 47.2 L 164.3 47.2 L 164.3 38.2 L 154.3 38.2 L 154.3 47.2 L 151.6 47.2 L 151.6 27.6 \" fill=\"#000000\"/>\n",
       "<path class=\"atom-16\" d=\"M 113.2 69.7 L 115.8 69.7 L 115.8 78.1 L 125.8 78.1 L 125.8 69.7 L 128.5 69.7 L 128.5 89.3 L 125.8 89.3 L 125.8 80.3 L 115.8 80.3 L 115.8 89.3 L 113.2 89.3 L 113.2 69.7 \" fill=\"#000000\"/>\n",
       "<path class=\"atom-17\" d=\"M 42.4 160.4 L 45.1 160.4 L 45.1 168.7 L 55.1 168.7 L 55.1 160.4 L 57.8 160.4 L 57.8 180.0 L 55.1 180.0 L 55.1 171.0 L 45.1 171.0 L 45.1 180.0 L 42.4 180.0 L 42.4 160.4 \" fill=\"#000000\"/>\n",
       "<path class=\"atom-18\" d=\"M 31.5 118.8 L 34.1 118.8 L 34.1 127.1 L 44.1 127.1 L 44.1 118.8 L 46.8 118.8 L 46.8 138.3 L 44.1 138.3 L 44.1 129.3 L 34.1 129.3 L 34.1 138.3 L 31.5 138.3 L 31.5 118.8 \" fill=\"#000000\"/>\n",
       "<path class=\"atom-19\" d=\"M 85.7 94.3 L 88.4 94.3 L 88.4 102.7 L 98.4 102.7 L 98.4 94.3 L 101.1 94.3 L 101.1 113.9 L 98.4 113.9 L 98.4 104.9 L 88.4 104.9 L 88.4 113.9 L 85.7 113.9 L 85.7 94.3 \" fill=\"#000000\"/>\n",
       "<path class=\"atom-20\" d=\"M 76.6 244.5 L 79.2 244.5 L 79.2 252.9 L 89.2 252.9 L 89.2 244.5 L 91.9 244.5 L 91.9 264.1 L 89.2 264.1 L 89.2 255.1 L 79.2 255.1 L 79.2 264.1 L 76.6 264.1 L 76.6 244.5 \" fill=\"#000000\"/>\n",
       "<path class=\"atom-21\" d=\"M 35.8 247.5 L 38.4 247.5 L 38.4 255.8 L 48.5 255.8 L 48.5 247.5 L 51.1 247.5 L 51.1 267.1 L 48.5 267.1 L 48.5 258.0 L 38.4 258.0 L 38.4 267.1 L 35.8 267.1 L 35.8 247.5 \" fill=\"#000000\"/>\n",
       "<path class=\"atom-22\" d=\"M 15.0 189.0 L 17.7 189.0 L 17.7 197.3 L 27.7 197.3 L 27.7 189.0 L 30.3 189.0 L 30.3 208.6 L 27.7 208.6 L 27.7 199.5 L 17.7 199.5 L 17.7 208.6 L 15.0 208.6 L 15.0 189.0 \" fill=\"#000000\"/>\n",
       "<path class=\"atom-23\" d=\"M 168.8 190.0 L 171.5 190.0 L 171.5 198.3 L 181.5 198.3 L 181.5 190.0 L 184.1 190.0 L 184.1 209.5 L 181.5 209.5 L 181.5 200.5 L 171.5 200.5 L 171.5 209.5 L 168.8 209.5 L 168.8 190.0 \" fill=\"#000000\"/>\n",
       "<path class=\"atom-24\" d=\"M 172.2 235.1 L 174.8 235.1 L 174.8 243.5 L 184.8 243.5 L 184.8 235.1 L 187.5 235.1 L 187.5 254.7 L 184.8 254.7 L 184.8 245.7 L 174.8 245.7 L 174.8 254.7 L 172.2 254.7 L 172.2 235.1 \" fill=\"#000000\"/>\n",
       "<path class=\"atom-25\" d=\"M 112.6 252.8 L 115.2 252.8 L 115.2 261.1 L 125.3 261.1 L 125.3 252.8 L 127.9 252.8 L 127.9 272.4 L 125.3 272.4 L 125.3 263.3 L 115.2 263.3 L 115.2 272.4 L 112.6 272.4 L 112.6 252.8 \" fill=\"#000000\"/>\n",
       "</svg>"
      ],
      "text/plain": [
       "<IPython.core.display.SVG object>"
      ]
     },
     "metadata": {},
     "output_type": "display_data"
    },
    {
     "name": "stdout",
     "output_type": "stream",
     "text": [
      "t150\n"
     ]
    },
    {
     "data": {
      "image/svg+xml": [
       "<svg xmlns=\"http://www.w3.org/2000/svg\" xmlns:rdkit=\"http://www.rdkit.org/xml\" xmlns:xlink=\"http://www.w3.org/1999/xlink\" version=\"1.1\" baseProfile=\"full\" xml:space=\"preserve\" width=\"600px\" height=\"300px\" viewBox=\"0 0 600 300\">\n",
       "<!-- END OF HEADER -->\n",
       "<rect style=\"opacity:1.0;fill:#FFFFFF;stroke:none\" width=\"600.0\" height=\"300.0\" x=\"0.0\" y=\"0.0\"> </rect>\n",
       "<path class=\"bond-1 atom-1 atom-2\" d=\"M 143.1,174.7 L 152.0,187.5 L 109.8,210.7 L 102.3,197.1 Z\" style=\"fill:#FF7F7F;fill-rule:evenodd;fill-opacity:1;stroke:#FF7F7F;stroke-width:0.0px;stroke-linecap:butt;stroke-linejoin:miter;stroke-opacity:1;\"/>\n",
       "<path class=\"bond-3 atom-2 atom-4\" d=\"M 184.8,150.7 L 200.4,159.7 L 152.1,187.4 L 143.1,174.7 Z\" style=\"fill:#FF7F7F;fill-rule:evenodd;fill-opacity:1;stroke:#FF7F7F;stroke-width:0.0px;stroke-linecap:butt;stroke-linejoin:miter;stroke-opacity:1;\"/>\n",
       "<path class=\"bond-4 atom-4 atom-5\" d=\"M 200.2,106.7 L 200.4,159.7 L 184.8,150.7 L 184.7,106.8 Z\" style=\"fill:#FF7F7F;fill-rule:evenodd;fill-opacity:1;stroke:#FF7F7F;stroke-width:0.0px;stroke-linecap:butt;stroke-linejoin:miter;stroke-opacity:1;\"/>\n",
       "<ellipse cx=\"106.0\" cy=\"203.9\" rx=\"14.6\" ry=\"14.6\" class=\"atom-1\" style=\"fill:#FF7F7F;fill-rule:evenodd;stroke:#FF7F7F;stroke-width:1.0px;stroke-linecap:butt;stroke-linejoin:miter;stroke-opacity:1\"/>\n",
       "<ellipse cx=\"147.6\" cy=\"181.4\" rx=\"14.6\" ry=\"14.9\" class=\"atom-2\" style=\"fill:#FF7F7F;fill-rule:evenodd;stroke:#FF7F7F;stroke-width:1.0px;stroke-linecap:butt;stroke-linejoin:miter;stroke-opacity:1\"/>\n",
       "<ellipse cx=\"192.6\" cy=\"155.2\" rx=\"14.6\" ry=\"14.6\" class=\"atom-4\" style=\"fill:#FF7F7F;fill-rule:evenodd;stroke:#FF7F7F;stroke-width:1.0px;stroke-linecap:butt;stroke-linejoin:miter;stroke-opacity:1\"/>\n",
       "<ellipse cx=\"192.5\" cy=\"106.8\" rx=\"14.6\" ry=\"14.6\" class=\"atom-5\" style=\"fill:#FF7F7F;fill-rule:evenodd;stroke:#FF7F7F;stroke-width:1.0px;stroke-linecap:butt;stroke-linejoin:miter;stroke-opacity:1\"/>\n",
       "<path class=\"bond-0 atom-0 atom-1\" d=\"M 65.2,179.3 L 106.0,203.9\" style=\"fill:none;fill-rule:evenodd;stroke:#000000;stroke-width:2.0px;stroke-linecap:butt;stroke-linejoin:miter;stroke-opacity:1\"/>\n",
       "<path class=\"bond-0 atom-0 atom-1\" d=\"M 72.5,175.3 L 106.2,195.5\" style=\"fill:none;fill-rule:evenodd;stroke:#000000;stroke-width:2.0px;stroke-linecap:butt;stroke-linejoin:miter;stroke-opacity:1\"/>\n",
       "<path class=\"bond-1 atom-1 atom-2\" d=\"M 106.0,203.9 L 122.7,194.7\" style=\"fill:none;fill-rule:evenodd;stroke:#000000;stroke-width:2.0px;stroke-linecap:butt;stroke-linejoin:miter;stroke-opacity:1\"/>\n",
       "<path class=\"bond-1 atom-1 atom-2\" d=\"M 122.7,194.7 L 139.3,185.6\" style=\"fill:none;fill-rule:evenodd;stroke:#CCCC00;stroke-width:2.0px;stroke-linecap:butt;stroke-linejoin:miter;stroke-opacity:1\"/>\n",
       "<path class=\"bond-2 atom-2 atom-3\" d=\"M 153.5,193.5 L 161.1,209.6\" style=\"fill:none;fill-rule:evenodd;stroke:#CCCC00;stroke-width:2.0px;stroke-linecap:butt;stroke-linejoin:miter;stroke-opacity:1\"/>\n",
       "<path class=\"bond-2 atom-2 atom-3\" d=\"M 161.1,209.6 L 168.7,225.7\" style=\"fill:none;fill-rule:evenodd;stroke:#000000;stroke-width:2.0px;stroke-linecap:butt;stroke-linejoin:miter;stroke-opacity:1\"/>\n",
       "<path class=\"bond-3 atom-2 atom-4\" d=\"M 155.8,176.4 L 169.5,168.5\" style=\"fill:none;fill-rule:evenodd;stroke:#CCCC00;stroke-width:2.0px;stroke-linecap:butt;stroke-linejoin:miter;stroke-opacity:1\"/>\n",
       "<path class=\"bond-3 atom-2 atom-4\" d=\"M 169.5,168.5 L 183.2,160.6\" style=\"fill:none;fill-rule:evenodd;stroke:#0000FF;stroke-width:2.0px;stroke-linecap:butt;stroke-linejoin:miter;stroke-opacity:1\"/>\n",
       "<path class=\"bond-4 atom-4 atom-5\" d=\"M 192.6,143.3 L 192.5,125.0\" style=\"fill:none;fill-rule:evenodd;stroke:#0000FF;stroke-width:2.0px;stroke-linecap:butt;stroke-linejoin:miter;stroke-opacity:1\"/>\n",
       "<path class=\"bond-4 atom-4 atom-5\" d=\"M 192.5,125.0 L 192.5,106.8\" style=\"fill:none;fill-rule:evenodd;stroke:#000000;stroke-width:2.0px;stroke-linecap:butt;stroke-linejoin:miter;stroke-opacity:1\"/>\n",
       "<path class=\"bond-5 atom-5 atom-6\" d=\"M 192.5,106.8 L 234.8,82.4\" style=\"fill:none;fill-rule:evenodd;stroke:#000000;stroke-width:2.0px;stroke-linecap:butt;stroke-linejoin:miter;stroke-opacity:1\"/>\n",
       "<path class=\"bond-5 atom-5 atom-6\" d=\"M 199.7,110.9 L 234.8,90.8\" style=\"fill:none;fill-rule:evenodd;stroke:#000000;stroke-width:2.0px;stroke-linecap:butt;stroke-linejoin:miter;stroke-opacity:1\"/>\n",
       "<path class=\"bond-6 atom-0 atom-7\" d=\"M 65.2,179.3 L 65.9,142.7\" style=\"fill:none;fill-rule:evenodd;stroke:#000000;stroke-width:2.0px;stroke-linecap:butt;stroke-linejoin:miter;stroke-opacity:1\"/>\n",
       "<path class=\"bond-7 atom-0 atom-8\" d=\"M 65.2,179.3 L 32.7,197.5\" style=\"fill:none;fill-rule:evenodd;stroke:#000000;stroke-width:2.0px;stroke-linecap:butt;stroke-linejoin:miter;stroke-opacity:1\"/>\n",
       "<path class=\"bond-8 atom-1 atom-9\" d=\"M 106.0,203.9 L 105.6,240.5\" style=\"fill:none;fill-rule:evenodd;stroke:#000000;stroke-width:2.0px;stroke-linecap:butt;stroke-linejoin:miter;stroke-opacity:1\"/>\n",
       "<path class=\"bond-9 atom-2 atom-10\" d=\"M 140.9,169.2 L 135.6,159.9\" style=\"fill:none;fill-rule:evenodd;stroke:#CCCC00;stroke-width:2.0px;stroke-linecap:butt;stroke-linejoin:miter;stroke-opacity:1\"/>\n",
       "<path class=\"bond-9 atom-2 atom-10\" d=\"M 135.6,159.9 L 130.4,150.7\" style=\"fill:none;fill-rule:evenodd;stroke:#000000;stroke-width:2.0px;stroke-linecap:butt;stroke-linejoin:miter;stroke-opacity:1\"/>\n",
       "<path class=\"bond-10 atom-3 atom-11\" d=\"M 168.7,225.7 L 198.2,212.1\" style=\"fill:none;fill-rule:evenodd;stroke:#000000;stroke-width:2.0px;stroke-linecap:butt;stroke-linejoin:miter;stroke-opacity:1\"/>\n",
       "<path class=\"bond-11 atom-3 atom-12\" d=\"M 168.7,225.7 L 199.7,245.8\" style=\"fill:none;fill-rule:evenodd;stroke:#000000;stroke-width:2.0px;stroke-linecap:butt;stroke-linejoin:miter;stroke-opacity:1\"/>\n",
       "<path class=\"bond-12 atom-3 atom-13\" d=\"M 168.7,225.7 L 150.1,254.2\" style=\"fill:none;fill-rule:evenodd;stroke:#000000;stroke-width:2.0px;stroke-linecap:butt;stroke-linejoin:miter;stroke-opacity:1\"/>\n",
       "<path class=\"bond-13 atom-4 atom-14\" d=\"M 202.0,160.3 L 213.8,166.7\" style=\"fill:none;fill-rule:evenodd;stroke:#0000FF;stroke-width:2.0px;stroke-linecap:butt;stroke-linejoin:miter;stroke-opacity:1\"/>\n",
       "<path class=\"bond-13 atom-4 atom-14\" d=\"M 213.8,166.7 L 225.7,173.1\" style=\"fill:none;fill-rule:evenodd;stroke:#000000;stroke-width:2.0px;stroke-linecap:butt;stroke-linejoin:miter;stroke-opacity:1\"/>\n",
       "<path class=\"bond-14 atom-5 atom-15\" d=\"M 192.5,106.8 L 160.2,88.1\" style=\"fill:none;fill-rule:evenodd;stroke:#000000;stroke-width:2.0px;stroke-linecap:butt;stroke-linejoin:miter;stroke-opacity:1\"/>\n",
       "<path class=\"bond-15 atom-6 atom-16\" d=\"M 234.8,82.4 L 267.3,101.2\" style=\"fill:none;fill-rule:evenodd;stroke:#000000;stroke-width:2.0px;stroke-linecap:butt;stroke-linejoin:miter;stroke-opacity:1\"/>\n",
       "<path class=\"bond-16 atom-6 atom-17\" d=\"M 234.8,82.4 L 234.9,45.8\" style=\"fill:none;fill-rule:evenodd;stroke:#000000;stroke-width:2.0px;stroke-linecap:butt;stroke-linejoin:miter;stroke-opacity:1\"/>\n",
       "<path class=\"atom-2\" d=\"M 141.7 188.2 Q 142.0 188.2, 142.9 188.7 Q 143.9 189.1, 144.9 189.3 Q 146.0 189.6, 147.1 189.6 Q 149.0 189.6, 150.2 188.6 Q 151.3 187.7, 151.3 186.0 Q 151.3 184.9, 150.7 184.2 Q 150.2 183.5, 149.3 183.1 Q 148.4 182.7, 146.9 182.3 Q 145.1 181.7, 144.0 181.2 Q 142.9 180.7, 142.1 179.6 Q 141.4 178.5, 141.4 176.6 Q 141.4 174.0, 143.1 172.4 Q 144.9 170.8, 148.4 170.8 Q 150.8 170.8, 153.5 171.9 L 152.8 174.2 Q 150.4 173.2, 148.5 173.2 Q 146.5 173.2, 145.4 174.0 Q 144.3 174.8, 144.3 176.2 Q 144.3 177.3, 144.8 178.0 Q 145.4 178.7, 146.2 179.1 Q 147.1 179.4, 148.5 179.9 Q 150.4 180.5, 151.5 181.0 Q 152.6 181.6, 153.4 182.8 Q 154.2 184.0, 154.2 186.0 Q 154.2 188.9, 152.2 190.4 Q 150.4 191.9, 147.2 191.9 Q 145.3 191.9, 143.9 191.5 Q 142.6 191.1, 140.9 190.5 L 141.7 188.2 \" fill=\"#CCCC00\"/>\n",
       "<path class=\"atom-4\" d=\"M 188.0 144.9 L 194.8 155.8 Q 195.5 156.9, 196.5 158.8 Q 197.6 160.8, 197.7 160.9 L 197.7 144.9 L 200.4 144.9 L 200.4 165.5 L 197.6 165.5 L 190.3 153.5 Q 189.5 152.1, 188.6 150.5 Q 187.7 148.9, 187.4 148.4 L 187.4 165.5 L 184.8 165.5 L 184.8 144.9 L 188.0 144.9 \" fill=\"#0000FF\"/>\n",
       "<path class=\"atom-7\" d=\"M 58.1 120.5 L 60.9 120.5 L 60.9 129.3 L 71.4 129.3 L 71.4 120.5 L 74.2 120.5 L 74.2 141.1 L 71.4 141.1 L 71.4 131.6 L 60.9 131.6 L 60.9 141.1 L 58.1 141.1 L 58.1 120.5 \" fill=\"#000000\"/>\n",
       "<path class=\"atom-8\" d=\"M 15.0 192.6 L 17.8 192.6 L 17.8 201.4 L 28.3 201.4 L 28.3 192.6 L 31.1 192.6 L 31.1 213.2 L 28.3 213.2 L 28.3 203.7 L 17.8 203.7 L 17.8 213.2 L 15.0 213.2 L 15.0 192.6 \" fill=\"#000000\"/>\n",
       "<path class=\"atom-9\" d=\"M 97.3 242.1 L 100.1 242.1 L 100.1 250.8 L 110.7 250.8 L 110.7 242.1 L 113.5 242.1 L 113.5 262.7 L 110.7 262.7 L 110.7 253.2 L 100.1 253.2 L 100.1 262.7 L 97.3 262.7 L 97.3 242.1 \" fill=\"#000000\"/>\n",
       "<path class=\"atom-10\" d=\"M 115.6 128.5 L 118.4 128.5 L 118.4 137.2 L 129.0 137.2 L 129.0 128.5 L 131.8 128.5 L 131.8 149.1 L 129.0 149.1 L 129.0 139.6 L 118.4 139.6 L 118.4 149.1 L 115.6 149.1 L 115.6 128.5 \" fill=\"#000000\"/>\n",
       "<path class=\"atom-11\" d=\"M 199.8 197.3 L 202.6 197.3 L 202.6 206.1 L 213.1 206.1 L 213.1 197.3 L 215.9 197.3 L 215.9 217.9 L 213.1 217.9 L 213.1 208.4 L 202.6 208.4 L 202.6 217.9 L 199.8 217.9 L 199.8 197.3 \" fill=\"#000000\"/>\n",
       "<path class=\"atom-12\" d=\"M 201.3 241.7 L 204.1 241.7 L 204.1 250.5 L 214.7 250.5 L 214.7 241.7 L 217.5 241.7 L 217.5 262.4 L 214.7 262.4 L 214.7 252.8 L 204.1 252.8 L 204.1 262.4 L 201.3 262.4 L 201.3 241.7 \" fill=\"#000000\"/>\n",
       "<path class=\"atom-13\" d=\"M 134.2 255.8 L 137.0 255.8 L 137.0 264.6 L 147.5 264.6 L 147.5 255.8 L 150.3 255.8 L 150.3 276.5 L 147.5 276.5 L 147.5 266.9 L 137.0 266.9 L 137.0 276.5 L 134.2 276.5 L 134.2 255.8 \" fill=\"#000000\"/>\n",
       "<path class=\"atom-14\" d=\"M 227.3 168.0 L 230.1 168.0 L 230.1 176.7 L 240.6 176.7 L 240.6 168.0 L 243.4 168.0 L 243.4 188.6 L 240.6 188.6 L 240.6 179.1 L 230.1 179.1 L 230.1 188.6 L 227.3 188.6 L 227.3 168.0 \" fill=\"#000000\"/>\n",
       "<path class=\"atom-15\" d=\"M 142.4 72.2 L 145.2 72.2 L 145.2 81.0 L 155.8 81.0 L 155.8 72.2 L 158.6 72.2 L 158.6 92.8 L 155.8 92.8 L 155.8 83.3 L 145.2 83.3 L 145.2 92.8 L 142.4 92.8 L 142.4 72.2 \" fill=\"#000000\"/>\n",
       "<path class=\"atom-16\" d=\"M 268.9 96.4 L 271.7 96.4 L 271.7 105.2 L 282.2 105.2 L 282.2 96.4 L 285.0 96.4 L 285.0 117.0 L 282.2 117.0 L 282.2 107.5 L 271.7 107.5 L 271.7 117.0 L 268.9 117.0 L 268.9 96.4 \" fill=\"#000000\"/>\n",
       "<path class=\"atom-17\" d=\"M 226.8 23.5 L 229.6 23.5 L 229.6 32.3 L 240.2 32.3 L 240.2 23.5 L 242.9 23.5 L 242.9 44.2 L 240.2 44.2 L 240.2 34.6 L 229.6 34.6 L 229.6 44.2 L 226.8 44.2 L 226.8 23.5 \" fill=\"#000000\"/>\n",
       "</svg>"
      ],
      "text/plain": [
       "<IPython.core.display.SVG object>"
      ]
     },
     "metadata": {},
     "output_type": "display_data"
    },
    {
     "name": "stdout",
     "output_type": "stream",
     "text": [
      "t59g\n"
     ]
    },
    {
     "data": {
      "image/svg+xml": [
       "<svg xmlns=\"http://www.w3.org/2000/svg\" xmlns:rdkit=\"http://www.rdkit.org/xml\" xmlns:xlink=\"http://www.w3.org/1999/xlink\" version=\"1.1\" baseProfile=\"full\" xml:space=\"preserve\" width=\"600px\" height=\"300px\" viewBox=\"0 0 600 300\">\n",
       "<!-- END OF HEADER -->\n",
       "<rect style=\"opacity:1.0;fill:#FFFFFF;stroke:none\" width=\"600.0\" height=\"300.0\" x=\"0.0\" y=\"0.0\"> </rect>\n",
       "<path class=\"bond-0 atom-0 atom-1\" d=\"M 170.1,134.9 L 193.0,139.1 L 136.2,179.8 L 115.3,174.2 Z\" style=\"fill:#FF7F7F;fill-rule:evenodd;fill-opacity:1;stroke:#FF7F7F;stroke-width:0.0px;stroke-linecap:butt;stroke-linejoin:miter;stroke-opacity:1;\"/>\n",
       "<path class=\"bond-7 atom-0 atom-7\" d=\"M 115.3,174.2 L 136.2,179.8 L 153.6,218.8 L 138.3,225.7 Z\" style=\"fill:#FF7F7F;fill-rule:evenodd;fill-opacity:1;stroke:#FF7F7F;stroke-width:0.0px;stroke-linecap:butt;stroke-linejoin:miter;stroke-opacity:1;\"/>\n",
       "<path class=\"bond-1 atom-1 atom-2\" d=\"M 160.2,89.9 L 193.0,139.1 L 170.1,134.9 L 146.2,99.2 Z\" style=\"fill:#FF7F7F;fill-rule:evenodd;fill-opacity:1;stroke:#FF7F7F;stroke-width:0.0px;stroke-linecap:butt;stroke-linejoin:miter;stroke-opacity:1;\"/>\n",
       "<ellipse cx=\"125.7\" cy=\"177.0\" rx=\"15.7\" ry=\"15.7\" class=\"atom-0\" style=\"fill:#FF7F7F;fill-rule:evenodd;stroke:#FF7F7F;stroke-width:1.0px;stroke-linecap:butt;stroke-linejoin:miter;stroke-opacity:1\"/>\n",
       "<ellipse cx=\"188.5\" cy=\"136.9\" rx=\"21.8\" ry=\"15.8\" class=\"atom-1\" style=\"fill:#FF7F7F;fill-rule:evenodd;stroke:#FF7F7F;stroke-width:1.0px;stroke-linecap:butt;stroke-linejoin:miter;stroke-opacity:1\"/>\n",
       "<ellipse cx=\"153.2\" cy=\"94.6\" rx=\"15.7\" ry=\"15.8\" class=\"atom-2\" style=\"fill:#FF7F7F;fill-rule:evenodd;stroke:#FF7F7F;stroke-width:1.0px;stroke-linecap:butt;stroke-linejoin:miter;stroke-opacity:1\"/>\n",
       "<ellipse cx=\"146.0\" cy=\"222.2\" rx=\"15.7\" ry=\"15.8\" class=\"atom-7\" style=\"fill:#FF7F7F;fill-rule:evenodd;stroke:#FF7F7F;stroke-width:1.0px;stroke-linecap:butt;stroke-linejoin:miter;stroke-opacity:1\"/>\n",
       "<path class=\"bond-0 atom-0 atom-1\" d=\"M 125.7,177.0 L 148.5,160.7\" style=\"fill:none;fill-rule:evenodd;stroke:#000000;stroke-width:2.0px;stroke-linecap:butt;stroke-linejoin:miter;stroke-opacity:1\"/>\n",
       "<path class=\"bond-0 atom-0 atom-1\" d=\"M 148.5,160.7 L 171.3,144.3\" style=\"fill:none;fill-rule:evenodd;stroke:#0000FF;stroke-width:2.0px;stroke-linecap:butt;stroke-linejoin:miter;stroke-opacity:1\"/>\n",
       "<path class=\"bond-1 atom-1 atom-2\" d=\"M 172.9,124.1 L 167.4,115.8\" style=\"fill:none;fill-rule:evenodd;stroke:#0000FF;stroke-width:2.0px;stroke-linecap:butt;stroke-linejoin:miter;stroke-opacity:1\"/>\n",
       "<path class=\"bond-1 atom-1 atom-2\" d=\"M 167.4,115.8 L 161.8,107.5\" style=\"fill:none;fill-rule:evenodd;stroke:#000000;stroke-width:2.0px;stroke-linecap:butt;stroke-linejoin:miter;stroke-opacity:1\"/>\n",
       "<path class=\"bond-2 atom-1 atom-3\" d=\"M 198.9,124.0 L 213.1,113.2\" style=\"fill:none;fill-rule:evenodd;stroke:#0000FF;stroke-width:2.0px;stroke-linecap:butt;stroke-linejoin:miter;stroke-opacity:1\"/>\n",
       "<path class=\"bond-2 atom-1 atom-3\" d=\"M 213.1,113.2 L 227.4,102.5\" style=\"fill:none;fill-rule:evenodd;stroke:#000000;stroke-width:2.0px;stroke-linecap:butt;stroke-linejoin:miter;stroke-opacity:1\"/>\n",
       "<path class=\"bond-3 atom-1 atom-4\" d=\"M 191.8,147.8 L 205.7,162.6\" style=\"fill:none;fill-rule:evenodd;stroke:#0000FF;stroke-width:2.0px;stroke-linecap:butt;stroke-linejoin:miter;stroke-opacity:1\"/>\n",
       "<path class=\"bond-3 atom-1 atom-4\" d=\"M 205.7,162.6 L 219.6,177.4\" style=\"fill:none;fill-rule:evenodd;stroke:#000000;stroke-width:2.0px;stroke-linecap:butt;stroke-linejoin:miter;stroke-opacity:1\"/>\n",
       "<path class=\"bond-4 atom-0 atom-5\" d=\"M 125.7,177.0 L 86.2,142.6\" style=\"fill:none;fill-rule:evenodd;stroke:#000000;stroke-width:2.0px;stroke-linecap:butt;stroke-linejoin:miter;stroke-opacity:1\"/>\n",
       "<path class=\"bond-5 atom-5 atom-6\" d=\"M 86.2,142.6 L 76.3,194.1\" style=\"fill:none;fill-rule:evenodd;stroke:#000000;stroke-width:2.0px;stroke-linecap:butt;stroke-linejoin:miter;stroke-opacity:1\"/>\n",
       "<path class=\"bond-6 atom-6 atom-0\" d=\"M 76.3,194.1 L 125.7,177.0\" style=\"fill:none;fill-rule:evenodd;stroke:#000000;stroke-width:2.0px;stroke-linecap:butt;stroke-linejoin:miter;stroke-opacity:1\"/>\n",
       "<path class=\"bond-7 atom-0 atom-7\" d=\"M 125.7,177.0 L 140.2,209.3\" style=\"fill:none;fill-rule:evenodd;stroke:#000000;stroke-width:2.0px;stroke-linecap:butt;stroke-linejoin:miter;stroke-opacity:1\"/>\n",
       "<path class=\"bond-8 atom-3 atom-8\" d=\"M 227.4,102.5 L 206.5,72.4\" style=\"fill:none;fill-rule:evenodd;stroke:#000000;stroke-width:2.0px;stroke-linecap:butt;stroke-linejoin:miter;stroke-opacity:1\"/>\n",
       "<path class=\"bond-9 atom-3 atom-9\" d=\"M 227.4,102.5 L 243.9,66.9\" style=\"fill:none;fill-rule:evenodd;stroke:#000000;stroke-width:2.0px;stroke-linecap:butt;stroke-linejoin:miter;stroke-opacity:1\"/>\n",
       "<path class=\"bond-10 atom-3 atom-10\" d=\"M 227.4,102.5 L 265.8,118.9\" style=\"fill:none;fill-rule:evenodd;stroke:#000000;stroke-width:2.0px;stroke-linecap:butt;stroke-linejoin:miter;stroke-opacity:1\"/>\n",
       "<path class=\"bond-11 atom-4 atom-11\" d=\"M 219.6,177.4 L 196.7,200.1\" style=\"fill:none;fill-rule:evenodd;stroke:#000000;stroke-width:2.0px;stroke-linecap:butt;stroke-linejoin:miter;stroke-opacity:1\"/>\n",
       "<path class=\"bond-12 atom-4 atom-12\" d=\"M 219.6,177.4 L 228.6,214.7\" style=\"fill:none;fill-rule:evenodd;stroke:#000000;stroke-width:2.0px;stroke-linecap:butt;stroke-linejoin:miter;stroke-opacity:1\"/>\n",
       "<path class=\"bond-13 atom-4 atom-13\" d=\"M 219.6,177.4 L 260.2,167.5\" style=\"fill:none;fill-rule:evenodd;stroke:#000000;stroke-width:2.0px;stroke-linecap:butt;stroke-linejoin:miter;stroke-opacity:1\"/>\n",
       "<path class=\"bond-14 atom-5 atom-14\" d=\"M 86.2,142.6 L 47.6,128.1\" style=\"fill:none;fill-rule:evenodd;stroke:#000000;stroke-width:2.0px;stroke-linecap:butt;stroke-linejoin:miter;stroke-opacity:1\"/>\n",
       "<path class=\"bond-15 atom-5 atom-15\" d=\"M 86.2,142.6 L 104.1,111.2\" style=\"fill:none;fill-rule:evenodd;stroke:#000000;stroke-width:2.0px;stroke-linecap:butt;stroke-linejoin:miter;stroke-opacity:1\"/>\n",
       "<path class=\"bond-16 atom-6 atom-16\" d=\"M 76.3,194.1 L 82.1,233.1\" style=\"fill:none;fill-rule:evenodd;stroke:#000000;stroke-width:2.0px;stroke-linecap:butt;stroke-linejoin:miter;stroke-opacity:1\"/>\n",
       "<path class=\"bond-17 atom-6 atom-17\" d=\"M 76.3,194.1 L 34.2,193.1\" style=\"fill:none;fill-rule:evenodd;stroke:#000000;stroke-width:2.0px;stroke-linecap:butt;stroke-linejoin:miter;stroke-opacity:1\"/>\n",
       "<path class=\"atom-1\" d=\"M 176.6 125.8 L 183.9 137.6 Q 184.6 138.8, 185.8 140.9 Q 187.0 143.0, 187.0 143.2 L 187.0 125.8 L 190.0 125.8 L 190.0 148.1 L 186.9 148.1 L 179.1 135.2 Q 178.2 133.7, 177.2 132.0 Q 176.3 130.3, 176.0 129.7 L 176.0 148.1 L 173.1 148.1 L 173.1 125.8 L 176.6 125.8 \" fill=\"#0000FF\"/>\n",
       "<path class=\"atom-1\" d=\"M 194.2 129.9 L 198.1 129.9 L 198.1 125.7 L 199.9 125.7 L 199.9 129.9 L 203.9 129.9 L 203.9 131.4 L 199.9 131.4 L 199.9 135.5 L 198.1 135.5 L 198.1 131.4 L 194.2 131.4 L 194.2 129.9 \" fill=\"#0000FF\"/>\n",
       "<path class=\"atom-2\" d=\"M 144.5 83.4 L 147.5 83.4 L 147.5 92.9 L 158.9 92.9 L 158.9 83.4 L 161.9 83.4 L 161.9 105.7 L 158.9 105.7 L 158.9 95.4 L 147.5 95.4 L 147.5 105.7 L 144.5 105.7 L 144.5 83.4 \" fill=\"#000000\"/>\n",
       "<path class=\"atom-7\" d=\"M 137.2 211.1 L 140.3 211.1 L 140.3 220.6 L 151.6 220.6 L 151.6 211.1 L 154.7 211.1 L 154.7 233.4 L 151.6 233.4 L 151.6 223.1 L 140.3 223.1 L 140.3 233.4 L 137.2 233.4 L 137.2 211.1 \" fill=\"#000000\"/>\n",
       "<path class=\"atom-8\" d=\"M 188.8 48.3 L 191.8 48.3 L 191.8 57.8 L 203.2 57.8 L 203.2 48.3 L 206.3 48.3 L 206.3 70.6 L 203.2 70.6 L 203.2 60.3 L 191.8 60.3 L 191.8 70.6 L 188.8 70.6 L 188.8 48.3 \" fill=\"#000000\"/>\n",
       "<path class=\"atom-9\" d=\"M 241.2 42.9 L 244.2 42.9 L 244.2 52.3 L 255.6 52.3 L 255.6 42.9 L 258.6 42.9 L 258.6 65.1 L 255.6 65.1 L 255.6 54.9 L 244.2 54.9 L 244.2 65.1 L 241.2 65.1 L 241.2 42.9 \" fill=\"#000000\"/>\n",
       "<path class=\"atom-10\" d=\"M 267.6 112.2 L 270.6 112.2 L 270.6 121.7 L 282.0 121.7 L 282.0 112.2 L 285.0 112.2 L 285.0 134.5 L 282.0 134.5 L 282.0 124.2 L 270.6 124.2 L 270.6 134.5 L 267.6 134.5 L 267.6 112.2 \" fill=\"#000000\"/>\n",
       "<path class=\"atom-11\" d=\"M 177.5 199.3 L 180.5 199.3 L 180.5 208.8 L 191.9 208.8 L 191.9 199.3 L 195.0 199.3 L 195.0 221.6 L 191.9 221.6 L 191.9 211.3 L 180.5 211.3 L 180.5 221.6 L 177.5 221.6 L 177.5 199.3 \" fill=\"#000000\"/>\n",
       "<path class=\"atom-12\" d=\"M 223.0 216.4 L 226.0 216.4 L 226.0 225.9 L 237.4 225.9 L 237.4 216.4 L 240.4 216.4 L 240.4 238.7 L 237.4 238.7 L 237.4 228.4 L 226.0 228.4 L 226.0 238.7 L 223.0 238.7 L 223.0 216.4 \" fill=\"#000000\"/>\n",
       "<path class=\"atom-13\" d=\"M 262.0 153.8 L 265.0 153.8 L 265.0 163.3 L 276.4 163.3 L 276.4 153.8 L 279.4 153.8 L 279.4 176.1 L 276.4 176.1 L 276.4 165.8 L 265.0 165.8 L 265.0 176.1 L 262.0 176.1 L 262.0 153.8 \" fill=\"#000000\"/>\n",
       "<path class=\"atom-14\" d=\"M 28.4 113.1 L 31.5 113.1 L 31.5 122.5 L 42.9 122.5 L 42.9 113.1 L 45.9 113.1 L 45.9 135.3 L 42.9 135.3 L 42.9 125.0 L 31.5 125.0 L 31.5 135.3 L 28.4 135.3 L 28.4 113.1 \" fill=\"#000000\"/>\n",
       "<path class=\"atom-15\" d=\"M 102.7 87.2 L 105.7 87.2 L 105.7 96.6 L 117.1 96.6 L 117.1 87.2 L 120.1 87.2 L 120.1 109.4 L 117.1 109.4 L 117.1 99.1 L 105.7 99.1 L 105.7 109.4 L 102.7 109.4 L 102.7 87.2 \" fill=\"#000000\"/>\n",
       "<path class=\"atom-16\" d=\"M 75.4 234.9 L 78.4 234.9 L 78.4 244.3 L 89.8 244.3 L 89.8 234.9 L 92.8 234.9 L 92.8 257.1 L 89.8 257.1 L 89.8 246.8 L 78.4 246.8 L 78.4 257.1 L 75.4 257.1 L 75.4 234.9 \" fill=\"#000000\"/>\n",
       "<path class=\"atom-17\" d=\"M 15.0 181.7 L 18.0 181.7 L 18.0 191.2 L 29.4 191.2 L 29.4 181.7 L 32.4 181.7 L 32.4 204.0 L 29.4 204.0 L 29.4 193.7 L 18.0 193.7 L 18.0 204.0 L 15.0 204.0 L 15.0 181.7 \" fill=\"#000000\"/>\n",
       "</svg>"
      ],
      "text/plain": [
       "<IPython.core.display.SVG object>"
      ]
     },
     "metadata": {},
     "output_type": "display_data"
    },
    {
     "name": "stdout",
     "output_type": "stream",
     "text": [
      "t60g\n"
     ]
    },
    {
     "data": {
      "image/svg+xml": [
       "<svg xmlns=\"http://www.w3.org/2000/svg\" xmlns:rdkit=\"http://www.rdkit.org/xml\" xmlns:xlink=\"http://www.w3.org/1999/xlink\" version=\"1.1\" baseProfile=\"full\" xml:space=\"preserve\" width=\"600px\" height=\"300px\" viewBox=\"0 0 600 300\">\n",
       "<!-- END OF HEADER -->\n",
       "<rect style=\"opacity:1.0;fill:#FFFFFF;stroke:none\" width=\"600.0\" height=\"300.0\" x=\"0.0\" y=\"0.0\"> </rect>\n",
       "<path class=\"bond-0 atom-0 atom-1\" d=\"M 170.1,134.9 L 193.0,139.1 L 125.2,187.7 L 126.2,166.3 Z\" style=\"fill:#FF7F7F;fill-rule:evenodd;fill-opacity:1;stroke:#FF7F7F;stroke-width:0.0px;stroke-linecap:butt;stroke-linejoin:miter;stroke-opacity:1;\"/>\n",
       "<path class=\"bond-4 atom-0 atom-5\" d=\"M 91.7,136.2 L 126.2,166.3 L 125.2,187.7 L 80.6,148.9 Z\" style=\"fill:#FF7F7F;fill-rule:evenodd;fill-opacity:1;stroke:#FF7F7F;stroke-width:0.0px;stroke-linecap:butt;stroke-linejoin:miter;stroke-opacity:1;\"/>\n",
       "<path class=\"bond-1 atom-1 atom-2\" d=\"M 160.2,89.9 L 193.0,139.1 L 170.1,134.9 L 146.2,99.2 Z\" style=\"fill:#FF7F7F;fill-rule:evenodd;fill-opacity:1;stroke:#FF7F7F;stroke-width:0.0px;stroke-linecap:butt;stroke-linejoin:miter;stroke-opacity:1;\"/>\n",
       "<ellipse cx=\"125.7\" cy=\"177.0\" rx=\"15.7\" ry=\"15.7\" class=\"atom-0\" style=\"fill:#FF7F7F;fill-rule:evenodd;stroke:#FF7F7F;stroke-width:1.0px;stroke-linecap:butt;stroke-linejoin:miter;stroke-opacity:1\"/>\n",
       "<ellipse cx=\"188.5\" cy=\"136.9\" rx=\"21.8\" ry=\"15.8\" class=\"atom-1\" style=\"fill:#FF7F7F;fill-rule:evenodd;stroke:#FF7F7F;stroke-width:1.0px;stroke-linecap:butt;stroke-linejoin:miter;stroke-opacity:1\"/>\n",
       "<ellipse cx=\"153.2\" cy=\"94.6\" rx=\"15.7\" ry=\"15.8\" class=\"atom-2\" style=\"fill:#FF7F7F;fill-rule:evenodd;stroke:#FF7F7F;stroke-width:1.0px;stroke-linecap:butt;stroke-linejoin:miter;stroke-opacity:1\"/>\n",
       "<ellipse cx=\"86.2\" cy=\"142.6\" rx=\"15.7\" ry=\"15.7\" class=\"atom-5\" style=\"fill:#FF7F7F;fill-rule:evenodd;stroke:#FF7F7F;stroke-width:1.0px;stroke-linecap:butt;stroke-linejoin:miter;stroke-opacity:1\"/>\n",
       "<path class=\"bond-0 atom-0 atom-1\" d=\"M 125.7,177.0 L 148.5,160.7\" style=\"fill:none;fill-rule:evenodd;stroke:#000000;stroke-width:2.0px;stroke-linecap:butt;stroke-linejoin:miter;stroke-opacity:1\"/>\n",
       "<path class=\"bond-0 atom-0 atom-1\" d=\"M 148.5,160.7 L 171.3,144.3\" style=\"fill:none;fill-rule:evenodd;stroke:#0000FF;stroke-width:2.0px;stroke-linecap:butt;stroke-linejoin:miter;stroke-opacity:1\"/>\n",
       "<path class=\"bond-1 atom-1 atom-2\" d=\"M 172.9,124.1 L 167.4,115.8\" style=\"fill:none;fill-rule:evenodd;stroke:#0000FF;stroke-width:2.0px;stroke-linecap:butt;stroke-linejoin:miter;stroke-opacity:1\"/>\n",
       "<path class=\"bond-1 atom-1 atom-2\" d=\"M 167.4,115.8 L 161.8,107.5\" style=\"fill:none;fill-rule:evenodd;stroke:#000000;stroke-width:2.0px;stroke-linecap:butt;stroke-linejoin:miter;stroke-opacity:1\"/>\n",
       "<path class=\"bond-2 atom-1 atom-3\" d=\"M 198.9,124.0 L 213.1,113.2\" style=\"fill:none;fill-rule:evenodd;stroke:#0000FF;stroke-width:2.0px;stroke-linecap:butt;stroke-linejoin:miter;stroke-opacity:1\"/>\n",
       "<path class=\"bond-2 atom-1 atom-3\" d=\"M 213.1,113.2 L 227.4,102.5\" style=\"fill:none;fill-rule:evenodd;stroke:#000000;stroke-width:2.0px;stroke-linecap:butt;stroke-linejoin:miter;stroke-opacity:1\"/>\n",
       "<path class=\"bond-3 atom-1 atom-4\" d=\"M 191.8,147.8 L 205.7,162.6\" style=\"fill:none;fill-rule:evenodd;stroke:#0000FF;stroke-width:2.0px;stroke-linecap:butt;stroke-linejoin:miter;stroke-opacity:1\"/>\n",
       "<path class=\"bond-3 atom-1 atom-4\" d=\"M 205.7,162.6 L 219.6,177.4\" style=\"fill:none;fill-rule:evenodd;stroke:#000000;stroke-width:2.0px;stroke-linecap:butt;stroke-linejoin:miter;stroke-opacity:1\"/>\n",
       "<path class=\"bond-4 atom-0 atom-5\" d=\"M 125.7,177.0 L 86.2,142.6\" style=\"fill:none;fill-rule:evenodd;stroke:#000000;stroke-width:2.0px;stroke-linecap:butt;stroke-linejoin:miter;stroke-opacity:1\"/>\n",
       "<path class=\"bond-5 atom-5 atom-6\" d=\"M 86.2,142.6 L 76.3,194.1\" style=\"fill:none;fill-rule:evenodd;stroke:#000000;stroke-width:2.0px;stroke-linecap:butt;stroke-linejoin:miter;stroke-opacity:1\"/>\n",
       "<path class=\"bond-6 atom-6 atom-0\" d=\"M 76.3,194.1 L 125.7,177.0\" style=\"fill:none;fill-rule:evenodd;stroke:#000000;stroke-width:2.0px;stroke-linecap:butt;stroke-linejoin:miter;stroke-opacity:1\"/>\n",
       "<path class=\"bond-7 atom-0 atom-7\" d=\"M 125.7,177.0 L 140.2,209.3\" style=\"fill:none;fill-rule:evenodd;stroke:#000000;stroke-width:2.0px;stroke-linecap:butt;stroke-linejoin:miter;stroke-opacity:1\"/>\n",
       "<path class=\"bond-8 atom-3 atom-8\" d=\"M 227.4,102.5 L 206.5,72.4\" style=\"fill:none;fill-rule:evenodd;stroke:#000000;stroke-width:2.0px;stroke-linecap:butt;stroke-linejoin:miter;stroke-opacity:1\"/>\n",
       "<path class=\"bond-9 atom-3 atom-9\" d=\"M 227.4,102.5 L 243.9,66.9\" style=\"fill:none;fill-rule:evenodd;stroke:#000000;stroke-width:2.0px;stroke-linecap:butt;stroke-linejoin:miter;stroke-opacity:1\"/>\n",
       "<path class=\"bond-10 atom-3 atom-10\" d=\"M 227.4,102.5 L 265.8,118.9\" style=\"fill:none;fill-rule:evenodd;stroke:#000000;stroke-width:2.0px;stroke-linecap:butt;stroke-linejoin:miter;stroke-opacity:1\"/>\n",
       "<path class=\"bond-11 atom-4 atom-11\" d=\"M 219.6,177.4 L 196.7,200.1\" style=\"fill:none;fill-rule:evenodd;stroke:#000000;stroke-width:2.0px;stroke-linecap:butt;stroke-linejoin:miter;stroke-opacity:1\"/>\n",
       "<path class=\"bond-12 atom-4 atom-12\" d=\"M 219.6,177.4 L 228.6,214.7\" style=\"fill:none;fill-rule:evenodd;stroke:#000000;stroke-width:2.0px;stroke-linecap:butt;stroke-linejoin:miter;stroke-opacity:1\"/>\n",
       "<path class=\"bond-13 atom-4 atom-13\" d=\"M 219.6,177.4 L 260.2,167.5\" style=\"fill:none;fill-rule:evenodd;stroke:#000000;stroke-width:2.0px;stroke-linecap:butt;stroke-linejoin:miter;stroke-opacity:1\"/>\n",
       "<path class=\"bond-14 atom-5 atom-14\" d=\"M 86.2,142.6 L 47.6,128.1\" style=\"fill:none;fill-rule:evenodd;stroke:#000000;stroke-width:2.0px;stroke-linecap:butt;stroke-linejoin:miter;stroke-opacity:1\"/>\n",
       "<path class=\"bond-15 atom-5 atom-15\" d=\"M 86.2,142.6 L 104.1,111.2\" style=\"fill:none;fill-rule:evenodd;stroke:#000000;stroke-width:2.0px;stroke-linecap:butt;stroke-linejoin:miter;stroke-opacity:1\"/>\n",
       "<path class=\"bond-16 atom-6 atom-16\" d=\"M 76.3,194.1 L 82.1,233.1\" style=\"fill:none;fill-rule:evenodd;stroke:#000000;stroke-width:2.0px;stroke-linecap:butt;stroke-linejoin:miter;stroke-opacity:1\"/>\n",
       "<path class=\"bond-17 atom-6 atom-17\" d=\"M 76.3,194.1 L 34.2,193.1\" style=\"fill:none;fill-rule:evenodd;stroke:#000000;stroke-width:2.0px;stroke-linecap:butt;stroke-linejoin:miter;stroke-opacity:1\"/>\n",
       "<path class=\"atom-1\" d=\"M 176.6 125.8 L 183.9 137.6 Q 184.6 138.8, 185.8 140.9 Q 187.0 143.0, 187.0 143.2 L 187.0 125.8 L 190.0 125.8 L 190.0 148.1 L 186.9 148.1 L 179.1 135.2 Q 178.2 133.7, 177.2 132.0 Q 176.3 130.3, 176.0 129.7 L 176.0 148.1 L 173.1 148.1 L 173.1 125.8 L 176.6 125.8 \" fill=\"#0000FF\"/>\n",
       "<path class=\"atom-1\" d=\"M 194.2 129.9 L 198.1 129.9 L 198.1 125.7 L 199.9 125.7 L 199.9 129.9 L 203.9 129.9 L 203.9 131.4 L 199.9 131.4 L 199.9 135.5 L 198.1 135.5 L 198.1 131.4 L 194.2 131.4 L 194.2 129.9 \" fill=\"#0000FF\"/>\n",
       "<path class=\"atom-2\" d=\"M 144.5 83.4 L 147.5 83.4 L 147.5 92.9 L 158.9 92.9 L 158.9 83.4 L 161.9 83.4 L 161.9 105.7 L 158.9 105.7 L 158.9 95.4 L 147.5 95.4 L 147.5 105.7 L 144.5 105.7 L 144.5 83.4 \" fill=\"#000000\"/>\n",
       "<path class=\"atom-7\" d=\"M 137.2 211.1 L 140.3 211.1 L 140.3 220.6 L 151.6 220.6 L 151.6 211.1 L 154.7 211.1 L 154.7 233.4 L 151.6 233.4 L 151.6 223.1 L 140.3 223.1 L 140.3 233.4 L 137.2 233.4 L 137.2 211.1 \" fill=\"#000000\"/>\n",
       "<path class=\"atom-8\" d=\"M 188.8 48.3 L 191.8 48.3 L 191.8 57.8 L 203.2 57.8 L 203.2 48.3 L 206.3 48.3 L 206.3 70.6 L 203.2 70.6 L 203.2 60.3 L 191.8 60.3 L 191.8 70.6 L 188.8 70.6 L 188.8 48.3 \" fill=\"#000000\"/>\n",
       "<path class=\"atom-9\" d=\"M 241.2 42.9 L 244.2 42.9 L 244.2 52.3 L 255.6 52.3 L 255.6 42.9 L 258.6 42.9 L 258.6 65.1 L 255.6 65.1 L 255.6 54.9 L 244.2 54.9 L 244.2 65.1 L 241.2 65.1 L 241.2 42.9 \" fill=\"#000000\"/>\n",
       "<path class=\"atom-10\" d=\"M 267.6 112.2 L 270.6 112.2 L 270.6 121.7 L 282.0 121.7 L 282.0 112.2 L 285.0 112.2 L 285.0 134.5 L 282.0 134.5 L 282.0 124.2 L 270.6 124.2 L 270.6 134.5 L 267.6 134.5 L 267.6 112.2 \" fill=\"#000000\"/>\n",
       "<path class=\"atom-11\" d=\"M 177.5 199.3 L 180.5 199.3 L 180.5 208.8 L 191.9 208.8 L 191.9 199.3 L 195.0 199.3 L 195.0 221.6 L 191.9 221.6 L 191.9 211.3 L 180.5 211.3 L 180.5 221.6 L 177.5 221.6 L 177.5 199.3 \" fill=\"#000000\"/>\n",
       "<path class=\"atom-12\" d=\"M 223.0 216.4 L 226.0 216.4 L 226.0 225.9 L 237.4 225.9 L 237.4 216.4 L 240.4 216.4 L 240.4 238.7 L 237.4 238.7 L 237.4 228.4 L 226.0 228.4 L 226.0 238.7 L 223.0 238.7 L 223.0 216.4 \" fill=\"#000000\"/>\n",
       "<path class=\"atom-13\" d=\"M 262.0 153.8 L 265.0 153.8 L 265.0 163.3 L 276.4 163.3 L 276.4 153.8 L 279.4 153.8 L 279.4 176.1 L 276.4 176.1 L 276.4 165.8 L 265.0 165.8 L 265.0 176.1 L 262.0 176.1 L 262.0 153.8 \" fill=\"#000000\"/>\n",
       "<path class=\"atom-14\" d=\"M 28.4 113.1 L 31.5 113.1 L 31.5 122.5 L 42.9 122.5 L 42.9 113.1 L 45.9 113.1 L 45.9 135.3 L 42.9 135.3 L 42.9 125.0 L 31.5 125.0 L 31.5 135.3 L 28.4 135.3 L 28.4 113.1 \" fill=\"#000000\"/>\n",
       "<path class=\"atom-15\" d=\"M 102.7 87.2 L 105.7 87.2 L 105.7 96.6 L 117.1 96.6 L 117.1 87.2 L 120.1 87.2 L 120.1 109.4 L 117.1 109.4 L 117.1 99.1 L 105.7 99.1 L 105.7 109.4 L 102.7 109.4 L 102.7 87.2 \" fill=\"#000000\"/>\n",
       "<path class=\"atom-16\" d=\"M 75.4 234.9 L 78.4 234.9 L 78.4 244.3 L 89.8 244.3 L 89.8 234.9 L 92.8 234.9 L 92.8 257.1 L 89.8 257.1 L 89.8 246.8 L 78.4 246.8 L 78.4 257.1 L 75.4 257.1 L 75.4 234.9 \" fill=\"#000000\"/>\n",
       "<path class=\"atom-17\" d=\"M 15.0 181.7 L 18.0 181.7 L 18.0 191.2 L 29.4 191.2 L 29.4 181.7 L 32.4 181.7 L 32.4 204.0 L 29.4 204.0 L 29.4 193.7 L 18.0 193.7 L 18.0 204.0 L 15.0 204.0 L 15.0 181.7 \" fill=\"#000000\"/>\n",
       "</svg>"
      ],
      "text/plain": [
       "<IPython.core.display.SVG object>"
      ]
     },
     "metadata": {},
     "output_type": "display_data"
    },
    {
     "name": "stdout",
     "output_type": "stream",
     "text": [
      "t119h\n"
     ]
    },
    {
     "data": {
      "image/svg+xml": [
       "<svg xmlns=\"http://www.w3.org/2000/svg\" xmlns:rdkit=\"http://www.rdkit.org/xml\" xmlns:xlink=\"http://www.w3.org/1999/xlink\" version=\"1.1\" baseProfile=\"full\" xml:space=\"preserve\" width=\"600px\" height=\"300px\" viewBox=\"0 0 600 300\">\n",
       "<!-- END OF HEADER -->\n",
       "<rect style=\"opacity:1.0;fill:#FFFFFF;stroke:none\" width=\"600.0\" height=\"300.0\" x=\"0.0\" y=\"0.0\"> </rect>\n",
       "<path class=\"bond-0 atom-0 atom-1\" d=\"M 123.1,84.5 L 192.8,124.9 L 169.1,138.5 L 111.2,104.9 Z\" style=\"fill:#FF7F7F;fill-rule:evenodd;fill-opacity:1;stroke:#FF7F7F;stroke-width:0.0px;stroke-linecap:butt;stroke-linejoin:miter;stroke-opacity:1;\"/>\n",
       "<path class=\"bond-1 atom-0 atom-2\" d=\"M 192.8,124.9 L 192.6,217.3 L 169.0,193.7 L 169.1,138.5 Z\" style=\"fill:#FF7F7F;fill-rule:evenodd;fill-opacity:1;stroke:#FF7F7F;stroke-width:0.0px;stroke-linecap:butt;stroke-linejoin:miter;stroke-opacity:1;\"/>\n",
       "<path class=\"bond-6 atom-2 atom-7\" d=\"M 107.0,193.5 L 169.0,193.7 L 192.6,217.3 L 107.0,217.1 Z\" style=\"fill:#FF7F7F;fill-rule:evenodd;fill-opacity:1;stroke:#FF7F7F;stroke-width:0.0px;stroke-linecap:butt;stroke-linejoin:miter;stroke-opacity:1;\"/>\n",
       "<ellipse cx=\"181.0\" cy=\"132.1\" rx=\"22.1\" ry=\"22.1\" class=\"atom-0\" style=\"fill:#FF7F7F;fill-rule:evenodd;stroke:#FF7F7F;stroke-width:1.0px;stroke-linecap:butt;stroke-linejoin:miter;stroke-opacity:1\"/>\n",
       "<ellipse cx=\"117.1\" cy=\"94.7\" rx=\"22.1\" ry=\"22.1\" class=\"atom-1\" style=\"fill:#FF7F7F;fill-rule:evenodd;stroke:#FF7F7F;stroke-width:1.0px;stroke-linecap:butt;stroke-linejoin:miter;stroke-opacity:1\"/>\n",
       "<ellipse cx=\"180.8\" cy=\"205.5\" rx=\"22.1\" ry=\"22.1\" class=\"atom-2\" style=\"fill:#FF7F7F;fill-rule:evenodd;stroke:#FF7F7F;stroke-width:1.0px;stroke-linecap:butt;stroke-linejoin:miter;stroke-opacity:1\"/>\n",
       "<ellipse cx=\"107.0\" cy=\"205.3\" rx=\"22.1\" ry=\"22.1\" class=\"atom-7\" style=\"fill:#FF7F7F;fill-rule:evenodd;stroke:#FF7F7F;stroke-width:1.0px;stroke-linecap:butt;stroke-linejoin:miter;stroke-opacity:1\"/>\n",
       "<path class=\"bond-0 atom-0 atom-1\" d=\"M 169.4,125.0 L 143.3,109.8\" style=\"fill:none;fill-rule:evenodd;stroke:#CCCC00;stroke-width:2.0px;stroke-linecap:butt;stroke-linejoin:miter;stroke-opacity:1\"/>\n",
       "<path class=\"bond-0 atom-0 atom-1\" d=\"M 143.3,109.8 L 117.1,94.7\" style=\"fill:none;fill-rule:evenodd;stroke:#000000;stroke-width:2.0px;stroke-linecap:butt;stroke-linejoin:miter;stroke-opacity:1\"/>\n",
       "<path class=\"bond-1 atom-0 atom-2\" d=\"M 180.9,149.0 L 180.9,177.2\" style=\"fill:none;fill-rule:evenodd;stroke:#CCCC00;stroke-width:2.0px;stroke-linecap:butt;stroke-linejoin:miter;stroke-opacity:1\"/>\n",
       "<path class=\"bond-1 atom-0 atom-2\" d=\"M 180.9,177.2 L 180.8,205.5\" style=\"fill:none;fill-rule:evenodd;stroke:#000000;stroke-width:2.0px;stroke-linecap:butt;stroke-linejoin:miter;stroke-opacity:1\"/>\n",
       "<path class=\"bond-2 atom-0 atom-3\" d=\"M 195.2,129.9 L 213.8,119.2\" style=\"fill:none;fill-rule:evenodd;stroke:#CCCC00;stroke-width:2.0px;stroke-linecap:butt;stroke-linejoin:miter;stroke-opacity:1\"/>\n",
       "<path class=\"bond-2 atom-0 atom-3\" d=\"M 213.8,119.2 L 232.3,108.6\" style=\"fill:none;fill-rule:evenodd;stroke:#FF0000;stroke-width:2.0px;stroke-linecap:butt;stroke-linejoin:miter;stroke-opacity:1\"/>\n",
       "<path class=\"bond-2 atom-0 atom-3\" d=\"M 189.7,120.3 L 208.2,109.6\" style=\"fill:none;fill-rule:evenodd;stroke:#CCCC00;stroke-width:2.0px;stroke-linecap:butt;stroke-linejoin:miter;stroke-opacity:1\"/>\n",
       "<path class=\"bond-2 atom-0 atom-3\" d=\"M 208.2,109.6 L 226.8,99.0\" style=\"fill:none;fill-rule:evenodd;stroke:#FF0000;stroke-width:2.0px;stroke-linecap:butt;stroke-linejoin:miter;stroke-opacity:1\"/>\n",
       "<path class=\"bond-3 atom-1 atom-4\" d=\"M 117.1,94.7 L 144.5,47.4\" style=\"fill:none;fill-rule:evenodd;stroke:#000000;stroke-width:2.0px;stroke-linecap:butt;stroke-linejoin:miter;stroke-opacity:1\"/>\n",
       "<path class=\"bond-4 atom-1 atom-5\" d=\"M 117.1,94.7 L 89.9,47.3\" style=\"fill:none;fill-rule:evenodd;stroke:#000000;stroke-width:2.0px;stroke-linecap:butt;stroke-linejoin:miter;stroke-opacity:1\"/>\n",
       "<path class=\"bond-5 atom-1 atom-6\" d=\"M 117.1,94.7 L 66.6,123.7\" style=\"fill:none;fill-rule:evenodd;stroke:#000000;stroke-width:2.0px;stroke-linecap:butt;stroke-linejoin:miter;stroke-opacity:1\"/>\n",
       "<path class=\"bond-6 atom-2 atom-7\" d=\"M 180.8,205.5 L 120.5,205.4\" style=\"fill:none;fill-rule:evenodd;stroke:#000000;stroke-width:2.0px;stroke-linecap:butt;stroke-linejoin:miter;stroke-opacity:1\"/>\n",
       "<path class=\"bond-7 atom-2 atom-8\" d=\"M 180.8,205.5 L 153.4,252.7\" style=\"fill:none;fill-rule:evenodd;stroke:#000000;stroke-width:2.0px;stroke-linecap:butt;stroke-linejoin:miter;stroke-opacity:1\"/>\n",
       "<path class=\"bond-8 atom-2 atom-9\" d=\"M 180.8,205.5 L 231.1,234.7\" style=\"fill:none;fill-rule:evenodd;stroke:#000000;stroke-width:2.0px;stroke-linecap:butt;stroke-linejoin:miter;stroke-opacity:1\"/>\n",
       "<path class=\"atom-0\" d=\"M 173.0 141.4 Q 173.3 141.5, 174.6 142.1 Q 175.9 142.7, 177.4 143.0 Q 178.8 143.3, 180.3 143.3 Q 183.0 143.3, 184.5 142.1 Q 186.1 140.7, 186.1 138.5 Q 186.1 136.9, 185.3 135.9 Q 184.5 135.0, 183.3 134.5 Q 182.1 133.9, 180.1 133.3 Q 177.6 132.6, 176.1 131.9 Q 174.6 131.1, 173.5 129.6 Q 172.5 128.1, 172.5 125.5 Q 172.5 122.0, 174.9 119.8 Q 177.3 117.6, 182.1 117.6 Q 185.4 117.6, 189.1 119.1 L 188.2 122.2 Q 184.8 120.8, 182.2 120.8 Q 179.5 120.8, 178.0 122.0 Q 176.4 123.1, 176.5 125.1 Q 176.5 126.6, 177.2 127.5 Q 178.0 128.4, 179.2 128.9 Q 180.3 129.5, 182.2 130.1 Q 184.8 130.9, 186.3 131.7 Q 187.8 132.5, 188.9 134.1 Q 190.0 135.7, 190.0 138.5 Q 190.0 142.4, 187.4 144.5 Q 184.8 146.6, 180.4 146.6 Q 177.9 146.6, 176.0 146.0 Q 174.1 145.5, 171.9 144.6 L 173.0 141.4 \" fill=\"#CCCC00\"/>\n",
       "<path class=\"atom-3\" d=\"M 231.9 95.0 Q 231.9 88.2, 235.3 84.4 Q 238.7 80.6, 244.9 80.6 Q 251.2 80.6, 254.6 84.4 Q 257.9 88.2, 257.9 95.0 Q 257.9 101.9, 254.5 105.8 Q 251.1 109.7, 244.9 109.7 Q 238.7 109.7, 235.3 105.8 Q 231.9 101.9, 231.9 95.0 M 244.9 106.5 Q 249.3 106.5, 251.6 103.6 Q 253.9 100.7, 253.9 95.0 Q 253.9 89.4, 251.6 86.6 Q 249.3 83.8, 244.9 83.8 Q 240.6 83.8, 238.3 86.6 Q 235.9 89.4, 235.9 95.0 Q 235.9 100.7, 238.3 103.6 Q 240.6 106.5, 244.9 106.5 \" fill=\"#FF0000\"/>\n",
       "<path class=\"atom-4\" d=\"M 143.1 16.7 L 146.9 16.7 L 146.9 28.7 L 161.4 28.7 L 161.4 16.7 L 165.2 16.7 L 165.2 45.0 L 161.4 45.0 L 161.4 31.9 L 146.9 31.9 L 146.9 45.0 L 143.1 45.0 L 143.1 16.7 \" fill=\"#000000\"/>\n",
       "<path class=\"atom-5\" d=\"M 69.3 16.5 L 73.1 16.5 L 73.1 28.6 L 87.6 28.6 L 87.6 16.5 L 91.4 16.5 L 91.4 44.8 L 87.6 44.8 L 87.6 31.8 L 73.1 31.8 L 73.1 44.8 L 69.3 44.8 L 69.3 16.5 \" fill=\"#000000\"/>\n",
       "<path class=\"atom-6\" d=\"M 42.1 117.3 L 45.9 117.3 L 45.9 129.3 L 60.4 129.3 L 60.4 117.3 L 64.2 117.3 L 64.2 145.6 L 60.4 145.6 L 60.4 132.5 L 45.9 132.5 L 45.9 145.6 L 42.1 145.6 L 42.1 117.3 \" fill=\"#000000\"/>\n",
       "<path class=\"atom-7\" d=\"M 95.9 191.2 L 99.8 191.2 L 99.8 203.2 L 114.3 203.2 L 114.3 191.2 L 118.1 191.2 L 118.1 219.5 L 114.3 219.5 L 114.3 206.4 L 99.8 206.4 L 99.8 219.5 L 95.9 219.5 L 95.9 191.2 \" fill=\"#000000\"/>\n",
       "<path class=\"atom-8\" d=\"M 132.7 255.2 L 136.5 255.2 L 136.5 267.2 L 151.0 267.2 L 151.0 255.2 L 154.9 255.2 L 154.9 283.5 L 151.0 283.5 L 151.0 270.4 L 136.5 270.4 L 136.5 283.5 L 132.7 283.5 L 132.7 255.2 \" fill=\"#000000\"/>\n",
       "<path class=\"atom-9\" d=\"M 233.6 228.4 L 237.4 228.4 L 237.4 240.4 L 251.9 240.4 L 251.9 228.4 L 255.7 228.4 L 255.7 256.7 L 251.9 256.7 L 251.9 243.6 L 237.4 243.6 L 237.4 256.7 L 233.6 256.7 L 233.6 228.4 \" fill=\"#000000\"/>\n",
       "</svg>"
      ],
      "text/plain": [
       "<IPython.core.display.SVG object>"
      ]
     },
     "metadata": {},
     "output_type": "display_data"
    },
    {
     "name": "stdout",
     "output_type": "stream",
     "text": [
      "t164\n"
     ]
    },
    {
     "data": {
      "image/svg+xml": [
       "<svg xmlns=\"http://www.w3.org/2000/svg\" xmlns:rdkit=\"http://www.rdkit.org/xml\" xmlns:xlink=\"http://www.w3.org/1999/xlink\" version=\"1.1\" baseProfile=\"full\" xml:space=\"preserve\" width=\"600px\" height=\"300px\" viewBox=\"0 0 600 300\">\n",
       "<!-- END OF HEADER -->\n",
       "<rect style=\"opacity:1.0;fill:#FFFFFF;stroke:none\" width=\"600.0\" height=\"300.0\" x=\"0.0\" y=\"0.0\"> </rect>\n",
       "<path class=\"bond-0 atom-0 atom-1\" d=\"M 95.2,146.7 L 154.8,181.0 L 154.8,206.4 L 95.3,172.1 Z\" style=\"fill:#FF7F7F;fill-rule:evenodd;fill-opacity:1;stroke:#FF7F7F;stroke-width:0.0px;stroke-linecap:butt;stroke-linejoin:miter;stroke-opacity:1;\"/>\n",
       "<path class=\"bond-1 atom-0 atom-2\" d=\"M 208.7,149.8 L 219.7,168.8 L 154.8,206.4 L 154.8,181.0 Z\" style=\"fill:#FF7F7F;fill-rule:evenodd;fill-opacity:1;stroke:#FF7F7F;stroke-width:0.0px;stroke-linecap:butt;stroke-linejoin:miter;stroke-opacity:1;\"/>\n",
       "<path class=\"bond-2 atom-1 atom-3\" d=\"M 95.2,146.7 L 95.3,172.1 L 41.3,203.3 L 30.3,184.3 Z\" style=\"fill:#FF7F7F;fill-rule:evenodd;fill-opacity:1;stroke:#FF7F7F;stroke-width:0.0px;stroke-linecap:butt;stroke-linejoin:miter;stroke-opacity:1;\"/>\n",
       "<ellipse cx=\"154.8\" cy=\"193.7\" rx=\"20.6\" ry=\"20.6\" class=\"atom-0\" style=\"fill:#FF7F7F;fill-rule:evenodd;stroke:#FF7F7F;stroke-width:1.0px;stroke-linecap:butt;stroke-linejoin:miter;stroke-opacity:1\"/>\n",
       "<ellipse cx=\"95.2\" cy=\"159.4\" rx=\"20.6\" ry=\"20.6\" class=\"atom-1\" style=\"fill:#FF7F7F;fill-rule:evenodd;stroke:#FF7F7F;stroke-width:1.0px;stroke-linecap:butt;stroke-linejoin:miter;stroke-opacity:1\"/>\n",
       "<ellipse cx=\"214.2\" cy=\"159.3\" rx=\"20.6\" ry=\"20.6\" class=\"atom-2\" style=\"fill:#FF7F7F;fill-rule:evenodd;stroke:#FF7F7F;stroke-width:1.0px;stroke-linecap:butt;stroke-linejoin:miter;stroke-opacity:1\"/>\n",
       "<ellipse cx=\"35.8\" cy=\"193.8\" rx=\"20.6\" ry=\"20.6\" class=\"atom-3\" style=\"fill:#FF7F7F;fill-rule:evenodd;stroke:#FF7F7F;stroke-width:1.0px;stroke-linecap:butt;stroke-linejoin:miter;stroke-opacity:1\"/>\n",
       "<path class=\"bond-0 atom-0 atom-1\" d=\"M 139.2,190.7 L 121.6,180.5\" style=\"fill:none;fill-rule:evenodd;stroke:#0000FF;stroke-width:2.0px;stroke-linecap:butt;stroke-linejoin:miter;stroke-opacity:1\"/>\n",
       "<path class=\"bond-0 atom-0 atom-1\" d=\"M 121.6,180.5 L 104.0,170.4\" style=\"fill:none;fill-rule:evenodd;stroke:#FF7F00;stroke-width:2.0px;stroke-linecap:butt;stroke-linejoin:miter;stroke-opacity:1\"/>\n",
       "<path class=\"bond-0 atom-0 atom-1\" d=\"M 144.3,181.7 L 126.7,171.6\" style=\"fill:none;fill-rule:evenodd;stroke:#0000FF;stroke-width:2.0px;stroke-linecap:butt;stroke-linejoin:miter;stroke-opacity:1\"/>\n",
       "<path class=\"bond-0 atom-0 atom-1\" d=\"M 126.7,171.6 L 109.1,161.4\" style=\"fill:none;fill-rule:evenodd;stroke:#FF7F00;stroke-width:2.0px;stroke-linecap:butt;stroke-linejoin:miter;stroke-opacity:1\"/>\n",
       "<path class=\"bond-1 atom-0 atom-2\" d=\"M 167.8,186.2 L 191.0,172.7\" style=\"fill:none;fill-rule:evenodd;stroke:#0000FF;stroke-width:2.0px;stroke-linecap:butt;stroke-linejoin:miter;stroke-opacity:1\"/>\n",
       "<path class=\"bond-1 atom-0 atom-2\" d=\"M 191.0,172.7 L 214.2,159.3\" style=\"fill:none;fill-rule:evenodd;stroke:#000000;stroke-width:2.0px;stroke-linecap:butt;stroke-linejoin:miter;stroke-opacity:1\"/>\n",
       "<path class=\"bond-2 atom-1 atom-3\" d=\"M 83.9,165.9 L 66.5,176.0\" style=\"fill:none;fill-rule:evenodd;stroke:#FF7F00;stroke-width:2.0px;stroke-linecap:butt;stroke-linejoin:miter;stroke-opacity:1\"/>\n",
       "<path class=\"bond-2 atom-1 atom-3\" d=\"M 66.5,176.0 L 49.1,186.1\" style=\"fill:none;fill-rule:evenodd;stroke:#000000;stroke-width:2.0px;stroke-linecap:butt;stroke-linejoin:miter;stroke-opacity:1\"/>\n",
       "<path class=\"bond-3 atom-2 atom-4\" d=\"M 214.2,159.3 L 189.3,116.3\" style=\"fill:none;fill-rule:evenodd;stroke:#000000;stroke-width:2.0px;stroke-linecap:butt;stroke-linejoin:miter;stroke-opacity:1\"/>\n",
       "<path class=\"bond-4 atom-2 atom-5\" d=\"M 214.2,159.3 L 239.1,116.2\" style=\"fill:none;fill-rule:evenodd;stroke:#000000;stroke-width:2.0px;stroke-linecap:butt;stroke-linejoin:miter;stroke-opacity:1\"/>\n",
       "<path class=\"bond-5 atom-2 atom-6\" d=\"M 214.2,159.3 L 260.4,185.9\" style=\"fill:none;fill-rule:evenodd;stroke:#000000;stroke-width:2.0px;stroke-linecap:butt;stroke-linejoin:miter;stroke-opacity:1\"/>\n",
       "<path class=\"atom-0\" d=\"M 148.5 179.5 L 157.8 194.5 Q 158.7 196.0, 160.2 198.7 Q 161.7 201.4, 161.7 201.5 L 161.7 179.5 L 165.5 179.5 L 165.5 207.9 L 161.6 207.9 L 151.7 191.5 Q 150.5 189.5, 149.3 187.3 Q 148.1 185.1, 147.7 184.5 L 147.7 207.9 L 144.0 207.9 L 144.0 179.5 L 148.5 179.5 \" fill=\"#0000FF\"/>\n",
       "<path class=\"atom-1\" d=\"M 94.6 145.2 Q 99.4 145.2, 101.8 147.4 Q 104.3 149.6, 104.3 153.5 Q 104.3 157.5, 101.8 159.7 Q 99.3 161.9, 94.6 161.9 L 90.0 161.9 L 90.0 173.5 L 86.2 173.5 L 86.2 145.2 L 94.6 145.2 M 94.6 158.7 Q 97.3 158.7, 98.8 157.4 Q 100.3 156.1, 100.3 153.5 Q 100.3 151.0, 98.8 149.7 Q 97.4 148.4, 94.6 148.4 L 90.0 148.4 L 90.0 158.7 L 94.6 158.7 \" fill=\"#FF7F00\"/>\n",
       "<path class=\"atom-3\" d=\"M 24.7 179.6 L 28.5 179.6 L 28.5 191.7 L 43.0 191.7 L 43.0 179.6 L 46.9 179.6 L 46.9 207.9 L 43.0 207.9 L 43.0 194.9 L 28.5 194.9 L 28.5 207.9 L 24.7 207.9 L 24.7 179.6 \" fill=\"#000000\"/>\n",
       "<path class=\"atom-4\" d=\"M 168.8 85.7 L 172.6 85.7 L 172.6 97.7 L 187.1 97.7 L 187.1 85.7 L 190.9 85.7 L 190.9 114.0 L 187.1 114.0 L 187.1 100.9 L 172.6 100.9 L 172.6 114.0 L 168.8 114.0 L 168.8 85.7 \" fill=\"#000000\"/>\n",
       "<path class=\"atom-5\" d=\"M 237.5 85.6 L 241.3 85.6 L 241.3 97.7 L 255.8 97.7 L 255.8 85.6 L 259.6 85.6 L 259.6 113.9 L 255.8 113.9 L 255.8 100.9 L 241.3 100.9 L 241.3 113.9 L 237.5 113.9 L 237.5 85.6 \" fill=\"#000000\"/>\n",
       "<path class=\"atom-6\" d=\"M 262.7 179.4 L 266.5 179.4 L 266.5 191.5 L 281.0 191.5 L 281.0 179.4 L 284.8 179.4 L 284.8 207.8 L 281.0 207.8 L 281.0 194.7 L 266.5 194.7 L 266.5 207.8 L 262.7 207.8 L 262.7 179.4 \" fill=\"#000000\"/>\n",
       "</svg>"
      ],
      "text/plain": [
       "<IPython.core.display.SVG object>"
      ]
     },
     "metadata": {},
     "output_type": "display_data"
    },
    {
     "name": "stderr",
     "output_type": "stream",
     "text": [
      "labeling molecules:  63%|██████████████████████████████████████▌                      | 12/19 [00:00<00:00, 50.73it/s]"
     ]
    },
    {
     "name": "stdout",
     "output_type": "stream",
     "text": [
      "t122h\n"
     ]
    },
    {
     "data": {
      "image/svg+xml": [
       "<svg xmlns=\"http://www.w3.org/2000/svg\" xmlns:rdkit=\"http://www.rdkit.org/xml\" xmlns:xlink=\"http://www.w3.org/1999/xlink\" version=\"1.1\" baseProfile=\"full\" xml:space=\"preserve\" width=\"600px\" height=\"300px\" viewBox=\"0 0 600 300\">\n",
       "<!-- END OF HEADER -->\n",
       "<rect style=\"opacity:1.0;fill:#FFFFFF;stroke:none\" width=\"600.0\" height=\"300.0\" x=\"0.0\" y=\"0.0\"> </rect>\n",
       "<path class=\"bond-1 atom-0 atom-2\" d=\"M 175.1,110.4 L 175.1,131.8 L 129.6,158.0 L 120.3,142.0 Z\" style=\"fill:#FF7F7F;fill-rule:evenodd;fill-opacity:1;stroke:#FF7F7F;stroke-width:0.0px;stroke-linecap:butt;stroke-linejoin:miter;stroke-opacity:1;\"/>\n",
       "<path class=\"bond-3 atom-2 atom-4\" d=\"M 175.1,110.4 L 234.5,144.7 L 215.9,155.4 L 175.1,131.8 Z\" style=\"fill:#FF7F7F;fill-rule:evenodd;fill-opacity:1;stroke:#FF7F7F;stroke-width:0.0px;stroke-linecap:butt;stroke-linejoin:miter;stroke-opacity:1;\"/>\n",
       "<path class=\"bond-4 atom-4 atom-5\" d=\"M 234.5,144.7 L 234.4,208.0 L 215.9,208.0 L 215.9,155.4 Z\" style=\"fill:#FF7F7F;fill-rule:evenodd;fill-opacity:1;stroke:#FF7F7F;stroke-width:0.0px;stroke-linecap:butt;stroke-linejoin:miter;stroke-opacity:1;\"/>\n",
       "<ellipse cx=\"124.9\" cy=\"150.0\" rx=\"17.4\" ry=\"17.4\" class=\"atom-0\" style=\"fill:#FF7F7F;fill-rule:evenodd;stroke:#FF7F7F;stroke-width:1.0px;stroke-linecap:butt;stroke-linejoin:miter;stroke-opacity:1\"/>\n",
       "<ellipse cx=\"175.1\" cy=\"121.4\" rx=\"17.4\" ry=\"17.8\" class=\"atom-2\" style=\"fill:#FF7F7F;fill-rule:evenodd;stroke:#FF7F7F;stroke-width:1.0px;stroke-linecap:butt;stroke-linejoin:miter;stroke-opacity:1\"/>\n",
       "<ellipse cx=\"225.2\" cy=\"150.1\" rx=\"17.4\" ry=\"17.4\" class=\"atom-4\" style=\"fill:#FF7F7F;fill-rule:evenodd;stroke:#FF7F7F;stroke-width:1.0px;stroke-linecap:butt;stroke-linejoin:miter;stroke-opacity:1\"/>\n",
       "<ellipse cx=\"225.2\" cy=\"208.0\" rx=\"17.4\" ry=\"17.4\" class=\"atom-5\" style=\"fill:#FF7F7F;fill-rule:evenodd;stroke:#FF7F7F;stroke-width:1.0px;stroke-linecap:butt;stroke-linejoin:miter;stroke-opacity:1\"/>\n",
       "<path class=\"bond-0 atom-0 atom-1\" d=\"M 124.9,150.0 L 74.8,178.9\" style=\"fill:none;fill-rule:evenodd;stroke:#000000;stroke-width:2.0px;stroke-linecap:butt;stroke-linejoin:miter;stroke-opacity:1\"/>\n",
       "<path class=\"bond-0 atom-0 atom-1\" d=\"M 129.3,157.5 L 79.1,186.4\" style=\"fill:none;fill-rule:evenodd;stroke:#000000;stroke-width:2.0px;stroke-linecap:butt;stroke-linejoin:miter;stroke-opacity:1\"/>\n",
       "<path class=\"bond-0 atom-0 atom-1\" d=\"M 120.6,142.5 L 70.4,171.4\" style=\"fill:none;fill-rule:evenodd;stroke:#000000;stroke-width:2.0px;stroke-linecap:butt;stroke-linejoin:miter;stroke-opacity:1\"/>\n",
       "<path class=\"bond-1 atom-0 atom-2\" d=\"M 124.9,150.0 L 145.1,138.4\" style=\"fill:none;fill-rule:evenodd;stroke:#000000;stroke-width:2.0px;stroke-linecap:butt;stroke-linejoin:miter;stroke-opacity:1\"/>\n",
       "<path class=\"bond-1 atom-0 atom-2\" d=\"M 145.1,138.4 L 165.3,126.7\" style=\"fill:none;fill-rule:evenodd;stroke:#CCCC00;stroke-width:2.0px;stroke-linecap:butt;stroke-linejoin:miter;stroke-opacity:1\"/>\n",
       "<path class=\"bond-2 atom-2 atom-3\" d=\"M 179.5,106.9 L 179.5,92.4\" style=\"fill:none;fill-rule:evenodd;stroke:#CCCC00;stroke-width:2.0px;stroke-linecap:butt;stroke-linejoin:miter;stroke-opacity:1\"/>\n",
       "<path class=\"bond-2 atom-2 atom-3\" d=\"M 179.5,92.4 L 179.5,77.9\" style=\"fill:none;fill-rule:evenodd;stroke:#FF0000;stroke-width:2.0px;stroke-linecap:butt;stroke-linejoin:miter;stroke-opacity:1\"/>\n",
       "<path class=\"bond-2 atom-2 atom-3\" d=\"M 170.8,106.9 L 170.8,92.4\" style=\"fill:none;fill-rule:evenodd;stroke:#CCCC00;stroke-width:2.0px;stroke-linecap:butt;stroke-linejoin:miter;stroke-opacity:1\"/>\n",
       "<path class=\"bond-2 atom-2 atom-3\" d=\"M 170.8,92.4 L 170.8,77.9\" style=\"fill:none;fill-rule:evenodd;stroke:#FF0000;stroke-width:2.0px;stroke-linecap:butt;stroke-linejoin:miter;stroke-opacity:1\"/>\n",
       "<path class=\"bond-3 atom-2 atom-4\" d=\"M 184.9,126.7 L 205.1,138.4\" style=\"fill:none;fill-rule:evenodd;stroke:#CCCC00;stroke-width:2.0px;stroke-linecap:butt;stroke-linejoin:miter;stroke-opacity:1\"/>\n",
       "<path class=\"bond-3 atom-2 atom-4\" d=\"M 205.1,138.4 L 225.2,150.1\" style=\"fill:none;fill-rule:evenodd;stroke:#000000;stroke-width:2.0px;stroke-linecap:butt;stroke-linejoin:miter;stroke-opacity:1\"/>\n",
       "<path class=\"bond-4 atom-4 atom-5\" d=\"M 225.2,150.1 L 225.2,208.0\" style=\"fill:none;fill-rule:evenodd;stroke:#000000;stroke-width:2.0px;stroke-linecap:butt;stroke-linejoin:miter;stroke-opacity:1\"/>\n",
       "<path class=\"bond-4 atom-4 atom-5\" d=\"M 216.5,155.1 L 216.5,202.9\" style=\"fill:none;fill-rule:evenodd;stroke:#000000;stroke-width:2.0px;stroke-linecap:butt;stroke-linejoin:miter;stroke-opacity:1\"/>\n",
       "<path class=\"bond-5 atom-1 atom-6\" d=\"M 74.8,178.9 L 36.2,201.2\" style=\"fill:none;fill-rule:evenodd;stroke:#000000;stroke-width:2.0px;stroke-linecap:butt;stroke-linejoin:miter;stroke-opacity:1\"/>\n",
       "<path class=\"bond-6 atom-4 atom-7\" d=\"M 225.2,150.1 L 263.8,127.8\" style=\"fill:none;fill-rule:evenodd;stroke:#000000;stroke-width:2.0px;stroke-linecap:butt;stroke-linejoin:miter;stroke-opacity:1\"/>\n",
       "<path class=\"bond-7 atom-5 atom-8\" d=\"M 225.2,208.0 L 186.5,230.2\" style=\"fill:none;fill-rule:evenodd;stroke:#000000;stroke-width:2.0px;stroke-linecap:butt;stroke-linejoin:miter;stroke-opacity:1\"/>\n",
       "<path class=\"bond-8 atom-5 atom-9\" d=\"M 225.2,208.0 L 263.8,230.3\" style=\"fill:none;fill-rule:evenodd;stroke:#000000;stroke-width:2.0px;stroke-linecap:butt;stroke-linejoin:miter;stroke-opacity:1\"/>\n",
       "<path d=\"M 122.4,151.4 L 124.9,150.0 L 126.0,149.4\" style=\"fill:none;stroke:#000000;stroke-width:2.0px;stroke-linecap:butt;stroke-linejoin:miter;stroke-opacity:1;\"/>\n",
       "<path d=\"M 77.3,177.5 L 74.8,178.9 L 72.9,180.0\" style=\"fill:none;stroke:#000000;stroke-width:2.0px;stroke-linecap:butt;stroke-linejoin:miter;stroke-opacity:1;\"/>\n",
       "<path class=\"atom-2\" d=\"M 168.2 129.5 Q 168.4 129.6, 169.6 130.1 Q 170.7 130.6, 172.0 130.9 Q 173.3 131.2, 174.5 131.2 Q 176.8 131.2, 178.2 130.1 Q 179.5 128.9, 179.5 127.0 Q 179.5 125.6, 178.9 124.8 Q 178.2 123.9, 177.2 123.5 Q 176.1 123.0, 174.4 122.5 Q 172.2 121.8, 170.9 121.2 Q 169.6 120.6, 168.6 119.3 Q 167.7 118.0, 167.7 115.7 Q 167.7 112.6, 169.8 110.7 Q 171.9 108.8, 176.1 108.8 Q 179.0 108.8, 182.2 110.2 L 181.4 112.8 Q 178.4 111.6, 176.2 111.6 Q 173.8 111.6, 172.5 112.6 Q 171.2 113.6, 171.2 115.3 Q 171.2 116.6, 171.9 117.4 Q 172.6 118.2, 173.5 118.7 Q 174.5 119.1, 176.2 119.7 Q 178.4 120.4, 179.8 121.0 Q 181.1 121.7, 182.0 123.2 Q 183.0 124.6, 183.0 127.0 Q 183.0 130.4, 180.7 132.2 Q 178.4 134.0, 174.7 134.0 Q 172.5 134.0, 170.8 133.5 Q 169.2 133.1, 167.2 132.3 L 168.2 129.5 \" fill=\"#CCCC00\"/>\n",
       "<path class=\"atom-3\" d=\"M 163.9 63.3 Q 163.9 57.4, 166.8 54.1 Q 169.7 50.8, 175.1 50.8 Q 180.6 50.8, 183.5 54.1 Q 186.4 57.4, 186.4 63.3 Q 186.4 69.2, 183.5 72.6 Q 180.5 76.0, 175.1 76.0 Q 169.7 76.0, 166.8 72.6 Q 163.9 69.3, 163.9 63.3 M 175.1 73.2 Q 178.9 73.2, 180.9 70.7 Q 183.0 68.2, 183.0 63.3 Q 183.0 58.4, 180.9 56.0 Q 178.9 53.5, 175.1 53.5 Q 171.4 53.5, 169.3 56.0 Q 167.3 58.4, 167.3 63.3 Q 167.3 68.2, 169.3 70.7 Q 171.4 73.2, 175.1 73.2 \" fill=\"#FF0000\"/>\n",
       "<path class=\"atom-6\" d=\"M 15.0 195.5 L 18.3 195.5 L 18.3 206.0 L 30.9 206.0 L 30.9 195.5 L 34.2 195.5 L 34.2 220.1 L 30.9 220.1 L 30.9 208.7 L 18.3 208.7 L 18.3 220.1 L 15.0 220.1 L 15.0 195.5 \" fill=\"#000000\"/>\n",
       "<path class=\"atom-7\" d=\"M 265.8 108.9 L 269.1 108.9 L 269.1 119.3 L 281.7 119.3 L 281.7 108.9 L 285.0 108.9 L 285.0 133.5 L 281.7 133.5 L 281.7 122.1 L 269.1 122.1 L 269.1 133.5 L 265.8 133.5 L 265.8 108.9 \" fill=\"#000000\"/>\n",
       "<path class=\"atom-8\" d=\"M 165.4 224.6 L 168.7 224.6 L 168.7 235.0 L 181.3 235.0 L 181.3 224.6 L 184.6 224.6 L 184.6 249.2 L 181.3 249.2 L 181.3 237.8 L 168.7 237.8 L 168.7 249.2 L 165.4 249.2 L 165.4 224.6 \" fill=\"#000000\"/>\n",
       "<path class=\"atom-9\" d=\"M 265.7 224.7 L 269.0 224.7 L 269.0 235.1 L 281.6 235.1 L 281.6 224.7 L 284.9 224.7 L 284.9 249.2 L 281.6 249.2 L 281.6 237.9 L 269.0 237.9 L 269.0 249.2 L 265.7 249.2 L 265.7 224.7 \" fill=\"#000000\"/>\n",
       "</svg>"
      ],
      "text/plain": [
       "<IPython.core.display.SVG object>"
      ]
     },
     "metadata": {},
     "output_type": "display_data"
    },
    {
     "name": "stdout",
     "output_type": "stream",
     "text": [
      "t82h\n"
     ]
    },
    {
     "data": {
      "image/svg+xml": [
       "<svg xmlns=\"http://www.w3.org/2000/svg\" xmlns:rdkit=\"http://www.rdkit.org/xml\" xmlns:xlink=\"http://www.w3.org/1999/xlink\" version=\"1.1\" baseProfile=\"full\" xml:space=\"preserve\" width=\"600px\" height=\"300px\" viewBox=\"0 0 600 300\">\n",
       "<!-- END OF HEADER -->\n",
       "<rect style=\"opacity:1.0;fill:#FFFFFF;stroke:none\" width=\"600.0\" height=\"300.0\" x=\"0.0\" y=\"0.0\"> </rect>\n",
       "<path class=\"bond-0 atom-0 atom-1\" d=\"M 195.3,64.0 L 195.5,139.1 L 173.5,126.4 L 173.3,64.1 Z\" style=\"fill:#FF7F7F;fill-rule:evenodd;fill-opacity:1;stroke:#FF7F7F;stroke-width:0.0px;stroke-linecap:butt;stroke-linejoin:miter;stroke-opacity:1;\"/>\n",
       "<path class=\"bond-1 atom-0 atom-2\" d=\"M 173.5,126.4 L 195.5,139.1 L 125.1,179.9 L 125.0,154.5 Z\" style=\"fill:#FF7F7F;fill-rule:evenodd;fill-opacity:1;stroke:#FF7F7F;stroke-width:0.0px;stroke-linecap:butt;stroke-linejoin:miter;stroke-opacity:1;\"/>\n",
       "<path class=\"bond-6 atom-2 atom-7\" d=\"M 71.0,123.5 L 125.0,154.5 L 125.1,179.9 L 60.0,142.5 Z\" style=\"fill:#FF7F7F;fill-rule:evenodd;fill-opacity:1;stroke:#FF7F7F;stroke-width:0.0px;stroke-linecap:butt;stroke-linejoin:miter;stroke-opacity:1;\"/>\n",
       "<ellipse cx=\"193.3\" cy=\"132.7\" rx=\"27.7\" ry=\"20.6\" class=\"atom-0\" style=\"fill:#FF7F7F;fill-rule:evenodd;stroke:#FF7F7F;stroke-width:1.0px;stroke-linecap:butt;stroke-linejoin:miter;stroke-opacity:1\"/>\n",
       "<ellipse cx=\"184.3\" cy=\"64.1\" rx=\"20.6\" ry=\"20.6\" class=\"atom-1\" style=\"fill:#FF7F7F;fill-rule:evenodd;stroke:#FF7F7F;stroke-width:1.0px;stroke-linecap:butt;stroke-linejoin:miter;stroke-opacity:1\"/>\n",
       "<ellipse cx=\"125.0\" cy=\"167.2\" rx=\"20.6\" ry=\"20.6\" class=\"atom-2\" style=\"fill:#FF7F7F;fill-rule:evenodd;stroke:#FF7F7F;stroke-width:1.0px;stroke-linecap:butt;stroke-linejoin:miter;stroke-opacity:1\"/>\n",
       "<ellipse cx=\"65.5\" cy=\"133.0\" rx=\"20.6\" ry=\"20.6\" class=\"atom-7\" style=\"fill:#FF7F7F;fill-rule:evenodd;stroke:#FF7F7F;stroke-width:1.0px;stroke-linecap:butt;stroke-linejoin:miter;stroke-opacity:1\"/>\n",
       "<path class=\"bond-0 atom-0 atom-1\" d=\"M 184.4,116.3 L 184.4,90.2\" style=\"fill:none;fill-rule:evenodd;stroke:#0000FF;stroke-width:2.0px;stroke-linecap:butt;stroke-linejoin:miter;stroke-opacity:1\"/>\n",
       "<path class=\"bond-0 atom-0 atom-1\" d=\"M 184.4,90.2 L 184.3,64.1\" style=\"fill:none;fill-rule:evenodd;stroke:#000000;stroke-width:2.0px;stroke-linecap:butt;stroke-linejoin:miter;stroke-opacity:1\"/>\n",
       "<path class=\"bond-0 atom-0 atom-1\" d=\"M 174.1,116.4 L 174.1,93.2\" style=\"fill:none;fill-rule:evenodd;stroke:#0000FF;stroke-width:2.0px;stroke-linecap:butt;stroke-linejoin:miter;stroke-opacity:1\"/>\n",
       "<path class=\"bond-0 atom-0 atom-1\" d=\"M 174.1,93.2 L 174.0,70.0\" style=\"fill:none;fill-rule:evenodd;stroke:#000000;stroke-width:2.0px;stroke-linecap:butt;stroke-linejoin:miter;stroke-opacity:1\"/>\n",
       "<path class=\"bond-1 atom-0 atom-2\" d=\"M 171.5,140.3 L 148.3,153.8\" style=\"fill:none;fill-rule:evenodd;stroke:#0000FF;stroke-width:2.0px;stroke-linecap:butt;stroke-linejoin:miter;stroke-opacity:1\"/>\n",
       "<path class=\"bond-1 atom-0 atom-2\" d=\"M 148.3,153.8 L 125.0,167.2\" style=\"fill:none;fill-rule:evenodd;stroke:#000000;stroke-width:2.0px;stroke-linecap:butt;stroke-linejoin:miter;stroke-opacity:1\"/>\n",
       "<path class=\"bond-2 atom-2 atom-3\" d=\"M 125.0,167.2 L 125.2,235.9\" style=\"fill:none;fill-rule:evenodd;stroke:#000000;stroke-width:2.0px;stroke-linecap:butt;stroke-linejoin:miter;stroke-opacity:1\"/>\n",
       "<path class=\"bond-2 atom-2 atom-3\" d=\"M 135.4,173.2 L 135.5,230.0\" style=\"fill:none;fill-rule:evenodd;stroke:#000000;stroke-width:2.0px;stroke-linecap:butt;stroke-linejoin:miter;stroke-opacity:1\"/>\n",
       "<path class=\"bond-3 atom-0 atom-4\" d=\"M 197.5,140.2 L 214.1,149.8\" style=\"fill:none;fill-rule:evenodd;stroke:#0000FF;stroke-width:2.0px;stroke-linecap:butt;stroke-linejoin:miter;stroke-opacity:1\"/>\n",
       "<path class=\"bond-3 atom-0 atom-4\" d=\"M 214.1,149.8 L 230.7,159.3\" style=\"fill:none;fill-rule:evenodd;stroke:#000000;stroke-width:2.0px;stroke-linecap:butt;stroke-linejoin:miter;stroke-opacity:1\"/>\n",
       "<path class=\"bond-4 atom-1 atom-5\" d=\"M 184.3,64.1 L 138.1,37.5\" style=\"fill:none;fill-rule:evenodd;stroke:#000000;stroke-width:2.0px;stroke-linecap:butt;stroke-linejoin:miter;stroke-opacity:1\"/>\n",
       "<path class=\"bond-5 atom-1 atom-6\" d=\"M 184.3,64.1 L 230.4,37.3\" style=\"fill:none;fill-rule:evenodd;stroke:#000000;stroke-width:2.0px;stroke-linecap:butt;stroke-linejoin:miter;stroke-opacity:1\"/>\n",
       "<path class=\"bond-6 atom-2 atom-7\" d=\"M 125.0,167.2 L 78.8,140.7\" style=\"fill:none;fill-rule:evenodd;stroke:#000000;stroke-width:2.0px;stroke-linecap:butt;stroke-linejoin:miter;stroke-opacity:1\"/>\n",
       "<path class=\"bond-7 atom-3 atom-8\" d=\"M 125.2,235.9 L 171.4,262.5\" style=\"fill:none;fill-rule:evenodd;stroke:#000000;stroke-width:2.0px;stroke-linecap:butt;stroke-linejoin:miter;stroke-opacity:1\"/>\n",
       "<path class=\"bond-8 atom-3 atom-9\" d=\"M 125.2,235.9 L 79.1,262.7\" style=\"fill:none;fill-rule:evenodd;stroke:#000000;stroke-width:2.0px;stroke-linecap:butt;stroke-linejoin:miter;stroke-opacity:1\"/>\n",
       "<path class=\"atom-0\" d=\"M 178.2 118.6 L 187.5 133.6 Q 188.4 135.1, 189.9 137.8 Q 191.4 140.4, 191.5 140.6 L 191.5 118.6 L 195.2 118.6 L 195.2 146.9 L 191.3 146.9 L 181.4 130.5 Q 180.2 128.6, 179.0 126.4 Q 177.8 124.2, 177.4 123.5 L 177.4 146.9 L 173.7 146.9 L 173.7 118.6 L 178.2 118.6 \" fill=\"#0000FF\"/>\n",
       "<path class=\"atom-0\" d=\"M 200.6 123.7 L 205.5 123.7 L 205.5 118.5 L 207.8 118.5 L 207.8 123.7 L 212.9 123.7 L 212.9 125.6 L 207.8 125.6 L 207.8 130.9 L 205.5 130.9 L 205.5 125.6 L 200.6 125.6 L 200.6 123.7 \" fill=\"#0000FF\"/>\n",
       "<path class=\"atom-4\" d=\"M 233.0 152.8 L 236.8 152.8 L 236.8 164.9 L 251.3 164.9 L 251.3 152.8 L 255.1 152.8 L 255.1 181.2 L 251.3 181.2 L 251.3 168.1 L 236.8 168.1 L 236.8 181.2 L 233.0 181.2 L 233.0 152.8 \" fill=\"#000000\"/>\n",
       "<path class=\"atom-5\" d=\"M 113.7 15.7 L 117.5 15.7 L 117.5 27.7 L 132.0 27.7 L 132.0 15.7 L 135.8 15.7 L 135.8 44.0 L 132.0 44.0 L 132.0 30.9 L 117.5 30.9 L 117.5 44.0 L 113.7 44.0 L 113.7 15.7 \" fill=\"#000000\"/>\n",
       "<path class=\"atom-6\" d=\"M 232.7 15.4 L 236.5 15.4 L 236.5 27.5 L 251.0 27.5 L 251.0 15.4 L 254.8 15.4 L 254.8 43.8 L 251.0 43.8 L 251.0 30.7 L 236.5 30.7 L 236.5 43.8 L 232.7 43.8 L 232.7 15.4 \" fill=\"#000000\"/>\n",
       "<path class=\"atom-7\" d=\"M 54.4 118.8 L 58.2 118.8 L 58.2 130.9 L 72.7 130.9 L 72.7 118.8 L 76.6 118.8 L 76.6 147.2 L 72.7 147.2 L 72.7 134.1 L 58.2 134.1 L 58.2 147.2 L 54.4 147.2 L 54.4 118.8 \" fill=\"#000000\"/>\n",
       "<path class=\"atom-8\" d=\"M 173.7 256.0 L 177.5 256.0 L 177.5 268.0 L 192.0 268.0 L 192.0 256.0 L 195.8 256.0 L 195.8 284.3 L 192.0 284.3 L 192.0 271.2 L 177.5 271.2 L 177.5 284.3 L 173.7 284.3 L 173.7 256.0 \" fill=\"#000000\"/>\n",
       "<path class=\"atom-9\" d=\"M 54.7 256.2 L 58.5 256.2 L 58.5 268.3 L 73.0 268.3 L 73.0 256.2 L 76.8 256.2 L 76.8 284.6 L 73.0 284.6 L 73.0 271.5 L 58.5 271.5 L 58.5 284.6 L 54.7 284.6 L 54.7 256.2 \" fill=\"#000000\"/>\n",
       "</svg>"
      ],
      "text/plain": [
       "<IPython.core.display.SVG object>"
      ]
     },
     "metadata": {},
     "output_type": "display_data"
    },
    {
     "name": "stdout",
     "output_type": "stream",
     "text": [
      "t19a\n"
     ]
    },
    {
     "data": {
      "image/svg+xml": [
       "<svg xmlns=\"http://www.w3.org/2000/svg\" xmlns:rdkit=\"http://www.rdkit.org/xml\" xmlns:xlink=\"http://www.w3.org/1999/xlink\" version=\"1.1\" baseProfile=\"full\" xml:space=\"preserve\" width=\"600px\" height=\"300px\" viewBox=\"0 0 600 300\">\n",
       "<!-- END OF HEADER -->\n",
       "<rect style=\"opacity:1.0;fill:#FFFFFF;stroke:none\" width=\"600.0\" height=\"300.0\" x=\"0.0\" y=\"0.0\"> </rect>\n",
       "<path class=\"bond-0 atom-0 atom-1\" d=\"M 98.3,157.2 L 154.2,189.8 L 138.2,205.7 L 76.4,169.7 Z\" style=\"fill:#FF7F7F;fill-rule:evenodd;fill-opacity:1;stroke:#FF7F7F;stroke-width:0.0px;stroke-linecap:butt;stroke-linejoin:miter;stroke-opacity:1;\"/>\n",
       "<path class=\"bond-5 atom-0 atom-6\" d=\"M 154.2,189.8 L 189.5,251.4 L 170.6,262.2 L 138.2,205.7 Z\" style=\"fill:#FF7F7F;fill-rule:evenodd;fill-opacity:1;stroke:#FF7F7F;stroke-width:0.0px;stroke-linecap:butt;stroke-linejoin:miter;stroke-opacity:1;\"/>\n",
       "<path class=\"bond-1 atom-1 atom-2\" d=\"M 76.7,95.3 L 98.5,95.4 L 98.3,157.2 L 76.4,169.7 Z\" style=\"fill:#FF7F7F;fill-rule:evenodd;fill-opacity:1;stroke:#FF7F7F;stroke-width:0.0px;stroke-linecap:butt;stroke-linejoin:miter;stroke-opacity:1;\"/>\n",
       "<ellipse cx=\"146.2\" cy=\"197.7\" rx=\"20.4\" ry=\"20.4\" class=\"atom-0\" style=\"fill:#FF7F7F;fill-rule:evenodd;stroke:#FF7F7F;stroke-width:1.0px;stroke-linecap:butt;stroke-linejoin:miter;stroke-opacity:1\"/>\n",
       "<ellipse cx=\"87.4\" cy=\"163.5\" rx=\"20.4\" ry=\"20.4\" class=\"atom-1\" style=\"fill:#FF7F7F;fill-rule:evenodd;stroke:#FF7F7F;stroke-width:1.0px;stroke-linecap:butt;stroke-linejoin:miter;stroke-opacity:1\"/>\n",
       "<ellipse cx=\"87.6\" cy=\"95.6\" rx=\"20.4\" ry=\"20.6\" class=\"atom-2\" style=\"fill:#FF7F7F;fill-rule:evenodd;stroke:#FF7F7F;stroke-width:1.0px;stroke-linecap:butt;stroke-linejoin:miter;stroke-opacity:1\"/>\n",
       "<ellipse cx=\"180.1\" cy=\"256.8\" rx=\"20.4\" ry=\"20.4\" class=\"atom-6\" style=\"fill:#FF7F7F;fill-rule:evenodd;stroke:#FF7F7F;stroke-width:1.0px;stroke-linecap:butt;stroke-linejoin:miter;stroke-opacity:1\"/>\n",
       "<path class=\"bond-0 atom-0 atom-1\" d=\"M 146.2,197.7 L 87.4,163.5\" style=\"fill:none;fill-rule:evenodd;stroke:#000000;stroke-width:2.0px;stroke-linecap:butt;stroke-linejoin:miter;stroke-opacity:1\"/>\n",
       "<path class=\"bond-1 atom-1 atom-2\" d=\"M 92.5,166.4 L 92.6,139.4\" style=\"fill:none;fill-rule:evenodd;stroke:#000000;stroke-width:2.0px;stroke-linecap:butt;stroke-linejoin:miter;stroke-opacity:1\"/>\n",
       "<path class=\"bond-1 atom-1 atom-2\" d=\"M 92.6,139.4 L 92.7,112.4\" style=\"fill:none;fill-rule:evenodd;stroke:#FF0000;stroke-width:2.0px;stroke-linecap:butt;stroke-linejoin:miter;stroke-opacity:1\"/>\n",
       "<path class=\"bond-1 atom-1 atom-2\" d=\"M 82.2,166.4 L 82.3,139.4\" style=\"fill:none;fill-rule:evenodd;stroke:#000000;stroke-width:2.0px;stroke-linecap:butt;stroke-linejoin:miter;stroke-opacity:1\"/>\n",
       "<path class=\"bond-1 atom-1 atom-2\" d=\"M 82.3,139.4 L 82.4,112.3\" style=\"fill:none;fill-rule:evenodd;stroke:#FF0000;stroke-width:2.0px;stroke-linecap:butt;stroke-linejoin:miter;stroke-opacity:1\"/>\n",
       "<path class=\"bond-2 atom-1 atom-3\" d=\"M 87.4,163.5 L 68.2,174.4\" style=\"fill:none;fill-rule:evenodd;stroke:#000000;stroke-width:2.0px;stroke-linecap:butt;stroke-linejoin:miter;stroke-opacity:1\"/>\n",
       "<path class=\"bond-2 atom-1 atom-3\" d=\"M 68.2,174.4 L 49.1,185.3\" style=\"fill:none;fill-rule:evenodd;stroke:#FF0000;stroke-width:2.0px;stroke-linecap:butt;stroke-linejoin:miter;stroke-opacity:1\"/>\n",
       "<path class=\"bond-3 atom-0 atom-4\" d=\"M 146.2,197.7 L 205.3,163.9\" style=\"fill:none;fill-rule:evenodd;stroke:#000000;stroke-width:2.0px;stroke-linecap:butt;stroke-linejoin:miter;stroke-opacity:1\"/>\n",
       "<path class=\"bond-4 atom-4 atom-5\" d=\"M 205.3,163.9 L 205.6,95.8\" style=\"fill:none;fill-rule:evenodd;stroke:#000000;stroke-width:2.0px;stroke-linecap:butt;stroke-linejoin:miter;stroke-opacity:1\"/>\n",
       "<path class=\"bond-5 atom-0 atom-6\" d=\"M 146.2,197.7 L 170.7,240.4\" style=\"fill:none;fill-rule:evenodd;stroke:#000000;stroke-width:2.0px;stroke-linecap:butt;stroke-linejoin:miter;stroke-opacity:1\"/>\n",
       "<path class=\"bond-6 atom-0 atom-7\" d=\"M 146.2,197.7 L 121.5,240.2\" style=\"fill:none;fill-rule:evenodd;stroke:#000000;stroke-width:2.0px;stroke-linecap:butt;stroke-linejoin:miter;stroke-opacity:1\"/>\n",
       "<path class=\"bond-7 atom-4 atom-8\" d=\"M 205.3,163.9 L 229.8,206.6\" style=\"fill:none;fill-rule:evenodd;stroke:#000000;stroke-width:2.0px;stroke-linecap:butt;stroke-linejoin:miter;stroke-opacity:1\"/>\n",
       "<path class=\"bond-8 atom-4 atom-9\" d=\"M 205.3,163.9 L 260.1,164.1\" style=\"fill:none;fill-rule:evenodd;stroke:#000000;stroke-width:2.0px;stroke-linecap:butt;stroke-linejoin:miter;stroke-opacity:1\"/>\n",
       "<path class=\"bond-9 atom-5 atom-10\" d=\"M 205.6,95.8 L 260.3,96.0\" style=\"fill:none;fill-rule:evenodd;stroke:#000000;stroke-width:2.0px;stroke-linecap:butt;stroke-linejoin:miter;stroke-opacity:1\"/>\n",
       "<path class=\"bond-10 atom-5 atom-11\" d=\"M 205.6,95.8 L 230.3,53.3\" style=\"fill:none;fill-rule:evenodd;stroke:#000000;stroke-width:2.0px;stroke-linecap:butt;stroke-linejoin:miter;stroke-opacity:1\"/>\n",
       "<path class=\"bond-11 atom-5 atom-12\" d=\"M 205.6,95.8 L 160.0,69.3\" style=\"fill:none;fill-rule:evenodd;stroke:#000000;stroke-width:2.0px;stroke-linecap:butt;stroke-linejoin:miter;stroke-opacity:1\"/>\n",
       "<path d=\"M 90.3,165.2 L 87.4,163.5 L 86.4,164.0\" style=\"fill:none;stroke:#000000;stroke-width:2.0px;stroke-linecap:butt;stroke-linejoin:miter;stroke-opacity:1;\"/>\n",
       "<path class=\"atom-2\" d=\"M 74.6 95.4 Q 74.6 88.6, 78.0 84.8 Q 81.3 81.0, 87.6 81.0 Q 93.9 81.0, 97.2 84.8 Q 100.6 88.6, 100.6 95.4 Q 100.6 102.3, 97.2 106.2 Q 93.8 110.1, 87.6 110.1 Q 81.4 110.1, 78.0 106.2 Q 74.6 102.4, 74.6 95.4 M 87.6 106.9 Q 91.9 106.9, 94.2 104.0 Q 96.6 101.1, 96.6 95.4 Q 96.6 89.9, 94.2 87.1 Q 91.9 84.2, 87.6 84.2 Q 83.3 84.2, 80.9 87.0 Q 78.6 89.8, 78.6 95.4 Q 78.6 101.2, 80.9 104.0 Q 83.3 106.9, 87.6 106.9 \" fill=\"#FF0000\"/>\n",
       "<path class=\"atom-3\" d=\"M 15.3 197.4 Q 15.3 190.6, 18.6 186.8 Q 22.0 183.0, 28.3 183.0 Q 34.5 183.0, 37.9 186.8 Q 41.3 190.6, 41.3 197.4 Q 41.3 204.2, 37.9 208.2 Q 34.5 212.0, 28.3 212.0 Q 22.0 212.0, 18.6 208.2 Q 15.3 204.3, 15.3 197.4 M 28.3 208.8 Q 32.6 208.8, 34.9 206.0 Q 37.3 203.0, 37.3 197.4 Q 37.3 191.8, 34.9 189.0 Q 32.6 186.2, 28.3 186.2 Q 23.9 186.2, 21.6 189.0 Q 19.3 191.8, 19.3 197.4 Q 19.3 203.1, 21.6 206.0 Q 23.9 208.8, 28.3 208.8 \" fill=\"#FF0000\"/>\n",
       "<path class=\"atom-3\" d=\"M 45.3 187.6 L 55.0 187.6 L 55.0 189.7 L 45.3 189.7 L 45.3 187.6 \" fill=\"#FF0000\"/>\n",
       "<path class=\"atom-6\" d=\"M 169.0 242.6 L 172.8 242.6 L 172.8 254.7 L 187.3 254.7 L 187.3 242.6 L 191.1 242.6 L 191.1 271.0 L 187.3 271.0 L 187.3 257.9 L 172.8 257.9 L 172.8 271.0 L 169.0 271.0 L 169.0 242.6 \" fill=\"#000000\"/>\n",
       "<path class=\"atom-7\" d=\"M 100.9 242.4 L 104.7 242.4 L 104.7 254.4 L 119.2 254.4 L 119.2 242.4 L 123.0 242.4 L 123.0 270.7 L 119.2 270.7 L 119.2 257.6 L 104.7 257.6 L 104.7 270.7 L 100.9 270.7 L 100.9 242.4 \" fill=\"#000000\"/>\n",
       "<path class=\"atom-8\" d=\"M 228.1 208.8 L 231.9 208.8 L 231.9 220.9 L 246.4 220.9 L 246.4 208.8 L 250.2 208.8 L 250.2 237.1 L 246.4 237.1 L 246.4 224.1 L 231.9 224.1 L 231.9 237.1 L 228.1 237.1 L 228.1 208.8 \" fill=\"#000000\"/>\n",
       "<path class=\"atom-9\" d=\"M 262.3 150.0 L 266.2 150.0 L 266.2 162.0 L 280.7 162.0 L 280.7 150.0 L 284.5 150.0 L 284.5 178.3 L 280.7 178.3 L 280.7 165.2 L 266.2 165.2 L 266.2 178.3 L 262.3 178.3 L 262.3 150.0 \" fill=\"#000000\"/>\n",
       "<path class=\"atom-10\" d=\"M 262.6 81.9 L 266.4 81.9 L 266.4 93.9 L 280.9 93.9 L 280.9 81.9 L 284.7 81.9 L 284.7 110.2 L 280.9 110.2 L 280.9 97.1 L 266.4 97.1 L 266.4 110.2 L 262.6 110.2 L 262.6 81.9 \" fill=\"#000000\"/>\n",
       "<path class=\"atom-11\" d=\"M 228.7 22.8 L 232.6 22.8 L 232.6 34.8 L 247.1 34.8 L 247.1 22.8 L 250.9 22.8 L 250.9 51.1 L 247.1 51.1 L 247.1 38.0 L 232.6 38.0 L 232.6 51.1 L 228.7 51.1 L 228.7 22.8 \" fill=\"#000000\"/>\n",
       "<path class=\"atom-12\" d=\"M 135.6 47.3 L 139.5 47.3 L 139.5 59.4 L 153.9 59.4 L 153.9 47.3 L 157.8 47.3 L 157.8 75.7 L 153.9 75.7 L 153.9 62.6 L 139.5 62.6 L 139.5 75.7 L 135.6 75.7 L 135.6 47.3 \" fill=\"#000000\"/>\n",
       "</svg>"
      ],
      "text/plain": [
       "<IPython.core.display.SVG object>"
      ]
     },
     "metadata": {},
     "output_type": "display_data"
    },
    {
     "name": "stdout",
     "output_type": "stream",
     "text": [
      "t62h\n"
     ]
    },
    {
     "data": {
      "image/svg+xml": [
       "<svg xmlns=\"http://www.w3.org/2000/svg\" xmlns:rdkit=\"http://www.rdkit.org/xml\" xmlns:xlink=\"http://www.w3.org/1999/xlink\" version=\"1.1\" baseProfile=\"full\" xml:space=\"preserve\" width=\"600px\" height=\"300px\" viewBox=\"0 0 600 300\">\n",
       "<!-- END OF HEADER -->\n",
       "<rect style=\"opacity:1.0;fill:#FFFFFF;stroke:none\" width=\"600.0\" height=\"300.0\" x=\"0.0\" y=\"0.0\"> </rect>\n",
       "<path class=\"bond-0 atom-0 atom-1\" d=\"M 180.1,128.4 L 198.4,138.9 L 151.0,166.3 L 128.6,158.1 Z\" style=\"fill:#FF7F7F;fill-rule:evenodd;fill-opacity:1;stroke:#FF7F7F;stroke-width:0.0px;stroke-linecap:butt;stroke-linejoin:miter;stroke-opacity:1;\"/>\n",
       "<path class=\"bond-3 atom-0 atom-4\" d=\"M 198.4,76.6 L 198.4,138.9 L 180.1,128.4 L 180.1,76.6 Z\" style=\"fill:#FF7F7F;fill-rule:evenodd;fill-opacity:1;stroke:#FF7F7F;stroke-width:0.0px;stroke-linecap:butt;stroke-linejoin:miter;stroke-opacity:1;\"/>\n",
       "<path class=\"bond-1 atom-1 atom-2\" d=\"M 128.6,158.1 L 151.0,166.3 L 167.9,212.7 L 150.8,218.9 Z\" style=\"fill:#FF7F7F;fill-rule:evenodd;fill-opacity:1;stroke:#FF7F7F;stroke-width:0.0px;stroke-linecap:butt;stroke-linejoin:miter;stroke-opacity:1;\"/>\n",
       "<ellipse cx=\"189.2\" cy=\"133.6\" rx=\"17.1\" ry=\"17.1\" class=\"atom-0\" style=\"fill:#FF7F7F;fill-rule:evenodd;stroke:#FF7F7F;stroke-width:1.0px;stroke-linecap:butt;stroke-linejoin:miter;stroke-opacity:1\"/>\n",
       "<ellipse cx=\"139.8\" cy=\"162.2\" rx=\"17.1\" ry=\"17.1\" class=\"atom-1\" style=\"fill:#FF7F7F;fill-rule:evenodd;stroke:#FF7F7F;stroke-width:1.0px;stroke-linecap:butt;stroke-linejoin:miter;stroke-opacity:1\"/>\n",
       "<ellipse cx=\"159.3\" cy=\"215.8\" rx=\"17.1\" ry=\"17.1\" class=\"atom-2\" style=\"fill:#FF7F7F;fill-rule:evenodd;stroke:#FF7F7F;stroke-width:1.0px;stroke-linecap:butt;stroke-linejoin:miter;stroke-opacity:1\"/>\n",
       "<ellipse cx=\"189.2\" cy=\"76.6\" rx=\"17.1\" ry=\"17.1\" class=\"atom-4\" style=\"fill:#FF7F7F;fill-rule:evenodd;stroke:#FF7F7F;stroke-width:1.0px;stroke-linecap:butt;stroke-linejoin:miter;stroke-opacity:1\"/>\n",
       "<path class=\"bond-0 atom-0 atom-1\" d=\"M 178.2,140.0 L 159.0,151.1\" style=\"fill:none;fill-rule:evenodd;stroke:#0000FF;stroke-width:2.0px;stroke-linecap:butt;stroke-linejoin:miter;stroke-opacity:1\"/>\n",
       "<path class=\"bond-0 atom-0 atom-1\" d=\"M 159.0,151.1 L 139.8,162.2\" style=\"fill:none;fill-rule:evenodd;stroke:#000000;stroke-width:2.0px;stroke-linecap:butt;stroke-linejoin:miter;stroke-opacity:1\"/>\n",
       "<path class=\"bond-1 atom-1 atom-2\" d=\"M 139.8,162.2 L 159.3,215.8\" style=\"fill:none;fill-rule:evenodd;stroke:#000000;stroke-width:2.0px;stroke-linecap:butt;stroke-linejoin:miter;stroke-opacity:1\"/>\n",
       "<path class=\"bond-2 atom-2 atom-3\" d=\"M 159.3,215.8 L 103.1,205.9\" style=\"fill:none;fill-rule:evenodd;stroke:#000000;stroke-width:2.0px;stroke-linecap:butt;stroke-linejoin:miter;stroke-opacity:1\"/>\n",
       "<path class=\"bond-3 atom-0 atom-4\" d=\"M 189.2,119.6 L 189.2,98.1\" style=\"fill:none;fill-rule:evenodd;stroke:#0000FF;stroke-width:2.0px;stroke-linecap:butt;stroke-linejoin:miter;stroke-opacity:1\"/>\n",
       "<path class=\"bond-3 atom-0 atom-4\" d=\"M 189.2,98.1 L 189.2,76.6\" style=\"fill:none;fill-rule:evenodd;stroke:#000000;stroke-width:2.0px;stroke-linecap:butt;stroke-linejoin:miter;stroke-opacity:1\"/>\n",
       "<path class=\"bond-4 atom-3 atom-1\" d=\"M 103.1,205.9 L 139.8,162.2\" style=\"fill:none;fill-rule:evenodd;stroke:#000000;stroke-width:2.0px;stroke-linecap:butt;stroke-linejoin:miter;stroke-opacity:1\"/>\n",
       "<path class=\"bond-5 atom-0 atom-5\" d=\"M 200.3,140.0 L 213.8,147.8\" style=\"fill:none;fill-rule:evenodd;stroke:#0000FF;stroke-width:2.0px;stroke-linecap:butt;stroke-linejoin:miter;stroke-opacity:1\"/>\n",
       "<path class=\"bond-5 atom-0 atom-5\" d=\"M 213.8,147.8 L 227.3,155.6\" style=\"fill:none;fill-rule:evenodd;stroke:#000000;stroke-width:2.0px;stroke-linecap:butt;stroke-linejoin:miter;stroke-opacity:1\"/>\n",
       "<path class=\"bond-6 atom-1 atom-6\" d=\"M 139.8,162.2 L 114.5,132.0\" style=\"fill:none;fill-rule:evenodd;stroke:#000000;stroke-width:2.0px;stroke-linecap:butt;stroke-linejoin:miter;stroke-opacity:1\"/>\n",
       "<path class=\"bond-7 atom-2 atom-7\" d=\"M 159.3,215.8 L 159.3,258.9\" style=\"fill:none;fill-rule:evenodd;stroke:#000000;stroke-width:2.0px;stroke-linecap:butt;stroke-linejoin:miter;stroke-opacity:1\"/>\n",
       "<path class=\"bond-8 atom-2 atom-8\" d=\"M 159.3,215.8 L 204.2,207.9\" style=\"fill:none;fill-rule:evenodd;stroke:#000000;stroke-width:2.0px;stroke-linecap:butt;stroke-linejoin:miter;stroke-opacity:1\"/>\n",
       "<path class=\"bond-9 atom-3 atom-9\" d=\"M 103.1,205.9 L 65.1,183.9\" style=\"fill:none;fill-rule:evenodd;stroke:#000000;stroke-width:2.0px;stroke-linecap:butt;stroke-linejoin:miter;stroke-opacity:1\"/>\n",
       "<path class=\"bond-10 atom-3 atom-10\" d=\"M 103.1,205.9 L 88.7,245.5\" style=\"fill:none;fill-rule:evenodd;stroke:#000000;stroke-width:2.0px;stroke-linecap:butt;stroke-linejoin:miter;stroke-opacity:1\"/>\n",
       "<path class=\"bond-11 atom-4 atom-11\" d=\"M 189.2,76.6 L 234.9,76.6\" style=\"fill:none;fill-rule:evenodd;stroke:#000000;stroke-width:2.0px;stroke-linecap:butt;stroke-linejoin:miter;stroke-opacity:1\"/>\n",
       "<path class=\"bond-12 atom-4 atom-12\" d=\"M 189.2,76.6 L 209.7,41.1\" style=\"fill:none;fill-rule:evenodd;stroke:#000000;stroke-width:2.0px;stroke-linecap:butt;stroke-linejoin:miter;stroke-opacity:1\"/>\n",
       "<path class=\"bond-13 atom-4 atom-13\" d=\"M 189.2,76.6 L 151.2,54.6\" style=\"fill:none;fill-rule:evenodd;stroke:#000000;stroke-width:2.0px;stroke-linecap:butt;stroke-linejoin:miter;stroke-opacity:1\"/>\n",
       "<path class=\"atom-0\" d=\"M 183.9 121.5 L 191.8 134.3 Q 192.6 135.6, 193.9 137.9 Q 195.2 140.2, 195.2 140.3 L 195.2 121.5 L 198.4 121.5 L 198.4 145.8 L 195.1 145.8 L 186.6 131.7 Q 185.6 130.1, 184.5 128.2 Q 183.5 126.3, 183.2 125.7 L 183.2 145.8 L 180.1 145.8 L 180.1 121.5 L 183.9 121.5 \" fill=\"#0000FF\"/>\n",
       "<path class=\"atom-5\" d=\"M 229.2 150.0 L 232.5 150.0 L 232.5 160.3 L 244.9 160.3 L 244.9 150.0 L 248.2 150.0 L 248.2 174.3 L 244.9 174.3 L 244.9 163.1 L 232.5 163.1 L 232.5 174.3 L 229.2 174.3 L 229.2 150.0 \" fill=\"#000000\"/>\n",
       "<path class=\"atom-6\" d=\"M 93.6 106.3 L 96.9 106.3 L 96.9 116.6 L 109.3 116.6 L 109.3 106.3 L 112.6 106.3 L 112.6 130.6 L 109.3 130.6 L 109.3 119.4 L 96.9 119.4 L 96.9 130.6 L 93.6 130.6 L 93.6 106.3 \" fill=\"#000000\"/>\n",
       "<path class=\"atom-7\" d=\"M 149.9 260.8 L 153.2 260.8 L 153.2 271.1 L 165.5 271.1 L 165.5 260.8 L 168.8 260.8 L 168.8 285.0 L 165.5 285.0 L 165.5 273.8 L 153.2 273.8 L 153.2 285.0 L 149.9 285.0 L 149.9 260.8 \" fill=\"#000000\"/>\n",
       "<path class=\"atom-8\" d=\"M 206.1 193.8 L 209.3 193.8 L 209.3 204.1 L 221.7 204.1 L 221.7 193.8 L 225.0 193.8 L 225.0 218.0 L 221.7 218.0 L 221.7 206.8 L 209.3 206.8 L 209.3 218.0 L 206.1 218.0 L 206.1 193.8 \" fill=\"#000000\"/>\n",
       "<path class=\"atom-9\" d=\"M 44.2 165.3 L 47.5 165.3 L 47.5 175.6 L 59.9 175.6 L 59.9 165.3 L 63.2 165.3 L 63.2 189.5 L 59.9 189.5 L 59.9 178.3 L 47.5 178.3 L 47.5 189.5 L 44.2 189.5 L 44.2 165.3 \" fill=\"#000000\"/>\n",
       "<path class=\"atom-10\" d=\"M 74.1 247.4 L 77.4 247.4 L 77.4 257.7 L 89.8 257.7 L 89.8 247.4 L 93.1 247.4 L 93.1 271.7 L 89.8 271.7 L 89.8 260.5 L 77.4 260.5 L 77.4 271.7 L 74.1 271.7 L 74.1 247.4 \" fill=\"#000000\"/>\n",
       "<path class=\"atom-11\" d=\"M 236.8 64.4 L 240.1 64.4 L 240.1 74.7 L 252.5 74.7 L 252.5 64.4 L 255.8 64.4 L 255.8 88.7 L 252.5 88.7 L 252.5 77.5 L 240.1 77.5 L 240.1 88.7 L 236.8 88.7 L 236.8 64.4 \" fill=\"#000000\"/>\n",
       "<path class=\"atom-12\" d=\"M 208.3 15.0 L 211.6 15.0 L 211.6 25.3 L 224.0 25.3 L 224.0 15.0 L 227.2 15.0 L 227.2 39.2 L 224.0 39.2 L 224.0 28.0 L 211.6 28.0 L 211.6 39.2 L 208.3 39.2 L 208.3 15.0 \" fill=\"#000000\"/>\n",
       "<path class=\"atom-13\" d=\"M 130.3 35.9 L 133.6 35.9 L 133.6 46.2 L 146.0 46.2 L 146.0 35.9 L 149.3 35.9 L 149.3 60.2 L 146.0 60.2 L 146.0 49.0 L 133.6 49.0 L 133.6 60.2 L 130.3 60.2 L 130.3 35.9 \" fill=\"#000000\"/>\n",
       "</svg>"
      ],
      "text/plain": [
       "<IPython.core.display.SVG object>"
      ]
     },
     "metadata": {},
     "output_type": "display_data"
    },
    {
     "name": "stdout",
     "output_type": "stream",
     "text": [
      "t143i\n"
     ]
    },
    {
     "data": {
      "image/svg+xml": [
       "<svg xmlns=\"http://www.w3.org/2000/svg\" xmlns:rdkit=\"http://www.rdkit.org/xml\" xmlns:xlink=\"http://www.w3.org/1999/xlink\" version=\"1.1\" baseProfile=\"full\" xml:space=\"preserve\" width=\"600px\" height=\"300px\" viewBox=\"0 0 600 300\">\n",
       "<!-- END OF HEADER -->\n",
       "<rect style=\"opacity:1.0;fill:#FFFFFF;stroke:none\" width=\"600.0\" height=\"300.0\" x=\"0.0\" y=\"0.0\"> </rect>\n",
       "<path class=\"bond-0 atom-0 atom-1\" d=\"M 131.7,134.6 L 168.3,155.6 L 168.3,171.2 L 131.7,150.2 Z\" style=\"fill:#FF7F7F;fill-rule:evenodd;fill-opacity:1;stroke:#FF7F7F;stroke-width:0.0px;stroke-linecap:butt;stroke-linejoin:miter;stroke-opacity:1;\"/>\n",
       "<path class=\"bond-4 atom-0 atom-5\" d=\"M 131.7,134.6 L 131.7,150.2 L 98.5,169.4 L 91.8,157.7 Z\" style=\"fill:#FF7F7F;fill-rule:evenodd;fill-opacity:1;stroke:#FF7F7F;stroke-width:0.0px;stroke-linecap:butt;stroke-linejoin:miter;stroke-opacity:1;\"/>\n",
       "<path class=\"bond-1 atom-1 atom-2\" d=\"M 201.5,136.4 L 208.2,148.1 L 168.3,171.2 L 168.3,155.6 Z\" style=\"fill:#FF7F7F;fill-rule:evenodd;fill-opacity:1;stroke:#FF7F7F;stroke-width:0.0px;stroke-linecap:butt;stroke-linejoin:miter;stroke-opacity:1;\"/>\n",
       "<ellipse cx=\"131.7\" cy=\"142.6\" rx=\"12.7\" ry=\"13.0\" class=\"atom-0\" style=\"fill:#FF7F7F;fill-rule:evenodd;stroke:#FF7F7F;stroke-width:1.0px;stroke-linecap:butt;stroke-linejoin:miter;stroke-opacity:1\"/>\n",
       "<ellipse cx=\"168.3\" cy=\"163.4\" rx=\"12.7\" ry=\"12.7\" class=\"atom-1\" style=\"fill:#FF7F7F;fill-rule:evenodd;stroke:#FF7F7F;stroke-width:1.0px;stroke-linecap:butt;stroke-linejoin:miter;stroke-opacity:1\"/>\n",
       "<ellipse cx=\"204.8\" cy=\"142.3\" rx=\"12.7\" ry=\"12.7\" class=\"atom-2\" style=\"fill:#FF7F7F;fill-rule:evenodd;stroke:#FF7F7F;stroke-width:1.0px;stroke-linecap:butt;stroke-linejoin:miter;stroke-opacity:1\"/>\n",
       "<ellipse cx=\"95.2\" cy=\"163.6\" rx=\"12.7\" ry=\"13.0\" class=\"atom-5\" style=\"fill:#FF7F7F;fill-rule:evenodd;stroke:#FF7F7F;stroke-width:1.0px;stroke-linecap:butt;stroke-linejoin:miter;stroke-opacity:1\"/>\n",
       "<path class=\"bond-0 atom-0 atom-1\" d=\"M 138.9,146.5 L 149.5,152.6\" style=\"fill:none;fill-rule:evenodd;stroke:#CCCC00;stroke-width:2.0px;stroke-linecap:butt;stroke-linejoin:miter;stroke-opacity:1\"/>\n",
       "<path class=\"bond-0 atom-0 atom-1\" d=\"M 149.5,152.6 L 160.1,158.7\" style=\"fill:none;fill-rule:evenodd;stroke:#0000FF;stroke-width:2.0px;stroke-linecap:butt;stroke-linejoin:miter;stroke-opacity:1\"/>\n",
       "<path class=\"bond-1 atom-1 atom-2\" d=\"M 176.5,158.7 L 190.7,150.5\" style=\"fill:none;fill-rule:evenodd;stroke:#0000FF;stroke-width:2.0px;stroke-linecap:butt;stroke-linejoin:miter;stroke-opacity:1\"/>\n",
       "<path class=\"bond-1 atom-1 atom-2\" d=\"M 190.7,150.5 L 204.8,142.3\" style=\"fill:none;fill-rule:evenodd;stroke:#000000;stroke-width:2.0px;stroke-linecap:butt;stroke-linejoin:miter;stroke-opacity:1\"/>\n",
       "<path class=\"bond-1 atom-1 atom-2\" d=\"M 173.3,153.2 L 185.9,145.9\" style=\"fill:none;fill-rule:evenodd;stroke:#0000FF;stroke-width:2.0px;stroke-linecap:butt;stroke-linejoin:miter;stroke-opacity:1\"/>\n",
       "<path class=\"bond-1 atom-1 atom-2\" d=\"M 185.9,145.9 L 198.5,138.6\" style=\"fill:none;fill-rule:evenodd;stroke:#000000;stroke-width:2.0px;stroke-linecap:butt;stroke-linejoin:miter;stroke-opacity:1\"/>\n",
       "<path class=\"bond-2 atom-2 atom-3\" d=\"M 204.8,142.3 L 241.4,163.4\" style=\"fill:none;fill-rule:evenodd;stroke:#000000;stroke-width:2.0px;stroke-linecap:butt;stroke-linejoin:miter;stroke-opacity:1\"/>\n",
       "<path class=\"bond-3 atom-0 atom-4\" d=\"M 134.9,132.0 L 134.9,121.4\" style=\"fill:none;fill-rule:evenodd;stroke:#CCCC00;stroke-width:2.0px;stroke-linecap:butt;stroke-linejoin:miter;stroke-opacity:1\"/>\n",
       "<path class=\"bond-3 atom-0 atom-4\" d=\"M 134.9,121.4 L 134.8,110.9\" style=\"fill:none;fill-rule:evenodd;stroke:#FF0000;stroke-width:2.0px;stroke-linecap:butt;stroke-linejoin:miter;stroke-opacity:1\"/>\n",
       "<path class=\"bond-3 atom-0 atom-4\" d=\"M 128.5,132.0 L 128.5,121.4\" style=\"fill:none;fill-rule:evenodd;stroke:#CCCC00;stroke-width:2.0px;stroke-linecap:butt;stroke-linejoin:miter;stroke-opacity:1\"/>\n",
       "<path class=\"bond-3 atom-0 atom-4\" d=\"M 128.5,121.4 L 128.5,110.9\" style=\"fill:none;fill-rule:evenodd;stroke:#FF0000;stroke-width:2.0px;stroke-linecap:butt;stroke-linejoin:miter;stroke-opacity:1\"/>\n",
       "<path class=\"bond-4 atom-0 atom-5\" d=\"M 124.6,146.5 L 114.7,152.2\" style=\"fill:none;fill-rule:evenodd;stroke:#CCCC00;stroke-width:2.0px;stroke-linecap:butt;stroke-linejoin:miter;stroke-opacity:1\"/>\n",
       "<path class=\"bond-4 atom-0 atom-5\" d=\"M 114.7,152.2 L 104.8,157.9\" style=\"fill:none;fill-rule:evenodd;stroke:#FF0000;stroke-width:2.0px;stroke-linecap:butt;stroke-linejoin:miter;stroke-opacity:1\"/>\n",
       "<path class=\"bond-5 atom-5 atom-6\" d=\"M 85.5,158.0 L 72.0,150.2\" style=\"fill:none;fill-rule:evenodd;stroke:#FF0000;stroke-width:2.0px;stroke-linecap:butt;stroke-linejoin:miter;stroke-opacity:1\"/>\n",
       "<path class=\"bond-5 atom-5 atom-6\" d=\"M 72.0,150.2 L 58.6,142.4\" style=\"fill:none;fill-rule:evenodd;stroke:#000000;stroke-width:2.0px;stroke-linecap:butt;stroke-linejoin:miter;stroke-opacity:1\"/>\n",
       "<path class=\"bond-6 atom-2 atom-7\" d=\"M 204.8,142.3 L 204.8,110.4\" style=\"fill:none;fill-rule:evenodd;stroke:#000000;stroke-width:2.0px;stroke-linecap:butt;stroke-linejoin:miter;stroke-opacity:1\"/>\n",
       "<path class=\"bond-7 atom-3 atom-8\" d=\"M 241.4,163.4 L 226.3,189.6\" style=\"fill:none;fill-rule:evenodd;stroke:#000000;stroke-width:2.0px;stroke-linecap:butt;stroke-linejoin:miter;stroke-opacity:1\"/>\n",
       "<path class=\"bond-8 atom-3 atom-9\" d=\"M 241.4,163.4 L 256.6,189.6\" style=\"fill:none;fill-rule:evenodd;stroke:#000000;stroke-width:2.0px;stroke-linecap:butt;stroke-linejoin:miter;stroke-opacity:1\"/>\n",
       "<path class=\"bond-9 atom-3 atom-10\" d=\"M 241.4,163.4 L 269.6,147.1\" style=\"fill:none;fill-rule:evenodd;stroke:#000000;stroke-width:2.0px;stroke-linecap:butt;stroke-linejoin:miter;stroke-opacity:1\"/>\n",
       "<path class=\"bond-10 atom-6 atom-11\" d=\"M 58.6,142.4 L 73.7,116.2\" style=\"fill:none;fill-rule:evenodd;stroke:#000000;stroke-width:2.0px;stroke-linecap:butt;stroke-linejoin:miter;stroke-opacity:1\"/>\n",
       "<path class=\"bond-11 atom-6 atom-12\" d=\"M 58.6,142.4 L 43.4,116.2\" style=\"fill:none;fill-rule:evenodd;stroke:#000000;stroke-width:2.0px;stroke-linecap:butt;stroke-linejoin:miter;stroke-opacity:1\"/>\n",
       "<path class=\"bond-12 atom-6 atom-13\" d=\"M 58.6,142.4 L 30.4,158.7\" style=\"fill:none;fill-rule:evenodd;stroke:#000000;stroke-width:2.0px;stroke-linecap:butt;stroke-linejoin:miter;stroke-opacity:1\"/>\n",
       "<path class=\"atom-0\" d=\"M 126.6 148.5 Q 126.8 148.6, 127.7 148.9 Q 128.5 149.3, 129.4 149.5 Q 130.4 149.7, 131.3 149.7 Q 133.0 149.7, 134.0 148.9 Q 135.0 148.1, 135.0 146.6 Q 135.0 145.7, 134.4 145.0 Q 134.0 144.4, 133.2 144.1 Q 132.4 143.8, 131.2 143.4 Q 129.6 142.9, 128.6 142.5 Q 127.7 142.0, 127.0 141.0 Q 126.3 140.1, 126.3 138.5 Q 126.3 136.2, 127.9 134.8 Q 129.4 133.4, 132.4 133.4 Q 134.5 133.4, 136.9 134.4 L 136.3 136.4 Q 134.1 135.5, 132.5 135.5 Q 130.8 135.5, 129.8 136.2 Q 128.8 136.9, 128.9 138.2 Q 128.9 139.1, 129.4 139.7 Q 129.9 140.3, 130.6 140.6 Q 131.3 140.9, 132.5 141.3 Q 134.1 141.8, 135.1 142.3 Q 136.1 142.8, 136.7 143.9 Q 137.5 144.9, 137.5 146.6 Q 137.5 149.1, 135.8 150.5 Q 134.1 151.8, 131.4 151.8 Q 129.8 151.8, 128.6 151.4 Q 127.4 151.1, 126.0 150.5 L 126.6 148.5 \" fill=\"#CCCC00\"/>\n",
       "<path class=\"atom-1\" d=\"M 164.3 154.5 L 170.2 164.0 Q 170.8 164.9, 171.7 166.6 Q 172.7 168.3, 172.7 168.4 L 172.7 154.5 L 175.1 154.5 L 175.1 172.4 L 172.6 172.4 L 166.3 162.0 Q 165.6 160.8, 164.8 159.4 Q 164.0 158.0, 163.8 157.6 L 163.8 172.4 L 161.5 172.4 L 161.5 154.5 L 164.3 154.5 \" fill=\"#0000FF\"/>\n",
       "<path class=\"atom-4\" d=\"M 123.4 100.2 Q 123.4 95.9, 125.6 93.5 Q 127.7 91.1, 131.7 91.1 Q 135.7 91.1, 137.8 93.5 Q 139.9 95.9, 139.9 100.2 Q 139.9 104.5, 137.8 107.0 Q 135.6 109.5, 131.7 109.5 Q 127.7 109.5, 125.6 107.0 Q 123.4 104.6, 123.4 100.2 M 131.7 107.5 Q 134.4 107.5, 135.9 105.6 Q 137.4 103.8, 137.4 100.2 Q 137.4 96.7, 135.9 94.9 Q 134.4 93.1, 131.7 93.1 Q 128.9 93.1, 127.4 94.9 Q 126.0 96.6, 126.0 100.2 Q 126.0 103.8, 127.4 105.6 Q 128.9 107.5, 131.7 107.5 \" fill=\"#FF0000\"/>\n",
       "<path class=\"atom-5\" d=\"M 86.9 163.6 Q 86.9 159.2, 89.0 156.8 Q 91.2 154.4, 95.2 154.4 Q 99.1 154.4, 101.3 156.8 Q 103.4 159.2, 103.4 163.6 Q 103.4 167.9, 101.2 170.4 Q 99.1 172.9, 95.2 172.9 Q 91.2 172.9, 89.0 170.4 Q 86.9 167.9, 86.9 163.6 M 95.2 170.8 Q 97.9 170.8, 99.4 169.0 Q 100.9 167.2, 100.9 163.6 Q 100.9 160.0, 99.4 158.3 Q 97.9 156.5, 95.2 156.5 Q 92.4 156.5, 90.9 158.2 Q 89.5 160.0, 89.5 163.6 Q 89.5 167.2, 90.9 169.0 Q 92.4 170.8, 95.2 170.8 \" fill=\"#FF0000\"/>\n",
       "<path class=\"atom-7\" d=\"M 197.8 91.1 L 200.2 91.1 L 200.2 98.7 L 209.4 98.7 L 209.4 91.1 L 211.8 91.1 L 211.8 109.0 L 209.4 109.0 L 209.4 100.8 L 200.2 100.8 L 200.2 109.0 L 197.8 109.0 L 197.8 91.1 \" fill=\"#000000\"/>\n",
       "<path class=\"atom-8\" d=\"M 213.3 191.0 L 215.8 191.0 L 215.8 198.6 L 224.9 198.6 L 224.9 191.0 L 227.4 191.0 L 227.4 208.9 L 224.9 208.9 L 224.9 200.7 L 215.8 200.7 L 215.8 208.9 L 213.3 208.9 L 213.3 191.0 \" fill=\"#000000\"/>\n",
       "<path class=\"atom-9\" d=\"M 255.6 191.0 L 258.0 191.0 L 258.0 198.6 L 267.2 198.6 L 267.2 191.0 L 269.6 191.0 L 269.6 208.9 L 267.2 208.9 L 267.2 200.6 L 258.0 200.6 L 258.0 208.9 L 255.6 208.9 L 255.6 191.0 \" fill=\"#000000\"/>\n",
       "<path class=\"atom-10\" d=\"M 271.0 133.3 L 273.4 133.3 L 273.4 140.9 L 282.6 140.9 L 282.6 133.3 L 285.0 133.3 L 285.0 151.2 L 282.6 151.2 L 282.6 142.9 L 273.4 142.9 L 273.4 151.2 L 271.0 151.2 L 271.0 133.3 \" fill=\"#000000\"/>\n",
       "<path class=\"atom-11\" d=\"M 72.6 96.9 L 75.1 96.9 L 75.1 104.5 L 84.2 104.5 L 84.2 96.9 L 86.7 96.9 L 86.7 114.8 L 84.2 114.8 L 84.2 106.5 L 75.1 106.5 L 75.1 114.8 L 72.6 114.8 L 72.6 96.9 \" fill=\"#000000\"/>\n",
       "<path class=\"atom-12\" d=\"M 30.4 96.9 L 32.8 96.9 L 32.8 104.5 L 42.0 104.5 L 42.0 96.9 L 44.4 96.9 L 44.4 114.8 L 42.0 114.8 L 42.0 106.5 L 32.8 106.5 L 32.8 114.8 L 30.4 114.8 L 30.4 96.9 \" fill=\"#000000\"/>\n",
       "<path class=\"atom-13\" d=\"M 15.0 154.6 L 17.4 154.6 L 17.4 162.2 L 26.6 162.2 L 26.6 154.6 L 29.0 154.6 L 29.0 172.5 L 26.6 172.5 L 26.6 164.2 L 17.4 164.2 L 17.4 172.5 L 15.0 172.5 L 15.0 154.6 \" fill=\"#000000\"/>\n",
       "</svg>"
      ],
      "text/plain": [
       "<IPython.core.display.SVG object>"
      ]
     },
     "metadata": {},
     "output_type": "display_data"
    },
    {
     "name": "stdout",
     "output_type": "stream",
     "text": [
      "t42a\n"
     ]
    },
    {
     "data": {
      "image/svg+xml": [
       "<svg xmlns=\"http://www.w3.org/2000/svg\" xmlns:rdkit=\"http://www.rdkit.org/xml\" xmlns:xlink=\"http://www.w3.org/1999/xlink\" version=\"1.1\" baseProfile=\"full\" xml:space=\"preserve\" width=\"600px\" height=\"300px\" viewBox=\"0 0 600 300\">\n",
       "<!-- END OF HEADER -->\n",
       "<rect style=\"opacity:1.0;fill:#FFFFFF;stroke:none\" width=\"600.0\" height=\"300.0\" x=\"0.0\" y=\"0.0\"> </rect>\n",
       "<path class=\"bond-5 atom-0 atom-2\" d=\"M 127.4,129.6 L 141.7,146.6 L 99.1,197.4 L 82.4,183.3 Z\" style=\"fill:#FF7F7F;fill-rule:evenodd;fill-opacity:1;stroke:#FF7F7F;stroke-width:0.0px;stroke-linecap:butt;stroke-linejoin:miter;stroke-opacity:1;\"/>\n",
       "<path class=\"bond-2 atom-2 atom-3\" d=\"M 182.7,97.7 L 204.6,110.3 L 141.7,146.6 L 127.4,129.6 Z\" style=\"fill:#FF7F7F;fill-rule:evenodd;fill-opacity:1;stroke:#FF7F7F;stroke-width:0.0px;stroke-linecap:butt;stroke-linejoin:miter;stroke-opacity:1;\"/>\n",
       "<path class=\"bond-3 atom-3 atom-4\" d=\"M 204.6,35.7 L 204.6,110.3 L 182.7,97.7 L 182.7,35.7 Z\" style=\"fill:#FF7F7F;fill-rule:evenodd;fill-opacity:1;stroke:#FF7F7F;stroke-width:0.0px;stroke-linecap:butt;stroke-linejoin:miter;stroke-opacity:1;\"/>\n",
       "<ellipse cx=\"90.7\" cy=\"190.4\" rx=\"20.5\" ry=\"20.5\" class=\"atom-0\" style=\"fill:#FF7F7F;fill-rule:evenodd;stroke:#FF7F7F;stroke-width:1.0px;stroke-linecap:butt;stroke-linejoin:miter;stroke-opacity:1\"/>\n",
       "<ellipse cx=\"134.6\" cy=\"138.1\" rx=\"20.5\" ry=\"20.5\" class=\"atom-2\" style=\"fill:#FF7F7F;fill-rule:evenodd;stroke:#FF7F7F;stroke-width:1.0px;stroke-linecap:butt;stroke-linejoin:miter;stroke-opacity:1\"/>\n",
       "<ellipse cx=\"193.7\" cy=\"104.0\" rx=\"20.5\" ry=\"20.5\" class=\"atom-3\" style=\"fill:#FF7F7F;fill-rule:evenodd;stroke:#FF7F7F;stroke-width:1.0px;stroke-linecap:butt;stroke-linejoin:miter;stroke-opacity:1\"/>\n",
       "<ellipse cx=\"193.6\" cy=\"36.0\" rx=\"20.5\" ry=\"20.6\" class=\"atom-4\" style=\"fill:#FF7F7F;fill-rule:evenodd;stroke:#FF7F7F;stroke-width:1.0px;stroke-linecap:butt;stroke-linejoin:miter;stroke-opacity:1\"/>\n",
       "<path class=\"bond-0 atom-0 atom-1\" d=\"M 90.7,190.4 L 157.9,202.2\" style=\"fill:none;fill-rule:evenodd;stroke:#000000;stroke-width:2.0px;stroke-linecap:butt;stroke-linejoin:miter;stroke-opacity:1\"/>\n",
       "<path class=\"bond-1 atom-1 atom-2\" d=\"M 157.9,202.2 L 134.6,138.1\" style=\"fill:none;fill-rule:evenodd;stroke:#000000;stroke-width:2.0px;stroke-linecap:butt;stroke-linejoin:miter;stroke-opacity:1\"/>\n",
       "<path class=\"bond-2 atom-2 atom-3\" d=\"M 134.6,138.1 L 193.7,104.0\" style=\"fill:none;fill-rule:evenodd;stroke:#000000;stroke-width:2.0px;stroke-linecap:butt;stroke-linejoin:miter;stroke-opacity:1\"/>\n",
       "<path class=\"bond-3 atom-3 atom-4\" d=\"M 198.8,106.9 L 198.8,79.8\" style=\"fill:none;fill-rule:evenodd;stroke:#000000;stroke-width:2.0px;stroke-linecap:butt;stroke-linejoin:miter;stroke-opacity:1\"/>\n",
       "<path class=\"bond-3 atom-3 atom-4\" d=\"M 198.8,79.8 L 198.8,52.8\" style=\"fill:none;fill-rule:evenodd;stroke:#FF0000;stroke-width:2.0px;stroke-linecap:butt;stroke-linejoin:miter;stroke-opacity:1\"/>\n",
       "<path class=\"bond-3 atom-3 atom-4\" d=\"M 188.5,106.9 L 188.5,79.8\" style=\"fill:none;fill-rule:evenodd;stroke:#000000;stroke-width:2.0px;stroke-linecap:butt;stroke-linejoin:miter;stroke-opacity:1\"/>\n",
       "<path class=\"bond-3 atom-3 atom-4\" d=\"M 188.5,79.8 L 188.5,52.8\" style=\"fill:none;fill-rule:evenodd;stroke:#FF0000;stroke-width:2.0px;stroke-linecap:butt;stroke-linejoin:miter;stroke-opacity:1\"/>\n",
       "<path class=\"bond-4 atom-3 atom-5\" d=\"M 193.7,104.0 L 215.6,116.6\" style=\"fill:none;fill-rule:evenodd;stroke:#000000;stroke-width:2.0px;stroke-linecap:butt;stroke-linejoin:miter;stroke-opacity:1\"/>\n",
       "<path class=\"bond-4 atom-3 atom-5\" d=\"M 215.6,116.6 L 237.5,129.3\" style=\"fill:none;fill-rule:evenodd;stroke:#FF0000;stroke-width:2.0px;stroke-linecap:butt;stroke-linejoin:miter;stroke-opacity:1\"/>\n",
       "<path class=\"bond-5 atom-2 atom-0\" d=\"M 134.6,138.1 L 90.7,190.4\" style=\"fill:none;fill-rule:evenodd;stroke:#000000;stroke-width:2.0px;stroke-linecap:butt;stroke-linejoin:miter;stroke-opacity:1\"/>\n",
       "<path class=\"bond-6 atom-0 atom-6\" d=\"M 90.7,190.4 L 44.9,163.9\" style=\"fill:none;fill-rule:evenodd;stroke:#000000;stroke-width:2.0px;stroke-linecap:butt;stroke-linejoin:miter;stroke-opacity:1\"/>\n",
       "<path class=\"bond-7 atom-0 atom-7\" d=\"M 90.7,190.4 L 73.4,238.1\" style=\"fill:none;fill-rule:evenodd;stroke:#000000;stroke-width:2.0px;stroke-linecap:butt;stroke-linejoin:miter;stroke-opacity:1\"/>\n",
       "<path class=\"bond-8 atom-1 atom-8\" d=\"M 157.9,202.2 L 157.9,254.0\" style=\"fill:none;fill-rule:evenodd;stroke:#000000;stroke-width:2.0px;stroke-linecap:butt;stroke-linejoin:miter;stroke-opacity:1\"/>\n",
       "<path class=\"bond-9 atom-1 atom-9\" d=\"M 157.9,202.2 L 211.8,192.7\" style=\"fill:none;fill-rule:evenodd;stroke:#000000;stroke-width:2.0px;stroke-linecap:butt;stroke-linejoin:miter;stroke-opacity:1\"/>\n",
       "<path class=\"bond-10 atom-2 atom-10\" d=\"M 134.6,138.1 L 104.0,101.7\" style=\"fill:none;fill-rule:evenodd;stroke:#000000;stroke-width:2.0px;stroke-linecap:butt;stroke-linejoin:miter;stroke-opacity:1\"/>\n",
       "<path d=\"M 190.7,105.7 L 193.7,104.0 L 194.7,104.6\" style=\"fill:none;stroke:#000000;stroke-width:2.0px;stroke-linecap:butt;stroke-linejoin:miter;stroke-opacity:1;\"/>\n",
       "<path class=\"atom-4\" d=\"M 180.6 35.8 Q 180.6 29.0, 184.0 25.2 Q 187.4 21.4, 193.6 21.4 Q 199.9 21.4, 203.3 25.2 Q 206.6 29.0, 206.6 35.8 Q 206.6 42.7, 203.2 46.6 Q 199.8 50.5, 193.6 50.5 Q 187.4 50.5, 184.0 46.6 Q 180.6 42.7, 180.6 35.8 M 193.6 47.3 Q 198.0 47.3, 200.3 44.4 Q 202.6 41.5, 202.6 35.8 Q 202.6 30.3, 200.3 27.5 Q 198.0 24.6, 193.6 24.6 Q 189.3 24.6, 187.0 27.4 Q 184.6 30.2, 184.6 35.8 Q 184.6 41.5, 187.0 44.4 Q 189.3 47.3, 193.6 47.3 \" fill=\"#FF0000\"/>\n",
       "<path class=\"atom-5\" d=\"M 239.7 138.2 Q 239.7 131.4, 243.1 127.6 Q 246.5 123.8, 252.7 123.8 Q 259.0 123.8, 262.4 127.6 Q 265.7 131.4, 265.7 138.2 Q 265.7 145.0, 262.3 149.0 Q 258.9 152.8, 252.7 152.8 Q 246.5 152.8, 243.1 149.0 Q 239.7 145.1, 239.7 138.2 M 252.7 149.6 Q 257.1 149.6, 259.4 146.8 Q 261.7 143.8, 261.7 138.2 Q 261.7 132.6, 259.4 129.8 Q 257.1 127.0, 252.7 127.0 Q 248.4 127.0, 246.1 129.8 Q 243.7 132.6, 243.7 138.2 Q 243.7 143.9, 246.1 146.8 Q 248.4 149.6, 252.7 149.6 \" fill=\"#FF0000\"/>\n",
       "<path class=\"atom-5\" d=\"M 269.8 128.4 L 279.5 128.4 L 279.5 130.5 L 269.8 130.5 L 269.8 128.4 \" fill=\"#FF0000\"/>\n",
       "<path class=\"atom-6\" d=\"M 20.5 142.1 L 24.4 142.1 L 24.4 154.1 L 38.9 154.1 L 38.9 142.1 L 42.7 142.1 L 42.7 170.4 L 38.9 170.4 L 38.9 157.3 L 24.4 157.3 L 24.4 170.4 L 20.5 170.4 L 20.5 142.1 \" fill=\"#000000\"/>\n",
       "<path class=\"atom-7\" d=\"M 56.3 240.3 L 60.1 240.3 L 60.1 252.4 L 74.6 252.4 L 74.6 240.3 L 78.5 240.3 L 78.5 268.6 L 74.6 268.6 L 74.6 255.6 L 60.1 255.6 L 60.1 268.6 L 56.3 268.6 L 56.3 240.3 \" fill=\"#000000\"/>\n",
       "<path class=\"atom-8\" d=\"M 146.8 256.3 L 150.7 256.3 L 150.7 268.3 L 165.2 268.3 L 165.2 256.3 L 169.0 256.3 L 169.0 284.6 L 165.2 284.6 L 165.2 271.5 L 150.7 271.5 L 150.7 284.6 L 146.8 284.6 L 146.8 256.3 \" fill=\"#000000\"/>\n",
       "<path class=\"atom-9\" d=\"M 214.0 176.2 L 217.9 176.2 L 217.9 188.2 L 232.3 188.2 L 232.3 176.2 L 236.2 176.2 L 236.2 204.5 L 232.3 204.5 L 232.3 191.4 L 217.9 191.4 L 217.9 204.5 L 214.0 204.5 L 214.0 176.2 \" fill=\"#000000\"/>\n",
       "<path class=\"atom-10\" d=\"M 79.6 71.7 L 83.5 71.7 L 83.5 83.7 L 97.9 83.7 L 97.9 71.7 L 101.8 71.7 L 101.8 100.0 L 97.9 100.0 L 97.9 86.9 L 83.5 86.9 L 83.5 100.0 L 79.6 100.0 L 79.6 71.7 \" fill=\"#000000\"/>\n",
       "</svg>"
      ],
      "text/plain": [
       "<IPython.core.display.SVG object>"
      ]
     },
     "metadata": {},
     "output_type": "display_data"
    },
    {
     "name": "stderr",
     "output_type": "stream",
     "text": [
      "labeling molecules:  95%|█████████████████████████████████████████████████████████▊   | 18/19 [00:00<00:00, 51.76it/s]"
     ]
    },
    {
     "name": "stdout",
     "output_type": "stream",
     "text": [
      "t162\n"
     ]
    },
    {
     "data": {
      "image/svg+xml": [
       "<svg xmlns=\"http://www.w3.org/2000/svg\" xmlns:rdkit=\"http://www.rdkit.org/xml\" xmlns:xlink=\"http://www.w3.org/1999/xlink\" version=\"1.1\" baseProfile=\"full\" xml:space=\"preserve\" width=\"600px\" height=\"300px\" viewBox=\"0 0 600 300\">\n",
       "<!-- END OF HEADER -->\n",
       "<rect style=\"opacity:1.0;fill:#FFFFFF;stroke:none\" width=\"600.0\" height=\"300.0\" x=\"0.0\" y=\"0.0\"> </rect>\n",
       "<path class=\"bond-0 atom-0 atom-1\" d=\"M 163.4,114.5 L 187.6,121.0 L 130.6,153.9 L 113.5,143.4 Z\" style=\"fill:#FF7F7F;fill-rule:evenodd;fill-opacity:1;stroke:#FF7F7F;stroke-width:0.0px;stroke-linecap:butt;stroke-linejoin:miter;stroke-opacity:1;\"/>\n",
       "<path class=\"bond-4 atom-0 atom-5\" d=\"M 113.5,143.4 L 130.6,153.9 L 127.3,213.8 L 109.6,212.8 Z\" style=\"fill:#FF7F7F;fill-rule:evenodd;fill-opacity:1;stroke:#FF7F7F;stroke-width:0.0px;stroke-linecap:butt;stroke-linejoin:miter;stroke-opacity:1;\"/>\n",
       "<path class=\"bond-1 atom-1 atom-2\" d=\"M 155.6,65.5 L 187.6,121.0 L 163.4,114.5 L 140.2,74.4 Z\" style=\"fill:#FF7F7F;fill-rule:evenodd;fill-opacity:1;stroke:#FF7F7F;stroke-width:0.0px;stroke-linecap:butt;stroke-linejoin:miter;stroke-opacity:1;\"/>\n",
       "<ellipse cx=\"122.1\" cy=\"148.6\" rx=\"16.6\" ry=\"16.6\" class=\"atom-0\" style=\"fill:#FF7F7F;fill-rule:evenodd;stroke:#FF7F7F;stroke-width:1.0px;stroke-linecap:butt;stroke-linejoin:miter;stroke-opacity:1\"/>\n",
       "<ellipse cx=\"175.5\" cy=\"117.7\" rx=\"16.6\" ry=\"16.6\" class=\"atom-1\" style=\"fill:#FF7F7F;fill-rule:evenodd;stroke:#FF7F7F;stroke-width:1.0px;stroke-linecap:butt;stroke-linejoin:miter;stroke-opacity:1\"/>\n",
       "<ellipse cx=\"147.9\" cy=\"70.1\" rx=\"16.6\" ry=\"17.1\" class=\"atom-2\" style=\"fill:#FF7F7F;fill-rule:evenodd;stroke:#FF7F7F;stroke-width:1.0px;stroke-linecap:butt;stroke-linejoin:miter;stroke-opacity:1\"/>\n",
       "<ellipse cx=\"118.5\" cy=\"213.3\" rx=\"16.6\" ry=\"16.6\" class=\"atom-5\" style=\"fill:#FF7F7F;fill-rule:evenodd;stroke:#FF7F7F;stroke-width:1.0px;stroke-linecap:butt;stroke-linejoin:miter;stroke-opacity:1\"/>\n",
       "<path class=\"bond-0 atom-0 atom-1\" d=\"M 132.8,142.4 L 149.5,132.8\" style=\"fill:none;fill-rule:evenodd;stroke:#0000FF;stroke-width:2.0px;stroke-linecap:butt;stroke-linejoin:miter;stroke-opacity:1\"/>\n",
       "<path class=\"bond-0 atom-0 atom-1\" d=\"M 149.5,132.8 L 166.2,123.1\" style=\"fill:none;fill-rule:evenodd;stroke:#FF7F00;stroke-width:2.0px;stroke-linecap:butt;stroke-linejoin:miter;stroke-opacity:1\"/>\n",
       "<path class=\"bond-1 atom-1 atom-2\" d=\"M 171.3,102.1 L 165.5,92.0\" style=\"fill:none;fill-rule:evenodd;stroke:#FF7F00;stroke-width:2.0px;stroke-linecap:butt;stroke-linejoin:miter;stroke-opacity:1\"/>\n",
       "<path class=\"bond-1 atom-1 atom-2\" d=\"M 165.5,92.0 L 159.6,82.0\" style=\"fill:none;fill-rule:evenodd;stroke:#FF0000;stroke-width:2.0px;stroke-linecap:butt;stroke-linejoin:miter;stroke-opacity:1\"/>\n",
       "<path class=\"bond-1 atom-1 atom-2\" d=\"M 164.1,106.2 L 158.3,96.2\" style=\"fill:none;fill-rule:evenodd;stroke:#FF7F00;stroke-width:2.0px;stroke-linecap:butt;stroke-linejoin:miter;stroke-opacity:1\"/>\n",
       "<path class=\"bond-1 atom-1 atom-2\" d=\"M 158.3,96.2 L 152.5,86.1\" style=\"fill:none;fill-rule:evenodd;stroke:#FF0000;stroke-width:2.0px;stroke-linecap:butt;stroke-linejoin:miter;stroke-opacity:1\"/>\n",
       "<path class=\"bond-2 atom-1 atom-3\" d=\"M 182.3,131.3 L 190.2,147.4\" style=\"fill:none;fill-rule:evenodd;stroke:#FF7F00;stroke-width:2.0px;stroke-linecap:butt;stroke-linejoin:miter;stroke-opacity:1\"/>\n",
       "<path class=\"bond-2 atom-1 atom-3\" d=\"M 190.2,147.4 L 198.1,163.4\" style=\"fill:none;fill-rule:evenodd;stroke:#000000;stroke-width:2.0px;stroke-linecap:butt;stroke-linejoin:miter;stroke-opacity:1\"/>\n",
       "<path class=\"bond-3 atom-1 atom-4\" d=\"M 184.9,112.3 L 205.9,100.2\" style=\"fill:none;fill-rule:evenodd;stroke:#FF7F00;stroke-width:2.0px;stroke-linecap:butt;stroke-linejoin:miter;stroke-opacity:1\"/>\n",
       "<path class=\"bond-3 atom-1 atom-4\" d=\"M 205.9,100.2 L 226.9,88.0\" style=\"fill:none;fill-rule:evenodd;stroke:#000000;stroke-width:2.0px;stroke-linecap:butt;stroke-linejoin:miter;stroke-opacity:1\"/>\n",
       "<path class=\"bond-4 atom-0 atom-5\" d=\"M 121.3,162.2 L 119.9,187.7\" style=\"fill:none;fill-rule:evenodd;stroke:#0000FF;stroke-width:2.0px;stroke-linecap:butt;stroke-linejoin:miter;stroke-opacity:1\"/>\n",
       "<path class=\"bond-4 atom-0 atom-5\" d=\"M 119.9,187.7 L 118.5,213.3\" style=\"fill:none;fill-rule:evenodd;stroke:#000000;stroke-width:2.0px;stroke-linecap:butt;stroke-linejoin:miter;stroke-opacity:1\"/>\n",
       "<path class=\"bond-5 atom-0 atom-6\" d=\"M 111.3,141.8 L 92.6,129.8\" style=\"fill:none;fill-rule:evenodd;stroke:#0000FF;stroke-width:2.0px;stroke-linecap:butt;stroke-linejoin:miter;stroke-opacity:1\"/>\n",
       "<path class=\"bond-5 atom-0 atom-6\" d=\"M 92.6,129.8 L 73.9,117.8\" style=\"fill:none;fill-rule:evenodd;stroke:#000000;stroke-width:2.0px;stroke-linecap:butt;stroke-linejoin:miter;stroke-opacity:1\"/>\n",
       "<path class=\"bond-6 atom-3 atom-7\" d=\"M 198.1,163.4 L 232.9,151.3\" style=\"fill:none;fill-rule:evenodd;stroke:#000000;stroke-width:2.0px;stroke-linecap:butt;stroke-linejoin:miter;stroke-opacity:1\"/>\n",
       "<path class=\"bond-7 atom-3 atom-8\" d=\"M 198.1,163.4 L 229.1,189.2\" style=\"fill:none;fill-rule:evenodd;stroke:#000000;stroke-width:2.0px;stroke-linecap:butt;stroke-linejoin:miter;stroke-opacity:1\"/>\n",
       "<path class=\"bond-8 atom-3 atom-9\" d=\"M 198.1,163.4 L 182.5,183.4\" style=\"fill:none;fill-rule:evenodd;stroke:#000000;stroke-width:2.0px;stroke-linecap:butt;stroke-linejoin:miter;stroke-opacity:1\"/>\n",
       "<path class=\"bond-9 atom-4 atom-10\" d=\"M 226.9,88.0 L 207.1,53.9\" style=\"fill:none;fill-rule:evenodd;stroke:#000000;stroke-width:2.0px;stroke-linecap:butt;stroke-linejoin:miter;stroke-opacity:1\"/>\n",
       "<path class=\"bond-10 atom-4 atom-11\" d=\"M 226.9,88.0 L 246.3,53.8\" style=\"fill:none;fill-rule:evenodd;stroke:#000000;stroke-width:2.0px;stroke-linecap:butt;stroke-linejoin:miter;stroke-opacity:1\"/>\n",
       "<path class=\"bond-11 atom-4 atom-12\" d=\"M 226.9,88.0 L 264.8,108.3\" style=\"fill:none;fill-rule:evenodd;stroke:#000000;stroke-width:2.0px;stroke-linecap:butt;stroke-linejoin:miter;stroke-opacity:1\"/>\n",
       "<path class=\"bond-12 atom-5 atom-13\" d=\"M 118.5,213.3 L 74.4,211.4\" style=\"fill:none;fill-rule:evenodd;stroke:#000000;stroke-width:2.0px;stroke-linecap:butt;stroke-linejoin:miter;stroke-opacity:1\"/>\n",
       "<path class=\"bond-13 atom-5 atom-14\" d=\"M 118.5,213.3 L 96.9,246.2\" style=\"fill:none;fill-rule:evenodd;stroke:#000000;stroke-width:2.0px;stroke-linecap:butt;stroke-linejoin:miter;stroke-opacity:1\"/>\n",
       "<path class=\"bond-14 atom-5 atom-15\" d=\"M 118.5,213.3 L 153.9,238.6\" style=\"fill:none;fill-rule:evenodd;stroke:#000000;stroke-width:2.0px;stroke-linecap:butt;stroke-linejoin:miter;stroke-opacity:1\"/>\n",
       "<path class=\"bond-15 atom-6 atom-16\" d=\"M 73.9,117.8 L 94.9,84.8\" style=\"fill:none;fill-rule:evenodd;stroke:#000000;stroke-width:2.0px;stroke-linecap:butt;stroke-linejoin:miter;stroke-opacity:1\"/>\n",
       "<path class=\"bond-16 atom-6 atom-17\" d=\"M 73.9,117.8 L 55.6,81.5\" style=\"fill:none;fill-rule:evenodd;stroke:#000000;stroke-width:2.0px;stroke-linecap:butt;stroke-linejoin:miter;stroke-opacity:1\"/>\n",
       "<path class=\"bond-17 atom-6 atom-18\" d=\"M 73.9,117.8 L 35.2,137.0\" style=\"fill:none;fill-rule:evenodd;stroke:#000000;stroke-width:2.0px;stroke-linecap:butt;stroke-linejoin:miter;stroke-opacity:1\"/>\n",
       "<path class=\"atom-0\" d=\"M 116.9 136.9 L 124.6 149.3 Q 125.3 150.6, 126.6 152.8 Q 127.8 155.0, 127.9 155.2 L 127.9 136.9 L 131.0 136.9 L 131.0 160.4 L 127.8 160.4 L 119.5 146.8 Q 118.5 145.2, 117.5 143.4 Q 116.5 141.5, 116.2 141.0 L 116.2 160.4 L 113.1 160.4 L 113.1 136.9 L 116.9 136.9 \" fill=\"#0000FF\"/>\n",
       "<path class=\"atom-1\" d=\"M 175.0 106.0 Q 179.0 106.0, 181.0 107.8 Q 183.0 109.6, 183.0 112.9 Q 183.0 116.2, 180.9 118.0 Q 178.9 119.8, 175.0 119.8 L 171.2 119.8 L 171.2 129.5 L 168.0 129.5 L 168.0 106.0 L 175.0 106.0 M 175.0 117.2 Q 177.3 117.2, 178.5 116.1 Q 179.7 115.0, 179.7 112.9 Q 179.7 110.8, 178.5 109.7 Q 177.3 108.6, 175.0 108.6 L 171.2 108.6 L 171.2 117.2 L 175.0 117.2 \" fill=\"#FF7F00\"/>\n",
       "<path class=\"atom-2\" d=\"M 137.1 70.0 Q 137.1 64.4, 139.9 61.2 Q 142.7 58.1, 147.9 58.1 Q 153.1 58.1, 155.9 61.2 Q 158.7 64.4, 158.7 70.0 Q 158.7 75.7, 155.9 79.0 Q 153.1 82.2, 147.9 82.2 Q 142.7 82.2, 139.9 79.0 Q 137.1 75.8, 137.1 70.0 M 147.9 79.5 Q 151.5 79.5, 153.4 77.2 Q 155.4 74.7, 155.4 70.0 Q 155.4 65.4, 153.4 63.1 Q 151.5 60.7, 147.9 60.7 Q 144.3 60.7, 142.4 63.0 Q 140.4 65.4, 140.4 70.0 Q 140.4 74.8, 142.4 77.2 Q 144.3 79.5, 147.9 79.5 \" fill=\"#FF0000\"/>\n",
       "<path class=\"atom-7\" d=\"M 234.8 135.7 L 238.0 135.7 L 238.0 145.7 L 250.0 145.7 L 250.0 135.7 L 253.2 135.7 L 253.2 159.2 L 250.0 159.2 L 250.0 148.4 L 238.0 148.4 L 238.0 159.2 L 234.8 159.2 L 234.8 135.7 \" fill=\"#000000\"/>\n",
       "<path class=\"atom-8\" d=\"M 230.9 186.6 L 234.1 186.6 L 234.1 196.6 L 246.1 196.6 L 246.1 186.6 L 249.3 186.6 L 249.3 210.1 L 246.1 210.1 L 246.1 199.2 L 234.1 199.2 L 234.1 210.1 L 230.9 210.1 L 230.9 186.6 \" fill=\"#000000\"/>\n",
       "<path class=\"atom-9\" d=\"M 162.6 185.2 L 165.8 185.2 L 165.8 195.2 L 177.8 195.2 L 177.8 185.2 L 181.0 185.2 L 181.0 208.7 L 177.8 208.7 L 177.8 197.9 L 165.8 197.9 L 165.8 208.7 L 162.6 208.7 L 162.6 185.2 \" fill=\"#000000\"/>\n",
       "<path class=\"atom-10\" d=\"M 190.1 28.6 L 193.3 28.6 L 193.3 38.6 L 205.3 38.6 L 205.3 28.6 L 208.5 28.6 L 208.5 52.1 L 205.3 52.1 L 205.3 41.2 L 193.3 41.2 L 193.3 52.1 L 190.1 52.1 L 190.1 28.6 \" fill=\"#000000\"/>\n",
       "<path class=\"atom-11\" d=\"M 244.8 28.4 L 248.0 28.4 L 248.0 38.4 L 260.1 38.4 L 260.1 28.4 L 263.2 28.4 L 263.2 51.9 L 260.1 51.9 L 260.1 41.1 L 248.0 41.1 L 248.0 51.9 L 244.8 51.9 L 244.8 28.4 \" fill=\"#000000\"/>\n",
       "<path class=\"atom-12\" d=\"M 266.6 102.4 L 269.8 102.4 L 269.8 112.4 L 281.8 112.4 L 281.8 102.4 L 285.0 102.4 L 285.0 125.9 L 281.8 125.9 L 281.8 115.1 L 269.8 115.1 L 269.8 125.9 L 266.6 125.9 L 266.6 102.4 \" fill=\"#000000\"/>\n",
       "<path class=\"atom-13\" d=\"M 54.1 199.1 L 57.3 199.1 L 57.3 209.1 L 69.4 209.1 L 69.4 199.1 L 72.5 199.1 L 72.5 222.7 L 69.4 222.7 L 69.4 211.8 L 57.3 211.8 L 57.3 222.7 L 54.1 222.7 L 54.1 199.1 \" fill=\"#000000\"/>\n",
       "<path class=\"atom-14\" d=\"M 78.9 248.1 L 82.1 248.1 L 82.1 258.1 L 94.1 258.1 L 94.1 248.1 L 97.3 248.1 L 97.3 271.6 L 94.1 271.6 L 94.1 260.7 L 82.1 260.7 L 82.1 271.6 L 78.9 271.6 L 78.9 248.1 \" fill=\"#000000\"/>\n",
       "<path class=\"atom-15\" d=\"M 155.7 234.8 L 158.9 234.8 L 158.9 244.8 L 170.9 244.8 L 170.9 234.8 L 174.1 234.8 L 174.1 258.3 L 170.9 258.3 L 170.9 247.4 L 158.9 247.4 L 158.9 258.3 L 155.7 258.3 L 155.7 234.8 \" fill=\"#000000\"/>\n",
       "<path class=\"atom-16\" d=\"M 94.4 59.5 L 97.6 59.5 L 97.6 69.5 L 109.6 69.5 L 109.6 59.5 L 112.8 59.5 L 112.8 83.0 L 109.6 83.0 L 109.6 72.1 L 97.6 72.1 L 97.6 83.0 L 94.4 83.0 L 94.4 59.5 \" fill=\"#000000\"/>\n",
       "<path class=\"atom-17\" d=\"M 39.6 56.2 L 42.8 56.2 L 42.8 66.2 L 54.8 66.2 L 54.8 56.2 L 58.0 56.2 L 58.0 79.7 L 54.8 79.7 L 54.8 68.9 L 42.8 68.9 L 42.8 79.7 L 39.6 79.7 L 39.6 56.2 \" fill=\"#000000\"/>\n",
       "<path class=\"atom-18\" d=\"M 15.0 130.7 L 18.2 130.7 L 18.2 140.7 L 30.2 140.7 L 30.2 130.7 L 33.4 130.7 L 33.4 154.2 L 30.2 154.2 L 30.2 143.3 L 18.2 143.3 L 18.2 154.2 L 15.0 154.2 L 15.0 130.7 \" fill=\"#000000\"/>\n",
       "</svg>"
      ],
      "text/plain": [
       "<IPython.core.display.SVG object>"
      ]
     },
     "metadata": {},
     "output_type": "display_data"
    },
    {
     "name": "stderr",
     "output_type": "stream",
     "text": [
      "labeling molecules: 100%|█████████████████████████████████████████████████████████████| 19/19 [00:00<00:00, 51.32it/s]"
     ]
    },
    {
     "name": "stdout",
     "output_type": "stream",
     "text": [
      "tagged 19 molecules\n"
     ]
    },
    {
     "name": "stderr",
     "output_type": "stream",
     "text": [
      "\n"
     ]
    }
   ],
   "source": [
    "molecules: list[Molecule] = []\n",
    "\n",
    "# adapted from 2022-04-29-OpenFF-multiplicity-correction-torsion-drive-data\n",
    "# in the function create_tagged_molecules\n",
    "\n",
    "for pid, smiles in tqdm(p_smiles.items(), desc=\"labeling molecules\"):\n",
    "    for smile in smiles:\n",
    "        mol = Molecule.from_smiles(smile, allow_undefined_stereo=True)\n",
    "        labels = ff.label_molecules(mol.to_topology())[0][\"ProperTorsions\"]\n",
    "        for atom_indices in (k for k, v in labels.items() if v.id == pid):\n",
    "            print(pid)\n",
    "            display(draw_rdkit(mol.to_rdkit(), [atom_indices]))\n",
    "            torsion_indexer = TorsionIndexer()\n",
    "            torsion_indexer.add_torsion(atom_indices, (0, 3), (-165, 180))\n",
    "            mol.properties[\"dihedrals\"] = torsion_indexer\n",
    "            molecules.append(mol)\n",
    "            break # so Pavan only takes one from each, at most\n",
    "        else:\n",
    "            print(f\"never found a match for {pid}\")\n",
    "\n",
    "print(f\"tagged {len(molecules)} molecules\")"
   ]
  },
  {
   "cell_type": "markdown",
   "metadata": {},
   "source": [
    "# Prepare the dataset\n",
    "\n",
    "Again, this is adapted from [the OpenFF multiplicity correction notebook][example]\n",
    "\n",
    "[example]: https://github.com/openforcefield/qca-dataset-submission/blob/08ace97758087f06cf22a986fc9ee838f72edae7/submissions/2022-04-29-OpenFF-multiplicity-correction-torsion-drive-data/Dataset_Generation.ipynb"
   ]
  },
  {
   "cell_type": "code",
   "execution_count": 9,
   "metadata": {},
   "outputs": [
    {
     "name": "stderr",
     "output_type": "stream",
     "text": [
      "Deduplication                 : 100%|█████████| 19/19 [00:00<00:00, 3204.85it/s]\n",
      "StandardConformerGenerator    :   0%|                    | 0/18 [00:00<?, ?it/s][11:09:37] UFFTYPER: Unrecognized charge state for atom: 2\n",
      "[11:09:37] UFFTYPER: Unrecognized charge state for atom: 2\n",
      "[11:09:37] UFFTYPER: Unrecognized charge state for atom: 2\n",
      "[11:09:37] UFFTYPER: Unrecognized charge state for atom: 2\n",
      "[11:09:37] UFFTYPER: Warning: hybridization set to SP3 for atom 1\n",
      "[11:09:37] UFFTYPER: Unrecognized atom type: S_5+4 (2)\n",
      "[11:09:37] UFFTYPER: Unrecognized charge state for atom: 2\n",
      "StandardConformerGenerator    : 100%|██████████| 18/18 [00:00<00:00, 246.14it/s]\n",
      "Preparation                   :   0%|                    | 0/18 [00:00<?, ?it/s][11:09:38] WARNING: Charges were rearranged\n",
      "\n",
      "[11:09:38] WARNING: Charges were rearranged\n",
      "\n",
      "[11:09:38] WARNING: Proton(s) added/removed\n",
      "\n",
      "[11:09:38] WARNING: Proton(s) added/removed\n",
      "\n",
      "Preparation                   :  50%|██████      | 9/18 [00:00<00:00, 89.95it/s][11:09:38] WARNING: Proton(s) added/removed\n",
      "\n",
      "[11:09:38] WARNING: Proton(s) added/removed\n",
      "\n",
      "[11:09:38] WARNING: Proton(s) added/removed\n",
      "\n",
      "[11:09:38] WARNING: Proton(s) added/removed\n",
      "\n",
      "[11:09:38] WARNING: Proton(s) added/removed\n",
      "\n",
      "[11:09:38] WARNING: Proton(s) added/removed\n",
      "\n",
      "Preparation                   : 100%|██████████| 18/18 [00:00<00:00, 102.83it/s]\n"
     ]
    }
   ],
   "source": [
    "dataset_factory = TorsiondriveDatasetFactory()\n",
    "dataset_factory.add_workflow_components(workflow_components.StandardConformerGenerator(max_conformers=10))\n",
    "\n",
    "DSNAME = \"OpenFF Torsion Drive Supplement v1.0\"\n",
    "DSDIR  = \"2024-04-17-OpenFF-Torsion-Drive-Supplement-v1.0\"\n",
    "\n",
    "dataset = dataset_factory.create_dataset(\n",
    "    dataset_name=DSNAME,\n",
    "    tagline=DSNAME,\n",
    "    description=\"Additional training data for Sage 2.2.0 proper torsions and new parameters from the torsion multiplicity work\",\n",
    "    molecules=molecules,\n",
    ")\n",
    "\n",
    "dataset.metadata.submitter = \"ntBre\"\n",
    "dataset.metadata.long_description_url = (\n",
    "    \"https://github.com/openforcefield/qca-dataset-submission/tree/master/\"\n",
    "    \"submissions/\" + DSDIR\n",
    ")"
   ]
  },
  {
   "cell_type": "markdown",
   "metadata": {
    "pycharm": {
     "name": "#%% md\n"
    }
   },
   "source": [
    "# Summarize the dataset\n",
    "Make sure the molecules in the dataset match the input molecules"
   ]
  },
  {
   "cell_type": "code",
   "execution_count": 10,
   "metadata": {
    "pycharm": {
     "name": "#%%\n"
    }
   },
   "outputs": [],
   "source": [
    "old_smiles = set()\n",
    "for _pid, smiles in p_smiles.items():\n",
    "    for smile in smiles:\n",
    "        try:\n",
    "            old_smiles.add(Molecule.from_smiles(smile, allow_undefined_stereo=True).to_smiles(isomeric=False))\n",
    "        except AssertionError:\n",
    "            # same issue as above\n",
    "            continue\n",
    "\n",
    "new_smiles = {molecule.to_smiles(isomeric=False) for molecule in dataset.molecules}\n",
    "\n",
    "diff = len(old_smiles.symmetric_difference(new_smiles))\n",
    "assert diff == 0"
   ]
  },
  {
   "cell_type": "markdown",
   "metadata": {
    "pycharm": {
     "name": "#%% md\n"
    }
   },
   "source": [
    "Describe the molecules in the dataset"
   ]
  },
  {
   "cell_type": "code",
   "execution_count": 11,
   "metadata": {
    "pycharm": {
     "name": "#%%\n"
    }
   },
   "outputs": [
    {
     "name": "stdout",
     "output_type": "stream",
     "text": [
      "Number of unique molecules        18\n",
      "Number of filtered molecules      0\n",
      "Number of conformers              18\n",
      "Number of conformers min mean max 1   1.00 1\n",
      "Mean molecular weight: 92.76\n",
      "Max molecular weight: 121.16\n",
      "Charges: [-1.0, 0.0, 1.0, 2.0]\n"
     ]
    }
   ],
   "source": [
    "confs = np.array([len(mol.conformers) for mol in dataset.molecules])\n",
    "\n",
    "print(\"Number of unique molecules       \", dataset.n_molecules)\n",
    "print(\"Number of filtered molecules     \", dataset.n_filtered)\n",
    "print(\"Number of conformers             \", dataset.n_records)\n",
    "print(\"Number of conformers min mean max\",\n",
    "      confs.min(), \"{:6.2f}\".format(confs.mean()), confs.max())\n",
    "\n",
    "# thanks matt for updating this section in #344\n",
    "masses = [\n",
    "    [\n",
    "        sum([atom.mass.m for atom in molecule.atoms])\n",
    "        for molecule in dataset.molecules\n",
    "    ]\n",
    "]\n",
    "print(f'Mean molecular weight: {np.mean(np.array(masses)):.2f}')\n",
    "print(f'Max molecular weight: {np.max(np.array(masses)):.2f}')\n",
    "print(\"Charges:\", sorted(set(m.total_charge.m for m in dataset.molecules)))"
   ]
  },
  {
   "cell_type": "markdown",
   "metadata": {},
   "source": [
    "Describe the dataset"
   ]
  },
  {
   "cell_type": "code",
   "execution_count": 12,
   "metadata": {
    "scrolled": true
   },
   "outputs": [
    {
     "name": "stdout",
     "output_type": "stream",
     "text": [
      "{'collection_type': 'TorsionDriveDataset',\n",
      " 'creation_date': datetime.date(2024, 4, 17),\n",
      " 'dataset_name': 'OpenFF Torsion Drive Supplement v1.0',\n",
      " 'elements': {'C', 'H', 'P', 'O', 'N', 'S'},\n",
      " 'long_description': 'Additional training data for Sage 2.2.0 proper torsions '\n",
      "                     'and new parameters from the torsion multiplicity work',\n",
      " 'long_description_url': HttpUrl('https://github.com/openforcefield/qca-dataset-submission/tree/master/submissions/2024-04-17-OpenFF-Torsion-Drive-Supplement-v1.0', ),\n",
      " 'short_description': 'OpenFF Torsion Drive Supplement v1.0',\n",
      " 'submitter': 'ntBre'}\n"
     ]
    }
   ],
   "source": [
    "pprint(dataset.metadata.dict())"
   ]
  },
  {
   "cell_type": "code",
   "execution_count": 13,
   "metadata": {},
   "outputs": [
    {
     "name": "stdout",
     "output_type": "stream",
     "text": [
      "Spec: default\n",
      "{'basis': 'DZVP',\n",
      " 'implicit_solvent': None,\n",
      " 'keywords': {},\n",
      " 'maxiter': 200,\n",
      " 'method': 'B3LYP-D3BJ',\n",
      " 'program': 'psi4',\n",
      " 'scf_properties': ['dipole',\n",
      "                    'quadrupole',\n",
      "                    'wiberg_lowdin_indices',\n",
      "                    'mayer_indices'],\n",
      " 'spec_description': 'Standard OpenFF optimization quantum chemistry '\n",
      "                     'specification.',\n",
      " 'spec_name': 'default',\n",
      " 'store_wavefunction': 'none'}\n"
     ]
    }
   ],
   "source": [
    "for spec, obj in dataset.qc_specifications.items():\n",
    "    print(\"Spec:\", spec)\n",
    "    pprint(obj.dict())"
   ]
  },
  {
   "cell_type": "code",
   "execution_count": 14,
   "metadata": {},
   "outputs": [
    {
     "name": "stdout",
     "output_type": "stream",
     "text": [
      "[<SCFProperties.Dipole: 'dipole'>,\n",
      " <SCFProperties.Quadrupole: 'quadrupole'>,\n",
      " <SCFProperties.WibergLowdinIndices: 'wiberg_lowdin_indices'>,\n",
      " <SCFProperties.MayerIndices: 'mayer_indices'>]\n"
     ]
    }
   ],
   "source": [
    "pprint(dataset.qc_specifications['default'].scf_properties)"
   ]
  },
  {
   "cell_type": "markdown",
   "metadata": {
    "pycharm": {
     "name": "#%% md\n"
    }
   },
   "source": [
    "Export the dataset."
   ]
  },
  {
   "cell_type": "code",
   "execution_count": 15,
   "metadata": {
    "pycharm": {
     "name": "#%%\n"
    }
   },
   "outputs": [],
   "source": [
    "dataset.export_dataset(\"dataset.json.bz2\")\n",
    "dataset.molecules_to_file(\"dataset.smi\", \"smi\")\n",
    "\n",
    "GLOBAL_TOOLKIT_REGISTRY.register_toolkit(OpenEyeToolkitWrapper)\n",
    "dataset.visualize(\"dataset.pdf\", columns=8)"
   ]
  }
 ],
 "metadata": {
  "kernelspec": {
   "display_name": "Python 3 (ipykernel)",
   "language": "python",
   "name": "python3"
  },
  "language_info": {
   "codemirror_mode": {
    "name": "ipython",
    "version": 3
   },
   "file_extension": ".py",
   "mimetype": "text/x-python",
   "name": "python",
   "nbconvert_exporter": "python",
   "pygments_lexer": "ipython3",
   "version": "3.11.7"
  }
 },
 "nbformat": 4,
 "nbformat_minor": 4
}
