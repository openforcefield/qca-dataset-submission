{
 "cells": [
  {
   "cell_type": "markdown",
   "metadata": {},
   "source": [
    "# PDB-CCD TM"
   ]
  },
  {
   "cell_type": "markdown",
   "metadata": {},
   "source": [
    "## Import Packages and Datasets"
   ]
  },
  {
   "cell_type": "code",
   "execution_count": 1,
   "metadata": {},
   "outputs": [],
   "source": [
    "import qcportal\n",
    "from qcportal.singlepoint import SinglepointDriver\n",
    "from qcportal.singlepoint import QCSpecification\n",
    "from qcportal.optimization import OptimizationSpecification\n",
    "\n",
    "from qcportal.external import scaffold\n"
   ]
  },
  {
   "cell_type": "code",
   "execution_count": null,
   "metadata": {},
   "outputs": [
    {
     "name": "stderr",
     "output_type": "stream",
     "text": [
      "Process ForkProcess-2:\n",
      "Traceback (most recent call last):\n",
      "  File \"/Users/jenniferclark/mamba/envs/qca-clean/lib/python3.11/multiprocessing/process.py\", line 314, in _bootstrap\n",
      "    self.run()\n",
      "  File \"/Users/jenniferclark/mamba/envs/qca-clean/lib/python3.11/multiprocessing/process.py\", line 108, in run\n",
      "    self._target(*self._args, **self._kwargs)\n",
      "  File \"/Users/jenniferclark/mamba/envs/qca-clean/lib/python3.11/site-packages/qcfractal/snowflake.py\", line 95, in _compute_process\n",
      "    compute = ComputeManager(compute_config)\n",
      "              ^^^^^^^^^^^^^^^^^^^^^^^^^^^^^^\n",
      "  File \"/Users/jenniferclark/mamba/envs/qca-clean/lib/python3.11/site-packages/qcfractalcompute/compute_manager.py\", line 157, in __init__\n",
      "    raise ValueError(f\"Executor {ex} has no available programs\")\n",
      "ValueError: Executor local has no available programs\n"
     ]
    }
   ],
   "source": [
    "client = qcportal.PortalClient(\"https://api.qcarchive.molssi.org:443\", cache_dir=\".\")\n",
    "from qcfractal.snowflake import FractalSnowflake\n",
    "snowflake = FractalSnowflake()\n",
    "client = snowflake.client()"
   ]
  },
  {
   "cell_type": "markdown",
   "metadata": {},
   "source": [
    "## Get Dataset, Update Description"
   ]
  },
  {
   "cell_type": "code",
   "execution_count": 3,
   "metadata": {},
   "outputs": [],
   "source": [
    "dataset_name = \"TM Benchmark Optimization Dataset Step 1 v0.0\"\n",
    "new_description = (\n",
    "    \"This dataset includes single metal complexes with: {'Pd', 'Fe', 'Zn', 'Mg', 'Cu', 'Li'}, and the non-metals: \"\n",
    "    \"{'C', 'H', 'P', 'S', 'O', 'N', 'F', 'Cl', 'Br'}, with a complex charge of {-1,0,+1}. Additionally, there are some organic \"\n",
    "    \"molecules for benchmarking purposes. These complexes are optimized using ROHF SOS-MP2 / def2-SVP and  ROHF / STO-3G in suit \"\n",
    "    \"with the literature. The molecular weight min, mean, and max are 81, 445, and 1026, respectively. There are 81 unique \"\n",
    "    \"molecules, each tmc is submitted with 3 different multiplicities to assess the spin state.\"\n",
    ")\n",
    "dataset = scaffold.from_json(\"scaffold.json.bz2\", client)\n",
    "#dataset = client.get_dataset(\"optimization\", \"TM Benchmark Optimization Dataset Step 1 v0.0\")\n",
    "dataset.description = new_description\n",
    "dataset.extras[\"long_description\"] = new_description\n",
    "dataset.extras[\"submitter\"] = \"jaclark5\""
   ]
  },
  {
   "cell_type": "markdown",
   "metadata": {},
   "source": [
    "## Delete Old Specification"
   ]
  },
  {
   "cell_type": "code",
   "execution_count": 4,
   "metadata": {},
   "outputs": [
    {
     "data": {
      "text/plain": [
       "DeleteMetadata(error_description=None, errors=[(0, 'specification does not exist')], deleted_idx=[], n_children_deleted=0)"
      ]
     },
     "execution_count": 4,
     "metadata": {},
     "output_type": "execute_result"
    }
   ],
   "source": [
    "dataset.delete_specification(f\"scs-mp2/aug-cc-pvtz-dk\", delete_records=True)"
   ]
  },
  {
   "cell_type": "markdown",
   "metadata": {},
   "source": [
    "## Add New Specification"
   ]
  },
  {
   "cell_type": "code",
   "execution_count": 5,
   "metadata": {},
   "outputs": [
    {
     "data": {
      "text/plain": [
       "InsertMetadata(error_description=None, errors=[], inserted_idx=[0], existing_idx=[])"
      ]
     },
     "execution_count": 5,
     "metadata": {},
     "output_type": "execute_result"
    }
   ],
   "source": [
    "spec = OptimizationSpecification(\n",
    "    program='geometric',\n",
    "    qc_specification=QCSpecification(\n",
    "        program='psi4',\n",
    "        driver=SinglepointDriver.deferred,\n",
    "        method=\"sos-mp2\",\n",
    "        basis=\"def2-svp\",\n",
    "        keywords={\n",
    "            'maxiter': 500, \n",
    "            'scf_properties': ['dipole', 'quadrupole', 'wiberg_lowdin_indices', 'mayer_indices', \n",
    "                               'lowdin_charges', 'mulliken_charges'],\n",
    "            'function_kwargs': {'properties': ['dipole_polarizabilities']},\n",
    "            'reference': 'rohf',\n",
    "        },\n",
    "    ),\n",
    "    keywords={\n",
    "        'tmax': 0.3,\n",
    "        'check': 0,\n",
    "        'qccnv': False,\n",
    "        'reset': True,\n",
    "        'trust': 0.1,\n",
    "        'molcnv': False,\n",
    "        'enforce': 0.0,\n",
    "        'epsilon': 1e-05,\n",
    "        'maxiter': 500,\n",
    "        'coordsys': 'dlc',\n",
    "        'constraints': {},\n",
    "        'convergence_set': 'GAU',\n",
    "    }, # keywords for geometric\n",
    ")\n",
    "name = f\"sos-mp2/def2-svp\"\n",
    "dataset.add_specification(name=name, specification=spec)"
   ]
  },
  {
   "cell_type": "code",
   "execution_count": 6,
   "metadata": {},
   "outputs": [
    {
     "data": {
      "text/plain": [
       "InsertMetadata(error_description=None, errors=[], inserted_idx=[0], existing_idx=[])"
      ]
     },
     "execution_count": 6,
     "metadata": {},
     "output_type": "execute_result"
    }
   ],
   "source": [
    "spec = OptimizationSpecification(\n",
    "    program='geometric',\n",
    "    qc_specification=QCSpecification(\n",
    "        program='psi4',\n",
    "        driver=SinglepointDriver.deferred,\n",
    "        method=\"hf\",\n",
    "        basis=\"sto-3g\",\n",
    "        keywords={\n",
    "            'maxiter': 500, \n",
    "            'scf_properties': ['dipole', 'quadrupole', 'wiberg_lowdin_indices', 'mayer_indices', \n",
    "                               'lowdin_charges', 'mulliken_charges'],\n",
    "            'function_kwargs': {'properties': ['dipole_polarizabilities']},\n",
    "            'reference': 'rohf',\n",
    "        },\n",
    "    ),\n",
    "    keywords={\n",
    "        'tmax': 0.3,\n",
    "        'check': 0,\n",
    "        'qccnv': False,\n",
    "        'reset': True,\n",
    "        'trust': 0.1,\n",
    "        'molcnv': False,\n",
    "        'enforce': 0.0,\n",
    "        'epsilon': 1e-05,\n",
    "        'maxiter': 500,\n",
    "        'coordsys': 'dlc',\n",
    "        'constraints': {},\n",
    "        'convergence_set': 'GAU',\n",
    "    }, # keywords for geometric\n",
    ")\n",
    "name = f\"hf/sto-3g\"\n",
    "dataset.add_specification(name=name, specification=spec)"
   ]
  },
  {
   "cell_type": "code",
   "execution_count": 7,
   "metadata": {},
   "outputs": [],
   "source": [
    "scaffold.to_json(dataset, compress=True, filename=\"scaffold_sos-mp2_hf.json\")\n",
    "#dataset.submit()"
   ]
  }
 ],
 "metadata": {
  "kernelspec": {
   "display_name": "Python 3",
   "language": "python",
   "name": "python3"
  },
  "language_info": {
   "codemirror_mode": {
    "name": "ipython",
    "version": 3
   },
   "file_extension": ".py",
   "mimetype": "text/x-python",
   "name": "python",
   "nbconvert_exporter": "python",
   "pygments_lexer": "ipython3",
   "version": "3.11.12"
  }
 },
 "nbformat": 4,
 "nbformat_minor": 2
}
