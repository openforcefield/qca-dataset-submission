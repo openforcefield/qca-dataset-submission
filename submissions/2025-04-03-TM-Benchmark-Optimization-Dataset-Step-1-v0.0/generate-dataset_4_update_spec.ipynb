{
 "cells": [
  {
   "cell_type": "markdown",
   "metadata": {},
   "source": [
    "# PDB-CCD TM"
   ]
  },
  {
   "cell_type": "markdown",
   "metadata": {},
   "source": [
    "## Import Packages and Datasets"
   ]
  },
  {
   "cell_type": "code",
   "execution_count": 1,
   "metadata": {},
   "outputs": [],
   "source": [
    "import os\n",
    "import datetime\n",
    "\n",
    "import qcportal\n",
    "from qcportal.singlepoint import SinglepointDriver\n",
    "from qcportal.singlepoint import QCSpecification\n",
    "from qcportal.optimization import OptimizationSpecification\n",
    "\n",
    "from qcportal.external import scaffold\n"
   ]
  },
  {
   "cell_type": "code",
   "execution_count": 2,
   "metadata": {},
   "outputs": [],
   "source": [
    "ADDRESS = \"https://api.qcarchive.molssi.org:443\"\n",
    "client = qcportal.PortalClient(\n",
    "    ADDRESS, \n",
    "    username=os.environ['QCARCHIVE_USER'],\n",
    "    password=os.environ['QCARCHIVE_PASSWORD'],\n",
    "    cache_dir=\".\",\n",
    ")"
   ]
  },
  {
   "cell_type": "markdown",
   "metadata": {},
   "source": [
    "## Get Dataset, Update Description"
   ]
  },
  {
   "cell_type": "code",
   "execution_count": 4,
   "metadata": {},
   "outputs": [],
   "source": [
    "dataset_name = \"TM Benchmark Optimization Dataset Step 1 v0.0\"\n",
    "new_description = (\n",
    "    \"This dataset includes single metal complexes with: {'Pd', 'Fe', 'Zn', 'Mg', 'Cu', 'Li'}, and the non-metals: \"\n",
    "    \"{'C', 'H', 'P', 'S', 'O', 'N', 'F', 'Cl', 'Br'}, with a complex charge of {-1,0,+1}. Additionally, there are some organic \"\n",
    "    \"molecules for benchmarking purposes. These complexes are optimized using ROHF SOS-MP2 / def2-mSVP and  ROHF / STO-3G in suit \"\n",
    "    \"with the literature. There are two ROHF SOS-MP2 / def2-mSVP specifications with and without frozen core. The molecular weight \"\n",
    "    \"min, mean, and max are 81, 445, and 1026, respectively. There are 81 unique molecules, each tmc is submitted with 3 different \"\n",
    "    \"multiplicities to assess the spin state.\"\n",
    ")\n",
    "#dataset = scaffold.from_json(\"scaffold_sos-mp2_hf.json.bz2\", client)\n",
    "dataset = client.get_dataset(\"optimization\", \"TM Benchmark Optimization Dataset Step 1 v0.0\")\n",
    "dataset.description = new_description\n",
    "dataset.tags = [\"openff\"]\n",
    "dataset.extras[\"long_description\"] = new_description\n",
    "dataset.extras[\"submitter\"] = \"jaclark5\"\n",
    "dataset.extras[\"creation_date\"] = str(datetime.date.today())\n"
   ]
  },
  {
   "cell_type": "markdown",
   "metadata": {},
   "source": [
    "## Delete Old Specification"
   ]
  },
  {
   "cell_type": "code",
   "execution_count": 5,
   "metadata": {},
   "outputs": [
    {
     "name": "stdout",
     "output_type": "stream",
     "text": [
      "There are 0 specifications\n"
     ]
    }
   ],
   "source": [
    "dataset.delete_specification(f\"sos-mp2/def2-svp\", delete_records=True)\n",
    "dataset.delete_specification(f\"hf/sto-3g\", delete_records=True)\n",
    "print(f\"There are {len(dataset.specifications)} specifications\")"
   ]
  },
  {
   "cell_type": "markdown",
   "metadata": {},
   "source": [
    "## Add New Specification"
   ]
  },
  {
   "cell_type": "code",
   "execution_count": 6,
   "metadata": {},
   "outputs": [
    {
     "data": {
      "text/plain": [
       "InsertMetadata(error_description=None, errors=[], inserted_idx=[0], existing_idx=[])"
      ]
     },
     "execution_count": 6,
     "metadata": {},
     "output_type": "execute_result"
    }
   ],
   "source": [
    "spec = OptimizationSpecification(\n",
    "    program='geometric',\n",
    "    qc_specification=QCSpecification(\n",
    "        program='psi4',\n",
    "        driver=SinglepointDriver.deferred,\n",
    "        method=\"sos-mp2\",\n",
    "        basis=\"def2-msvp\",\n",
    "        keywords={\n",
    "            'maxiter': 500, \n",
    "            'scf_properties': ['dipole', 'quadrupole', 'wiberg_lowdin_indices', 'mayer_indices', \n",
    "                               'lowdin_charges', 'mulliken_charges'],\n",
    "            'function_kwargs': {'properties': ['dipole_polarizabilities']},\n",
    "            'reference': 'rohf',\n",
    "            'scf_type': \"df\",\n",
    "            'mp2_type': \"df\",\n",
    "            \"opt_coordinates\": \"both\",\n",
    "            \"print\": 3,\n",
    "        },\n",
    "    ),\n",
    "    keywords={\n",
    "        'tmax': 0.3,\n",
    "        'check': 0,\n",
    "        'qccnv': False,\n",
    "        'reset': True,\n",
    "        'trust': 0.1,\n",
    "        'molcnv': False,\n",
    "        'enforce': 0.0,\n",
    "        'epsilon': 1e-05,\n",
    "        'maxiter': 500,\n",
    "        'coordsys': 'dlc',\n",
    "        'constraints': {},\n",
    "        'convergence_set': 'GAU',\n",
    "    }, # keywords for geometric\n",
    ")\n",
    "name = f\"sos-mp2/def2-msvp\"\n",
    "dataset.add_specification(name=name, specification=spec)"
   ]
  },
  {
   "cell_type": "code",
   "execution_count": 7,
   "metadata": {},
   "outputs": [
    {
     "data": {
      "text/plain": [
       "InsertMetadata(error_description=None, errors=[], inserted_idx=[0], existing_idx=[])"
      ]
     },
     "execution_count": 7,
     "metadata": {},
     "output_type": "execute_result"
    }
   ],
   "source": [
    "spec = OptimizationSpecification(\n",
    "    program='geometric',\n",
    "    qc_specification=QCSpecification(\n",
    "        program='psi4',\n",
    "        driver=SinglepointDriver.deferred,\n",
    "        method=\"sos-mp2\",\n",
    "        basis=\"def2-msvp\",\n",
    "        keywords={\n",
    "            'maxiter': 500, \n",
    "            'scf_properties': ['dipole', 'quadrupole', 'wiberg_lowdin_indices', 'mayer_indices', \n",
    "                               'lowdin_charges', 'mulliken_charges'],\n",
    "            'function_kwargs': {'properties': ['dipole_polarizabilities']},\n",
    "            'reference': 'rohf',\n",
    "            'scf_type': \"df\",\n",
    "            'mp2_type': \"df\",\n",
    "            \"opt_coordinates\": \"both\",\n",
    "            \"print\": 3,\n",
    "            \"freeze_core\": True,\n",
    "        },\n",
    "    ),\n",
    "    keywords={\n",
    "        'tmax': 0.3,\n",
    "        'check': 0,\n",
    "        'qccnv': False,\n",
    "        'reset': True,\n",
    "        'trust': 0.1,\n",
    "        'molcnv': False,\n",
    "        'enforce': 0.0,\n",
    "        'epsilon': 1e-05,\n",
    "        'maxiter': 500,\n",
    "        'coordsys': 'dlc',\n",
    "        'constraints': {},\n",
    "        'convergence_set': 'GAU',\n",
    "    }, # keywords for geometric\n",
    ")\n",
    "name = f\"sos-mp2/def2-msvp FC\"\n",
    "dataset.add_specification(name=name, specification=spec)"
   ]
  },
  {
   "cell_type": "code",
   "execution_count": 8,
   "metadata": {},
   "outputs": [
    {
     "data": {
      "text/plain": [
       "InsertMetadata(error_description=None, errors=[], inserted_idx=[0], existing_idx=[])"
      ]
     },
     "execution_count": 8,
     "metadata": {},
     "output_type": "execute_result"
    }
   ],
   "source": [
    "spec = OptimizationSpecification(\n",
    "    program='geometric',\n",
    "    qc_specification=QCSpecification(\n",
    "        program='psi4',\n",
    "        driver=SinglepointDriver.deferred,\n",
    "        method=\"hf\",\n",
    "        basis=\"sto-3g\",\n",
    "        keywords={\n",
    "            'maxiter': 500, \n",
    "            'scf_properties': ['dipole', 'quadrupole', 'wiberg_lowdin_indices', 'mayer_indices', \n",
    "                               'lowdin_charges', 'mulliken_charges'],\n",
    "            'function_kwargs': {'properties': ['dipole_polarizabilities']},\n",
    "            'reference': 'rohf',\n",
    "            \"opt_coordinates\": \"both\",\n",
    "        },\n",
    "    ),\n",
    "    keywords={\n",
    "        'tmax': 0.3,\n",
    "        'check': 0,\n",
    "        'qccnv': False,\n",
    "        'reset': True,\n",
    "        'trust': 0.1,\n",
    "        'molcnv': False,\n",
    "        'enforce': 0.0,\n",
    "        'epsilon': 1e-05,\n",
    "        'maxiter': 500,\n",
    "        'coordsys': 'dlc',\n",
    "        'constraints': {},\n",
    "        'convergence_set': 'GAU',\n",
    "    }, # keywords for geometric\n",
    ")\n",
    "name = f\"hf/sto-3g\"\n",
    "dataset.add_specification(name=name, specification=spec)"
   ]
  },
  {
   "cell_type": "code",
   "execution_count": 9,
   "metadata": {},
   "outputs": [
    {
     "name": "stdout",
     "output_type": "stream",
     "text": [
      "There are 633 records\n"
     ]
    }
   ],
   "source": [
    "dataset.submit()\n",
    "print(f\"There are {dataset.record_count} records\")\n",
    "scaffold.to_json(dataset, compress=True, filename=\"scaffold_sos-mp2_hf_fc.json\")"
   ]
  }
 ],
 "metadata": {
  "kernelspec": {
   "display_name": "Python 3",
   "language": "python",
   "name": "python3"
  },
  "language_info": {
   "codemirror_mode": {
    "name": "ipython",
    "version": 3
   },
   "file_extension": ".py",
   "mimetype": "text/x-python",
   "name": "python",
   "nbconvert_exporter": "python",
   "pygments_lexer": "ipython3",
   "version": "3.11.12"
  }
 },
 "nbformat": 4,
 "nbformat_minor": 2
}
