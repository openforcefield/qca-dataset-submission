{
 "cells": [
  {
   "cell_type": "code",
   "execution_count": 12,
   "id": "3d3cf7ba-e0db-439e-bb2e-983a2aa463ef",
   "metadata": {},
   "outputs": [],
   "source": [
    "from qcportal import PortalClient\n",
    "from openff.qcsubmit.results import OptimizationResultCollection,BasicResultCollection\n",
    "from openff.qcsubmit.datasets import BasicDataset\n",
    "from openff.qcsubmit.results.filters import ConnectivityFilter, RecordStatusEnum, RecordStatusFilter\n",
    "from openff.qcsubmit.factories import BasicDatasetFactory\n",
    "from openff.qcsubmit.common_structures import Metadata, QCSpec\n",
    "import pathlib\n",
    "import numpy as np"
   ]
  },
  {
   "cell_type": "markdown",
   "id": "c3600edd-6772-47fa-b4fa-9d4428851b8e",
   "metadata": {},
   "source": [
    "# Load optimization dataset"
   ]
  },
  {
   "cell_type": "code",
   "execution_count": 2,
   "id": "ad9d088a-8000-41e0-b1e5-9b3978b886da",
   "metadata": {},
   "outputs": [],
   "source": [
    "opt_ds = OptimizationResultCollection.parse_file(\"optimizations.json\")"
   ]
  },
  {
   "cell_type": "code",
   "execution_count": 3,
   "id": "b3571231-289b-41f1-8287-85abca89b6bf",
   "metadata": {},
   "outputs": [
    {
     "name": "stdout",
     "output_type": "stream",
     "text": [
      "63441 297934\n"
     ]
    }
   ],
   "source": [
    "print(opt_ds.n_molecules,opt_ds.n_results)"
   ]
  },
  {
   "cell_type": "markdown",
   "id": "4a825469-397a-415b-8d5d-016e798dac76",
   "metadata": {},
   "source": [
    "# Set up single points"
   ]
  },
  {
   "cell_type": "code",
   "execution_count": 4,
   "id": "9c7e2e23-8c7e-4334-bc37-e5e07361f5b3",
   "metadata": {},
   "outputs": [],
   "source": [
    "OPTIMIZATION_WHITELISTS = [\n",
    "    \"OpenFF Optimization Set 1\",\n",
    "    \"SMIRNOFF Coverage Set 1\",\n",
    "    \"OpenFF VEHICLe Set 1\",\n",
    "    \"OpenFF Discrepancy Benchmark 1\",\n",
    "    \"OpenFF Ehrman Informative Optimization v0.2\",\n",
    "    \"Pfizer discrepancy optimization dataset 1\",\n",
    "    \"FDA optimization dataset 1\",\n",
    "    \"Kinase Inhibitors: WBO Distributions\",\n",
    "    \"OpenFF Gen 2 Opt Set 1 Roche\",\n",
    "    \"OpenFF Gen 2 Opt Set 2 Coverage\",\n",
    "    \"OpenFF Gen 2 Opt Set 3 Pfizer Discrepancy\",\n",
    "    \"OpenFF Gen 2 Opt Set 4 eMolecules Discrepancy\",\n",
    "    \"OpenFF Gen 2 Opt Set 5 Bayer\",\n",
    "    \"OpenFF Sandbox CHO PhAlkEthOH v1.0\",\n",
    "    \"OpenFF Industry Benchmark Season 1 v1.1\",\n",
    "    \"OpenFF Gen2 Optimization Dataset Protomers v1.0\",\n",
    "    \"OpenFF Protein Capped 1-mers 3-mers Optimization Dataset v1.0\",\n",
    "    \"OpenFF Iodine Chemistry Optimization Dataset v1.0\",\n",
    "    \"XtalPi Shared Fragments OptimizationDataset v1.0\",\n",
    "    \"XtalPi 20-percent Fragments OptimizationDataset v1.0\",\n",
    "    \"OpenFF Torsion Benchmark Supplement v1.0\",\n",
    "    \"OpenFF Torsion Multiplicity Optimization Training Coverage Supplement v1.0\",\n",
    "    \"OpenFF Torsion Multiplicity Optimization Benchmarking Coverage Supplement v1.0\",\n",
    "    \"OpenFF Iodine Fragment Opt v1.0\",\n",
    "    \"OpenFF Sulfur Optimization Training Coverage Supplement v1.0\",\n",
    "    \"OpenFF Sulfur Optimization Benchmarking Coverage Supplement v1.0\",\n",
    "    \"OpenFF Lipid Optimization Training Supplement v1.0\",\n",
    "    \"OpenFF Lipid Optimization Benchmark Supplement v1.0\",\n",
    "    \"OpenFF Cresset Additional Coverage Optimizations v4.0\",\n",
    "    \"OpenFF Protein PDB 4-mers v4.0\"\n",
    "]\n",
    "\n",
    "IGNORE_IODINE = [\n",
    "    \"OpenFF Discrepancy Benchmark 1\",\n",
    "    \"OpenFF Gen 2 Opt Set 2 Coverage\",\n",
    "    \"OpenFF Gen 2 Opt Set 4 eMolecules Discrepancy\",\n",
    "    \"SMIRNOFF Coverage Set 1\",\n",
    "    \"OpenFF Ehrman Informative Optimization v0.2\",\n",
    "    \"FDA optimization dataset 1\",\n",
    "    \"Kinase Inhibitors: WBO Distributions\",\n",
    "\n",
    "    # ---\n",
    "    \"OpenFF Gen 2 Torsion Set 2 Coverage 2\",\n",
    "    \"OpenFF Gen 2 Torsion Set 4 eMolecules Discrepancy 2\",\n",
    "]"
   ]
  },
  {
   "cell_type": "code",
   "execution_count": 19,
   "id": "8d1b1bf5-32bc-41ed-9579-9065e5b613e7",
   "metadata": {},
   "outputs": [
    {
     "name": "stdout",
     "output_type": "stream",
     "text": [
      "Hessian single points for the final molecules in the OpenFF datasets listed below at the B3LYP-D3BJ/DZVP level of theory. These are used for calculating MSM starting points in force field fits. The molecules here include the S, H, O, Br, F, N, P, Cl, I, C elements and the charge states {-4.0, -3.0, -2.0, -1.0, 0.0, 1.0, 2.0}. They range from 16-1425 Da (mean 224) and 4-99 heavy atoms. Records were filtered for successful completion, no connectivity changes, a non-2D structure (where all Z-coordinates are 0), and whether RDKit can parse the molecule with valid valence. The datasets included are:\n",
      " - OpenFF Optimization Set 1\n",
      " - SMIRNOFF Coverage Set 1\n",
      " - OpenFF VEHICLe Set 1\n",
      " - OpenFF Discrepancy Benchmark 1\n",
      " - OpenFF Ehrman Informative Optimization v0.2\n",
      " - Pfizer discrepancy optimization dataset 1\n",
      " - FDA optimization dataset 1\n",
      " - Kinase Inhibitors: WBO Distributions\n",
      " - OpenFF Gen 2 Opt Set 1 Roche\n",
      " - OpenFF Gen 2 Opt Set 2 Coverage\n",
      " - OpenFF Gen 2 Opt Set 3 Pfizer Discrepancy\n",
      " - OpenFF Gen 2 Opt Set 4 eMolecules Discrepancy\n",
      " - OpenFF Gen 2 Opt Set 5 Bayer\n",
      " - OpenFF Sandbox CHO PhAlkEthOH v1.0\n",
      " - OpenFF Industry Benchmark Season 1 v1.1\n",
      " - OpenFF Gen2 Optimization Dataset Protomers v1.0\n",
      " - OpenFF Protein Capped 1-mers 3-mers Optimization Dataset v1.0\n",
      " - OpenFF Iodine Chemistry Optimization Dataset v1.0\n",
      " - XtalPi Shared Fragments OptimizationDataset v1.0\n",
      " - XtalPi 20-percent Fragments OptimizationDataset v1.0\n",
      " - OpenFF Torsion Benchmark Supplement v1.0\n",
      " - OpenFF Torsion Multiplicity Optimization Training Coverage Supplement v1.0\n",
      " - OpenFF Torsion Multiplicity Optimization Benchmarking Coverage Supplement v1.0\n",
      " - OpenFF Iodine Fragment Opt v1.0\n",
      " - OpenFF Sulfur Optimization Training Coverage Supplement v1.0\n",
      " - OpenFF Sulfur Optimization Benchmarking Coverage Supplement v1.0\n",
      " - OpenFF Lipid Optimization Training Supplement v1.0\n",
      " - OpenFF Lipid Optimization Benchmark Supplement v1.0\n",
      " - OpenFF Cresset Additional Coverage Optimizations v4.0\n",
      " - OpenFF Protein PDB 4-mers v4.0\n",
      "\n",
      "Any molecules in the below datasets had all molecules containing iodine filtered out, as those records were problematic.\n",
      " - OpenFF Discrepancy Benchmark 1\n",
      " - OpenFF Gen 2 Opt Set 2 Coverage\n",
      " - OpenFF Gen 2 Opt Set 4 eMolecules Discrepancy\n",
      " - SMIRNOFF Coverage Set 1\n",
      " - OpenFF Ehrman Informative Optimization v0.2\n",
      " - FDA optimization dataset 1\n",
      " - Kinase Inhibitors: WBO Distributions\n",
      " - OpenFF Gen 2 Torsion Set 2 Coverage 2\n",
      " - OpenFF Gen 2 Torsion Set 4 eMolecules Discrepancy 2\n"
     ]
    }
   ],
   "source": [
    "optimization_datasets = \"\\n\".join([f\" - {x}\" for x in OPTIMIZATION_WHITELISTS])\n",
    "iodine_datasets = \"\\n\".join([f\" - {x}\" for x in IGNORE_IODINE])\n",
    "description = (\n",
    "    \"Hessian single points for the final molecules in the OpenFF datasets listed below \"\n",
    "    \"at the B3LYP-D3BJ/DZVP level of theory. \"\n",
    "    \"These are used for calculating MSM starting points in force field fits. \"\n",
    "    \"The molecules here include the S, H, O, Br, F, N, P, Cl, I, C elements \"\n",
    "    \"and the charge states {-4.0, -3.0, -2.0, -1.0, 0.0, 1.0, 2.0}. \"\n",
    "    \"They range from 16-1425 Da (mean 224) and 4-99 heavy atoms. \"\n",
    "    \"Records were filtered for successful completion, no connectivity changes, \"\n",
    "    \"a non-2D structure (where all Z-coordinates are 0), \"\n",
    "    \"and whether RDKit can parse the molecule with valid valence. \"\n",
    "    f\"The datasets included are:\\n{optimization_datasets}\"\n",
    "    \"\\n\\nAny molecules in the below datasets had all molecules containing iodine filtered out, as those records were problematic.\\n\"\n",
    "    f\"{iodine_datasets}\"\n",
    ")\n",
    "\n",
    "print(description)"
   ]
  },
  {
   "cell_type": "code",
   "execution_count": 6,
   "id": "3414a272-aa17-4f9a-840e-54f41d477cc1",
   "metadata": {},
   "outputs": [
    {
     "name": "stderr",
     "output_type": "stream",
     "text": [
      " 15%|████████████████▉                                                                                                 | 48160/324572 [00:40<04:14, 1087.91it/s]Warning: bond stereochemistry may be assigned incorrectly for molecule \n",
      "Warning: bond stereochemistry may be assigned incorrectly for molecule \n",
      "Warning: bond stereochemistry may be assigned incorrectly for molecule \n",
      "Warning: bond stereochemistry may be assigned incorrectly for molecule \n",
      " 34%|██████████████████████████████████████▍                                                                           | 109566/324572 [02:16<06:09, 581.82it/s]Warning: bond stereochemistry may be assigned incorrectly for molecule \n",
      "Warning: bond stereochemistry may be assigned incorrectly for molecule \n",
      "Warning: bond stereochemistry may be assigned incorrectly for molecule \n",
      "Warning: bond stereochemistry may be assigned incorrectly for molecule \n",
      "Warning: bond stereochemistry may be assigned incorrectly for molecule \n",
      "Warning: bond stereochemistry may be assigned incorrectly for molecule \n",
      "Warning: bond stereochemistry may be assigned incorrectly for molecule \n",
      "Warning: bond stereochemistry may be assigned incorrectly for molecule \n",
      "Warning: bond stereochemistry may be assigned incorrectly for molecule \n",
      " 87%|███████████████████████████████████████████████████████████████████████████████████████████████████▎              | 282690/324572 [07:54<01:32, 454.86it/s]Warning: bond stereochemistry may be assigned incorrectly for molecule \n",
      " 87%|███████████████████████████████████████████████████████████████████████████████████████████████████▍              | 283212/324572 [07:55<01:31, 451.42it/s]Warning: bond stereochemistry may be assigned incorrectly for molecule \n",
      "Warning: bond stereochemistry may be assigned incorrectly for molecule \n",
      "Warning: bond stereochemistry may be assigned incorrectly for molecule \n",
      "Warning: bond stereochemistry may be assigned incorrectly for molecule \n",
      " 91%|███████████████████████████████████████████████████████████████████████████████████████████████████████▌          | 294821/324572 [08:28<01:26, 342.31it/s]Warning: bond stereochemistry may be assigned incorrectly for molecule \n",
      "Warning: bond stereochemistry may be assigned incorrectly for molecule \n",
      "Warning: bond stereochemistry may be assigned incorrectly for molecule \n",
      "Warning: bond stereochemistry may be assigned incorrectly for molecule \n",
      "Warning: bond stereochemistry may be assigned incorrectly for molecule \n",
      "Warning: bond stereochemistry may be assigned incorrectly for molecule \n",
      "Warning: bond stereochemistry may be assigned incorrectly for molecule \n",
      "Warning: bond stereochemistry may be assigned incorrectly for molecule \n",
      "Warning: bond stereochemistry may be assigned incorrectly for molecule \n",
      "Warning: bond stereochemistry may be assigned incorrectly for molecule \n",
      " 91%|████████████████████████████████████████████████████████████████████████████████████████████████████████          | 296400/324572 [08:32<01:31, 307.65it/s]Warning: bond stereochemistry may be assigned incorrectly for molecule \n",
      "Warning: bond stereochemistry may be assigned incorrectly for molecule \n",
      "Warning: bond stereochemistry may be assigned incorrectly for molecule \n",
      "Warning: bond stereochemistry may be assigned incorrectly for molecule \n",
      "Warning: bond stereochemistry may be assigned incorrectly for molecule \n",
      "Warning: bond stereochemistry may be assigned incorrectly for molecule \n",
      "Warning: bond stereochemistry may be assigned incorrectly for molecule \n",
      "Warning: bond stereochemistry may be assigned incorrectly for molecule \n",
      "Warning: bond stereochemistry may be assigned incorrectly for molecule \n",
      "Warning: bond stereochemistry may be assigned incorrectly for molecule \n",
      " 95%|████████████████████████████████████████████████████████████████████████████████████████████████████████████▎     | 308431/324572 [09:08<00:50, 316.76it/s]Warning: bond stereochemistry may be assigned incorrectly for molecule \n",
      "Warning: bond stereochemistry may be assigned incorrectly for molecule \n",
      "Warning: bond stereochemistry may be assigned incorrectly for molecule \n",
      "Warning: bond stereochemistry may be assigned incorrectly for molecule \n",
      "Warning: bond stereochemistry may be assigned incorrectly for molecule \n",
      "Warning: bond stereochemistry may be assigned incorrectly for molecule \n",
      "Warning: bond stereochemistry may be assigned incorrectly for molecule \n",
      " 95%|████████████████████████████████████████████████████████████████████████████████████████████████████████████▍     | 308599/324572 [09:09<00:49, 324.21it/s]Warning: bond stereochemistry may be assigned incorrectly for molecule \n",
      "Warning: bond stereochemistry may be assigned incorrectly for molecule \n",
      "Warning: bond stereochemistry may be assigned incorrectly for molecule \n",
      " 99%|████████████████████████████████████████████████████████████████████████████████████████████████████████████████▉ | 321585/324572 [09:51<00:12, 233.00it/s]Warning: bond stereochemistry may be assigned incorrectly for molecule \n",
      " 99%|████████████████████████████████████████████████████████████████████████████████████████████████████████████████▉ | 321615/324572 [09:51<00:11, 247.79it/s]Warning: bond stereochemistry may be assigned incorrectly for molecule \n",
      "Warning: bond stereochemistry may be assigned incorrectly for molecule \n",
      "Warning: bond stereochemistry may be assigned incorrectly for molecule \n",
      "Warning: bond stereochemistry may be assigned incorrectly for molecule \n",
      "Warning: bond stereochemistry may be assigned incorrectly for molecule \n",
      "Warning: bond stereochemistry may be assigned incorrectly for molecule \n",
      "Warning: bond stereochemistry may be assigned incorrectly for molecule \n",
      "Warning: bond stereochemistry may be assigned incorrectly for molecule \n",
      "Warning: bond stereochemistry may be assigned incorrectly for molecule \n",
      "100%|██████████████████████████████████████████████████████████████████████████████████████████████████████████████████| 324572/324572 [10:01<00:00, 539.77it/s]\n"
     ]
    }
   ],
   "source": [
    "from qcelemental.models import DriverEnum\n",
    "\n",
    "\n",
    "from collections import defaultdict\n",
    "import qcportal\n",
    "from openff.toolkit.topology import Molecule\n",
    "from openff.toolkit.typing.engines.smirnoff import ForceField\n",
    "from openff.units import unit\n",
    "from qcportal.record_models import BaseRecord, RecordStatusEnum\n",
    "\n",
    "from openff.qcsubmit.common_structures import Metadata, MoleculeAttributes, QCSpec\n",
    "from openff.qcsubmit.datasets import BasicDataset\n",
    "\n",
    "import json\n",
    "import tqdm\n",
    "import pickle\n",
    "\n",
    "for record, molecule in tqdm.tqdm(opt_ds.to_records):\n",
    "    if record.id not in opt_ids:\n",
    "        continue\n",
    "    records_by_cmiles[\n",
    "        molecule.to_smiles(isomeric=True, explicit_hydrogens=True, mapped=True)\n",
    "    ].append((record, molecule))"
   ]
  },
  {
   "cell_type": "code",
   "execution_count": 20,
   "id": "642e338e-403b-446e-84b7-0067d804ff00",
   "metadata": {},
   "outputs": [
    {
     "name": "stderr",
     "output_type": "stream",
     "text": [
      " 43%|█████████████████████████████████████████████████▋                                                                  | 27183/63446 [02:55<05:13, 115.66it/s]Warning: bond stereochemistry may be assigned incorrectly for molecule \n",
      "Warning: bond stereochemistry may be assigned incorrectly for molecule \n",
      "Warning: bond stereochemistry may be assigned incorrectly for molecule \n",
      "Warning: bond stereochemistry may be assigned incorrectly for molecule \n",
      " 69%|████████████████████████████████████████████████████████████████████████████████▌                                    | 43665/63446 [07:50<10:51, 30.38it/s]Warning: bond stereochemistry may be assigned incorrectly for molecule \n",
      "Warning: bond stereochemistry may be assigned incorrectly for molecule \n",
      " 91%|██████████████████████████████████████████████████████████████████████████████████████████████████████████▎          | 57665/63446 [16:00<02:04, 46.54it/s]Warning: bond stereochemistry may be assigned incorrectly for molecule \n",
      "Warning: bond stereochemistry may be assigned incorrectly for molecule \n",
      " 91%|██████████████████████████████████████████████████████████████████████████████████████████████████████████▍          | 57742/63446 [16:01<01:15, 75.95it/s]Warning: bond stereochemistry may be assigned incorrectly for molecule \n",
      "Warning: bond stereochemistry may be assigned incorrectly for molecule \n",
      " 95%|██████████████████████████████████████████████████████████████████████████████████████████████████████████████▊      | 60085/63446 [16:53<02:28, 22.69it/s]Warning: bond stereochemistry may be assigned incorrectly for molecule \n",
      "Warning: bond stereochemistry may be assigned incorrectly for molecule \n",
      " 95%|███████████████████████████████████████████████████████████████████████████████████████████████████████████████      | 60241/63446 [16:59<03:25, 15.61it/s]Warning: bond stereochemistry may be assigned incorrectly for molecule \n",
      "Warning: bond stereochemistry may be assigned incorrectly for molecule \n",
      " 97%|█████████████████████████████████████████████████████████████████████████████████████████████████████████████████▍   | 61532/63446 [17:58<01:15, 25.49it/s]Warning: bond stereochemistry may be assigned incorrectly for molecule \n",
      "Warning: bond stereochemistry may be assigned incorrectly for molecule \n",
      " 99%|████████████████████████████████████████████████████████████████████████████████████████████████████████████████████▏| 63022/63446 [19:10<00:31, 13.68it/s]Warning: bond stereochemistry may be assigned incorrectly for molecule \n",
      "Warning: bond stereochemistry may be assigned incorrectly for molecule \n",
      "100%|█████████████████████████████████████████████████████████████████████████████████████████████████████████████████████| 63446/63446 [19:28<00:00, 54.29it/s]\n"
     ]
    }
   ],
   "source": [
    "metadata = Metadata(\n",
    "    submitter=\"lilyminium\",\n",
    "    long_description_url=(\n",
    "        \"https://github.com/openforcefield/qca-dataset-submission/tree/master/submissions/\"\n",
    "        + str(pathlib.Path.cwd().name)\n",
    "    )\n",
    ")\n",
    "\n",
    "dataset = BasicDataset(\n",
    "    dataset_name=\"OpenFF Optimization Hessians 2019-07 to 2025-03 v4.0\",\n",
    "    description=description,\n",
    "    dataset_tagline=\"Hessian single points OpenFF optimization datasets from 2019-07 to 2025-03.\",\n",
    "    driver=DriverEnum.hessian,\n",
    "    metadata={} if metadata is None else metadata,\n",
    "    qc_specifications=({\"default\": QCSpec()}),\n",
    ")\n",
    "\n",
    "# this is basically what `create_basic_dataset` does, but with a progress bar\n",
    "for records in tqdm.tqdm(records_by_cmiles.values()):\n",
    "    base_record, base_molecule = records[0]\n",
    "    base_molecule._conformers = [m.conformers[0] for _, m in records]\n",
    "\n",
    "    dataset.add_molecule(\n",
    "        index=base_molecule.to_smiles(\n",
    "            isomeric=True, explicit_hydrogens=False, mapped=False\n",
    "        ),\n",
    "        molecule=None,\n",
    "        initial_molecules=[rec.final_molecule for rec, _ in records],\n",
    "        attributes=MoleculeAttributes.from_openff_molecule(base_molecule),\n",
    "        extras=base_record.extras,\n",
    "        keywords=base_record.specification.keywords,\n",
    "    )"
   ]
  },
  {
   "cell_type": "code",
   "execution_count": 21,
   "id": "8e419645-dbaa-40aa-bec5-957cfd1586c7",
   "metadata": {},
   "outputs": [
    {
     "data": {
      "text/plain": [
       "{'default': QCSpecification(program='psi4', driver=<SinglepointDriver.hessian: 'hessian'>, method='b3lyp-d3bj', basis='dzvp', keywords={'maxiter': 200, 'scf_properties': [<SCFProperties.Dipole: 'dipole'>, <SCFProperties.Quadrupole: 'quadrupole'>, <SCFProperties.WibergLowdinIndices: 'wiberg_lowdin_indices'>, <SCFProperties.MayerIndices: 'mayer_indices'>]}, protocols=AtomicResultProtocols(wavefunction=<WavefunctionProtocolEnum.none: 'none'>, stdout=True, error_correction=ErrorCorrectionProtocol(default_policy=True, policies=None), native_files=<NativeFilesProtocolEnum.none: 'none'>))}"
      ]
     },
     "execution_count": 21,
     "metadata": {},
     "output_type": "execute_result"
    }
   ],
   "source": [
    "dataset._get_specifications()"
   ]
  },
  {
   "cell_type": "markdown",
   "id": "8e812a07-bd89-47f2-9380-6c939838aac6",
   "metadata": {},
   "source": [
    "# Exporting dataset"
   ]
  },
  {
   "cell_type": "code",
   "execution_count": 22,
   "id": "d69c1de7-42a6-407f-a555-6fc5a7ef0e61",
   "metadata": {},
   "outputs": [
    {
     "name": "stderr",
     "output_type": "stream",
     "text": [
      "Warning: Problem parsing SMILES:\n",
      "Warning: Inconsistent cis/trans bond stereo.\n",
      "Warning: [H:24][c:1]1[c:2]([c:5]([c:12]2[c:11]([c:4]1[H:27])[c:7]([c:8]([c:15]3[c:13]2[C:10](=[C:14](/[C:17](=[N:19]/[H:34])/[O:22]3)/[C:18](=[N:20]/[C:16]4=[C:6]([C:3](=[C:9]([S:23]4)[H:32])[H:26])[H:29])/[O:21][H:35])[H:33])[H:31])[H:30])[H:28])[H:25]\n",
      "Warning: OEDepictCoordinates() Inconsistent cis/trans bond stereo in ''\n",
      "Warning: OEDepictCoordinates() Inconsistent cis/trans bond stereo in ''\n",
      "Warning: OEDepictCoordinates() Inconsistent cis/trans bond stereo in ''\n",
      "Warning: OEDepictCoordinates() Inconsistent cis/trans bond stereo in ''\n",
      "Warning: OEDepictCoordinates() Inconsistent cis/trans bond stereo in ''\n",
      "Warning: OEDepictCoordinates() Inconsistent cis/trans bond stereo in ''\n",
      "Warning: OEDepictCoordinates() Inconsistent cis/trans bond stereo in ''\n",
      "Warning: OEDepictCoordinates() Incorrect atom stereo in ''\n",
      "Warning: OEDepictCoordinates() Incorrect atom stereo in ''\n",
      "Warning: OEDepictCoordinates() Incorrect atom stereo in ''\n",
      "Warning: OEDepictCoordinates() Incorrect atom stereo in ''\n",
      "Warning: OEDepictCoordinates() Incorrect atom stereo in ''\n",
      "Warning: OEDepictCoordinates() Incorrect atom stereo in ''\n",
      "Warning: OEDepictCoordinates() Incorrect atom stereo in ''\n",
      "Warning: OEDepictCoordinates() Incorrect atom stereo in ''\n",
      "Warning: OEDepictCoordinates() Incorrect atom stereo in ''\n",
      "Warning: OEDepictCoordinates() Incorrect atom stereo in ''\n",
      "Warning: OEDepictCoordinates() Incorrect atom stereo in ''\n",
      "Warning: OEDepictCoordinates() Incorrect atom stereo in ''\n",
      "Warning: OEDepictCoordinates() Incorrect atom stereo in ''\n"
     ]
    },
    {
     "name": "stdout",
     "output_type": "stream",
     "text": [
      "{'default': QCSpec(method='B3LYP-D3BJ', basis='DZVP', program='psi4', spec_name='default', spec_description='Standard OpenFF optimization quantum chemistry specification.', store_wavefunction=<WavefunctionProtocolEnum.none: 'none'>, implicit_solvent=None, maxiter=200, scf_properties=[<SCFProperties.Dipole: 'dipole'>, <SCFProperties.Quadrupole: 'quadrupole'>, <SCFProperties.WibergLowdinIndices: 'wiberg_lowdin_indices'>, <SCFProperties.MayerIndices: 'mayer_indices'>], keywords={})}\n"
     ]
    }
   ],
   "source": [
    "dataset.export_dataset(\"dataset.json.bz2\")\n",
    "dataset.molecules_to_file('dataset.smi', 'smi')\n",
    "dataset.visualize(\"dataset.pdf\", columns=8)\n",
    "\n",
    "print(dataset.qc_specifications)"
   ]
  },
  {
   "cell_type": "markdown",
   "id": "88a45064-d703-457e-b29b-ba0aa758ca9a",
   "metadata": {},
   "source": [
    "# Dataset information"
   ]
  },
  {
   "cell_type": "code",
   "execution_count": 14,
   "id": "dc940078-e0e4-4395-9e71-69e49064d3a1",
   "metadata": {},
   "outputs": [],
   "source": [
    "import numpy as np\n",
    "from collections import Counter"
   ]
  },
  {
   "cell_type": "code",
   "execution_count": 8,
   "id": "388aff3d-ff0a-4c36-9d83-e6ec82d31db8",
   "metadata": {},
   "outputs": [
    {
     "name": "stdout",
     "output_type": "stream",
     "text": [
      "n_molecules: 63446\n",
      "n_conformers: 297934\n"
     ]
    }
   ],
   "source": [
    "print(\"n_molecules:\", dataset.n_molecules)\n",
    "print(\"n_conformers:\", dataset.n_records)"
   ]
  },
  {
   "cell_type": "code",
   "execution_count": 21,
   "id": "7ccb51cc-523a-43cd-8ab0-b5d63f9141fc",
   "metadata": {},
   "outputs": [
    {
     "name": "stdout",
     "output_type": "stream",
     "text": [
      "Number of conformers (min, mean, max): 1 4.833672188004544 275\n",
      "# heavy atoms\n",
      "  1: 4\n",
      "  2: 9\n",
      "  3: 22\n",
      "  4: 108\n",
      "  5: 259\n",
      "  6: 569\n",
      "  7: 988\n",
      "  8: 2162\n",
      "  9: 3656\n",
      " 10: 8039\n",
      " 11: 8222\n",
      " 12: 8491\n",
      " 13: 6388\n",
      " 14: 3611\n",
      " 15: 2421\n",
      " 16: 1801\n",
      " 17: 1528\n",
      " 18: 1472\n",
      " 19: 1589\n",
      " 20: 1549\n",
      " 21: 1620\n",
      " 22: 1601\n",
      " 23: 1548\n",
      " 24: 1311\n",
      " 25: 1008\n",
      " 26: 893\n",
      " 27: 857\n",
      " 28: 785\n",
      " 29: 720\n",
      " 30: 720\n",
      " 31: 618\n",
      " 32: 556\n",
      " 33: 437\n",
      " 34: 379\n",
      " 35: 170\n",
      " 36: 132\n",
      " 37: 78\n",
      " 38: 80\n",
      " 39: 48\n",
      " 40: 52\n",
      " 41: 38\n",
      " 42: 44\n",
      " 43: 31\n",
      " 44: 35\n",
      " 45: 18\n",
      " 46: 22\n",
      " 47: 17\n",
      " 48: 16\n",
      " 49: 10\n",
      " 50: 12\n",
      " 51: 12\n",
      " 52: 12\n",
      " 53: 17\n",
      " 54: 16\n",
      " 55: 6\n",
      " 56: 12\n",
      " 57: 5\n",
      " 58: 4\n",
      " 59: 2\n",
      " 60: 2\n",
      " 61: 8\n",
      " 62: 5\n",
      " 63: 5\n",
      " 64: 5\n",
      " 65: 3\n",
      " 66: 2\n",
      " 67: 3\n",
      " 68: 6\n",
      " 69: 4\n",
      " 70: 1\n",
      " 72: 1\n",
      " 74: 1\n",
      " 75: 2\n",
      " 76: 1\n",
      " 78: 1\n",
      " 82: 3\n",
      " 83: 1\n",
      " 85: 2\n",
      " 86: 1\n",
      " 90: 1\n",
      " 93: 1\n",
      " 95: 1\n",
      " 98: 1\n",
      " 99: 1\n"
     ]
    }
   ],
   "source": [
    "print(\n",
    "    \"Number of conformers (min, mean, max):\",\n",
    "    n_confs.min(), n_confs.mean(), n_confs.max()\n",
    ")\n",
    "print(\"# heavy atoms\")\n",
    "counts = Counter(n_heavy_atoms)\n",
    "for n_heavy in sorted(counts):\n",
    "    print(f\"{str(n_heavy):>3}: {counts[n_heavy]}\")"
   ]
  },
  {
   "cell_type": "code",
   "execution_count": 15,
   "id": "62625c83-8904-44f7-b219-8c88827bb971",
   "metadata": {},
   "outputs": [
    {
     "name": "stderr",
     "output_type": "stream",
     "text": [
      "48556it [03:02, 127.33it/s]Warning: Problem parsing SMILES:\n",
      "Warning: Inconsistent cis/trans bond stereo.\n",
      "Warning: [H:24][c:1]1[c:2]([c:5]([c:12]2[c:11]([c:4]1[H:27])[c:7]([c:8]([c:15]3[c:13]2[C:10](=[C:14](/[C:17](=[N:19]/[H:34])/[O:22]3)/[C:18](=[N:20]/[C:16]4=[C:6]([C:3](=[C:9]([S:23]4)[H:32])[H:26])[H:29])/[O:21][H:35])[H:33])[H:31])[H:30])[H:28])[H:25]\n",
      "63446it [05:04, 208.28it/s]\n"
     ]
    },
    {
     "data": {
      "text/plain": [
       "{-4.0, -3.0, -2.0, -1.0, 0.0, 1.0, 2.0}"
      ]
     },
     "execution_count": 15,
     "metadata": {},
     "output_type": "execute_result"
    }
   ],
   "source": [
    "from openff.units import unit\n",
    "unique_charges = set()\n",
    "masses = []\n",
    "elements = set()\n",
    "\n",
    "n_confs = []\n",
    "n_heavy_atoms = []\n",
    "for mol in tqdm.tqdm(dataset.molecules):\n",
    "    n_confs.append(mol.n_conformers)\n",
    "    n_heavy_atoms.append(mol.to_rdkit().GetNumHeavyAtoms())\n",
    "    unique_charges.add(mol.total_charge.m)\n",
    "    mass = sum([atom.mass.m for atom in mol.atoms])\n",
    "    masses.append(mass)\n",
    "    els = set([atom.symbol for atom in mol.atoms])\n",
    "    elements |= els\n",
    "unique_charges"
   ]
  },
  {
   "cell_type": "code",
   "execution_count": 16,
   "id": "375d9c5e-b7e7-4fd2-8e19-a9928eaa67c8",
   "metadata": {},
   "outputs": [
    {
     "name": "stdout",
     "output_type": "stream",
     "text": [
      "Number of conformers (min, mean, max): 1 4.695867351763704 275\n",
      "# heavy atoms\n",
      "  1: 1\n",
      "  2: 7\n",
      "  3: 19\n",
      "  4: 93\n",
      "  5: 223\n",
      "  6: 499\n",
      "  7: 876\n",
      "  8: 2022\n",
      "  9: 3265\n",
      " 10: 7315\n",
      " 11: 7891\n",
      " 12: 8140\n",
      " 13: 6091\n",
      " 14: 3374\n",
      " 15: 2254\n",
      " 16: 1698\n",
      " 17: 1460\n",
      " 18: 1420\n",
      " 19: 1534\n",
      " 20: 1507\n",
      " 21: 1576\n",
      " 22: 1574\n",
      " 23: 1527\n",
      " 24: 1285\n",
      " 25: 998\n",
      " 26: 881\n",
      " 27: 852\n",
      " 28: 780\n",
      " 29: 712\n",
      " 30: 710\n",
      " 31: 605\n",
      " 32: 551\n",
      " 33: 430\n",
      " 34: 371\n",
      " 35: 167\n",
      " 36: 125\n",
      " 37: 78\n",
      " 38: 77\n",
      " 39: 46\n",
      " 40: 51\n",
      " 41: 38\n",
      " 42: 41\n",
      " 43: 27\n",
      " 44: 33\n",
      " 45: 16\n",
      " 46: 21\n",
      " 47: 16\n",
      " 48: 16\n",
      " 49: 10\n",
      " 50: 11\n",
      " 51: 10\n",
      " 52: 10\n",
      " 53: 16\n",
      " 54: 14\n",
      " 55: 6\n",
      " 56: 11\n",
      " 57: 5\n",
      " 58: 4\n",
      " 59: 1\n",
      " 60: 2\n",
      " 61: 8\n",
      " 62: 5\n",
      " 63: 4\n",
      " 64: 5\n",
      " 65: 3\n",
      " 66: 1\n",
      " 67: 3\n",
      " 68: 4\n",
      " 69: 3\n",
      " 70: 1\n",
      " 72: 1\n",
      " 74: 1\n",
      " 75: 2\n",
      " 76: 1\n",
      " 78: 1\n",
      " 82: 3\n",
      " 83: 1\n",
      " 85: 2\n",
      " 86: 1\n",
      " 90: 1\n",
      " 95: 1\n",
      " 99: 1\n"
     ]
    }
   ],
   "source": [
    "n_confs = np.array(n_confs)\n",
    "print(\n",
    "    \"Number of conformers (min, mean, max):\",\n",
    "    n_confs.min(), n_confs.mean(), n_confs.max()\n",
    ")\n",
    "print(\"# heavy atoms\")\n",
    "counts = Counter(n_heavy_atoms)\n",
    "for n_heavy in sorted(counts):\n",
    "    print(f\"{str(n_heavy):>3}: {counts[n_heavy]}\")"
   ]
  },
  {
   "cell_type": "code",
   "execution_count": 17,
   "id": "f0291cf3-b3b4-4dfd-a2ac-07612c8d713a",
   "metadata": {},
   "outputs": [
    {
     "name": "stdout",
     "output_type": "stream",
     "text": [
      "MW (min, mean, max): 16.042568 224.35978900176767 1425.3385582000012\n"
     ]
    }
   ],
   "source": [
    "masses = np.array(masses)\n",
    "print(\"MW (min, mean, max):\", masses.min(), masses.mean(), masses.max())"
   ]
  },
  {
   "cell_type": "code",
   "execution_count": 18,
   "id": "4d17e60d-eb09-4a0c-a243-8c05fba536db",
   "metadata": {},
   "outputs": [
    {
     "name": "stdout",
     "output_type": "stream",
     "text": [
      "{'S', 'H', 'O', 'Br', 'F', 'N', 'P', 'Cl', 'I', 'C'}\n"
     ]
    }
   ],
   "source": [
    "print(elements)"
   ]
  },
  {
   "cell_type": "code",
   "execution_count": 23,
   "id": "1dae4d9d-39a1-4f67-835b-e8c1402f1f37",
   "metadata": {},
   "outputs": [
    {
     "name": "stdout",
     "output_type": "stream",
     "text": [
      "* Spec: default\n",
      "  * basis: DZVP\n",
      "  * implicit_solvent: None\n",
      "  * keywords: {}\n",
      "  * maxiter: 200\n",
      "  * method: B3LYP-D3BJ\n",
      "  * program: psi4\n",
      "  * SCF properties:\n",
      "    * dipole\n",
      "    * quadrupole\n",
      "    * wiberg_lowdin_indices\n",
      "    * mayer_indices\n"
     ]
    }
   ],
   "source": [
    "def print_field(od, field): print(f\"  * {field}: {od[field]}\")\n",
    "\n",
    "fields = [\"basis\", \"implicit_solvent\", \"keywords\", \"maxiter\", \"method\", \"program\"]\n",
    "for spec, obj in dataset.qc_specifications.items():\n",
    "    od = obj.dict()\n",
    "    print(\"* Spec:\", spec)\n",
    "    for field in fields:\n",
    "        print_field(od, field)\n",
    "    print(\"  * SCF properties:\")\n",
    "    for field in od[\"scf_properties\"]:\n",
    "        print(f\"    * {field}\")"
   ]
  },
  {
   "cell_type": "code",
   "execution_count": null,
   "id": "da6e8e62-2ab1-48cc-9a81-085fd9133ea2",
   "metadata": {},
   "outputs": [],
   "source": []
  }
 ],
 "metadata": {
  "kernelspec": {
   "display_name": "Python (qcarchive-user-submit)",
   "language": "python",
   "name": "qcarchive-user-submit"
  },
  "language_info": {
   "codemirror_mode": {
    "name": "ipython",
    "version": 3
   },
   "file_extension": ".py",
   "mimetype": "text/x-python",
   "name": "python",
   "nbconvert_exporter": "python",
   "pygments_lexer": "ipython3",
   "version": "3.11.11"
  }
 },
 "nbformat": 4,
 "nbformat_minor": 5
}
