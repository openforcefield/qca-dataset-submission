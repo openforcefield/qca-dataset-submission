{
 "cells": [
  {
   "cell_type": "code",
   "execution_count": 9,
   "metadata": {},
   "outputs": [],
   "source": [
    "import logging\n",
    "import bz2\n",
    "import sys\n",
    "import os"
   ]
  },
  {
   "cell_type": "code",
   "execution_count": 10,
   "metadata": {},
   "outputs": [],
   "source": [
    "import numpy as np"
   ]
  },
  {
   "cell_type": "code",
   "execution_count": 11,
   "metadata": {},
   "outputs": [],
   "source": [
    "import qcfractal.interface as ptl\n",
    "import tqdm\n",
    "import sys\n",
    "from qcsubmit import workflow_components\n",
    "from qcsubmit.factories import OptimizationDatasetFactory\n",
    "from openforcefield.topology import Molecule"
   ]
  },
  {
   "cell_type": "code",
   "execution_count": 12,
   "metadata": {},
   "outputs": [],
   "source": [
    "# Need to turn off undefined stereochemistry warnings\n",
    "logging.getLogger().setLevel(logging.ERROR)"
   ]
  },
  {
   "cell_type": "code",
   "execution_count": 13,
   "metadata": {},
   "outputs": [],
   "source": [
    "def test_submit(qcs_ds, client):\n",
    "    result = qcs_ds.submit(client)\n",
    "    print(result)\n",
    "    print(\"Total tasks:\", sum(result.values()))\n",
    "\n",
    "def test_submit_to_local_server(qcs_ds):\n",
    "    print(\"Submitting to test-run to local server\")\n",
    "    client = ptl.FractalClient(\"localhost:7777\", verify=False)\n",
    "    test_submit(qcs_ds, client)\n",
    "    \n",
    "def test_submit_to_test_server(qcs_ds):\n",
    "    from qcfractal import FractalSnowflakeHandler\n",
    "    print(\"Submitting test-run to in-memory server\")\n",
    "    server = FractalSnowflakeHandler()\n",
    "    test_submit(qcs_ds, server.client())\n"
   ]
  },
  {
   "cell_type": "code",
   "execution_count": 14,
   "metadata": {},
   "outputs": [
    {
     "name": "stdout",
     "output_type": "stream",
     "text": [
      "\n",
      "Files loaded; molecules generated.\n"
     ]
    }
   ],
   "source": [
    "sdf_file = \"./pubLigsNeutralGoodDensity.sdf\"\n",
    "\n",
    "mols = Molecule.from_file(sdf_file,\n",
    "                          \"sdf\",\n",
    "                          allow_undefined_stereo=True,\n",
    "                         )\n",
    "\n",
    "\n",
    "print(\"\\nFiles loaded; molecules generated.\")"
   ]
  },
  {
   "cell_type": "code",
   "execution_count": 16,
   "metadata": {},
   "outputs": [],
   "source": [
    "# Generate the workflow to apply to the molecules\n",
    "qcs_ds = OptimizationDatasetFactory()\n",
    "\n",
    "component = workflow_components.RotorFilter()\n",
    "component.maximum_rotors = 3\n",
    "qcs_ds.add_workflow_component(component)\n",
    "\n",
    "component = workflow_components.EnumerateStereoisomers()\n",
    "component.max_isomers = 100\n",
    "component.toolkit = \"openeye\"\n",
    "qcs_ds.add_workflow_component(component)\n",
    "\n",
    "component = workflow_components.StandardConformerGenerator()\n",
    "component.max_conformers = 100\n",
    "component.toolkit = \"openeye\"\n",
    "component.rms_cutoff = 3.0\n",
    "qcs_ds.add_workflow_component(component)"
   ]
  },
  {
   "cell_type": "code",
   "execution_count": 17,
   "metadata": {},
   "outputs": [
    {
     "name": "stderr",
     "output_type": "stream",
     "text": [
      "Deduplication                 : 100%|████████| 648/648 [00:00<00:00, 677.74it/s]\n",
      "RotorFilter                   : 100%|████████| 646/646 [00:02<00:00, 216.35it/s]\n",
      "EnumerateStereoisomers        : 100%|█████████| 127/127 [01:51<00:00,  1.14it/s]\n",
      "StandardConformerGenerator    : 100%|█████████| 445/445 [00:55<00:00,  7.99it/s]\n",
      "Preparation                   : 100%|█████████| 445/445 [00:11<00:00, 40.37it/s]"
     ]
    },
    {
     "name": "stdout",
     "output_type": "stream",
     "text": [
      "Workflow complete; dataset generated.\n"
     ]
    },
    {
     "name": "stderr",
     "output_type": "stream",
     "text": [
      "\n"
     ]
    }
   ],
   "source": [
    "dataset = qcs_ds.create_dataset(\n",
    "    dataset_name=\"Genentech PDB Ligand Expo whole optimization neutral v1.0\",\n",
    "    molecules=mols,\n",
    "    description=\"Genentech PDB Ligand Expo optimization dataset neutral\",\n",
    "    tagline=\"Optimization set\",\n",
    ")\n",
    "print(\"Workflow complete; dataset generated.\")"
   ]
  },
  {
   "cell_type": "code",
   "execution_count": 18,
   "metadata": {},
   "outputs": [
    {
     "name": "stdout",
     "output_type": "stream",
     "text": [
      "Number of unique molecules        445\n",
      "Number of filtered molecules      519\n",
      "Number of conformers              445\n",
      "Number of conformers min mean max 1   1.00 1\n"
     ]
    }
   ],
   "source": [
    "dataset.metadata.short_description = \"Optimization set\"\n",
    "dataset.metadata.long_description_url = \"https://github.com/openforcefield/qca-dataset-submission/tree/master/submissions/2020-11-19-Genentech-PDB-Ligand-Expo-whole-optimization-neutral-v1.0\"\n",
    "dataset.metadata.long_description = \"Genentech PDB Ligand Expo neutral molecules set\"\n",
    "\n",
    "confs = np.array([len(mol.conformers) for mol in dataset.molecules])\n",
    "print(\"Number of unique molecules       \", dataset.n_molecules)\n",
    "print(\"Number of filtered molecules     \", dataset.n_filtered)\n",
    "print(\"Number of conformers             \", dataset.n_records)\n",
    "print(\"Number of conformers min mean max\", \n",
    "      confs.min(), \"{:6.2f}\".format(confs.mean()), confs.max())\n",
    "\n",
    "dataset.export_dataset(\"dataset.json.bz2\")"
   ]
  },
  {
   "cell_type": "code",
   "execution_count": 19,
   "metadata": {},
   "outputs": [
    {
     "name": "stdout",
     "output_type": "stream",
     "text": [
      "Submitting test-run to in-memory server\n",
      "{'default': 445}\n",
      "Total tasks: 445\n",
      "CPU times: user 8.7 s, sys: 316 ms, total: 9.01 s\n",
      "Wall time: 27.5 s\n"
     ]
    }
   ],
   "source": [
    "%time test_submit_to_test_server(dataset)"
   ]
  },
  {
   "cell_type": "code",
   "execution_count": 20,
   "metadata": {},
   "outputs": [],
   "source": [
    "from qcsubmit.datasets import OptimizationDataset\n",
    "dataset = OptimizationDataset.parse_file('./dataset.json.bz2')\n",
    "dataset.metadata.long_description = \"This dataset contains Genentech PDB Ligand Expo neutral set of molecules that filters greater than 3 rotors\"\n",
    "dataset.metadata.submitter = 'pavankum'\n",
    "dataset.export_dataset(\"dataset.json.bz2\")"
   ]
  },
  {
   "cell_type": "code",
   "execution_count": 21,
   "metadata": {},
   "outputs": [],
   "source": [
    "from qcsubmit.datasets import OptimizationDataset\n",
    "ds = OptimizationDataset.parse_file('./dataset.json.bz2')\n",
    "ds.visualize('visualize.pdf')"
   ]
  },
  {
   "cell_type": "code",
   "execution_count": 22,
   "metadata": {},
   "outputs": [],
   "source": [
    "# Generate the workflow to apply to the molecules\n",
    "qcs_ds = OptimizationDatasetFactory()\n",
    "\n",
    "component = workflow_components.EnumerateStereoisomers()\n",
    "component.max_isomers = 100\n",
    "component.toolkit = \"openeye\"\n",
    "qcs_ds.add_workflow_component(component)\n",
    "\n",
    "component = workflow_components.StandardConformerGenerator()\n",
    "component.max_conformers = 100\n",
    "component.toolkit = \"openeye\"\n",
    "component.rms_cutoff = 3.0\n",
    "qcs_ds.add_workflow_component(component)"
   ]
  },
  {
   "cell_type": "code",
   "execution_count": 23,
   "metadata": {},
   "outputs": [
    {
     "name": "stderr",
     "output_type": "stream",
     "text": [
      "Deduplication                 : 100%|████████| 648/648 [00:00<00:00, 653.26it/s]\n",
      "EnumerateStereoisomers        : 100%|█████████| 646/646 [09:19<00:00,  1.16it/s]\n",
      "StandardConformerGenerator    : 100%|███████| 3101/3101 [09:11<00:00,  5.62it/s]\n",
      "Preparation                   : 100%|███████| 3090/3090 [01:33<00:00, 33.07it/s]"
     ]
    },
    {
     "name": "stdout",
     "output_type": "stream",
     "text": [
      "Workflow complete; dataset generated.\n"
     ]
    },
    {
     "name": "stderr",
     "output_type": "stream",
     "text": [
      "\n"
     ]
    }
   ],
   "source": [
    "dataset_whole = qcs_ds.create_dataset(\n",
    "    dataset_name=\"Genentech PDB Ligand Expo whole optimization neutral v1.0\",\n",
    "    molecules=mols,\n",
    "    description=\"Genentech PDB Ligand Expo optimization dataset neutral\",\n",
    "    tagline=\"Optimization set\",\n",
    ")\n",
    "print(\"Workflow complete; dataset generated.\")"
   ]
  },
  {
   "cell_type": "code",
   "execution_count": 28,
   "metadata": {},
   "outputs": [
    {
     "name": "stdout",
     "output_type": "stream",
     "text": [
      "Number of unique molecules        3090\n",
      "Number of filtered molecules      2\n",
      "Number of conformers              3574\n",
      "Number of conformers min mean max 1   1.16 4\n"
     ]
    }
   ],
   "source": [
    "confs = np.array([len(mol.conformers) for mol in dataset_whole.molecules])\n",
    "print(\"Number of unique molecules       \", dataset_whole.n_molecules)\n",
    "print(\"Number of filtered molecules     \", dataset_whole.n_filtered)\n",
    "print(\"Number of conformers             \", dataset_whole.n_records)\n",
    "print(\"Number of conformers min mean max\", \n",
    "      confs.min(), \"{:6.2f}\".format(confs.mean()), confs.max())\n",
    "\n",
    "dataset_whole.export_dataset(\"dataset_whole.json.bz2\")"
   ]
  },
  {
   "cell_type": "code",
   "execution_count": 29,
   "metadata": {},
   "outputs": [],
   "source": [
    "from qcsubmit.datasets import OptimizationDataset\n",
    "ds = OptimizationDataset.parse_file('./dataset_whole.json.bz2')\n",
    "ds.visualize('visualize_whole.pdf')"
   ]
  },
  {
   "cell_type": "code",
   "execution_count": null,
   "metadata": {},
   "outputs": [],
   "source": []
  }
 ],
 "metadata": {
  "jupytext": {
   "cell_metadata_filter": "-all",
   "executable": "/usr/bin/env python3",
   "main_language": "python",
   "notebook_metadata_filter": "-all"
  },
  "kernelspec": {
   "display_name": "Python 3",
   "language": "python",
   "name": "python3"
  },
  "language_info": {
   "codemirror_mode": {
    "name": "ipython",
    "version": 3
   },
   "file_extension": ".py",
   "mimetype": "text/x-python",
   "name": "python",
   "nbconvert_exporter": "python",
   "pygments_lexer": "ipython3",
   "version": "3.7.8"
  }
 },
 "nbformat": 4,
 "nbformat_minor": 4
}
