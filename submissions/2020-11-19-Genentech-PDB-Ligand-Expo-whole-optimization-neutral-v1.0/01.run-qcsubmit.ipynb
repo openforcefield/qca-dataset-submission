{
 "cells": [
  {
   "cell_type": "code",
   "execution_count": 1,
   "metadata": {},
   "outputs": [],
   "source": [
    "import logging\n",
    "import bz2\n",
    "import sys\n",
    "import os"
   ]
  },
  {
   "cell_type": "code",
   "execution_count": 2,
   "metadata": {},
   "outputs": [],
   "source": [
    "import numpy as np"
   ]
  },
  {
   "cell_type": "code",
   "execution_count": 3,
   "metadata": {},
   "outputs": [
    {
     "data": {
      "application/vnd.jupyter.widget-view+json": {
       "model_id": "050891e36a8347688bdb37220ab1093d",
       "version_major": 2,
       "version_minor": 0
      },
      "text/plain": []
     },
     "metadata": {},
     "output_type": "display_data"
    }
   ],
   "source": [
    "import qcfractal.interface as ptl\n",
    "import tqdm\n",
    "import sys\n",
    "from qcsubmit import workflow_components\n",
    "from qcsubmit.factories import OptimizationDatasetFactory\n",
    "from openforcefield.topology import Molecule"
   ]
  },
  {
   "cell_type": "code",
   "execution_count": 4,
   "metadata": {},
   "outputs": [],
   "source": [
    "# Need to turn off undefined stereochemistry warnings\n",
    "logging.getLogger().setLevel(logging.ERROR)"
   ]
  },
  {
   "cell_type": "code",
   "execution_count": 5,
   "metadata": {},
   "outputs": [],
   "source": [
    "def test_submit(qcs_ds, client):\n",
    "    result = qcs_ds.submit(client)\n",
    "    print(result)\n",
    "    print(\"Total tasks:\", sum(result.values()))\n",
    "\n",
    "def test_submit_to_local_server(qcs_ds):\n",
    "    print(\"Submitting to test-run to local server\")\n",
    "    client = ptl.FractalClient(\"localhost:7777\", verify=False)\n",
    "    test_submit(qcs_ds, client)\n",
    "    \n",
    "def test_submit_to_test_server(qcs_ds):\n",
    "    from qcfractal import FractalSnowflakeHandler\n",
    "    print(\"Submitting test-run to in-memory server\")\n",
    "    server = FractalSnowflakeHandler()\n",
    "    test_submit(qcs_ds, server.client())\n"
   ]
  },
  {
   "cell_type": "code",
   "execution_count": 6,
   "metadata": {},
   "outputs": [
    {
     "name": "stdout",
     "output_type": "stream",
     "text": [
      "\n",
      "Files loaded; molecules generated.\n"
     ]
    }
   ],
   "source": [
    "sdf_file = \"./pubLigsNeutralGoodDensity.sdf\"\n",
    "\n",
    "mols = Molecule.from_file(sdf_file,\n",
    "                          \"sdf\",\n",
    "                          allow_undefined_stereo=True,\n",
    "                         )\n",
    "\n",
    "\n",
    "print(\"\\nFiles loaded; molecules generated.\")"
   ]
  },
  {
   "cell_type": "code",
   "execution_count": 7,
   "metadata": {},
   "outputs": [],
   "source": [
    "# Generate the workflow to apply to the molecules\n",
    "qcs_ds = OptimizationDatasetFactory()\n",
    "\n",
    "component = workflow_components.RotorFilter()\n",
    "component.maximum_rotors = 3\n",
    "qcs_ds.add_workflow_component(component)\n",
    "\n",
    "component = workflow_components.EnumerateStereoisomers()\n",
    "component.max_isomers = 100\n",
    "component.toolkit = \"openeye\"\n",
    "qcs_ds.add_workflow_component(component)\n",
    "\n",
    "component = workflow_components.StandardConformerGenerator()\n",
    "component.max_conformers = 100\n",
    "component.toolkit = \"openeye\"\n",
    "component.rms_cutoff = 3.0\n",
    "qcs_ds.add_workflow_component(component)"
   ]
  },
  {
   "cell_type": "code",
   "execution_count": 8,
   "metadata": {},
   "outputs": [
    {
     "name": "stderr",
     "output_type": "stream",
     "text": [
      "Deduplication                 : 100%|████████| 648/648 [00:01<00:00, 435.17it/s]\n",
      "RotorFilter                   : 100%|████████| 646/646 [00:04<00:00, 134.09it/s]\n",
      "EnumerateStereoisomers        : 100%|█████████| 127/127 [02:50<00:00,  1.34s/it]\n",
      "StandardConformerGenerator    : 100%|█████████| 445/445 [01:23<00:00,  5.35it/s]\n",
      "Preparation                   : 100%|█████████| 445/445 [00:16<00:00, 27.39it/s]"
     ]
    },
    {
     "name": "stdout",
     "output_type": "stream",
     "text": [
      "Workflow complete; dataset generated.\n"
     ]
    },
    {
     "name": "stderr",
     "output_type": "stream",
     "text": [
      "\n"
     ]
    }
   ],
   "source": [
    "dataset = qcs_ds.create_dataset(\n",
    "    dataset_name=\"Genentech PDB Ligand Expo whole optimization neutral v1.0\",\n",
    "    molecules=mols,\n",
    "    description=\"Genentech PDB Ligand Expo optimization dataset with neutral molecules, rotors > 3 are filtered out\",\n",
    "    tagline=\"Optimization set\",\n",
    ")\n",
    "print(\"Workflow complete; dataset generated.\")"
   ]
  },
  {
   "cell_type": "code",
   "execution_count": 9,
   "metadata": {},
   "outputs": [
    {
     "name": "stdout",
     "output_type": "stream",
     "text": [
      "Number of unique molecules        445\n",
      "Number of filtered molecules      519\n",
      "Number of conformers              445\n",
      "Number of conformers min mean max 1   1.00 1\n"
     ]
    }
   ],
   "source": [
    "dataset.metadata.short_description = \"Optimization set\"\n",
    "dataset.metadata.long_description_url = \"https://github.com/openforcefield/qca-dataset-submission/tree/master/submissions/2020-11-19-Genentech-PDB-Ligand-Expo-whole-optimization-neutral-v1.0\"\n",
    "dataset.metadata.long_description = \"Genentech PDB Ligand Expo neutral molecules set\"\n",
    "\n",
    "confs = np.array([len(mol.conformers) for mol in dataset.molecules])\n",
    "print(\"Number of unique molecules       \", dataset.n_molecules)\n",
    "print(\"Number of filtered molecules     \", dataset.n_filtered)\n",
    "print(\"Number of conformers             \", dataset.n_records)\n",
    "print(\"Number of conformers min mean max\", \n",
    "      confs.min(), \"{:6.2f}\".format(confs.mean()), confs.max())\n",
    "\n",
    "dataset.export_dataset(\"dataset.json.bz2\")"
   ]
  },
  {
   "cell_type": "code",
   "execution_count": 10,
   "metadata": {},
   "outputs": [
    {
     "name": "stdout",
     "output_type": "stream",
     "text": [
      "Submitting test-run to in-memory server\n",
      "{'default': 445}\n",
      "Total tasks: 445\n",
      "CPU times: user 10.8 s, sys: 382 ms, total: 11.2 s\n",
      "Wall time: 34.5 s\n"
     ]
    }
   ],
   "source": [
    "%time test_submit_to_test_server(dataset)"
   ]
  },
  {
   "cell_type": "code",
   "execution_count": 11,
   "metadata": {},
   "outputs": [],
   "source": [
    "from qcsubmit.datasets import OptimizationDataset\n",
    "dataset = OptimizationDataset.parse_file('./dataset.json.bz2')\n",
    "dataset.metadata.long_description = \"This dataset contains Genentech PDB Ligand Expo neutral set of molecules that filters out greater than 3 rotors\"\n",
    "dataset.metadata.submitter = 'pavankum'\n",
    "dataset.export_dataset(\"dataset.json.bz2\")"
   ]
  },
  {
   "cell_type": "code",
   "execution_count": 12,
   "metadata": {},
   "outputs": [],
   "source": [
    "from qcsubmit.datasets import OptimizationDataset\n",
    "ds = OptimizationDataset.parse_file('./dataset.json.bz2')\n",
    "ds.visualize('visualize.pdf')"
   ]
  },
  {
   "cell_type": "code",
   "execution_count": null,
   "metadata": {},
   "outputs": [],
   "source": []
  }
 ],
 "metadata": {
  "jupytext": {
   "cell_metadata_filter": "-all",
   "executable": "/usr/bin/env python3",
   "main_language": "python",
   "notebook_metadata_filter": "-all"
  },
  "kernelspec": {
   "display_name": "Python 3",
   "language": "python",
   "name": "python3"
  },
  "language_info": {
   "codemirror_mode": {
    "name": "ipython",
    "version": 3
   },
   "file_extension": ".py",
   "mimetype": "text/x-python",
   "name": "python",
   "nbconvert_exporter": "python",
   "pygments_lexer": "ipython3",
   "version": "3.7.8"
  }
 },
 "nbformat": 4,
 "nbformat_minor": 4
}
