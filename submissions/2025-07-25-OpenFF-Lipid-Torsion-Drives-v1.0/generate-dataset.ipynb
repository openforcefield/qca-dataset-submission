{
 "cells": [
  {
   "cell_type": "markdown",
   "metadata": {},
   "source": [
    "# OpenFF Lipid Torsion Drives v 1.0\n",
    "\n",
    "This notebook generates additional torsiondrives from lipid-like molecules for Sage training "
   ]
  },
  {
   "cell_type": "code",
   "execution_count": 1,
   "metadata": {},
   "outputs": [
    {
     "name": "stderr",
     "output_type": "stream",
     "text": [
      "/home/julianne/miniconda3/envs/qcarchive-user-submit/lib/python3.11/site-packages/smirnoff99frosst/smirnoff99frosst.py:11: UserWarning: pkg_resources is deprecated as an API. See https://setuptools.pypa.io/en/latest/pkg_resources.html. The pkg_resources package is slated for removal as early as 2025-11-30. Refrain from using this package or pin to Setuptools<81.\n",
      "  from pkg_resources import resource_filename\n"
     ]
    }
   ],
   "source": [
    "import zstandard\n",
    "import qcportal\n",
    "import pathlib\n",
    "\n",
    "from openff.toolkit import Molecule, ForceField\n",
    "import numpy as np\n",
    "\n",
    "from openff.qcsubmit.utils import get_symmetry_classes, get_symmetry_group\n",
    "from openff.qcsubmit.workflow_components import TorsionIndexer\n",
    "from openff.qcsubmit import workflow_components\n",
    "from openff.qcsubmit.factories import TorsiondriveDatasetFactory\n",
    "from openff.qcsubmit.utils.visualize import molecules_to_pdf"
   ]
  },
  {
   "cell_type": "code",
   "execution_count": 2,
   "metadata": {},
   "outputs": [],
   "source": [
    "def load_molecules(\n",
    "    files: list[str],\n",
    "    target_params: list[str],\n",
    ") -> list[Molecule]:\n",
    "    \"\"\"Load SMILES from files and assign dihedrals to rotate around any of the given target SMIRKS parameters\"\"\"\n",
    "    \n",
    "    case_molecules = []\n",
    "    forcefield = ForceField(\"openff-2.1.0.offxml\")\n",
    "\n",
    "    for file in files:\n",
    "        molecules = Molecule.from_file(file, allow_undefined_stereo=True)\n",
    "    \n",
    "        for mol in molecules:\n",
    "            unique_central_bonds = set()\n",
    "            torsion_indexer = TorsionIndexer()\n",
    "            symmetry_classes = get_symmetry_classes(mol)\n",
    "\n",
    "            labels = forcefield.label_molecules(mol.to_topology())[0][\"ProperTorsions\"]\n",
    "            for (i, j, k, l), parameter in labels.items():\n",
    "                if parameter.id not in target_params:\n",
    "                    continue\n",
    "                central_bond = tuple(sorted([j, k]))\n",
    "                # skip ring torsions\n",
    "                if mol.get_bond_between(j, k).is_in_ring():\n",
    "                    continue\n",
    "                # skip duplicates\n",
    "                if central_bond in unique_central_bonds:\n",
    "                    continue\n",
    "                    \n",
    "                symmetry_group = get_symmetry_group(central_bond, symmetry_classes)\n",
    "                torsion_indexer.add_torsion((i, j, k, l), symmetry_group, (-165, 180))\n",
    "                unique_central_bonds.add(central_bond)\n",
    "    \n",
    "            if len(torsion_indexer.torsions) == 0:\n",
    "                continue  # skip molecule if no matching torsions found\n",
    "\n",
    "            mol.properties[\"dihedrals\"] = torsion_indexer\n",
    "            case_molecules.append(mol)\n",
    "\n",
    "    return case_molecules\n",
    "\n",
    "\n",
    "def visualize(mols, filename):\n",
    "    \"\"\"Draw output molecules as PDF\"\"\"\n",
    "    new_mols = []\n",
    "    for mol in mols:\n",
    "        for val in mol.properties[\"dihedrals\"].torsions.values():\n",
    "            new_mol = Molecule(mol)\n",
    "            new_mol.properties[\"dihedrals\"] = val.get_dihedrals\n",
    "            new_mols.append(new_mol)\n",
    "    molecules_to_pdf(new_mols, filename)"
   ]
  },
  {
   "cell_type": "code",
   "execution_count": 3,
   "metadata": {},
   "outputs": [
    {
     "data": {
      "text/plain": [
       "16"
      ]
     },
     "execution_count": 3,
     "metadata": {},
     "output_type": "execute_result"
    }
   ],
   "source": [
    "target_param = [\n",
    "    # glycerol backbone parameters\n",
    "    \"t5\",\n",
    "    \"t95\", # also applies to phosphate headgroup\n",
    "    \"t97\", \n",
    "    \"t107\",\n",
    "    \"t110\",\n",
    "    # ester backbone parameters\n",
    "    \"t9\",\n",
    "    \"t17\",\n",
    "    \"t18\", # also applies to alkenes \n",
    "    \"t19\",\n",
    "    # alkene parameters\n",
    "    \"t45\",\n",
    "    \"t46\",\n",
    "    # amine headgroup parameters\n",
    "    \"t50\",\n",
    "    \"t58\",\n",
    "    # phosphate headgroup parameters\n",
    "    \"t159\",\n",
    "    \"t160\"\n",
    "]\n",
    "\n",
    "lipid_molecules = load_molecules(files=[\"input.smi\"], target_params=target_param)\n",
    "len(lipid_molecules)"
   ]
  },
  {
   "cell_type": "code",
   "execution_count": 4,
   "metadata": {},
   "outputs": [],
   "source": [
    "visualize(lipid_molecules, \"dataset.pdf\")"
   ]
  },
  {
   "cell_type": "markdown",
   "metadata": {},
   "source": [
    "# Dataset Preparation"
   ]
  },
  {
   "cell_type": "code",
   "execution_count": 6,
   "metadata": {},
   "outputs": [
    {
     "name": "stderr",
     "output_type": "stream",
     "text": [
      "Deduplication                 : 100%|██████████| 16/16 [00:00<00:00, 322.46it/s]\n",
      "StandardConformerGenerator    :   0%|                    | 0/16 [00:00<?, ?it/s]Warning: Cannot perform Hydrogen sampling with GPU-Omega: GPU-Omega disabled.\n",
      "Warning: Cannot perform Hydrogen sampling with GPU-Omega: GPU-Omega disabled.\n",
      "Warning: Cannot perform Hydrogen sampling with GPU-Omega: GPU-Omega disabled.\n",
      "Warning: Cannot perform Hydrogen sampling with GPU-Omega: GPU-Omega disabled.\n",
      "Warning: : Failed due to unspecified stereochemistry\n",
      "Warning: Cannot perform Hydrogen sampling with GPU-Omega: GPU-Omega disabled.\n",
      "Warning: Cannot perform Hydrogen sampling with GPU-Omega: GPU-Omega disabled.\n",
      "Warning: Cannot perform Hydrogen sampling with GPU-Omega: GPU-Omega disabled.\n",
      "Warning: Cannot perform Hydrogen sampling with GPU-Omega: GPU-Omega disabled.\n",
      "Warning: Cannot perform Hydrogen sampling with GPU-Omega: GPU-Omega disabled.\n",
      "Warning: Cannot perform Hydrogen sampling with GPU-Omega: GPU-Omega disabled.\n",
      "Warning: Cannot perform Hydrogen sampling with GPU-Omega: GPU-Omega disabled.\n",
      "Warning: Cannot perform Hydrogen sampling with GPU-Omega: GPU-Omega disabled.\n",
      "Warning: : Failed due to unspecified stereochemistry\n",
      "Warning: Cannot perform Hydrogen sampling with GPU-Omega: GPU-Omega disabled.\n",
      "Warning: : Failed due to unspecified stereochemistry\n",
      "Warning: Cannot perform Hydrogen sampling with GPU-Omega: GPU-Omega disabled.\n",
      "Warning: Cannot perform Hydrogen sampling with GPU-Omega: GPU-Omega disabled.\n",
      "Warning: Cannot perform Hydrogen sampling with GPU-Omega: GPU-Omega disabled.\n",
      "StandardConformerGenerator    : 100%|███████████| 16/16 [00:04<00:00,  3.81it/s]\n",
      "Preparation                   : 100%|███████████| 16/16 [00:05<00:00,  3.19it/s]\n"
     ]
    }
   ],
   "source": [
    "dataset_factory = TorsiondriveDatasetFactory()\n",
    "dataset_factory.add_workflow_components(\n",
    "    workflow_components.StandardConformerGenerator(max_conformers=5)\n",
    ")\n",
    "\n",
    "description = \"A torsiondrive data set created to improve the coverage of lipid-like parameters in Sage.\"\n",
    "dataset = dataset_factory.create_dataset(\n",
    "    dataset_name=\"OpenFF Lipid Torsion Drives v4.0\",\n",
    "    tagline=\"Improve lipid torsiondrive coverage in Sage\",\n",
    "    description=description,\n",
    "    molecules=lipid_molecules,\n",
    ")\n",
    "\n",
    "dataset.metadata.submitter = \"JHoeflich1\"\n",
    "dataset.metadata.long_description_url = (\n",
    "    \"https://github.com/openforcefield/qca-dataset-submission/tree/master/\"\n",
    "    \"submissions/\" + str(pathlib.Path.cwd().name)\n",
    ")"
   ]
  },
  {
   "cell_type": "code",
   "execution_count": 7,
   "metadata": {},
   "outputs": [
    {
     "name": "stdout",
     "output_type": "stream",
     "text": [
      "* Number of unique molecules: 16\n",
      "* Number of driven torsions: 78\n",
      "* Number of filtered molecules: 0\n",
      "* Number of conformers: 321\n",
      "* Number of conformers per molecule (min, mean, max): 1, 4.12, 5\n",
      "* Mean molecular weight: 194.30\n",
      "* Min molecular weight: 74.08\n",
      "* Max molecular weight: 297.22\n",
      "* Charges: [-1.0, 0.0, 1.0]\n",
      "## Metadata\n",
      "* Elements: {C, H, O, P, N}\n",
      "* Spec: default\n",
      "\t * basis: DZVP\n",
      "\t * implicit_solvent: None\n",
      "\t * keywords: {}\n",
      "\t * maxiter: 200\n",
      "\t * method: B3LYP-D3BJ\n",
      "\t * program: psi4\n",
      "\t* SCF properties:\n",
      "\t\t* dipole\n",
      "\t\t* quadrupole\n",
      "\t\t* wiberg_lowdin_indices\n",
      "\t\t* mayer_indices\n"
     ]
    }
   ],
   "source": [
    "# summarize dataset for readme\n",
    "confs = np.array([len(mol.conformers) for mol in dataset.molecules])\n",
    "\n",
    "print(\"* Number of unique molecules:\", dataset.n_molecules)\n",
    "# With multiple torsions per unique molecule, n_molecules * confs.mean() no\n",
    "# longer equals the number of conformers. instead, the number of dihedrals *\n",
    "# confs.mean() should equal the number of conformers. The dataset contains one\n",
    "# record per driven torsion (rather than combining multiple dihedrals into the\n",
    "# same record), so n_records is the same as manually adding up len(dihedrals)\n",
    "# for each record.\n",
    "print(\"* Number of driven torsions:\", dataset.n_records)\n",
    "print(\"* Number of filtered molecules:\", dataset.n_filtered)\n",
    "print(\"* Number of conformers:\", sum(confs))\n",
    "print(\n",
    "    \"* Number of conformers per molecule (min, mean, max): \"\n",
    "    f\"{confs.min()}, {confs.mean():.2f}, {confs.max()}\"\n",
    ")\n",
    "\n",
    "masses = [\n",
    "    [\n",
    "        sum([atom.mass.m for atom in molecule.atoms])\n",
    "        for molecule in dataset.molecules\n",
    "    ]\n",
    "]\n",
    "print(f\"* Mean molecular weight: {np.mean(np.array(masses)):.2f}\")\n",
    "print(f\"* Min molecular weight: {np.min(np.array(masses)):.2f}\")\n",
    "print(f\"* Max molecular weight: {np.max(np.array(masses)):.2f}\")\n",
    "print(\"* Charges:\", sorted(set(m.total_charge.m for m in dataset.molecules)))\n",
    "\n",
    "\n",
    "print(\"## Metadata\")\n",
    "print(f\"* Elements: {{{', '.join(dataset.metadata.dict()['elements'])}}}\")\n",
    "\n",
    "\n",
    "fields = [\n",
    "    \"basis\",\n",
    "    \"implicit_solvent\",\n",
    "    \"keywords\",\n",
    "    \"maxiter\",\n",
    "    \"method\",\n",
    "    \"program\",\n",
    "]\n",
    "for spec, obj in dataset.qc_specifications.items():\n",
    "    od = obj.dict()\n",
    "    print(\"* Spec:\", spec)\n",
    "    for field in fields:\n",
    "        print(f\"\\t * {field}: {od[field]}\")\n",
    "    print(\"\\t* SCF properties:\")\n",
    "    for field in od[\"scf_properties\"]:\n",
    "        print(f\"\\t\\t* {field}\")\n",
    "\n",
    "\n",
    "# export the dataset\n",
    "dataset.export_dataset(\"dataset.json.bz2\")\n",
    "dataset.molecules_to_file(\"output.smi\", \"smi\")\n",
    "dataset.visualize(\"dataset.pdf\", columns=8)"
   ]
  }
 ],
 "metadata": {
  "kernelspec": {
   "display_name": "qcarchive-user-submit",
   "language": "python",
   "name": "python3"
  },
  "language_info": {
   "codemirror_mode": {
    "name": "ipython",
    "version": 3
   },
   "file_extension": ".py",
   "mimetype": "text/x-python",
   "name": "python",
   "nbconvert_exporter": "python",
   "pygments_lexer": "ipython3",
   "version": "3.11.13"
  }
 },
 "nbformat": 4,
 "nbformat_minor": 4
}
