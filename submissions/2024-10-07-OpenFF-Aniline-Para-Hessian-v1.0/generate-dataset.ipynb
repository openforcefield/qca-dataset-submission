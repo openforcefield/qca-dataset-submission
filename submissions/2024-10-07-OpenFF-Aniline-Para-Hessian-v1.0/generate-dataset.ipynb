{
 "cells": [
  {
   "cell_type": "markdown",
   "id": "bab0dd68-9ab4-4d70-a4d8-73970a296fec",
   "metadata": {},
   "source": [
    "# Vacuum dataset"
   ]
  },
  {
   "cell_type": "code",
   "execution_count": 8,
   "id": "3d3cf7ba-e0db-439e-bb2e-983a2aa463ef",
   "metadata": {
    "execution": {
     "iopub.execute_input": "2024-10-07T17:44:22.560810Z",
     "iopub.status.busy": "2024-10-07T17:44:22.559560Z",
     "iopub.status.idle": "2024-10-07T17:44:22.573574Z",
     "shell.execute_reply": "2024-10-07T17:44:22.572190Z",
     "shell.execute_reply.started": "2024-10-07T17:44:22.560738Z"
    }
   },
   "outputs": [],
   "source": [
    "from qcportal import PortalClient\n",
    "from openff.qcsubmit.results import OptimizationResultCollection,BasicResultCollection\n",
    "from openff.qcsubmit.datasets import BasicDataset\n",
    "from openff.qcsubmit.results.filters import ConnectivityFilter, RecordStatusEnum, RecordStatusFilter\n",
    "from openff.qcsubmit.factories import BasicDatasetFactory\n",
    "from openff.qcsubmit.common_structures import Metadata, QCSpec"
   ]
  },
  {
   "cell_type": "markdown",
   "id": "c3600edd-6772-47fa-b4fa-9d4428851b8e",
   "metadata": {},
   "source": [
    "# Load optimization dataset"
   ]
  },
  {
   "cell_type": "code",
   "execution_count": 2,
   "id": "b2d28e39-5696-4577-a0a8-c02b0a98d019",
   "metadata": {
    "execution": {
     "iopub.execute_input": "2024-10-07T17:25:54.635189Z",
     "iopub.status.busy": "2024-10-07T17:25:54.634540Z",
     "iopub.status.idle": "2024-10-07T17:25:55.534863Z",
     "shell.execute_reply": "2024-10-07T17:25:55.533955Z",
     "shell.execute_reply.started": "2024-10-07T17:25:54.635150Z"
    }
   },
   "outputs": [],
   "source": [
    "client = PortalClient(\"https://api.qcarchive.molssi.org:443/\")"
   ]
  },
  {
   "cell_type": "code",
   "execution_count": 4,
   "id": "ad9d088a-8000-41e0-b1e5-9b3978b886da",
   "metadata": {
    "execution": {
     "iopub.execute_input": "2024-10-07T17:26:16.186524Z",
     "iopub.status.busy": "2024-10-07T17:26:16.185101Z",
     "iopub.status.idle": "2024-10-07T17:26:19.085766Z",
     "shell.execute_reply": "2024-10-07T17:26:19.085415Z",
     "shell.execute_reply.started": "2024-10-07T17:26:16.186445Z"
    }
   },
   "outputs": [],
   "source": [
    "opt_ds = OptimizationResultCollection.from_server(client=client,datasets=['OpenFF Aniline Para Opt v1.0'])"
   ]
  },
  {
   "cell_type": "code",
   "execution_count": 9,
   "id": "bf13b1f2-66ae-44e7-aed2-103bdfdfe822",
   "metadata": {
    "execution": {
     "iopub.execute_input": "2024-10-07T17:44:23.983816Z",
     "iopub.status.busy": "2024-10-07T17:44:23.982580Z",
     "iopub.status.idle": "2024-10-07T17:44:28.284048Z",
     "shell.execute_reply": "2024-10-07T17:44:28.283625Z",
     "shell.execute_reply.started": "2024-10-07T17:44:23.983617Z"
    }
   },
   "outputs": [],
   "source": [
    "filtered = opt_ds.filter(\n",
    "        RecordStatusFilter(status=RecordStatusEnum.complete),\n",
    "        ConnectivityFilter(tolerance=1.2),\n",
    "    )"
   ]
  },
  {
   "cell_type": "code",
   "execution_count": 10,
   "id": "b3571231-289b-41f1-8287-85abca89b6bf",
   "metadata": {
    "execution": {
     "iopub.execute_input": "2024-10-07T17:44:52.434430Z",
     "iopub.status.busy": "2024-10-07T17:44:52.433453Z",
     "iopub.status.idle": "2024-10-07T17:44:52.448729Z",
     "shell.execute_reply": "2024-10-07T17:44:52.447314Z",
     "shell.execute_reply.started": "2024-10-07T17:44:52.434357Z"
    }
   },
   "outputs": [
    {
     "name": "stdout",
     "output_type": "stream",
     "text": [
      "50 223\n",
      "50 223\n"
     ]
    }
   ],
   "source": [
    "print(opt_ds.n_molecules,opt_ds.n_results)\n",
    "print(filtered.n_molecules,filtered.n_results)"
   ]
  },
  {
   "cell_type": "code",
   "execution_count": 11,
   "id": "f5154fb6-5dea-485e-a26f-e772af009202",
   "metadata": {
    "execution": {
     "iopub.execute_input": "2024-10-07T17:45:49.754670Z",
     "iopub.status.busy": "2024-10-07T17:45:49.752789Z",
     "iopub.status.idle": "2024-10-07T17:45:51.566188Z",
     "shell.execute_reply": "2024-10-07T17:45:51.565780Z",
     "shell.execute_reply.started": "2024-10-07T17:45:49.754587Z"
    }
   },
   "outputs": [],
   "source": [
    "records = filtered.to_records()"
   ]
  },
  {
   "cell_type": "markdown",
   "id": "4a825469-397a-415b-8d5d-016e798dac76",
   "metadata": {},
   "source": [
    "# Set up single points"
   ]
  },
  {
   "cell_type": "code",
   "execution_count": 12,
   "id": "bba475b9-1fa9-4655-a6d7-bf52fae73682",
   "metadata": {
    "execution": {
     "iopub.execute_input": "2024-10-07T17:50:34.350272Z",
     "iopub.status.busy": "2024-10-07T17:50:34.348851Z",
     "iopub.status.idle": "2024-10-07T17:50:34.368214Z",
     "shell.execute_reply": "2024-10-07T17:50:34.367407Z",
     "shell.execute_reply.started": "2024-10-07T17:50:34.350197Z"
    }
   },
   "outputs": [],
   "source": [
    "from qcelemental.models import DriverEnum\n",
    "\n",
    "dataset = BasicDataset(\n",
    "    dataset_name=\"OpenFF Aniline Para Hessian v1.0\",\n",
    "    dataset_tagline=\"Hessian single points for the OpenFF Aniline Para Opt v1.0 dataset.\",\n",
    "    description=(\n",
    "        \"Hessian single points for the final molecules in the OpenFF Aniline Para Opt v1.0 dataset at the B3LYP-D3BJ/DZVP level of theory.\"\n",
    "    ),\n",
    "    driver=DriverEnum.hessian, \n",
    "    metadata=Metadata(\n",
    "        submitter=\"amcisaac\",\n",
    "        long_description_url=(\n",
    "            \"https://github.com/openforcefield/qca-dataset-submission/tree/master/submissions/2024-10-07-OpenFF-Aniline-Para-Hessian-v1.0\"\n",
    "        )\n",
    "    ),\n",
    ") # Default QCSpec shouldn't need to be explicitly stated"
   ]
  },
  {
   "cell_type": "code",
   "execution_count": 13,
   "id": "8e419645-dbaa-40aa-bec5-957cfd1586c7",
   "metadata": {
    "execution": {
     "iopub.execute_input": "2024-10-07T17:50:38.420584Z",
     "iopub.status.busy": "2024-10-07T17:50:38.419203Z",
     "iopub.status.idle": "2024-10-07T17:50:38.441089Z",
     "shell.execute_reply": "2024-10-07T17:50:38.439836Z",
     "shell.execute_reply.started": "2024-10-07T17:50:38.420526Z"
    }
   },
   "outputs": [
    {
     "data": {
      "text/plain": [
       "{'default': QCSpecification(program='psi4', driver=<SinglepointDriver.hessian: 'hessian'>, method='b3lyp-d3bj', basis='dzvp', keywords={'maxiter': 200, 'scf_properties': [<SCFProperties.Dipole: 'dipole'>, <SCFProperties.Quadrupole: 'quadrupole'>, <SCFProperties.WibergLowdinIndices: 'wiberg_lowdin_indices'>, <SCFProperties.MayerIndices: 'mayer_indices'>]}, protocols=AtomicResultProtocols(wavefunction=<WavefunctionProtocolEnum.none: 'none'>, stdout=True, error_correction=ErrorCorrectionProtocol(default_policy=True, policies=None), native_files=<NativeFilesProtocolEnum.none: 'none'>))}"
      ]
     },
     "execution_count": 13,
     "metadata": {},
     "output_type": "execute_result"
    }
   ],
   "source": [
    "dataset._get_specifications()"
   ]
  },
  {
   "cell_type": "code",
   "execution_count": 14,
   "id": "5048614b-3837-4064-b52d-f2a55be38bfb",
   "metadata": {
    "execution": {
     "iopub.execute_input": "2024-10-07T17:51:07.748768Z",
     "iopub.status.busy": "2024-10-07T17:51:07.747573Z",
     "iopub.status.idle": "2024-10-07T17:51:07.996532Z",
     "shell.execute_reply": "2024-10-07T17:51:07.995984Z",
     "shell.execute_reply.started": "2024-10-07T17:51:07.748698Z"
    }
   },
   "outputs": [],
   "source": [
    "from collections import defaultdict\n",
    "\n",
    "records_by_cmiles = defaultdict(list)\n",
    "for record, molecule in records:\n",
    "    records_by_cmiles[\n",
    "        molecule.to_smiles(isomeric=True, explicit_hydrogens=True, mapped=True)\n",
    "    ].append((record, molecule))"
   ]
  },
  {
   "cell_type": "code",
   "execution_count": 15,
   "id": "3588d626-2900-4570-97eb-aa8b01395924",
   "metadata": {
    "execution": {
     "iopub.execute_input": "2024-10-07T17:51:59.676030Z",
     "iopub.status.busy": "2024-10-07T17:51:59.675166Z",
     "iopub.status.idle": "2024-10-07T18:04:33.223601Z",
     "shell.execute_reply": "2024-10-07T18:04:33.223072Z",
     "shell.execute_reply.started": "2024-10-07T17:51:59.675967Z"
    }
   },
   "outputs": [
    {
     "name": "stderr",
     "output_type": "stream",
     "text": [
      "100%|██████████████████████████████████████████████████████████████████████████████████| 50/50 [12:32<00:00, 15.06s/it]\n"
     ]
    }
   ],
   "source": [
    "from openff.qcsubmit.common_structures import MoleculeAttributes\n",
    "import tqdm\n",
    "\n",
    "for recs in tqdm.tqdm(records_by_cmiles.values(), total=len(records_by_cmiles)):\n",
    "    base_record, base_molecule = recs[0]\n",
    "    base_molecule._conformers = [m.conformers[0] for _, m in recs]\n",
    "\n",
    "    dataset.add_molecule(\n",
    "        index=base_molecule.to_smiles(\n",
    "            isomeric=True, explicit_hydrogens=False, mapped=False\n",
    "        ),\n",
    "        molecule=base_molecule,\n",
    "        attributes=MoleculeAttributes.from_openff_molecule(base_molecule),\n",
    "        extras=base_record.extras,\n",
    "        keywords=base_record.to_qcschema_result().keywords,\n",
    "    )"
   ]
  },
  {
   "cell_type": "markdown",
   "id": "8e812a07-bd89-47f2-9380-6c939838aac6",
   "metadata": {},
   "source": [
    "# Exporting dataset"
   ]
  },
  {
   "cell_type": "code",
   "execution_count": 16,
   "id": "d69c1de7-42a6-407f-a555-6fc5a7ef0e61",
   "metadata": {
    "execution": {
     "iopub.execute_input": "2024-10-07T18:05:48.647364Z",
     "iopub.status.busy": "2024-10-07T18:05:48.646702Z",
     "iopub.status.idle": "2024-10-07T18:05:49.666935Z",
     "shell.execute_reply": "2024-10-07T18:05:49.666599Z",
     "shell.execute_reply.started": "2024-10-07T18:05:48.647326Z"
    }
   },
   "outputs": [
    {
     "name": "stdout",
     "output_type": "stream",
     "text": [
      "{'default': QCSpec(method='B3LYP-D3BJ', basis='DZVP', program='psi4', spec_name='default', spec_description='Standard OpenFF optimization quantum chemistry specification.', store_wavefunction=<WavefunctionProtocolEnum.none: 'none'>, implicit_solvent=None, maxiter=200, scf_properties=[<SCFProperties.Dipole: 'dipole'>, <SCFProperties.Quadrupole: 'quadrupole'>, <SCFProperties.WibergLowdinIndices: 'wiberg_lowdin_indices'>, <SCFProperties.MayerIndices: 'mayer_indices'>], keywords={})}\n"
     ]
    }
   ],
   "source": [
    "dataset.export_dataset(\"dataset.json.bz2\")\n",
    "dataset.molecules_to_file('dataset.smi', 'smi')\n",
    "dataset.visualize(\"dataset.pdf\", columns=8)\n",
    "\n",
    "print(dataset.qc_specifications)"
   ]
  },
  {
   "cell_type": "markdown",
   "id": "88a45064-d703-457e-b29b-ba0aa758ca9a",
   "metadata": {},
   "source": [
    "# Dataset information"
   ]
  },
  {
   "cell_type": "code",
   "execution_count": 17,
   "id": "dc940078-e0e4-4395-9e71-69e49064d3a1",
   "metadata": {
    "execution": {
     "iopub.execute_input": "2024-10-07T18:05:57.836437Z",
     "iopub.status.busy": "2024-10-07T18:05:57.835363Z",
     "iopub.status.idle": "2024-10-07T18:05:57.845918Z",
     "shell.execute_reply": "2024-10-07T18:05:57.844298Z",
     "shell.execute_reply.started": "2024-10-07T18:05:57.836389Z"
    }
   },
   "outputs": [],
   "source": [
    "import numpy as np\n",
    "from collections import Counter"
   ]
  },
  {
   "cell_type": "code",
   "execution_count": 18,
   "id": "388aff3d-ff0a-4c36-9d83-e6ec82d31db8",
   "metadata": {
    "execution": {
     "iopub.execute_input": "2024-10-07T18:05:58.044354Z",
     "iopub.status.busy": "2024-10-07T18:05:58.043581Z",
     "iopub.status.idle": "2024-10-07T18:05:58.052808Z",
     "shell.execute_reply": "2024-10-07T18:05:58.051968Z",
     "shell.execute_reply.started": "2024-10-07T18:05:58.044316Z"
    }
   },
   "outputs": [
    {
     "name": "stdout",
     "output_type": "stream",
     "text": [
      "n_molecules: 50\n",
      "n_conformers: 223\n"
     ]
    }
   ],
   "source": [
    "print(\"n_molecules:\", dataset.n_molecules)\n",
    "print(\"n_conformers:\", dataset.n_records)"
   ]
  },
  {
   "cell_type": "code",
   "execution_count": 19,
   "id": "8e7d50e8-201d-4f32-a2fd-c3daa60fe35d",
   "metadata": {
    "execution": {
     "iopub.execute_input": "2024-10-07T18:05:59.165452Z",
     "iopub.status.busy": "2024-10-07T18:05:59.164630Z",
     "iopub.status.idle": "2024-10-07T18:05:59.651045Z",
     "shell.execute_reply": "2024-10-07T18:05:59.650629Z",
     "shell.execute_reply.started": "2024-10-07T18:05:59.165413Z"
    }
   },
   "outputs": [],
   "source": [
    "n_confs = np.array(\n",
    "    [mol.n_conformers for mol in dataset.molecules]\n",
    ")\n",
    "n_heavy_atoms = np.array(\n",
    "    [mol.to_rdkit().GetNumHeavyAtoms() for mol in dataset.molecules]\n",
    ")"
   ]
  },
  {
   "cell_type": "code",
   "execution_count": 20,
   "id": "7ccb51cc-523a-43cd-8ab0-b5d63f9141fc",
   "metadata": {
    "execution": {
     "iopub.execute_input": "2024-10-07T18:06:00.045334Z",
     "iopub.status.busy": "2024-10-07T18:06:00.044011Z",
     "iopub.status.idle": "2024-10-07T18:06:00.060856Z",
     "shell.execute_reply": "2024-10-07T18:06:00.059721Z",
     "shell.execute_reply.started": "2024-10-07T18:06:00.045256Z"
    }
   },
   "outputs": [
    {
     "name": "stdout",
     "output_type": "stream",
     "text": [
      "Number of conformers (min, mean, max): 1 4.46 10\n",
      "# heavy atoms\n",
      "  8: 9\n",
      "  9: 10\n",
      " 10: 11\n",
      " 11: 11\n",
      " 12: 3\n",
      " 13: 1\n",
      " 14: 5\n"
     ]
    }
   ],
   "source": [
    "print(\n",
    "    \"Number of conformers (min, mean, max):\",\n",
    "    n_confs.min(), n_confs.mean(), n_confs.max()\n",
    ")\n",
    "print(\"# heavy atoms\")\n",
    "counts = Counter(n_heavy_atoms)\n",
    "for n_heavy in sorted(counts):\n",
    "    print(f\"{str(n_heavy):>3}: {counts[n_heavy]}\")"
   ]
  },
  {
   "cell_type": "code",
   "execution_count": 21,
   "id": "62625c83-8904-44f7-b219-8c88827bb971",
   "metadata": {
    "execution": {
     "iopub.execute_input": "2024-10-07T18:06:03.769635Z",
     "iopub.status.busy": "2024-10-07T18:06:03.768858Z",
     "iopub.status.idle": "2024-10-07T18:06:03.971089Z",
     "shell.execute_reply": "2024-10-07T18:06:03.970684Z",
     "shell.execute_reply.started": "2024-10-07T18:06:03.769595Z"
    }
   },
   "outputs": [
    {
     "data": {
      "text/plain": [
       "{-1.0, 0.0, 1.0}"
      ]
     },
     "execution_count": 21,
     "metadata": {},
     "output_type": "execute_result"
    }
   ],
   "source": [
    "from openff.units import unit\n",
    "unique_charges = set([\n",
    "    mol.total_charge.m_as(unit.elementary_charge)\n",
    "    for mol in dataset.molecules\n",
    "])\n",
    "unique_charges"
   ]
  },
  {
   "cell_type": "code",
   "execution_count": 22,
   "id": "f0291cf3-b3b4-4dfd-a2ac-07612c8d713a",
   "metadata": {
    "execution": {
     "iopub.execute_input": "2024-10-07T18:06:04.814116Z",
     "iopub.status.busy": "2024-10-07T18:06:04.812778Z",
     "iopub.status.idle": "2024-10-07T18:06:04.997848Z",
     "shell.execute_reply": "2024-10-07T18:06:04.997339Z",
     "shell.execute_reply.started": "2024-10-07T18:06:04.814020Z"
    }
   },
   "outputs": [
    {
     "name": "stdout",
     "output_type": "stream",
     "text": [
      "MW (min, mean, max): 107.15370300000001 150.423601985 343.842162\n"
     ]
    }
   ],
   "source": [
    "\n",
    "masses = np.array([\n",
    "    sum([atom.mass.m for atom in mol.atoms])\n",
    "    for mol in dataset.molecules\n",
    "])\n",
    "print(\"MW (min, mean, max):\", masses.min(), masses.mean(), masses.max())"
   ]
  },
  {
   "cell_type": "code",
   "execution_count": 23,
   "id": "4d17e60d-eb09-4a0c-a243-8c05fba536db",
   "metadata": {
    "execution": {
     "iopub.execute_input": "2024-10-07T18:06:05.913087Z",
     "iopub.status.busy": "2024-10-07T18:06:05.911851Z",
     "iopub.status.idle": "2024-10-07T18:06:06.097919Z",
     "shell.execute_reply": "2024-10-07T18:06:06.097508Z",
     "shell.execute_reply.started": "2024-10-07T18:06:05.913024Z"
    }
   },
   "outputs": [
    {
     "name": "stdout",
     "output_type": "stream",
     "text": [
      "{'O', 'Cl', 'S', 'Br', 'H', 'F', 'N', 'C'}\n"
     ]
    }
   ],
   "source": [
    "elements = set(\n",
    "    atom.symbol\n",
    "    for mol in dataset.molecules\n",
    "    for atom in mol.atoms\n",
    ")\n",
    "print(elements)"
   ]
  },
  {
   "cell_type": "code",
   "execution_count": null,
   "id": "5bc6ee5d-590a-418b-98d1-2f0fa5b8119f",
   "metadata": {},
   "outputs": [],
   "source": []
  },
  {
   "cell_type": "code",
   "execution_count": null,
   "id": "09dd2cfa-62c0-4681-a44e-bdac427fd96d",
   "metadata": {},
   "outputs": [],
   "source": []
  }
 ],
 "metadata": {
  "kernelspec": {
   "display_name": "Python 3 (ipykernel)",
   "language": "python",
   "name": "python3"
  },
  "language_info": {
   "codemirror_mode": {
    "name": "ipython",
    "version": 3
   },
   "file_extension": ".py",
   "mimetype": "text/x-python",
   "name": "python",
   "nbconvert_exporter": "python",
   "pygments_lexer": "ipython3",
   "version": "3.12.7"
  }
 },
 "nbformat": 4,
 "nbformat_minor": 5
}
