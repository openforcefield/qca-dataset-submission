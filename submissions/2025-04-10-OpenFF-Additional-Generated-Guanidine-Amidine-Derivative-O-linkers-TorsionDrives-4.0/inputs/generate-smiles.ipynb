{
 "cells": [
  {
   "cell_type": "code",
   "execution_count": 1,
   "id": "1658fba8-c95e-4e3a-a376-92d728332c01",
   "metadata": {},
   "outputs": [],
   "source": [
    "from openff.toolkit import Molecule, ForceField\n",
    "from rdkit import Chem\n",
    "from rdkit.Chem import Draw"
   ]
  },
  {
   "cell_type": "code",
   "execution_count": 2,
   "id": "8304e04c-28a4-420d-bc49-deba7d8c2c8c",
   "metadata": {},
   "outputs": [],
   "source": [
    "ff = ForceField(\"openff_unconstrained-2.2.1.offxml\")"
   ]
  },
  {
   "cell_type": "code",
   "execution_count": 3,
   "id": "1913480a-f384-4088-828a-7f661b10d99e",
   "metadata": {},
   "outputs": [],
   "source": [
    "def check_parameter_exists(smiles: str, parameter_id: str):\n",
    "    mol = Molecule.from_smiles(smiles, allow_undefined_stereo=True)\n",
    "    labels = ff.label_molecules(mol.to_topology())[0][\"ProperTorsions\"]\n",
    "\n",
    "    central_bonds = []\n",
    "    for indices, parameter in labels.items():\n",
    "        if parameter.id == parameter_id:\n",
    "            central_bonds.append(tuple(sorted(indices[1:3])))\n",
    "\n",
    "    assert central_bonds\n",
    "    torsion_ids = []\n",
    "    for indices, parameter in labels.items():\n",
    "        if tuple(sorted(indices[1:3])) in central_bonds:\n",
    "            torsion_ids.append(parameter.id)\n",
    "    return set(torsion_ids)\n",
    "\n",
    "    \n",
    "\n"
   ]
  },
  {
   "cell_type": "markdown",
   "id": "b2f9ac51-e45d-4116-b79a-55f28d726f92",
   "metadata": {},
   "source": [
    "# t18b\n",
    "SMIRKS: `[*:1]-[#6X4:2]-[#6X3:3](~!@[#7X3])~!@[#7X3:4]`"
   ]
  },
  {
   "cell_type": "code",
   "execution_count": 4,
   "id": "ea668dc6-90a0-484f-b53f-5e3c0b085cb9",
   "metadata": {},
   "outputs": [
    {
     "name": "stdout",
     "output_type": "stream",
     "text": [
      "{'t18b'}\n",
      "{'t18b'}\n",
      "{'t18b'}\n",
      "{'t18b', 't22'}\n",
      "{'t18b'}\n",
      "{'t18b', 't23'}\n",
      "{'t18b'}\n",
      "{'t18b'}\n",
      "{'t18b', 't23'}\n",
      "{'t18b'}\n"
     ]
    }
   ],
   "source": [
    "t18b_SMILES = [\n",
    "    \"CC(N)=[NH2+]\",\n",
    "    \"CC(N)=[NH+]C\",\n",
    "    \"COCC(N)=[NH2+]\",\n",
    "    \"NCC(NC)=[N+](C)C\",\n",
    "    \"CC(NC)=[N+](Cc1ccccc1)C\",\n",
    "    \"CCCCC(N)=[NH+]C\",\n",
    "    \"OCC(N(CC)C)=[NH+]CC\",\n",
    "    \"CC(N(C)C)=[N+](C)C\",\n",
    "    \"C1CC1CC(N)=[NH2+]\",\n",
    "    \"C1=CC=CC=C1CC(N)=[NH2+]\",\n",
    "]\n",
    "for smi in t18b_SMILES:\n",
    "    print(check_parameter_exists(smi, \"t18b\"))"
   ]
  },
  {
   "cell_type": "code",
   "execution_count": 5,
   "id": "47833faf-8bca-4cdd-9327-75944ee45ed4",
   "metadata": {},
   "outputs": [],
   "source": [
    "with open(\"t18b.smi\", \"w\") as f:\n",
    "    f.write(\"\\n\".join(t18b_SMILES))"
   ]
  },
  {
   "cell_type": "markdown",
   "id": "857b544b-0b43-44dc-94d2-e51db1463315",
   "metadata": {},
   "source": [
    "# t87a\n",
    "SMIRKS: `[*:1]-[#7X3:2]~!@[#6X3:3](~!@[#7X3])~!@[#7X3:4]`"
   ]
  },
  {
   "cell_type": "code",
   "execution_count": 6,
   "id": "b28a26c4-1089-4527-8051-dde6a9e9fac1",
   "metadata": {},
   "outputs": [
    {
     "name": "stdout",
     "output_type": "stream",
     "text": [
      "{'t87a'}\n",
      "{'t87a'}\n",
      "{'t87a'}\n",
      "{'t87a'}\n",
      "{'t87a'}\n",
      "{'t87a'}\n",
      "{'t87a'}\n",
      "{'t87a'}\n",
      "{'t87a'}\n",
      "{'t87a'}\n"
     ]
    }
   ],
   "source": [
    "t87a_SMILES = [\n",
    "    \"NC(N)=[NH2+]\",\n",
    "    \"CNC(N)=[NH+]C\",\n",
    "    \"OCNC(N)=[NH2+]\",\n",
    "    \"NC(NC)=[N+](C)C\",\n",
    "    \"NC(NC)=[N+](Cc1ccccc1)C\",\n",
    "    \"CCCNC(N)=[NH+]C\",\n",
    "    \"CN(C)C(N(CC)C)=[NH+]CC\",\n",
    "    \"CN(C)C(N(C)C)=[N+](C)C\",\n",
    "    \"C1CN1C(N)=[NH2+]\",\n",
    "    \"C1=CC=CN1C(N)=[NH2+]\",\n",
    "]\n",
    "for smi in t87a_SMILES:\n",
    "    print(check_parameter_exists(smi, \"t87a\"))"
   ]
  },
  {
   "cell_type": "code",
   "execution_count": 7,
   "id": "454632d6-0295-45e9-8786-5b49b91d9738",
   "metadata": {},
   "outputs": [],
   "source": [
    "with open(\"t87a.smi\", \"w\") as f:\n",
    "    f.write(\"\\n\".join(t87a_SMILES))"
   ]
  },
  {
   "cell_type": "markdown",
   "id": "63573bf5-2941-4d00-ba71-ff6f50b8b6e8",
   "metadata": {},
   "source": [
    "# t101\n",
    "\n",
    "SMIRKS: `[#6X3:1]-[#8X2:2]-[#6X4;r3:3]-[#1:4]`"
   ]
  },
  {
   "cell_type": "code",
   "execution_count": 8,
   "id": "66c20a3c-386a-471f-b7ee-5a8f2843922c",
   "metadata": {},
   "outputs": [
    {
     "name": "stdout",
     "output_type": "stream",
     "text": [
      "{'t101', 't100'}\n",
      "{'t101', 't100'}\n",
      "{'t101', 't100'}\n",
      "{'t101', 't100'}\n",
      "{'t101', 't100'}\n",
      "{'t95', 't101', 't100'}\n",
      "{'t95', 't101', 't100'}\n",
      "{'t95', 't101'}\n",
      "{'t95', 't101'}\n",
      "{'t95', 't101'}\n"
     ]
    }
   ],
   "source": [
    "t101_SMILES = [\n",
    "    \"O=COC1CC1\",\n",
    "    \"C1CCCCN1C(=S)OC1CC1\",\n",
    "    \"CC=COC1C(C)C1\",\n",
    "    \"c1ccccc1OC2CC2\",\n",
    "    \"c1ncncc1OC2CC2\",\n",
    "    \"C=COC1OC1\",\n",
    "    \"CCN=COC1OC1\",\n",
    "    \"c2ccccc2OC1C=C1\",\n",
    "    \"O=C(CC)OC1C=C1\",\n",
    "    \"C=COC1C=C1\",\n",
    "]\n",
    "for smi in t101_SMILES:\n",
    "    print(check_parameter_exists(smi, \"t101\"))"
   ]
  },
  {
   "cell_type": "code",
   "execution_count": 9,
   "id": "f8922f79-e72d-46ab-8b70-6a8481ae7fba",
   "metadata": {},
   "outputs": [],
   "source": [
    "with open(\"t101.smi\", \"w\") as f:\n",
    "    f.write(\"\\n\".join(t101_SMILES))"
   ]
  }
 ],
 "metadata": {
  "kernelspec": {
   "display_name": "Python (qcarchive-user-submit)",
   "language": "python",
   "name": "qcarchive-user-submit"
  },
  "language_info": {
   "codemirror_mode": {
    "name": "ipython",
    "version": 3
   },
   "file_extension": ".py",
   "mimetype": "text/x-python",
   "name": "python",
   "nbconvert_exporter": "python",
   "pygments_lexer": "ipython3",
   "version": "3.11.11"
  }
 },
 "nbformat": 4,
 "nbformat_minor": 5
}
