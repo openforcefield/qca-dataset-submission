{
 "cells": [
  {
   "cell_type": "markdown",
   "metadata": {},
   "source": [
    "# QCSubmit Protein Fragments TorsionDrive preparation"
   ]
  },
  {
   "cell_type": "code",
   "execution_count": 2,
   "metadata": {},
   "outputs": [],
   "source": [
    "import os\n",
    "\n",
    "from qcsubmit.factories import TorsiondriveDatasetFactory\n",
    "from openforcefield.topology import Molecule\n",
    "from openforcefield.utils.toolkits import RDKitToolkitWrapper, UndefinedStereochemistryError"
   ]
  },
  {
   "cell_type": "markdown",
   "metadata": {},
   "source": [
    "We'll use the same artifacts produced for submitting Optimizations in \"2020-08-12-OpenFF-Protein-Fragments-version2\"."
   ]
  },
  {
   "cell_type": "markdown",
   "metadata": {},
   "source": [
    "Need to:\n",
    "- [ ] generate dihedral atoms for each molecule that we want to torsiondrive\n",
    "- [ ] prepare README\n",
    "- [ ] prepare `dataset.json`"
   ]
  },
  {
   "cell_type": "code",
   "execution_count": 3,
   "metadata": {},
   "outputs": [],
   "source": [
    "factory = TorsiondriveDatasetFactory()"
   ]
  },
  {
   "cell_type": "code",
   "execution_count": 4,
   "metadata": {},
   "outputs": [
    {
     "data": {
      "text/plain": [
       "['dipole', 'quadrupole', 'wiberg_lowdin_indices', 'mayer_indices']"
      ]
     },
     "execution_count": 4,
     "metadata": {},
     "output_type": "execute_result"
    }
   ],
   "source": [
    "factory.scf_properties"
   ]
  },
  {
   "cell_type": "code",
   "execution_count": 5,
   "metadata": {},
   "outputs": [],
   "source": [
    "dataset = factory.create_dataset(dataset_name=\"OpenFF Protein Fragments TorsionDrives v1.0\",\n",
    "                                 tagline=\"Torsiondrives for selected dihedrals of various protein fragments\",\n",
    "                                 description=\"Torsiondrives for selected dihedrals of various protein fragments\",\n",
    "                                 molecules=[])"
   ]
  },
  {
   "cell_type": "code",
   "execution_count": 6,
   "metadata": {},
   "outputs": [],
   "source": [
    "dataset.metadata.submitter = 'dotsdl'"
   ]
  },
  {
   "cell_type": "code",
   "execution_count": 7,
   "metadata": {},
   "outputs": [
    {
     "data": {
      "text/plain": [
       "{'qc_specifications': {'default': {'method': 'B3LYP-D3BJ',\n",
       "   'basis': 'DZVP',\n",
       "   'program': 'psi4',\n",
       "   'spec_name': 'default',\n",
       "   'spec_description': 'Standard OpenFF optimization quantum chemistry specification.',\n",
       "   'store_wavefunction': 'none'}},\n",
       " 'dataset_name': 'OpenFF Protein Fragments TorsionDrives v1.0',\n",
       " 'dataset_tagline': 'Torsiondrives for selected dihedrals of various protein fragments',\n",
       " 'dataset_type': 'TorsiondriveDataset',\n",
       " 'maxiter': 200,\n",
       " 'driver': <DriverEnum.gradient: 'gradient'>,\n",
       " 'scf_properties': ['dipole',\n",
       "  'quadrupole',\n",
       "  'wiberg_lowdin_indices',\n",
       "  'mayer_indices'],\n",
       " 'priority': 'normal',\n",
       " 'description': 'Torsiondrives for selected dihedrals of various protein fragments',\n",
       " 'dataset_tags': ['openff'],\n",
       " 'compute_tag': 'openff',\n",
       " 'metadata': {'submitter': 'dotsdl',\n",
       "  'creation_date': datetime.date(2020, 10, 6),\n",
       "  'collection_type': 'TorsiondriveDataset',\n",
       "  'dataset_name': 'OpenFF Protein Fragments TorsionDrives v1.0',\n",
       "  'short_description': 'Torsiondrives for selected dihedrals of various protein fragments',\n",
       "  'long_description_url': None,\n",
       "  'long_description': 'Torsiondrives for selected dihedrals of various protein fragments',\n",
       "  'elements': set()},\n",
       " 'provenance': {'qcsubmit': '0+untagged.152.g76dd8ac',\n",
       "  'openforcefield': '0.7.1',\n",
       "  'openeye': '2020.1.0'},\n",
       " 'dataset': {},\n",
       " 'filtered_molecules': {'LinearTorsionRemoval': {'component_name': 'LinearTorsionRemoval',\n",
       "   'component_description': {'component_description': 'Remove any molecules with a linear torsions selected to drive.'},\n",
       "   'component_provenance': {'qcsubmit': '0+untagged.152.g76dd8ac',\n",
       "    'openforcefield': '0.7.1',\n",
       "    'openeye': '2020.1.0'},\n",
       "   'molecules': []},\n",
       "  'UnconnectedTorsionRemoval': {'component_name': 'UnconnectedTorsionRemoval',\n",
       "   'component_description': {'component_description': 'Remove any molecules with unconnected torsion indices highlighted to drive.'},\n",
       "   'component_provenance': {'qcsubmit': '0+untagged.152.g76dd8ac',\n",
       "    'openforcefield': '0.7.1',\n",
       "    'openeye': '2020.1.0'},\n",
       "   'molecules': []}},\n",
       " 'optimization_procedure': {'program': 'geometric',\n",
       "  'coordsys': 'tric',\n",
       "  'enforce': 0.1,\n",
       "  'epsilon': 0.0,\n",
       "  'reset': True,\n",
       "  'qccnv': True,\n",
       "  'molcnv': False,\n",
       "  'check': 0,\n",
       "  'trust': 0.1,\n",
       "  'tmax': 0.3,\n",
       "  'maxiter': 300,\n",
       "  'convergence_set': 'GAU',\n",
       "  'constraints': {}},\n",
       " 'grid_spacings': [15],\n",
       " 'energy_upper_limit': 0.05,\n",
       " 'dihedral_ranges': None,\n",
       " 'energy_decrease_thresh': None}"
      ]
     },
     "execution_count": 7,
     "metadata": {},
     "output_type": "execute_result"
    }
   ],
   "source": [
    "dataset.dict()"
   ]
  },
  {
   "cell_type": "markdown",
   "metadata": {},
   "source": [
    "We need to add molecules next, along with dihedrals selected for torsion driving.\n",
    "\n",
    "We have molecules, initial geometries, and connectivity from the original optimization dataset.\n",
    "We'll need to find a way to generate reasonable dihedrals we want to drive.\n",
    "This is not something I have an immediate path in mind for."
   ]
  },
  {
   "cell_type": "markdown",
   "metadata": {},
   "source": [
    "## Prototyping from a single molecule"
   ]
  },
  {
   "cell_type": "code",
   "execution_count": 7,
   "metadata": {},
   "outputs": [],
   "source": [
    "def build_molecule(folder, n_conformers=None):\n",
    "    \"\"\"\n",
    "    Create a molecule from all of the conformers in the folder.\n",
    "    \"\"\"\n",
    "    molecules = []\n",
    "    for file in os.listdir(folder):\n",
    "        if file.endswith(\".mol2\") and not file.startswith('.'):\n",
    "            # this is one of the molecules\n",
    "            try:\n",
    "                mol2 = Molecule.from_file(os.path.join(folder, file))\n",
    "            except UndefinedStereochemistryError:\n",
    "                # if we get undefined stereochemistry, we skip this conformer\n",
    "                print(f\"Undefined stereochemistry for {folder}/{file}; skipping\")\n",
    "                continue\n",
    "            # now save again in PDB format\n",
    "            name = file.split(\".\")[0]\n",
    "            # fix issue with openeye reordering when writing files.\n",
    "            mol2.to_file(os.path.join(folder, name + \".pdb\"), \"pdb\", RDKitToolkitWrapper())\n",
    "            # load up the new molecule\n",
    "            pdb = Molecule.from_file(os.path.join(folder, name + \".pdb\"))\n",
    "            molecules.append(pdb)\n",
    "            \n",
    "    # now we need to condense all of the conformers down to one molecule.\n",
    "    return_mol = molecules.pop()\n",
    "    for molecule in molecules:\n",
    "        if n_conformers is None:\n",
    "            return_mol.add_conformer(molecule.conformers[0])\n",
    "        else:\n",
    "            # TODO: from Cerutti, need to know if he recommends a selection scheme here\n",
    "            return_mol.add_conformer(molecule.conformers[0])\n",
    "        \n",
    "    return return_mol"
   ]
  },
  {
   "cell_type": "code",
   "execution_count": 8,
   "metadata": {},
   "outputs": [],
   "source": [
    "def gather_constraints(folder):\n",
    "    \"\"\"\n",
    "    Create a set of all of the dihedral constraints in the given folder.\n",
    "    \"\"\"\n",
    "    first = True\n",
    "    constraints = set()\n",
    "    for i, file in enumerate(os.listdir(folder)):\n",
    "        if file.endswith(\".frz\") and not file.startswith('.'):\n",
    "            # this is a constraint file\n",
    "            constraints_i = set()\n",
    "            with open(os.path.join(folder, file)) as cons_data:\n",
    "                for line in cons_data.readlines()[1:]:\n",
    "                    constraint = [int(x)-1 for x in line.split()[:4]] # subtracting 1 from indices because they are 1-based, and we need 0-based\n",
    "                    constraints_i.add(tuple(constraint))\n",
    "            if not first:\n",
    "                assert constraints_i == constraints\n",
    "                \n",
    "            constraints.update(constraints_i)\n",
    "            first = False\n",
    "                    \n",
    "    return constraints"
   ]
  },
  {
   "cell_type": "code",
   "execution_count": 9,
   "metadata": {},
   "outputs": [],
   "source": [
    "mol = build_molecule('Input_files/ASP/ALA_ASP_SER/')"
   ]
  },
  {
   "cell_type": "markdown",
   "metadata": {},
   "source": [
    "We want to drive (every 15deg):\n",
    "- phi and psi combinatorically (grid search)\n",
    "- phi and chi1 combinatorically (grid search)\n",
    "- psi and chi1 combinatorically (grid search)\n",
    "\n",
    "Beyond this, we may want to try adding strain to other angles:\n",
    "- N Ca Cb\n",
    "- N Ca C\n",
    "- basically all backbone angle perturbations"
   ]
  },
  {
   "cell_type": "markdown",
   "metadata": {},
   "source": [
    "From conversation with the QCA group today, we can technically do 2D torsion scans, but using this data in ForceBalance is something we cannot currently do.\n",
    "We decided we'd be better served at present by doing each torsion as its own torsion scan for our given conformers."
   ]
  },
  {
   "cell_type": "code",
   "execution_count": 10,
   "metadata": {},
   "outputs": [
    {
     "data": {
      "text/plain": [
       "39"
      ]
     },
     "execution_count": 10,
     "metadata": {},
     "output_type": "execute_result"
    }
   ],
   "source": [
    "mol.n_conformers"
   ]
  },
  {
   "cell_type": "code",
   "execution_count": 11,
   "metadata": {},
   "outputs": [
    {
     "data": {
      "text/plain": [
       "[Bond(atom1 index=8, atom2 index=14),\n",
       " Bond(atom1 index=20, atom2 index=23),\n",
       " Bond(atom1 index=18, atom2 index=20),\n",
       " Bond(atom1 index=6, atom2 index=8),\n",
       " Bond(atom1 index=4, atom2 index=6),\n",
       " Bond(atom1 index=14, atom2 index=16),\n",
       " Bond(atom1 index=28, atom2 index=30),\n",
       " Bond(atom1 index=30, atom2 index=32),\n",
       " Bond(atom1 index=37, atom2 index=39),\n",
       " Bond(atom1 index=8, atom2 index=10),\n",
       " Bond(atom1 index=1, atom2 index=4),\n",
       " Bond(atom1 index=18, atom2 index=26),\n",
       " Bond(atom1 index=26, atom2 index=28),\n",
       " Bond(atom1 index=30, atom2 index=37),\n",
       " Bond(atom1 index=32, atom2 index=35),\n",
       " Bond(atom1 index=16, atom2 index=18),\n",
       " Bond(atom1 index=39, atom2 index=41)]"
      ]
     },
     "execution_count": 11,
     "metadata": {},
     "output_type": "execute_result"
    }
   ],
   "source": [
    "mol.find_rotatable_bonds()"
   ]
  },
  {
   "cell_type": "code",
   "execution_count": 12,
   "metadata": {},
   "outputs": [
    {
     "data": {
      "text/plain": [
       "100"
      ]
     },
     "execution_count": 12,
     "metadata": {},
     "output_type": "execute_result"
    }
   ],
   "source": [
    "# perhaps use this, filter out where one atom is a hydrogen, \n",
    "# central two atoms must define a bond in the above `find_rotatable_bonds` list\n",
    "len(mol.propers)"
   ]
  },
  {
   "cell_type": "markdown",
   "metadata": {},
   "source": [
    "This probably isn't the approach we want to take. Way too many. Need a programmatic approach to selecting only the dihedrals we want."
   ]
  },
  {
   "cell_type": "code",
   "execution_count": 13,
   "metadata": {},
   "outputs": [
    {
     "data": {
      "image/png": "[encoded data removed]",
      "text/plain": [
       "<IPython.core.display.Image object>"
      ]
     },
     "execution_count": 13,
     "metadata": {},
     "output_type": "execute_result"
    }
   ],
   "source": [
    "mol.visualize(backend='openeye')"
   ]
  },
  {
   "cell_type": "code",
   "execution_count": 14,
   "metadata": {},
   "outputs": [
    {
     "data": {
      "text/plain": [
       "[(8, 14, 16, 18)]"
      ]
     },
     "execution_count": 14,
     "metadata": {},
     "output_type": "execute_result"
    }
   ],
   "source": [
    "omega_smarts = 'CC(=O)N[C:1][C:2](=O)[N:3][C:4]C(=O)NCC(=O)NC'\n",
    "omega = mol.chemical_environment_matches(omega_smarts)\n",
    "omega"
   ]
  },
  {
   "cell_type": "code",
   "execution_count": 15,
   "metadata": {},
   "outputs": [
    {
     "data": {
      "text/plain": [
       "[(14, 16, 18, 26)]"
      ]
     },
     "execution_count": 15,
     "metadata": {},
     "output_type": "execute_result"
    }
   ],
   "source": [
    "phi_smarts = 'CC(=O)NC[C:1](=O)[N:2][C:3][C:4](=O)NCC(=O)NC'\n",
    "phi = mol.chemical_environment_matches(phi_smarts)\n",
    "phi"
   ]
  },
  {
   "cell_type": "code",
   "execution_count": 16,
   "metadata": {},
   "outputs": [
    {
     "data": {
      "text/plain": [
       "[(16, 18, 26, 28)]"
      ]
     },
     "execution_count": 16,
     "metadata": {},
     "output_type": "execute_result"
    }
   ],
   "source": [
    "psi_smarts = 'CC(=O)NCC(=O)[N:1][C:2][C:3](=O)[N:4]CC(=O)NC'\n",
    "psi = mol.chemical_environment_matches(psi_smarts)\n",
    "psi"
   ]
  },
  {
   "cell_type": "code",
   "execution_count": 17,
   "metadata": {},
   "outputs": [
    {
     "data": {
      "text/plain": [
       "[(16, 18, 20, 23)]"
      ]
     },
     "execution_count": 17,
     "metadata": {},
     "output_type": "execute_result"
    }
   ],
   "source": [
    "chi1_smarts = 'CC(=O)NCC(=O)[N:1][C:2]([C:3][C:4])C(=O)NCC(=O)NC'\n",
    "chi1 = mol.chemical_environment_matches(chi1_smarts)\n",
    "chi1"
   ]
  },
  {
   "cell_type": "code",
   "execution_count": 18,
   "metadata": {},
   "outputs": [
    {
     "data": {
      "text/plain": [
       "[(18, 20, 23, 24)]"
      ]
     },
     "execution_count": 18,
     "metadata": {},
     "output_type": "execute_result"
    }
   ],
   "source": [
    "chi2_smarts = 'CC(=O)NCC(=O)N[C:1]([C:2][C:3][*:4])C(=O)NCC(=O)NC'\n",
    "chi2 = mol.chemical_environment_matches(chi2_smarts)\n",
    "chi2"
   ]
  },
  {
   "cell_type": "markdown",
   "metadata": {},
   "source": [
    "## Verify our selections work for all mols"
   ]
  },
  {
   "cell_type": "code",
   "execution_count": 19,
   "metadata": {},
   "outputs": [],
   "source": [
    "mol = build_molecule('Input_files/ASP/ALA_ASP_SER/')"
   ]
  },
  {
   "cell_type": "markdown",
   "metadata": {},
   "source": [
    "## Approaches"
   ]
  },
  {
   "cell_type": "markdown",
   "metadata": {},
   "source": [
    "Pursuing two approaches, as separate submissions:\n",
    "\n",
    "1. Medium priority. phi, psi, chi1 of central atom (if chi1 exists). Use strict SMARTS matching for selection of dihedral indices.\n",
    "\n",
    "2. Low priority. All heavy torsions. We start with `mol.propers`, remove any that have H at 1 or 4 positions, remove any whose central bond not in `mol.rotatable_bonds`."
   ]
  },
  {
   "cell_type": "markdown",
   "metadata": {},
   "source": [
    "We have some options on where we get our `initial_molecules`. Should we get them:\n",
    "1. **from the mol2/pdb files in the input_data.**\n",
    "2. from the `dataset.json` used for the OptimizationDataset submission\n",
    "3. from the public QCArchive itself"
   ]
  },
  {
   "cell_type": "markdown",
   "metadata": {},
   "source": [
    "Choose 1 to give DC a pathway for submission."
   ]
  },
  {
   "cell_type": "markdown",
   "metadata": {},
   "source": [
    "We will want to use the dihedral freeze constraints used in the original optimization submission.\n",
    "For each driven torsion, **remove** the constraint corresponding to that torsion."
   ]
  },
  {
   "cell_type": "markdown",
   "metadata": {},
   "source": [
    "We'll go up to chi2; not advised to go beyond."
   ]
  },
  {
   "cell_type": "markdown",
   "metadata": {},
   "source": [
    "Omega should be rotated +/- 20 degrees."
   ]
  },
  {
   "cell_type": "markdown",
   "metadata": {},
   "source": [
    "Let's start with three conformers for each molecule.\n",
    "Still valuable to have more than one conformer per molecule."
   ]
  },
  {
   "cell_type": "markdown",
   "metadata": {},
   "source": [
    "### Approach 1"
   ]
  },
  {
   "cell_type": "markdown",
   "metadata": {},
   "source": [
    "We will do the following:\n",
    "\n",
    "1. Pull molecules with conformers from directories similarly to how Josh Horton did this.\n",
    "2. For each molecule, for each of phi, psi, omega, chi1, chi2 selection, `dataset.add_molecule` for each one, using a distinct index for each submitted `TorsionDrive`.\n",
    "    - be sure to extract the dihderal constraints (similar to Horton's code) and exclude the constraint on the dihedral we are driving"
   ]
  },
  {
   "cell_type": "code",
   "execution_count": 20,
   "metadata": {},
   "outputs": [],
   "source": [
    "dihedrals = {'omega': omega_smarts,\n",
    "             'phi': phi_smarts,\n",
    "             'psi': psi_smarts,\n",
    "             'chi1': chi1_smarts,\n",
    "             'chi2': chi2_smarts}"
   ]
  },
  {
   "cell_type": "code",
   "execution_count": 21,
   "metadata": {},
   "outputs": [],
   "source": [
    "factory = TorsiondriveDatasetFactory()"
   ]
  },
  {
   "cell_type": "code",
   "execution_count": 22,
   "metadata": {},
   "outputs": [
    {
     "data": {
      "text/plain": [
       "['dipole', 'quadrupole', 'wiberg_lowdin_indices', 'mayer_indices']"
      ]
     },
     "execution_count": 22,
     "metadata": {},
     "output_type": "execute_result"
    }
   ],
   "source": [
    "factory.scf_properties"
   ]
  },
  {
   "cell_type": "code",
   "execution_count": 23,
   "metadata": {},
   "outputs": [],
   "source": [
    "# what's the difference between tagline and description?\n",
    "dataset = factory.create_dataset(dataset_name=\"OpenFF Protein Fragments TorsionDrives v1.0\",\n",
    "                                 tagline=\"Torsiondrives for selected dihedrals of various protein fragments\",\n",
    "                                 description=\"Torsiondrives for selected dihedrals of various protein fragments\",\n",
    "                                 molecules=[])"
   ]
  },
  {
   "cell_type": "code",
   "execution_count": 24,
   "metadata": {},
   "outputs": [],
   "source": [
    "dataset.metadata.submitter = 'dotsdl'"
   ]
  },
  {
   "cell_type": "code",
   "execution_count": 25,
   "metadata": {},
   "outputs": [],
   "source": [
    "def populate_dataset(dataset, input_files):\n",
    "    \n",
    "    for folder in os.listdir(input_files):\n",
    "        folder_path = os.path.join(input_files, folder)\n",
    "\n",
    "        if not os.path.isdir(folder_path):\n",
    "            print(folder)\n",
    "            continue\n",
    "\n",
    "        for combination in os.listdir(folder_path):\n",
    "            combination_path = os.path.join(folder_path, combination)\n",
    "            print(\"collecting from folder\", combination_path)\n",
    "\n",
    "            if \".tar\" not in combination_path:\n",
    "                constraints  = gather_constraints(combination_path)\n",
    "                molecule = build_molecule(combination_path)\n",
    "\n",
    "                attributes = factory.create_cmiles_metadata(molecule)\n",
    "\n",
    "                for dihedral, dihedral_smarts in dihedrals.items():\n",
    "                    index = \"-\".join([combination.lower(), dihedral])\n",
    "                    \n",
    "                    dihedral_indices = mol.chemical_environment_matches(dihedral_smarts)\n",
    "                    \n",
    "                    # drop constraint on dihedral we are rotating\n",
    "#                     geometric_constraints = []\n",
    "#                     for constraint in constraints:\n",
    "#                         if constraint == dihedral_indices:\n",
    "#                             continue\n",
    "#                         geometric_constraints.append({\"type\": \"dihedral\", \"indices\": list(constraint)})\n",
    "                    #keywords = {\"constraints\": {\"freeze\": geometric_constraints}}\n",
    "\n",
    "                    dataset.add_molecule(index=index, \n",
    "                                         molecule=molecule, \n",
    "                                         dihedrals=dihedral_indices,\n",
    "                                         attributes=attributes)\n",
    "                                         #keywords=keywords)\n",
    "    return dataset"
   ]
  },
  {
   "cell_type": "markdown",
   "metadata": {},
   "source": [
    "Oh no...are the constraints 1-based? They seem off by 1 from our indices in our example above. This would impact the optimization dataset as well... :/\n",
    "\n",
    "Definitely 1-based from inspection of a mol2 file against its corresponding constraints file. We'll need to shift all constraint indices down by 1 to apply to our molecule atoms. Adjusted our `gather_constraints` function above."
   ]
  },
  {
   "cell_type": "markdown",
   "metadata": {},
   "source": [
    "Can also check dihedrals using QCSubmit with generated PDF (be sure to generate the PDF!).\n",
    "`dataset.visualize(filename)`\n",
    "\n",
    "Might be of interest to toss in an ANI compute spec; Josh is interested in running an ANI compute spec locally to see if convergence problems arise quickly."
   ]
  },
  {
   "cell_type": "code",
   "execution_count": 26,
   "metadata": {},
   "outputs": [
    {
     "name": "stdout",
     "output_type": "stream",
     "text": [
      "collecting from folder Input_files/GLN/VAL_GLN_GLY\n",
      "collecting from folder Input_files/GLN/ALA_GLN_GLY\n",
      "collecting from folder Input_files/GLN/GLY_GLN_SER\n",
      "collecting from folder Input_files/GLN/SER_GLN_VAL\n",
      "collecting from folder Input_files/GLN/GLY_GLN_ALA\n",
      "collecting from folder Input_files/GLN/ALA_GLN_VAL\n",
      "collecting from folder Input_files/GLN/GLY_GLN_GLY\n",
      "collecting from folder Input_files/GLN/ConfGLN.tar.gz\n",
      "collecting from folder Input_files/GLN/SER_GLN_SER\n",
      "collecting from folder Input_files/GLN/ALA_GLN_SER\n",
      "collecting from folder Input_files/GLN/SER_GLN_GLY\n",
      "collecting from folder Input_files/GLN/SER_GLN_ALA\n",
      "collecting from folder Input_files/GLN/VAL_GLN_VAL\n",
      "collecting from folder Input_files/GLN/ALA_GLN_ALA\n",
      "collecting from folder Input_files/GLN/GLY_GLN_VAL\n",
      "collecting from folder Input_files/GLN/VAL_GLN_SER\n",
      "Undefined stereochemistry for Input_files/GLN/VAL_GLN_SER/Conf524.mol2; skipping\n",
      "collecting from folder Input_files/GLN/VAL_GLN_ALA\n",
      "collecting from folder Input_files/GLH/ALA_GLH_SER\n",
      "collecting from folder Input_files/GLH/ALA_GLH_GLY\n",
      "collecting from folder Input_files/GLH/GLY_GLH_VAL\n",
      "collecting from folder Input_files/GLH/SER_GLH_ALA\n",
      "collecting from folder Input_files/GLH/GLY_GLH_ALA\n",
      "collecting from folder Input_files/GLH/ALA_GLH_ALA\n",
      "collecting from folder Input_files/GLH/SER_GLH_VAL\n",
      "collecting from folder Input_files/GLH/GLY_GLH_GLY\n",
      "collecting from folder Input_files/GLH/ConfGLH.tar.gz\n",
      "collecting from folder Input_files/GLH/VAL_GLH_GLY\n",
      "collecting from folder Input_files/GLH/VAL_GLH_ALA\n",
      "collecting from folder Input_files/GLH/VAL_GLH_SER\n",
      "collecting from folder Input_files/GLH/SER_GLH_GLY\n",
      "collecting from folder Input_files/GLH/VAL_GLH_VAL\n",
      "collecting from folder Input_files/GLH/ALA_GLH_VAL\n",
      "collecting from folder Input_files/GLH/SER_GLH_SER\n",
      "collecting from folder Input_files/GLH/GLY_GLH_SER\n",
      "collecting from folder Input_files/ALA/VAL_ALA_GLY\n",
      "collecting from folder Input_files/ALA/ALA_ALA_VAL\n",
      "collecting from folder Input_files/ALA/VAL_ALA_ALA\n",
      "collecting from folder Input_files/ALA/SER_ALA_VAL\n",
      "collecting from folder Input_files/ALA/GLY_ALA_VAL\n",
      "collecting from folder Input_files/ALA/GLY_ALA_GLY\n",
      "collecting from folder Input_files/ALA/SER_ALA_ALA\n",
      "collecting from folder Input_files/ALA/SER_ALA_GLY\n",
      "collecting from folder Input_files/ALA/ALA_ALA_GLY\n",
      "collecting from folder Input_files/ALA/GLY_ALA_ALA\n",
      "collecting from folder Input_files/ALA/ALA_ALA_SER\n",
      "collecting from folder Input_files/ALA/GLY_ALA_SER\n",
      "collecting from folder Input_files/ALA/VAL_ALA_SER\n",
      "collecting from folder Input_files/ALA/SER_ALA_SER\n",
      "collecting from folder Input_files/ALA/VAL_ALA_VAL\n",
      "collecting from folder Input_files/ALA/ALA_ALA_ALA\n",
      "collecting from folder Input_files/HIE/SER_HIE_SER\n",
      "collecting from folder Input_files/HIE/SER_HIE_VAL\n",
      "collecting from folder Input_files/HIE/ALA_HIE_VAL\n",
      "collecting from folder Input_files/HIE/ALA_HIE_ALA\n",
      "collecting from folder Input_files/HIE/GLY_HIE_VAL\n",
      "collecting from folder Input_files/HIE/GLY_HIE_GLY\n",
      "collecting from folder Input_files/HIE/SER_HIE_GLY\n",
      "collecting from folder Input_files/HIE/GLY_HIE_ALA\n",
      "collecting from folder Input_files/HIE/VAL_HIE_ALA\n",
      "collecting from folder Input_files/HIE/ALA_HIE_SER\n",
      "collecting from folder Input_files/HIE/SER_HIE_ALA\n",
      "collecting from folder Input_files/HIE/ConfHIE.tar.gz\n",
      "collecting from folder Input_files/HIE/VAL_HIE_SER\n",
      "collecting from folder Input_files/HIE/GLY_HIE_SER\n",
      "collecting from folder Input_files/HIE/ALA_HIE_GLY\n",
      "collecting from folder Input_files/HIE/VAL_HIE_VAL\n",
      "collecting from folder Input_files/HIE/VAL_HIE_GLY\n",
      "collecting from folder Input_files/ASN/GLY_ASN_ALA\n",
      "collecting from folder Input_files/ASN/GLY_ASN_SER\n",
      "collecting from folder Input_files/ASN/VAL_ASN_GLY\n",
      "collecting from folder Input_files/ASN/VAL_ASN_VAL\n",
      "collecting from folder Input_files/ASN/ALA_ASN_SER\n",
      "collecting from folder Input_files/ASN/GLY_ASN_VAL\n",
      "collecting from folder Input_files/ASN/ALA_ASN_VAL\n",
      "collecting from folder Input_files/ASN/ALA_ASN_GLY\n",
      "collecting from folder Input_files/ASN/VAL_ASN_ALA\n",
      "collecting from folder Input_files/ASN/SER_ASN_VAL\n",
      "collecting from folder Input_files/ASN/GLY_ASN_GLY\n",
      "collecting from folder Input_files/ASN/VAL_ASN_SER\n",
      "collecting from folder Input_files/ASN/ALA_ASN_ALA\n",
      "collecting from folder Input_files/ASN/SER_ASN_ALA\n",
      "collecting from folder Input_files/ASN/SER_ASN_GLY\n",
      "collecting from folder Input_files/ASN/ConfASN.tar.gz\n",
      "collecting from folder Input_files/ASN/SER_ASN_SER\n",
      "collecting from folder Input_files/CYS/ALA_CYS_ALA\n",
      "collecting from folder Input_files/CYS/GLY_CYS_ALA\n",
      "collecting from folder Input_files/CYS/ConfCYS.tar.gz\n",
      "collecting from folder Input_files/CYS/VAL_CYS_ALA\n",
      "Undefined stereochemistry for Input_files/CYS/VAL_CYS_ALA/Conf513.mol2; skipping\n",
      "collecting from folder Input_files/CYS/SER_CYS_VAL\n",
      "collecting from folder Input_files/CYS/ALA_CYS_SER\n",
      "collecting from folder Input_files/CYS/GLY_CYS_SER\n",
      "collecting from folder Input_files/CYS/GLY_CYS_VAL\n",
      "collecting from folder Input_files/CYS/VAL_CYS_SER\n",
      "collecting from folder Input_files/CYS/VAL_CYS_VAL\n",
      "collecting from folder Input_files/CYS/VAL_CYS_GLY\n",
      "collecting from folder Input_files/CYS/SER_CYS_ALA\n",
      "collecting from folder Input_files/CYS/ALA_CYS_GLY\n",
      "collecting from folder Input_files/CYS/GLY_CYS_GLY\n",
      "collecting from folder Input_files/CYS/SER_CYS_GLY\n",
      "collecting from folder Input_files/CYS/SER_CYS_SER\n",
      "collecting from folder Input_files/CYS/ALA_CYS_VAL\n",
      "collecting from folder Input_files/ARG/GLY_ARG_SER\n"
     ]
    },
    {
     "name": "stderr",
     "output_type": "stream",
     "text": [
      "/home/david/.conda/envs/qcsubmit/lib/python3.7/site-packages/qcsubmit/validators.py:181: UserWarning: The molecule C14H28N7O5 has a net charge of 1.0.\n",
      "  UserWarning,\n"
     ]
    },
    {
     "name": "stdout",
     "output_type": "stream",
     "text": [
      "collecting from folder Input_files/ARG/GLY_ARG_GLY\n"
     ]
    },
    {
     "name": "stderr",
     "output_type": "stream",
     "text": [
      "/home/david/.conda/envs/qcsubmit/lib/python3.7/site-packages/qcsubmit/validators.py:181: UserWarning: The molecule C13H26N7O4 has a net charge of 1.0.\n",
      "  UserWarning,\n"
     ]
    },
    {
     "name": "stdout",
     "output_type": "stream",
     "text": [
      "collecting from folder Input_files/ARG/SER_ARG_ALA\n"
     ]
    },
    {
     "name": "stderr",
     "output_type": "stream",
     "text": [
      "/home/david/.conda/envs/qcsubmit/lib/python3.7/site-packages/qcsubmit/validators.py:181: UserWarning: The molecule C15H30N7O5 has a net charge of 1.0.\n",
      "  UserWarning,\n"
     ]
    },
    {
     "name": "stdout",
     "output_type": "stream",
     "text": [
      "collecting from folder Input_files/ARG/ALA_ARG_ALA\n"
     ]
    },
    {
     "name": "stderr",
     "output_type": "stream",
     "text": [
      "/home/david/.conda/envs/qcsubmit/lib/python3.7/site-packages/qcsubmit/validators.py:181: UserWarning: The molecule C15H30N7O4 has a net charge of 1.0.\n",
      "  UserWarning,\n"
     ]
    },
    {
     "name": "stdout",
     "output_type": "stream",
     "text": [
      "collecting from folder Input_files/ARG/VAL_ARG_VAL\n"
     ]
    },
    {
     "name": "stderr",
     "output_type": "stream",
     "text": [
      "/home/david/.conda/envs/qcsubmit/lib/python3.7/site-packages/qcsubmit/validators.py:181: UserWarning: The molecule C19H38N7O4 has a net charge of 1.0.\n",
      "  UserWarning,\n"
     ]
    },
    {
     "name": "stdout",
     "output_type": "stream",
     "text": [
      "collecting from folder Input_files/ARG/SER_ARG_SER\n"
     ]
    },
    {
     "name": "stderr",
     "output_type": "stream",
     "text": [
      "/home/david/.conda/envs/qcsubmit/lib/python3.7/site-packages/qcsubmit/validators.py:181: UserWarning: The molecule C15H30N7O6 has a net charge of 1.0.\n",
      "  UserWarning,\n"
     ]
    },
    {
     "name": "stdout",
     "output_type": "stream",
     "text": [
      "collecting from folder Input_files/ARG/GLY_ARG_VAL\n"
     ]
    },
    {
     "name": "stderr",
     "output_type": "stream",
     "text": [
      "/home/david/.conda/envs/qcsubmit/lib/python3.7/site-packages/qcsubmit/validators.py:181: UserWarning: The molecule C16H32N7O4 has a net charge of 1.0.\n",
      "  UserWarning,\n"
     ]
    },
    {
     "name": "stdout",
     "output_type": "stream",
     "text": [
      "collecting from folder Input_files/ARG/ALA_ARG_GLY\n"
     ]
    },
    {
     "name": "stderr",
     "output_type": "stream",
     "text": [
      "/home/david/.conda/envs/qcsubmit/lib/python3.7/site-packages/qcsubmit/validators.py:181: UserWarning: The molecule C14H28N7O4 has a net charge of 1.0.\n",
      "  UserWarning,\n"
     ]
    },
    {
     "name": "stdout",
     "output_type": "stream",
     "text": [
      "collecting from folder Input_files/ARG/SER_ARG_VAL\n",
      "Undefined stereochemistry for Input_files/ARG/SER_ARG_VAL/Conf508.mol2; skipping\n"
     ]
    },
    {
     "name": "stderr",
     "output_type": "stream",
     "text": [
      "/home/david/.conda/envs/qcsubmit/lib/python3.7/site-packages/qcsubmit/validators.py:181: UserWarning: The molecule C17H34N7O5 has a net charge of 1.0.\n",
      "  UserWarning,\n"
     ]
    },
    {
     "name": "stdout",
     "output_type": "stream",
     "text": [
      "collecting from folder Input_files/ARG/GLY_ARG_ALA\n",
      "collecting from folder Input_files/ARG/ConfARG.tar.gz\n",
      "collecting from folder Input_files/ARG/SER_ARG_GLY\n",
      "collecting from folder Input_files/ARG/ALA_ARG_SER\n",
      "Undefined stereochemistry for Input_files/ARG/ALA_ARG_SER/Conf515.mol2; skipping\n",
      "collecting from folder Input_files/ARG/ALA_ARG_VAL\n"
     ]
    },
    {
     "name": "stderr",
     "output_type": "stream",
     "text": [
      "/home/david/.conda/envs/qcsubmit/lib/python3.7/site-packages/qcsubmit/validators.py:181: UserWarning: The molecule C17H34N7O4 has a net charge of 1.0.\n",
      "  UserWarning,\n"
     ]
    },
    {
     "name": "stdout",
     "output_type": "stream",
     "text": [
      "collecting from folder Input_files/ARG/VAL_ARG_ALA\n",
      "collecting from folder Input_files/ARG/VAL_ARG_SER\n",
      "collecting from folder Input_files/ARG/VAL_ARG_GLY\n",
      "collecting from folder Input_files/GLU/GLY_GLU_GLY\n"
     ]
    },
    {
     "name": "stderr",
     "output_type": "stream",
     "text": [
      "/home/david/.conda/envs/qcsubmit/lib/python3.7/site-packages/qcsubmit/validators.py:181: UserWarning: The molecule C12H19N4O6 has a net charge of -1.0.\n",
      "  UserWarning,\n"
     ]
    },
    {
     "name": "stdout",
     "output_type": "stream",
     "text": [
      "collecting from folder Input_files/GLU/GLY_GLU_ALA\n"
     ]
    },
    {
     "name": "stderr",
     "output_type": "stream",
     "text": [
      "/home/david/.conda/envs/qcsubmit/lib/python3.7/site-packages/qcsubmit/validators.py:181: UserWarning: The molecule C13H21N4O6 has a net charge of -1.0.\n",
      "  UserWarning,\n"
     ]
    },
    {
     "name": "stdout",
     "output_type": "stream",
     "text": [
      "collecting from folder Input_files/GLU/VAL_GLU_GLY\n"
     ]
    },
    {
     "name": "stderr",
     "output_type": "stream",
     "text": [
      "/home/david/.conda/envs/qcsubmit/lib/python3.7/site-packages/qcsubmit/validators.py:181: UserWarning: The molecule C15H25N4O6 has a net charge of -1.0.\n",
      "  UserWarning,\n"
     ]
    },
    {
     "name": "stdout",
     "output_type": "stream",
     "text": [
      "collecting from folder Input_files/GLU/VAL_GLU_ALA\n",
      "Undefined stereochemistry for Input_files/GLU/VAL_GLU_ALA/Conf467.mol2; skipping\n"
     ]
    },
    {
     "name": "stderr",
     "output_type": "stream",
     "text": [
      "/home/david/.conda/envs/qcsubmit/lib/python3.7/site-packages/qcsubmit/validators.py:181: UserWarning: The molecule C16H27N4O6 has a net charge of -1.0.\n",
      "  UserWarning,\n"
     ]
    },
    {
     "name": "stdout",
     "output_type": "stream",
     "text": [
      "collecting from folder Input_files/GLU/GLY_GLU_VAL\n",
      "Undefined stereochemistry for Input_files/GLU/GLY_GLU_VAL/Conf517.mol2; skipping\n",
      "collecting from folder Input_files/GLU/ALA_GLU_ALA\n"
     ]
    },
    {
     "name": "stderr",
     "output_type": "stream",
     "text": [
      "/home/david/.conda/envs/qcsubmit/lib/python3.7/site-packages/qcsubmit/validators.py:181: UserWarning: The molecule C14H23N4O6 has a net charge of -1.0.\n",
      "  UserWarning,\n"
     ]
    },
    {
     "name": "stdout",
     "output_type": "stream",
     "text": [
      "collecting from folder Input_files/GLU/VAL_GLU_VAL\n",
      "Undefined stereochemistry for Input_files/GLU/VAL_GLU_VAL/Conf488.mol2; skipping\n"
     ]
    },
    {
     "name": "stderr",
     "output_type": "stream",
     "text": [
      "/home/david/.conda/envs/qcsubmit/lib/python3.7/site-packages/qcsubmit/validators.py:181: UserWarning: The molecule C18H31N4O6 has a net charge of -1.0.\n",
      "  UserWarning,\n"
     ]
    },
    {
     "name": "stdout",
     "output_type": "stream",
     "text": [
      "collecting from folder Input_files/GLU/ALA_GLU_VAL\n",
      "collecting from folder Input_files/GLU/ConfGLU.tar.gz\n",
      "collecting from folder Input_files/GLU/ALA_GLU_GLY\n",
      "collecting from folder Input_files/ASP/ConfASP.tar.gz\n",
      "collecting from folder Input_files/ASP/SER_ASP_VAL\n"
     ]
    },
    {
     "name": "stderr",
     "output_type": "stream",
     "text": [
      "/home/david/.conda/envs/qcsubmit/lib/python3.7/site-packages/qcsubmit/validators.py:181: UserWarning: The molecule C15H25N4O7 has a net charge of -1.0.\n",
      "  UserWarning,\n"
     ]
    },
    {
     "name": "stdout",
     "output_type": "stream",
     "text": [
      "collecting from folder Input_files/ASP/VAL_ASP_VAL\n"
     ]
    },
    {
     "name": "stderr",
     "output_type": "stream",
     "text": [
      "/home/david/.conda/envs/qcsubmit/lib/python3.7/site-packages/qcsubmit/validators.py:181: UserWarning: The molecule C17H29N4O6 has a net charge of -1.0.\n",
      "  UserWarning,\n"
     ]
    },
    {
     "name": "stdout",
     "output_type": "stream",
     "text": [
      "collecting from folder Input_files/ASP/ALA_ASP_VAL\n",
      "collecting from folder Input_files/ASP/VAL_ASP_ALA\n",
      "collecting from folder Input_files/ASP/ALA_ASP_ALA\n",
      "collecting from folder Input_files/ASP/GLY_ASP_VAL\n",
      "collecting from folder Input_files/ASP/ALA_ASP_GLY\n",
      "collecting from folder Input_files/ASP/SER_ASP_ALA\n"
     ]
    },
    {
     "name": "stderr",
     "output_type": "stream",
     "text": [
      "/home/david/.conda/envs/qcsubmit/lib/python3.7/site-packages/qcsubmit/validators.py:181: UserWarning: The molecule C13H21N4O7 has a net charge of -1.0.\n",
      "  UserWarning,\n"
     ]
    },
    {
     "name": "stdout",
     "output_type": "stream",
     "text": [
      "collecting from folder Input_files/ASP/GLY_ASP_ALA\n",
      "collecting from folder Input_files/ASP/GLY_ASP_GLY\n"
     ]
    },
    {
     "name": "stderr",
     "output_type": "stream",
     "text": [
      "/home/david/.conda/envs/qcsubmit/lib/python3.7/site-packages/qcsubmit/validators.py:181: UserWarning: The molecule C11H17N4O6 has a net charge of -1.0.\n",
      "  UserWarning,\n"
     ]
    },
    {
     "name": "stdout",
     "output_type": "stream",
     "text": [
      "collecting from folder Input_files/ASP/SER_ASP_SER\n"
     ]
    },
    {
     "name": "stderr",
     "output_type": "stream",
     "text": [
      "/home/david/.conda/envs/qcsubmit/lib/python3.7/site-packages/qcsubmit/validators.py:181: UserWarning: The molecule C13H21N4O8 has a net charge of -1.0.\n",
      "  UserWarning,\n"
     ]
    },
    {
     "name": "stdout",
     "output_type": "stream",
     "text": [
      "collecting from folder Input_files/ASP/VAL_ASP_GLY\n",
      "collecting from folder Input_files/ASP/GLY_ASP_SER\n"
     ]
    },
    {
     "name": "stderr",
     "output_type": "stream",
     "text": [
      "/home/david/.conda/envs/qcsubmit/lib/python3.7/site-packages/qcsubmit/validators.py:181: UserWarning: The molecule C12H19N4O7 has a net charge of -1.0.\n",
      "  UserWarning,\n"
     ]
    },
    {
     "name": "stdout",
     "output_type": "stream",
     "text": [
      "collecting from folder Input_files/ASP/SER_ASP_GLY\n",
      "collecting from folder Input_files/ASP/VAL_ASP_SER\n",
      "collecting from folder Input_files/ASP/ALA_ASP_SER\n",
      "collecting from folder Input_files/GLY/VAL_GLY_ALA\n",
      "collecting from folder Input_files/GLY/ConfGLY.tar.gz\n",
      "collecting from folder Input_files/GLY/SER_GLY_ALA\n",
      "collecting from folder Input_files/GLY/VAL_GLY_VAL\n",
      "collecting from folder Input_files/GLY/SER_GLY_VAL\n",
      "collecting from folder Input_files/GLY/VAL_GLY_SER\n",
      "collecting from folder Input_files/GLY/GLY_GLY_VAL\n",
      "collecting from folder Input_files/GLY/SER_GLY_SER\n",
      "collecting from folder Input_files/GLY/ALA_GLY_GLY\n",
      "collecting from folder Input_files/GLY/GLY_GLY_ALA\n",
      "collecting from folder Input_files/GLY/ALA_GLY_ALA\n",
      "collecting from folder Input_files/GLY/ALA_GLY_VAL\n",
      "collecting from folder Input_files/GLY/SER_GLY_GLY\n",
      "collecting from folder Input_files/GLY/VAL_GLY_GLY\n",
      "collecting from folder Input_files/GLY/ALA_GLY_SER\n",
      "collecting from folder Input_files/GLY/GLY_GLY_SER\n",
      "collecting from folder Input_files/GLY/GLY_GLY_GLY\n",
      "collecting from folder Input_files/HID/GLY_HID_SER\n",
      "collecting from folder Input_files/HID/ALA_HID_GLY\n",
      "collecting from folder Input_files/HID/SER_HID_ALA\n",
      "collecting from folder Input_files/HID/VAL_HID_VAL\n",
      "collecting from folder Input_files/HID/ConfHID.tar.gz\n",
      "collecting from folder Input_files/HID/SER_HID_VAL\n",
      "collecting from folder Input_files/HID/GLY_HID_GLY\n",
      "collecting from folder Input_files/HID/GLY_HID_VAL\n",
      "collecting from folder Input_files/HID/VAL_HID_ALA\n",
      "collecting from folder Input_files/HID/SER_HID_GLY\n",
      "collecting from folder Input_files/HID/VAL_HID_GLY\n",
      "collecting from folder Input_files/HID/SER_HID_SER\n",
      "collecting from folder Input_files/HID/ALA_HID_ALA\n",
      "collecting from folder Input_files/HID/ALA_HID_SER\n",
      "collecting from folder Input_files/HID/GLY_HID_ALA\n",
      "collecting from folder Input_files/HID/VAL_HID_SER\n",
      "collecting from folder Input_files/HID/ALA_HID_VAL\n",
      "collecting from folder Input_files/ASH/SER_ASH_ALA\n",
      "collecting from folder Input_files/ASH/VAL_ASH_GLY\n",
      "collecting from folder Input_files/ASH/ALA_ASH_GLY\n",
      "collecting from folder Input_files/ASH/VAL_ASH_SER\n",
      "collecting from folder Input_files/ASH/GLY_ASH_GLY\n",
      "collecting from folder Input_files/ASH/ALA_ASH_ALA\n",
      "collecting from folder Input_files/ASH/VAL_ASH_VAL\n",
      "collecting from folder Input_files/ASH/SER_ASH_GLY\n",
      "collecting from folder Input_files/ASH/SER_ASH_SER\n",
      "collecting from folder Input_files/ASH/ALA_ASH_VAL\n",
      "collecting from folder Input_files/ASH/GLY_ASH_ALA\n",
      "collecting from folder Input_files/ASH/GLY_ASH_SER\n",
      "collecting from folder Input_files/ASH/VAL_ASH_ALA\n",
      "collecting from folder Input_files/ASH/ConfASH.tar.gz\n",
      "collecting from folder Input_files/ASH/ALA_ASH_SER\n",
      "collecting from folder Input_files/ASH/SER_ASH_VAL\n",
      "collecting from folder Input_files/ASH/GLY_ASH_VAL\n"
     ]
    }
   ],
   "source": [
    "ds = populate_dataset(dataset, 'Input_files/')"
   ]
  },
  {
   "cell_type": "code",
   "execution_count": 30,
   "metadata": {},
   "outputs": [],
   "source": [
    "ds.export_dataset('dataset.json')"
   ]
  },
  {
   "cell_type": "code",
   "execution_count": 31,
   "metadata": {},
   "outputs": [],
   "source": [
    "ds.visualize('torsions.pdf')"
   ]
  },
  {
   "cell_type": "markdown",
   "metadata": {},
   "source": [
    "Need to reduce conformers; consult with Cerutti tomorrow on selection basis (could we take first n conformers for each tripeptide?)"
   ]
  },
  {
   "cell_type": "code",
   "execution_count": 32,
   "metadata": {},
   "outputs": [
    {
     "data": {
      "text/plain": [
       "925"
      ]
     },
     "execution_count": 32,
     "metadata": {},
     "output_type": "execute_result"
    }
   ],
   "source": [
    "ds.n_records"
   ]
  },
  {
   "cell_type": "code",
   "execution_count": 33,
   "metadata": {},
   "outputs": [
    {
     "data": {
      "text/plain": [
       "185"
      ]
     },
     "execution_count": 33,
     "metadata": {},
     "output_type": "execute_result"
    }
   ],
   "source": [
    "ds.n_molecules"
   ]
  },
  {
   "cell_type": "code",
   "execution_count": null,
   "metadata": {},
   "outputs": [],
   "source": [
    "ds.n_molecules"
   ]
  },
  {
   "cell_type": "code",
   "execution_count": 34,
   "metadata": {},
   "outputs": [
    {
     "data": {
      "text/plain": [
       "\u001b[0;31mSignature:\u001b[0m\n",
       "\u001b[0mds\u001b[0m\u001b[0;34m.\u001b[0m\u001b[0madd_molecule\u001b[0m\u001b[0;34m(\u001b[0m\u001b[0;34m\u001b[0m\n",
       "\u001b[0;34m\u001b[0m    \u001b[0mindex\u001b[0m\u001b[0;34m:\u001b[0m \u001b[0mstr\u001b[0m\u001b[0;34m,\u001b[0m\u001b[0;34m\u001b[0m\n",
       "\u001b[0;34m\u001b[0m    \u001b[0mmolecule\u001b[0m\u001b[0;34m:\u001b[0m \u001b[0mopenforcefield\u001b[0m\u001b[0;34m.\u001b[0m\u001b[0mtopology\u001b[0m\u001b[0;34m.\u001b[0m\u001b[0mmolecule\u001b[0m\u001b[0;34m.\u001b[0m\u001b[0mMolecule\u001b[0m\u001b[0;34m,\u001b[0m\u001b[0;34m\u001b[0m\n",
       "\u001b[0;34m\u001b[0m    \u001b[0mattributes\u001b[0m\u001b[0;34m:\u001b[0m \u001b[0mDict\u001b[0m\u001b[0;34m[\u001b[0m\u001b[0mstr\u001b[0m\u001b[0;34m,\u001b[0m \u001b[0mAny\u001b[0m\u001b[0;34m]\u001b[0m\u001b[0;34m,\u001b[0m\u001b[0;34m\u001b[0m\n",
       "\u001b[0;34m\u001b[0m    \u001b[0mextras\u001b[0m\u001b[0;34m:\u001b[0m \u001b[0mUnion\u001b[0m\u001b[0;34m[\u001b[0m\u001b[0mDict\u001b[0m\u001b[0;34m[\u001b[0m\u001b[0mstr\u001b[0m\u001b[0;34m,\u001b[0m \u001b[0mAny\u001b[0m\u001b[0;34m]\u001b[0m\u001b[0;34m,\u001b[0m \u001b[0mNoneType\u001b[0m\u001b[0;34m]\u001b[0m \u001b[0;34m=\u001b[0m \u001b[0;32mNone\u001b[0m\u001b[0;34m,\u001b[0m\u001b[0;34m\u001b[0m\n",
       "\u001b[0;34m\u001b[0m    \u001b[0mkeywords\u001b[0m\u001b[0;34m:\u001b[0m \u001b[0mUnion\u001b[0m\u001b[0;34m[\u001b[0m\u001b[0mDict\u001b[0m\u001b[0;34m[\u001b[0m\u001b[0mstr\u001b[0m\u001b[0;34m,\u001b[0m \u001b[0mAny\u001b[0m\u001b[0;34m]\u001b[0m\u001b[0;34m,\u001b[0m \u001b[0mNoneType\u001b[0m\u001b[0;34m]\u001b[0m \u001b[0;34m=\u001b[0m \u001b[0;32mNone\u001b[0m\u001b[0;34m,\u001b[0m\u001b[0;34m\u001b[0m\n",
       "\u001b[0;34m\u001b[0m    \u001b[0;34m**\u001b[0m\u001b[0mkwargs\u001b[0m\u001b[0;34m,\u001b[0m\u001b[0;34m\u001b[0m\n",
       "\u001b[0;34m\u001b[0m\u001b[0;34m)\u001b[0m \u001b[0;34m->\u001b[0m \u001b[0;32mNone\u001b[0m\u001b[0;34m\u001b[0m\u001b[0;34m\u001b[0m\u001b[0m\n",
       "\u001b[0;31mDocstring:\u001b[0m\n",
       "Add a molecule to the dataset under the given index with the passed cmiles.\n",
       "\n",
       "Parameters:\n",
       "index : str\n",
       "    The molecule index that was generated by the factory.\n",
       "molecule : openforcefield.topology.Molecule\n",
       "    The instance of the molecule which contains its conformer information.\n",
       "attributes : Dict[str, str]\n",
       "    The attributes dictionary containing all of the relevant identifier tags for the molecule and\n",
       "    extra meta information on the calculation.\n",
       "extras : Dict[str, Any], optional, default=None\n",
       "    The extras that should be supplied into the qcportal.moldels.Molecule.\n",
       "keywords : Dict[str, Any], optional, default=None,\n",
       "    Any extra keywords which are required for the calculation.\n",
       "\n",
       "Note:\n",
       "    Each molecule in this basic dataset should have all of its conformers expanded out into separate entries.\n",
       "    Thus here we take the general molecule index and increment it.\n",
       "\u001b[0;31mFile:\u001b[0m      ~/.conda/envs/qcsubmit/lib/python3.7/site-packages/qcsubmit/datasets.py\n",
       "\u001b[0;31mType:\u001b[0m      method\n"
      ]
     },
     "metadata": {},
     "output_type": "display_data"
    }
   ],
   "source": [
    "ds.add_molecule?"
   ]
  }
 ],
 "metadata": {
  "kernelspec": {
   "display_name": "Python 3",
   "language": "python",
   "name": "python3"
  },
  "language_info": {
   "codemirror_mode": {
    "name": "ipython",
    "version": 3
   },
   "file_extension": ".py",
   "mimetype": "text/x-python",
   "name": "python",
   "nbconvert_exporter": "python",
   "pygments_lexer": "ipython3",
   "version": "3.7.8"
  }
 },
 "nbformat": 4,
 "nbformat_minor": 4
}
