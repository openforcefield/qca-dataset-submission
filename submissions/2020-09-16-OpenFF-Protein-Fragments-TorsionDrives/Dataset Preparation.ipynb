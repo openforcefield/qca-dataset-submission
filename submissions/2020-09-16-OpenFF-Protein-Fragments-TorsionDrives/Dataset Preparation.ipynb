{
 "cells": [
  {
   "cell_type": "markdown",
   "metadata": {},
   "source": [
    "# QCSubmit Protein Fragments TorsionDrive preparation"
   ]
  },
  {
   "cell_type": "code",
   "execution_count": 1,
   "metadata": {},
   "outputs": [
    {
     "data": {
      "application/vnd.jupyter.widget-view+json": {
       "model_id": "5db98ac08daa46a5bfcf778bef40850f",
       "version_major": 2,
       "version_minor": 0
      },
      "text/plain": []
     },
     "metadata": {},
     "output_type": "display_data"
    }
   ],
   "source": [
    "import os\n",
    "\n",
    "from qcsubmit.factories import TorsiondriveDatasetFactory\n",
    "from openforcefield.topology import Molecule\n",
    "from openforcefield.utils.toolkits import RDKitToolkitWrapper, UndefinedStereochemistryError"
   ]
  },
  {
   "cell_type": "markdown",
   "metadata": {},
   "source": [
    "We'll use the same artifacts produced for submitting Optimizations in \"2020-08-12-OpenFF-Protein-Fragments-version2\"."
   ]
  },
  {
   "cell_type": "code",
   "execution_count": 2,
   "metadata": {},
   "outputs": [],
   "source": [
    "!tar -xzf ../2020-08-12-OpenFF-Protein-Fragments-version2/Input_files.tar.gz -C ."
   ]
  },
  {
   "cell_type": "markdown",
   "metadata": {},
   "source": [
    "Need to:\n",
    "- [x] generate dihedral atoms for each molecule that we want to torsiondrive\n",
    "- [x] prepare README\n",
    "- [x] prepare `dataset.json`"
   ]
  },
  {
   "cell_type": "markdown",
   "metadata": {},
   "source": [
    "## Prototyping from a single molecule"
   ]
  },
  {
   "cell_type": "markdown",
   "metadata": {},
   "source": [
    "We'll use this function, modified a bit from the Optimization version of this same dataset:"
   ]
  },
  {
   "cell_type": "code",
   "execution_count": 3,
   "metadata": {},
   "outputs": [],
   "source": [
    "def build_molecule(folder):\n",
    "    \"\"\"\n",
    "    Create a molecule from all of the conformers in the folder.\n",
    "    \"\"\"\n",
    "    molecules = []\n",
    "    for file in os.listdir(folder):\n",
    "        if file.endswith(\".mol2\") and not file.startswith('.'):\n",
    "            # this is one of the molecules\n",
    "            try:\n",
    "                mol2 = Molecule.from_file(os.path.join(folder, file))\n",
    "            except UndefinedStereochemistryError:\n",
    "                # if we get undefined stereochemistry, we skip this conformer\n",
    "                print(f\"Undefined stereochemistry for {folder}/{file}; skipping\")\n",
    "                continue\n",
    "            # now save again in PDB format\n",
    "            name = file.split(\".\")[0]\n",
    "            # fix issue with openeye reordering when writing files.\n",
    "            mol2.to_file(os.path.join(folder, name + \".pdb\"), \"pdb\", RDKitToolkitWrapper())\n",
    "            # load up the new molecule\n",
    "            pdb = Molecule.from_file(os.path.join(folder, name + \".pdb\"))\n",
    "            molecules.append(pdb)\n",
    "            \n",
    "    # now we need to condense all of the conformers down to one molecule.\n",
    "    return_mol = molecules.pop()\n",
    "    for molecule in molecules:\n",
    "        return_mol.add_conformer(molecule.conformers[0])\n",
    "        \n",
    "    return return_mol"
   ]
  },
  {
   "cell_type": "code",
   "execution_count": 4,
   "metadata": {},
   "outputs": [],
   "source": [
    "mol = build_molecule('Input_files/ASP/ALA_ASP_SER/')"
   ]
  },
  {
   "cell_type": "markdown",
   "metadata": {},
   "source": [
    "From discussions with David Cerutti, we want to drive (every 15deg):\n",
    "- phi and psi combinatorically (grid search)\n",
    "- phi and chi1 combinatorically (grid search)\n",
    "- psi and chi1 combinatorically (grid search)\n",
    "\n",
    "Beyond this, we may want to try adding strain to other angles:\n",
    "- N Ca Cb\n",
    "- N Ca C\n",
    "- basically all backbone angle perturbations"
   ]
  },
  {
   "cell_type": "markdown",
   "metadata": {},
   "source": [
    "From conversation with the QCA group today, we can technically do 2D torsion scans, but using this data in ForceBalance is something we cannot currently do.\n",
    "We decided we'd be better served at present by doing each torsion as its own torsion scan for our given conformers."
   ]
  },
  {
   "cell_type": "code",
   "execution_count": 5,
   "metadata": {},
   "outputs": [
    {
     "data": {
      "text/plain": [
       "39"
      ]
     },
     "execution_count": 5,
     "metadata": {},
     "output_type": "execute_result"
    }
   ],
   "source": [
    "mol.n_conformers"
   ]
  },
  {
   "cell_type": "code",
   "execution_count": 6,
   "metadata": {},
   "outputs": [
    {
     "data": {
      "text/plain": [
       "[Bond(atom1 index=8, atom2 index=14),\n",
       " Bond(atom1 index=20, atom2 index=23),\n",
       " Bond(atom1 index=18, atom2 index=20),\n",
       " Bond(atom1 index=6, atom2 index=8),\n",
       " Bond(atom1 index=4, atom2 index=6),\n",
       " Bond(atom1 index=14, atom2 index=16),\n",
       " Bond(atom1 index=28, atom2 index=30),\n",
       " Bond(atom1 index=30, atom2 index=32),\n",
       " Bond(atom1 index=37, atom2 index=39),\n",
       " Bond(atom1 index=8, atom2 index=10),\n",
       " Bond(atom1 index=1, atom2 index=4),\n",
       " Bond(atom1 index=18, atom2 index=26),\n",
       " Bond(atom1 index=26, atom2 index=28),\n",
       " Bond(atom1 index=30, atom2 index=37),\n",
       " Bond(atom1 index=32, atom2 index=35),\n",
       " Bond(atom1 index=16, atom2 index=18),\n",
       " Bond(atom1 index=39, atom2 index=41)]"
      ]
     },
     "execution_count": 6,
     "metadata": {},
     "output_type": "execute_result"
    }
   ],
   "source": [
    "mol.find_rotatable_bonds()"
   ]
  },
  {
   "cell_type": "code",
   "execution_count": 7,
   "metadata": {},
   "outputs": [
    {
     "data": {
      "text/plain": [
       "100"
      ]
     },
     "execution_count": 7,
     "metadata": {},
     "output_type": "execute_result"
    }
   ],
   "source": [
    "# perhaps use this, filter out where one atom is a hydrogen, \n",
    "# central two atoms must define a bond in the above `find_rotatable_bonds` list\n",
    "len(mol.propers)"
   ]
  },
  {
   "cell_type": "markdown",
   "metadata": {},
   "source": [
    "This probably isn't the approach we want to take. Way too many. Need a programmatic approach to selecting only the dihedrals we want.\n",
    "\n",
    "We could do SMIRKS-based selection of omega, phi, psi, and chi1, chi2 angles.\n",
    "That would get us angles we already know we want to sample with TorsionDrives."
   ]
  },
  {
   "cell_type": "markdown",
   "metadata": {},
   "source": [
    "Useful link for sanity checks: http://www.ccp14.ac.uk/ccp/web-mirrors/garlic/garlic/commands/dihedrals.html"
   ]
  },
  {
   "cell_type": "code",
   "execution_count": 8,
   "metadata": {},
   "outputs": [
    {
     "data": {
      "image/png": "[encoded data removed]",
      "text/plain": [
       "<IPython.core.display.Image object>"
      ]
     },
     "execution_count": 8,
     "metadata": {},
     "output_type": "execute_result"
    }
   ],
   "source": [
    "mol.visualize(backend='openeye')"
   ]
  },
  {
   "cell_type": "code",
   "execution_count": 9,
   "metadata": {},
   "outputs": [
    {
     "data": {
      "text/plain": [
       "[(8, 14, 16, 18)]"
      ]
     },
     "execution_count": 9,
     "metadata": {},
     "output_type": "execute_result"
    }
   ],
   "source": [
    "omega_smarts = 'CC(=O)N[C:1][C:2](=O)[N:3][C:4]C(=O)NCC(=O)NC'\n",
    "omega = mol.chemical_environment_matches(omega_smarts)\n",
    "omega"
   ]
  },
  {
   "cell_type": "code",
   "execution_count": 10,
   "metadata": {},
   "outputs": [
    {
     "data": {
      "text/plain": [
       "[(14, 16, 18, 26)]"
      ]
     },
     "execution_count": 10,
     "metadata": {},
     "output_type": "execute_result"
    }
   ],
   "source": [
    "phi_smarts = 'CC(=O)NC[C:1](=O)[N:2][C:3][C:4](=O)NCC(=O)NC'\n",
    "phi = mol.chemical_environment_matches(phi_smarts)\n",
    "phi"
   ]
  },
  {
   "cell_type": "code",
   "execution_count": 11,
   "metadata": {},
   "outputs": [
    {
     "data": {
      "text/plain": [
       "[(16, 18, 26, 28)]"
      ]
     },
     "execution_count": 11,
     "metadata": {},
     "output_type": "execute_result"
    }
   ],
   "source": [
    "psi_smarts = 'CC(=O)NCC(=O)[N:1][C:2][C:3](=O)[N:4]CC(=O)NC'\n",
    "psi = mol.chemical_environment_matches(psi_smarts)\n",
    "psi"
   ]
  },
  {
   "cell_type": "code",
   "execution_count": 12,
   "metadata": {},
   "outputs": [
    {
     "data": {
      "text/plain": [
       "[(16, 18, 20, 23)]"
      ]
     },
     "execution_count": 12,
     "metadata": {},
     "output_type": "execute_result"
    }
   ],
   "source": [
    "chi1_smarts = 'CC(=O)NCC(=O)[N:1][C:2]([C:3][!#1:4])C(=O)NCC(=O)NC'\n",
    "chi1 = mol.chemical_environment_matches(chi1_smarts)\n",
    "chi1"
   ]
  },
  {
   "cell_type": "code",
   "execution_count": 13,
   "metadata": {},
   "outputs": [
    {
     "data": {
      "text/plain": [
       "[(18, 20, 23, 24)]"
      ]
     },
     "execution_count": 13,
     "metadata": {},
     "output_type": "execute_result"
    }
   ],
   "source": [
    "chi2_smarts = 'CC(=O)NCC(=O)N[C:1]([C:2][C:3][!#1:4])C(=O)NCC(=O)NC'\n",
    "chi2 = mol.chemical_environment_matches(chi2_smarts)\n",
    "chi2"
   ]
  },
  {
   "cell_type": "code",
   "execution_count": 14,
   "metadata": {},
   "outputs": [
    {
     "data": {
      "text/plain": [
       "[Atom(name=, atomic number=1),\n",
       " Atom(name=, atomic number=6),\n",
       " Atom(name=, atomic number=1),\n",
       " Atom(name=, atomic number=1),\n",
       " Atom(name=, atomic number=6),\n",
       " Atom(name=, atomic number=8),\n",
       " Atom(name=, atomic number=7),\n",
       " Atom(name=, atomic number=1),\n",
       " Atom(name=, atomic number=6),\n",
       " Atom(name=, atomic number=1),\n",
       " Atom(name=, atomic number=6),\n",
       " Atom(name=, atomic number=1),\n",
       " Atom(name=, atomic number=1),\n",
       " Atom(name=, atomic number=1),\n",
       " Atom(name=, atomic number=6),\n",
       " Atom(name=, atomic number=8),\n",
       " Atom(name=, atomic number=7),\n",
       " Atom(name=, atomic number=1),\n",
       " Atom(name=, atomic number=6),\n",
       " Atom(name=, atomic number=1),\n",
       " Atom(name=, atomic number=6),\n",
       " Atom(name=, atomic number=1),\n",
       " Atom(name=, atomic number=1),\n",
       " Atom(name=, atomic number=6),\n",
       " Atom(name=, atomic number=8),\n",
       " Atom(name=, atomic number=8),\n",
       " Atom(name=, atomic number=6),\n",
       " Atom(name=, atomic number=8),\n",
       " Atom(name=, atomic number=7),\n",
       " Atom(name=, atomic number=1),\n",
       " Atom(name=, atomic number=6),\n",
       " Atom(name=, atomic number=1),\n",
       " Atom(name=, atomic number=6),\n",
       " Atom(name=, atomic number=1),\n",
       " Atom(name=, atomic number=1),\n",
       " Atom(name=, atomic number=8),\n",
       " Atom(name=, atomic number=1),\n",
       " Atom(name=, atomic number=6),\n",
       " Atom(name=, atomic number=8),\n",
       " Atom(name=, atomic number=7),\n",
       " Atom(name=, atomic number=1),\n",
       " Atom(name=, atomic number=6),\n",
       " Atom(name=, atomic number=1),\n",
       " Atom(name=, atomic number=1),\n",
       " Atom(name=, atomic number=1)]"
      ]
     },
     "execution_count": 14,
     "metadata": {},
     "output_type": "execute_result"
    }
   ],
   "source": [
    "mol.atoms"
   ]
  },
  {
   "cell_type": "markdown",
   "metadata": {},
   "source": [
    "## Approaches"
   ]
  },
  {
   "cell_type": "markdown",
   "metadata": {},
   "source": [
    "Pursuing two approaches, as separate submissions:\n",
    "\n",
    "1. Medium priority. phi, psi, chi1 of central atom (if chi1 exists). Use strict SMARTS matching for selection of dihedral indices.\n",
    "\n",
    "2. Low priority. All heavy torsions. We start with `mol.propers`, remove any that have H at 1 or 4 positions, remove any whose central bond not in `mol.rotatable_bonds`."
   ]
  },
  {
   "cell_type": "markdown",
   "metadata": {},
   "source": [
    "We have some options on where we get our `initial_molecules`. Should we get them:\n",
    "1. **from the mol2/pdb files in the input_data.**\n",
    "2. from the `dataset.json` used for the OptimizationDataset submission\n",
    "3. from the public QCArchive itself"
   ]
  },
  {
   "cell_type": "markdown",
   "metadata": {},
   "source": [
    "### Notes in discussion with Dave Cerutti"
   ]
  },
  {
   "cell_type": "markdown",
   "metadata": {},
   "source": [
    "Choose 1 to give DC a pathway for submission."
   ]
  },
  {
   "cell_type": "markdown",
   "metadata": {},
   "source": [
    "We will want to use the dihedral freeze constraints used in the original optimization submission.\n",
    "For each driven torsion, **remove** the constraint corresponding to that torsion."
   ]
  },
  {
   "cell_type": "markdown",
   "metadata": {},
   "source": [
    "We'll go up to chi2; not advised to go beyond."
   ]
  },
  {
   "cell_type": "markdown",
   "metadata": {},
   "source": [
    "Omega should be rotated +/- 20 degrees."
   ]
  },
  {
   "cell_type": "markdown",
   "metadata": {},
   "source": [
    "Let's start with three conformers for each molecule.\n",
    "Still valuable to have more than one conformer per molecule."
   ]
  },
  {
   "cell_type": "markdown",
   "metadata": {},
   "source": [
    "### Notes in discussion with Josh Horton, Trevor Gokey"
   ]
  },
  {
   "cell_type": "markdown",
   "metadata": {},
   "source": [
    "It turns out that ForceBalance cannot actually use constraint information on dihedrals.\n",
    "Furthermore, for this reason, QCSubmit actually ignores them for TorsionDrive datasets; they only apply to Optimization datasets.\n",
    "\n",
    "We'll ignore the constraint files for this submission.\n",
    "We can revisit if new information permits or demands their use."
   ]
  },
  {
   "cell_type": "markdown",
   "metadata": {},
   "source": [
    "### Approach 1"
   ]
  },
  {
   "cell_type": "markdown",
   "metadata": {},
   "source": [
    "We will do the following:\n",
    "\n",
    "1. Pull molecules with conformers from directories similarly to how Josh Horton did this.\n",
    "2. For each molecule, for each of phi, psi, omega, chi1, chi2 selection, `dataset.add_molecule` for each one, using a distinct index for each submitted `TorsionDrive`."
   ]
  },
  {
   "cell_type": "code",
   "execution_count": 15,
   "metadata": {},
   "outputs": [],
   "source": [
    "dihedrals = {'omega': omega_smarts,\n",
    "             'phi': phi_smarts,\n",
    "             'psi': psi_smarts,\n",
    "             'chi1': chi1_smarts,\n",
    "             'chi2': chi2_smarts}"
   ]
  },
  {
   "cell_type": "code",
   "execution_count": 16,
   "metadata": {},
   "outputs": [],
   "source": [
    "factory = TorsiondriveDatasetFactory()"
   ]
  },
  {
   "cell_type": "code",
   "execution_count": 17,
   "metadata": {},
   "outputs": [
    {
     "data": {
      "text/plain": [
       "['dipole', 'quadrupole', 'wiberg_lowdin_indices', 'mayer_indices']"
      ]
     },
     "execution_count": 17,
     "metadata": {},
     "output_type": "execute_result"
    }
   ],
   "source": [
    "factory.scf_properties"
   ]
  },
  {
   "cell_type": "code",
   "execution_count": 18,
   "metadata": {},
   "outputs": [],
   "source": [
    "dataset = factory.create_dataset(dataset_name=\"OpenFF Protein Fragments TorsionDrives v1.0\",\n",
    "                                 tagline=\"Torsiondrives for selected dihedrals of various protein fragments\",\n",
    "                                 description=\"Torsiondrives for selected dihedrals of various protein fragments\",\n",
    "                                 molecules=[])"
   ]
  },
  {
   "cell_type": "code",
   "execution_count": 19,
   "metadata": {},
   "outputs": [],
   "source": [
    "dataset.metadata.long_description_url = \"https://github.com/openforcefield/qca-dataset-submission/tree/master/2020-09-16-OpenFF-Protein-Fragments-TorsionDrives\""
   ]
  },
  {
   "cell_type": "code",
   "execution_count": 20,
   "metadata": {},
   "outputs": [],
   "source": [
    "dataset.metadata.submitter = 'dotsdl'"
   ]
  },
  {
   "cell_type": "code",
   "execution_count": 21,
   "metadata": {},
   "outputs": [
    {
     "data": {
      "text/plain": [
       "{'qc_specifications': {'default': {'method': 'B3LYP-D3BJ',\n",
       "   'basis': 'DZVP',\n",
       "   'program': 'psi4',\n",
       "   'spec_name': 'default',\n",
       "   'spec_description': 'Standard OpenFF optimization quantum chemistry specification.',\n",
       "   'store_wavefunction': 'none'}},\n",
       " 'dataset_name': 'OpenFF Protein Fragments TorsionDrives v1.0',\n",
       " 'dataset_tagline': 'Torsiondrives for selected dihedrals of various protein fragments',\n",
       " 'dataset_type': 'TorsiondriveDataset',\n",
       " 'maxiter': 200,\n",
       " 'driver': <DriverEnum.gradient: 'gradient'>,\n",
       " 'scf_properties': ['dipole',\n",
       "  'quadrupole',\n",
       "  'wiberg_lowdin_indices',\n",
       "  'mayer_indices'],\n",
       " 'priority': 'normal',\n",
       " 'description': 'Torsiondrives for selected dihedrals of various protein fragments',\n",
       " 'dataset_tags': ['openff'],\n",
       " 'compute_tag': 'openff',\n",
       " 'metadata': {'submitter': 'dotsdl',\n",
       "  'creation_date': datetime.date(2020, 10, 8),\n",
       "  'collection_type': 'TorsiondriveDataset',\n",
       "  'dataset_name': 'OpenFF Protein Fragments TorsionDrives v1.0',\n",
       "  'short_description': 'Torsiondrives for selected dihedrals of various protein fragments',\n",
       "  'long_description_url': HttpUrl('https://github.com/openforcefield/qca-dataset-submission/tree/master/2020-09-16-OpenFF-Protein-Fragments-TorsionDrives', scheme='https', host='github.com', tld='com', host_type='domain', path='/openforcefield/qca-dataset-submission/tree/master/2020-09-16-OpenFF-Protein-Fragments-TorsionDrives'),\n",
       "  'long_description': 'Torsiondrives for selected dihedrals of various protein fragments',\n",
       "  'elements': set()},\n",
       " 'provenance': {'qcsubmit': '0+untagged.152.g76dd8ac',\n",
       "  'openforcefield': '0.7.1',\n",
       "  'openeye': '2020.1.0'},\n",
       " 'dataset': {},\n",
       " 'filtered_molecules': {'LinearTorsionRemoval': {'component_name': 'LinearTorsionRemoval',\n",
       "   'component_description': {'component_description': 'Remove any molecules with a linear torsions selected to drive.'},\n",
       "   'component_provenance': {'qcsubmit': '0+untagged.152.g76dd8ac',\n",
       "    'openforcefield': '0.7.1',\n",
       "    'openeye': '2020.1.0'},\n",
       "   'molecules': []},\n",
       "  'UnconnectedTorsionRemoval': {'component_name': 'UnconnectedTorsionRemoval',\n",
       "   'component_description': {'component_description': 'Remove any molecules with unconnected torsion indices highlighted to drive.'},\n",
       "   'component_provenance': {'qcsubmit': '0+untagged.152.g76dd8ac',\n",
       "    'openforcefield': '0.7.1',\n",
       "    'openeye': '2020.1.0'},\n",
       "   'molecules': []}},\n",
       " 'optimization_procedure': {'program': 'geometric',\n",
       "  'coordsys': 'tric',\n",
       "  'enforce': 0.1,\n",
       "  'epsilon': 0.0,\n",
       "  'reset': True,\n",
       "  'qccnv': True,\n",
       "  'molcnv': False,\n",
       "  'check': 0,\n",
       "  'trust': 0.1,\n",
       "  'tmax': 0.3,\n",
       "  'maxiter': 300,\n",
       "  'convergence_set': 'GAU',\n",
       "  'constraints': {}},\n",
       " 'grid_spacings': [15],\n",
       " 'energy_upper_limit': 0.05,\n",
       " 'dihedral_ranges': None,\n",
       " 'energy_decrease_thresh': None}"
      ]
     },
     "execution_count": 21,
     "metadata": {},
     "output_type": "execute_result"
    }
   ],
   "source": [
    "dataset.dict()"
   ]
  },
  {
   "cell_type": "code",
   "execution_count": 22,
   "metadata": {},
   "outputs": [],
   "source": [
    "def populate_dataset(dataset, input_files):\n",
    "    \n",
    "    for folder in os.listdir(input_files):\n",
    "        folder_path = os.path.join(input_files, folder)\n",
    "\n",
    "        if not os.path.isdir(folder_path):\n",
    "            print(f\"Skipping {folder}\")\n",
    "            continue\n",
    "\n",
    "        for combination in os.listdir(folder_path):\n",
    "            combination_path = os.path.join(folder_path, combination)\n",
    "            \n",
    "            if not os.path.isdir(combination_path):\n",
    "                print(f\"Skipping {combination}\")\n",
    "                continue\n",
    "                \n",
    "            print(\"collecting from folder\", combination_path)\n",
    "\n",
    "            molecule = build_molecule(combination_path)\n",
    "            attributes = factory.create_cmiles_metadata(molecule)\n",
    "\n",
    "            for dihedral, dihedral_smarts in dihedrals.items():\n",
    "                index = \"-\".join([combination.lower(), dihedral])\n",
    "                print(f\"...adding '{index}'\")\n",
    "\n",
    "                dihedral_indices = molecule.chemical_environment_matches(dihedral_smarts)\n",
    "                \n",
    "                # for omega angles only, only want to go -20 to 20 degrees from start\n",
    "                if dihedral == 'omega':\n",
    "                    keywords = {\"dihedral_ranges\": [(-20, 20)]}\n",
    "                else:\n",
    "                    keywords = None\n",
    "                \n",
    "                if len(dihedral_indices) == 0:\n",
    "                    print(f\"...NO DIHEDRAL INDICES FOR '{index}'\")\n",
    "                    continue\n",
    "                \n",
    "                dihedral_indices = [list(indices) for indices in dihedral_indices]\n",
    "\n",
    "                dataset.add_molecule(index=index,\n",
    "                                     molecule=molecule,\n",
    "                                     dihedrals=dihedral_indices,\n",
    "                                     attributes=attributes,\n",
    "                                     keywords=keywords)\n",
    "    return dataset"
   ]
  },
  {
   "cell_type": "markdown",
   "metadata": {},
   "source": [
    "Can also check dihedrals using QCSubmit with generated PDF (be sure to generate the PDF!).\n",
    "`dataset.visualize(filename)`\n",
    "\n",
    "Might be of interest to toss in an ANI compute spec (as a separate submission); Josh is interested in running an ANI compute spec locally to see if convergence problems arise quickly."
   ]
  },
  {
   "cell_type": "code",
   "execution_count": 23,
   "metadata": {},
   "outputs": [
    {
     "name": "stdout",
     "output_type": "stream",
     "text": [
      "Skipping ._.DS_Store\n",
      "collecting from folder Input_files/GLN/VAL_GLN_GLY\n",
      "...adding 'val_gln_gly-omega'\n",
      "...adding 'val_gln_gly-phi'\n",
      "...adding 'val_gln_gly-psi'\n",
      "...adding 'val_gln_gly-chi1'\n",
      "...adding 'val_gln_gly-chi2'\n",
      "collecting from folder Input_files/GLN/ALA_GLN_GLY\n",
      "...adding 'ala_gln_gly-omega'\n",
      "...adding 'ala_gln_gly-phi'\n",
      "...adding 'ala_gln_gly-psi'\n",
      "...adding 'ala_gln_gly-chi1'\n",
      "...adding 'ala_gln_gly-chi2'\n",
      "collecting from folder Input_files/GLN/GLY_GLN_SER\n",
      "...adding 'gly_gln_ser-omega'\n",
      "...adding 'gly_gln_ser-phi'\n",
      "...adding 'gly_gln_ser-psi'\n",
      "...adding 'gly_gln_ser-chi1'\n",
      "...adding 'gly_gln_ser-chi2'\n",
      "collecting from folder Input_files/GLN/SER_GLN_VAL\n",
      "...adding 'ser_gln_val-omega'\n",
      "...adding 'ser_gln_val-phi'\n",
      "...adding 'ser_gln_val-psi'\n",
      "...adding 'ser_gln_val-chi1'\n",
      "...adding 'ser_gln_val-chi2'\n",
      "collecting from folder Input_files/GLN/GLY_GLN_ALA\n",
      "...adding 'gly_gln_ala-omega'\n",
      "...adding 'gly_gln_ala-phi'\n",
      "...adding 'gly_gln_ala-psi'\n",
      "...adding 'gly_gln_ala-chi1'\n",
      "...adding 'gly_gln_ala-chi2'\n",
      "collecting from folder Input_files/GLN/ALA_GLN_VAL\n",
      "...adding 'ala_gln_val-omega'\n",
      "...adding 'ala_gln_val-phi'\n",
      "...adding 'ala_gln_val-psi'\n",
      "...adding 'ala_gln_val-chi1'\n",
      "...adding 'ala_gln_val-chi2'\n",
      "collecting from folder Input_files/GLN/GLY_GLN_GLY\n",
      "...adding 'gly_gln_gly-omega'\n",
      "...adding 'gly_gln_gly-phi'\n",
      "...adding 'gly_gln_gly-psi'\n",
      "...adding 'gly_gln_gly-chi1'\n",
      "...adding 'gly_gln_gly-chi2'\n",
      "Skipping ConfGLN.tar.gz\n",
      "collecting from folder Input_files/GLN/SER_GLN_SER\n",
      "...adding 'ser_gln_ser-omega'\n",
      "...adding 'ser_gln_ser-phi'\n",
      "...adding 'ser_gln_ser-psi'\n",
      "...adding 'ser_gln_ser-chi1'\n",
      "...adding 'ser_gln_ser-chi2'\n",
      "collecting from folder Input_files/GLN/ALA_GLN_SER\n",
      "...adding 'ala_gln_ser-omega'\n",
      "...adding 'ala_gln_ser-phi'\n",
      "...adding 'ala_gln_ser-psi'\n",
      "...adding 'ala_gln_ser-chi1'\n",
      "...adding 'ala_gln_ser-chi2'\n",
      "collecting from folder Input_files/GLN/SER_GLN_GLY\n",
      "...adding 'ser_gln_gly-omega'\n",
      "...adding 'ser_gln_gly-phi'\n",
      "...adding 'ser_gln_gly-psi'\n",
      "...adding 'ser_gln_gly-chi1'\n",
      "...adding 'ser_gln_gly-chi2'\n",
      "collecting from folder Input_files/GLN/SER_GLN_ALA\n",
      "...adding 'ser_gln_ala-omega'\n",
      "...adding 'ser_gln_ala-phi'\n",
      "...adding 'ser_gln_ala-psi'\n",
      "...adding 'ser_gln_ala-chi1'\n",
      "...adding 'ser_gln_ala-chi2'\n",
      "collecting from folder Input_files/GLN/VAL_GLN_VAL\n",
      "...adding 'val_gln_val-omega'\n",
      "...adding 'val_gln_val-phi'\n",
      "...adding 'val_gln_val-psi'\n",
      "...adding 'val_gln_val-chi1'\n",
      "...adding 'val_gln_val-chi2'\n",
      "collecting from folder Input_files/GLN/ALA_GLN_ALA\n",
      "...adding 'ala_gln_ala-omega'\n",
      "...adding 'ala_gln_ala-phi'\n",
      "...adding 'ala_gln_ala-psi'\n",
      "...adding 'ala_gln_ala-chi1'\n",
      "...adding 'ala_gln_ala-chi2'\n",
      "collecting from folder Input_files/GLN/GLY_GLN_VAL\n",
      "...adding 'gly_gln_val-omega'\n",
      "...adding 'gly_gln_val-phi'\n",
      "...adding 'gly_gln_val-psi'\n",
      "...adding 'gly_gln_val-chi1'\n",
      "...adding 'gly_gln_val-chi2'\n",
      "collecting from folder Input_files/GLN/VAL_GLN_SER\n",
      "Undefined stereochemistry for Input_files/GLN/VAL_GLN_SER/Conf524.mol2; skipping\n",
      "...adding 'val_gln_ser-omega'\n",
      "...adding 'val_gln_ser-phi'\n",
      "...adding 'val_gln_ser-psi'\n",
      "...adding 'val_gln_ser-chi1'\n",
      "...adding 'val_gln_ser-chi2'\n",
      "Skipping ._ConfGLN.tar.gz\n",
      "collecting from folder Input_files/GLN/VAL_GLN_ALA\n",
      "...adding 'val_gln_ala-omega'\n",
      "...adding 'val_gln_ala-phi'\n",
      "...adding 'val_gln_ala-psi'\n",
      "...adding 'val_gln_ala-chi1'\n",
      "...adding 'val_gln_ala-chi2'\n",
      "Skipping ._GLN\n",
      "Skipping ._ASN\n",
      "collecting from folder Input_files/GLH/ALA_GLH_SER\n",
      "...adding 'ala_glh_ser-omega'\n",
      "...adding 'ala_glh_ser-phi'\n",
      "...adding 'ala_glh_ser-psi'\n",
      "...adding 'ala_glh_ser-chi1'\n",
      "...adding 'ala_glh_ser-chi2'\n",
      "collecting from folder Input_files/GLH/ALA_GLH_GLY\n",
      "...adding 'ala_glh_gly-omega'\n",
      "...adding 'ala_glh_gly-phi'\n",
      "...adding 'ala_glh_gly-psi'\n",
      "...adding 'ala_glh_gly-chi1'\n",
      "...adding 'ala_glh_gly-chi2'\n",
      "collecting from folder Input_files/GLH/GLY_GLH_VAL\n",
      "...adding 'gly_glh_val-omega'\n",
      "...adding 'gly_glh_val-phi'\n",
      "...adding 'gly_glh_val-psi'\n",
      "...adding 'gly_glh_val-chi1'\n",
      "...adding 'gly_glh_val-chi2'\n",
      "collecting from folder Input_files/GLH/SER_GLH_ALA\n",
      "...adding 'ser_glh_ala-omega'\n",
      "...adding 'ser_glh_ala-phi'\n",
      "...adding 'ser_glh_ala-psi'\n",
      "...adding 'ser_glh_ala-chi1'\n",
      "...adding 'ser_glh_ala-chi2'\n",
      "collecting from folder Input_files/GLH/GLY_GLH_ALA\n",
      "...adding 'gly_glh_ala-omega'\n",
      "...adding 'gly_glh_ala-phi'\n",
      "...adding 'gly_glh_ala-psi'\n",
      "...adding 'gly_glh_ala-chi1'\n",
      "...adding 'gly_glh_ala-chi2'\n",
      "collecting from folder Input_files/GLH/ALA_GLH_ALA\n",
      "...adding 'ala_glh_ala-omega'\n",
      "...adding 'ala_glh_ala-phi'\n",
      "...adding 'ala_glh_ala-psi'\n",
      "...adding 'ala_glh_ala-chi1'\n",
      "...adding 'ala_glh_ala-chi2'\n",
      "collecting from folder Input_files/GLH/SER_GLH_VAL\n",
      "...adding 'ser_glh_val-omega'\n",
      "...adding 'ser_glh_val-phi'\n",
      "...adding 'ser_glh_val-psi'\n",
      "...adding 'ser_glh_val-chi1'\n",
      "...adding 'ser_glh_val-chi2'\n",
      "collecting from folder Input_files/GLH/GLY_GLH_GLY\n",
      "...adding 'gly_glh_gly-omega'\n",
      "...adding 'gly_glh_gly-phi'\n",
      "...adding 'gly_glh_gly-psi'\n",
      "...adding 'gly_glh_gly-chi1'\n",
      "...adding 'gly_glh_gly-chi2'\n",
      "Skipping ConfGLH.tar.gz\n",
      "collecting from folder Input_files/GLH/VAL_GLH_GLY\n",
      "...adding 'val_glh_gly-omega'\n",
      "...adding 'val_glh_gly-phi'\n",
      "...adding 'val_glh_gly-psi'\n",
      "...adding 'val_glh_gly-chi1'\n",
      "...adding 'val_glh_gly-chi2'\n",
      "collecting from folder Input_files/GLH/VAL_GLH_ALA\n",
      "...adding 'val_glh_ala-omega'\n",
      "...adding 'val_glh_ala-phi'\n",
      "...adding 'val_glh_ala-psi'\n",
      "...adding 'val_glh_ala-chi1'\n",
      "...adding 'val_glh_ala-chi2'\n",
      "collecting from folder Input_files/GLH/VAL_GLH_SER\n",
      "...adding 'val_glh_ser-omega'\n",
      "...adding 'val_glh_ser-phi'\n",
      "...adding 'val_glh_ser-psi'\n",
      "...adding 'val_glh_ser-chi1'\n",
      "...adding 'val_glh_ser-chi2'\n",
      "collecting from folder Input_files/GLH/SER_GLH_GLY\n",
      "...adding 'ser_glh_gly-omega'\n",
      "...adding 'ser_glh_gly-phi'\n",
      "...adding 'ser_glh_gly-psi'\n",
      "...adding 'ser_glh_gly-chi1'\n",
      "...adding 'ser_glh_gly-chi2'\n",
      "collecting from folder Input_files/GLH/VAL_GLH_VAL\n",
      "...adding 'val_glh_val-omega'\n",
      "...adding 'val_glh_val-phi'\n",
      "...adding 'val_glh_val-psi'\n",
      "...adding 'val_glh_val-chi1'\n",
      "...adding 'val_glh_val-chi2'\n",
      "collecting from folder Input_files/GLH/ALA_GLH_VAL\n",
      "...adding 'ala_glh_val-omega'\n",
      "...adding 'ala_glh_val-phi'\n",
      "...adding 'ala_glh_val-psi'\n",
      "...adding 'ala_glh_val-chi1'\n",
      "...adding 'ala_glh_val-chi2'\n",
      "collecting from folder Input_files/GLH/SER_GLH_SER\n",
      "...adding 'ser_glh_ser-omega'\n",
      "...adding 'ser_glh_ser-phi'\n",
      "...adding 'ser_glh_ser-psi'\n",
      "...adding 'ser_glh_ser-chi1'\n",
      "...adding 'ser_glh_ser-chi2'\n",
      "collecting from folder Input_files/GLH/GLY_GLH_SER\n",
      "...adding 'gly_glh_ser-omega'\n",
      "...adding 'gly_glh_ser-phi'\n",
      "...adding 'gly_glh_ser-psi'\n",
      "...adding 'gly_glh_ser-chi1'\n",
      "...adding 'gly_glh_ser-chi2'\n",
      "Skipping ._ConfGLH.tar.gz\n",
      "collecting from folder Input_files/ALA/VAL_ALA_GLY\n",
      "...adding 'val_ala_gly-omega'\n",
      "...adding 'val_ala_gly-phi'\n",
      "...adding 'val_ala_gly-psi'\n",
      "...adding 'val_ala_gly-chi1'\n",
      "...NO DIHEDRAL INDICES FOR 'val_ala_gly-chi1'\n",
      "...adding 'val_ala_gly-chi2'\n",
      "...NO DIHEDRAL INDICES FOR 'val_ala_gly-chi2'\n",
      "Skipping ._ALA_ALA_ALA\n",
      "collecting from folder Input_files/ALA/ALA_ALA_VAL\n",
      "...adding 'ala_ala_val-omega'\n",
      "...adding 'ala_ala_val-phi'\n",
      "...adding 'ala_ala_val-psi'\n",
      "...adding 'ala_ala_val-chi1'\n",
      "...NO DIHEDRAL INDICES FOR 'ala_ala_val-chi1'\n",
      "...adding 'ala_ala_val-chi2'\n",
      "...NO DIHEDRAL INDICES FOR 'ala_ala_val-chi2'\n",
      "Skipping ._VAL_ALA_ALA\n",
      "collecting from folder Input_files/ALA/VAL_ALA_ALA\n",
      "...adding 'val_ala_ala-omega'\n",
      "...adding 'val_ala_ala-phi'\n",
      "...adding 'val_ala_ala-psi'\n",
      "...adding 'val_ala_ala-chi1'\n",
      "...NO DIHEDRAL INDICES FOR 'val_ala_ala-chi1'\n",
      "...adding 'val_ala_ala-chi2'\n",
      "...NO DIHEDRAL INDICES FOR 'val_ala_ala-chi2'\n",
      "collecting from folder Input_files/ALA/SER_ALA_VAL\n",
      "...adding 'ser_ala_val-omega'\n",
      "...adding 'ser_ala_val-phi'\n",
      "...adding 'ser_ala_val-psi'\n",
      "...adding 'ser_ala_val-chi1'\n",
      "...NO DIHEDRAL INDICES FOR 'ser_ala_val-chi1'\n",
      "...adding 'ser_ala_val-chi2'\n",
      "...NO DIHEDRAL INDICES FOR 'ser_ala_val-chi2'\n",
      "Skipping ._ALA_ALA_SER\n",
      "Skipping ._SER_ALA_VAL\n",
      "Skipping ._GLY_ALA_VAL\n",
      "collecting from folder Input_files/ALA/GLY_ALA_VAL\n",
      "...adding 'gly_ala_val-omega'\n",
      "...adding 'gly_ala_val-phi'\n",
      "...adding 'gly_ala_val-psi'\n",
      "...adding 'gly_ala_val-chi1'\n",
      "...NO DIHEDRAL INDICES FOR 'gly_ala_val-chi1'\n",
      "...adding 'gly_ala_val-chi2'\n",
      "...NO DIHEDRAL INDICES FOR 'gly_ala_val-chi2'\n",
      "Skipping ._GLY_ALA_SER\n",
      "collecting from folder Input_files/ALA/GLY_ALA_GLY\n",
      "...adding 'gly_ala_gly-omega'\n",
      "...adding 'gly_ala_gly-phi'\n",
      "...adding 'gly_ala_gly-psi'\n",
      "...adding 'gly_ala_gly-chi1'\n",
      "...NO DIHEDRAL INDICES FOR 'gly_ala_gly-chi1'\n",
      "...adding 'gly_ala_gly-chi2'\n",
      "...NO DIHEDRAL INDICES FOR 'gly_ala_gly-chi2'\n",
      "Skipping ._GLY_ALA_GLY\n",
      "collecting from folder Input_files/ALA/SER_ALA_ALA\n",
      "...adding 'ser_ala_ala-omega'\n",
      "...adding 'ser_ala_ala-phi'\n",
      "...adding 'ser_ala_ala-psi'\n",
      "...adding 'ser_ala_ala-chi1'\n",
      "...NO DIHEDRAL INDICES FOR 'ser_ala_ala-chi1'\n",
      "...adding 'ser_ala_ala-chi2'\n",
      "...NO DIHEDRAL INDICES FOR 'ser_ala_ala-chi2'\n",
      "collecting from folder Input_files/ALA/SER_ALA_GLY\n",
      "...adding 'ser_ala_gly-omega'\n",
      "...adding 'ser_ala_gly-phi'\n",
      "...adding 'ser_ala_gly-psi'\n",
      "...adding 'ser_ala_gly-chi1'\n",
      "...NO DIHEDRAL INDICES FOR 'ser_ala_gly-chi1'\n",
      "...adding 'ser_ala_gly-chi2'\n",
      "...NO DIHEDRAL INDICES FOR 'ser_ala_gly-chi2'\n",
      "Skipping ._ALA_ALA_VAL\n",
      "Skipping ._VAL_ALA_VAL\n",
      "collecting from folder Input_files/ALA/ALA_ALA_GLY\n",
      "...adding 'ala_ala_gly-omega'\n",
      "...adding 'ala_ala_gly-phi'\n",
      "...adding 'ala_ala_gly-psi'\n",
      "...adding 'ala_ala_gly-chi1'\n",
      "...NO DIHEDRAL INDICES FOR 'ala_ala_gly-chi1'\n",
      "...adding 'ala_ala_gly-chi2'\n",
      "...NO DIHEDRAL INDICES FOR 'ala_ala_gly-chi2'\n",
      "collecting from folder Input_files/ALA/GLY_ALA_ALA\n",
      "...adding 'gly_ala_ala-omega'\n",
      "...adding 'gly_ala_ala-phi'\n",
      "...adding 'gly_ala_ala-psi'\n",
      "...adding 'gly_ala_ala-chi1'\n",
      "...NO DIHEDRAL INDICES FOR 'gly_ala_ala-chi1'\n",
      "...adding 'gly_ala_ala-chi2'\n",
      "...NO DIHEDRAL INDICES FOR 'gly_ala_ala-chi2'\n",
      "Skipping ._SER_ALA_ALA\n",
      "Skipping ._VAL_ALA_GLY\n",
      "Skipping ._ALA_ALA_GLY\n",
      "Skipping ._GLY_ALA_ALA\n",
      "collecting from folder Input_files/ALA/ALA_ALA_SER\n",
      "...adding 'ala_ala_ser-omega'\n",
      "...adding 'ala_ala_ser-phi'\n",
      "...adding 'ala_ala_ser-psi'\n",
      "...adding 'ala_ala_ser-chi1'\n",
      "...NO DIHEDRAL INDICES FOR 'ala_ala_ser-chi1'\n",
      "...adding 'ala_ala_ser-chi2'\n",
      "...NO DIHEDRAL INDICES FOR 'ala_ala_ser-chi2'\n",
      "collecting from folder Input_files/ALA/GLY_ALA_SER\n",
      "...adding 'gly_ala_ser-omega'\n",
      "...adding 'gly_ala_ser-phi'\n",
      "...adding 'gly_ala_ser-psi'\n",
      "...adding 'gly_ala_ser-chi1'\n",
      "...NO DIHEDRAL INDICES FOR 'gly_ala_ser-chi1'\n",
      "...adding 'gly_ala_ser-chi2'\n",
      "...NO DIHEDRAL INDICES FOR 'gly_ala_ser-chi2'\n",
      "Skipping ._VAL_ALA_SER\n",
      "Skipping ._SER_ALA_SER\n",
      "collecting from folder Input_files/ALA/VAL_ALA_SER\n",
      "...adding 'val_ala_ser-omega'\n",
      "...adding 'val_ala_ser-phi'\n",
      "...adding 'val_ala_ser-psi'\n",
      "...adding 'val_ala_ser-chi1'\n",
      "...NO DIHEDRAL INDICES FOR 'val_ala_ser-chi1'\n",
      "...adding 'val_ala_ser-chi2'\n",
      "...NO DIHEDRAL INDICES FOR 'val_ala_ser-chi2'\n",
      "collecting from folder Input_files/ALA/SER_ALA_SER\n",
      "...adding 'ser_ala_ser-omega'\n",
      "...adding 'ser_ala_ser-phi'\n",
      "...adding 'ser_ala_ser-psi'\n",
      "...adding 'ser_ala_ser-chi1'\n",
      "...NO DIHEDRAL INDICES FOR 'ser_ala_ser-chi1'\n",
      "...adding 'ser_ala_ser-chi2'\n",
      "...NO DIHEDRAL INDICES FOR 'ser_ala_ser-chi2'\n",
      "collecting from folder Input_files/ALA/VAL_ALA_VAL\n",
      "...adding 'val_ala_val-omega'\n",
      "...adding 'val_ala_val-phi'\n",
      "...adding 'val_ala_val-psi'\n",
      "...adding 'val_ala_val-chi1'\n",
      "...NO DIHEDRAL INDICES FOR 'val_ala_val-chi1'\n",
      "...adding 'val_ala_val-chi2'\n",
      "...NO DIHEDRAL INDICES FOR 'val_ala_val-chi2'\n",
      "Skipping ._SER_ALA_GLY\n",
      "collecting from folder Input_files/ALA/ALA_ALA_ALA\n",
      "...adding 'ala_ala_ala-omega'\n",
      "...adding 'ala_ala_ala-phi'\n",
      "...adding 'ala_ala_ala-psi'\n",
      "...adding 'ala_ala_ala-chi1'\n",
      "...NO DIHEDRAL INDICES FOR 'ala_ala_ala-chi1'\n",
      "...adding 'ala_ala_ala-chi2'\n",
      "...NO DIHEDRAL INDICES FOR 'ala_ala_ala-chi2'\n",
      "collecting from folder Input_files/HIE/SER_HIE_SER\n",
      "...adding 'ser_hie_ser-omega'\n",
      "...adding 'ser_hie_ser-phi'\n",
      "...adding 'ser_hie_ser-psi'\n",
      "...adding 'ser_hie_ser-chi1'\n",
      "...adding 'ser_hie_ser-chi2'\n",
      "collecting from folder Input_files/HIE/SER_HIE_VAL\n",
      "...adding 'ser_hie_val-omega'\n",
      "...adding 'ser_hie_val-phi'\n",
      "...adding 'ser_hie_val-psi'\n",
      "...adding 'ser_hie_val-chi1'\n",
      "...adding 'ser_hie_val-chi2'\n",
      "collecting from folder Input_files/HIE/ALA_HIE_VAL\n",
      "...adding 'ala_hie_val-omega'\n",
      "...adding 'ala_hie_val-phi'\n",
      "...adding 'ala_hie_val-psi'\n",
      "...adding 'ala_hie_val-chi1'\n",
      "...adding 'ala_hie_val-chi2'\n",
      "collecting from folder Input_files/HIE/ALA_HIE_ALA\n",
      "...adding 'ala_hie_ala-omega'\n",
      "...adding 'ala_hie_ala-phi'\n",
      "...adding 'ala_hie_ala-psi'\n",
      "...adding 'ala_hie_ala-chi1'\n",
      "...adding 'ala_hie_ala-chi2'\n",
      "collecting from folder Input_files/HIE/GLY_HIE_VAL\n",
      "...adding 'gly_hie_val-omega'\n",
      "...adding 'gly_hie_val-phi'\n",
      "...adding 'gly_hie_val-psi'\n",
      "...adding 'gly_hie_val-chi1'\n",
      "...adding 'gly_hie_val-chi2'\n",
      "collecting from folder Input_files/HIE/GLY_HIE_GLY\n",
      "...adding 'gly_hie_gly-omega'\n",
      "...adding 'gly_hie_gly-phi'\n",
      "...adding 'gly_hie_gly-psi'\n",
      "...adding 'gly_hie_gly-chi1'\n",
      "...adding 'gly_hie_gly-chi2'\n",
      "collecting from folder Input_files/HIE/SER_HIE_GLY\n",
      "...adding 'ser_hie_gly-omega'\n",
      "...adding 'ser_hie_gly-phi'\n",
      "...adding 'ser_hie_gly-psi'\n",
      "...adding 'ser_hie_gly-chi1'\n",
      "...adding 'ser_hie_gly-chi2'\n",
      "collecting from folder Input_files/HIE/GLY_HIE_ALA\n",
      "...adding 'gly_hie_ala-omega'\n",
      "...adding 'gly_hie_ala-phi'\n",
      "...adding 'gly_hie_ala-psi'\n",
      "...adding 'gly_hie_ala-chi1'\n",
      "...adding 'gly_hie_ala-chi2'\n",
      "collecting from folder Input_files/HIE/VAL_HIE_ALA\n",
      "...adding 'val_hie_ala-omega'\n",
      "...adding 'val_hie_ala-phi'\n",
      "...adding 'val_hie_ala-psi'\n",
      "...adding 'val_hie_ala-chi1'\n",
      "...adding 'val_hie_ala-chi2'\n",
      "Skipping ._ConfHIE.tar.gz\n",
      "collecting from folder Input_files/HIE/ALA_HIE_SER\n",
      "...adding 'ala_hie_ser-omega'\n",
      "...adding 'ala_hie_ser-phi'\n",
      "...adding 'ala_hie_ser-psi'\n",
      "...adding 'ala_hie_ser-chi1'\n",
      "...adding 'ala_hie_ser-chi2'\n",
      "collecting from folder Input_files/HIE/SER_HIE_ALA\n",
      "...adding 'ser_hie_ala-omega'\n",
      "...adding 'ser_hie_ala-phi'\n",
      "...adding 'ser_hie_ala-psi'\n",
      "...adding 'ser_hie_ala-chi1'\n",
      "...adding 'ser_hie_ala-chi2'\n",
      "Skipping ConfHIE.tar.gz\n",
      "collecting from folder Input_files/HIE/VAL_HIE_SER\n",
      "...adding 'val_hie_ser-omega'\n",
      "...adding 'val_hie_ser-phi'\n",
      "...adding 'val_hie_ser-psi'\n",
      "...adding 'val_hie_ser-chi1'\n",
      "...adding 'val_hie_ser-chi2'\n",
      "collecting from folder Input_files/HIE/GLY_HIE_SER\n",
      "...adding 'gly_hie_ser-omega'\n",
      "...adding 'gly_hie_ser-phi'\n",
      "...adding 'gly_hie_ser-psi'\n",
      "...adding 'gly_hie_ser-chi1'\n",
      "...adding 'gly_hie_ser-chi2'\n",
      "collecting from folder Input_files/HIE/ALA_HIE_GLY\n",
      "...adding 'ala_hie_gly-omega'\n",
      "...adding 'ala_hie_gly-phi'\n",
      "...adding 'ala_hie_gly-psi'\n",
      "...adding 'ala_hie_gly-chi1'\n",
      "...adding 'ala_hie_gly-chi2'\n",
      "collecting from folder Input_files/HIE/VAL_HIE_VAL\n",
      "...adding 'val_hie_val-omega'\n",
      "...adding 'val_hie_val-phi'\n",
      "...adding 'val_hie_val-psi'\n",
      "...adding 'val_hie_val-chi1'\n",
      "...adding 'val_hie_val-chi2'\n",
      "collecting from folder Input_files/HIE/VAL_HIE_GLY\n",
      "...adding 'val_hie_gly-omega'\n",
      "...adding 'val_hie_gly-phi'\n",
      "...adding 'val_hie_gly-psi'\n",
      "...adding 'val_hie_gly-chi1'\n",
      "...adding 'val_hie_gly-chi2'\n",
      "collecting from folder Input_files/ASN/GLY_ASN_ALA\n",
      "...adding 'gly_asn_ala-omega'\n",
      "...adding 'gly_asn_ala-phi'\n",
      "...adding 'gly_asn_ala-psi'\n",
      "...adding 'gly_asn_ala-chi1'\n",
      "...adding 'gly_asn_ala-chi2'\n",
      "collecting from folder Input_files/ASN/GLY_ASN_SER\n",
      "...adding 'gly_asn_ser-omega'\n",
      "...adding 'gly_asn_ser-phi'\n",
      "...adding 'gly_asn_ser-psi'\n",
      "...adding 'gly_asn_ser-chi1'\n",
      "...adding 'gly_asn_ser-chi2'\n",
      "collecting from folder Input_files/ASN/VAL_ASN_GLY\n",
      "...adding 'val_asn_gly-omega'\n",
      "...adding 'val_asn_gly-phi'\n",
      "...adding 'val_asn_gly-psi'\n",
      "...adding 'val_asn_gly-chi1'\n",
      "...adding 'val_asn_gly-chi2'\n",
      "Skipping ._ALA_ASN_GLY\n",
      "collecting from folder Input_files/ASN/VAL_ASN_VAL\n",
      "...adding 'val_asn_val-omega'\n",
      "...adding 'val_asn_val-phi'\n",
      "...adding 'val_asn_val-psi'\n",
      "...adding 'val_asn_val-chi1'\n",
      "...adding 'val_asn_val-chi2'\n",
      "collecting from folder Input_files/ASN/ALA_ASN_SER\n",
      "...adding 'ala_asn_ser-omega'\n",
      "...adding 'ala_asn_ser-phi'\n",
      "...adding 'ala_asn_ser-psi'\n",
      "...adding 'ala_asn_ser-chi1'\n",
      "...adding 'ala_asn_ser-chi2'\n",
      "collecting from folder Input_files/ASN/GLY_ASN_VAL\n",
      "...adding 'gly_asn_val-omega'\n",
      "...adding 'gly_asn_val-phi'\n",
      "...adding 'gly_asn_val-psi'\n",
      "...adding 'gly_asn_val-chi1'\n",
      "...adding 'gly_asn_val-chi2'\n",
      "collecting from folder Input_files/ASN/ALA_ASN_VAL\n",
      "...adding 'ala_asn_val-omega'\n",
      "...adding 'ala_asn_val-phi'\n",
      "...adding 'ala_asn_val-psi'\n",
      "...adding 'ala_asn_val-chi1'\n",
      "...adding 'ala_asn_val-chi2'\n",
      "Skipping ._GLY_ASN_ALA\n",
      "collecting from folder Input_files/ASN/ALA_ASN_GLY\n",
      "...adding 'ala_asn_gly-omega'\n",
      "...adding 'ala_asn_gly-phi'\n",
      "...adding 'ala_asn_gly-psi'\n",
      "...adding 'ala_asn_gly-chi1'\n",
      "...adding 'ala_asn_gly-chi2'\n",
      "collecting from folder Input_files/ASN/VAL_ASN_ALA\n",
      "...adding 'val_asn_ala-omega'\n",
      "...adding 'val_asn_ala-phi'\n",
      "...adding 'val_asn_ala-psi'\n",
      "...adding 'val_asn_ala-chi1'\n",
      "...adding 'val_asn_ala-chi2'\n",
      "collecting from folder Input_files/ASN/SER_ASN_VAL\n",
      "...adding 'ser_asn_val-omega'\n",
      "...adding 'ser_asn_val-phi'\n",
      "...adding 'ser_asn_val-psi'\n",
      "...adding 'ser_asn_val-chi1'\n",
      "...adding 'ser_asn_val-chi2'\n",
      "Skipping ._GLY_ASN_GLY\n",
      "collecting from folder Input_files/ASN/GLY_ASN_GLY\n",
      "...adding 'gly_asn_gly-omega'\n",
      "...adding 'gly_asn_gly-phi'\n",
      "...adding 'gly_asn_gly-psi'\n",
      "...adding 'gly_asn_gly-chi1'\n",
      "...adding 'gly_asn_gly-chi2'\n",
      "Skipping ._ALA_ASN_ALA\n",
      "collecting from folder Input_files/ASN/VAL_ASN_SER\n",
      "...adding 'val_asn_ser-omega'\n",
      "...adding 'val_asn_ser-phi'\n",
      "...adding 'val_asn_ser-psi'\n",
      "...adding 'val_asn_ser-chi1'\n",
      "...adding 'val_asn_ser-chi2'\n",
      "collecting from folder Input_files/ASN/ALA_ASN_ALA\n",
      "...adding 'ala_asn_ala-omega'\n",
      "...adding 'ala_asn_ala-phi'\n",
      "...adding 'ala_asn_ala-psi'\n",
      "...adding 'ala_asn_ala-chi1'\n",
      "...adding 'ala_asn_ala-chi2'\n",
      "collecting from folder Input_files/ASN/SER_ASN_ALA\n",
      "...adding 'ser_asn_ala-omega'\n",
      "...adding 'ser_asn_ala-phi'\n",
      "...adding 'ser_asn_ala-psi'\n",
      "...adding 'ser_asn_ala-chi1'\n",
      "...adding 'ser_asn_ala-chi2'\n",
      "collecting from folder Input_files/ASN/SER_ASN_GLY\n",
      "...adding 'ser_asn_gly-omega'\n",
      "...adding 'ser_asn_gly-phi'\n",
      "...adding 'ser_asn_gly-psi'\n",
      "...adding 'ser_asn_gly-chi1'\n",
      "...adding 'ser_asn_gly-chi2'\n",
      "Skipping ._ConfASN.tar.gz\n",
      "Skipping ConfASN.tar.gz\n",
      "collecting from folder Input_files/ASN/SER_ASN_SER\n",
      "...adding 'ser_asn_ser-omega'\n",
      "...adding 'ser_asn_ser-phi'\n",
      "...adding 'ser_asn_ser-psi'\n",
      "...adding 'ser_asn_ser-chi1'\n",
      "...adding 'ser_asn_ser-chi2'\n",
      "Skipping ._VAL_CYS_GLY\n",
      "Skipping ._VAL_CYS_ALA\n",
      "Skipping ._ALA_CYS_SER\n",
      "collecting from folder Input_files/CYS/ALA_CYS_ALA\n",
      "...adding 'ala_cys_ala-omega'\n",
      "...adding 'ala_cys_ala-phi'\n",
      "...adding 'ala_cys_ala-psi'\n",
      "...adding 'ala_cys_ala-chi1'\n",
      "...adding 'ala_cys_ala-chi2'\n",
      "...NO DIHEDRAL INDICES FOR 'ala_cys_ala-chi2'\n",
      "Skipping ._GLY_CYS_SER\n",
      "collecting from folder Input_files/CYS/GLY_CYS_ALA\n",
      "...adding 'gly_cys_ala-omega'\n",
      "...adding 'gly_cys_ala-phi'\n",
      "...adding 'gly_cys_ala-psi'\n",
      "...adding 'gly_cys_ala-chi1'\n",
      "...adding 'gly_cys_ala-chi2'\n",
      "...NO DIHEDRAL INDICES FOR 'gly_cys_ala-chi2'\n",
      "Skipping ConfCYS.tar.gz\n",
      "Skipping ._GLY_CYS_GLY\n",
      "Skipping ._ALA_CYS_ALA\n",
      "collecting from folder Input_files/CYS/VAL_CYS_ALA\n",
      "Undefined stereochemistry for Input_files/CYS/VAL_CYS_ALA/Conf513.mol2; skipping\n",
      "...adding 'val_cys_ala-omega'\n",
      "...adding 'val_cys_ala-phi'\n",
      "...adding 'val_cys_ala-psi'\n",
      "...adding 'val_cys_ala-chi1'\n",
      "...adding 'val_cys_ala-chi2'\n",
      "...NO DIHEDRAL INDICES FOR 'val_cys_ala-chi2'\n",
      "collecting from folder Input_files/CYS/SER_CYS_VAL\n",
      "...adding 'ser_cys_val-omega'\n",
      "...adding 'ser_cys_val-phi'\n",
      "...adding 'ser_cys_val-psi'\n",
      "...adding 'ser_cys_val-chi1'\n",
      "...adding 'ser_cys_val-chi2'\n",
      "...NO DIHEDRAL INDICES FOR 'ser_cys_val-chi2'\n",
      "collecting from folder Input_files/CYS/ALA_CYS_SER\n",
      "...adding 'ala_cys_ser-omega'\n",
      "...adding 'ala_cys_ser-phi'\n",
      "...adding 'ala_cys_ser-psi'\n",
      "...adding 'ala_cys_ser-chi1'\n",
      "...adding 'ala_cys_ser-chi2'\n",
      "...NO DIHEDRAL INDICES FOR 'ala_cys_ser-chi2'\n",
      "collecting from folder Input_files/CYS/GLY_CYS_SER\n",
      "...adding 'gly_cys_ser-omega'\n",
      "...adding 'gly_cys_ser-phi'\n",
      "...adding 'gly_cys_ser-psi'\n",
      "...adding 'gly_cys_ser-chi1'\n",
      "...adding 'gly_cys_ser-chi2'\n",
      "...NO DIHEDRAL INDICES FOR 'gly_cys_ser-chi2'\n",
      "Skipping ._ALA_CYS_VAL\n",
      "collecting from folder Input_files/CYS/GLY_CYS_VAL\n",
      "...adding 'gly_cys_val-omega'\n",
      "...adding 'gly_cys_val-phi'\n",
      "...adding 'gly_cys_val-psi'\n",
      "...adding 'gly_cys_val-chi1'\n",
      "...adding 'gly_cys_val-chi2'\n",
      "...NO DIHEDRAL INDICES FOR 'gly_cys_val-chi2'\n",
      "collecting from folder Input_files/CYS/VAL_CYS_SER\n",
      "...adding 'val_cys_ser-omega'\n",
      "...adding 'val_cys_ser-phi'\n",
      "...adding 'val_cys_ser-psi'\n",
      "...adding 'val_cys_ser-chi1'\n",
      "...adding 'val_cys_ser-chi2'\n",
      "...NO DIHEDRAL INDICES FOR 'val_cys_ser-chi2'\n",
      "Skipping ._SER_CYS_GLY\n",
      "collecting from folder Input_files/CYS/VAL_CYS_VAL\n",
      "...adding 'val_cys_val-omega'\n",
      "...adding 'val_cys_val-phi'\n",
      "...adding 'val_cys_val-psi'\n",
      "...adding 'val_cys_val-chi1'\n",
      "...adding 'val_cys_val-chi2'\n",
      "...NO DIHEDRAL INDICES FOR 'val_cys_val-chi2'\n",
      "Skipping ._ALA_CYS_GLY\n",
      "collecting from folder Input_files/CYS/VAL_CYS_GLY\n",
      "...adding 'val_cys_gly-omega'\n",
      "...adding 'val_cys_gly-phi'\n",
      "...adding 'val_cys_gly-psi'\n",
      "...adding 'val_cys_gly-chi1'\n",
      "...adding 'val_cys_gly-chi2'\n",
      "...NO DIHEDRAL INDICES FOR 'val_cys_gly-chi2'\n",
      "Skipping ._GLY_CYS_VAL\n",
      "collecting from folder Input_files/CYS/SER_CYS_ALA\n",
      "...adding 'ser_cys_ala-omega'\n",
      "...adding 'ser_cys_ala-phi'\n",
      "...adding 'ser_cys_ala-psi'\n",
      "...adding 'ser_cys_ala-chi1'\n",
      "...adding 'ser_cys_ala-chi2'\n",
      "...NO DIHEDRAL INDICES FOR 'ser_cys_ala-chi2'\n",
      "collecting from folder Input_files/CYS/ALA_CYS_GLY\n",
      "...adding 'ala_cys_gly-omega'\n",
      "...adding 'ala_cys_gly-phi'\n",
      "...adding 'ala_cys_gly-psi'\n",
      "...adding 'ala_cys_gly-chi1'\n",
      "...adding 'ala_cys_gly-chi2'\n",
      "...NO DIHEDRAL INDICES FOR 'ala_cys_gly-chi2'\n",
      "collecting from folder Input_files/CYS/GLY_CYS_GLY\n",
      "...adding 'gly_cys_gly-omega'\n",
      "...adding 'gly_cys_gly-phi'\n",
      "...adding 'gly_cys_gly-psi'\n",
      "...adding 'gly_cys_gly-chi1'\n",
      "...adding 'gly_cys_gly-chi2'\n",
      "...NO DIHEDRAL INDICES FOR 'gly_cys_gly-chi2'\n",
      "Skipping ._ConfCYS.tar.gz\n",
      "collecting from folder Input_files/CYS/SER_CYS_GLY\n",
      "...adding 'ser_cys_gly-omega'\n",
      "...adding 'ser_cys_gly-phi'\n",
      "...adding 'ser_cys_gly-psi'\n",
      "...adding 'ser_cys_gly-chi1'\n",
      "...adding 'ser_cys_gly-chi2'\n",
      "...NO DIHEDRAL INDICES FOR 'ser_cys_gly-chi2'\n",
      "Skipping ._SER_CYS_ALA\n",
      "collecting from folder Input_files/CYS/SER_CYS_SER\n",
      "...adding 'ser_cys_ser-omega'\n",
      "...adding 'ser_cys_ser-phi'\n",
      "...adding 'ser_cys_ser-psi'\n",
      "...adding 'ser_cys_ser-chi1'\n",
      "...adding 'ser_cys_ser-chi2'\n",
      "...NO DIHEDRAL INDICES FOR 'ser_cys_ser-chi2'\n",
      "collecting from folder Input_files/CYS/ALA_CYS_VAL\n",
      "...adding 'ala_cys_val-omega'\n",
      "...adding 'ala_cys_val-phi'\n",
      "...adding 'ala_cys_val-psi'\n",
      "...adding 'ala_cys_val-chi1'\n",
      "...adding 'ala_cys_val-chi2'\n",
      "...NO DIHEDRAL INDICES FOR 'ala_cys_val-chi2'\n",
      "Skipping ._GLY_CYS_ALA\n",
      "Skipping ._ASP\n",
      "Skipping .DS_Store\n",
      "collecting from folder Input_files/ARG/GLY_ARG_SER\n",
      "...adding 'gly_arg_ser-omega'\n",
      "...adding 'gly_arg_ser-phi'\n"
     ]
    },
    {
     "name": "stderr",
     "output_type": "stream",
     "text": [
      "/home/david/.conda/envs/qcsubmit/lib/python3.7/site-packages/qcsubmit/validators.py:181: UserWarning: The molecule C14H28N7O5 has a net charge of 1.0.\n",
      "  UserWarning,\n"
     ]
    },
    {
     "name": "stdout",
     "output_type": "stream",
     "text": [
      "...adding 'gly_arg_ser-psi'\n",
      "...adding 'gly_arg_ser-chi1'\n",
      "...adding 'gly_arg_ser-chi2'\n",
      "Skipping ._VAL_ARG_GLY\n",
      "Skipping ._GLY_ARG_VAL\n",
      "collecting from folder Input_files/ARG/GLY_ARG_GLY\n",
      "...adding 'gly_arg_gly-omega'\n",
      "...adding 'gly_arg_gly-phi'\n"
     ]
    },
    {
     "name": "stderr",
     "output_type": "stream",
     "text": [
      "/home/david/.conda/envs/qcsubmit/lib/python3.7/site-packages/qcsubmit/validators.py:181: UserWarning: The molecule C13H26N7O4 has a net charge of 1.0.\n",
      "  UserWarning,\n"
     ]
    },
    {
     "name": "stdout",
     "output_type": "stream",
     "text": [
      "...adding 'gly_arg_gly-psi'\n",
      "...adding 'gly_arg_gly-chi1'\n",
      "...adding 'gly_arg_gly-chi2'\n",
      "collecting from folder Input_files/ARG/SER_ARG_ALA\n",
      "...adding 'ser_arg_ala-omega'\n",
      "...adding 'ser_arg_ala-phi'\n"
     ]
    },
    {
     "name": "stderr",
     "output_type": "stream",
     "text": [
      "/home/david/.conda/envs/qcsubmit/lib/python3.7/site-packages/qcsubmit/validators.py:181: UserWarning: The molecule C15H30N7O5 has a net charge of 1.0.\n",
      "  UserWarning,\n"
     ]
    },
    {
     "name": "stdout",
     "output_type": "stream",
     "text": [
      "...adding 'ser_arg_ala-psi'\n",
      "...adding 'ser_arg_ala-chi1'\n",
      "...adding 'ser_arg_ala-chi2'\n",
      "Skipping ._GLY_ARG_GLY\n",
      "Skipping ._ALA_ARG_GLY\n",
      "collecting from folder Input_files/ARG/ALA_ARG_ALA\n",
      "...adding 'ala_arg_ala-omega'\n",
      "...adding 'ala_arg_ala-phi'\n",
      "...adding 'ala_arg_ala-psi'\n"
     ]
    },
    {
     "name": "stderr",
     "output_type": "stream",
     "text": [
      "/home/david/.conda/envs/qcsubmit/lib/python3.7/site-packages/qcsubmit/validators.py:181: UserWarning: The molecule C15H30N7O4 has a net charge of 1.0.\n",
      "  UserWarning,\n"
     ]
    },
    {
     "name": "stdout",
     "output_type": "stream",
     "text": [
      "...adding 'ala_arg_ala-chi1'\n",
      "...adding 'ala_arg_ala-chi2'\n",
      "Skipping ._GLY_ARG_SER\n",
      "collecting from folder Input_files/ARG/VAL_ARG_VAL\n",
      "...adding 'val_arg_val-omega'\n"
     ]
    },
    {
     "name": "stderr",
     "output_type": "stream",
     "text": [
      "/home/david/.conda/envs/qcsubmit/lib/python3.7/site-packages/qcsubmit/validators.py:181: UserWarning: The molecule C19H38N7O4 has a net charge of 1.0.\n",
      "  UserWarning,\n"
     ]
    },
    {
     "name": "stdout",
     "output_type": "stream",
     "text": [
      "...adding 'val_arg_val-phi'\n",
      "...adding 'val_arg_val-psi'\n",
      "...adding 'val_arg_val-chi1'\n",
      "...adding 'val_arg_val-chi2'\n",
      "Skipping ._ConfARG.tar.gz\n",
      "collecting from folder Input_files/ARG/SER_ARG_SER\n",
      "...adding 'ser_arg_ser-omega'\n",
      "...adding 'ser_arg_ser-phi'\n"
     ]
    },
    {
     "name": "stderr",
     "output_type": "stream",
     "text": [
      "/home/david/.conda/envs/qcsubmit/lib/python3.7/site-packages/qcsubmit/validators.py:181: UserWarning: The molecule C15H30N7O6 has a net charge of 1.0.\n",
      "  UserWarning,\n"
     ]
    },
    {
     "name": "stdout",
     "output_type": "stream",
     "text": [
      "...adding 'ser_arg_ser-psi'\n",
      "...adding 'ser_arg_ser-chi1'\n",
      "...adding 'ser_arg_ser-chi2'\n",
      "collecting from folder Input_files/ARG/GLY_ARG_VAL\n",
      "...adding 'gly_arg_val-omega'\n"
     ]
    },
    {
     "name": "stderr",
     "output_type": "stream",
     "text": [
      "/home/david/.conda/envs/qcsubmit/lib/python3.7/site-packages/qcsubmit/validators.py:181: UserWarning: The molecule C16H32N7O4 has a net charge of 1.0.\n",
      "  UserWarning,\n"
     ]
    },
    {
     "name": "stdout",
     "output_type": "stream",
     "text": [
      "...adding 'gly_arg_val-phi'\n",
      "...adding 'gly_arg_val-psi'\n",
      "...adding 'gly_arg_val-chi1'\n",
      "...adding 'gly_arg_val-chi2'\n",
      "collecting from folder Input_files/ARG/ALA_ARG_GLY\n",
      "...adding 'ala_arg_gly-omega'\n",
      "...adding 'ala_arg_gly-phi'\n"
     ]
    },
    {
     "name": "stderr",
     "output_type": "stream",
     "text": [
      "/home/david/.conda/envs/qcsubmit/lib/python3.7/site-packages/qcsubmit/validators.py:181: UserWarning: The molecule C14H28N7O4 has a net charge of 1.0.\n",
      "  UserWarning,\n"
     ]
    },
    {
     "name": "stdout",
     "output_type": "stream",
     "text": [
      "...adding 'ala_arg_gly-psi'\n",
      "...adding 'ala_arg_gly-chi1'\n",
      "...adding 'ala_arg_gly-chi2'\n",
      "Skipping ._VAL_ARG_VAL\n",
      "Skipping ._VAL_ARG_ALA\n",
      "Skipping ._GLY_ARG_ALA\n",
      "Skipping ._ALA_ARG_VAL\n",
      "collecting from folder Input_files/ARG/SER_ARG_VAL\n",
      "Undefined stereochemistry for Input_files/ARG/SER_ARG_VAL/Conf508.mol2; skipping\n",
      "...adding 'ser_arg_val-omega'\n",
      "...adding 'ser_arg_val-phi'\n"
     ]
    },
    {
     "name": "stderr",
     "output_type": "stream",
     "text": [
      "/home/david/.conda/envs/qcsubmit/lib/python3.7/site-packages/qcsubmit/validators.py:181: UserWarning: The molecule C17H34N7O5 has a net charge of 1.0.\n",
      "  UserWarning,\n"
     ]
    },
    {
     "name": "stdout",
     "output_type": "stream",
     "text": [
      "...adding 'ser_arg_val-psi'\n",
      "...adding 'ser_arg_val-chi1'\n",
      "...adding 'ser_arg_val-chi2'\n",
      "collecting from folder Input_files/ARG/GLY_ARG_ALA\n",
      "...adding 'gly_arg_ala-omega'\n",
      "...adding 'gly_arg_ala-phi'\n",
      "...adding 'gly_arg_ala-psi'\n",
      "...adding 'gly_arg_ala-chi1'\n",
      "...adding 'gly_arg_ala-chi2'\n",
      "Skipping ._SER_ARG_SER\n",
      "Skipping ConfARG.tar.gz\n",
      "collecting from folder Input_files/ARG/SER_ARG_GLY\n",
      "...adding 'ser_arg_gly-omega'\n",
      "...adding 'ser_arg_gly-phi'\n",
      "...adding 'ser_arg_gly-psi'\n",
      "...adding 'ser_arg_gly-chi1'\n",
      "...adding 'ser_arg_gly-chi2'\n",
      "collecting from folder Input_files/ARG/ALA_ARG_SER\n",
      "Undefined stereochemistry for Input_files/ARG/ALA_ARG_SER/Conf515.mol2; skipping\n",
      "...adding 'ala_arg_ser-omega'\n",
      "...adding 'ala_arg_ser-phi'\n",
      "...adding 'ala_arg_ser-psi'\n",
      "...adding 'ala_arg_ser-chi1'\n",
      "...adding 'ala_arg_ser-chi2'\n",
      "Skipping ._ALA_ARG_SER\n",
      "Skipping ._VAL_ARG_SER\n",
      "collecting from folder Input_files/ARG/ALA_ARG_VAL\n",
      "...adding 'ala_arg_val-omega'\n",
      "...adding 'ala_arg_val-phi'\n"
     ]
    },
    {
     "name": "stderr",
     "output_type": "stream",
     "text": [
      "/home/david/.conda/envs/qcsubmit/lib/python3.7/site-packages/qcsubmit/validators.py:181: UserWarning: The molecule C17H34N7O4 has a net charge of 1.0.\n",
      "  UserWarning,\n"
     ]
    },
    {
     "name": "stdout",
     "output_type": "stream",
     "text": [
      "...adding 'ala_arg_val-psi'\n",
      "...adding 'ala_arg_val-chi1'\n",
      "...adding 'ala_arg_val-chi2'\n",
      "collecting from folder Input_files/ARG/VAL_ARG_ALA\n",
      "...adding 'val_arg_ala-omega'\n",
      "...adding 'val_arg_ala-phi'\n",
      "...adding 'val_arg_ala-psi'\n",
      "...adding 'val_arg_ala-chi1'\n",
      "...adding 'val_arg_ala-chi2'\n",
      "Skipping ._ALA_ARG_ALA\n",
      "collecting from folder Input_files/ARG/VAL_ARG_SER\n",
      "...adding 'val_arg_ser-omega'\n",
      "...adding 'val_arg_ser-phi'\n",
      "...adding 'val_arg_ser-psi'\n",
      "...adding 'val_arg_ser-chi1'\n",
      "...adding 'val_arg_ser-chi2'\n",
      "collecting from folder Input_files/ARG/VAL_ARG_GLY\n",
      "...adding 'val_arg_gly-omega'\n",
      "...adding 'val_arg_gly-phi'\n",
      "...adding 'val_arg_gly-psi'\n",
      "...adding 'val_arg_gly-chi1'\n",
      "...adding 'val_arg_gly-chi2'\n",
      "collecting from folder Input_files/GLU/GLY_GLU_GLY\n",
      "...adding 'gly_glu_gly-omega'\n"
     ]
    },
    {
     "name": "stderr",
     "output_type": "stream",
     "text": [
      "/home/david/.conda/envs/qcsubmit/lib/python3.7/site-packages/qcsubmit/validators.py:181: UserWarning: The molecule C12H19N4O6 has a net charge of -1.0.\n",
      "  UserWarning,\n"
     ]
    },
    {
     "name": "stdout",
     "output_type": "stream",
     "text": [
      "...adding 'gly_glu_gly-phi'\n",
      "...adding 'gly_glu_gly-psi'\n",
      "...adding 'gly_glu_gly-chi1'\n",
      "...adding 'gly_glu_gly-chi2'\n",
      "Skipping ._ConfGLU.tar.gz\n",
      "collecting from folder Input_files/GLU/GLY_GLU_ALA\n",
      "...adding 'gly_glu_ala-omega'\n"
     ]
    },
    {
     "name": "stderr",
     "output_type": "stream",
     "text": [
      "/home/david/.conda/envs/qcsubmit/lib/python3.7/site-packages/qcsubmit/validators.py:181: UserWarning: The molecule C13H21N4O6 has a net charge of -1.0.\n",
      "  UserWarning,\n"
     ]
    },
    {
     "name": "stdout",
     "output_type": "stream",
     "text": [
      "...adding 'gly_glu_ala-phi'\n",
      "...adding 'gly_glu_ala-psi'\n",
      "...adding 'gly_glu_ala-chi1'\n",
      "...adding 'gly_glu_ala-chi2'\n",
      "collecting from folder Input_files/GLU/VAL_GLU_GLY\n",
      "...adding 'val_glu_gly-omega'\n",
      "...adding 'val_glu_gly-phi'\n"
     ]
    },
    {
     "name": "stderr",
     "output_type": "stream",
     "text": [
      "/home/david/.conda/envs/qcsubmit/lib/python3.7/site-packages/qcsubmit/validators.py:181: UserWarning: The molecule C15H25N4O6 has a net charge of -1.0.\n",
      "  UserWarning,\n"
     ]
    },
    {
     "name": "stdout",
     "output_type": "stream",
     "text": [
      "...adding 'val_glu_gly-psi'\n",
      "...adding 'val_glu_gly-chi1'\n",
      "...adding 'val_glu_gly-chi2'\n",
      "collecting from folder Input_files/GLU/VAL_GLU_ALA\n",
      "Undefined stereochemistry for Input_files/GLU/VAL_GLU_ALA/Conf467.mol2; skipping\n",
      "...adding 'val_glu_ala-omega'\n",
      "...adding 'val_glu_ala-phi'\n"
     ]
    },
    {
     "name": "stderr",
     "output_type": "stream",
     "text": [
      "/home/david/.conda/envs/qcsubmit/lib/python3.7/site-packages/qcsubmit/validators.py:181: UserWarning: The molecule C16H27N4O6 has a net charge of -1.0.\n",
      "  UserWarning,\n"
     ]
    },
    {
     "name": "stdout",
     "output_type": "stream",
     "text": [
      "...adding 'val_glu_ala-psi'\n",
      "...adding 'val_glu_ala-chi1'\n",
      "...adding 'val_glu_ala-chi2'\n",
      "collecting from folder Input_files/GLU/GLY_GLU_VAL\n",
      "Undefined stereochemistry for Input_files/GLU/GLY_GLU_VAL/Conf517.mol2; skipping\n",
      "...adding 'gly_glu_val-omega'\n",
      "...adding 'gly_glu_val-phi'\n",
      "...adding 'gly_glu_val-psi'\n",
      "...adding 'gly_glu_val-chi1'\n",
      "...adding 'gly_glu_val-chi2'\n",
      "collecting from folder Input_files/GLU/ALA_GLU_ALA\n",
      "...adding 'ala_glu_ala-omega'\n"
     ]
    },
    {
     "name": "stderr",
     "output_type": "stream",
     "text": [
      "/home/david/.conda/envs/qcsubmit/lib/python3.7/site-packages/qcsubmit/validators.py:181: UserWarning: The molecule C14H23N4O6 has a net charge of -1.0.\n",
      "  UserWarning,\n"
     ]
    },
    {
     "name": "stdout",
     "output_type": "stream",
     "text": [
      "...adding 'ala_glu_ala-phi'\n",
      "...adding 'ala_glu_ala-psi'\n",
      "...adding 'ala_glu_ala-chi1'\n",
      "...adding 'ala_glu_ala-chi2'\n",
      "collecting from folder Input_files/GLU/VAL_GLU_VAL\n",
      "Undefined stereochemistry for Input_files/GLU/VAL_GLU_VAL/Conf488.mol2; skipping\n",
      "...adding 'val_glu_val-omega'\n"
     ]
    },
    {
     "name": "stderr",
     "output_type": "stream",
     "text": [
      "/home/david/.conda/envs/qcsubmit/lib/python3.7/site-packages/qcsubmit/validators.py:181: UserWarning: The molecule C18H31N4O6 has a net charge of -1.0.\n",
      "  UserWarning,\n"
     ]
    },
    {
     "name": "stdout",
     "output_type": "stream",
     "text": [
      "...adding 'val_glu_val-phi'\n",
      "...adding 'val_glu_val-psi'\n",
      "...adding 'val_glu_val-chi1'\n",
      "...adding 'val_glu_val-chi2'\n",
      "collecting from folder Input_files/GLU/ALA_GLU_VAL\n",
      "...adding 'ala_glu_val-omega'\n",
      "...adding 'ala_glu_val-phi'\n",
      "...adding 'ala_glu_val-psi'\n",
      "...adding 'ala_glu_val-chi1'\n",
      "...adding 'ala_glu_val-chi2'\n",
      "Skipping ConfGLU.tar.gz\n",
      "collecting from folder Input_files/GLU/ALA_GLU_GLY\n",
      "...adding 'ala_glu_gly-omega'\n",
      "...adding 'ala_glu_gly-phi'\n",
      "...adding 'ala_glu_gly-psi'\n",
      "...adding 'ala_glu_gly-chi1'\n",
      "...adding 'ala_glu_gly-chi2'\n",
      "Skipping ._GLU\n",
      "Skipping ConfASP.tar.gz\n",
      "collecting from folder Input_files/ASP/SER_ASP_VAL\n",
      "...adding 'ser_asp_val-omega'\n",
      "...adding 'ser_asp_val-phi'\n"
     ]
    },
    {
     "name": "stderr",
     "output_type": "stream",
     "text": [
      "/home/david/.conda/envs/qcsubmit/lib/python3.7/site-packages/qcsubmit/validators.py:181: UserWarning: The molecule C15H25N4O7 has a net charge of -1.0.\n",
      "  UserWarning,\n"
     ]
    },
    {
     "name": "stdout",
     "output_type": "stream",
     "text": [
      "...adding 'ser_asp_val-psi'\n",
      "...adding 'ser_asp_val-chi1'\n",
      "...adding 'ser_asp_val-chi2'\n",
      "collecting from folder Input_files/ASP/VAL_ASP_VAL\n",
      "...adding 'val_asp_val-omega'\n",
      "...adding 'val_asp_val-phi'\n"
     ]
    },
    {
     "name": "stderr",
     "output_type": "stream",
     "text": [
      "/home/david/.conda/envs/qcsubmit/lib/python3.7/site-packages/qcsubmit/validators.py:181: UserWarning: The molecule C17H29N4O6 has a net charge of -1.0.\n",
      "  UserWarning,\n"
     ]
    },
    {
     "name": "stdout",
     "output_type": "stream",
     "text": [
      "...adding 'val_asp_val-psi'\n",
      "...adding 'val_asp_val-chi1'\n",
      "...adding 'val_asp_val-chi2'\n",
      "collecting from folder Input_files/ASP/ALA_ASP_VAL\n",
      "...adding 'ala_asp_val-omega'\n",
      "...adding 'ala_asp_val-phi'\n",
      "...adding 'ala_asp_val-psi'\n",
      "...adding 'ala_asp_val-chi1'\n",
      "...adding 'ala_asp_val-chi2'\n",
      "collecting from folder Input_files/ASP/VAL_ASP_ALA\n",
      "...adding 'val_asp_ala-omega'\n",
      "...adding 'val_asp_ala-phi'\n",
      "...adding 'val_asp_ala-psi'\n",
      "...adding 'val_asp_ala-chi1'\n",
      "...adding 'val_asp_ala-chi2'\n",
      "Skipping ._ConfASP.tar.gz\n",
      "Skipping ._VAL_ASP_GLY\n",
      "collecting from folder Input_files/ASP/ALA_ASP_ALA\n",
      "...adding 'ala_asp_ala-omega'\n",
      "...adding 'ala_asp_ala-phi'\n",
      "...adding 'ala_asp_ala-psi'\n",
      "...adding 'ala_asp_ala-chi1'\n",
      "...adding 'ala_asp_ala-chi2'\n",
      "Skipping ._GLY_ASP_ALA\n",
      "collecting from folder Input_files/ASP/GLY_ASP_VAL\n",
      "...adding 'gly_asp_val-omega'\n",
      "...adding 'gly_asp_val-phi'\n",
      "...adding 'gly_asp_val-psi'\n",
      "...adding 'gly_asp_val-chi1'\n",
      "...adding 'gly_asp_val-chi2'\n",
      "Skipping ._SER_ASP_GLY\n",
      "Skipping ._ALA_ASP_ALA\n",
      "collecting from folder Input_files/ASP/ALA_ASP_GLY\n",
      "...adding 'ala_asp_gly-omega'\n",
      "...adding 'ala_asp_gly-phi'\n",
      "...adding 'ala_asp_gly-psi'\n",
      "...adding 'ala_asp_gly-chi1'\n",
      "...adding 'ala_asp_gly-chi2'\n",
      "Skipping ._GLY_ASP_SER\n",
      "Skipping ._ALA_ASP_VAL\n",
      "Skipping ._GLY_ASP_GLY\n",
      "collecting from folder Input_files/ASP/SER_ASP_ALA\n",
      "...adding 'ser_asp_ala-omega'\n",
      "...adding 'ser_asp_ala-phi'\n"
     ]
    },
    {
     "name": "stderr",
     "output_type": "stream",
     "text": [
      "/home/david/.conda/envs/qcsubmit/lib/python3.7/site-packages/qcsubmit/validators.py:181: UserWarning: The molecule C13H21N4O7 has a net charge of -1.0.\n",
      "  UserWarning,\n"
     ]
    },
    {
     "name": "stdout",
     "output_type": "stream",
     "text": [
      "...adding 'ser_asp_ala-psi'\n",
      "...adding 'ser_asp_ala-chi1'\n",
      "...adding 'ser_asp_ala-chi2'\n",
      "collecting from folder Input_files/ASP/GLY_ASP_ALA\n",
      "...adding 'gly_asp_ala-omega'\n",
      "...adding 'gly_asp_ala-phi'\n",
      "...adding 'gly_asp_ala-psi'\n",
      "...adding 'gly_asp_ala-chi1'\n",
      "...adding 'gly_asp_ala-chi2'\n",
      "Skipping ._ALA_ASP_GLY\n",
      "Skipping ._GLY_ASP_VAL\n",
      "collecting from folder Input_files/ASP/GLY_ASP_GLY\n",
      "...adding 'gly_asp_gly-omega'\n",
      "...adding 'gly_asp_gly-phi'\n"
     ]
    },
    {
     "name": "stderr",
     "output_type": "stream",
     "text": [
      "/home/david/.conda/envs/qcsubmit/lib/python3.7/site-packages/qcsubmit/validators.py:181: UserWarning: The molecule C11H17N4O6 has a net charge of -1.0.\n",
      "  UserWarning,\n"
     ]
    },
    {
     "name": "stdout",
     "output_type": "stream",
     "text": [
      "...adding 'gly_asp_gly-psi'\n",
      "...adding 'gly_asp_gly-chi1'\n",
      "...adding 'gly_asp_gly-chi2'\n",
      "collecting from folder Input_files/ASP/SER_ASP_SER\n",
      "...adding 'ser_asp_ser-omega'\n",
      "...adding 'ser_asp_ser-phi'\n"
     ]
    },
    {
     "name": "stderr",
     "output_type": "stream",
     "text": [
      "/home/david/.conda/envs/qcsubmit/lib/python3.7/site-packages/qcsubmit/validators.py:181: UserWarning: The molecule C13H21N4O8 has a net charge of -1.0.\n",
      "  UserWarning,\n"
     ]
    },
    {
     "name": "stdout",
     "output_type": "stream",
     "text": [
      "...adding 'ser_asp_ser-psi'\n",
      "...adding 'ser_asp_ser-chi1'\n",
      "...adding 'ser_asp_ser-chi2'\n",
      "collecting from folder Input_files/ASP/VAL_ASP_GLY\n",
      "...adding 'val_asp_gly-omega'\n",
      "...adding 'val_asp_gly-phi'\n",
      "...adding 'val_asp_gly-psi'\n",
      "...adding 'val_asp_gly-chi1'\n",
      "...adding 'val_asp_gly-chi2'\n",
      "collecting from folder Input_files/ASP/GLY_ASP_SER\n",
      "...adding 'gly_asp_ser-omega'\n",
      "...adding 'gly_asp_ser-phi'\n",
      "...adding 'gly_asp_ser-psi'\n"
     ]
    },
    {
     "name": "stderr",
     "output_type": "stream",
     "text": [
      "/home/david/.conda/envs/qcsubmit/lib/python3.7/site-packages/qcsubmit/validators.py:181: UserWarning: The molecule C12H19N4O7 has a net charge of -1.0.\n",
      "  UserWarning,\n"
     ]
    },
    {
     "name": "stdout",
     "output_type": "stream",
     "text": [
      "...adding 'gly_asp_ser-chi1'\n",
      "...adding 'gly_asp_ser-chi2'\n",
      "Skipping ._VAL_ASP_ALA\n",
      "Skipping ._SER_ASP_ALA\n",
      "collecting from folder Input_files/ASP/SER_ASP_GLY\n",
      "...adding 'ser_asp_gly-omega'\n",
      "...adding 'ser_asp_gly-phi'\n",
      "...adding 'ser_asp_gly-psi'\n",
      "...adding 'ser_asp_gly-chi1'\n",
      "...adding 'ser_asp_gly-chi2'\n",
      "Skipping ._ALA_ASP_SER\n",
      "collecting from folder Input_files/ASP/VAL_ASP_SER\n",
      "...adding 'val_asp_ser-omega'\n",
      "...adding 'val_asp_ser-phi'\n",
      "...adding 'val_asp_ser-psi'\n",
      "...adding 'val_asp_ser-chi1'\n",
      "...adding 'val_asp_ser-chi2'\n",
      "collecting from folder Input_files/ASP/ALA_ASP_SER\n",
      "...adding 'ala_asp_ser-omega'\n",
      "...adding 'ala_asp_ser-phi'\n",
      "...adding 'ala_asp_ser-psi'\n",
      "...adding 'ala_asp_ser-chi1'\n",
      "...adding 'ala_asp_ser-chi2'\n",
      "Skipping ._HIE\n",
      "Skipping ._CYS\n",
      "collecting from folder Input_files/GLY/VAL_GLY_ALA\n",
      "...adding 'val_gly_ala-omega'\n",
      "...adding 'val_gly_ala-phi'\n",
      "...adding 'val_gly_ala-psi'\n",
      "...adding 'val_gly_ala-chi1'\n",
      "...NO DIHEDRAL INDICES FOR 'val_gly_ala-chi1'\n",
      "...adding 'val_gly_ala-chi2'\n",
      "...NO DIHEDRAL INDICES FOR 'val_gly_ala-chi2'\n",
      "Skipping ConfGLY.tar.gz\n",
      "Skipping ._GLY_GLY_SER\n",
      "collecting from folder Input_files/GLY/SER_GLY_ALA\n",
      "...adding 'ser_gly_ala-omega'\n",
      "...adding 'ser_gly_ala-phi'\n",
      "...adding 'ser_gly_ala-psi'\n",
      "...adding 'ser_gly_ala-chi1'\n",
      "...NO DIHEDRAL INDICES FOR 'ser_gly_ala-chi1'\n",
      "...adding 'ser_gly_ala-chi2'\n",
      "...NO DIHEDRAL INDICES FOR 'ser_gly_ala-chi2'\n",
      "Skipping ._GLY_GLY_ALA\n",
      "collecting from folder Input_files/GLY/VAL_GLY_VAL\n",
      "...adding 'val_gly_val-omega'\n",
      "...adding 'val_gly_val-phi'\n",
      "...adding 'val_gly_val-psi'\n",
      "...adding 'val_gly_val-chi1'\n",
      "...NO DIHEDRAL INDICES FOR 'val_gly_val-chi1'\n",
      "...adding 'val_gly_val-chi2'\n",
      "...NO DIHEDRAL INDICES FOR 'val_gly_val-chi2'\n",
      "Skipping ._SER_GLY_GLY\n",
      "collecting from folder Input_files/GLY/SER_GLY_VAL\n",
      "...adding 'ser_gly_val-omega'\n",
      "...adding 'ser_gly_val-phi'\n",
      "...adding 'ser_gly_val-psi'\n",
      "...adding 'ser_gly_val-chi1'\n",
      "...NO DIHEDRAL INDICES FOR 'ser_gly_val-chi1'\n",
      "...adding 'ser_gly_val-chi2'\n",
      "...NO DIHEDRAL INDICES FOR 'ser_gly_val-chi2'\n",
      "Skipping ._ALA_GLY_SER\n",
      "collecting from folder Input_files/GLY/VAL_GLY_SER\n",
      "...adding 'val_gly_ser-omega'\n",
      "...adding 'val_gly_ser-phi'\n",
      "...adding 'val_gly_ser-psi'\n",
      "...adding 'val_gly_ser-chi1'\n",
      "...NO DIHEDRAL INDICES FOR 'val_gly_ser-chi1'\n",
      "...adding 'val_gly_ser-chi2'\n",
      "...NO DIHEDRAL INDICES FOR 'val_gly_ser-chi2'\n",
      "collecting from folder Input_files/GLY/GLY_GLY_VAL\n",
      "...adding 'gly_gly_val-omega'\n",
      "...adding 'gly_gly_val-phi'\n",
      "...adding 'gly_gly_val-psi'\n",
      "...adding 'gly_gly_val-chi1'\n",
      "...NO DIHEDRAL INDICES FOR 'gly_gly_val-chi1'\n",
      "...adding 'gly_gly_val-chi2'\n",
      "...NO DIHEDRAL INDICES FOR 'gly_gly_val-chi2'\n",
      "Skipping ._ALA_GLY_VAL\n",
      "Skipping ._ALA_GLY_ALA\n",
      "Skipping ._SER_GLY_ALA\n",
      "Skipping ._GLY_GLY_VAL\n",
      "collecting from folder Input_files/GLY/SER_GLY_SER\n",
      "...adding 'ser_gly_ser-omega'\n",
      "...adding 'ser_gly_ser-phi'\n",
      "...adding 'ser_gly_ser-psi'\n",
      "...adding 'ser_gly_ser-chi1'\n",
      "...NO DIHEDRAL INDICES FOR 'ser_gly_ser-chi1'\n",
      "...adding 'ser_gly_ser-chi2'\n",
      "...NO DIHEDRAL INDICES FOR 'ser_gly_ser-chi2'\n",
      "Skipping ._ALA_GLY_GLY\n",
      "Skipping ._VAL_GLY_GLY\n",
      "collecting from folder Input_files/GLY/ALA_GLY_GLY\n",
      "...adding 'ala_gly_gly-omega'\n",
      "...adding 'ala_gly_gly-phi'\n",
      "...adding 'ala_gly_gly-psi'\n",
      "...adding 'ala_gly_gly-chi1'\n",
      "...NO DIHEDRAL INDICES FOR 'ala_gly_gly-chi1'\n",
      "...adding 'ala_gly_gly-chi2'\n",
      "...NO DIHEDRAL INDICES FOR 'ala_gly_gly-chi2'\n",
      "collecting from folder Input_files/GLY/GLY_GLY_ALA\n",
      "...adding 'gly_gly_ala-omega'\n",
      "...adding 'gly_gly_ala-phi'\n",
      "...adding 'gly_gly_ala-psi'\n",
      "...adding 'gly_gly_ala-chi1'\n",
      "...NO DIHEDRAL INDICES FOR 'gly_gly_ala-chi1'\n",
      "...adding 'gly_gly_ala-chi2'\n",
      "...NO DIHEDRAL INDICES FOR 'gly_gly_ala-chi2'\n",
      "collecting from folder Input_files/GLY/ALA_GLY_ALA\n",
      "...adding 'ala_gly_ala-omega'\n",
      "...adding 'ala_gly_ala-phi'\n",
      "...adding 'ala_gly_ala-psi'\n",
      "...adding 'ala_gly_ala-chi1'\n",
      "...NO DIHEDRAL INDICES FOR 'ala_gly_ala-chi1'\n",
      "...adding 'ala_gly_ala-chi2'\n",
      "...NO DIHEDRAL INDICES FOR 'ala_gly_ala-chi2'\n",
      "collecting from folder Input_files/GLY/ALA_GLY_VAL\n",
      "...adding 'ala_gly_val-omega'\n",
      "...adding 'ala_gly_val-phi'\n",
      "...adding 'ala_gly_val-psi'\n",
      "...adding 'ala_gly_val-chi1'\n",
      "...NO DIHEDRAL INDICES FOR 'ala_gly_val-chi1'\n",
      "...adding 'ala_gly_val-chi2'\n",
      "...NO DIHEDRAL INDICES FOR 'ala_gly_val-chi2'\n",
      "collecting from folder Input_files/GLY/SER_GLY_GLY\n",
      "...adding 'ser_gly_gly-omega'\n",
      "...adding 'ser_gly_gly-phi'\n",
      "...adding 'ser_gly_gly-psi'\n",
      "...adding 'ser_gly_gly-chi1'\n",
      "...NO DIHEDRAL INDICES FOR 'ser_gly_gly-chi1'\n",
      "...adding 'ser_gly_gly-chi2'\n",
      "...NO DIHEDRAL INDICES FOR 'ser_gly_gly-chi2'\n",
      "Skipping ._ConfGLY.tar.gz\n",
      "collecting from folder Input_files/GLY/VAL_GLY_GLY\n",
      "...adding 'val_gly_gly-omega'\n",
      "...adding 'val_gly_gly-phi'\n",
      "...adding 'val_gly_gly-psi'\n",
      "...adding 'val_gly_gly-chi1'\n",
      "...NO DIHEDRAL INDICES FOR 'val_gly_gly-chi1'\n",
      "...adding 'val_gly_gly-chi2'\n",
      "...NO DIHEDRAL INDICES FOR 'val_gly_gly-chi2'\n",
      "collecting from folder Input_files/GLY/ALA_GLY_SER\n",
      "...adding 'ala_gly_ser-omega'\n",
      "...adding 'ala_gly_ser-phi'\n",
      "...adding 'ala_gly_ser-psi'\n",
      "...adding 'ala_gly_ser-chi1'\n",
      "...NO DIHEDRAL INDICES FOR 'ala_gly_ser-chi1'\n",
      "...adding 'ala_gly_ser-chi2'\n",
      "...NO DIHEDRAL INDICES FOR 'ala_gly_ser-chi2'\n",
      "Skipping ._GLY_GLY_GLY\n",
      "collecting from folder Input_files/GLY/GLY_GLY_SER\n",
      "...adding 'gly_gly_ser-omega'\n",
      "...adding 'gly_gly_ser-phi'\n",
      "...adding 'gly_gly_ser-psi'\n",
      "...adding 'gly_gly_ser-chi1'\n",
      "...NO DIHEDRAL INDICES FOR 'gly_gly_ser-chi1'\n",
      "...adding 'gly_gly_ser-chi2'\n",
      "...NO DIHEDRAL INDICES FOR 'gly_gly_ser-chi2'\n",
      "Skipping ._VAL_GLY_ALA\n",
      "collecting from folder Input_files/GLY/GLY_GLY_GLY\n",
      "...adding 'gly_gly_gly-omega'\n",
      "...adding 'gly_gly_gly-phi'\n",
      "...adding 'gly_gly_gly-psi'\n",
      "...adding 'gly_gly_gly-chi1'\n",
      "...NO DIHEDRAL INDICES FOR 'gly_gly_gly-chi1'\n",
      "...adding 'gly_gly_gly-chi2'\n",
      "...NO DIHEDRAL INDICES FOR 'gly_gly_gly-chi2'\n",
      "collecting from folder Input_files/HID/GLY_HID_SER\n",
      "...adding 'gly_hid_ser-omega'\n",
      "...adding 'gly_hid_ser-phi'\n",
      "...adding 'gly_hid_ser-psi'\n",
      "...adding 'gly_hid_ser-chi1'\n",
      "...adding 'gly_hid_ser-chi2'\n",
      "collecting from folder Input_files/HID/ALA_HID_GLY\n",
      "...adding 'ala_hid_gly-omega'\n",
      "...adding 'ala_hid_gly-phi'\n",
      "...adding 'ala_hid_gly-psi'\n",
      "...adding 'ala_hid_gly-chi1'\n",
      "...adding 'ala_hid_gly-chi2'\n",
      "collecting from folder Input_files/HID/SER_HID_ALA\n",
      "...adding 'ser_hid_ala-omega'\n",
      "...adding 'ser_hid_ala-phi'\n",
      "...adding 'ser_hid_ala-psi'\n",
      "...adding 'ser_hid_ala-chi1'\n",
      "...adding 'ser_hid_ala-chi2'\n",
      "collecting from folder Input_files/HID/VAL_HID_VAL\n",
      "...adding 'val_hid_val-omega'\n",
      "...adding 'val_hid_val-phi'\n",
      "...adding 'val_hid_val-psi'\n",
      "...adding 'val_hid_val-chi1'\n",
      "...adding 'val_hid_val-chi2'\n",
      "Skipping ConfHID.tar.gz\n",
      "collecting from folder Input_files/HID/SER_HID_VAL\n",
      "...adding 'ser_hid_val-omega'\n",
      "...adding 'ser_hid_val-phi'\n",
      "...adding 'ser_hid_val-psi'\n",
      "...adding 'ser_hid_val-chi1'\n",
      "...adding 'ser_hid_val-chi2'\n",
      "collecting from folder Input_files/HID/GLY_HID_GLY\n",
      "...adding 'gly_hid_gly-omega'\n",
      "...adding 'gly_hid_gly-phi'\n",
      "...adding 'gly_hid_gly-psi'\n",
      "...adding 'gly_hid_gly-chi1'\n",
      "...adding 'gly_hid_gly-chi2'\n",
      "collecting from folder Input_files/HID/GLY_HID_VAL\n",
      "...adding 'gly_hid_val-omega'\n",
      "...adding 'gly_hid_val-phi'\n",
      "...adding 'gly_hid_val-psi'\n",
      "...adding 'gly_hid_val-chi1'\n",
      "...adding 'gly_hid_val-chi2'\n",
      "collecting from folder Input_files/HID/VAL_HID_ALA\n",
      "...adding 'val_hid_ala-omega'\n",
      "...adding 'val_hid_ala-phi'\n",
      "...adding 'val_hid_ala-psi'\n",
      "...adding 'val_hid_ala-chi1'\n",
      "...adding 'val_hid_ala-chi2'\n",
      "collecting from folder Input_files/HID/SER_HID_GLY\n",
      "...adding 'ser_hid_gly-omega'\n",
      "...adding 'ser_hid_gly-phi'\n",
      "...adding 'ser_hid_gly-psi'\n",
      "...adding 'ser_hid_gly-chi1'\n",
      "...adding 'ser_hid_gly-chi2'\n",
      "collecting from folder Input_files/HID/VAL_HID_GLY\n",
      "...adding 'val_hid_gly-omega'\n",
      "...adding 'val_hid_gly-phi'\n",
      "...adding 'val_hid_gly-psi'\n",
      "...adding 'val_hid_gly-chi1'\n",
      "...adding 'val_hid_gly-chi2'\n",
      "collecting from folder Input_files/HID/SER_HID_SER\n",
      "...adding 'ser_hid_ser-omega'\n",
      "...adding 'ser_hid_ser-phi'\n",
      "...adding 'ser_hid_ser-psi'\n",
      "...adding 'ser_hid_ser-chi1'\n",
      "...adding 'ser_hid_ser-chi2'\n",
      "collecting from folder Input_files/HID/ALA_HID_ALA\n",
      "...adding 'ala_hid_ala-omega'\n",
      "...adding 'ala_hid_ala-phi'\n",
      "...adding 'ala_hid_ala-psi'\n",
      "...adding 'ala_hid_ala-chi1'\n",
      "...adding 'ala_hid_ala-chi2'\n",
      "collecting from folder Input_files/HID/ALA_HID_SER\n",
      "...adding 'ala_hid_ser-omega'\n",
      "...adding 'ala_hid_ser-phi'\n",
      "...adding 'ala_hid_ser-psi'\n",
      "...adding 'ala_hid_ser-chi1'\n",
      "...adding 'ala_hid_ser-chi2'\n",
      "collecting from folder Input_files/HID/GLY_HID_ALA\n",
      "...adding 'gly_hid_ala-omega'\n",
      "...adding 'gly_hid_ala-phi'\n",
      "...adding 'gly_hid_ala-psi'\n",
      "...adding 'gly_hid_ala-chi1'\n",
      "...adding 'gly_hid_ala-chi2'\n",
      "Skipping ._ConfHID.tar.gz\n",
      "collecting from folder Input_files/HID/VAL_HID_SER\n",
      "...adding 'val_hid_ser-omega'\n",
      "...adding 'val_hid_ser-phi'\n",
      "...adding 'val_hid_ser-psi'\n",
      "...adding 'val_hid_ser-chi1'\n",
      "...adding 'val_hid_ser-chi2'\n",
      "collecting from folder Input_files/HID/ALA_HID_VAL\n",
      "...adding 'ala_hid_val-omega'\n",
      "...adding 'ala_hid_val-phi'\n",
      "...adding 'ala_hid_val-psi'\n",
      "...adding 'ala_hid_val-chi1'\n",
      "...adding 'ala_hid_val-chi2'\n",
      "Skipping ._ARG\n",
      "Skipping ._ALA\n",
      "Skipping ._ASH\n",
      "Skipping ._GLH\n",
      "collecting from folder Input_files/ASH/SER_ASH_ALA\n",
      "...adding 'ser_ash_ala-omega'\n",
      "...adding 'ser_ash_ala-phi'\n",
      "...adding 'ser_ash_ala-psi'\n",
      "...adding 'ser_ash_ala-chi1'\n",
      "...adding 'ser_ash_ala-chi2'\n",
      "collecting from folder Input_files/ASH/VAL_ASH_GLY\n",
      "...adding 'val_ash_gly-omega'\n",
      "...adding 'val_ash_gly-phi'\n",
      "...adding 'val_ash_gly-psi'\n",
      "...adding 'val_ash_gly-chi1'\n",
      "...adding 'val_ash_gly-chi2'\n",
      "collecting from folder Input_files/ASH/ALA_ASH_GLY\n",
      "...adding 'ala_ash_gly-omega'\n",
      "...adding 'ala_ash_gly-phi'\n",
      "...adding 'ala_ash_gly-psi'\n",
      "...adding 'ala_ash_gly-chi1'\n",
      "...adding 'ala_ash_gly-chi2'\n",
      "collecting from folder Input_files/ASH/VAL_ASH_SER\n",
      "...adding 'val_ash_ser-omega'\n",
      "...adding 'val_ash_ser-phi'\n",
      "...adding 'val_ash_ser-psi'\n",
      "...adding 'val_ash_ser-chi1'\n",
      "...adding 'val_ash_ser-chi2'\n",
      "Skipping ._ALA_ASH_VAL\n",
      "collecting from folder Input_files/ASH/GLY_ASH_GLY\n",
      "...adding 'gly_ash_gly-omega'\n",
      "...adding 'gly_ash_gly-phi'\n",
      "...adding 'gly_ash_gly-psi'\n",
      "...adding 'gly_ash_gly-chi1'\n",
      "...adding 'gly_ash_gly-chi2'\n",
      "Skipping ._ALA_ASH_SER\n",
      "collecting from folder Input_files/ASH/ALA_ASH_ALA\n",
      "...adding 'ala_ash_ala-omega'\n",
      "...adding 'ala_ash_ala-phi'\n",
      "...adding 'ala_ash_ala-psi'\n",
      "...adding 'ala_ash_ala-chi1'\n",
      "...adding 'ala_ash_ala-chi2'\n",
      "collecting from folder Input_files/ASH/VAL_ASH_VAL\n",
      "...adding 'val_ash_val-omega'\n",
      "...adding 'val_ash_val-phi'\n",
      "...adding 'val_ash_val-psi'\n",
      "...adding 'val_ash_val-chi1'\n",
      "...adding 'val_ash_val-chi2'\n",
      "Skipping ._GLY_ASH_GLY\n",
      "collecting from folder Input_files/ASH/SER_ASH_GLY\n",
      "...adding 'ser_ash_gly-omega'\n",
      "...adding 'ser_ash_gly-phi'\n",
      "...adding 'ser_ash_gly-psi'\n",
      "...adding 'ser_ash_gly-chi1'\n",
      "...adding 'ser_ash_gly-chi2'\n",
      "collecting from folder Input_files/ASH/SER_ASH_SER\n",
      "...adding 'ser_ash_ser-omega'\n",
      "...adding 'ser_ash_ser-phi'\n",
      "...adding 'ser_ash_ser-psi'\n",
      "...adding 'ser_ash_ser-chi1'\n",
      "...adding 'ser_ash_ser-chi2'\n",
      "Skipping ._GLY_ASH_VAL\n",
      "collecting from folder Input_files/ASH/ALA_ASH_VAL\n",
      "...adding 'ala_ash_val-omega'\n",
      "...adding 'ala_ash_val-phi'\n",
      "...adding 'ala_ash_val-psi'\n",
      "...adding 'ala_ash_val-chi1'\n",
      "...adding 'ala_ash_val-chi2'\n",
      "Skipping ._SER_ASH_ALA\n",
      "collecting from folder Input_files/ASH/GLY_ASH_ALA\n",
      "...adding 'gly_ash_ala-omega'\n",
      "...adding 'gly_ash_ala-phi'\n",
      "...adding 'gly_ash_ala-psi'\n",
      "...adding 'gly_ash_ala-chi1'\n",
      "...adding 'gly_ash_ala-chi2'\n",
      "Skipping ._ALA_ASH_GLY\n",
      "Skipping ._GLY_ASH_ALA\n",
      "Skipping ._SER_ASH_GLY\n",
      "collecting from folder Input_files/ASH/GLY_ASH_SER\n",
      "...adding 'gly_ash_ser-omega'\n",
      "...adding 'gly_ash_ser-phi'\n",
      "...adding 'gly_ash_ser-psi'\n",
      "...adding 'gly_ash_ser-chi1'\n",
      "...adding 'gly_ash_ser-chi2'\n",
      "collecting from folder Input_files/ASH/VAL_ASH_ALA\n",
      "...adding 'val_ash_ala-omega'\n",
      "...adding 'val_ash_ala-phi'\n",
      "...adding 'val_ash_ala-psi'\n",
      "...adding 'val_ash_ala-chi1'\n",
      "...adding 'val_ash_ala-chi2'\n",
      "Skipping ._VAL_ASH_ALA\n",
      "Skipping ConfASH.tar.gz\n",
      "Skipping ._ALA_ASH_ALA\n",
      "Skipping ._GLY_ASH_SER\n",
      "collecting from folder Input_files/ASH/ALA_ASH_SER\n",
      "...adding 'ala_ash_ser-omega'\n",
      "...adding 'ala_ash_ser-phi'\n",
      "...adding 'ala_ash_ser-psi'\n",
      "...adding 'ala_ash_ser-chi1'\n",
      "...adding 'ala_ash_ser-chi2'\n",
      "Skipping ._ConfASH.tar.gz\n",
      "Skipping ._VAL_ASH_GLY\n",
      "collecting from folder Input_files/ASH/SER_ASH_VAL\n",
      "...adding 'ser_ash_val-omega'\n",
      "...adding 'ser_ash_val-phi'\n",
      "...adding 'ser_ash_val-psi'\n",
      "...adding 'ser_ash_val-chi1'\n",
      "...adding 'ser_ash_val-chi2'\n",
      "collecting from folder Input_files/ASH/GLY_ASH_VAL\n",
      "...adding 'gly_ash_val-omega'\n",
      "...adding 'gly_ash_val-phi'\n",
      "...adding 'gly_ash_val-psi'\n",
      "...adding 'gly_ash_val-chi1'\n",
      "...adding 'gly_ash_val-chi2'\n",
      "Skipping ._GLY\n",
      "Skipping ._HID\n"
     ]
    }
   ],
   "source": [
    "ds = populate_dataset(dataset, 'Input_files/')"
   ]
  },
  {
   "cell_type": "code",
   "execution_count": 24,
   "metadata": {},
   "outputs": [],
   "source": [
    "ds.visualize('torsions.pdf')"
   ]
  },
  {
   "cell_type": "code",
   "execution_count": 25,
   "metadata": {},
   "outputs": [
    {
     "data": {
      "text/plain": [
       "845"
      ]
     },
     "execution_count": 25,
     "metadata": {},
     "output_type": "execute_result"
    }
   ],
   "source": [
    "ds.n_records"
   ]
  },
  {
   "cell_type": "code",
   "execution_count": 26,
   "metadata": {},
   "outputs": [
    {
     "data": {
      "text/plain": [
       "185"
      ]
     },
     "execution_count": 26,
     "metadata": {},
     "output_type": "execute_result"
    }
   ],
   "source": [
    "ds.n_molecules"
   ]
  },
  {
   "cell_type": "code",
   "execution_count": 27,
   "metadata": {},
   "outputs": [],
   "source": [
    "ds.export_dataset('dataset.json')"
   ]
  },
  {
   "cell_type": "code",
   "execution_count": 29,
   "metadata": {},
   "outputs": [],
   "source": [
    "# compress dataset\n",
    "! bzip2 dataset.json"
   ]
  },
  {
   "cell_type": "code",
   "execution_count": 30,
   "metadata": {},
   "outputs": [],
   "source": [
    "ds.molecules_to_file('molecules.smi', 'smi')"
   ]
  },
  {
   "cell_type": "code",
   "execution_count": 31,
   "metadata": {},
   "outputs": [],
   "source": [
    "# deduplicate lines in smiles file\n",
    "! cat molecules.smi | uniq > molecules-dedup.smi\n",
    "! mv molecules-dedup.smi molecules.smi"
   ]
  },
  {
   "cell_type": "markdown",
   "metadata": {},
   "source": [
    "## Scratchpad"
   ]
  },
  {
   "cell_type": "code",
   "execution_count": 18,
   "metadata": {},
   "outputs": [],
   "source": [
    "mol = build_molecule('Input_files/GLN/VAL_GLN_GLY//')"
   ]
  },
  {
   "cell_type": "code",
   "execution_count": 19,
   "metadata": {},
   "outputs": [
    {
     "data": {
      "text/plain": [
       "[(8, 20, 22, 24)]"
      ]
     },
     "execution_count": 19,
     "metadata": {},
     "output_type": "execute_result"
    }
   ],
   "source": [
    "mol.chemical_environment_matches(omega_smarts)"
   ]
  },
  {
   "cell_type": "code",
   "execution_count": 20,
   "metadata": {},
   "outputs": [],
   "source": [
    "mol = build_molecule('Input_files/CYS/ALA_CYS_ALA/')"
   ]
  },
  {
   "cell_type": "code",
   "execution_count": 21,
   "metadata": {},
   "outputs": [
    {
     "data": {
      "image/png": "[encoded data removed]",
      "text/plain": [
       "<IPython.core.display.Image object>"
      ]
     },
     "execution_count": 21,
     "metadata": {},
     "output_type": "execute_result"
    }
   ],
   "source": [
    "mol.visualize('openeye')"
   ]
  },
  {
   "cell_type": "code",
   "execution_count": 24,
   "metadata": {},
   "outputs": [
    {
     "data": {
      "text/plain": [
       "[Atom(name=, atomic number=7),\n",
       " Atom(name=, atomic number=6),\n",
       " Atom(name=, atomic number=6),\n",
       " Atom(name=, atomic number=16)]"
      ]
     },
     "execution_count": 24,
     "metadata": {},
     "output_type": "execute_result"
    }
   ],
   "source": [
    "[mol.atoms[i] for i in mol.chemical_environment_matches(chi1_smarts)[0]]"
   ]
  },
  {
   "cell_type": "code",
   "execution_count": 25,
   "metadata": {},
   "outputs": [
    {
     "ename": "IndexError",
     "evalue": "list index out of range",
     "output_type": "error",
     "traceback": [
      "\u001b[0;31m---------------------------------------------------------------------------\u001b[0m",
      "\u001b[0;31mIndexError\u001b[0m                                Traceback (most recent call last)",
      "\u001b[0;32m<ipython-input-25-76b55020a105>\u001b[0m in \u001b[0;36m<module>\u001b[0;34m\u001b[0m\n\u001b[0;32m----> 1\u001b[0;31m \u001b[0;34m[\u001b[0m\u001b[0mmol\u001b[0m\u001b[0;34m.\u001b[0m\u001b[0matoms\u001b[0m\u001b[0;34m[\u001b[0m\u001b[0mi\u001b[0m\u001b[0;34m]\u001b[0m \u001b[0;32mfor\u001b[0m \u001b[0mi\u001b[0m \u001b[0;32min\u001b[0m \u001b[0mmol\u001b[0m\u001b[0;34m.\u001b[0m\u001b[0mchemical_environment_matches\u001b[0m\u001b[0;34m(\u001b[0m\u001b[0mchi2_smarts\u001b[0m\u001b[0;34m)\u001b[0m\u001b[0;34m[\u001b[0m\u001b[0;36m0\u001b[0m\u001b[0;34m]\u001b[0m\u001b[0;34m]\u001b[0m\u001b[0;34m\u001b[0m\u001b[0;34m\u001b[0m\u001b[0m\n\u001b[0m",
      "\u001b[0;31mIndexError\u001b[0m: list index out of range"
     ]
    }
   ],
   "source": [
    "[mol.atoms[i] for i in mol.chemical_environment_matches(chi2_smarts)[0]]"
   ]
  },
  {
   "cell_type": "code",
   "execution_count": 26,
   "metadata": {},
   "outputs": [],
   "source": [
    "mol = build_molecule('Input_files/ALA/ALA_ALA_VAL/')"
   ]
  },
  {
   "cell_type": "code",
   "execution_count": 27,
   "metadata": {},
   "outputs": [
    {
     "ename": "IndexError",
     "evalue": "list index out of range",
     "output_type": "error",
     "traceback": [
      "\u001b[0;31m---------------------------------------------------------------------------\u001b[0m",
      "\u001b[0;31mIndexError\u001b[0m                                Traceback (most recent call last)",
      "\u001b[0;32m<ipython-input-27-ed7a4afc1067>\u001b[0m in \u001b[0;36m<module>\u001b[0;34m\u001b[0m\n\u001b[0;32m----> 1\u001b[0;31m \u001b[0;34m[\u001b[0m\u001b[0mmol\u001b[0m\u001b[0;34m.\u001b[0m\u001b[0matoms\u001b[0m\u001b[0;34m[\u001b[0m\u001b[0mi\u001b[0m\u001b[0;34m]\u001b[0m \u001b[0;32mfor\u001b[0m \u001b[0mi\u001b[0m \u001b[0;32min\u001b[0m \u001b[0mmol\u001b[0m\u001b[0;34m.\u001b[0m\u001b[0mchemical_environment_matches\u001b[0m\u001b[0;34m(\u001b[0m\u001b[0mchi1_smarts\u001b[0m\u001b[0;34m)\u001b[0m\u001b[0;34m[\u001b[0m\u001b[0;36m0\u001b[0m\u001b[0;34m]\u001b[0m\u001b[0;34m]\u001b[0m\u001b[0;34m\u001b[0m\u001b[0;34m\u001b[0m\u001b[0m\n\u001b[0m",
      "\u001b[0;31mIndexError\u001b[0m: list index out of range"
     ]
    }
   ],
   "source": [
    "[mol.atoms[i] for i in mol.chemical_environment_matches(chi1_smarts)[0]]"
   ]
  },
  {
   "cell_type": "code",
   "execution_count": 28,
   "metadata": {},
   "outputs": [
    {
     "ename": "IndexError",
     "evalue": "list index out of range",
     "output_type": "error",
     "traceback": [
      "\u001b[0;31m---------------------------------------------------------------------------\u001b[0m",
      "\u001b[0;31mIndexError\u001b[0m                                Traceback (most recent call last)",
      "\u001b[0;32m<ipython-input-28-76b55020a105>\u001b[0m in \u001b[0;36m<module>\u001b[0;34m\u001b[0m\n\u001b[0;32m----> 1\u001b[0;31m \u001b[0;34m[\u001b[0m\u001b[0mmol\u001b[0m\u001b[0;34m.\u001b[0m\u001b[0matoms\u001b[0m\u001b[0;34m[\u001b[0m\u001b[0mi\u001b[0m\u001b[0;34m]\u001b[0m \u001b[0;32mfor\u001b[0m \u001b[0mi\u001b[0m \u001b[0;32min\u001b[0m \u001b[0mmol\u001b[0m\u001b[0;34m.\u001b[0m\u001b[0mchemical_environment_matches\u001b[0m\u001b[0;34m(\u001b[0m\u001b[0mchi2_smarts\u001b[0m\u001b[0;34m)\u001b[0m\u001b[0;34m[\u001b[0m\u001b[0;36m0\u001b[0m\u001b[0;34m]\u001b[0m\u001b[0;34m]\u001b[0m\u001b[0;34m\u001b[0m\u001b[0;34m\u001b[0m\u001b[0m\n\u001b[0m",
      "\u001b[0;31mIndexError\u001b[0m: list index out of range"
     ]
    }
   ],
   "source": [
    "[mol.atoms[i] for i in mol.chemical_environment_matches(chi2_smarts)[0]]"
   ]
  }
 ],
 "metadata": {
  "kernelspec": {
   "display_name": "Python 3",
   "language": "python",
   "name": "python3"
  },
  "language_info": {
   "codemirror_mode": {
    "name": "ipython",
    "version": 3
   },
   "file_extension": ".py",
   "mimetype": "text/x-python",
   "name": "python",
   "nbconvert_exporter": "python",
   "pygments_lexer": "ipython3",
   "version": "3.7.8"
  }
 },
 "nbformat": 4,
 "nbformat_minor": 4
}
