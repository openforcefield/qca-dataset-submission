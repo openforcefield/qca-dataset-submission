{
 "cells": [
  {
   "cell_type": "code",
   "execution_count": 1,
   "id": "2d76023c-2028-40b3-b316-3d912b8dee37",
   "metadata": {},
   "outputs": [],
   "source": [
    "from pathlib import Path\n",
    "\n",
    "import numpy as np\n",
    "import qcportal  # noqa avoid zstd disaster\n",
    "from openff.units import unit\n",
    "from openff.qcsubmit import workflow_components\n",
    "from openff.qcsubmit.factories import OptimizationDatasetFactory\n",
    "from openff.toolkit import ForceField, Molecule\n",
    "from tqdm import tqdm"
   ]
  },
  {
   "cell_type": "code",
   "execution_count": 2,
   "id": "630b9147-348e-4fe2-9ecf-7b074f3c8019",
   "metadata": {},
   "outputs": [],
   "source": [
    "# initialize dataset factory\n",
    "dataset_factory = OptimizationDatasetFactory()\n",
    "dataset_factory.add_workflow_components(\n",
    "    workflow_components.StandardConformerGenerator(\n",
    "        max_conformers=10, rms_cutoff=0.5\n",
    "    )\n",
    ")"
   ]
  },
  {
   "cell_type": "code",
   "execution_count": 3,
   "id": "b15b4e09-a8b9-41b7-9194-921272219287",
   "metadata": {},
   "outputs": [
    {
     "name": "stdout",
     "output_type": "stream",
     "text": [
      "70\n"
     ]
    }
   ],
   "source": [
    "# load mols\n",
    "\n",
    "smi_files = sorted(Path(\"inputs\").glob(\"*.smi\"))\n",
    "molecules = []\n",
    "for smi_file in smi_files:\n",
    "    molecules.extend(\n",
    "        Molecule.from_file(smi_file, \"SMI\", allow_undefined_stereo=True)\n",
    "    )\n",
    "\n",
    "print(len(molecules))"
   ]
  },
  {
   "cell_type": "code",
   "execution_count": 4,
   "id": "887dce91-6a99-4d09-a6f9-8d29bc82db95",
   "metadata": {},
   "outputs": [
    {
     "name": "stderr",
     "output_type": "stream",
     "text": [
      "Deduplication                 : 100%|██████████| 70/70 [00:00<00:00, 981.08it/s]\n",
      "StandardConformerGenerator    :   0%|                    | 0/70 [00:00<?, ?it/s]Warning: : Failed due to unspecified stereochemistry\n",
      "Warning: : Failed due to unspecified stereochemistry\n",
      "StandardConformerGenerator    : 100%|███████████| 70/70 [00:04<00:00, 15.98it/s]\n",
      "Preparation                   : 100%|███████████| 70/70 [00:01<00:00, 40.80it/s]\n"
     ]
    }
   ],
   "source": [
    "description = \"\"\"\\\n",
    "Molecules contributed by Cresset to address lack of data coverage for particular torsion drives.\n",
    "These molecules are contributed to address five failure cases:\n",
    "\n",
    "1) Sage 2.1 t48a is fit only to one molecule,\n",
    "where the complementary torsion contributes most of the profile\n",
    "\n",
    "2) Sage 2.1 t17 may benefit from splitting and a different shape for non-symmetric rings;\n",
    "the current n=3 shape sums to a constant\n",
    "\n",
    "3) Sage 2.1 t19 is mostly trained to terminal methyls.\n",
    "It has a functional form where the n=1 term dominates unexpectedly,\n",
    "instead of the more expected equal n=3 contributions.\n",
    "More data with non-terminal methyls is added\n",
    "\n",
    "4) Sage 2.1 t18 covers amide-adjacent torsions but is not trained to many.\n",
    "\n",
    "5) Sage 2.1 t105 covers an O linker with an sp2 or sp3 terminus.\n",
    "While the sp3 profiles match the QM well, the sp2 profiles look too stiff.\n",
    "This adds more data.\n",
    "\"\"\"\n",
    "\n",
    "dataset = dataset_factory.create_dataset(\n",
    "    dataset_name=\"OpenFF Cresset Additional Coverage Optimizations v4.0\",\n",
    "    tagline=\"Additional optimizations for treating torsions with low coverage identified by Cresset\",\n",
    "    description=description,\n",
    "    molecules=molecules,\n",
    ")"
   ]
  },
  {
   "cell_type": "code",
   "execution_count": 5,
   "id": "b2760f4c-ef28-457c-b836-40a5be0b2a22",
   "metadata": {},
   "outputs": [
    {
     "name": "stdout",
     "output_type": "stream",
     "text": [
      "# heavy atoms\n",
      "  4: 1\n",
      "  5: 1\n",
      "  6: 5\n",
      "  7: 5\n",
      "  8: 8\n",
      "  9: 13\n",
      " 10: 7\n",
      " 11: 9\n",
      " 12: 8\n",
      " 13: 6\n",
      " 14: 2\n",
      " 15: 1\n",
      " 16: 2\n",
      " 17: 1\n",
      " 19: 1\n"
     ]
    }
   ],
   "source": [
    "n_confs = np.array(\n",
    "    [mol.n_conformers for mol in dataset.molecules]\n",
    ")\n",
    "\n",
    "n_heavy_atoms = np.array(\n",
    "    [mol.to_rdkit().GetNumHeavyAtoms() for mol in dataset.molecules]\n",
    ")\n",
    "\n",
    "masses = np.array([\n",
    "    sum([atom.mass.m for atom in mol.atoms])\n",
    "    for mol in dataset.molecules\n",
    "])\n",
    "\n",
    "elements = set(\n",
    "    atom.symbol\n",
    "    for mol in dataset.molecules\n",
    "    for atom in mol.atoms\n",
    ")\n",
    "\n",
    "unique_charges = [str(charge) for charge in sorted(set([\n",
    "    mol.total_charge.m_as(unit.elementary_charge)\n",
    "    for mol in dataset.molecules\n",
    "]))]\n",
    "\n",
    "from collections import Counter\n",
    "\n",
    "print(\"# heavy atoms\")\n",
    "counts = Counter(n_heavy_atoms)\n",
    "for n_heavy in sorted(counts):\n",
    "    print(f\"{str(n_heavy):>3}: {counts[n_heavy]}\")\n"
   ]
  },
  {
   "cell_type": "code",
   "execution_count": 6,
   "id": "bbe7de3b-32e6-429a-927f-c0356639b730",
   "metadata": {},
   "outputs": [
    {
     "data": {
      "image/png": "[encoded data removed]",
      "text/plain": [
       "<Figure size 640x480 with 1 Axes>"
      ]
     },
     "metadata": {},
     "output_type": "display_data"
    }
   ],
   "source": [
    "from matplotlib import pyplot as plt\n",
    "plt.figure()\n",
    "plt.hist(masses)\n",
    "plt.show()"
   ]
  },
  {
   "cell_type": "code",
   "execution_count": 7,
   "id": "801af11f-68bb-4ae2-bf23-7acdd4b6f8ff",
   "metadata": {},
   "outputs": [
    {
     "name": "stdout",
     "output_type": "stream",
     "text": [
      "* Name: OpenFF Cresset Additional Coverage Optimizations v4.0\n",
      "* Number of unique molecules: 70\n",
      "* Number of conformers: 393\n",
      "* Number of conformers (min, mean, max): 1.00, 5.61, 10.00\n",
      "* Molecular weight (min, mean, max): 58.08, 144.98, 280.75\n",
      "* Charges: -1.0 0.0 1.0\n",
      "## Metadata\n",
      "* Elements: {O, C, F, S, H, N, Br, Cl}\n",
      "* Spec: default\n",
      "  * basis: DZVP\n",
      "  * implicit_solvent: None\n",
      "  * keywords: {}\n",
      "  * maxiter: 200\n",
      "  * method: B3LYP-D3BJ\n",
      "  * program: psi4\n",
      "  * SCF properties:\n",
      "    * dipole\n",
      "    * quadrupole\n",
      "    * wiberg_lowdin_indices\n",
      "    * mayer_indices\n"
     ]
    }
   ],
   "source": [
    "print('* Name: {}'.format(dataset.dataset_name))\n",
    "print('* Number of unique molecules: {}'.format(dataset.n_molecules))\n",
    "print('* Number of conformers: {}'.format(dataset.n_records))\n",
    "print('* Number of conformers (min, mean, max): {:.2f}, {:.2f}, {:.2f}'.format(min(n_confs),np.mean(n_confs),max(n_confs)))\n",
    "print('* Molecular weight (min, mean, max): {:.2f}, {:.2f}, {:.2f}'.format(min(masses),np.mean(masses),max(masses)))\n",
    "print('* Charges: {}'.format(' '.join(unique_charges)))\n",
    "\n",
    "print(\"## Metadata\")\n",
    "print(f\"* Elements: {{{', '.join(dataset.metadata.dict()['elements'])}}}\")\n",
    "\n",
    "def print_field(od, field): print(f\"  * {field}: {od[field]}\")\n",
    "\n",
    "fields = [\"basis\", \"implicit_solvent\", \"keywords\", \"maxiter\", \"method\", \"program\"]\n",
    "for spec, obj in dataset.qc_specifications.items():\n",
    "    od = obj.dict()\n",
    "    print(\"* Spec:\", spec)\n",
    "    for field in fields:\n",
    "        print_field(od, field)\n",
    "    print(\"  * SCF properties:\")\n",
    "    for field in od[\"scf_properties\"]:\n",
    "        print(f\"    * {field}\")"
   ]
  },
  {
   "cell_type": "code",
   "execution_count": null,
   "id": "739199ed-d54a-41d2-bf90-c3c04cd9f9ce",
   "metadata": {},
   "outputs": [],
   "source": []
  }
 ],
 "metadata": {
  "kernelspec": {
   "display_name": "Python (qcarchive-user-submit)",
   "language": "python",
   "name": "qcarchive-user-submit"
  },
  "language_info": {
   "codemirror_mode": {
    "name": "ipython",
    "version": 3
   },
   "file_extension": ".py",
   "mimetype": "text/x-python",
   "name": "python",
   "nbconvert_exporter": "python",
   "pygments_lexer": "ipython3",
   "version": "3.11.11"
  }
 },
 "nbformat": 4,
 "nbformat_minor": 5
}
