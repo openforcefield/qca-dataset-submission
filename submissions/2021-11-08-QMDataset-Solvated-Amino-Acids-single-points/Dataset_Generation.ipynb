{
 "cells": [
  {
   "cell_type": "code",
   "execution_count": 1,
   "id": "d5c62adc",
   "metadata": {},
   "outputs": [],
   "source": [
    "from openff.qcsubmit.common_structures import QCSpec, SCFProperties\n",
    "from openff.qcsubmit.factories import BasicDatasetFactory\n",
    "import numpy as np\n",
    "from qcelemental.models.results import WavefunctionProtocolEnum\n",
    "from qcportal.models.common_models import DriverEnum"
   ]
  },
  {
   "cell_type": "code",
   "execution_count": 2,
   "id": "ea9dcb6a",
   "metadata": {},
   "outputs": [],
   "source": [
    "factory = BasicDatasetFactory(driver=DriverEnum.gradient,\n",
    "                              qc_specifications={'spice_default': QCSpec(method='wb97m-d3bj', \n",
    "                                                                   basis='def2-tzvppd', \n",
    "                                                                   program='psi4', \n",
    "                                                                   spec_name='spice_default', \n",
    "                                                                   spec_description='SPICE quantum chemistry specification',\n",
    "                                                                   store_wavefunction=WavefunctionProtocolEnum.orbitals_and_eigenvalues, \n",
    "                                                                   implicit_solvent=None, \n",
    "                                                                   maxiter=200, \n",
    "                                                                   scf_properties=[SCFProperties.Dipole, SCFProperties.Quadrupole, SCFProperties.WibergLowdinIndices, \n",
    "                                                                                   SCFProperties.MayerIndices, SCFProperties.MBISCharges],\n",
    "                                                                   keywords={'wcombine': False})},\n",
    "                             store_wavefunction=WavefunctionProtocolEnum.orbitals_and_eigenvalues)"
   ]
  },
  {
   "cell_type": "code",
   "execution_count": 3,
   "id": "c8da0524",
   "metadata": {
    "scrolled": true
   },
   "outputs": [
    {
     "name": "stderr",
     "output_type": "stream",
     "text": [
      "Deduplication                 : 100%|███████████| 26/26 [00:00<00:00, 34.61it/s]\n",
      "Preparation                   : 100%|███████████| 26/26 [00:55<00:00,  2.13s/it]\n"
     ]
    }
   ],
   "source": [
    "# mock a dataset with dummy information for now\n",
    "dataset = factory.create_dataset(dataset_name=\"SPICE Solvated Amino Acids Single Points Dataset v1.1\", molecules=\"solvated-amino-acids.hdf5\", tagline=\"QM dataset for ML\", description=\"Data source: https://github.com/openmm/qmdataset/tree/main/solvated-amino-acids\")"
   ]
  },
  {
   "cell_type": "code",
   "execution_count": 4,
   "id": "f3ad84f1",
   "metadata": {},
   "outputs": [
    {
     "name": "stdout",
     "output_type": "stream",
     "text": [
      "Number of unique molecules        26\n",
      "Number of filtered molecules      0\n",
      "Number of conformers              1300\n",
      "Number of conformers min mean max 50  50.00 50\n",
      "Charges: [-1.0, 0.0, 1.0]\n"
     ]
    }
   ],
   "source": [
    "confs = np.array([len(mol.conformers) for mol in dataset.molecules])\n",
    "\n",
    "print(\"Number of unique molecules       \", dataset.n_molecules)\n",
    "print(\"Number of filtered molecules     \", dataset.n_filtered)\n",
    "print(\"Number of conformers             \", dataset.n_records)\n",
    "print(\"Number of conformers min mean max\",\n",
    "      confs.min(), \"{:6.2f}\".format(confs.mean()), confs.max())\n",
    "\n",
    "print(\"Charges:\", sorted(set(m.total_charge/m.total_charge.unit for m in dataset.molecules)))"
   ]
  },
  {
   "cell_type": "code",
   "execution_count": 5,
   "id": "4af76f35",
   "metadata": {},
   "outputs": [],
   "source": [
    "dataset.visualize(\"solvated-amino-acids.pdf\")"
   ]
  },
  {
   "cell_type": "code",
   "execution_count": 6,
   "id": "0b31401e",
   "metadata": {},
   "outputs": [],
   "source": [
    "dataset.molecules_to_file(\"solvated-amino-acids.smi\", \"smi\")"
   ]
  },
  {
   "cell_type": "code",
   "execution_count": 7,
   "id": "815c14a0",
   "metadata": {},
   "outputs": [],
   "source": [
    "dataset.metadata.submitter = 'Josh Horton, Pavan Behara, David Dotson'"
   ]
  },
  {
   "cell_type": "code",
   "execution_count": 8,
   "id": "175e4dd9",
   "metadata": {},
   "outputs": [],
   "source": [
    "dataset.metadata.long_description_url = 'https://github.com/openforcefield/qca-dataset-submission/tree/master/submissions/2021-11-08-QMDataset-Solvated-Amino-Acids-single-points'"
   ]
  },
  {
   "cell_type": "code",
   "execution_count": 9,
   "id": "fb5eb6b5",
   "metadata": {},
   "outputs": [
    {
     "data": {
      "text/plain": [
       "Metadata(submitter='Josh Horton, Pavan Behara, David Dotson', creation_date=datetime.date(2021, 12, 10), collection_type='DataSet', dataset_name='SPICE Solvated Amino Acids Single Points Dataset v1.1', short_description='QM dataset for ML', long_description_url=HttpUrl('https://github.com/openforcefield/qca-dataset-submission/tree/master/submissions/2021-11-08-QMDataset-Solvated-Amino-Acids-single-points', scheme='https', host='github.com', tld='com', host_type='domain', path='/openforcefield/qca-dataset-submission/tree/master/submissions/2021-11-08-QMDataset-Solvated-Amino-Acids-single-points'), long_description='Data source: https://github.com/openmm/qmdataset/tree/main/solvated-amino-acids', elements={'C', 'O', 'S', 'N', 'H'})"
      ]
     },
     "execution_count": 9,
     "metadata": {},
     "output_type": "execute_result"
    }
   ],
   "source": [
    "dataset.metadata"
   ]
  },
  {
   "cell_type": "code",
   "execution_count": 10,
   "id": "94c6c3ed",
   "metadata": {},
   "outputs": [],
   "source": [
    "dataset.export_dataset(\"dataset.json.bz2\")"
   ]
  },
  {
   "cell_type": "code",
   "execution_count": null,
   "id": "690d56e1",
   "metadata": {},
   "outputs": [],
   "source": []
  }
 ],
 "metadata": {
  "kernelspec": {
   "display_name": "Python 3 (ipykernel)",
   "language": "python",
   "name": "python3"
  },
  "language_info": {
   "codemirror_mode": {
    "name": "ipython",
    "version": 3
   },
   "file_extension": ".py",
   "mimetype": "text/x-python",
   "name": "python",
   "nbconvert_exporter": "python",
   "pygments_lexer": "ipython3",
   "version": "3.7.10"
  }
 },
 "nbformat": 4,
 "nbformat_minor": 5
}
