{
 "cells": [
  {
   "cell_type": "markdown",
   "metadata": {},
   "source": [
    "This dataset is a consolidation of the theory benchmark torsiondrive datasets. Here we reuse a submitted dataset JSON to preserve the exact inputs and trigger task deduplication at the archive level but we combine multiple existing and new QC specifications."
   ]
  },
  {
   "cell_type": "code",
   "execution_count": 57,
   "metadata": {},
   "outputs": [],
   "source": [
    "import os, json, tqdm\n",
    "from qcsubmit.factories import TorsiondriveDatasetFactory\n",
    "from qcsubmit.datasets import TorsiondriveDataset\n",
    "from qcsubmit.datasets import load_dataset\n",
    "from qcsubmit import workflow_components \n",
    "from qcsubmit.common_structures import TorsionIndexer \n",
    "from openforcefield.topology import Molecule as OFFMolecule"
   ]
  },
  {
   "cell_type": "code",
   "execution_count": 58,
   "metadata": {},
   "outputs": [],
   "source": [
    "factory = TorsiondriveDatasetFactory()\n",
    "factory.scf_properties = ['dipole', 'quadrupole', 'wiberg_lowdin_indices', 'mayer_indices']\n",
    "conformer_generator = workflow_components.StandardConformerGenerator(max_conformers=5)\n",
    "# want to remove methyl group rotations if qcsubmit support the feature.\n",
    "factory.add_workflow_component(conformer_generator)"
   ]
  },
  {
   "cell_type": "code",
   "execution_count": 59,
   "metadata": {},
   "outputs": [],
   "source": [
    "# now write the settings out\n",
    "factory.export_settings(\"theory-bm-set_settings.yaml\")"
   ]
  },
  {
   "cell_type": "code",
   "execution_count": 60,
   "metadata": {},
   "outputs": [
    {
     "name": "stderr",
     "output_type": "stream",
     "text": [
      "Deduplication                 : 100%|███████████| 9/9 [00:00<00:00, 1075.52it/s]\n",
      "/Users/joshua/Documents/Software/qcsubmit/qcsubmit/validators.py:301: UserWarning: The molecule C12H10NO2S has a net charge of -1.0.\n",
      "  UserWarning,\n",
      "/Users/joshua/Documents/Software/qcsubmit/qcsubmit/validators.py:301: UserWarning: The molecule C8H6N3O has a net charge of -1.0.\n",
      "  UserWarning,\n",
      "/Users/joshua/Documents/Software/qcsubmit/qcsubmit/validators.py:301: UserWarning: The molecule C9H10N3 has a net charge of 1.0.\n",
      "  UserWarning,\n",
      "/Users/joshua/Documents/Software/qcsubmit/qcsubmit/validators.py:301: UserWarning: The molecule C12H12N has a net charge of 1.0.\n",
      "  UserWarning,\n",
      "/Users/joshua/Documents/Software/qcsubmit/qcsubmit/validators.py:301: UserWarning: The molecule C7H8NOS has a net charge of -1.0.\n",
      "  UserWarning,\n",
      "/Users/joshua/Documents/Software/qcsubmit/qcsubmit/validators.py:301: UserWarning: The molecule C11H17N2 has a net charge of 1.0.\n",
      "  UserWarning,\n",
      "/Users/joshua/Documents/Software/qcsubmit/qcsubmit/validators.py:301: UserWarning: The molecule C8H8NO2 has a net charge of -1.0.\n",
      "  UserWarning,\n"
     ]
    },
    {
     "name": "stdout",
     "output_type": "stream",
     "text": [
      "spec_name: B3LYP-D3BJ/DEF2-TZVP , spec_description: A torsiondrive dataset for benchmarking B3LYP-D3BJ/DEF2-TZVP \n",
      "spec_name: B3LYP-D3BJ/DEF2-TZVPD , spec_description: A torsiondrive dataset for benchmarking B3LYP-D3BJ/DEF2-TZVPD \n",
      "spec_name: B3LYP-D3BJ/DEF2-TZVPP , spec_description: A torsiondrive dataset for benchmarking B3LYP-D3BJ/DEF2-TZVPP \n",
      "spec_name: B3LYP-D3BJ/DEF2-TZVPPD , spec_description: A torsiondrive dataset for benchmarking B3LYP-D3BJ/DEF2-TZVPPD \n",
      "spec_name: B3LYP-D3BJ/DEF2-QZVP , spec_description: A torsiondrive dataset for benchmarking B3LYP-D3BJ/DEF2-QZVP \n",
      "spec_name: B3LYP-D3BJ/6-31+G** , spec_description: A torsiondrive dataset for benchmarking B3LYP-D3BJ/6-31+G** \n",
      "spec_name: B3LYP-D3BJ/6-311+G** , spec_description: A torsiondrive dataset for benchmarking B3LYP-D3BJ/6-311+G** \n"
     ]
    },
    {
     "name": "stderr",
     "output_type": "stream",
     "text": [
      "/Users/joshua/Documents/Software/qcsubmit/qcsubmit/validators.py:301: UserWarning: The molecule C13H12N3O has a net charge of -1.0.\n",
      "  UserWarning,\n"
     ]
    }
   ],
   "source": [
    "# now create the dataset from the selected_mol2s, containing mol2 files of additional charged molecules\n",
    "dataset = factory.create_dataset(\n",
    "    dataset_name=\"OpenFF Theory Benchmarking Set v1.0\",\n",
    "    molecules='selected_mol2s',\n",
    "    description=\"A torsiondrive dataset for theory benchmarking\",\n",
    "    tagline=\"Torsiondrives for theory benchmarking\",\n",
    "    verbose=False)\n",
    "\n",
    "\n",
    "basis_sets = ['def2-tzvp', 'def2-tzvpd', 'def2-tzvpp', 'def2-tzvppd', 'def2-qzvp', '6-31+g**', '6-311+g**']\n",
    "for basis in basis_sets: \n",
    "    spec_name = \"B3LYP-D3BJ/%s\" % basis.upper()\n",
    "    spec_description = \"A torsiondrive dataset for benchmarking B3LYP-D3BJ/%s \" % basis.upper()\n",
    "    print(f'spec_name: {spec_name}, spec_description: {spec_description}')\n",
    "    dataset.add_qc_spec(method=\"B3LYP-D3BJ\",\n",
    "                        basis=basis,\n",
    "                        program=\"psi4\", \n",
    "                        spec_name=spec_name,\n",
    "                        spec_description=spec_description)      "
   ]
  },
  {
   "cell_type": "code",
   "execution_count": 61,
   "metadata": {},
   "outputs": [
    {
     "name": "stdout",
     "output_type": "stream",
     "text": [
      "Number of additional charged molecules: 9\n",
      "Number of torsions generated from the additional set: 23\n"
     ]
    }
   ],
   "source": [
    "print(f'Number of additional charged molecules: {dataset.n_molecules}')\n",
    "print(f'Number of torsions generated from the additional set: {dataset.n_records}')"
   ]
  },
  {
   "cell_type": "code",
   "execution_count": 62,
   "metadata": {},
   "outputs": [
    {
     "name": "stderr",
     "output_type": "stream",
     "text": [
      "/Users/joshua/Documents/Software/qcsubmit/qcsubmit/validators.py:301: UserWarning: The molecule C12H18N has a net charge of 1.0.\n",
      "  UserWarning,\n",
      "/Users/joshua/Documents/Software/qcsubmit/qcsubmit/validators.py:301: UserWarning: The molecule C7H5N4 has a net charge of -1.0.\n",
      "  UserWarning,\n",
      "/Users/joshua/Documents/Software/qcsubmit/qcsubmit/validators.py:301: UserWarning: The molecule C10H16N3O has a net charge of 1.0.\n",
      "  UserWarning,\n",
      "/Users/joshua/Documents/Software/qcsubmit/qcsubmit/validators.py:301: UserWarning: The molecule C7H16N has a net charge of 1.0.\n",
      "  UserWarning,\n",
      "/Users/joshua/Documents/Software/qcsubmit/qcsubmit/validators.py:301: UserWarning: The molecule C10H15N2 has a net charge of 1.0.\n",
      "  UserWarning,\n"
     ]
    }
   ],
   "source": [
    "# load the past dataset\n",
    "first_dataset = load_dataset(\"dataset 2.json\")"
   ]
  },
  {
   "cell_type": "code",
   "execution_count": 63,
   "metadata": {},
   "outputs": [
    {
     "data": {
      "text/plain": [
       "{'qc_specifications': {'default': {'method': 'B3LYP-D3BJ',\n",
       "   'basis': 'DZVP',\n",
       "   'program': 'psi4',\n",
       "   'spec_name': 'default',\n",
       "   'spec_description': 'Standard OpenFF optimization quantum chemistry specification.',\n",
       "   'store_wavefunction': 'none',\n",
       "   'implicit_solvent': None}},\n",
       " 'dataset_name': 'OpenFF Theory Benchmarking Set B3LYP-D3BJ def2-TZVP v1.0',\n",
       " 'dataset_tagline': 'Torsiondrives for benchmarking B3LYP-D3BJ/def2-TZVP',\n",
       " 'dataset_type': 'TorsiondriveDataset',\n",
       " 'maxiter': 200,\n",
       " 'driver': <DriverEnum.gradient: 'gradient'>,\n",
       " 'scf_properties': ['dipole',\n",
       "  'quadrupole',\n",
       "  'wiberg_lowdin_indices',\n",
       "  'mayer_indices'],\n",
       " 'priority': 'normal',\n",
       " 'description': 'A torsiondrive dataset for benchmarking B3LYP-D3BJ/def2-TZVP',\n",
       " 'dataset_tags': ['openff'],\n",
       " 'compute_tag': 'openff',\n",
       " 'metadata': {'submitter': 'hyesu',\n",
       "  'creation_date': datetime.date(2020, 7, 30),\n",
       "  'collection_type': 'TorsiondriveDataset',\n",
       "  'dataset_name': 'OpenFF Theory Benchmarking Set B3LYP-D3BJ def2-TZVP v1.0',\n",
       "  'short_description': 'Torsiondrives for benchmarking B3LYP-D3BJ/def2-TZVP',\n",
       "  'long_description_url': HttpUrl('https://github.com/openforcefield/qca-dataset-submission/tree/master/submissions/2020-07-30-theory-bm-set-b3lyp-d3bj-def2-tzvp', scheme='https', host='github.com', tld='com', host_type='domain', path='/openforcefield/qca-dataset-submission/tree/master/submissions/2020-07-30-theory-bm-set-b3lyp-d3bj-def2-tzvp'),\n",
       "  'long_description': 'A torsiondrive dataset for benchmarking B3LYP-D3BJ/def2-TZVP',\n",
       "  'elements': {'C', 'Cl', 'F', 'H', 'N', 'O', 'P', 'S'}},\n",
       " 'provenance': {'qcsubmit': '0+untagged.119.gac29b70',\n",
       "  'openforcefield': '0.7.0'},\n",
       " 'filtered_molecules': {'LinearTorsionRemoval': {'component_name': 'LinearTorsionRemoval',\n",
       "   'component_description': {'component_description': 'Remove any molecules with a linear torsions selected to drive.'},\n",
       "   'component_provenance': {'qcsubmit': '0+untagged.119.gac29b70',\n",
       "    'openforcefield': '0.7.0'},\n",
       "   'molecules': []},\n",
       "  'UnconnectedTorsionRemoval': {'component_name': 'UnconnectedTorsionRemoval',\n",
       "   'component_description': {'component_description': 'Remove any molecules with unconnected torsion indices highlighted to drive.'},\n",
       "   'component_provenance': {'qcsubmit': '0+untagged.119.gac29b70',\n",
       "    'openforcefield': '0.7.0'},\n",
       "   'molecules': []}},\n",
       " 'optimization_procedure': {'program': 'geometric',\n",
       "  'coordsys': 'tric',\n",
       "  'enforce': 0.1,\n",
       "  'epsilon': 0.0,\n",
       "  'reset': True,\n",
       "  'qccnv': True,\n",
       "  'molcnv': False,\n",
       "  'check': 0,\n",
       "  'trust': 0.1,\n",
       "  'tmax': 0.3,\n",
       "  'maxiter': 300,\n",
       "  'convergence_set': 'GAU',\n",
       "  'constraints': {}},\n",
       " 'grid_spacing': [15],\n",
       " 'energy_upper_limit': 0.05,\n",
       " 'dihedral_ranges': None,\n",
       " 'energy_decrease_thresh': None}"
      ]
     },
     "execution_count": 63,
     "metadata": {},
     "output_type": "execute_result"
    }
   ],
   "source": [
    "# check the details of the dataset\n",
    "first_dataset.dict(exclude={\"dataset\"})"
   ]
  },
  {
   "cell_type": "code",
   "execution_count": 64,
   "metadata": {},
   "outputs": [],
   "source": [
    "# add the first dataset into the extended one\n",
    "all_data = dataset + first_dataset"
   ]
  },
  {
   "cell_type": "code",
   "execution_count": 65,
   "metadata": {},
   "outputs": [
    {
     "name": "stdout",
     "output_type": "stream",
     "text": [
      "Number of total molecules: 40\n",
      "Number of total 1-D torsions: 59\n"
     ]
    }
   ],
   "source": [
    "print(f'Number of total molecules: {all_data.n_molecules}')\n",
    "print(f'Number of total 1-D torsions: {all_data.n_records}')"
   ]
  },
  {
   "cell_type": "code",
   "execution_count": 66,
   "metadata": {},
   "outputs": [
    {
     "name": "stdout",
     "output_type": "stream",
     "text": [
      "Mean molecular weight: 168.00\n",
      "Max molecular weight: 233.29\n"
     ]
    }
   ],
   "source": [
    "from openeye import oechem\n",
    "import numpy as np\n",
    "masses = []\n",
    "for molecule in all_data.molecules: \n",
    "    oemol = molecule.to_openeye()\n",
    "    mass = oechem.OECalculateMolecularWeight(oemol)\n",
    "    masses.append(mass)\n",
    "print(f'Mean molecular weight: {np.mean(np.array(masses)):.2f}')\n",
    "print(f'Max molecular weight: {np.amax(np.array(masses)):.2f}')"
   ]
  },
  {
   "cell_type": "code",
   "execution_count": 67,
   "metadata": {},
   "outputs": [
    {
     "data": {
      "text/plain": [
       "{'C', 'Cl', 'F', 'H', 'N', 'O', 'P', 'S'}"
      ]
     },
     "execution_count": 67,
     "metadata": {},
     "output_type": "execute_result"
    }
   ],
   "source": [
    "all_data.metadata.elements"
   ]
  },
  {
   "cell_type": "code",
   "execution_count": 68,
   "metadata": {},
   "outputs": [],
   "source": [
    "all_data.metadata.long_description_url = \"https://github.com/openforcefield/qca-dataset-submission/tree/master/submissions/2020-12-18-OpenFF-Theory-Benchmarking-Set-v1.0\"\n",
    "all_data.metadata.submitter = 'hyejang'"
   ]
  },
  {
   "cell_type": "code",
   "execution_count": 69,
   "metadata": {},
   "outputs": [],
   "source": [
    "# export the dataset\n",
    "all_data.export_dataset(\"dataset.json.bz2\")"
   ]
  },
  {
   "cell_type": "code",
   "execution_count": 70,
   "metadata": {},
   "outputs": [],
   "source": [
    "all_data.molecules_to_file(\"theory-bm-set-extended.smi\", \"smi\")"
   ]
  },
  {
   "cell_type": "code",
   "execution_count": 71,
   "metadata": {},
   "outputs": [],
   "source": [
    "# export the molecules to pdf with torsions highlighted\n",
    "all_data.visualize(\"theory-bm-set-extended.pdf\", toolkit='openeye')"
   ]
  },
  {
   "cell_type": "code",
   "execution_count": null,
   "metadata": {},
   "outputs": [],
   "source": []
  }
 ],
 "metadata": {
  "kernelspec": {
   "display_name": "Python 3",
   "language": "python",
   "name": "python3"
  },
  "language_info": {
   "codemirror_mode": {
    "name": "ipython",
    "version": 3
   },
   "file_extension": ".py",
   "mimetype": "text/x-python",
   "name": "python",
   "nbconvert_exporter": "python",
   "pygments_lexer": "ipython3",
   "version": "3.7.8"
  }
 },
 "nbformat": 4,
 "nbformat_minor": 2
}
