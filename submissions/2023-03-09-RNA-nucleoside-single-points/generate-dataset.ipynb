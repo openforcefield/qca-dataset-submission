{
 "cells": [
  {
   "cell_type": "code",
   "execution_count": 1,
   "metadata": {
    "tags": []
   },
   "outputs": [],
   "source": [
    "import numpy as np\n",
    "import gzip\n",
    "from rdkit import Chem\n",
    "from pprint import pprint\n",
    "from openff.qcsubmit.common_structures import QCSpec, DriverEnum, SCFProperties\n",
    "from openff.qcsubmit.factories import BasicDatasetFactory\n",
    "from openff.toolkit.topology import Molecule, Topology\n",
    "from tqdm import tqdm"
   ]
  },
  {
   "cell_type": "code",
   "execution_count": 2,
   "metadata": {
    "tags": []
   },
   "outputs": [
    {
     "data": {
      "text/plain": [
       "{'date': '2023-02-27T12:08:52-0800',\n",
       " 'dirty': False,\n",
       " 'error': None,\n",
       " 'full-revisionid': 'e05c876611e40067575bda9c8c47022570e3c508',\n",
       " 'version': '0.12.1'}"
      ]
     },
     "execution_count": 2,
     "metadata": {},
     "output_type": "execute_result"
    }
   ],
   "source": [
    "# check version\n",
    "from openff.toolkit._version import get_versions\n",
    "get_versions()"
   ]
  },
  {
   "cell_type": "markdown",
   "metadata": {},
   "source": [
    "### Load file"
   ]
  },
  {
   "cell_type": "code",
   "execution_count": 4,
   "metadata": {
    "tags": []
   },
   "outputs": [
    {
     "name": "stdout",
     "output_type": "stream",
     "text": [
      "#2393 conformers loaded from a\n",
      "#2382 conformers loaded from c\n",
      "#2392 conformers loaded from g\n",
      "#2388 conformers loaded from u\n",
      "-----\n",
      "total of #9555 conformers loaded\n"
     ]
    }
   ],
   "source": [
    "names = ['a', 'c', 'g', 'u']\n",
    "for i, name in enumerate(names):\n",
    "    inf = gzip.open(f'./sdf/torsion_scan_{name}_filtered.sdf.gz')\n",
    "    with Chem.ForwardSDMolSupplier(inf, removeHs=False) as gzsuppl:\n",
    "        rdmols = [x for x in gzsuppl if x is not None]\n",
    "    print(f'#{len(rdmols)} conformers loaded from {name}')\n",
    "    \n",
    "    if i == 0:\n",
    "        offmols = [ Molecule.from_rdkit(rdmol) for rdmol in rdmols ]\n",
    "    else:\n",
    "        offmols += [ Molecule.from_rdkit(rdmol) for rdmol in rdmols ]\n",
    "print('-----')\n",
    "print(f'total of #{len(offmols)} conformers loaded')"
   ]
  },
  {
   "cell_type": "code",
   "execution_count": 5,
   "metadata": {
    "tags": []
   },
   "outputs": [
    {
     "name": "stdout",
     "output_type": "stream",
     "text": [
      "4 unique molecule(s) loaded, with 9555 total conformers\n"
     ]
    }
   ],
   "source": [
    "# Collatate all conformers of the same molecule\n",
    "# https://github.com/openforcefield/openff-toolkit/blob/de8a4a545351301adfe424dff0d879b2dd13bc0b/examples/conformer_energies/conformer_energies.ipynb\n",
    "molecules = [offmols[0]]\n",
    "for i, molecule in enumerate(offmols[1:]):\n",
    "    # add conformer to existing molecule\n",
    "    if molecule == molecules[-1]:\n",
    "        for conformer in molecule.conformers:\n",
    "            molecules[-1].add_conformer(conformer)\n",
    "    else:\n",
    "        # add new molecule\n",
    "        molecules.append(molecule)\n",
    "n_molecules = len(molecules)\n",
    "n_conformers = sum([mol.n_conformers for mol in molecules])\n",
    "print(f'{n_molecules} unique molecule(s) loaded, with {n_conformers} total conformers')"
   ]
  },
  {
   "cell_type": "markdown",
   "metadata": {},
   "source": [
    "### Data preparation"
   ]
  },
  {
   "cell_type": "code",
   "execution_count": 6,
   "metadata": {},
   "outputs": [],
   "source": [
    "factory = BasicDatasetFactory(\n",
    "        driver=DriverEnum.gradient, \n",
    "        qc_specifications = {\n",
    "            'default': QCSpec(\n",
    "                method='b3lyp-d3bj', \n",
    "                basis='dzvp', \n",
    "                program='psi4', \n",
    "                spec_name='default', \n",
    "                spec_description='Standard OpenFF optimization quantum chemistry specification', \n",
    "                store_wavefunction=\"none\", \n",
    "                implicit_solvent=None, \n",
    "                maxiter=200, \n",
    "                scf_properties=[SCFProperties.Dipole, SCFProperties.Quadrupole], \n",
    "        ), \n",
    "    }\n",
    ")"
   ]
  },
  {
   "cell_type": "code",
   "execution_count": 7,
   "metadata": {
    "tags": []
   },
   "outputs": [
    {
     "name": "stderr",
     "output_type": "stream",
     "text": [
      "Deduplication                 : 100%|█████████████| 4/4 [00:08<00:00,  2.21s/it]\n",
      "Preparation                   : 100%|█████████████| 4/4 [02:12<00:00, 33.13s/it]\n"
     ]
    }
   ],
   "source": [
    "dataset = factory.create_dataset(dataset_name=\"RNA Nucleoside Single Point Dataset v1.0\", \n",
    "                                 molecules=molecules, \n",
    "                                 tagline=\"QM dataset for ML\", \n",
    "                                 description=\"This is a single point energy calculations of RNA nucleosides without O5' hydroxyl atom generated from 500K implicit solvent MD and chi torsion scanning. Data generation details can be found at https://github.com/choderalab/create-rna-nucleoside-dataset.\")"
   ]
  },
  {
   "cell_type": "code",
   "execution_count": 8,
   "metadata": {
    "tags": []
   },
   "outputs": [
    {
     "name": "stdout",
     "output_type": "stream",
     "text": [
      "Number of unique molecules        4\n",
      "Number of filtered molecules      0\n",
      "Number of conformers              9555\n",
      "Number of conformers min mean max 2382 2388.75 2393\n",
      "Mean molecular weight: 243.48\n",
      "Max molecular weight: 267.25\n",
      "Charges: [0.0]\n"
     ]
    }
   ],
   "source": [
    "confs = np.array([len(mol.conformers) for mol in dataset.molecules])\n",
    "\n",
    "print(\"Number of unique molecules       \", dataset.n_molecules)\n",
    "print(\"Number of filtered molecules     \", dataset.n_filtered)\n",
    "print(\"Number of conformers             \", dataset.n_records)\n",
    "print(\"Number of conformers min mean max\", confs.min(), \"{:6.2f}\".format(confs.mean()), confs.max())\n",
    "\n",
    "\n",
    "from rdkit.Chem import Descriptors\n",
    "masses = []\n",
    "for molecule in dataset.molecules:\n",
    "    rdmol = molecule.to_rdkit()\n",
    "    mass = Descriptors.MolWt(rdmol)\n",
    "    masses.append(mass)\n",
    "\n",
    "print(f'Mean molecular weight: {np.mean(np.array(masses)):.2f}')\n",
    "print(f'Max molecular weight: {np.max(np.array(masses)):.2f}')\n",
    "print(\"Charges:\", sorted(set(float(m.total_charge/m.total_charge.units) for m in dataset.molecules)))"
   ]
  },
  {
   "cell_type": "code",
   "execution_count": 9,
   "metadata": {
    "tags": []
   },
   "outputs": [],
   "source": [
    "dataset.metadata.submitter = 'Kenichiro Takaba'\n",
    "dataset.metadata.long_description_url = 'https://github.com/choderalab/create-rna-nucleoside-dataset'"
   ]
  },
  {
   "cell_type": "code",
   "execution_count": 10,
   "metadata": {
    "tags": []
   },
   "outputs": [
    {
     "name": "stdout",
     "output_type": "stream",
     "text": [
      "{'collection_type': 'DataSet',\n",
      " 'creation_date': datetime.date(2023, 3, 9),\n",
      " 'dataset_name': 'RNA Nucleoside Single Point Dataset v1.0',\n",
      " 'elements': {'H', 'N', 'O', 'C'},\n",
      " 'long_description': 'This is a single point energy calculations of RNA '\n",
      "                     \"nucleosides without O5' hydroxyl atom generated from \"\n",
      "                     '500K implicit solvent MD and chi torsion scanning. Data '\n",
      "                     'generation details can be found at '\n",
      "                     'https://github.com/choderalab/create-rna-nucleoside-dataset.',\n",
      " 'long_description_url': HttpUrl('https://github.com/choderalab/create-rna-nucleoside-dataset', ),\n",
      " 'short_description': 'QM dataset for ML',\n",
      " 'submitter': 'Kenichiro Takaba'}\n"
     ]
    }
   ],
   "source": [
    "pprint(dataset.metadata.dict())"
   ]
  },
  {
   "cell_type": "code",
   "execution_count": 11,
   "metadata": {
    "tags": []
   },
   "outputs": [
    {
     "name": "stdout",
     "output_type": "stream",
     "text": [
      "Spec: default\n",
      "{'basis': 'dzvp',\n",
      " 'implicit_solvent': None,\n",
      " 'keywords': None,\n",
      " 'maxiter': 200,\n",
      " 'method': 'b3lyp-d3bj',\n",
      " 'program': 'psi4',\n",
      " 'scf_properties': ['dipole', 'quadrupole'],\n",
      " 'spec_description': 'Standard OpenFF optimization quantum chemistry '\n",
      "                     'specification',\n",
      " 'spec_name': 'default',\n",
      " 'store_wavefunction': 'none'}\n"
     ]
    }
   ],
   "source": [
    "for spec, obj in dataset.qc_specifications.items():\n",
    "    print(\"Spec:\", spec)\n",
    "    pprint(obj.dict())"
   ]
  },
  {
   "cell_type": "code",
   "execution_count": 12,
   "metadata": {
    "tags": []
   },
   "outputs": [
    {
     "name": "stdout",
     "output_type": "stream",
     "text": [
      "{'default': QCSpec(method='b3lyp-d3bj', basis='dzvp', program='psi4', spec_name='default', spec_description='Standard OpenFF optimization quantum chemistry specification', store_wavefunction=<WavefunctionProtocolEnum.none: 'none'>, implicit_solvent=None, maxiter=200, scf_properties=[<SCFProperties.Dipole: 'dipole'>, <SCFProperties.Quadrupole: 'quadrupole'>], keywords=None)}\n"
     ]
    }
   ],
   "source": [
    "pprint(dataset.qc_specifications)"
   ]
  },
  {
   "cell_type": "markdown",
   "metadata": {
    "pycharm": {
     "name": "#%% md\n"
    }
   },
   "source": [
    "#### Export the dataset"
   ]
  },
  {
   "cell_type": "code",
   "execution_count": 13,
   "metadata": {
    "pycharm": {
     "name": "#%%\n"
    },
    "tags": []
   },
   "outputs": [],
   "source": [
    "dataset.export_dataset(\"dataset.json.bz2\")\n",
    "dataset.molecules_to_file(\"dataset.smi\", \"smi\")"
   ]
  },
  {
   "cell_type": "code",
   "execution_count": 14,
   "metadata": {
    "tags": []
   },
   "outputs": [],
   "source": [
    "try:\n",
    "    dataset.visualize('dataset.pdf')\n",
    "except:\n",
    "    from rdkit.Chem import Draw, AllChem\n",
    "    #from rdkit.Chem.Draw import IPythonConsole\n",
    "    #IPythonConsole.molSize = 300,300\n",
    "\n",
    "    rdmols = [ mol.to_rdkit() for mol in molecules ]\n",
    "    # convert 3D to 2D\n",
    "    _ = [ AllChem.Compute2DCoords(rdmol) for rdmol in rdmols ] \n",
    "    img = Draw.MolsToGridImage(rdmols, molsPerRow=5, subImgSize=(500,500), returnPNG=False, maxMols=99999)\n",
    "    img = img.convert('RGB')\n",
    "    img.save(\"dataset.pdf\")"
   ]
  },
  {
   "cell_type": "code",
   "execution_count": null,
   "metadata": {},
   "outputs": [],
   "source": []
  }
 ],
 "metadata": {
  "kernelspec": {
   "display_name": "Python 3 (ipykernel)",
   "language": "python",
   "name": "python3"
  },
  "language_info": {
   "codemirror_mode": {
    "name": "ipython",
    "version": 3
   },
   "file_extension": ".py",
   "mimetype": "text/x-python",
   "name": "python",
   "nbconvert_exporter": "python",
   "pygments_lexer": "ipython3",
   "version": "3.9.16"
  }
 },
 "nbformat": 4,
 "nbformat_minor": 4
}
