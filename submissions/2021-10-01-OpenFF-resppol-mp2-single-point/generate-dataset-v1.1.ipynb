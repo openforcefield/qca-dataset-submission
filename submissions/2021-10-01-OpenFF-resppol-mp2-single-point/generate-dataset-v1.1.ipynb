{
 "cells": [
  {
   "cell_type": "code",
   "execution_count": 1,
   "metadata": {},
   "outputs": [
    {
     "name": "stderr",
     "output_type": "stream",
     "text": [
      "Warning: importing 'simtk.openmm' is deprecated.  Import 'openmm' instead.\n",
      "Warning: Unable to load toolkit 'AmberTools'. \n"
     ]
    }
   ],
   "source": [
    "import logging\n",
    "import warnings\n",
    "from pprint import pprint\n",
    "\n",
    "import numpy as np\n",
    "from openeye import oechem\n",
    "from openff.qcsubmit.common_structures import QCSpec, PCMSettings\n",
    "from openff.qcsubmit.factories import OptimizationDatasetFactory\n",
    "from openff.qcsubmit.workflow_components import StandardConformerGenerator\n",
    "from openff.toolkit.topology import Molecule\n",
    "from qcelemental.models.results import WavefunctionProtocolEnum\n",
    "from tqdm import tqdm"
   ]
  },
  {
   "cell_type": "code",
   "execution_count": 2,
   "metadata": {},
   "outputs": [],
   "source": [
    "from openff.toolkit.utils import GLOBAL_TOOLKIT_REGISTRY, OpenEyeToolkitWrapper\n",
    "GLOBAL_TOOLKIT_REGISTRY.deregister_toolkit(OpenEyeToolkitWrapper)"
   ]
  },
  {
   "cell_type": "code",
   "execution_count": 3,
   "metadata": {},
   "outputs": [],
   "source": [
    "# Warnings that tell us we have undefined stereo and charged molecules\n",
    "logging.getLogger(\"openff.toolkit\").setLevel(logging.ERROR)\n",
    "warnings.simplefilter(\"ignore\")"
   ]
  },
  {
   "cell_type": "markdown",
   "metadata": {},
   "source": [
    "# Dataset Preperation"
   ]
  },
  {
   "cell_type": "markdown",
   "metadata": {},
   "source": [
    "Load in the SMILES patterns of the molecules to include:"
   ]
  },
  {
   "cell_type": "code",
   "execution_count": 4,
   "metadata": {},
   "outputs": [],
   "source": [
    "with open(\"molecules.smi\") as file:\n",
    "    smiles_patterns = file.read().split(\"\\n\")\n",
    "    smiles_patterns = [pattern for pattern in smiles_patterns if len(pattern) > 0]"
   ]
  },
  {
   "cell_type": "markdown",
   "metadata": {
    "pycharm": {
     "name": "#%% md\n"
    }
   },
   "source": [
    "Load in the molecules to be optimized:"
   ]
  },
  {
   "cell_type": "code",
   "execution_count": 5,
   "metadata": {},
   "outputs": [
    {
     "name": "stderr",
     "output_type": "stream",
     "text": [
      " ... (more hidden) ..."
     ]
    },
    {
     "name": "stdout",
     "output_type": "stream",
     "text": [
      "39\n"
     ]
    },
    {
     "name": "stderr",
     "output_type": "stream",
     "text": [
      "\n"
     ]
    }
   ],
   "source": [
    "molecules = [\n",
    "    Molecule.from_smiles(s)\n",
    "    for s in tqdm(smiles_patterns)\n",
    "]\n",
    "print(len(molecules))"
   ]
  },
  {
   "cell_type": "markdown",
   "metadata": {},
   "source": [
    "Prepare the main dataset from the molecule list."
   ]
  },
  {
   "cell_type": "code",
   "execution_count": 6,
   "metadata": {},
   "outputs": [],
   "source": [
    "# Required due to occasional SCF failures. See the V1 dataset as well as\n",
    "# http://forum.psicode.org/t/dft-scf-not-converging/1725/3\n",
    "# dft_ultra_fine_keywords = dict(\n",
    "#     dft_spherical_points=590,\n",
    "#     dft_radial_points=99,\n",
    "#     dft_pruning_scheme=\"robust\"\n",
    "# )\n",
    "external_field = {\n",
    "    \"X-\": [-0.01, 0.0, 0.0],\n",
    "    \"X+\": [0.01, 0.0, 0.0],\n",
    "    \"Y-\": [0.0, -0.01, 0.0],\n",
    "    \"Y+\": [0.0, 0.01, 0.0],\n",
    "    \"Z-\": [0.0, 0.0, -0.01],\n",
    "    \"Z+\": [0.0, 0.0, 0.01],\n",
    "}\n"
   ]
  },
  {
   "cell_type": "code",
   "execution_count": 7,
   "metadata": {},
   "outputs": [],
   "source": [
    "qc_specifications = {}\n",
    "for key, value in external_field.items():\n",
    "    qc_specifications[f\"MP2/aug-cc-pVTZ/{key}\"] = QCSpec(\n",
    "            method=\"MP2\",\n",
    "            basis=\"aug-cc-pVTZ\",\n",
    "            spec_name=f\"MP2/aug-cc-pVTZ/{key}\",\n",
    "            spec_description=(\n",
    "                \"The quantum chemistry specification used to generate data for typed polarizabilities training.\"\n",
    "            ),\n",
    "        keywords= { \n",
    "        \"scf_type\": \"df\",\n",
    "        \"mp2_type\": \"df\",\n",
    "        \"E_CONVERGENCE\": \"1.0e-8\",\n",
    "        \"PERTURB_H\": True,\n",
    "        \"PERTURB_WITH\": \"DIPOLE\",\n",
    "        \"PERTURB_DIPOLE\": value, # [\"X-\", \"X+\", \"Y-\", \"Y+\", \"Z-\", \"Z+\"] \n",
    "            },\n",
    "            store_wavefunction=WavefunctionProtocolEnum.orbitals_and_eigenvalues\n",
    "        )\n",
    "    \n",
    "qc_specifications[\"MP2/aug-cc-pVTZ\"] = QCSpec(\n",
    "            method=\"MP2\",\n",
    "            basis=\"aug-cc-pVTZ\",\n",
    "            spec_name=\"MP2/aug-cc-pVTZ\",\n",
    "            spec_description=(\n",
    "                \"The quantum chemistry specification used to generate data for typed polarizabilities training.\"\n",
    "            ),\n",
    "            store_wavefunction=WavefunctionProtocolEnum.orbitals_and_eigenvalues\n",
    "        )"
   ]
  },
  {
   "cell_type": "code",
   "execution_count": 8,
   "metadata": {},
   "outputs": [
    {
     "name": "stderr",
     "output_type": "stream",
     "text": [
      " ... (more hidden) ...\n",
      " ... (more hidden) ...\n",
      " ... (more hidden) ...\n"
     ]
    }
   ],
   "source": [
    "dataset_factory = OptimizationDatasetFactory(\n",
    "    qc_specifications=qc_specifications\n",
    ")\n",
    "\n",
    "dataset_factory.add_workflow_components(\n",
    "    StandardConformerGenerator(max_conformers=5, rms_cutoff=0.1, clear_existing=True)\n",
    ")\n",
    "\n",
    "dataset = dataset_factory.create_dataset(\n",
    "    dataset_name=\"OpenFF RESP Polarizability Optimizations v1.1\",\n",
    "    tagline=\"Optimizations of ESP-fitting based direct polarizabilities.\",\n",
    "    description=\"A data set used for training typed polarizabilities using direct polarization.\\n\"\n",
    "    \"This data set only includes element C, H, N, and O.\",\n",
    "    molecules=molecules,\n",
    ")\n",
    "\n",
    "\n",
    "dataset.metadata.submitter = \"willawang\"\n",
    "dataset.metadata.long_description_url = (\n",
    "    \"https://github.com/openforcefield/qca-dataset-submission/tree/master/\"\n",
    "    \"submissions/\"\n",
    "    \"2021-10-01-OpenFF-resppol-mp2-single-point\"\n",
    ")\n",
    "\n",
    "# dataset.provenance[\"constructure\"] = \"0.0.1\""
   ]
  },
  {
   "cell_type": "markdown",
   "metadata": {
    "pycharm": {
     "name": "#%% md\n"
    }
   },
   "source": [
    "Make sure the molecules in the dataset match the input molecules"
   ]
  },
  {
   "cell_type": "code",
   "execution_count": 9,
   "metadata": {
    "pycharm": {
     "name": "#%%\n"
    }
   },
   "outputs": [],
   "source": [
    "old_smiles = {Molecule.from_smiles(smiles).to_smiles(isomeric=False) for smiles in smiles_patterns}\n",
    "new_smiles = {molecule.to_smiles(isomeric=False) for molecule in dataset.molecules}\n",
    "\n",
    "assert len(old_smiles.symmetric_difference(new_smiles)) == 0"
   ]
  },
  {
   "cell_type": "code",
   "execution_count": 10,
   "metadata": {
    "pycharm": {
     "name": "#%%\n"
    }
   },
   "outputs": [
    {
     "name": "stdout",
     "output_type": "stream",
     "text": [
      "Number of unique molecules        39\n",
      "Number of filtered molecules      0\n",
      "Number of conformers              105\n",
      "Number of conformers min mean max 1   2.69 5\n",
      "Mean molecular weight: 90.54\n",
      "Max molecular weight: 158.24\n",
      "Charges: [-1.0, 0.0, 1.0]\n"
     ]
    }
   ],
   "source": [
    "confs = np.array([len(mol.conformers) for mol in dataset.molecules])\n",
    "\n",
    "print(\"Number of unique molecules       \", dataset.n_molecules)\n",
    "print(\"Number of filtered molecules     \", dataset.n_filtered)\n",
    "print(\"Number of conformers             \", dataset.n_records)\n",
    "print(\"Number of conformers min mean max\",\n",
    "      confs.min(), \"{:6.2f}\".format(confs.mean()), confs.max())\n",
    "\n",
    "masses = []\n",
    "for molecule in dataset.molecules:\n",
    "    oemol = molecule.to_openeye()\n",
    "    mass = oechem.OECalculateMolecularWeight(oemol)\n",
    "    masses.append(mass)\n",
    "\n",
    "print(f'Mean molecular weight: {np.mean(np.array(masses)):.2f}')\n",
    "print(f'Max molecular weight: {np.max(np.array(masses)):.2f}')\n",
    "print(\"Charges:\", sorted(set(m.total_charge/m.total_charge.unit for m in dataset.molecules)))"
   ]
  },
  {
   "cell_type": "markdown",
   "metadata": {},
   "source": [
    "Describe the dataset"
   ]
  },
  {
   "cell_type": "code",
   "execution_count": 11,
   "metadata": {
    "scrolled": false
   },
   "outputs": [
    {
     "name": "stdout",
     "output_type": "stream",
     "text": [
      "{'collection_type': 'OptimizationDataset',\n",
      " 'creation_date': datetime.date(2021, 10, 14),\n",
      " 'dataset_name': 'OpenFF RESP Polarizability Optimizations v1.1',\n",
      " 'elements': {'O', 'C', 'N', 'H'},\n",
      " 'long_description': 'A data set used for training typed polarizabilities '\n",
      "                     'using direct polarization.\\n'\n",
      "                     'This data set only includes element C, H, N, and O.',\n",
      " 'long_description_url': HttpUrl('https://github.com/openforcefield/qca-dataset-submission/tree/master/submissions/2021-10-01-OpenFF-resppol-mp2-single-point', scheme='https', host='github.com', tld='com', host_type='domain', path='/openforcefield/qca-dataset-submission/tree/master/submissions/2021-10-01-OpenFF-resppol-mp2-single-point'),\n",
      " 'short_description': 'Optimizations of ESP-fitting based direct '\n",
      "                      'polarizabilities.',\n",
      " 'submitter': 'willawang'}\n"
     ]
    }
   ],
   "source": [
    "pprint(dataset.metadata.dict())"
   ]
  },
  {
   "cell_type": "code",
   "execution_count": 12,
   "metadata": {
    "scrolled": false
   },
   "outputs": [
    {
     "name": "stdout",
     "output_type": "stream",
     "text": [
      "Spec: MP2/aug-cc-pVTZ/X-\n",
      "{'basis': 'aug-cc-pVTZ',\n",
      " 'implicit_solvent': None,\n",
      " 'keywords': {'E_CONVERGENCE': '1.0e-8',\n",
      "              'PERTURB_DIPOLE': [-0.01, 0.0, 0.0],\n",
      "              'PERTURB_H': True,\n",
      "              'PERTURB_WITH': 'DIPOLE',\n",
      "              'mp2_type': 'df',\n",
      "              'scf_type': 'df'},\n",
      " 'maxiter': 200,\n",
      " 'method': 'MP2',\n",
      " 'program': 'psi4',\n",
      " 'scf_properties': ['dipole',\n",
      "                    'quadrupole',\n",
      "                    'wiberg_lowdin_indices',\n",
      "                    'mayer_indices'],\n",
      " 'spec_description': 'The quantum chemistry specification used to generate '\n",
      "                     'data for typed polarizabilities training.',\n",
      " 'spec_name': 'MP2/aug-cc-pVTZ/X-',\n",
      " 'store_wavefunction': 'orbitals_and_eigenvalues'}\n",
      "Spec: MP2/aug-cc-pVTZ/X+\n",
      "{'basis': 'aug-cc-pVTZ',\n",
      " 'implicit_solvent': None,\n",
      " 'keywords': {'E_CONVERGENCE': '1.0e-8',\n",
      "              'PERTURB_DIPOLE': [0.01, 0.0, 0.0],\n",
      "              'PERTURB_H': True,\n",
      "              'PERTURB_WITH': 'DIPOLE',\n",
      "              'mp2_type': 'df',\n",
      "              'scf_type': 'df'},\n",
      " 'maxiter': 200,\n",
      " 'method': 'MP2',\n",
      " 'program': 'psi4',\n",
      " 'scf_properties': ['dipole',\n",
      "                    'quadrupole',\n",
      "                    'wiberg_lowdin_indices',\n",
      "                    'mayer_indices'],\n",
      " 'spec_description': 'The quantum chemistry specification used to generate '\n",
      "                     'data for typed polarizabilities training.',\n",
      " 'spec_name': 'MP2/aug-cc-pVTZ/X+',\n",
      " 'store_wavefunction': 'orbitals_and_eigenvalues'}\n",
      "Spec: MP2/aug-cc-pVTZ/Y-\n",
      "{'basis': 'aug-cc-pVTZ',\n",
      " 'implicit_solvent': None,\n",
      " 'keywords': {'E_CONVERGENCE': '1.0e-8',\n",
      "              'PERTURB_DIPOLE': [0.0, -0.01, 0.0],\n",
      "              'PERTURB_H': True,\n",
      "              'PERTURB_WITH': 'DIPOLE',\n",
      "              'mp2_type': 'df',\n",
      "              'scf_type': 'df'},\n",
      " 'maxiter': 200,\n",
      " 'method': 'MP2',\n",
      " 'program': 'psi4',\n",
      " 'scf_properties': ['dipole',\n",
      "                    'quadrupole',\n",
      "                    'wiberg_lowdin_indices',\n",
      "                    'mayer_indices'],\n",
      " 'spec_description': 'The quantum chemistry specification used to generate '\n",
      "                     'data for typed polarizabilities training.',\n",
      " 'spec_name': 'MP2/aug-cc-pVTZ/Y-',\n",
      " 'store_wavefunction': 'orbitals_and_eigenvalues'}\n",
      "Spec: MP2/aug-cc-pVTZ/Y+\n",
      "{'basis': 'aug-cc-pVTZ',\n",
      " 'implicit_solvent': None,\n",
      " 'keywords': {'E_CONVERGENCE': '1.0e-8',\n",
      "              'PERTURB_DIPOLE': [0.0, 0.01, 0.0],\n",
      "              'PERTURB_H': True,\n",
      "              'PERTURB_WITH': 'DIPOLE',\n",
      "              'mp2_type': 'df',\n",
      "              'scf_type': 'df'},\n",
      " 'maxiter': 200,\n",
      " 'method': 'MP2',\n",
      " 'program': 'psi4',\n",
      " 'scf_properties': ['dipole',\n",
      "                    'quadrupole',\n",
      "                    'wiberg_lowdin_indices',\n",
      "                    'mayer_indices'],\n",
      " 'spec_description': 'The quantum chemistry specification used to generate '\n",
      "                     'data for typed polarizabilities training.',\n",
      " 'spec_name': 'MP2/aug-cc-pVTZ/Y+',\n",
      " 'store_wavefunction': 'orbitals_and_eigenvalues'}\n",
      "Spec: MP2/aug-cc-pVTZ/Z-\n",
      "{'basis': 'aug-cc-pVTZ',\n",
      " 'implicit_solvent': None,\n",
      " 'keywords': {'E_CONVERGENCE': '1.0e-8',\n",
      "              'PERTURB_DIPOLE': [0.0, 0.0, -0.01],\n",
      "              'PERTURB_H': True,\n",
      "              'PERTURB_WITH': 'DIPOLE',\n",
      "              'mp2_type': 'df',\n",
      "              'scf_type': 'df'},\n",
      " 'maxiter': 200,\n",
      " 'method': 'MP2',\n",
      " 'program': 'psi4',\n",
      " 'scf_properties': ['dipole',\n",
      "                    'quadrupole',\n",
      "                    'wiberg_lowdin_indices',\n",
      "                    'mayer_indices'],\n",
      " 'spec_description': 'The quantum chemistry specification used to generate '\n",
      "                     'data for typed polarizabilities training.',\n",
      " 'spec_name': 'MP2/aug-cc-pVTZ/Z-',\n",
      " 'store_wavefunction': 'orbitals_and_eigenvalues'}\n",
      "Spec: MP2/aug-cc-pVTZ/Z+\n",
      "{'basis': 'aug-cc-pVTZ',\n",
      " 'implicit_solvent': None,\n",
      " 'keywords': {'E_CONVERGENCE': '1.0e-8',\n",
      "              'PERTURB_DIPOLE': [0.0, 0.0, 0.01],\n",
      "              'PERTURB_H': True,\n",
      "              'PERTURB_WITH': 'DIPOLE',\n",
      "              'mp2_type': 'df',\n",
      "              'scf_type': 'df'},\n",
      " 'maxiter': 200,\n",
      " 'method': 'MP2',\n",
      " 'program': 'psi4',\n",
      " 'scf_properties': ['dipole',\n",
      "                    'quadrupole',\n",
      "                    'wiberg_lowdin_indices',\n",
      "                    'mayer_indices'],\n",
      " 'spec_description': 'The quantum chemistry specification used to generate '\n",
      "                     'data for typed polarizabilities training.',\n",
      " 'spec_name': 'MP2/aug-cc-pVTZ/Z+',\n",
      " 'store_wavefunction': 'orbitals_and_eigenvalues'}\n",
      "Spec: MP2/aug-cc-pVTZ\n",
      "{'basis': 'aug-cc-pVTZ',\n",
      " 'implicit_solvent': None,\n",
      " 'keywords': None,\n",
      " 'maxiter': 200,\n",
      " 'method': 'MP2',\n",
      " 'program': 'psi4',\n",
      " 'scf_properties': ['dipole',\n",
      "                    'quadrupole',\n",
      "                    'wiberg_lowdin_indices',\n",
      "                    'mayer_indices'],\n",
      " 'spec_description': 'The quantum chemistry specification used to generate '\n",
      "                     'data for typed polarizabilities training.',\n",
      " 'spec_name': 'MP2/aug-cc-pVTZ',\n",
      " 'store_wavefunction': 'orbitals_and_eigenvalues'}\n"
     ]
    }
   ],
   "source": [
    "for spec, obj in dataset.qc_specifications.items():\n",
    "    print(\"Spec:\", spec)\n",
    "    pprint(obj.dict())"
   ]
  },
  {
   "cell_type": "markdown",
   "metadata": {
    "pycharm": {
     "name": "#%% md\n"
    }
   },
   "source": [
    "Export the dataset."
   ]
  },
  {
   "cell_type": "code",
   "execution_count": 13,
   "metadata": {
    "pycharm": {
     "name": "#%%\n"
    }
   },
   "outputs": [],
   "source": [
    "dataset.export_dataset(\"dataset-v1.1.json.bz2\")\n",
    "dataset.molecules_to_file(\"dataset-v1.1.smi\", \"smi\")\n",
    "\n",
    "dataset.visualize(\"dataset-v1.1.pdf\", columns=8)"
   ]
  }
 ],
 "metadata": {
  "kernelspec": {
   "display_name": "Python 3 (ipykernel)",
   "language": "python",
   "name": "python3"
  },
  "language_info": {
   "codemirror_mode": {
    "name": "ipython",
    "version": 3
   },
   "file_extension": ".py",
   "mimetype": "text/x-python",
   "name": "python",
   "nbconvert_exporter": "python",
   "pygments_lexer": "ipython3",
   "version": "3.7.10"
  }
 },
 "nbformat": 4,
 "nbformat_minor": 4
}
