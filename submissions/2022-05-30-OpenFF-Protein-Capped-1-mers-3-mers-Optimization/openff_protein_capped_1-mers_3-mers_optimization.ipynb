{
 "cells": [
  {
   "cell_type": "markdown",
   "id": "971b33c0",
   "metadata": {},
   "source": [
    "# OpenFF Protein Capped 1-mers 3-mers Optimization\n",
    "\n",
    "Optimization dataset for protein capped 1-mers from [OpenFF Protein Dipeptide 2-D TorsionDrive](https://github.com/openforcefield/qca-dataset-submission/tree/master/submissions/2021-11-18-OpenFF-Protein-Dipeptide-2D-TorsionDrive) and capped 3-mers from [OpenFF Protein Capped 3-mer Backbones](https://github.com/openforcefield/qca-dataset-submission/tree/master/submissions/2022-05-30-OpenFF-Protein-Capped-3-mer-Backbones). Dataset preparation in this notebook was taken from [OpenFF Gen2 Optimization Set Protomers](https://github.com/openforcefield/qca-dataset-submission/blob/master/submissions/2021-12-21-OpenFF-Gen2-Optimization-Set-Protomers/Dataset_Generation.ipynb)."
   ]
  },
  {
   "cell_type": "code",
   "execution_count": 1,
   "id": "d5c62adc",
   "metadata": {},
   "outputs": [],
   "source": [
    "from openff.qcsubmit.common_structures import QCSpec, SCFProperties\n",
    "from openff.qcsubmit.factories import OptimizationDatasetFactory\n",
    "from openff.qcsubmit import workflow_components\n",
    "import numpy\n",
    "from qcelemental.models.results import WavefunctionProtocolEnum\n",
    "from qcportal.models.common_models import DriverEnum\n",
    "from openeye import oechem"
   ]
  },
  {
   "cell_type": "code",
   "execution_count": 2,
   "id": "ea9dcb6a",
   "metadata": {},
   "outputs": [
    {
     "data": {
      "text/plain": [
       "{'qc_specifications': {'default': {'method': 'b3lyp-d3bj',\n",
       "   'basis': 'dzvp',\n",
       "   'program': 'psi4',\n",
       "   'spec_name': 'default',\n",
       "   'spec_description': 'Standard OpenFF optimization quantum chemistry specification.',\n",
       "   'store_wavefunction': 'none',\n",
       "   'implicit_solvent': None,\n",
       "   'maxiter': 200,\n",
       "   'scf_properties': ['dipole',\n",
       "    'quadrupole',\n",
       "    'wiberg_lowdin_indices',\n",
       "    'mayer_indices',\n",
       "    'mbis_charges'],\n",
       "   'keywords': None}},\n",
       " 'driver': 'gradient',\n",
       " 'priority': 'normal',\n",
       " 'dataset_tags': ['openff'],\n",
       " 'compute_tag': 'openff',\n",
       " 'type': 'OptimizationDatasetFactory',\n",
       " 'workflow': [{'type': 'StandardConformerGenerator',\n",
       "   'rms_cutoff': None,\n",
       "   'max_conformers': 10,\n",
       "   'clear_existing': True}],\n",
       " 'optimization_program': {'program': 'geometric',\n",
       "  'coordsys': 'dlc',\n",
       "  'enforce': 0.0,\n",
       "  'epsilon': 1e-05,\n",
       "  'reset': True,\n",
       "  'qccnv': False,\n",
       "  'molcnv': False,\n",
       "  'check': 0,\n",
       "  'trust': 0.1,\n",
       "  'tmax': 0.3,\n",
       "  'maxiter': 300,\n",
       "  'convergence_set': 'GAU',\n",
       "  'constraints': {}}}"
      ]
     },
     "execution_count": 2,
     "metadata": {},
     "output_type": "execute_result"
    }
   ],
   "source": [
    "factory = OptimizationDatasetFactory(\n",
    "    qc_specifications={\n",
    "        'default': QCSpec(\n",
    "            method='b3lyp-d3bj',\n",
    "            basis='dzvp', \n",
    "            program='psi4', \n",
    "            spec_name='default', \n",
    "            spec_description='Standard OpenFF optimization quantum chemistry specification.',\n",
    "            implicit_solvent=None, \n",
    "            maxiter=200, \n",
    "            scf_properties=[\n",
    "                SCFProperties.Dipole, SCFProperties.Quadrupole, SCFProperties.WibergLowdinIndices, \n",
    "                SCFProperties.MayerIndices, SCFProperties.MBISCharges\n",
    "            ],\n",
    "        )\n",
    "    },\n",
    ")\n",
    "factory.add_workflow_components(workflow_components.StandardConformerGenerator(max_conformers=10))\n",
    "factory.dict()"
   ]
  },
  {
   "cell_type": "code",
   "execution_count": 3,
   "id": "c8da0524",
   "metadata": {
    "scrolled": true
   },
   "outputs": [
    {
     "name": "stderr",
     "output_type": "stream",
     "text": [
      "Deduplication                 : 100%|██████████| 78/78 [00:00<00:00, 687.94it/s]\n",
      "StandardConformerGenerator    : 100%|███████████| 78/78 [00:07<00:00, 11.14it/s]\n",
      "Preparation                   : 100%|███████████| 78/78 [00:06<00:00, 11.85it/s]\n"
     ]
    }
   ],
   "source": [
    "dataset = factory.create_dataset(\n",
    "    dataset_name = 'OpenFF Protein Capped 1-mers 3-mers Optimization Dataset v1.0',\n",
    "    molecules = 'capped_1-mers_3-mers.smi',\n",
    "    tagline = 'Optimization dataset for protein capped 1-mers and 3-mers',\n",
    "    description = 'Optimization dataset for protein capped 1-mers Ace-X-Nme and capped 3-mers Ace-Y-X-Y-Nme with Y = '\n",
    "        '{Ala, Val} and X = 26 canonical amino acids with common protomers/tautomers (Ash, Cyx, Glh, Hid, Hip, and Lyn).'\n",
    ")"
   ]
  },
  {
   "cell_type": "code",
   "execution_count": 5,
   "id": "16297fb0",
   "metadata": {},
   "outputs": [
    {
     "name": "stdout",
     "output_type": "stream",
     "text": [
      "Number of unique molecules        78\n",
      "Number of filtered molecules      0\n",
      "Number of conformers              759\n",
      "Number of conformers min mean max   4   9.73  10\n",
      "Molecular weight min mean max     130.15 313.59 548.72\n",
      "Charges                           [-1.0, 0.0, 1.0]\n",
      "{'submitter': 'ccavende', 'creation_date': datetime.date(2022, 5, 30), 'collection_type': 'OptimizationDataset', 'dataset_name': 'OpenFF Protein Capped 1-mers 3-mers Optimization Dataset v1.0', 'short_description': 'Optimization dataset for protein capped 1-mers and 3-mers', 'long_description_url': None, 'long_description': 'Optimization dataset for protein capped 1-mers Ace-X-Nme and capped 3-mers Ace-Y-X-Y-Nme with Y = {Ala, Val} and X = 26 canonical amino acids with common protomers/tautomers (Ash, Cyx, Glh, Hid, Hip, and Lyn).', 'elements': {'N', 'C', 'H', 'O', 'S'}}\n",
      "Spec: default\n",
      "{'method': 'b3lyp-d3bj', 'basis': 'dzvp', 'program': 'psi4', 'spec_name': 'default', 'spec_description': 'Standard OpenFF optimization quantum chemistry specification.', 'store_wavefunction': 'none', 'implicit_solvent': None, 'maxiter': 200, 'scf_properties': ['dipole', 'quadrupole', 'wiberg_lowdin_indices', 'mayer_indices', 'mbis_charges'], 'keywords': None}\n"
     ]
    }
   ],
   "source": [
    "confs = numpy.array([mol.n_conformers for mol in dataset.molecules])\n",
    "molecular_weights = numpy.array([oechem.OECalculateMolecularWeight(mol.to_openeye()) for mol in dataset.molecules])\n",
    "unique_formal_charges = numpy.unique([mol.total_charge / mol.total_charge.unit for mol in dataset.molecules])\n",
    "\n",
    "print(f'Number of unique molecules        {dataset.n_molecules:d}')\n",
    "print(f'Number of filtered molecules      {dataset.n_filtered:d}')\n",
    "print(f'Number of conformers              {dataset.n_records:d}')\n",
    "print(f'Number of conformers min mean max {confs.min():3d} {confs.mean():6.2f} {confs.max():3d}')\n",
    "print(\n",
    "    f'Molecular weight min mean max     {molecular_weights.min():6.2f} {molecular_weights.mean():6.2f} '\n",
    "    f'{molecular_weights.max():6.2f}'\n",
    ")\n",
    "print(f'Charges                          ', sorted(unique_formal_charges))\n",
    "\n",
    "print(dataset.metadata.dict())\n",
    "\n",
    "for spec, obj in dataset.qc_specifications.items():\n",
    "    print(\"Spec:\", spec)\n",
    "    print(obj.dict())"
   ]
  },
  {
   "cell_type": "code",
   "execution_count": 6,
   "id": "4af76f35",
   "metadata": {},
   "outputs": [],
   "source": [
    "dataset.visualize('dataset.pdf')"
   ]
  },
  {
   "cell_type": "code",
   "execution_count": 7,
   "id": "fb5eb6b5",
   "metadata": {},
   "outputs": [],
   "source": [
    "dataset.metadata.submitter = 'Chapin Cavender'"
   ]
  },
  {
   "cell_type": "code",
   "execution_count": 8,
   "id": "868fcf8f",
   "metadata": {},
   "outputs": [],
   "source": [
    "dataset.metadata.long_description_url = 'https://github.com/openforcefield/qca-dataset-submission/tree/master/submissions/2022-05-30-OpenFF-Protein-Capped-1mers-3mers-Optimization'"
   ]
  },
  {
   "cell_type": "code",
   "execution_count": 9,
   "id": "77f5e190",
   "metadata": {},
   "outputs": [
    {
     "data": {
      "text/plain": [
       "Metadata(submitter='Chapin Cavender', creation_date=datetime.date(2022, 5, 30), collection_type='OptimizationDataset', dataset_name='OpenFF Protein Capped 1-mers 3-mers Optimization Dataset v1.0', short_description='Optimization dataset for protein capped 1-mers and 3-mers', long_description_url=HttpUrl('https://github.com/openforcefield/qca-dataset-submission/tree/master/submissions/2022-05-30-OpenFF-Protein-Capped-1mers-3mers-Optimization', scheme='https', host='github.com', tld='com', host_type='domain', path='/openforcefield/qca-dataset-submission/tree/master/submissions/2022-05-30-OpenFF-Protein-Capped-1mers-3mers-Optimization'), long_description='Optimization dataset for protein capped 1-mers Ace-X-Nme and capped 3-mers Ace-Y-X-Y-Nme with Y = {Ala, Val} and X = 26 canonical amino acids with common protomers/tautomers (Ash, Cyx, Glh, Hid, Hip, and Lyn).', elements={'N', 'C', 'H', 'O', 'S'})"
      ]
     },
     "execution_count": 9,
     "metadata": {},
     "output_type": "execute_result"
    }
   ],
   "source": [
    "dataset.metadata"
   ]
  },
  {
   "cell_type": "code",
   "execution_count": 10,
   "id": "94c6c3ed",
   "metadata": {},
   "outputs": [],
   "source": [
    "dataset.export_dataset('dataset.json.bz2')"
   ]
  }
 ],
 "metadata": {
  "kernelspec": {
   "display_name": "Python 3 (ipykernel)",
   "language": "python",
   "name": "python3"
  },
  "language_info": {
   "codemirror_mode": {
    "name": "ipython",
    "version": 3
   },
   "file_extension": ".py",
   "mimetype": "text/x-python",
   "name": "python",
   "nbconvert_exporter": "python",
   "pygments_lexer": "ipython3",
   "version": "3.9.7"
  }
 },
 "nbformat": 4,
 "nbformat_minor": 5
}
