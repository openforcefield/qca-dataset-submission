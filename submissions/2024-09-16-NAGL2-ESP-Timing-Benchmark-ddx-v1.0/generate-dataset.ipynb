{
 "cells": [
  {
   "cell_type": "markdown",
   "id": "bab0dd68-9ab4-4d70-a4d8-73970a296fec",
   "metadata": {},
   "source": [
    "# DDX water dataset"
   ]
  },
  {
   "cell_type": "code",
   "execution_count": 1,
   "id": "3d3cf7ba-e0db-439e-bb2e-983a2aa463ef",
   "metadata": {
    "execution": {
     "iopub.execute_input": "2024-09-17T23:56:39.270021Z",
     "iopub.status.busy": "2024-09-17T23:56:39.269099Z",
     "iopub.status.idle": "2024-09-17T23:56:44.614849Z",
     "shell.execute_reply": "2024-09-17T23:56:44.614400Z",
     "shell.execute_reply.started": "2024-09-17T23:56:39.269974Z"
    }
   },
   "outputs": [],
   "source": [
    "from qcportal import PortalClient\n",
    "from qcelemental.models.results import WavefunctionProtocolEnum\n",
    "from openff.qcsubmit.results import OptimizationResultCollection,BasicResultCollection\n",
    "from openff.qcsubmit.datasets import BasicDataset\n",
    "from openff.qcsubmit.results.filters import ConnectivityFilter, ConformerRMSDFilter\n",
    "from openff.qcsubmit.factories import BasicDatasetFactory\n",
    "from openff.qcsubmit.common_structures import Metadata, QCSpec"
   ]
  },
  {
   "cell_type": "markdown",
   "id": "c3600edd-6772-47fa-b4fa-9d4428851b8e",
   "metadata": {},
   "source": [
    "# Load datasets prepared in `subsample_esp_ds.ipynb`"
   ]
  },
  {
   "cell_type": "code",
   "execution_count": 2,
   "id": "b2d28e39-5696-4577-a0a8-c02b0a98d019",
   "metadata": {
    "execution": {
     "iopub.execute_input": "2024-09-17T23:56:44.616172Z",
     "iopub.status.busy": "2024-09-17T23:56:44.615895Z",
     "iopub.status.idle": "2024-09-17T23:56:45.280334Z",
     "shell.execute_reply": "2024-09-17T23:56:45.275822Z",
     "shell.execute_reply.started": "2024-09-17T23:56:44.616159Z"
    }
   },
   "outputs": [
    {
     "name": "stderr",
     "output_type": "stream",
     "text": [
      "WARNING: This client version is newer than the server version. This may work if the versions are close, but expect exceptions and errors if attempting things the server does not support. client version: 0.56, server version: 0.55\n"
     ]
    }
   ],
   "source": [
    "client = PortalClient(\"https://api.qcarchive.molssi.org:443/\")"
   ]
  },
  {
   "cell_type": "code",
   "execution_count": 3,
   "id": "ad9d088a-8000-41e0-b1e5-9b3978b886da",
   "metadata": {
    "execution": {
     "iopub.execute_input": "2024-09-17T23:56:45.286055Z",
     "iopub.status.busy": "2024-09-17T23:56:45.285275Z",
     "iopub.status.idle": "2024-09-17T23:56:45.296334Z",
     "shell.execute_reply": "2024-09-17T23:56:45.295413Z",
     "shell.execute_reply.started": "2024-09-17T23:56:45.286012Z"
    }
   },
   "outputs": [],
   "source": [
    "br_dataset = BasicResultCollection.parse_file('br_subsample_filtered.json')"
   ]
  },
  {
   "cell_type": "code",
   "execution_count": 4,
   "id": "d74a844f-e10c-4bfb-9614-29b8452aeb22",
   "metadata": {
    "execution": {
     "iopub.execute_input": "2024-09-17T23:56:45.298982Z",
     "iopub.status.busy": "2024-09-17T23:56:45.298648Z",
     "iopub.status.idle": "2024-09-17T23:56:45.318229Z",
     "shell.execute_reply": "2024-09-17T23:56:45.317644Z",
     "shell.execute_reply.started": "2024-09-17T23:56:45.298963Z"
    }
   },
   "outputs": [],
   "source": [
    "esp50k_dataset = BasicResultCollection.parse_file('esp_subsample_filtered.json')"
   ]
  },
  {
   "cell_type": "code",
   "execution_count": 5,
   "id": "0b585409-75f8-4e86-a62e-5cd2566dd573",
   "metadata": {
    "execution": {
     "iopub.execute_input": "2024-09-17T23:56:45.319187Z",
     "iopub.status.busy": "2024-09-17T23:56:45.318987Z",
     "iopub.status.idle": "2024-09-17T23:56:45.323489Z",
     "shell.execute_reply": "2024-09-17T23:56:45.322908Z",
     "shell.execute_reply.started": "2024-09-17T23:56:45.319167Z"
    }
   },
   "outputs": [],
   "source": [
    "i_dataset = BasicResultCollection.parse_file('i_subsample_filtered.json')"
   ]
  },
  {
   "cell_type": "code",
   "execution_count": 6,
   "id": "bf13b1f2-66ae-44e7-aed2-103bdfdfe822",
   "metadata": {
    "execution": {
     "iopub.execute_input": "2024-09-17T23:56:45.324424Z",
     "iopub.status.busy": "2024-09-17T23:56:45.324201Z",
     "iopub.status.idle": "2024-09-17T23:58:53.111133Z",
     "shell.execute_reply": "2024-09-17T23:58:53.109759Z",
     "shell.execute_reply.started": "2024-09-17T23:56:45.324406Z"
    }
   },
   "outputs": [
    {
     "name": "stderr",
     "output_type": "stream",
     "text": [
      "WARNING: This client version is newer than the server version. This may work if the versions are close, but expect exceptions and errors if attempting things the server does not support. client version: 0.56, server version: 0.55\n",
      "WARNING: This client version is newer than the server version. This may work if the versions are close, but expect exceptions and errors if attempting things the server does not support. client version: 0.56, server version: 0.55\n",
      "WARNING: This client version is newer than the server version. This may work if the versions are close, but expect exceptions and errors if attempting things the server does not support. client version: 0.56, server version: 0.55\n"
     ]
    }
   ],
   "source": [
    "# These were already filtered earlier\n",
    "br_records = br_dataset.to_records()\n",
    "esp50k_records = esp50k_dataset.to_records()\n",
    "i_records = i_dataset.to_records()"
   ]
  },
  {
   "cell_type": "markdown",
   "id": "4a825469-397a-415b-8d5d-016e798dac76",
   "metadata": {},
   "source": [
    "# Set up single points"
   ]
  },
  {
   "cell_type": "code",
   "execution_count": 7,
   "id": "03234d41-9add-4948-b9ba-6ad9f9d987cc",
   "metadata": {
    "execution": {
     "iopub.execute_input": "2024-09-17T23:58:53.119428Z",
     "iopub.status.busy": "2024-09-17T23:58:53.118491Z",
     "iopub.status.idle": "2024-09-17T23:58:53.126187Z",
     "shell.execute_reply": "2024-09-17T23:58:53.125088Z",
     "shell.execute_reply.started": "2024-09-17T23:58:53.119372Z"
    }
   },
   "outputs": [],
   "source": [
    "from openff.qcsubmit.common_structures import SCFProperties, Metadata\n",
    "\n",
    "# want a finer grid for wb97 functionals\n",
    "keywords = {\n",
    "    \"dft_spherical_points\": 590,\n",
    "    \"dft_radial_points\": 99\n",
    "}\n",
    "\n",
    "# let's calculate a bunch of stuff while we're at it; in case we decide to train on any of this.\n",
    "properties = [\n",
    "        SCFProperties.Dipole,\n",
    "        SCFProperties.Quadrupole,\n",
    "        SCFProperties.LowdinCharges,\n",
    "        SCFProperties.MullikenCharges,\n",
    "        SCFProperties.MBISCharges,\n",
    "        SCFProperties.MayerIndices,\n",
    "        SCFProperties.WibergLowdinIndices,\n",
    "        SCFProperties.DipolePolarizabilities,\n",
    "    ]\n"
   ]
  },
  {
   "cell_type": "code",
   "execution_count": 8,
   "id": "57fff361-151c-4a75-bd53-0e1dd7100f6e",
   "metadata": {
    "execution": {
     "iopub.execute_input": "2024-09-17T23:58:53.127649Z",
     "iopub.status.busy": "2024-09-17T23:58:53.127364Z",
     "iopub.status.idle": "2024-09-17T23:58:53.135184Z",
     "shell.execute_reply": "2024-09-17T23:58:53.134566Z",
     "shell.execute_reply.started": "2024-09-17T23:58:53.127622Z"
    }
   },
   "outputs": [],
   "source": [
    "from openff.qcsubmit.common_structures import DDXSettings\n",
    "# Solvent specs\n",
    "ddx_spec = DDXSettings(\n",
    "    ddx_solvent_epsilon=78.4, \n",
    "    ddx_radii_scaling = 1.1, # default but wanted to specify explicitly\n",
    "    ddx_radii_set = 'uff', # default but wanted to specify explicitly \n",
    "    ddx_model = 'pcm'\n",
    ")\n",
    "\n",
    "ddx_qc_spec = QCSpec(\n",
    "            program=\"psi4\",\n",
    "            method=\"pbe0\",\n",
    "            basis=\"def2-TZVPPD\",\n",
    "            spec_name=\"pbe0/def2-TZVPPD/ddx-water\",\n",
    "            spec_description=(\n",
    "                \"PBE0 functional with def2-TZVPPD basis set and DDX water (eps = 78.4) using UFF radii and 1.1x scaling factor\"\n",
    "            ),\n",
    "            # store_wavefunction=WavefunctionProtocolEnum.orbitals_and_eigenvalues, # Don't save wavefunctions in case there's a lot of errors\n",
    "            keywords=keywords,\n",
    "            scf_properties=properties,\n",
    "            implicit_solvent= ddx_spec\n",
    "        )"
   ]
  },
  {
   "cell_type": "code",
   "execution_count": 11,
   "id": "bba475b9-1fa9-4655-a6d7-bf52fae73682",
   "metadata": {
    "execution": {
     "iopub.execute_input": "2024-09-18T00:00:52.325846Z",
     "iopub.status.busy": "2024-09-18T00:00:52.324726Z",
     "iopub.status.idle": "2024-09-18T00:00:52.341909Z",
     "shell.execute_reply": "2024-09-18T00:00:52.339266Z",
     "shell.execute_reply.started": "2024-09-18T00:00:52.325792Z"
    }
   },
   "outputs": [],
   "source": [
    "from qcelemental.models import DriverEnum\n",
    "\n",
    "dataset = BasicDataset(\n",
    "    dataset_name=\"OpenFF NAGL2 ESP Timing Benchmark ddx v1.0\",\n",
    "    dataset_tagline=\"PBE0/def2-TZVPPD/ddx water single point calculations of ~1000 diverse molecules.\",\n",
    "    description=(\n",
    "        \"PBE0/def2-TZVPPD/ddx water single point calculations of ~1000 diverse molecules sub-sampled from the ESP50k, multi-BR ESP, and I fragment datasets, to benchmark computational cost.\"\n",
    "    ),\n",
    "    driver=DriverEnum.properties, # This was DriverEnum.energy for the other ESP datasets, but I think to calculate dipole etc it needs to be properties.\n",
    "    metadata=Metadata(\n",
    "        submitter=\"amcisaac\",\n",
    "        long_description_url=(\n",
    "            \"https://github.com/openforcefield/qca-dataset-submission/tree/master/submissions/2024-09-16-OpenFF-NAGL2-ESP-Timing-Benchmark-ddx-v1.0\"\n",
    "        )\n",
    "    ),\n",
    "    qc_specifications={\n",
    "        \"pbe0/def2-TZVPPD/ddx-water\": ddx_qc_spec\n",
    "            \n",
    "    }\n",
    ")"
   ]
  },
  {
   "cell_type": "code",
   "execution_count": 12,
   "id": "8e419645-dbaa-40aa-bec5-957cfd1586c7",
   "metadata": {
    "execution": {
     "iopub.execute_input": "2024-09-18T00:00:54.142499Z",
     "iopub.status.busy": "2024-09-18T00:00:54.141929Z",
     "iopub.status.idle": "2024-09-18T00:00:54.162822Z",
     "shell.execute_reply": "2024-09-18T00:00:54.162302Z",
     "shell.execute_reply.started": "2024-09-18T00:00:54.142463Z"
    },
    "scrolled": true
   },
   "outputs": [
    {
     "data": {
      "text/plain": [
       "{'pbe0/def2-TZVPPD/ddx-water': QCSpecification(program='psi4', driver=<SinglepointDriver.properties: 'properties'>, method='pbe0', basis='def2-tzvppd', keywords={'maxiter': 200, 'function_kwargs': {'properties': [<SCFProperties.Dipole: 'dipole'>, <SCFProperties.Quadrupole: 'quadrupole'>, <SCFProperties.LowdinCharges: 'lowdin_charges'>, <SCFProperties.MullikenCharges: 'mulliken_charges'>, <SCFProperties.MBISCharges: 'mbis_charges'>, <SCFProperties.MayerIndices: 'mayer_indices'>, <SCFProperties.WibergLowdinIndices: 'wiberg_lowdin_indices'>, <SCFProperties.DipolePolarizabilities: 'dipole_polarizabilities'>]}, 'dft_spherical_points': 590, 'dft_radial_points': 99, 'ddx': True, 'ddx_model': 'pcm', 'ddx_radii_scaling': 1.1, 'ddx_radii_set': 'uff', 'ddx_solvent_epsilon': 78.4, 'ddx_solvent': 'water'}, protocols=AtomicResultProtocols(wavefunction=<WavefunctionProtocolEnum.none: 'none'>, stdout=True, error_correction=ErrorCorrectionProtocol(default_policy=True, policies=None), native_files=<NativeFilesProtocolEnum.none: 'none'>))}"
      ]
     },
     "execution_count": 12,
     "metadata": {},
     "output_type": "execute_result"
    }
   ],
   "source": [
    "dataset._get_specifications()"
   ]
  },
  {
   "cell_type": "code",
   "execution_count": 13,
   "id": "5048614b-3837-4064-b52d-f2a55be38bfb",
   "metadata": {
    "execution": {
     "iopub.execute_input": "2024-09-18T00:00:56.017428Z",
     "iopub.status.busy": "2024-09-18T00:00:56.015983Z",
     "iopub.status.idle": "2024-09-18T00:00:57.153802Z",
     "shell.execute_reply": "2024-09-18T00:00:57.153268Z",
     "shell.execute_reply.started": "2024-09-18T00:00:56.017337Z"
    }
   },
   "outputs": [],
   "source": [
    "from collections import defaultdict\n",
    "\n",
    "records_by_cmiles = defaultdict(list)\n",
    "for record, molecule in br_records + esp50k_records + i_records:\n",
    "    records_by_cmiles[\n",
    "        molecule.to_smiles(isomeric=True, explicit_hydrogens=True, mapped=True)\n",
    "    ].append((record, molecule))"
   ]
  },
  {
   "cell_type": "code",
   "execution_count": 14,
   "id": "3588d626-2900-4570-97eb-aa8b01395924",
   "metadata": {
    "execution": {
     "iopub.execute_input": "2024-09-18T00:00:57.154787Z",
     "iopub.status.busy": "2024-09-18T00:00:57.154659Z",
     "iopub.status.idle": "2024-09-18T00:14:57.939085Z",
     "shell.execute_reply": "2024-09-18T00:14:57.937837Z",
     "shell.execute_reply.started": "2024-09-18T00:00:57.154774Z"
    }
   },
   "outputs": [
    {
     "name": "stderr",
     "output_type": "stream",
     "text": [
      "100%|███████████████████████████████████████████████████████████████| 1005/1005 [14:00<00:00,  1.20it/s]\n"
     ]
    }
   ],
   "source": [
    "from openff.qcsubmit.common_structures import MoleculeAttributes\n",
    "import tqdm\n",
    "\n",
    "for records in tqdm.tqdm(records_by_cmiles.values(), total=len(records_by_cmiles)):\n",
    "    base_record, base_molecule = records[0]\n",
    "    base_molecule._conformers = [m.conformers[0] for _, m in records]\n",
    "\n",
    "    dataset.add_molecule(\n",
    "        index=base_molecule.to_smiles(\n",
    "            isomeric=True, explicit_hydrogens=False, mapped=False\n",
    "        ),\n",
    "        molecule=base_molecule,\n",
    "        attributes=MoleculeAttributes.from_openff_molecule(base_molecule),\n",
    "        extras=base_record.extras,\n",
    "        keywords=base_record.to_qcschema_result().keywords,\n",
    "    )"
   ]
  },
  {
   "cell_type": "markdown",
   "id": "8e812a07-bd89-47f2-9380-6c939838aac6",
   "metadata": {},
   "source": [
    "# Exporting dataset"
   ]
  },
  {
   "cell_type": "code",
   "execution_count": 15,
   "id": "d69c1de7-42a6-407f-a555-6fc5a7ef0e61",
   "metadata": {
    "execution": {
     "iopub.execute_input": "2024-09-18T00:15:49.123067Z",
     "iopub.status.busy": "2024-09-18T00:15:49.115468Z",
     "iopub.status.idle": "2024-09-18T00:15:52.678456Z",
     "shell.execute_reply": "2024-09-18T00:15:52.678089Z",
     "shell.execute_reply.started": "2024-09-18T00:15:49.122994Z"
    }
   },
   "outputs": [
    {
     "name": "stdout",
     "output_type": "stream",
     "text": [
      "{'pbe0/def2-TZVPPD/ddx-water': QCSpec(method='pbe0', basis='def2-TZVPPD', program='psi4', spec_name='pbe0/def2-TZVPPD/ddx-water', spec_description='PBE0 functional with def2-TZVPPD basis set and DDX water (eps = 78.4) using UFF radii and 1.1x scaling factor', store_wavefunction=<WavefunctionProtocolEnum.none: 'none'>, implicit_solvent=DDXSettings(ddx_model='pcm', ddx_radii_scaling=1.1, ddx_radii_set='uff', ddx_solvent_epsilon=78.4, ddx_solvent='water'), maxiter=200, scf_properties=[<SCFProperties.Dipole: 'dipole'>, <SCFProperties.Quadrupole: 'quadrupole'>, <SCFProperties.LowdinCharges: 'lowdin_charges'>, <SCFProperties.MullikenCharges: 'mulliken_charges'>, <SCFProperties.MBISCharges: 'mbis_charges'>, <SCFProperties.MayerIndices: 'mayer_indices'>, <SCFProperties.WibergLowdinIndices: 'wiberg_lowdin_indices'>, <SCFProperties.DipolePolarizabilities: 'dipole_polarizabilities'>], keywords={'dft_spherical_points': 590, 'dft_radial_points': 99})}\n"
     ]
    }
   ],
   "source": [
    "dataset.export_dataset(\"dataset.json.bz2\")\n",
    "dataset.molecules_to_file('dataset.smi', 'smi')\n",
    "dataset.visualize(\"dataset.pdf\", columns=8)\n",
    "\n",
    "print(dataset.qc_specifications)"
   ]
  },
  {
   "cell_type": "markdown",
   "id": "88a45064-d703-457e-b29b-ba0aa758ca9a",
   "metadata": {},
   "source": [
    "# Dataset information"
   ]
  },
  {
   "cell_type": "code",
   "execution_count": 16,
   "id": "dc940078-e0e4-4395-9e71-69e49064d3a1",
   "metadata": {
    "execution": {
     "iopub.execute_input": "2024-09-18T00:15:52.679537Z",
     "iopub.status.busy": "2024-09-18T00:15:52.679393Z",
     "iopub.status.idle": "2024-09-18T00:15:52.681639Z",
     "shell.execute_reply": "2024-09-18T00:15:52.681325Z",
     "shell.execute_reply.started": "2024-09-18T00:15:52.679524Z"
    }
   },
   "outputs": [],
   "source": [
    "import numpy as np\n",
    "from collections import Counter"
   ]
  },
  {
   "cell_type": "code",
   "execution_count": 17,
   "id": "388aff3d-ff0a-4c36-9d83-e6ec82d31db8",
   "metadata": {
    "execution": {
     "iopub.execute_input": "2024-09-18T00:15:52.682169Z",
     "iopub.status.busy": "2024-09-18T00:15:52.682052Z",
     "iopub.status.idle": "2024-09-18T00:15:52.704529Z",
     "shell.execute_reply": "2024-09-18T00:15:52.704069Z",
     "shell.execute_reply.started": "2024-09-18T00:15:52.682157Z"
    }
   },
   "outputs": [
    {
     "name": "stdout",
     "output_type": "stream",
     "text": [
      "n_molecules: 1005\n",
      "n_conformers: 1009\n"
     ]
    }
   ],
   "source": [
    "print(\"n_molecules:\", dataset.n_molecules)\n",
    "print(\"n_conformers:\", dataset.n_records)"
   ]
  },
  {
   "cell_type": "code",
   "execution_count": 18,
   "id": "8e7d50e8-201d-4f32-a2fd-c3daa60fe35d",
   "metadata": {
    "execution": {
     "iopub.execute_input": "2024-09-18T00:15:53.545641Z",
     "iopub.status.busy": "2024-09-18T00:15:53.544299Z",
     "iopub.status.idle": "2024-09-18T00:15:57.751775Z",
     "shell.execute_reply": "2024-09-18T00:15:57.751172Z",
     "shell.execute_reply.started": "2024-09-18T00:15:53.545569Z"
    }
   },
   "outputs": [],
   "source": [
    "n_confs = np.array(\n",
    "    [mol.n_conformers for mol in dataset.molecules]\n",
    ")\n",
    "n_heavy_atoms = np.array(\n",
    "    [mol.to_rdkit().GetNumHeavyAtoms() for mol in dataset.molecules]\n",
    ")"
   ]
  },
  {
   "cell_type": "code",
   "execution_count": 19,
   "id": "7ccb51cc-523a-43cd-8ab0-b5d63f9141fc",
   "metadata": {
    "execution": {
     "iopub.execute_input": "2024-09-18T00:15:57.752814Z",
     "iopub.status.busy": "2024-09-18T00:15:57.752688Z",
     "iopub.status.idle": "2024-09-18T00:15:57.758140Z",
     "shell.execute_reply": "2024-09-18T00:15:57.757674Z",
     "shell.execute_reply.started": "2024-09-18T00:15:57.752802Z"
    }
   },
   "outputs": [
    {
     "name": "stdout",
     "output_type": "stream",
     "text": [
      "Number of conformers (min, mean, max): 1 1.0039800995024875 2\n",
      "# heavy atoms\n",
      "  4: 3\n",
      "  5: 4\n",
      "  6: 23\n",
      "  7: 46\n",
      "  8: 121\n",
      "  9: 180\n",
      " 10: 180\n",
      " 11: 230\n",
      " 12: 218\n"
     ]
    }
   ],
   "source": [
    "print(\n",
    "    \"Number of conformers (min, mean, max):\",\n",
    "    n_confs.min(), n_confs.mean(), n_confs.max()\n",
    ")\n",
    "print(\"# heavy atoms\")\n",
    "counts = Counter(n_heavy_atoms)\n",
    "for n_heavy in sorted(counts):\n",
    "    print(f\"{str(n_heavy):>3}: {counts[n_heavy]}\")"
   ]
  },
  {
   "cell_type": "code",
   "execution_count": 20,
   "id": "62625c83-8904-44f7-b219-8c88827bb971",
   "metadata": {
    "execution": {
     "iopub.execute_input": "2024-09-18T00:15:57.759007Z",
     "iopub.status.busy": "2024-09-18T00:15:57.758863Z",
     "iopub.status.idle": "2024-09-18T00:15:59.602729Z",
     "shell.execute_reply": "2024-09-18T00:15:59.602369Z",
     "shell.execute_reply.started": "2024-09-18T00:15:57.758994Z"
    }
   },
   "outputs": [
    {
     "data": {
      "text/plain": [
       "{-4.0, -3.0, -2.0, -1.0, 0.0, 1.0, 2.0}"
      ]
     },
     "execution_count": 20,
     "metadata": {},
     "output_type": "execute_result"
    }
   ],
   "source": [
    "from openff.units import unit\n",
    "unique_charges = set([\n",
    "    mol.total_charge.m_as(unit.elementary_charge)\n",
    "    for mol in dataset.molecules\n",
    "])\n",
    "unique_charges"
   ]
  },
  {
   "cell_type": "code",
   "execution_count": 21,
   "id": "f0291cf3-b3b4-4dfd-a2ac-07612c8d713a",
   "metadata": {
    "execution": {
     "iopub.execute_input": "2024-09-18T00:15:59.604037Z",
     "iopub.status.busy": "2024-09-18T00:15:59.603875Z",
     "iopub.status.idle": "2024-09-18T00:16:01.159172Z",
     "shell.execute_reply": "2024-09-18T00:16:01.158761Z",
     "shell.execute_reply.started": "2024-09-18T00:15:59.604022Z"
    }
   },
   "outputs": [
    {
     "name": "stdout",
     "output_type": "stream",
     "text": [
      "MW (min, mean, max): 58.10263600000002 155.14636379830847 329.815488\n"
     ]
    }
   ],
   "source": [
    "\n",
    "masses = np.array([\n",
    "    sum([atom.mass.m for atom in mol.atoms])\n",
    "    for mol in dataset.molecules\n",
    "])\n",
    "print(\"MW (min, mean, max):\", masses.min(), masses.mean(), masses.max())"
   ]
  },
  {
   "cell_type": "code",
   "execution_count": 22,
   "id": "4d17e60d-eb09-4a0c-a243-8c05fba536db",
   "metadata": {
    "execution": {
     "iopub.execute_input": "2024-09-18T00:16:01.159987Z",
     "iopub.status.busy": "2024-09-18T00:16:01.159812Z",
     "iopub.status.idle": "2024-09-18T00:16:02.748087Z",
     "shell.execute_reply": "2024-09-18T00:16:02.747542Z",
     "shell.execute_reply.started": "2024-09-18T00:16:01.159975Z"
    }
   },
   "outputs": [
    {
     "name": "stdout",
     "output_type": "stream",
     "text": [
      "{'Br', 'F', 'I', 'N', 'Cl', 'C', 'P', 'H', 'S', 'O'}\n"
     ]
    }
   ],
   "source": [
    "elements = set(\n",
    "    atom.symbol\n",
    "    for mol in dataset.molecules\n",
    "    for atom in mol.atoms\n",
    ")\n",
    "print(elements)"
   ]
  },
  {
   "cell_type": "code",
   "execution_count": 23,
   "id": "5bc6ee5d-590a-418b-98d1-2f0fa5b8119f",
   "metadata": {
    "execution": {
     "iopub.execute_input": "2024-09-18T00:16:02.749179Z",
     "iopub.status.busy": "2024-09-18T00:16:02.749037Z",
     "iopub.status.idle": "2024-09-18T00:16:02.753100Z",
     "shell.execute_reply": "2024-09-18T00:16:02.752674Z",
     "shell.execute_reply.started": "2024-09-18T00:16:02.749165Z"
    }
   },
   "outputs": [
    {
     "name": "stdout",
     "output_type": "stream",
     "text": [
      "## Metadata\n",
      "* Elements: {Br, F, I, N, Cl, C, P, H, S, O}\n",
      "* Spec: pbe0/def2-TZVPPD/ddx-water\n",
      "\t* basis: def2-TZVPPD\n",
      "\t* implicit_solvent: {'ddx_model': 'pcm', 'ddx_radii_scaling': 1.1, 'ddx_radii_set': 'uff', 'ddx_solvent_epsilon': 78.4, 'ddx_solvent': 'water'}\n",
      "\t* keywords: {'dft_spherical_points': 590, 'dft_radial_points': 99}\n",
      "\t* maxiter: 200\n",
      "\t* method: pbe0\n",
      "\t* program: psi4\n",
      "\t* SCF properties:\n",
      "\t\t* dipole\n",
      "\t\t* quadrupole\n",
      "\t\t* lowdin_charges\n",
      "\t\t* mulliken_charges\n",
      "\t\t* mbis_charges\n",
      "\t\t* mayer_indices\n",
      "\t\t* wiberg_lowdin_indices\n",
      "\t\t* dipole_polarizabilities\n"
     ]
    }
   ],
   "source": [
    "print(\"## Metadata\")\n",
    "print(f\"* Elements: {{{', '.join(dataset.metadata.dict()['elements'])}}}\")\n",
    "\n",
    "def print_field(od, field): print(f\"\\t* {field}: {od[field]}\")\n",
    "\n",
    "fields = [\"basis\", \"implicit_solvent\", \"keywords\", \"maxiter\", \"method\", \"program\"]\n",
    "for spec, obj in dataset.qc_specifications.items():\n",
    "    od = obj.dict()\n",
    "    print(\"* Spec:\", spec)\n",
    "    for field in fields:\n",
    "        print_field(od, field)\n",
    "    print(\"\\t* SCF properties:\")\n",
    "    for field in od[\"scf_properties\"]:\n",
    "        print(f\"\\t\\t* {field}\")"
   ]
  },
  {
   "cell_type": "code",
   "execution_count": null,
   "id": "09dd2cfa-62c0-4681-a44e-bdac427fd96d",
   "metadata": {},
   "outputs": [],
   "source": []
  },
  {
   "cell_type": "code",
   "execution_count": null,
   "id": "669fae85-aee2-4927-91e5-c019a30a5199",
   "metadata": {},
   "outputs": [],
   "source": []
  },
  {
   "cell_type": "code",
   "execution_count": null,
   "id": "fe105ad8-cb93-4cb2-95bf-e9f5a25d2c7e",
   "metadata": {},
   "outputs": [],
   "source": []
  }
 ],
 "metadata": {
  "kernelspec": {
   "display_name": "Python 3 (ipykernel)",
   "language": "python",
   "name": "python3"
  },
  "language_info": {
   "codemirror_mode": {
    "name": "ipython",
    "version": 3
   },
   "file_extension": ".py",
   "mimetype": "text/x-python",
   "name": "python",
   "nbconvert_exporter": "python",
   "pygments_lexer": "ipython3",
   "version": "3.9.19"
  }
 },
 "nbformat": 4,
 "nbformat_minor": 5
}
