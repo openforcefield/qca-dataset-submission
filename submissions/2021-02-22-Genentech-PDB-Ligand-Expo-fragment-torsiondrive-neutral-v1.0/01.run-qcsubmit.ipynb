{
 "cells": [
  {
   "cell_type": "code",
   "execution_count": 1,
   "metadata": {},
   "outputs": [],
   "source": [
    "import logging\n",
    "import bz2\n",
    "import sys\n",
    "import os"
   ]
  },
  {
   "cell_type": "code",
   "execution_count": 2,
   "metadata": {},
   "outputs": [],
   "source": [
    "import numpy as np"
   ]
  },
  {
   "cell_type": "code",
   "execution_count": 9,
   "metadata": {},
   "outputs": [],
   "source": [
    "import qcfractal.interface as ptl\n",
    "import tqdm\n",
    "import sys\n",
    "from openff.qcsubmit import workflow_components\n",
    "from openff.qcsubmit.factories import TorsiondriveDatasetFactory\n",
    "from openforcefield.topology import Molecule"
   ]
  },
  {
   "cell_type": "code",
   "execution_count": 10,
   "metadata": {},
   "outputs": [],
   "source": [
    "# Need to turn off undefined stereochemistry warnings\n",
    "logging.getLogger().setLevel(logging.ERROR)"
   ]
  },
  {
   "cell_type": "code",
   "execution_count": 11,
   "metadata": {},
   "outputs": [],
   "source": [
    "def test_submit(qcs_ds, client):\n",
    "    result = qcs_ds.submit(client)\n",
    "    print(result)\n",
    "    print(\"Total tasks:\", sum(result.values()))\n",
    "\n",
    "def test_submit_to_local_server(qcs_ds):\n",
    "    print(\"Submitting to test-run to local server\")\n",
    "    client = ptl.FractalClient(\"localhost:7777\", verify=False)\n",
    "    test_submit(qcs_ds, client)\n",
    "    \n",
    "def test_submit_to_test_server(qcs_ds):\n",
    "    from qcfractal import FractalSnowflakeHandler\n",
    "    print(\"Submitting test-run to in-memory server\")\n",
    "    server = FractalSnowflakeHandler()\n",
    "    test_submit(qcs_ds, server.client())\n"
   ]
  },
  {
   "cell_type": "code",
   "execution_count": 12,
   "metadata": {},
   "outputs": [
    {
     "name": "stdout",
     "output_type": "stream",
     "text": [
      "\n",
      "Files loaded; molecules generated.\n"
     ]
    }
   ],
   "source": [
    "sdf_file = \"./pubLigsNeutralGoodDensity.sdf\"\n",
    "\n",
    "molecules = Molecule.from_file(sdf_file,\n",
    "                          \"sdf\",\n",
    "                          allow_undefined_stereo=True,\n",
    "                         )\n",
    "# Considering molecules that have rotors greater than 3 for fragmentation down the line\n",
    "mols = []\n",
    "for molecule in molecules:\n",
    "    if len(molecule.find_rotatable_bonds()) > 3:\n",
    "        mols.append(molecule)\n",
    "    else:\n",
    "        continue\n",
    "print(\"\\nFiles loaded; molecules generated.\")"
   ]
  },
  {
   "cell_type": "code",
   "execution_count": 22,
   "metadata": {},
   "outputs": [],
   "source": [
    "# Generate the workflow to apply to the molecules\n",
    "qcs_ds = TorsiondriveDatasetFactory()\n",
    "\n",
    "component = workflow_components.WBOFragmenter()\n",
    "component.keep_non_rotor_ring_substituents = True\n",
    "qcs_ds.add_workflow_component(component)\n",
    "\n",
    "component = workflow_components.EnumerateStereoisomers()\n",
    "component.max_isomers = 10\n",
    "component.toolkit = \"openeye\"\n",
    "qcs_ds.add_workflow_component(component)\n",
    "\n",
    "component = workflow_components.StandardConformerGenerator()\n",
    "component.max_conformers = 10\n",
    "component.toolkit = \"openeye\"\n",
    "component.rms_cutoff = 3.0\n",
    "qcs_ds.add_workflow_component(component)"
   ]
  },
  {
   "cell_type": "code",
   "execution_count": 23,
   "metadata": {
    "scrolled": true
   },
   "outputs": [
    {
     "name": "stderr",
     "output_type": "stream",
     "text": [
      "Deduplication                 : 100%|████████| 521/521 [00:00<00:00, 570.57it/s]\n",
      "WBOFragmenter                 :   0%|                   | 0/519 [00:00<?, ?it/s]\n"
     ]
    },
    {
     "ename": "MaybeEncodingError",
     "evalue": "Error sending result: '<multiprocessing.pool.ExceptionWithTraceback object at 0x7f3c4fcc06d0>'. Reason: 'RecursionError('maximum recursion depth exceeded while calling a Python object')'",
     "output_type": "error",
     "traceback": [
      "\u001b[0;31m---------------------------------------------------------------------------\u001b[0m",
      "\u001b[0;31mMaybeEncodingError\u001b[0m                        Traceback (most recent call last)",
      "\u001b[0;32m<ipython-input-23-fd00aec5e321>\u001b[0m in \u001b[0;36m<module>\u001b[0;34m\u001b[0m\n\u001b[1;32m      3\u001b[0m         \u001b[0mmolecules\u001b[0m\u001b[0;34m=\u001b[0m\u001b[0mmols\u001b[0m\u001b[0;34m,\u001b[0m\u001b[0;34m\u001b[0m\u001b[0;34m\u001b[0m\u001b[0m\n\u001b[1;32m      4\u001b[0m         \u001b[0mdescription\u001b[0m\u001b[0;34m=\u001b[0m\u001b[0;34m\"Genentech PDB Ligand Expo optimization dataset with fragmented neutral molecules\"\u001b[0m\u001b[0;34m,\u001b[0m\u001b[0;34m\u001b[0m\u001b[0;34m\u001b[0m\u001b[0m\n\u001b[0;32m----> 5\u001b[0;31m         tagline=\"TorsionDriveDataset\")\n\u001b[0m\u001b[1;32m      6\u001b[0m \u001b[0mprint\u001b[0m\u001b[0;34m(\u001b[0m\u001b[0;34m\"Workflow complete; dataset generated.\"\u001b[0m\u001b[0;34m)\u001b[0m\u001b[0;34m\u001b[0m\u001b[0;34m\u001b[0m\u001b[0m\n",
      "\u001b[0;32m~/anaconda3/envs/qcsub_user/lib/python3.7/site-packages/openff/qcsubmit/factories.py\u001b[0m in \u001b[0;36mcreate_dataset\u001b[0;34m(self, dataset_name, molecules, description, tagline, metadata, processors, verbose)\u001b[0m\n\u001b[1;32m    804\u001b[0m                     \u001b[0mmolecules\u001b[0m\u001b[0;34m=\u001b[0m\u001b[0mworkflow_molecules\u001b[0m\u001b[0;34m.\u001b[0m\u001b[0mmolecules\u001b[0m\u001b[0;34m,\u001b[0m\u001b[0;34m\u001b[0m\u001b[0;34m\u001b[0m\u001b[0m\n\u001b[1;32m    805\u001b[0m                     \u001b[0mprocessors\u001b[0m\u001b[0;34m=\u001b[0m\u001b[0mprocessors\u001b[0m\u001b[0;34m,\u001b[0m\u001b[0;34m\u001b[0m\u001b[0;34m\u001b[0m\u001b[0m\n\u001b[0;32m--> 806\u001b[0;31m                     \u001b[0mverbose\u001b[0m\u001b[0;34m=\u001b[0m\u001b[0mverbose\u001b[0m\u001b[0;34m,\u001b[0m\u001b[0;34m\u001b[0m\u001b[0;34m\u001b[0m\u001b[0m\n\u001b[0m\u001b[1;32m    807\u001b[0m                 )\n\u001b[1;32m    808\u001b[0m \u001b[0;34m\u001b[0m\u001b[0m\n",
      "\u001b[0;32m~/anaconda3/envs/qcsub_user/lib/python3.7/site-packages/openff/qcsubmit/workflow_components/base_component.py\u001b[0m in \u001b[0;36mapply\u001b[0;34m(self, molecules, processors, verbose)\u001b[0m\n\u001b[1;32m    179\u001b[0m                     \u001b[0mdisable\u001b[0m\u001b[0;34m=\u001b[0m\u001b[0;32mnot\u001b[0m \u001b[0mverbose\u001b[0m\u001b[0;34m,\u001b[0m\u001b[0;34m\u001b[0m\u001b[0;34m\u001b[0m\u001b[0m\n\u001b[1;32m    180\u001b[0m                 ):\n\u001b[0;32m--> 181\u001b[0;31m                     \u001b[0mwork\u001b[0m \u001b[0;34m=\u001b[0m \u001b[0mwork\u001b[0m\u001b[0;34m.\u001b[0m\u001b[0mget\u001b[0m\u001b[0;34m(\u001b[0m\u001b[0;34m)\u001b[0m\u001b[0;34m\u001b[0m\u001b[0;34m\u001b[0m\u001b[0m\n\u001b[0m\u001b[1;32m    182\u001b[0m                     \u001b[0;32mfor\u001b[0m \u001b[0msuccess\u001b[0m \u001b[0;32min\u001b[0m \u001b[0mwork\u001b[0m\u001b[0;34m.\u001b[0m\u001b[0mmolecules\u001b[0m\u001b[0;34m:\u001b[0m\u001b[0;34m\u001b[0m\u001b[0;34m\u001b[0m\u001b[0m\n\u001b[1;32m    183\u001b[0m                         \u001b[0mresult\u001b[0m\u001b[0;34m.\u001b[0m\u001b[0madd_molecule\u001b[0m\u001b[0;34m(\u001b[0m\u001b[0msuccess\u001b[0m\u001b[0;34m)\u001b[0m\u001b[0;34m\u001b[0m\u001b[0;34m\u001b[0m\u001b[0m\n",
      "\u001b[0;32m~/anaconda3/envs/qcsub_user/lib/python3.7/multiprocessing/pool.py\u001b[0m in \u001b[0;36mget\u001b[0;34m(self, timeout)\u001b[0m\n\u001b[1;32m    655\u001b[0m             \u001b[0;32mreturn\u001b[0m \u001b[0mself\u001b[0m\u001b[0;34m.\u001b[0m\u001b[0m_value\u001b[0m\u001b[0;34m\u001b[0m\u001b[0;34m\u001b[0m\u001b[0m\n\u001b[1;32m    656\u001b[0m         \u001b[0;32melse\u001b[0m\u001b[0;34m:\u001b[0m\u001b[0;34m\u001b[0m\u001b[0;34m\u001b[0m\u001b[0m\n\u001b[0;32m--> 657\u001b[0;31m             \u001b[0;32mraise\u001b[0m \u001b[0mself\u001b[0m\u001b[0;34m.\u001b[0m\u001b[0m_value\u001b[0m\u001b[0;34m\u001b[0m\u001b[0;34m\u001b[0m\u001b[0m\n\u001b[0m\u001b[1;32m    658\u001b[0m \u001b[0;34m\u001b[0m\u001b[0m\n\u001b[1;32m    659\u001b[0m     \u001b[0;32mdef\u001b[0m \u001b[0m_set\u001b[0m\u001b[0;34m(\u001b[0m\u001b[0mself\u001b[0m\u001b[0;34m,\u001b[0m \u001b[0mi\u001b[0m\u001b[0;34m,\u001b[0m \u001b[0mobj\u001b[0m\u001b[0;34m)\u001b[0m\u001b[0;34m:\u001b[0m\u001b[0;34m\u001b[0m\u001b[0;34m\u001b[0m\u001b[0m\n",
      "\u001b[0;31mMaybeEncodingError\u001b[0m: Error sending result: '<multiprocessing.pool.ExceptionWithTraceback object at 0x7f3c4fcc06d0>'. Reason: 'RecursionError('maximum recursion depth exceeded while calling a Python object')'"
     ]
    }
   ],
   "source": [
    "dataset = qcs_ds.create_dataset(\n",
    "        dataset_name=\"Genentech PDB Ligand Expo fragment torsiondrive neutral v1.0\",\n",
    "        molecules=mols,\n",
    "        description=\"Genentech PDB Ligand Expo optimization dataset with fragmented neutral molecules\",\n",
    "        tagline=\"TorsionDriveDataset\")\n",
    "print(\"Workflow complete; dataset generated.\")"
   ]
  },
  {
   "cell_type": "code",
   "execution_count": 9,
   "metadata": {},
   "outputs": [
    {
     "name": "stdout",
     "output_type": "stream",
     "text": [
      "Number of unique molecules        2319\n",
      "Number of filtered molecules      98\n",
      "Number of conformers              2366\n",
      "Number of conformers min mean max 1   1.02 3\n"
     ]
    }
   ],
   "source": [
    "dataset.metadata.short_description = \"Optimization set\"\n",
    "dataset.metadata.long_description_url = \"https://github.com/openforcefield/qca-dataset-submission/tree/master/submissions/2020-12-02-Genentech-PDB-Ligand-Expo-fragment-optimization-neutral-v1.0\"\n",
    "dataset.metadata.long_description = \"Genentech PDB Ligand Expo neutral molecules set\"\n",
    "\n",
    "confs = np.array([len(mol.conformers) for mol in dataset.molecules])\n",
    "print(\"Number of unique molecules       \", dataset.n_molecules)\n",
    "print(\"Number of filtered molecules     \", dataset.n_filtered)\n",
    "print(\"Number of conformers             \", dataset.n_records)\n",
    "print(\"Number of conformers min mean max\", \n",
    "      confs.min(), \"{:6.2f}\".format(confs.mean()), confs.max())\n",
    "\n",
    "dataset.export_dataset(\"dataset.json.bz2\")"
   ]
  },
  {
   "cell_type": "code",
   "execution_count": 10,
   "metadata": {},
   "outputs": [
    {
     "name": "stdout",
     "output_type": "stream",
     "text": [
      "Submitting test-run to in-memory server\n",
      "{'default': 2363}\n",
      "Total tasks: 2363\n",
      "CPU times: user 49.4 s, sys: 2.46 s, total: 51.9 s\n",
      "Wall time: 1min 29s\n"
     ]
    }
   ],
   "source": [
    "%time test_submit_to_test_server(dataset)"
   ]
  },
  {
   "cell_type": "code",
   "execution_count": 13,
   "metadata": {},
   "outputs": [],
   "source": [
    "from openff.qcsubmit.datasets import OptimizationDataset\n",
    "dataset = OptimizationDataset.parse_file('./dataset.json.bz2')\n",
    "dataset.metadata.long_description = \"This dataset contains Genentech PDB Ligand Expo neutral set of molecules that fragments molecules with greater than 3 rotors\"\n",
    "dataset.metadata.submitter = 'pavankum'\n",
    "dataset.export_dataset(\"dataset.json.bz2\")"
   ]
  },
  {
   "cell_type": "code",
   "execution_count": 15,
   "metadata": {},
   "outputs": [],
   "source": [
    "from openff.qcsubmit.datasets import OptimizationDataset\n",
    "ds = OptimizationDataset.parse_file('./dataset.json.bz2')\n",
    "ds.visualize('visualize.pdf')"
   ]
  },
  {
   "cell_type": "code",
   "execution_count": null,
   "metadata": {},
   "outputs": [],
   "source": []
  }
 ],
 "metadata": {
  "jupytext": {
   "cell_metadata_filter": "-all",
   "executable": "/usr/bin/env python3",
   "main_language": "python",
   "notebook_metadata_filter": "-all"
  },
  "kernelspec": {
   "display_name": "Python 3",
   "language": "python",
   "name": "python3"
  },
  "language_info": {
   "codemirror_mode": {
    "name": "ipython",
    "version": 3
   },
   "file_extension": ".py",
   "mimetype": "text/x-python",
   "name": "python",
   "nbconvert_exporter": "python",
   "pygments_lexer": "ipython3",
   "version": "3.7.9"
  }
 },
 "nbformat": 4,
 "nbformat_minor": 4
}
