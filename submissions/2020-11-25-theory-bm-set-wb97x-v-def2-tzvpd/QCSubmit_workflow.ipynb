{
 "metadata": {
  "language_info": {
   "codemirror_mode": {
    "name": "ipython",
    "version": 3
   },
   "file_extension": ".py",
   "mimetype": "text/x-python",
   "name": "python",
   "nbconvert_exporter": "python",
   "pygments_lexer": "ipython3",
   "version": "3.7.8-final"
  },
  "orig_nbformat": 2,
  "kernelspec": {
   "name": "python3",
   "display_name": "Python 3.7.8 64-bit ('qca-validation': conda)",
   "metadata": {
    "interpreter": {
     "hash": "9fc71bda9bf746676dcc3a6d5944a1060cd3dc71786e7692a550905c5a2aa806"
    }
   }
  }
 },
 "nbformat": 4,
 "nbformat_minor": 2,
 "cells": [
  {
   "cell_type": "code",
   "execution_count": 1,
   "metadata": {},
   "outputs": [
    {
     "output_type": "execute_result",
     "data": {
      "text/plain": [
       "'0.1.1'"
      ]
     },
     "metadata": {},
     "execution_count": 1
    }
   ],
   "source": [
    "import qcsubmit\n",
    "qcsubmit.__version__"
   ]
  },
  {
   "cell_type": "code",
   "execution_count": 2,
   "metadata": {},
   "outputs": [],
   "source": [
    "import qcportal as ptl\n",
    "import numpy as np\n",
    "from openforcefield.topology import Molecule\n",
    "from qcsubmit.results import OptimizationCollectionResult\n",
    "from qcsubmit.datasets import OptimizationDataset\n",
    "\n",
    "client = ptl.FractalClient()"
   ]
  },
  {
   "cell_type": "code",
   "execution_count": 3,
   "metadata": {},
   "outputs": [],
   "source": [
    "import pickle\n",
    "import json\n",
    "def download_torsiondrive_data(dataset_name):\n",
    "    # load dataset from public qcfractal server\n",
    "    ds = client.get_collection(\"TorsionDriveDataset\", dataset_name)\n",
    "    spec_name = ds.list_specifications().index[0]\n",
    "    print(f\"Loading TorsionDrive Scans from [ {dataset_name} ] spec [{spec_name}]\")\n",
    "    print(f\"Found {len(ds.df)} data entries\")\n",
    "    # load torsiondrive record ids from the dataset\n",
    "    map_record_id_entry_index = {}\n",
    "    for entry_index in ds.df.index:\n",
    "        data_entry = ds.get_entry(entry_index)\n",
    "        td_record_id = data_entry.object_map[spec_name]\n",
    "        map_record_id_entry_index[td_record_id] = entry_index, data_entry.attributes\n",
    "    print(f\"Found {len(map_record_id_entry_index)} torsiondrive records\")\n",
    "    # query all torsiondrive records at the same time\n",
    "    td_record_ids = list(map_record_id_entry_index.keys())\n",
    "    torsiondrive_data = {}\n",
    "    for i, td_record in enumerate(client.query_procedures(id=td_record_ids), 1):\n",
    "        entry_index, attributes = map_record_id_entry_index[td_record.id]\n",
    "        print(f\"{i:5d} : {entry_index:50s} status {td_record.status}\")\n",
    "        if td_record.status == 'COMPLETE':\n",
    "            torsiondrive_data[entry_index] = {\n",
    "                'initial_molecules': client.query_molecules(td_record.initial_molecule),\n",
    "                'final_molecules': td_record.get_final_molecules(),\n",
    "                'final_energies': td_record.get_final_energies(),\n",
    "                'final_gradients': {gid: np.array(res.return_result) for gid, res in td_record.get_final_results().items()},\n",
    "                'keywords': td_record.keywords.dict(),\n",
    "                'attributes': attributes,\n",
    "            }\n",
    "    print(f'Downloaded torsion drive data for {len(torsiondrive_data)} completed entries')\n",
    "    # save as pickle file\n",
    "    with open('torsiondrive_data.pickle', 'wb') as pfile:\n",
    "        pickle.dump(torsiondrive_data, pfile)\n",
    "    return torsiondrive_data"
   ]
  },
  {
   "cell_type": "code",
   "execution_count": 4,
   "metadata": {},
   "outputs": [
    {
     "output_type": "stream",
     "name": "stdout",
     "text": [
      "Loading TorsionDrive Scans from [ OpenFF Theory Benchmarking Set B3LYP-D3BJ def2-TZVPD v1.0 ] spec [default]\n",
      "Found 36 data entries\n",
      "Found 36 torsiondrive records\n",
      "    1 : 0                                                  status COMPLETE\n",
      "    2 : 1                                                  status COMPLETE\n",
      "    3 : 2                                                  status COMPLETE\n",
      "    4 : 3                                                  status COMPLETE\n",
      "    5 : 4                                                  status COMPLETE\n",
      "    6 : 5                                                  status COMPLETE\n",
      "    7 : 6                                                  status COMPLETE\n",
      "    8 : 7                                                  status COMPLETE\n",
      "    9 : 8                                                  status COMPLETE\n",
      "   10 : 9                                                  status COMPLETE\n",
      "   11 : 10                                                 status COMPLETE\n",
      "   12 : 11                                                 status COMPLETE\n",
      "   13 : 12                                                 status COMPLETE\n",
      "   14 : 13                                                 status COMPLETE\n",
      "   15 : 14                                                 status COMPLETE\n",
      "   16 : 15                                                 status COMPLETE\n",
      "   17 : 16                                                 status COMPLETE\n",
      "   18 : 17                                                 status COMPLETE\n",
      "   19 : 18                                                 status COMPLETE\n",
      "   20 : 19                                                 status COMPLETE\n",
      "   21 : 20                                                 status COMPLETE\n",
      "   22 : 21                                                 status COMPLETE\n",
      "   23 : 22                                                 status COMPLETE\n",
      "   24 : 23                                                 status COMPLETE\n",
      "   25 : 24                                                 status COMPLETE\n",
      "   26 : 25                                                 status COMPLETE\n",
      "   27 : 26                                                 status COMPLETE\n",
      "   28 : 27                                                 status COMPLETE\n",
      "   29 : 28                                                 status COMPLETE\n",
      "   30 : 29                                                 status COMPLETE\n",
      "   31 : 30                                                 status COMPLETE\n",
      "   32 : 31                                                 status COMPLETE\n",
      "   33 : 32                                                 status COMPLETE\n",
      "   34 : 33                                                 status COMPLETE\n",
      "   35 : 34                                                 status COMPLETE\n",
      "   36 : 35                                                 status COMPLETE\n",
      "Downloaded torsion drive data for 36 completed entries\n"
     ]
    }
   ],
   "source": [
    "dataset_name='OpenFF Theory Benchmarking Set B3LYP-D3BJ def2-TZVPD v1.0'\n",
    "torsiondrive_data= download_torsiondrive_data(dataset_name)"
   ]
  },
  {
   "cell_type": "code",
   "execution_count": 5,
   "metadata": {},
   "outputs": [],
   "source": [
    "from qcsubmit.factories import OptimizationDatasetFactory\n",
    "factory = OptimizationDatasetFactory()"
   ]
  },
  {
   "cell_type": "code",
   "execution_count": 6,
   "metadata": {},
   "outputs": [],
   "source": [
    "dataset_name=\"OpenFF Theory Benchmakring Set WB97X-V def2-TZVPD v1.0\"\n",
    "description=\"An optimization dataset for benchmarking wb97x-v/def2-TZVPD\"\n",
    "tagline=\"Optimized geometries for benchmaking wb97x-v/def2-TZVPD\"\n",
    "spec_description=description"
   ]
  },
  {
   "cell_type": "code",
   "execution_count": 7,
   "metadata": {},
   "outputs": [
    {
     "output_type": "stream",
     "name": "stderr",
     "text": [
      "Deduplication                 : 0it [00:00, ?it/s]\n",
      "Preparation                   : 0it [00:00, ?it/s]\n"
     ]
    }
   ],
   "source": [
    "dataset = factory.create_dataset(dataset_name=dataset_name, molecules=[], description=description, tagline=tagline)\n",
    "# Change the default spec name\n",
    "dataset.qc_specifications.pop('default')\n",
    "dataset.add_qc_spec(method=\"wb97x-v\",\n",
    "                    basis=\"def2-TZVPD\",\n",
    "                    program=\"psi4\", \n",
    "                    spec_name=\"default\",\n",
    "                    spec_description=spec_description) "
   ]
  },
  {
   "cell_type": "code",
   "execution_count": 8,
   "metadata": {},
   "outputs": [],
   "source": [
    "from qcsubmit.datasets import DatasetEntry\n",
    "from qcsubmit.constraints import Constraints\n",
    "from openforcefield.topology import Molecule as OFFMolecule\n",
    "\n",
    "for idx, (entry_index, td_record) in enumerate(torsiondrive_data.items()):\n",
    "    attributes = td_record[\"attributes\"]\n",
    "    dihedrals = list(td_record['keywords']['dihedrals'][0])\n",
    "    initial_molecules = []\n",
    "    for gid, final_molecule in td_record['final_molecules'].items():\n",
    "        initial_molecules.append(final_molecule)\n",
    "    \n",
    "    data_entry = DatasetEntry(index=idx,  initial_molecules=initial_molecules, attributes=attributes, extras = {}, keywords = {})\n",
    "    data_entry.add_constraint(constraint='freeze',  constraint_type='dihedral', indices= dihedrals)\n",
    "    dataset.dataset[idx] = data_entry"
   ]
  },
  {
   "cell_type": "code",
   "execution_count": 9,
   "metadata": {},
   "outputs": [
    {
     "output_type": "execute_result",
     "data": {
      "text/plain": [
       "31"
      ]
     },
     "metadata": {},
     "execution_count": 9
    }
   ],
   "source": [
    "dataset.n_molecules"
   ]
  },
  {
   "cell_type": "code",
   "execution_count": 10,
   "metadata": {},
   "outputs": [
    {
     "output_type": "execute_result",
     "data": {
      "text/plain": [
       "864"
      ]
     },
     "metadata": {},
     "execution_count": 10
    }
   ],
   "source": [
    "dataset.n_records"
   ]
  },
  {
   "cell_type": "code",
   "execution_count": 11,
   "metadata": {},
   "outputs": [],
   "source": [
    "dataset.metadata.long_description_url = \"https://github.com/openforcefield/qca-dataset-submission/tree/master/submissions/2020-11-25-theory-bm-set-wb97x-v-def2-tzvpd\"\n",
    "dataset.metadata.submitter = 'hyejang'"
   ]
  },
  {
   "cell_type": "code",
   "execution_count": 12,
   "metadata": {},
   "outputs": [],
   "source": [
    "# export the dataset\n",
    "dataset.export_dataset(\"dataset.json.bz2\")"
   ]
  },
  {
   "cell_type": "code",
   "execution_count": 13,
   "metadata": {},
   "outputs": [],
   "source": [
    "dataset.molecules_to_file(\"theory-bm-set-curated.smi\", \"smi\")\n",
    "# export the molecules to pdf with torsions highlighted\n",
    "dataset.visualize(\"theory-bm-set-curated.pdf\", toolkit='openeye')"
   ]
  }
 ]
}