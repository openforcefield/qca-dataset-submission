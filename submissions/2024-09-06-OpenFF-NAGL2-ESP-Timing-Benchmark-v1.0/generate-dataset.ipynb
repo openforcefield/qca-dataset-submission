{
 "cells": [
  {
   "cell_type": "markdown",
   "id": "bab0dd68-9ab4-4d70-a4d8-73970a296fec",
   "metadata": {},
   "source": [
    "# Vacuum dataset"
   ]
  },
  {
   "cell_type": "code",
   "execution_count": 1,
   "id": "3d3cf7ba-e0db-439e-bb2e-983a2aa463ef",
   "metadata": {
    "execution": {
     "iopub.execute_input": "2024-09-18T01:17:29.148167Z",
     "iopub.status.busy": "2024-09-18T01:17:29.146791Z",
     "iopub.status.idle": "2024-09-18T01:17:34.471693Z",
     "shell.execute_reply": "2024-09-18T01:17:34.471158Z",
     "shell.execute_reply.started": "2024-09-18T01:17:29.148082Z"
    }
   },
   "outputs": [],
   "source": [
    "from qcportal import PortalClient\n",
    "from qcelemental.models.results import WavefunctionProtocolEnum\n",
    "from openff.qcsubmit.results import OptimizationResultCollection,BasicResultCollection\n",
    "from openff.qcsubmit.datasets import BasicDataset\n",
    "from openff.qcsubmit.results.filters import ConnectivityFilter, ConformerRMSDFilter\n",
    "from openff.qcsubmit.factories import BasicDatasetFactory\n",
    "from openff.qcsubmit.common_structures import Metadata, QCSpec"
   ]
  },
  {
   "cell_type": "markdown",
   "id": "c3600edd-6772-47fa-b4fa-9d4428851b8e",
   "metadata": {},
   "source": [
    "# Load datasets prepared in `subsample_esp_ds.ipynb`"
   ]
  },
  {
   "cell_type": "code",
   "execution_count": 2,
   "id": "b2d28e39-5696-4577-a0a8-c02b0a98d019",
   "metadata": {
    "execution": {
     "iopub.execute_input": "2024-09-18T01:17:34.473211Z",
     "iopub.status.busy": "2024-09-18T01:17:34.472898Z",
     "iopub.status.idle": "2024-09-18T01:17:34.992616Z",
     "shell.execute_reply": "2024-09-18T01:17:34.991128Z",
     "shell.execute_reply.started": "2024-09-18T01:17:34.473196Z"
    }
   },
   "outputs": [
    {
     "name": "stderr",
     "output_type": "stream",
     "text": [
      "WARNING: This client version is newer than the server version. This may work if the versions are close, but expect exceptions and errors if attempting things the server does not support. client version: 0.56, server version: 0.55\n"
     ]
    }
   ],
   "source": [
    "client = PortalClient(\"https://api.qcarchive.molssi.org:443/\")"
   ]
  },
  {
   "cell_type": "code",
   "execution_count": 3,
   "id": "ad9d088a-8000-41e0-b1e5-9b3978b886da",
   "metadata": {
    "execution": {
     "iopub.execute_input": "2024-09-18T01:17:34.999384Z",
     "iopub.status.busy": "2024-09-18T01:17:34.995941Z",
     "iopub.status.idle": "2024-09-18T01:17:35.007419Z",
     "shell.execute_reply": "2024-09-18T01:17:35.006438Z",
     "shell.execute_reply.started": "2024-09-18T01:17:34.999304Z"
    }
   },
   "outputs": [],
   "source": [
    "br_dataset = BasicResultCollection.parse_file('br_subsample_filtered.json')"
   ]
  },
  {
   "cell_type": "code",
   "execution_count": 4,
   "id": "d74a844f-e10c-4bfb-9614-29b8452aeb22",
   "metadata": {
    "execution": {
     "iopub.execute_input": "2024-09-18T01:17:35.011547Z",
     "iopub.status.busy": "2024-09-18T01:17:35.011057Z",
     "iopub.status.idle": "2024-09-18T01:17:35.032840Z",
     "shell.execute_reply": "2024-09-18T01:17:35.032174Z",
     "shell.execute_reply.started": "2024-09-18T01:17:35.011507Z"
    }
   },
   "outputs": [],
   "source": [
    "esp50k_dataset = BasicResultCollection.parse_file('esp_subsample_filtered.json')"
   ]
  },
  {
   "cell_type": "code",
   "execution_count": 5,
   "id": "0b585409-75f8-4e86-a62e-5cd2566dd573",
   "metadata": {
    "execution": {
     "iopub.execute_input": "2024-09-18T01:17:35.033831Z",
     "iopub.status.busy": "2024-09-18T01:17:35.033632Z",
     "iopub.status.idle": "2024-09-18T01:17:35.038480Z",
     "shell.execute_reply": "2024-09-18T01:17:35.037932Z",
     "shell.execute_reply.started": "2024-09-18T01:17:35.033812Z"
    }
   },
   "outputs": [],
   "source": [
    "i_dataset = BasicResultCollection.parse_file('i_subsample_filtered.json')"
   ]
  },
  {
   "cell_type": "code",
   "execution_count": 6,
   "id": "bf13b1f2-66ae-44e7-aed2-103bdfdfe822",
   "metadata": {
    "execution": {
     "iopub.execute_input": "2024-09-18T01:17:35.039685Z",
     "iopub.status.busy": "2024-09-18T01:17:35.039488Z",
     "iopub.status.idle": "2024-09-18T01:19:45.802684Z",
     "shell.execute_reply": "2024-09-18T01:19:45.801806Z",
     "shell.execute_reply.started": "2024-09-18T01:17:35.039667Z"
    }
   },
   "outputs": [
    {
     "name": "stderr",
     "output_type": "stream",
     "text": [
      "WARNING: This client version is newer than the server version. This may work if the versions are close, but expect exceptions and errors if attempting things the server does not support. client version: 0.56, server version: 0.55\n",
      "WARNING: This client version is newer than the server version. This may work if the versions are close, but expect exceptions and errors if attempting things the server does not support. client version: 0.56, server version: 0.55\n",
      "WARNING: This client version is newer than the server version. This may work if the versions are close, but expect exceptions and errors if attempting things the server does not support. client version: 0.56, server version: 0.55\n"
     ]
    }
   ],
   "source": [
    "# These were already filtered earlier\n",
    "br_records = br_dataset.to_records()\n",
    "esp50k_records = esp50k_dataset.to_records()\n",
    "i_records = i_dataset.to_records()"
   ]
  },
  {
   "cell_type": "markdown",
   "id": "4a825469-397a-415b-8d5d-016e798dac76",
   "metadata": {},
   "source": [
    "# Set up single points"
   ]
  },
  {
   "cell_type": "code",
   "execution_count": 7,
   "id": "03234d41-9add-4948-b9ba-6ad9f9d987cc",
   "metadata": {
    "execution": {
     "iopub.execute_input": "2024-09-18T01:19:45.805046Z",
     "iopub.status.busy": "2024-09-18T01:19:45.804439Z",
     "iopub.status.idle": "2024-09-18T01:19:45.809768Z",
     "shell.execute_reply": "2024-09-18T01:19:45.809195Z",
     "shell.execute_reply.started": "2024-09-18T01:19:45.805009Z"
    }
   },
   "outputs": [],
   "source": [
    "from openff.qcsubmit.common_structures import SCFProperties, Metadata\n",
    "\n",
    "# want a finer grid for wb97 functionals\n",
    "keywords = {\n",
    "    \"dft_spherical_points\": 590,\n",
    "    \"dft_radial_points\": 99\n",
    "}\n",
    "\n",
    "# let's calculate a bunch of stuff while we're at it; in case we decide to train on any of this.\n",
    "properties = [\n",
    "        SCFProperties.Dipole,\n",
    "        SCFProperties.Quadrupole,\n",
    "        SCFProperties.LowdinCharges,\n",
    "        SCFProperties.MullikenCharges,\n",
    "        SCFProperties.MBISCharges,\n",
    "        SCFProperties.MayerIndices,\n",
    "        SCFProperties.WibergLowdinIndices,\n",
    "        SCFProperties.DipolePolarizabilities,\n",
    "    ]\n"
   ]
  },
  {
   "cell_type": "code",
   "execution_count": 8,
   "id": "bba475b9-1fa9-4655-a6d7-bf52fae73682",
   "metadata": {
    "execution": {
     "iopub.execute_input": "2024-09-18T01:19:45.811295Z",
     "iopub.status.busy": "2024-09-18T01:19:45.810955Z",
     "iopub.status.idle": "2024-09-18T01:19:45.822426Z",
     "shell.execute_reply": "2024-09-18T01:19:45.821914Z",
     "shell.execute_reply.started": "2024-09-18T01:19:45.811271Z"
    }
   },
   "outputs": [],
   "source": [
    "from qcelemental.models import DriverEnum\n",
    "\n",
    "dataset = BasicDataset(\n",
    "    dataset_name=\"OpenFF NAGL2 ESP Timing Benchmark v1.0\",\n",
    "    dataset_tagline=\"PBE0/def2-TZVPPD single point calculations of ~1000 diverse molecules.\",\n",
    "    description=(\n",
    "        \"PBE0/def2-TZVPPD/vacuum single point calculations of ~1000 diverse molecules sub-sampled from the ESP50k, multi-BR ESP, and I fragment datasets, to benchmark computational cost.\"\n",
    "    ),\n",
    "    driver=DriverEnum.properties, # This was DriverEnum.energy for the other ESP datasets, but I think to calculate dipole etc it needs to be properties.\n",
    "    metadata=Metadata(\n",
    "        submitter=\"amcisaac\",\n",
    "        long_description_url=(\n",
    "            \"https://github.com/openforcefield/qca-dataset-submission/tree/master/submissions/2024-09-06-OpenFF-NAGL2-ESP-Timing-Benchmark-v1.0\"\n",
    "        )\n",
    "    ),\n",
    "    qc_specifications={\n",
    "        \"pbe0/def2-TZVPPD\": QCSpec(\n",
    "            program=\"psi4\",\n",
    "            method=\"pbe0\",\n",
    "            basis=\"def2-TZVPPD\",\n",
    "            spec_name=\"pbe0/def2-TZVPPD\",\n",
    "            spec_description=(\n",
    "                \"PBE0 functional with def2-TZVPPD basis set\"\n",
    "            ),\n",
    "            store_wavefunction=WavefunctionProtocolEnum.orbitals_and_eigenvalues,\n",
    "            keywords=keywords,\n",
    "            scf_properties=properties\n",
    "        ),\n",
    "            \n",
    "    }\n",
    ")"
   ]
  },
  {
   "cell_type": "code",
   "execution_count": 9,
   "id": "8e419645-dbaa-40aa-bec5-957cfd1586c7",
   "metadata": {
    "execution": {
     "iopub.execute_input": "2024-09-18T01:19:45.823620Z",
     "iopub.status.busy": "2024-09-18T01:19:45.823371Z",
     "iopub.status.idle": "2024-09-18T01:19:45.829985Z",
     "shell.execute_reply": "2024-09-18T01:19:45.829482Z",
     "shell.execute_reply.started": "2024-09-18T01:19:45.823600Z"
    }
   },
   "outputs": [
    {
     "data": {
      "text/plain": [
       "{'pbe0/def2-TZVPPD': QCSpecification(program='psi4', driver=<SinglepointDriver.properties: 'properties'>, method='pbe0', basis='def2-tzvppd', keywords={'maxiter': 200, 'function_kwargs': {'properties': [<SCFProperties.Dipole: 'dipole'>, <SCFProperties.Quadrupole: 'quadrupole'>, <SCFProperties.LowdinCharges: 'lowdin_charges'>, <SCFProperties.MullikenCharges: 'mulliken_charges'>, <SCFProperties.MBISCharges: 'mbis_charges'>, <SCFProperties.MayerIndices: 'mayer_indices'>, <SCFProperties.WibergLowdinIndices: 'wiberg_lowdin_indices'>, <SCFProperties.DipolePolarizabilities: 'dipole_polarizabilities'>]}, 'dft_spherical_points': 590, 'dft_radial_points': 99}, protocols=AtomicResultProtocols(wavefunction=<WavefunctionProtocolEnum.orbitals_and_eigenvalues: 'orbitals_and_eigenvalues'>, stdout=True, error_correction=ErrorCorrectionProtocol(default_policy=True, policies=None), native_files=<NativeFilesProtocolEnum.none: 'none'>))}"
      ]
     },
     "execution_count": 9,
     "metadata": {},
     "output_type": "execute_result"
    }
   ],
   "source": [
    "dataset._get_specifications()"
   ]
  },
  {
   "cell_type": "code",
   "execution_count": 10,
   "id": "5048614b-3837-4064-b52d-f2a55be38bfb",
   "metadata": {
    "execution": {
     "iopub.execute_input": "2024-09-18T01:19:45.833123Z",
     "iopub.status.busy": "2024-09-18T01:19:45.832900Z",
     "iopub.status.idle": "2024-09-18T01:19:46.933231Z",
     "shell.execute_reply": "2024-09-18T01:19:46.932807Z",
     "shell.execute_reply.started": "2024-09-18T01:19:45.833101Z"
    }
   },
   "outputs": [],
   "source": [
    "from collections import defaultdict\n",
    "\n",
    "records_by_cmiles = defaultdict(list)\n",
    "for record, molecule in br_records + esp50k_records + i_records:\n",
    "    records_by_cmiles[\n",
    "        molecule.to_smiles(isomeric=True, explicit_hydrogens=True, mapped=True)\n",
    "    ].append((record, molecule))"
   ]
  },
  {
   "cell_type": "code",
   "execution_count": 12,
   "id": "3588d626-2900-4570-97eb-aa8b01395924",
   "metadata": {
    "execution": {
     "iopub.execute_input": "2024-09-18T01:32:49.761803Z",
     "iopub.status.busy": "2024-09-18T01:32:49.760438Z",
     "iopub.status.idle": "2024-09-18T01:38:31.079896Z",
     "shell.execute_reply": "2024-09-18T01:38:31.078495Z",
     "shell.execute_reply.started": "2024-09-18T01:32:49.761735Z"
    }
   },
   "outputs": [
    {
     "name": "stderr",
     "output_type": "stream",
     "text": [
      "100%|███████████████████████████████████████████████████████████████| 1005/1005 [05:41<00:00,  2.94it/s]\n"
     ]
    }
   ],
   "source": [
    "from openff.qcsubmit.common_structures import MoleculeAttributes\n",
    "import tqdm\n",
    "\n",
    "for records in tqdm.tqdm(records_by_cmiles.values(), total=len(records_by_cmiles)):\n",
    "    base_record, base_molecule = records[0]\n",
    "    base_molecule._conformers = [m.conformers[0] for _, m in records]\n",
    "\n",
    "    dataset.add_molecule(\n",
    "        index=base_molecule.to_smiles(\n",
    "            isomeric=True, explicit_hydrogens=False, mapped=False\n",
    "        ),\n",
    "        molecule=base_molecule,\n",
    "        attributes=MoleculeAttributes.from_openff_molecule(base_molecule),\n",
    "        extras=base_record.extras,\n",
    "        keywords=base_record.to_qcschema_result().keywords,\n",
    "    )"
   ]
  },
  {
   "cell_type": "markdown",
   "id": "8e812a07-bd89-47f2-9380-6c939838aac6",
   "metadata": {},
   "source": [
    "# Exporting dataset"
   ]
  },
  {
   "cell_type": "code",
   "execution_count": 13,
   "id": "d69c1de7-42a6-407f-a555-6fc5a7ef0e61",
   "metadata": {
    "execution": {
     "iopub.execute_input": "2024-09-18T01:43:13.305419Z",
     "iopub.status.busy": "2024-09-18T01:43:13.303656Z",
     "iopub.status.idle": "2024-09-18T01:43:16.828581Z",
     "shell.execute_reply": "2024-09-18T01:43:16.828007Z",
     "shell.execute_reply.started": "2024-09-18T01:43:13.305347Z"
    }
   },
   "outputs": [
    {
     "name": "stdout",
     "output_type": "stream",
     "text": [
      "{'pbe0/def2-TZVPPD': QCSpec(method='pbe0', basis='def2-TZVPPD', program='psi4', spec_name='pbe0/def2-TZVPPD', spec_description='PBE0 functional with def2-TZVPPD basis set', store_wavefunction=<WavefunctionProtocolEnum.orbitals_and_eigenvalues: 'orbitals_and_eigenvalues'>, implicit_solvent=None, maxiter=200, scf_properties=[<SCFProperties.Dipole: 'dipole'>, <SCFProperties.Quadrupole: 'quadrupole'>, <SCFProperties.LowdinCharges: 'lowdin_charges'>, <SCFProperties.MullikenCharges: 'mulliken_charges'>, <SCFProperties.MBISCharges: 'mbis_charges'>, <SCFProperties.MayerIndices: 'mayer_indices'>, <SCFProperties.WibergLowdinIndices: 'wiberg_lowdin_indices'>, <SCFProperties.DipolePolarizabilities: 'dipole_polarizabilities'>], keywords={'dft_spherical_points': 590, 'dft_radial_points': 99})}\n"
     ]
    }
   ],
   "source": [
    "dataset.export_dataset(\"dataset.json.bz2\")\n",
    "dataset.molecules_to_file('dataset.smi', 'smi')\n",
    "dataset.visualize(\"dataset.pdf\", columns=8)\n",
    "\n",
    "print(dataset.qc_specifications)"
   ]
  },
  {
   "cell_type": "markdown",
   "id": "88a45064-d703-457e-b29b-ba0aa758ca9a",
   "metadata": {},
   "source": [
    "# Dataset information"
   ]
  },
  {
   "cell_type": "code",
   "execution_count": 14,
   "id": "dc940078-e0e4-4395-9e71-69e49064d3a1",
   "metadata": {
    "execution": {
     "iopub.execute_input": "2024-09-18T01:43:16.829738Z",
     "iopub.status.busy": "2024-09-18T01:43:16.829532Z",
     "iopub.status.idle": "2024-09-18T01:43:16.832278Z",
     "shell.execute_reply": "2024-09-18T01:43:16.831792Z",
     "shell.execute_reply.started": "2024-09-18T01:43:16.829724Z"
    }
   },
   "outputs": [],
   "source": [
    "import numpy as np\n",
    "from collections import Counter"
   ]
  },
  {
   "cell_type": "code",
   "execution_count": 15,
   "id": "388aff3d-ff0a-4c36-9d83-e6ec82d31db8",
   "metadata": {
    "execution": {
     "iopub.execute_input": "2024-09-18T01:43:16.833083Z",
     "iopub.status.busy": "2024-09-18T01:43:16.832926Z",
     "iopub.status.idle": "2024-09-18T01:43:16.855679Z",
     "shell.execute_reply": "2024-09-18T01:43:16.855232Z",
     "shell.execute_reply.started": "2024-09-18T01:43:16.833071Z"
    }
   },
   "outputs": [
    {
     "name": "stdout",
     "output_type": "stream",
     "text": [
      "n_molecules: 1005\n",
      "n_conformers: 1009\n"
     ]
    }
   ],
   "source": [
    "print(\"n_molecules:\", dataset.n_molecules)\n",
    "print(\"n_conformers:\", dataset.n_records)"
   ]
  },
  {
   "cell_type": "code",
   "execution_count": 16,
   "id": "8e7d50e8-201d-4f32-a2fd-c3daa60fe35d",
   "metadata": {
    "execution": {
     "iopub.execute_input": "2024-09-18T01:43:16.857318Z",
     "iopub.status.busy": "2024-09-18T01:43:16.857113Z",
     "iopub.status.idle": "2024-09-18T01:43:21.234228Z",
     "shell.execute_reply": "2024-09-18T01:43:21.233858Z",
     "shell.execute_reply.started": "2024-09-18T01:43:16.857302Z"
    }
   },
   "outputs": [],
   "source": [
    "n_confs = np.array(\n",
    "    [mol.n_conformers for mol in dataset.molecules]\n",
    ")\n",
    "n_heavy_atoms = np.array(\n",
    "    [mol.to_rdkit().GetNumHeavyAtoms() for mol in dataset.molecules]\n",
    ")"
   ]
  },
  {
   "cell_type": "code",
   "execution_count": 17,
   "id": "7ccb51cc-523a-43cd-8ab0-b5d63f9141fc",
   "metadata": {
    "execution": {
     "iopub.execute_input": "2024-09-18T01:43:21.235045Z",
     "iopub.status.busy": "2024-09-18T01:43:21.234914Z",
     "iopub.status.idle": "2024-09-18T01:43:21.239345Z",
     "shell.execute_reply": "2024-09-18T01:43:21.239063Z",
     "shell.execute_reply.started": "2024-09-18T01:43:21.235033Z"
    }
   },
   "outputs": [
    {
     "name": "stdout",
     "output_type": "stream",
     "text": [
      "Number of conformers (min, mean, max): 1 1.0039800995024875 2\n",
      "# heavy atoms\n",
      "  4: 3\n",
      "  5: 4\n",
      "  6: 23\n",
      "  7: 46\n",
      "  8: 121\n",
      "  9: 180\n",
      " 10: 180\n",
      " 11: 230\n",
      " 12: 218\n"
     ]
    }
   ],
   "source": [
    "print(\n",
    "    \"Number of conformers (min, mean, max):\",\n",
    "    n_confs.min(), n_confs.mean(), n_confs.max()\n",
    ")\n",
    "print(\"# heavy atoms\")\n",
    "counts = Counter(n_heavy_atoms)\n",
    "for n_heavy in sorted(counts):\n",
    "    print(f\"{str(n_heavy):>3}: {counts[n_heavy]}\")"
   ]
  },
  {
   "cell_type": "code",
   "execution_count": 18,
   "id": "62625c83-8904-44f7-b219-8c88827bb971",
   "metadata": {
    "execution": {
     "iopub.execute_input": "2024-09-18T01:43:21.240103Z",
     "iopub.status.busy": "2024-09-18T01:43:21.239931Z",
     "iopub.status.idle": "2024-09-18T01:43:23.067562Z",
     "shell.execute_reply": "2024-09-18T01:43:23.067192Z",
     "shell.execute_reply.started": "2024-09-18T01:43:21.240085Z"
    }
   },
   "outputs": [
    {
     "data": {
      "text/plain": [
       "{-4.0, -3.0, -2.0, -1.0, 0.0, 1.0, 2.0}"
      ]
     },
     "execution_count": 18,
     "metadata": {},
     "output_type": "execute_result"
    }
   ],
   "source": [
    "from openff.units import unit\n",
    "unique_charges = set([\n",
    "    mol.total_charge.m_as(unit.elementary_charge)\n",
    "    for mol in dataset.molecules\n",
    "])\n",
    "unique_charges"
   ]
  },
  {
   "cell_type": "code",
   "execution_count": 19,
   "id": "f0291cf3-b3b4-4dfd-a2ac-07612c8d713a",
   "metadata": {
    "execution": {
     "iopub.execute_input": "2024-09-18T01:43:23.068405Z",
     "iopub.status.busy": "2024-09-18T01:43:23.068270Z",
     "iopub.status.idle": "2024-09-18T01:43:24.622545Z",
     "shell.execute_reply": "2024-09-18T01:43:24.622162Z",
     "shell.execute_reply.started": "2024-09-18T01:43:23.068392Z"
    }
   },
   "outputs": [
    {
     "name": "stdout",
     "output_type": "stream",
     "text": [
      "MW (min, mean, max): 58.10263600000002 155.14636379830847 329.815488\n"
     ]
    }
   ],
   "source": [
    "\n",
    "masses = np.array([\n",
    "    sum([atom.mass.m for atom in mol.atoms])\n",
    "    for mol in dataset.molecules\n",
    "])\n",
    "print(\"MW (min, mean, max):\", masses.min(), masses.mean(), masses.max())"
   ]
  },
  {
   "cell_type": "code",
   "execution_count": 20,
   "id": "4d17e60d-eb09-4a0c-a243-8c05fba536db",
   "metadata": {
    "execution": {
     "iopub.execute_input": "2024-09-18T01:43:24.623304Z",
     "iopub.status.busy": "2024-09-18T01:43:24.623172Z",
     "iopub.status.idle": "2024-09-18T01:43:26.177590Z",
     "shell.execute_reply": "2024-09-18T01:43:26.177206Z",
     "shell.execute_reply.started": "2024-09-18T01:43:24.623290Z"
    }
   },
   "outputs": [
    {
     "name": "stdout",
     "output_type": "stream",
     "text": [
      "{'C', 'N', 'O', 'Br', 'S', 'H', 'F', 'I', 'P', 'Cl'}\n"
     ]
    }
   ],
   "source": [
    "elements = set(\n",
    "    atom.symbol\n",
    "    for mol in dataset.molecules\n",
    "    for atom in mol.atoms\n",
    ")\n",
    "print(elements)"
   ]
  },
  {
   "cell_type": "code",
   "execution_count": null,
   "id": "5bc6ee5d-590a-418b-98d1-2f0fa5b8119f",
   "metadata": {},
   "outputs": [],
   "source": []
  },
  {
   "cell_type": "code",
   "execution_count": null,
   "id": "09dd2cfa-62c0-4681-a44e-bdac427fd96d",
   "metadata": {},
   "outputs": [],
   "source": []
  }
 ],
 "metadata": {
  "kernelspec": {
   "display_name": "Python 3 (ipykernel)",
   "language": "python",
   "name": "python3"
  },
  "language_info": {
   "codemirror_mode": {
    "name": "ipython",
    "version": 3
   },
   "file_extension": ".py",
   "mimetype": "text/x-python",
   "name": "python",
   "nbconvert_exporter": "python",
   "pygments_lexer": "ipython3",
   "version": "3.9.19"
  }
 },
 "nbformat": 4,
 "nbformat_minor": 5
}
