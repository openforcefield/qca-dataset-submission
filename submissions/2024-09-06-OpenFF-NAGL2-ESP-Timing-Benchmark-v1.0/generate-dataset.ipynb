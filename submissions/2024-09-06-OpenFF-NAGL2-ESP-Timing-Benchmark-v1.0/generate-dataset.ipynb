{
 "cells": [
  {
   "cell_type": "code",
   "execution_count": 1,
   "id": "3d3cf7ba-e0db-439e-bb2e-983a2aa463ef",
   "metadata": {
    "execution": {
     "iopub.execute_input": "2024-09-06T20:35:16.893890Z",
     "iopub.status.busy": "2024-09-06T20:35:16.886236Z",
     "iopub.status.idle": "2024-09-06T20:35:31.514224Z",
     "shell.execute_reply": "2024-09-06T20:35:31.513637Z",
     "shell.execute_reply.started": "2024-09-06T20:35:16.893774Z"
    }
   },
   "outputs": [],
   "source": [
    "from qcportal import PortalClient\n",
    "from qcelemental.models.results import WavefunctionProtocolEnum\n",
    "from openff.qcsubmit.results import OptimizationResultCollection,BasicResultCollection\n",
    "from openff.qcsubmit.datasets import BasicDataset\n",
    "from openff.qcsubmit.results.filters import ConnectivityFilter, ConformerRMSDFilter\n",
    "from openff.qcsubmit.factories import BasicDatasetFactory\n",
    "from openff.qcsubmit.common_structures import Metadata, QCSpec\n"
   ]
  },
  {
   "cell_type": "markdown",
   "id": "c3600edd-6772-47fa-b4fa-9d4428851b8e",
   "metadata": {},
   "source": [
    "# Load datasets prepared in `subsample_esp_ds.ipynb`"
   ]
  },
  {
   "cell_type": "code",
   "execution_count": 2,
   "id": "b2d28e39-5696-4577-a0a8-c02b0a98d019",
   "metadata": {
    "execution": {
     "iopub.execute_input": "2024-09-06T20:37:11.385393Z",
     "iopub.status.busy": "2024-09-06T20:37:11.380554Z",
     "iopub.status.idle": "2024-09-06T20:37:11.845822Z",
     "shell.execute_reply": "2024-09-06T20:37:11.844536Z",
     "shell.execute_reply.started": "2024-09-06T20:37:11.385291Z"
    }
   },
   "outputs": [
    {
     "name": "stderr",
     "output_type": "stream",
     "text": [
      "WARNING: This client version is newer than the server version. This may work if the versions are close, but expect exceptions and errors if attempting things the server does not support. client version: 0.56, server version: 0.55\n"
     ]
    }
   ],
   "source": [
    "client = PortalClient(\"https://api.qcarchive.molssi.org:443/\")"
   ]
  },
  {
   "cell_type": "code",
   "execution_count": 3,
   "id": "ad9d088a-8000-41e0-b1e5-9b3978b886da",
   "metadata": {
    "execution": {
     "iopub.execute_input": "2024-09-06T20:37:42.543878Z",
     "iopub.status.busy": "2024-09-06T20:37:42.543559Z",
     "iopub.status.idle": "2024-09-06T20:37:42.547548Z",
     "shell.execute_reply": "2024-09-06T20:37:42.547064Z",
     "shell.execute_reply.started": "2024-09-06T20:37:42.543856Z"
    }
   },
   "outputs": [],
   "source": [
    "br_dataset = OptimizationResultCollection.parse_file('br_subsample_filtered.json')"
   ]
  },
  {
   "cell_type": "code",
   "execution_count": 4,
   "id": "d74a844f-e10c-4bfb-9614-29b8452aeb22",
   "metadata": {
    "execution": {
     "iopub.execute_input": "2024-09-06T20:37:58.898480Z",
     "iopub.status.busy": "2024-09-06T20:37:58.896804Z",
     "iopub.status.idle": "2024-09-06T20:37:58.927319Z",
     "shell.execute_reply": "2024-09-06T20:37:58.926758Z",
     "shell.execute_reply.started": "2024-09-06T20:37:58.898154Z"
    }
   },
   "outputs": [],
   "source": [
    "esp50k_dataset = BasicResultCollection.parse_file('esp_subsample_filtered.json')"
   ]
  },
  {
   "cell_type": "markdown",
   "id": "4a825469-397a-415b-8d5d-016e798dac76",
   "metadata": {},
   "source": [
    "# Set up single points"
   ]
  },
  {
   "cell_type": "code",
   "execution_count": null,
   "id": "bba475b9-1fa9-4655-a6d7-bf52fae73682",
   "metadata": {},
   "outputs": [],
   "source": [
    "from qcelemental.models import DriverEnum\n",
    "\n",
    "dataset = BasicDataset(\n",
    "    dataset_name=\"OpenFF NAGL2 ESP Timing Benchmark v1.0\",\n",
    "    dataset_tagline=\"wB97X-V/def2-TZVPPD single point calculations of ~1000 diverse molecules.\",\n",
    "    description=(\n",
    "        \"wB97X-V single point calculations of ~1000 diverse molecules sub-sampled from the ESP50k and multi-BR ESP datasets, to benchmark computational cost.\"\n",
    "    ),\n",
    "    driver=DriverEnum.energy,\n",
    "    metadata=Metadata(\n",
    "        submitter=\"amcisaac\",\n",
    "        long_description_url=(\n",
    "            \"https://github.com/openforcefield/qca-dataset-submission/tree/master/\"\n",
    "            \"submissions/\"\n",
    "            \"2023-11-30-OpenFF-multi-Br-ESP-Fragment-Conformers-v1.1-single-point\"\n",
    "        )\n",
    "    ),\n",
    "    qc_specifications={\n",
    "        \"HF/6-31G*\": QCSpec(\n",
    "            program=\"psi4\",\n",
    "            method=\"hf\",\n",
    "            basis=\"6-31G*\",\n",
    "            spec_name=\"HF/6-31G*\",\n",
    "            spec_description=(\n",
    "                \"The standard HF/6-31G* basis used to derive RESP style charges.\"\n",
    "            ),\n",
    "            store_wavefunction=WavefunctionProtocolEnum.orbitals_and_eigenvalues,\n",
    "        )\n",
    "    }\n",
    ")"
   ]
  }
 ],
 "metadata": {
  "kernelspec": {
   "display_name": "Python 3 (ipykernel)",
   "language": "python",
   "name": "python3"
  },
  "language_info": {
   "codemirror_mode": {
    "name": "ipython",
    "version": 3
   },
   "file_extension": ".py",
   "mimetype": "text/x-python",
   "name": "python",
   "nbconvert_exporter": "python",
   "pygments_lexer": "ipython3",
   "version": "3.9.19"
  }
 },
 "nbformat": 4,
 "nbformat_minor": 5
}
