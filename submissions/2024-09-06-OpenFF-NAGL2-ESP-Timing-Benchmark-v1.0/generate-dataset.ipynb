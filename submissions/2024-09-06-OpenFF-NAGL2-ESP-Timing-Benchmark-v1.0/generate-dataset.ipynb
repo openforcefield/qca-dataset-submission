{
 "cells": [
  {
   "cell_type": "markdown",
   "id": "bab0dd68-9ab4-4d70-a4d8-73970a296fec",
   "metadata": {},
   "source": [
    "# Vacuum dataset"
   ]
  },
  {
   "cell_type": "code",
   "execution_count": 1,
   "id": "3d3cf7ba-e0db-439e-bb2e-983a2aa463ef",
   "metadata": {
    "execution": {
     "iopub.execute_input": "2024-09-06T22:30:16.182472Z",
     "iopub.status.busy": "2024-09-06T22:30:16.181068Z",
     "iopub.status.idle": "2024-09-06T22:30:20.989032Z",
     "shell.execute_reply": "2024-09-06T22:30:20.988379Z",
     "shell.execute_reply.started": "2024-09-06T22:30:16.181954Z"
    }
   },
   "outputs": [],
   "source": [
    "from qcportal import PortalClient\n",
    "from qcelemental.models.results import WavefunctionProtocolEnum\n",
    "from openff.qcsubmit.results import OptimizationResultCollection,BasicResultCollection\n",
    "from openff.qcsubmit.datasets import BasicDataset\n",
    "from openff.qcsubmit.results.filters import ConnectivityFilter, ConformerRMSDFilter\n",
    "from openff.qcsubmit.factories import BasicDatasetFactory\n",
    "from openff.qcsubmit.common_structures import Metadata, QCSpec\n"
   ]
  },
  {
   "cell_type": "markdown",
   "id": "c3600edd-6772-47fa-b4fa-9d4428851b8e",
   "metadata": {},
   "source": [
    "# Load datasets prepared in `subsample_esp_ds.ipynb`"
   ]
  },
  {
   "cell_type": "code",
   "execution_count": 2,
   "id": "b2d28e39-5696-4577-a0a8-c02b0a98d019",
   "metadata": {
    "execution": {
     "iopub.execute_input": "2024-09-06T22:30:23.844894Z",
     "iopub.status.busy": "2024-09-06T22:30:23.843750Z",
     "iopub.status.idle": "2024-09-06T22:30:24.233094Z",
     "shell.execute_reply": "2024-09-06T22:30:24.230950Z",
     "shell.execute_reply.started": "2024-09-06T22:30:23.844853Z"
    }
   },
   "outputs": [
    {
     "name": "stderr",
     "output_type": "stream",
     "text": [
      "WARNING: This client version is newer than the server version. This may work if the versions are close, but expect exceptions and errors if attempting things the server does not support. client version: 0.56, server version: 0.55\n"
     ]
    }
   ],
   "source": [
    "client = PortalClient(\"https://api.qcarchive.molssi.org:443/\")"
   ]
  },
  {
   "cell_type": "code",
   "execution_count": 3,
   "id": "ad9d088a-8000-41e0-b1e5-9b3978b886da",
   "metadata": {
    "execution": {
     "iopub.execute_input": "2024-09-06T22:30:24.238626Z",
     "iopub.status.busy": "2024-09-06T22:30:24.236799Z",
     "iopub.status.idle": "2024-09-06T22:30:24.246491Z",
     "shell.execute_reply": "2024-09-06T22:30:24.245448Z",
     "shell.execute_reply.started": "2024-09-06T22:30:24.238400Z"
    }
   },
   "outputs": [],
   "source": [
    "br_dataset = BasicResultCollection.parse_file('br_subsample_filtered.json')"
   ]
  },
  {
   "cell_type": "code",
   "execution_count": 4,
   "id": "d74a844f-e10c-4bfb-9614-29b8452aeb22",
   "metadata": {
    "execution": {
     "iopub.execute_input": "2024-09-06T22:30:25.518145Z",
     "iopub.status.busy": "2024-09-06T22:30:25.516389Z",
     "iopub.status.idle": "2024-09-06T22:30:25.546631Z",
     "shell.execute_reply": "2024-09-06T22:30:25.546075Z",
     "shell.execute_reply.started": "2024-09-06T22:30:25.518013Z"
    }
   },
   "outputs": [],
   "source": [
    "esp50k_dataset = BasicResultCollection.parse_file('esp_subsample_filtered.json')"
   ]
  },
  {
   "cell_type": "code",
   "execution_count": 5,
   "id": "bf13b1f2-66ae-44e7-aed2-103bdfdfe822",
   "metadata": {
    "execution": {
     "iopub.execute_input": "2024-09-06T22:30:36.194178Z",
     "iopub.status.busy": "2024-09-06T22:30:36.193685Z",
     "iopub.status.idle": "2024-09-06T22:32:47.209244Z",
     "shell.execute_reply": "2024-09-06T22:32:47.207765Z",
     "shell.execute_reply.started": "2024-09-06T22:30:36.194149Z"
    }
   },
   "outputs": [
    {
     "name": "stderr",
     "output_type": "stream",
     "text": [
      "WARNING: This client version is newer than the server version. This may work if the versions are close, but expect exceptions and errors if attempting things the server does not support. client version: 0.56, server version: 0.55\n",
      "WARNING: This client version is newer than the server version. This may work if the versions are close, but expect exceptions and errors if attempting things the server does not support. client version: 0.56, server version: 0.55\n"
     ]
    }
   ],
   "source": [
    "# These were already filtered earlier\n",
    "br_records = br_dataset.to_records()\n",
    "esp50k_records = esp50k_dataset.to_records()"
   ]
  },
  {
   "cell_type": "markdown",
   "id": "4a825469-397a-415b-8d5d-016e798dac76",
   "metadata": {},
   "source": [
    "# Set up single points"
   ]
  },
  {
   "cell_type": "code",
   "execution_count": 6,
   "id": "03234d41-9add-4948-b9ba-6ad9f9d987cc",
   "metadata": {
    "execution": {
     "iopub.execute_input": "2024-09-06T22:33:00.399919Z",
     "iopub.status.busy": "2024-09-06T22:33:00.398759Z",
     "iopub.status.idle": "2024-09-06T22:33:00.410830Z",
     "shell.execute_reply": "2024-09-06T22:33:00.409399Z",
     "shell.execute_reply.started": "2024-09-06T22:33:00.399860Z"
    }
   },
   "outputs": [],
   "source": [
    "from openff.qcsubmit.common_structures import SCFProperties, Metadata\n",
    "\n",
    "# want a finer grid for wb97 functionals\n",
    "keywords = {\n",
    "    \"dft_spherical_points\": 590,\n",
    "    \"dft_radial_points\": 99\n",
    "}\n",
    "\n",
    "# let's calculate a bunch of stuff while we're at it; in case we decide to train on any of this.\n",
    "properties = [\n",
    "        SCFProperties.Dipole,\n",
    "        SCFProperties.Quadrupole,\n",
    "        SCFProperties.LowdinCharges,\n",
    "        SCFProperties.MullikenCharges,\n",
    "        SCFProperties.MBISCharges,\n",
    "        SCFProperties.MayerIndices,\n",
    "        SCFProperties.WibergLowdinIndices,\n",
    "        SCFProperties.DipolePolarizabilities,\n",
    "    ]\n"
   ]
  },
  {
   "cell_type": "code",
   "execution_count": 7,
   "id": "bba475b9-1fa9-4655-a6d7-bf52fae73682",
   "metadata": {
    "execution": {
     "iopub.execute_input": "2024-09-06T22:33:04.800518Z",
     "iopub.status.busy": "2024-09-06T22:33:04.795619Z",
     "iopub.status.idle": "2024-09-06T22:33:04.829729Z",
     "shell.execute_reply": "2024-09-06T22:33:04.829159Z",
     "shell.execute_reply.started": "2024-09-06T22:33:04.800405Z"
    }
   },
   "outputs": [],
   "source": [
    "from qcelemental.models import DriverEnum\n",
    "\n",
    "dataset = BasicDataset(\n",
    "    dataset_name=\"OpenFF NAGL2 ESP Timing Benchmark v1.0\",\n",
    "    dataset_tagline=\"wB97X-V/def2-TZVPPD single point calculations of ~1000 diverse molecules.\",\n",
    "    description=(\n",
    "        \"wB97X-V/def2-TZVPPD/vacuum single point calculations of ~1000 diverse molecules sub-sampled from the ESP50k and multi-BR ESP datasets, to benchmark computational cost.\"\n",
    "    ),\n",
    "    driver=DriverEnum.properties, # This was DriverEnum.energy for the other ESP datasets, but I think to calculate dipole etc it needs to be properties.\n",
    "    metadata=Metadata(\n",
    "        submitter=\"amcisaac\",\n",
    "        long_description_url=(\n",
    "            \"https://github.com/openforcefield/qca-dataset-submission/tree/master/submissions/2024-09-06-OpenFF-NAGL2-ESP-Timing-Benchmark-v1.0\"\n",
    "        )\n",
    "    ),\n",
    "    qc_specifications={\n",
    "        \"wB97X-V/def2-TZVPPD\": QCSpec(\n",
    "            program=\"psi4\",\n",
    "            method=\"wb97X-V\",\n",
    "            basis=\"def2-TZVPPD\",\n",
    "            spec_name=\"wB97X-V/def2-TZVPPD\",\n",
    "            spec_description=(\n",
    "                \"wB97X-V functional with def2-TZVPPD basis set\"\n",
    "            ),\n",
    "            store_wavefunction=WavefunctionProtocolEnum.orbitals_and_eigenvalues,\n",
    "            keywords=keywords,\n",
    "            scf_properties=properties\n",
    "        ),\n",
    "            \n",
    "    }\n",
    ")"
   ]
  },
  {
   "cell_type": "code",
   "execution_count": 8,
   "id": "8e419645-dbaa-40aa-bec5-957cfd1586c7",
   "metadata": {
    "execution": {
     "iopub.execute_input": "2024-09-06T22:33:08.169741Z",
     "iopub.status.busy": "2024-09-06T22:33:08.167931Z",
     "iopub.status.idle": "2024-09-06T22:33:08.185379Z",
     "shell.execute_reply": "2024-09-06T22:33:08.183684Z",
     "shell.execute_reply.started": "2024-09-06T22:33:08.169651Z"
    }
   },
   "outputs": [
    {
     "data": {
      "text/plain": [
       "{'wB97X-V/def2-TZVPPD': QCSpecification(program='psi4', driver=<SinglepointDriver.properties: 'properties'>, method='wb97x-v', basis='def2-tzvppd', keywords={'maxiter': 200, 'function_kwargs': {'properties': [<SCFProperties.Dipole: 'dipole'>, <SCFProperties.Quadrupole: 'quadrupole'>, <SCFProperties.LowdinCharges: 'lowdin_charges'>, <SCFProperties.MullikenCharges: 'mulliken_charges'>, <SCFProperties.MBISCharges: 'mbis_charges'>, <SCFProperties.MayerIndices: 'mayer_indices'>, <SCFProperties.WibergLowdinIndices: 'wiberg_lowdin_indices'>, <SCFProperties.DipolePolarizabilities: 'dipole_polarizabilities'>]}, 'dft_spherical_points': 590, 'dft_radial_points': 99}, protocols=AtomicResultProtocols(wavefunction=<WavefunctionProtocolEnum.orbitals_and_eigenvalues: 'orbitals_and_eigenvalues'>, stdout=True, error_correction=ErrorCorrectionProtocol(default_policy=True, policies=None), native_files=<NativeFilesProtocolEnum.none: 'none'>))}"
      ]
     },
     "execution_count": 8,
     "metadata": {},
     "output_type": "execute_result"
    }
   ],
   "source": [
    "dataset._get_specifications()"
   ]
  },
  {
   "cell_type": "code",
   "execution_count": 10,
   "id": "5048614b-3837-4064-b52d-f2a55be38bfb",
   "metadata": {
    "execution": {
     "iopub.execute_input": "2024-09-06T22:35:06.936244Z",
     "iopub.status.busy": "2024-09-06T22:35:06.934768Z",
     "iopub.status.idle": "2024-09-06T22:35:07.621937Z",
     "shell.execute_reply": "2024-09-06T22:35:07.621483Z",
     "shell.execute_reply.started": "2024-09-06T22:35:06.936199Z"
    }
   },
   "outputs": [],
   "source": [
    "from collections import defaultdict\n",
    "\n",
    "records_by_cmiles = defaultdict(list)\n",
    "for record, molecule in br_records + esp50k_records:\n",
    "    records_by_cmiles[\n",
    "        molecule.to_smiles(isomeric=True, explicit_hydrogens=True, mapped=True)\n",
    "    ].append((record, molecule))"
   ]
  },
  {
   "cell_type": "code",
   "execution_count": 11,
   "id": "3588d626-2900-4570-97eb-aa8b01395924",
   "metadata": {
    "execution": {
     "iopub.execute_input": "2024-09-06T22:36:23.477159Z",
     "iopub.status.busy": "2024-09-06T22:36:23.471156Z",
     "iopub.status.idle": "2024-09-06T22:56:02.090563Z",
     "shell.execute_reply": "2024-09-06T22:56:02.088809Z",
     "shell.execute_reply.started": "2024-09-06T22:36:23.477073Z"
    }
   },
   "outputs": [
    {
     "name": "stderr",
     "output_type": "stream",
     "text": [
      " 31%|██████████████████████████████████████████████▏                                                                                                       | 306/995 [03:21<07:21,  1.56it/s]Connection failed: ('Connection aborted.', TimeoutError(60, 'Operation timed out')) - retrying in 0.52 seconds [1/5]\n",
      "100%|██████████████████████████████████████████████████████████████████████████████████████████████████████████████████████████████████████████████████████| 995/995 [19:38<00:00,  1.18s/it]\n"
     ]
    }
   ],
   "source": [
    "from openff.qcsubmit.common_structures import MoleculeAttributes\n",
    "import tqdm\n",
    "\n",
    "for records in tqdm.tqdm(records_by_cmiles.values(), total=len(records_by_cmiles)):\n",
    "    base_record, base_molecule = records[0]\n",
    "    base_molecule._conformers = [m.conformers[0] for _, m in records]\n",
    "\n",
    "    dataset.add_molecule(\n",
    "        index=base_molecule.to_smiles(\n",
    "            isomeric=True, explicit_hydrogens=False, mapped=False\n",
    "        ),\n",
    "        molecule=base_molecule,\n",
    "        attributes=MoleculeAttributes.from_openff_molecule(base_molecule),\n",
    "        extras=base_record.extras,\n",
    "        keywords=base_record.to_qcschema_result().keywords,\n",
    "    )"
   ]
  },
  {
   "cell_type": "markdown",
   "id": "8e812a07-bd89-47f2-9380-6c939838aac6",
   "metadata": {},
   "source": [
    "# Exporting dataset"
   ]
  },
  {
   "cell_type": "code",
   "execution_count": 12,
   "id": "d69c1de7-42a6-407f-a555-6fc5a7ef0e61",
   "metadata": {
    "execution": {
     "iopub.execute_input": "2024-09-06T23:06:56.152144Z",
     "iopub.status.busy": "2024-09-06T23:06:56.149508Z",
     "iopub.status.idle": "2024-09-06T23:07:00.863053Z",
     "shell.execute_reply": "2024-09-06T23:07:00.862419Z",
     "shell.execute_reply.started": "2024-09-06T23:06:56.152103Z"
    }
   },
   "outputs": [
    {
     "name": "stdout",
     "output_type": "stream",
     "text": [
      "{'wB97X-V/def2-TZVPPD': QCSpec(method='wb97X-V', basis='def2-TZVPPD', program='psi4', spec_name='wB97X-V/def2-TZVPPD', spec_description='wB97X-V functional with def2-TZVPPD basis set', store_wavefunction=<WavefunctionProtocolEnum.orbitals_and_eigenvalues: 'orbitals_and_eigenvalues'>, implicit_solvent=None, maxiter=200, scf_properties=[<SCFProperties.Dipole: 'dipole'>, <SCFProperties.Quadrupole: 'quadrupole'>, <SCFProperties.LowdinCharges: 'lowdin_charges'>, <SCFProperties.MullikenCharges: 'mulliken_charges'>, <SCFProperties.MBISCharges: 'mbis_charges'>, <SCFProperties.MayerIndices: 'mayer_indices'>, <SCFProperties.WibergLowdinIndices: 'wiberg_lowdin_indices'>, <SCFProperties.DipolePolarizabilities: 'dipole_polarizabilities'>], keywords={'dft_spherical_points': 590, 'dft_radial_points': 99})}\n"
     ]
    }
   ],
   "source": [
    "dataset.export_dataset(\"dataset.json.bz2\")\n",
    "dataset.molecules_to_file('dataset.smi', 'smi')\n",
    "dataset.visualize(\"dataset.pdf\", columns=8)\n",
    "\n",
    "print(dataset.qc_specifications)"
   ]
  },
  {
   "cell_type": "markdown",
   "id": "88a45064-d703-457e-b29b-ba0aa758ca9a",
   "metadata": {},
   "source": [
    "# Dataset information"
   ]
  },
  {
   "cell_type": "code",
   "execution_count": 13,
   "id": "dc940078-e0e4-4395-9e71-69e49064d3a1",
   "metadata": {
    "execution": {
     "iopub.execute_input": "2024-09-06T23:08:00.489108Z",
     "iopub.status.busy": "2024-09-06T23:08:00.486275Z",
     "iopub.status.idle": "2024-09-06T23:08:00.508062Z",
     "shell.execute_reply": "2024-09-06T23:08:00.506807Z",
     "shell.execute_reply.started": "2024-09-06T23:08:00.489037Z"
    }
   },
   "outputs": [],
   "source": [
    "import numpy as np\n",
    "from collections import Counter"
   ]
  },
  {
   "cell_type": "code",
   "execution_count": 14,
   "id": "388aff3d-ff0a-4c36-9d83-e6ec82d31db8",
   "metadata": {
    "execution": {
     "iopub.execute_input": "2024-09-06T23:09:02.876111Z",
     "iopub.status.busy": "2024-09-06T23:09:02.873957Z",
     "iopub.status.idle": "2024-09-06T23:09:02.921201Z",
     "shell.execute_reply": "2024-09-06T23:09:02.920690Z",
     "shell.execute_reply.started": "2024-09-06T23:09:02.876029Z"
    }
   },
   "outputs": [
    {
     "name": "stdout",
     "output_type": "stream",
     "text": [
      "n_molecules: 995\n",
      "n_conformers: 1001\n"
     ]
    }
   ],
   "source": [
    "print(\"n_molecules:\", dataset.n_molecules)\n",
    "print(\"n_conformers:\", dataset.n_records)"
   ]
  },
  {
   "cell_type": "code",
   "execution_count": 15,
   "id": "8e7d50e8-201d-4f32-a2fd-c3daa60fe35d",
   "metadata": {
    "execution": {
     "iopub.execute_input": "2024-09-06T23:11:43.673103Z",
     "iopub.status.busy": "2024-09-06T23:11:43.670775Z",
     "iopub.status.idle": "2024-09-06T23:11:48.064135Z",
     "shell.execute_reply": "2024-09-06T23:11:48.063698Z",
     "shell.execute_reply.started": "2024-09-06T23:11:43.673023Z"
    }
   },
   "outputs": [],
   "source": [
    "n_confs = np.array(\n",
    "    [mol.n_conformers for mol in dataset.molecules]\n",
    ")\n",
    "n_heavy_atoms = np.array(\n",
    "    [mol.to_rdkit().GetNumHeavyAtoms() for mol in dataset.molecules]\n",
    ")"
   ]
  },
  {
   "cell_type": "code",
   "execution_count": 16,
   "id": "7ccb51cc-523a-43cd-8ab0-b5d63f9141fc",
   "metadata": {
    "execution": {
     "iopub.execute_input": "2024-09-06T23:12:10.355647Z",
     "iopub.status.busy": "2024-09-06T23:12:10.353919Z",
     "iopub.status.idle": "2024-09-06T23:12:10.372939Z",
     "shell.execute_reply": "2024-09-06T23:12:10.372070Z",
     "shell.execute_reply.started": "2024-09-06T23:12:10.355559Z"
    }
   },
   "outputs": [
    {
     "name": "stdout",
     "output_type": "stream",
     "text": [
      "Number of conformers (min, mean, max): 1 1.0060301507537688 2\n",
      "# heavy atoms\n",
      "  4: 2\n",
      "  5: 4\n",
      "  6: 24\n",
      "  7: 46\n",
      "  8: 118\n",
      "  9: 170\n",
      " 10: 179\n",
      " 11: 235\n",
      " 12: 217\n"
     ]
    }
   ],
   "source": [
    "print(\n",
    "    \"Number of conformers (min, mean, max):\",\n",
    "    n_confs.min(), n_confs.mean(), n_confs.max()\n",
    ")\n",
    "print(\"# heavy atoms\")\n",
    "counts = Counter(n_heavy_atoms)\n",
    "for n_heavy in sorted(counts):\n",
    "    print(f\"{str(n_heavy):>3}: {counts[n_heavy]}\")"
   ]
  },
  {
   "cell_type": "code",
   "execution_count": 17,
   "id": "62625c83-8904-44f7-b219-8c88827bb971",
   "metadata": {
    "execution": {
     "iopub.execute_input": "2024-09-06T23:12:25.721420Z",
     "iopub.status.busy": "2024-09-06T23:12:25.718494Z",
     "iopub.status.idle": "2024-09-06T23:12:27.624499Z",
     "shell.execute_reply": "2024-09-06T23:12:27.623996Z",
     "shell.execute_reply.started": "2024-09-06T23:12:25.721188Z"
    }
   },
   "outputs": [
    {
     "data": {
      "text/plain": [
       "{-4.0, -3.0, -2.0, -1.0, 0.0, 1.0, 2.0}"
      ]
     },
     "execution_count": 17,
     "metadata": {},
     "output_type": "execute_result"
    }
   ],
   "source": [
    "from openff.units import unit\n",
    "unique_charges = set([\n",
    "    mol.total_charge.m_as(unit.elementary_charge)\n",
    "    for mol in dataset.molecules\n",
    "])\n",
    "unique_charges"
   ]
  },
  {
   "cell_type": "code",
   "execution_count": 18,
   "id": "f0291cf3-b3b4-4dfd-a2ac-07612c8d713a",
   "metadata": {
    "execution": {
     "iopub.execute_input": "2024-09-06T23:12:35.819655Z",
     "iopub.status.busy": "2024-09-06T23:12:35.818723Z",
     "iopub.status.idle": "2024-09-06T23:12:37.476682Z",
     "shell.execute_reply": "2024-09-06T23:12:37.475956Z",
     "shell.execute_reply.started": "2024-09-06T23:12:35.819574Z"
    }
   },
   "outputs": [
    {
     "name": "stdout",
     "output_type": "stream",
     "text": [
      "MW (min, mean, max): 58.10263600000002 149.83921897015077 329.815488\n"
     ]
    }
   ],
   "source": [
    "\n",
    "masses = np.array([\n",
    "    sum([atom.mass.m for atom in mol.atoms])\n",
    "    for mol in dataset.molecules\n",
    "])\n",
    "print(\"MW (min, mean, max):\", masses.min(), masses.mean(), masses.max())"
   ]
  },
  {
   "cell_type": "code",
   "execution_count": 19,
   "id": "4d17e60d-eb09-4a0c-a243-8c05fba536db",
   "metadata": {
    "execution": {
     "iopub.execute_input": "2024-09-06T23:13:05.804174Z",
     "iopub.status.busy": "2024-09-06T23:13:05.803097Z",
     "iopub.status.idle": "2024-09-06T23:13:07.499861Z",
     "shell.execute_reply": "2024-09-06T23:13:07.499460Z",
     "shell.execute_reply.started": "2024-09-06T23:13:05.804115Z"
    }
   },
   "outputs": [
    {
     "name": "stdout",
     "output_type": "stream",
     "text": [
      "{'P', 'S', 'N', 'C', 'Cl', 'F', 'Br', 'O', 'H'}\n"
     ]
    }
   ],
   "source": [
    "elements = set(\n",
    "    atom.symbol\n",
    "    for mol in dataset.molecules\n",
    "    for atom in mol.atoms\n",
    ")\n",
    "print(elements)"
   ]
  },
  {
   "cell_type": "code",
   "execution_count": null,
   "id": "a1c2db56-1a2f-4a20-bb00-eb05bd048b49",
   "metadata": {},
   "outputs": [],
   "source": []
  }
 ],
 "metadata": {
  "kernelspec": {
   "display_name": "Python 3 (ipykernel)",
   "language": "python",
   "name": "python3"
  },
  "language_info": {
   "codemirror_mode": {
    "name": "ipython",
    "version": 3
   },
   "file_extension": ".py",
   "mimetype": "text/x-python",
   "name": "python",
   "nbconvert_exporter": "python",
   "pygments_lexer": "ipython3",
   "version": "3.9.19"
  }
 },
 "nbformat": 4,
 "nbformat_minor": 5
}
