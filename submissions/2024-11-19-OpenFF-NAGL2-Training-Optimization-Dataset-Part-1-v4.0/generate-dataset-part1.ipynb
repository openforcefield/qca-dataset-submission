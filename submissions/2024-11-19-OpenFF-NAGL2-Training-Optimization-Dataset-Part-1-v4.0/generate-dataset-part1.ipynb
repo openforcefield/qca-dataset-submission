{
 "cells": [
  {
   "cell_type": "code",
   "execution_count": 1,
   "id": "446abbf1-11bc-4e09-b10a-e51aeb256ed9",
   "metadata": {
    "execution": {
     "iopub.execute_input": "2024-11-20T22:51:41.825840Z",
     "iopub.status.busy": "2024-11-20T22:51:41.824537Z",
     "iopub.status.idle": "2024-11-20T22:51:44.666506Z",
     "shell.execute_reply": "2024-11-20T22:51:44.666031Z",
     "shell.execute_reply.started": "2024-11-20T22:51:41.825777Z"
    }
   },
   "outputs": [],
   "source": [
    "from qcportal import PortalClient\n",
    "from qcelemental.models.results import WavefunctionProtocolEnum\n",
    "from openff.qcsubmit.results import OptimizationResultCollection,BasicResultCollection\n",
    "from openff.qcsubmit.datasets import OptimizationDataset\n",
    "from openff.qcsubmit.factories import OptimizationDatasetFactory\n",
    "from openff.qcsubmit.common_structures import Metadata, QCSpec\n",
    "import numpy as np\n",
    "from openff.toolkit import Molecule\n",
    "import tqdm\n",
    "from openff.toolkit.utils import OpenEyeToolkitWrapper, ToolkitRegistry\n",
    "from openff.units import unit\n",
    "from openeye import oechem\n",
    "import itertools\n",
    "import multiprocess"
   ]
  },
  {
   "cell_type": "code",
   "execution_count": 2,
   "id": "4ba7e990-e473-43ae-92ad-41eec7217cdb",
   "metadata": {
    "execution": {
     "iopub.execute_input": "2024-11-20T22:51:44.667971Z",
     "iopub.status.busy": "2024-11-20T22:51:44.667636Z",
     "iopub.status.idle": "2024-11-20T22:51:45.992927Z",
     "shell.execute_reply": "2024-11-20T22:51:45.989733Z",
     "shell.execute_reply.started": "2024-11-20T22:51:44.667956Z"
    }
   },
   "outputs": [],
   "source": [
    "client = PortalClient(\"https://api.qcarchive.molssi.org:443/\")"
   ]
  },
  {
   "cell_type": "markdown",
   "id": "e7f552de-3ad5-4b9f-a060-20cd79d2c669",
   "metadata": {},
   "source": [
    "# Generate conformers (for all molecules in the dataset)"
   ]
  },
  {
   "cell_type": "markdown",
   "id": "38b47355-5aa1-4878-9487-fc4f4e1a3134",
   "metadata": {},
   "source": [
    "The initial dataset can be downloaded from the server or read in from `mlpepper.json.bz2` after unzipping it with `bzip2 -d mlpepper.json.bz2`"
   ]
  },
  {
   "cell_type": "code",
   "execution_count": 3,
   "id": "2097888a-6574-420a-908c-f69e3c770c2c",
   "metadata": {
    "execution": {
     "iopub.execute_input": "2024-11-20T22:51:45.996382Z",
     "iopub.status.busy": "2024-11-20T22:51:45.995010Z",
     "iopub.status.idle": "2024-11-20T22:51:46.005785Z",
     "shell.execute_reply": "2024-11-20T22:51:46.004475Z",
     "shell.execute_reply.started": "2024-11-20T22:51:45.996332Z"
    },
    "scrolled": true
   },
   "outputs": [],
   "source": [
    "# mlpepper_results = BasicResultCollection.from_server(client=client, datasets=['MLPepper RECAP Optimized Fragments v1.0','MLPepper RECAP Optimized Fragments v1.0 Add Iodines'],spec_name='wb97x-d/def2-tzvpp')"
   ]
  },
  {
   "cell_type": "code",
   "execution_count": 4,
   "id": "7b9d0914-4d95-4638-990c-a6bc205cac4e",
   "metadata": {
    "execution": {
     "iopub.execute_input": "2024-11-20T22:51:46.008179Z",
     "iopub.status.busy": "2024-11-20T22:51:46.007556Z",
     "iopub.status.idle": "2024-11-20T22:51:46.877967Z",
     "shell.execute_reply": "2024-11-20T22:51:46.877346Z",
     "shell.execute_reply.started": "2024-11-20T22:51:46.008136Z"
    }
   },
   "outputs": [],
   "source": [
    "mlpepper_results = BasicResultCollection.parse_file('mlpepper.json')"
   ]
  },
  {
   "cell_type": "code",
   "execution_count": 5,
   "id": "776c5442-0e57-4dec-8b2c-31a38a7914e0",
   "metadata": {
    "execution": {
     "iopub.execute_input": "2024-11-20T22:51:46.880694Z",
     "iopub.status.busy": "2024-11-20T22:51:46.880368Z",
     "iopub.status.idle": "2024-11-20T22:51:46.892736Z",
     "shell.execute_reply": "2024-11-20T22:51:46.892317Z",
     "shell.execute_reply.started": "2024-11-20T22:51:46.880675Z"
    },
    "scrolled": true
   },
   "outputs": [
    {
     "data": {
      "text/plain": [
       "56346"
      ]
     },
     "execution_count": 5,
     "metadata": {},
     "output_type": "execute_result"
    }
   ],
   "source": [
    "mlpepper_results.n_molecules"
   ]
  },
  {
   "cell_type": "code",
   "execution_count": 6,
   "id": "be64495f-e616-4b4b-acff-18ebab7c0545",
   "metadata": {
    "execution": {
     "iopub.execute_input": "2024-11-20T22:51:46.893455Z",
     "iopub.status.busy": "2024-11-20T22:51:46.893315Z",
     "iopub.status.idle": "2024-11-20T22:51:47.077056Z",
     "shell.execute_reply": "2024-11-20T22:51:47.076450Z",
     "shell.execute_reply.started": "2024-11-20T22:51:46.893441Z"
    },
    "scrolled": true
   },
   "outputs": [],
   "source": [
    "mlpepper_cmiles = np.unique([result.cmiles for result in mlpepper_results.entries['https://api.qcarchive.molssi.org:443/']])"
   ]
  },
  {
   "cell_type": "code",
   "execution_count": 7,
   "id": "d94183de-a6f4-4ee5-a820-d7b856b891b0",
   "metadata": {
    "execution": {
     "iopub.execute_input": "2024-11-20T22:51:47.085256Z",
     "iopub.status.busy": "2024-11-20T22:51:47.085098Z",
     "iopub.status.idle": "2024-11-20T22:51:47.089900Z",
     "shell.execute_reply": "2024-11-20T22:51:47.089552Z",
     "shell.execute_reply.started": "2024-11-20T22:51:47.085244Z"
    }
   },
   "outputs": [],
   "source": [
    "def generate_conformers_pool(inputs) -> Molecule:\n",
    "    '''\n",
    "    Function to generate conformers from a CMILES string. Taken from Lily's NAGL2 code.\n",
    "\n",
    "    inputs should be a list of:\n",
    "    cmiles: CMILES string to use\n",
    "    max_conf_elf: maximum number of conformers to keep during the ELF process \n",
    "    elf_perc: Percentage of conformers to select from for the ELF process\n",
    "    n_conf_start: initial number of conformers to generate, to use later for ELF selection\n",
    "    rms_cut: RMS cutoff for conformer generation\n",
    "    '''\n",
    "    # OE logging\n",
    "    errfs = oechem.oeofstream(\"openeye_log.txt\")\n",
    "    if not errfs:\n",
    "        oechem.OEThrow.Fatal(\"Unable to create %s\" % fname)\n",
    "    oechem.OEThrow.SetOutputStream(errfs)\n",
    "    oechem.OEThrow.SetLevel(oechem.OEErrorLevel_MIN)\n",
    "    \n",
    "    cmiles, max_conf_elf, elf_perc, n_conf_start, rms_cut=inputs\n",
    "    wrapper = OpenEyeToolkitWrapper()\n",
    "    \n",
    "    try:\n",
    "        mol = Molecule.from_mapped_smiles(\n",
    "            cmiles,\n",
    "            allow_undefined_stereo=True,\n",
    "            toolkit_registry=wrapper,\n",
    "        )\n",
    "        # generate max 1000 conformers with OpenEye\n",
    "        mol.generate_conformers(\n",
    "            n_conformers=n_conf_start,\n",
    "            rms_cutoff=rms_cut * unit.angstrom,\n",
    "            toolkit_registry=wrapper,\n",
    "        )\n",
    "        \n",
    "        # prune based on ELF method, max 5 conformers output\n",
    "        mol.apply_elf_conformer_selection(\n",
    "            percentage=elf_perc,\n",
    "            limit=max_conf_elf,\n",
    "            toolkit_registry=wrapper\n",
    "        )\n",
    "        \n",
    "        assert mol.n_conformers > 0\n",
    "\n",
    "        errfs.flush()\n",
    "        errfs.close()\n",
    "        return (mol,'success')\n",
    "    except BaseException as e:\n",
    "        errfs.flush()\n",
    "        errfs.close()\n",
    "        return (mol,e)"
   ]
  },
  {
   "cell_type": "code",
   "execution_count": 8,
   "id": "b53086c2-8fa1-4fe2-9fb6-44f4f311d50f",
   "metadata": {
    "execution": {
     "iopub.execute_input": "2024-11-20T22:51:47.090579Z",
     "iopub.status.busy": "2024-11-20T22:51:47.090442Z",
     "iopub.status.idle": "2024-11-20T23:47:47.572302Z",
     "shell.execute_reply": "2024-11-20T23:47:47.570026Z",
     "shell.execute_reply.started": "2024-11-20T22:51:47.090565Z"
    },
    "scrolled": true
   },
   "outputs": [
    {
     "name": "stderr",
     "output_type": "stream",
     "text": [
      "generating conformers:  10%|███████▌                                                                        | 5362/56346 [04:32<32:45, 25.95it/s]"
     ]
    },
    {
     "name": "stdout",
     "output_type": "stream",
     "text": [
      "OpenEye Omega conformer generation failed\n",
      "OpenEye Omega conformer generation failed\n"
     ]
    },
    {
     "name": "stderr",
     "output_type": "stream",
     "text": [
      "generating conformers:  16%|████████████▍                                                                   | 8777/56346 [07:49<33:02, 24.00it/s]"
     ]
    },
    {
     "name": "stdout",
     "output_type": "stream",
     "text": [
      "OpenEye Omega conformer generation failed\n",
      "OpenEye Omega conformer generation failed\n"
     ]
    },
    {
     "name": "stderr",
     "output_type": "stream",
     "text": [
      "generating conformers:  29%|██████████████████████▌                                                        | 16081/56346 [14:55<26:06, 25.71it/s]"
     ]
    },
    {
     "name": "stdout",
     "output_type": "stream",
     "text": [
      "OpenEye Omega conformer generation failed\n"
     ]
    },
    {
     "name": "stderr",
     "output_type": "stream",
     "text": [
      "generating conformers:  34%|███████████████████████████▏                                                   | 19363/56346 [18:35<23:30, 26.21it/s]"
     ]
    },
    {
     "name": "stdout",
     "output_type": "stream",
     "text": [
      "OpenEye Omega conformer generation failed\n"
     ]
    },
    {
     "name": "stderr",
     "output_type": "stream",
     "text": [
      "generating conformers:  42%|█████████████████████████████████▏                                             | 23636/56346 [22:14<19:02, 28.64it/s]"
     ]
    },
    {
     "name": "stdout",
     "output_type": "stream",
     "text": [
      "OpenEye Omega conformer generation failed\n"
     ]
    },
    {
     "name": "stderr",
     "output_type": "stream",
     "text": [
      "generating conformers:  62%|████████████████████████████████████████████████▌                              | 34679/56346 [31:46<15:05, 23.93it/s]"
     ]
    },
    {
     "name": "stdout",
     "output_type": "stream",
     "text": [
      "OpenEye Omega conformer generation failed\n"
     ]
    },
    {
     "name": "stderr",
     "output_type": "stream",
     "text": [
      "generating conformers:  67%|████████████████████████████████████████████████████▉                          | 37754/56346 [35:18<08:58, 34.55it/s]"
     ]
    },
    {
     "name": "stdout",
     "output_type": "stream",
     "text": [
      "OpenEye Omega conformer generation failed\n"
     ]
    },
    {
     "name": "stderr",
     "output_type": "stream",
     "text": [
      "generating conformers:  84%|██████████████████████████████████████████████████████████████████▎            | 47270/56346 [48:17<19:58,  7.58it/s]"
     ]
    },
    {
     "name": "stdout",
     "output_type": "stream",
     "text": [
      "OpenEye Omega conformer generation failed\n"
     ]
    },
    {
     "name": "stderr",
     "output_type": "stream",
     "text": [
      "generating conformers:  84%|██████████████████████████████████████████████████████████████████▎            | 47335/56346 [48:25<21:30,  6.98it/s]"
     ]
    },
    {
     "name": "stdout",
     "output_type": "stream",
     "text": [
      "OpenEye Omega conformer generation failed\n"
     ]
    },
    {
     "name": "stderr",
     "output_type": "stream",
     "text": [
      "generating conformers:  84%|██████████████████████████████████████████████████████████████████▌            | 47519/56346 [49:00<50:50,  2.89it/s]"
     ]
    },
    {
     "name": "stdout",
     "output_type": "stream",
     "text": [
      "OpenEye Omega conformer generation failed\n"
     ]
    },
    {
     "name": "stderr",
     "output_type": "stream",
     "text": [
      "generating conformers:  84%|██████████████████████████████████████████████████████████████████▋            | 47603/56346 [49:08<04:32, 32.07it/s]"
     ]
    },
    {
     "name": "stdout",
     "output_type": "stream",
     "text": [
      "OpenEye Omega conformer generation failed\n",
      "OpenEye Omega conformer generation failed\n"
     ]
    },
    {
     "name": "stderr",
     "output_type": "stream",
     "text": [
      "generating conformers: 100%|███████████████████████████████████████████████████████████████████████████████| 56346/56346 [56:00<00:00, 16.77it/s]\n"
     ]
    }
   ],
   "source": [
    "mols = []\n",
    "n_confs = []\n",
    "errs = []\n",
    "with multiprocess.Pool(8) as pool:\n",
    "    for ms in tqdm.tqdm(pool.imap(generate_conformers_pool,zip(mlpepper_cmiles,itertools.repeat(5),itertools.repeat(2),itertools.repeat(1000),itertools.repeat(0.1))), desc=\"generating conformers\",total=len(mlpepper_cmiles)):\n",
    "        mol = ms[0]\n",
    "        status = ms[1]\n",
    "        if status == 'success':\n",
    "            n_confs.append(mol.n_conformers)\n",
    "            mols.append(mol)\n",
    "        else:\n",
    "            print(status)\n",
    "            errs.append((mol,status))"
   ]
  },
  {
   "cell_type": "markdown",
   "id": "1afa0bbb-4c8a-4f99-804d-f8d85f53a118",
   "metadata": {},
   "source": [
    "## Analyze conformer distribution (for the whole dataset)"
   ]
  },
  {
   "cell_type": "code",
   "execution_count": 17,
   "id": "625ae694-4d46-4bc7-b58f-bc58c6c7a516",
   "metadata": {
    "execution": {
     "iopub.execute_input": "2024-11-20T23:48:42.290299Z",
     "iopub.status.busy": "2024-11-20T23:48:42.288270Z",
     "iopub.status.idle": "2024-11-20T23:48:42.322021Z",
     "shell.execute_reply": "2024-11-20T23:48:42.321405Z",
     "shell.execute_reply.started": "2024-11-20T23:48:42.290217Z"
    }
   },
   "outputs": [
    {
     "name": "stdout",
     "output_type": "stream",
     "text": [
      "1 2.3700205922033657 1.0 5\n"
     ]
    }
   ],
   "source": [
    "print(min(n_confs),np.mean(n_confs),np.median(n_confs),max(n_confs))"
   ]
  },
  {
   "cell_type": "code",
   "execution_count": 18,
   "id": "c1a0baf2-87ad-4424-997b-b0f5ffd2e059",
   "metadata": {
    "execution": {
     "iopub.execute_input": "2024-11-20T23:48:42.470761Z",
     "iopub.status.busy": "2024-11-20T23:48:42.470250Z",
     "iopub.status.idle": "2024-11-20T23:48:42.672481Z",
     "shell.execute_reply": "2024-11-20T23:48:42.672060Z",
     "shell.execute_reply.started": "2024-11-20T23:48:42.470726Z"
    }
   },
   "outputs": [
    {
     "data": {
      "image/png": "[encoded data removed]",
      "text/plain": [
       "<Figure size 640x480 with 1 Axes>"
      ]
     },
     "metadata": {},
     "output_type": "display_data"
    }
   ],
   "source": [
    "from matplotlib import pyplot as plt\n",
    "plt.figure()\n",
    "plt.hist(n_confs)\n",
    "plt.show()"
   ]
  },
  {
   "cell_type": "code",
   "execution_count": 19,
   "id": "7414fffd-c290-4555-82cb-57353412f432",
   "metadata": {
    "execution": {
     "iopub.execute_input": "2024-11-20T23:48:43.248749Z",
     "iopub.status.busy": "2024-11-20T23:48:43.247337Z",
     "iopub.status.idle": "2024-11-20T23:48:43.262782Z",
     "shell.execute_reply": "2024-11-20T23:48:43.261628Z",
     "shell.execute_reply.started": "2024-11-20T23:48:43.248693Z"
    },
    "scrolled": true
   },
   "outputs": [
    {
     "data": {
      "text/plain": [
       "14"
      ]
     },
     "execution_count": 19,
     "metadata": {},
     "output_type": "execute_result"
    }
   ],
   "source": [
    "len(errs)"
   ]
  },
  {
   "cell_type": "code",
   "execution_count": 20,
   "id": "30985c30-0926-419c-98c7-1b8dd31731dc",
   "metadata": {
    "execution": {
     "iopub.execute_input": "2024-11-20T23:48:44.952492Z",
     "iopub.status.busy": "2024-11-20T23:48:44.951178Z",
     "iopub.status.idle": "2024-11-20T23:48:45.339247Z",
     "shell.execute_reply": "2024-11-20T23:48:45.338725Z",
     "shell.execute_reply.started": "2024-11-20T23:48:44.952421Z"
    }
   },
   "outputs": [],
   "source": [
    "all_masses = np.array([\n",
    "    sum([atom.mass.m for atom in mol.atoms])\n",
    "    for mol in mols\n",
    "])"
   ]
  },
  {
   "cell_type": "code",
   "execution_count": 21,
   "id": "68bd0fb8-e4e6-4446-9931-73652dbb0f3e",
   "metadata": {
    "execution": {
     "iopub.execute_input": "2024-11-20T23:48:45.599792Z",
     "iopub.status.busy": "2024-11-20T23:48:45.598267Z",
     "iopub.status.idle": "2024-11-20T23:48:45.855932Z",
     "shell.execute_reply": "2024-11-20T23:48:45.855580Z",
     "shell.execute_reply.started": "2024-11-20T23:48:45.599719Z"
    }
   },
   "outputs": [
    {
     "data": {
      "image/png": "[encoded data removed]",
      "text/plain": [
       "<Figure size 640x480 with 1 Axes>"
      ]
     },
     "metadata": {},
     "output_type": "display_data"
    },
    {
     "data": {
      "image/png": "[encoded data removed]",
      "text/plain": [
       "<Figure size 640x480 with 1 Axes>"
      ]
     },
     "metadata": {},
     "output_type": "display_data"
    }
   ],
   "source": [
    "plt.figure()\n",
    "plt.hist(all_masses,bins=100)\n",
    "\n",
    "plt.figure()\n",
    "plt.hist(all_masses,bins=100)\n",
    "plt.ylim(0,200)\n",
    "plt.show()"
   ]
  },
  {
   "cell_type": "code",
   "execution_count": 22,
   "id": "2c552973-d566-43bb-971f-f9f80abab90b",
   "metadata": {
    "execution": {
     "iopub.execute_input": "2024-11-20T23:48:49.217994Z",
     "iopub.status.busy": "2024-11-20T23:48:49.217501Z",
     "iopub.status.idle": "2024-11-20T23:48:49.247990Z",
     "shell.execute_reply": "2024-11-20T23:48:49.247600Z",
     "shell.execute_reply.started": "2024-11-20T23:48:49.217960Z"
    }
   },
   "outputs": [
    {
     "name": "stdout",
     "output_type": "stream",
     "text": [
      "32.117318 163.19101083271855 153.202739 701.588756\n"
     ]
    }
   ],
   "source": [
    "print(min(all_masses),np.mean(all_masses),np.median(all_masses),max(all_masses))"
   ]
  },
  {
   "cell_type": "markdown",
   "id": "1ae40e51-869c-469b-af3d-5960bd026853",
   "metadata": {},
   "source": [
    "We could split this up into < 200 Da, 200-300 Da, and > 300 Da. Or <200, 200-400, >400. Let's try our original suggestion of < 300 and > 300."
   ]
  },
  {
   "cell_type": "code",
   "execution_count": 23,
   "id": "5a8f4bbf-8be1-409c-8915-58bb581bd212",
   "metadata": {
    "execution": {
     "iopub.execute_input": "2024-11-20T23:48:50.851199Z",
     "iopub.status.busy": "2024-11-20T23:48:50.850326Z",
     "iopub.status.idle": "2024-11-20T23:48:51.260153Z",
     "shell.execute_reply": "2024-11-20T23:48:51.259769Z",
     "shell.execute_reply.started": "2024-11-20T23:48:50.851135Z"
    }
   },
   "outputs": [
    {
     "name": "stderr",
     "output_type": "stream",
     "text": [
      "100%|██████████████████████████████████████████████████████████████████████████████████████████████████| 56332/56332 [00:00<00:00, 143737.75it/s]\n"
     ]
    }
   ],
   "source": [
    "mols_part1 = []\n",
    "mols_part2 = []\n",
    "for mol in tqdm.tqdm(mols):\n",
    "    if sum([atom.mass.m for atom in mol.atoms]) <= 300:\n",
    "        mols_part1.append(mol)\n",
    "    else:\n",
    "        mols_part2.append(mol)"
   ]
  },
  {
   "cell_type": "markdown",
   "id": "ae9b58f5-ac39-4b4f-9236-8fdda47b7f7f",
   "metadata": {},
   "source": [
    "# Create dataset"
   ]
  },
  {
   "cell_type": "markdown",
   "id": "b80312dc-a7aa-4705-b295-9bd24f75176c",
   "metadata": {},
   "source": [
    "## Part 1-- Molecules less than 300 Da"
   ]
  },
  {
   "cell_type": "code",
   "execution_count": 24,
   "id": "0895e158-a05e-4965-b73e-7bc9efe14228",
   "metadata": {
    "execution": {
     "iopub.execute_input": "2024-11-20T23:48:54.131630Z",
     "iopub.status.busy": "2024-11-20T23:48:54.131147Z",
     "iopub.status.idle": "2024-11-20T23:48:54.139808Z",
     "shell.execute_reply": "2024-11-20T23:48:54.138999Z",
     "shell.execute_reply.started": "2024-11-20T23:48:54.131598Z"
    }
   },
   "outputs": [],
   "source": [
    "dataset_factory1 = OptimizationDatasetFactory()\n",
    "provenance1 = dataset_factory1.provenance(ToolkitRegistry([OpenEyeToolkitWrapper]))"
   ]
  },
  {
   "cell_type": "code",
   "execution_count": 26,
   "id": "3968e5e4-d52a-4ecf-91c2-39f57e72d628",
   "metadata": {
    "execution": {
     "iopub.execute_input": "2024-11-20T23:49:15.452140Z",
     "iopub.status.busy": "2024-11-20T23:49:15.450902Z",
     "iopub.status.idle": "2024-11-21T00:12:39.255423Z",
     "shell.execute_reply": "2024-11-21T00:12:39.254724Z",
     "shell.execute_reply.started": "2024-11-20T23:49:15.452078Z"
    }
   },
   "outputs": [
    {
     "name": "stderr",
     "output_type": "stream",
     "text": [
      "Deduplication                 :  86%|███▍| 47298/55135 [01:29<00:11, 691.78it/s]Warning: OE3DToAtomStereo is unable to perceive atom stereo from a flat geometry on atom 1 of molecule ''\n",
      "Warning: OE3DToAtomStereo had a problem during OEMolToInChIKey when writing ''\n",
      "Warning: OE3DToAtomStereo is unable to perceive atom stereo from a flat geometry on atom 2 of molecule ''\n",
      "Warning: OE3DToAtomStereo had a problem during OEMolToInChIKey when writing ''\n",
      "Deduplication                 : 100%|████| 55135/55135 [01:39<00:00, 551.67it/s]\n",
      "Preparation                   :  86%|███▍| 47312/55134 [19:25<01:12, 108.26it/s]Warning: OE3DToAtomStereo is unable to perceive atom stereo from a flat geometry on atom 1 of molecule ''\n",
      "Warning: OE3DToAtomStereo had a problem during OEMolToInChIKey when writing ''\n",
      "Warning: OE3DToAtomStereo is unable to perceive atom stereo from a flat geometry on atom 1 of molecule ''\n",
      "Warning: OE3DToAtomStereo had a problem during OEMolToSTDInChI when writing ''\n",
      "Warning: OE3DToAtomStereo is unable to perceive atom stereo from a flat geometry on atom 1 of molecule ''\n",
      "Warning: OE3DToAtomStereo had a problem during OEMolToSTDInChIKey when writing ''\n",
      "Warning: OE3DToAtomStereo is unable to perceive atom stereo from a flat geometry on atom 1 of molecule ''\n",
      "Warning: OE3DToAtomStereo had a problem during OEMolToInChI when writing ''\n",
      "Warning: OE3DToAtomStereo is unable to perceive atom stereo from a flat geometry on atom 1 of molecule ''\n",
      "Warning: OE3DToAtomStereo had a problem during OEMolToInChIKey when writing ''\n",
      "Preparation                   :  86%|████▎| 47362/55134 [19:26<01:24, 91.79it/s]Warning: OE3DToAtomStereo is unable to perceive atom stereo from a flat geometry on atom 2 of molecule ''\n",
      "Warning: OE3DToAtomStereo had a problem during OEMolToInChIKey when writing ''\n",
      "Warning: OE3DToAtomStereo is unable to perceive atom stereo from a flat geometry on atom 2 of molecule ''\n",
      "Warning: OE3DToAtomStereo had a problem during OEMolToSTDInChI when writing ''\n",
      "Warning: OE3DToAtomStereo is unable to perceive atom stereo from a flat geometry on atom 2 of molecule ''\n",
      "Warning: OE3DToAtomStereo had a problem during OEMolToSTDInChIKey when writing ''\n",
      "Warning: OE3DToAtomStereo is unable to perceive atom stereo from a flat geometry on atom 2 of molecule ''\n",
      "Warning: OE3DToAtomStereo had a problem during OEMolToInChI when writing ''\n",
      "Warning: OE3DToAtomStereo is unable to perceive atom stereo from a flat geometry on atom 2 of molecule ''\n",
      "Warning: OE3DToAtomStereo had a problem during OEMolToInChIKey when writing ''\n",
      "Preparation                   :  97%|████▊| 53535/55134 [21:16<00:28, 56.96it/s]Warning: bond stereochemistry may be assigned incorrectly for molecule \n",
      "Warning: bond stereochemistry may be assigned incorrectly for molecule \n",
      "Warning: bond stereochemistry may be assigned incorrectly for molecule \n",
      "Warning: bond stereochemistry may be assigned incorrectly for molecule \n",
      "Warning: bond stereochemistry may be assigned incorrectly for molecule \n",
      "Warning: bond stereochemistry may be assigned incorrectly for molecule \n",
      "Warning: bond stereochemistry may be assigned incorrectly for molecule \n",
      "Warning: bond stereochemistry may be assigned incorrectly for molecule \n",
      "Warning: bond stereochemistry may be assigned incorrectly for molecule \n",
      "Warning: bond stereochemistry may be assigned incorrectly for molecule \n",
      "Warning: bond stereochemistry may be assigned incorrectly for molecule \n",
      "Warning: bond stereochemistry may be assigned incorrectly for molecule \n",
      "Warning: bond stereochemistry may be assigned incorrectly for molecule \n",
      "Warning: bond stereochemistry may be assigned incorrectly for molecule \n",
      "Warning: bond stereochemistry may be assigned incorrectly for molecule \n",
      "Preparation                   :  97%|████▊| 53544/55134 [21:16<00:25, 63.54it/s]Warning: bond stereochemistry may be assigned incorrectly for molecule \n",
      "Warning: bond stereochemistry may be assigned incorrectly for molecule \n",
      "Warning: bond stereochemistry may be assigned incorrectly for molecule \n",
      "Warning: bond stereochemistry may be assigned incorrectly for molecule \n",
      "Warning: bond stereochemistry may be assigned incorrectly for molecule \n",
      "Warning: bond stereochemistry may be assigned incorrectly for molecule \n",
      "Preparation                   :  97%|████▊| 53553/55134 [21:16<00:22, 69.67it/s]Warning: bond stereochemistry may be assigned incorrectly for molecule \n",
      "Warning: bond stereochemistry may be assigned incorrectly for molecule \n",
      "Warning: bond stereochemistry may be assigned incorrectly for molecule \n",
      "Warning: bond stereochemistry may be assigned incorrectly for molecule \n",
      "Warning: bond stereochemistry may be assigned incorrectly for molecule \n",
      "Warning: bond stereochemistry may be assigned incorrectly for molecule \n",
      "Warning: bond stereochemistry may be assigned incorrectly for molecule \n",
      "Warning: bond stereochemistry may be assigned incorrectly for molecule \n",
      "Warning: bond stereochemistry may be assigned incorrectly for molecule \n",
      "Preparation                   : 100%|█████| 55134/55134 [21:43<00:00, 42.29it/s]\n"
     ]
    }
   ],
   "source": [
    "dataset1 = dataset_factory1.create_dataset(\n",
    "    dataset_name=\"OpenFF NAGL2 Training Optimization Dataset Part 1 v4.0\",\n",
    "    tagline=\"B3LYP-D3BJ/DZVP conformers of diverse fragment molecules with molecular weight less than 300 Da.\",\n",
    "    description=(\n",
    "        \"A dataset containing molecules from the \"\n",
    "        \"`MLPepper RECAP Optimized Fragments v1.0` and `MLPepper RECAP Optimized Fragments v1.0 Add Iodines` \"\n",
    "        \"with new conformers and optimized at the OpenFF default level of theory (B3LYP-D3BJ/DZVP). \"\n",
    "        \"The dataset is intended to be used for calculating single point energies and properties, \"\n",
    "        \"which will then be used to train our second-generation graph neural network charge model (NAGL2).\"\n",
    "        \"This is part 1, for molecules with molecular weight less than 300 Da.\\n\\n\"\n",
    "        \"For each molecule, a set of up to 5 conformers were generated by:\\n\"\n",
    "        \"  * generating a set of up to 1000 conformers with a RMS cutoff of 0.1 Å \"\n",
    "        \"using the OpenEye backend of the OpenFF toolkit\\n\"\n",
    "        \"  * applying ELF conformer selection (max 5 conformers) using OpenEye\\n\\n\"\n",
    "        \"Each conformer will be converged according to the 'GAU_LOOSE' criteria.\"\n",
    "    ),\n",
    "    molecules=mols_part1\n",
    ")\n",
    "dataset1.metadata.submitter = \"amcisaac\"\n",
    "dataset1.metadata.long_description_url = (\n",
    "        \"https://github.com/openforcefield/qca-dataset-submission/tree/master/\"\n",
    "        \"submissions/\"\n",
    "        \"2024-11-19-OpenFF-NAGL2-Training-Optimization-Dataset-Part-1-v4.0\"\n",
    "    )"
   ]
  },
  {
   "cell_type": "markdown",
   "id": "716bb675-0a86-4ffd-951a-b43d59987bce",
   "metadata": {},
   "source": [
    "## Dataset info"
   ]
  },
  {
   "cell_type": "code",
   "execution_count": 28,
   "id": "b724d061-18b6-47de-afd6-1617beee3981",
   "metadata": {
    "execution": {
     "iopub.execute_input": "2024-11-21T00:16:45.175962Z",
     "iopub.status.busy": "2024-11-21T00:16:45.174733Z",
     "iopub.status.idle": "2024-11-21T00:16:45.195345Z",
     "shell.execute_reply": "2024-11-21T00:16:45.194379Z",
     "shell.execute_reply.started": "2024-11-21T00:16:45.175899Z"
    }
   },
   "outputs": [
    {
     "data": {
      "text/plain": [
       "{'default': OptimizationSpecification(program='geometric', qc_specification=QCSpecification(program='psi4', driver=<SinglepointDriver.deferred: 'deferred'>, method='b3lyp-d3bj', basis='dzvp', keywords={'maxiter': 200, 'scf_properties': [<SCFProperties.Dipole: 'dipole'>, <SCFProperties.Quadrupole: 'quadrupole'>, <SCFProperties.WibergLowdinIndices: 'wiberg_lowdin_indices'>, <SCFProperties.MayerIndices: 'mayer_indices'>]}, protocols=AtomicResultProtocols(wavefunction=<WavefunctionProtocolEnum.none: 'none'>, stdout=True, error_correction=ErrorCorrectionProtocol(default_policy=True, policies=None), native_files=<NativeFilesProtocolEnum.none: 'none'>)), keywords={'coordsys': 'dlc', 'enforce': 0.0, 'epsilon': 1e-05, 'reset': True, 'qccnv': False, 'molcnv': False, 'check': 0, 'trust': 0.1, 'tmax': 0.3, 'maxiter': 300, 'convergence_set': 'GAU'}, protocols=OptimizationProtocols(trajectory=<TrajectoryProtocolEnum.all: 'all'>))}"
      ]
     },
     "execution_count": 28,
     "metadata": {},
     "output_type": "execute_result"
    }
   ],
   "source": [
    "dataset1._get_specifications()"
   ]
  },
  {
   "cell_type": "code",
   "execution_count": 31,
   "id": "006b1e13-f8a5-4826-9037-b365944d60ad",
   "metadata": {
    "execution": {
     "iopub.execute_input": "2024-11-21T00:33:28.856640Z",
     "iopub.status.busy": "2024-11-21T00:33:28.855099Z",
     "iopub.status.idle": "2024-11-21T00:44:25.642927Z",
     "shell.execute_reply": "2024-11-21T00:44:25.642109Z",
     "shell.execute_reply.started": "2024-11-21T00:33:28.856571Z"
    }
   },
   "outputs": [],
   "source": [
    "n_confs1 = np.array(\n",
    "    [mol.n_conformers for mol in dataset1.molecules]\n",
    ")\n",
    "\n",
    "n_heavy_atoms1 = np.array(\n",
    "    [mol.to_rdkit().GetNumHeavyAtoms() for mol in dataset1.molecules]\n",
    ")\n",
    "\n",
    "masses1 = np.array([\n",
    "    sum([atom.mass.m for atom in mol.atoms])\n",
    "    for mol in dataset1.molecules\n",
    "])\n",
    "\n",
    "elements1 = set(\n",
    "    atom.symbol\n",
    "    for mol in dataset1.molecules\n",
    "    for atom in mol.atoms\n",
    ")"
   ]
  },
  {
   "cell_type": "code",
   "execution_count": 32,
   "id": "73b5b0fd-9202-4f60-bfb0-3f228e21f201",
   "metadata": {
    "execution": {
     "iopub.execute_input": "2024-11-21T00:46:29.049151Z",
     "iopub.status.busy": "2024-11-21T00:46:29.047942Z",
     "iopub.status.idle": "2024-11-21T00:49:01.980365Z",
     "shell.execute_reply": "2024-11-21T00:49:01.975623Z",
     "shell.execute_reply.started": "2024-11-21T00:46:29.049085Z"
    }
   },
   "outputs": [],
   "source": [
    "unique_charges1 = [str(charge) for charge in sorted(set([\n",
    "    mol.total_charge.m_as(unit.elementary_charge)\n",
    "    for mol in dataset1.molecules\n",
    "]))]"
   ]
  },
  {
   "cell_type": "code",
   "execution_count": 33,
   "id": "622702f3-3f17-4bb3-a468-f7f9e291e669",
   "metadata": {
    "execution": {
     "iopub.execute_input": "2024-11-21T00:49:01.985251Z",
     "iopub.status.busy": "2024-11-21T00:49:01.985007Z",
     "iopub.status.idle": "2024-11-21T00:49:01.989418Z",
     "shell.execute_reply": "2024-11-21T00:49:01.989065Z",
     "shell.execute_reply.started": "2024-11-21T00:49:01.985233Z"
    }
   },
   "outputs": [
    {
     "data": {
      "text/plain": [
       "['-4.0', '-3.0', '-2.0', '-1.0', '0.0', '1.0', '2.0', '3.0']"
      ]
     },
     "execution_count": 33,
     "metadata": {},
     "output_type": "execute_result"
    }
   ],
   "source": [
    "unique_charges1"
   ]
  },
  {
   "cell_type": "code",
   "execution_count": 34,
   "id": "6df64b40-5fec-47ba-977e-7b04d1a9e899",
   "metadata": {
    "execution": {
     "iopub.execute_input": "2024-11-21T01:04:50.025188Z",
     "iopub.status.busy": "2024-11-21T01:04:50.021956Z",
     "iopub.status.idle": "2024-11-21T01:04:50.055566Z",
     "shell.execute_reply": "2024-11-21T01:04:50.054693Z",
     "shell.execute_reply.started": "2024-11-21T01:04:50.025080Z"
    }
   },
   "outputs": [
    {
     "name": "stdout",
     "output_type": "stream",
     "text": [
      "# heavy atoms\n",
      "  1: 1\n",
      "  2: 2\n",
      "  3: 71\n",
      "  4: 196\n",
      "  5: 553\n",
      "  6: 1318\n",
      "  7: 2918\n",
      "  8: 5645\n",
      "  9: 8456\n",
      " 10: 10653\n",
      " 11: 12403\n",
      " 12: 12286\n",
      " 13: 52\n",
      " 14: 96\n",
      " 15: 61\n",
      " 16: 77\n",
      " 17: 124\n",
      " 18: 107\n",
      " 19: 70\n",
      " 20: 44\n",
      " 21: 1\n"
     ]
    }
   ],
   "source": [
    "from collections import Counter\n",
    "\n",
    "print(\"# heavy atoms\")\n",
    "counts1 = Counter(n_heavy_atoms1)\n",
    "for n_heavy in sorted(counts1):\n",
    "    print(f\"{str(n_heavy):>3}: {counts1[n_heavy]}\")"
   ]
  },
  {
   "cell_type": "code",
   "execution_count": 35,
   "id": "600dc455-2a19-4846-bfcf-809c51e4cc83",
   "metadata": {
    "execution": {
     "iopub.execute_input": "2024-11-21T01:04:50.201123Z",
     "iopub.status.busy": "2024-11-21T01:04:50.200613Z",
     "iopub.status.idle": "2024-11-21T01:05:07.721215Z",
     "shell.execute_reply": "2024-11-21T01:05:07.720836Z",
     "shell.execute_reply.started": "2024-11-21T01:04:50.201091Z"
    }
   },
   "outputs": [
    {
     "name": "stdout",
     "output_type": "stream",
     "text": [
      "* Name: OpenFF NAGL2 Training Optimization Dataset Part 1 v4.0\n",
      "* Number of unique molecules: 55134\n",
      "* Number of conformers: 131185\n",
      "* Number of conformers (min, mean, max): 1.00, 2.38, 10.00\n",
      "* Molecular weight (min, mean, max): 32.12, 158.53, 299.97\n",
      "* Charges: -4.0 -3.0 -2.0 -1.0 0.0 1.0 2.0 3.0\n"
     ]
    }
   ],
   "source": [
    "print('* Name: {}'.format(dataset1.dataset_name))\n",
    "print('* Number of unique molecules: {}'.format(dataset1.n_molecules))\n",
    "print('* Number of conformers: {}'.format(dataset1.n_records))\n",
    "print('* Number of conformers (min, mean, max): {:.2f}, {:.2f}, {:.2f}'.format(min(n_confs1),np.mean(n_confs1),max(n_confs1)))\n",
    "print('* Molecular weight (min, mean, max): {:.2f}, {:.2f}, {:.2f}'.format(min(masses1),np.mean(masses1),max(masses1)))\n",
    "print('* Charges: {}'.format(' '.join(unique_charges1)))"
   ]
  },
  {
   "cell_type": "code",
   "execution_count": 36,
   "id": "f8f65e37-d322-4bfe-9c49-f4f10b322a5b",
   "metadata": {
    "execution": {
     "iopub.execute_input": "2024-11-21T01:05:07.722203Z",
     "iopub.status.busy": "2024-11-21T01:05:07.722076Z",
     "iopub.status.idle": "2024-11-21T01:05:07.726297Z",
     "shell.execute_reply": "2024-11-21T01:05:07.725870Z",
     "shell.execute_reply.started": "2024-11-21T01:05:07.722191Z"
    }
   },
   "outputs": [
    {
     "name": "stdout",
     "output_type": "stream",
     "text": [
      "## Metadata\n",
      "* Elements: {C, Cl, I, S, B, O, Br, Si, P, F, N, H}\n",
      "* Spec: default\n",
      "  * basis: DZVP\n",
      "  * implicit_solvent: None\n",
      "  * keywords: {}\n",
      "  * maxiter: 200\n",
      "  * method: B3LYP-D3BJ\n",
      "  * program: psi4\n",
      "  * SCF properties:\n",
      "    * dipole\n",
      "    * quadrupole\n",
      "    * wiberg_lowdin_indices\n",
      "    * mayer_indices\n"
     ]
    }
   ],
   "source": [
    "print(\"## Metadata\")\n",
    "print(f\"* Elements: {{{', '.join(dataset1.metadata.dict()['elements'])}}}\")\n",
    "\n",
    "def print_field(od, field): print(f\"  * {field}: {od[field]}\")\n",
    "\n",
    "fields = [\"basis\", \"implicit_solvent\", \"keywords\", \"maxiter\", \"method\", \"program\"]\n",
    "for spec, obj in dataset1.qc_specifications.items():\n",
    "    od = obj.dict()\n",
    "    print(\"* Spec:\", spec)\n",
    "    for field in fields:\n",
    "        print_field(od, field)\n",
    "    print(\"  * SCF properties:\")\n",
    "    for field in od[\"scf_properties\"]:\n",
    "        print(f\"    * {field}\")"
   ]
  },
  {
   "cell_type": "markdown",
   "id": "f1c118bd-bef5-49e8-8a7a-6543cbd59a6e",
   "metadata": {},
   "source": [
    "## Exporting dataset"
   ]
  },
  {
   "cell_type": "markdown",
   "id": "cf21bb60-062e-4964-8cb7-42334775df77",
   "metadata": {},
   "source": [
    "Need to add info like elements and charges etc to comply with standards"
   ]
  },
  {
   "cell_type": "code",
   "execution_count": 37,
   "id": "4e5a9fd6-e750-49c2-9e42-5b85499a51c0",
   "metadata": {
    "execution": {
     "iopub.execute_input": "2024-11-21T01:05:07.726938Z",
     "iopub.status.busy": "2024-11-21T01:05:07.726791Z",
     "iopub.status.idle": "2024-11-21T01:05:24.711367Z",
     "shell.execute_reply": "2024-11-21T01:05:24.710778Z",
     "shell.execute_reply.started": "2024-11-21T01:05:07.726926Z"
    }
   },
   "outputs": [],
   "source": [
    "dataset1.metadata.long_description=((\"A dataset containing molecules from the \"\n",
    "        \"`MLPepper RECAP Optimized Fragments v1.0` and `MLPepper RECAP Optimized Fragments v1.0 Add Iodines` \"\n",
    "        \"with new conformers and optimized at the OpenFF default level of theory (B3LYP-D3BJ/DZVP). \"\n",
    "        \"The dataset is intended to be used for calculating single point energies and properties, \"\n",
    "        \"which will then be used to train our second-generation graph neural network charge model (NAGL2).\"\n",
    "        \"This is part 1, for molecules with molecular weight less than 300 Da.\\n\\n\"\n",
    "        \"For each molecule, a set of up to 5 conformers were generated by:\\n\"\n",
    "        \"  * generating a set of up to 1000 conformers with a RMS cutoff of 0.1 Å \"\n",
    "        \"using the OpenEye backend of the OpenFF toolkit\\n\"\n",
    "        \"  * applying ELF conformer selection (max 5 conformers) using OpenEye\\n\\n\"\n",
    "        \"Dataset information:\\n\"\n",
    "        \"* Number of unique molecules: {}\\n\"\n",
    "        \"* Number of conformers: {}\\n\"\n",
    "        \"* Number of conformers (min, mean, max): {:.2f}, {:.2f}, {:.2f}\\n\"\n",
    "        \"* Molecular weight (min, mean, max): {:.2f}, {:.2f}, {:.2f}\\n\"\n",
    "        \"* Charges: {}\".format(dataset1.n_molecules,dataset1.n_records,min(n_confs1),np.mean(n_confs1),max(n_confs1),min(masses1),np.mean(masses1),max(masses1),' '.join(unique_charges1))\n",
    "        ))"
   ]
  },
  {
   "cell_type": "code",
   "execution_count": 38,
   "id": "d401c19d-3396-4f86-bb37-5f65c096a019",
   "metadata": {
    "execution": {
     "iopub.execute_input": "2024-11-21T01:07:37.107566Z",
     "iopub.status.busy": "2024-11-21T01:07:37.106514Z",
     "iopub.status.idle": "2024-11-21T01:12:37.241469Z",
     "shell.execute_reply": "2024-11-21T01:12:37.240618Z",
     "shell.execute_reply.started": "2024-11-21T01:07:37.107501Z"
    }
   },
   "outputs": [],
   "source": [
    "dataset1.export_dataset(\"dataset_part1.json.bz2\")\n",
    "dataset1.molecules_to_file('dataset_part1.smi', 'smi')\n",
    "dataset1.visualize(\"dataset_part1.pdf\", columns=8)"
   ]
  },
  {
   "cell_type": "markdown",
   "id": "12910e61-86fa-4119-a705-0d0fe34b8414",
   "metadata": {},
   "source": [
    "# Save MLPepper dataset for part 2 generation"
   ]
  },
  {
   "cell_type": "code",
   "execution_count": 38,
   "id": "7d25ebf4-ce05-43ac-85d3-51c2b4fed9dd",
   "metadata": {
    "execution": {
     "iopub.execute_input": "2024-11-20T18:46:12.411330Z",
     "iopub.status.busy": "2024-11-20T18:46:12.407739Z",
     "iopub.status.idle": "2024-11-20T18:46:13.722187Z",
     "shell.execute_reply": "2024-11-20T18:46:13.721739Z",
     "shell.execute_reply.started": "2024-11-20T18:46:12.411225Z"
    }
   },
   "outputs": [],
   "source": [
    "with open('mlpepper.json','w') as jsonfile:\n",
    "    jsonfile.write(mlpepper_results.json(indent=2))"
   ]
  },
  {
   "cell_type": "code",
   "execution_count": null,
   "id": "293d32a0-5d33-4184-87ac-0d9dca3dd5dc",
   "metadata": {},
   "outputs": [],
   "source": []
  }
 ],
 "metadata": {
  "kernelspec": {
   "display_name": "Python 3 (ipykernel)",
   "language": "python",
   "name": "python3"
  },
  "language_info": {
   "codemirror_mode": {
    "name": "ipython",
    "version": 3
   },
   "file_extension": ".py",
   "mimetype": "text/x-python",
   "name": "python",
   "nbconvert_exporter": "python",
   "pygments_lexer": "ipython3",
   "version": "3.12.7"
  }
 },
 "nbformat": 4,
 "nbformat_minor": 5
}
