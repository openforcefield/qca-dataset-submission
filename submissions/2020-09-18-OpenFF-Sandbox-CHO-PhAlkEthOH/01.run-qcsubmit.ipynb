{
 "cells": [
  {
   "cell_type": "code",
   "execution_count": 1,
   "metadata": {},
   "outputs": [],
   "source": [
    "import logging\n",
    "import bz2\n",
    "import sys\n",
    "import os"
   ]
  },
  {
   "cell_type": "code",
   "execution_count": 2,
   "metadata": {},
   "outputs": [],
   "source": [
    "import numpy as np"
   ]
  },
  {
   "cell_type": "code",
   "execution_count": 3,
   "metadata": {},
   "outputs": [
    {
     "name": "stderr",
     "output_type": "stream",
     "text": [
      "Warning: Unable to load toolkit 'OpenEye Toolkit'. The Open Force Field Toolkit does not require the OpenEye Toolkits, and can use RDKit/AmberTools instead. However, if you have a valid license for the OpenEye Toolkits, consider installing them for faster performance and additional file format support: https://docs.eyesopen.com/toolkits/python/quickstart-python/linuxosx.html OpenEye offers free Toolkit licenses for academics: https://www.eyesopen.com/academic-licensing\n"
     ]
    },
    {
     "data": {
      "application/vnd.jupyter.widget-view+json": {
       "model_id": "215de6d7e1a64d5eadff91aacfb0e9cd",
       "version_major": 2,
       "version_minor": 0
      },
      "text/plain": []
     },
     "metadata": {},
     "output_type": "display_data"
    }
   ],
   "source": [
    "import qcfractal.interface as ptl\n",
    "import tqdm\n",
    "import sys\n",
    "from qcsubmit import workflow_components\n",
    "from qcsubmit.factories import OptimizationDatasetFactory\n",
    "from openforcefield.topology import Molecule"
   ]
  },
  {
   "cell_type": "code",
   "execution_count": 4,
   "metadata": {},
   "outputs": [],
   "source": [
    "# Need to turn off undefined stereochemistry warnings\n",
    "logging.getLogger().setLevel(logging.ERROR)"
   ]
  },
  {
   "cell_type": "code",
   "execution_count": 5,
   "metadata": {},
   "outputs": [],
   "source": [
    "def test_submit(qcs_ds, client):\n",
    "    result = qcs_ds.submit(client)\n",
    "    print(result)\n",
    "    print(\"Total tasks:\", sum(result.values()))\n",
    "\n",
    "def test_submit_to_local_server(qcs_ds):\n",
    "    print(\"Submitting to test-run to local server\")\n",
    "    client = ptl.FractalClient(\"localhost:7777\", verify=False)\n",
    "    test_submit(qcs_ds, client)\n",
    "    \n",
    "def test_submit_to_test_server(qcs_ds):\n",
    "    from qcfractal import FractalSnowflakeHandler\n",
    "    print(\"Submitting test-run to in-memory server\")\n",
    "    server = FractalSnowflakeHandler()\n",
    "    test_submit(qcs_ds, server.client())\n"
   ]
  },
  {
   "cell_type": "code",
   "execution_count": 6,
   "metadata": {},
   "outputs": [
    {
     "name": "stdout",
     "output_type": "stream",
     "text": [
      "AlkEthOH_chain.smi.bz2        : 100%|██████| 1303/1303 [00:01<00:00, 657.03it/s]\n",
      "AlkEthOH_rings.smi.bz2        : 100%|██████| 1156/1156 [00:01<00:00, 629.37it/s]\n",
      "PhEthOH.smi.bz2               : 100%|██████| 5082/5082 [00:13<00:00, 371.35it/s]\n",
      "\n",
      "Files loaded; molecules generated.\n"
     ]
    }
   ],
   "source": [
    "smi_prefix_dir = \"smi\"\n",
    "smi_files = [\"AlkEthOH_chain.smi.bz2\", \"AlkEthOH_rings.smi.bz2\", \"PhEthOH.smi.bz2\"]\n",
    "\n",
    "mols = []\n",
    "for smi_file in smi_files:\n",
    "    \n",
    "    opener = open\n",
    "    if smi_file.endswith(\"bz2\"):\n",
    "        opener = bz2.open\n",
    "        \n",
    "    with opener(os.path.join(smi_prefix_dir,smi_file), 'rt') as fd:\n",
    "        lines = fd.readlines()\n",
    "        \n",
    "        for smi in tqdm.tqdm(\n",
    "            lines, total=len(lines), ncols=80,\n",
    "            desc=\"{:30s}\".format(smi_file), file=sys.stdout\n",
    "        ):\n",
    "            smi = smi.split()[0]\n",
    "            mols.append(\n",
    "                Molecule.from_smiles(smi, allow_undefined_stereo=True)\n",
    "            )\n",
    "print(\"\\nFiles loaded; molecules generated.\")"
   ]
  },
  {
   "cell_type": "code",
   "execution_count": 7,
   "metadata": {},
   "outputs": [],
   "source": [
    "# Generate the workflow to apply to the molecules\n",
    "qcs_ds = OptimizationDatasetFactory()\n",
    "\n",
    "component = workflow_components.EnumerateStereoisomers()\n",
    "component.max_isomers = 100\n",
    "component.toolkit = \"rdkit\"\n",
    "qcs_ds.add_workflow_component(component)\n",
    "\n",
    "component = workflow_components.StandardConformerGenerator()\n",
    "component.max_conformers = 100\n",
    "component.toolkit = \"rdkit\"\n",
    "component.rms_cutoff = 3.0\n",
    "qcs_ds.add_workflow_component(component)"
   ]
  },
  {
   "cell_type": "code",
   "execution_count": 8,
   "metadata": {},
   "outputs": [
    {
     "name": "stderr",
     "output_type": "stream",
     "text": [
      "Deduplication                 : 100%|██████| 7541/7541 [00:07<00:00, 977.29it/s]\n",
      "EnumerateStereoisomers        : 100%|██████| 7408/7408 [01:03<00:00, 115.76it/s]\n",
      "StandardConformerGenerator    : 100%|█████| 10505/10505 [36:59<00:00,  4.73it/s]\n",
      "Preparation                   : 100%|█████| 10505/10505 [02:27<00:00, 71.00it/s]"
     ]
    },
    {
     "name": "stdout",
     "output_type": "stream",
     "text": [
      "Workflow complete; dataset generated.\n"
     ]
    },
    {
     "name": "stderr",
     "output_type": "stream",
     "text": [
      "\n"
     ]
    }
   ],
   "source": [
    "dataset = qcs_ds.create_dataset(\n",
    "    dataset_name=\"OpenFF Sandbox CHO PhAlkEthOH v1.0\",\n",
    "    molecules=mols,\n",
    "    description=\"A diverse set of small CHO molecules\",\n",
    "    tagline=\"A diverse set of small CHO molecules\",\n",
    ")\n",
    "print(\"Workflow complete; dataset generated.\")"
   ]
  },
  {
   "cell_type": "code",
   "execution_count": 9,
   "metadata": {},
   "outputs": [
    {
     "name": "stdout",
     "output_type": "stream",
     "text": [
      "Number of unique molecules        10505\n",
      "Number of filtered molecules      0\n",
      "Number of conformers              12592\n",
      "Number of conformers min mean max 1   1.20 5\n"
     ]
    }
   ],
   "source": [
    "dataset.metadata.short_description = \"A diverse set of small CHO molecules\"\n",
    "dataset.metadata.long_description_url = \"https://github.com/openforcefield/qca-dataset-submission/tree/master/submissions/2020-09-18-OpenFF-Sandbox-CHO-PhAlkEthOH\"\n",
    "dataset.metadata.long_description = \"This dataset contains an expanded set of the AlkEthOH and PhEthOH datasets, which were used in the original derivation of the smirnoff99Frosst parameters.\"\n",
    "\n",
    "confs = np.array([len(mol.conformers) for mol in dataset.molecules])\n",
    "print(\"Number of unique molecules       \", dataset.n_molecules)\n",
    "print(\"Number of filtered molecules     \", dataset.n_filtered)\n",
    "print(\"Number of conformers             \", dataset.n_records)\n",
    "print(\"Number of conformers min mean max\", \n",
    "      confs.min(), \"{:6.2f}\".format(confs.mean()), confs.max())\n",
    "\n",
    "dataset.export_dataset(\"dataset.json.bz2\")"
   ]
  },
  {
   "cell_type": "code",
   "execution_count": 10,
   "metadata": {},
   "outputs": [
    {
     "name": "stdout",
     "output_type": "stream",
     "text": [
      "Submitting test-run to in-memory server\n",
      "{'default': 12271}\n",
      "Total tasks: 12271\n",
      "CPU times: user 6min 30s, sys: 7.53 s, total: 6min 38s\n",
      "Wall time: 16min 36s\n"
     ]
    }
   ],
   "source": [
    "%time test_submit_to_test_server(dataset)"
   ]
  },
  {
   "cell_type": "code",
   "execution_count": 1,
   "metadata": {},
   "outputs": [
    {
     "name": "stderr",
     "output_type": "stream",
     "text": [
      "Warning: Unable to load toolkit 'OpenEye Toolkit'. The Open Force Field Toolkit does not require the OpenEye Toolkits, and can use RDKit/AmberTools instead. However, if you have a valid license for the OpenEye Toolkits, consider installing them for faster performance and additional file format support: https://docs.eyesopen.com/toolkits/python/quickstart-python/linuxosx.html OpenEye offers free Toolkit licenses for academics: https://www.eyesopen.com/academic-licensing\n"
     ]
    },
    {
     "data": {
      "application/vnd.jupyter.widget-view+json": {
       "model_id": "4d5dc503ad074ab88afd987b75144706",
       "version_major": 2,
       "version_minor": 0
      },
      "text/plain": []
     },
     "metadata": {},
     "output_type": "display_data"
    }
   ],
   "source": [
    "from qcsubmit.datasets import OptimizationDataset\n",
    "dataset = OptimizationDataset.parse_file('./dataset.json.bz2')\n",
    "dataset.metadata.long_description = \"This dataset contains a stereo-expanded version of the AlkEthOH dataset, and the original PhEthOH dataset, which were used in the original derivation of the smirnoff99Frosst parameters.\"\n",
    "dataset.metadata.submitter = 'trevorgokey'\n",
    "dataset.export_dataset(\"dataset.json.bz2\")"
   ]
  },
  {
   "cell_type": "code",
   "execution_count": 2,
   "metadata": {},
   "outputs": [
    {
     "name": "stderr",
     "output_type": "stream",
     "text": [
      "visualize.pdf: 100%|██████████████████████| 10505/10505 [04:33<00:00, 38.48it/s]\n"
     ]
    },
    {
     "name": "stdout",
     "output_type": "stream",
     "text": [
      "Processing visualize.pdf; this could take several minutes for a large dataset\n",
      "Loading pages (1/6)\n",
      "Counting pages (2/6)                                               \n",
      "Resolving links (4/6)                                                       \n",
      "Loading headers and footers (5/6)                                           \n",
      "Printing pages (6/6)\n",
      "Done                                                                            \n"
     ]
    }
   ],
   "source": [
    "from qcsubmit.datasets import OptimizationDataset\n",
    "ds = OptimizationDataset.parse_file('./dataset.json.bz2')\n",
    "ds.visualize('visualize.pdf', annotate=True, hires=False)"
   ]
  }
 ],
 "metadata": {
  "jupytext": {
   "cell_metadata_filter": "-all",
   "executable": "/usr/bin/env python3",
   "main_language": "python",
   "notebook_metadata_filter": "-all"
  },
  "kernelspec": {
   "display_name": "Python 3",
   "language": "python",
   "name": "python3"
  },
  "language_info": {
   "codemirror_mode": {
    "name": "ipython",
    "version": 3
   },
   "file_extension": ".py",
   "mimetype": "text/x-python",
   "name": "python",
   "nbconvert_exporter": "python",
   "pygments_lexer": "ipython3",
   "version": "3.7.8"
  }
 },
 "nbformat": 4,
 "nbformat_minor": 4
}
