{
 "cells": [
  {
   "cell_type": "code",
   "execution_count": 232,
   "metadata": {},
   "outputs": [
    {
     "name": "stdout",
     "output_type": "stream",
     "text": [
      "t143f\n",
      "[H:8][C:1]([H:9])([H:10])[C:2](=[O:3])[N+:4]([H:11])([H:12])[S:5](=[O:6])[O:7][H:13]\n",
      "[[6, 4, 3, 11]]\n",
      "[H:15][C:4]1([C:5]([C:6]([N+:2]([C:3]1([H:13])[H:14])([C:1]([H:10])([H:11])[H:12])[S:7](=[O:8])[O:9][H:21])([H:19])[H:20])([H:17])[H:18])[H:16]\n",
      "[[5, 1, 6, 8]]\n",
      "[H:8][C:1]([H:9])([H:10])[N+:2]([C:3]([H:11])([H:12])[H:13])([C:4]([H:14])([H:15])[H:16])[S:5](=[O:6])[O:7][H:17]\n",
      "[[3, 1, 4, 6]]\n",
      "[H:21][c:7]1[c:6]([c:5]([c:4]([c:9]([c:8]1[H:22])[H:23])[N+:2]([C:1]([H:13])([H:14])[H:15])([C:3]([H:16])([H:17])[H:18])[S:10](=[O:11])[O:12][H:24])[H:19])[H:20]\n",
      "[[3, 1, 9, 11]]\n",
      "[H:5][N+:1]([H:6])([H:7])[S:2](=[O:3])[O:4][H:8]\n",
      "[[3, 1, 0, 6]]\n",
      "t130b\n",
      "[H:12][c:1]1[c:2]([c:3]([c:4]([c:5]([c:6]1[H:16])[H:15])[S:7](=[O:8])(=[O:9])[N:10]([H:17])[N:11]([H:18])[H:19])[H:14])[H:13]\n",
      "[[6, 9, 10, 18]]\n",
      "[H:19][C:8]([H:20])([H:21])[C:7]([H:17])([H:18])[N:6]([N:5]([H:16])[S:2](=[O:3])(=[O:4])[C:1]([H:13])([H:14])[H:15])[S:9](=[O:10])(=[O:11])[C:12]([H:22])([H:23])[H:24]\n",
      "[[8, 5, 4, 15]]\n",
      "[H:20][c:5]1[c:6]([c:7]([c:8]([c:9]([c:4]1[O:3][C:2]([H:18])([H:19])[C:1]([H:15])([H:16])[H:17])[H:23])[H:22])[S:10](=[O:11])(=[O:12])[N:13]([H:24])[N:14]([H:25])[H:26])[H:21]\n",
      "[[9, 12, 13, 25]]\n",
      "[H:26][c:6]1[c:7]([c:8]2[c:9]([c:10]([c:11]([c:12]([c:13]2[S:14](=[O:15])(=[O:16])[N:17]([H:31])[N:18]([H:32])[H:33])[H:30])[H:29])[H:28])[c:4]([c:5]1[H:25])[N:2]([C:1]([H:19])([H:20])[H:21])[C:3]([H:22])([H:23])[H:24])[H:27]\n",
      "[[13, 16, 17, 32]]\n",
      "t132b\n",
      "[H:25][c:8]1[c:9]([c:10]([c:11]([c:12]([c:7]1[C:5](=[O:6])[N:4]([H:24])[C:2]([H:20])([C:1]([H:17])([H:18])[H:19])[C:3]([H:21])([H:22])[H:23])[H:28])[H:27])[C:13]([H:29])([H:30])[N:14]([H:31])[N:15]([H:32])[C:16]([H:33])([H:34])[H:35])[H:26]\n",
      "[[15, 14, 13, 30]]\n",
      "[H:6][C:1]([H:7])([H:8])[C:2]([H:9])([H:10])[N:3]([H:11])[N:4]([H:12])[C:5]([H:13])([H:14])[H:15]\n",
      "[[4, 3, 2, 10]]\n",
      "[H:10][C:1]([H:11])([H:12])[C:2]([H:13])([H:14])[N:3]([H:15])[N:4]([H:16])[C:5]([H:17])([H:18])[S:6](=[O:7])(=[O:8])[C:9]([H:19])([H:20])[H:21]\n",
      "[[4, 3, 2, 14]]\n",
      "[H:11][c:1]1[c:2]([c:3]([c:4]([c:5]([c:6]1[H:15])[H:14])[C:7]([H:16])([H:17])[C:8]([H:18])([H:19])[N:9]([H:20])[N:10]([H:21])[H:22])[H:13])[H:12]\n",
      "[[7, 8, 9, 21]]\n",
      "[H:12][c:1]1[c:2]([c:3]([c:4]([c:5]([c:6]1[H:16])[H:15])[C:7](=[O:8])[C:9]([H:17])([H:18])[N:10]([H:19])[N:11]([H:20])[H:21])[H:14])[H:13]\n",
      "[[8, 9, 10, 20]]\n",
      "t133\n",
      "[H:13][C:1]1([C:2]([N+:3]([C:4]([N:5]1[H:19])([H:17])[H:18])([N+:6]2([C:7]([C:8]([N:9]([C:10]2([H:25])[H:26])[H:24])([H:22])[H:23])([H:20])[H:21])[O-:11])[O-:12])([H:15])[H:16])[H:14]\n",
      "[[3, 2, 5, 9]]\n",
      "[H:7][C:1]1([C:2]([N+:3]([N+:4]1([H:12])[O-:5])([H:11])[O-:6])([H:9])[H:10])[H:8]\n",
      "[[0, 3, 2, 1]]\n",
      "[H:15][C:1]1([C:2]([C:3]([N+:4]([C:5]([C:6]1([H:23])[H:24])([H:21])[H:22])([N+:7]2([C:8]([C:9]([C:10]([C:11]([C:12]2([H:33])[H:34])([H:31])[H:32])([H:29])[H:30])([H:27])[H:28])([H:25])[H:26])[O-:13])[O-:14])([H:19])[H:20])([H:17])[H:18])[H:16]\n",
      "[[4, 3, 6, 11]]\n",
      "[H:29][C:11]([H:30])([H:31])[C:9](=[O:10])[C:6]([C:7]([H:23])([H:24])[H:25])([C:8]([H:26])([H:27])[H:28])[N+:5]([H:22])([N+:3]([C:4]([H:19])([H:20])[H:21])([C:2]([H:17])([H:18])[C:1]([H:14])([H:15])[H:16])[O-:13])[O-:12]\n",
      "[[3, 2, 4, 5]]\n",
      "[H:10][C:1]([H:11])([H:12])[C:2]([H:13])([H:14])[N+:3]([H:15])([N+:4]([C:5]([H:16])([H:17])[H:18])([C:6]([H:19])([H:20])[C:7]([H:21])([H:22])[H:23])[O-:8])[O-:9]\n",
      "[[1, 2, 3, 5]]\n",
      "t133a\n",
      "[H:12][C:1]([H:13])([H:14])[N:2]([C:3]([H:15])([H:16])[C:4]([H:17])([H:18])[C:5](=[O:6])[O-:7])[N+:8]([C:9]([H:19])([H:20])[H:21])([C:10]([H:22])([H:23])[H:24])[C:11]([H:25])([H:26])[H:27]\n",
      "[[2, 1, 7, 10]]\n",
      "[H:11][C:1]([H:12])([H:13])[N+:2]([C:3]([H:14])([H:15])[H:16])([C:4]([H:17])([H:18])[H:19])[N:5]([H:20])[C:6]([H:21])([H:22])[C:7]([H:23])([H:24])[C:8](=[O:9])[O-:10]\n",
      "[[3, 1, 4, 5]]\n",
      "[H:19][C:5](=[C:4]([H:18])[N+:2]([C:1]([H:12])([H:13])[H:14])([C:3]([H:15])([H:16])[H:17])[N:6]([H:21])[C:7]([H:22])([H:23])[C:8]([H:24])([H:25])[C:9](=[O:10])[O-:11])[H:20]\n",
      "[[2, 1, 5, 6]]\n",
      "[H:8][C:1]([H:9])([H:10])[N:2]([C:3]([H:11])([H:12])[H:13])[N+:4]([C:5]([H:14])([H:15])[H:16])([C:6]([H:17])([H:18])[H:19])[C:7]([H:20])([H:21])[H:22]\n",
      "[[2, 1, 3, 6]]\n",
      "[H:12][C:1]([H:13])([H:14])[N+:2]([C:3]([H:15])([H:16])[H:17])([C:4]([H:18])([H:19])[H:20])[N:5]([H:21])[C:6]([H:22])([H:23])[C:7]([H:24])([H:25])[S:8](=[O:9])(=[O:10])[O-:11]\n",
      "[[3, 1, 4, 5]]\n",
      "t142b\n",
      "[H:10][C:1]([H:11])([H:12])[N:2]([H:13])[S:3][N:4]([C:6](=[O:7])[O:8][N:9]([H:17])[H:18])[C:5]([H:14])([H:15])[H:16]\n",
      "[[3, 2, 1, 12]]\n",
      "[H:11][C:5]1=[C:6]([S:7][N:2]([C:3]1=[O:4])[C:1]([H:8])([H:9])[H:10])[H:12]\n",
      "[[2, 1, 6, 5]]\n",
      "[H:32][C:12]1=[C:13]([S:14][N:9]([C:10]1=[O:11])[C:8]([H:30])([H:31])[C:7]([H:28])([H:29])[C:6]([H:26])([H:27])[C:5]([H:24])([H:25])[C:4]([H:22])([H:23])[C:3]([H:20])([H:21])[C:2]([H:18])([H:19])[C:1]([H:15])([H:16])[H:17])[H:33]\n",
      "[[9, 8, 13, 12]]\n",
      "[H:11][c:1]1[c:2]([c:3]([c:4]2[c:5]([c:6]1[H:14])[C:7](=[O:8])[N:9]([S:10]2)[H:15])[H:13])[H:12]\n",
      "[[3, 9, 8, 14]]\n",
      "[H:31][c:13]1[c:14]([c:15]([c:16]2[c:11]([c:12]1[H:30])[N:10]=[C:9]([S:17]2)[S:8][N:7]([H:29])[C:4]3([C:3]([C:2]([C:1]([C:6]([C:5]3([H:25])[H:26])([H:27])[H:28])([H:18])[H:19])([H:20])[H:21])([H:22])[H:23])[H:24])[H:33])[H:32]\n",
      "[[8, 7, 6, 28]]\n",
      "t142d\n",
      "[H:8][C:1]1=[N:2][S+:3]([N:4]([C:5]1=[N:6][H:10])[H:9])[O-:7]\n",
      "[[0, 1, 2, 6]]\n",
      "[H:8][C:1]([H:9])([H:10])[C:2](=[O:3])[O:4][S+:5]([C:6]([H:11])([H:12])[H:13])[C:7]([H:14])([H:15])[H:16]\n",
      "[[1, 3, 4, 6]]\n",
      "[H:11][C:1]([H:12])([H:13])[C:2]([H:14])([H:15])[N:3]=[C:4]1[C:5](=[N:6][S+:7]([N:8]1[H:16])[O-:9])[N:10]([H:17])[H:18]\n",
      "[[4, 5, 6, 8]]\n",
      "[H:22][c:11]1[c:10]([c:9]([c:8]([c:13]([c:12]1[H:23])[H:24])[S:5](=[O:6])(=[O:7])[O:4][S+:2]([C:1]([H:14])([H:15])[H:16])[C:3]([H:17])([H:18])[H:19])[H:20])[H:21]\n",
      "[[2, 1, 3, 4]]\n",
      "[H:15][c:1]1[c:2]([c:3]([c:4]([c:5]([c:6]1[H:19])[H:18])[S+:7]([c:8]2[c:9]([c:10]([c:11]([c:12]([c:13]2[H:24])[H:23])[H:22])[H:21])[H:20])[O:14][H:25])[H:17])[H:16]\n",
      "[[7, 6, 13, 24]]\n",
      "t142e\n",
      "[H:20][c:6]1[c:5]2[c:10]([c:9]([c:8]([c:7]1[O:15][C:16]([H:25])([H:26])[H:27])[O:13][C:14]([H:22])([H:23])[H:24])[H:21])[S+:11]([N:2]([C:3]2=[O:4])[C:1]([H:17])([H:18])[H:19])[O-:12]\n",
      "[[2, 1, 10, 11]]\n",
      "[H:10][N:6]=[C:5]1[C:1](=[N:2][S+:3]([N:4]1[H:9])[O-:7])[N:8]([H:11])[H:12]\n",
      "[[6, 2, 3, 8]]\n",
      "[H:13][C:1]([H:14])([H:15])[N:2]=[C:3]1[C:4](=[N:5][C:6]([H:16])([H:17])[C:7]([H:18])([H:19])[S:8][H:20])[N:9]([S+:10]([N:11]1[H:22])[O-:12])[H:21]\n",
      "[[11, 9, 10, 21]]\n",
      "[H:14][C:1]([H:15])([H:16])[S:2][C:3]([H:17])([H:18])[C:4]([H:19])([N:5]=[C:6]1[C:7](=[N:8][S+:9]([N:10]1[H:20])[O-:11])[N:12]([H:21])[H:22])[O:13][H:23]\n",
      "[[10, 8, 9, 19]]\n",
      "[H:15][C:1]1=[C:5]([O:4][C:3](=[C:2]1[H:16])[C:6]([H:18])([H:19])[N:7]=[C:8]2[C:9](=[N:10][S+:11]([N:12]2[H:20])[O-:13])[N:14]([H:21])[H:22])[H:17]\n",
      "[[12, 10, 11, 19]]\n",
      "t142f\n",
      "[H:18][c:1]1[c:2]([c:3]([c:4]([c:5]([c:6]1[H:22])[H:21])[S+:7]([c:8]2[c:9]([c:10]([c:11]([c:12]([c:13]2[H:27])[H:26])[H:25])[H:24])[H:23])[S:14](=[O:15])(=[O:16])[O:17][H:28])[H:20])[H:19]\n",
      "[[7, 6, 13, 16]]\n",
      "[H:18][c:9]1[c:8]([c:7]([c:6]([c:11]([c:10]1[H:19])[H:20])[S:3](=[O:4])(=[O:5])[S+:2]([H:15])[C:1]([H:12])([H:13])[H:14])[H:16])[H:17]\n",
      "[[5, 2, 1, 14]]\n",
      "[H:22][c:5]1[c:6]([c:7]([c:8]([c:3]([c:4]1[H:21])[O:2][C:1]([H:18])([H:19])[H:20])[S:9](=[O:10])(=[O:11])[S+:12]([C:13]([H:25])([H:26])[H:27])[S:14](=[O:15])(=[O:16])[C:17]([H:28])([H:29])[H:30])[H:24])[H:23]\n",
      "[[12, 11, 13, 16]]\n",
      "[H:25][C:11]1=[C:12]([N:13]([C:9](=[C:10]1[H:24])[S:6](=[O:7])(=[O:8])[S+:3]([C:2]([H:17])([H:18])[C:1]([H:14])([H:15])[H:16])[C:4]([H:19])([H:20])[C:5]([H:21])([H:22])[H:23])[H:27])[H:26]\n",
      "[[3, 2, 5, 8]]\n",
      "[H:9][C:1]([H:10])([H:11])[C:2]([H:12])([H:13])[S+:3]([C:4]([H:14])([H:15])[H:16])[S:5](=[O:6])(=[O:7])[O:8][H:17]\n",
      "[[3, 2, 4, 7]]\n",
      "t142c\n",
      "[H:14][C:1]([H:15])([H:16])[C:2]([H:17])([C:3](=[O:4])[O:5][C:6]([H:18])([H:19])[H:20])[S:7][P:8](=[S:9])([O:10][C:11]([H:21])([H:22])[H:23])[O:12][C:13]([H:24])([H:25])[H:26]\n",
      "[[1, 6, 7, 11]]\n",
      "[H:29][c:14]1[c:15]([c:16]([c:17]2[c:12]([c:13]1[H:28])[C:10](=[O:11])[N:9]([C:18]2=[O:19])[C:8]([H:26])([H:27])[S:7][P:3](=[S:4])([O:2][C:1]([H:20])([H:21])[H:22])[O:5][C:6]([H:23])([H:24])[H:25])[H:31])[H:30]\n",
      "[[4, 2, 6, 7]]\n",
      "[H:10][C:1]([H:11])([H:12])[C:2]([H:13])([H:14])[O:3][P:4](=[S:5])([O:6][C:7]([H:15])([H:16])[C:8]([H:17])([H:18])[H:19])[S:9][H:20]\n",
      "[[5, 3, 8, 19]]\n",
      "[H:14][C:1]([H:15])([H:16])[C:2]([H:17])([H:18])[S:3][P:4](=[S:5])([O:6][C:7]([H:19])([C:8]([H:20])([H:21])[H:22])[C:9]([H:23])([H:24])[H:25])[O:10][C:11]([H:26])([C:12]([H:27])([H:28])[H:29])[C:13]([H:30])([H:31])[H:32]\n",
      "[[1, 2, 3, 9]]\n",
      "[H:22][c:11]1[c:10]([c:9]([c:8]([c:13]([c:12]1[H:23])[H:24])[S:7][P:3](=[S:4])([O:2][C:1]([H:14])([H:15])[H:16])[O:5][C:6]([H:17])([H:18])[H:19])[H:20])[H:21]\n",
      "[[4, 2, 6, 7]]\n",
      "t143d\n",
      "[H:13][c:1]1[c:2]([c:3]([c:4]([c:5]([c:6]1[H:17])[H:16])[C:7]2=[N:8][S:9](=[O:10])[O:11][N:12]2[H:18])[H:15])[H:14]\n",
      "[[6, 7, 8, 10]]\n",
      "[H:7][C:1]1=[N:2][S:3](=[O:4])[O:5][N:6]1[H:8]\n",
      "[[0, 1, 2, 4]]\n",
      "[H:11][C:3]1=[C:4]([S:5](=[O:6])[N:7]=[C:2]1[C:1]([H:8])([H:9])[H:10])[H:12]\n",
      "[[1, 6, 4, 3]]\n",
      "[H:12][C:1]([H:13])([H:14])[C:2]([H:15])([C:3](=[O:4])[C:5]1=[N:6][S:7](=[O:8])[O:9][N:10]1[H:16])[O:11][H:17]\n",
      "[[4, 5, 6, 8]]\n",
      "[H:15][C:4]1=[C:3]([C:8](=[N:7][S:5]1=[O:6])[N:9]([H:16])[H:17])[C:2]([H:13])([H:14])[C:1]([H:10])([H:11])[H:12]\n",
      "[[3, 4, 6, 7]]\n",
      "t143e\n",
      "[H:25][c:11]1[c:10]([c:9]([c:8]([c:13]([c:12]1[H:26])[H:27])[N:6]([C:7]([H:20])([H:21])[H:22])[S:4](=[O:5])[N:2]([C:1]([H:14])([H:15])[H:16])[C:3]([H:17])([H:18])[H:19])[H:23])[H:24]\n",
      "[[2, 1, 3, 5]]\n",
      "[H:8][C:1]([H:9])([H:10])[C:2]([H:11])([H:12])[O:3][S:4](=[O:5])[N:6]([H:13])[C:7]([H:14])([H:15])[H:16]\n",
      "[[2, 3, 5, 12]]\n",
      "[H:21][c:10]1[c:9]([c:8]([c:7]([c:12]([c:11]1[H:22])[H:23])[N:6]([H:18])[S:4](=[O:5])[O:3][C:2]([H:16])([H:17])[C:1]([H:13])([H:14])[H:15])[H:19])[H:20]\n",
      "[[2, 3, 5, 17]]\n",
      "[H:9][C:1]([H:10])([H:11])[N:2]([C:3]([H:12])([H:13])[H:14])[S:4](=[O:5])[N:6]([C:7]([H:15])([H:16])[H:17])[C:8]([H:18])([H:19])[H:20]\n",
      "[[2, 1, 3, 5]]\n",
      "[H:5][N:1]([H:6])[S:2](=[O:3])[O:4][H:7]\n",
      "[[3, 1, 0, 5]]\n",
      "t122d\n",
      "[H:19][C:11]#[C:10][S:8](=[O:9])[c:5]1[c:4]([c:3]([c:2]([c:7]([c:6]1[H:17])[H:18])[C:1]([H:12])([H:13])[H:14])[H:15])[H:16]\n",
      "[[5, 4, 7, 9]]\n",
      "[H:27][c:13]1[c:12]([c:11]([c:10]([c:15]([c:14]1[H:28])[H:29])[S:8](=[O:9])[C:7]#[C:6][O:5][C:2]([C:1]([H:16])([H:17])[H:18])([C:3]([H:19])([H:20])[H:21])[C:4]([H:22])([H:23])[H:24])[H:25])[H:26]\n",
      "[[6, 7, 9, 14]]\n",
      "[H:13][c:1]1[c:2]([c:3]([c:4]([c:5]([c:6]1[H:17])[H:16])[C:7]2=[C:8]([N:9]=[C-:10][S:11]2=[O:12])[H:18])[H:15])[H:14]\n",
      "[[7, 6, 10, 9]]\n",
      "[H:23][c:10]1[c:9]([c:8]([c:13]([c:12]([c:11]1[C:14]([H:26])([H:27])[H:28])[H:24])[H:25])[S:6](=[O:7])[C:5]#[C:4][C:3]([H:20])([H:21])[C:2]([H:18])([H:19])[C:1]([H:15])([H:16])[H:17])[H:22]\n",
      "[[4, 5, 7, 12]]\n",
      "[H:11][c:1]1[c:2]([c:3]([c:4]([c:5]([c:6]1[H:15])[H:14])[S:7](=[O:8])[C:9]#[N:10])[H:13])[H:12]\n",
      "[[4, 3, 6, 8]]\n",
      "t122e\n",
      "[H:15][c:1]1[c:2]([c:3]([c:4]([c:5]([c:6]1[H:19])[H:18])[S:7](=[O:8])[c:9]2[c:10]([c:11]([c:12]([c:13]([c:14]2[H:24])[H:23])[H:22])[H:21])[H:20])[H:17])[H:16]\n",
      "[[4, 3, 6, 8]]\n",
      "[H:19][c:1]1[c:2]([c:3]([c:4]([c:5]([c:6]1[H:23])[H:22])[S:7](=[O:8])[c:9]2[c:10]([c:11]([c:12]3[c:13]([c:14]2[H:26])[N:15]([C:16](=[N:17]3)[N:18]([H:28])[H:29])[H:27])[H:25])[H:24])[H:21])[H:20]\n",
      "[[4, 3, 6, 8]]\n",
      "[H:16][c:1]1[c:2]([c:3]([c:4]2[c:5]([c:6]1[H:19])[S:7][c:8]3[c:9]([c:10]([c:11]([c:12]([c:13]3[S:14]2=[O:15])[H:23])[H:22])[H:21])[H:20])[H:18])[H:17]\n",
      "[[4, 3, 13, 12]]\n",
      "[H:27][c:13]1[c:14]([c:15]([c:16]2[c:11]([c:12]1[H:26])[C:9](=[O:10])[N:8]([c:6]3[c:7]([c:2]([c:3]([c:4]([c:5]3[S:17]2=[O:18])[H:24])[H:23])[C:1]([H:20])([H:21])[H:22])[H:25])[C:19]([H:30])([H:31])[H:32])[H:29])[H:28]\n",
      "[[5, 4, 16, 15]]\n",
      "[H:18][c:1]1[c:2]([c:3]([c:4]([c:5]([c:6]1[H:21])[S:7](=[O:8])[c:9]2[c:10]([c:11]([c:12]([c:13]([c:14]2[H:24])[N:15]([H:25])[H:26])[H:23])[N:16]([H:27])[H:28])[H:22])[H:20])[N:17]([H:29])[H:30])[H:19]\n",
      "[[5, 4, 6, 8]]\n",
      "t122a\n",
      "[H:18][c:10]1[c:9]([c:8]([c:7]([c:12]([c:11]1[H:19])[H:20])[S:4](=[O:5])(=[O:6])[C:3]#[C:2][C:1]([H:13])([H:14])[H:15])[H:16])[H:17]\n",
      "[[2, 3, 6, 11]]\n",
      "[H:12][c:1]1[c:2]([c:3]([c:4]([c:5]([c:6]1[H:16])[H:15])[S:7](=[O:8])(=[O:9])[C:10]#[N:11])[H:14])[H:13]\n",
      "[[4, 3, 6, 9]]\n",
      "[H:28][c:16]1[c:15]([c:14]([c:13]([c:18]([c:17]1[H:29])[H:30])[C:12]#[C:11][S:8](=[O:9])(=[O:10])[c:5]2[c:4]([c:3]([c:2]([c:7]([c:6]2[H:24])[H:25])[C:1]([H:19])([H:20])[H:21])[H:22])[H:23])[H:26])[H:27]\n",
      "[[5, 4, 7, 10]]\n",
      "[H:19][c:10]1[c:9]([c:8]([c:7]([c:12]([c:11]1[N:13]([H:21])[H:22])[H:20])[S:4](=[O:5])(=[O:6])[C:3]#[C:2][C:1]([H:15])([H:16])[H:17])[H:18])[N:14]([H:23])[H:24]\n",
      "[[2, 3, 6, 11]]\n",
      "[H:14][c:1]1[c:2]([c:3]([c:4]([c:5]([c:6]1[O:7][H:17])[H:16])[S:8](=[O:9])(=[O:10])[C:11]#[N:12])[H:15])[N:13]([H:18])[H:19]\n",
      "[[4, 3, 7, 10]]\n",
      "t116b\n",
      "[H:8][C:1](=[C:2]([H:10])[S+:3]1[C:4]([C:5]([C:6]([C:7]1([H:17])[H:18])([H:15])[H:16])([H:13])[H:14])([H:11])[H:12])[H:9]\n",
      "[[6, 2, 1, 9]]\n",
      "[H:16][C:5](=[C:4]([H:15])[S+:2]([C:1]([H:9])([H:10])[H:11])[C:3]([H:12])([H:13])[H:14])[C:6](=[O:7])[O-:8]\n",
      "[[2, 1, 3, 14]]\n",
      "[H:16][C:4](=[C:5]([H:17])[S+:6]([C:7]([H:18])([H:19])[H:20])[C:8]([H:21])([H:22])[H:23])[C:3]([H:15])([C:2]([H:13])([H:14])[C:1]([H:10])([H:11])[H:12])[N:9]([H:24])[H:25]\n",
      "[[7, 5, 4, 16]]\n",
      "[H:26][c:12]1[c:11]([c:10]([c:9]([c:14]([c:13]1[H:27])[H:28])[N:8]([H:23])[C:6](=[O:7])[C:5](=[C:4]([H:21])[S+:2]([C:1]([H:15])([H:16])[H:17])[C:3]([H:18])([H:19])[H:20])[H:22])[H:24])[H:25]\n",
      "[[2, 1, 3, 20]]\n",
      "[H:10][C:1](=[C:2]([H:12])[S+:3]1[C:4]([C:5]([C:6]([C:7]1([H:17])[H:18])([H:16])[N:8]([H:19])[H:20])([H:15])[N:9]([H:21])[H:22])([H:13])[H:14])[H:11]\n",
      "[[6, 2, 1, 11]]\n",
      "t116c\n",
      "[H:23][C:7]1([C:8]([C:9]2([C:10]3([C:3]([C:4]([S+:5]2[C:6]1([H:21])[H:22])([H:19])[H:20])([N:2]([C:12](=[O:13])[N:11]3[C:14]([H:29])([H:30])[H:31])[C:1]([H:15])([H:16])[H:17])[H:18])[H:28])[H:27])([H:25])[H:26])[H:24]\n",
      "[[8, 4, 5, 21]]\n",
      "[H:11][C:1]([H:12])([H:13])[S+:2]([C:3]([H:14])([H:15])[H:16])[C:4]([H:17])([H:18])[C:5]([H:19])([H:20])[C:6]([H:21])([C:7](=[O:8])[O:9][H:22])[N:10]([H:23])[H:24]\n",
      "[[3, 1, 2, 15]]\n",
      "[H:9][C:1]([H:10])([H:11])[S+:2]([C:3]([H:12])([H:13])[H:14])[C:4]([H:15])([H:16])[C:5]([H:17])([H:18])[C:6](=[O:7])[O-:8]\n",
      "[[3, 1, 2, 13]]\n",
      "[H:28][c:12]1[c:11]([c:10]([c:9]([c:14]([c:13]1[H:29])[H:30])[N:8]([H:25])[C:6](=[O:7])[C:5]([H:23])([H:24])[C:4]([H:21])([H:22])[S+:2]([C:1]([H:15])([H:16])[H:17])[C:3]([H:18])([H:19])[H:20])[H:26])[H:27]\n",
      "[[3, 1, 2, 19]]\n",
      "[H:24][c:9]1[c:8]([c:7]([c:6]([c:11]([c:10]1[H:25])[H:26])[C:5]([H:20])([H:21])[C:4]([H:18])([H:19])[S+:2]([C:1]([H:12])([H:13])[H:14])[C:3]([H:15])([H:16])[H:17])[H:22])[H:23]\n",
      "[[3, 1, 2, 16]]\n",
      "t74a\n",
      "[H:7][C:1]([H:8])([H:9])[C:2](=[O:3])[N-:4][N:5]([H:10])[C:6]([H:11])([H:12])[H:13]\n",
      "[[2, 1, 3, 4]]\n",
      "[H:14][C:8]([H:15])([H:16])[C:6](=[O:7])[N-:5][C:3](=[O:4])[C:2]([H:12])([H:13])[C:1]([H:9])([H:10])[H:11]\n",
      "[[3, 2, 4, 5]]\n",
      "[H:7][C:1]([H:8])([H:9])[C:2]([H:10])([H:11])[C:3](=[O:4])[N-:5][C:6]([H:12])([H:13])[H:14]\n",
      "[[3, 2, 4, 5]]\n",
      "[H:18][c:9]1[c:10]([c:11]([c:12]([c:13]([c:8]1[C:6](=[O:7])[N-:5][S:2](=[O:3])(=[O:4])[C:1]([H:15])([H:16])[H:17])[H:21])[H:20])[N:14]([H:22])[H:23])[H:19]\n",
      "[[1, 4, 5, 7]]\n",
      "[H:17][c:7]1[c:8]([n:9][c:10]([c:11]([c:6]1[C:4](=[O:5])[N-:3][C:2]([H:15])([H:16])[C:1]([H:12])([H:13])[H:14])[H:20])[H:19])[H:18]\n",
      "[[1, 2, 3, 5]]\n",
      "t157\n",
      "[H:6][N:1]([H:7])[S:2](=[O:3])(=[O:4])[O:5][H:8]\n",
      "[[3, 1, 4, 7]]\n",
      "[H:8][C:1]([H:9])([C:2]([H:10])([H:11])[S:3](=[O:4])(=[O:5])[O:6][H:12])[N:7]([H:13])[H:14]\n",
      "[[4, 2, 5, 11]]\n",
      "[H:15][C:1]([H:16])([H:17])[S:2](=[O:3])(=[O:4])[O:5][C:6]([H:18])([H:19])[C:7]([H:20])([H:21])[C:8]([H:22])([H:23])[C:9]([H:24])([H:25])[O:10][S:11](=[O:12])(=[O:13])[C:14]([H:26])([H:27])[H:28]\n",
      "[[8, 9, 10, 13]]\n",
      "[H:6][O:1][S:2](=[O:3])(=[O:4])[O:5][H:7]\n",
      "[[4, 1, 0, 5]]\n",
      "[H:14][C:3]1=[C:2]([O:10][S:7](=[O:8])(=[O:9])[N:6]([C:4]1=[O:5])[H:15])[C:1]([H:11])([H:12])[H:13]\n",
      "[[1, 9, 6, 8]]\n",
      "t157a\n",
      "[H:5][O:1][S:2](=[O:3])[O:4][H:6]\n",
      "[[3, 1, 0, 4]]\n",
      "[H:7][C:1]([H:8])([C:2]([H:9])([H:10])[S:3](=[O:4])[O:5][H:11])[N:6]([H:12])[H:13]\n",
      "[[3, 2, 4, 10]]\n",
      "[H:7][N:2]=[C:1]([N:3]([H:8])[H:9])[S:4](=[O:5])[O:6][H:10]\n",
      "[[4, 3, 5, 9]]\n",
      "[H:9][C:1]([H:10])([H:11])[C:2]([H:12])([H:13])[O:3][S:4](=[O:5])[O:6][C:7]([H:14])([H:15])[C:8]([H:16])([H:17])[H:18]\n",
      "[[4, 3, 5, 6]]\n",
      "[H:7][C:1]1([C:2]([O:3][S:4](=[O:5])[O:6]1)([H:9])[H:10])[H:8]\n",
      "[[1, 2, 3, 5]]\n",
      "99\n",
      "20\n",
      "99\n"
     ]
    }
   ],
   "source": [
    "import pickle\n",
    "\n",
    "#load the data\n",
    "#this pickle file contains the torsion id: {'molecule':[dihedral indices]}\n",
    "tid_clusters_list = pickle.load(open('torsion_drive_data.pickle','rb'))\n",
    "count=0\n",
    "keys=0\n",
    "\n",
    "molecule_smiles=[]\n",
    "for key, item in tid_clusters_list.items():\n",
    "    print(key)\n",
    "    keys+=1\n",
    "    for x, value in item.items():\n",
    "        print(x)\n",
    "        print(value)\n",
    "        molecule_smiles.append(x)\n",
    "        #print(type(item))\n",
    "        count+=1\n",
    "    \n",
    "print(count)\n",
    "print(keys)\n",
    "print(len(set(molecule_smiles)))\n",
    "with open('molecules.smi', 'w') as f:\n",
    "    for i in molecule_smiles:\n",
    "        f.write(i+'\\n')"
   ]
  },
  {
   "cell_type": "code",
   "execution_count": 218,
   "metadata": {},
   "outputs": [],
   "source": [
    "# copied from https://github.com/openforcefield/qca-dataset-submission/blob/master/submissions/2021-03-23-OpenFF-Amide-Torsion-Set-v1.0/generate-dataset.ipynb\n",
    "import logging\n",
    "import warnings\n",
    "from pprint import pprint\n",
    "\n",
    "import numpy as np\n",
    "#from openff.qcsubmit.common_structures import TorsionIndexer\n",
    "from openff.qcsubmit.workflow_components import TorsionIndexer\n",
    "\n",
    "from openff.qcsubmit.factories import TorsiondriveDatasetFactory\n",
    "from openff.toolkit.topology import Molecule\n",
    "\n",
    "#from openforcefield.topology import Molecule\n",
    "#from openforcefield.utils import UndefinedStereochemistryError\n",
    "from openff.toolkit.utils import UndefinedStereochemistryError\n",
    "from simtk import unit\n",
    "from tqdm import tqdm\n",
    "import random"
   ]
  },
  {
   "cell_type": "code",
   "execution_count": 219,
   "metadata": {},
   "outputs": [
    {
     "name": "stdout",
     "output_type": "stream",
     "text": [
      "['Any', 'BaseModel', 'ClassVar', 'ClientHandler', 'CommonBase', 'ComponentProperties', 'DatasetConfig', 'DatasetInputError', 'DefaultProperties', 'Dict', 'DriverEnum', 'Enum', 'Field', 'HttpUrl', 'IndexCleaner', 'List', 'Metadata', 'Model', 'Molecule', 'MoleculeAttributes', 'Optional', 'PCMSettingError', 'PCMSettings', 'PositiveInt', 'QCSpec', 'QCSpecificationError', 'QCSpecificationHandler', 'ResultsConfig', 'SCFProperties', 'Set', 'StrictBool', 'StrictFloat', 'StrictInt', 'StrictStr', 'TDSettings', 'Tuple', 'Union', 'WavefunctionProtocolEnum', '__builtins__', '__cached__', '__doc__', '__file__', '__loader__', '__name__', '__package__', '__spec__', 'constants', 'constr', 'date', 'datetime', 'getpass', 'np', 'ptl', 're', 'split_openff_molecule', 'validator']\n"
     ]
    }
   ],
   "source": [
    "from openff.qcsubmit import common_structures\n",
    "print(dir(common_structures))"
   ]
  },
  {
   "cell_type": "code",
   "execution_count": 220,
   "metadata": {},
   "outputs": [],
   "source": [
    "# Warnings that tell us we have undefined stereo and charged molecules\n",
    "logging.getLogger(\"openforcefield\").setLevel(logging.ERROR)\n",
    "warnings.simplefilter(\"ignore\")"
   ]
  },
  {
   "cell_type": "code",
   "execution_count": 221,
   "metadata": {},
   "outputs": [
    {
     "name": "stderr",
     "output_type": "stream",
     "text": [
      "Warning (not error because allow_undefined_stereo=True): OEMol has unspecified stereochemistry. oemol.GetTitle(): \n",
      "Problematic atoms are:\n",
      "Atom atomic num: 16, name: , idx: 9, aromatic: False, chiral: True with bonds:\n",
      "bond order: 1, chiral: False to atom atomic num: 7, name: , idx: 6, aromatic: False, chiral: False\n",
      "bond order: 2, chiral: False to atom atomic num: 8, name: , idx: 10, aromatic: False, chiral: False\n",
      "bond order: 1, chiral: False to atom atomic num: 8, name: , idx: 11, aromatic: False, chiral: False\n",
      "\n",
      "Warning (not error because allow_undefined_stereo=True): OEMol has unspecified stereochemistry. oemol.GetTitle(): \n",
      "Problematic atoms are:\n",
      "Atom atomic num: 16, name: , idx: 12, aromatic: False, chiral: True with bonds:\n",
      "bond order: 1, chiral: False to atom atomic num: 7, name: , idx: 4, aromatic: False, chiral: False\n",
      "bond order: 2, chiral: False to atom atomic num: 8, name: , idx: 13, aromatic: False, chiral: False\n",
      "bond order: 1, chiral: False to atom atomic num: 8, name: , idx: 14, aromatic: False, chiral: False\n",
      "\n"
     ]
    },
    {
     "name": "stdout",
     "output_type": "stream",
     "text": [
      "(6, 4, 3, 11)\n"
     ]
    },
    {
     "name": "stderr",
     "output_type": "stream",
     "text": [
      "Warning (not error because allow_undefined_stereo=True): OEMol has unspecified stereochemistry. oemol.GetTitle(): \n",
      "Problematic atoms are:\n",
      "Atom atomic num: 16, name: , idx: 13, aromatic: False, chiral: True with bonds:\n",
      "bond order: 1, chiral: False to atom atomic num: 7, name: , idx: 4, aromatic: False, chiral: False\n",
      "bond order: 2, chiral: False to atom atomic num: 8, name: , idx: 14, aromatic: False, chiral: False\n",
      "bond order: 1, chiral: False to atom atomic num: 8, name: , idx: 15, aromatic: False, chiral: False\n",
      "\n"
     ]
    },
    {
     "name": "stdout",
     "output_type": "stream",
     "text": [
      "(5, 1, 6, 8)\n"
     ]
    },
    {
     "name": "stderr",
     "output_type": "stream",
     "text": [
      "Warning (not error because allow_undefined_stereo=True): OEMol has unspecified stereochemistry. oemol.GetTitle(): \n",
      "Problematic atoms are:\n",
      "Atom atomic num: 16, name: , idx: 18, aromatic: False, chiral: True with bonds:\n",
      "bond order: 1, chiral: False to atom atomic num: 7, name: , idx: 9, aromatic: False, chiral: False\n",
      "bond order: 2, chiral: False to atom atomic num: 8, name: , idx: 19, aromatic: False, chiral: False\n",
      "bond order: 1, chiral: False to atom atomic num: 8, name: , idx: 20, aromatic: False, chiral: False\n",
      "\n"
     ]
    },
    {
     "name": "stdout",
     "output_type": "stream",
     "text": [
      "(3, 1, 4, 6)\n"
     ]
    },
    {
     "name": "stderr",
     "output_type": "stream",
     "text": [
      "Warning (not error because allow_undefined_stereo=True): OEMol has unspecified stereochemistry. oemol.GetTitle(): \n",
      "Problematic atoms are:\n",
      "Atom atomic num: 16, name: , idx: 4, aromatic: False, chiral: True with bonds:\n",
      "bond order: 1, chiral: False to atom atomic num: 7, name: , idx: 1, aromatic: False, chiral: False\n",
      "bond order: 2, chiral: False to atom atomic num: 8, name: , idx: 5, aromatic: False, chiral: False\n",
      "bond order: 1, chiral: False to atom atomic num: 8, name: , idx: 6, aromatic: False, chiral: False\n",
      "\n"
     ]
    },
    {
     "name": "stdout",
     "output_type": "stream",
     "text": [
      "(3, 1, 9, 11)\n"
     ]
    },
    {
     "name": "stderr",
     "output_type": "stream",
     "text": [
      "Warning (not error because allow_undefined_stereo=True): OEMol has unspecified stereochemistry. oemol.GetTitle(): \n",
      "Problematic atoms are:\n",
      "Atom atomic num: 7, name: , idx: 7, aromatic: False, chiral: True with bonds:\n",
      "bond order: 1, chiral: False to atom atomic num: 6, name: , idx: 4, aromatic: False, chiral: False\n",
      "bond order: 1, chiral: False to atom atomic num: 7, name: , idx: 8, aromatic: False, chiral: False\n",
      "bond order: 1, chiral: False to atom atomic num: 16, name: , idx: 17, aromatic: False, chiral: False\n",
      "\n"
     ]
    },
    {
     "name": "stdout",
     "output_type": "stream",
     "text": [
      "(3, 1, 0, 6)\n",
      "(6, 9, 10, 18)\n"
     ]
    },
    {
     "name": "stderr",
     "output_type": "stream",
     "text": [
      "Warning (not error because allow_undefined_stereo=True): OEMol has unspecified stereochemistry. oemol.GetTitle(): \n",
      "Problematic atoms are:\n",
      "Atom atomic num: 7, name: , idx: 5, aromatic: False, chiral: True with bonds:\n",
      "bond order: 1, chiral: False to atom atomic num: 6, name: , idx: 3, aromatic: False, chiral: False\n",
      "bond order: 1, chiral: False to atom atomic num: 7, name: , idx: 4, aromatic: False, chiral: False\n",
      "bond order: 1, chiral: False to atom atomic num: 16, name: , idx: 11, aromatic: False, chiral: False\n",
      "\n",
      "Warning (not error because allow_undefined_stereo=True): OEMol has unspecified stereochemistry. oemol.GetTitle(): \n",
      "Problematic atoms are:\n",
      "Atom atomic num: 7, name: , idx: 5, aromatic: False, chiral: True with bonds:\n",
      "bond order: 1, chiral: False to atom atomic num: 6, name: , idx: 3, aromatic: False, chiral: False\n",
      "bond order: 1, chiral: False to atom atomic num: 7, name: , idx: 4, aromatic: False, chiral: False\n",
      "bond order: 1, chiral: False to atom atomic num: 16, name: , idx: 11, aromatic: False, chiral: False\n",
      "\n"
     ]
    },
    {
     "name": "stdout",
     "output_type": "stream",
     "text": [
      "(8, 5, 4, 15)\n",
      "(9, 12, 13, 25)\n",
      "(13, 16, 17, 32)\n",
      "(15, 14, 13, 30)\n",
      "(4, 3, 2, 10)\n",
      "(4, 3, 2, 14)\n"
     ]
    },
    {
     "name": "stderr",
     "output_type": "stream",
     "text": [
      "Warning (not error because allow_undefined_stereo=True): OEMol has unspecified stereochemistry. oemol.GetTitle(): \n",
      "Problematic atoms are:\n",
      "Atom atomic num: 7, name: , idx: 3, aromatic: False, chiral: True with bonds:\n",
      "bond order: 1, chiral: False to atom atomic num: 6, name: , idx: 2, aromatic: False, chiral: False\n",
      "bond order: 1, chiral: False to atom atomic num: 6, name: , idx: 4, aromatic: False, chiral: False\n",
      "bond order: 1, chiral: False to atom atomic num: 7, name: , idx: 9, aromatic: False, chiral: True\n",
      "bond order: 1, chiral: False to atom atomic num: 8, name: , idx: 22, aromatic: False, chiral: False\n",
      "Atom atomic num: 7, name: , idx: 9, aromatic: False, chiral: True with bonds:\n",
      "bond order: 1, chiral: False to atom atomic num: 7, name: , idx: 3, aromatic: False, chiral: True\n",
      "bond order: 1, chiral: False to atom atomic num: 6, name: , idx: 13, aromatic: False, chiral: False\n",
      "bond order: 1, chiral: False to atom atomic num: 6, name: , idx: 10, aromatic: False, chiral: False\n",
      "bond order: 1, chiral: False to atom atomic num: 8, name: , idx: 21, aromatic: False, chiral: False\n",
      "\n"
     ]
    },
    {
     "name": "stdout",
     "output_type": "stream",
     "text": [
      "(7, 8, 9, 21)\n",
      "(8, 9, 10, 20)\n"
     ]
    },
    {
     "name": "stderr",
     "output_type": "stream",
     "text": [
      "Warning (not error because allow_undefined_stereo=True): OEMol has unspecified stereochemistry. oemol.GetTitle(): \n",
      "Problematic atoms are:\n",
      "Atom atomic num: 7, name: , idx: 3, aromatic: False, chiral: True with bonds:\n",
      "bond order: 1, chiral: False to atom atomic num: 6, name: , idx: 2, aromatic: False, chiral: False\n",
      "bond order: 1, chiral: False to atom atomic num: 7, name: , idx: 4, aromatic: False, chiral: True\n",
      "bond order: 1, chiral: False to atom atomic num: 1, name: , idx: 7, aromatic: False, chiral: False\n",
      "bond order: 1, chiral: False to atom atomic num: 8, name: , idx: 8, aromatic: False, chiral: False\n",
      "Atom atomic num: 7, name: , idx: 4, aromatic: False, chiral: True with bonds:\n",
      "bond order: 1, chiral: False to atom atomic num: 7, name: , idx: 3, aromatic: False, chiral: True\n",
      "bond order: 1, chiral: False to atom atomic num: 6, name: , idx: 1, aromatic: False, chiral: False\n",
      "bond order: 1, chiral: False to atom atomic num: 1, name: , idx: 5, aromatic: False, chiral: False\n",
      "bond order: 1, chiral: False to atom atomic num: 8, name: , idx: 6, aromatic: False, chiral: False\n",
      "\n"
     ]
    },
    {
     "name": "stdout",
     "output_type": "stream",
     "text": [
      "(3, 2, 5, 9)\n"
     ]
    },
    {
     "name": "stderr",
     "output_type": "stream",
     "text": [
      "Warning (not error because allow_undefined_stereo=True): OEMol has unspecified stereochemistry. oemol.GetTitle(): \n",
      "Problematic atoms are:\n",
      "Atom atomic num: 7, name: , idx: 15, aromatic: False, chiral: True with bonds:\n",
      "bond order: 1, chiral: False to atom atomic num: 6, name: , idx: 6, aromatic: False, chiral: False\n",
      "bond order: 1, chiral: False to atom atomic num: 1, name: , idx: 16, aromatic: False, chiral: False\n",
      "bond order: 1, chiral: False to atom atomic num: 7, name: , idx: 17, aromatic: False, chiral: True\n",
      "bond order: 1, chiral: False to atom atomic num: 8, name: , idx: 30, aromatic: False, chiral: False\n",
      "Atom atomic num: 7, name: , idx: 17, aromatic: False, chiral: True with bonds:\n",
      "bond order: 1, chiral: False to atom atomic num: 7, name: , idx: 15, aromatic: False, chiral: True\n",
      "bond order: 1, chiral: False to atom atomic num: 6, name: , idx: 18, aromatic: False, chiral: False\n",
      "bond order: 1, chiral: False to atom atomic num: 6, name: , idx: 22, aromatic: False, chiral: False\n",
      "bond order: 1, chiral: False to atom atomic num: 8, name: , idx: 29, aromatic: False, chiral: False\n",
      "\n"
     ]
    },
    {
     "name": "stdout",
     "output_type": "stream",
     "text": [
      "(0, 3, 2, 1)\n",
      "(4, 3, 6, 11)\n"
     ]
    },
    {
     "name": "stderr",
     "output_type": "stream",
     "text": [
      "Warning (not error because allow_undefined_stereo=True): OEMol has unspecified stereochemistry. oemol.GetTitle(): \n",
      "Problematic atoms are:\n",
      "Atom atomic num: 7, name: , idx: 7, aromatic: False, chiral: True with bonds:\n",
      "bond order: 1, chiral: False to atom atomic num: 6, name: , idx: 4, aromatic: False, chiral: False\n",
      "bond order: 1, chiral: False to atom atomic num: 1, name: , idx: 8, aromatic: False, chiral: False\n",
      "bond order: 1, chiral: False to atom atomic num: 7, name: , idx: 9, aromatic: False, chiral: True\n",
      "bond order: 1, chiral: False to atom atomic num: 8, name: , idx: 22, aromatic: False, chiral: False\n",
      "Atom atomic num: 7, name: , idx: 9, aromatic: False, chiral: True with bonds:\n",
      "bond order: 1, chiral: False to atom atomic num: 7, name: , idx: 7, aromatic: False, chiral: True\n",
      "bond order: 1, chiral: False to atom atomic num: 6, name: , idx: 10, aromatic: False, chiral: False\n",
      "bond order: 1, chiral: False to atom atomic num: 6, name: , idx: 14, aromatic: False, chiral: False\n",
      "bond order: 1, chiral: False to atom atomic num: 8, name: , idx: 21, aromatic: False, chiral: False\n",
      "\n"
     ]
    },
    {
     "name": "stdout",
     "output_type": "stream",
     "text": [
      "(3, 2, 4, 5)\n"
     ]
    },
    {
     "name": "stderr",
     "output_type": "stream",
     "text": [
      "Warning (not error because allow_undefined_stereo=True): OEMol has unspecified stereochemistry. oemol.GetTitle(): \n",
      "Problematic atoms are:\n",
      "Atom atomic num: 7, name: , idx: 4, aromatic: False, chiral: True with bonds:\n",
      "bond order: 1, chiral: False to atom atomic num: 6, name: , idx: 1, aromatic: False, chiral: False\n",
      "bond order: 1, chiral: False to atom atomic num: 6, name: , idx: 5, aromatic: False, chiral: False\n",
      "bond order: 1, chiral: False to atom atomic num: 7, name: , idx: 14, aromatic: False, chiral: False\n",
      "\n",
      "Warning (not error because allow_undefined_stereo=True): OEMol has unspecified stereochemistry. oemol.GetTitle(): \n",
      "Problematic atoms are:\n",
      "Atom atomic num: 7, name: , idx: 7, aromatic: False, chiral: True with bonds:\n",
      "bond order: 1, chiral: False to atom atomic num: 6, name: , idx: 1, aromatic: False, chiral: False\n",
      "bond order: 1, chiral: False to atom atomic num: 6, name: , idx: 6, aromatic: False, chiral: False\n",
      "bond order: 1, chiral: False to atom atomic num: 7, name: , idx: 8, aromatic: False, chiral: False\n",
      "\n"
     ]
    },
    {
     "name": "stdout",
     "output_type": "stream",
     "text": [
      "(1, 2, 3, 5)\n"
     ]
    },
    {
     "name": "stderr",
     "output_type": "stream",
     "text": [
      "Warning (not error because allow_undefined_stereo=True): OEMol has unspecified stereochemistry. oemol.GetTitle(): \n",
      "Problematic atoms are:\n",
      "Atom atomic num: 7, name: , idx: 7, aromatic: False, chiral: True with bonds:\n",
      "bond order: 1, chiral: False to atom atomic num: 6, name: , idx: 1, aromatic: False, chiral: False\n",
      "bond order: 1, chiral: False to atom atomic num: 6, name: , idx: 6, aromatic: False, chiral: False\n",
      "bond order: 1, chiral: False to atom atomic num: 7, name: , idx: 8, aromatic: False, chiral: False\n",
      "\n"
     ]
    },
    {
     "name": "stdout",
     "output_type": "stream",
     "text": [
      "(2, 1, 7, 10)\n",
      "(3, 1, 4, 5)\n",
      "(2, 1, 5, 6)\n",
      "(2, 1, 3, 6)\n",
      "(3, 1, 4, 5)\n",
      "(3, 2, 1, 12)\n",
      "(2, 1, 6, 5)\n",
      "(9, 8, 13, 12)\n",
      "(3, 9, 8, 14)\n"
     ]
    },
    {
     "name": "stderr",
     "output_type": "stream",
     "text": [
      "Warning (not error because allow_undefined_stereo=True): OEMol has unspecified stereochemistry. oemol.GetTitle(): \n",
      "Problematic atoms are:\n",
      "Atom atomic num: 16, name: , idx: 3, aromatic: False, chiral: True with bonds:\n",
      "bond order: 1, chiral: False to atom atomic num: 7, name: , idx: 2, aromatic: False, chiral: False\n",
      "bond order: 1, chiral: False to atom atomic num: 7, name: , idx: 4, aromatic: False, chiral: False\n",
      "bond order: 1, chiral: False to atom atomic num: 8, name: , idx: 9, aromatic: False, chiral: False\n",
      "Problematic bonds are: [<openeye.oechem.OEBondBase; proxy of <Swig Object of type 'OEChem::OEBondBase *' at 0x7f9eb972ae70> >]\n",
      "\n"
     ]
    },
    {
     "name": "stdout",
     "output_type": "stream",
     "text": [
      "(8, 7, 6, 28)\n"
     ]
    },
    {
     "name": "stderr",
     "output_type": "stream",
     "text": [
      "Warning: OEMMFFParams::PrepMol() : unable to type atom 3 S \n",
      "Warning: : Force field setup failed due to missing parameters\n",
      "Warning: OEMMFFParams::PrepMol() : unable to type atom 3 S \n",
      "Warning: : Force field setup failed due to missing parameters\n",
      "Warning: OEMMFFParams::PrepMol() : unable to type atom 3 S \n",
      "Warning: : Force field setup failed due to missing parameters\n",
      "Warning: OEMMFFParams::PrepMol() : unable to type atom 3 S \n",
      "Warning: : Force field setup failed due to missing parameters\n",
      "Warning (not error because allow_undefined_stereo=True): OEMol has unspecified stereochemistry. oemol.GetTitle(): \n",
      "Problematic atoms are:\n",
      "Atom atomic num: 16, name: , idx: 6, aromatic: False, chiral: True with bonds:\n",
      "bond order: 1, chiral: False to atom atomic num: 7, name: , idx: 2, aromatic: False, chiral: False\n",
      "bond order: 1, chiral: False to atom atomic num: 7, name: , idx: 4, aromatic: False, chiral: False\n",
      "bond order: 1, chiral: False to atom atomic num: 8, name: , idx: 5, aromatic: False, chiral: False\n",
      "Problematic bonds are: [<openeye.oechem.OEBondBase; proxy of <Swig Object of type 'OEChem::OEBondBase *' at 0x7f9eb9f00f30> >]\n",
      "\n",
      "Warning: : Failed due to unspecified stereochemistry\n",
      "Warning: OEMMFFParams::PrepMol() : unable to type atom 6 S \n",
      "Warning: : Force field setup failed due to missing parameters\n",
      "Warning (not error because allow_undefined_stereo=True): Unable to make OFFMol from RDMol: RDMol has unspecified stereochemistry. RDMol name: Undefined chiral centers are:\n",
      " - Atom S (index 6)\n",
      "Bonds with undefined stereochemistry are:\n",
      " - Bond 2 (atoms 1-3 of element (C-N)\n",
      "\n",
      "Warning: OEMMFFParams::PrepMol() : unable to type atom 6 S \n",
      "Warning: : Force field setup failed due to missing parameters\n",
      "Warning: OEMMFFParams::PrepMol() : unable to type atom 6 S \n",
      "Warning: : Force field setup failed due to missing parameters\n",
      "[16:16:44] UFFTYPER: Unrecognized charge state for atom: 6\n",
      "Warning (not error because allow_undefined_stereo=True): OEMol has unspecified stereochemistry. oemol.GetTitle(): \n",
      "Problematic atoms are:\n",
      "Atom atomic num: 16, name: , idx: 11, aromatic: False, chiral: True with bonds:\n",
      "bond order: 1, chiral: False to atom atomic num: 7, name: , idx: 10, aromatic: False, chiral: False\n",
      "bond order: 1, chiral: False to atom atomic num: 7, name: , idx: 12, aromatic: False, chiral: False\n",
      "bond order: 1, chiral: False to atom atomic num: 8, name: , idx: 14, aromatic: False, chiral: False\n",
      "Problematic bonds are: [<openeye.oechem.OEBondBase; proxy of <Swig Object of type 'OEChem::OEBondBase *' at 0x7f9eb9f00840> >]\n",
      "\n",
      "Warning: OEMMFFParams::PrepMol() : unable to type atom 11 S \n",
      "Warning: : Force field setup failed due to missing parameters\n"
     ]
    },
    {
     "name": "stdout",
     "output_type": "stream",
     "text": [
      "(0, 1, 2, 6)\n",
      "(1, 3, 4, 6)\n"
     ]
    },
    {
     "name": "stderr",
     "output_type": "stream",
     "text": [
      "Warning: OEMMFFParams::PrepMol() : unable to type atom 11 S \n",
      "Warning: : Force field setup failed due to missing parameters\n",
      "Warning: OEMMFFParams::PrepMol() : unable to type atom 11 S \n",
      "Warning: : Force field setup failed due to missing parameters\n",
      "Warning: OEMMFFParams::PrepMol() : unable to type atom 11 S \n",
      "Warning: : Force field setup failed due to missing parameters\n",
      "Warning (not error because allow_undefined_stereo=True): OEMol has unspecified stereochemistry. oemol.GetTitle(): \n",
      "Problematic atoms are:\n",
      "Atom atomic num: 16, name: , idx: 9, aromatic: False, chiral: True with bonds:\n",
      "bond order: 1, chiral: False to atom atomic num: 7, name: , idx: 4, aromatic: False, chiral: False\n",
      "bond order: 1, chiral: False to atom atomic num: 7, name: , idx: 6, aromatic: False, chiral: False\n",
      "bond order: 1, chiral: False to atom atomic num: 8, name: , idx: 8, aromatic: False, chiral: False\n",
      "Problematic bonds are: [<openeye.oechem.OEBondBase; proxy of <Swig Object of type 'OEChem::OEBondBase *' at 0x7f9eb9f1da80> >]\n",
      "\n",
      "Warning: : Failed due to unspecified stereochemistry\n",
      "Warning: OEMMFFParams::PrepMol() : unable to type atom 9 S \n",
      "Warning: : Force field setup failed due to missing parameters\n",
      "Warning (not error because allow_undefined_stereo=True): Unable to make OFFMol from RDMol: RDMol has unspecified stereochemistry. RDMol name: Undefined chiral centers are:\n",
      " - Atom S (index 9)\n",
      "Bonds with undefined stereochemistry are:\n",
      " - Bond 3 (atoms 1-5 of element (C-N)\n",
      "\n",
      "Warning: OEMMFFParams::PrepMol() : unable to type atom 11 S \n",
      "Warning: : Force field setup failed due to missing parameters\n",
      "Warning: OEMMFFParams::PrepMol() : unable to type atom 11 S \n",
      "Warning: : Force field setup failed due to missing parameters\n",
      "[16:16:44] UFFTYPER: Unrecognized charge state for atom: 11\n"
     ]
    },
    {
     "name": "stdout",
     "output_type": "stream",
     "text": [
      "(4, 5, 6, 8)\n",
      "(2, 1, 3, 4)\n"
     ]
    },
    {
     "name": "stderr",
     "output_type": "stream",
     "text": [
      "Warning: OEMMFFParams::PrepMol() : unable to type atom 13 S \n",
      "Warning: : Force field setup failed due to missing parameters\n",
      "Warning: OEMMFFParams::PrepMol() : unable to type atom 13 S \n",
      "Warning: : Force field setup failed due to missing parameters\n",
      "[16:16:44] UFFTYPER: Unrecognized charge state for atom: 13\n",
      "Warning (not error because allow_undefined_stereo=True): OEMol has unspecified stereochemistry. oemol.GetTitle(): \n",
      "Problematic atoms are:\n",
      "Atom atomic num: 16, name: , idx: 18, aromatic: False, chiral: True with bonds:\n",
      "bond order: 1, chiral: False to atom atomic num: 6, name: , idx: 3, aromatic: True, chiral: False\n",
      "bond order: 1, chiral: False to atom atomic num: 7, name: , idx: 19, aromatic: False, chiral: False\n",
      "bond order: 1, chiral: False to atom atomic num: 8, name: , idx: 26, aromatic: False, chiral: False\n",
      "\n",
      "Warning: OEMMFFParams::PrepMol() : unable to type atom 18 S \n",
      "Warning: : Force field setup failed due to missing parameters\n",
      "Warning: OEMMFFParams::PrepMol() : unable to type atom 18 S \n",
      "Warning: : Force field setup failed due to missing parameters\n",
      "Warning (not error because allow_undefined_stereo=True): OEMol has unspecified stereochemistry. oemol.GetTitle(): \n",
      "Problematic atoms are:\n",
      "Atom atomic num: 16, name: , idx: 15, aromatic: False, chiral: True with bonds:\n",
      "bond order: 1, chiral: False to atom atomic num: 6, name: , idx: 5, aromatic: True, chiral: False\n",
      "bond order: 1, chiral: False to atom atomic num: 7, name: , idx: 10, aromatic: False, chiral: False\n",
      "bond order: 1, chiral: False to atom atomic num: 8, name: , idx: 11, aromatic: False, chiral: False\n",
      "\n"
     ]
    },
    {
     "name": "stdout",
     "output_type": "stream",
     "text": [
      "(7, 6, 13, 24)\n"
     ]
    },
    {
     "name": "stderr",
     "output_type": "stream",
     "text": [
      "Warning: : Failed due to unspecified stereochemistry\n",
      "Warning: OEMMFFParams::PrepMol() : unable to type atom 15 S \n",
      "Warning: : Force field setup failed due to missing parameters\n",
      "Warning (not error because allow_undefined_stereo=True): Unable to make OFFMol from RDMol: RDMol has unspecified stereochemistry. RDMol name: Undefined chiral centers are:\n",
      " - Atom S (index 15)\n",
      "\n",
      "Warning (not error because allow_undefined_stereo=True): OEMol has unspecified stereochemistry. oemol.GetTitle(): \n",
      "Problematic atoms are:\n",
      "Atom atomic num: 16, name: , idx: 5, aromatic: False, chiral: True with bonds:\n",
      "bond order: 1, chiral: False to atom atomic num: 7, name: , idx: 4, aromatic: False, chiral: False\n",
      "bond order: 1, chiral: False to atom atomic num: 7, name: , idx: 6, aromatic: False, chiral: False\n",
      "bond order: 1, chiral: False to atom atomic num: 8, name: , idx: 8, aromatic: False, chiral: False\n",
      "Problematic bonds are: [<openeye.oechem.OEBondBase; proxy of <Swig Object of type 'OEChem::OEBondBase *' at 0x7f9e387aec00> >]\n",
      "\n",
      "Warning: OEMMFFParams::PrepMol() : unable to type atom 5 S \n",
      "Warning: : Force field setup failed due to missing parameters\n",
      "Warning: OEMMFFParams::PrepMol() : unable to type atom 5 S \n",
      "Warning: : Force field setup failed due to missing parameters\n"
     ]
    },
    {
     "name": "stdout",
     "output_type": "stream",
     "text": [
      "(2, 1, 10, 11)\n"
     ]
    },
    {
     "name": "stderr",
     "output_type": "stream",
     "text": [
      "Warning: OEMMFFParams::PrepMol() : unable to type atom 5 S \n",
      "Warning: : Force field setup failed due to missing parameters\n",
      "Warning: OEMMFFParams::PrepMol() : unable to type atom 5 S \n",
      "Warning: : Force field setup failed due to missing parameters\n",
      "Warning (not error because allow_undefined_stereo=True): OEMol has unspecified stereochemistry. oemol.GetTitle(): \n",
      "Problematic atoms are:\n",
      "Atom atomic num: 16, name: , idx: 7, aromatic: False, chiral: True with bonds:\n",
      "bond order: 1, chiral: False to atom atomic num: 7, name: , idx: 2, aromatic: False, chiral: False\n",
      "bond order: 1, chiral: False to atom atomic num: 7, name: , idx: 4, aromatic: False, chiral: False\n",
      "bond order: 1, chiral: False to atom atomic num: 8, name: , idx: 6, aromatic: False, chiral: False\n",
      "Problematic bonds are: [<openeye.oechem.OEBondBase; proxy of <Swig Object of type 'OEChem::OEBondBase *' at 0x7f9e387b29c0> >]\n",
      "\n",
      "Warning: : Failed due to unspecified stereochemistry\n",
      "Warning: OEMMFFParams::PrepMol() : unable to type atom 7 S \n",
      "Warning: : Force field setup failed due to missing parameters\n",
      "Warning (not error because allow_undefined_stereo=True): Unable to make OFFMol from RDMol: RDMol has unspecified stereochemistry. RDMol name: Undefined chiral centers are:\n",
      " - Atom S (index 7)\n",
      "Bonds with undefined stereochemistry are:\n",
      " - Bond 3 (atoms 1-3 of element (C-N)\n",
      "\n",
      "Warning (not error because allow_undefined_stereo=True): OEMol has unspecified stereochemistry. oemol.GetTitle(): \n",
      "Problematic atoms are:\n",
      "Atom atomic num: 16, name: , idx: 17, aromatic: False, chiral: True with bonds:\n",
      "bond order: 1, chiral: False to atom atomic num: 7, name: , idx: 16, aromatic: False, chiral: False\n",
      "bond order: 1, chiral: False to atom atomic num: 7, name: , idx: 18, aromatic: False, chiral: False\n",
      "bond order: 1, chiral: False to atom atomic num: 8, name: , idx: 20, aromatic: False, chiral: False\n",
      "Problematic bonds are: [<openeye.oechem.OEBondBase; proxy of <Swig Object of type 'OEChem::OEBondBase *' at 0x7f9eb9f00e10> >, <openeye.oechem.OEBondBase; proxy of <Swig Object of type 'OEChem::OEBondBase *' at 0x7f9eb9f00c30> >]\n",
      "\n",
      "Warning: OEMMFFParams::PrepMol() : unable to type atom 17 S \n",
      "Warning: : Force field setup failed due to missing parameters\n",
      "Warning: OEMMFFParams::PrepMol() : unable to type atom 17 S \n",
      "Warning: : Force field setup failed due to missing parameters\n"
     ]
    },
    {
     "name": "stdout",
     "output_type": "stream",
     "text": [
      "(6, 2, 3, 8)\n"
     ]
    },
    {
     "name": "stderr",
     "output_type": "stream",
     "text": [
      "Warning: OEMMFFParams::PrepMol() : unable to type atom 17 S \n",
      "Warning: : Force field setup failed due to missing parameters\n",
      "Warning: OEMMFFParams::PrepMol() : unable to type atom 17 S \n",
      "Warning: : Force field setup failed due to missing parameters\n",
      "Warning: OEMMFFParams::PrepMol() : unable to type atom 17 S \n",
      "Warning: : Force field setup failed due to missing parameters\n",
      "Warning: OEMMFFParams::PrepMol() : unable to type atom 17 S \n",
      "Warning: : Force field setup failed due to missing parameters\n",
      "Warning: OEMMFFParams::PrepMol() : unable to type atom 17 S \n",
      "Warning: : Force field setup failed due to missing parameters\n",
      "Warning: OEMMFFParams::PrepMol() : unable to type atom 17 S \n",
      "Warning: : Force field setup failed due to missing parameters\n",
      "Warning (not error because allow_undefined_stereo=True): OEMol has unspecified stereochemistry. oemol.GetTitle(): \n",
      "Problematic atoms are:\n",
      "Atom atomic num: 16, name: , idx: 11, aromatic: False, chiral: True with bonds:\n",
      "bond order: 1, chiral: False to atom atomic num: 7, name: , idx: 7, aromatic: False, chiral: False\n",
      "bond order: 1, chiral: False to atom atomic num: 7, name: , idx: 8, aromatic: False, chiral: False\n",
      "bond order: 1, chiral: False to atom atomic num: 8, name: , idx: 9, aromatic: False, chiral: False\n",
      "Problematic bonds are: [<openeye.oechem.OEBondBase; proxy of <Swig Object of type 'OEChem::OEBondBase *' at 0x7f9e387b25d0> >, <openeye.oechem.OEBondBase; proxy of <Swig Object of type 'OEChem::OEBondBase *' at 0x7f9e387b2f00> >]\n",
      "\n",
      "Warning: : Failed due to unspecified stereochemistry\n",
      "Warning: OEMMFFParams::PrepMol() : unable to type atom 11 S \n",
      "Warning: : Force field setup failed due to missing parameters\n",
      "Warning (not error because allow_undefined_stereo=True): Unable to make OFFMol from RDMol: RDMol has unspecified stereochemistry. RDMol name: Undefined chiral centers are:\n",
      " - Atom S (index 11)\n",
      "Bonds with undefined stereochemistry are:\n",
      " - Bond 1 (atoms 0-5 of element (C-N)\n",
      " - Bond 3 (atoms 1-6 of element (C-N)\n",
      "\n",
      "Warning (not error because allow_undefined_stereo=True): OEMol has unspecified stereochemistry. oemol.GetTitle(): \n",
      "Problematic atoms are:\n",
      "Atom atomic num: 6, name: , idx: 8, aromatic: False, chiral: True with bonds:\n",
      "bond order: 1, chiral: False to atom atomic num: 6, name: , idx: 5, aromatic: False, chiral: False\n",
      "bond order: 1, chiral: False to atom atomic num: 1, name: , idx: 9, aromatic: False, chiral: False\n",
      "bond order: 1, chiral: False to atom atomic num: 7, name: , idx: 10, aromatic: False, chiral: False\n",
      "bond order: 1, chiral: False to atom atomic num: 8, name: , idx: 21, aromatic: False, chiral: False\n",
      "Atom atomic num: 16, name: , idx: 14, aromatic: False, chiral: True with bonds:\n",
      "bond order: 1, chiral: False to atom atomic num: 7, name: , idx: 13, aromatic: False, chiral: False\n",
      "bond order: 1, chiral: False to atom atomic num: 7, name: , idx: 15, aromatic: False, chiral: False\n",
      "bond order: 1, chiral: False to atom atomic num: 8, name: , idx: 17, aromatic: False, chiral: False\n",
      "Problematic bonds are: [<openeye.oechem.OEBondBase; proxy of <Swig Object of type 'OEChem::OEBondBase *' at 0x7f9e387b2630> >]\n",
      "\n",
      "Warning: OEMMFFParams::PrepMol() : unable to type atom 14 S \n",
      "Warning: : Force field setup failed due to missing parameters\n",
      "Warning: OEMMFFParams::PrepMol() : unable to type atom 14 S \n",
      "Warning: : Force field setup failed due to missing parameters\n"
     ]
    },
    {
     "name": "stdout",
     "output_type": "stream",
     "text": [
      "(11, 9, 10, 21)\n"
     ]
    },
    {
     "name": "stderr",
     "output_type": "stream",
     "text": [
      "Warning: OEMMFFParams::PrepMol() : unable to type atom 14 S \n",
      "Warning: : Force field setup failed due to missing parameters\n",
      "Warning: OEMMFFParams::PrepMol() : unable to type atom 14 S \n",
      "Warning: : Force field setup failed due to missing parameters\n",
      "Warning: OEMMFFParams::PrepMol() : unable to type atom 14 S \n",
      "Warning: : Force field setup failed due to missing parameters\n",
      "Warning: OEMMFFParams::PrepMol() : unable to type atom 14 S \n",
      "Warning: : Force field setup failed due to missing parameters\n",
      "Warning: OEMMFFParams::PrepMol() : unable to type atom 14 S \n",
      "Warning: : Force field setup failed due to missing parameters\n",
      "Warning: OEMMFFParams::PrepMol() : unable to type atom 14 S \n",
      "Warning: : Force field setup failed due to missing parameters\n",
      "Warning (not error because allow_undefined_stereo=True): OEMol has unspecified stereochemistry. oemol.GetTitle(): \n",
      "Problematic atoms are:\n",
      "Atom atomic num: 6, name: , idx: 4, aromatic: False, chiral: True with bonds:\n",
      "bond order: 1, chiral: False to atom atomic num: 1, name: , idx: 18, aromatic: False, chiral: False\n",
      "bond order: 1, chiral: False to atom atomic num: 6, name: , idx: 3, aromatic: False, chiral: False\n",
      "bond order: 1, chiral: False to atom atomic num: 7, name: , idx: 6, aromatic: False, chiral: False\n",
      "bond order: 1, chiral: False to atom atomic num: 8, name: , idx: 10, aromatic: False, chiral: False\n",
      "Atom atomic num: 16, name: , idx: 12, aromatic: False, chiral: True with bonds:\n",
      "bond order: 1, chiral: False to atom atomic num: 7, name: , idx: 5, aromatic: False, chiral: False\n",
      "bond order: 1, chiral: False to atom atomic num: 7, name: , idx: 7, aromatic: False, chiral: False\n",
      "bond order: 1, chiral: False to atom atomic num: 8, name: , idx: 9, aromatic: False, chiral: False\n",
      "Problematic bonds are: [<openeye.oechem.OEBondBase; proxy of <Swig Object of type 'OEChem::OEBondBase *' at 0x7f9e38796f30> >]\n",
      "\n",
      "Warning: : Failed due to unspecified stereochemistry\n",
      "Warning: OEMMFFParams::PrepMol() : unable to type atom 12 S \n",
      "Warning: : Force field setup failed due to missing parameters\n",
      "Warning (not error because allow_undefined_stereo=True): Unable to make OFFMol from RDMol: RDMol has unspecified stereochemistry. RDMol name: Undefined chiral centers are:\n",
      " - Atom C (index 4)\n",
      " - Atom S (index 12)\n",
      "Bonds with undefined stereochemistry are:\n",
      " - Bond 3 (atoms 1-6 of element (C-N)\n",
      "\n",
      "Warning (not error because allow_undefined_stereo=True): OEMol has unspecified stereochemistry. oemol.GetTitle(): \n",
      "Problematic atoms are:\n",
      "Atom atomic num: 16, name: , idx: 14, aromatic: False, chiral: True with bonds:\n",
      "bond order: 1, chiral: False to atom atomic num: 7, name: , idx: 13, aromatic: False, chiral: False\n",
      "bond order: 1, chiral: False to atom atomic num: 7, name: , idx: 15, aromatic: False, chiral: False\n",
      "bond order: 1, chiral: False to atom atomic num: 8, name: , idx: 17, aromatic: False, chiral: False\n",
      "Problematic bonds are: [<openeye.oechem.OEBondBase; proxy of <Swig Object of type 'OEChem::OEBondBase *' at 0x7f9e38790270> >]\n",
      "\n",
      "Warning: OEMMFFParams::PrepMol() : unable to type atom 14 S \n",
      "Warning: : Force field setup failed due to missing parameters\n",
      "Warning: OEMMFFParams::PrepMol() : unable to type atom 14 S \n",
      "Warning: : Force field setup failed due to missing parameters\n"
     ]
    },
    {
     "name": "stdout",
     "output_type": "stream",
     "text": [
      "(10, 8, 9, 19)\n"
     ]
    },
    {
     "name": "stderr",
     "output_type": "stream",
     "text": [
      "Warning: OEMMFFParams::PrepMol() : unable to type atom 14 S \n",
      "Warning: : Force field setup failed due to missing parameters\n",
      "Warning: OEMMFFParams::PrepMol() : unable to type atom 14 S \n",
      "Warning: : Force field setup failed due to missing parameters\n",
      "Warning (not error because allow_undefined_stereo=True): OEMol has unspecified stereochemistry. oemol.GetTitle(): \n",
      "Problematic atoms are:\n",
      "Atom atomic num: 16, name: , idx: 13, aromatic: False, chiral: True with bonds:\n",
      "bond order: 1, chiral: False to atom atomic num: 7, name: , idx: 7, aromatic: False, chiral: False\n",
      "bond order: 1, chiral: False to atom atomic num: 7, name: , idx: 9, aromatic: False, chiral: False\n",
      "bond order: 1, chiral: False to atom atomic num: 8, name: , idx: 11, aromatic: False, chiral: False\n",
      "Problematic bonds are: [<openeye.oechem.OEBondBase; proxy of <Swig Object of type 'OEChem::OEBondBase *' at 0x7f9eb97284b0> >]\n",
      "\n",
      "Warning: : Failed due to unspecified stereochemistry\n",
      "Warning: OEMMFFParams::PrepMol() : unable to type atom 13 S \n",
      "Warning: : Force field setup failed due to missing parameters\n",
      "Warning (not error because allow_undefined_stereo=True): Unable to make OFFMol from RDMol: RDMol has unspecified stereochemistry. RDMol name: Undefined chiral centers are:\n",
      " - Atom S (index 13)\n",
      "Bonds with undefined stereochemistry are:\n",
      " - Bond 9 (atoms 5-8 of element (C-N)\n",
      "\n",
      "Warning: OEMMFFParams::PrepMol() : unable to type atom 15 S \n",
      "Warning: : Force field setup failed due to missing parameters\n",
      "Warning: OEMMFFParams::PrepMol() : unable to type atom 15 S \n",
      "Warning: : Force field setup failed due to missing parameters\n",
      "[16:16:47] UFFTYPER: Unrecognized charge state for atom: 15\n",
      "Warning (not error because allow_undefined_stereo=True): OEMol has unspecified stereochemistry. oemol.GetTitle(): \n",
      "Problematic atoms are:\n",
      "Atom atomic num: 16, name: , idx: 12, aromatic: False, chiral: True with bonds:\n",
      "bond order: 1, chiral: False to atom atomic num: 16, name: , idx: 9, aromatic: False, chiral: False\n",
      "bond order: 1, chiral: False to atom atomic num: 1, name: , idx: 13, aromatic: False, chiral: False\n",
      "bond order: 1, chiral: False to atom atomic num: 6, name: , idx: 14, aromatic: False, chiral: False\n",
      "\n"
     ]
    },
    {
     "name": "stdout",
     "output_type": "stream",
     "text": [
      "(12, 10, 11, 19)\n",
      "(7, 6, 13, 16)\n"
     ]
    },
    {
     "name": "stderr",
     "output_type": "stream",
     "text": [
      "Warning: OEMMFFParams::PrepMol() : unable to type atom 12 S \n",
      "Warning: OEMMFFParams::PrepMol() : unable to type atom 13 H \n",
      "Warning: : Force field setup failed due to missing parameters\n",
      "Warning: OEMMFFParams::PrepMol() : unable to type atom 12 S \n",
      "Warning: OEMMFFParams::PrepMol() : unable to type atom 13 H \n",
      "Warning: : Force field setup failed due to missing parameters\n",
      "Warning (not error because allow_undefined_stereo=True): OEMol has unspecified stereochemistry. oemol.GetTitle(): \n",
      "Problematic atoms are:\n",
      "Atom atomic num: 16, name: , idx: 9, aromatic: False, chiral: True with bonds:\n",
      "bond order: 1, chiral: False to atom atomic num: 1, name: , idx: 19, aromatic: False, chiral: False\n",
      "bond order: 1, chiral: False to atom atomic num: 6, name: , idx: 6, aromatic: False, chiral: False\n",
      "bond order: 1, chiral: False to atom atomic num: 16, name: , idx: 10, aromatic: False, chiral: False\n",
      "\n",
      "Warning: : Failed due to unspecified stereochemistry\n",
      "Warning: OEMMFFParams::PrepMol() : unable to type atom 9 S \n",
      "Warning: OEMMFFParams::PrepMol() : unable to type atom 19 H \n",
      "Warning: : Force field setup failed due to missing parameters\n",
      "[16:16:47] UFFTYPER: Unrecognized charge state for atom: 9\n",
      "Warning (not error because allow_undefined_stereo=True): Unable to make OFFMol from RDMol: RDMol has unspecified stereochemistry. RDMol name: Undefined chiral centers are:\n",
      " - Atom S (index 9)\n",
      "\n",
      "Warning (not error because allow_undefined_stereo=True): OEMol has unspecified stereochemistry. oemol.GetTitle(): \n",
      "Problematic atoms are:\n",
      "Atom atomic num: 16, name: , idx: 16, aromatic: False, chiral: True with bonds:\n",
      "bond order: 1, chiral: False to atom atomic num: 16, name: , idx: 13, aromatic: False, chiral: False\n",
      "bond order: 1, chiral: False to atom atomic num: 6, name: , idx: 17, aromatic: False, chiral: False\n",
      "bond order: 1, chiral: False to atom atomic num: 16, name: , idx: 21, aromatic: False, chiral: False\n",
      "\n",
      "Warning: OEMMFFParams::PrepMol() : unable to type atom 16 S \n",
      "Warning: : Force field setup failed due to missing parameters\n",
      "Warning: OEMMFFParams::PrepMol() : unable to type atom 16 S \n",
      "Warning: : Force field setup failed due to missing parameters\n",
      "Warning (not error because allow_undefined_stereo=True): OEMol has unspecified stereochemistry. oemol.GetTitle(): \n",
      "Problematic atoms are:\n",
      "Atom atomic num: 16, name: , idx: 14, aromatic: False, chiral: True with bonds:\n",
      "bond order: 1, chiral: False to atom atomic num: 6, name: , idx: 7, aromatic: False, chiral: False\n",
      "bond order: 1, chiral: False to atom atomic num: 16, name: , idx: 15, aromatic: False, chiral: False\n",
      "bond order: 1, chiral: False to atom atomic num: 16, name: , idx: 16, aromatic: False, chiral: False\n",
      "\n"
     ]
    },
    {
     "name": "stdout",
     "output_type": "stream",
     "text": [
      "(5, 2, 1, 14)\n"
     ]
    },
    {
     "name": "stderr",
     "output_type": "stream",
     "text": [
      "Warning: : Failed due to unspecified stereochemistry\n",
      "Warning: OEMMFFParams::PrepMol() : unable to type atom 14 S \n",
      "Warning: : Force field setup failed due to missing parameters\n",
      "[16:16:47] UFFTYPER: Unrecognized charge state for atom: 14\n",
      "Warning (not error because allow_undefined_stereo=True): Unable to make OFFMol from RDMol: RDMol has unspecified stereochemistry. RDMol name: Undefined chiral centers are:\n",
      " - Atom S (index 14)\n",
      "\n",
      "Warning: OEMMFFParams::PrepMol() : unable to type atom 11 S \n",
      "Warning: : Force field setup failed due to missing parameters\n",
      "Warning: OEMMFFParams::PrepMol() : unable to type atom 11 S \n",
      "Warning: : Force field setup failed due to missing parameters\n",
      "[16:16:47] UFFTYPER: Unrecognized charge state for atom: 11\n",
      "Warning (not error because allow_undefined_stereo=True): OEMol has unspecified stereochemistry. oemol.GetTitle(): \n",
      "Problematic atoms are:\n",
      "Atom atomic num: 16, name: , idx: 7, aromatic: False, chiral: True with bonds:\n",
      "bond order: 1, chiral: False to atom atomic num: 6, name: , idx: 4, aromatic: False, chiral: False\n",
      "bond order: 1, chiral: False to atom atomic num: 6, name: , idx: 8, aromatic: False, chiral: False\n",
      "bond order: 1, chiral: False to atom atomic num: 16, name: , idx: 12, aromatic: False, chiral: False\n",
      "\n"
     ]
    },
    {
     "name": "stdout",
     "output_type": "stream",
     "text": [
      "(12, 11, 13, 16)\n",
      "(3, 2, 5, 8)\n"
     ]
    },
    {
     "name": "stderr",
     "output_type": "stream",
     "text": [
      "Warning: OEMMFFParams::PrepMol() : unable to type atom 7 S \n",
      "Warning: : Force field setup failed due to missing parameters\n",
      "Warning: OEMMFFParams::PrepMol() : unable to type atom 7 S \n",
      "Warning: : Force field setup failed due to missing parameters\n",
      "Warning (not error because allow_undefined_stereo=True): OEMol has unspecified stereochemistry. oemol.GetTitle(): \n",
      "Problematic atoms are:\n",
      "Atom atomic num: 16, name: , idx: 6, aromatic: False, chiral: True with bonds:\n",
      "bond order: 1, chiral: False to atom atomic num: 6, name: , idx: 1, aromatic: False, chiral: False\n",
      "bond order: 1, chiral: False to atom atomic num: 6, name: , idx: 2, aromatic: False, chiral: False\n",
      "bond order: 1, chiral: False to atom atomic num: 16, name: , idx: 7, aromatic: False, chiral: False\n",
      "\n",
      "Warning: : Failed due to unspecified stereochemistry\n",
      "Warning: OEMMFFParams::PrepMol() : unable to type atom 6 S \n",
      "Warning: : Force field setup failed due to missing parameters\n",
      "[16:16:48] UFFTYPER: Unrecognized charge state for atom: 6\n",
      "Warning (not error because allow_undefined_stereo=True): Unable to make OFFMol from RDMol: RDMol has unspecified stereochemistry. RDMol name: Undefined chiral centers are:\n",
      " - Atom S (index 6)\n",
      "\n",
      "Warning (not error because allow_undefined_stereo=True): OEMol has unspecified stereochemistry. oemol.GetTitle(): \n",
      "Problematic atoms are:\n",
      "Atom atomic num: 6, name: , idx: 4, aromatic: False, chiral: True with bonds:\n",
      "bond order: 1, chiral: False to atom atomic num: 6, name: , idx: 1, aromatic: False, chiral: False\n",
      "bond order: 1, chiral: False to atom atomic num: 1, name: , idx: 5, aromatic: False, chiral: False\n",
      "bond order: 1, chiral: False to atom atomic num: 6, name: , idx: 6, aromatic: False, chiral: False\n",
      "bond order: 1, chiral: False to atom atomic num: 16, name: , idx: 13, aromatic: False, chiral: False\n",
      "\n"
     ]
    },
    {
     "name": "stdout",
     "output_type": "stream",
     "text": [
      "(3, 2, 4, 7)\n",
      "(1, 6, 7, 11)\n",
      "(4, 2, 6, 7)\n",
      "(5, 3, 8, 19)\n",
      "(1, 2, 3, 9)\n"
     ]
    },
    {
     "name": "stderr",
     "output_type": "stream",
     "text": [
      "Warning (not error because allow_undefined_stereo=True): OEMol has unspecified stereochemistry. oemol.GetTitle(): \n",
      "Problematic atoms are:\n",
      "Atom atomic num: 16, name: , idx: 11, aromatic: False, chiral: True with bonds:\n",
      "bond order: 1, chiral: False to atom atomic num: 7, name: , idx: 10, aromatic: False, chiral: False\n",
      "bond order: 2, chiral: False to atom atomic num: 8, name: , idx: 12, aromatic: False, chiral: False\n",
      "bond order: 1, chiral: False to atom atomic num: 8, name: , idx: 13, aromatic: False, chiral: False\n",
      "\n"
     ]
    },
    {
     "name": "stdout",
     "output_type": "stream",
     "text": [
      "(4, 2, 6, 7)\n"
     ]
    },
    {
     "name": "stderr",
     "output_type": "stream",
     "text": [
      "Warning (not error because allow_undefined_stereo=True): OEMol has unspecified stereochemistry. oemol.GetTitle(): \n",
      "Problematic atoms are:\n",
      "Atom atomic num: 16, name: , idx: 3, aromatic: False, chiral: True with bonds:\n",
      "bond order: 1, chiral: False to atom atomic num: 7, name: , idx: 2, aromatic: False, chiral: False\n",
      "bond order: 2, chiral: False to atom atomic num: 8, name: , idx: 4, aromatic: False, chiral: False\n",
      "bond order: 1, chiral: False to atom atomic num: 8, name: , idx: 5, aromatic: False, chiral: False\n",
      "\n"
     ]
    },
    {
     "name": "stdout",
     "output_type": "stream",
     "text": [
      "(6, 7, 8, 10)\n"
     ]
    },
    {
     "name": "stderr",
     "output_type": "stream",
     "text": [
      "Warning (not error because allow_undefined_stereo=True): OEMol has unspecified stereochemistry. oemol.GetTitle(): \n",
      "Problematic atoms are:\n",
      "Atom atomic num: 16, name: , idx: 3, aromatic: False, chiral: True with bonds:\n",
      "bond order: 1, chiral: False to atom atomic num: 6, name: , idx: 2, aromatic: False, chiral: False\n",
      "bond order: 2, chiral: False to atom atomic num: 8, name: , idx: 4, aromatic: False, chiral: False\n",
      "bond order: 1, chiral: False to atom atomic num: 7, name: , idx: 5, aromatic: False, chiral: False\n",
      "\n"
     ]
    },
    {
     "name": "stdout",
     "output_type": "stream",
     "text": [
      "(0, 1, 2, 4)\n"
     ]
    },
    {
     "name": "stderr",
     "output_type": "stream",
     "text": [
      "Warning (not error because allow_undefined_stereo=True): OEMol has unspecified stereochemistry. oemol.GetTitle(): \n",
      "Problematic atoms are:\n",
      "Atom atomic num: 6, name: , idx: 4, aromatic: False, chiral: True with bonds:\n",
      "bond order: 1, chiral: False to atom atomic num: 6, name: , idx: 1, aromatic: False, chiral: False\n",
      "bond order: 1, chiral: False to atom atomic num: 1, name: , idx: 5, aromatic: False, chiral: False\n",
      "bond order: 1, chiral: False to atom atomic num: 6, name: , idx: 6, aromatic: False, chiral: False\n",
      "bond order: 1, chiral: False to atom atomic num: 8, name: , idx: 15, aromatic: False, chiral: False\n",
      "Atom atomic num: 16, name: , idx: 10, aromatic: False, chiral: True with bonds:\n",
      "bond order: 1, chiral: False to atom atomic num: 7, name: , idx: 9, aromatic: False, chiral: False\n",
      "bond order: 2, chiral: False to atom atomic num: 8, name: , idx: 11, aromatic: False, chiral: False\n",
      "bond order: 1, chiral: False to atom atomic num: 8, name: , idx: 12, aromatic: False, chiral: False\n",
      "\n"
     ]
    },
    {
     "name": "stdout",
     "output_type": "stream",
     "text": [
      "(1, 6, 4, 3)\n"
     ]
    },
    {
     "name": "stderr",
     "output_type": "stream",
     "text": [
      "Warning (not error because allow_undefined_stereo=True): OEMol has unspecified stereochemistry. oemol.GetTitle(): \n",
      "Problematic atoms are:\n",
      "Atom atomic num: 16, name: , idx: 5, aromatic: False, chiral: True with bonds:\n",
      "bond order: 1, chiral: False to atom atomic num: 7, name: , idx: 4, aromatic: False, chiral: False\n",
      "bond order: 1, chiral: False to atom atomic num: 6, name: , idx: 1, aromatic: False, chiral: False\n",
      "bond order: 2, chiral: False to atom atomic num: 8, name: , idx: 6, aromatic: False, chiral: False\n",
      "\n"
     ]
    },
    {
     "name": "stdout",
     "output_type": "stream",
     "text": [
      "(4, 5, 6, 8)\n"
     ]
    },
    {
     "name": "stderr",
     "output_type": "stream",
     "text": [
      "Warning (not error because allow_undefined_stereo=True): OEMol has unspecified stereochemistry. oemol.GetTitle(): \n",
      "Problematic atoms are:\n",
      "Atom atomic num: 7, name: , idx: 9, aromatic: False, chiral: True with bonds:\n",
      "bond order: 1, chiral: False to atom atomic num: 6, name: , idx: 4, aromatic: True, chiral: False\n",
      "bond order: 1, chiral: False to atom atomic num: 6, name: , idx: 10, aromatic: False, chiral: False\n",
      "bond order: 1, chiral: False to atom atomic num: 16, name: , idx: 14, aromatic: False, chiral: True\n",
      "Atom atomic num: 16, name: , idx: 14, aromatic: False, chiral: True with bonds:\n",
      "bond order: 1, chiral: False to atom atomic num: 7, name: , idx: 9, aromatic: False, chiral: True\n",
      "bond order: 2, chiral: False to atom atomic num: 8, name: , idx: 15, aromatic: False, chiral: False\n",
      "bond order: 1, chiral: False to atom atomic num: 7, name: , idx: 16, aromatic: False, chiral: False\n",
      "\n"
     ]
    },
    {
     "name": "stdout",
     "output_type": "stream",
     "text": [
      "(3, 4, 6, 7)\n"
     ]
    },
    {
     "name": "stderr",
     "output_type": "stream",
     "text": [
      "Warning (not error because allow_undefined_stereo=True): OEMol has unspecified stereochemistry. oemol.GetTitle(): \n",
      "Problematic atoms are:\n",
      "Atom atomic num: 16, name: , idx: 8, aromatic: False, chiral: True with bonds:\n",
      "bond order: 1, chiral: False to atom atomic num: 8, name: , idx: 7, aromatic: False, chiral: False\n",
      "bond order: 2, chiral: False to atom atomic num: 8, name: , idx: 9, aromatic: False, chiral: False\n",
      "bond order: 1, chiral: False to atom atomic num: 7, name: , idx: 10, aromatic: False, chiral: False\n",
      "\n"
     ]
    },
    {
     "name": "stdout",
     "output_type": "stream",
     "text": [
      "(2, 1, 3, 5)\n"
     ]
    },
    {
     "name": "stderr",
     "output_type": "stream",
     "text": [
      "Warning (not error because allow_undefined_stereo=True): OEMol has unspecified stereochemistry. oemol.GetTitle(): \n",
      "Problematic atoms are:\n",
      "Atom atomic num: 16, name: , idx: 11, aromatic: False, chiral: True with bonds:\n",
      "bond order: 1, chiral: False to atom atomic num: 7, name: , idx: 9, aromatic: False, chiral: False\n",
      "bond order: 2, chiral: False to atom atomic num: 8, name: , idx: 12, aromatic: False, chiral: False\n",
      "bond order: 1, chiral: False to atom atomic num: 8, name: , idx: 13, aromatic: False, chiral: False\n",
      "\n"
     ]
    },
    {
     "name": "stdout",
     "output_type": "stream",
     "text": [
      "(2, 3, 5, 12)\n"
     ]
    },
    {
     "name": "stderr",
     "output_type": "stream",
     "text": [
      "Warning (not error because allow_undefined_stereo=True): OEMol has unspecified stereochemistry. oemol.GetTitle(): \n",
      "Problematic atoms are:\n",
      "Atom atomic num: 16, name: , idx: 3, aromatic: False, chiral: True with bonds:\n",
      "bond order: 1, chiral: False to atom atomic num: 7, name: , idx: 1, aromatic: False, chiral: False\n",
      "bond order: 2, chiral: False to atom atomic num: 8, name: , idx: 4, aromatic: False, chiral: False\n",
      "bond order: 1, chiral: False to atom atomic num: 8, name: , idx: 5, aromatic: False, chiral: False\n",
      "\n"
     ]
    },
    {
     "name": "stdout",
     "output_type": "stream",
     "text": [
      "(2, 3, 5, 17)\n",
      "(2, 1, 3, 5)\n"
     ]
    },
    {
     "name": "stderr",
     "output_type": "stream",
     "text": [
      "Warning (not error because allow_undefined_stereo=True): OEMol has unspecified stereochemistry. oemol.GetTitle(): \n",
      "Problematic atoms are:\n",
      "Atom atomic num: 16, name: , idx: 3, aromatic: False, chiral: True with bonds:\n",
      "bond order: 1, chiral: False to atom atomic num: 6, name: , idx: 2, aromatic: False, chiral: False\n",
      "bond order: 2, chiral: False to atom atomic num: 8, name: , idx: 4, aromatic: False, chiral: False\n",
      "bond order: 1, chiral: False to atom atomic num: 6, name: , idx: 5, aromatic: True, chiral: False\n",
      "\n"
     ]
    },
    {
     "name": "stdout",
     "output_type": "stream",
     "text": [
      "(3, 1, 0, 5)\n"
     ]
    },
    {
     "name": "stderr",
     "output_type": "stream",
     "text": [
      "Warning (not error because allow_undefined_stereo=True): OEMol has unspecified stereochemistry. oemol.GetTitle(): \n",
      "Problematic atoms are:\n",
      "Atom atomic num: 16, name: , idx: 9, aromatic: False, chiral: True with bonds:\n",
      "bond order: 1, chiral: False to atom atomic num: 6, name: , idx: 4, aromatic: True, chiral: False\n",
      "bond order: 2, chiral: False to atom atomic num: 8, name: , idx: 10, aromatic: False, chiral: False\n",
      "bond order: 1, chiral: False to atom atomic num: 6, name: , idx: 11, aromatic: False, chiral: False\n",
      "\n"
     ]
    },
    {
     "name": "stdout",
     "output_type": "stream",
     "text": [
      "(5, 4, 7, 9)\n"
     ]
    },
    {
     "name": "stderr",
     "output_type": "stream",
     "text": [
      "Warning (not error because allow_undefined_stereo=True): OEMol has unspecified stereochemistry. oemol.GetTitle(): \n",
      "Problematic atoms are:\n",
      "Atom atomic num: 16, name: , idx: 13, aromatic: False, chiral: True with bonds:\n",
      "bond order: 1, chiral: False to atom atomic num: 6, name: , idx: 12, aromatic: False, chiral: False\n",
      "bond order: 1, chiral: False to atom atomic num: 6, name: , idx: 9, aromatic: False, chiral: False\n",
      "bond order: 2, chiral: False to atom atomic num: 8, name: , idx: 14, aromatic: False, chiral: False\n",
      "\n",
      "Warning: OEMMFFParams::PrepMol() : unable to type atom 12 C \n",
      "Warning: : Force field setup failed due to missing parameters\n",
      "Warning: OEMMFFParams::PrepMol() : unable to type atom 12 C \n",
      "Warning: : Force field setup failed due to missing parameters\n",
      "Warning (not error because allow_undefined_stereo=True): OEMol has unspecified stereochemistry. oemol.GetTitle(): \n",
      "Problematic atoms are:\n",
      "Atom atomic num: 16, name: , idx: 11, aromatic: False, chiral: True with bonds:\n",
      "bond order: 1, chiral: False to atom atomic num: 6, name: , idx: 0, aromatic: False, chiral: False\n",
      "bond order: 1, chiral: False to atom atomic num: 6, name: , idx: 8, aromatic: False, chiral: False\n",
      "bond order: 2, chiral: False to atom atomic num: 8, name: , idx: 10, aromatic: False, chiral: False\n",
      "\n"
     ]
    },
    {
     "name": "stdout",
     "output_type": "stream",
     "text": [
      "(6, 7, 9, 14)\n"
     ]
    },
    {
     "name": "stderr",
     "output_type": "stream",
     "text": [
      "Warning: : Failed due to unspecified stereochemistry\n",
      "Warning: OEMMFFParams::PrepMol() : unable to type atom 0 C \n",
      "Warning: : Force field setup failed due to missing parameters\n",
      "Warning (not error because allow_undefined_stereo=True): Unable to make OFFMol from RDMol: RDMol has unspecified stereochemistry. RDMol name: Undefined chiral centers are:\n",
      " - Atom S (index 11)\n",
      "\n",
      "Warning (not error because allow_undefined_stereo=True): OEMol has unspecified stereochemistry. oemol.GetTitle(): \n",
      "Problematic atoms are:\n",
      "Atom atomic num: 16, name: , idx: 13, aromatic: False, chiral: True with bonds:\n",
      "bond order: 1, chiral: False to atom atomic num: 6, name: , idx: 3, aromatic: True, chiral: False\n",
      "bond order: 2, chiral: False to atom atomic num: 8, name: , idx: 14, aromatic: False, chiral: False\n",
      "bond order: 1, chiral: False to atom atomic num: 6, name: , idx: 15, aromatic: False, chiral: False\n",
      "\n"
     ]
    },
    {
     "name": "stdout",
     "output_type": "stream",
     "text": [
      "(7, 6, 10, 9)\n"
     ]
    },
    {
     "name": "stderr",
     "output_type": "stream",
     "text": [
      "Warning (not error because allow_undefined_stereo=True): OEMol has unspecified stereochemistry. oemol.GetTitle(): \n",
      "Problematic atoms are:\n",
      "Atom atomic num: 16, name: , idx: 9, aromatic: False, chiral: True with bonds:\n",
      "bond order: 1, chiral: False to atom atomic num: 6, name: , idx: 4, aromatic: True, chiral: False\n",
      "bond order: 2, chiral: False to atom atomic num: 8, name: , idx: 10, aromatic: False, chiral: False\n",
      "bond order: 1, chiral: False to atom atomic num: 6, name: , idx: 11, aromatic: False, chiral: False\n",
      "\n"
     ]
    },
    {
     "name": "stdout",
     "output_type": "stream",
     "text": [
      "(4, 5, 7, 12)\n"
     ]
    },
    {
     "name": "stderr",
     "output_type": "stream",
     "text": [
      "Warning (not error because allow_undefined_stereo=True): OEMol has unspecified stereochemistry. oemol.GetTitle(): \n",
      "Problematic atoms are:\n",
      "Atom atomic num: 16, name: , idx: 9, aromatic: False, chiral: True with bonds:\n",
      "bond order: 1, chiral: False to atom atomic num: 6, name: , idx: 4, aromatic: True, chiral: False\n",
      "bond order: 2, chiral: False to atom atomic num: 8, name: , idx: 10, aromatic: False, chiral: False\n",
      "bond order: 1, chiral: False to atom atomic num: 6, name: , idx: 11, aromatic: True, chiral: False\n",
      "\n"
     ]
    },
    {
     "name": "stdout",
     "output_type": "stream",
     "text": [
      "(4, 3, 6, 8)\n",
      "(4, 3, 6, 8)\n"
     ]
    },
    {
     "name": "stderr",
     "output_type": "stream",
     "text": [
      "Warning (not error because allow_undefined_stereo=True): OEMol has unspecified stereochemistry. oemol.GetTitle(): \n",
      "Problematic atoms are:\n",
      "Atom atomic num: 16, name: , idx: 17, aromatic: False, chiral: True with bonds:\n",
      "bond order: 1, chiral: False to atom atomic num: 6, name: , idx: 16, aromatic: True, chiral: False\n",
      "bond order: 1, chiral: False to atom atomic num: 6, name: , idx: 4, aromatic: True, chiral: False\n",
      "bond order: 2, chiral: False to atom atomic num: 8, name: , idx: 18, aromatic: False, chiral: False\n",
      "\n"
     ]
    },
    {
     "name": "stdout",
     "output_type": "stream",
     "text": [
      "(4, 3, 6, 8)\n",
      "(4, 3, 13, 12)\n"
     ]
    },
    {
     "name": "stderr",
     "output_type": "stream",
     "text": [
      "Warning (not error because allow_undefined_stereo=True): OEMol has unspecified stereochemistry. oemol.GetTitle(): \n",
      "Problematic atoms are:\n",
      "Atom atomic num: 16, name: , idx: 8, aromatic: False, chiral: True with bonds:\n",
      "bond order: 1, chiral: False to atom atomic num: 6, name: , idx: 5, aromatic: True, chiral: False\n",
      "bond order: 2, chiral: False to atom atomic num: 8, name: , idx: 9, aromatic: False, chiral: False\n",
      "bond order: 1, chiral: False to atom atomic num: 6, name: , idx: 10, aromatic: True, chiral: False\n",
      "\n"
     ]
    },
    {
     "name": "stdout",
     "output_type": "stream",
     "text": [
      "(5, 4, 16, 15)\n",
      "(5, 4, 6, 8)\n",
      "(2, 3, 6, 11)\n",
      "(4, 3, 6, 9)\n",
      "(5, 4, 7, 10)\n",
      "(2, 3, 6, 11)\n",
      "(4, 3, 7, 10)\n"
     ]
    },
    {
     "name": "stderr",
     "output_type": "stream",
     "text": [
      "Warning: OEMMFFParams::PrepMol() : unable to type atom 6 S \n",
      "Warning: : Force field setup failed due to missing parameters\n",
      "Warning: OEMMFFParams::PrepMol() : unable to type atom 6 S \n",
      "Warning: : Force field setup failed due to missing parameters\n",
      "[16:16:54] UFFTYPER: Unrecognized charge state for atom: 6\n",
      "Warning (not error because allow_undefined_stereo=True): OEMol has unspecified stereochemistry. oemol.GetTitle(): \n",
      "Problematic bonds are: [<openeye.oechem.OEBondBase; proxy of <Swig Object of type 'OEChem::OEBondBase *' at 0x7f9e8c024c90> >]\n",
      "\n",
      "Warning: OEMMFFParams::PrepMol() : unable to type atom 4 S \n",
      "Warning: : Force field setup failed due to missing parameters\n",
      "Warning: OEMMFFParams::PrepMol() : unable to type atom 4 S \n",
      "Warning: : Force field setup failed due to missing parameters\n",
      "Warning (not error because allow_undefined_stereo=True): OEMol has unspecified stereochemistry. oemol.GetTitle(): \n",
      "Problematic bonds are: [<openeye.oechem.OEBondBase; proxy of <Swig Object of type 'OEChem::OEBondBase *' at 0x7f9e8c001210> >]\n",
      "\n"
     ]
    },
    {
     "name": "stdout",
     "output_type": "stream",
     "text": [
      "(6, 2, 1, 9)\n"
     ]
    },
    {
     "name": "stderr",
     "output_type": "stream",
     "text": [
      "Warning: : Failed due to unspecified stereochemistry\n",
      "Warning: OEMMFFParams::PrepMol() : unable to type atom 7 S \n",
      "Warning: : Force field setup failed due to missing parameters\n",
      "[16:16:54] UFFTYPER: Unrecognized charge state for atom: 7\n",
      "Warning (not error because allow_undefined_stereo=True): Unable to make OFFMol from RDMol: RDMol has unspecified stereochemistry. RDMol name: Bonds with undefined stereochemistry are:\n",
      " - Bond 0 (atoms 0-1 of element (C-C)\n",
      "\n",
      "Warning (not error because allow_undefined_stereo=True): OEMol has unspecified stereochemistry. oemol.GetTitle(): \n",
      "Problematic atoms are:\n",
      "Atom atomic num: 6, name: , idx: 13, aromatic: False, chiral: True with bonds:\n",
      "bond order: 1, chiral: False to atom atomic num: 6, name: , idx: 1, aromatic: False, chiral: False\n",
      "bond order: 1, chiral: False to atom atomic num: 1, name: , idx: 14, aromatic: False, chiral: False\n",
      "bond order: 1, chiral: False to atom atomic num: 6, name: , idx: 15, aromatic: False, chiral: False\n",
      "bond order: 1, chiral: False to atom atomic num: 7, name: , idx: 22, aromatic: False, chiral: False\n",
      "Problematic bonds are: [<openeye.oechem.OEBondBase; proxy of <Swig Object of type 'OEChem::OEBondBase *' at 0x7f9eb974c330> >]\n",
      "\n",
      "Warning: OEMMFFParams::PrepMol() : unable to type atom 4 S \n",
      "Warning: : Force field setup failed due to missing parameters\n",
      "Warning: OEMMFFParams::PrepMol() : unable to type atom 4 S \n",
      "Warning: : Force field setup failed due to missing parameters\n"
     ]
    },
    {
     "name": "stdout",
     "output_type": "stream",
     "text": [
      "(2, 1, 3, 14)\n"
     ]
    },
    {
     "name": "stderr",
     "output_type": "stream",
     "text": [
      "Warning: OEMMFFParams::PrepMol() : unable to type atom 4 S \n",
      "Warning: : Force field setup failed due to missing parameters\n",
      "Warning: OEMMFFParams::PrepMol() : unable to type atom 4 S \n",
      "Warning: : Force field setup failed due to missing parameters\n",
      "Warning (not error because allow_undefined_stereo=True): OEMol has unspecified stereochemistry. oemol.GetTitle(): \n",
      "Problematic atoms are:\n",
      "Atom atomic num: 6, name: , idx: 6, aromatic: False, chiral: True with bonds:\n",
      "bond order: 1, chiral: False to atom atomic num: 1, name: , idx: 22, aromatic: False, chiral: False\n",
      "bond order: 1, chiral: False to atom atomic num: 6, name: , idx: 0, aromatic: False, chiral: False\n",
      "bond order: 1, chiral: False to atom atomic num: 6, name: , idx: 5, aromatic: False, chiral: False\n",
      "bond order: 1, chiral: False to atom atomic num: 7, name: , idx: 7, aromatic: False, chiral: False\n",
      "Problematic bonds are: [<openeye.oechem.OEBondBase; proxy of <Swig Object of type 'OEChem::OEBondBase *' at 0x7f9e38c93240> >]\n",
      "\n",
      "Warning: : Failed due to unspecified stereochemistry\n",
      "Warning: OEMMFFParams::PrepMol() : unable to type atom 8 S \n",
      "Warning: : Force field setup failed due to missing parameters\n",
      "[16:16:54] UFFTYPER: Unrecognized charge state for atom: 8\n",
      "Warning (not error because allow_undefined_stereo=True): Unable to make OFFMol from RDMol: RDMol has unspecified stereochemistry. RDMol name: Undefined chiral centers are:\n",
      " - Atom C (index 6)\n",
      "Bonds with undefined stereochemistry are:\n",
      " - Bond 0 (atoms 0-1 of element (C-C)\n",
      "\n",
      "Warning (not error because allow_undefined_stereo=True): OEMol has unspecified stereochemistry. oemol.GetTitle(): \n",
      "Problematic bonds are: [<openeye.oechem.OEBondBase; proxy of <Swig Object of type 'OEChem::OEBondBase *' at 0x7f9e38d12de0> >]\n",
      "\n",
      "Warning: OEMMFFParams::PrepMol() : unable to type atom 16 S \n",
      "Warning: : Force field setup failed due to missing parameters\n",
      "Warning: OEMMFFParams::PrepMol() : unable to type atom 16 S \n",
      "Warning: : Force field setup failed due to missing parameters\n",
      "Warning (not error because allow_undefined_stereo=True): OEMol has unspecified stereochemistry. oemol.GetTitle(): \n",
      "Problematic bonds are: [<openeye.oechem.OEBondBase; proxy of <Swig Object of type 'OEChem::OEBondBase *' at 0x7f9e38d070f0> >]\n",
      "\n"
     ]
    },
    {
     "name": "stdout",
     "output_type": "stream",
     "text": [
      "(7, 5, 4, 16)\n"
     ]
    },
    {
     "name": "stderr",
     "output_type": "stream",
     "text": [
      "Warning: : Failed due to unspecified stereochemistry\n",
      "Warning: OEMMFFParams::PrepMol() : unable to type atom 13 S \n",
      "Warning: : Force field setup failed due to missing parameters\n",
      "[16:16:55] UFFTYPER: Unrecognized charge state for atom: 13\n",
      "Warning (not error because allow_undefined_stereo=True): Unable to make OFFMol from RDMol: RDMol has unspecified stereochemistry. RDMol name: Bonds with undefined stereochemistry are:\n",
      " - Bond 7 (atoms 6-7 of element (C-C)\n",
      "\n",
      "Warning (not error because allow_undefined_stereo=True): OEMol has unspecified stereochemistry. oemol.GetTitle(): \n",
      "Problematic atoms are:\n",
      "Atom atomic num: 6, name: , idx: 6, aromatic: False, chiral: True with bonds:\n",
      "bond order: 1, chiral: False to atom atomic num: 6, name: , idx: 5, aromatic: False, chiral: False\n",
      "bond order: 1, chiral: False to atom atomic num: 6, name: , idx: 7, aromatic: False, chiral: True\n",
      "bond order: 1, chiral: False to atom atomic num: 1, name: , idx: 15, aromatic: False, chiral: False\n",
      "bond order: 1, chiral: False to atom atomic num: 7, name: , idx: 16, aromatic: False, chiral: False\n",
      "Atom atomic num: 6, name: , idx: 7, aromatic: False, chiral: True with bonds:\n",
      "bond order: 1, chiral: False to atom atomic num: 6, name: , idx: 6, aromatic: False, chiral: True\n",
      "bond order: 1, chiral: False to atom atomic num: 6, name: , idx: 8, aromatic: False, chiral: False\n",
      "bond order: 1, chiral: False to atom atomic num: 1, name: , idx: 11, aromatic: False, chiral: False\n",
      "bond order: 1, chiral: False to atom atomic num: 7, name: , idx: 12, aromatic: False, chiral: False\n",
      "\n",
      "Warning: OEMMFFParams::PrepMol() : unable to type atom 4 S \n",
      "Warning: : Force field setup failed due to missing parameters\n",
      "Warning: OEMMFFParams::PrepMol() : unable to type atom 4 S \n",
      "Warning: : Force field setup failed due to missing parameters\n",
      "Warning: OEMMFFParams::PrepMol() : unable to type atom 4 S \n",
      "Warning: : Force field setup failed due to missing parameters\n",
      "Warning (not error because allow_undefined_stereo=True): OEMol has unspecified stereochemistry. oemol.GetTitle(): \n",
      "Problematic atoms are:\n",
      "Atom atomic num: 6, name: , idx: 4, aromatic: False, chiral: True with bonds:\n",
      "bond order: 1, chiral: False to atom atomic num: 1, name: , idx: 16, aromatic: False, chiral: False\n",
      "bond order: 1, chiral: False to atom atomic num: 6, name: , idx: 2, aromatic: False, chiral: False\n",
      "bond order: 1, chiral: False to atom atomic num: 6, name: , idx: 5, aromatic: False, chiral: True\n",
      "bond order: 1, chiral: False to atom atomic num: 7, name: , idx: 6, aromatic: False, chiral: False\n",
      "Atom atomic num: 6, name: , idx: 5, aromatic: False, chiral: True with bonds:\n",
      "bond order: 1, chiral: False to atom atomic num: 1, name: , idx: 17, aromatic: False, chiral: False\n",
      "bond order: 1, chiral: False to atom atomic num: 6, name: , idx: 3, aromatic: False, chiral: False\n",
      "bond order: 1, chiral: False to atom atomic num: 6, name: , idx: 4, aromatic: False, chiral: True\n",
      "bond order: 1, chiral: False to atom atomic num: 7, name: , idx: 7, aromatic: False, chiral: False\n",
      "\n"
     ]
    },
    {
     "name": "stdout",
     "output_type": "stream",
     "text": [
      "(2, 1, 3, 20)\n"
     ]
    },
    {
     "name": "stderr",
     "output_type": "stream",
     "text": [
      "Warning: : Failed due to unspecified stereochemistry\n",
      "Warning: OEMMFFParams::PrepMol() : unable to type atom 8 S \n",
      "Warning: : Force field setup failed due to missing parameters\n",
      "[16:16:55] UFFTYPER: Unrecognized charge state for atom: 8\n",
      "Warning (not error because allow_undefined_stereo=True): Unable to make OFFMol from RDMol: RDMol has unspecified stereochemistry. RDMol name: Undefined chiral centers are:\n",
      " - Atom C (index 4)\n",
      " - Atom C (index 5)\n",
      "\n",
      "Warning (not error because allow_undefined_stereo=True): OEMol has unspecified stereochemistry. oemol.GetTitle(): \n",
      "Problematic atoms are:\n",
      "Atom atomic num: 6, name: , idx: 3, aromatic: False, chiral: True with bonds:\n",
      "bond order: 1, chiral: False to atom atomic num: 6, name: , idx: 2, aromatic: False, chiral: False\n",
      "bond order: 1, chiral: False to atom atomic num: 16, name: , idx: 7, aromatic: False, chiral: True\n",
      "bond order: 1, chiral: False to atom atomic num: 6, name: , idx: 4, aromatic: False, chiral: True\n",
      "bond order: 1, chiral: False to atom atomic num: 1, name: , idx: 27, aromatic: False, chiral: False\n",
      "Atom atomic num: 6, name: , idx: 4, aromatic: False, chiral: True with bonds:\n",
      "bond order: 1, chiral: False to atom atomic num: 6, name: , idx: 3, aromatic: False, chiral: True\n",
      "bond order: 1, chiral: False to atom atomic num: 7, name: , idx: 16, aromatic: False, chiral: False\n",
      "bond order: 1, chiral: False to atom atomic num: 6, name: , idx: 5, aromatic: False, chiral: True\n",
      "bond order: 1, chiral: False to atom atomic num: 1, name: , idx: 26, aromatic: False, chiral: False\n",
      "Atom atomic num: 6, name: , idx: 5, aromatic: False, chiral: True with bonds:\n",
      "bond order: 1, chiral: False to atom atomic num: 6, name: , idx: 4, aromatic: False, chiral: True\n",
      "bond order: 1, chiral: False to atom atomic num: 6, name: , idx: 6, aromatic: False, chiral: False\n",
      "bond order: 1, chiral: False to atom atomic num: 7, name: , idx: 13, aromatic: False, chiral: False\n",
      "bond order: 1, chiral: False to atom atomic num: 1, name: , idx: 25, aromatic: False, chiral: False\n",
      "Atom atomic num: 16, name: , idx: 7, aromatic: False, chiral: True with bonds:\n",
      "bond order: 1, chiral: False to atom atomic num: 6, name: , idx: 6, aromatic: False, chiral: False\n",
      "bond order: 1, chiral: False to atom atomic num: 6, name: , idx: 3, aromatic: False, chiral: True\n",
      "bond order: 1, chiral: False to atom atomic num: 6, name: , idx: 8, aromatic: False, chiral: False\n",
      "\n",
      "Warning: OEMMFFParams::PrepMol() : unable to type atom 7 S \n",
      "Warning: : Force field setup failed due to missing parameters\n",
      "Warning: OEMMFFParams::PrepMol() : unable to type atom 7 S \n",
      "Warning: : Force field setup failed due to missing parameters\n"
     ]
    },
    {
     "name": "stdout",
     "output_type": "stream",
     "text": [
      "(6, 2, 1, 11)\n"
     ]
    },
    {
     "name": "stderr",
     "output_type": "stream",
     "text": [
      "Warning: OEMMFFParams::PrepMol() : unable to type atom 7 S \n",
      "Warning: : Force field setup failed due to missing parameters\n",
      "Warning: OEMMFFParams::PrepMol() : unable to type atom 7 S \n",
      "Warning: : Force field setup failed due to missing parameters\n",
      "Warning: OEMMFFParams::PrepMol() : unable to type atom 7 S \n",
      "Warning: : Force field setup failed due to missing parameters\n",
      "Warning: OEMMFFParams::PrepMol() : unable to type atom 7 S \n",
      "Warning: : Force field setup failed due to missing parameters\n",
      "Warning: OEMMFFParams::PrepMol() : unable to type atom 7 S \n",
      "Warning: : Force field setup failed due to missing parameters\n",
      "Warning: OEMMFFParams::PrepMol() : unable to type atom 7 S \n",
      "Warning: : Force field setup failed due to missing parameters\n",
      "Warning: OEMMFFParams::PrepMol() : unable to type atom 7 S \n",
      "Warning: : Force field setup failed due to missing parameters\n",
      "Warning: OEMMFFParams::PrepMol() : unable to type atom 7 S \n",
      "Warning: : Force field setup failed due to missing parameters\n",
      "Warning: OEMMFFParams::PrepMol() : unable to type atom 7 S \n",
      "Warning: : Force field setup failed due to missing parameters\n",
      "Warning: OEMMFFParams::PrepMol() : unable to type atom 7 S \n",
      "Warning: : Force field setup failed due to missing parameters\n",
      "Warning: OEMMFFParams::PrepMol() : unable to type atom 7 S \n",
      "Warning: : Force field setup failed due to missing parameters\n",
      "Warning: OEMMFFParams::PrepMol() : unable to type atom 7 S \n",
      "Warning: : Force field setup failed due to missing parameters\n",
      "Warning: OEMMFFParams::PrepMol() : unable to type atom 7 S \n",
      "Warning: : Force field setup failed due to missing parameters\n",
      "Warning: OEMMFFParams::PrepMol() : unable to type atom 7 S \n",
      "Warning: : Force field setup failed due to missing parameters\n",
      "Warning (not error because allow_undefined_stereo=True): OEMol has unspecified stereochemistry. oemol.GetTitle(): \n",
      "Problematic atoms are:\n",
      "Atom atomic num: 6, name: , idx: 5, aromatic: False, chiral: True with bonds:\n",
      "bond order: 1, chiral: False to atom atomic num: 1, name: , idx: 22, aromatic: False, chiral: False\n",
      "bond order: 1, chiral: False to atom atomic num: 6, name: , idx: 4, aromatic: False, chiral: False\n",
      "bond order: 1, chiral: False to atom atomic num: 6, name: , idx: 6, aromatic: False, chiral: True\n",
      "bond order: 1, chiral: False to atom atomic num: 7, name: , idx: 10, aromatic: False, chiral: False\n",
      "Atom atomic num: 6, name: , idx: 6, aromatic: False, chiral: True with bonds:\n",
      "bond order: 1, chiral: False to atom atomic num: 1, name: , idx: 23, aromatic: False, chiral: False\n",
      "bond order: 1, chiral: False to atom atomic num: 6, name: , idx: 5, aromatic: False, chiral: True\n",
      "bond order: 1, chiral: False to atom atomic num: 6, name: , idx: 7, aromatic: False, chiral: True\n",
      "bond order: 1, chiral: False to atom atomic num: 7, name: , idx: 11, aromatic: False, chiral: False\n",
      "Atom atomic num: 6, name: , idx: 7, aromatic: False, chiral: True with bonds:\n",
      "bond order: 1, chiral: False to atom atomic num: 1, name: , idx: 24, aromatic: False, chiral: False\n",
      "bond order: 1, chiral: False to atom atomic num: 6, name: , idx: 2, aromatic: False, chiral: False\n",
      "bond order: 1, chiral: False to atom atomic num: 6, name: , idx: 6, aromatic: False, chiral: True\n",
      "bond order: 1, chiral: False to atom atomic num: 16, name: , idx: 13, aromatic: False, chiral: True\n",
      "Atom atomic num: 16, name: , idx: 13, aromatic: False, chiral: True with bonds:\n",
      "bond order: 1, chiral: False to atom atomic num: 6, name: , idx: 3, aromatic: False, chiral: False\n",
      "bond order: 1, chiral: False to atom atomic num: 6, name: , idx: 4, aromatic: False, chiral: False\n",
      "bond order: 1, chiral: False to atom atomic num: 6, name: , idx: 7, aromatic: False, chiral: True\n",
      "\n",
      "Warning: : Failed due to unspecified stereochemistry\n",
      "Warning: OEMMFFParams::PrepMol() : unable to type atom 13 S \n",
      "Warning: : Force field setup failed due to missing parameters\n",
      "[16:16:56] UFFTYPER: Unrecognized charge state for atom: 13\n",
      "Warning (not error because allow_undefined_stereo=True): Unable to make OFFMol from RDMol: RDMol has unspecified stereochemistry. RDMol name: Undefined chiral centers are:\n",
      " - Atom C (index 5)\n",
      " - Atom C (index 6)\n",
      " - Atom C (index 7)\n",
      " - Atom S (index 13)\n",
      "\n",
      "Warning (not error because allow_undefined_stereo=True): OEMol has unspecified stereochemistry. oemol.GetTitle(): \n",
      "Problematic atoms are:\n",
      "Atom atomic num: 6, name: , idx: 15, aromatic: False, chiral: True with bonds:\n",
      "bond order: 1, chiral: False to atom atomic num: 6, name: , idx: 12, aromatic: False, chiral: False\n",
      "bond order: 1, chiral: False to atom atomic num: 1, name: , idx: 16, aromatic: False, chiral: False\n",
      "bond order: 1, chiral: False to atom atomic num: 6, name: , idx: 17, aromatic: False, chiral: False\n",
      "bond order: 1, chiral: False to atom atomic num: 7, name: , idx: 21, aromatic: False, chiral: False\n",
      "\n",
      "Warning: OEMMFFParams::PrepMol() : unable to type atom 4 S \n",
      "Warning: : Force field setup failed due to missing parameters\n",
      "Warning: OEMMFFParams::PrepMol() : unable to type atom 4 S \n",
      "Warning: : Force field setup failed due to missing parameters\n",
      "Warning (not error because allow_undefined_stereo=True): OEMol has unspecified stereochemistry. oemol.GetTitle(): \n",
      "Problematic atoms are:\n",
      "Atom atomic num: 6, name: , idx: 5, aromatic: False, chiral: True with bonds:\n",
      "bond order: 1, chiral: False to atom atomic num: 1, name: , idx: 20, aromatic: False, chiral: False\n",
      "bond order: 1, chiral: False to atom atomic num: 6, name: , idx: 0, aromatic: False, chiral: False\n",
      "bond order: 1, chiral: False to atom atomic num: 6, name: , idx: 3, aromatic: False, chiral: False\n",
      "bond order: 1, chiral: False to atom atomic num: 7, name: , idx: 6, aromatic: False, chiral: False\n",
      "\n"
     ]
    },
    {
     "name": "stdout",
     "output_type": "stream",
     "text": [
      "(8, 4, 5, 21)\n"
     ]
    },
    {
     "name": "stderr",
     "output_type": "stream",
     "text": [
      "Warning: : Failed due to unspecified stereochemistry\n",
      "Warning: OEMMFFParams::PrepMol() : unable to type atom 9 S \n",
      "Warning: : Force field setup failed due to missing parameters\n",
      "[16:16:56] UFFTYPER: Unrecognized charge state for atom: 9\n",
      "Warning (not error because allow_undefined_stereo=True): Unable to make OFFMol from RDMol: RDMol has unspecified stereochemistry. RDMol name: Undefined chiral centers are:\n",
      " - Atom C (index 5)\n",
      "\n",
      "Warning: OEMMFFParams::PrepMol() : unable to type atom 7 S \n",
      "Warning: : Force field setup failed due to missing parameters\n",
      "Warning: OEMMFFParams::PrepMol() : unable to type atom 7 S \n",
      "Warning: : Force field setup failed due to missing parameters\n",
      "[16:16:57] UFFTYPER: Unrecognized charge state for atom: 7\n",
      "Warning: OEMMFFParams::PrepMol() : unable to type atom 13 S \n",
      "Warning: : Force field setup failed due to missing parameters\n"
     ]
    },
    {
     "name": "stdout",
     "output_type": "stream",
     "text": [
      "(3, 1, 2, 15)\n",
      "(3, 1, 2, 13)\n"
     ]
    },
    {
     "name": "stderr",
     "output_type": "stream",
     "text": [
      "Warning: OEMMFFParams::PrepMol() : unable to type atom 13 S \n",
      "Warning: : Force field setup failed due to missing parameters\n",
      "[16:16:57] UFFTYPER: Unrecognized charge state for atom: 13\n",
      "Warning: OEMMFFParams::PrepMol() : unable to type atom 10 S \n",
      "Warning: : Force field setup failed due to missing parameters\n",
      "Warning: OEMMFFParams::PrepMol() : unable to type atom 10 S \n",
      "Warning: : Force field setup failed due to missing parameters\n",
      "[16:16:57] UFFTYPER: Unrecognized charge state for atom: 10\n"
     ]
    },
    {
     "name": "stdout",
     "output_type": "stream",
     "text": [
      "(3, 1, 2, 19)\n",
      "(3, 1, 2, 16)\n",
      "(2, 1, 3, 4)\n",
      "(3, 2, 4, 5)\n",
      "(3, 2, 4, 5)\n",
      "(1, 4, 5, 7)\n",
      "(1, 2, 3, 5)\n",
      "(3, 1, 4, 7)\n",
      "(4, 2, 5, 11)\n",
      "(8, 9, 10, 13)\n"
     ]
    },
    {
     "name": "stderr",
     "output_type": "stream",
     "text": [
      "Warning (not error because allow_undefined_stereo=True): OEMol has unspecified stereochemistry. oemol.GetTitle(): \n",
      "Problematic atoms are:\n",
      "Atom atomic num: 16, name: , idx: 6, aromatic: False, chiral: True with bonds:\n",
      "bond order: 1, chiral: False to atom atomic num: 6, name: , idx: 3, aromatic: False, chiral: False\n",
      "bond order: 2, chiral: False to atom atomic num: 8, name: , idx: 7, aromatic: False, chiral: False\n",
      "bond order: 1, chiral: False to atom atomic num: 8, name: , idx: 8, aromatic: False, chiral: False\n",
      "\n"
     ]
    },
    {
     "name": "stdout",
     "output_type": "stream",
     "text": [
      "(4, 1, 0, 5)\n",
      "(1, 9, 6, 8)\n",
      "(3, 1, 0, 4)\n"
     ]
    },
    {
     "name": "stderr",
     "output_type": "stream",
     "text": [
      "Warning (not error because allow_undefined_stereo=True): OEMol has unspecified stereochemistry. oemol.GetTitle(): \n",
      "Problematic atoms are:\n",
      "Atom atomic num: 16, name: , idx: 6, aromatic: False, chiral: True with bonds:\n",
      "bond order: 1, chiral: False to atom atomic num: 6, name: , idx: 2, aromatic: False, chiral: False\n",
      "bond order: 2, chiral: False to atom atomic num: 8, name: , idx: 7, aromatic: False, chiral: False\n",
      "bond order: 1, chiral: False to atom atomic num: 8, name: , idx: 8, aromatic: False, chiral: False\n",
      "Problematic bonds are: [<openeye.oechem.OEBondBase; proxy of <Swig Object of type 'OEChem::OEBondBase *' at 0x7f9e38a8d330> >]\n",
      "\n"
     ]
    },
    {
     "name": "stdout",
     "output_type": "stream",
     "text": [
      "(3, 2, 4, 10)\n",
      "(4, 3, 5, 9)\n",
      "(4, 3, 5, 6)\n",
      "(1, 2, 3, 5)\n"
     ]
    }
   ],
   "source": [
    "molecules = []\n",
    "\n",
    "\n",
    "for key, item in tid_clusters_list.items():\n",
    "    for mol, indices in item.items():\n",
    "        smiles_pattern = mol\n",
    "        #randomly select dihedral indices from the dictionary for the torsion drive\n",
    "        dihedrals = random.choice(indices)\n",
    "\n",
    "        # RDKit is unable to understand the stereochemistry of these molecules so\n",
    "        # we skip them.\n",
    "        if smiles_pattern == \"[H]/C(=C(/C([H])([H])[H])\\\\[H])/C(=C(\\\\C([H])([H])[H])/[H])/[H]\":\n",
    "            continue\n",
    "\n",
    "        try:\n",
    "            molecule: Molecule = Molecule.from_smiles(smiles_pattern)\n",
    "        except UndefinedStereochemistryError:\n",
    "            molecule: Molecule = Molecule.from_smiles(smiles_pattern, allow_undefined_stereo=True)\n",
    "            molecule = ([molecule] + molecule.enumerate_stereoisomers(max_isomers=1))[-1]\n",
    "\n",
    "        molecule = molecule.canonical_order_atoms()\n",
    "\n",
    "        try:\n",
    "            molecule.generate_conformers(n_conformers=10)\n",
    "        except Exception:\n",
    "            print(f\"Skipping {smiles_pattern} - OMEGA error.\")\n",
    "            continue\n",
    "        try:\n",
    "            molecule.to_rdkit()\n",
    "        except Exception:\n",
    "            print(f\"Skipping {smiles_pattern} - RDKit incompatible.\")\n",
    "            continue\n",
    "\n",
    "        torsion_indexer = TorsionIndexer()\n",
    "        print(tuple(dihedrals))\n",
    "        #torsion_indexer.add_torsion(tuple(dihedrals), (-165, 180), True)\n",
    "        torsion_indexer.add_torsion(tuple(dihedrals), (0,3), (-165, 180))\n",
    "\n",
    "        molecule.properties[\"dihedrals\"] = torsion_indexer\n",
    "        molecules.append(molecule)"
   ]
  },
  {
   "cell_type": "code",
   "execution_count": 222,
   "metadata": {},
   "outputs": [
    {
     "data": {
      "text/plain": [
       "99"
      ]
     },
     "execution_count": 222,
     "metadata": {},
     "output_type": "execute_result"
    }
   ],
   "source": [
    "len(molecules)\n"
   ]
  },
  {
   "cell_type": "code",
   "execution_count": 223,
   "metadata": {},
   "outputs": [
    {
     "name": "stderr",
     "output_type": "stream",
     "text": [
      "Deduplication                 :   0%|                    | 0/99 [00:00<?, ?it/s]Warning: OE3DToAtomStereo is unable to perceive atom stereo from a flat geometry on atom 6 of molecule ''\n",
      "Warning: OE3DToAtomStereo had a problem during OEMolToInChIKey when writing ''\n",
      "Warning: OE3DToAtomStereo is unable to perceive atom stereo from a flat geometry on atom 9 of molecule ''\n",
      "Warning: OE3DToAtomStereo had a problem during OEMolToInChIKey when writing ''\n",
      "Warning: OE3DToAtomStereo is unable to perceive atom stereo from a flat geometry on atom 15 of molecule ''\n",
      "Warning: OE3DToAtomStereo had a problem during OEMolToInChIKey when writing ''\n",
      "Warning: OE3DToAtomStereo is unable to perceive atom stereo from a flat geometry on atom 11 of molecule ''\n",
      "Warning: OE3DToAtomStereo had a problem during OEMolToInChIKey when writing ''\n",
      "Warning: OE3DToAtomStereo is unable to perceive atom stereo from a flat geometry on atom 13 of molecule ''\n",
      "Warning: OE3DToAtomStereo had a problem during OEMolToInChIKey when writing ''\n",
      "Deduplication                 : 100%|█████████| 99/99 [00:00<00:00, 1116.81it/s]\n",
      "Preparation                   :   0%|                    | 0/99 [00:00<?, ?it/s]Warning (not error because allow_undefined_stereo=True): OEMol has unspecified stereochemistry. oemol.GetTitle(): \n",
      "Problematic atoms are:\n",
      "Atom atomic num: 7, name: , idx: 7, aromatic: False, chiral: True with bonds:\n",
      "bond order: 1, chiral: False to atom atomic num: 6, name: , idx: 4, aromatic: False, chiral: False\n",
      "bond order: 1, chiral: False to atom atomic num: 7, name: , idx: 8, aromatic: False, chiral: False\n",
      "bond order: 1, chiral: False to atom atomic num: 16, name: , idx: 17, aromatic: False, chiral: False\n",
      "\n",
      "Preparation                   :  14%|█▌         | 14/99 [00:00<00:01, 58.05it/s]Warning (not error because allow_undefined_stereo=True): OEMol has unspecified stereochemistry. oemol.GetTitle(): \n",
      "Problematic atoms are:\n",
      "Atom atomic num: 7, name: , idx: 4, aromatic: False, chiral: True with bonds:\n",
      "bond order: 1, chiral: False to atom atomic num: 6, name: , idx: 1, aromatic: False, chiral: False\n",
      "bond order: 1, chiral: False to atom atomic num: 6, name: , idx: 5, aromatic: False, chiral: False\n",
      "bond order: 1, chiral: False to atom atomic num: 7, name: , idx: 14, aromatic: False, chiral: False\n",
      "\n",
      "Preparation                   :  27%|███        | 27/99 [00:00<00:01, 55.06it/s]Warning: OE3DToAtomStereo is unable to perceive atom stereo from a flat geometry on atom 6 of molecule ''\n",
      "Warning: OE3DToAtomStereo had a problem during OEMolToInChIKey when writing ''\n",
      "Warning: OE3DToAtomStereo is unable to perceive atom stereo from a flat geometry on atom 6 of molecule ''\n",
      "Warning: OE3DToAtomStereo had a problem during OEMolToSTDInChI when writing ''\n",
      "Warning: OE3DToAtomStereo is unable to perceive atom stereo from a flat geometry on atom 6 of molecule ''\n",
      "Warning: OE3DToAtomStereo had a problem during OEMolToSTDInChIKey when writing ''\n",
      "Warning: OE3DToAtomStereo is unable to perceive atom stereo from a flat geometry on atom 6 of molecule ''\n",
      "Warning: OE3DToAtomStereo had a problem during OEMolToInChI when writing ''\n",
      "Warning: OE3DToAtomStereo is unable to perceive atom stereo from a flat geometry on atom 6 of molecule ''\n",
      "Warning: OE3DToAtomStereo had a problem during OEMolToInChIKey when writing ''\n",
      "Warning (not error because allow_undefined_stereo=True): OEMol has unspecified stereochemistry. oemol.GetTitle(): \n",
      "Problematic atoms are:\n",
      "Atom atomic num: 16, name: , idx: 3, aromatic: False, chiral: True with bonds:\n",
      "bond order: 1, chiral: False to atom atomic num: 7, name: , idx: 2, aromatic: False, chiral: False\n",
      "bond order: 1, chiral: False to atom atomic num: 7, name: , idx: 4, aromatic: False, chiral: False\n",
      "bond order: 1, chiral: False to atom atomic num: 8, name: , idx: 9, aromatic: False, chiral: False\n",
      "Problematic bonds are: [<openeye.oechem.OEBondBase; proxy of <Swig Object of type 'OEChem::OEBondBase *' at 0x7f9eb9aede70> >]\n",
      "\n",
      "Warning: OE3DToAtomStereo is unable to perceive atom stereo from a flat geometry on atom 9 of molecule ''\n",
      "Warning: OE3DToAtomStereo had a problem during OEMolToInChIKey when writing ''\n",
      "Warning: OE3DToAtomStereo is unable to perceive atom stereo from a flat geometry on atom 9 of molecule ''\n",
      "Warning: OE3DToAtomStereo had a problem during OEMolToSTDInChI when writing ''\n",
      "Warning: OE3DToAtomStereo is unable to perceive atom stereo from a flat geometry on atom 9 of molecule ''\n",
      "Warning: OE3DToAtomStereo had a problem during OEMolToSTDInChIKey when writing ''\n",
      "Warning: OE3DToAtomStereo is unable to perceive atom stereo from a flat geometry on atom 9 of molecule ''\n",
      "Warning: OE3DToAtomStereo had a problem during OEMolToInChI when writing ''\n",
      "Warning: OE3DToAtomStereo is unable to perceive atom stereo from a flat geometry on atom 9 of molecule ''\n",
      "Warning: OE3DToAtomStereo had a problem during OEMolToInChIKey when writing ''\n",
      "Warning (not error because allow_undefined_stereo=True): OEMol has unspecified stereochemistry. oemol.GetTitle(): \n",
      "Problematic atoms are:\n",
      "Atom atomic num: 16, name: , idx: 11, aromatic: False, chiral: True with bonds:\n",
      "bond order: 1, chiral: False to atom atomic num: 7, name: , idx: 10, aromatic: False, chiral: False\n",
      "bond order: 1, chiral: False to atom atomic num: 7, name: , idx: 12, aromatic: False, chiral: False\n",
      "bond order: 1, chiral: False to atom atomic num: 8, name: , idx: 14, aromatic: False, chiral: False\n",
      "Problematic bonds are: [<openeye.oechem.OEBondBase; proxy of <Swig Object of type 'OEChem::OEBondBase *' at 0x7f9eba4831b0> >]\n",
      "\n",
      "Preparation                   :  34%|███▊       | 34/99 [00:00<00:01, 59.60it/s]Warning: OE3DToAtomStereo is unable to perceive atom stereo from a flat geometry on atom 15 of molecule ''\n",
      "Warning: OE3DToAtomStereo had a problem during OEMolToInChIKey when writing ''\n",
      "Warning: OE3DToAtomStereo is unable to perceive atom stereo from a flat geometry on atom 15 of molecule ''\n",
      "Warning: OE3DToAtomStereo had a problem during OEMolToSTDInChI when writing ''\n",
      "Warning: OE3DToAtomStereo is unable to perceive atom stereo from a flat geometry on atom 15 of molecule ''\n",
      "Warning: OE3DToAtomStereo had a problem during OEMolToSTDInChIKey when writing ''\n",
      "Warning: OE3DToAtomStereo is unable to perceive atom stereo from a flat geometry on atom 15 of molecule ''\n",
      "Warning: OE3DToAtomStereo had a problem during OEMolToInChI when writing ''\n",
      "Warning: OE3DToAtomStereo is unable to perceive atom stereo from a flat geometry on atom 15 of molecule ''\n",
      "Warning: OE3DToAtomStereo had a problem during OEMolToInChIKey when writing ''\n",
      "Warning (not error because allow_undefined_stereo=True): OEMol has unspecified stereochemistry. oemol.GetTitle(): \n",
      "Problematic atoms are:\n",
      "Atom atomic num: 16, name: , idx: 18, aromatic: False, chiral: True with bonds:\n",
      "bond order: 1, chiral: False to atom atomic num: 6, name: , idx: 3, aromatic: True, chiral: False\n",
      "bond order: 1, chiral: False to atom atomic num: 7, name: , idx: 19, aromatic: False, chiral: False\n",
      "bond order: 1, chiral: False to atom atomic num: 8, name: , idx: 26, aromatic: False, chiral: False\n",
      "\n",
      "Warning (not error because allow_undefined_stereo=True): OEMol has unspecified stereochemistry. oemol.GetTitle(): \n",
      "Problematic atoms are:\n",
      "Atom atomic num: 16, name: , idx: 5, aromatic: False, chiral: True with bonds:\n",
      "bond order: 1, chiral: False to atom atomic num: 7, name: , idx: 4, aromatic: False, chiral: False\n",
      "bond order: 1, chiral: False to atom atomic num: 7, name: , idx: 6, aromatic: False, chiral: False\n",
      "bond order: 1, chiral: False to atom atomic num: 8, name: , idx: 8, aromatic: False, chiral: False\n",
      "Problematic bonds are: [<openeye.oechem.OEBondBase; proxy of <Swig Object of type 'OEChem::OEBondBase *' at 0x7f9eb9b0cab0> >]\n",
      "\n",
      "Warning: OE3DToAtomStereo is unable to perceive atom stereo from a flat geometry on atom 11 of molecule ''\n",
      "Warning: OE3DToAtomStereo had a problem during OEMolToInChIKey when writing ''\n",
      "Warning: OE3DToAtomStereo is unable to perceive atom stereo from a flat geometry on atom 11 of molecule ''\n",
      "Warning: OE3DToAtomStereo had a problem during OEMolToSTDInChI when writing ''\n",
      "Warning: OE3DToAtomStereo is unable to perceive atom stereo from a flat geometry on atom 11 of molecule ''\n",
      "Warning: OE3DToAtomStereo had a problem during OEMolToSTDInChIKey when writing ''\n",
      "Warning: OE3DToAtomStereo is unable to perceive atom stereo from a flat geometry on atom 11 of molecule ''\n",
      "Warning: OE3DToAtomStereo had a problem during OEMolToInChI when writing ''\n",
      "Warning: OE3DToAtomStereo is unable to perceive atom stereo from a flat geometry on atom 11 of molecule ''\n",
      "Warning: OE3DToAtomStereo had a problem during OEMolToInChIKey when writing ''\n",
      "Warning (not error because allow_undefined_stereo=True): OEMol has unspecified stereochemistry. oemol.GetTitle(): \n",
      "Problematic atoms are:\n",
      "Atom atomic num: 16, name: , idx: 17, aromatic: False, chiral: True with bonds:\n",
      "bond order: 1, chiral: False to atom atomic num: 7, name: , idx: 16, aromatic: False, chiral: False\n",
      "bond order: 1, chiral: False to atom atomic num: 7, name: , idx: 18, aromatic: False, chiral: False\n",
      "bond order: 1, chiral: False to atom atomic num: 8, name: , idx: 20, aromatic: False, chiral: False\n",
      "Problematic bonds are: [<openeye.oechem.OEBondBase; proxy of <Swig Object of type 'OEChem::OEBondBase *' at 0x7f9eba41b300> >, <openeye.oechem.OEBondBase; proxy of <Swig Object of type 'OEChem::OEBondBase *' at 0x7f9eba41b270> >]\n",
      "\n"
     ]
    },
    {
     "name": "stderr",
     "output_type": "stream",
     "text": [
      "Warning (not error because allow_undefined_stereo=True): OEMol has unspecified stereochemistry. oemol.GetTitle(): \n",
      "Problematic atoms are:\n",
      "Atom atomic num: 6, name: , idx: 8, aromatic: False, chiral: True with bonds:\n",
      "bond order: 1, chiral: False to atom atomic num: 6, name: , idx: 5, aromatic: False, chiral: False\n",
      "bond order: 1, chiral: False to atom atomic num: 1, name: , idx: 9, aromatic: False, chiral: False\n",
      "bond order: 1, chiral: False to atom atomic num: 7, name: , idx: 10, aromatic: False, chiral: False\n",
      "bond order: 1, chiral: False to atom atomic num: 8, name: , idx: 21, aromatic: False, chiral: False\n",
      "Atom atomic num: 16, name: , idx: 14, aromatic: False, chiral: True with bonds:\n",
      "bond order: 1, chiral: False to atom atomic num: 7, name: , idx: 13, aromatic: False, chiral: False\n",
      "bond order: 1, chiral: False to atom atomic num: 7, name: , idx: 15, aromatic: False, chiral: False\n",
      "bond order: 1, chiral: False to atom atomic num: 8, name: , idx: 17, aromatic: False, chiral: False\n",
      "Problematic bonds are: [<openeye.oechem.OEBondBase; proxy of <Swig Object of type 'OEChem::OEBondBase *' at 0x7f9eb9aec8d0> >]\n",
      "\n",
      "Warning: OE3DToAtomStereo is unable to perceive atom stereo from a flat geometry on atom 13 of molecule ''\n",
      "Warning: OE3DToAtomStereo had a problem during OEMolToInChIKey when writing ''\n",
      "Warning: OE3DToAtomStereo is unable to perceive atom stereo from a flat geometry on atom 13 of molecule ''\n",
      "Warning: OE3DToAtomStereo had a problem during OEMolToSTDInChI when writing ''\n",
      "Warning: OE3DToAtomStereo is unable to perceive atom stereo from a flat geometry on atom 13 of molecule ''\n",
      "Warning: OE3DToAtomStereo had a problem during OEMolToSTDInChIKey when writing ''\n",
      "Warning: OE3DToAtomStereo is unable to perceive atom stereo from a flat geometry on atom 13 of molecule ''\n",
      "Warning: OE3DToAtomStereo had a problem during OEMolToInChI when writing ''\n",
      "Warning: OE3DToAtomStereo is unable to perceive atom stereo from a flat geometry on atom 13 of molecule ''\n",
      "Warning: OE3DToAtomStereo had a problem during OEMolToInChIKey when writing ''\n",
      "Warning (not error because allow_undefined_stereo=True): OEMol has unspecified stereochemistry. oemol.GetTitle(): \n",
      "Problematic atoms are:\n",
      "Atom atomic num: 16, name: , idx: 14, aromatic: False, chiral: True with bonds:\n",
      "bond order: 1, chiral: False to atom atomic num: 7, name: , idx: 13, aromatic: False, chiral: False\n",
      "bond order: 1, chiral: False to atom atomic num: 7, name: , idx: 15, aromatic: False, chiral: False\n",
      "bond order: 1, chiral: False to atom atomic num: 8, name: , idx: 17, aromatic: False, chiral: False\n",
      "Problematic bonds are: [<openeye.oechem.OEBondBase; proxy of <Swig Object of type 'OEChem::OEBondBase *' at 0x7f9e38a8d720> >]\n",
      "\n",
      "Warning (not error because allow_undefined_stereo=True): OEMol has unspecified stereochemistry. oemol.GetTitle(): \n",
      "Problematic atoms are:\n",
      "Atom atomic num: 16, name: , idx: 12, aromatic: False, chiral: True with bonds:\n",
      "bond order: 1, chiral: False to atom atomic num: 16, name: , idx: 9, aromatic: False, chiral: False\n",
      "bond order: 1, chiral: False to atom atomic num: 1, name: , idx: 13, aromatic: False, chiral: False\n",
      "bond order: 1, chiral: False to atom atomic num: 6, name: , idx: 14, aromatic: False, chiral: False\n",
      "\n",
      "Warning (not error because allow_undefined_stereo=True): OEMol has unspecified stereochemistry. oemol.GetTitle(): \n",
      "Problematic atoms are:\n",
      "Atom atomic num: 16, name: , idx: 16, aromatic: False, chiral: True with bonds:\n",
      "bond order: 1, chiral: False to atom atomic num: 16, name: , idx: 13, aromatic: False, chiral: False\n",
      "bond order: 1, chiral: False to atom atomic num: 6, name: , idx: 17, aromatic: False, chiral: False\n",
      "bond order: 1, chiral: False to atom atomic num: 16, name: , idx: 21, aromatic: False, chiral: False\n",
      "\n",
      "Preparation                   :  42%|████▋      | 42/99 [00:00<00:00, 61.77it/s]Warning (not error because allow_undefined_stereo=True): OEMol has unspecified stereochemistry. oemol.GetTitle(): \n",
      "Problematic atoms are:\n",
      "Atom atomic num: 16, name: , idx: 7, aromatic: False, chiral: True with bonds:\n",
      "bond order: 1, chiral: False to atom atomic num: 6, name: , idx: 4, aromatic: False, chiral: False\n",
      "bond order: 1, chiral: False to atom atomic num: 6, name: , idx: 8, aromatic: False, chiral: False\n",
      "bond order: 1, chiral: False to atom atomic num: 16, name: , idx: 12, aromatic: False, chiral: False\n",
      "\n",
      "Preparation                   :  58%|██████▎    | 57/99 [00:01<00:00, 55.76it/s]Warning (not error because allow_undefined_stereo=True): OEMol has unspecified stereochemistry. oemol.GetTitle(): \n",
      "Problematic atoms are:\n",
      "Atom atomic num: 16, name: , idx: 13, aromatic: False, chiral: True with bonds:\n",
      "bond order: 1, chiral: False to atom atomic num: 6, name: , idx: 12, aromatic: False, chiral: False\n",
      "bond order: 1, chiral: False to atom atomic num: 6, name: , idx: 9, aromatic: False, chiral: False\n",
      "bond order: 2, chiral: False to atom atomic num: 8, name: , idx: 14, aromatic: False, chiral: False\n",
      "\n",
      "Preparation                   :  76%|████████▎  | 75/99 [00:01<00:00, 67.35it/s]Warning (not error because allow_undefined_stereo=True): OEMol has unspecified stereochemistry. oemol.GetTitle(): \n",
      "Problematic bonds are: [<openeye.oechem.OEBondBase; proxy of <Swig Object of type 'OEChem::OEBondBase *' at 0x7f9eba43b450> >]\n",
      "\n",
      "Warning (not error because allow_undefined_stereo=True): OEMol has unspecified stereochemistry. oemol.GetTitle(): \n",
      "Problematic atoms are:\n",
      "Atom atomic num: 6, name: , idx: 13, aromatic: False, chiral: True with bonds:\n",
      "bond order: 1, chiral: False to atom atomic num: 6, name: , idx: 1, aromatic: False, chiral: False\n",
      "bond order: 1, chiral: False to atom atomic num: 1, name: , idx: 14, aromatic: False, chiral: False\n",
      "bond order: 1, chiral: False to atom atomic num: 6, name: , idx: 15, aromatic: False, chiral: False\n",
      "bond order: 1, chiral: False to atom atomic num: 7, name: , idx: 22, aromatic: False, chiral: False\n",
      "Problematic bonds are: [<openeye.oechem.OEBondBase; proxy of <Swig Object of type 'OEChem::OEBondBase *' at 0x7f9eba440540> >]\n",
      "\n",
      "Warning (not error because allow_undefined_stereo=True): OEMol has unspecified stereochemistry. oemol.GetTitle(): \n",
      "Problematic bonds are: [<openeye.oechem.OEBondBase; proxy of <Swig Object of type 'OEChem::OEBondBase *' at 0x7f9eba4742a0> >]\n",
      "\n",
      "Warning (not error because allow_undefined_stereo=True): OEMol has unspecified stereochemistry. oemol.GetTitle(): \n",
      "Problematic atoms are:\n",
      "Atom atomic num: 6, name: , idx: 6, aromatic: False, chiral: True with bonds:\n",
      "bond order: 1, chiral: False to atom atomic num: 6, name: , idx: 5, aromatic: False, chiral: False\n",
      "bond order: 1, chiral: False to atom atomic num: 6, name: , idx: 7, aromatic: False, chiral: True\n",
      "bond order: 1, chiral: False to atom atomic num: 1, name: , idx: 15, aromatic: False, chiral: False\n",
      "bond order: 1, chiral: False to atom atomic num: 7, name: , idx: 16, aromatic: False, chiral: False\n",
      "Atom atomic num: 6, name: , idx: 7, aromatic: False, chiral: True with bonds:\n",
      "bond order: 1, chiral: False to atom atomic num: 6, name: , idx: 6, aromatic: False, chiral: True\n",
      "bond order: 1, chiral: False to atom atomic num: 6, name: , idx: 8, aromatic: False, chiral: False\n",
      "bond order: 1, chiral: False to atom atomic num: 1, name: , idx: 11, aromatic: False, chiral: False\n",
      "bond order: 1, chiral: False to atom atomic num: 7, name: , idx: 12, aromatic: False, chiral: False\n",
      "\n",
      "Warning (not error because allow_undefined_stereo=True): OEMol has unspecified stereochemistry. oemol.GetTitle(): \n",
      "Problematic atoms are:\n",
      "Atom atomic num: 6, name: , idx: 3, aromatic: False, chiral: True with bonds:\n",
      "bond order: 1, chiral: False to atom atomic num: 6, name: , idx: 2, aromatic: False, chiral: False\n",
      "bond order: 1, chiral: False to atom atomic num: 16, name: , idx: 7, aromatic: False, chiral: True\n",
      "bond order: 1, chiral: False to atom atomic num: 6, name: , idx: 4, aromatic: False, chiral: True\n",
      "bond order: 1, chiral: False to atom atomic num: 1, name: , idx: 27, aromatic: False, chiral: False\n",
      "Atom atomic num: 6, name: , idx: 4, aromatic: False, chiral: True with bonds:\n",
      "bond order: 1, chiral: False to atom atomic num: 6, name: , idx: 3, aromatic: False, chiral: True\n",
      "bond order: 1, chiral: False to atom atomic num: 7, name: , idx: 16, aromatic: False, chiral: False\n",
      "bond order: 1, chiral: False to atom atomic num: 6, name: , idx: 5, aromatic: False, chiral: True\n",
      "bond order: 1, chiral: False to atom atomic num: 1, name: , idx: 26, aromatic: False, chiral: False\n",
      "Atom atomic num: 6, name: , idx: 5, aromatic: False, chiral: True with bonds:\n",
      "bond order: 1, chiral: False to atom atomic num: 6, name: , idx: 4, aromatic: False, chiral: True\n",
      "bond order: 1, chiral: False to atom atomic num: 6, name: , idx: 6, aromatic: False, chiral: False\n",
      "bond order: 1, chiral: False to atom atomic num: 7, name: , idx: 13, aromatic: False, chiral: False\n",
      "bond order: 1, chiral: False to atom atomic num: 1, name: , idx: 25, aromatic: False, chiral: False\n",
      "Atom atomic num: 16, name: , idx: 7, aromatic: False, chiral: True with bonds:\n",
      "bond order: 1, chiral: False to atom atomic num: 6, name: , idx: 6, aromatic: False, chiral: False\n",
      "bond order: 1, chiral: False to atom atomic num: 6, name: , idx: 3, aromatic: False, chiral: True\n",
      "bond order: 1, chiral: False to atom atomic num: 6, name: , idx: 8, aromatic: False, chiral: False\n",
      "\n"
     ]
    },
    {
     "name": "stderr",
     "output_type": "stream",
     "text": [
      "Warning (not error because allow_undefined_stereo=True): OEMol has unspecified stereochemistry. oemol.GetTitle(): \n",
      "Problematic atoms are:\n",
      "Atom atomic num: 6, name: , idx: 15, aromatic: False, chiral: True with bonds:\n",
      "bond order: 1, chiral: False to atom atomic num: 6, name: , idx: 12, aromatic: False, chiral: False\n",
      "bond order: 1, chiral: False to atom atomic num: 1, name: , idx: 16, aromatic: False, chiral: False\n",
      "bond order: 1, chiral: False to atom atomic num: 6, name: , idx: 17, aromatic: False, chiral: False\n",
      "bond order: 1, chiral: False to atom atomic num: 7, name: , idx: 21, aromatic: False, chiral: False\n",
      "\n",
      "Preparation                   : 100%|███████████| 99/99 [00:01<00:00, 65.65it/s]\n"
     ]
    }
   ],
   "source": [
    "#debug : there is an issue with generating the dataset, 98 molecules are being filtered. \n",
    "\n",
    "dataset_factory = TorsiondriveDatasetFactory()\n",
    "\n",
    "\n",
    "dataset = dataset_factory.create_dataset(\n",
    "    dataset_name=\"OpenFF multiplicity correction torsion drive data v1.0\",\n",
    "    tagline=\"OpenFF multiplicity correction torsion drive data v1.0\",\n",
    "    description=\"We created new torsion parameters to correct multiplicity issues in the force field. These torsions are for training of the new torsion parameters which do not have preexisting data in the training datasets.\",\n",
    "    molecules=molecules,\n",
    ")\n",
    "\n",
    "dataset.metadata.submitter = \"jmaat\"\n",
    "dataset.metadata.long_description_url = (\n",
    "    \"https://github.com/openforcefield/qca-dataset-submission/tree/master/\"\n",
    "    \"submissions/\"\n",
    "    \"2022-04-29-OpenFF-multiplicity-correction-torsion-drive-data-v1.0\"\n",
    ")"
   ]
  },
  {
   "cell_type": "code",
   "execution_count": 224,
   "metadata": {},
   "outputs": [
    {
     "name": "stdout",
     "output_type": "stream",
     "text": [
      "[Molecule with name '[H]c1c(c(c(c(c1[H])[H])C([H])([H])[C:1]([H])([H])[N:3]([H:4])[N:2]([H])[H])[H])[H]' and SMILES '[H]c1c(c(c(c(c1[H])[H])C([H])([H])C([H])([H])N([H])N([H])[H])[H])[H]']\n"
     ]
    }
   ],
   "source": [
    "dir(dataset)\n",
    "print(list(dataset.molecules))"
   ]
  },
  {
   "cell_type": "markdown",
   "metadata": {},
   "source": [
    "molecules[12]"
   ]
  },
  {
   "cell_type": "code",
   "execution_count": 230,
   "metadata": {},
   "outputs": [
    {
     "name": "stdout",
     "output_type": "stream",
     "text": [
      "Number of unique molecules        1\n",
      "Number of filtered molecules      98\n",
      "Number of torsion drives          1\n",
      "Number of conformers min mean max 4   4.00 4\n",
      "Mean molecular weight: 136.20\n",
      "Max molecular weight: 136.20\n",
      "Charges: [0.0]\n"
     ]
    }
   ],
   "source": [
    "confs = np.array([len(mol.conformers) for mol in dataset.molecules])\n",
    "\n",
    "print(\"Number of unique molecules       \", dataset.n_molecules)\n",
    "print(\"Number of filtered molecules     \", dataset.n_filtered)\n",
    "print(\"Number of torsion drives         \", dataset.n_records)\n",
    "print(\"Number of conformers min mean max\",\n",
    "      confs.min(), \"{:6.2f}\".format(confs.mean()), confs.max())\n",
    "\n",
    "masses = []\n",
    "for molecule in dataset.molecules:\n",
    "    mass = sum(atom.mass.value_in_unit(unit.dalton) for atom in molecule.atoms)\n",
    "    masses.append(mass)\n",
    "\n",
    "print(f'Mean molecular weight: {np.mean(np.array(masses)):.2f}')\n",
    "print(f'Max molecular weight: {np.max(np.array(masses)):.2f}')\n",
    "print(\"Charges:\", sorted(set(m.total_charge/m.total_charge.unit for m in dataset.molecules)))"
   ]
  },
  {
   "cell_type": "code",
   "execution_count": 226,
   "metadata": {},
   "outputs": [
    {
     "name": "stdout",
     "output_type": "stream",
     "text": [
      "{'collection_type': 'TorsionDriveDataset',\n",
      " 'creation_date': datetime.date(2022, 5, 20),\n",
      " 'dataset_name': 'OpenFF multiplicity correction torsion drive data v1.0',\n",
      " 'elements': {'C', 'N', 'H'},\n",
      " 'long_description': 'We created new torsion parameters to correct '\n",
      "                     'multiplicity issues in the force field. These torsions '\n",
      "                     'are for training of the new torsion parameters which do '\n",
      "                     'not have preexisting data in the training datasets.',\n",
      " 'long_description_url': HttpUrl('https://github.com/openforcefield/qca-dataset-submission/tree/master/submissions/2022-04-29-OpenFF-multiplicity-correction-torsion-drive-data-v1.0', scheme='https', host='github.com', tld='com', host_type='domain', port='443', path='/openforcefield/qca-dataset-submission/tree/master/submissions/2022-04-29-OpenFF-multiplicity-correction-torsion-drive-data-v1.0'),\n",
      " 'short_description': 'OpenFF multiplicity correction torsion drive data v1.0',\n",
      " 'submitter': 'jmaat'}\n"
     ]
    }
   ],
   "source": [
    "pprint(dataset.metadata.dict())"
   ]
  },
  {
   "cell_type": "code",
   "execution_count": 227,
   "metadata": {},
   "outputs": [],
   "source": [
    "dataset.priority = 'high'"
   ]
  },
  {
   "cell_type": "code",
   "execution_count": 228,
   "metadata": {},
   "outputs": [
    {
     "name": "stdout",
     "output_type": "stream",
     "text": [
      "Spec: default\n",
      "{'basis': 'DZVP',\n",
      " 'implicit_solvent': None,\n",
      " 'keywords': None,\n",
      " 'maxiter': 200,\n",
      " 'method': 'B3LYP-D3BJ',\n",
      " 'program': 'psi4',\n",
      " 'scf_properties': ['dipole',\n",
      "                    'quadrupole',\n",
      "                    'wiberg_lowdin_indices',\n",
      "                    'mayer_indices'],\n",
      " 'spec_description': 'Standard OpenFF optimization quantum chemistry '\n",
      "                     'specification.',\n",
      " 'spec_name': 'default',\n",
      " 'store_wavefunction': 'none'}\n"
     ]
    }
   ],
   "source": [
    "for spec, obj in dataset.qc_specifications.items():\n",
    "    print(\"Spec:\", spec)\n",
    "    pprint(obj.dict())"
   ]
  },
  {
   "cell_type": "code",
   "execution_count": 229,
   "metadata": {},
   "outputs": [
    {
     "ename": "AttributeError",
     "evalue": "'TorsiondriveDataset' object has no attribute 'scf_properties'",
     "output_type": "error",
     "traceback": [
      "\u001b[0;31m---------------------------------------------------------------------------\u001b[0m",
      "\u001b[0;31mAttributeError\u001b[0m                            Traceback (most recent call last)",
      "Input \u001b[0;32mIn [229]\u001b[0m, in \u001b[0;36m<cell line: 1>\u001b[0;34m()\u001b[0m\n\u001b[0;32m----> 1\u001b[0m \u001b[38;5;28mprint\u001b[39m(\u001b[43mdataset\u001b[49m\u001b[38;5;241;43m.\u001b[39;49m\u001b[43mscf_properties\u001b[49m)\n",
      "\u001b[0;31mAttributeError\u001b[0m: 'TorsiondriveDataset' object has no attribute 'scf_properties'"
     ]
    }
   ],
   "source": [
    "print(dataset.scf_properties)"
   ]
  },
  {
   "cell_type": "code",
   "execution_count": null,
   "metadata": {
    "pycharm": {
     "name": "#%%\n"
    }
   },
   "outputs": [],
   "source": [
    "dataset.export_dataset(\"dataset.json.bz2\")\n",
    "dataset.molecules_to_file(\"dataset.smi\", \"smi\")\n",
    "\n",
    "dataset.visualize(\"dataset.pdf\", columns=8)"
   ]
  },
  {
   "cell_type": "code",
   "execution_count": null,
   "metadata": {},
   "outputs": [],
   "source": []
  }
 ],
 "metadata": {
  "kernelspec": {
   "display_name": "Python 3 (ipykernel)",
   "language": "python",
   "name": "python3"
  },
  "language_info": {
   "codemirror_mode": {
    "name": "ipython",
    "version": 3
   },
   "file_extension": ".py",
   "mimetype": "text/x-python",
   "name": "python",
   "nbconvert_exporter": "python",
   "pygments_lexer": "ipython3",
   "version": "3.8.13"
  }
 },
 "nbformat": 4,
 "nbformat_minor": 2
}
