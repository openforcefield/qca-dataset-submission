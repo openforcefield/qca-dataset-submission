{
 "cells": [
  {
   "cell_type": "code",
   "execution_count": 160,
   "metadata": {},
   "outputs": [
    {
     "name": "stdout",
     "output_type": "stream",
     "text": [
      "t143f\n",
      "CC(=O)[NH2+]S(=O)O\n",
      "C[N+]1(CCCC1)S(=O)O\n",
      "C[N+](C)(C)S(=O)O\n",
      "C[N+](C)(c1ccccc1)S(=O)O\n",
      "[NH3+]S(=O)O\n",
      "t130b\n",
      "C1=CC=C(C=C1)S(=O)(=O)NN\n",
      "CS(=O)(=O)NN(CC)S(=O)(=O)C\n",
      "CCOC1=CC=C(C=C1)S(=O)(=O)NN\n",
      "CN(C)C1=CC=CC2=C1C=CC=C2S(=O)(=O)NN\n",
      "t132b\n",
      "CC(C)NC(=O)C1=CC=C(C=C1)CNNC\n",
      "CCNNC\n",
      "CCNNCS(=O)(=O)C\n",
      "C1=CC=C(C=C1)CCNN\n",
      "c1ccc(cc1)C(=O)CNN\n",
      "t133\n",
      "C1C[N+](CN1)([N+]2(CCNC2)[O-])[O-]\n",
      "C1C[NH+]([NH+]1[O-])[O-]\n",
      "C1CC[N+](CC1)([N+]2(CCCCC2)[O-])[O-]\n",
      "CC[N+](C)([NH+](C(C)(C)C(=O)C)[O-])[O-]\n",
      "CC[NH+]([N+](C)(CC)[O-])[O-]\n",
      "t133a\n",
      "CN(CCC(=O)[O-])[N+](C)(C)C\n",
      "C[N+](C)(C)NCCC(=O)[O-]\n",
      "C[N+](C)(C=C)NCCC(=O)[O-]\n",
      "CN(C)[N+](C)(C)C\n",
      "C[N+](C)(C)NCCS(=O)(=O)[O-]\n",
      "t142b\n",
      "CNSN(C)C(=O)ON\n",
      "CN1C(=O)C=CS1\n",
      "CCCCCCCCN1C(=O)C=CS1\n",
      "C1=CC=C2C(=C1)C(=O)NS2\n",
      "C1CCC(CC1)NSC2=NC3=CC=CC=C3S2\n",
      "t142d\n",
      "C1=N[S+](NC1=N)[O-]\n",
      "CC(=O)O[S+](C)C\n",
      "CCN=C1C(=N[S+](N1)[O-])N\n",
      "C[S+](C)OS(=O)(=O)c1ccccc1\n",
      "c1ccc(cc1)[S+](c2ccccc2)O\n",
      "t142e\n",
      "CN1C(=O)c2cc(c(cc2[S+]1[O-])OC)OC\n",
      "C1(=N[S+](NC1=N)[O-])N\n",
      "CN=C1C(=NCCS)N[S+](N1)[O-]\n",
      "CSCC(N=C1C(=N[S+](N1)[O-])N)O\n",
      "c1cc(oc1)CN=C2C(=N[S+](N2)[O-])N\n",
      "t142f\n",
      "c1ccc(cc1)[S+](c2ccccc2)S(=O)(=O)O\n",
      "C[SH+]S(=O)(=O)c1ccccc1\n",
      "COc1ccccc1S(=O)(=O)[S+](C)S(=O)(=O)C\n",
      "CC[S+](CC)S(=O)(=O)c1ccc[nH]1\n",
      "CC[S+](C)S(=O)(=O)O\n",
      "t142c\n",
      "CC(C(=O)OC)SP(=S)(OC)OC\n",
      "COP(=S)(OC)SCN1C(=O)c2ccccc2C1=O\n",
      "CCOP(=S)(OCC)S\n",
      "CCSP(=S)(OC(C)C)OC(C)C\n",
      "COP(=S)(OC)Sc1ccccc1\n",
      "t143d\n",
      "c1ccc(cc1)C2=NS(=O)ON2\n",
      "C1=NS(=O)ON1\n",
      "Cc1ccs(=O)n1\n",
      "CC(C(=O)C1=NS(=O)ON1)O\n",
      "CCc1cs(=O)nc1N\n",
      "t143e\n",
      "CN(C)S(=O)N(C)c1ccccc1\n",
      "CCOS(=O)NC\n",
      "CCOS(=O)Nc1ccccc1\n",
      "CN(C)S(=O)N(C)C\n",
      "NS(=O)O\n",
      "t122d\n",
      "CC1=CC=C(C=C1)S(=O)C#C\n",
      "CC(C)(C)OC#CS(=O)C1=CC=CC=C1\n",
      "C1=CC=C(C=C1)C2=CN=[C-]S2=O\n",
      "CCCC#CS(=O)C1=CC=C(C=C1)C\n",
      "c1ccc(cc1)S(=O)C#N\n",
      "t122e\n",
      "c1ccc(cc1)S(=O)c2ccccc2\n",
      "c1ccc(cc1)S(=O)c2ccc3c(c2)[nH]c(n3)N\n",
      "c1ccc2c(c1)Sc3ccccc3S2=O\n",
      "Cc1ccc2c(c1)N(C(=O)c3ccccc3S2=O)C\n",
      "c1cc(cc(c1)S(=O)c2cc(cc(c2)N)N)N\n",
      "t122a\n",
      "CC#CS(=O)(=O)C1=CC=CC=C1\n",
      "C1=CC=C(C=C1)S(=O)(=O)C#N\n",
      "CC1=CC=C(C=C1)S(=O)(=O)C#CC2=CC=CC=C2\n",
      "CC#CS(=O)(=O)c1cc(cc(c1)N)N\n",
      "c1c(cc(cc1O)S(=O)(=O)C#N)N\n",
      "t116b\n",
      "C=C[S+]1CCCC1\n",
      "C[S+](C)C=CC(=O)[O-]\n",
      "CCC(C=C[S+](C)C)N\n",
      "C[S+](C)C=CC(=O)Nc1ccccc1\n",
      "C=C[S+]1CC(C(C1)N)N\n",
      "t116c\n",
      "CN1C2C[S+]3CCCC3C2N(C1=O)C\n",
      "C[S+](C)CCC(C(=O)O)N\n",
      "C[S+](C)CCC(=O)[O-]\n",
      "C[S+](C)CCC(=O)Nc1ccccc1\n",
      "C[S+](C)CCc1ccccc1\n",
      "t74a\n",
      "CC(=O)[N-]NC\n",
      "CCC(=O)[N-]C(=O)C\n",
      "CCC(=O)[N-]C\n",
      "CS(=O)(=O)[N-]C(=O)c1ccc(cc1)N\n",
      "CC[N-]C(=O)c1ccncc1\n",
      "t157\n",
      "NS(=O)(=O)O\n",
      "C(CS(=O)(=O)O)N\n",
      "CS(=O)(=O)OCCCCOS(=O)(=O)C\n",
      "OS(=O)(=O)O\n",
      "CC1=CC(=O)NS(=O)(=O)O1\n",
      "t157a\n",
      "OS(=O)O\n",
      "C(CS(=O)O)N\n",
      "C(=N)(N)S(=O)O\n",
      "CCOS(=O)OCC\n",
      "C1COS(=O)O1\n",
      "99\n",
      "20\n",
      "99\n"
     ]
    }
   ],
   "source": [
    "import pickle\n",
    "\n",
    "#load the data\n",
    "#this pickle file contains the torsion id: {'molecule':[dihedral indices]}\n",
    "tid_clusters_list = pickle.load(open('torsion_drive_data.pickle','rb'))\n",
    "count=0\n",
    "keys=0\n",
    "\n",
    "molecule_smiles=[]\n",
    "for key, item in tid_clusters_list.items():\n",
    "    print(key)\n",
    "    keys+=1\n",
    "    for x, key in item.items():\n",
    "        print(x)\n",
    "        molecule_smiles.append(x)\n",
    "        #print(type(item))\n",
    "        count+=1\n",
    "    \n",
    "print(count)\n",
    "print(keys)\n",
    "print(len(set(molecule_smiles)))\n",
    "with open('molecules.smi', 'w') as f:\n",
    "    for i in molecule_smiles:\n",
    "        f.write(i+'\\n')"
   ]
  },
  {
   "cell_type": "code",
   "execution_count": 161,
   "metadata": {},
   "outputs": [],
   "source": [
    "# copied from https://github.com/openforcefield/qca-dataset-submission/blob/master/submissions/2021-03-23-OpenFF-Amide-Torsion-Set-v1.0/generate-dataset.ipynb\n",
    "import logging\n",
    "import warnings\n",
    "from pprint import pprint\n",
    "\n",
    "import numpy as np\n",
    "#from openff.qcsubmit.common_structures import TorsionIndexer\n",
    "from openff.qcsubmit.workflow_components import TorsionIndexer\n",
    "\n",
    "from openff.qcsubmit.factories import TorsiondriveDatasetFactory\n",
    "from openff.toolkit.topology import Molecule\n",
    "\n",
    "#from openforcefield.topology import Molecule\n",
    "#from openforcefield.utils import UndefinedStereochemistryError\n",
    "from openff.toolkit.utils import UndefinedStereochemistryError\n",
    "from simtk import unit\n",
    "from tqdm import tqdm\n",
    "import random"
   ]
  },
  {
   "cell_type": "code",
   "execution_count": 162,
   "metadata": {},
   "outputs": [
    {
     "name": "stdout",
     "output_type": "stream",
     "text": [
      "['Any', 'BaseModel', 'ClassVar', 'ClientHandler', 'CommonBase', 'ComponentProperties', 'DatasetConfig', 'DatasetInputError', 'DefaultProperties', 'Dict', 'DriverEnum', 'Enum', 'Field', 'HttpUrl', 'IndexCleaner', 'List', 'Metadata', 'Model', 'Molecule', 'MoleculeAttributes', 'Optional', 'PCMSettingError', 'PCMSettings', 'PositiveInt', 'QCSpec', 'QCSpecificationError', 'QCSpecificationHandler', 'ResultsConfig', 'SCFProperties', 'Set', 'StrictBool', 'StrictFloat', 'StrictInt', 'StrictStr', 'TDSettings', 'Tuple', 'Union', 'WavefunctionProtocolEnum', '__builtins__', '__cached__', '__doc__', '__file__', '__loader__', '__name__', '__package__', '__spec__', 'constants', 'constr', 'date', 'datetime', 'getpass', 'np', 'ptl', 're', 'split_openff_molecule', 'validator']\n"
     ]
    }
   ],
   "source": [
    "from openff.qcsubmit import common_structures\n",
    "print(dir(common_structures))"
   ]
  },
  {
   "cell_type": "code",
   "execution_count": 163,
   "metadata": {},
   "outputs": [],
   "source": [
    "# Warnings that tell us we have undefined stereo and charged molecules\n",
    "logging.getLogger(\"openforcefield\").setLevel(logging.ERROR)\n",
    "warnings.simplefilter(\"ignore\")"
   ]
  },
  {
   "cell_type": "code",
   "execution_count": 177,
   "metadata": {},
   "outputs": [
    {
     "name": "stderr",
     "output_type": "stream",
     "text": [
      "Warning (not error because allow_undefined_stereo=True): OEMol has unspecified stereochemistry. oemol.GetTitle(): \n",
      "Problematic atoms are:\n",
      "Atom atomic num: 16, name: , idx: 4, aromatic: False, chiral: True with bonds:\n",
      "bond order: 1, chiral: False to atom atomic num: 7, name: , idx: 3, aromatic: False, chiral: False\n",
      "bond order: 2, chiral: False to atom atomic num: 8, name: , idx: 5, aromatic: False, chiral: False\n",
      "bond order: 1, chiral: False to atom atomic num: 8, name: , idx: 6, aromatic: False, chiral: False\n",
      "\n",
      "Warning (not error because allow_undefined_stereo=True): OEMol has unspecified stereochemistry. oemol.GetTitle(): \n",
      "Problematic atoms are:\n",
      "Atom atomic num: 16, name: , idx: 6, aromatic: False, chiral: True with bonds:\n",
      "bond order: 1, chiral: False to atom atomic num: 7, name: , idx: 1, aromatic: False, chiral: False\n",
      "bond order: 2, chiral: False to atom atomic num: 8, name: , idx: 7, aromatic: False, chiral: False\n",
      "bond order: 1, chiral: False to atom atomic num: 8, name: , idx: 8, aromatic: False, chiral: False\n",
      "\n"
     ]
    },
    {
     "name": "stdout",
     "output_type": "stream",
     "text": [
      "(6, 4, 3, 11)\n"
     ]
    },
    {
     "name": "stderr",
     "output_type": "stream",
     "text": [
      "Warning (not error because allow_undefined_stereo=True): OEMol has unspecified stereochemistry. oemol.GetTitle(): \n",
      "Problematic atoms are:\n",
      "Atom atomic num: 16, name: , idx: 4, aromatic: False, chiral: True with bonds:\n",
      "bond order: 1, chiral: False to atom atomic num: 7, name: , idx: 1, aromatic: False, chiral: False\n",
      "bond order: 2, chiral: False to atom atomic num: 8, name: , idx: 5, aromatic: False, chiral: False\n",
      "bond order: 1, chiral: False to atom atomic num: 8, name: , idx: 6, aromatic: False, chiral: False\n",
      "\n"
     ]
    },
    {
     "name": "stdout",
     "output_type": "stream",
     "text": [
      "(2, 1, 6, 8)\n"
     ]
    },
    {
     "name": "stderr",
     "output_type": "stream",
     "text": [
      "Warning (not error because allow_undefined_stereo=True): OEMol has unspecified stereochemistry. oemol.GetTitle(): \n",
      "Problematic atoms are:\n",
      "Atom atomic num: 16, name: , idx: 9, aromatic: False, chiral: True with bonds:\n",
      "bond order: 1, chiral: False to atom atomic num: 7, name: , idx: 1, aromatic: False, chiral: False\n",
      "bond order: 2, chiral: False to atom atomic num: 8, name: , idx: 10, aromatic: False, chiral: False\n",
      "bond order: 1, chiral: False to atom atomic num: 8, name: , idx: 11, aromatic: False, chiral: False\n",
      "\n"
     ]
    },
    {
     "name": "stdout",
     "output_type": "stream",
     "text": [
      "(0, 1, 4, 6)\n"
     ]
    },
    {
     "name": "stderr",
     "output_type": "stream",
     "text": [
      "Warning (not error because allow_undefined_stereo=True): OEMol has unspecified stereochemistry. oemol.GetTitle(): \n",
      "Problematic atoms are:\n",
      "Atom atomic num: 16, name: , idx: 1, aromatic: False, chiral: True with bonds:\n",
      "bond order: 1, chiral: False to atom atomic num: 7, name: , idx: 0, aromatic: False, chiral: False\n",
      "bond order: 2, chiral: False to atom atomic num: 8, name: , idx: 2, aromatic: False, chiral: False\n",
      "bond order: 1, chiral: False to atom atomic num: 8, name: , idx: 3, aromatic: False, chiral: False\n",
      "\n"
     ]
    },
    {
     "name": "stdout",
     "output_type": "stream",
     "text": [
      "(0, 1, 9, 11)\n"
     ]
    },
    {
     "name": "stderr",
     "output_type": "stream",
     "text": [
      "Warning (not error because allow_undefined_stereo=True): OEMol has unspecified stereochemistry. oemol.GetTitle(): \n",
      "Problematic atoms are:\n",
      "Atom atomic num: 7, name: , idx: 5, aromatic: False, chiral: True with bonds:\n",
      "bond order: 1, chiral: False to atom atomic num: 7, name: , idx: 4, aromatic: False, chiral: False\n",
      "bond order: 1, chiral: False to atom atomic num: 6, name: , idx: 6, aromatic: False, chiral: False\n",
      "bond order: 1, chiral: False to atom atomic num: 16, name: , idx: 8, aromatic: False, chiral: False\n",
      "\n"
     ]
    },
    {
     "name": "stdout",
     "output_type": "stream",
     "text": [
      "(3, 1, 0, 5)\n",
      "(6, 9, 10, 17)\n"
     ]
    },
    {
     "name": "stderr",
     "output_type": "stream",
     "text": [
      "Warning (not error because allow_undefined_stereo=True): OEMol has unspecified stereochemistry. oemol.GetTitle(): \n",
      "Problematic atoms are:\n",
      "Atom atomic num: 7, name: , idx: 5, aromatic: False, chiral: True with bonds:\n",
      "bond order: 1, chiral: False to atom atomic num: 6, name: , idx: 3, aromatic: False, chiral: False\n",
      "bond order: 1, chiral: False to atom atomic num: 7, name: , idx: 4, aromatic: False, chiral: False\n",
      "bond order: 1, chiral: False to atom atomic num: 16, name: , idx: 11, aromatic: False, chiral: False\n",
      "\n",
      "Warning (not error because allow_undefined_stereo=True): OEMol has unspecified stereochemistry. oemol.GetTitle(): \n",
      "Problematic atoms are:\n",
      "Atom atomic num: 7, name: , idx: 5, aromatic: False, chiral: True with bonds:\n",
      "bond order: 1, chiral: False to atom atomic num: 6, name: , idx: 3, aromatic: False, chiral: False\n",
      "bond order: 1, chiral: False to atom atomic num: 7, name: , idx: 4, aromatic: False, chiral: False\n",
      "bond order: 1, chiral: False to atom atomic num: 16, name: , idx: 11, aromatic: False, chiral: False\n",
      "\n"
     ]
    },
    {
     "name": "stdout",
     "output_type": "stream",
     "text": [
      "(8, 5, 4, 15)\n",
      "(9, 12, 13, 25)\n",
      "(13, 16, 17, 32)\n",
      "(15, 14, 13, 30)\n",
      "(1, 2, 3, 11)\n",
      "(1, 2, 3, 15)\n"
     ]
    },
    {
     "name": "stderr",
     "output_type": "stream",
     "text": [
      "Warning (not error because allow_undefined_stereo=True): OEMol has unspecified stereochemistry. oemol.GetTitle(): \n",
      "Problematic atoms are:\n",
      "Atom atomic num: 7, name: , idx: 2, aromatic: False, chiral: True with bonds:\n",
      "bond order: 1, chiral: False to atom atomic num: 6, name: , idx: 1, aromatic: False, chiral: False\n",
      "bond order: 1, chiral: False to atom atomic num: 6, name: , idx: 3, aromatic: False, chiral: False\n",
      "bond order: 1, chiral: False to atom atomic num: 7, name: , idx: 5, aromatic: False, chiral: True\n",
      "bond order: 1, chiral: False to atom atomic num: 8, name: , idx: 11, aromatic: False, chiral: False\n",
      "Atom atomic num: 7, name: , idx: 5, aromatic: False, chiral: True with bonds:\n",
      "bond order: 1, chiral: False to atom atomic num: 7, name: , idx: 2, aromatic: False, chiral: True\n",
      "bond order: 1, chiral: False to atom atomic num: 6, name: , idx: 9, aromatic: False, chiral: False\n",
      "bond order: 1, chiral: False to atom atomic num: 6, name: , idx: 6, aromatic: False, chiral: False\n",
      "bond order: 1, chiral: False to atom atomic num: 8, name: , idx: 10, aromatic: False, chiral: False\n",
      "\n"
     ]
    },
    {
     "name": "stdout",
     "output_type": "stream",
     "text": [
      "(7, 8, 9, 20)\n",
      "(8, 9, 10, 20)\n"
     ]
    },
    {
     "name": "stderr",
     "output_type": "stream",
     "text": [
      "Warning (not error because allow_undefined_stereo=True): OEMol has unspecified stereochemistry. oemol.GetTitle(): \n",
      "Problematic atoms are:\n",
      "Atom atomic num: 7, name: , idx: 2, aromatic: False, chiral: True with bonds:\n",
      "bond order: 1, chiral: False to atom atomic num: 6, name: , idx: 1, aromatic: False, chiral: False\n",
      "bond order: 1, chiral: False to atom atomic num: 7, name: , idx: 3, aromatic: False, chiral: True\n",
      "bond order: 1, chiral: False to atom atomic num: 8, name: , idx: 5, aromatic: False, chiral: False\n",
      "bond order: 1, chiral: False to atom atomic num: 1, name: , idx: 10, aromatic: False, chiral: False\n",
      "Atom atomic num: 7, name: , idx: 3, aromatic: False, chiral: True with bonds:\n",
      "bond order: 1, chiral: False to atom atomic num: 7, name: , idx: 2, aromatic: False, chiral: True\n",
      "bond order: 1, chiral: False to atom atomic num: 6, name: , idx: 0, aromatic: False, chiral: False\n",
      "bond order: 1, chiral: False to atom atomic num: 8, name: , idx: 4, aromatic: False, chiral: False\n",
      "bond order: 1, chiral: False to atom atomic num: 1, name: , idx: 11, aromatic: False, chiral: False\n",
      "\n"
     ]
    },
    {
     "name": "stdout",
     "output_type": "stream",
     "text": [
      "(3, 2, 5, 6)\n"
     ]
    },
    {
     "name": "stderr",
     "output_type": "stream",
     "text": [
      "Warning (not error because allow_undefined_stereo=True): OEMol has unspecified stereochemistry. oemol.GetTitle(): \n",
      "Problematic atoms are:\n",
      "Atom atomic num: 7, name: , idx: 2, aromatic: False, chiral: True with bonds:\n",
      "bond order: 1, chiral: False to atom atomic num: 6, name: , idx: 1, aromatic: False, chiral: False\n",
      "bond order: 1, chiral: False to atom atomic num: 6, name: , idx: 3, aromatic: False, chiral: False\n",
      "bond order: 1, chiral: False to atom atomic num: 7, name: , idx: 4, aromatic: False, chiral: True\n",
      "bond order: 1, chiral: False to atom atomic num: 8, name: , idx: 12, aromatic: False, chiral: False\n",
      "Atom atomic num: 7, name: , idx: 4, aromatic: False, chiral: True with bonds:\n",
      "bond order: 1, chiral: False to atom atomic num: 7, name: , idx: 2, aromatic: False, chiral: True\n",
      "bond order: 1, chiral: False to atom atomic num: 6, name: , idx: 5, aromatic: False, chiral: False\n",
      "bond order: 1, chiral: False to atom atomic num: 8, name: , idx: 11, aromatic: False, chiral: False\n",
      "bond order: 1, chiral: False to atom atomic num: 1, name: , idx: 21, aromatic: False, chiral: False\n",
      "\n"
     ]
    },
    {
     "name": "stdout",
     "output_type": "stream",
     "text": [
      "(0, 3, 2, 1)\n",
      "(4, 3, 6, 7)\n"
     ]
    },
    {
     "name": "stderr",
     "output_type": "stream",
     "text": [
      "Warning (not error because allow_undefined_stereo=True): OEMol has unspecified stereochemistry. oemol.GetTitle(): \n",
      "Problematic atoms are:\n",
      "Atom atomic num: 7, name: , idx: 2, aromatic: False, chiral: True with bonds:\n",
      "bond order: 1, chiral: False to atom atomic num: 6, name: , idx: 1, aromatic: False, chiral: False\n",
      "bond order: 1, chiral: False to atom atomic num: 7, name: , idx: 3, aromatic: False, chiral: True\n",
      "bond order: 1, chiral: False to atom atomic num: 8, name: , idx: 8, aromatic: False, chiral: False\n",
      "bond order: 1, chiral: False to atom atomic num: 1, name: , idx: 14, aromatic: False, chiral: False\n",
      "Atom atomic num: 7, name: , idx: 3, aromatic: False, chiral: True with bonds:\n",
      "bond order: 1, chiral: False to atom atomic num: 7, name: , idx: 2, aromatic: False, chiral: True\n",
      "bond order: 1, chiral: False to atom atomic num: 6, name: , idx: 4, aromatic: False, chiral: False\n",
      "bond order: 1, chiral: False to atom atomic num: 6, name: , idx: 5, aromatic: False, chiral: False\n",
      "bond order: 1, chiral: False to atom atomic num: 8, name: , idx: 7, aromatic: False, chiral: False\n",
      "\n"
     ]
    },
    {
     "name": "stdout",
     "output_type": "stream",
     "text": [
      "(1, 2, 4, 5)\n"
     ]
    },
    {
     "name": "stderr",
     "output_type": "stream",
     "text": [
      "Warning (not error because allow_undefined_stereo=True): OEMol has unspecified stereochemistry. oemol.GetTitle(): \n",
      "Problematic atoms are:\n",
      "Atom atomic num: 7, name: , idx: 1, aromatic: False, chiral: True with bonds:\n",
      "bond order: 1, chiral: False to atom atomic num: 6, name: , idx: 0, aromatic: False, chiral: False\n",
      "bond order: 1, chiral: False to atom atomic num: 6, name: , idx: 2, aromatic: False, chiral: False\n",
      "bond order: 1, chiral: False to atom atomic num: 7, name: , idx: 7, aromatic: False, chiral: False\n",
      "\n",
      "Warning (not error because allow_undefined_stereo=True): OEMol has unspecified stereochemistry. oemol.GetTitle(): \n",
      "Problematic atoms are:\n",
      "Atom atomic num: 7, name: , idx: 7, aromatic: False, chiral: True with bonds:\n",
      "bond order: 1, chiral: False to atom atomic num: 6, name: , idx: 1, aromatic: False, chiral: False\n",
      "bond order: 1, chiral: False to atom atomic num: 6, name: , idx: 6, aromatic: False, chiral: False\n",
      "bond order: 1, chiral: False to atom atomic num: 7, name: , idx: 8, aromatic: False, chiral: False\n",
      "\n"
     ]
    },
    {
     "name": "stdout",
     "output_type": "stream",
     "text": [
      "(1, 2, 3, 5)\n"
     ]
    },
    {
     "name": "stderr",
     "output_type": "stream",
     "text": [
      "Warning (not error because allow_undefined_stereo=True): OEMol has unspecified stereochemistry. oemol.GetTitle(): \n",
      "Problematic atoms are:\n",
      "Atom atomic num: 7, name: , idx: 7, aromatic: False, chiral: True with bonds:\n",
      "bond order: 1, chiral: False to atom atomic num: 6, name: , idx: 1, aromatic: False, chiral: False\n",
      "bond order: 1, chiral: False to atom atomic num: 6, name: , idx: 6, aromatic: False, chiral: False\n",
      "bond order: 1, chiral: False to atom atomic num: 7, name: , idx: 8, aromatic: False, chiral: False\n",
      "\n"
     ]
    },
    {
     "name": "stdout",
     "output_type": "stream",
     "text": [
      "(0, 1, 7, 8)\n",
      "(3, 1, 4, 5)\n",
      "(0, 1, 5, 6)\n",
      "(0, 1, 3, 6)\n",
      "(2, 1, 4, 5)\n",
      "(0, 1, 2, 3)\n",
      "(0, 1, 6, 5)\n"
     ]
    },
    {
     "name": "stderr",
     "output_type": "stream",
     "text": [
      "Warning (not error because allow_undefined_stereo=True): OEMol has unspecified stereochemistry. oemol.GetTitle(): \n",
      "Problematic atoms are:\n",
      "Atom atomic num: 16, name: , idx: 2, aromatic: False, chiral: True with bonds:\n",
      "bond order: 1, chiral: False to atom atomic num: 7, name: , idx: 1, aromatic: False, chiral: False\n",
      "bond order: 1, chiral: False to atom atomic num: 7, name: , idx: 3, aromatic: False, chiral: False\n",
      "bond order: 1, chiral: False to atom atomic num: 8, name: , idx: 6, aromatic: False, chiral: False\n",
      "Problematic bonds are: [<openeye.oechem.OEBondBase; proxy of <Swig Object of type 'OEChem::OEBondBase *' at 0x7f9eba3e0750> >]\n",
      "\n"
     ]
    },
    {
     "name": "stdout",
     "output_type": "stream",
     "text": [
      "(9, 8, 13, 12)\n",
      "(3, 9, 8, 14)\n",
      "(8, 7, 6, 28)\n"
     ]
    },
    {
     "name": "stderr",
     "output_type": "stream",
     "text": [
      "Warning: OEMMFFParams::PrepMol() : unable to type atom 2 S \n",
      "Warning: : Force field setup failed due to missing parameters\n",
      "Warning: OEMMFFParams::PrepMol() : unable to type atom 2 S \n",
      "Warning: : Force field setup failed due to missing parameters\n",
      "Warning: OEMMFFParams::PrepMol() : unable to type atom 2 S \n",
      "Warning: : Force field setup failed due to missing parameters\n",
      "Warning: OEMMFFParams::PrepMol() : unable to type atom 2 S \n",
      "Warning: : Force field setup failed due to missing parameters\n",
      "Warning (not error because allow_undefined_stereo=True): OEMol has unspecified stereochemistry. oemol.GetTitle(): \n",
      "Problematic atoms are:\n",
      "Atom atomic num: 16, name: , idx: 6, aromatic: False, chiral: True with bonds:\n",
      "bond order: 1, chiral: False to atom atomic num: 7, name: , idx: 2, aromatic: False, chiral: False\n",
      "bond order: 1, chiral: False to atom atomic num: 7, name: , idx: 4, aromatic: False, chiral: False\n",
      "bond order: 1, chiral: False to atom atomic num: 8, name: , idx: 5, aromatic: False, chiral: False\n",
      "Problematic bonds are: [<openeye.oechem.OEBondBase; proxy of <Swig Object of type 'OEChem::OEBondBase *' at 0x7f9eb9af9540> >]\n",
      "\n",
      "Warning: : Failed due to unspecified stereochemistry\n",
      "Warning: OEMMFFParams::PrepMol() : unable to type atom 6 S \n",
      "Warning: : Force field setup failed due to missing parameters\n",
      "Warning (not error because allow_undefined_stereo=True): Unable to make OFFMol from RDMol: RDMol has unspecified stereochemistry. RDMol name: Undefined chiral centers are:\n",
      " - Atom S (index 6)\n",
      "Bonds with undefined stereochemistry are:\n",
      " - Bond 2 (atoms 1-3 of element (C-N)\n",
      "\n",
      "Warning: OEMMFFParams::PrepMol() : unable to type atom 6 S \n",
      "Warning: : Force field setup failed due to missing parameters\n",
      "Warning: OEMMFFParams::PrepMol() : unable to type atom 6 S \n",
      "Warning: : Force field setup failed due to missing parameters\n",
      "[13:56:12] UFFTYPER: Unrecognized charge state for atom: 6\n",
      "Warning (not error because allow_undefined_stereo=True): OEMol has unspecified stereochemistry. oemol.GetTitle(): \n",
      "Problematic atoms are:\n",
      "Atom atomic num: 16, name: , idx: 6, aromatic: False, chiral: True with bonds:\n",
      "bond order: 1, chiral: False to atom atomic num: 7, name: , idx: 5, aromatic: False, chiral: False\n",
      "bond order: 1, chiral: False to atom atomic num: 7, name: , idx: 7, aromatic: False, chiral: False\n",
      "bond order: 1, chiral: False to atom atomic num: 8, name: , idx: 8, aromatic: False, chiral: False\n",
      "Problematic bonds are: [<openeye.oechem.OEBondBase; proxy of <Swig Object of type 'OEChem::OEBondBase *' at 0x7f9eba3e0930> >]\n",
      "\n",
      "Warning: OEMMFFParams::PrepMol() : unable to type atom 6 S \n",
      "Warning: : Force field setup failed due to missing parameters\n"
     ]
    },
    {
     "name": "stdout",
     "output_type": "stream",
     "text": [
      "(0, 1, 2, 3)\n",
      "(1, 3, 4, 6)\n"
     ]
    },
    {
     "name": "stderr",
     "output_type": "stream",
     "text": [
      "Warning: OEMMFFParams::PrepMol() : unable to type atom 6 S \n",
      "Warning: : Force field setup failed due to missing parameters\n",
      "Warning: OEMMFFParams::PrepMol() : unable to type atom 6 S \n",
      "Warning: : Force field setup failed due to missing parameters\n",
      "Warning: OEMMFFParams::PrepMol() : unable to type atom 6 S \n",
      "Warning: : Force field setup failed due to missing parameters\n",
      "Warning (not error because allow_undefined_stereo=True): OEMol has unspecified stereochemistry. oemol.GetTitle(): \n",
      "Problematic atoms are:\n",
      "Atom atomic num: 16, name: , idx: 9, aromatic: False, chiral: True with bonds:\n",
      "bond order: 1, chiral: False to atom atomic num: 7, name: , idx: 4, aromatic: False, chiral: False\n",
      "bond order: 1, chiral: False to atom atomic num: 7, name: , idx: 6, aromatic: False, chiral: False\n",
      "bond order: 1, chiral: False to atom atomic num: 8, name: , idx: 8, aromatic: False, chiral: False\n",
      "Problematic bonds are: [<openeye.oechem.OEBondBase; proxy of <Swig Object of type 'OEChem::OEBondBase *' at 0x7f9e386e58d0> >]\n",
      "\n",
      "Warning: : Failed due to unspecified stereochemistry\n",
      "Warning: OEMMFFParams::PrepMol() : unable to type atom 9 S \n",
      "Warning: : Force field setup failed due to missing parameters\n",
      "Warning (not error because allow_undefined_stereo=True): Unable to make OFFMol from RDMol: RDMol has unspecified stereochemistry. RDMol name: Undefined chiral centers are:\n",
      " - Atom S (index 9)\n",
      "Bonds with undefined stereochemistry are:\n",
      " - Bond 3 (atoms 1-5 of element (C-N)\n",
      "\n",
      "Warning: OEMMFFParams::PrepMol() : unable to type atom 11 S \n",
      "Warning: : Force field setup failed due to missing parameters\n",
      "Warning: OEMMFFParams::PrepMol() : unable to type atom 11 S \n",
      "Warning: : Force field setup failed due to missing parameters\n",
      "[13:56:12] UFFTYPER: Unrecognized charge state for atom: 11\n"
     ]
    },
    {
     "name": "stdout",
     "output_type": "stream",
     "text": [
      "(4, 5, 6, 8)\n",
      "(2, 1, 3, 4)\n"
     ]
    },
    {
     "name": "stderr",
     "output_type": "stream",
     "text": [
      "Warning: OEMMFFParams::PrepMol() : unable to type atom 13 S \n",
      "Warning: : Force field setup failed due to missing parameters\n",
      "Warning: OEMMFFParams::PrepMol() : unable to type atom 13 S \n",
      "Warning: : Force field setup failed due to missing parameters\n",
      "[13:56:12] UFFTYPER: Unrecognized charge state for atom: 13\n",
      "Warning (not error because allow_undefined_stereo=True): OEMol has unspecified stereochemistry. oemol.GetTitle(): \n",
      "Problematic atoms are:\n",
      "Atom atomic num: 16, name: , idx: 10, aromatic: False, chiral: True with bonds:\n",
      "bond order: 1, chiral: False to atom atomic num: 6, name: , idx: 9, aromatic: True, chiral: False\n",
      "bond order: 1, chiral: False to atom atomic num: 7, name: , idx: 1, aromatic: False, chiral: False\n",
      "bond order: 1, chiral: False to atom atomic num: 8, name: , idx: 11, aromatic: False, chiral: False\n",
      "\n",
      "Warning: OEMMFFParams::PrepMol() : unable to type atom 10 S \n",
      "Warning: : Force field setup failed due to missing parameters\n",
      "Warning: OEMMFFParams::PrepMol() : unable to type atom 10 S \n",
      "Warning: : Force field setup failed due to missing parameters\n",
      "Warning (not error because allow_undefined_stereo=True): OEMol has unspecified stereochemistry. oemol.GetTitle(): \n",
      "Problematic atoms are:\n",
      "Atom atomic num: 16, name: , idx: 15, aromatic: False, chiral: True with bonds:\n",
      "bond order: 1, chiral: False to atom atomic num: 6, name: , idx: 5, aromatic: True, chiral: False\n",
      "bond order: 1, chiral: False to atom atomic num: 7, name: , idx: 10, aromatic: False, chiral: False\n",
      "bond order: 1, chiral: False to atom atomic num: 8, name: , idx: 11, aromatic: False, chiral: False\n",
      "\n"
     ]
    },
    {
     "name": "stdout",
     "output_type": "stream",
     "text": [
      "(3, 6, 13, 24)\n"
     ]
    },
    {
     "name": "stderr",
     "output_type": "stream",
     "text": [
      "Warning: : Failed due to unspecified stereochemistry\n",
      "Warning: OEMMFFParams::PrepMol() : unable to type atom 15 S \n",
      "Warning: : Force field setup failed due to missing parameters\n",
      "Warning (not error because allow_undefined_stereo=True): Unable to make OFFMol from RDMol: RDMol has unspecified stereochemistry. RDMol name: Undefined chiral centers are:\n",
      " - Atom S (index 15)\n",
      "\n",
      "Warning (not error because allow_undefined_stereo=True): OEMol has unspecified stereochemistry. oemol.GetTitle(): \n",
      "Problematic atoms are:\n",
      "Atom atomic num: 16, name: , idx: 2, aromatic: False, chiral: True with bonds:\n",
      "bond order: 1, chiral: False to atom atomic num: 7, name: , idx: 1, aromatic: False, chiral: False\n",
      "bond order: 1, chiral: False to atom atomic num: 7, name: , idx: 3, aromatic: False, chiral: False\n",
      "bond order: 1, chiral: False to atom atomic num: 8, name: , idx: 6, aromatic: False, chiral: False\n",
      "Problematic bonds are: [<openeye.oechem.OEBondBase; proxy of <Swig Object of type 'OEChem::OEBondBase *' at 0x7f9e388c6210> >]\n",
      "\n",
      "Warning: OEMMFFParams::PrepMol() : unable to type atom 2 S \n",
      "Warning: : Force field setup failed due to missing parameters\n",
      "Warning: OEMMFFParams::PrepMol() : unable to type atom 2 S \n",
      "Warning: : Force field setup failed due to missing parameters\n"
     ]
    },
    {
     "name": "stdout",
     "output_type": "stream",
     "text": [
      "(2, 1, 10, 9)\n"
     ]
    },
    {
     "name": "stderr",
     "output_type": "stream",
     "text": [
      "Warning: OEMMFFParams::PrepMol() : unable to type atom 2 S \n",
      "Warning: : Force field setup failed due to missing parameters\n",
      "Warning: OEMMFFParams::PrepMol() : unable to type atom 2 S \n",
      "Warning: : Force field setup failed due to missing parameters\n",
      "Warning (not error because allow_undefined_stereo=True): OEMol has unspecified stereochemistry. oemol.GetTitle(): \n",
      "Problematic atoms are:\n",
      "Atom atomic num: 16, name: , idx: 7, aromatic: False, chiral: True with bonds:\n",
      "bond order: 1, chiral: False to atom atomic num: 7, name: , idx: 2, aromatic: False, chiral: False\n",
      "bond order: 1, chiral: False to atom atomic num: 7, name: , idx: 4, aromatic: False, chiral: False\n",
      "bond order: 1, chiral: False to atom atomic num: 8, name: , idx: 6, aromatic: False, chiral: False\n",
      "Problematic bonds are: [<openeye.oechem.OEBondBase; proxy of <Swig Object of type 'OEChem::OEBondBase *' at 0x7f9e3861a4b0> >]\n",
      "\n",
      "Warning: : Failed due to unspecified stereochemistry\n",
      "Warning: OEMMFFParams::PrepMol() : unable to type atom 7 S \n",
      "Warning: : Force field setup failed due to missing parameters\n",
      "Warning (not error because allow_undefined_stereo=True): Unable to make OFFMol from RDMol: RDMol has unspecified stereochemistry. RDMol name: Undefined chiral centers are:\n",
      " - Atom S (index 7)\n",
      "Bonds with undefined stereochemistry are:\n",
      " - Bond 3 (atoms 1-3 of element (C-N)\n",
      "\n",
      "Warning (not error because allow_undefined_stereo=True): OEMol has unspecified stereochemistry. oemol.GetTitle(): \n",
      "Problematic atoms are:\n",
      "Atom atomic num: 16, name: , idx: 9, aromatic: False, chiral: True with bonds:\n",
      "bond order: 1, chiral: False to atom atomic num: 7, name: , idx: 8, aromatic: False, chiral: False\n",
      "bond order: 1, chiral: False to atom atomic num: 7, name: , idx: 10, aromatic: False, chiral: False\n",
      "bond order: 1, chiral: False to atom atomic num: 8, name: , idx: 11, aromatic: False, chiral: False\n",
      "Problematic bonds are: [<openeye.oechem.OEBondBase; proxy of <Swig Object of type 'OEChem::OEBondBase *' at 0x7f9eb93fbd50> >, <openeye.oechem.OEBondBase; proxy of <Swig Object of type 'OEChem::OEBondBase *' at 0x7f9eb93fb8a0> >]\n",
      "\n",
      "Warning: OEMMFFParams::PrepMol() : unable to type atom 9 S \n",
      "Warning: : Force field setup failed due to missing parameters\n",
      "Warning: OEMMFFParams::PrepMol() : unable to type atom 9 S \n",
      "Warning: : Force field setup failed due to missing parameters\n"
     ]
    },
    {
     "name": "stdout",
     "output_type": "stream",
     "text": [
      "(1, 2, 3, 8)\n"
     ]
    },
    {
     "name": "stderr",
     "output_type": "stream",
     "text": [
      "Warning: OEMMFFParams::PrepMol() : unable to type atom 9 S \n",
      "Warning: : Force field setup failed due to missing parameters\n",
      "Warning: OEMMFFParams::PrepMol() : unable to type atom 9 S \n",
      "Warning: : Force field setup failed due to missing parameters\n",
      "Warning: OEMMFFParams::PrepMol() : unable to type atom 9 S \n",
      "Warning: : Force field setup failed due to missing parameters\n",
      "Warning: OEMMFFParams::PrepMol() : unable to type atom 9 S \n",
      "Warning: : Force field setup failed due to missing parameters\n",
      "Warning: OEMMFFParams::PrepMol() : unable to type atom 9 S \n",
      "Warning: : Force field setup failed due to missing parameters\n",
      "Warning: OEMMFFParams::PrepMol() : unable to type atom 9 S \n",
      "Warning: : Force field setup failed due to missing parameters\n",
      "Warning (not error because allow_undefined_stereo=True): OEMol has unspecified stereochemistry. oemol.GetTitle(): \n",
      "Problematic atoms are:\n",
      "Atom atomic num: 16, name: , idx: 11, aromatic: False, chiral: True with bonds:\n",
      "bond order: 1, chiral: False to atom atomic num: 7, name: , idx: 7, aromatic: False, chiral: False\n",
      "bond order: 1, chiral: False to atom atomic num: 7, name: , idx: 8, aromatic: False, chiral: False\n",
      "bond order: 1, chiral: False to atom atomic num: 8, name: , idx: 9, aromatic: False, chiral: False\n",
      "Problematic bonds are: [<openeye.oechem.OEBondBase; proxy of <Swig Object of type 'OEChem::OEBondBase *' at 0x7f9e9b6a46c0> >, <openeye.oechem.OEBondBase; proxy of <Swig Object of type 'OEChem::OEBondBase *' at 0x7f9e9b6a4c90> >]\n",
      "\n",
      "Warning: : Failed due to unspecified stereochemistry\n",
      "Warning: OEMMFFParams::PrepMol() : unable to type atom 11 S \n",
      "Warning: : Force field setup failed due to missing parameters\n",
      "Warning (not error because allow_undefined_stereo=True): Unable to make OFFMol from RDMol: RDMol has unspecified stereochemistry. RDMol name: Undefined chiral centers are:\n",
      " - Atom S (index 11)\n",
      "Bonds with undefined stereochemistry are:\n",
      " - Bond 1 (atoms 0-5 of element (C-N)\n",
      " - Bond 3 (atoms 1-6 of element (C-N)\n",
      "\n",
      "Warning (not error because allow_undefined_stereo=True): OEMol has unspecified stereochemistry. oemol.GetTitle(): \n",
      "Problematic atoms are:\n",
      "Atom atomic num: 6, name: , idx: 3, aromatic: False, chiral: True with bonds:\n",
      "bond order: 1, chiral: False to atom atomic num: 6, name: , idx: 2, aromatic: False, chiral: False\n",
      "bond order: 1, chiral: False to atom atomic num: 7, name: , idx: 4, aromatic: False, chiral: False\n",
      "bond order: 1, chiral: False to atom atomic num: 8, name: , idx: 12, aromatic: False, chiral: False\n",
      "bond order: 1, chiral: False to atom atomic num: 1, name: , idx: 18, aromatic: False, chiral: False\n",
      "Atom atomic num: 16, name: , idx: 8, aromatic: False, chiral: True with bonds:\n",
      "bond order: 1, chiral: False to atom atomic num: 7, name: , idx: 7, aromatic: False, chiral: False\n",
      "bond order: 1, chiral: False to atom atomic num: 7, name: , idx: 9, aromatic: False, chiral: False\n",
      "bond order: 1, chiral: False to atom atomic num: 8, name: , idx: 10, aromatic: False, chiral: False\n",
      "Problematic bonds are: [<openeye.oechem.OEBondBase; proxy of <Swig Object of type 'OEChem::OEBondBase *' at 0x7f9e9b6a4390> >]\n",
      "\n",
      "Warning: OEMMFFParams::PrepMol() : unable to type atom 8 S \n",
      "Warning: : Force field setup failed due to missing parameters\n",
      "Warning: OEMMFFParams::PrepMol() : unable to type atom 8 S \n",
      "Warning: : Force field setup failed due to missing parameters\n"
     ]
    },
    {
     "name": "stdout",
     "output_type": "stream",
     "text": [
      "(8, 9, 10, 21)\n"
     ]
    },
    {
     "name": "stderr",
     "output_type": "stream",
     "text": [
      "Warning: OEMMFFParams::PrepMol() : unable to type atom 8 S \n",
      "Warning: : Force field setup failed due to missing parameters\n",
      "Warning: OEMMFFParams::PrepMol() : unable to type atom 8 S \n",
      "Warning: : Force field setup failed due to missing parameters\n",
      "Warning: OEMMFFParams::PrepMol() : unable to type atom 8 S \n",
      "Warning: : Force field setup failed due to missing parameters\n",
      "Warning: OEMMFFParams::PrepMol() : unable to type atom 8 S \n",
      "Warning: : Force field setup failed due to missing parameters\n",
      "Warning: OEMMFFParams::PrepMol() : unable to type atom 8 S \n",
      "Warning: : Force field setup failed due to missing parameters\n",
      "Warning: OEMMFFParams::PrepMol() : unable to type atom 8 S \n",
      "Warning: : Force field setup failed due to missing parameters\n",
      "Warning (not error because allow_undefined_stereo=True): OEMol has unspecified stereochemistry. oemol.GetTitle(): \n",
      "Problematic atoms are:\n",
      "Atom atomic num: 6, name: , idx: 4, aromatic: False, chiral: True with bonds:\n",
      "bond order: 1, chiral: False to atom atomic num: 1, name: , idx: 18, aromatic: False, chiral: False\n",
      "bond order: 1, chiral: False to atom atomic num: 6, name: , idx: 3, aromatic: False, chiral: False\n",
      "bond order: 1, chiral: False to atom atomic num: 7, name: , idx: 6, aromatic: False, chiral: False\n",
      "bond order: 1, chiral: False to atom atomic num: 8, name: , idx: 10, aromatic: False, chiral: False\n",
      "Atom atomic num: 16, name: , idx: 12, aromatic: False, chiral: True with bonds:\n",
      "bond order: 1, chiral: False to atom atomic num: 7, name: , idx: 5, aromatic: False, chiral: False\n",
      "bond order: 1, chiral: False to atom atomic num: 7, name: , idx: 7, aromatic: False, chiral: False\n",
      "bond order: 1, chiral: False to atom atomic num: 8, name: , idx: 9, aromatic: False, chiral: False\n",
      "Problematic bonds are: [<openeye.oechem.OEBondBase; proxy of <Swig Object of type 'OEChem::OEBondBase *' at 0x7f9eb9b86900> >]\n",
      "\n",
      "Warning: : Failed due to unspecified stereochemistry\n",
      "Warning: OEMMFFParams::PrepMol() : unable to type atom 12 S \n",
      "Warning: : Force field setup failed due to missing parameters\n",
      "Warning (not error because allow_undefined_stereo=True): Unable to make OFFMol from RDMol: RDMol has unspecified stereochemistry. RDMol name: Undefined chiral centers are:\n",
      " - Atom C (index 4)\n",
      " - Atom S (index 12)\n",
      "Bonds with undefined stereochemistry are:\n",
      " - Bond 3 (atoms 1-6 of element (C-N)\n",
      "\n",
      "Warning (not error because allow_undefined_stereo=True): OEMol has unspecified stereochemistry. oemol.GetTitle(): \n",
      "Problematic atoms are:\n",
      "Atom atomic num: 16, name: , idx: 10, aromatic: False, chiral: True with bonds:\n",
      "bond order: 1, chiral: False to atom atomic num: 7, name: , idx: 9, aromatic: False, chiral: False\n",
      "bond order: 1, chiral: False to atom atomic num: 7, name: , idx: 11, aromatic: False, chiral: False\n",
      "bond order: 1, chiral: False to atom atomic num: 8, name: , idx: 12, aromatic: False, chiral: False\n",
      "Problematic bonds are: [<openeye.oechem.OEBondBase; proxy of <Swig Object of type 'OEChem::OEBondBase *' at 0x7f9eb9b86660> >]\n",
      "\n",
      "Warning: OEMMFFParams::PrepMol() : unable to type atom 10 S \n",
      "Warning: : Force field setup failed due to missing parameters\n",
      "Warning: OEMMFFParams::PrepMol() : unable to type atom 10 S \n",
      "Warning: : Force field setup failed due to missing parameters\n"
     ]
    },
    {
     "name": "stdout",
     "output_type": "stream",
     "text": [
      "(5, 9, 8, 10)\n"
     ]
    },
    {
     "name": "stderr",
     "output_type": "stream",
     "text": [
      "Warning: OEMMFFParams::PrepMol() : unable to type atom 10 S \n",
      "Warning: : Force field setup failed due to missing parameters\n",
      "Warning: OEMMFFParams::PrepMol() : unable to type atom 10 S \n",
      "Warning: : Force field setup failed due to missing parameters\n",
      "Warning (not error because allow_undefined_stereo=True): OEMol has unspecified stereochemistry. oemol.GetTitle(): \n",
      "Problematic atoms are:\n",
      "Atom atomic num: 16, name: , idx: 13, aromatic: False, chiral: True with bonds:\n",
      "bond order: 1, chiral: False to atom atomic num: 7, name: , idx: 7, aromatic: False, chiral: False\n",
      "bond order: 1, chiral: False to atom atomic num: 7, name: , idx: 9, aromatic: False, chiral: False\n",
      "bond order: 1, chiral: False to atom atomic num: 8, name: , idx: 11, aromatic: False, chiral: False\n",
      "Problematic bonds are: [<openeye.oechem.OEBondBase; proxy of <Swig Object of type 'OEChem::OEBondBase *' at 0x7f9eb9b8e660> >]\n",
      "\n",
      "Warning: : Failed due to unspecified stereochemistry\n",
      "Warning: OEMMFFParams::PrepMol() : unable to type atom 13 S \n",
      "Warning: : Force field setup failed due to missing parameters\n",
      "Warning (not error because allow_undefined_stereo=True): Unable to make OFFMol from RDMol: RDMol has unspecified stereochemistry. RDMol name: Undefined chiral centers are:\n",
      " - Atom S (index 13)\n",
      "Bonds with undefined stereochemistry are:\n",
      " - Bond 9 (atoms 5-8 of element (C-N)\n",
      "\n",
      "Warning: OEMMFFParams::PrepMol() : unable to type atom 15 S \n",
      "Warning: : Force field setup failed due to missing parameters\n",
      "Warning: OEMMFFParams::PrepMol() : unable to type atom 15 S \n",
      "Warning: : Force field setup failed due to missing parameters\n",
      "[13:56:15] UFFTYPER: Unrecognized charge state for atom: 15\n",
      "Warning (not error because allow_undefined_stereo=True): OEMol has unspecified stereochemistry. oemol.GetTitle(): \n",
      "Problematic atoms are:\n",
      "Atom atomic num: 16, name: , idx: 1, aromatic: False, chiral: True with bonds:\n",
      "bond order: 1, chiral: False to atom atomic num: 6, name: , idx: 0, aromatic: False, chiral: False\n",
      "bond order: 1, chiral: False to atom atomic num: 16, name: , idx: 2, aromatic: False, chiral: False\n",
      "bond order: 1, chiral: False to atom atomic num: 1, name: , idx: 14, aromatic: False, chiral: False\n",
      "\n"
     ]
    },
    {
     "name": "stdout",
     "output_type": "stream",
     "text": [
      "(9, 10, 11, 19)\n",
      "(7, 6, 13, 16)\n"
     ]
    },
    {
     "name": "stderr",
     "output_type": "stream",
     "text": [
      "Warning: OEMMFFParams::PrepMol() : unable to type atom 1 S \n",
      "Warning: OEMMFFParams::PrepMol() : unable to type atom 14 H \n",
      "Warning: : Force field setup failed due to missing parameters\n",
      "Warning: OEMMFFParams::PrepMol() : unable to type atom 1 S \n",
      "Warning: OEMMFFParams::PrepMol() : unable to type atom 14 H \n",
      "Warning: : Force field setup failed due to missing parameters\n",
      "Warning (not error because allow_undefined_stereo=True): OEMol has unspecified stereochemistry. oemol.GetTitle(): \n",
      "Problematic atoms are:\n",
      "Atom atomic num: 16, name: , idx: 9, aromatic: False, chiral: True with bonds:\n",
      "bond order: 1, chiral: False to atom atomic num: 1, name: , idx: 19, aromatic: False, chiral: False\n",
      "bond order: 1, chiral: False to atom atomic num: 6, name: , idx: 6, aromatic: False, chiral: False\n",
      "bond order: 1, chiral: False to atom atomic num: 16, name: , idx: 10, aromatic: False, chiral: False\n",
      "\n",
      "Warning: : Failed due to unspecified stereochemistry\n",
      "Warning: OEMMFFParams::PrepMol() : unable to type atom 9 S \n",
      "Warning: OEMMFFParams::PrepMol() : unable to type atom 19 H \n",
      "Warning: : Force field setup failed due to missing parameters\n",
      "[13:56:15] UFFTYPER: Unrecognized charge state for atom: 9\n",
      "Warning (not error because allow_undefined_stereo=True): Unable to make OFFMol from RDMol: RDMol has unspecified stereochemistry. RDMol name: Undefined chiral centers are:\n",
      " - Atom S (index 9)\n",
      "\n",
      "Warning (not error because allow_undefined_stereo=True): OEMol has unspecified stereochemistry. oemol.GetTitle(): \n",
      "Problematic atoms are:\n",
      "Atom atomic num: 16, name: , idx: 11, aromatic: False, chiral: True with bonds:\n",
      "bond order: 1, chiral: False to atom atomic num: 16, name: , idx: 8, aromatic: False, chiral: False\n",
      "bond order: 1, chiral: False to atom atomic num: 6, name: , idx: 12, aromatic: False, chiral: False\n",
      "bond order: 1, chiral: False to atom atomic num: 16, name: , idx: 13, aromatic: False, chiral: False\n",
      "\n",
      "Warning: OEMMFFParams::PrepMol() : unable to type atom 11 S \n",
      "Warning: : Force field setup failed due to missing parameters\n",
      "Warning: OEMMFFParams::PrepMol() : unable to type atom 11 S \n",
      "Warning: : Force field setup failed due to missing parameters\n",
      "Warning (not error because allow_undefined_stereo=True): OEMol has unspecified stereochemistry. oemol.GetTitle(): \n",
      "Problematic atoms are:\n",
      "Atom atomic num: 16, name: , idx: 14, aromatic: False, chiral: True with bonds:\n",
      "bond order: 1, chiral: False to atom atomic num: 6, name: , idx: 7, aromatic: False, chiral: False\n",
      "bond order: 1, chiral: False to atom atomic num: 16, name: , idx: 15, aromatic: False, chiral: False\n",
      "bond order: 1, chiral: False to atom atomic num: 16, name: , idx: 16, aromatic: False, chiral: False\n",
      "\n"
     ]
    },
    {
     "name": "stdout",
     "output_type": "stream",
     "text": [
      "(0, 1, 2, 4)\n"
     ]
    },
    {
     "name": "stderr",
     "output_type": "stream",
     "text": [
      "Warning: : Failed due to unspecified stereochemistry\n",
      "Warning: OEMMFFParams::PrepMol() : unable to type atom 14 S \n",
      "Warning: : Force field setup failed due to missing parameters\n",
      "[13:56:15] UFFTYPER: Unrecognized charge state for atom: 14\n",
      "Warning (not error because allow_undefined_stereo=True): Unable to make OFFMol from RDMol: RDMol has unspecified stereochemistry. RDMol name: Undefined chiral centers are:\n",
      " - Atom S (index 14)\n",
      "\n",
      "Warning: OEMMFFParams::PrepMol() : unable to type atom 11 S \n",
      "Warning: : Force field setup failed due to missing parameters\n",
      "Warning: OEMMFFParams::PrepMol() : unable to type atom 11 S \n",
      "Warning: : Force field setup failed due to missing parameters\n",
      "[13:56:15] UFFTYPER: Unrecognized charge state for atom: 11\n",
      "Warning (not error because allow_undefined_stereo=True): OEMol has unspecified stereochemistry. oemol.GetTitle(): \n",
      "Problematic atoms are:\n",
      "Atom atomic num: 16, name: , idx: 2, aromatic: False, chiral: True with bonds:\n",
      "bond order: 1, chiral: False to atom atomic num: 6, name: , idx: 1, aromatic: False, chiral: False\n",
      "bond order: 1, chiral: False to atom atomic num: 6, name: , idx: 3, aromatic: False, chiral: False\n",
      "bond order: 1, chiral: False to atom atomic num: 16, name: , idx: 4, aromatic: False, chiral: False\n",
      "\n"
     ]
    },
    {
     "name": "stdout",
     "output_type": "stream",
     "text": [
      "(8, 11, 13, 15)\n",
      "(3, 2, 5, 7)\n"
     ]
    },
    {
     "name": "stderr",
     "output_type": "stream",
     "text": [
      "Warning: OEMMFFParams::PrepMol() : unable to type atom 2 S \n",
      "Warning: : Force field setup failed due to missing parameters\n",
      "Warning: OEMMFFParams::PrepMol() : unable to type atom 2 S \n",
      "Warning: : Force field setup failed due to missing parameters\n",
      "Warning (not error because allow_undefined_stereo=True): OEMol has unspecified stereochemistry. oemol.GetTitle(): \n",
      "Problematic atoms are:\n",
      "Atom atomic num: 16, name: , idx: 6, aromatic: False, chiral: True with bonds:\n",
      "bond order: 1, chiral: False to atom atomic num: 6, name: , idx: 1, aromatic: False, chiral: False\n",
      "bond order: 1, chiral: False to atom atomic num: 6, name: , idx: 2, aromatic: False, chiral: False\n",
      "bond order: 1, chiral: False to atom atomic num: 16, name: , idx: 7, aromatic: False, chiral: False\n",
      "\n",
      "Warning: : Failed due to unspecified stereochemistry\n",
      "Warning: OEMMFFParams::PrepMol() : unable to type atom 6 S \n",
      "Warning: : Force field setup failed due to missing parameters\n",
      "[13:56:16] UFFTYPER: Unrecognized charge state for atom: 6\n",
      "Warning (not error because allow_undefined_stereo=True): Unable to make OFFMol from RDMol: RDMol has unspecified stereochemistry. RDMol name: Undefined chiral centers are:\n",
      " - Atom S (index 6)\n",
      "\n",
      "Warning (not error because allow_undefined_stereo=True): OEMol has unspecified stereochemistry. oemol.GetTitle(): \n",
      "Problematic atoms are:\n",
      "Atom atomic num: 6, name: , idx: 1, aromatic: False, chiral: True with bonds:\n",
      "bond order: 1, chiral: False to atom atomic num: 6, name: , idx: 0, aromatic: False, chiral: False\n",
      "bond order: 1, chiral: False to atom atomic num: 6, name: , idx: 2, aromatic: False, chiral: False\n",
      "bond order: 1, chiral: False to atom atomic num: 16, name: , idx: 6, aromatic: False, chiral: False\n",
      "bond order: 1, chiral: False to atom atomic num: 1, name: , idx: 16, aromatic: False, chiral: False\n",
      "\n"
     ]
    },
    {
     "name": "stdout",
     "output_type": "stream",
     "text": [
      "(3, 2, 4, 5)\n",
      "(1, 6, 7, 9)\n",
      "(1, 2, 6, 7)\n",
      "(2, 3, 8, 19)\n",
      "(1, 2, 3, 9)\n"
     ]
    },
    {
     "name": "stderr",
     "output_type": "stream",
     "text": [
      "Warning (not error because allow_undefined_stereo=True): OEMol has unspecified stereochemistry. oemol.GetTitle(): \n",
      "Problematic atoms are:\n",
      "Atom atomic num: 16, name: , idx: 8, aromatic: False, chiral: True with bonds:\n",
      "bond order: 1, chiral: False to atom atomic num: 7, name: , idx: 7, aromatic: False, chiral: False\n",
      "bond order: 2, chiral: False to atom atomic num: 8, name: , idx: 9, aromatic: False, chiral: False\n",
      "bond order: 1, chiral: False to atom atomic num: 8, name: , idx: 10, aromatic: False, chiral: False\n",
      "\n"
     ]
    },
    {
     "name": "stdout",
     "output_type": "stream",
     "text": [
      "(4, 2, 6, 7)\n"
     ]
    },
    {
     "name": "stderr",
     "output_type": "stream",
     "text": [
      "Warning (not error because allow_undefined_stereo=True): OEMol has unspecified stereochemistry. oemol.GetTitle(): \n",
      "Problematic atoms are:\n",
      "Atom atomic num: 16, name: , idx: 2, aromatic: False, chiral: True with bonds:\n",
      "bond order: 1, chiral: False to atom atomic num: 7, name: , idx: 1, aromatic: False, chiral: False\n",
      "bond order: 2, chiral: False to atom atomic num: 8, name: , idx: 3, aromatic: False, chiral: False\n",
      "bond order: 1, chiral: False to atom atomic num: 8, name: , idx: 4, aromatic: False, chiral: False\n",
      "\n"
     ]
    },
    {
     "name": "stdout",
     "output_type": "stream",
     "text": [
      "(6, 7, 8, 10)\n"
     ]
    },
    {
     "name": "stderr",
     "output_type": "stream",
     "text": [
      "Warning (not error because allow_undefined_stereo=True): OEMol has unspecified stereochemistry. oemol.GetTitle(): \n",
      "Problematic atoms are:\n",
      "Atom atomic num: 16, name: , idx: 4, aromatic: False, chiral: True with bonds:\n",
      "bond order: 1, chiral: False to atom atomic num: 6, name: , idx: 3, aromatic: False, chiral: False\n",
      "bond order: 2, chiral: False to atom atomic num: 8, name: , idx: 5, aromatic: False, chiral: False\n",
      "bond order: 1, chiral: False to atom atomic num: 7, name: , idx: 6, aromatic: False, chiral: False\n",
      "\n"
     ]
    },
    {
     "name": "stdout",
     "output_type": "stream",
     "text": [
      "(0, 1, 2, 4)\n"
     ]
    },
    {
     "name": "stderr",
     "output_type": "stream",
     "text": [
      "Warning (not error because allow_undefined_stereo=True): OEMol has unspecified stereochemistry. oemol.GetTitle(): \n",
      "Problematic atoms are:\n",
      "Atom atomic num: 6, name: , idx: 1, aromatic: False, chiral: True with bonds:\n",
      "bond order: 1, chiral: False to atom atomic num: 6, name: , idx: 0, aromatic: False, chiral: False\n",
      "bond order: 1, chiral: False to atom atomic num: 6, name: , idx: 2, aromatic: False, chiral: False\n",
      "bond order: 1, chiral: False to atom atomic num: 8, name: , idx: 10, aromatic: False, chiral: False\n",
      "bond order: 1, chiral: False to atom atomic num: 1, name: , idx: 14, aromatic: False, chiral: False\n",
      "Atom atomic num: 16, name: , idx: 6, aromatic: False, chiral: True with bonds:\n",
      "bond order: 1, chiral: False to atom atomic num: 7, name: , idx: 5, aromatic: False, chiral: False\n",
      "bond order: 2, chiral: False to atom atomic num: 8, name: , idx: 7, aromatic: False, chiral: False\n",
      "bond order: 1, chiral: False to atom atomic num: 8, name: , idx: 8, aromatic: False, chiral: False\n",
      "\n"
     ]
    },
    {
     "name": "stdout",
     "output_type": "stream",
     "text": [
      "(1, 6, 4, 3)\n"
     ]
    },
    {
     "name": "stderr",
     "output_type": "stream",
     "text": [
      "Warning (not error because allow_undefined_stereo=True): OEMol has unspecified stereochemistry. oemol.GetTitle(): \n",
      "Problematic atoms are:\n",
      "Atom atomic num: 16, name: , idx: 4, aromatic: False, chiral: True with bonds:\n",
      "bond order: 1, chiral: False to atom atomic num: 6, name: , idx: 3, aromatic: False, chiral: False\n",
      "bond order: 2, chiral: False to atom atomic num: 8, name: , idx: 5, aromatic: False, chiral: False\n",
      "bond order: 1, chiral: False to atom atomic num: 7, name: , idx: 6, aromatic: False, chiral: False\n",
      "\n"
     ]
    },
    {
     "name": "stdout",
     "output_type": "stream",
     "text": [
      "(4, 5, 6, 8)\n"
     ]
    },
    {
     "name": "stderr",
     "output_type": "stream",
     "text": [
      "Warning (not error because allow_undefined_stereo=True): OEMol has unspecified stereochemistry. oemol.GetTitle(): \n",
      "Problematic atoms are:\n",
      "Atom atomic num: 16, name: , idx: 3, aromatic: False, chiral: True with bonds:\n",
      "bond order: 1, chiral: False to atom atomic num: 7, name: , idx: 1, aromatic: False, chiral: False\n",
      "bond order: 2, chiral: False to atom atomic num: 8, name: , idx: 4, aromatic: False, chiral: False\n",
      "bond order: 1, chiral: False to atom atomic num: 7, name: , idx: 5, aromatic: False, chiral: True\n",
      "Atom atomic num: 7, name: , idx: 5, aromatic: False, chiral: True with bonds:\n",
      "bond order: 1, chiral: False to atom atomic num: 16, name: , idx: 3, aromatic: False, chiral: True\n",
      "bond order: 1, chiral: False to atom atomic num: 6, name: , idx: 6, aromatic: False, chiral: False\n",
      "bond order: 1, chiral: False to atom atomic num: 6, name: , idx: 7, aromatic: True, chiral: False\n",
      "\n"
     ]
    },
    {
     "name": "stdout",
     "output_type": "stream",
     "text": [
      "(3, 4, 6, 7)\n"
     ]
    },
    {
     "name": "stderr",
     "output_type": "stream",
     "text": [
      "Warning (not error because allow_undefined_stereo=True): OEMol has unspecified stereochemistry. oemol.GetTitle(): \n",
      "Problematic atoms are:\n",
      "Atom atomic num: 16, name: , idx: 3, aromatic: False, chiral: True with bonds:\n",
      "bond order: 1, chiral: False to atom atomic num: 8, name: , idx: 2, aromatic: False, chiral: False\n",
      "bond order: 2, chiral: False to atom atomic num: 8, name: , idx: 4, aromatic: False, chiral: False\n",
      "bond order: 1, chiral: False to atom atomic num: 7, name: , idx: 5, aromatic: False, chiral: False\n",
      "\n"
     ]
    },
    {
     "name": "stdout",
     "output_type": "stream",
     "text": [
      "(2, 1, 3, 5)\n"
     ]
    },
    {
     "name": "stderr",
     "output_type": "stream",
     "text": [
      "Warning (not error because allow_undefined_stereo=True): OEMol has unspecified stereochemistry. oemol.GetTitle(): \n",
      "Problematic atoms are:\n",
      "Atom atomic num: 16, name: , idx: 3, aromatic: False, chiral: True with bonds:\n",
      "bond order: 1, chiral: False to atom atomic num: 8, name: , idx: 2, aromatic: False, chiral: False\n",
      "bond order: 2, chiral: False to atom atomic num: 8, name: , idx: 4, aromatic: False, chiral: False\n",
      "bond order: 1, chiral: False to atom atomic num: 7, name: , idx: 5, aromatic: False, chiral: False\n",
      "\n"
     ]
    },
    {
     "name": "stdout",
     "output_type": "stream",
     "text": [
      "(2, 3, 5, 6)\n"
     ]
    },
    {
     "name": "stderr",
     "output_type": "stream",
     "text": [
      "Warning (not error because allow_undefined_stereo=True): OEMol has unspecified stereochemistry. oemol.GetTitle(): \n",
      "Problematic atoms are:\n",
      "Atom atomic num: 16, name: , idx: 1, aromatic: False, chiral: True with bonds:\n",
      "bond order: 1, chiral: False to atom atomic num: 7, name: , idx: 0, aromatic: False, chiral: False\n",
      "bond order: 2, chiral: False to atom atomic num: 8, name: , idx: 2, aromatic: False, chiral: False\n",
      "bond order: 1, chiral: False to atom atomic num: 8, name: , idx: 3, aromatic: False, chiral: False\n",
      "\n"
     ]
    },
    {
     "name": "stdout",
     "output_type": "stream",
     "text": [
      "(2, 3, 5, 17)\n",
      "(1, 3, 5, 7)\n"
     ]
    },
    {
     "name": "stderr",
     "output_type": "stream",
     "text": [
      "Warning (not error because allow_undefined_stereo=True): OEMol has unspecified stereochemistry. oemol.GetTitle(): \n",
      "Problematic atoms are:\n",
      "Atom atomic num: 16, name: , idx: 7, aromatic: False, chiral: True with bonds:\n",
      "bond order: 1, chiral: False to atom atomic num: 6, name: , idx: 4, aromatic: True, chiral: False\n",
      "bond order: 2, chiral: False to atom atomic num: 8, name: , idx: 8, aromatic: False, chiral: False\n",
      "bond order: 1, chiral: False to atom atomic num: 6, name: , idx: 9, aromatic: False, chiral: False\n",
      "\n"
     ]
    },
    {
     "name": "stdout",
     "output_type": "stream",
     "text": [
      "(3, 1, 0, 5)\n"
     ]
    },
    {
     "name": "stderr",
     "output_type": "stream",
     "text": [
      "Warning (not error because allow_undefined_stereo=True): OEMol has unspecified stereochemistry. oemol.GetTitle(): \n",
      "Problematic atoms are:\n",
      "Atom atomic num: 16, name: , idx: 7, aromatic: False, chiral: True with bonds:\n",
      "bond order: 1, chiral: False to atom atomic num: 6, name: , idx: 6, aromatic: False, chiral: False\n",
      "bond order: 2, chiral: False to atom atomic num: 8, name: , idx: 8, aromatic: False, chiral: False\n",
      "bond order: 1, chiral: False to atom atomic num: 6, name: , idx: 9, aromatic: True, chiral: False\n",
      "\n"
     ]
    },
    {
     "name": "stdout",
     "output_type": "stream",
     "text": [
      "(5, 4, 7, 9)\n"
     ]
    },
    {
     "name": "stderr",
     "output_type": "stream",
     "text": [
      "Warning (not error because allow_undefined_stereo=True): OEMol has unspecified stereochemistry. oemol.GetTitle(): \n",
      "Problematic atoms are:\n",
      "Atom atomic num: 16, name: , idx: 10, aromatic: False, chiral: True with bonds:\n",
      "bond order: 1, chiral: False to atom atomic num: 6, name: , idx: 9, aromatic: False, chiral: False\n",
      "bond order: 1, chiral: False to atom atomic num: 6, name: , idx: 6, aromatic: False, chiral: False\n",
      "bond order: 2, chiral: False to atom atomic num: 8, name: , idx: 11, aromatic: False, chiral: False\n",
      "\n",
      "Warning: OEMMFFParams::PrepMol() : unable to type atom 9 C \n",
      "Warning: : Force field setup failed due to missing parameters\n",
      "Warning: OEMMFFParams::PrepMol() : unable to type atom 9 C \n",
      "Warning: : Force field setup failed due to missing parameters\n",
      "Warning (not error because allow_undefined_stereo=True): OEMol has unspecified stereochemistry. oemol.GetTitle(): \n",
      "Problematic atoms are:\n",
      "Atom atomic num: 16, name: , idx: 11, aromatic: False, chiral: True with bonds:\n",
      "bond order: 1, chiral: False to atom atomic num: 6, name: , idx: 0, aromatic: False, chiral: False\n",
      "bond order: 1, chiral: False to atom atomic num: 6, name: , idx: 8, aromatic: False, chiral: False\n",
      "bond order: 2, chiral: False to atom atomic num: 8, name: , idx: 10, aromatic: False, chiral: False\n",
      "\n"
     ]
    },
    {
     "name": "stdout",
     "output_type": "stream",
     "text": [
      "(6, 7, 9, 10)\n"
     ]
    },
    {
     "name": "stderr",
     "output_type": "stream",
     "text": [
      "Warning: : Failed due to unspecified stereochemistry\n",
      "Warning: OEMMFFParams::PrepMol() : unable to type atom 0 C \n",
      "Warning: : Force field setup failed due to missing parameters\n",
      "Warning (not error because allow_undefined_stereo=True): Unable to make OFFMol from RDMol: RDMol has unspecified stereochemistry. RDMol name: Undefined chiral centers are:\n",
      " - Atom S (index 11)\n",
      "\n",
      "Warning (not error because allow_undefined_stereo=True): OEMol has unspecified stereochemistry. oemol.GetTitle(): \n",
      "Problematic atoms are:\n",
      "Atom atomic num: 16, name: , idx: 5, aromatic: False, chiral: True with bonds:\n",
      "bond order: 1, chiral: False to atom atomic num: 6, name: , idx: 4, aromatic: False, chiral: False\n",
      "bond order: 2, chiral: False to atom atomic num: 8, name: , idx: 6, aromatic: False, chiral: False\n",
      "bond order: 1, chiral: False to atom atomic num: 6, name: , idx: 7, aromatic: True, chiral: False\n",
      "\n"
     ]
    },
    {
     "name": "stdout",
     "output_type": "stream",
     "text": [
      "(7, 6, 10, 9)\n"
     ]
    },
    {
     "name": "stderr",
     "output_type": "stream",
     "text": [
      "Warning (not error because allow_undefined_stereo=True): OEMol has unspecified stereochemistry. oemol.GetTitle(): \n",
      "Problematic atoms are:\n",
      "Atom atomic num: 16, name: , idx: 6, aromatic: False, chiral: True with bonds:\n",
      "bond order: 1, chiral: False to atom atomic num: 6, name: , idx: 3, aromatic: True, chiral: False\n",
      "bond order: 2, chiral: False to atom atomic num: 8, name: , idx: 7, aromatic: False, chiral: False\n",
      "bond order: 1, chiral: False to atom atomic num: 6, name: , idx: 8, aromatic: False, chiral: False\n",
      "\n"
     ]
    },
    {
     "name": "stdout",
     "output_type": "stream",
     "text": [
      "(4, 5, 7, 8)\n"
     ]
    },
    {
     "name": "stderr",
     "output_type": "stream",
     "text": [
      "Warning (not error because allow_undefined_stereo=True): OEMol has unspecified stereochemistry. oemol.GetTitle(): \n",
      "Problematic atoms are:\n",
      "Atom atomic num: 16, name: , idx: 6, aromatic: False, chiral: True with bonds:\n",
      "bond order: 1, chiral: False to atom atomic num: 6, name: , idx: 3, aromatic: True, chiral: False\n",
      "bond order: 2, chiral: False to atom atomic num: 8, name: , idx: 7, aromatic: False, chiral: False\n",
      "bond order: 1, chiral: False to atom atomic num: 6, name: , idx: 8, aromatic: True, chiral: False\n",
      "\n"
     ]
    },
    {
     "name": "stdout",
     "output_type": "stream",
     "text": [
      "(2, 3, 6, 8)\n",
      "(4, 3, 6, 8)\n"
     ]
    },
    {
     "name": "stderr",
     "output_type": "stream",
     "text": [
      "Warning (not error because allow_undefined_stereo=True): OEMol has unspecified stereochemistry. oemol.GetTitle(): \n",
      "Problematic atoms are:\n",
      "Atom atomic num: 16, name: , idx: 16, aromatic: False, chiral: True with bonds:\n",
      "bond order: 1, chiral: False to atom atomic num: 6, name: , idx: 15, aromatic: True, chiral: False\n",
      "bond order: 1, chiral: False to atom atomic num: 6, name: , idx: 4, aromatic: True, chiral: False\n",
      "bond order: 2, chiral: False to atom atomic num: 8, name: , idx: 17, aromatic: False, chiral: False\n",
      "\n"
     ]
    },
    {
     "name": "stdout",
     "output_type": "stream",
     "text": [
      "(2, 3, 6, 8)\n",
      "(3, 13, 12, 7)\n"
     ]
    },
    {
     "name": "stderr",
     "output_type": "stream",
     "text": [
      "Warning (not error because allow_undefined_stereo=True): OEMol has unspecified stereochemistry. oemol.GetTitle(): \n",
      "Problematic atoms are:\n",
      "Atom atomic num: 16, name: , idx: 6, aromatic: False, chiral: True with bonds:\n",
      "bond order: 1, chiral: False to atom atomic num: 6, name: , idx: 4, aromatic: True, chiral: False\n",
      "bond order: 2, chiral: False to atom atomic num: 8, name: , idx: 7, aromatic: False, chiral: False\n",
      "bond order: 1, chiral: False to atom atomic num: 6, name: , idx: 8, aromatic: True, chiral: False\n",
      "\n"
     ]
    },
    {
     "name": "stdout",
     "output_type": "stream",
     "text": [
      "(3, 4, 16, 15)\n",
      "(4, 6, 8, 9)\n",
      "(2, 3, 6, 11)\n",
      "(2, 3, 6, 9)\n",
      "(5, 4, 7, 10)\n",
      "(2, 3, 6, 7)\n",
      "(4, 3, 7, 10)\n"
     ]
    },
    {
     "name": "stderr",
     "output_type": "stream",
     "text": [
      "Warning: OEMMFFParams::PrepMol() : unable to type atom 6 S \n",
      "Warning: : Force field setup failed due to missing parameters\n",
      "Warning: OEMMFFParams::PrepMol() : unable to type atom 6 S \n",
      "Warning: : Force field setup failed due to missing parameters\n",
      "[13:56:22] UFFTYPER: Unrecognized charge state for atom: 6\n",
      "Warning (not error because allow_undefined_stereo=True): OEMol has unspecified stereochemistry. oemol.GetTitle(): \n",
      "Problematic bonds are: [<openeye.oechem.OEBondBase; proxy of <Swig Object of type 'OEChem::OEBondBase *' at 0x7f9e38a8dcf0> >]\n",
      "\n",
      "Warning: OEMMFFParams::PrepMol() : unable to type atom 1 S \n",
      "Warning: : Force field setup failed due to missing parameters\n",
      "Warning: OEMMFFParams::PrepMol() : unable to type atom 1 S \n",
      "Warning: : Force field setup failed due to missing parameters\n",
      "Warning (not error because allow_undefined_stereo=True): OEMol has unspecified stereochemistry. oemol.GetTitle(): \n",
      "Problematic bonds are: [<openeye.oechem.OEBondBase; proxy of <Swig Object of type 'OEChem::OEBondBase *' at 0x7f9e38aa5cf0> >]\n",
      "\n",
      "Warning: : Failed due to unspecified stereochemistry\n",
      "Warning: OEMMFFParams::PrepMol() : unable to type atom 7 S \n",
      "Warning: : Force field setup failed due to missing parameters\n",
      "[13:56:22] UFFTYPER: Unrecognized charge state for atom: 7\n",
      "Warning (not error because allow_undefined_stereo=True): Unable to make OFFMol from RDMol: RDMol has unspecified stereochemistry. RDMol name: Bonds with undefined stereochemistry are:\n",
      " - Bond 0 (atoms 0-1 of element (C-C)\n",
      "\n"
     ]
    },
    {
     "name": "stdout",
     "output_type": "stream",
     "text": [
      "(3, 2, 1, 9)\n"
     ]
    },
    {
     "name": "stderr",
     "output_type": "stream",
     "text": [
      "Warning (not error because allow_undefined_stereo=True): OEMol has unspecified stereochemistry. oemol.GetTitle(): \n",
      "Problematic atoms are:\n",
      "Atom atomic num: 6, name: , idx: 2, aromatic: False, chiral: True with bonds:\n",
      "bond order: 1, chiral: False to atom atomic num: 6, name: , idx: 1, aromatic: False, chiral: False\n",
      "bond order: 1, chiral: False to atom atomic num: 6, name: , idx: 3, aromatic: False, chiral: False\n",
      "bond order: 1, chiral: False to atom atomic num: 7, name: , idx: 8, aromatic: False, chiral: False\n",
      "bond order: 1, chiral: False to atom atomic num: 1, name: , idx: 14, aromatic: False, chiral: False\n",
      "Problematic bonds are: [<openeye.oechem.OEBondBase; proxy of <Swig Object of type 'OEChem::OEBondBase *' at 0x7f9eb9acea20> >]\n",
      "\n",
      "Warning: OEMMFFParams::PrepMol() : unable to type atom 5 S \n",
      "Warning: : Force field setup failed due to missing parameters\n",
      "Warning: OEMMFFParams::PrepMol() : unable to type atom 5 S \n",
      "Warning: : Force field setup failed due to missing parameters\n"
     ]
    },
    {
     "name": "stdout",
     "output_type": "stream",
     "text": [
      "(2, 1, 3, 14)\n"
     ]
    },
    {
     "name": "stderr",
     "output_type": "stream",
     "text": [
      "Warning: OEMMFFParams::PrepMol() : unable to type atom 5 S \n",
      "Warning: : Force field setup failed due to missing parameters\n",
      "Warning: OEMMFFParams::PrepMol() : unable to type atom 5 S \n",
      "Warning: : Force field setup failed due to missing parameters\n",
      "Warning (not error because allow_undefined_stereo=True): OEMol has unspecified stereochemistry. oemol.GetTitle(): \n",
      "Problematic atoms are:\n",
      "Atom atomic num: 6, name: , idx: 6, aromatic: False, chiral: True with bonds:\n",
      "bond order: 1, chiral: False to atom atomic num: 1, name: , idx: 22, aromatic: False, chiral: False\n",
      "bond order: 1, chiral: False to atom atomic num: 6, name: , idx: 0, aromatic: False, chiral: False\n",
      "bond order: 1, chiral: False to atom atomic num: 6, name: , idx: 5, aromatic: False, chiral: False\n",
      "bond order: 1, chiral: False to atom atomic num: 7, name: , idx: 7, aromatic: False, chiral: False\n",
      "Problematic bonds are: [<openeye.oechem.OEBondBase; proxy of <Swig Object of type 'OEChem::OEBondBase *' at 0x7f9eb9ace210> >]\n",
      "\n",
      "Warning: : Failed due to unspecified stereochemistry\n",
      "Warning: OEMMFFParams::PrepMol() : unable to type atom 8 S \n",
      "Warning: : Force field setup failed due to missing parameters\n",
      "[13:56:22] UFFTYPER: Unrecognized charge state for atom: 8\n",
      "Warning (not error because allow_undefined_stereo=True): Unable to make OFFMol from RDMol: RDMol has unspecified stereochemistry. RDMol name: Undefined chiral centers are:\n",
      " - Atom C (index 6)\n",
      "Bonds with undefined stereochemistry are:\n",
      " - Bond 0 (atoms 0-1 of element (C-C)\n",
      "\n",
      "Warning (not error because allow_undefined_stereo=True): OEMol has unspecified stereochemistry. oemol.GetTitle(): \n",
      "Problematic bonds are: [<openeye.oechem.OEBondBase; proxy of <Swig Object of type 'OEChem::OEBondBase *' at 0x7f9e38a96690> >]\n",
      "\n",
      "Warning: OEMMFFParams::PrepMol() : unable to type atom 1 S \n",
      "Warning: : Force field setup failed due to missing parameters\n",
      "Warning: OEMMFFParams::PrepMol() : unable to type atom 1 S \n",
      "Warning: : Force field setup failed due to missing parameters\n",
      "Warning (not error because allow_undefined_stereo=True): OEMol has unspecified stereochemistry. oemol.GetTitle(): \n",
      "Problematic bonds are: [<openeye.oechem.OEBondBase; proxy of <Swig Object of type 'OEChem::OEBondBase *' at 0x7f9e38a96b70> >]\n",
      "\n"
     ]
    },
    {
     "name": "stdout",
     "output_type": "stream",
     "text": [
      "(7, 5, 4, 16)\n"
     ]
    },
    {
     "name": "stderr",
     "output_type": "stream",
     "text": [
      "Warning: : Failed due to unspecified stereochemistry\n",
      "Warning: OEMMFFParams::PrepMol() : unable to type atom 13 S \n",
      "Warning: : Force field setup failed due to missing parameters\n",
      "[13:56:23] UFFTYPER: Unrecognized charge state for atom: 13\n",
      "Warning (not error because allow_undefined_stereo=True): Unable to make OFFMol from RDMol: RDMol has unspecified stereochemistry. RDMol name: Bonds with undefined stereochemistry are:\n",
      " - Bond 7 (atoms 6-7 of element (C-C)\n",
      "\n",
      "Warning (not error because allow_undefined_stereo=True): OEMol has unspecified stereochemistry. oemol.GetTitle(): \n",
      "Problematic atoms are:\n",
      "Atom atomic num: 6, name: , idx: 4, aromatic: False, chiral: True with bonds:\n",
      "bond order: 1, chiral: False to atom atomic num: 6, name: , idx: 3, aromatic: False, chiral: False\n",
      "bond order: 1, chiral: False to atom atomic num: 6, name: , idx: 5, aromatic: False, chiral: True\n",
      "bond order: 1, chiral: False to atom atomic num: 7, name: , idx: 8, aromatic: False, chiral: False\n",
      "bond order: 1, chiral: False to atom atomic num: 1, name: , idx: 14, aromatic: False, chiral: False\n",
      "Atom atomic num: 6, name: , idx: 5, aromatic: False, chiral: True with bonds:\n",
      "bond order: 1, chiral: False to atom atomic num: 6, name: , idx: 4, aromatic: False, chiral: True\n",
      "bond order: 1, chiral: False to atom atomic num: 6, name: , idx: 6, aromatic: False, chiral: False\n",
      "bond order: 1, chiral: False to atom atomic num: 7, name: , idx: 7, aromatic: False, chiral: False\n",
      "bond order: 1, chiral: False to atom atomic num: 1, name: , idx: 15, aromatic: False, chiral: False\n",
      "\n",
      "Warning: OEMMFFParams::PrepMol() : unable to type atom 2 S \n",
      "Warning: : Force field setup failed due to missing parameters\n",
      "Warning: OEMMFFParams::PrepMol() : unable to type atom 2 S \n",
      "Warning: : Force field setup failed due to missing parameters\n",
      "Warning: OEMMFFParams::PrepMol() : unable to type atom 2 S \n",
      "Warning: : Force field setup failed due to missing parameters\n",
      "Warning (not error because allow_undefined_stereo=True): OEMol has unspecified stereochemistry. oemol.GetTitle(): \n",
      "Problematic atoms are:\n",
      "Atom atomic num: 6, name: , idx: 4, aromatic: False, chiral: True with bonds:\n",
      "bond order: 1, chiral: False to atom atomic num: 1, name: , idx: 16, aromatic: False, chiral: False\n",
      "bond order: 1, chiral: False to atom atomic num: 6, name: , idx: 2, aromatic: False, chiral: False\n",
      "bond order: 1, chiral: False to atom atomic num: 6, name: , idx: 5, aromatic: False, chiral: True\n",
      "bond order: 1, chiral: False to atom atomic num: 7, name: , idx: 6, aromatic: False, chiral: False\n",
      "Atom atomic num: 6, name: , idx: 5, aromatic: False, chiral: True with bonds:\n",
      "bond order: 1, chiral: False to atom atomic num: 1, name: , idx: 17, aromatic: False, chiral: False\n",
      "bond order: 1, chiral: False to atom atomic num: 6, name: , idx: 3, aromatic: False, chiral: False\n",
      "bond order: 1, chiral: False to atom atomic num: 6, name: , idx: 4, aromatic: False, chiral: True\n",
      "bond order: 1, chiral: False to atom atomic num: 7, name: , idx: 7, aromatic: False, chiral: False\n",
      "\n"
     ]
    },
    {
     "name": "stdout",
     "output_type": "stream",
     "text": [
      "(2, 1, 3, 20)\n"
     ]
    },
    {
     "name": "stderr",
     "output_type": "stream",
     "text": [
      "Warning: : Failed due to unspecified stereochemistry\n",
      "Warning: OEMMFFParams::PrepMol() : unable to type atom 8 S \n",
      "Warning: : Force field setup failed due to missing parameters\n",
      "[13:56:23] UFFTYPER: Unrecognized charge state for atom: 8\n",
      "Warning (not error because allow_undefined_stereo=True): Unable to make OFFMol from RDMol: RDMol has unspecified stereochemistry. RDMol name: Undefined chiral centers are:\n",
      " - Atom C (index 4)\n",
      " - Atom C (index 5)\n",
      "\n",
      "Warning (not error because allow_undefined_stereo=True): OEMol has unspecified stereochemistry. oemol.GetTitle(): \n",
      "Problematic atoms are:\n",
      "Atom atomic num: 6, name: , idx: 2, aromatic: False, chiral: True with bonds:\n",
      "bond order: 1, chiral: False to atom atomic num: 7, name: , idx: 1, aromatic: False, chiral: False\n",
      "bond order: 1, chiral: False to atom atomic num: 6, name: , idx: 9, aromatic: False, chiral: True\n",
      "bond order: 1, chiral: False to atom atomic num: 6, name: , idx: 3, aromatic: False, chiral: False\n",
      "bond order: 1, chiral: False to atom atomic num: 1, name: , idx: 17, aromatic: False, chiral: False\n",
      "Atom atomic num: 16, name: , idx: 4, aromatic: False, chiral: True with bonds:\n",
      "bond order: 1, chiral: False to atom atomic num: 6, name: , idx: 3, aromatic: False, chiral: False\n",
      "bond order: 1, chiral: False to atom atomic num: 6, name: , idx: 8, aromatic: False, chiral: True\n",
      "bond order: 1, chiral: False to atom atomic num: 6, name: , idx: 5, aromatic: False, chiral: False\n",
      "Atom atomic num: 6, name: , idx: 8, aromatic: False, chiral: True with bonds:\n",
      "bond order: 1, chiral: False to atom atomic num: 6, name: , idx: 7, aromatic: False, chiral: False\n",
      "bond order: 1, chiral: False to atom atomic num: 16, name: , idx: 4, aromatic: False, chiral: True\n",
      "bond order: 1, chiral: False to atom atomic num: 6, name: , idx: 9, aromatic: False, chiral: True\n",
      "bond order: 1, chiral: False to atom atomic num: 1, name: , idx: 26, aromatic: False, chiral: False\n",
      "Atom atomic num: 6, name: , idx: 9, aromatic: False, chiral: True with bonds:\n",
      "bond order: 1, chiral: False to atom atomic num: 6, name: , idx: 8, aromatic: False, chiral: True\n",
      "bond order: 1, chiral: False to atom atomic num: 6, name: , idx: 2, aromatic: False, chiral: True\n",
      "bond order: 1, chiral: False to atom atomic num: 7, name: , idx: 10, aromatic: False, chiral: False\n",
      "bond order: 1, chiral: False to atom atomic num: 1, name: , idx: 27, aromatic: False, chiral: False\n",
      "\n",
      "Warning: OEMMFFParams::PrepMol() : unable to type atom 4 S \n",
      "Warning: : Force field setup failed due to missing parameters\n",
      "Warning: OEMMFFParams::PrepMol() : unable to type atom 4 S \n",
      "Warning: : Force field setup failed due to missing parameters\n"
     ]
    },
    {
     "name": "stdout",
     "output_type": "stream",
     "text": [
      "(3, 2, 1, 11)\n"
     ]
    },
    {
     "name": "stderr",
     "output_type": "stream",
     "text": [
      "Warning: OEMMFFParams::PrepMol() : unable to type atom 4 S \n",
      "Warning: : Force field setup failed due to missing parameters\n",
      "Warning: OEMMFFParams::PrepMol() : unable to type atom 4 S \n",
      "Warning: : Force field setup failed due to missing parameters\n",
      "Warning: OEMMFFParams::PrepMol() : unable to type atom 4 S \n",
      "Warning: : Force field setup failed due to missing parameters\n",
      "Warning: OEMMFFParams::PrepMol() : unable to type atom 4 S \n",
      "Warning: : Force field setup failed due to missing parameters\n",
      "Warning: OEMMFFParams::PrepMol() : unable to type atom 4 S \n",
      "Warning: : Force field setup failed due to missing parameters\n",
      "Warning: OEMMFFParams::PrepMol() : unable to type atom 4 S \n",
      "Warning: : Force field setup failed due to missing parameters\n",
      "Warning: OEMMFFParams::PrepMol() : unable to type atom 4 S \n",
      "Warning: : Force field setup failed due to missing parameters\n",
      "Warning: OEMMFFParams::PrepMol() : unable to type atom 4 S \n",
      "Warning: : Force field setup failed due to missing parameters\n",
      "Warning: OEMMFFParams::PrepMol() : unable to type atom 4 S \n",
      "Warning: : Force field setup failed due to missing parameters\n",
      "Warning: OEMMFFParams::PrepMol() : unable to type atom 4 S \n",
      "Warning: : Force field setup failed due to missing parameters\n",
      "Warning: OEMMFFParams::PrepMol() : unable to type atom 4 S \n",
      "Warning: : Force field setup failed due to missing parameters\n",
      "Warning: OEMMFFParams::PrepMol() : unable to type atom 4 S \n",
      "Warning: : Force field setup failed due to missing parameters\n",
      "Warning: OEMMFFParams::PrepMol() : unable to type atom 4 S \n",
      "Warning: : Force field setup failed due to missing parameters\n",
      "Warning: OEMMFFParams::PrepMol() : unable to type atom 4 S \n",
      "Warning: : Force field setup failed due to missing parameters\n",
      "Warning (not error because allow_undefined_stereo=True): OEMol has unspecified stereochemistry. oemol.GetTitle(): \n",
      "Problematic atoms are:\n",
      "Atom atomic num: 6, name: , idx: 5, aromatic: False, chiral: True with bonds:\n",
      "bond order: 1, chiral: False to atom atomic num: 1, name: , idx: 22, aromatic: False, chiral: False\n",
      "bond order: 1, chiral: False to atom atomic num: 6, name: , idx: 4, aromatic: False, chiral: False\n",
      "bond order: 1, chiral: False to atom atomic num: 6, name: , idx: 6, aromatic: False, chiral: True\n",
      "bond order: 1, chiral: False to atom atomic num: 7, name: , idx: 10, aromatic: False, chiral: False\n",
      "Atom atomic num: 6, name: , idx: 6, aromatic: False, chiral: True with bonds:\n",
      "bond order: 1, chiral: False to atom atomic num: 1, name: , idx: 23, aromatic: False, chiral: False\n",
      "bond order: 1, chiral: False to atom atomic num: 6, name: , idx: 5, aromatic: False, chiral: True\n",
      "bond order: 1, chiral: False to atom atomic num: 6, name: , idx: 7, aromatic: False, chiral: True\n",
      "bond order: 1, chiral: False to atom atomic num: 7, name: , idx: 11, aromatic: False, chiral: False\n",
      "Atom atomic num: 6, name: , idx: 7, aromatic: False, chiral: True with bonds:\n",
      "bond order: 1, chiral: False to atom atomic num: 1, name: , idx: 24, aromatic: False, chiral: False\n",
      "bond order: 1, chiral: False to atom atomic num: 6, name: , idx: 2, aromatic: False, chiral: False\n",
      "bond order: 1, chiral: False to atom atomic num: 6, name: , idx: 6, aromatic: False, chiral: True\n",
      "bond order: 1, chiral: False to atom atomic num: 16, name: , idx: 13, aromatic: False, chiral: True\n",
      "Atom atomic num: 16, name: , idx: 13, aromatic: False, chiral: True with bonds:\n",
      "bond order: 1, chiral: False to atom atomic num: 6, name: , idx: 3, aromatic: False, chiral: False\n",
      "bond order: 1, chiral: False to atom atomic num: 6, name: , idx: 4, aromatic: False, chiral: False\n",
      "bond order: 1, chiral: False to atom atomic num: 6, name: , idx: 7, aromatic: False, chiral: True\n",
      "\n",
      "Warning: : Failed due to unspecified stereochemistry\n",
      "Warning: OEMMFFParams::PrepMol() : unable to type atom 13 S \n",
      "Warning: : Force field setup failed due to missing parameters\n",
      "[13:56:24] UFFTYPER: Unrecognized charge state for atom: 13\n",
      "Warning (not error because allow_undefined_stereo=True): Unable to make OFFMol from RDMol: RDMol has unspecified stereochemistry. RDMol name: Undefined chiral centers are:\n",
      " - Atom C (index 5)\n",
      " - Atom C (index 6)\n",
      " - Atom C (index 7)\n",
      " - Atom S (index 13)\n",
      "\n",
      "Warning (not error because allow_undefined_stereo=True): OEMol has unspecified stereochemistry. oemol.GetTitle(): \n",
      "Problematic atoms are:\n",
      "Atom atomic num: 6, name: , idx: 5, aromatic: False, chiral: True with bonds:\n",
      "bond order: 1, chiral: False to atom atomic num: 6, name: , idx: 4, aromatic: False, chiral: False\n",
      "bond order: 1, chiral: False to atom atomic num: 6, name: , idx: 6, aromatic: False, chiral: False\n",
      "bond order: 1, chiral: False to atom atomic num: 7, name: , idx: 9, aromatic: False, chiral: False\n",
      "bond order: 1, chiral: False to atom atomic num: 1, name: , idx: 20, aromatic: False, chiral: False\n",
      "\n",
      "Warning: OEMMFFParams::PrepMol() : unable to type atom 1 S \n",
      "Warning: : Force field setup failed due to missing parameters\n",
      "Warning: OEMMFFParams::PrepMol() : unable to type atom 1 S \n",
      "Warning: : Force field setup failed due to missing parameters\n",
      "Warning (not error because allow_undefined_stereo=True): OEMol has unspecified stereochemistry. oemol.GetTitle(): \n",
      "Problematic atoms are:\n",
      "Atom atomic num: 6, name: , idx: 5, aromatic: False, chiral: True with bonds:\n",
      "bond order: 1, chiral: False to atom atomic num: 1, name: , idx: 20, aromatic: False, chiral: False\n",
      "bond order: 1, chiral: False to atom atomic num: 6, name: , idx: 0, aromatic: False, chiral: False\n",
      "bond order: 1, chiral: False to atom atomic num: 6, name: , idx: 3, aromatic: False, chiral: False\n",
      "bond order: 1, chiral: False to atom atomic num: 7, name: , idx: 6, aromatic: False, chiral: False\n",
      "\n"
     ]
    },
    {
     "name": "stdout",
     "output_type": "stream",
     "text": [
      "(8, 4, 5, 21)\n"
     ]
    },
    {
     "name": "stderr",
     "output_type": "stream",
     "text": [
      "Warning: : Failed due to unspecified stereochemistry\n",
      "Warning: OEMMFFParams::PrepMol() : unable to type atom 9 S \n",
      "Warning: : Force field setup failed due to missing parameters\n",
      "[13:56:24] UFFTYPER: Unrecognized charge state for atom: 9\n",
      "Warning (not error because allow_undefined_stereo=True): Unable to make OFFMol from RDMol: RDMol has unspecified stereochemistry. RDMol name: Undefined chiral centers are:\n",
      " - Atom C (index 5)\n",
      "\n",
      "Warning: OEMMFFParams::PrepMol() : unable to type atom 7 S \n",
      "Warning: : Force field setup failed due to missing parameters\n",
      "Warning: OEMMFFParams::PrepMol() : unable to type atom 7 S \n",
      "Warning: : Force field setup failed due to missing parameters\n",
      "[13:56:24] UFFTYPER: Unrecognized charge state for atom: 7\n",
      "Warning: OEMMFFParams::PrepMol() : unable to type atom 13 S \n",
      "Warning: : Force field setup failed due to missing parameters\n",
      "Warning: OEMMFFParams::PrepMol() : unable to type atom 13 S \n",
      "Warning: : Force field setup failed due to missing parameters\n",
      "[13:56:25] UFFTYPER: Unrecognized charge state for atom: 13\n"
     ]
    },
    {
     "name": "stdout",
     "output_type": "stream",
     "text": [
      "(0, 1, 2, 15)\n",
      "(2, 1, 0, 9)\n"
     ]
    },
    {
     "name": "stderr",
     "output_type": "stream",
     "text": [
      "Warning: OEMMFFParams::PrepMol() : unable to type atom 10 S \n",
      "Warning: : Force field setup failed due to missing parameters\n",
      "Warning: OEMMFFParams::PrepMol() : unable to type atom 10 S \n",
      "Warning: : Force field setup failed due to missing parameters\n",
      "[13:56:25] UFFTYPER: Unrecognized charge state for atom: 10\n"
     ]
    },
    {
     "name": "stdout",
     "output_type": "stream",
     "text": [
      "(2, 1, 0, 14)\n",
      "(0, 1, 3, 18)\n",
      "(0, 1, 3, 4)\n",
      "(1, 2, 4, 5)\n",
      "(3, 2, 4, 5)\n",
      "(1, 4, 5, 6)\n",
      "(1, 2, 3, 5)\n",
      "(3, 1, 4, 7)\n",
      "(4, 2, 5, 11)\n",
      "(8, 9, 10, 13)\n"
     ]
    },
    {
     "name": "stderr",
     "output_type": "stream",
     "text": [
      "Warning (not error because allow_undefined_stereo=True): OEMol has unspecified stereochemistry. oemol.GetTitle(): \n",
      "Problematic atoms are:\n",
      "Atom atomic num: 16, name: , idx: 2, aromatic: False, chiral: True with bonds:\n",
      "bond order: 1, chiral: False to atom atomic num: 6, name: , idx: 1, aromatic: False, chiral: False\n",
      "bond order: 2, chiral: False to atom atomic num: 8, name: , idx: 3, aromatic: False, chiral: False\n",
      "bond order: 1, chiral: False to atom atomic num: 8, name: , idx: 4, aromatic: False, chiral: False\n",
      "\n"
     ]
    },
    {
     "name": "stdout",
     "output_type": "stream",
     "text": [
      "(0, 1, 4, 6)\n",
      "(1, 9, 6, 8)\n",
      "(2, 1, 0, 4)\n"
     ]
    },
    {
     "name": "stderr",
     "output_type": "stream",
     "text": [
      "Warning (not error because allow_undefined_stereo=True): OEMol has unspecified stereochemistry. oemol.GetTitle(): \n",
      "Problematic atoms are:\n",
      "Atom atomic num: 16, name: , idx: 3, aromatic: False, chiral: True with bonds:\n",
      "bond order: 1, chiral: False to atom atomic num: 6, name: , idx: 0, aromatic: False, chiral: False\n",
      "bond order: 2, chiral: False to atom atomic num: 8, name: , idx: 4, aromatic: False, chiral: False\n",
      "bond order: 1, chiral: False to atom atomic num: 8, name: , idx: 5, aromatic: False, chiral: False\n",
      "Problematic bonds are: [<openeye.oechem.OEBondBase; proxy of <Swig Object of type 'OEChem::OEBondBase *' at 0x7f9e38a929f0> >]\n",
      "\n"
     ]
    },
    {
     "name": "stdout",
     "output_type": "stream",
     "text": [
      "(3, 2, 4, 10)\n",
      "(0, 3, 5, 9)\n",
      "(4, 3, 5, 6)\n",
      "(0, 5, 3, 4)\n"
     ]
    }
   ],
   "source": [
    "molecules = []\n",
    "\n",
    "\n",
    "for key, item in tid_clusters_list.items():\n",
    "    for mol, indices in item.items():\n",
    "        smiles_pattern = mol\n",
    "        #randomly select dihedral indices from the dictionary for the torsion drive\n",
    "        dihedrals = random.choice(indices)\n",
    "\n",
    "        # RDKit is unable to understand the stereochemistry of these molecules so\n",
    "        # we skip them.\n",
    "        if smiles_pattern == \"[H]/C(=C(/C([H])([H])[H])\\\\[H])/C(=C(\\\\C([H])([H])[H])/[H])/[H]\":\n",
    "            continue\n",
    "\n",
    "        try:\n",
    "            molecule: Molecule = Molecule.from_smiles(smiles_pattern)\n",
    "        except UndefinedStereochemistryError:\n",
    "            molecule: Molecule = Molecule.from_smiles(smiles_pattern, allow_undefined_stereo=True)\n",
    "            molecule = ([molecule] + molecule.enumerate_stereoisomers(max_isomers=1))[-1]\n",
    "\n",
    "        molecule = molecule.canonical_order_atoms()\n",
    "\n",
    "        try:\n",
    "            molecule.generate_conformers(n_conformers=10)\n",
    "        except Exception:\n",
    "            print(f\"Skipping {smiles_pattern} - OMEGA error.\")\n",
    "            continue\n",
    "        try:\n",
    "            molecule.to_rdkit()\n",
    "        except Exception:\n",
    "            print(f\"Skipping {smiles_pattern} - RDKit incompatible.\")\n",
    "            continue\n",
    "\n",
    "        torsion_indexer = TorsionIndexer()\n",
    "        print(tuple(dihedrals))\n",
    "        #torsion_indexer.add_torsion(tuple(dihedrals), (-165, 180), True)\n",
    "        torsion_indexer.add_torsion(tuple(dihedrals), (0,3), (-165, 180))\n",
    "\n",
    "        molecule.properties[\"dihedrals\"] = torsion_indexer\n",
    "        molecules.append(molecule)"
   ]
  },
  {
   "cell_type": "code",
   "execution_count": 178,
   "metadata": {},
   "outputs": [
    {
     "data": {
      "text/plain": [
       "99"
      ]
     },
     "execution_count": 178,
     "metadata": {},
     "output_type": "execute_result"
    }
   ],
   "source": [
    "len(molecules)\n"
   ]
  },
  {
   "cell_type": "code",
   "execution_count": 187,
   "metadata": {},
   "outputs": [
    {
     "name": "stderr",
     "output_type": "stream",
     "text": [
      "Deduplication                 :   0%|                    | 0/99 [00:00<?, ?it/s]Warning: OE3DToAtomStereo is unable to perceive atom stereo from a flat geometry on atom 6 of molecule ''\n",
      "Warning: OE3DToAtomStereo had a problem during OEMolToInChIKey when writing ''\n",
      "Warning: OE3DToAtomStereo is unable to perceive atom stereo from a flat geometry on atom 9 of molecule ''\n",
      "Warning: OE3DToAtomStereo had a problem during OEMolToInChIKey when writing ''\n",
      "Warning: OE3DToAtomStereo is unable to perceive atom stereo from a flat geometry on atom 15 of molecule ''\n",
      "Warning: OE3DToAtomStereo had a problem during OEMolToInChIKey when writing ''\n",
      "Warning: OE3DToAtomStereo is unable to perceive atom stereo from a flat geometry on atom 11 of molecule ''\n",
      "Warning: OE3DToAtomStereo had a problem during OEMolToInChIKey when writing ''\n",
      "Warning: OE3DToAtomStereo is unable to perceive atom stereo from a flat geometry on atom 13 of molecule ''\n",
      "Warning: OE3DToAtomStereo had a problem during OEMolToInChIKey when writing ''\n",
      "Deduplication                 : 100%|██████████| 99/99 [00:00<00:00, 919.13it/s]\n",
      "Preparation                   :   0%|                    | 0/99 [00:00<?, ?it/s]Warning (not error because allow_undefined_stereo=True): OEMol has unspecified stereochemistry. oemol.GetTitle(): \n",
      "Problematic atoms are:\n",
      "Atom atomic num: 7, name: , idx: 7, aromatic: False, chiral: True with bonds:\n",
      "bond order: 1, chiral: False to atom atomic num: 6, name: , idx: 4, aromatic: False, chiral: False\n",
      "bond order: 1, chiral: False to atom atomic num: 7, name: , idx: 8, aromatic: False, chiral: False\n",
      "bond order: 1, chiral: False to atom atomic num: 16, name: , idx: 17, aromatic: False, chiral: False\n",
      "\n",
      "Preparation                   :  18%|██         | 18/99 [00:00<00:01, 76.13it/s]Warning (not error because allow_undefined_stereo=True): OEMol has unspecified stereochemistry. oemol.GetTitle(): \n",
      "Problematic atoms are:\n",
      "Atom atomic num: 7, name: , idx: 4, aromatic: False, chiral: True with bonds:\n",
      "bond order: 1, chiral: False to atom atomic num: 6, name: , idx: 1, aromatic: False, chiral: False\n",
      "bond order: 1, chiral: False to atom atomic num: 6, name: , idx: 5, aromatic: False, chiral: False\n",
      "bond order: 1, chiral: False to atom atomic num: 7, name: , idx: 14, aromatic: False, chiral: False\n",
      "\n",
      "Preparation                   :  27%|███        | 27/99 [00:00<00:00, 75.31it/s]Warning: OE3DToAtomStereo is unable to perceive atom stereo from a flat geometry on atom 6 of molecule ''\n",
      "Warning: OE3DToAtomStereo had a problem during OEMolToInChIKey when writing ''\n",
      "Warning: OE3DToAtomStereo is unable to perceive atom stereo from a flat geometry on atom 6 of molecule ''\n",
      "Warning: OE3DToAtomStereo had a problem during OEMolToSTDInChI when writing ''\n",
      "Warning: OE3DToAtomStereo is unable to perceive atom stereo from a flat geometry on atom 6 of molecule ''\n",
      "Warning: OE3DToAtomStereo had a problem during OEMolToSTDInChIKey when writing ''\n",
      "Warning: OE3DToAtomStereo is unable to perceive atom stereo from a flat geometry on atom 6 of molecule ''\n",
      "Warning: OE3DToAtomStereo had a problem during OEMolToInChI when writing ''\n",
      "Warning: OE3DToAtomStereo is unable to perceive atom stereo from a flat geometry on atom 6 of molecule ''\n",
      "Warning: OE3DToAtomStereo had a problem during OEMolToInChIKey when writing ''\n",
      "Warning (not error because allow_undefined_stereo=True): OEMol has unspecified stereochemistry. oemol.GetTitle(): \n",
      "Problematic atoms are:\n",
      "Atom atomic num: 16, name: , idx: 3, aromatic: False, chiral: True with bonds:\n",
      "bond order: 1, chiral: False to atom atomic num: 7, name: , idx: 2, aromatic: False, chiral: False\n",
      "bond order: 1, chiral: False to atom atomic num: 7, name: , idx: 4, aromatic: False, chiral: False\n",
      "bond order: 1, chiral: False to atom atomic num: 8, name: , idx: 9, aromatic: False, chiral: False\n",
      "Problematic bonds are: [<openeye.oechem.OEBondBase; proxy of <Swig Object of type 'OEChem::OEBondBase *' at 0x7f9e38d1ab10> >]\n",
      "\n",
      "Warning: OE3DToAtomStereo is unable to perceive atom stereo from a flat geometry on atom 9 of molecule ''\n",
      "Warning: OE3DToAtomStereo had a problem during OEMolToInChIKey when writing ''\n",
      "Warning: OE3DToAtomStereo is unable to perceive atom stereo from a flat geometry on atom 9 of molecule ''\n",
      "Warning: OE3DToAtomStereo had a problem during OEMolToSTDInChI when writing ''\n",
      "Warning: OE3DToAtomStereo is unable to perceive atom stereo from a flat geometry on atom 9 of molecule ''\n",
      "Warning: OE3DToAtomStereo had a problem during OEMolToSTDInChIKey when writing ''\n",
      "Warning: OE3DToAtomStereo is unable to perceive atom stereo from a flat geometry on atom 9 of molecule ''\n",
      "Warning: OE3DToAtomStereo had a problem during OEMolToInChI when writing ''\n",
      "Warning: OE3DToAtomStereo is unable to perceive atom stereo from a flat geometry on atom 9 of molecule ''\n",
      "Warning: OE3DToAtomStereo had a problem during OEMolToInChIKey when writing ''\n",
      "Warning (not error because allow_undefined_stereo=True): OEMol has unspecified stereochemistry. oemol.GetTitle(): \n",
      "Problematic atoms are:\n",
      "Atom atomic num: 16, name: , idx: 11, aromatic: False, chiral: True with bonds:\n",
      "bond order: 1, chiral: False to atom atomic num: 7, name: , idx: 10, aromatic: False, chiral: False\n",
      "bond order: 1, chiral: False to atom atomic num: 7, name: , idx: 12, aromatic: False, chiral: False\n",
      "bond order: 1, chiral: False to atom atomic num: 8, name: , idx: 14, aromatic: False, chiral: False\n",
      "Problematic bonds are: [<openeye.oechem.OEBondBase; proxy of <Swig Object of type 'OEChem::OEBondBase *' at 0x7f9eb942b780> >]\n",
      "\n",
      "Warning: OE3DToAtomStereo is unable to perceive atom stereo from a flat geometry on atom 15 of molecule ''\n",
      "Warning: OE3DToAtomStereo had a problem during OEMolToInChIKey when writing ''\n",
      "Warning: OE3DToAtomStereo is unable to perceive atom stereo from a flat geometry on atom 15 of molecule ''\n",
      "Warning: OE3DToAtomStereo had a problem during OEMolToSTDInChI when writing ''\n",
      "Warning: OE3DToAtomStereo is unable to perceive atom stereo from a flat geometry on atom 15 of molecule ''\n",
      "Warning: OE3DToAtomStereo had a problem during OEMolToSTDInChIKey when writing ''\n",
      "Warning: OE3DToAtomStereo is unable to perceive atom stereo from a flat geometry on atom 15 of molecule ''\n",
      "Warning: OE3DToAtomStereo had a problem during OEMolToInChI when writing ''\n",
      "Warning: OE3DToAtomStereo is unable to perceive atom stereo from a flat geometry on atom 15 of molecule ''\n",
      "Warning: OE3DToAtomStereo had a problem during OEMolToInChIKey when writing ''\n",
      "Warning (not error because allow_undefined_stereo=True): OEMol has unspecified stereochemistry. oemol.GetTitle(): \n",
      "Problematic atoms are:\n",
      "Atom atomic num: 16, name: , idx: 18, aromatic: False, chiral: True with bonds:\n",
      "bond order: 1, chiral: False to atom atomic num: 6, name: , idx: 3, aromatic: True, chiral: False\n",
      "bond order: 1, chiral: False to atom atomic num: 7, name: , idx: 19, aromatic: False, chiral: False\n",
      "bond order: 1, chiral: False to atom atomic num: 8, name: , idx: 26, aromatic: False, chiral: False\n",
      "\n",
      "Warning (not error because allow_undefined_stereo=True): OEMol has unspecified stereochemistry. oemol.GetTitle(): \n",
      "Problematic atoms are:\n",
      "Atom atomic num: 16, name: , idx: 5, aromatic: False, chiral: True with bonds:\n",
      "bond order: 1, chiral: False to atom atomic num: 7, name: , idx: 4, aromatic: False, chiral: False\n",
      "bond order: 1, chiral: False to atom atomic num: 7, name: , idx: 6, aromatic: False, chiral: False\n",
      "bond order: 1, chiral: False to atom atomic num: 8, name: , idx: 8, aromatic: False, chiral: False\n",
      "Problematic bonds are: [<openeye.oechem.OEBondBase; proxy of <Swig Object of type 'OEChem::OEBondBase *' at 0x7f9e38d12f90> >]\n",
      "\n",
      "Warning: OE3DToAtomStereo is unable to perceive atom stereo from a flat geometry on atom 11 of molecule ''\n",
      "Warning: OE3DToAtomStereo had a problem during OEMolToInChIKey when writing ''\n",
      "Warning: OE3DToAtomStereo is unable to perceive atom stereo from a flat geometry on atom 11 of molecule ''\n",
      "Warning: OE3DToAtomStereo had a problem during OEMolToSTDInChI when writing ''\n",
      "Warning: OE3DToAtomStereo is unable to perceive atom stereo from a flat geometry on atom 11 of molecule ''\n",
      "Warning: OE3DToAtomStereo had a problem during OEMolToSTDInChIKey when writing ''\n",
      "Warning: OE3DToAtomStereo is unable to perceive atom stereo from a flat geometry on atom 11 of molecule ''\n",
      "Warning: OE3DToAtomStereo had a problem during OEMolToInChI when writing ''\n",
      "Warning: OE3DToAtomStereo is unable to perceive atom stereo from a flat geometry on atom 11 of molecule ''\n",
      "Warning: OE3DToAtomStereo had a problem during OEMolToInChIKey when writing ''\n",
      "Warning (not error because allow_undefined_stereo=True): OEMol has unspecified stereochemistry. oemol.GetTitle(): \n",
      "Problematic atoms are:\n",
      "Atom atomic num: 16, name: , idx: 17, aromatic: False, chiral: True with bonds:\n",
      "bond order: 1, chiral: False to atom atomic num: 7, name: , idx: 16, aromatic: False, chiral: False\n",
      "bond order: 1, chiral: False to atom atomic num: 7, name: , idx: 18, aromatic: False, chiral: False\n",
      "bond order: 1, chiral: False to atom atomic num: 8, name: , idx: 20, aromatic: False, chiral: False\n",
      "Problematic bonds are: [<openeye.oechem.OEBondBase; proxy of <Swig Object of type 'OEChem::OEBondBase *' at 0x7f9eb945f510> >, <openeye.oechem.OEBondBase; proxy of <Swig Object of type 'OEChem::OEBondBase *' at 0x7f9eb945f330> >]\n",
      "\n"
     ]
    },
    {
     "name": "stderr",
     "output_type": "stream",
     "text": [
      "Preparation                   :  37%|████       | 37/99 [00:00<00:00, 83.41it/s]Warning (not error because allow_undefined_stereo=True): OEMol has unspecified stereochemistry. oemol.GetTitle(): \n",
      "Problematic atoms are:\n",
      "Atom atomic num: 6, name: , idx: 8, aromatic: False, chiral: True with bonds:\n",
      "bond order: 1, chiral: False to atom atomic num: 6, name: , idx: 5, aromatic: False, chiral: False\n",
      "bond order: 1, chiral: False to atom atomic num: 1, name: , idx: 9, aromatic: False, chiral: False\n",
      "bond order: 1, chiral: False to atom atomic num: 7, name: , idx: 10, aromatic: False, chiral: False\n",
      "bond order: 1, chiral: False to atom atomic num: 8, name: , idx: 21, aromatic: False, chiral: False\n",
      "Atom atomic num: 16, name: , idx: 14, aromatic: False, chiral: True with bonds:\n",
      "bond order: 1, chiral: False to atom atomic num: 7, name: , idx: 13, aromatic: False, chiral: False\n",
      "bond order: 1, chiral: False to atom atomic num: 7, name: , idx: 15, aromatic: False, chiral: False\n",
      "bond order: 1, chiral: False to atom atomic num: 8, name: , idx: 17, aromatic: False, chiral: False\n",
      "Problematic bonds are: [<openeye.oechem.OEBondBase; proxy of <Swig Object of type 'OEChem::OEBondBase *' at 0x7f9e38d1a4b0> >]\n",
      "\n",
      "Warning: OE3DToAtomStereo is unable to perceive atom stereo from a flat geometry on atom 13 of molecule ''\n",
      "Warning: OE3DToAtomStereo had a problem during OEMolToInChIKey when writing ''\n",
      "Warning: OE3DToAtomStereo is unable to perceive atom stereo from a flat geometry on atom 13 of molecule ''\n",
      "Warning: OE3DToAtomStereo had a problem during OEMolToSTDInChI when writing ''\n",
      "Warning: OE3DToAtomStereo is unable to perceive atom stereo from a flat geometry on atom 13 of molecule ''\n",
      "Warning: OE3DToAtomStereo had a problem during OEMolToSTDInChIKey when writing ''\n",
      "Warning: OE3DToAtomStereo is unable to perceive atom stereo from a flat geometry on atom 13 of molecule ''\n",
      "Warning: OE3DToAtomStereo had a problem during OEMolToInChI when writing ''\n",
      "Warning: OE3DToAtomStereo is unable to perceive atom stereo from a flat geometry on atom 13 of molecule ''\n",
      "Warning: OE3DToAtomStereo had a problem during OEMolToInChIKey when writing ''\n",
      "Warning (not error because allow_undefined_stereo=True): OEMol has unspecified stereochemistry. oemol.GetTitle(): \n",
      "Problematic atoms are:\n",
      "Atom atomic num: 16, name: , idx: 14, aromatic: False, chiral: True with bonds:\n",
      "bond order: 1, chiral: False to atom atomic num: 7, name: , idx: 13, aromatic: False, chiral: False\n",
      "bond order: 1, chiral: False to atom atomic num: 7, name: , idx: 15, aromatic: False, chiral: False\n",
      "bond order: 1, chiral: False to atom atomic num: 8, name: , idx: 17, aromatic: False, chiral: False\n",
      "Problematic bonds are: [<openeye.oechem.OEBondBase; proxy of <Swig Object of type 'OEChem::OEBondBase *' at 0x7f9eb9473810> >]\n",
      "\n",
      "Warning (not error because allow_undefined_stereo=True): OEMol has unspecified stereochemistry. oemol.GetTitle(): \n",
      "Problematic atoms are:\n",
      "Atom atomic num: 16, name: , idx: 12, aromatic: False, chiral: True with bonds:\n",
      "bond order: 1, chiral: False to atom atomic num: 16, name: , idx: 9, aromatic: False, chiral: False\n",
      "bond order: 1, chiral: False to atom atomic num: 1, name: , idx: 13, aromatic: False, chiral: False\n",
      "bond order: 1, chiral: False to atom atomic num: 6, name: , idx: 14, aromatic: False, chiral: False\n",
      "\n",
      "Warning (not error because allow_undefined_stereo=True): OEMol has unspecified stereochemistry. oemol.GetTitle(): \n",
      "Problematic atoms are:\n",
      "Atom atomic num: 16, name: , idx: 16, aromatic: False, chiral: True with bonds:\n",
      "bond order: 1, chiral: False to atom atomic num: 16, name: , idx: 13, aromatic: False, chiral: False\n",
      "bond order: 1, chiral: False to atom atomic num: 6, name: , idx: 17, aromatic: False, chiral: False\n",
      "bond order: 1, chiral: False to atom atomic num: 16, name: , idx: 21, aromatic: False, chiral: False\n",
      "\n",
      "Warning (not error because allow_undefined_stereo=True): OEMol has unspecified stereochemistry. oemol.GetTitle(): \n",
      "Problematic atoms are:\n",
      "Atom atomic num: 16, name: , idx: 7, aromatic: False, chiral: True with bonds:\n",
      "bond order: 1, chiral: False to atom atomic num: 6, name: , idx: 4, aromatic: False, chiral: False\n",
      "bond order: 1, chiral: False to atom atomic num: 6, name: , idx: 8, aromatic: False, chiral: False\n",
      "bond order: 1, chiral: False to atom atomic num: 16, name: , idx: 12, aromatic: False, chiral: False\n",
      "\n",
      "Preparation                   :  55%|██████     | 54/99 [00:00<00:00, 74.32it/s]Warning (not error because allow_undefined_stereo=True): OEMol has unspecified stereochemistry. oemol.GetTitle(): \n",
      "Problematic atoms are:\n",
      "Atom atomic num: 16, name: , idx: 13, aromatic: False, chiral: True with bonds:\n",
      "bond order: 1, chiral: False to atom atomic num: 6, name: , idx: 12, aromatic: False, chiral: False\n",
      "bond order: 1, chiral: False to atom atomic num: 6, name: , idx: 9, aromatic: False, chiral: False\n",
      "bond order: 2, chiral: False to atom atomic num: 8, name: , idx: 14, aromatic: False, chiral: False\n",
      "\n",
      "Preparation                   :  67%|███████▎   | 66/99 [00:00<00:00, 85.88it/s]Warning (not error because allow_undefined_stereo=True): OEMol has unspecified stereochemistry. oemol.GetTitle(): \n",
      "Problematic bonds are: [<openeye.oechem.OEBondBase; proxy of <Swig Object of type 'OEChem::OEBondBase *' at 0x7f9eb9473e10> >]\n",
      "\n",
      "Warning (not error because allow_undefined_stereo=True): OEMol has unspecified stereochemistry. oemol.GetTitle(): \n",
      "Problematic atoms are:\n",
      "Atom atomic num: 6, name: , idx: 13, aromatic: False, chiral: True with bonds:\n",
      "bond order: 1, chiral: False to atom atomic num: 6, name: , idx: 1, aromatic: False, chiral: False\n",
      "bond order: 1, chiral: False to atom atomic num: 1, name: , idx: 14, aromatic: False, chiral: False\n",
      "bond order: 1, chiral: False to atom atomic num: 6, name: , idx: 15, aromatic: False, chiral: False\n",
      "bond order: 1, chiral: False to atom atomic num: 7, name: , idx: 22, aromatic: False, chiral: False\n",
      "Problematic bonds are: [<openeye.oechem.OEBondBase; proxy of <Swig Object of type 'OEChem::OEBondBase *' at 0x7f9eb9a43720> >]\n",
      "\n",
      "Warning (not error because allow_undefined_stereo=True): OEMol has unspecified stereochemistry. oemol.GetTitle(): \n",
      "Problematic bonds are: [<openeye.oechem.OEBondBase; proxy of <Swig Object of type 'OEChem::OEBondBase *' at 0x7f9e38d1a4b0> >]\n",
      "\n",
      "Preparation                   :  79%|████████▋  | 78/99 [00:00<00:00, 93.36it/s]Warning (not error because allow_undefined_stereo=True): OEMol has unspecified stereochemistry. oemol.GetTitle(): \n",
      "Problematic atoms are:\n",
      "Atom atomic num: 6, name: , idx: 6, aromatic: False, chiral: True with bonds:\n",
      "bond order: 1, chiral: False to atom atomic num: 6, name: , idx: 5, aromatic: False, chiral: False\n",
      "bond order: 1, chiral: False to atom atomic num: 6, name: , idx: 7, aromatic: False, chiral: True\n",
      "bond order: 1, chiral: False to atom atomic num: 1, name: , idx: 15, aromatic: False, chiral: False\n",
      "bond order: 1, chiral: False to atom atomic num: 7, name: , idx: 16, aromatic: False, chiral: False\n",
      "Atom atomic num: 6, name: , idx: 7, aromatic: False, chiral: True with bonds:\n",
      "bond order: 1, chiral: False to atom atomic num: 6, name: , idx: 6, aromatic: False, chiral: True\n",
      "bond order: 1, chiral: False to atom atomic num: 6, name: , idx: 8, aromatic: False, chiral: False\n",
      "bond order: 1, chiral: False to atom atomic num: 1, name: , idx: 11, aromatic: False, chiral: False\n",
      "bond order: 1, chiral: False to atom atomic num: 7, name: , idx: 12, aromatic: False, chiral: False\n",
      "\n",
      "Warning (not error because allow_undefined_stereo=True): OEMol has unspecified stereochemistry. oemol.GetTitle(): \n",
      "Problematic atoms are:\n",
      "Atom atomic num: 6, name: , idx: 3, aromatic: False, chiral: True with bonds:\n",
      "bond order: 1, chiral: False to atom atomic num: 6, name: , idx: 2, aromatic: False, chiral: False\n",
      "bond order: 1, chiral: False to atom atomic num: 16, name: , idx: 7, aromatic: False, chiral: True\n",
      "bond order: 1, chiral: False to atom atomic num: 6, name: , idx: 4, aromatic: False, chiral: True\n",
      "bond order: 1, chiral: False to atom atomic num: 1, name: , idx: 27, aromatic: False, chiral: False\n",
      "Atom atomic num: 6, name: , idx: 4, aromatic: False, chiral: True with bonds:\n",
      "bond order: 1, chiral: False to atom atomic num: 6, name: , idx: 3, aromatic: False, chiral: True\n",
      "bond order: 1, chiral: False to atom atomic num: 7, name: , idx: 16, aromatic: False, chiral: False\n",
      "bond order: 1, chiral: False to atom atomic num: 6, name: , idx: 5, aromatic: False, chiral: True\n",
      "bond order: 1, chiral: False to atom atomic num: 1, name: , idx: 26, aromatic: False, chiral: False\n",
      "Atom atomic num: 6, name: , idx: 5, aromatic: False, chiral: True with bonds:\n",
      "bond order: 1, chiral: False to atom atomic num: 6, name: , idx: 4, aromatic: False, chiral: True\n",
      "bond order: 1, chiral: False to atom atomic num: 6, name: , idx: 6, aromatic: False, chiral: False\n",
      "bond order: 1, chiral: False to atom atomic num: 7, name: , idx: 13, aromatic: False, chiral: False\n",
      "bond order: 1, chiral: False to atom atomic num: 1, name: , idx: 25, aromatic: False, chiral: False\n",
      "Atom atomic num: 16, name: , idx: 7, aromatic: False, chiral: True with bonds:\n",
      "bond order: 1, chiral: False to atom atomic num: 6, name: , idx: 6, aromatic: False, chiral: False\n",
      "bond order: 1, chiral: False to atom atomic num: 6, name: , idx: 3, aromatic: False, chiral: True\n",
      "bond order: 1, chiral: False to atom atomic num: 6, name: , idx: 8, aromatic: False, chiral: False\n",
      "\n"
     ]
    },
    {
     "name": "stderr",
     "output_type": "stream",
     "text": [
      "Warning (not error because allow_undefined_stereo=True): OEMol has unspecified stereochemistry. oemol.GetTitle(): \n",
      "Problematic atoms are:\n",
      "Atom atomic num: 6, name: , idx: 15, aromatic: False, chiral: True with bonds:\n",
      "bond order: 1, chiral: False to atom atomic num: 6, name: , idx: 12, aromatic: False, chiral: False\n",
      "bond order: 1, chiral: False to atom atomic num: 1, name: , idx: 16, aromatic: False, chiral: False\n",
      "bond order: 1, chiral: False to atom atomic num: 6, name: , idx: 17, aromatic: False, chiral: False\n",
      "bond order: 1, chiral: False to atom atomic num: 7, name: , idx: 21, aromatic: False, chiral: False\n",
      "\n",
      "Preparation                   : 100%|███████████| 99/99 [00:01<00:00, 88.58it/s]\n"
     ]
    }
   ],
   "source": [
    "#debug : there is an issue with generating the dataset, 98 molecules are being filtered. \n",
    "\n",
    "dataset_factory = TorsiondriveDatasetFactory()\n",
    "\n",
    "\n",
    "dataset = dataset_factory.create_dataset(\n",
    "    dataset_name=\"OpenFF multiplicity correction torsion drive data v1.0\",\n",
    "    tagline=\"OpenFF multiplicity correction torsion drive data v1.0\",\n",
    "    description=\"We created new torsion parameters to correct multiplicity issues in the force field. These torsions are for training of the new torsion parameters which do not have preexisting data in the training datasets.\",\n",
    "    molecules=molecules,\n",
    ")\n",
    "\n",
    "dataset.metadata.submitter = \"jmaat\"\n",
    "dataset.metadata.long_description_url = (\n",
    "    \"https://github.com/openforcefield/qca-dataset-submission/tree/master/\"\n",
    "    \"submissions/\"\n",
    "    \"2022-04-29-OpenFF-multiplicity-correction-torsion-drive-data-v1.0\"\n",
    ")"
   ]
  },
  {
   "cell_type": "code",
   "execution_count": 188,
   "metadata": {},
   "outputs": [
    {
     "name": "stdout",
     "output_type": "stream",
     "text": [
      "[Molecule with name '[H:1][c:2]1[c:3](c(c(c([c:4]1[H])[H])N([H])C(=O)C([H])([H])C([H])([H])[S+](C([H])([H])[H])C([H])([H])[H])[H])[H]' and SMILES '[H]c1c(c(c(c(c1[H])[H])N([H])C(=O)C([H])([H])C([H])([H])[S+](C([H])([H])[H])C([H])([H])[H])[H])[H]']\n"
     ]
    }
   ],
   "source": [
    "dir(dataset)\n",
    "print(list(dataset.molecules))"
   ]
  },
  {
   "cell_type": "markdown",
   "metadata": {},
   "source": [
    "molecules[12]"
   ]
  },
  {
   "cell_type": "code",
   "execution_count": 189,
   "metadata": {},
   "outputs": [
    {
     "name": "stdout",
     "output_type": "stream",
     "text": [
      "Number of unique molecules        1\n",
      "Number of filtered molecules      98\n",
      "Number of torsion drives          1\n",
      "Number of conformers min mean max 1   1.00 1\n",
      "Mean molecular weight: 210.32\n",
      "Max molecular weight: 210.32\n",
      "Charges: [1.0]\n"
     ]
    }
   ],
   "source": [
    "confs = np.array([len(mol.conformers) for mol in dataset.molecules])\n",
    "\n",
    "print(\"Number of unique molecules       \", dataset.n_molecules)\n",
    "print(\"Number of filtered molecules     \", dataset.n_filtered)\n",
    "print(\"Number of torsion drives         \", dataset.n_records)\n",
    "print(\"Number of conformers min mean max\",\n",
    "      confs.min(), \"{:6.2f}\".format(confs.mean()), confs.max())\n",
    "\n",
    "masses = []\n",
    "for molecule in dataset.molecules:\n",
    "    mass = sum(atom.mass.value_in_unit(unit.dalton) for atom in molecule.atoms)\n",
    "    masses.append(mass)\n",
    "\n",
    "print(f'Mean molecular weight: {np.mean(np.array(masses)):.2f}')\n",
    "print(f'Max molecular weight: {np.max(np.array(masses)):.2f}')\n",
    "print(\"Charges:\", sorted(set(m.total_charge/m.total_charge.unit for m in dataset.molecules)))"
   ]
  },
  {
   "cell_type": "code",
   "execution_count": 190,
   "metadata": {},
   "outputs": [
    {
     "name": "stdout",
     "output_type": "stream",
     "text": [
      "{'collection_type': 'TorsionDriveDataset',\n",
      " 'creation_date': datetime.date(2022, 5, 20),\n",
      " 'dataset_name': 'OpenFF multiplicity correction torsion drive data v1.0',\n",
      " 'elements': {'C', 'S', 'O', 'N', 'H'},\n",
      " 'long_description': 'We created new torsion parameters to correct '\n",
      "                     'multiplicity issues in the force field. These torsions '\n",
      "                     'are for training of the new torsion parameters which do '\n",
      "                     'not have preexisting data in the training datasets.',\n",
      " 'long_description_url': HttpUrl('https://github.com/openforcefield/qca-dataset-submission/tree/master/submissions/2022-04-29-OpenFF-multiplicity-correction-torsion-drive-data-v1.0', scheme='https', host='github.com', tld='com', host_type='domain', port='443', path='/openforcefield/qca-dataset-submission/tree/master/submissions/2022-04-29-OpenFF-multiplicity-correction-torsion-drive-data-v1.0'),\n",
      " 'short_description': 'OpenFF multiplicity correction torsion drive data v1.0',\n",
      " 'submitter': 'jmaat'}\n"
     ]
    }
   ],
   "source": [
    "pprint(dataset.metadata.dict())"
   ]
  },
  {
   "cell_type": "code",
   "execution_count": 191,
   "metadata": {},
   "outputs": [],
   "source": [
    "dataset.priority = 'high'"
   ]
  },
  {
   "cell_type": "code",
   "execution_count": 192,
   "metadata": {},
   "outputs": [
    {
     "name": "stdout",
     "output_type": "stream",
     "text": [
      "Spec: default\n",
      "{'basis': 'DZVP',\n",
      " 'implicit_solvent': None,\n",
      " 'keywords': None,\n",
      " 'maxiter': 200,\n",
      " 'method': 'B3LYP-D3BJ',\n",
      " 'program': 'psi4',\n",
      " 'scf_properties': ['dipole',\n",
      "                    'quadrupole',\n",
      "                    'wiberg_lowdin_indices',\n",
      "                    'mayer_indices'],\n",
      " 'spec_description': 'Standard OpenFF optimization quantum chemistry '\n",
      "                     'specification.',\n",
      " 'spec_name': 'default',\n",
      " 'store_wavefunction': 'none'}\n"
     ]
    }
   ],
   "source": [
    "for spec, obj in dataset.qc_specifications.items():\n",
    "    print(\"Spec:\", spec)\n",
    "    pprint(obj.dict())"
   ]
  },
  {
   "cell_type": "code",
   "execution_count": 195,
   "metadata": {},
   "outputs": [
    {
     "ename": "AttributeError",
     "evalue": "'TorsiondriveDataset' object has no attribute 'scf_properties'",
     "output_type": "error",
     "traceback": [
      "\u001b[0;31m---------------------------------------------------------------------------\u001b[0m",
      "\u001b[0;31mAttributeError\u001b[0m                            Traceback (most recent call last)",
      "Input \u001b[0;32mIn [195]\u001b[0m, in \u001b[0;36m<cell line: 1>\u001b[0;34m()\u001b[0m\n\u001b[0;32m----> 1\u001b[0m \u001b[38;5;28mprint\u001b[39m(\u001b[43mdataset\u001b[49m\u001b[38;5;241;43m.\u001b[39;49m\u001b[43mscf_properties\u001b[49m)\n",
      "\u001b[0;31mAttributeError\u001b[0m: 'TorsiondriveDataset' object has no attribute 'scf_properties'"
     ]
    }
   ],
   "source": [
    "print(dataset.scf_properties)"
   ]
  },
  {
   "cell_type": "code",
   "execution_count": 197,
   "metadata": {
    "pycharm": {
     "name": "#%%\n"
    }
   },
   "outputs": [],
   "source": [
    "dataset.export_dataset(\"dataset.json.bz2\")\n",
    "dataset.molecules_to_file(\"dataset.smi\", \"smi\")\n",
    "\n",
    "dataset.visualize(\"dataset.pdf\", columns=8)"
   ]
  },
  {
   "cell_type": "code",
   "execution_count": null,
   "metadata": {},
   "outputs": [],
   "source": []
  }
 ],
 "metadata": {
  "kernelspec": {
   "display_name": "Python 3 (ipykernel)",
   "language": "python",
   "name": "python3"
  },
  "language_info": {
   "codemirror_mode": {
    "name": "ipython",
    "version": 3
   },
   "file_extension": ".py",
   "mimetype": "text/x-python",
   "name": "python",
   "nbconvert_exporter": "python",
   "pygments_lexer": "ipython3",
   "version": "3.8.13"
  }
 },
 "nbformat": 4,
 "nbformat_minor": 2
}
