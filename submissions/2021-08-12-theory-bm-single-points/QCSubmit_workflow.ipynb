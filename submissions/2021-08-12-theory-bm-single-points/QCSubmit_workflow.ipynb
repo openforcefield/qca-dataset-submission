{
 "cells": [
  {
   "cell_type": "code",
   "execution_count": 1,
   "id": "e1d88722",
   "metadata": {},
   "outputs": [],
   "source": [
    "from openff.qcsubmit.datasets import OptimizationDataset\n",
    "from pprint import pprint"
   ]
  },
  {
   "cell_type": "code",
   "execution_count": 2,
   "id": "c41984b1",
   "metadata": {},
   "outputs": [
    {
     "name": "stderr",
     "output_type": "stream",
     "text": [
      "/home/maverick/anaconda3/envs/openff-force-fields/lib/python3.9/site-packages/openff/qcsubmit/validators.py:255: UserWarning: The molecule C12H10NO2S has a net charge of -1.0.\n",
      "  warnings.warn(\n",
      "/home/maverick/anaconda3/envs/openff-force-fields/lib/python3.9/site-packages/openff/qcsubmit/validators.py:255: UserWarning: The molecule C8H6N3O has a net charge of -1.0.\n",
      "  warnings.warn(\n",
      "/home/maverick/anaconda3/envs/openff-force-fields/lib/python3.9/site-packages/openff/qcsubmit/validators.py:255: UserWarning: The molecule C9H10N3 has a net charge of 1.0.\n",
      "  warnings.warn(\n",
      "/home/maverick/anaconda3/envs/openff-force-fields/lib/python3.9/site-packages/openff/qcsubmit/validators.py:255: UserWarning: The molecule C12H12N has a net charge of 1.0.\n",
      "  warnings.warn(\n",
      "/home/maverick/anaconda3/envs/openff-force-fields/lib/python3.9/site-packages/openff/qcsubmit/validators.py:255: UserWarning: The molecule C7H8NOS has a net charge of -1.0.\n",
      "  warnings.warn(\n",
      "/home/maverick/anaconda3/envs/openff-force-fields/lib/python3.9/site-packages/openff/qcsubmit/validators.py:255: UserWarning: The molecule C11H17N2 has a net charge of 1.0.\n",
      "  warnings.warn(\n",
      "/home/maverick/anaconda3/envs/openff-force-fields/lib/python3.9/site-packages/openff/qcsubmit/validators.py:255: UserWarning: The molecule C8H8NO2 has a net charge of -1.0.\n",
      "  warnings.warn(\n",
      "/home/maverick/anaconda3/envs/openff-force-fields/lib/python3.9/site-packages/openff/qcsubmit/validators.py:255: UserWarning: The molecule C13H12N3O has a net charge of -1.0.\n",
      "  warnings.warn(\n",
      "/home/maverick/anaconda3/envs/openff-force-fields/lib/python3.9/site-packages/openff/qcsubmit/validators.py:255: UserWarning: The molecule C12H18N has a net charge of 1.0.\n",
      "  warnings.warn(\n",
      "/home/maverick/anaconda3/envs/openff-force-fields/lib/python3.9/site-packages/openff/qcsubmit/validators.py:255: UserWarning: The molecule C7H5N4 has a net charge of -1.0.\n",
      "  warnings.warn(\n",
      "/home/maverick/anaconda3/envs/openff-force-fields/lib/python3.9/site-packages/openff/qcsubmit/validators.py:255: UserWarning: The molecule C10H16N3O has a net charge of 1.0.\n",
      "  warnings.warn(\n",
      "/home/maverick/anaconda3/envs/openff-force-fields/lib/python3.9/site-packages/openff/qcsubmit/validators.py:255: UserWarning: The molecule C7H16N has a net charge of 1.0.\n",
      "  warnings.warn(\n",
      "/home/maverick/anaconda3/envs/openff-force-fields/lib/python3.9/site-packages/openff/qcsubmit/validators.py:255: UserWarning: The molecule C10H15N2 has a net charge of 1.0.\n",
      "  warnings.warn(\n"
     ]
    }
   ],
   "source": [
    "dataset = OptimizationDataset.parse_file('../2020-11-25-theory-bm-set-mp2-heavy-aug-cc-pvtz/dataset-v1.1.json.bz2')"
   ]
  },
  {
   "cell_type": "code",
   "execution_count": 3,
   "id": "4796686a",
   "metadata": {},
   "outputs": [],
   "source": [
    "dataset.clear_qcspecs()"
   ]
  },
  {
   "cell_type": "code",
   "execution_count": 4,
   "id": "683e2512",
   "metadata": {},
   "outputs": [
    {
     "data": {
      "text/plain": [
       "{}"
      ]
     },
     "execution_count": 4,
     "metadata": {},
     "output_type": "execute_result"
    }
   ],
   "source": [
    "dataset.qc_specifications"
   ]
  },
  {
   "cell_type": "code",
   "execution_count": 5,
   "id": "d042f864",
   "metadata": {},
   "outputs": [],
   "source": [
    "dataset.add_qc_spec(basis='DEF2-TZVP',\n",
    " implicit_solvent=None,\n",
    " keywords=None,\n",
    " method='B3LYP-D3BJ',\n",
    " program='psi4',\n",
    " spec_description='Single point calculation',\n",
    " spec_name='B3LYP-D3BJ/DEF2-TZVP',\n",
    " store_wavefunction='none')\n",
    "\n",
    "dataset.add_qc_spec(basis='DEF2-TZVPD',\n",
    " implicit_solvent=None,\n",
    " keywords=None,\n",
    " method='B3LYP-D3BJ',\n",
    " program='psi4',\n",
    " spec_description='Single point calculation',\n",
    " spec_name='B3LYP-D3BJ/DEF2-TZVPD',\n",
    " store_wavefunction='none')\n",
    "\n",
    "dataset.add_qc_spec(basis='DEF2-TZVPP',\n",
    " implicit_solvent=None,\n",
    " keywords=None,\n",
    " method='B3LYP-D3BJ',\n",
    " program='psi4',\n",
    " spec_description='Single point calculation',\n",
    " spec_name='B3LYP-D3BJ/DEF2-TZVPP',\n",
    " store_wavefunction='none')\n",
    "\n",
    "dataset.add_qc_spec(basis='DEF2-TZVPPD',\n",
    " implicit_solvent=None,\n",
    " keywords=None,\n",
    " method='B3LYP-D3BJ',\n",
    " program='psi4',\n",
    " spec_description='Single point calculation',\n",
    " spec_name='B3LYP-D3BJ/DEF2-TZVPPD',\n",
    " store_wavefunction='none')\n",
    "\n",
    "dataset.add_qc_spec(basis='DEF2-QZVP',\n",
    " implicit_solvent=None,\n",
    " keywords=None,\n",
    " method='B3LYP-D3BJ',\n",
    " program='psi4',\n",
    " spec_description='Single point calculation',\n",
    " spec_name='B3LYP-D3BJ/DEF2-QZVP',\n",
    " store_wavefunction='none')\n",
    "\n",
    "dataset.add_qc_spec(basis='6-31+G**',\n",
    " implicit_solvent=None,\n",
    " keywords=None,\n",
    " method='B3LYP-D3BJ',\n",
    " program='psi4',\n",
    " spec_description='Single point calculation',\n",
    " spec_name='B3LYP-D3BJ/6-31+G**',\n",
    " store_wavefunction='none')\n",
    "\n",
    "dataset.add_qc_spec(basis='6-311+G**',\n",
    " implicit_solvent=None,\n",
    " keywords=None,\n",
    " method='B3LYP-D3BJ',\n",
    " program='psi4',\n",
    " spec_description='Single point calculation',\n",
    " spec_name='B3LYP-D3BJ/6-311+G**',\n",
    " store_wavefunction='none')\n",
    "\n",
    "dataset.add_qc_spec(basis='DZVP',\n",
    " implicit_solvent=None,\n",
    " keywords=None,\n",
    " method='WB97X-D3BJ',\n",
    " program='psi4',\n",
    " spec_description='Single point calculation',\n",
    " spec_name='WB97X-D3BJ/DZVP',\n",
    " store_wavefunction='none')\n",
    "\n",
    "dataset.add_qc_spec(basis='DZVP',\n",
    " implicit_solvent=None,\n",
    " keywords=None,\n",
    " method='PW6B95-D3BJ',\n",
    " program='psi4',\n",
    " spec_description='Single point calculation',\n",
    " spec_name='PW6B95-D3BJ/DZVP',\n",
    " store_wavefunction='none')\n",
    "\n",
    "dataset.add_qc_spec(basis='DZVP',\n",
    " implicit_solvent=None,\n",
    " keywords=None,\n",
    " method='B3LYP-D3MBJ',\n",
    " program='psi4',\n",
    " spec_description='Single point calculation',\n",
    " spec_name='B3LYP-D3MBJ/DZVP',\n",
    " store_wavefunction='none')\n",
    "\n",
    "dataset.add_qc_spec(basis='aug-cc-pVTZ',\n",
    " implicit_solvent=None,\n",
    " keywords=None,\n",
    " method='MP2',\n",
    " program='psi4',\n",
    " spec_description='Single point calculation',\n",
    " spec_name='MP2/aug-cc-pVTZ',\n",
    " store_wavefunction='none')\n",
    "\n",
    "dataset.add_qc_spec(basis='heavy-aug-cc-pVTZ',\n",
    " implicit_solvent=None,\n",
    " keywords=None,\n",
    " method='MP2',\n",
    " program='psi4',\n",
    " spec_description='Single point calculation',\n",
    " spec_name='MP2/heavy-aug-cc-pVTZ',\n",
    " store_wavefunction='none')"
   ]
  },
  {
   "cell_type": "code",
   "execution_count": 6,
   "id": "b582c8ca",
   "metadata": {},
   "outputs": [],
   "source": [
    "dataset.optimization_procedure.maxiter = 0"
   ]
  },
  {
   "cell_type": "code",
   "execution_count": 7,
   "id": "1271876e",
   "metadata": {},
   "outputs": [
    {
     "data": {
      "text/plain": [
       "GeometricProcedure(program='geometric', coordsys='dlc', enforce=0.0, epsilon=1e-05, reset=True, qccnv=False, molcnv=False, check=0, trust=0.1, tmax=0.3, maxiter=0, convergence_set='GAU', constraints={})"
      ]
     },
     "execution_count": 7,
     "metadata": {},
     "output_type": "execute_result"
    }
   ],
   "source": [
    "dataset.optimization_procedure"
   ]
  },
  {
   "cell_type": "code",
   "execution_count": 8,
   "id": "b6ba9e63",
   "metadata": {},
   "outputs": [],
   "source": [
    "dataset.description = 'Single point calculations of torsiondrive final geometries from default spec calculation with different basis sets and functionals'"
   ]
  },
  {
   "cell_type": "code",
   "execution_count": 9,
   "id": "ffc2f8c4",
   "metadata": {},
   "outputs": [],
   "source": [
    "dataset.metadata.submitter = 'pavankum'\n",
    "dataset.metadata.dataset_name = 'OpenFF Theory Benchmarking Single Point Energies v1.0'\n",
    "dataset.metadata.long_description = 'Single point calculations of torsiondrive final geometries from default spec calculation with different basis sets and functionals'\n",
    "dataset.metadata.long_description_url = 'https://github.com/openforcefield/qca-dataset-submission/tree/master/submissions/2021-08-12-theory-bm-single-points'\n"
   ]
  },
  {
   "cell_type": "code",
   "execution_count": 10,
   "id": "1631149d",
   "metadata": {},
   "outputs": [
    {
     "data": {
      "text/plain": [
       "Metadata(submitter='pavankum', creation_date=datetime.date(2021, 7, 19), collection_type='OptimizationDataset', dataset_name='OpenFF Theory Benchmarking Single Point Energies v1.0', short_description='Optimized geometries for benchmaking MP2/heavy-aug-cc-pVTZ', long_description_url=HttpUrl('https://github.com/openforcefield/qca-dataset-submission/tree/master/submissions/2021-08-12-theory-bm-single-points', scheme='https', host='github.com', tld='com', host_type='domain', path='/openforcefield/qca-dataset-submission/tree/master/submissions/2021-08-12-theory-bm-single-points'), long_description='Single point calculations of torsiondrive final geometries from default spec calculation with different basis sets and functionals', elements=set())"
      ]
     },
     "execution_count": 10,
     "metadata": {},
     "output_type": "execute_result"
    }
   ],
   "source": [
    "dataset.metadata"
   ]
  },
  {
   "cell_type": "code",
   "execution_count": 11,
   "id": "11ab8918",
   "metadata": {},
   "outputs": [
    {
     "data": {
      "text/plain": [
       "1416"
      ]
     },
     "execution_count": 11,
     "metadata": {},
     "output_type": "execute_result"
    }
   ],
   "source": [
    "dataset.n_records"
   ]
  },
  {
   "cell_type": "code",
   "execution_count": 12,
   "id": "f5f027ab",
   "metadata": {},
   "outputs": [],
   "source": [
    "# export the dataset\n",
    "dataset.export_dataset(\"dataset.json.bz2\")"
   ]
  },
  {
   "cell_type": "code",
   "execution_count": null,
   "id": "bb727f3b",
   "metadata": {},
   "outputs": [],
   "source": []
  }
 ],
 "metadata": {
  "kernelspec": {
   "display_name": "Python 3 (ipykernel)",
   "language": "python",
   "name": "python3"
  },
  "language_info": {
   "codemirror_mode": {
    "name": "ipython",
    "version": 3
   },
   "file_extension": ".py",
   "mimetype": "text/x-python",
   "name": "python",
   "nbconvert_exporter": "python",
   "pygments_lexer": "ipython3",
   "version": "3.9.6"
  }
 },
 "nbformat": 4,
 "nbformat_minor": 5
}
