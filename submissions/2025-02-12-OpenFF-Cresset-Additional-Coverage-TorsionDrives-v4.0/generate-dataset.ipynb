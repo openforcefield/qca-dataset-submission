{
 "cells": [
  {
   "cell_type": "markdown",
   "id": "68f26966-8f32-4f86-a1a8-4efd9c6ab24a",
   "metadata": {},
   "source": [
    "# Add Cresset TorsionDrives\n",
    "\n",
    "This notebook generates a TorsionDrive dataset based on particular molecules contributed by Cresset to address gaps in data coverage for five particular failure cases:\n",
    "\n",
    "1) Sage 2.1 t48a is fit only to one molecule,\n",
    "where the complementary torsion contributes most of the profile\n",
    "\n",
    "2) Sage 2.1 t17 may benefit from splitting and a different shape for non-symmetric rings;\n",
    "the current n=3 shape sums to a constant\n",
    "\n",
    "3) Sage 2.1 t19 is mostly trained to terminal methyls.\n",
    "It has a functional form where the n=1 term dominates unexpectedly,\n",
    "instead of the more expected equal n=3 contributions.\n",
    "More data with non-terminal methyls is added\n",
    "\n",
    "4) Sage 2.1 t18 covers amide-adjacent torsions but is not trained to many.\n",
    "\n",
    "5) Sage 2.1 t105 covers an O linker with an sp2 or sp3 terminus.\n",
    "While the sp3 profiles match the QM well, the sp2 profiles look too stiff.\n",
    "This adds more data."
   ]
  },
  {
   "cell_type": "code",
   "execution_count": 1,
   "id": "fb4ee84e-43dd-4fd6-a651-56771f482309",
   "metadata": {},
   "outputs": [],
   "source": [
    "import qcportal\n",
    "import pathlib\n",
    "\n",
    "from openff.toolkit import Molecule\n",
    "import numpy as np\n",
    "\n",
    "from openff.qcsubmit.utils import get_symmetry_classes, get_symmetry_group\n",
    "from openff.qcsubmit.workflow_components import TorsionIndexer\n",
    "from openff.qcsubmit import workflow_components\n",
    "from openff.qcsubmit.factories import TorsiondriveDatasetFactory\n",
    "from openff.qcsubmit.utils.visualize import molecules_to_pdf"
   ]
  },
  {
   "cell_type": "code",
   "execution_count": 2,
   "id": "16755910-6fcf-490a-a295-d2652a823ef2",
   "metadata": {},
   "outputs": [],
   "source": [
    "def load_case_molecules(\n",
    "    files: list[str],\n",
    "    patterns: list[str]\n",
    ") -> list[Molecule]:\n",
    "    \"\"\"Load SMILES from file and assign dihedrals to rotate around by pattern\"\"\"\n",
    "    case_molecules = []\n",
    "\n",
    "    for file in files:\n",
    "        molecules = Molecule.from_file(file, allow_undefined_stereo=True)\n",
    "    \n",
    "        for mol in molecules:\n",
    "            \n",
    "            unique_central_bonds = set()\n",
    "            torsion_indexer = TorsionIndexer()\n",
    "            symmetry_classes = get_symmetry_classes(mol)\n",
    "            \n",
    "            for pattern in patterns:\n",
    "                for match in mol.chemical_environment_matches(pattern):\n",
    "                    # ignore torsions around rings\n",
    "                    i, j, k, l = match\n",
    "                    if mol.get_bond_between(j, k).is_in_ring():\n",
    "                        continue\n",
    "                        \n",
    "                    symmetry_group = get_symmetry_group(match[1:3], symmetry_classes)\n",
    "                    central_bond = tuple(sorted(match[1:3]))\n",
    "                    if central_bond in unique_central_bonds:\n",
    "                        continue\n",
    "                        \n",
    "                    unique_central_bonds.add(central_bond)\n",
    "                    torsion_indexer.add_torsion(match, symmetry_group, (-165, 180))\n",
    "    \n",
    "            assert len(torsion_indexer.torsions)\n",
    "            mol.properties[\"dihedrals\"] = torsion_indexer\n",
    "            case_molecules.append(mol)\n",
    "    return case_molecules\n",
    "\n",
    "\n",
    "def visualize(mols, filename):\n",
    "    \"\"\"Draw output molecules as PDF\"\"\"\n",
    "    new_mols = []\n",
    "    for mol in mols:\n",
    "        for val in mol.properties[\"dihedrals\"].torsions.values():\n",
    "            new_mol = Molecule(mol)\n",
    "            new_mol.properties[\"dihedrals\"] = val.get_dihedrals\n",
    "            new_mols.append(new_mol)\n",
    "    molecules_to_pdf(new_mols, filename)"
   ]
  },
  {
   "cell_type": "code",
   "execution_count": 3,
   "id": "01d7a81b-0be1-40bb-b807-cbcad6115690",
   "metadata": {},
   "outputs": [
    {
     "data": {
      "text/plain": [
       "24"
      ]
     },
     "execution_count": 3,
     "metadata": {},
     "output_type": "execute_result"
    }
   ],
   "source": [
    "case_1_molecules = load_case_molecules(\n",
    "    files=[\"inputs/type1.smi\", \"inputs/type1_aro.smi\"],\n",
    "    patterns=[\n",
    "        \"[#6X3:1]=[#6X3:2]-[#6X3:3](~[#8X1])~[#8X1:4]\",\n",
    "        \"[*:1]~[#6X3:2]-[#6X3$(*=[#8,#16,#7]):3]~[*:4]\"\n",
    "    ],\n",
    ")\n",
    "visualize(case_1_molecules, \"inputs/type1_molecules.pdf\")\n",
    "len(case_1_molecules)"
   ]
  },
  {
   "cell_type": "code",
   "execution_count": 4,
   "id": "a802704b-05bd-4fdc-8739-59357beb4ee5",
   "metadata": {},
   "outputs": [
    {
     "data": {
      "text/plain": [
       "17"
      ]
     },
     "execution_count": 4,
     "metadata": {},
     "output_type": "execute_result"
    }
   ],
   "source": [
    "case_2_molecules = load_case_molecules(\n",
    "    files=[\"inputs/type2.smi\"],\n",
    "    patterns=[\"[*:1]~[#6X3:2]-[#6X4:3]~[*:4]\"],\n",
    ")\n",
    "visualize(case_2_molecules, \"inputs/type2_molecules.pdf\")\n",
    "len(case_2_molecules)"
   ]
  },
  {
   "cell_type": "code",
   "execution_count": 5,
   "id": "6f5cb942-40e7-4546-8264-441b43e92ce7",
   "metadata": {},
   "outputs": [
    {
     "data": {
      "text/plain": [
       "15"
      ]
     },
     "execution_count": 5,
     "metadata": {},
     "output_type": "execute_result"
    }
   ],
   "source": [
    "case_3_molecules = load_case_molecules(\n",
    "    files=[\"inputs/type3+4.smi\"],\n",
    "    patterns=[\"[*:1]-[#6X4:2]-[#6X3:3]=[*:4]\"],\n",
    ")\n",
    "visualize(case_3_molecules, \"inputs/type3+4_molecules.pdf\")\n",
    "len(case_3_molecules)"
   ]
  },
  {
   "cell_type": "code",
   "execution_count": 6,
   "id": "6298eb4e-a1e7-4e17-9b99-480d66f27d47",
   "metadata": {},
   "outputs": [
    {
     "data": {
      "text/plain": [
       "14"
      ]
     },
     "execution_count": 6,
     "metadata": {},
     "output_type": "execute_result"
    }
   ],
   "source": [
    "case_5_molecules = load_case_molecules(\n",
    "    files=[\"inputs/type5.smi\"],\n",
    "    patterns=[\"[*:1]-[#8X2:2]-[#6X3:3]-[*:4]\"],\n",
    ")\n",
    "visualize(case_5_molecules, \"inputs/type5_molecules.pdf\")\n",
    "len(case_5_molecules)"
   ]
  },
  {
   "cell_type": "code",
   "execution_count": 7,
   "id": "4f6b9a60-ccdb-437a-a4ea-eb57b8f2c6ed",
   "metadata": {},
   "outputs": [
    {
     "data": {
      "text/plain": [
       "70"
      ]
     },
     "execution_count": 7,
     "metadata": {},
     "output_type": "execute_result"
    }
   ],
   "source": [
    "all_molecules = [\n",
    "    *case_1_molecules,\n",
    "    *case_2_molecules,\n",
    "    *case_3_molecules,\n",
    "    *case_5_molecules,\n",
    "]\n",
    "len(all_molecules)"
   ]
  },
  {
   "cell_type": "code",
   "execution_count": 8,
   "id": "0c654b61-293d-4481-8b5c-f468d7de49dd",
   "metadata": {},
   "outputs": [
    {
     "name": "stderr",
     "output_type": "stream",
     "text": [
      "Deduplication                 : 100%|█████████| 70/70 [00:00<00:00, 1316.59it/s]\n",
      "Warning: : Failed due to unspecified stereochemistry     | 0/70 [00:00<?, ?it/s]\n",
      "Warning: : Failed due to unspecified stereochemistry\n",
      "StandardConformerGenerator    : 100%|███████████| 70/70 [00:04<00:00, 15.95it/s]\n",
      "Preparation                   : 100%|███████████| 70/70 [00:01<00:00, 56.34it/s]\n"
     ]
    }
   ],
   "source": [
    "dataset_factory = TorsiondriveDatasetFactory()\n",
    "dataset_factory.add_workflow_components(\n",
    "    workflow_components.StandardConformerGenerator(max_conformers=5)\n",
    ")\n",
    "\n",
    "description = \"\"\"\\\n",
    "Molecules contributed by Cresset to address lack of data coverage for particular torsion drives.\n",
    "These molecules are contributed to address five failure cases:\n",
    "\n",
    "1) Sage 2.1 t48a is fit only to one molecule,\n",
    "where the complementary torsion contributes most of the profile\n",
    "\n",
    "2) Sage 2.1 t17 may benefit from splitting and a different shape for non-symmetric rings;\n",
    "the current n=3 shape sums to a constant\n",
    "\n",
    "3) Sage 2.1 t19 is mostly trained to terminal methyls.\n",
    "It has a functional form where the n=1 term dominates unexpectedly,\n",
    "instead of the more expected equal n=3 contributions.\n",
    "More data with non-terminal methyls is added\n",
    "\n",
    "4) Sage 2.1 t18 covers amide-adjacent torsions but is not trained to many.\n",
    "\n",
    "5) Sage 2.1 t105 covers an O linker with an sp2 or sp3 terminus.\n",
    "While the sp3 profiles match the QM well, the sp2 profiles look too stiff.\n",
    "This adds more data.\n",
    "\"\"\"\n",
    "\n",
    "dataset = dataset_factory.create_dataset(\n",
    "    dataset_name=\"OpenFF Cresset Additional Coverage TorsionDrives v4.0\",\n",
    "    tagline=\"OpenFF Cresset Additional Coverage TorsionDrives v4.0\",\n",
    "    description=description,\n",
    "    molecules=all_molecules,\n",
    ")\n",
    "\n",
    "dataset.metadata.submitter = \"lilyminium\"\n",
    "dataset.metadata.long_description_url = (\n",
    "    \"https://github.com/openforcefield/qca-dataset-submission/tree/master/\"\n",
    "    \"submissions/\" + str(pathlib.Path.cwd().name)\n",
    ")"
   ]
  },
  {
   "cell_type": "code",
   "execution_count": 9,
   "id": "37b4f87f-8096-4c4c-b270-e7408209e395",
   "metadata": {},
   "outputs": [
    {
     "name": "stdout",
     "output_type": "stream",
     "text": [
      "* Number of unique molecules: 70\n",
      "* Number of driven torsions: 82\n",
      "* Number of filtered molecules: 0\n",
      "* Number of conformers: 171\n",
      "* Number of conformers per molecule (min, mean, max): 1, 2.09, 5\n",
      "* Mean molecular weight: 145.98\n",
      "* Max molecular weight: 280.75\n",
      "* Charges: [-1.0, 0.0, 1.0]\n",
      "## Metadata\n",
      "* Elements: {S, Br, C, N, Cl, O, F, H}\n",
      "* Spec: default\n",
      "\t * basis: DZVP\n",
      "\t * implicit_solvent: None\n",
      "\t * keywords: {}\n",
      "\t * maxiter: 200\n",
      "\t * method: B3LYP-D3BJ\n",
      "\t * program: psi4\n",
      "\t* SCF properties:\n",
      "\t\t* dipole\n",
      "\t\t* quadrupole\n",
      "\t\t* wiberg_lowdin_indices\n",
      "\t\t* mayer_indices\n"
     ]
    }
   ],
   "source": [
    "# summarize dataset for readme\n",
    "confs = np.array([len(mol.conformers) for mol in dataset.molecules])\n",
    "\n",
    "print(\"* Number of unique molecules:\", dataset.n_molecules)\n",
    "# With multiple torsions per unique molecule, n_molecules * confs.mean() no\n",
    "# longer equals the number of conformers. instead, the number of dihedrals *\n",
    "# confs.mean() should equal the number of conformers. The dataset contains one\n",
    "# record per driven torsion (rather than combining multiple dihedrals into the\n",
    "# same record), so n_records is the same as manually adding up len(dihedrals)\n",
    "# for each record.\n",
    "print(\"* Number of driven torsions:\", dataset.n_records)\n",
    "print(\"* Number of filtered molecules:\", dataset.n_filtered)\n",
    "print(\"* Number of conformers:\", sum(confs))\n",
    "print(\n",
    "    \"* Number of conformers per molecule (min, mean, max): \"\n",
    "    f\"{confs.min()}, {confs.mean():.2f}, {confs.max()}\"\n",
    ")\n",
    "\n",
    "masses = [\n",
    "    [\n",
    "        sum([atom.mass.m for atom in molecule.atoms])\n",
    "        for molecule in dataset.molecules\n",
    "    ]\n",
    "]\n",
    "print(f\"* Mean molecular weight: {np.mean(np.array(masses)):.2f}\")\n",
    "print(f\"* Max molecular weight: {np.max(np.array(masses)):.2f}\")\n",
    "print(\"* Charges:\", sorted(set(m.total_charge.m for m in dataset.molecules)))\n",
    "\n",
    "\n",
    "print(\"## Metadata\")\n",
    "print(f\"* Elements: {{{', '.join(dataset.metadata.dict()['elements'])}}}\")\n",
    "\n",
    "\n",
    "fields = [\n",
    "    \"basis\",\n",
    "    \"implicit_solvent\",\n",
    "    \"keywords\",\n",
    "    \"maxiter\",\n",
    "    \"method\",\n",
    "    \"program\",\n",
    "]\n",
    "for spec, obj in dataset.qc_specifications.items():\n",
    "    od = obj.dict()\n",
    "    print(\"* Spec:\", spec)\n",
    "    for field in fields:\n",
    "        print(f\"\\t * {field}: {od[field]}\")\n",
    "    print(\"\\t* SCF properties:\")\n",
    "    for field in od[\"scf_properties\"]:\n",
    "        print(f\"\\t\\t* {field}\")\n",
    "\n",
    "\n",
    "# export the dataset\n",
    "dataset.export_dataset(\"dataset.json.bz2\")\n",
    "dataset.molecules_to_file(\"output.smi\", \"smi\")\n",
    "dataset.visualize(\"dataset.pdf\", columns=8)"
   ]
  },
  {
   "cell_type": "code",
   "execution_count": null,
   "id": "36f4bf2a-ffd4-4995-9fb7-23457844dd45",
   "metadata": {},
   "outputs": [],
   "source": []
  },
  {
   "cell_type": "code",
   "execution_count": null,
   "id": "5b3a6b4b-f06c-4fd6-8567-e27c58c6fc4a",
   "metadata": {},
   "outputs": [],
   "source": []
  }
 ],
 "metadata": {
  "kernelspec": {
   "display_name": "Python (qcarchive-user-submit)",
   "language": "python",
   "name": "qcarchive-user-submit"
  },
  "language_info": {
   "codemirror_mode": {
    "name": "ipython",
    "version": 3
   },
   "file_extension": ".py",
   "mimetype": "text/x-python",
   "name": "python",
   "nbconvert_exporter": "python",
   "pygments_lexer": "ipython3",
   "version": "3.11.11"
  }
 },
 "nbformat": 4,
 "nbformat_minor": 5
}
