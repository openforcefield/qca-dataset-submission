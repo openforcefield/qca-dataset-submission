{
 "cells": [
  {
   "cell_type": "code",
   "execution_count": 1,
   "metadata": {},
   "outputs": [
    {
     "data": {
      "application/vnd.jupyter.widget-view+json": {
       "model_id": "d2ce504eead84d7a81846d8d3443ba95",
       "version_major": 2,
       "version_minor": 0
      },
      "text/plain": []
     },
     "metadata": {},
     "output_type": "display_data"
    }
   ],
   "source": [
    "import contextlib\n",
    "from datetime import date\n",
    "from collections import Counter, defaultdict\n",
    "import warnings\n",
    "\n",
    "import periodictable\n",
    "import h5py\n",
    "import numpy as np\n",
    "\n",
    "import qcportal\n",
    "from qcportal.external import scaffold\n",
    "from qcportal.molecules import Molecule\n",
    "from qcportal.singlepoint import SinglepointDriver, QCSpecification\n",
    "from qcelemental.physical_constants import constants\n",
    "\n",
    "import tmos\n",
    "warnings.filterwarnings(\"ignore\", module=\"tmos\")\n",
    "\n",
    "ADDRESS = \"https://api.qcarchive.molssi.org:443\"\n",
    "#qc_client = qcportal.PortalClient(ADDRESS, cache_dir=\".\")\n",
    "from qcfractal.snowflake import FractalSnowflake\n",
    "import warnings\n",
    "snowflake = FractalSnowflake()\n",
    "client = snowflake.client()"
   ]
  },
  {
   "cell_type": "code",
   "execution_count": 2,
   "metadata": {},
   "outputs": [],
   "source": [
    "#!aria2c \"https://zenodo.org/records/17042449/files/tmqm_dataset_xtb_T100_raw_ext.hdf5.gz?download=1\""
   ]
  },
  {
   "cell_type": "markdown",
   "metadata": {},
   "source": [
    "## Helper Functions"
   ]
  },
  {
   "cell_type": "code",
   "execution_count": 3,
   "metadata": {},
   "outputs": [],
   "source": [
    "def remove_extraneous_dimension(array):\n",
    "    shape = list(np.shape(array))\n",
    "    if 1 in shape:\n",
    "        shape.remove(1)\n",
    "    return np.array(array).reshape(shape)\n",
    "\n",
    "def get_symbols(atomic_numbers):\n",
    "    return [str(periodictable.elements[x])for x in remove_extraneous_dimension(atomic_numbers)]\n",
    "\n",
    "def get_molecular_formula(atomic_numbers):\n",
    "    return \"\".join([str(y) for x1, x2 in Counter(get_symbols(atomic_numbers)).items() for y in [x1, x2] if y != 1])\n",
    "\n",
    "def get_molecular_weight(atomic_numbers):\n",
    "    return sum(periodictable.elements[x].mass for x in remove_extraneous_dimension(atomic_numbers))\n"
   ]
  },
  {
   "cell_type": "code",
   "execution_count": 4,
   "metadata": {},
   "outputs": [],
   "source": [
    "def apply_mapping(mapping, input_dict, index=0, lx=None):\n",
    "\n",
    "    output = defaultdict(dict)\n",
    "    for key, value in mapping.items():\n",
    "        if isinstance(value, str):\n",
    "            data = input_dict[value]\n",
    "#            print(value, np.shape(data), lx)\n",
    "            if not isinstance(data, str):\n",
    "                if key == \"geometry\" and np.shape(data)[0] != lx: # update number of frames\n",
    "                    lx = np.shape(data)[0]\n",
    "                \n",
    "                if key != \"geometry\":\n",
    "                    data = remove_extraneous_dimension(data)\n",
    "\n",
    "#                print(value, np.shape(data), lx)\n",
    "                if lx is not None: # and len(np.shape(data)) > 1:\n",
    "                    if len(data) == lx:\n",
    "                        output[key] = data[index]\n",
    "                        continue\n",
    "                    else:\n",
    "                        raise ValueError(f\"Expected {lx} configuration, but {len(data)} are present\")\n",
    "            output[key] = data\n",
    "        elif isinstance(value, tuple): # function, input pairs\n",
    "            output[key] = value[0](*(input_dict[k2] for k2 in value[1:]))\n",
    "        elif isinstance(value, list):\n",
    "            output[key].update({k2: input_dict[k2] for k2 in value})\n",
    "        elif isinstance(value, dict):\n",
    "            output[key].update(apply_mapping(value, input_dict, index=0, lx=None))\n",
    "            \n",
    "    return output\n",
    "            \n",
    "def convert_hdf5_group(hdf5_group):\n",
    "    output = {}\n",
    "    for key, value in hdf5_group.items():\n",
    "        if isinstance(value, h5py.Group):\n",
    "            output[key] = convert_hdf5_group(value)\n",
    "        elif isinstance(value, h5py.Dataset):\n",
    "            data = value[()]\n",
    "            if isinstance(data, np.ndarray):\n",
    "                output[key] = data\n",
    "            elif isinstance(data, np.bytes_):\n",
    "                output[key] = data.decode('utf-8')  # Convert to string\n",
    "            else:\n",
    "                output[key] = data.item() if isinstance(data, np.generic) else data  # Convert NumPy scalars\n",
    "        else:\n",
    "            output[key] = value\n",
    "\n",
    "    return output"
   ]
  },
  {
   "cell_type": "markdown",
   "metadata": {},
   "source": [
    "## Assembled Dataset"
   ]
  },
  {
   "cell_type": "code",
   "execution_count": 5,
   "metadata": {},
   "outputs": [],
   "source": [
    "dataset_name = \"tmQM xtb Dataset T=100K low-mw high-coordinate mult=5 v0.0\"\n",
    "tagline = \"BP86/def2-TZVP Conformers for single metal complexes with Pd, Fe, Zn, Cu, and change of {-1,0,+1} and multiplicity of 5. MW <= 600 Da, generally high coordinate, and a max of 31 geometry samples\"\n",
    "description = (\"\"\"\n",
    "This dataset was generated starting from an adaptation of the tmQM dataset (https://zenodo.org/records/17042449). \n",
    "This dataset contains 5,325 unique systems with 158,905 total configurations / spin states below 600 Da.  The molecules are \n",
    "limited to containing transition metals Pd, Zn, Fe, or Cu, and also only contain elements Br, C, H, P, S, O, N, F, Cl,\n",
    "with charges: {-1,0,+1}. The metal is restricted to greater than three coordination sites for Pd, four for Fe, \n",
    "and one for Cu and Zn. Each molecule was preprocessed using gfn2-xtb, and then a short MD simulation\n",
    "performed to provide a maximum of 30 off-optimum configurations in addition to the minimized geometry per molecules at \n",
    "a multiplicity of 5. This singlepoint dataset was then run with the BP86/def2-TZVP for with those geometries from molecular \n",
    "dynamics using gfn-xtb. Each configuration is reported with the following properties: 'energy', 'gradient', 'dipole', 'quadrupole',\n",
    "'wiberg_lowdin_indices', 'mayer_indices', 'lowdin_charges' 'dipole_polarizabilities', 'mulliken_charges'. SMILES\n",
    "strings where generated from tmos (https://github.com/openforcefield/tmos) when possible. These SMILES strings can be\n",
    "imported into RDKit for initial visualization, but will not reflect the coordinate geometries presented from tmQm.\n",
    "\"\"\")\n",
    "\n",
    "dataset = client.add_dataset( # https://docs.qcarchive.molssi.org/user_guide/qcportal_reference.html\n",
    "    \"singlepoint\", # collection type\n",
    "    dataset_name, # Dataset name\n",
    "    tagline=tagline,\n",
    "    description=description,\n",
    "    tags=[\"openff\"],\n",
    "    provenance={\n",
    "        \"qcportal\": qcportal.__version__,\n",
    "    },\n",
    "    default_tag=\"openff\",\n",
    "    extras={\n",
    "        \"submitter\": \"jaclark5\",\n",
    "        \"creation_date\": date.today(),\n",
    "        'collection_type': 'SinglepointDataset',\n",
    "        \"long_description\": description,\n",
    "        'long_description_url': f'https://github.com/openforcefield/qca-dataset-submission/tree/master/submissions/{dataset_name.replace(\" \", \"-\")}',\n",
    "        \"short_description\": tagline,\n",
    "        \"dataset_name\": dataset_name,\n",
    "    },\n",
    ")"
   ]
  },
  {
   "cell_type": "code",
   "execution_count": 6,
   "metadata": {},
   "outputs": [
    {
     "name": "stderr",
     "output_type": "stream",
     "text": [
      "/Users/jenniferclark/bin/mdanalysis/package/MDAnalysis/converters/RDKitInferring.py:109: UserWarning: '_MDAnalysis_index' not available on the input mol atoms, skipping reordering of atoms.\n",
      "  warnings.warn(\n",
      "/Users/jenniferclark/bin/mdanalysis/package/MDAnalysis/converters/RDKitInferring.py:633: UserWarning: The standardization could not be completed within a reasonable number of iterations\n",
      "  warnings.warn(\n"
     ]
    }
   ],
   "source": [
    "METALS_SYMBOLS = [periodictable.elements[x].symbol for x in tmos.reference_values.METALS_NUM]\n",
    "\n",
    "hdf5_mapping = {\n",
    "    \"symbols\": (get_symbols, \"atomic_numbers\"), \n",
    "    \"geometry\": \"geometry\",\n",
    "    \"molecular_charge\": \"total_charge\",\n",
    "    \"molecular_multiplicity\": \"spin_multiplicity\",\n",
    "    \"identifiers\": {\"molecular_formula\": (get_molecular_formula, \"atomic_numbers\"),},\n",
    "    \"extras\": {'molecular_weight': (get_molecular_weight, \"atomic_numbers\")},\n",
    "}\n",
    "\n",
    "elements, molecular_weights, charges = [], [], []\n",
    "conformers = Counter()\n",
    "count_molecules = 0\n",
    "\n",
    "errors = defaultdict(list)\n",
    "errors_mult = []\n",
    "errors_misc = defaultdict(lambda: defaultdict(list))\n",
    "failed_metals = defaultdict(lambda: 0)\n",
    "count_no = 0\n",
    "\n",
    "mult = 5\n",
    "hdf5 = h5py.File(\"tmqm_dataset_xtb_T100_raw_ext.hdf5\", 'r')\n",
    "for ii, (label, mol_hdf5) in enumerate(hdf5.items()):\n",
    "    if f\"sm{mult}\" not in label:\n",
    "        continue\n",
    "\n",
    "    mol_dict = convert_hdf5_group(mol_hdf5)\n",
    "    lx = mol_dict[\"n_configs\"]\n",
    "    \n",
    "    ## Decide to filter\n",
    "    try:\n",
    "        input = apply_mapping(hdf5_mapping, mol_dict, index=0, lx=lx-1)\n",
    "    except Exception as e:\n",
    "        continue\n",
    "    input[\"geometry\"] *= 10 # Convert from nm to Angstroms\n",
    "    \n",
    "    rdmol_draft = tmos.build_rdmol.xyz_to_rdkit(input[\"symbols\"], input[\"geometry\"], ignore_scale=True)\n",
    "    tm_idx = tmos.find_metal_index(rdmol_draft)\n",
    "    _, n_bonds = tmos.geometry.get_geometry_from_mol(rdmol_draft, tm_idx)\n",
    "    if (\n",
    "        (n_bonds < 5 and rdmol_draft.GetAtoms()[tm_idx].GetSymbol() == \"Fe\") or\n",
    "        (n_bonds < 4 and rdmol_draft.GetAtoms()[tm_idx].GetSymbol() == \"Pd\") or \n",
    "        n_bonds < 2\n",
    "    ):\n",
    "        count_no += 1\n",
    "        continue\n",
    "    try:\n",
    "        result  = tmos.sanitize_complex(rdmol_draft, value_missing_coord=np.nan)\n",
    "    except Exception as e:\n",
    "        metal = [x for x in input['symbols'] if x in METALS_SYMBOLS][0]\n",
    "        errors[str(e)[:40].strip()].append([label, metal, e, tmos.utils.first_traceback()])\n",
    "        result = None\n",
    "    ## Import conformers\n",
    "    for i in range(lx-1):\n",
    "        # Get values from HDF5\n",
    "        qc_input = apply_mapping(hdf5_mapping, mol_dict, index=i, lx=lx-1)\n",
    "        qc_input[\"geometry\"] *= 10 / constants.bohr2angstroms # Convert from nm to Bohr (a0)\n",
    "        if result is not None:\n",
    "            for key in result.keys():\n",
    "                if result[key][\"complex_info\"][\"total_charge\"] == qc_input[\"molecular_charge\"]:\n",
    "                    qc_input[\"identifiers\"][\"smiles\"] = result[key][\"complex_info\"][\"smiles\"]\n",
    "    \n",
    "        try:\n",
    "            molecule = Molecule(\n",
    "                name=label,\n",
    "                fix_com=True,\n",
    "                fix_orientation=True,\n",
    "                fix_symmetry=\"c1\",\n",
    "                comment=\"Molecule coordinates taken from tmQM and SMILES from tmos\",\n",
    "                **qc_input\n",
    "            )\n",
    "            dataset.add_entry(name=label+f\"_{i}\", molecule=molecule)\n",
    "            count_molecules += 1\n",
    "            conformers[label[:-4]] += 1\n",
    "        except Exception as e:\n",
    "            if \"Inconsistent or unspecified chg/mult\" in str(e):\n",
    "                errors_mult.append(label)\n",
    "            else:\n",
    "                errors_misc[str(e)[:30]][label].append([i, str(e)])\n",
    "            continue\n",
    "\n",
    "        elements.extend(list(set(qc_input['symbols'])))\n",
    "        molecular_weights.append(qc_input['extras'][\"molecular_weight\"])\n",
    "        charges.append(qc_input[\"molecular_charge\"])\n",
    "\n",
    "dataset.extras[\"elements\"] = sorted(list(set(elements)))\n",
    "        "
   ]
  },
  {
   "cell_type": "code",
   "execution_count": 7,
   "metadata": {},
   "outputs": [
    {
     "name": "stdout",
     "output_type": "stream",
     "text": [
      "Number of molecules removed for solvent assessment: 7981\n",
      "Number of molecules removed for unspecified chg/mult: 0\n",
      "Number of conformers accepted: 158905\n"
     ]
    }
   ],
   "source": [
    "print(f\"Number of molecules removed for solvent assessment: {count_no}\")\n",
    "print(f\"Number of molecules removed for unspecified chg/mult: {len(errors_mult)}\")\n",
    "print(f\"Number of conformers accepted: {len(dataset.entry_names)}\")"
   ]
  },
  {
   "cell_type": "code",
   "execution_count": 8,
   "metadata": {},
   "outputs": [
    {
     "name": "stdout",
     "output_type": "stream",
     "text": [
      "158905 conformers were imported.\n",
      "\n",
      "The following errors DO remove molecules from the dataset:\n",
      "    None\n",
      "\n",
      "There were 384 molecules of 158905 that failed to create SMILES.\n"
     ]
    }
   ],
   "source": [
    "print(f\"{len(dataset.entry_names)} conformers were imported.\")\n",
    "\n",
    "print(\"\\nThe following errors DO remove molecules from the dataset:\")\n",
    "if not errors_misc:\n",
    "    print(\"    None\")\n",
    "for err, values in errors_misc.items():\n",
    "    print(f\"    {len(values)}: '{err}'\")\n",
    "\n",
    "print(f\"\\nThere were {sum([len(x) for x in errors.values()])} molecules of {len(dataset.entry_names)} that failed to create SMILES.\")"
   ]
  },
  {
   "cell_type": "code",
   "execution_count": 9,
   "metadata": {},
   "outputs": [
    {
     "data": {
      "text/plain": [
       "InsertMetadata(error_description=None, errors=[], inserted_idx=[0], existing_idx=[])"
      ]
     },
     "execution_count": 9,
     "metadata": {},
     "output_type": "execute_result"
    }
   ],
   "source": [
    "spec = QCSpecification(\n",
    "        program='psi4',\n",
    "        driver=SinglepointDriver.gradient,\n",
    "        method='BP86',\n",
    "        basis='def2-TZVP',\n",
    "        keywords={\n",
    "            'maxiter': 500, \n",
    "            'scf_properties': ['dipole', 'quadrupole', 'wiberg_lowdin_indices', 'mayer_indices', 'lowdin_charges', 'mulliken_charges'],\n",
    "            'function_kwargs': {'properties': ['dipole_polarizabilities']},\n",
    "        },\n",
    "        protocols={'wavefunction': 'none'}\n",
    "    )\n",
    "dataset.add_specification(name=\"BP86/def2-TZVP\", specification=spec)"
   ]
  },
  {
   "cell_type": "code",
   "execution_count": 10,
   "metadata": {},
   "outputs": [],
   "source": [
    "scaffold.to_json(dataset, compress=True)\n",
    "#dataset.submit()"
   ]
  },
  {
   "cell_type": "markdown",
   "metadata": {},
   "source": [
    "## Make Outputs"
   ]
  },
  {
   "cell_type": "code",
   "execution_count": 11,
   "metadata": {},
   "outputs": [
    {
     "name": "stdout",
     "output_type": "stream",
     "text": [
      "Elements: ['Br', 'C', 'Cl', 'Cu', 'F', 'Fe', 'H', 'N', 'O', 'P', 'Pd', 'S', 'Zn']\n",
      "Charges: [-1.0, 0.0, 1.0]\n",
      "Molecular Weight (min mean max): 190 462 600\n",
      "Number of Molecules: 5325\n",
      "Number of Conformers: 158905\n",
      "Number of conformers (min mean max): 3 30 31\n"
     ]
    }
   ],
   "source": [
    "print(\"Elements:\", dataset.extras[\"elements\"])\n",
    "print(\"Charges:\", sorted(set(charges)))\n",
    "print(\"Molecular Weight (min mean max):\", int(np.min(molecular_weights)), int(np.mean(molecular_weights)), int(np.max(molecular_weights)))\n",
    "            \n",
    "print(\"Number of Molecules:\", len(conformers))\n",
    "print(\"Number of Conformers:\", sum(conformers.values()))\n",
    "n_conformers = np.array(list(conformers.values())) + 1\n",
    "print(\"Number of conformers (min mean max):\", int(np.min(n_conformers)), int(np.mean(n_conformers)), int(np.max(n_conformers)))"
   ]
  }
 ],
 "metadata": {
  "kernelspec": {
   "display_name": "qca",
   "language": "python",
   "name": "python3"
  },
  "language_info": {
   "codemirror_mode": {
    "name": "ipython",
    "version": 3
   },
   "file_extension": ".py",
   "mimetype": "text/x-python",
   "name": "python",
   "nbconvert_exporter": "python",
   "pygments_lexer": "ipython3",
   "version": "3.11.12"
  }
 },
 "nbformat": 4,
 "nbformat_minor": 2
}
