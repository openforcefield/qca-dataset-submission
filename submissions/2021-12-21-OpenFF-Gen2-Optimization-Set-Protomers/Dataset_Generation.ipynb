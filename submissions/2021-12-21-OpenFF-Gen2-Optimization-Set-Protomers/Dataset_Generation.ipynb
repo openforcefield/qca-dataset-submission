{
 "cells": [
  {
   "cell_type": "code",
   "execution_count": 1,
   "id": "d5c62adc",
   "metadata": {},
   "outputs": [],
   "source": [
    "from openff.qcsubmit.common_structures import QCSpec, SCFProperties\n",
    "from openff.qcsubmit.factories import OptimizationDatasetFactory\n",
    "from openff.qcsubmit import workflow_components\n",
    "import numpy as np\n",
    "from qcelemental.models.results import WavefunctionProtocolEnum\n",
    "from qcportal.models.common_models import DriverEnum\n",
    "from openeye import oechem"
   ]
  },
  {
   "cell_type": "code",
   "execution_count": 2,
   "id": "ea9dcb6a",
   "metadata": {},
   "outputs": [
    {
     "data": {
      "text/plain": [
       "{'qc_specifications': {'default': {'method': 'b3lyp-d3bj',\n",
       "   'basis': 'dzvp',\n",
       "   'program': 'psi4',\n",
       "   'spec_name': 'default',\n",
       "   'spec_description': 'Standard OpenFF optimization quantum chemistry specification.',\n",
       "   'store_wavefunction': 'none',\n",
       "   'implicit_solvent': None,\n",
       "   'maxiter': 200,\n",
       "   'scf_properties': ['dipole',\n",
       "    'quadrupole',\n",
       "    'wiberg_lowdin_indices',\n",
       "    'mayer_indices',\n",
       "    'mbis_charges'],\n",
       "   'keywords': None}},\n",
       " 'driver': 'gradient',\n",
       " 'priority': 'normal',\n",
       " 'dataset_tags': ['openff'],\n",
       " 'compute_tag': 'openff',\n",
       " 'type': 'OptimizationDatasetFactory',\n",
       " 'workflow': [{'type': 'StandardConformerGenerator',\n",
       "   'rms_cutoff': None,\n",
       "   'max_conformers': 10,\n",
       "   'clear_existing': True}],\n",
       " 'optimization_program': {'program': 'geometric',\n",
       "  'coordsys': 'dlc',\n",
       "  'enforce': 0.0,\n",
       "  'epsilon': 1e-05,\n",
       "  'reset': True,\n",
       "  'qccnv': False,\n",
       "  'molcnv': False,\n",
       "  'check': 0,\n",
       "  'trust': 0.1,\n",
       "  'tmax': 0.3,\n",
       "  'maxiter': 300,\n",
       "  'convergence_set': 'GAU',\n",
       "  'constraints': {}}}"
      ]
     },
     "execution_count": 2,
     "metadata": {},
     "output_type": "execute_result"
    }
   ],
   "source": [
    "factory = OptimizationDatasetFactory(qc_specifications={'default': QCSpec(method='b3lyp-d3bj', \n",
    "                                                                   basis='dzvp', \n",
    "                                                                   program='psi4', \n",
    "                                                                   spec_name='default', \n",
    "                                                                   spec_description='Standard OpenFF optimization quantum chemistry specification.',\n",
    "                                                                   implicit_solvent=None, \n",
    "                                                                   maxiter=200, \n",
    "                                                                   scf_properties=[SCFProperties.Dipole, SCFProperties.Quadrupole, SCFProperties.WibergLowdinIndices, \n",
    "                                                                                   SCFProperties.MayerIndices, SCFProperties.MBISCharges],\n",
    "                                                                         )},\n",
    "                                    )\n",
    "factory.add_workflow_components(workflow_components.StandardConformerGenerator(max_conformers=10))\n",
    "factory.dict()"
   ]
  },
  {
   "cell_type": "code",
   "execution_count": 3,
   "id": "c8da0524",
   "metadata": {
    "scrolled": true
   },
   "outputs": [
    {
     "name": "stderr",
     "output_type": "stream",
     "text": [
      "Warning (not error because allow_undefined_stereo=True): OEMol has unspecified stereochemistry. oemol.GetTitle(): Reasonable protomer: natoms = 13, net_chg = -1\n",
      "Problematic atoms are:\n",
      "Atom atomic num: 16, name: , idx: 7, aromatic: False, chiral: True with bonds:\n",
      "bond order: 1, chiral: False to atom atomic num: 6, name: , idx: 3, aromatic: True, chiral: False\n",
      "bond order: 2, chiral: False to atom atomic num: 8, name: , idx: 8, aromatic: False, chiral: False\n",
      "bond order: 1, chiral: False to atom atomic num: 8, name: , idx: 9, aromatic: False, chiral: False\n",
      "\n",
      "Warning (not error because allow_undefined_stereo=True): OEMol has unspecified stereochemistry. oemol.GetTitle(): Reasonable protomer: natoms = 29, net_chg = -1\n",
      "Problematic bonds are: [<openeye.oechem.OEBondBase; proxy of <Swig Object of type 'OEChem::OEBondBase *' at 0x7fbf367eff60> >]\n",
      "\n",
      "Warning (not error because allow_undefined_stereo=True): OEMol has unspecified stereochemistry. oemol.GetTitle(): Reasonable protomer: natoms = 26, net_chg = 1\n",
      "Problematic bonds are: [<openeye.oechem.OEBondBase; proxy of <Swig Object of type 'OEChem::OEBondBase *' at 0x7fbf368284b0> >]\n",
      "\n",
      "Warning (not error because allow_undefined_stereo=True): OEMol has unspecified stereochemistry. oemol.GetTitle(): Reasonable protomer: natoms = 29, net_chg = 1\n",
      "Problematic bonds are: [<openeye.oechem.OEBondBase; proxy of <Swig Object of type 'OEChem::OEBondBase *' at 0x7fbf367bb9c0> >]\n",
      "\n",
      "Warning (not error because allow_undefined_stereo=True): OEMol has unspecified stereochemistry. oemol.GetTitle(): Reasonable protomer: natoms = 19, net_chg = 1\n",
      "Problematic bonds are: [<openeye.oechem.OEBondBase; proxy of <Swig Object of type 'OEChem::OEBondBase *' at 0x7fbf36784a20> >]\n",
      "\n",
      "Warning (not error because allow_undefined_stereo=True): OEMol has unspecified stereochemistry. oemol.GetTitle(): Reasonable protomer: natoms = 48, net_chg = -1\n",
      "Problematic atoms are:\n",
      "Atom atomic num: 6, name: , idx: 13, aromatic: False, chiral: True with bonds:\n",
      "bond order: 1, chiral: False to atom atomic num: 6, name: , idx: 12, aromatic: False, chiral: False\n",
      "bond order: 1, chiral: False to atom atomic num: 6, name: , idx: 14, aromatic: False, chiral: False\n",
      "bond order: 1, chiral: False to atom atomic num: 8, name: , idx: 19, aromatic: False, chiral: False\n",
      "bond order: 1, chiral: False to atom atomic num: 1, name: , idx: 34, aromatic: False, chiral: False\n",
      "\n",
      "Deduplication                 : 100%|████████| 256/256 [00:00<00:00, 726.31it/s]\n",
      "StandardConformerGenerator    :   0%|           | 1/252 [00:00<02:44,  1.53it/s]Warning: Reasonable protomer: natoms = 13, net_chg = -1: Failed due to unspecified stereochemistry\n",
      "StandardConformerGenerator    :   4%|▍          | 9/252 [00:00<00:21, 11.32it/s]Warning (not error because allow_undefined_stereo=True): OEMol has unspecified stereochemistry. oemol.GetTitle(): Reasonable protomer: natoms = 13, net_chg = -1\n",
      "Problematic atoms are:\n",
      "Atom atomic num: 16, name: , idx: 7, aromatic: False, chiral: True with bonds:\n",
      "bond order: 1, chiral: False to atom atomic num: 6, name: , idx: 3, aromatic: True, chiral: False\n",
      "bond order: 2, chiral: False to atom atomic num: 8, name: , idx: 8, aromatic: False, chiral: False\n",
      "bond order: 1, chiral: False to atom atomic num: 8, name: , idx: 9, aromatic: False, chiral: False\n",
      "\n",
      "StandardConformerGenerator    :   6%|▋         | 16/252 [00:01<00:11, 20.47it/s]Warning: Reasonable protomer: natoms = 9, net_chg = 0: Failed due to unspecified stereochemistry\n",
      "Warning (not error because allow_undefined_stereo=True): OEMol has unspecified stereochemistry. oemol.GetTitle(): Reasonable protomer: natoms = 9, net_chg = 0\n",
      "Problematic atoms are:\n",
      "Atom atomic num: 15, name: , idx: 2, aromatic: False, chiral: True with bonds:\n",
      "bond order: 1, chiral: False to atom atomic num: 6, name: , idx: 0, aromatic: False, chiral: False\n",
      "bond order: 1, chiral: False to atom atomic num: 1, name: , idx: 3, aromatic: False, chiral: False\n",
      "bond order: 2, chiral: False to atom atomic num: 8, name: , idx: 4, aromatic: False, chiral: False\n",
      "bond order: 1, chiral: False to atom atomic num: 8, name: , idx: 5, aromatic: False, chiral: False\n",
      "\n",
      "Warning: OEMMFFParams::PrepMol() : unable to type atom 4 N \n",
      "Warning: Reasonable protomer: natoms = 6, net_chg = 0: Force field setup failed due to missing parameters\n",
      "Warning: OEMMFFParams::PrepMol() : unable to type atom 4 N \n",
      "Warning: Reasonable protomer: natoms = 6, net_chg = 0: Force field setup failed due to missing parameters\n",
      "StandardConformerGenerator    :  40%|███▋     | 102/252 [00:05<00:06, 24.92it/s]Warning: Reasonable protomer: natoms = 29, net_chg = -1: Failed due to unspecified stereochemistry\n",
      "StandardConformerGenerator    :  42%|███▊     | 107/252 [00:05<00:06, 22.17it/s]Warning: Reasonable protomer: natoms = 26, net_chg = 1: Failed due to unspecified stereochemistry\n",
      "StandardConformerGenerator    :  44%|███▉     | 111/252 [00:05<00:09, 15.27it/s]Warning: Reasonable protomer: natoms = 29, net_chg = 1: Failed due to unspecified stereochemistry\n",
      "StandardConformerGenerator    :  47%|████▎    | 119/252 [00:06<00:06, 19.84it/s]Warning: Reasonable protomer: natoms = 19, net_chg = 1: Failed due to unspecified stereochemistry\n",
      "StandardConformerGenerator    :  80%|███████▏ | 202/252 [00:11<00:02, 19.85it/s]Warning: Reasonable protomer: natoms = 48, net_chg = -1: Failed due to unspecified stereochemistry\n",
      "StandardConformerGenerator    :  82%|███████▎ | 206/252 [00:12<00:05,  8.69it/s]Warning (not error because allow_undefined_stereo=True): OEMol has unspecified stereochemistry. oemol.GetTitle(): Reasonable protomer: natoms = 48, net_chg = -1\n",
      "Problematic atoms are:\n",
      "Atom atomic num: 6, name: , idx: 13, aromatic: False, chiral: True with bonds:\n",
      "bond order: 1, chiral: False to atom atomic num: 6, name: , idx: 12, aromatic: False, chiral: False\n",
      "bond order: 1, chiral: False to atom atomic num: 6, name: , idx: 14, aromatic: False, chiral: False\n",
      "bond order: 1, chiral: False to atom atomic num: 8, name: , idx: 19, aromatic: False, chiral: False\n",
      "bond order: 1, chiral: False to atom atomic num: 1, name: , idx: 34, aromatic: False, chiral: False\n",
      "\n",
      "StandardConformerGenerator    : 100%|█████████| 252/252 [00:17<00:00, 14.33it/s]\n",
      "Preparation                   :   4%|▍         | 11/252 [00:00<00:04, 50.83it/s]Warning (not error because allow_undefined_stereo=True): OEMol has unspecified stereochemistry. oemol.GetTitle(): \n",
      "Problematic atoms are:\n",
      "Atom atomic num: 16, name: , idx: 9, aromatic: False, chiral: True with bonds:\n",
      "bond order: 1, chiral: False to atom atomic num: 6, name: , idx: 4, aromatic: True, chiral: False\n",
      "bond order: 2, chiral: False to atom atomic num: 8, name: , idx: 10, aromatic: False, chiral: False\n",
      "bond order: 1, chiral: False to atom atomic num: 8, name: , idx: 11, aromatic: False, chiral: False\n",
      "\n",
      "Preparation                   :   7%|▋         | 17/252 [00:00<00:06, 37.18it/s]Warning (not error because allow_undefined_stereo=True): OEMol has unspecified stereochemistry. oemol.GetTitle(): \n",
      "Problematic atoms are:\n",
      "Atom atomic num: 15, name: , idx: 7, aromatic: False, chiral: True with bonds:\n",
      "bond order: 1, chiral: False to atom atomic num: 6, name: , idx: 1, aromatic: False, chiral: False\n",
      "bond order: 2, chiral: False to atom atomic num: 8, name: , idx: 8, aromatic: False, chiral: False\n",
      "bond order: 1, chiral: False to atom atomic num: 1, name: , idx: 9, aromatic: False, chiral: False\n",
      "bond order: 1, chiral: False to atom atomic num: 8, name: , idx: 10, aromatic: False, chiral: False\n",
      "\n",
      "Preparation                   :  45%|████     | 114/252 [00:03<00:04, 28.86it/s]Warning (not error because allow_undefined_stereo=True): OEMol has unspecified stereochemistry. oemol.GetTitle(): \n",
      "Problematic bonds are: [<openeye.oechem.OEBondBase; proxy of <Swig Object of type 'OEChem::OEBondBase *' at 0x7fbf36713d20> >]\n",
      "\n",
      "Preparation                   :  48%|████▎    | 120/252 [00:03<00:05, 25.49it/s]Warning (not error because allow_undefined_stereo=True): OEMol has unspecified stereochemistry. oemol.GetTitle(): \n",
      "Problematic bonds are: [<openeye.oechem.OEBondBase; proxy of <Swig Object of type 'OEChem::OEBondBase *' at 0x7fbf35d1c570> >]\n",
      "\n",
      "Preparation                   :  50%|████▌    | 127/252 [00:04<00:04, 28.23it/s]Warning (not error because allow_undefined_stereo=True): OEMol has unspecified stereochemistry. oemol.GetTitle(): \n",
      "Problematic bonds are: [<openeye.oechem.OEBondBase; proxy of <Swig Object of type 'OEChem::OEBondBase *' at 0x7fbf3595cc30> >]\n",
      "\n"
     ]
    },
    {
     "name": "stderr",
     "output_type": "stream",
     "text": [
      "Preparation                   :  55%|████▉    | 138/252 [00:04<00:03, 29.38it/s]Warning (not error because allow_undefined_stereo=True): OEMol has unspecified stereochemistry. oemol.GetTitle(): \n",
      "Problematic bonds are: [<openeye.oechem.OEBondBase; proxy of <Swig Object of type 'OEChem::OEBondBase *' at 0x7fbf3617c720> >]\n",
      "\n",
      "Preparation                   :  85%|███████▋ | 215/252 [00:09<00:03, 10.33it/s]Warning (not error because allow_undefined_stereo=True): OEMol has unspecified stereochemistry. oemol.GetTitle(): \n",
      "Problematic atoms are:\n",
      "Atom atomic num: 6, name: , idx: 21, aromatic: False, chiral: True with bonds:\n",
      "bond order: 1, chiral: False to atom atomic num: 6, name: , idx: 20, aromatic: False, chiral: False\n",
      "bond order: 1, chiral: False to atom atomic num: 6, name: , idx: 22, aromatic: False, chiral: False\n",
      "bond order: 1, chiral: False to atom atomic num: 1, name: , idx: 25, aromatic: False, chiral: False\n",
      "bond order: 1, chiral: False to atom atomic num: 8, name: , idx: 26, aromatic: False, chiral: False\n",
      "\n",
      "Preparation                   : 100%|█████████| 252/252 [00:13<00:00, 18.18it/s]\n"
     ]
    }
   ],
   "source": [
    "dataset = factory.create_dataset(dataset_name=\"OpenFF Gen2 Optimization Dataset Protomers v1.0\", molecules=\"confs_with_different_protonation_states.smi\", tagline=\"Reasonable protomers enumerated\", description=\"Reasonable protomers enumerated for all the molecules in Gen2 optimization datasets and if at least one enumerated reasonable protonation state doesn't match with the molecule's current state then those molecules are added in this dataset. Molecules with nitro groups are excluded from this filtering since pentavalent nitrogens (O=N(-*)=O) are not appropriate.\")"
   ]
  },
  {
   "cell_type": "code",
   "execution_count": 4,
   "id": "f3ad84f1",
   "metadata": {},
   "outputs": [
    {
     "name": "stderr",
     "output_type": "stream",
     "text": [
      "Warning (not error because allow_undefined_stereo=True): OEMol has unspecified stereochemistry. oemol.GetTitle(): \n",
      "Problematic atoms are:\n",
      "Atom atomic num: 15, name: , idx: 7, aromatic: False, chiral: True with bonds:\n",
      "bond order: 1, chiral: False to atom atomic num: 6, name: , idx: 1, aromatic: False, chiral: False\n",
      "bond order: 2, chiral: False to atom atomic num: 8, name: , idx: 8, aromatic: False, chiral: False\n",
      "bond order: 1, chiral: False to atom atomic num: 1, name: , idx: 9, aromatic: False, chiral: False\n",
      "bond order: 1, chiral: False to atom atomic num: 8, name: , idx: 10, aromatic: False, chiral: False\n",
      "\n",
      "Warning (not error because allow_undefined_stereo=True): OEMol has unspecified stereochemistry. oemol.GetTitle(): \n",
      "Problematic atoms are:\n",
      "Atom atomic num: 16, name: , idx: 9, aromatic: False, chiral: True with bonds:\n",
      "bond order: 1, chiral: False to atom atomic num: 6, name: , idx: 4, aromatic: True, chiral: False\n",
      "bond order: 2, chiral: False to atom atomic num: 8, name: , idx: 10, aromatic: False, chiral: False\n",
      "bond order: 1, chiral: False to atom atomic num: 8, name: , idx: 11, aromatic: False, chiral: False\n",
      "\n",
      "Warning (not error because allow_undefined_stereo=True): OEMol has unspecified stereochemistry. oemol.GetTitle(): \n",
      "Problematic bonds are: [<openeye.oechem.OEBondBase; proxy of <Swig Object of type 'OEChem::OEBondBase *' at 0x7fbf3563fc30> >]\n",
      "\n",
      "Warning (not error because allow_undefined_stereo=True): OEMol has unspecified stereochemistry. oemol.GetTitle(): \n",
      "Problematic bonds are: [<openeye.oechem.OEBondBase; proxy of <Swig Object of type 'OEChem::OEBondBase *' at 0x7fbf34b86270> >]\n",
      "\n",
      "Warning (not error because allow_undefined_stereo=True): OEMol has unspecified stereochemistry. oemol.GetTitle(): \n",
      "Problematic atoms are:\n",
      "Atom atomic num: 6, name: , idx: 21, aromatic: False, chiral: True with bonds:\n",
      "bond order: 1, chiral: False to atom atomic num: 6, name: , idx: 20, aromatic: False, chiral: False\n",
      "bond order: 1, chiral: False to atom atomic num: 6, name: , idx: 22, aromatic: False, chiral: False\n",
      "bond order: 1, chiral: False to atom atomic num: 1, name: , idx: 25, aromatic: False, chiral: False\n",
      "bond order: 1, chiral: False to atom atomic num: 8, name: , idx: 26, aromatic: False, chiral: False\n",
      "\n",
      "Warning (not error because allow_undefined_stereo=True): OEMol has unspecified stereochemistry. oemol.GetTitle(): \n",
      "Problematic atoms are:\n",
      "Atom atomic num: 15, name: , idx: 7, aromatic: False, chiral: True with bonds:\n",
      "bond order: 1, chiral: False to atom atomic num: 6, name: , idx: 1, aromatic: False, chiral: False\n",
      "bond order: 2, chiral: False to atom atomic num: 8, name: , idx: 8, aromatic: False, chiral: False\n",
      "bond order: 1, chiral: False to atom atomic num: 1, name: , idx: 9, aromatic: False, chiral: False\n",
      "bond order: 1, chiral: False to atom atomic num: 8, name: , idx: 10, aromatic: False, chiral: False\n",
      "\n",
      "Warning (not error because allow_undefined_stereo=True): OEMol has unspecified stereochemistry. oemol.GetTitle(): \n",
      "Problematic atoms are:\n",
      "Atom atomic num: 16, name: , idx: 9, aromatic: False, chiral: True with bonds:\n",
      "bond order: 1, chiral: False to atom atomic num: 6, name: , idx: 4, aromatic: True, chiral: False\n",
      "bond order: 2, chiral: False to atom atomic num: 8, name: , idx: 10, aromatic: False, chiral: False\n",
      "bond order: 1, chiral: False to atom atomic num: 8, name: , idx: 11, aromatic: False, chiral: False\n",
      "\n",
      "Warning (not error because allow_undefined_stereo=True): OEMol has unspecified stereochemistry. oemol.GetTitle(): \n",
      "Problematic bonds are: [<openeye.oechem.OEBondBase; proxy of <Swig Object of type 'OEChem::OEBondBase *' at 0x7fbf34132660> >]\n",
      "\n"
     ]
    },
    {
     "name": "stdout",
     "output_type": "stream",
     "text": [
      "Number of unique molecules        110\n",
      "Number of filtered molecules      0\n",
      "Number of conformers              610\n",
      "Number of conformers min mean max 1   5.55 10\n"
     ]
    },
    {
     "name": "stderr",
     "output_type": "stream",
     "text": [
      "Warning (not error because allow_undefined_stereo=True): OEMol has unspecified stereochemistry. oemol.GetTitle(): \n",
      "Problematic bonds are: [<openeye.oechem.OEBondBase; proxy of <Swig Object of type 'OEChem::OEBondBase *' at 0x7fbf34109720> >]\n",
      "\n",
      "Warning (not error because allow_undefined_stereo=True): OEMol has unspecified stereochemistry. oemol.GetTitle(): \n",
      "Problematic atoms are:\n",
      "Atom atomic num: 6, name: , idx: 21, aromatic: False, chiral: True with bonds:\n",
      "bond order: 1, chiral: False to atom atomic num: 6, name: , idx: 20, aromatic: False, chiral: False\n",
      "bond order: 1, chiral: False to atom atomic num: 6, name: , idx: 22, aromatic: False, chiral: False\n",
      "bond order: 1, chiral: False to atom atomic num: 1, name: , idx: 25, aromatic: False, chiral: False\n",
      "bond order: 1, chiral: False to atom atomic num: 8, name: , idx: 26, aromatic: False, chiral: False\n",
      "\n",
      "Warning (not error because allow_undefined_stereo=True): OEMol has unspecified stereochemistry. oemol.GetTitle(): \n",
      "Problematic atoms are:\n",
      "Atom atomic num: 15, name: , idx: 7, aromatic: False, chiral: True with bonds:\n",
      "bond order: 1, chiral: False to atom atomic num: 6, name: , idx: 1, aromatic: False, chiral: False\n",
      "bond order: 2, chiral: False to atom atomic num: 8, name: , idx: 8, aromatic: False, chiral: False\n",
      "bond order: 1, chiral: False to atom atomic num: 1, name: , idx: 9, aromatic: False, chiral: False\n",
      "bond order: 1, chiral: False to atom atomic num: 8, name: , idx: 10, aromatic: False, chiral: False\n",
      "\n",
      "Warning (not error because allow_undefined_stereo=True): OEMol has unspecified stereochemistry. oemol.GetTitle(): \n",
      "Problematic atoms are:\n",
      "Atom atomic num: 16, name: , idx: 9, aromatic: False, chiral: True with bonds:\n",
      "bond order: 1, chiral: False to atom atomic num: 6, name: , idx: 4, aromatic: True, chiral: False\n",
      "bond order: 2, chiral: False to atom atomic num: 8, name: , idx: 10, aromatic: False, chiral: False\n",
      "bond order: 1, chiral: False to atom atomic num: 8, name: , idx: 11, aromatic: False, chiral: False\n",
      "\n",
      "Warning (not error because allow_undefined_stereo=True): OEMol has unspecified stereochemistry. oemol.GetTitle(): \n",
      "Problematic bonds are: [<openeye.oechem.OEBondBase; proxy of <Swig Object of type 'OEChem::OEBondBase *' at 0x7fbf340dec90> >]\n",
      "\n"
     ]
    },
    {
     "name": "stdout",
     "output_type": "stream",
     "text": [
      "Mean molecular weight: 280.17\n",
      "Max molecular weight: 542.59\n"
     ]
    },
    {
     "name": "stderr",
     "output_type": "stream",
     "text": [
      "Warning (not error because allow_undefined_stereo=True): OEMol has unspecified stereochemistry. oemol.GetTitle(): \n",
      "Problematic bonds are: [<openeye.oechem.OEBondBase; proxy of <Swig Object of type 'OEChem::OEBondBase *' at 0x7fbf341c8930> >]\n",
      "\n",
      "Warning (not error because allow_undefined_stereo=True): OEMol has unspecified stereochemistry. oemol.GetTitle(): \n",
      "Problematic atoms are:\n",
      "Atom atomic num: 6, name: , idx: 21, aromatic: False, chiral: True with bonds:\n",
      "bond order: 1, chiral: False to atom atomic num: 6, name: , idx: 20, aromatic: False, chiral: False\n",
      "bond order: 1, chiral: False to atom atomic num: 6, name: , idx: 22, aromatic: False, chiral: False\n",
      "bond order: 1, chiral: False to atom atomic num: 1, name: , idx: 25, aromatic: False, chiral: False\n",
      "bond order: 1, chiral: False to atom atomic num: 8, name: , idx: 26, aromatic: False, chiral: False\n",
      "\n"
     ]
    },
    {
     "name": "stdout",
     "output_type": "stream",
     "text": [
      "Charges: [-3.0, -2.0, -1.0, 0.0, 1.0, 2.0]\n"
     ]
    }
   ],
   "source": [
    "confs = np.array([len(mol.conformers) for mol in dataset.molecules])\n",
    "\n",
    "print(\"Number of unique molecules       \", dataset.n_molecules)\n",
    "print(\"Number of filtered molecules     \", dataset.n_filtered)\n",
    "print(\"Number of conformers             \", dataset.n_records)\n",
    "print(\"Number of conformers min mean max\",\n",
    "      confs.min(), \"{:6.2f}\".format(confs.mean()), confs.max())\n",
    "\n",
    "masses = []\n",
    "for molecule in dataset.molecules:\n",
    "    oemol = molecule.to_openeye()\n",
    "    mass = oechem.OECalculateMolecularWeight(oemol)\n",
    "    masses.append(mass)\n",
    "\n",
    "print(f'Mean molecular weight: {np.mean(np.array(masses)):.2f}')\n",
    "print(f'Max molecular weight: {np.max(np.array(masses)):.2f}')\n",
    "print(\"Charges:\", sorted(set(m.total_charge/m.total_charge.unit for m in dataset.molecules)))"
   ]
  },
  {
   "cell_type": "code",
   "execution_count": 5,
   "id": "4af76f35",
   "metadata": {},
   "outputs": [
    {
     "name": "stderr",
     "output_type": "stream",
     "text": [
      "Warning (not error because allow_undefined_stereo=True): OEMol has unspecified stereochemistry. oemol.GetTitle(): \n",
      "Problematic atoms are:\n",
      "Atom atomic num: 15, name: , idx: 7, aromatic: False, chiral: True with bonds:\n",
      "bond order: 1, chiral: False to atom atomic num: 6, name: , idx: 1, aromatic: False, chiral: False\n",
      "bond order: 2, chiral: False to atom atomic num: 8, name: , idx: 8, aromatic: False, chiral: False\n",
      "bond order: 1, chiral: False to atom atomic num: 1, name: , idx: 9, aromatic: False, chiral: False\n",
      "bond order: 1, chiral: False to atom atomic num: 8, name: , idx: 10, aromatic: False, chiral: False\n",
      "\n",
      "Warning (not error because allow_undefined_stereo=True): OEMol has unspecified stereochemistry. oemol.GetTitle(): \n",
      "Problematic atoms are:\n",
      "Atom atomic num: 16, name: , idx: 9, aromatic: False, chiral: True with bonds:\n",
      "bond order: 1, chiral: False to atom atomic num: 6, name: , idx: 4, aromatic: True, chiral: False\n",
      "bond order: 2, chiral: False to atom atomic num: 8, name: , idx: 10, aromatic: False, chiral: False\n",
      "bond order: 1, chiral: False to atom atomic num: 8, name: , idx: 11, aromatic: False, chiral: False\n",
      "\n",
      "Warning (not error because allow_undefined_stereo=True): OEMol has unspecified stereochemistry. oemol.GetTitle(): \n",
      "Problematic bonds are: [<openeye.oechem.OEBondBase; proxy of <Swig Object of type 'OEChem::OEBondBase *' at 0x7fbf27f9e3c0> >]\n",
      "\n",
      "Warning (not error because allow_undefined_stereo=True): OEMol has unspecified stereochemistry. oemol.GetTitle(): \n",
      "Problematic bonds are: [<openeye.oechem.OEBondBase; proxy of <Swig Object of type 'OEChem::OEBondBase *' at 0x7fbf27ed32d0> >]\n",
      "\n",
      "Warning (not error because allow_undefined_stereo=True): OEMol has unspecified stereochemistry. oemol.GetTitle(): \n",
      "Problematic atoms are:\n",
      "Atom atomic num: 6, name: , idx: 21, aromatic: False, chiral: True with bonds:\n",
      "bond order: 1, chiral: False to atom atomic num: 6, name: , idx: 20, aromatic: False, chiral: False\n",
      "bond order: 1, chiral: False to atom atomic num: 6, name: , idx: 22, aromatic: False, chiral: False\n",
      "bond order: 1, chiral: False to atom atomic num: 1, name: , idx: 25, aromatic: False, chiral: False\n",
      "bond order: 1, chiral: False to atom atomic num: 8, name: , idx: 26, aromatic: False, chiral: False\n",
      "\n"
     ]
    }
   ],
   "source": [
    "dataset.visualize(\"protomers_not_present_in_gen2_optimization_sets.pdf\")"
   ]
  },
  {
   "cell_type": "code",
   "execution_count": 6,
   "id": "fb5eb6b5",
   "metadata": {},
   "outputs": [],
   "source": [
    "dataset.metadata.submitter = 'Pavan Behara'"
   ]
  },
  {
   "cell_type": "code",
   "execution_count": 7,
   "id": "868fcf8f",
   "metadata": {},
   "outputs": [],
   "source": [
    "dataset.metadata.long_description_url = 'https://github.com/openforcefield/qca-dataset-submission/tree/master/submissions/2021-12-21-OpenFF-Gen2-Optimization-Set-Protomers'"
   ]
  },
  {
   "cell_type": "code",
   "execution_count": 8,
   "id": "77f5e190",
   "metadata": {},
   "outputs": [
    {
     "data": {
      "text/plain": [
       "Metadata(submitter='Pavan Behara', creation_date=datetime.date(2021, 12, 21), collection_type='OptimizationDataset', dataset_name='OpenFF Gen2 Optimization Dataset Protomers v1.0', short_description='Reasonable protomers enumerated', long_description_url=HttpUrl('https://github.com/openforcefield/qca-dataset-submission/tree/master/submissions/2021-12-21-OpenFF-Gen2-Optimization-Set-Protomers', scheme='https', host='github.com', tld='com', host_type='domain', path='/openforcefield/qca-dataset-submission/tree/master/submissions/2021-12-21-OpenFF-Gen2-Optimization-Set-Protomers'), long_description=\"Reasonable protomers enumerated for all the molecules in Gen2 optimization datasets and if at least one enumerated reasonable protonation state doesn't match with the molecule's current state then those molecules are added in this dataset. Molecules with nitro groups are excluded from this filtering since pentavalent nitrogens (O=N(-*)=O) are not appropriate.\", elements={'O', 'F', 'S', 'Br', 'Cl', 'C', 'P', 'H', 'I', 'N'})"
      ]
     },
     "execution_count": 8,
     "metadata": {},
     "output_type": "execute_result"
    }
   ],
   "source": [
    "dataset.metadata"
   ]
  },
  {
   "cell_type": "code",
   "execution_count": 9,
   "id": "94c6c3ed",
   "metadata": {},
   "outputs": [],
   "source": [
    "dataset.export_dataset(\"dataset.json.bz2\")"
   ]
  },
  {
   "cell_type": "code",
   "execution_count": null,
   "id": "39165fd8",
   "metadata": {},
   "outputs": [],
   "source": []
  }
 ],
 "metadata": {
  "kernelspec": {
   "display_name": "Python 3 (ipykernel)",
   "language": "python",
   "name": "python3"
  },
  "language_info": {
   "codemirror_mode": {
    "name": "ipython",
    "version": 3
   },
   "file_extension": ".py",
   "mimetype": "text/x-python",
   "name": "python",
   "nbconvert_exporter": "python",
   "pygments_lexer": "ipython3",
   "version": "3.7.10"
  }
 },
 "nbformat": 4,
 "nbformat_minor": 5
}
