{
 "cells": [
  {
   "cell_type": "markdown",
   "metadata": {},
   "source": [
    "# Dataset Preparation"
   ]
  },
  {
   "cell_type": "markdown",
   "metadata": {},
   "source": [
    "We will use the same assets from `2020-07-27-OpenFF-Benchmark-Ligands` as our starting point:"
   ]
  },
  {
   "cell_type": "code",
   "execution_count": 1,
   "metadata": {},
   "outputs": [
    {
     "name": "stdout",
     "output_type": "stream",
     "text": [
      "bace.sdf  jnk1.sdf  p38a.sdf   thrombin.sdf\n",
      "cdk2.sdf  mcl1.sdf  ptp1b.sdf  tyk2.sdf\n"
     ]
    }
   ],
   "source": [
    "! ls ../2020-07-27-OpenFF-Benchmark-Ligands/sdfs/"
   ]
  },
  {
   "cell_type": "markdown",
   "metadata": {},
   "source": [
    "We'll want these as OpenFF Molecules to feed them into QCSubmit. Some differences from that dataset:\n",
    "1. We won't fragment the molecules at all; we are not doing QM.\n",
    "2. We will exclude all molecules with elements that are not supported by ANI.\n",
    "3. We don't want the default compute spec; instead want:\n",
    "    - `openff 1.0.0`\n",
    "    - `openff 1.1.0`\n",
    "    - `openff 1.2.0`\n",
    "    - `openff 1.2.1`\n",
    "    - `ani2x`"
   ]
  },
  {
   "cell_type": "code",
   "execution_count": 2,
   "metadata": {},
   "outputs": [
    {
     "data": {
      "application/vnd.jupyter.widget-view+json": {
       "model_id": "9c81bb3f9c1248debcc2659318881ed1",
       "version_major": 2,
       "version_minor": 0
      },
      "text/plain": []
     },
     "metadata": {},
     "output_type": "display_data"
    }
   ],
   "source": [
    "from qcsubmit.factories import TorsiondriveDatasetFactory\n",
    "from qcsubmit import workflow_components"
   ]
  },
  {
   "cell_type": "code",
   "execution_count": 3,
   "metadata": {},
   "outputs": [
    {
     "data": {
      "text/plain": [
       "TorsiondriveDatasetFactory(qc_specifications={'default': QCSpec(method='B3LYP-D3BJ', basis='DZVP', program='psi4', spec_name='default', spec_description='Standard OpenFF optimization quantum chemistry specification.', store_wavefunction=<WavefunctionProtocolEnum.none: 'none'>)}, maxiter=200, driver=<DriverEnum.gradient: 'gradient'>, scf_properties=['dipole', 'quadrupole', 'wiberg_lowdin_indices', 'mayer_indices'], priority='normal', dataset_tags=['openff'], compute_tag='openff', workflow={}, optimization_program=GeometricProcedure(program='geometric', coordsys='tric', enforce=0.1, epsilon=0.0, reset=True, qccnv=True, molcnv=False, check=0, trust=0.1, tmax=0.3, maxiter=300, convergence_set='GAU', constraints={}), grid_spacings=[15], energy_upper_limit=0.05, dihedral_ranges=None, energy_decrease_thresh=None)"
      ]
     },
     "execution_count": 3,
     "metadata": {},
     "output_type": "execute_result"
    }
   ],
   "source": [
    "factory = TorsiondriveDatasetFactory()\n",
    "factory"
   ]
  },
  {
   "cell_type": "code",
   "execution_count": 4,
   "metadata": {},
   "outputs": [
    {
     "data": {
      "text/plain": [
       "TorsiondriveDatasetFactory(qc_specifications={'default': QCSpec(method='B3LYP-D3BJ', basis='DZVP', program='psi4', spec_name='default', spec_description='Standard OpenFF optimization quantum chemistry specification.', store_wavefunction=<WavefunctionProtocolEnum.none: 'none'>)}, maxiter=200, driver=<DriverEnum.gradient: 'gradient'>, scf_properties=['dipole', 'quadrupole', 'wiberg_lowdin_indices', 'mayer_indices'], priority='normal', dataset_tags=['openff'], compute_tag='openff', workflow={'StandardConformerGenerator': StandardConformerGenerator(component_name='StandardConformerGenerator', component_description='Generate conformations for the given molecules', component_fail_message='Conformers could not be generated', toolkit='openeye', max_conformers=10, clear_existing=True)}, optimization_program=GeometricProcedure(program='geometric', coordsys='tric', enforce=0.1, epsilon=0.0, reset=True, qccnv=True, molcnv=False, check=0, trust=0.1, tmax=0.3, maxiter=300, convergence_set='GAU', constraints={}), grid_spacings=[15], energy_upper_limit=0.05, dihedral_ranges=None, energy_decrease_thresh=None)"
      ]
     },
     "execution_count": 4,
     "metadata": {},
     "output_type": "execute_result"
    }
   ],
   "source": [
    "conformers = workflow_components.StandardConformerGenerator(max_conformers=10)\n",
    "factory.add_workflow_component(conformers)\n",
    "factory"
   ]
  },
  {
   "cell_type": "code",
   "execution_count": 5,
   "metadata": {},
   "outputs": [],
   "source": [
    "factory.export_settings(\"torsiondrivefactory_settings.yaml\")"
   ]
  },
  {
   "cell_type": "markdown",
   "metadata": {},
   "source": [
    "## Gathering molecules supported by ANI2X"
   ]
  },
  {
   "cell_type": "code",
   "execution_count": 6,
   "metadata": {},
   "outputs": [],
   "source": [
    "from glob import glob\n",
    "from openforcefield.topology import Molecule"
   ]
  },
  {
   "cell_type": "code",
   "execution_count": 7,
   "metadata": {},
   "outputs": [],
   "source": [
    "sdfs = sorted(glob('../2020-07-27-OpenFF-Benchmark-Ligands/sdfs/*.sdf'))"
   ]
  },
  {
   "cell_type": "code",
   "execution_count": 8,
   "metadata": {},
   "outputs": [
    {
     "name": "stderr",
     "output_type": "stream",
     "text": [
      "Warning (not error because allow_undefined_stereo=True): OEMol has unspecified stereochemistry. oemol.GetTitle(): 31\n",
      "Problematic atoms are:\n",
      "Atom atomic num: 16, name: , idx: 44, aromatic: False, chiral: True with bonds:\n",
      "bond order: 1, chiral: False to atom atomic num: 6, name: , idx: 10, aromatic: True, chiral: False\n",
      "bond order: 2, chiral: False to atom atomic num: 8, name: , idx: 45, aromatic: False, chiral: False\n",
      "bond order: 1, chiral: False to atom atomic num: 6, name: , idx: 46, aromatic: False, chiral: False\n",
      "\n"
     ]
    }
   ],
   "source": [
    "offmols = [Molecule.from_file(i, allow_undefined_stereo=True) for i in sdfs]"
   ]
  },
  {
   "cell_type": "code",
   "execution_count": 9,
   "metadata": {},
   "outputs": [
    {
     "data": {
      "text/plain": [
       "[36, 16, 21, 42, 34, 23, 11, 16]"
      ]
     },
     "execution_count": 9,
     "metadata": {},
     "output_type": "execute_result"
    }
   ],
   "source": [
    "list(map(len, offmols))"
   ]
  },
  {
   "cell_type": "markdown",
   "metadata": {},
   "source": [
    "We'll walk through these, and build up a set of molecules that we can use for ANI2x"
   ]
  },
  {
   "cell_type": "code",
   "execution_count": 10,
   "metadata": {},
   "outputs": [],
   "source": [
    "mol = offmols[0][0]"
   ]
  },
  {
   "cell_type": "code",
   "execution_count": 11,
   "metadata": {},
   "outputs": [],
   "source": [
    "allowed = {1, 6, 7, 8, 9, 16, 17}"
   ]
  },
  {
   "cell_type": "code",
   "execution_count": 12,
   "metadata": {},
   "outputs": [
    {
     "data": {
      "text/plain": [
       "{1, 6, 7, 8, 17}"
      ]
     },
     "execution_count": 12,
     "metadata": {},
     "output_type": "execute_result"
    }
   ],
   "source": [
    "symbols = set(a.atomic_number for a in mol.atoms)\n",
    "symbols"
   ]
  },
  {
   "cell_type": "code",
   "execution_count": 13,
   "metadata": {},
   "outputs": [
    {
     "data": {
      "text/plain": [
       "True"
      ]
     },
     "execution_count": 13,
     "metadata": {},
     "output_type": "execute_result"
    }
   ],
   "source": [
    "symbols.issubset(allowed)"
   ]
  },
  {
   "cell_type": "code",
   "execution_count": 14,
   "metadata": {},
   "outputs": [],
   "source": [
    "symbols.add(15)"
   ]
  },
  {
   "cell_type": "code",
   "execution_count": 15,
   "metadata": {},
   "outputs": [
    {
     "data": {
      "text/plain": [
       "False"
      ]
     },
     "execution_count": 15,
     "metadata": {},
     "output_type": "execute_result"
    }
   ],
   "source": [
    "symbols.issubset(allowed)"
   ]
  },
  {
   "cell_type": "code",
   "execution_count": 16,
   "metadata": {},
   "outputs": [],
   "source": [
    "selected_offmols = []\n",
    "\n",
    "count = 0\n",
    "for molset in offmols:\n",
    "    for mol in molset:\n",
    "        count += 1\n",
    "        symbols = set(a.atomic_number for a in mol.atoms)\n",
    "        if symbols.issubset(allowed):\n",
    "            selected_offmols.append(mol)"
   ]
  },
  {
   "cell_type": "code",
   "execution_count": 17,
   "metadata": {},
   "outputs": [
    {
     "data": {
      "text/plain": [
       "199"
      ]
     },
     "execution_count": 17,
     "metadata": {},
     "output_type": "execute_result"
    }
   ],
   "source": [
    "count"
   ]
  },
  {
   "cell_type": "code",
   "execution_count": 18,
   "metadata": {},
   "outputs": [
    {
     "data": {
      "text/plain": [
       "174"
      ]
     },
     "execution_count": 18,
     "metadata": {},
     "output_type": "execute_result"
    }
   ],
   "source": [
    "len(selected_offmols)"
   ]
  },
  {
   "cell_type": "markdown",
   "metadata": {},
   "source": [
    "We have our subset. :D"
   ]
  },
  {
   "cell_type": "markdown",
   "metadata": {},
   "source": [
    "## Building the dataset"
   ]
  },
  {
   "cell_type": "code",
   "execution_count": 19,
   "metadata": {},
   "outputs": [
    {
     "name": "stderr",
     "output_type": "stream",
     "text": [
      "Warning (not error because allow_undefined_stereo=True): OEMol has unspecified stereochemistry. oemol.GetTitle(): 31\n",
      "Problematic atoms are:\n",
      "Atom atomic num: 16, name: , idx: 44, aromatic: False, chiral: True with bonds:\n",
      "bond order: 1, chiral: False to atom atomic num: 6, name: , idx: 10, aromatic: True, chiral: False\n",
      "bond order: 2, chiral: False to atom atomic num: 8, name: , idx: 45, aromatic: False, chiral: False\n",
      "bond order: 1, chiral: False to atom atomic num: 6, name: , idx: 46, aromatic: False, chiral: False\n",
      "\n",
      "/home/david/.conda/envs/qcsubmit/lib/python3.7/site-packages/qcsubmit/validators.py:181: UserWarning: The molecule C21ClH23N3O has a net charge of 1.0.\n",
      "  UserWarning,\n",
      "/home/david/.conda/envs/qcsubmit/lib/python3.7/site-packages/qcsubmit/validators.py:181: UserWarning: The molecule C19ClH19N3O has a net charge of 1.0.\n",
      "  UserWarning,\n",
      "/home/david/.conda/envs/qcsubmit/lib/python3.7/site-packages/qcsubmit/validators.py:181: UserWarning: The molecule C23H22N3O2 has a net charge of 1.0.\n",
      "  UserWarning,\n",
      "/home/david/.conda/envs/qcsubmit/lib/python3.7/site-packages/qcsubmit/validators.py:181: UserWarning: The molecule C18ClH19N3O has a net charge of 1.0.\n",
      "  UserWarning,\n",
      "/home/david/.conda/envs/qcsubmit/lib/python3.7/site-packages/qcsubmit/validators.py:181: UserWarning: The molecule C20H18N5O has a net charge of 1.0.\n",
      "  UserWarning,\n",
      "/home/david/.conda/envs/qcsubmit/lib/python3.7/site-packages/qcsubmit/validators.py:181: UserWarning: The molecule C20ClH17N5O has a net charge of 1.0.\n",
      "  UserWarning,\n",
      "/home/david/.conda/envs/qcsubmit/lib/python3.7/site-packages/qcsubmit/validators.py:181: UserWarning: The molecule C21H19N4O has a net charge of 1.0.\n",
      "  UserWarning,\n",
      "/home/david/.conda/envs/qcsubmit/lib/python3.7/site-packages/qcsubmit/validators.py:181: UserWarning: The molecule C19ClH16N4OS has a net charge of 1.0.\n",
      "  UserWarning,\n",
      "/home/david/.conda/envs/qcsubmit/lib/python3.7/site-packages/qcsubmit/validators.py:181: UserWarning: The molecule C17ClH17N3O has a net charge of 1.0.\n",
      "  UserWarning,\n",
      "/home/david/.conda/envs/qcsubmit/lib/python3.7/site-packages/qcsubmit/validators.py:181: UserWarning: The molecule C21ClH18N4O has a net charge of 1.0.\n",
      "  UserWarning,\n",
      "/home/david/.conda/envs/qcsubmit/lib/python3.7/site-packages/qcsubmit/validators.py:181: UserWarning: The molecule C19Cl2H18N3O has a net charge of 1.0.\n",
      "  UserWarning,\n",
      "/home/david/.conda/envs/qcsubmit/lib/python3.7/site-packages/qcsubmit/validators.py:181: UserWarning: The molecule C19H18N5O has a net charge of 1.0.\n",
      "  UserWarning,\n",
      "/home/david/.conda/envs/qcsubmit/lib/python3.7/site-packages/qcsubmit/validators.py:181: UserWarning: The molecule C20ClH21N3O has a net charge of 1.0.\n",
      "  UserWarning,\n",
      "/home/david/.conda/envs/qcsubmit/lib/python3.7/site-packages/qcsubmit/validators.py:181: UserWarning: The molecule C18H19N4O has a net charge of 1.0.\n",
      "  UserWarning,\n",
      "/home/david/.conda/envs/qcsubmit/lib/python3.7/site-packages/qcsubmit/validators.py:181: UserWarning: The molecule C19ClH21N3O has a net charge of 1.0.\n",
      "  UserWarning,\n",
      "/home/david/.conda/envs/qcsubmit/lib/python3.7/site-packages/qcsubmit/validators.py:181: UserWarning: The molecule C20H19N4O has a net charge of 1.0.\n",
      "  UserWarning,\n",
      "/home/david/.conda/envs/qcsubmit/lib/python3.7/site-packages/qcsubmit/validators.py:181: UserWarning: The molecule C21H21N4O has a net charge of 1.0.\n",
      "  UserWarning,\n",
      "/home/david/.conda/envs/qcsubmit/lib/python3.7/site-packages/qcsubmit/validators.py:181: UserWarning: The molecule C19H21N4O has a net charge of 1.0.\n",
      "  UserWarning,\n",
      "/home/david/.conda/envs/qcsubmit/lib/python3.7/site-packages/qcsubmit/validators.py:181: UserWarning: The molecule C22ClH25N3O has a net charge of 1.0.\n",
      "  UserWarning,\n",
      "/home/david/.conda/envs/qcsubmit/lib/python3.7/site-packages/qcsubmit/validators.py:181: UserWarning: The molecule C20H22N3O2 has a net charge of 1.0.\n",
      "  UserWarning,\n",
      "/home/david/.conda/envs/qcsubmit/lib/python3.7/site-packages/qcsubmit/validators.py:181: UserWarning: The molecule C18ClH18N4O has a net charge of 1.0.\n",
      "  UserWarning,\n",
      "/home/david/.conda/envs/qcsubmit/lib/python3.7/site-packages/qcsubmit/validators.py:181: UserWarning: The molecule C18FH18N4O has a net charge of 1.0.\n",
      "  UserWarning,\n",
      "/home/david/.conda/envs/qcsubmit/lib/python3.7/site-packages/qcsubmit/validators.py:181: UserWarning: The molecule C24H24N3O2 has a net charge of 1.0.\n",
      "  UserWarning,\n",
      "/home/david/.conda/envs/qcsubmit/lib/python3.7/site-packages/qcsubmit/validators.py:181: UserWarning: The molecule C22H21N4O has a net charge of 1.0.\n",
      "  UserWarning,\n",
      "/home/david/.conda/envs/qcsubmit/lib/python3.7/site-packages/qcsubmit/validators.py:181: UserWarning: The molecule C22H18N5O has a net charge of 1.0.\n",
      "  UserWarning,\n",
      "/home/david/.conda/envs/qcsubmit/lib/python3.7/site-packages/qcsubmit/validators.py:181: UserWarning: The molecule C21FH18N4O has a net charge of 1.0.\n",
      "  UserWarning,\n",
      "/home/david/.conda/envs/qcsubmit/lib/python3.7/site-packages/qcsubmit/validators.py:181: UserWarning: The molecule C22H20N3O has a net charge of 1.0.\n",
      "  UserWarning,\n",
      "/home/david/.conda/envs/qcsubmit/lib/python3.7/site-packages/qcsubmit/validators.py:181: UserWarning: The molecule C19H21N4O2 has a net charge of 1.0.\n",
      "  UserWarning,\n",
      "Warning (not error because allow_undefined_stereo=True): OEMol has unspecified stereochemistry. oemol.GetTitle(): 31\n",
      "Problematic atoms are:\n",
      "Atom atomic num: 16, name: , idx: 26, aromatic: False, chiral: True with bonds:\n",
      "bond order: 1, chiral: False to atom atomic num: 6, name: , idx: 6, aromatic: True, chiral: False\n",
      "bond order: 1, chiral: False to atom atomic num: 6, name: , idx: 17, aromatic: False, chiral: False\n",
      "bond order: 2, chiral: False to atom atomic num: 8, name: , idx: 24, aromatic: False, chiral: False\n",
      "\n",
      "/home/david/.conda/envs/qcsubmit/lib/python3.7/site-packages/qcsubmit/validators.py:181: UserWarning: The molecule C22H17O4 has a net charge of -1.0.\n",
      "  UserWarning,\n",
      "/home/david/.conda/envs/qcsubmit/lib/python3.7/site-packages/qcsubmit/validators.py:181: UserWarning: The molecule C20H17N2O3 has a net charge of -1.0.\n",
      "  UserWarning,\n",
      "/home/david/.conda/envs/qcsubmit/lib/python3.7/site-packages/qcsubmit/validators.py:181: UserWarning: The molecule C18ClH15NO3 has a net charge of -1.0.\n",
      "  UserWarning,\n",
      "/home/david/.conda/envs/qcsubmit/lib/python3.7/site-packages/qcsubmit/validators.py:181: UserWarning: The molecule C21H20NO3 has a net charge of -1.0.\n",
      "  UserWarning,\n",
      "/home/david/.conda/envs/qcsubmit/lib/python3.7/site-packages/qcsubmit/validators.py:181: UserWarning: The molecule C19ClH17NO3 has a net charge of -1.0.\n",
      "  UserWarning,\n",
      "/home/david/.conda/envs/qcsubmit/lib/python3.7/site-packages/qcsubmit/validators.py:181: UserWarning: The molecule C19F3H15NO3 has a net charge of -1.0.\n",
      "  UserWarning,\n",
      "/home/david/.conda/envs/qcsubmit/lib/python3.7/site-packages/qcsubmit/validators.py:181: UserWarning: The molecule C19Cl2H16NO3 has a net charge of -1.0.\n",
      "  UserWarning,\n",
      "/home/david/.conda/envs/qcsubmit/lib/python3.7/site-packages/qcsubmit/validators.py:181: UserWarning: The molecule C22ClH16O4 has a net charge of -1.0.\n",
      "  UserWarning,\n",
      "/home/david/.conda/envs/qcsubmit/lib/python3.7/site-packages/qcsubmit/validators.py:181: UserWarning: The molecule C19H18NO3 has a net charge of -1.0.\n",
      "  UserWarning,\n",
      "/home/david/.conda/envs/qcsubmit/lib/python3.7/site-packages/qcsubmit/validators.py:181: UserWarning: The molecule C24H20NO3 has a net charge of -1.0.\n",
      "  UserWarning,\n",
      "/home/david/.conda/envs/qcsubmit/lib/python3.7/site-packages/qcsubmit/validators.py:181: UserWarning: The molecule C22ClH17NO3 has a net charge of -1.0.\n",
      "  UserWarning,\n",
      "/home/david/.conda/envs/qcsubmit/lib/python3.7/site-packages/qcsubmit/validators.py:181: UserWarning: The molecule C20Cl2H18NO3 has a net charge of -1.0.\n",
      "  UserWarning,\n",
      "/home/david/.conda/envs/qcsubmit/lib/python3.7/site-packages/qcsubmit/validators.py:181: UserWarning: The molecule C22ClH16O3S has a net charge of -1.0.\n",
      "  UserWarning,\n",
      "/home/david/.conda/envs/qcsubmit/lib/python3.7/site-packages/qcsubmit/validators.py:181: UserWarning: The molecule C20ClH19NO3 has a net charge of -1.0.\n",
      "  UserWarning,\n",
      "/home/david/.conda/envs/qcsubmit/lib/python3.7/site-packages/qcsubmit/validators.py:181: UserWarning: The molecule C22H17O3S has a net charge of -1.0.\n",
      "  UserWarning,\n",
      "/home/david/.conda/envs/qcsubmit/lib/python3.7/site-packages/qcsubmit/validators.py:181: UserWarning: The molecule C24H20NO4 has a net charge of -1.0.\n",
      "  UserWarning,\n",
      "/home/david/.conda/envs/qcsubmit/lib/python3.7/site-packages/qcsubmit/validators.py:181: UserWarning: The molecule C20Cl2H17O3S has a net charge of -1.0.\n",
      "  UserWarning,\n",
      "/home/david/.conda/envs/qcsubmit/lib/python3.7/site-packages/qcsubmit/validators.py:181: UserWarning: The molecule C21Cl2H20NO3 has a net charge of -1.0.\n",
      "  UserWarning,\n",
      "/home/david/.conda/envs/qcsubmit/lib/python3.7/site-packages/qcsubmit/validators.py:181: UserWarning: The molecule C18H16NO3 has a net charge of -1.0.\n",
      "  UserWarning,\n",
      "/home/david/.conda/envs/qcsubmit/lib/python3.7/site-packages/qcsubmit/validators.py:181: UserWarning: The molecule C21H17N2O3 has a net charge of -1.0.\n",
      "  UserWarning,\n",
      "/home/david/.conda/envs/qcsubmit/lib/python3.7/site-packages/qcsubmit/validators.py:181: UserWarning: The molecule C23H20NO3 has a net charge of -1.0.\n",
      "  UserWarning,\n",
      "/home/david/.conda/envs/qcsubmit/lib/python3.7/site-packages/qcsubmit/validators.py:181: UserWarning: The molecule C21ClH21NO3 has a net charge of -1.0.\n",
      "  UserWarning,\n",
      "/home/david/.conda/envs/qcsubmit/lib/python3.7/site-packages/qcsubmit/validators.py:181: UserWarning: The molecule C20ClH18O3S has a net charge of -1.0.\n",
      "  UserWarning,\n",
      "/home/david/.conda/envs/qcsubmit/lib/python3.7/site-packages/qcsubmit/validators.py:181: UserWarning: The molecule C22H22NO3 has a net charge of -1.0.\n",
      "  UserWarning,\n",
      "/home/david/.conda/envs/qcsubmit/lib/python3.7/site-packages/qcsubmit/validators.py:181: UserWarning: The molecule C22H18NO3 has a net charge of -1.0.\n",
      "  UserWarning,\n",
      "/home/david/.conda/envs/qcsubmit/lib/python3.7/site-packages/qcsubmit/validators.py:181: UserWarning: The molecule C20ClH18O4 has a net charge of -1.0.\n",
      "  UserWarning,\n",
      "/home/david/.conda/envs/qcsubmit/lib/python3.7/site-packages/qcsubmit/validators.py:181: UserWarning: The molecule C25ClH23N2O7S2 has a net charge of -2.0.\n",
      "  UserWarning,\n",
      "/home/david/.conda/envs/qcsubmit/lib/python3.7/site-packages/qcsubmit/validators.py:181: UserWarning: The molecule C26H26N2O7S2 has a net charge of -2.0.\n",
      "  UserWarning,\n",
      "/home/david/.conda/envs/qcsubmit/lib/python3.7/site-packages/qcsubmit/validators.py:181: UserWarning: The molecule C25H24N2O7S2 has a net charge of -2.0.\n",
      "  UserWarning,\n",
      "/home/david/.conda/envs/qcsubmit/lib/python3.7/site-packages/qcsubmit/validators.py:181: UserWarning: The molecule C21ClH25N3O2 has a net charge of 1.0.\n",
      "  UserWarning,\n",
      "/home/david/.conda/envs/qcsubmit/lib/python3.7/site-packages/qcsubmit/validators.py:181: UserWarning: The molecule C23H30N3O2 has a net charge of 1.0.\n",
      "  UserWarning,\n",
      "/home/david/.conda/envs/qcsubmit/lib/python3.7/site-packages/qcsubmit/validators.py:181: UserWarning: The molecule C21FH25N3O2 has a net charge of 1.0.\n",
      "  UserWarning,\n",
      "/home/david/.conda/envs/qcsubmit/lib/python3.7/site-packages/qcsubmit/validators.py:181: UserWarning: The molecule C21Cl2H24N3O2 has a net charge of 1.0.\n",
      "  UserWarning,\n",
      "/home/david/.conda/envs/qcsubmit/lib/python3.7/site-packages/qcsubmit/validators.py:181: UserWarning: The molecule C22H28N3O2 has a net charge of 1.0.\n",
      "  UserWarning,\n",
      "/home/david/.conda/envs/qcsubmit/lib/python3.7/site-packages/qcsubmit/validators.py:181: UserWarning: The molecule C21H26N3O2 has a net charge of 1.0.\n",
      "  UserWarning,\n",
      "/home/david/.conda/envs/qcsubmit/lib/python3.7/site-packages/qcsubmit/validators.py:181: UserWarning: The molecule C22ClH27N3O2 has a net charge of 1.0.\n",
      "  UserWarning,\n",
      "/home/david/.conda/envs/qcsubmit/lib/python3.7/site-packages/qcsubmit/validators.py:181: UserWarning: The molecule C21ClFH24N3O2 has a net charge of 1.0.\n",
      "  UserWarning,\n"
     ]
    }
   ],
   "source": [
    "dataset = factory.create_dataset(dataset_name=\"OpenFF Benchmark Ligands - Unfragmented v1.0\",\n",
    "                                 molecules=selected_offmols,\n",
    "                                 description=\"Torsiondrives of the unfragmented JACS benchmark inhibitors.\",\n",
    "                                 tagline=\"Torsiondrives of unfragmented JACS benchmark inhibitors.\")"
   ]
  },
  {
   "cell_type": "code",
   "execution_count": 20,
   "metadata": {},
   "outputs": [
    {
     "data": {
      "text/plain": [
       "{'C', 'Cl', 'F', 'H', 'N', 'O', 'S'}"
      ]
     },
     "execution_count": 20,
     "metadata": {},
     "output_type": "execute_result"
    }
   ],
   "source": [
    "dataset.metadata.elements"
   ]
  },
  {
   "cell_type": "code",
   "execution_count": 21,
   "metadata": {},
   "outputs": [
    {
     "name": "stderr",
     "output_type": "stream",
     "text": [
      "Warning (not error because allow_undefined_stereo=True): OEMol has unspecified stereochemistry. oemol.GetTitle(): \n",
      "Problematic atoms are:\n",
      "Atom atomic num: 16, name: , idx: 43, aromatic: False, chiral: True with bonds:\n",
      "bond order: 1, chiral: False to atom atomic num: 6, name: , idx: 3, aromatic: True, chiral: False\n",
      "bond order: 2, chiral: False to atom atomic num: 8, name: , idx: 44, aromatic: False, chiral: False\n",
      "bond order: 1, chiral: False to atom atomic num: 6, name: , idx: 45, aromatic: False, chiral: False\n",
      "\n",
      "Warning (not error because allow_undefined_stereo=True): OEMol has unspecified stereochemistry. oemol.GetTitle(): \n",
      "Problematic atoms are:\n",
      "Atom atomic num: 16, name: , idx: 43, aromatic: False, chiral: True with bonds:\n",
      "bond order: 1, chiral: False to atom atomic num: 6, name: , idx: 3, aromatic: True, chiral: False\n",
      "bond order: 2, chiral: False to atom atomic num: 8, name: , idx: 44, aromatic: False, chiral: False\n",
      "bond order: 1, chiral: False to atom atomic num: 6, name: , idx: 45, aromatic: False, chiral: False\n",
      "\n",
      "Warning (not error because allow_undefined_stereo=True): OEMol has unspecified stereochemistry. oemol.GetTitle(): \n",
      "Problematic atoms are:\n",
      "Atom atomic num: 16, name: , idx: 43, aromatic: False, chiral: True with bonds:\n",
      "bond order: 1, chiral: False to atom atomic num: 6, name: , idx: 3, aromatic: True, chiral: False\n",
      "bond order: 2, chiral: False to atom atomic num: 8, name: , idx: 44, aromatic: False, chiral: False\n",
      "bond order: 1, chiral: False to atom atomic num: 6, name: , idx: 45, aromatic: False, chiral: False\n",
      "\n",
      "Warning (not error because allow_undefined_stereo=True): OEMol has unspecified stereochemistry. oemol.GetTitle(): \n",
      "Problematic atoms are:\n",
      "Atom atomic num: 16, name: , idx: 43, aromatic: False, chiral: True with bonds:\n",
      "bond order: 1, chiral: False to atom atomic num: 6, name: , idx: 3, aromatic: True, chiral: False\n",
      "bond order: 2, chiral: False to atom atomic num: 8, name: , idx: 44, aromatic: False, chiral: False\n",
      "bond order: 1, chiral: False to atom atomic num: 6, name: , idx: 45, aromatic: False, chiral: False\n",
      "\n",
      "Warning (not error because allow_undefined_stereo=True): OEMol has unspecified stereochemistry. oemol.GetTitle(): \n",
      "Problematic atoms are:\n",
      "Atom atomic num: 16, name: , idx: 43, aromatic: False, chiral: True with bonds:\n",
      "bond order: 1, chiral: False to atom atomic num: 6, name: , idx: 3, aromatic: True, chiral: False\n",
      "bond order: 2, chiral: False to atom atomic num: 8, name: , idx: 44, aromatic: False, chiral: False\n",
      "bond order: 1, chiral: False to atom atomic num: 6, name: , idx: 45, aromatic: False, chiral: False\n",
      "\n",
      "Warning (not error because allow_undefined_stereo=True): OEMol has unspecified stereochemistry. oemol.GetTitle(): \n",
      "Problematic atoms are:\n",
      "Atom atomic num: 16, name: , idx: 43, aromatic: False, chiral: True with bonds:\n",
      "bond order: 1, chiral: False to atom atomic num: 6, name: , idx: 3, aromatic: True, chiral: False\n",
      "bond order: 2, chiral: False to atom atomic num: 8, name: , idx: 44, aromatic: False, chiral: False\n",
      "bond order: 1, chiral: False to atom atomic num: 6, name: , idx: 45, aromatic: False, chiral: False\n",
      "\n",
      "Warning (not error because allow_undefined_stereo=True): OEMol has unspecified stereochemistry. oemol.GetTitle(): \n",
      "Problematic atoms are:\n",
      "Atom atomic num: 16, name: , idx: 43, aromatic: False, chiral: True with bonds:\n",
      "bond order: 1, chiral: False to atom atomic num: 6, name: , idx: 3, aromatic: True, chiral: False\n",
      "bond order: 2, chiral: False to atom atomic num: 8, name: , idx: 44, aromatic: False, chiral: False\n",
      "bond order: 1, chiral: False to atom atomic num: 6, name: , idx: 45, aromatic: False, chiral: False\n",
      "\n"
     ]
    },
    {
     "data": {
      "text/plain": [
       "174"
      ]
     },
     "execution_count": 21,
     "metadata": {},
     "output_type": "execute_result"
    }
   ],
   "source": [
    "dataset.n_molecules"
   ]
  },
  {
   "cell_type": "code",
   "execution_count": 22,
   "metadata": {},
   "outputs": [
    {
     "data": {
      "text/plain": [
       "1255"
      ]
     },
     "execution_count": 22,
     "metadata": {},
     "output_type": "execute_result"
    }
   ],
   "source": [
    "dataset.n_records"
   ]
  },
  {
   "cell_type": "markdown",
   "metadata": {},
   "source": [
    "### Setting compute specs"
   ]
  },
  {
   "cell_type": "code",
   "execution_count": 23,
   "metadata": {},
   "outputs": [
    {
     "data": {
      "text/plain": [
       "QCSpec(method='B3LYP-D3BJ', basis='DZVP', program='psi4', spec_name='default', spec_description='Standard OpenFF optimization quantum chemistry specification.', store_wavefunction=<WavefunctionProtocolEnum.none: 'none'>)"
      ]
     },
     "execution_count": 23,
     "metadata": {},
     "output_type": "execute_result"
    }
   ],
   "source": [
    "dataset.qc_specifications.pop('default')"
   ]
  },
  {
   "cell_type": "code",
   "execution_count": 24,
   "metadata": {},
   "outputs": [
    {
     "data": {
      "text/plain": [
       "{}"
      ]
     },
     "execution_count": 24,
     "metadata": {},
     "output_type": "execute_result"
    }
   ],
   "source": [
    "dataset.qc_specifications"
   ]
  },
  {
   "cell_type": "code",
   "execution_count": 25,
   "metadata": {},
   "outputs": [],
   "source": [
    "openff_versions = [\n",
    "\"openff-1.0.0\", \n",
    "\"openff-1.1.0\",\n",
    "\"openff-1.2.0\",\n",
    "\"openff-1.2.1\"]"
   ]
  },
  {
   "cell_type": "code",
   "execution_count": 26,
   "metadata": {},
   "outputs": [],
   "source": [
    "for openff_version in openff_versions:\n",
    "    dataset.add_qc_spec(method=openff_version, \n",
    "                        basis=\"smirnoff\", \n",
    "                        program=\"openmm\", \n",
    "                        spec_name=openff_version, \n",
    "                        spec_description=f\"default {openff_version} spec\")"
   ]
  },
  {
   "cell_type": "markdown",
   "metadata": {},
   "source": [
    "Consider whether we want ANI as a separate submission or the same one.\n",
    "\n",
    "Also, I believe Josh Horton had mentioned that something might be done instead of increasing maxiter for ANI cases that aren't converging?"
   ]
  },
  {
   "cell_type": "code",
   "execution_count": 27,
   "metadata": {},
   "outputs": [],
   "source": [
    "dataset.add_qc_spec(method=\"ani2x\",\n",
    "                    basis=None,\n",
    "                    program=\"torchani\",\n",
    "                    spec_name=\"ani2x\",\n",
    "                    spec_description=\"ANI2x ML potential\")"
   ]
  },
  {
   "cell_type": "code",
   "execution_count": 28,
   "metadata": {},
   "outputs": [
    {
     "name": "stderr",
     "output_type": "stream",
     "text": [
      "Warning (not error because allow_undefined_stereo=True): OEMol has unspecified stereochemistry. oemol.GetTitle(): \n",
      "Problematic atoms are:\n",
      "Atom atomic num: 16, name: , idx: 43, aromatic: False, chiral: True with bonds:\n",
      "bond order: 1, chiral: False to atom atomic num: 6, name: , idx: 3, aromatic: True, chiral: False\n",
      "bond order: 2, chiral: False to atom atomic num: 8, name: , idx: 44, aromatic: False, chiral: False\n",
      "bond order: 1, chiral: False to atom atomic num: 6, name: , idx: 45, aromatic: False, chiral: False\n",
      "\n",
      "Warning (not error because allow_undefined_stereo=True): OEMol has unspecified stereochemistry. oemol.GetTitle(): \n",
      "Problematic atoms are:\n",
      "Atom atomic num: 16, name: , idx: 43, aromatic: False, chiral: True with bonds:\n",
      "bond order: 1, chiral: False to atom atomic num: 6, name: , idx: 3, aromatic: True, chiral: False\n",
      "bond order: 2, chiral: False to atom atomic num: 8, name: , idx: 44, aromatic: False, chiral: False\n",
      "bond order: 1, chiral: False to atom atomic num: 6, name: , idx: 45, aromatic: False, chiral: False\n",
      "\n",
      "Warning (not error because allow_undefined_stereo=True): OEMol has unspecified stereochemistry. oemol.GetTitle(): \n",
      "Problematic atoms are:\n",
      "Atom atomic num: 16, name: , idx: 43, aromatic: False, chiral: True with bonds:\n",
      "bond order: 1, chiral: False to atom atomic num: 6, name: , idx: 3, aromatic: True, chiral: False\n",
      "bond order: 2, chiral: False to atom atomic num: 8, name: , idx: 44, aromatic: False, chiral: False\n",
      "bond order: 1, chiral: False to atom atomic num: 6, name: , idx: 45, aromatic: False, chiral: False\n",
      "\n",
      "Warning (not error because allow_undefined_stereo=True): OEMol has unspecified stereochemistry. oemol.GetTitle(): \n",
      "Problematic atoms are:\n",
      "Atom atomic num: 16, name: , idx: 43, aromatic: False, chiral: True with bonds:\n",
      "bond order: 1, chiral: False to atom atomic num: 6, name: , idx: 3, aromatic: True, chiral: False\n",
      "bond order: 2, chiral: False to atom atomic num: 8, name: , idx: 44, aromatic: False, chiral: False\n",
      "bond order: 1, chiral: False to atom atomic num: 6, name: , idx: 45, aromatic: False, chiral: False\n",
      "\n",
      "Warning (not error because allow_undefined_stereo=True): OEMol has unspecified stereochemistry. oemol.GetTitle(): \n",
      "Problematic atoms are:\n",
      "Atom atomic num: 16, name: , idx: 43, aromatic: False, chiral: True with bonds:\n",
      "bond order: 1, chiral: False to atom atomic num: 6, name: , idx: 3, aromatic: True, chiral: False\n",
      "bond order: 2, chiral: False to atom atomic num: 8, name: , idx: 44, aromatic: False, chiral: False\n",
      "bond order: 1, chiral: False to atom atomic num: 6, name: , idx: 45, aromatic: False, chiral: False\n",
      "\n",
      "Warning (not error because allow_undefined_stereo=True): OEMol has unspecified stereochemistry. oemol.GetTitle(): \n",
      "Problematic atoms are:\n",
      "Atom atomic num: 16, name: , idx: 43, aromatic: False, chiral: True with bonds:\n",
      "bond order: 1, chiral: False to atom atomic num: 6, name: , idx: 3, aromatic: True, chiral: False\n",
      "bond order: 2, chiral: False to atom atomic num: 8, name: , idx: 44, aromatic: False, chiral: False\n",
      "bond order: 1, chiral: False to atom atomic num: 6, name: , idx: 45, aromatic: False, chiral: False\n",
      "\n",
      "Warning (not error because allow_undefined_stereo=True): OEMol has unspecified stereochemistry. oemol.GetTitle(): \n",
      "Problematic atoms are:\n",
      "Atom atomic num: 16, name: , idx: 43, aromatic: False, chiral: True with bonds:\n",
      "bond order: 1, chiral: False to atom atomic num: 6, name: , idx: 3, aromatic: True, chiral: False\n",
      "bond order: 2, chiral: False to atom atomic num: 8, name: , idx: 44, aromatic: False, chiral: False\n",
      "bond order: 1, chiral: False to atom atomic num: 6, name: , idx: 45, aromatic: False, chiral: False\n",
      "\n"
     ]
    }
   ],
   "source": [
    "dataset.visualize(\"molecules.pdf\")"
   ]
  },
  {
   "cell_type": "markdown",
   "metadata": {},
   "source": [
    "### Metadata additions"
   ]
  },
  {
   "cell_type": "code",
   "execution_count": 29,
   "metadata": {},
   "outputs": [],
   "source": [
    "dataset.metadata.long_description_url = \"https://github.com/openforcefield/qca-dataset-submission/tree/master/2020-10-08-OpenFF-Benchmark-Ligands-Unfragmented\""
   ]
  },
  {
   "cell_type": "markdown",
   "metadata": {},
   "source": [
    "### Writeout"
   ]
  },
  {
   "cell_type": "code",
   "execution_count": 30,
   "metadata": {},
   "outputs": [],
   "source": [
    "dataset.export_dataset(\"dataset.json\")"
   ]
  },
  {
   "cell_type": "code",
   "execution_count": 33,
   "metadata": {},
   "outputs": [],
   "source": [
    "! bzip2 dataset.json"
   ]
  },
  {
   "cell_type": "code",
   "execution_count": 34,
   "metadata": {},
   "outputs": [
    {
     "data": {
      "text/plain": [
       "{'StandardConformerGenerator': FilterEntry(component_name='StandardConformerGenerator', component_description={'component_name': 'StandardConformerGenerator', 'component_description': 'Generate conformations for the given molecules', 'component_fail_message': 'Conformers could not be generated', 'toolkit': 'openeye', 'max_conformers': 10, 'clear_existing': True}, component_provenance={'OpenforcefieldToolkit': '0.7.1', 'QCSubmit': '0+untagged.152.g76dd8ac', 'openeye': '2020.1.0'}, molecules=[]),\n",
       " 'LinearTorsionRemoval': FilterEntry(component_name='LinearTorsionRemoval', component_description={'component_description': 'Remove any molecules with a linear torsions selected to drive.'}, component_provenance={'qcsubmit': '0+untagged.152.g76dd8ac', 'openforcefield': '0.7.1', 'openeye': '2020.1.0'}, molecules=[]),\n",
       " 'UnconnectedTorsionRemoval': FilterEntry(component_name='UnconnectedTorsionRemoval', component_description={'component_description': 'Remove any molecules with unconnected torsion indices highlighted to drive.'}, component_provenance={'qcsubmit': '0+untagged.152.g76dd8ac', 'openforcefield': '0.7.1', 'openeye': '2020.1.0'}, molecules=[])}"
      ]
     },
     "execution_count": 34,
     "metadata": {},
     "output_type": "execute_result"
    }
   ],
   "source": [
    "dataset.filtered_molecules"
   ]
  },
  {
   "cell_type": "code",
   "execution_count": 35,
   "metadata": {},
   "outputs": [
    {
     "data": {
      "text/plain": [
       "{'C', 'Cl', 'F', 'H', 'N', 'O', 'S'}"
      ]
     },
     "execution_count": 35,
     "metadata": {},
     "output_type": "execute_result"
    }
   ],
   "source": [
    "dataset.metadata.elements"
   ]
  }
 ],
 "metadata": {
  "kernelspec": {
   "display_name": "Python 3",
   "language": "python",
   "name": "python3"
  },
  "language_info": {
   "codemirror_mode": {
    "name": "ipython",
    "version": 3
   },
   "file_extension": ".py",
   "mimetype": "text/x-python",
   "name": "python",
   "nbconvert_exporter": "python",
   "pygments_lexer": "ipython3",
   "version": "3.7.8"
  }
 },
 "nbformat": 4,
 "nbformat_minor": 4
}
