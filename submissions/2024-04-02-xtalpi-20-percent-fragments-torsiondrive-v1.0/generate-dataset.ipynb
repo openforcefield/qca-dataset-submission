version https://git-lfs.github.com/spec/v1
oid sha256:4544902c90efb33274d4372d82c0b29c47e0d0f3a12c9757a64faad44edc0732
size 10864791
