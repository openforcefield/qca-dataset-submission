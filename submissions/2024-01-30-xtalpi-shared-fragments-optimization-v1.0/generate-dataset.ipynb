{
 "cells": [
  {
   "cell_type": "markdown",
   "id": "f69bef2d",
   "metadata": {},
   "source": [
    "# Generation process\n",
    "\n",
    "This notebook documents the generation of a dataset of representative optimization molecules shared by XtalPi. The conformers used are the post-optimization conformers shared by XtalPi."
   ]
  },
  {
   "cell_type": "markdown",
   "id": "5ea594af",
   "metadata": {},
   "source": [
    "## Imports"
   ]
  },
  {
   "cell_type": "code",
   "execution_count": 1,
   "id": "000d3f86",
   "metadata": {},
   "outputs": [
    {
     "name": "stdout",
     "output_type": "stream",
     "text": [
      "OpenFF QCSubmit: 0.50.2\n",
      "OpenFF Toolkit: 0.15.0\n",
      "OpenEye: 2022.1.1\n",
      "QCElemental: 0.27.1\n",
      "QCPortal: 0.53\n",
      "PyArrow: 14.0.2\n"
     ]
    }
   ],
   "source": [
    "import openff.qcsubmit\n",
    "import openff.toolkit\n",
    "import openeye\n",
    "import qcelemental\n",
    "import qcportal\n",
    "import pyarrow\n",
    "import pyarrow.dataset as ds\n",
    "import numpy as np\n",
    "\n",
    "print(\"OpenFF QCSubmit:\", openff.qcsubmit.__version__)\n",
    "print(\"OpenFF Toolkit:\", openff.toolkit.__version__)\n",
    "print(\"OpenEye:\", openeye.__version__)\n",
    "print(\"QCElemental:\", qcelemental.__version__)\n",
    "print(\"QCPortal:\", qcportal.__version__)\n",
    "print(\"PyArrow:\", pyarrow.__version__)"
   ]
  },
  {
   "cell_type": "code",
   "execution_count": 2,
   "id": "eef92d93",
   "metadata": {},
   "outputs": [],
   "source": [
    "import tqdm\n",
    "\n",
    "from openff.units import unit\n",
    "\n",
    "from openff.toolkit import Molecule\n",
    "from openff.toolkit.utils import OpenEyeToolkitWrapper, ToolkitRegistry\n",
    "\n",
    "from openff.qcsubmit.datasets import OptimizationDataset\n",
    "from openff.qcsubmit.factories import OptimizationDatasetFactory"
   ]
  },
  {
   "cell_type": "markdown",
   "id": "4d0506dd",
   "metadata": {},
   "source": [
    "## Setting up dataset"
   ]
  },
  {
   "cell_type": "code",
   "execution_count": 3,
   "id": "6f3a29cf",
   "metadata": {},
   "outputs": [],
   "source": [
    "dataset_factory = OptimizationDatasetFactory()"
   ]
  },
  {
   "cell_type": "code",
   "execution_count": 4,
   "id": "29ea21aa",
   "metadata": {},
   "outputs": [],
   "source": [
    "dataset = OptimizationDataset(\n",
    "    dataset_name=\"XtalPi Shared Fragments OptimizationDataset v1.0\",\n",
    "    dataset_tagline=\"B3LYP-D3BJ/DZVP optimization of fragments shared by XtalPi.\",\n",
    "    description=(\n",
    "        \"A dataset containing representative fragments shared by XtalPi \"\n",
    "        \"used in fitting the XFF force field \"\n",
    "        \"(DOI: 10.1021/acs.jctc.3c00920). \"\n",
    "        \"Conformers are the post-optimization geometries shared by XtalPi. \"\n",
    "        \"Each conformer will be converged according to the 'GAU_LOOSE' criteria.\"\n",
    "    ),\n",
    ")\n",
    "dataset.metadata.submitter = \"lilyminium\"\n",
    "dataset.metadata.long_description_url = (\n",
    "    \"https://github.com/openforcefield/qca-dataset-submission/tree/master/\"\n",
    "    \"submissions/\"\n",
    "    \"2024-01-30-xtalpi-shared-fragments-optimization-v1.0\"\n",
    ")"
   ]
  },
  {
   "cell_type": "markdown",
   "id": "31e4e9bd",
   "metadata": {},
   "source": [
    "## Loading input"
   ]
  },
  {
   "cell_type": "code",
   "execution_count": 5,
   "id": "ca446155",
   "metadata": {},
   "outputs": [
    {
     "data": {
      "text/plain": [
       "ATOM: list<item: double>\n",
       "  child 0, item: double\n",
       "AM1BCC_CHARGE: list<item: double>\n",
       "  child 0, item: double\n",
       "RESP_CHARGE: list<item: double>\n",
       "  child 0, item: double\n",
       "ENERGY: double\n",
       "INPUT_MOLECULE: list<item: double>\n",
       "  child 0, item: double\n",
       "CA_TYPE: string\n",
       "CORE_TIME: double\n",
       "HESSIAN: list<item: double>\n",
       "  child 0, item: double\n",
       "FINGERPRINT: string\n",
       "GRADIENT: list<item: double>\n",
       "  child 0, item: double\n",
       "filename: string\n",
       "directory: string\n",
       "parent: string\n",
       "smiles: string\n",
       "mapped_smiles: string\n",
       "n_atoms: int64\n",
       "atomic_numbers: list<item: int64>\n",
       "  child 0, item: int64"
      ]
     },
     "execution_count": 5,
     "metadata": {},
     "output_type": "execute_result"
    }
   ],
   "source": [
    "input_dataset = ds.dataset(\"/data/chodera/lilywang/datasets/xff/output/xff-opt-dataset\")\n",
    "input_dataset.schema"
   ]
  },
  {
   "cell_type": "code",
   "execution_count": 6,
   "id": "fc7d3ae4",
   "metadata": {},
   "outputs": [
    {
     "data": {
      "text/plain": [
       "234"
      ]
     },
     "execution_count": 6,
     "metadata": {},
     "output_type": "execute_result"
    }
   ],
   "source": [
    "from collections import defaultdict\n",
    "from openff.toolkit import Molecule\n",
    "from openff.units import unit\n",
    "import numpy as np\n",
    "\n",
    "molecules = defaultdict(list)\n",
    "\n",
    "columns = [\"mapped_smiles\", \"ATOM\", \"parent\", \"directory\"]\n",
    "df = input_dataset.to_table(columns=columns).to_pandas()\n",
    "all_molecules = []\n",
    "# the fragment dataset was organized by directory\n",
    "for _, subdf in df.groupby(by=[\"parent\", \"directory\"]):\n",
    "    unique_smiles = subdf.mapped_smiles.unique()\n",
    "    assert len(unique_smiles) == 1\n",
    "    mol = Molecule.from_mapped_smiles(\n",
    "        unique_smiles[0],\n",
    "        allow_undefined_stereo=True,\n",
    "    )\n",
    "    mol._conformers = []\n",
    "    for each in subdf.ATOM.values:\n",
    "        conformer = np.array(each).reshape((-1, 3))\n",
    "        mol._conformers.append(conformer * unit.angstrom)\n",
    "    all_molecules.append(mol)\n",
    "\n",
    "len(all_molecules)"
   ]
  },
  {
   "cell_type": "code",
   "execution_count": 7,
   "id": "18aaee3b",
   "metadata": {
    "scrolled": false
   },
   "outputs": [
    {
     "name": "stderr",
     "output_type": "stream",
     "text": [
      "234it [00:39,  5.87it/s]\n"
     ]
    }
   ],
   "source": [
    "for i, mol in tqdm.tqdm(enumerate(all_molecules)):\n",
    "    dataset.add_molecule(\n",
    "        dataset_factory.create_index(molecule=mol),\n",
    "        mol\n",
    "    )"
   ]
  },
  {
   "cell_type": "code",
   "execution_count": 8,
   "id": "bd99c608",
   "metadata": {},
   "outputs": [],
   "source": [
    "dataset.dict()"
   ]
  },
  {
   "cell_type": "markdown",
   "id": "8e6be6be",
   "metadata": {},
   "source": [
    "## Exporting dataset"
   ]
  },
  {
   "cell_type": "code",
   "execution_count": null,
   "id": "2b792c27",
   "metadata": {},
   "outputs": [],
   "source": [
    "dataset.export_dataset(\"dataset.json.bz2\")\n",
    "dataset.molecules_to_file('dataset.smi', 'smi')\n",
    "dataset.visualize(\"dataset.pdf\", columns=8)\n",
    "\n",
    "print(dataset.qc_specifications)"
   ]
  },
  {
   "cell_type": "markdown",
   "id": "be75ae7d",
   "metadata": {},
   "source": [
    "## Dataset information"
   ]
  },
  {
   "cell_type": "code",
   "execution_count": null,
   "id": "fafd74f0",
   "metadata": {},
   "outputs": [],
   "source": [
    "import numpy as np\n",
    "from collections import Counter"
   ]
  },
  {
   "cell_type": "code",
   "execution_count": null,
   "id": "24b56612",
   "metadata": {},
   "outputs": [],
   "source": [
    "print(\"n_molecules:\", dataset.n_molecules)\n",
    "print(\"n_conformers:\", dataset.n_records)"
   ]
  },
  {
   "cell_type": "code",
   "execution_count": null,
   "id": "766e68af",
   "metadata": {},
   "outputs": [],
   "source": [
    "n_confs = np.array(\n",
    "    [mol.n_conformers for mol in dataset.molecules]\n",
    ")\n",
    "n_heavy_atoms = np.array(\n",
    "    [mol.to_rdkit().GetNumHeavyAtoms() for mol in dataset.molecules]\n",
    ")"
   ]
  },
  {
   "cell_type": "code",
   "execution_count": null,
   "id": "79914f9a",
   "metadata": {},
   "outputs": [],
   "source": [
    "print(\n",
    "    \"Number of conformers (min, mean, max):\",\n",
    "    n_confs.min(), n_confs.mean(), n_confs.max()\n",
    ")\n",
    "print(\"# heavy atoms\")\n",
    "counts = Counter(n_heavy_atoms)\n",
    "for n_heavy in sorted(counts):\n",
    "    print(f\"{str(n_heavy):>3}: {counts[n_heavy]}\")"
   ]
  },
  {
   "cell_type": "code",
   "execution_count": null,
   "id": "171aa150",
   "metadata": {},
   "outputs": [],
   "source": [
    "unique_charges = set([\n",
    "    mol.total_charge.m_as(unit.elementary_charge)\n",
    "    for mol in dataset.molecules\n",
    "])\n",
    "unique_charges"
   ]
  },
  {
   "cell_type": "code",
   "execution_count": null,
   "id": "8838bcab",
   "metadata": {},
   "outputs": [],
   "source": [
    "masses = np.array([\n",
    "    sum([atom.mass.m for atom in mol.atoms])\n",
    "    for mol in dataset.molecules\n",
    "])\n",
    "print(\"MW (min, mean, max):\", masses.min(), masses.mean(), masses.max())"
   ]
  },
  {
   "cell_type": "code",
   "execution_count": null,
   "id": "512be345",
   "metadata": {},
   "outputs": [],
   "source": [
    "elements = set(\n",
    "    atom.symbol\n",
    "    for mol in dataset.molecules\n",
    "    for atom in mol.atoms\n",
    ")\n",
    "print(elements)"
   ]
  },
  {
   "cell_type": "code",
   "execution_count": null,
   "id": "abd72eee",
   "metadata": {},
   "outputs": [],
   "source": []
  }
 ],
 "metadata": {
  "kernelspec": {
   "display_name": "Python (qca-datasets)",
   "language": "python",
   "name": "qca-datasets"
  },
  "language_info": {
   "codemirror_mode": {
    "name": "ipython",
    "version": 3
   },
   "file_extension": ".py",
   "mimetype": "text/x-python",
   "name": "python",
   "nbconvert_exporter": "python",
   "pygments_lexer": "ipython3",
   "version": "3.10.13"
  }
 },
 "nbformat": 4,
 "nbformat_minor": 5
}
