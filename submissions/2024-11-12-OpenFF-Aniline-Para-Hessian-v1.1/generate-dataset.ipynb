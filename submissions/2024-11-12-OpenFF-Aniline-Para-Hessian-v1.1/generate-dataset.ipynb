{
 "cells": [
  {
   "cell_type": "code",
   "execution_count": 1,
   "id": "3d3cf7ba-e0db-439e-bb2e-983a2aa463ef",
   "metadata": {
    "execution": {
     "iopub.execute_input": "2024-11-12T18:46:00.596896Z",
     "iopub.status.busy": "2024-11-12T18:46:00.595250Z",
     "iopub.status.idle": "2024-11-12T18:46:03.244729Z",
     "shell.execute_reply": "2024-11-12T18:46:03.244170Z",
     "shell.execute_reply.started": "2024-11-12T18:46:00.596826Z"
    }
   },
   "outputs": [],
   "source": [
    "from qcportal import PortalClient\n",
    "from openff.qcsubmit.results import OptimizationResultCollection,BasicResultCollection\n",
    "from openff.qcsubmit.datasets import BasicDataset\n",
    "from openff.qcsubmit.results.filters import ConnectivityFilter, RecordStatusEnum, RecordStatusFilter\n",
    "from openff.qcsubmit.factories import BasicDatasetFactory\n",
    "from openff.qcsubmit.common_structures import Metadata, QCSpec"
   ]
  },
  {
   "cell_type": "markdown",
   "id": "c3600edd-6772-47fa-b4fa-9d4428851b8e",
   "metadata": {},
   "source": [
    "# Load optimization dataset"
   ]
  },
  {
   "cell_type": "code",
   "execution_count": 2,
   "id": "b2d28e39-5696-4577-a0a8-c02b0a98d019",
   "metadata": {
    "execution": {
     "iopub.execute_input": "2024-11-12T18:46:03.246455Z",
     "iopub.status.busy": "2024-11-12T18:46:03.245915Z",
     "iopub.status.idle": "2024-11-12T18:46:03.606374Z",
     "shell.execute_reply": "2024-11-12T18:46:03.605424Z",
     "shell.execute_reply.started": "2024-11-12T18:46:03.246430Z"
    }
   },
   "outputs": [],
   "source": [
    "client = PortalClient(\"https://api.qcarchive.molssi.org:443/\")"
   ]
  },
  {
   "cell_type": "code",
   "execution_count": 3,
   "id": "ad9d088a-8000-41e0-b1e5-9b3978b886da",
   "metadata": {
    "execution": {
     "iopub.execute_input": "2024-11-12T18:46:03.609516Z",
     "iopub.status.busy": "2024-11-12T18:46:03.607840Z",
     "iopub.status.idle": "2024-11-12T18:46:06.075520Z",
     "shell.execute_reply": "2024-11-12T18:46:06.074993Z",
     "shell.execute_reply.started": "2024-11-12T18:46:03.609361Z"
    }
   },
   "outputs": [],
   "source": [
    "opt_ds = OptimizationResultCollection.from_server(client=client,datasets=['OpenFF Aniline Para Opt v1.0'])"
   ]
  },
  {
   "cell_type": "code",
   "execution_count": 4,
   "id": "bf13b1f2-66ae-44e7-aed2-103bdfdfe822",
   "metadata": {
    "execution": {
     "iopub.execute_input": "2024-11-12T18:46:06.077212Z",
     "iopub.status.busy": "2024-11-12T18:46:06.076999Z",
     "iopub.status.idle": "2024-11-12T18:46:10.042997Z",
     "shell.execute_reply": "2024-11-12T18:46:10.042626Z",
     "shell.execute_reply.started": "2024-11-12T18:46:06.077196Z"
    }
   },
   "outputs": [],
   "source": [
    "filtered = opt_ds.filter(\n",
    "        RecordStatusFilter(status=RecordStatusEnum.complete),\n",
    "        ConnectivityFilter(tolerance=1.2),\n",
    "    )"
   ]
  },
  {
   "cell_type": "code",
   "execution_count": 5,
   "id": "b3571231-289b-41f1-8287-85abca89b6bf",
   "metadata": {
    "execution": {
     "iopub.execute_input": "2024-11-12T18:46:10.043542Z",
     "iopub.status.busy": "2024-11-12T18:46:10.043408Z",
     "iopub.status.idle": "2024-11-12T18:46:10.046588Z",
     "shell.execute_reply": "2024-11-12T18:46:10.046119Z",
     "shell.execute_reply.started": "2024-11-12T18:46:10.043529Z"
    }
   },
   "outputs": [
    {
     "name": "stdout",
     "output_type": "stream",
     "text": [
      "50 223\n",
      "50 223\n"
     ]
    }
   ],
   "source": [
    "print(opt_ds.n_molecules,opt_ds.n_results)\n",
    "print(filtered.n_molecules,filtered.n_results)"
   ]
  },
  {
   "cell_type": "markdown",
   "id": "4a825469-397a-415b-8d5d-016e798dac76",
   "metadata": {},
   "source": [
    "# Set up single points"
   ]
  },
  {
   "cell_type": "code",
   "execution_count": 6,
   "id": "bba475b9-1fa9-4655-a6d7-bf52fae73682",
   "metadata": {
    "execution": {
     "iopub.execute_input": "2024-11-12T18:47:33.151184Z",
     "iopub.status.busy": "2024-11-12T18:47:33.150552Z",
     "iopub.status.idle": "2024-11-12T18:47:36.204163Z",
     "shell.execute_reply": "2024-11-12T18:47:36.203759Z",
     "shell.execute_reply.started": "2024-11-12T18:47:33.151152Z"
    }
   },
   "outputs": [],
   "source": [
    "from qcelemental.models import DriverEnum\n",
    "\n",
    "dataset = filtered.create_basic_dataset(dataset_name=\"OpenFF Aniline Para Hessian v1.1\",\n",
    "                                        tagline=\"Hessian single points for the OpenFF Aniline Para Opt v1.0 dataset.\",\n",
    "                                        description=(\n",
    "                                            \"Hessian single points for the final molecules in the OpenFF Aniline Para Opt v1.0 dataset at the B3LYP-D3BJ/DZVP level of theory. Compared to OpenFF Aniline Para Hessian v1.0, molecules have been re-generated so as to preserve molecule IDs between opt and Hessian datasets.\"\n",
    "                                        ),\n",
    "                                        driver=DriverEnum.hessian, \n",
    "                                        metadata=Metadata(\n",
    "                                            submitter=\"amcisaac\",\n",
    "                                            long_description_url=(\n",
    "                                                \"https://github.com/openforcefield/qca-dataset-submission/tree/master/submissions/2024-11-12-OpenFF-Aniline-Para-Hessian-v1.1\"\n",
    "                                            )\n",
    "                                        ),\n",
    "                                    ) # Default QCSpec shouldn't need to be explicitly stated"
   ]
  },
  {
   "cell_type": "code",
   "execution_count": 7,
   "id": "c45960e3-0aa8-4318-9ae6-17bbcec7afb0",
   "metadata": {
    "execution": {
     "iopub.execute_input": "2024-11-12T18:47:53.592688Z",
     "iopub.status.busy": "2024-11-12T18:47:53.591415Z",
     "iopub.status.idle": "2024-11-12T18:47:55.254558Z",
     "shell.execute_reply": "2024-11-12T18:47:55.254206Z",
     "shell.execute_reply.started": "2024-11-12T18:47:53.592628Z"
    }
   },
   "outputs": [
    {
     "data": {
      "text/plain": [
       "True"
      ]
     },
     "execution_count": 7,
     "metadata": {},
     "output_type": "execute_result"
    }
   ],
   "source": [
    "opt_hashes = {\n",
    "        rec.final_molecule.get_hash() for rec, _mol in filtered.to_records()\n",
    "    }\n",
    "\n",
    "new_hashes = {\n",
    "    qcemol.identifiers.molecule_hash\n",
    "    for moldata in dataset.dataset.values()\n",
    "    for qcemol in moldata.initial_molecules\n",
    "}\n",
    "\n",
    "opt_hashes==new_hashes"
   ]
  },
  {
   "cell_type": "code",
   "execution_count": 8,
   "id": "8e419645-dbaa-40aa-bec5-957cfd1586c7",
   "metadata": {
    "execution": {
     "iopub.execute_input": "2024-11-12T18:47:56.329936Z",
     "iopub.status.busy": "2024-11-12T18:47:56.328609Z",
     "iopub.status.idle": "2024-11-12T18:47:56.345674Z",
     "shell.execute_reply": "2024-11-12T18:47:56.344960Z",
     "shell.execute_reply.started": "2024-11-12T18:47:56.329860Z"
    }
   },
   "outputs": [
    {
     "data": {
      "text/plain": [
       "{'default': QCSpecification(program='psi4', driver=<SinglepointDriver.hessian: 'hessian'>, method='b3lyp-d3bj', basis='dzvp', keywords={'maxiter': 200, 'scf_properties': [<SCFProperties.Dipole: 'dipole'>, <SCFProperties.Quadrupole: 'quadrupole'>, <SCFProperties.WibergLowdinIndices: 'wiberg_lowdin_indices'>, <SCFProperties.MayerIndices: 'mayer_indices'>]}, protocols=AtomicResultProtocols(wavefunction=<WavefunctionProtocolEnum.none: 'none'>, stdout=True, error_correction=ErrorCorrectionProtocol(default_policy=True, policies=None), native_files=<NativeFilesProtocolEnum.none: 'none'>))}"
      ]
     },
     "execution_count": 8,
     "metadata": {},
     "output_type": "execute_result"
    }
   ],
   "source": [
    "dataset._get_specifications()"
   ]
  },
  {
   "cell_type": "markdown",
   "id": "8e812a07-bd89-47f2-9380-6c939838aac6",
   "metadata": {},
   "source": [
    "# Exporting dataset"
   ]
  },
  {
   "cell_type": "code",
   "execution_count": 9,
   "id": "d69c1de7-42a6-407f-a555-6fc5a7ef0e61",
   "metadata": {
    "execution": {
     "iopub.execute_input": "2024-11-12T18:48:01.044601Z",
     "iopub.status.busy": "2024-11-12T18:48:01.043800Z",
     "iopub.status.idle": "2024-11-12T18:48:01.420654Z",
     "shell.execute_reply": "2024-11-12T18:48:01.420305Z",
     "shell.execute_reply.started": "2024-11-12T18:48:01.044570Z"
    }
   },
   "outputs": [
    {
     "name": "stdout",
     "output_type": "stream",
     "text": [
      "{'default': QCSpec(method='B3LYP-D3BJ', basis='DZVP', program='psi4', spec_name='default', spec_description='Standard OpenFF optimization quantum chemistry specification.', store_wavefunction=<WavefunctionProtocolEnum.none: 'none'>, implicit_solvent=None, maxiter=200, scf_properties=[<SCFProperties.Dipole: 'dipole'>, <SCFProperties.Quadrupole: 'quadrupole'>, <SCFProperties.WibergLowdinIndices: 'wiberg_lowdin_indices'>, <SCFProperties.MayerIndices: 'mayer_indices'>], keywords={})}\n"
     ]
    }
   ],
   "source": [
    "dataset.export_dataset(\"dataset.json.bz2\")\n",
    "dataset.molecules_to_file('dataset.smi', 'smi')\n",
    "dataset.visualize(\"dataset.pdf\", columns=8)\n",
    "\n",
    "print(dataset.qc_specifications)"
   ]
  },
  {
   "cell_type": "markdown",
   "id": "88a45064-d703-457e-b29b-ba0aa758ca9a",
   "metadata": {},
   "source": [
    "# Dataset information"
   ]
  },
  {
   "cell_type": "code",
   "execution_count": 10,
   "id": "dc940078-e0e4-4395-9e71-69e49064d3a1",
   "metadata": {
    "execution": {
     "iopub.execute_input": "2024-11-12T18:48:02.387622Z",
     "iopub.status.busy": "2024-11-12T18:48:02.386353Z",
     "iopub.status.idle": "2024-11-12T18:48:02.397992Z",
     "shell.execute_reply": "2024-11-12T18:48:02.396656Z",
     "shell.execute_reply.started": "2024-11-12T18:48:02.387542Z"
    }
   },
   "outputs": [],
   "source": [
    "import numpy as np\n",
    "from collections import Counter"
   ]
  },
  {
   "cell_type": "code",
   "execution_count": 11,
   "id": "388aff3d-ff0a-4c36-9d83-e6ec82d31db8",
   "metadata": {
    "execution": {
     "iopub.execute_input": "2024-11-12T18:48:03.135129Z",
     "iopub.status.busy": "2024-11-12T18:48:03.134477Z",
     "iopub.status.idle": "2024-11-12T18:48:03.143637Z",
     "shell.execute_reply": "2024-11-12T18:48:03.142572Z",
     "shell.execute_reply.started": "2024-11-12T18:48:03.135095Z"
    }
   },
   "outputs": [
    {
     "name": "stdout",
     "output_type": "stream",
     "text": [
      "n_molecules: 50\n",
      "n_conformers: 223\n"
     ]
    }
   ],
   "source": [
    "print(\"n_molecules:\", dataset.n_molecules)\n",
    "print(\"n_conformers:\", dataset.n_records)"
   ]
  },
  {
   "cell_type": "code",
   "execution_count": 12,
   "id": "8e7d50e8-201d-4f32-a2fd-c3daa60fe35d",
   "metadata": {
    "execution": {
     "iopub.execute_input": "2024-11-12T18:48:03.338125Z",
     "iopub.status.busy": "2024-11-12T18:48:03.337258Z",
     "iopub.status.idle": "2024-11-12T18:48:03.846246Z",
     "shell.execute_reply": "2024-11-12T18:48:03.845719Z",
     "shell.execute_reply.started": "2024-11-12T18:48:03.338085Z"
    }
   },
   "outputs": [],
   "source": [
    "n_confs = np.array(\n",
    "    [mol.n_conformers for mol in dataset.molecules]\n",
    ")\n",
    "n_heavy_atoms = np.array(\n",
    "    [mol.to_rdkit().GetNumHeavyAtoms() for mol in dataset.molecules]\n",
    ")"
   ]
  },
  {
   "cell_type": "code",
   "execution_count": 13,
   "id": "7ccb51cc-523a-43cd-8ab0-b5d63f9141fc",
   "metadata": {
    "execution": {
     "iopub.execute_input": "2024-11-12T18:48:03.847501Z",
     "iopub.status.busy": "2024-11-12T18:48:03.847331Z",
     "iopub.status.idle": "2024-11-12T18:48:03.854114Z",
     "shell.execute_reply": "2024-11-12T18:48:03.853648Z",
     "shell.execute_reply.started": "2024-11-12T18:48:03.847488Z"
    }
   },
   "outputs": [
    {
     "name": "stdout",
     "output_type": "stream",
     "text": [
      "Number of conformers (min, mean, max): 1 4.46 10\n",
      "# heavy atoms\n",
      "  8: 9\n",
      "  9: 10\n",
      " 10: 11\n",
      " 11: 11\n",
      " 12: 3\n",
      " 13: 1\n",
      " 14: 5\n"
     ]
    }
   ],
   "source": [
    "print(\n",
    "    \"Number of conformers (min, mean, max):\",\n",
    "    n_confs.min(), n_confs.mean(), n_confs.max()\n",
    ")\n",
    "print(\"# heavy atoms\")\n",
    "counts = Counter(n_heavy_atoms)\n",
    "for n_heavy in sorted(counts):\n",
    "    print(f\"{str(n_heavy):>3}: {counts[n_heavy]}\")"
   ]
  },
  {
   "cell_type": "code",
   "execution_count": 14,
   "id": "62625c83-8904-44f7-b219-8c88827bb971",
   "metadata": {
    "execution": {
     "iopub.execute_input": "2024-11-12T18:48:03.854892Z",
     "iopub.status.busy": "2024-11-12T18:48:03.854746Z",
     "iopub.status.idle": "2024-11-12T18:48:04.036590Z",
     "shell.execute_reply": "2024-11-12T18:48:04.036129Z",
     "shell.execute_reply.started": "2024-11-12T18:48:03.854879Z"
    }
   },
   "outputs": [
    {
     "data": {
      "text/plain": [
       "{-1.0, 0.0, 1.0}"
      ]
     },
     "execution_count": 14,
     "metadata": {},
     "output_type": "execute_result"
    }
   ],
   "source": [
    "from openff.units import unit\n",
    "unique_charges = set([\n",
    "    mol.total_charge.m_as(unit.elementary_charge)\n",
    "    for mol in dataset.molecules\n",
    "])\n",
    "unique_charges"
   ]
  },
  {
   "cell_type": "code",
   "execution_count": 15,
   "id": "f0291cf3-b3b4-4dfd-a2ac-07612c8d713a",
   "metadata": {
    "execution": {
     "iopub.execute_input": "2024-11-12T18:48:04.038133Z",
     "iopub.status.busy": "2024-11-12T18:48:04.037926Z",
     "iopub.status.idle": "2024-11-12T18:48:04.199320Z",
     "shell.execute_reply": "2024-11-12T18:48:04.198977Z",
     "shell.execute_reply.started": "2024-11-12T18:48:04.038115Z"
    }
   },
   "outputs": [
    {
     "name": "stdout",
     "output_type": "stream",
     "text": [
      "MW (min, mean, max): 107.15370300000001 150.423601985 343.842162\n"
     ]
    }
   ],
   "source": [
    "\n",
    "masses = np.array([\n",
    "    sum([atom.mass.m for atom in mol.atoms])\n",
    "    for mol in dataset.molecules\n",
    "])\n",
    "print(\"MW (min, mean, max):\", masses.min(), masses.mean(), masses.max())"
   ]
  },
  {
   "cell_type": "code",
   "execution_count": 16,
   "id": "4d17e60d-eb09-4a0c-a243-8c05fba536db",
   "metadata": {
    "execution": {
     "iopub.execute_input": "2024-11-12T18:48:04.572074Z",
     "iopub.status.busy": "2024-11-12T18:48:04.570669Z",
     "iopub.status.idle": "2024-11-12T18:48:04.768616Z",
     "shell.execute_reply": "2024-11-12T18:48:04.768233Z",
     "shell.execute_reply.started": "2024-11-12T18:48:04.572018Z"
    }
   },
   "outputs": [
    {
     "name": "stdout",
     "output_type": "stream",
     "text": [
      "{'Br', 'H', 'S', 'O', 'C', 'N', 'F', 'Cl'}\n"
     ]
    }
   ],
   "source": [
    "elements = set(\n",
    "    atom.symbol\n",
    "    for mol in dataset.molecules\n",
    "    for atom in mol.atoms\n",
    ")\n",
    "print(elements)"
   ]
  }
 ],
 "metadata": {
  "kernelspec": {
   "display_name": "Python 3 (ipykernel)",
   "language": "python",
   "name": "python3"
  },
  "language_info": {
   "codemirror_mode": {
    "name": "ipython",
    "version": 3
   },
   "file_extension": ".py",
   "mimetype": "text/x-python",
   "name": "python",
   "nbconvert_exporter": "python",
   "pygments_lexer": "ipython3",
   "version": "3.12.7"
  }
 },
 "nbformat": 4,
 "nbformat_minor": 5
}
