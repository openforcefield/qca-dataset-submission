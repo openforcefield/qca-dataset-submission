{
 "cells": [
  {
   "cell_type": "markdown",
   "metadata": {},
   "source": [
    "# Protein Fragments Unconstrained Optimization - Preparation"
   ]
  },
  {
   "cell_type": "code",
   "execution_count": 1,
   "metadata": {},
   "outputs": [
    {
     "data": {
      "application/vnd.jupyter.widget-view+json": {
       "model_id": "ad29fd0903f248d7bfa7d16feefdb5ff",
       "version_major": 2,
       "version_minor": 0
      },
      "text/plain": []
     },
     "metadata": {},
     "output_type": "display_data"
    }
   ],
   "source": [
    "import os\n",
    "\n",
    "from qcsubmit.factories import OptimizationDataset, OptimizationDatasetFactory\n",
    "from openforcefield.topology import Molecule\n",
    "from openforcefield.utils.toolkits import RDKitToolkitWrapper, UndefinedStereochemistryError"
   ]
  },
  {
   "cell_type": "markdown",
   "metadata": {},
   "source": [
    "We'll use the same artifacts produced for submitting Optimizations in \"2020-08-12-OpenFF-Protein-Fragments-version2\"."
   ]
  },
  {
   "cell_type": "code",
   "execution_count": 3,
   "metadata": {},
   "outputs": [],
   "source": [
    "!tar -xzf ../2020-08-12-OpenFF-Protein-Fragments-version2/Input_files.tar.gz -C ."
   ]
  },
  {
   "cell_type": "markdown",
   "metadata": {},
   "source": [
    "## Preparation steps"
   ]
  },
  {
   "cell_type": "code",
   "execution_count": 2,
   "metadata": {},
   "outputs": [],
   "source": [
    "# we need a function to get all of the conformers from the folder and make an openff molecule\n",
    "def gather_conformers(folder):\n",
    "    \"\"\"\n",
    "    create a molecule from all of the conformers in the folder.\n",
    "    \"\"\"\n",
    "    molecules = []\n",
    "    for file in os.listdir(folder):\n",
    "        if file.endswith(\".mol2\") and not file.startswith('.'):\n",
    "            # this is one of the molecules\n",
    "            try:\n",
    "                mol2 = Molecule.from_file(os.path.join(folder, file))\n",
    "            except UndefinedStereochemistryError:\n",
    "                # if we get undefined stereochemistry, we skip this conformer\n",
    "                print(f\"Undefined stereochemistry for {folder}/{file}; skipping\")\n",
    "                continue\n",
    "            # now save again in PDB format\n",
    "            name = file.split(\".\")[0]\n",
    "            # fix issue with openeye reordering when writing files.\n",
    "            mol2.to_file(os.path.join(folder, name + \".pdb\"), \"pdb\", RDKitToolkitWrapper())\n",
    "            # load up the new molecule\n",
    "            pdb = Molecule.from_file(os.path.join(folder, name + \".pdb\"))\n",
    "            molecules.append(pdb)\n",
    "            \n",
    "    # now we need to condense all of the conformers down to one molecule.\n",
    "    return_mol = molecules.pop()\n",
    "    for molecule in molecules:\n",
    "        return_mol.add_conformer(molecule.conformers[0])\n",
    "        \n",
    "    return return_mol"
   ]
  },
  {
   "cell_type": "code",
   "execution_count": 3,
   "metadata": {},
   "outputs": [
    {
     "name": "stdout",
     "output_type": "stream",
     "text": [
      "Skipping ._.DS_Store\n",
      "collecting from folder Input_files/GLN/VAL_GLN_GLY\n",
      "collecting from folder Input_files/GLN/ALA_GLN_GLY\n",
      "collecting from folder Input_files/GLN/GLY_GLN_SER\n",
      "collecting from folder Input_files/GLN/SER_GLN_VAL\n",
      "collecting from folder Input_files/GLN/GLY_GLN_ALA\n",
      "collecting from folder Input_files/GLN/ALA_GLN_VAL\n",
      "collecting from folder Input_files/GLN/GLY_GLN_GLY\n",
      "Skipping ConfGLN.tar.gz\n",
      "collecting from folder Input_files/GLN/SER_GLN_SER\n",
      "collecting from folder Input_files/GLN/ALA_GLN_SER\n",
      "collecting from folder Input_files/GLN/SER_GLN_GLY\n",
      "collecting from folder Input_files/GLN/SER_GLN_ALA\n",
      "collecting from folder Input_files/GLN/VAL_GLN_VAL\n",
      "collecting from folder Input_files/GLN/ALA_GLN_ALA\n",
      "collecting from folder Input_files/GLN/GLY_GLN_VAL\n",
      "collecting from folder Input_files/GLN/VAL_GLN_SER\n",
      "Undefined stereochemistry for Input_files/GLN/VAL_GLN_SER/Conf524.mol2; skipping\n",
      "Skipping ._ConfGLN.tar.gz\n",
      "collecting from folder Input_files/GLN/VAL_GLN_ALA\n",
      "Skipping ._GLN\n",
      "Skipping ._ASN\n",
      "collecting from folder Input_files/GLH/ALA_GLH_SER\n",
      "collecting from folder Input_files/GLH/ALA_GLH_GLY\n",
      "collecting from folder Input_files/GLH/GLY_GLH_VAL\n",
      "collecting from folder Input_files/GLH/SER_GLH_ALA\n",
      "collecting from folder Input_files/GLH/GLY_GLH_ALA\n",
      "collecting from folder Input_files/GLH/ALA_GLH_ALA\n",
      "collecting from folder Input_files/GLH/SER_GLH_VAL\n",
      "collecting from folder Input_files/GLH/GLY_GLH_GLY\n",
      "Skipping ConfGLH.tar.gz\n",
      "collecting from folder Input_files/GLH/VAL_GLH_GLY\n",
      "collecting from folder Input_files/GLH/VAL_GLH_ALA\n",
      "collecting from folder Input_files/GLH/VAL_GLH_SER\n",
      "collecting from folder Input_files/GLH/SER_GLH_GLY\n",
      "collecting from folder Input_files/GLH/VAL_GLH_VAL\n",
      "collecting from folder Input_files/GLH/ALA_GLH_VAL\n",
      "collecting from folder Input_files/GLH/SER_GLH_SER\n",
      "collecting from folder Input_files/GLH/GLY_GLH_SER\n",
      "Skipping ._ConfGLH.tar.gz\n",
      "collecting from folder Input_files/ALA/VAL_ALA_GLY\n",
      "Skipping ._ALA_ALA_ALA\n",
      "collecting from folder Input_files/ALA/ALA_ALA_VAL\n",
      "Skipping ._VAL_ALA_ALA\n",
      "collecting from folder Input_files/ALA/VAL_ALA_ALA\n",
      "collecting from folder Input_files/ALA/SER_ALA_VAL\n",
      "Skipping ._ALA_ALA_SER\n",
      "Skipping ._SER_ALA_VAL\n",
      "Skipping ._GLY_ALA_VAL\n",
      "collecting from folder Input_files/ALA/GLY_ALA_VAL\n",
      "Skipping ._GLY_ALA_SER\n",
      "collecting from folder Input_files/ALA/GLY_ALA_GLY\n",
      "Skipping ._GLY_ALA_GLY\n",
      "collecting from folder Input_files/ALA/SER_ALA_ALA\n",
      "collecting from folder Input_files/ALA/SER_ALA_GLY\n",
      "Skipping ._ALA_ALA_VAL\n",
      "Skipping ._VAL_ALA_VAL\n",
      "collecting from folder Input_files/ALA/ALA_ALA_GLY\n",
      "collecting from folder Input_files/ALA/GLY_ALA_ALA\n",
      "Skipping ._SER_ALA_ALA\n",
      "Skipping ._VAL_ALA_GLY\n",
      "Skipping ._ALA_ALA_GLY\n",
      "Skipping ._GLY_ALA_ALA\n",
      "collecting from folder Input_files/ALA/ALA_ALA_SER\n",
      "collecting from folder Input_files/ALA/GLY_ALA_SER\n",
      "Skipping ._VAL_ALA_SER\n",
      "Skipping ._SER_ALA_SER\n",
      "collecting from folder Input_files/ALA/VAL_ALA_SER\n",
      "collecting from folder Input_files/ALA/SER_ALA_SER\n",
      "collecting from folder Input_files/ALA/VAL_ALA_VAL\n",
      "Skipping ._SER_ALA_GLY\n",
      "collecting from folder Input_files/ALA/ALA_ALA_ALA\n",
      "collecting from folder Input_files/HIE/SER_HIE_SER\n",
      "collecting from folder Input_files/HIE/SER_HIE_VAL\n",
      "collecting from folder Input_files/HIE/ALA_HIE_VAL\n",
      "collecting from folder Input_files/HIE/ALA_HIE_ALA\n",
      "collecting from folder Input_files/HIE/GLY_HIE_VAL\n",
      "collecting from folder Input_files/HIE/GLY_HIE_GLY\n",
      "collecting from folder Input_files/HIE/SER_HIE_GLY\n",
      "collecting from folder Input_files/HIE/GLY_HIE_ALA\n",
      "collecting from folder Input_files/HIE/VAL_HIE_ALA\n",
      "Skipping ._ConfHIE.tar.gz\n",
      "collecting from folder Input_files/HIE/ALA_HIE_SER\n",
      "collecting from folder Input_files/HIE/SER_HIE_ALA\n",
      "Skipping ConfHIE.tar.gz\n",
      "collecting from folder Input_files/HIE/VAL_HIE_SER\n",
      "collecting from folder Input_files/HIE/GLY_HIE_SER\n",
      "collecting from folder Input_files/HIE/ALA_HIE_GLY\n",
      "collecting from folder Input_files/HIE/VAL_HIE_VAL\n",
      "collecting from folder Input_files/HIE/VAL_HIE_GLY\n",
      "collecting from folder Input_files/ASN/GLY_ASN_ALA\n",
      "collecting from folder Input_files/ASN/GLY_ASN_SER\n",
      "collecting from folder Input_files/ASN/VAL_ASN_GLY\n",
      "Skipping ._ALA_ASN_GLY\n",
      "collecting from folder Input_files/ASN/VAL_ASN_VAL\n",
      "collecting from folder Input_files/ASN/ALA_ASN_SER\n",
      "collecting from folder Input_files/ASN/GLY_ASN_VAL\n",
      "collecting from folder Input_files/ASN/ALA_ASN_VAL\n",
      "Skipping ._GLY_ASN_ALA\n",
      "collecting from folder Input_files/ASN/ALA_ASN_GLY\n",
      "collecting from folder Input_files/ASN/VAL_ASN_ALA\n",
      "collecting from folder Input_files/ASN/SER_ASN_VAL\n",
      "Skipping ._GLY_ASN_GLY\n",
      "collecting from folder Input_files/ASN/GLY_ASN_GLY\n",
      "Skipping ._ALA_ASN_ALA\n",
      "collecting from folder Input_files/ASN/VAL_ASN_SER\n",
      "collecting from folder Input_files/ASN/ALA_ASN_ALA\n",
      "collecting from folder Input_files/ASN/SER_ASN_ALA\n",
      "collecting from folder Input_files/ASN/SER_ASN_GLY\n",
      "Skipping ._ConfASN.tar.gz\n",
      "Skipping ConfASN.tar.gz\n",
      "collecting from folder Input_files/ASN/SER_ASN_SER\n",
      "Skipping ._VAL_CYS_GLY\n",
      "Skipping ._VAL_CYS_ALA\n",
      "Skipping ._ALA_CYS_SER\n",
      "collecting from folder Input_files/CYS/ALA_CYS_ALA\n",
      "Skipping ._GLY_CYS_SER\n",
      "collecting from folder Input_files/CYS/GLY_CYS_ALA\n",
      "Skipping ConfCYS.tar.gz\n",
      "Skipping ._GLY_CYS_GLY\n",
      "Skipping ._ALA_CYS_ALA\n",
      "collecting from folder Input_files/CYS/VAL_CYS_ALA\n",
      "Undefined stereochemistry for Input_files/CYS/VAL_CYS_ALA/Conf513.mol2; skipping\n",
      "collecting from folder Input_files/CYS/SER_CYS_VAL\n",
      "collecting from folder Input_files/CYS/ALA_CYS_SER\n",
      "collecting from folder Input_files/CYS/GLY_CYS_SER\n",
      "Skipping ._ALA_CYS_VAL\n",
      "collecting from folder Input_files/CYS/GLY_CYS_VAL\n",
      "collecting from folder Input_files/CYS/VAL_CYS_SER\n",
      "Skipping ._SER_CYS_GLY\n",
      "collecting from folder Input_files/CYS/VAL_CYS_VAL\n",
      "Skipping ._ALA_CYS_GLY\n",
      "collecting from folder Input_files/CYS/VAL_CYS_GLY\n",
      "Skipping ._GLY_CYS_VAL\n",
      "collecting from folder Input_files/CYS/SER_CYS_ALA\n",
      "collecting from folder Input_files/CYS/ALA_CYS_GLY\n",
      "collecting from folder Input_files/CYS/GLY_CYS_GLY\n",
      "Skipping ._ConfCYS.tar.gz\n",
      "collecting from folder Input_files/CYS/SER_CYS_GLY\n",
      "Skipping ._SER_CYS_ALA\n",
      "collecting from folder Input_files/CYS/SER_CYS_SER\n",
      "collecting from folder Input_files/CYS/ALA_CYS_VAL\n",
      "Skipping ._GLY_CYS_ALA\n",
      "Skipping ._ASP\n",
      "Skipping .DS_Store\n",
      "collecting from folder Input_files/ARG/GLY_ARG_SER\n"
     ]
    },
    {
     "name": "stderr",
     "output_type": "stream",
     "text": [
      "/home/david/.conda/envs/qcsubmit/lib/python3.7/site-packages/qcsubmit/validators.py:181: UserWarning: The molecule C14H28N7O5 has a net charge of 1.0.\n",
      "  UserWarning,\n"
     ]
    },
    {
     "name": "stdout",
     "output_type": "stream",
     "text": [
      "Skipping ._VAL_ARG_GLY\n",
      "Skipping ._GLY_ARG_VAL\n",
      "collecting from folder Input_files/ARG/GLY_ARG_GLY\n"
     ]
    },
    {
     "name": "stderr",
     "output_type": "stream",
     "text": [
      "/home/david/.conda/envs/qcsubmit/lib/python3.7/site-packages/qcsubmit/validators.py:181: UserWarning: The molecule C13H26N7O4 has a net charge of 1.0.\n",
      "  UserWarning,\n"
     ]
    },
    {
     "name": "stdout",
     "output_type": "stream",
     "text": [
      "collecting from folder Input_files/ARG/SER_ARG_ALA\n"
     ]
    },
    {
     "name": "stderr",
     "output_type": "stream",
     "text": [
      "/home/david/.conda/envs/qcsubmit/lib/python3.7/site-packages/qcsubmit/validators.py:181: UserWarning: The molecule C15H30N7O5 has a net charge of 1.0.\n",
      "  UserWarning,\n"
     ]
    },
    {
     "name": "stdout",
     "output_type": "stream",
     "text": [
      "Skipping ._GLY_ARG_GLY\n",
      "Skipping ._ALA_ARG_GLY\n",
      "collecting from folder Input_files/ARG/ALA_ARG_ALA\n"
     ]
    },
    {
     "name": "stderr",
     "output_type": "stream",
     "text": [
      "/home/david/.conda/envs/qcsubmit/lib/python3.7/site-packages/qcsubmit/validators.py:181: UserWarning: The molecule C15H30N7O4 has a net charge of 1.0.\n",
      "  UserWarning,\n"
     ]
    },
    {
     "name": "stdout",
     "output_type": "stream",
     "text": [
      "Skipping ._GLY_ARG_SER\n",
      "collecting from folder Input_files/ARG/VAL_ARG_VAL\n"
     ]
    },
    {
     "name": "stderr",
     "output_type": "stream",
     "text": [
      "/home/david/.conda/envs/qcsubmit/lib/python3.7/site-packages/qcsubmit/validators.py:181: UserWarning: The molecule C19H38N7O4 has a net charge of 1.0.\n",
      "  UserWarning,\n"
     ]
    },
    {
     "name": "stdout",
     "output_type": "stream",
     "text": [
      "Skipping ._ConfARG.tar.gz\n",
      "collecting from folder Input_files/ARG/SER_ARG_SER\n"
     ]
    },
    {
     "name": "stderr",
     "output_type": "stream",
     "text": [
      "/home/david/.conda/envs/qcsubmit/lib/python3.7/site-packages/qcsubmit/validators.py:181: UserWarning: The molecule C15H30N7O6 has a net charge of 1.0.\n",
      "  UserWarning,\n"
     ]
    },
    {
     "name": "stdout",
     "output_type": "stream",
     "text": [
      "collecting from folder Input_files/ARG/GLY_ARG_VAL\n"
     ]
    },
    {
     "name": "stderr",
     "output_type": "stream",
     "text": [
      "/home/david/.conda/envs/qcsubmit/lib/python3.7/site-packages/qcsubmit/validators.py:181: UserWarning: The molecule C16H32N7O4 has a net charge of 1.0.\n",
      "  UserWarning,\n"
     ]
    },
    {
     "name": "stdout",
     "output_type": "stream",
     "text": [
      "collecting from folder Input_files/ARG/ALA_ARG_GLY\n"
     ]
    },
    {
     "name": "stderr",
     "output_type": "stream",
     "text": [
      "/home/david/.conda/envs/qcsubmit/lib/python3.7/site-packages/qcsubmit/validators.py:181: UserWarning: The molecule C14H28N7O4 has a net charge of 1.0.\n",
      "  UserWarning,\n"
     ]
    },
    {
     "name": "stdout",
     "output_type": "stream",
     "text": [
      "Skipping ._VAL_ARG_VAL\n",
      "Skipping ._VAL_ARG_ALA\n",
      "Skipping ._GLY_ARG_ALA\n",
      "Skipping ._ALA_ARG_VAL\n",
      "collecting from folder Input_files/ARG/SER_ARG_VAL\n",
      "Undefined stereochemistry for Input_files/ARG/SER_ARG_VAL/Conf508.mol2; skipping\n"
     ]
    },
    {
     "name": "stderr",
     "output_type": "stream",
     "text": [
      "/home/david/.conda/envs/qcsubmit/lib/python3.7/site-packages/qcsubmit/validators.py:181: UserWarning: The molecule C17H34N7O5 has a net charge of 1.0.\n",
      "  UserWarning,\n"
     ]
    },
    {
     "name": "stdout",
     "output_type": "stream",
     "text": [
      "collecting from folder Input_files/ARG/GLY_ARG_ALA\n",
      "Skipping ._SER_ARG_SER\n",
      "Skipping ConfARG.tar.gz\n",
      "collecting from folder Input_files/ARG/SER_ARG_GLY\n",
      "collecting from folder Input_files/ARG/ALA_ARG_SER\n",
      "Undefined stereochemistry for Input_files/ARG/ALA_ARG_SER/Conf515.mol2; skipping\n",
      "Skipping ._ALA_ARG_SER\n",
      "Skipping ._VAL_ARG_SER\n",
      "collecting from folder Input_files/ARG/ALA_ARG_VAL\n"
     ]
    },
    {
     "name": "stderr",
     "output_type": "stream",
     "text": [
      "/home/david/.conda/envs/qcsubmit/lib/python3.7/site-packages/qcsubmit/validators.py:181: UserWarning: The molecule C17H34N7O4 has a net charge of 1.0.\n",
      "  UserWarning,\n"
     ]
    },
    {
     "name": "stdout",
     "output_type": "stream",
     "text": [
      "collecting from folder Input_files/ARG/VAL_ARG_ALA\n",
      "Skipping ._ALA_ARG_ALA\n",
      "collecting from folder Input_files/ARG/VAL_ARG_SER\n",
      "collecting from folder Input_files/ARG/VAL_ARG_GLY\n",
      "collecting from folder Input_files/GLU/GLY_GLU_GLY\n"
     ]
    },
    {
     "name": "stderr",
     "output_type": "stream",
     "text": [
      "/home/david/.conda/envs/qcsubmit/lib/python3.7/site-packages/qcsubmit/validators.py:181: UserWarning: The molecule C12H19N4O6 has a net charge of -1.0.\n",
      "  UserWarning,\n"
     ]
    },
    {
     "name": "stdout",
     "output_type": "stream",
     "text": [
      "Skipping ._ConfGLU.tar.gz\n",
      "collecting from folder Input_files/GLU/GLY_GLU_ALA\n"
     ]
    },
    {
     "name": "stderr",
     "output_type": "stream",
     "text": [
      "/home/david/.conda/envs/qcsubmit/lib/python3.7/site-packages/qcsubmit/validators.py:181: UserWarning: The molecule C13H21N4O6 has a net charge of -1.0.\n",
      "  UserWarning,\n"
     ]
    },
    {
     "name": "stdout",
     "output_type": "stream",
     "text": [
      "collecting from folder Input_files/GLU/VAL_GLU_GLY\n"
     ]
    },
    {
     "name": "stderr",
     "output_type": "stream",
     "text": [
      "/home/david/.conda/envs/qcsubmit/lib/python3.7/site-packages/qcsubmit/validators.py:181: UserWarning: The molecule C15H25N4O6 has a net charge of -1.0.\n",
      "  UserWarning,\n"
     ]
    },
    {
     "name": "stdout",
     "output_type": "stream",
     "text": [
      "collecting from folder Input_files/GLU/VAL_GLU_ALA\n",
      "Undefined stereochemistry for Input_files/GLU/VAL_GLU_ALA/Conf467.mol2; skipping\n"
     ]
    },
    {
     "name": "stderr",
     "output_type": "stream",
     "text": [
      "/home/david/.conda/envs/qcsubmit/lib/python3.7/site-packages/qcsubmit/validators.py:181: UserWarning: The molecule C16H27N4O6 has a net charge of -1.0.\n",
      "  UserWarning,\n"
     ]
    },
    {
     "name": "stdout",
     "output_type": "stream",
     "text": [
      "collecting from folder Input_files/GLU/GLY_GLU_VAL\n",
      "Undefined stereochemistry for Input_files/GLU/GLY_GLU_VAL/Conf517.mol2; skipping\n",
      "collecting from folder Input_files/GLU/ALA_GLU_ALA\n"
     ]
    },
    {
     "name": "stderr",
     "output_type": "stream",
     "text": [
      "/home/david/.conda/envs/qcsubmit/lib/python3.7/site-packages/qcsubmit/validators.py:181: UserWarning: The molecule C14H23N4O6 has a net charge of -1.0.\n",
      "  UserWarning,\n"
     ]
    },
    {
     "name": "stdout",
     "output_type": "stream",
     "text": [
      "collecting from folder Input_files/GLU/VAL_GLU_VAL\n",
      "Undefined stereochemistry for Input_files/GLU/VAL_GLU_VAL/Conf488.mol2; skipping\n"
     ]
    },
    {
     "name": "stderr",
     "output_type": "stream",
     "text": [
      "/home/david/.conda/envs/qcsubmit/lib/python3.7/site-packages/qcsubmit/validators.py:181: UserWarning: The molecule C18H31N4O6 has a net charge of -1.0.\n",
      "  UserWarning,\n"
     ]
    },
    {
     "name": "stdout",
     "output_type": "stream",
     "text": [
      "collecting from folder Input_files/GLU/ALA_GLU_VAL\n",
      "Skipping ConfGLU.tar.gz\n",
      "collecting from folder Input_files/GLU/ALA_GLU_GLY\n",
      "Skipping ._GLU\n",
      "Skipping ConfASP.tar.gz\n",
      "collecting from folder Input_files/ASP/SER_ASP_VAL\n"
     ]
    },
    {
     "name": "stderr",
     "output_type": "stream",
     "text": [
      "/home/david/.conda/envs/qcsubmit/lib/python3.7/site-packages/qcsubmit/validators.py:181: UserWarning: The molecule C15H25N4O7 has a net charge of -1.0.\n",
      "  UserWarning,\n"
     ]
    },
    {
     "name": "stdout",
     "output_type": "stream",
     "text": [
      "collecting from folder Input_files/ASP/VAL_ASP_VAL\n"
     ]
    },
    {
     "name": "stderr",
     "output_type": "stream",
     "text": [
      "/home/david/.conda/envs/qcsubmit/lib/python3.7/site-packages/qcsubmit/validators.py:181: UserWarning: The molecule C17H29N4O6 has a net charge of -1.0.\n",
      "  UserWarning,\n"
     ]
    },
    {
     "name": "stdout",
     "output_type": "stream",
     "text": [
      "collecting from folder Input_files/ASP/ALA_ASP_VAL\n",
      "collecting from folder Input_files/ASP/VAL_ASP_ALA\n",
      "Skipping ._ConfASP.tar.gz\n",
      "Skipping ._VAL_ASP_GLY\n",
      "collecting from folder Input_files/ASP/ALA_ASP_ALA\n",
      "Skipping ._GLY_ASP_ALA\n",
      "collecting from folder Input_files/ASP/GLY_ASP_VAL\n",
      "Skipping ._SER_ASP_GLY\n",
      "Skipping ._ALA_ASP_ALA\n",
      "collecting from folder Input_files/ASP/ALA_ASP_GLY\n",
      "Skipping ._GLY_ASP_SER\n",
      "Skipping ._ALA_ASP_VAL\n",
      "Skipping ._GLY_ASP_GLY\n",
      "collecting from folder Input_files/ASP/SER_ASP_ALA\n"
     ]
    },
    {
     "name": "stderr",
     "output_type": "stream",
     "text": [
      "/home/david/.conda/envs/qcsubmit/lib/python3.7/site-packages/qcsubmit/validators.py:181: UserWarning: The molecule C13H21N4O7 has a net charge of -1.0.\n",
      "  UserWarning,\n"
     ]
    },
    {
     "name": "stdout",
     "output_type": "stream",
     "text": [
      "collecting from folder Input_files/ASP/GLY_ASP_ALA\n",
      "Skipping ._ALA_ASP_GLY\n",
      "Skipping ._GLY_ASP_VAL\n",
      "collecting from folder Input_files/ASP/GLY_ASP_GLY\n"
     ]
    },
    {
     "name": "stderr",
     "output_type": "stream",
     "text": [
      "/home/david/.conda/envs/qcsubmit/lib/python3.7/site-packages/qcsubmit/validators.py:181: UserWarning: The molecule C11H17N4O6 has a net charge of -1.0.\n",
      "  UserWarning,\n"
     ]
    },
    {
     "name": "stdout",
     "output_type": "stream",
     "text": [
      "collecting from folder Input_files/ASP/SER_ASP_SER\n"
     ]
    },
    {
     "name": "stderr",
     "output_type": "stream",
     "text": [
      "/home/david/.conda/envs/qcsubmit/lib/python3.7/site-packages/qcsubmit/validators.py:181: UserWarning: The molecule C13H21N4O8 has a net charge of -1.0.\n",
      "  UserWarning,\n"
     ]
    },
    {
     "name": "stdout",
     "output_type": "stream",
     "text": [
      "collecting from folder Input_files/ASP/VAL_ASP_GLY\n",
      "collecting from folder Input_files/ASP/GLY_ASP_SER\n"
     ]
    },
    {
     "name": "stderr",
     "output_type": "stream",
     "text": [
      "/home/david/.conda/envs/qcsubmit/lib/python3.7/site-packages/qcsubmit/validators.py:181: UserWarning: The molecule C12H19N4O7 has a net charge of -1.0.\n",
      "  UserWarning,\n"
     ]
    },
    {
     "name": "stdout",
     "output_type": "stream",
     "text": [
      "Skipping ._VAL_ASP_ALA\n",
      "Skipping ._SER_ASP_ALA\n",
      "collecting from folder Input_files/ASP/SER_ASP_GLY\n",
      "Skipping ._ALA_ASP_SER\n",
      "collecting from folder Input_files/ASP/VAL_ASP_SER\n",
      "collecting from folder Input_files/ASP/ALA_ASP_SER\n",
      "Skipping ._HIE\n",
      "Skipping ._CYS\n",
      "collecting from folder Input_files/GLY/VAL_GLY_ALA\n",
      "Skipping ConfGLY.tar.gz\n",
      "Skipping ._GLY_GLY_SER\n",
      "collecting from folder Input_files/GLY/SER_GLY_ALA\n",
      "Skipping ._GLY_GLY_ALA\n",
      "collecting from folder Input_files/GLY/VAL_GLY_VAL\n",
      "Skipping ._SER_GLY_GLY\n",
      "collecting from folder Input_files/GLY/SER_GLY_VAL\n",
      "Skipping ._ALA_GLY_SER\n",
      "collecting from folder Input_files/GLY/VAL_GLY_SER\n",
      "collecting from folder Input_files/GLY/GLY_GLY_VAL\n",
      "Skipping ._ALA_GLY_VAL\n",
      "Skipping ._ALA_GLY_ALA\n",
      "Skipping ._SER_GLY_ALA\n",
      "Skipping ._GLY_GLY_VAL\n",
      "collecting from folder Input_files/GLY/SER_GLY_SER\n",
      "Skipping ._ALA_GLY_GLY\n",
      "Skipping ._VAL_GLY_GLY\n",
      "collecting from folder Input_files/GLY/ALA_GLY_GLY\n",
      "collecting from folder Input_files/GLY/GLY_GLY_ALA\n",
      "collecting from folder Input_files/GLY/ALA_GLY_ALA\n",
      "collecting from folder Input_files/GLY/ALA_GLY_VAL\n",
      "collecting from folder Input_files/GLY/SER_GLY_GLY\n",
      "Skipping ._ConfGLY.tar.gz\n",
      "collecting from folder Input_files/GLY/VAL_GLY_GLY\n",
      "collecting from folder Input_files/GLY/ALA_GLY_SER\n",
      "Skipping ._GLY_GLY_GLY\n",
      "collecting from folder Input_files/GLY/GLY_GLY_SER\n",
      "Skipping ._VAL_GLY_ALA\n",
      "collecting from folder Input_files/GLY/GLY_GLY_GLY\n",
      "collecting from folder Input_files/HID/GLY_HID_SER\n",
      "collecting from folder Input_files/HID/ALA_HID_GLY\n",
      "collecting from folder Input_files/HID/SER_HID_ALA\n",
      "collecting from folder Input_files/HID/VAL_HID_VAL\n",
      "Skipping ConfHID.tar.gz\n",
      "collecting from folder Input_files/HID/SER_HID_VAL\n",
      "collecting from folder Input_files/HID/GLY_HID_GLY\n",
      "collecting from folder Input_files/HID/GLY_HID_VAL\n",
      "collecting from folder Input_files/HID/VAL_HID_ALA\n",
      "collecting from folder Input_files/HID/SER_HID_GLY\n",
      "collecting from folder Input_files/HID/VAL_HID_GLY\n",
      "collecting from folder Input_files/HID/SER_HID_SER\n",
      "collecting from folder Input_files/HID/ALA_HID_ALA\n",
      "collecting from folder Input_files/HID/ALA_HID_SER\n",
      "collecting from folder Input_files/HID/GLY_HID_ALA\n",
      "Skipping ._ConfHID.tar.gz\n",
      "collecting from folder Input_files/HID/VAL_HID_SER\n",
      "collecting from folder Input_files/HID/ALA_HID_VAL\n",
      "Skipping ._ARG\n",
      "Skipping ._ALA\n",
      "Skipping ._ASH\n",
      "Skipping ._GLH\n",
      "collecting from folder Input_files/ASH/SER_ASH_ALA\n",
      "collecting from folder Input_files/ASH/VAL_ASH_GLY\n",
      "collecting from folder Input_files/ASH/ALA_ASH_GLY\n",
      "collecting from folder Input_files/ASH/VAL_ASH_SER\n",
      "Skipping ._ALA_ASH_VAL\n",
      "collecting from folder Input_files/ASH/GLY_ASH_GLY\n",
      "Skipping ._ALA_ASH_SER\n",
      "collecting from folder Input_files/ASH/ALA_ASH_ALA\n",
      "collecting from folder Input_files/ASH/VAL_ASH_VAL\n",
      "Skipping ._GLY_ASH_GLY\n",
      "collecting from folder Input_files/ASH/SER_ASH_GLY\n",
      "collecting from folder Input_files/ASH/SER_ASH_SER\n",
      "Skipping ._GLY_ASH_VAL\n",
      "collecting from folder Input_files/ASH/ALA_ASH_VAL\n",
      "Skipping ._SER_ASH_ALA\n",
      "collecting from folder Input_files/ASH/GLY_ASH_ALA\n",
      "Skipping ._ALA_ASH_GLY\n",
      "Skipping ._GLY_ASH_ALA\n",
      "Skipping ._SER_ASH_GLY\n",
      "collecting from folder Input_files/ASH/GLY_ASH_SER\n",
      "collecting from folder Input_files/ASH/VAL_ASH_ALA\n",
      "Skipping ._VAL_ASH_ALA\n",
      "Skipping ConfASH.tar.gz\n",
      "Skipping ._ALA_ASH_ALA\n",
      "Skipping ._GLY_ASH_SER\n",
      "collecting from folder Input_files/ASH/ALA_ASH_SER\n",
      "Skipping ._ConfASH.tar.gz\n",
      "Skipping ._VAL_ASH_GLY\n",
      "collecting from folder Input_files/ASH/SER_ASH_VAL\n",
      "collecting from folder Input_files/ASH/GLY_ASH_VAL\n",
      "Skipping ._GLY\n",
      "Skipping ._HID\n"
     ]
    }
   ],
   "source": [
    "# now we need to loop over all of the folders and for each one gather the molecule and all of its conformers\n",
    "# and all of the constraints and add them to the dataset.\n",
    "protein_dataset = OptimizationDataset(dataset_name=\"OpenFF Protein Peptide Fragments unconstrained v1.0\", \n",
    "                                      dataset_tagline=\"Unconstrained optimization of various protein fragments.\")\n",
    "factory = OptimizationDatasetFactory()\n",
    "\n",
    "for folder in os.listdir(\"Input_files\"):\n",
    "    folder_path = os.path.join(\"Input_files\", folder)\n",
    "    \n",
    "    if not os.path.isdir(folder_path):\n",
    "        print(f\"Skipping {folder}\")\n",
    "        continue\n",
    "        \n",
    "    for combination in os.listdir(folder_path):\n",
    "        combination_path = os.path.join(folder_path, combination)\n",
    "        \n",
    "        if not os.path.isdir(combination_path):\n",
    "            print(f\"Skipping {combination}\")\n",
    "            continue\n",
    "                \n",
    "        print(\"collecting from folder\", combination_path)\n",
    "        \n",
    "        conformers = gather_conformers(combination_path)\n",
    "        \n",
    "        # create the data needed for the optimization\n",
    "        index = combination.lower()\n",
    "        attributes = factory.create_cmiles_metadata(conformers)\n",
    "        \n",
    "        protein_dataset.add_molecule(index=index, molecule=conformers, attributes=attributes)"
   ]
  },
  {
   "cell_type": "code",
   "execution_count": 4,
   "metadata": {},
   "outputs": [
    {
     "data": {
      "text/plain": [
       "185"
      ]
     },
     "execution_count": 4,
     "metadata": {},
     "output_type": "execute_result"
    }
   ],
   "source": [
    "protein_dataset.n_molecules"
   ]
  },
  {
   "cell_type": "code",
   "execution_count": 5,
   "metadata": {},
   "outputs": [
    {
     "data": {
      "text/plain": [
       "6709"
      ]
     },
     "execution_count": 5,
     "metadata": {},
     "output_type": "execute_result"
    }
   ],
   "source": [
    "protein_dataset.n_records"
   ]
  },
  {
   "cell_type": "code",
   "execution_count": 6,
   "metadata": {},
   "outputs": [
    {
     "data": {
      "text/plain": [
       "{'C', 'H', 'N', 'O', 'S'}"
      ]
     },
     "execution_count": 6,
     "metadata": {},
     "output_type": "execute_result"
    }
   ],
   "source": [
    "protein_dataset.metadata.elements"
   ]
  },
  {
   "cell_type": "code",
   "execution_count": 7,
   "metadata": {},
   "outputs": [],
   "source": [
    "protein_dataset.visualize(\"protein_dataset.pdf\", columns=3)"
   ]
  },
  {
   "cell_type": "code",
   "execution_count": 8,
   "metadata": {},
   "outputs": [],
   "source": [
    "# manual provenance fix\n",
    "import openeye\n",
    "protein_dataset.metadata.long_description_url = \"https://github.com/openforcefield/qca-dataset-submission/tree/master/submissions/2020-10-27-OpenFF-Protein-Fragments-Unconstrained\"\n",
    "protein_dataset.metadata.submitter = 'dotsdl'\n",
    "protein_dataset.provenance = factory.provenance()\n",
    "protein_dataset.provenance[\"openeye\"] = openeye.__version__"
   ]
  },
  {
   "cell_type": "code",
   "execution_count": 9,
   "metadata": {},
   "outputs": [],
   "source": [
    "protein_dataset.export_dataset(\"dataset.json\")"
   ]
  },
  {
   "cell_type": "code",
   "execution_count": 10,
   "metadata": {},
   "outputs": [],
   "source": [
    "protein_dataset._get_missing_basis_coverage()"
   ]
  },
  {
   "cell_type": "code",
   "execution_count": 12,
   "metadata": {},
   "outputs": [],
   "source": [
    "# compress dataset\n",
    "! bzip2 dataset.json"
   ]
  },
  {
   "cell_type": "code",
   "execution_count": 13,
   "metadata": {},
   "outputs": [],
   "source": [
    "protein_dataset.molecules_to_file('molecules.smi', 'smi')"
   ]
  }
 ],
 "metadata": {
  "kernelspec": {
   "display_name": "Python 3",
   "language": "python",
   "name": "python3"
  },
  "language_info": {
   "codemirror_mode": {
    "name": "ipython",
    "version": 3
   },
   "file_extension": ".py",
   "mimetype": "text/x-python",
   "name": "python",
   "nbconvert_exporter": "python",
   "pygments_lexer": "ipython3",
   "version": "3.7.8"
  },
  "pycharm": {
   "stem_cell": {
    "cell_type": "raw",
    "metadata": {
     "collapsed": false
    },
    "source": []
   }
  }
 },
 "nbformat": 4,
 "nbformat_minor": 4
}
