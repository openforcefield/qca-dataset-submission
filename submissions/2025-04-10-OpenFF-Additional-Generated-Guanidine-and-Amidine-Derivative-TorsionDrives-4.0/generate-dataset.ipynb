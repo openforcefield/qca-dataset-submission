{
 "cells": [
  {
   "cell_type": "markdown",
   "id": "68f26966-8f32-4f86-a1a8-4efd9c6ab24a",
   "metadata": {},
   "source": [
    "# OpenFF Additional Generated Guanidine and Amidine Derivative TorsionDrives 4.0\n",
    "\n",
    "This notebook generates additional torsiondrives from molecules for the t18b (amidine), t87a (guanidine) torsions in Sage 2.2.1."
   ]
  },
  {
   "cell_type": "code",
   "execution_count": 1,
   "id": "fb4ee84e-43dd-4fd6-a651-56771f482309",
   "metadata": {},
   "outputs": [],
   "source": [
    "import zstandard\n",
    "import qcportal\n",
    "import pathlib\n",
    "\n",
    "from openff.toolkit import Molecule, ForceField\n",
    "import numpy as np\n",
    "\n",
    "from openff.qcsubmit.utils import get_symmetry_classes, get_symmetry_group\n",
    "from openff.qcsubmit.workflow_components import TorsionIndexer\n",
    "from openff.qcsubmit import workflow_components\n",
    "from openff.qcsubmit.factories import TorsiondriveDatasetFactory\n",
    "from openff.qcsubmit.utils.visualize import molecules_to_pdf"
   ]
  },
  {
   "cell_type": "code",
   "execution_count": 2,
   "id": "16755910-6fcf-490a-a295-d2652a823ef2",
   "metadata": {},
   "outputs": [],
   "source": [
    "def load_molecules(\n",
    "    files: list[str],\n",
    "    parameter_id: str,\n",
    ") -> list[Molecule]:\n",
    "    \"\"\"Load SMILES from file and assign dihedrals to rotate around by pattern\"\"\"\n",
    "    case_molecules = []\n",
    "    forcefield = ForceField(\"inputs/openff_unconstrained-2.2.1.offxml\")\n",
    "\n",
    "    for file in files:\n",
    "        molecules = Molecule.from_file(file, allow_undefined_stereo=True)\n",
    "    \n",
    "        for mol in molecules:\n",
    "            \n",
    "            unique_central_bonds = set()\n",
    "            torsion_indexer = TorsionIndexer()\n",
    "            symmetry_classes = get_symmetry_classes(mol)\n",
    "\n",
    "            labels = forcefield.label_molecules(mol.to_topology())[0][\"ProperTorsions\"]\n",
    "            for (i, j, k, l), parameter in labels.items():\n",
    "                if parameter.id != parameter_id:\n",
    "                    continue\n",
    "                central_bond = tuple(sorted([j, k]))\n",
    "                # ignore torsions around rings\n",
    "                if mol.get_bond_between(j, k).is_in_ring():\n",
    "                    continue\n",
    "                    \n",
    "                symmetry_group = get_symmetry_group(central_bond, symmetry_classes)\n",
    "                if central_bond in unique_central_bonds:\n",
    "                    continue\n",
    "                    \n",
    "                unique_central_bonds.add(central_bond)\n",
    "                torsion_indexer.add_torsion((i, j, k, l), symmetry_group, (-165, 180))\n",
    "    \n",
    "            assert len(torsion_indexer.torsions)\n",
    "            mol.properties[\"dihedrals\"] = torsion_indexer\n",
    "            case_molecules.append(mol)\n",
    "    return case_molecules\n",
    "\n",
    "\n",
    "def visualize(mols, filename):\n",
    "    \"\"\"Draw output molecules as PDF\"\"\"\n",
    "    new_mols = []\n",
    "    for mol in mols:\n",
    "        for val in mol.properties[\"dihedrals\"].torsions.values():\n",
    "            new_mol = Molecule(mol)\n",
    "            new_mol.properties[\"dihedrals\"] = val.get_dihedrals\n",
    "            new_mols.append(new_mol)\n",
    "    molecules_to_pdf(new_mols, filename)"
   ]
  },
  {
   "cell_type": "code",
   "execution_count": 3,
   "id": "01d7a81b-0be1-40bb-b807-cbcad6115690",
   "metadata": {},
   "outputs": [
    {
     "data": {
      "text/plain": [
       "10"
      ]
     },
     "execution_count": 3,
     "metadata": {},
     "output_type": "execute_result"
    }
   ],
   "source": [
    "t18b_molecules = load_molecules(\n",
    "    files=[\"inputs/t18b.smi\"],\n",
    "    parameter_id=\"t18b\",\n",
    ")\n",
    "visualize(t18b_molecules, \"inputs/t18b_molecules.pdf\")\n",
    "len(t18b_molecules)"
   ]
  },
  {
   "cell_type": "code",
   "execution_count": 4,
   "id": "e3513aa7-6b14-4622-b124-953e05d8076d",
   "metadata": {},
   "outputs": [
    {
     "data": {
      "text/plain": [
       "10"
      ]
     },
     "execution_count": 4,
     "metadata": {},
     "output_type": "execute_result"
    }
   ],
   "source": [
    "t87a_molecules = load_molecules(\n",
    "    files=[\"inputs/t87a.smi\"],\n",
    "    parameter_id=\"t87a\",\n",
    ")\n",
    "visualize(t18b_molecules, \"inputs/t87a_molecules.pdf\")\n",
    "len(t18b_molecules)"
   ]
  },
  {
   "cell_type": "code",
   "execution_count": 5,
   "id": "4f6b9a60-ccdb-437a-a4ea-eb57b8f2c6ed",
   "metadata": {},
   "outputs": [
    {
     "data": {
      "text/plain": [
       "20"
      ]
     },
     "execution_count": 5,
     "metadata": {},
     "output_type": "execute_result"
    }
   ],
   "source": [
    "all_molecules = [\n",
    "    *t18b_molecules,\n",
    "    *t87a_molecules\n",
    "]\n",
    "len(all_molecules)"
   ]
  },
  {
   "cell_type": "code",
   "execution_count": 6,
   "id": "0c654b61-293d-4481-8b5c-f468d7de49dd",
   "metadata": {},
   "outputs": [
    {
     "name": "stderr",
     "output_type": "stream",
     "text": [
      "Deduplication                 : 100%|██████████| 20/20 [00:00<00:00, 986.67it/s]\n",
      "StandardConformerGenerator    :   0%|                    | 0/20 [00:00<?, ?it/s]Warning: : Failed due to unspecified stereochemistry\n",
      "Warning: : Failed due to unspecified stereochemistry\n",
      "Warning: : Failed due to unspecified stereochemistry\n",
      "Warning: : Failed due to unspecified stereochemistry\n",
      "StandardConformerGenerator    :   5%|▌           | 1/20 [00:03<01:08,  3.58s/it]Warning: : Failed due to unspecified stereochemistry\n",
      "StandardConformerGenerator    :  10%|█▏          | 2/20 [00:03<00:28,  1.59s/it]Warning: : Failed due to unspecified stereochemistry\n",
      "Warning: : Failed due to unspecified stereochemistry\n",
      "Warning: : Failed due to unspecified stereochemistry\n",
      "StandardConformerGenerator    : 100%|███████████| 20/20 [00:03<00:00,  5.09it/s]\n",
      "Preparation                   : 100%|███████████| 20/20 [00:00<00:00, 32.27it/s]\n"
     ]
    }
   ],
   "source": [
    "dataset_factory = TorsiondriveDatasetFactory()\n",
    "dataset_factory.add_workflow_components(\n",
    "    workflow_components.StandardConformerGenerator(max_conformers=5)\n",
    ")\n",
    "\n",
    "description = \"\"\"\\\n",
    "Molecules generated to add more coverage for the rare torsions t18b (matching amidine derivatives) and t87a (matching guanidines derivatives) in Sage 2.2.1.\n",
    "Charged molecules were generated by hand to match rare patterns with the elements C, N, O, H.\n",
    "10 molecules were generated per torsion.\n",
    "\"\"\"\n",
    "\n",
    "dataset = dataset_factory.create_dataset(\n",
    "    dataset_name=\"OpenFF Additional Generated Guanidine and Amidine Derivative TorsionDrives 4.0\",\n",
    "    tagline=\"Additional TorsionDrives for t18b and t87a torsions in Sage 2.2.1\",\n",
    "    description=description,\n",
    "    molecules=all_molecules,\n",
    ")\n",
    "\n",
    "dataset.metadata.submitter = \"lilyminium\"\n",
    "dataset.metadata.long_description_url = (\n",
    "    \"https://github.com/openforcefield/qca-dataset-submission/tree/master/\"\n",
    "    \"submissions/\" + str(pathlib.Path.cwd().name)\n",
    ")"
   ]
  },
  {
   "cell_type": "code",
   "execution_count": 7,
   "id": "fbf98620-b04d-426c-92a6-8d1f52b74971",
   "metadata": {},
   "outputs": [
    {
     "name": "stdout",
     "output_type": "stream",
     "text": [
      "Molecules generated to add more coverage for the rare torsions t18b (matching amidine derivatives) and t87a (matching guanidines derivatives) in Sage 2.2.1.\n",
      "Charged molecules were generated by hand to match rare patterns with the elements C, N, O, H.\n",
      "10 molecules were generated per torsion.\n",
      "\n"
     ]
    }
   ],
   "source": [
    "print(description)"
   ]
  },
  {
   "cell_type": "code",
   "execution_count": 7,
   "id": "37b4f87f-8096-4c4c-b270-e7408209e395",
   "metadata": {},
   "outputs": [
    {
     "name": "stdout",
     "output_type": "stream",
     "text": [
      "* Number of unique molecules: 20\n",
      "* Number of driven torsions: 38\n",
      "* Number of filtered molecules: 0\n",
      "* Number of conformers: 74\n",
      "* Number of conformers per molecule (min, mean, max): 1, 1.95, 5\n",
      "* Mean molecular weight: 113.72\n",
      "* Max molecular weight: 178.26\n",
      "* Charges: [1.0]\n",
      "## Metadata\n",
      "* Elements: {C, N, H, O}\n",
      "* Spec: default\n",
      "\t * basis: DZVP\n",
      "\t * implicit_solvent: None\n",
      "\t * keywords: {}\n",
      "\t * maxiter: 200\n",
      "\t * method: B3LYP-D3BJ\n",
      "\t * program: psi4\n",
      "\t* SCF properties:\n",
      "\t\t* dipole\n",
      "\t\t* quadrupole\n",
      "\t\t* wiberg_lowdin_indices\n",
      "\t\t* mayer_indices\n"
     ]
    }
   ],
   "source": [
    "# summarize dataset for readme\n",
    "confs = np.array([len(mol.conformers) for mol in dataset.molecules])\n",
    "\n",
    "print(\"* Number of unique molecules:\", dataset.n_molecules)\n",
    "# With multiple torsions per unique molecule, n_molecules * confs.mean() no\n",
    "# longer equals the number of conformers. instead, the number of dihedrals *\n",
    "# confs.mean() should equal the number of conformers. The dataset contains one\n",
    "# record per driven torsion (rather than combining multiple dihedrals into the\n",
    "# same record), so n_records is the same as manually adding up len(dihedrals)\n",
    "# for each record.\n",
    "print(\"* Number of driven torsions:\", dataset.n_records)\n",
    "print(\"* Number of filtered molecules:\", dataset.n_filtered)\n",
    "print(\"* Number of conformers:\", sum(confs))\n",
    "print(\n",
    "    \"* Number of conformers per molecule (min, mean, max): \"\n",
    "    f\"{confs.min()}, {confs.mean():.2f}, {confs.max()}\"\n",
    ")\n",
    "\n",
    "masses = [\n",
    "    [\n",
    "        sum([atom.mass.m for atom in molecule.atoms])\n",
    "        for molecule in dataset.molecules\n",
    "    ]\n",
    "]\n",
    "print(f\"* Mean molecular weight: {np.mean(np.array(masses)):.2f}\")\n",
    "print(f\"* Max molecular weight: {np.max(np.array(masses)):.2f}\")\n",
    "print(\"* Charges:\", sorted(set(m.total_charge.m for m in dataset.molecules)))\n",
    "\n",
    "\n",
    "print(\"## Metadata\")\n",
    "print(f\"* Elements: {{{', '.join(dataset.metadata.dict()['elements'])}}}\")\n",
    "\n",
    "\n",
    "fields = [\n",
    "    \"basis\",\n",
    "    \"implicit_solvent\",\n",
    "    \"keywords\",\n",
    "    \"maxiter\",\n",
    "    \"method\",\n",
    "    \"program\",\n",
    "]\n",
    "for spec, obj in dataset.qc_specifications.items():\n",
    "    od = obj.dict()\n",
    "    print(\"* Spec:\", spec)\n",
    "    for field in fields:\n",
    "        print(f\"\\t * {field}: {od[field]}\")\n",
    "    print(\"\\t* SCF properties:\")\n",
    "    for field in od[\"scf_properties\"]:\n",
    "        print(f\"\\t\\t* {field}\")\n",
    "\n",
    "\n",
    "# export the dataset\n",
    "dataset.export_dataset(\"dataset.json.bz2\")\n",
    "dataset.molecules_to_file(\"output.smi\", \"smi\")\n",
    "dataset.visualize(\"dataset.pdf\", columns=8)"
   ]
  },
  {
   "cell_type": "code",
   "execution_count": null,
   "id": "36f4bf2a-ffd4-4995-9fb7-23457844dd45",
   "metadata": {},
   "outputs": [],
   "source": []
  },
  {
   "cell_type": "code",
   "execution_count": null,
   "id": "5b3a6b4b-f06c-4fd6-8567-e27c58c6fc4a",
   "metadata": {},
   "outputs": [],
   "source": []
  }
 ],
 "metadata": {
  "kernelspec": {
   "display_name": "Python (qcarchive-user-submit)",
   "language": "python",
   "name": "qcarchive-user-submit"
  },
  "language_info": {
   "codemirror_mode": {
    "name": "ipython",
    "version": 3
   },
   "file_extension": ".py",
   "mimetype": "text/x-python",
   "name": "python",
   "nbconvert_exporter": "python",
   "pygments_lexer": "ipython3",
   "version": "3.11.11"
  }
 },
 "nbformat": 4,
 "nbformat_minor": 5
}
