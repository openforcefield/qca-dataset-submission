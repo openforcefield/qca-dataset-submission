{
 "cells": [
  {
   "cell_type": "code",
   "execution_count": 1,
   "id": "5ff1e93e-d11a-423b-b214-831fd64ce1a0",
   "metadata": {},
   "outputs": [
    {
     "name": "stdout",
     "output_type": "stream",
     "text": [
      "OpenFF Toolkit: 0.16.8\n",
      "OpenEye: 2024.2.1\n",
      "QCElemental: 0.28.0\n",
      "QCPortal: 0.54.1\n",
      "PyArrow: 20.0.0\n"
     ]
    }
   ],
   "source": [
    "import openff.qcsubmit\n",
    "import openff.toolkit\n",
    "import openeye\n",
    "import qcelemental\n",
    "import qcportal\n",
    "import pyarrow\n",
    "import pyarrow.dataset as ds\n",
    "import numpy as np\n",
    "\n",
    "import tqdm\n",
    "import pathlib\n",
    "\n",
    "from openff.units import unit\n",
    "\n",
    "from openff.toolkit import Molecule\n",
    "from openff.toolkit.utils import OpenEyeToolkitWrapper, ToolkitRegistry\n",
    "\n",
    "from openff.qcsubmit.datasets import BasicDataset\n",
    "from openff.qcsubmit.factories import BasicDatasetFactory\n",
    "from qcelemental.models import DriverEnum\n",
    "\n",
    "# print(\"OpenFF QCSubmit:\", openff.qcsubmit.__version__) # 0.55.0\n",
    "print(\"OpenFF Toolkit:\", openff.toolkit.__version__)\n",
    "print(\"OpenEye:\", openeye.__version__)\n",
    "print(\"QCElemental:\", qcelemental.__version__)\n",
    "print(\"QCPortal:\", qcportal.__version__)\n",
    "print(\"PyArrow:\", pyarrow.__version__)"
   ]
  },
  {
   "cell_type": "markdown",
   "id": "aeb19728-5517-49d0-8ba7-aa0f11ab1cab",
   "metadata": {},
   "source": [
    "## Load molecules"
   ]
  },
  {
   "cell_type": "code",
   "execution_count": 2,
   "id": "914072f8-fa61-48e6-9e39-95cafd1a5b96",
   "metadata": {},
   "outputs": [
    {
     "name": "stderr",
     "output_type": "stream",
     "text": [
      "100%|████████████████████████████████████████████████████████████████████████████████████████████████| 1409/1409 [00:13<00:00, 106.50it/s]\n"
     ]
    }
   ],
   "source": [
    "input_directory = pathlib.Path(\"input-structures\")\n",
    "sdf_files = sorted(input_directory.glob(\"*-0.sdf\"))\n",
    "molecules = []\n",
    "for sdf_file in tqdm.tqdm(sdf_files):\n",
    "    pattern = sdf_file.stem.rsplit(\"-\", maxsplit=1)[0]\n",
    "    mol_files = sorted(input_directory.glob(f\"{pattern}-*.sdf\"))\n",
    "    if len(mol_files) == 1: # only 1 conformer, skip\n",
    "        continue\n",
    "    for mol_file in mol_files:\n",
    "        mol = Molecule.from_file(mol_file, \"SDF\")\n",
    "        molecules.append(mol)"
   ]
  },
  {
   "cell_type": "code",
   "execution_count": 3,
   "id": "25b21b01-9cc5-488d-9e2a-e22320e68e5f",
   "metadata": {},
   "outputs": [],
   "source": [
    "factory = BasicDatasetFactory(driver=DriverEnum.gradient)"
   ]
  },
  {
   "cell_type": "code",
   "execution_count": 4,
   "id": "553466a7-a0c6-4c3f-a4be-6b5ca6aa46e1",
   "metadata": {},
   "outputs": [
    {
     "name": "stdout",
     "output_type": "stream",
     "text": [
      "A dataset of single-point calculations generated to train bond and angle parameters for a test case of torsion drives for the t17 and t18 torsions in Sage 2.2.1. Conformers were generated following the process in https://github.com/lilyminium/refit-t17-t18-torsions/tree/main/01_generate-singlepoints .\n",
      "In short, for a particular molecular graph, a single conformer was generated. This molecule was assigned parameters from the Sage 2.2.1 force field. Additional torsion restraints of 1e5 kJ/mol were applied to restrain every torsion in the molecule. An MD simulation was then conducted at 500K and with 0.1 fs timestep. Frames were grouped by torsion similarity, and conformers were chosen from the biggest cluster.\n",
      "This process was repeated for every molecule in which a t17 or t18 torsion has been driven. Some additional small molecules were also included. Molecules for which the process only generated a single conformer were excluded from the dataset.\n",
      "This dataset is computed at the default OpenFF level of theory. The molecules here are all neutral and include the Br, C, Cl, F, H, I, N, O, S elements. They range from 30-307 Da (mean 162) and 2-21 heavy atoms. \n"
     ]
    }
   ],
   "source": [
    "description = (\n",
    "    \"A dataset of single-point calculations generated to train bond and angle parameters \"\n",
    "    \"for a test case of torsion drives for the t17 and t18 torsions in Sage 2.2.1. \"\n",
    "    \"Conformers were generated following the process in \"\n",
    "    \"https://github.com/lilyminium/refit-t17-t18-torsions/tree/main/01_generate-singlepoints .\\n\"\n",
    "    \"In short, for a particular molecular graph, a single conformer was generated. \"\n",
    "    \"This molecule was assigned parameters from the Sage 2.2.1 force field. \"\n",
    "    \"Additional torsion restraints of 1e5 kJ/mol were applied to restrain every torsion in the molecule. \"\n",
    "    \"An MD simulation was then conducted at 500K and with 0.1 fs timestep. \"\n",
    "    \"Frames were grouped by torsion similarity, and conformers were chosen from the biggest cluster.\\n\"\n",
    "    \"This process was repeated for every molecule in which a t17 or t18 torsion has been driven. \"\n",
    "    \"Some additional small molecules were also included. \"\n",
    "    \"Molecules for which the process only generated a single conformer were excluded from the dataset.\\n\"\n",
    "    \"This dataset is computed at the default OpenFF level of theory. \"\n",
    "    \"The molecules here are all neutral and include the Br, C, Cl, F, H, I, N, O, S elements. \"\n",
    "    \"They range from 30-307 Da (mean 162) and 2-21 heavy atoms. \"\n",
    ")\n",
    "print(description)"
   ]
  },
  {
   "cell_type": "code",
   "execution_count": 5,
   "id": "535ae092-e770-46b4-95f6-eaf147d34565",
   "metadata": {},
   "outputs": [
    {
     "name": "stderr",
     "output_type": "stream",
     "text": [
      "Deduplication                 : 100%|██████| 2973/2973 [00:09<00:00, 327.20it/s]\n",
      "Preparation                   : 100%|█████████| 365/365 [00:14<00:00, 25.16it/s]\n"
     ]
    }
   ],
   "source": [
    "dataset = factory.create_dataset(\n",
    "    dataset_name=\"OpenFF CX3-CX4 singlepoints v4.0\",\n",
    "    molecules=molecules,\n",
    "    description=description,\n",
    "    tagline=(\n",
    "        \"A dataset of single-point calculations generated to train bond and angle parameters \"\n",
    "        \"for a test case of torsion drives for the t17 and t18 torsions in Sage 2.2.1. \"\n",
    "    ),\n",
    ")\n",
    "dataset.metadata.submitter = \"lilyminium\"\n",
    "dataset.metadata.long_description_url = (\n",
    "    \"https://github.com/openforcefield/qca-dataset-submission/tree/master/\"\n",
    "    \"submissions/\" + str(pathlib.Path(\".\").resolve().name)\n",
    ")"
   ]
  },
  {
   "cell_type": "markdown",
   "id": "e10ca6d2-3c9f-4f5c-acd0-e68bb21df99d",
   "metadata": {},
   "source": [
    "## Dataset information"
   ]
  },
  {
   "cell_type": "code",
   "execution_count": 6,
   "id": "0916be3c-3b83-4647-b5f7-93887eaffb7a",
   "metadata": {},
   "outputs": [],
   "source": [
    "import numpy as np\n",
    "from collections import Counter"
   ]
  },
  {
   "cell_type": "code",
   "execution_count": 7,
   "id": "9646784d-f0c8-4e12-aab9-fe4148d27e09",
   "metadata": {},
   "outputs": [
    {
     "name": "stdout",
     "output_type": "stream",
     "text": [
      "n_molecules: 365\n",
      "n_conformers: 2938\n"
     ]
    }
   ],
   "source": [
    "print(\"n_molecules:\", dataset.n_molecules)\n",
    "print(\"n_conformers:\", dataset.n_records)"
   ]
  },
  {
   "cell_type": "code",
   "execution_count": 8,
   "id": "49ba0346-30ae-4658-9fa3-e69a2522f8e8",
   "metadata": {},
   "outputs": [
    {
     "name": "stderr",
     "output_type": "stream",
     "text": [
      "365it [00:02, 147.11it/s]\n"
     ]
    },
    {
     "data": {
      "text/plain": [
       "{0.0}"
      ]
     },
     "execution_count": 8,
     "metadata": {},
     "output_type": "execute_result"
    }
   ],
   "source": [
    "from openff.units import unit\n",
    "unique_charges = set()\n",
    "masses = []\n",
    "elements = set()\n",
    "\n",
    "n_confs = []\n",
    "n_heavy_atoms = []\n",
    "for mol in tqdm.tqdm(dataset.molecules):\n",
    "    n_confs.append(mol.n_conformers)\n",
    "    n_heavy_atoms.append(mol.to_rdkit().GetNumHeavyAtoms())\n",
    "    unique_charges.add(mol.total_charge.m)\n",
    "    mass = sum([atom.mass.m for atom in mol.atoms])\n",
    "    masses.append(mass)\n",
    "    els = set([atom.symbol for atom in mol.atoms])\n",
    "    elements |= els\n",
    "unique_charges"
   ]
  },
  {
   "cell_type": "code",
   "execution_count": 9,
   "id": "2aa485b4-2553-4956-ae2e-f8376ef2ec79",
   "metadata": {},
   "outputs": [
    {
     "name": "stdout",
     "output_type": "stream",
     "text": [
      "Br, C, Cl, F, H, I, N, O, S\n"
     ]
    }
   ],
   "source": [
    "print(\", \".join(sorted(elements)))"
   ]
  },
  {
   "cell_type": "code",
   "execution_count": 10,
   "id": "18c3959a-3cc5-4bd9-85ca-16d3bf16d689",
   "metadata": {},
   "outputs": [
    {
     "name": "stdout",
     "output_type": "stream",
     "text": [
      "Number of conformers (min, mean, max): 2 8.04931506849315 10\n",
      "# heavy atoms\n",
      "  2: 1\n",
      "  3: 2\n",
      "  4: 6\n",
      "  5: 10\n",
      "  6: 18\n",
      "  7: 21\n",
      "  8: 25\n",
      "  9: 32\n",
      " 10: 37\n",
      " 11: 44\n",
      " 12: 53\n",
      " 13: 43\n",
      " 14: 31\n",
      " 15: 16\n",
      " 16: 8\n",
      " 17: 5\n",
      " 18: 6\n",
      " 19: 4\n",
      " 20: 2\n",
      " 21: 1\n"
     ]
    }
   ],
   "source": [
    "n_confs = np.array(n_confs)\n",
    "print(\n",
    "    \"Number of conformers (min, mean, max):\",\n",
    "    n_confs.min(), n_confs.mean(), n_confs.max()\n",
    ")\n",
    "print(\"# heavy atoms\")\n",
    "counts = Counter(n_heavy_atoms)\n",
    "for n_heavy in sorted(counts):\n",
    "    print(f\"{str(n_heavy):>3}: {counts[n_heavy]}\")"
   ]
  },
  {
   "cell_type": "code",
   "execution_count": 11,
   "id": "586f43e4-66c7-448f-813e-bf218d55876c",
   "metadata": {},
   "outputs": [
    {
     "name": "stdout",
     "output_type": "stream",
     "text": [
      "MW (min, mean, max): 30, 162, 307\n"
     ]
    }
   ],
   "source": [
    "masses = np.array(masses)\n",
    "print(f\"MW (min, mean, max): {masses.min():.0f}, {masses.mean():.0f}, {masses.max():.0f}\")"
   ]
  },
  {
   "cell_type": "code",
   "execution_count": 12,
   "id": "be1e1a28-3394-4f65-a6ed-331b121f46a0",
   "metadata": {},
   "outputs": [
    {
     "name": "stdout",
     "output_type": "stream",
     "text": [
      "{'default': QCSpec(method='B3LYP-D3BJ', basis='DZVP', program='psi4', spec_name='default', spec_description='Standard OpenFF optimization quantum chemistry specification.', store_wavefunction=<WavefunctionProtocolEnum.none: 'none'>, implicit_solvent=None, maxiter=200, scf_properties=[<SCFProperties.Dipole: 'dipole'>, <SCFProperties.Quadrupole: 'quadrupole'>, <SCFProperties.WibergLowdinIndices: 'wiberg_lowdin_indices'>, <SCFProperties.MayerIndices: 'mayer_indices'>], keywords={})}\n"
     ]
    }
   ],
   "source": [
    "dataset.export_dataset(\"dataset.json.bz2\")\n",
    "dataset.molecules_to_file('dataset.smi', 'smi')\n",
    "dataset.visualize(\"dataset.pdf\", columns=8)\n",
    "\n",
    "print(dataset.qc_specifications)"
   ]
  },
  {
   "cell_type": "code",
   "execution_count": 13,
   "id": "7be529d2-e225-44d2-b7cc-9a8466e4af0e",
   "metadata": {},
   "outputs": [
    {
     "name": "stdout",
     "output_type": "stream",
     "text": [
      "* Spec: default\n",
      "  * basis: DZVP\n",
      "  * implicit_solvent: None\n",
      "  * keywords: {}\n",
      "  * maxiter: 200\n",
      "  * method: B3LYP-D3BJ\n",
      "  * program: psi4\n",
      "  * SCF properties:\n",
      "    * dipole\n",
      "    * quadrupole\n",
      "    * wiberg_lowdin_indices\n",
      "    * mayer_indices\n"
     ]
    }
   ],
   "source": [
    "def print_field(od, field): print(f\"  * {field}: {od[field]}\")\n",
    "\n",
    "fields = [\"basis\", \"implicit_solvent\", \"keywords\", \"maxiter\", \"method\", \"program\"]\n",
    "for spec, obj in dataset.qc_specifications.items():\n",
    "    od = obj.dict()\n",
    "    print(\"* Spec:\", spec)\n",
    "    for field in fields:\n",
    "        print_field(od, field)\n",
    "    print(\"  * SCF properties:\")\n",
    "    for field in od[\"scf_properties\"]:\n",
    "        print(f\"    * {field}\")"
   ]
  },
  {
   "cell_type": "code",
   "execution_count": null,
   "id": "d2a71a9a-3bb7-442d-ad00-67b0568ff510",
   "metadata": {},
   "outputs": [],
   "source": []
  }
 ],
 "metadata": {
  "kernelspec": {
   "display_name": "Python (qcarchive-user-submit)",
   "language": "python",
   "name": "qcarchive-user-submit"
  },
  "language_info": {
   "codemirror_mode": {
    "name": "ipython",
    "version": 3
   },
   "file_extension": ".py",
   "mimetype": "text/x-python",
   "name": "python",
   "nbconvert_exporter": "python",
   "pygments_lexer": "ipython3",
   "version": "3.11.11"
  }
 },
 "nbformat": 4,
 "nbformat_minor": 5
}
