{
 "cells": [
  {
   "cell_type": "code",
   "execution_count": 1,
   "id": "d5c62adc",
   "metadata": {},
   "outputs": [],
   "source": [
    "from pprint import pprint\n",
    "\n",
    "import numpy as np\n",
    "from openeye import oechem\n",
    "from openff.qcsubmit.common_structures import QCSpec\n",
    "from openff.qcsubmit.factories import BasicDatasetFactory\n",
    "from openff.toolkit.topology import Molecule"
   ]
  },
  {
   "cell_type": "code",
   "execution_count": 2,
   "id": "ea9dcb6a",
   "metadata": {},
   "outputs": [
    {
     "data": {
      "text/plain": [
       "{'qc_specifications': {'default': {'method': 'B3LYP-D3BJ',\n",
       "   'basis': 'DZVP',\n",
       "   'program': 'psi4',\n",
       "   'spec_name': 'default',\n",
       "   'spec_description': 'Standard OpenFF optimization quantum chemistry specification.',\n",
       "   'store_wavefunction': 'none',\n",
       "   'implicit_solvent': None,\n",
       "   'maxiter': 200,\n",
       "   'scf_properties': ['dipole',\n",
       "    'quadrupole',\n",
       "    'wiberg_lowdin_indices',\n",
       "    'mayer_indices'],\n",
       "   'keywords': None}},\n",
       " 'driver': 'energy',\n",
       " 'priority': 'normal',\n",
       " 'dataset_tags': ['openff'],\n",
       " 'compute_tag': 'openff',\n",
       " 'type': 'BasicDatasetFactory',\n",
       " 'workflow': []}"
      ]
     },
     "execution_count": 2,
     "metadata": {},
     "output_type": "execute_result"
    }
   ],
   "source": [
    "factory = BasicDatasetFactory()\n",
    "factory.dict()"
   ]
  },
  {
   "cell_type": "code",
   "execution_count": 4,
   "id": "c8da0524",
   "metadata": {
    "scrolled": true
   },
   "outputs": [
    {
     "name": "stderr",
     "output_type": "stream",
     "text": [
      "Deduplication                 : 100%|█████████| 677/677 [00:12<00:00, 54.93it/s]\n",
      "Preparation                   :   0%|           | 1/677 [00:00<02:19,  4.84it/s]/Users/joshua/Documents/Software/openff-qcsubmit/openff/qcsubmit/validators.py:255: UserWarning: The molecule C12H25N6O3 has a net charge of 1.0.\n",
      "  warnings.warn(\n",
      "Preparation                   :   1%|           | 4/677 [00:00<02:33,  4.38it/s]/Users/joshua/Documents/Software/openff-qcsubmit/openff/qcsubmit/validators.py:255: UserWarning: The molecule C10H16N3O5 has a net charge of -1.0.\n",
      "  warnings.warn(\n",
      "Preparation                   :   1%|           | 6/677 [00:01<02:23,  4.69it/s]/Users/joshua/Documents/Software/openff-qcsubmit/openff/qcsubmit/validators.py:255: UserWarning: The molecule C9H16N3O3S has a net charge of -1.0.\n",
      "  warnings.warn(\n",
      "Preparation                   :   1%|▏          | 9/677 [00:01<02:27,  4.52it/s]/Users/joshua/Documents/Software/openff-qcsubmit/openff/qcsubmit/validators.py:255: UserWarning: The molecule C11H18N3O5 has a net charge of -1.0.\n",
      "  warnings.warn(\n",
      "Preparation                   :   2%|▏         | 13/677 [00:02<02:28,  4.48it/s]/Users/joshua/Documents/Software/openff-qcsubmit/openff/qcsubmit/validators.py:255: UserWarning: The molecule C12H20N5O3 has a net charge of 1.0.\n",
      "  warnings.warn(\n",
      "Preparation                   :   3%|▎         | 17/677 [00:03<02:41,  4.10it/s]/Users/joshua/Documents/Software/openff-qcsubmit/openff/qcsubmit/validators.py:255: UserWarning: The molecule C12H25N4O3 has a net charge of 1.0.\n",
      "  warnings.warn(\n",
      "Preparation                   :   4%|▍         | 27/677 [00:06<02:41,  4.02it/s]/Users/joshua/Documents/Software/openff-qcsubmit/openff/qcsubmit/validators.py:255: UserWarning: The molecule C15H33N9O3 has a net charge of 2.0.\n",
      "  warnings.warn(\n",
      "Preparation                   :   4%|▍         | 28/677 [00:06<02:59,  3.61it/s]/Users/joshua/Documents/Software/openff-qcsubmit/openff/qcsubmit/validators.py:255: UserWarning: The molecule C13H25N6O5 has a net charge of 1.0.\n",
      "  warnings.warn(\n",
      "Preparation                   :   4%|▍         | 29/677 [00:06<03:00,  3.58it/s]/Users/joshua/Documents/Software/openff-qcsubmit/openff/qcsubmit/validators.py:255: UserWarning: The molecule C13H26N7O4 has a net charge of 1.0.\n",
      "  warnings.warn(\n",
      "Preparation                   :   5%|▍         | 31/677 [00:07<03:00,  3.57it/s]/Users/joshua/Documents/Software/openff-qcsubmit/openff/qcsubmit/validators.py:255: UserWarning: The molecule C12H25N6O3S has a net charge of 1.0.\n",
      "  warnings.warn(\n",
      "Preparation                   :   5%|▍         | 33/677 [00:07<02:57,  3.63it/s]/Users/joshua/Documents/Software/openff-qcsubmit/openff/qcsubmit/validators.py:255: UserWarning: The molecule C14H27N6O5 has a net charge of 1.0.\n",
      "  warnings.warn(\n",
      "Preparation                   :   5%|▌         | 34/677 [00:08<03:01,  3.54it/s]/Users/joshua/Documents/Software/openff-qcsubmit/openff/qcsubmit/validators.py:255: UserWarning: The molecule C14H28N7O4 has a net charge of 1.0.\n",
      "  warnings.warn(\n",
      "Preparation                   :   5%|▌         | 36/677 [00:08<03:06,  3.44it/s]/Users/joshua/Documents/Software/openff-qcsubmit/openff/qcsubmit/validators.py:255: UserWarning: The molecule C11H23N6O3 has a net charge of 1.0.\n",
      "  warnings.warn(\n",
      "Preparation                   :   5%|▌         | 37/677 [00:09<03:00,  3.55it/s]/Users/joshua/Documents/Software/openff-qcsubmit/openff/qcsubmit/validators.py:255: UserWarning: The molecule C15H27N8O3 has a net charge of 1.0.\n",
      "  warnings.warn(\n",
      "Preparation                   :   6%|▌         | 39/677 [00:09<03:09,  3.37it/s]/Users/joshua/Documents/Software/openff-qcsubmit/openff/qcsubmit/validators.py:255: UserWarning: The molecule C15H28N8O3 has a net charge of 2.0.\n",
      "  warnings.warn(\n",
      "Preparation                   :   6%|▌         | 40/677 [00:10<03:13,  3.30it/s]/Users/joshua/Documents/Software/openff-qcsubmit/openff/qcsubmit/validators.py:255: UserWarning: The molecule C15H31N6O3 has a net charge of 1.0.\n",
      "  warnings.warn(\n",
      "Preparation                   :   6%|▌         | 42/677 [00:10<03:17,  3.22it/s]/Users/joshua/Documents/Software/openff-qcsubmit/openff/qcsubmit/validators.py:255: UserWarning: The molecule C15H32N7O3 has a net charge of 1.0.\n",
      "  warnings.warn(\n",
      "Preparation                   :   6%|▋         | 43/677 [00:11<03:21,  3.15it/s]/Users/joshua/Documents/Software/openff-qcsubmit/openff/qcsubmit/validators.py:255: UserWarning: The molecule C15H33N7O3 has a net charge of 2.0.\n",
      "  warnings.warn(\n",
      "Preparation                   :   6%|▋         | 44/677 [00:11<03:23,  3.11it/s]/Users/joshua/Documents/Software/openff-qcsubmit/openff/qcsubmit/validators.py:255: UserWarning: The molecule C14H29N6O3S has a net charge of 1.0.\n",
      "  warnings.warn(\n",
      "Preparation                   :   7%|▋         | 45/677 [00:11<03:20,  3.16it/s]/Users/joshua/Documents/Software/openff-qcsubmit/openff/qcsubmit/validators.py:255: UserWarning: The molecule C18H29N6O3 has a net charge of 1.0.\n",
      "  warnings.warn(\n",
      "Preparation                   :   7%|▋         | 46/677 [00:12<03:21,  3.13it/s]/Users/joshua/Documents/Software/openff-qcsubmit/openff/qcsubmit/validators.py:255: UserWarning: The molecule C14H27N6O3 has a net charge of 1.0.\n",
      "  warnings.warn(\n",
      "Preparation                   :   7%|▋         | 47/677 [00:12<03:17,  3.19it/s]/Users/joshua/Documents/Software/openff-qcsubmit/openff/qcsubmit/validators.py:255: UserWarning: The molecule C12H25N6O4 has a net charge of 1.0.\n",
      "  warnings.warn(\n",
      "Preparation                   :   7%|▋         | 48/677 [00:12<03:08,  3.33it/s]/Users/joshua/Documents/Software/openff-qcsubmit/openff/qcsubmit/validators.py:255: UserWarning: The molecule C13H27N6O4 has a net charge of 1.0.\n",
      "  warnings.warn(\n",
      "Preparation                   :   7%|▋         | 49/677 [00:12<03:07,  3.34it/s]/Users/joshua/Documents/Software/openff-qcsubmit/openff/qcsubmit/validators.py:255: UserWarning: The molecule C20H30N7O3 has a net charge of 1.0.\n",
      "  warnings.warn(\n",
      "Preparation                   :   7%|▋         | 50/677 [00:13<03:19,  3.14it/s]/Users/joshua/Documents/Software/openff-qcsubmit/openff/qcsubmit/validators.py:255: UserWarning: The molecule C18H29N6O4 has a net charge of 1.0.\n",
      "  warnings.warn(\n",
      "Preparation                   :   8%|▊         | 51/677 [00:13<03:21,  3.11it/s]/Users/joshua/Documents/Software/openff-qcsubmit/openff/qcsubmit/validators.py:255: UserWarning: The molecule C14H29N6O3 has a net charge of 1.0.\n",
      "  warnings.warn(\n",
      "Preparation                   :   8%|▊         | 56/677 [00:14<02:40,  3.88it/s]/Users/joshua/Documents/Software/openff-qcsubmit/openff/qcsubmit/validators.py:255: UserWarning: The molecule C11H16N3O7 has a net charge of -1.0.\n",
      "  warnings.warn(\n",
      "Preparation                   :   9%|▊         | 58/677 [00:15<02:32,  4.06it/s]/Users/joshua/Documents/Software/openff-qcsubmit/openff/qcsubmit/validators.py:255: UserWarning: The molecule C10H16N3O5S has a net charge of -1.0.\n",
      "  warnings.warn(\n",
      "Preparation                   :   9%|▉         | 61/677 [00:16<02:30,  4.09it/s]/Users/joshua/Documents/Software/openff-qcsubmit/openff/qcsubmit/validators.py:255: UserWarning: The molecule C12H18N3O7 has a net charge of -1.0.\n",
      "  warnings.warn(\n",
      "Preparation                   :  10%|▉         | 65/677 [00:16<02:28,  4.13it/s]/Users/joshua/Documents/Software/openff-qcsubmit/openff/qcsubmit/validators.py:255: UserWarning: The molecule C13H20N5O5 has a net charge of 1.0.\n",
      "  warnings.warn(\n",
      "Preparation                   :  10%|█         | 69/677 [00:18<02:38,  3.84it/s]/Users/joshua/Documents/Software/openff-qcsubmit/openff/qcsubmit/validators.py:255: UserWarning: The molecule C13H25N4O5 has a net charge of 1.0.\n",
      "  warnings.warn(\n",
      "Preparation                   :  12%|█▏        | 82/677 [00:21<02:27,  4.02it/s]/Users/joshua/Documents/Software/openff-qcsubmit/openff/qcsubmit/validators.py:255: UserWarning: The molecule C11H17N4O6 has a net charge of -1.0.\n",
      "  warnings.warn(\n",
      "Preparation                   :  12%|█▏        | 84/677 [00:21<02:20,  4.22it/s]/Users/joshua/Documents/Software/openff-qcsubmit/openff/qcsubmit/validators.py:255: UserWarning: The molecule C10H17N4O4S has a net charge of -1.0.\n",
      "  warnings.warn(\n",
      "Preparation                   :  13%|█▎        | 87/677 [00:22<02:23,  4.11it/s]/Users/joshua/Documents/Software/openff-qcsubmit/openff/qcsubmit/validators.py:255: UserWarning: The molecule C12H19N4O6 has a net charge of -1.0.\n",
      "  warnings.warn(\n"
     ]
    },
    {
     "name": "stderr",
     "output_type": "stream",
     "text": [
      "Preparation                   :  13%|█▎        | 91/677 [00:23<02:23,  4.09it/s]/Users/joshua/Documents/Software/openff-qcsubmit/openff/qcsubmit/validators.py:255: UserWarning: The molecule C13H21N6O4 has a net charge of 1.0.\n",
      "  warnings.warn(\n",
      "Preparation                   :  14%|█▍        | 95/677 [00:24<02:34,  3.77it/s]/Users/joshua/Documents/Software/openff-qcsubmit/openff/qcsubmit/validators.py:255: UserWarning: The molecule C13H26N5O4 has a net charge of 1.0.\n",
      "  warnings.warn(\n",
      "Preparation                   :  16%|█▍       | 108/677 [00:27<02:18,  4.10it/s]/Users/joshua/Documents/Software/openff-qcsubmit/openff/qcsubmit/validators.py:255: UserWarning: The molecule C11H15N3O7 has a net charge of -2.0.\n",
      "  warnings.warn(\n",
      "Preparation                   :  16%|█▍       | 110/677 [00:28<02:10,  4.33it/s]/Users/joshua/Documents/Software/openff-qcsubmit/openff/qcsubmit/validators.py:255: UserWarning: The molecule C10H15N3O5S has a net charge of -2.0.\n",
      "  warnings.warn(\n",
      "Preparation                   :  17%|█▌       | 113/677 [00:28<02:11,  4.28it/s]/Users/joshua/Documents/Software/openff-qcsubmit/openff/qcsubmit/validators.py:255: UserWarning: The molecule C12H17N3O7 has a net charge of -2.0.\n",
      "  warnings.warn(\n",
      "Preparation                   :  17%|█▌       | 114/677 [00:29<02:12,  4.26it/s]/Users/joshua/Documents/Software/openff-qcsubmit/openff/qcsubmit/validators.py:255: UserWarning: The molecule C9H14N3O5 has a net charge of -1.0.\n",
      "  warnings.warn(\n",
      "Preparation                   :  17%|█▌       | 115/677 [00:29<02:05,  4.48it/s]/Users/joshua/Documents/Software/openff-qcsubmit/openff/qcsubmit/validators.py:255: UserWarning: The molecule C13H18N5O5 has a net charge of -1.0.\n",
      "  warnings.warn(\n",
      "Preparation                   :  17%|█▌       | 118/677 [00:30<02:13,  4.17it/s]/Users/joshua/Documents/Software/openff-qcsubmit/openff/qcsubmit/validators.py:255: UserWarning: The molecule C13H22N3O5 has a net charge of -1.0.\n",
      "  warnings.warn(\n",
      "Preparation                   :  18%|█▌       | 120/677 [00:30<02:17,  4.04it/s]/Users/joshua/Documents/Software/openff-qcsubmit/openff/qcsubmit/validators.py:255: UserWarning: The molecule C13H23N4O5 has a net charge of -1.0.\n",
      "  warnings.warn(\n",
      "Preparation                   :  18%|█▌       | 122/677 [00:31<02:23,  3.86it/s]/Users/joshua/Documents/Software/openff-qcsubmit/openff/qcsubmit/validators.py:255: UserWarning: The molecule C12H20N3O5S has a net charge of -1.0.\n",
      "  warnings.warn(\n",
      "Preparation                   :  18%|█▋       | 123/677 [00:31<02:21,  3.92it/s]/Users/joshua/Documents/Software/openff-qcsubmit/openff/qcsubmit/validators.py:255: UserWarning: The molecule C16H20N3O5 has a net charge of -1.0.\n",
      "  warnings.warn(\n",
      "Preparation                   :  18%|█▋       | 124/677 [00:31<02:22,  3.88it/s]/Users/joshua/Documents/Software/openff-qcsubmit/openff/qcsubmit/validators.py:255: UserWarning: The molecule C12H18N3O5 has a net charge of -1.0.\n",
      "  warnings.warn(\n",
      "Preparation                   :  18%|█▋       | 125/677 [00:31<02:17,  4.00it/s]/Users/joshua/Documents/Software/openff-qcsubmit/openff/qcsubmit/validators.py:255: UserWarning: The molecule C10H16N3O6 has a net charge of -1.0.\n",
      "  warnings.warn(\n",
      "Preparation                   :  19%|█▋       | 126/677 [00:32<02:10,  4.21it/s]/Users/joshua/Documents/Software/openff-qcsubmit/openff/qcsubmit/validators.py:255: UserWarning: The molecule C11H18N3O6 has a net charge of -1.0.\n",
      "  warnings.warn(\n",
      "Preparation                   :  19%|█▋       | 127/677 [00:32<02:08,  4.27it/s]/Users/joshua/Documents/Software/openff-qcsubmit/openff/qcsubmit/validators.py:255: UserWarning: The molecule C18H21N4O5 has a net charge of -1.0.\n",
      "  warnings.warn(\n",
      "Preparation                   :  19%|█▋       | 128/677 [00:32<02:18,  3.96it/s]/Users/joshua/Documents/Software/openff-qcsubmit/openff/qcsubmit/validators.py:255: UserWarning: The molecule C16H20N3O6 has a net charge of -1.0.\n",
      "  warnings.warn(\n",
      "Preparation                   :  19%|█▋       | 129/677 [00:32<02:20,  3.89it/s]/Users/joshua/Documents/Software/openff-qcsubmit/openff/qcsubmit/validators.py:255: UserWarning: The molecule C12H20N3O5 has a net charge of -1.0.\n",
      "  warnings.warn(\n",
      "Preparation                   :  20%|█▊       | 136/677 [00:34<02:01,  4.46it/s]/Users/joshua/Documents/Software/openff-qcsubmit/openff/qcsubmit/validators.py:255: UserWarning: The molecule C9H16N3O3S2 has a net charge of -1.0.\n",
      "  warnings.warn(\n",
      "Preparation                   :  21%|█▊       | 139/677 [00:35<02:03,  4.36it/s]/Users/joshua/Documents/Software/openff-qcsubmit/openff/qcsubmit/validators.py:255: UserWarning: The molecule C11H18N3O5S has a net charge of -1.0.\n",
      "  warnings.warn(\n",
      "Preparation                   :  21%|█▉       | 143/677 [00:36<02:03,  4.32it/s]/Users/joshua/Documents/Software/openff-qcsubmit/openff/qcsubmit/validators.py:255: UserWarning: The molecule C12H20N5O3S has a net charge of 1.0.\n",
      "  warnings.warn(\n",
      "Preparation                   :  22%|█▉       | 147/677 [00:37<02:12,  3.99it/s]/Users/joshua/Documents/Software/openff-qcsubmit/openff/qcsubmit/validators.py:255: UserWarning: The molecule C12H25N4O3S has a net charge of 1.0.\n",
      "  warnings.warn(\n",
      "Preparation                   :  24%|██▏      | 162/677 [00:40<01:55,  4.47it/s]/Users/joshua/Documents/Software/openff-qcsubmit/openff/qcsubmit/validators.py:255: UserWarning: The molecule C9H15N3O3S2 has a net charge of -2.0.\n",
      "  warnings.warn(\n",
      "Preparation                   :  24%|██▏      | 164/677 [00:41<01:53,  4.53it/s]/Users/joshua/Documents/Software/openff-qcsubmit/openff/qcsubmit/validators.py:255: UserWarning: The molecule C11H19N4O4S has a net charge of -1.0.\n",
      "  warnings.warn(\n",
      "Preparation                   :  24%|██▏      | 165/677 [00:41<01:55,  4.45it/s]/Users/joshua/Documents/Software/openff-qcsubmit/openff/qcsubmit/validators.py:255: UserWarning: The molecule C11H17N3O5S has a net charge of -2.0.\n",
      "  warnings.warn(\n",
      "Preparation                   :  25%|██▏      | 166/677 [00:41<01:55,  4.44it/s]/Users/joshua/Documents/Software/openff-qcsubmit/openff/qcsubmit/validators.py:255: UserWarning: The molecule C8H14N3O3S has a net charge of -1.0.\n",
      "  warnings.warn(\n",
      "Preparation                   :  25%|██▏      | 167/677 [00:41<01:48,  4.68it/s]/Users/joshua/Documents/Software/openff-qcsubmit/openff/qcsubmit/validators.py:255: UserWarning: The molecule C12H18N5O3S has a net charge of -1.0.\n",
      "  warnings.warn(\n",
      "Preparation                   :  25%|██▎      | 170/677 [00:42<01:57,  4.32it/s]/Users/joshua/Documents/Software/openff-qcsubmit/openff/qcsubmit/validators.py:255: UserWarning: The molecule C12H22N3O3S has a net charge of -1.0.\n",
      "  warnings.warn(\n",
      "Preparation                   :  25%|██▎      | 172/677 [00:42<01:59,  4.22it/s]/Users/joshua/Documents/Software/openff-qcsubmit/openff/qcsubmit/validators.py:255: UserWarning: The molecule C12H23N4O3S has a net charge of -1.0.\n",
      "  warnings.warn(\n",
      "Preparation                   :  26%|██▎      | 174/677 [00:43<02:06,  3.99it/s]/Users/joshua/Documents/Software/openff-qcsubmit/openff/qcsubmit/validators.py:255: UserWarning: The molecule C11H20N3O3S2 has a net charge of -1.0.\n",
      "  warnings.warn(\n",
      "Preparation                   :  26%|██▎      | 175/677 [00:43<02:03,  4.07it/s]/Users/joshua/Documents/Software/openff-qcsubmit/openff/qcsubmit/validators.py:255: UserWarning: The molecule C15H20N3O3S has a net charge of -1.0.\n",
      "  warnings.warn(\n",
      "Preparation                   :  26%|██▎      | 176/677 [00:44<02:04,  4.04it/s]/Users/joshua/Documents/Software/openff-qcsubmit/openff/qcsubmit/validators.py:255: UserWarning: The molecule C11H18N3O3S has a net charge of -1.0.\n",
      "  warnings.warn(\n",
      "Preparation                   :  26%|██▎      | 177/677 [00:44<01:59,  4.19it/s]/Users/joshua/Documents/Software/openff-qcsubmit/openff/qcsubmit/validators.py:255: UserWarning: The molecule C9H16N3O4S has a net charge of -1.0.\n",
      "  warnings.warn(\n",
      "Preparation                   :  26%|██▎      | 178/677 [00:44<01:54,  4.35it/s]/Users/joshua/Documents/Software/openff-qcsubmit/openff/qcsubmit/validators.py:255: UserWarning: The molecule C10H18N3O4S has a net charge of -1.0.\n",
      "  warnings.warn(\n",
      "Preparation                   :  26%|██▍      | 179/677 [00:44<01:52,  4.42it/s]/Users/joshua/Documents/Software/openff-qcsubmit/openff/qcsubmit/validators.py:255: UserWarning: The molecule C17H21N4O3S has a net charge of -1.0.\n",
      "  warnings.warn(\n"
     ]
    },
    {
     "name": "stderr",
     "output_type": "stream",
     "text": [
      "Preparation                   :  27%|██▍      | 180/677 [00:44<01:59,  4.18it/s]/Users/joshua/Documents/Software/openff-qcsubmit/openff/qcsubmit/validators.py:255: UserWarning: The molecule C15H20N3O4S has a net charge of -1.0.\n",
      "  warnings.warn(\n",
      "Preparation                   :  27%|██▍      | 181/677 [00:45<02:01,  4.07it/s]/Users/joshua/Documents/Software/openff-qcsubmit/openff/qcsubmit/validators.py:255: UserWarning: The molecule C11H20N3O3S has a net charge of -1.0.\n",
      "  warnings.warn(\n",
      "Preparation                   :  28%|██▌      | 192/677 [00:47<02:03,  3.91it/s]/Users/joshua/Documents/Software/openff-qcsubmit/openff/qcsubmit/validators.py:255: UserWarning: The molecule C13H20N3O7 has a net charge of -1.0.\n",
      "  warnings.warn(\n",
      "Preparation                   :  29%|██▌      | 196/677 [00:48<02:03,  3.90it/s]/Users/joshua/Documents/Software/openff-qcsubmit/openff/qcsubmit/validators.py:255: UserWarning: The molecule C14H22N5O5 has a net charge of 1.0.\n",
      "  warnings.warn(\n",
      "Preparation                   :  30%|██▋      | 200/677 [00:50<02:12,  3.60it/s]/Users/joshua/Documents/Software/openff-qcsubmit/openff/qcsubmit/validators.py:255: UserWarning: The molecule C14H27N4O5 has a net charge of 1.0.\n",
      "  warnings.warn(\n",
      "Preparation                   :  32%|██▉      | 218/677 [00:54<01:58,  3.87it/s]/Users/joshua/Documents/Software/openff-qcsubmit/openff/qcsubmit/validators.py:255: UserWarning: The molecule C13H21N4O6 has a net charge of -1.0.\n",
      "  warnings.warn(\n",
      "Preparation                   :  33%|██▉      | 222/677 [00:55<01:58,  3.84it/s]/Users/joshua/Documents/Software/openff-qcsubmit/openff/qcsubmit/validators.py:255: UserWarning: The molecule C14H23N6O4 has a net charge of 1.0.\n",
      "  warnings.warn(\n",
      "Preparation                   :  33%|███      | 226/677 [00:57<02:06,  3.58it/s]/Users/joshua/Documents/Software/openff-qcsubmit/openff/qcsubmit/validators.py:255: UserWarning: The molecule C14H28N5O4 has a net charge of 1.0.\n",
      "  warnings.warn(\n",
      "Preparation                   :  36%|███▏     | 244/677 [01:01<01:47,  4.04it/s]/Users/joshua/Documents/Software/openff-qcsubmit/openff/qcsubmit/validators.py:255: UserWarning: The molecule C13H19N3O7 has a net charge of -2.0.\n",
      "  warnings.warn(\n",
      "Preparation                   :  36%|███▎     | 246/677 [01:02<01:41,  4.23it/s]/Users/joshua/Documents/Software/openff-qcsubmit/openff/qcsubmit/validators.py:255: UserWarning: The molecule C14H20N5O5 has a net charge of -1.0.\n",
      "  warnings.warn(\n",
      "Preparation                   :  37%|███▎     | 249/677 [01:02<01:49,  3.91it/s]/Users/joshua/Documents/Software/openff-qcsubmit/openff/qcsubmit/validators.py:255: UserWarning: The molecule C14H24N3O5 has a net charge of -1.0.\n",
      "  warnings.warn(\n",
      "Preparation                   :  37%|███▎     | 251/677 [01:03<01:52,  3.80it/s]/Users/joshua/Documents/Software/openff-qcsubmit/openff/qcsubmit/validators.py:255: UserWarning: The molecule C14H25N4O5 has a net charge of -1.0.\n",
      "  warnings.warn(\n",
      "Preparation                   :  37%|███▎     | 253/677 [01:04<01:56,  3.65it/s]/Users/joshua/Documents/Software/openff-qcsubmit/openff/qcsubmit/validators.py:255: UserWarning: The molecule C13H22N3O5S has a net charge of -1.0.\n",
      "  warnings.warn(\n",
      "Preparation                   :  38%|███▍     | 254/677 [01:04<01:53,  3.72it/s]/Users/joshua/Documents/Software/openff-qcsubmit/openff/qcsubmit/validators.py:255: UserWarning: The molecule C17H22N3O5 has a net charge of -1.0.\n",
      "  warnings.warn(\n",
      "Preparation                   :  38%|███▍     | 255/677 [01:04<01:55,  3.67it/s]/Users/joshua/Documents/Software/openff-qcsubmit/openff/qcsubmit/validators.py:255: UserWarning: The molecule C13H20N3O5 has a net charge of -1.0.\n",
      "  warnings.warn(\n",
      "Preparation                   :  38%|███▍     | 257/677 [01:05<01:46,  3.93it/s]/Users/joshua/Documents/Software/openff-qcsubmit/openff/qcsubmit/validators.py:255: UserWarning: The molecule C12H20N3O6 has a net charge of -1.0.\n",
      "  warnings.warn(\n",
      "Preparation                   :  38%|███▍     | 258/677 [01:05<02:04,  3.37it/s]/Users/joshua/Documents/Software/openff-qcsubmit/openff/qcsubmit/validators.py:255: UserWarning: The molecule C19H23N4O5 has a net charge of -1.0.\n",
      "  warnings.warn(\n",
      "Preparation                   :  38%|███▍     | 259/677 [01:05<02:04,  3.36it/s]/Users/joshua/Documents/Software/openff-qcsubmit/openff/qcsubmit/validators.py:255: UserWarning: The molecule C17H22N3O6 has a net charge of -1.0.\n",
      "  warnings.warn(\n",
      "Preparation                   :  40%|███▋     | 274/677 [01:08<01:24,  4.79it/s]/Users/joshua/Documents/Software/openff-qcsubmit/openff/qcsubmit/validators.py:255: UserWarning: The molecule C11H18N5O3 has a net charge of 1.0.\n",
      "  warnings.warn(\n",
      "Preparation                   :  41%|███▋     | 278/677 [01:09<01:30,  4.39it/s]/Users/joshua/Documents/Software/openff-qcsubmit/openff/qcsubmit/validators.py:255: UserWarning: The molecule C11H23N4O3 has a net charge of 1.0.\n",
      "  warnings.warn(\n",
      "Preparation                   :  44%|███▉     | 300/677 [01:15<01:37,  3.85it/s]/Users/joshua/Documents/Software/openff-qcsubmit/openff/qcsubmit/validators.py:255: UserWarning: The molecule C15H22N7O3 has a net charge of 1.0.\n",
      "  warnings.warn(\n",
      "Preparation                   :  45%|████     | 304/677 [01:16<01:43,  3.59it/s]/Users/joshua/Documents/Software/openff-qcsubmit/openff/qcsubmit/validators.py:255: UserWarning: The molecule C15H27N6O3 has a net charge of 1.0.\n",
      "  warnings.warn(\n",
      "Preparation                   :  52%|████▋    | 352/677 [01:29<01:26,  3.75it/s]/Users/joshua/Documents/Software/openff-qcsubmit/openff/qcsubmit/validators.py:255: UserWarning: The molecule C15H23N7O3 has a net charge of 2.0.\n",
      "  warnings.warn(\n",
      "Preparation                   :  52%|████▋    | 353/677 [01:29<01:27,  3.68it/s]/Users/joshua/Documents/Software/openff-qcsubmit/openff/qcsubmit/validators.py:255: UserWarning: The molecule C15H26N5O3 has a net charge of 1.0.\n",
      "  warnings.warn(\n",
      "Preparation                   :  53%|████▋    | 356/677 [01:30<01:31,  3.49it/s]/Users/joshua/Documents/Software/openff-qcsubmit/openff/qcsubmit/validators.py:255: UserWarning: The molecule C15H28N6O3 has a net charge of 2.0.\n",
      "  warnings.warn(\n",
      "Preparation                   :  53%|████▋    | 357/677 [01:30<01:33,  3.43it/s]/Users/joshua/Documents/Software/openff-qcsubmit/openff/qcsubmit/validators.py:255: UserWarning: The molecule C14H24N5O3S has a net charge of 1.0.\n",
      "  warnings.warn(\n",
      "Preparation                   :  53%|████▊    | 358/677 [01:30<01:32,  3.47it/s]/Users/joshua/Documents/Software/openff-qcsubmit/openff/qcsubmit/validators.py:255: UserWarning: The molecule C18H24N5O3 has a net charge of 1.0.\n",
      "  warnings.warn(\n",
      "Preparation                   :  53%|████▊    | 359/677 [01:31<01:32,  3.44it/s]/Users/joshua/Documents/Software/openff-qcsubmit/openff/qcsubmit/validators.py:255: UserWarning: The molecule C14H22N5O3 has a net charge of 1.0.\n",
      "  warnings.warn(\n",
      "Preparation                   :  53%|████▊    | 360/677 [01:31<01:29,  3.56it/s]/Users/joshua/Documents/Software/openff-qcsubmit/openff/qcsubmit/validators.py:255: UserWarning: The molecule C12H20N5O4 has a net charge of 1.0.\n",
      "  warnings.warn(\n",
      "Preparation                   :  53%|████▊    | 361/677 [01:31<01:25,  3.71it/s]/Users/joshua/Documents/Software/openff-qcsubmit/openff/qcsubmit/validators.py:255: UserWarning: The molecule C13H22N5O4 has a net charge of 1.0.\n",
      "  warnings.warn(\n",
      "Preparation                   :  53%|████▊    | 362/677 [01:32<01:24,  3.73it/s]/Users/joshua/Documents/Software/openff-qcsubmit/openff/qcsubmit/validators.py:255: UserWarning: The molecule C20H25N6O3 has a net charge of 1.0.\n",
      "  warnings.warn(\n",
      "Preparation                   :  54%|████▊    | 363/677 [01:32<01:28,  3.53it/s]/Users/joshua/Documents/Software/openff-qcsubmit/openff/qcsubmit/validators.py:255: UserWarning: The molecule C18H24N5O4 has a net charge of 1.0.\n",
      "  warnings.warn(\n",
      "Preparation                   :  54%|████▊    | 364/677 [01:32<01:29,  3.48it/s]/Users/joshua/Documents/Software/openff-qcsubmit/openff/qcsubmit/validators.py:255: UserWarning: The molecule C14H24N5O3 has a net charge of 1.0.\n",
      "  warnings.warn(\n",
      "Preparation                   :  56%|█████    | 382/677 [01:37<01:24,  3.50it/s]/Users/joshua/Documents/Software/openff-qcsubmit/openff/qcsubmit/validators.py:255: UserWarning: The molecule C15H31N4O3 has a net charge of 1.0.\n",
      "  warnings.warn(\n"
     ]
    },
    {
     "name": "stderr",
     "output_type": "stream",
     "text": [
      "Preparation                   :  64%|█████▊   | 434/677 [01:52<01:13,  3.33it/s]/Users/joshua/Documents/Software/openff-qcsubmit/openff/qcsubmit/validators.py:255: UserWarning: The molecule C15H32N5O3 has a net charge of 1.0.\n",
      "  warnings.warn(\n",
      "Preparation                   :  68%|██████   | 460/677 [01:59<01:05,  3.30it/s]/Users/joshua/Documents/Software/openff-qcsubmit/openff/qcsubmit/validators.py:255: UserWarning: The molecule C15H33N5O3 has a net charge of 2.0.\n",
      "  warnings.warn(\n",
      "Preparation                   :  68%|██████▏  | 461/677 [01:59<01:06,  3.23it/s]/Users/joshua/Documents/Software/openff-qcsubmit/openff/qcsubmit/validators.py:255: UserWarning: The molecule C14H29N4O3S has a net charge of 1.0.\n",
      "  warnings.warn(\n",
      "Preparation                   :  68%|██████▏  | 462/677 [02:00<01:05,  3.28it/s]/Users/joshua/Documents/Software/openff-qcsubmit/openff/qcsubmit/validators.py:255: UserWarning: The molecule C18H29N4O3 has a net charge of 1.0.\n",
      "  warnings.warn(\n",
      "Preparation                   :  68%|██████▏  | 463/677 [02:00<01:05,  3.25it/s]/Users/joshua/Documents/Software/openff-qcsubmit/openff/qcsubmit/validators.py:255: UserWarning: The molecule C14H27N4O3 has a net charge of 1.0.\n",
      "  warnings.warn(\n",
      "Preparation                   :  69%|██████▏  | 464/677 [02:00<01:03,  3.34it/s]/Users/joshua/Documents/Software/openff-qcsubmit/openff/qcsubmit/validators.py:255: UserWarning: The molecule C12H25N4O4 has a net charge of 1.0.\n",
      "  warnings.warn(\n",
      "Preparation                   :  69%|██████▏  | 465/677 [02:01<01:00,  3.49it/s]/Users/joshua/Documents/Software/openff-qcsubmit/openff/qcsubmit/validators.py:255: UserWarning: The molecule C13H27N4O4 has a net charge of 1.0.\n",
      "  warnings.warn(\n",
      "Preparation                   :  69%|██████▏  | 466/677 [02:01<01:00,  3.51it/s]/Users/joshua/Documents/Software/openff-qcsubmit/openff/qcsubmit/validators.py:255: UserWarning: The molecule C20H30N5O3 has a net charge of 1.0.\n",
      "  warnings.warn(\n",
      "Preparation                   :  69%|██████▏  | 467/677 [02:01<01:02,  3.34it/s]/Users/joshua/Documents/Software/openff-qcsubmit/openff/qcsubmit/validators.py:255: UserWarning: The molecule C18H29N4O4 has a net charge of 1.0.\n",
      "  warnings.warn(\n",
      "Preparation                   :  69%|██████▏  | 468/677 [02:01<01:03,  3.28it/s]/Users/joshua/Documents/Software/openff-qcsubmit/openff/qcsubmit/validators.py:255: UserWarning: The molecule C14H29N4O3 has a net charge of 1.0.\n",
      "  warnings.warn(\n",
      "Preparation                   : 100%|█████████| 677/677 [02:57<00:00,  3.81it/s]\n"
     ]
    }
   ],
   "source": [
    "# mock a dataset with dummy information for now\n",
    "dataset = factory.create_dataset(dataset_name=\"ML_Single_Point_Dataset\", molecules=\"dipeptides.hdf5\", tagline=\"XXXXXXXXX\", description=\"XXXXXXXX\")"
   ]
  },
  {
   "cell_type": "code",
   "execution_count": 5,
   "id": "f3ad84f1",
   "metadata": {},
   "outputs": [
    {
     "name": "stdout",
     "output_type": "stream",
     "text": [
      "Number of unique molecules        677\n",
      "Number of filtered molecules      0\n",
      "Number of conformers              33850\n",
      "Number of conformers min mean max 50  50.00 50\n",
      "Mean molecular weight: 313.72\n",
      "Max molecular weight: 445.51\n",
      "Charges: [-2.0, -1.0, 0.0, 1.0, 2.0]\n"
     ]
    }
   ],
   "source": [
    "confs = np.array([len(mol.conformers) for mol in dataset.molecules])\n",
    "\n",
    "print(\"Number of unique molecules       \", dataset.n_molecules)\n",
    "print(\"Number of filtered molecules     \", dataset.n_filtered)\n",
    "print(\"Number of conformers             \", dataset.n_records)\n",
    "print(\"Number of conformers min mean max\",\n",
    "      confs.min(), \"{:6.2f}\".format(confs.mean()), confs.max())\n",
    "\n",
    "masses = []\n",
    "for molecule in dataset.molecules:\n",
    "    oemol = molecule.to_openeye()\n",
    "    mass = oechem.OECalculateMolecularWeight(oemol)\n",
    "    masses.append(mass)\n",
    "\n",
    "print(f'Mean molecular weight: {np.mean(np.array(masses)):.2f}')\n",
    "print(f'Max molecular weight: {np.max(np.array(masses)):.2f}')\n",
    "print(\"Charges:\", sorted(set(m.total_charge/m.total_charge.unit for m in dataset.molecules)))"
   ]
  },
  {
   "cell_type": "code",
   "execution_count": 7,
   "id": "4af76f35",
   "metadata": {},
   "outputs": [],
   "source": [
    "dataset.visualize(\"dipeptides.pdf\")"
   ]
  },
  {
   "cell_type": "code",
   "execution_count": 8,
   "id": "0b31401e",
   "metadata": {},
   "outputs": [],
   "source": [
    "dataset.molecules_to_file(\"dipeptides.smi\", \"smi\")"
   ]
  },
  {
   "cell_type": "code",
   "execution_count": 9,
   "id": "fb5eb6b5",
   "metadata": {},
   "outputs": [
    {
     "data": {
      "text/plain": [
       "Metadata(submitter='joshua', creation_date=datetime.date(2021, 9, 20), collection_type='DataSet', dataset_name='ML_Single_Point_Dataset', short_description='XXXXXXXXX', long_description_url=None, long_description='XXXXXXXX', elements={'C', 'N', 'O', 'S', 'H'})"
      ]
     },
     "execution_count": 9,
     "metadata": {},
     "output_type": "execute_result"
    }
   ],
   "source": [
    "dataset.metadata"
   ]
  },
  {
   "cell_type": "code",
   "execution_count": 10,
   "id": "94c6c3ed",
   "metadata": {},
   "outputs": [],
   "source": [
    "dataset.export_dataset(\"dataset.json.bz2\")"
   ]
  },
  {
   "cell_type": "code",
   "execution_count": null,
   "id": "39165fd8",
   "metadata": {},
   "outputs": [],
   "source": []
  }
 ],
 "metadata": {
  "kernelspec": {
   "display_name": "Python 3 (ipykernel)",
   "language": "python",
   "name": "python3"
  },
  "language_info": {
   "codemirror_mode": {
    "name": "ipython",
    "version": 3
   },
   "file_extension": ".py",
   "mimetype": "text/x-python",
   "name": "python",
   "nbconvert_exporter": "python",
   "pygments_lexer": "ipython3",
   "version": "3.9.6"
  }
 },
 "nbformat": 4,
 "nbformat_minor": 5
}
